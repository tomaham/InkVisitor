{
 "cells": [
  {
   "cell_type": "markdown",
   "source": [
    "# Parse development book\n",
    "\n",
    "### Notebook purpose\n",
    "This notebook is development space for python parse.ts replacement and upgrade.\n",
    "It reads specified google sheets and output actants.json file, which can be imported to inkVisitor RethinkDB.py\n",
    "\n",
    "The aggreated doc for dev: https://docs.google.com/document/d/1ga6R_9TWAQlXE9XqPE_qZ2S8S8aVW2A7n8SuYpSXnoI/edit#heading=h.q9ntf0ofam2u\n",
    "The holy schema: https://app.diagrams.net/#G1bKvqEKr6JzPWryVg-vYudQy_4KvuzHS9\n",
    "\n",
    "### JSon schemas for the actants\n",
    " * are created from *.ts files through typescript-jschema commandline utility\n",
    " * the schemas are trasformed as python Classes through warlock library\n",
    "\n",
    "\n",
    "### Principles of the parsing operations\n",
    " * There are google sheet dataset, which need to be transformed to json format according to inkVisior datamodel\n",
    " * inkVisitor holds datamodel in the code, the typescript classes (see /shared/types...), or the holy schema\n",
    " * DZ created in input table parsing instructions\n",
    "   * the first 5 rows contain instructions\n",
    "   * if the keywords contain ? character, they are ignored (it is work in progress from DZ)\n",
    "\n",
    "#### Parsing instructions\n",
    " * explicit set of keywords\n",
    "   * discard\n",
    "     * ...\n",
    "   * inside\n",
    "     * the value in the column should be straitforwadly made part of the entity object, the exists update_generic method or update_fieldName mehthods for fields with custom but generally applicable logic\n",
    "   * propvalue\n",
    "     * for making so called\n",
    "          * statement or property statment (old A0093 has relation)\n",
    "     * it sits in the entity \"props\" attribute, it has IProp class\n",
    "   * special\n",
    "     * fully custom method for the parsing behavior\n",
    "     *\n",
    "\n",
    "### Parsing process\n",
    " 1. Prepare data model entities classes (from typescript inkvisitor classes -> json schema ->  python classes)\n",
    " 2. Load and wrangle all input data\n",
    " 3. Process headers of the tables for parsing instructions\n",
    " 4. Process tables row by row, column by column\n",
    " 5. Save as json file (which can be imported to the inkVisitor RethinkDB)\n"
   ],
   "metadata": {
    "collapsed": false
   }
  },
  {
   "cell_type": "markdown",
   "source": [
    "# DEV Update January 2023\n",
    "encapsulation of code\n"
   ],
   "metadata": {
    "collapsed": false
   }
  },
  {
   "cell_type": "markdown",
   "source": [
    "# DEV Updates : November\n",
    " - TODO updated model for relations (attribute order)\n",
    " - TODO synonymic relations parsed to \"cloud\""
   ],
   "metadata": {
    "collapsed": false
   }
  },
  {
   "cell_type": "markdown",
   "source": [
    "# Dev updates:  October 2\n",
    "- DONE change event-territories generation,  genre is relation.classification, not metaprop\n",
    "- TODO prepare for \"partial parsing\" and fixed guids for \"done\" tables\n",
    "- DONE updated users\n",
    "- DONE change in Manuscript parsing, For each non-empty, non-NA value: check whether the script hasn't already generated an L entity with the same label.\n",
    "IF NOT: (1) Generate a new L entity with label = value in this col., status = \"approved\", entity logical type = \"definite\", label language = value in the next col. (repository_label_language); (2) append to this L entity a RelationType.Classification leading to C2646 \"archive or library\". (3) Go to No. 4.\n",
    "IF YES, go to No. 4 and use that L.\n",
    "(4) Under the O entity representing the row (i.e. the physical manuscript), add a metaprop which will relate this O to this L entity (repository) through the relation: O - (has) - C2645 \"repository\" - L in this col.\n",
    "\n",
    "\n",
    "\n",
    "\n",
    "# Dev updates:  October\n",
    " - DONE u action a conceptu se neparsuji relations ?\n",
    " - DONE revize skriptu vzhledem k september bordelu\n",
    " - DONE events parsing\n",
    " - DONE 21.09. 2022, R table has received a new parsable column “components_id”. Its notation follows our agreed-upon notation, so it should not pose any problem, but I rather signal this new col. to you. It is for composite Rs, which need to be separated into several identities with different URIs (typically two volumes of an edition)\n",
    "  - DONE The instruction here and here for generating creation events for Territories and manuscript Objects has changed, since what was the Property C0565 class is now the RelationType Classification. Please take this change into account, tx.\n",
    " - DONE territories generation\n",
    "  - light yellow: metadata of Subterritory capturing the lowest-level document recording the Event (not of Event described by the row). Tomáš H.: (1) Please generate these lowest-level T entities following Adam’s script for parsing Robert’s Sellan coding sheet IDs into a hierarchical T structure and put them under their proper root T through legacy IDs: first element of ID = root T ID, last element = lowest-level Territory whose label follows in the next col., middle elements = folders in between root and lowest child level. E.g. here, in Guglielmites, there is root, i.e. the whole Guglielmites process of Beltramo Salvagno; then parts 1-4; and underneath them, the individual documents. When creating these lowest-level Subterritories, use this attributes: Entity type = T; T label and label_language defined in the two respective cols. which follow; status = approved. Other metadata set as metaprops in the following yellow cols. (2) Generate the middle entities holding the hierarchy, name them by the chunk ID (in this case, this will be four Ts named “1”, “2”, “3”, and “4”), and relate the lowest-level entity to them as their parents, and relate those middle entities to the root T as their parent in turn; attributes of these middle entities (folders 1-4 of the records): label = number [1,2,3,4] depending on the chunk; legacy id = T107-[chunk number], label language = Latin, status = approved. (3) Relate the lowest-level entity to the Event described by the row by the following Metaproperty: T107-1-01 - [has] - C2286 represented event - E0001 (middle-level entities will have no such relation now, only lowest-level documents).\n",
    "\n",
    "\n",
    "# Dev updates:  September\n",
    " - adding new users\n",
    "\n",
    "# Dev updates:  August\n",
    " - new instruction with proptype_2nd in column\n",
    "    - before we got the type fixed and had just instruction propvalue_2nd (used in territories for manuscript witness)\n",
    " - new instruction \"hook-inside\" for insides in newly created entities (see in gugli locations special:modern_name)\n",
    " - changes :  some properties 'id' changed to 'specificId'\n",
    "   - IProp {... 'value':{'entityId' and 'type':{'entityId'\n",
    "   - IStatement {  'data':{ 'territory' {'territoryId'\n",
    "   - ITerritory { 'data': {'parent': {'territoryId': \"\"\n",
    "- bigger TODO relations\n",
    "\n",
    "# Dev updates: April\n",
    "\n",
    "## Concepts\n",
    "  * DONE wordnet_synset_id\n",
    "    * wordnet_id bounded to resource object R0067\n",
    "\n",
    "## Texts\n",
    " * DONE special_creation_event_id\n",
    "   * instructions:\n",
    "     * Create entities in this col. as new E entities, with (1) the value here as legacy_id, (2) assign (as usual) a new \"hash\" ID from the db, (3) label of this E: see next col., (4) logical type \"definite\" (default), (5) label language \"English\", (6) status \"approved\", and (7) attach to any of those Es the metaprop \"(has) - C0565 \"class\" - C2642 \"creation\" (to instantiate the event to its event type = event class).\n",
    "   * creation_event_label in standalone field\n",
    "     * this will trigger the operation\n",
    "   * lot of proptype and propvalue with non-standard schema: new branch of interpreting\n",
    "\n",
    "## Manuscripts\n",
    " * special_repository_label\n",
    "   * i:\n",
    "     * For each non-empty, non-NA, non-NS row: (1) generate L entity with label = value in this col., status = \"approved\", entity logical type = \"definite\", label language = value in the next col. (repository_label_language); (2) append to this L entity a metaprop (has) - C0565 \"class\" - C2646 \"archive or library\", and (3) under the O entity representing the row (i.e. the physical manuscript), add a metaprop which will relate this O to this L entity (repository) through the relation: O - (has) - C2645 \"repository\" - L in this col.\n",
    "   * repository_label_language\n",
    "     * i:\n",
    "       * Use this value as label language value of the repository L entity.\n",
    " * DONE creation_event_id\n",
    "   * creation_event_label\n",
    "   * i:\n",
    "     * Create entities in this col. as new E entities, with (1) the value here as legacy_id, (2) assign (as usual) a new \"hash\" ID from the db, (3) label of this E: see next col., (4) logical type \"definite\" (default), (5) label language \"English\", (6) status \"approved\", and (7) attach to any of those Es the metaprop \"(has) - C0565 \"class\" - C2642 \"creation\" (to instantiate the event to its event type = event class).\n",
    " * reproduction_online_url\n",
    "   * instructions:\n",
    "     * If non-empty, non-NA, (1) generate an R entity with label \"Reproduction of \" + label of the MS (i.e. value in the B column, status = \"approved\", label-language = \"English\", url = the URL sitting under the hyperlink value in this cell, and (2) add metaprop to the O entity represented by this row: O - (has) - C1199 \"digital reproduction\" - the R entity here generated."
   ],
   "metadata": {
    "collapsed": false
   }
  },
  {
   "cell_type": "markdown",
   "source": [
    "\n",
    "\n"
   ],
   "metadata": {
    "collapsed": false
   }
  },
  {
   "cell_type": "markdown",
   "source": [
    "### Input variables"
   ],
   "metadata": {
    "collapsed": false
   }
  },
  {
   "cell_type": "code",
   "execution_count": 2,
   "outputs": [],
   "source": [
    "input_tables = [\"texts\", \"manuscripts\", \"resources\", \"actions\" , \"concepts\"]\n",
    "\n",
    "#                   sheet_name,  gdrive code, header_in_row, columns which need suffix based on a case name\n",
    "input_sheets = {\n",
    "    \"texts\" : (\"Texts\",\"13eVorFf7J9R8YzO7TmJRVLzIIwRJS737r7eFbH1boyE\", 5), #https://docs.google.com/spreadsheets/d/13eVorFf7J9R8YzO7TmJRVLzIIwRJS737r7eFbH1boyE/edit#gid=2056508047\n",
    "    \"manuscripts\" : (\"Manuscripts\", \"13eVorFf7J9R8YzO7TmJRVLzIIwRJS737r7eFbH1boyE\", 5),\n",
    "    \"resources\" : (\"Resources\", \"13eVorFf7J9R8YzO7TmJRVLzIIwRJS737r7eFbH1boyE\", 5),\n",
    "    \"actions\" :  (\"Statements\",\"1vzY6opQeR9hZVW6fmuZu2sgy_izF8vqGGhBQDxqT_eQ\", 5), # https://docs.google.com/spreadsheets/d/1vzY6opQeR9hZVW6fmuZu2sgy_izF8vqGGhBQDxqT_eQ/edit#gid=0\n",
    "    \"concepts\" : (\"Concepts\",\"1nSqnN6cjtdWK-y6iKZlJv4iGdhgtqkRPus8StVgExP4\", 5), # https://docs.google.com/spreadsheets/d/1nSqnN6cjtdWK-y6iKZlJv4iGdhgtqkRPus8StVgExP4/edit#gid=0,\n",
    "    \"R0006_persons\" : (\"Persons\",\"1UtgKvjr91egdgOQMP8WxsRxgGDT9FC92qBG3sKBiYvk\", 5, ['id','residence_id','social_relation1_value_id','social_relation2_value_id','social_relation3_value_id']), # GUGLIELMITES Persons, https://docs.google.com/spreadsheets/d/1UtgKvjr91egdgOQMP8WxsRxgGDT9FC92qBG3sKBiYvk/edit#gid=0,\n",
    "    \"R0007_locations\" : (\"Locations\",\"1jImuYCTu-QrZc7oCT1Vz01SLu5sxYRo4xzJzlF2J8Bs\", 5, ['id','locationrelation1_value_id','superordinate_location_id']) ,# GULIELMITES Locations, https://docs.google.com/spreadsheets/d/1jImuYCTu-QrZc7oCT1Vz01SLu5sxYRo4xzJzlF2J8Bs/edit#gid=0,\n",
    "    \"R0008_events\" : (\"Events\",\"1mLevawnoZVLQv6qINaSfiyi1NNlfJzTZevinRSSQVPo\", 5, ['id','spatial_ref_value_id','participant_id','inquisitor_id','notary_id','witness_assessor_id','accuser_id','accused_id','mentioned_id','denied_id','marked_as_incriminated_id','temporal_ref_1_value_id','temporal_ref_2_value_id']),\n",
    "    # Guglielmites EVENTS https://docs.google.com/spreadsheets/d/1mLevawnoZVLQv6qINaSfiyi1NNlfJzTZevinRSSQVPo/edit#gid=0,\n",
    "    \"R0075_persons\" : (\"Persons\",\"1Tyi4DYnHDeTs8tuz9rxN3wyq1LqLWWp_ZPgOimQoxf8\", 5, ['id','origin_or_residence_id','residence_id','relations_1_value_id','relations_2_value_id','relations_3_value_id','relations_4_value_id','relations_5_value_id','relations_6_value_id','relations_7_value_id','relations_8_value_id','relations_9_value_id','relations_10_value_id','relations_11_value_id','relations_12_value_id','relations_13_value_id','origin_id','occupation_id','office_id']), # Piedmont Castellario Persons, https://docs.google.com/spreadsheets/u/1/d/1Tyi4DYnHDeTs8tuz9rxN3wyq1LqLWWp_ZPgOimQoxf8/edit#gid=0\n",
    "    \"R0035_locations\" : (\"Locations\",\"1VwUDnAMJ8mWvL-54K-OnZmguB-rALnJjtGG2IGNBqIU\", 5, ['id','locationrelation1_value_id','locationrelation2_value_id','identificate_id','superordinate_location_id']) ,# Piedmont Castellario Locations, https://docs.google.com/spreadsheets/d/1VwUDnAMJ8mWvL-54K-OnZmguB-rALnJjtGG2IGNBqIU/edit#gid=0\n",
    "    \"R0083_events\" : (\"Events\",\"1M5uhJsbjUCxWP_avYQM0fr1Hm0GXVmYuDvqSoEuUAbs\", 5, ['id','spatial_ref_value_id','participant_id','inquisitor_id','notary_id','witness_assessor_id','accuser_id','accused_id','mentioned_id','denied_id','temporal_ref_1_value_id','temporal_ref_2_value_id']),\n",
    "    # Castellario Incriminations https://docs.google.com/spreadsheets/u/1/d/1M5uhJsbjUCxWP_avYQM0fr1Hm0GXVmYuDvqSoEuUAbs/edit#gid=0\n",
    "     \"R0105_groups\" : (\"Groups\",\"1IqislE4C0GM45Wvlg9JW2QmzqvR7LgjA5TZTkM143U4\", 5, ['id','has_member_id']) ,# Piedmont Castellario Groups, https://docs.google.com/spreadsheets/d/1IqislE4C0GM45Wvlg9JW2QmzqvR7LgjA5TZTkM143U4/edit#gid=0\n",
    "\n",
    "\n",
    "    \"R0030_persons\" : (\"Persons\",\"1W8YTiKBZZOi_682guwH7N9aEX_qINi9D3qBM8u96Fhk\", 5, ['id','residence_id', 'origin_id','social_relation1_value_id','social_relation2_value_id','social_relation3_value_id','social_relation4_value_id','social_relation5_value_id']), # Bologna Persons, https://docs.google.com/spreadsheets/d/1W8YTiKBZZOi_682guwH7N9aEX_qINi9D3qBM8u96Fhk/edit#gid=0\n",
    "    \"R0087_groups\" : (\"Groups\",\"1WuTIsyBaC7aD_o8xtS3VcZ8_lmA5T-SABKPIkHyWsPw\", 5, ['id']), # Bologna Groups, https://docs.google.com/spreadsheets/d/1WuTIsyBaC7aD_o8xtS3VcZ8_lmA5T-SABKPIkHyWsPw/edit#gid=0\n",
    "    \"R0031_locations\" : (\"Locations\",\"1AvGxtm3fSg9sl8CrjKiLaLLwTFaerSiz3wBUUjl2Il8\", 5, ['id','superordinate_location_id','province_modern_id','locationrelation1_value_id']) ,# Bologna Locations, https://docs.google.com/spreadsheets/d/1AvGxtm3fSg9sl8CrjKiLaLLwTFaerSiz3wBUUjl2Il8\n",
    "    \"R0082_events\" : (\"Events\",\"1qYTMaY-DwI2XiFTLUL9tiGC7ah9Lkm0YeKWXw6V0yog\", 5, ['id','participant_id','inquisitor_id','notary_id','witness_assessor_id','spatial_ref_value_id','accuser_id','accused_id','mentioned_id','denied_id']), # Bologna Trial Events, https://docs.google.com/spreadsheets/d/1qYTMaY-DwI2XiFTLUL9tiGC7ah9Lkm0YeKWXw6V0yog/edit#gid=0\n",
    "\n",
    "    \"R0039_persons\" : (\"Persons\",\"1jV9RBSZHSsKiMpJIrB58YdsaPxjBe3RxNLpR1ODJyWU\", 5, ['id','residence_id','origin_id','origin_or_residence_id','relation1_value_id','relation2_value_id','relation3_value_id','relation4_value_id', 'property_value_id']), # Carcassone HHH Persons, https://docs.google.com/spreadsheets/d/1jV9RBSZHSsKiMpJIrB58YdsaPxjBe3RxNLpR1ODJyWU/edit#gid=0\n",
    "\n",
    "    # NO GROUPS in Carcassonne\n",
    "\n",
    "    \"R0040_locations\" : (\"Locations\",\"1FSLbf0IE4zpchuHL1hHOsJEx0jgYGSoHU5RZzt86jLI\", 5, ['id','superordinate_location_id','locationrelation1_target_id','locationrelation2_target_id']) ,# Carcassone HHH  Locations, https://docs.google.com/spreadsheets/d/1FSLbf0IE4zpchuHL1hHOsJEx0jgYGSoHU5RZzt86jLI/edit#gid=0\n",
    "    \"R0079_events\" : (\"Events\",\"1i0XTsxvhP0vkHXoWEDTNtpuQIg-lWNY7jSOyjMZMHbw\", 5, ['id','person_before_court_id','inquisitor_id','notary_id','witness_assessor_id','spatial_ref_value_id','accuser_id','accused_id','mentioned_id','denied_id']), # Carcassone HHH  Trial Events, https://docs.google.com/spreadsheets/d/1i0XTsxvhP0vkHXoWEDTNtpuQIg-lWNY7jSOyjMZMHbw/edit#gid=0\n",
    "\n",
    "    \"R0076_persons\" : (\"Persons\",\"1yIT3kK9OdslT5FykzTjV1kDPkNVZfhIuayzqTK3hgA4\", 5, ['id','relations_1_value_id','relations_2_value_id','origin_or_residence_id','residence_id','origin_id']), # Casasco Persons, https://docs.google.com/spreadsheets/d/1yIT3kK9OdslT5FykzTjV1kDPkNVZfhIuayzqTK3hgA4/edit#gid=0\n",
    "    \"R0074_locations\" : (\"Locations\",\"1lUKyrZu9r9do9zXjzF7GUhMDgihXVYszwuOA5imuCDc\", 5, ['id','locationrelation1_value_id','locationrelation2_value_id','superordinate_location_id','identificate_id']) ,# Casasco  Locations, https://docs.google.com/spreadsheets/d/1lUKyrZu9r9do9zXjzF7GUhMDgihXVYszwuOA5imuCDc/edit#gid=0\n",
    "    \"R0104_events\" : (\"Events\",\"1XQCBAG__LXnYXmsCiDq-l6iO9cXZTyr4yXV0ISAm-sQ\", 5, ['id','participant_id','inquisitor_id','notary_id','witness_id','spatial_ref_value_id','temporal_ref_1_value_id','temporal_ref_2_value_id','accuser_id','accused_id','mentioned_id','denied_id']) # Casasco Trial Events, https://docs.google.com/spreadsheets/d/1XQCBAG__LXnYXmsCiDq-l6iO9cXZTyr4yXV0ISAm-sQ/edit#gid=0\n",
    "}\n",
    "\n",
    "\n",
    "# table of tables\n",
    "# https://docs.google.com/spreadsheets/d/13eVorFf7J9R8YzO7TmJRVLzIIwRJS737r7eFbH1boyE/edit#gid=583750775\n",
    "\n",
    "\n",
    "# resource IDs\n",
    "# R0006 Guglielmites Persons\n",
    "# R0007\tGuglielmites Locations\n",
    "# R0008\tGuglielmites Events\n",
    "\n",
    "# R0035\tPiedmont Locations Castellario\n",
    "# R0075\tPersons Castellario\n",
    "# R0083 Castellario Incriminations\n",
    "# R0105 Castellario Groups\n",
    "\n",
    "# RXXXX     Castellario Groups, https://docs.google.com/spreadsheets/d/1IqislE4C0GM45Wvlg9JW2QmzqvR7LgjA5TZTkM143U4/edit#gid=0\n",
    "\n",
    "# R0087\tBologna Groups\n",
    "# R0031\tBologna Locations\n",
    "# R0030\tBologna Persons\n",
    "# R0082\tBologna Trial Events\n",
    "# https://docs.google.com/spreadsheets/d/1WuTIsyBaC7aD_o8xtS3VcZ8_lmA5T-SABKPIkHyWsPw/edit#gid=0\n",
    "# https://docs.google.com/spreadsheets/d/1AvGxtm3fSg9sl8CrjKiLaLLwTFaerSiz3wBUUjl2Il8\n",
    "# https://docs.google.com/spreadsheets/d/1W8YTiKBZZOi_682guwH7N9aEX_qINi9D3qBM8u96Fhk/edit#gid=0\n",
    "# https://docs.google.com/spreadsheets/d/1qYTMaY-DwI2XiFTLUL9tiGC7ah9Lkm0YeKWXw6V0yog/edit#gid=0\n",
    "\n",
    "# R0040\tCarcassonne HHH Locations\n",
    "# R0039\tCarcassonne HHH Persons\n",
    "# R0079\tCarcassonne HHH Trial Events\n",
    "# https://docs.google.com/spreadsheets/d/1FSLbf0IE4zpchuHL1hHOsJEx0jgYGSoHU5RZzt86jLI/edit#gid=0\n",
    "# https://docs.google.com/spreadsheets/d/1jV9RBSZHSsKiMpJIrB58YdsaPxjBe3RxNLpR1ODJyWU/edit#gid=0\n",
    "# https://docs.google.com/spreadsheets/d/1i0XTsxvhP0vkHXoWEDTNtpuQIg-lWNY7jSOyjMZMHbw/edit#gid=0\n",
    "\n",
    "# R0074\tCasasco Locations\n",
    "# R0076\tCasasco Persons\n",
    "# R0104\tCasasco Trial Events\n",
    "# https://docs.google.com/spreadsheets/d/1lUKyrZu9r9do9zXjzF7GUhMDgihXVYszwuOA5imuCDc/edit#gid=0\n",
    "# https://docs.google.com/spreadsheets/d/1yIT3kK9OdslT5FykzTjV1kDPkNVZfhIuayzqTK3hgA4/edit#gid=0\n",
    "# https://docs.google.com/spreadsheets/d/1XQCBAG__LXnYXmsCiDq-l6iO9cXZTyr4yXV0ISAm-sQ/edit#gid=0\n",
    "\n",
    "\n",
    "table_to_entity = {\n",
    "    \"concepts\" : \"IConcept\",\n",
    "    \"resources\" : \"IResource\",\n",
    "    \"texts\" : \"ITerritory\",\n",
    "    \"manuscripts\" : \"IObject\",\n",
    "    \"actions\" :  \"IAction\",\n",
    "    \"R0006_persons\" : \"IPerson\",\n",
    "    \"R0007_locations\": \"ILocation\",\n",
    "    \"R0008_events\": \"IEvent\",\n",
    "    \"R0075_persons\" : \"IPerson\",\n",
    "    \"R0035_locations\": \"ILocation\",\n",
    "    \"R0083_events\": \"IEvent\",\n",
    "    \"R0105_groups\": \"IGroup\",\n",
    "    \"R0030_persons\" : \"IPerson\",\n",
    "    \"R0087_groups\" : \"IGroup\",\n",
    "    \"R0031_locations\": \"ILocation\",\n",
    "    \"R0082_events\": \"IEvent\",\n",
    "    \"R0039_persons\" : \"IPerson\",\n",
    "    \"R0040_locations\": \"ILocation\",\n",
    "    \"R0079_events\": \"IEvent\",\n",
    "    \"R0076_persons\" : \"IPerson\",\n",
    "    \"R0074_locations\": \"ILocation\",\n",
    "    \"R0104_events\": \"IEvent\",\n",
    "}\n",
    "\n",
    "root_sheet_url = \"https://docs.google.com/spreadsheets/d/\"\n",
    "google_api_dotenv_path = \"../env/.env.googleapi\"  # contains google api specs for sheet access with Dator"
   ],
   "metadata": {
    "collapsed": false
   }
  },
  {
   "cell_type": "markdown",
   "source": [
    "### Libraries"
   ],
   "metadata": {
    "collapsed": false
   }
  },
  {
   "cell_type": "code",
   "execution_count": 3,
   "outputs": [],
   "source": [
    "%load_ext autoreload\n",
    "%autoreload 2"
   ],
   "metadata": {
    "collapsed": false
   }
  },
  {
   "cell_type": "code",
   "execution_count": 4,
   "outputs": [],
   "source": [
    "import os, warlock, json\n",
    "from datetime import datetime\n",
    "import time\n",
    "from jsonschema import validate\n",
    "import dissinetpytools.dator as dator\n",
    "from dotenv import load_dotenv\n",
    "\n",
    "import pandas as pd\n",
    "import warnings\n",
    "warnings.simplefilter(action='ignore', category=pd.errors.PerformanceWarning)\n",
    "warnings.simplefilter(action='ignore', category=FutureWarning)\n",
    "#warnings.filterwarnings(\"ignore\")\n",
    "\n",
    "import numpy as np\n",
    "from copy import deepcopy\n",
    "from shutil import copyfile\n",
    "\n",
    "import uuid\n",
    "import dill as pickle\n",
    "from DataHolder import DataHolder\n",
    "import inkimplib\n",
    "\n",
    "\n",
    "# type hinting\n",
    "from collections.abc import Sequence, Callable\n",
    "from typing import List, Dict, Tuple\n"
   ],
   "metadata": {
    "collapsed": false
   }
  },
  {
   "cell_type": "markdown",
   "source": [
    "### Initialisation"
   ],
   "metadata": {
    "collapsed": false
   }
  },
  {
   "cell_type": "markdown",
   "source": [],
   "metadata": {
    "collapsed": false
   }
  },
  {
   "cell_type": "code",
   "execution_count": 5,
   "outputs": [
    {
     "name": "stdout",
     "output_type": "stream",
     "text": [
      "20 2023-01-19 09:27:24 : Google authentification start\n",
      "20 2023-01-19 09:27:24 : Google authentification end\n",
      "20 2023-01-19 09:27:24 : Dator initiation succesfull end\n"
     ]
    }
   ],
   "source": [
    "load_dotenv(google_api_dotenv_path) # fills os.environ['GDRIVE_API_CREDENTIALS']\n",
    "d = dator.Dator(loglevel=10, print_log_online=True, cache=True, project_name=\"inkvisitor-import\") # expects 'GDRIVE_API_CREDENTIALS' in the global system variables (os.environ)\n",
    "d.google_authenticate()\n",
    "logger = d.logger"
   ],
   "metadata": {
    "collapsed": false
   }
  },
  {
   "cell_type": "code",
   "execution_count": 285,
   "outputs": [
    {
     "name": "stderr",
     "output_type": "stream",
     "text": [
      "2023-01-21 17:53:45,681 INFO Class IActant available.\n",
      "2023-01-21 17:53:45,682 INFO Class IAction available.\n",
      "2023-01-21 17:53:45,683 INFO Class IAudit available.\n",
      "2023-01-21 17:53:45,684 INFO Class IConcept available.\n",
      "2023-01-21 17:53:45,685 INFO Class IEntity available.\n",
      "2023-01-21 17:53:45,686 INFO Class IEvent available.\n",
      "2023-01-21 17:53:45,687 INFO Class IGroup available.\n",
      "2023-01-21 17:53:45,688 INFO Class ILabel available.\n",
      "2023-01-21 17:53:45,688 INFO Class ILocation available.\n",
      "2023-01-21 17:53:45,689 INFO Class IObject available.\n",
      "2023-01-21 17:53:45,690 INFO Class IPerson available.\n",
      "2023-01-21 17:53:45,691 INFO Class IProp available.\n",
      "2023-01-21 17:53:45,692 INFO Class IReference available.\n",
      "2023-01-21 17:53:45,692 INFO Class IResource available.\n",
      "2023-01-21 17:53:45,694 INFO Class IStatement available.\n",
      "2023-01-21 17:53:45,694 INFO Class ITerritory available.\n",
      "2023-01-21 17:53:45,695 INFO Class IUser available.\n",
      "2023-01-21 17:53:45,696 INFO Class IValue available.\n",
      "2023-01-21 17:53:45,697 INFO Class Relation.IActant1Semantics available.\n",
      "2023-01-21 17:53:45,697 INFO Class Relation.IActant2Semantics available.\n",
      "2023-01-21 17:53:45,698 INFO Class Relation.IActionEventEquivalent available.\n",
      "2023-01-21 17:53:45,699 INFO Class Relation.IAntonym available.\n",
      "2023-01-21 17:53:45,699 INFO Class Relation.IClassification available.\n",
      "2023-01-21 17:53:45,700 INFO Class Relation.IHolonym available.\n",
      "2023-01-21 17:53:45,701 INFO Class Relation.IIdentification available.\n",
      "2023-01-21 17:53:45,701 INFO Class Relation.IImplication available.\n",
      "2023-01-21 17:53:45,702 INFO Class Relation.IPropertyReciprocal available.\n",
      "2023-01-21 17:53:45,702 INFO Class Relation.IRelated available.\n",
      "2023-01-21 17:53:45,703 INFO Class Relation.ISubjectActant1Reciprocal available.\n",
      "2023-01-21 17:53:45,704 INFO Class Relation.ISubjectSemantics available.\n",
      "2023-01-21 17:53:45,704 INFO Class Relation.ISuperclass available.\n",
      "2023-01-21 17:53:45,705 INFO Class Relation.ISuperordinateLocation available.\n",
      "2023-01-21 17:53:45,706 INFO Class Relation.ISynonym available.\n",
      "2023-01-21 17:53:45,707 INFO Trying to validate class IAction.\n",
      "2023-01-21 17:53:45,709 INFO Class IAction validated.\n",
      "2023-01-21 17:53:45,710 INFO Trying to validate class IConcept.\n",
      "2023-01-21 17:53:45,712 INFO Class IConcept validated.\n",
      "2023-01-21 17:53:45,712 INFO Trying to validate class IValue.\n",
      "2023-01-21 17:53:45,715 INFO Class IValue validated.\n",
      "2023-01-21 17:53:45,716 INFO Trying to validate class IProp.\n",
      "2023-01-21 17:53:45,718 INFO Class IProp validated.\n",
      "2023-01-21 17:53:45,718 INFO Trying to validate class IResource.\n",
      "2023-01-21 17:53:45,720 INFO Class IResource validated.\n",
      "2023-01-21 17:53:45,721 INFO Trying to validate class Relation.IIdentification.\n",
      "2023-01-21 17:53:45,722 INFO Class Relation.IIdentification validated.\n",
      "2023-01-21 17:53:45,723 INFO Trying to validate class Relation.IClassification.\n",
      "2023-01-21 17:53:45,724 INFO Class Relation.IClassification validated.\n",
      "2023-01-21 17:53:45,724 INFO Trying to validate class Relation.IImplication.\n",
      "2023-01-21 17:53:45,725 INFO Class Relation.IImplication validated.\n",
      "2023-01-21 17:53:45,725 INFO Trying to validate class Relation.IHolonym.\n",
      "2023-01-21 17:53:45,726 INFO Class Relation.IHolonym validated.\n",
      "2023-01-21 17:53:45,727 INFO Trying to validate class Relation.IRelated.\n",
      "2023-01-21 17:53:45,728 INFO Class Relation.IRelated validated.\n",
      "2023-01-21 17:53:45,729 INFO Trying to validate class Relation.IActionEventEquivalent.\n",
      "2023-01-21 17:53:45,730 INFO Class Relation.IActionEventEquivalent validated.\n",
      "2023-01-21 17:53:45,730 INFO Trying to validate class Relation.ISubjectActant1Reciprocal.\n",
      "2023-01-21 17:53:45,731 INFO Class Relation.ISubjectActant1Reciprocal validated.\n",
      "2023-01-21 17:53:45,732 INFO Trying to validate class Relation.IPropertyReciprocal.\n",
      "2023-01-21 17:53:45,733 INFO Class Relation.IPropertyReciprocal validated.\n",
      "2023-01-21 17:53:45,733 INFO Trying to validate class Relation.IAntonym.\n",
      "2023-01-21 17:53:45,734 INFO Class Relation.IAntonym validated.\n",
      "2023-01-21 17:53:45,735 INFO Trying to validate class Relation.ISynonym.\n",
      "2023-01-21 17:53:45,735 INFO Class Relation.ISynonym validated.\n",
      "2023-01-21 17:53:45,736 INFO Trying to validate class Relation.ISuperordinateLocation.\n",
      "2023-01-21 17:53:45,737 INFO Class Relation.ISuperordinateLocation validated.\n",
      "2023-01-21 17:53:45,738 INFO Trying to validate class Relation.ISuperclass.\n",
      "2023-01-21 17:53:45,739 INFO Class Relation.ISuperclass validated.\n",
      "2023-01-21 17:53:45,739 INFO Trying to validate class Relation.ISubjectSemantics.\n",
      "2023-01-21 17:53:45,742 INFO Class Relation.ISubjectSemantics validated.\n",
      "2023-01-21 17:53:45,743 INFO Trying to validate class Relation.IActant1Semantics.\n",
      "2023-01-21 17:53:45,744 INFO Class Relation.IActant1Semantics validated.\n",
      "2023-01-21 17:53:45,744 INFO Trying to validate class Relation.IActant2Semantics.\n",
      "2023-01-21 17:53:45,745 INFO Class Relation.IActant2Semantics validated.\n",
      "2023-01-21 17:53:45,746 INFO Trying to validate class IObject.\n",
      "2023-01-21 17:53:45,748 INFO Class IObject validated.\n",
      "2023-01-21 17:53:45,749 INFO Trying to validate class IStatement.\n",
      "2023-01-21 17:53:45,752 INFO Class IStatement validated.\n",
      "2023-01-21 17:53:45,753 INFO Trying to validate class ITerritory.\n",
      "2023-01-21 17:53:45,755 INFO Class ITerritory validated.\n",
      "2023-01-21 17:53:45,756 INFO Trying to validate class ILocation.\n",
      "2023-01-21 17:53:45,758 INFO Class ILocation validated.\n",
      "2023-01-21 17:53:45,758 INFO Trying to validate class IEvent.\n",
      "2023-01-21 17:53:45,761 INFO Class IEvent validated.\n",
      "2023-01-21 17:53:45,761 INFO Trying to validate class IReference.\n",
      "2023-01-21 17:53:45,763 INFO Class IReference validated.\n",
      "2023-01-21 17:53:45,763 INFO Trying to validate class IAudit.\n",
      "2023-01-21 17:53:45,764 INFO Class IAudit validated.\n",
      "2023-01-21 17:53:45,764 INFO Trying to validate class IPerson.\n",
      "2023-01-21 17:53:45,767 INFO Class IPerson validated.\n",
      "2023-01-21 17:53:45,767 INFO Trying to validate class IGroup.\n",
      "2023-01-21 17:53:45,769 INFO Class IGroup validated.\n"
     ]
    }
   ],
   "source": [
    "# factory for making entity objects, contains defaults with \"prerequisities\"\n",
    "\n",
    "IOF = inkimplib.InkVisitorJSONObjectFactory(\"../schemas/\",\"\")\n",
    "IOF.validate_defaults()"
   ],
   "metadata": {
    "collapsed": false
   }
  },
  {
   "cell_type": "code",
   "execution_count": 7,
   "outputs": [],
   "source": [
    "# initialisation of input data tables\n",
    "tables = {}\n",
    "header_infos = {}\n",
    "entity_ids = {}"
   ],
   "metadata": {
    "collapsed": false
   }
  },
  {
   "cell_type": "markdown",
   "source": [
    "# Load input datasets"
   ],
   "metadata": {
    "collapsed": false
   }
  },
  {
   "cell_type": "code",
   "execution_count": 284,
   "outputs": [
    {
     "name": "stderr",
     "output_type": "stream",
     "text": [
      "2023-01-21 17:47:33,546 INFO Calling for texts with sheet_name Texts.\n"
     ]
    },
    {
     "name": "stdout",
     "output_type": "stream",
     "text": [
      "20 2023-01-21 17:47:34 : Loading dataset texts\n",
      "20 2023-01-21 17:47:34 : Opting for variant header at row 5.\n",
      "20 2023-01-21 17:47:37 : Hyperlinks were detected and transformed in columns ['edition_1', 'edition_2', 'edition_3', 'persons_index_link', 'places_index_link'].\n",
      "20 2023-01-21 17:47:37 : Dropping empty columns in the dataset texts : (1011, 115)\n",
      "20 2023-01-21 17:47:38 : Deleted 858 empty rows by label.\n",
      "20 2023-01-21 17:47:38 : Loaded and prepared dataset texts : (153, 115)\n",
      "20 2023-01-21 17:47:38 : Making pickle cache of  texts with separeted header file : (153, 115)\n"
     ]
    },
    {
     "name": "stderr",
     "output_type": "stream",
     "text": [
      "2023-01-21 17:47:38,185 INFO Calling for manuscripts with sheet_name Manuscripts.\n"
     ]
    },
    {
     "name": "stdout",
     "output_type": "stream",
     "text": [
      "20 2023-01-21 17:47:38 : Loading dataset manuscripts\n",
      "20 2023-01-21 17:47:38 : Opting for variant header at row 5.\n"
     ]
    },
    {
     "name": "stderr",
     "output_type": "stream",
     "text": [
      "2023-01-21 17:47:40,258 INFO Calling for resources with sheet_name Resources.\n"
     ]
    },
    {
     "name": "stdout",
     "output_type": "stream",
     "text": [
      "20 2023-01-21 17:47:40 : Hyperlinks were detected and transformed in columns ['reproduction_online_url', 'reproduction_note'].\n",
      "20 2023-01-21 17:47:40 : Dropping empty columns in the dataset manuscripts : (1036, 65)\n",
      "20 2023-01-21 17:47:40 : Deleted 892 empty rows by label.\n",
      "20 2023-01-21 17:47:40 : Loaded and prepared dataset manuscripts : (144, 65)\n",
      "20 2023-01-21 17:47:40 : Making pickle cache of  manuscripts with separeted header file : (144, 65)\n",
      "20 2023-01-21 17:47:40 : Loading dataset resources\n",
      "20 2023-01-21 17:47:40 : Opting for variant header at row 5.\n"
     ]
    },
    {
     "name": "stderr",
     "output_type": "stream",
     "text": [
      "2023-01-21 17:47:41,669 INFO Calling for actions with sheet_name Statements.\n"
     ]
    },
    {
     "name": "stdout",
     "output_type": "stream",
     "text": [
      "20 2023-01-21 17:47:41 : Hyperlinks were detected and transformed in columns [].\n",
      "20 2023-01-21 17:47:41 : Dropping empty columns in the dataset resources : (1000, 26)\n",
      "20 2023-01-21 17:47:41 : Deleted 894 empty rows by label.\n",
      "20 2023-01-21 17:47:41 : Loaded and prepared dataset resources : (106, 26)\n",
      "20 2023-01-21 17:47:41 : Making pickle cache of  resources with separeted header file : (106, 26)\n",
      "20 2023-01-21 17:47:42 : Loading dataset actions\n",
      "20 2023-01-21 17:47:42 : Opting for variant header at row 5.\n",
      "20 2023-01-21 17:47:45 : Hyperlinks were detected and transformed in columns [].\n",
      "20 2023-01-21 17:47:45 : Dropping empty columns in the dataset actions : (1029, 87)\n",
      "20 2023-01-21 17:47:46 : Deleted 577 empty rows by label.\n",
      "20 2023-01-21 17:47:46 : Loaded and prepared dataset actions : (452, 87)\n",
      "20 2023-01-21 17:47:46 : Making pickle cache of  actions with separeted header file : (452, 87)\n"
     ]
    },
    {
     "name": "stderr",
     "output_type": "stream",
     "text": [
      "2023-01-21 17:47:46,315 INFO Calling for concepts with sheet_name Concepts.\n"
     ]
    },
    {
     "name": "stdout",
     "output_type": "stream",
     "text": [
      "20 2023-01-21 17:47:46 : Loading dataset concepts\n",
      "20 2023-01-21 17:47:46 : Opting for variant header at row 5.\n",
      "20 2023-01-21 17:47:51 : Hyperlinks were detected and transformed in columns [].\n",
      "20 2023-01-21 17:47:51 : Dropping empty columns in the dataset concepts : (4331, 74)\n",
      "20 2023-01-21 17:47:52 : Deleted 628 empty rows by label.\n",
      "20 2023-01-21 17:47:52 : Loaded and prepared dataset concepts : (3703, 74)\n",
      "20 2023-01-21 17:47:52 : Making pickle cache of  concepts with separeted header file : (3703, 74)\n"
     ]
    },
    {
     "name": "stderr",
     "output_type": "stream",
     "text": [
      "2023-01-21 17:47:53,581 INFO Calling for R0006_persons with sheet_name Persons.\n"
     ]
    },
    {
     "name": "stdout",
     "output_type": "stream",
     "text": [
      "20 2023-01-21 17:47:54 : Loading dataset R0006_persons\n",
      "20 2023-01-21 17:47:54 : Opting for variant header at row 5.\n",
      "20 2023-01-21 17:48:07 : Hyperlinks were detected and transformed in columns [].\n",
      "20 2023-01-21 17:48:07 : Dropping empty columns in the dataset R0006_persons : (396, 77)\n",
      "20 2023-01-21 17:48:07 : Deleted 173 empty rows by label.\n",
      "20 2023-01-21 17:48:07 : Loaded and prepared dataset R0006_persons : (223, 77)\n",
      "20 2023-01-21 17:48:07 : Making pickle cache of  R0006_persons with separeted header file : (223, 77)\n"
     ]
    },
    {
     "name": "stderr",
     "output_type": "stream",
     "text": [
      "2023-01-21 17:48:08,091 INFO Using R0006_persons and id.\n",
      "2023-01-21 17:48:08,093 INFO R0006_persons For columns id the suffix from _R0006 set was glued.\n",
      "2023-01-21 17:48:08,094 INFO Using R0006_persons and residence_id.\n",
      "2023-01-21 17:48:08,095 INFO R0006_persons For columns residence_id the suffix from _R0006 set was glued.\n",
      "2023-01-21 17:48:08,096 INFO Using R0006_persons and social_relation1_value_id.\n",
      "2023-01-21 17:48:08,098 INFO R0006_persons For columns social_relation1_value_id the suffix from _R0006 set was glued.\n",
      "2023-01-21 17:48:08,099 INFO Using R0006_persons and social_relation2_value_id.\n",
      "2023-01-21 17:48:08,100 INFO R0006_persons For columns social_relation2_value_id the suffix from _R0006 set was glued.\n",
      "2023-01-21 17:48:08,101 INFO Using R0006_persons and social_relation3_value_id.\n",
      "2023-01-21 17:48:08,102 INFO R0006_persons For columns social_relation3_value_id the suffix from _R0006 set was glued.\n",
      "2023-01-21 17:48:08,114 INFO Calling for R0007_locations with sheet_name Locations.\n"
     ]
    },
    {
     "name": "stdout",
     "output_type": "stream",
     "text": [
      "20 2023-01-21 17:48:08 : Loading dataset R0007_locations\n",
      "20 2023-01-21 17:48:08 : Opting for variant header at row 5.\n"
     ]
    },
    {
     "name": "stderr",
     "output_type": "stream",
     "text": [
      "2023-01-21 17:48:10,636 INFO Using R0007_locations and id.\n",
      "2023-01-21 17:48:10,637 INFO R0007_locations For columns id the suffix from _R0007 set was glued.\n",
      "2023-01-21 17:48:10,637 INFO Using R0007_locations and locationrelation1_value_id.\n",
      "2023-01-21 17:48:10,638 INFO R0007_locations For columns locationrelation1_value_id the suffix from _R0007 set was glued.\n",
      "2023-01-21 17:48:10,638 INFO Using R0007_locations and superordinate_location_id.\n",
      "2023-01-21 17:48:10,640 INFO R0007_locations For columns superordinate_location_id the suffix from _R0007 set was glued.\n",
      "2023-01-21 17:48:10,644 INFO Calling for R0008_events with sheet_name Events.\n"
     ]
    },
    {
     "name": "stdout",
     "output_type": "stream",
     "text": [
      "20 2023-01-21 17:48:10 : Hyperlinks were detected and transformed in columns [].\n",
      "20 2023-01-21 17:48:10 : Dropping empty columns in the dataset R0007_locations : (998, 28)\n",
      "20 2023-01-21 17:48:10 : Deleted 913 empty rows by label.\n",
      "20 2023-01-21 17:48:10 : Loaded and prepared dataset R0007_locations : (85, 28)\n",
      "20 2023-01-21 17:48:10 : Making pickle cache of  R0007_locations with separeted header file : (85, 28)\n",
      "20 2023-01-21 17:48:11 : Loading dataset R0008_events\n",
      "20 2023-01-21 17:48:11 : Opting for variant header at row 5.\n"
     ]
    },
    {
     "name": "stderr",
     "output_type": "stream",
     "text": [
      "2023-01-21 17:48:24,189 INFO Using R0008_events and id.\n",
      "2023-01-21 17:48:24,190 INFO R0008_events For columns id the suffix from _R0008 set was glued.\n",
      "2023-01-21 17:48:24,191 INFO Using R0008_events and spatial_ref_value_id.\n",
      "2023-01-21 17:48:24,192 INFO R0008_events For columns spatial_ref_value_id the suffix from _R0008 set was glued.\n",
      "2023-01-21 17:48:24,193 INFO Using R0008_events and participant_id.\n",
      "2023-01-21 17:48:24,193 INFO R0008_events For columns participant_id the suffix from _R0008 set was glued.\n",
      "2023-01-21 17:48:24,194 INFO Using R0008_events and inquisitor_id.\n",
      "2023-01-21 17:48:24,195 INFO R0008_events For columns inquisitor_id the suffix from _R0008 set was glued.\n",
      "2023-01-21 17:48:24,195 INFO Using R0008_events and notary_id.\n",
      "2023-01-21 17:48:24,196 INFO R0008_events For columns notary_id the suffix from _R0008 set was glued.\n",
      "2023-01-21 17:48:24,196 INFO Using R0008_events and witness_assessor_id.\n",
      "2023-01-21 17:48:24,198 INFO R0008_events For columns witness_assessor_id the suffix from _R0008 set was glued.\n",
      "2023-01-21 17:48:24,199 INFO Using R0008_events and accuser_id.\n",
      "2023-01-21 17:48:24,199 INFO R0008_events For columns accuser_id the suffix from _R0008 set was glued.\n",
      "2023-01-21 17:48:24,200 INFO Using R0008_events and accused_id.\n",
      "2023-01-21 17:48:24,202 INFO R0008_events For columns accused_id the suffix from _R0008 set was glued.\n",
      "2023-01-21 17:48:24,202 INFO Using R0008_events and mentioned_id.\n",
      "2023-01-21 17:48:24,203 INFO R0008_events For columns mentioned_id the suffix from _R0008 set was glued.\n",
      "2023-01-21 17:48:24,203 INFO Using R0008_events and denied_id.\n",
      "2023-01-21 17:48:24,203 INFO R0008_events For columns denied_id the suffix from _R0008 set was glued.\n",
      "2023-01-21 17:48:24,205 INFO Using R0008_events and marked_as_incriminated_id.\n",
      "2023-01-21 17:48:24,205 INFO R0008_events For columns marked_as_incriminated_id the suffix from _R0008 set was glued.\n",
      "2023-01-21 17:48:24,206 INFO Using R0008_events and temporal_ref_1_value_id.\n",
      "2023-01-21 17:48:24,207 INFO R0008_events For columns temporal_ref_1_value_id the suffix from _R0008 set was glued.\n",
      "2023-01-21 17:48:24,207 INFO Using R0008_events and temporal_ref_2_value_id.\n",
      "2023-01-21 17:48:24,207 INFO R0008_events For columns temporal_ref_2_value_id the suffix from _R0008 set was glued.\n",
      "2023-01-21 17:48:24,212 INFO Calling for R0075_persons with sheet_name Persons.\n"
     ]
    },
    {
     "name": "stdout",
     "output_type": "stream",
     "text": [
      "20 2023-01-21 17:48:24 : Hyperlinks were detected and transformed in columns [].\n",
      "20 2023-01-21 17:48:24 : Dropping empty columns in the dataset R0008_events : (199, 76)\n",
      "20 2023-01-21 17:48:24 : Deleted 59 empty rows by label.\n",
      "20 2023-01-21 17:48:24 : Loaded and prepared dataset R0008_events : (140, 76)\n",
      "20 2023-01-21 17:48:24 : Making pickle cache of  R0008_events with separeted header file : (140, 76)\n",
      "20 2023-01-21 17:48:25 : Loading dataset R0075_persons\n",
      "20 2023-01-21 17:48:25 : Opting for variant header at row 5.\n",
      "20 2023-01-21 17:48:41 : Hyperlinks were detected and transformed in columns [].\n",
      "20 2023-01-21 17:48:41 : Dropping empty columns in the dataset R0075_persons : (1613, 116)\n",
      "20 2023-01-21 17:48:41 : Deleted 1212 empty rows by label.\n",
      "20 2023-01-21 17:48:41 : Loaded and prepared dataset R0075_persons : (401, 116)\n",
      "20 2023-01-21 17:48:41 : Making pickle cache of  R0075_persons with separeted header file : (401, 116)\n"
     ]
    },
    {
     "name": "stderr",
     "output_type": "stream",
     "text": [
      "2023-01-21 17:48:41,832 INFO Using R0075_persons and id.\n",
      "2023-01-21 17:48:41,834 INFO R0075_persons For columns id the suffix from _R0075 set was glued.\n",
      "2023-01-21 17:48:41,834 INFO Using R0075_persons and origin_or_residence_id.\n",
      "2023-01-21 17:48:41,835 INFO R0075_persons For columns origin_or_residence_id the suffix from _R0075 set was glued.\n",
      "2023-01-21 17:48:41,836 INFO Using R0075_persons and residence_id.\n",
      "2023-01-21 17:48:41,837 INFO R0075_persons For columns residence_id the suffix from _R0075 set was glued.\n",
      "2023-01-21 17:48:41,837 INFO Using R0075_persons and relations_1_value_id.\n",
      "2023-01-21 17:48:41,838 INFO R0075_persons For columns relations_1_value_id the suffix from _R0075 set was glued.\n",
      "2023-01-21 17:48:41,838 INFO Using R0075_persons and relations_2_value_id.\n",
      "2023-01-21 17:48:41,839 INFO R0075_persons For columns relations_2_value_id the suffix from _R0075 set was glued.\n",
      "2023-01-21 17:48:41,840 INFO Using R0075_persons and relations_3_value_id.\n",
      "2023-01-21 17:48:41,840 INFO R0075_persons For columns relations_3_value_id the suffix from _R0075 set was glued.\n",
      "2023-01-21 17:48:41,841 INFO Using R0075_persons and relations_4_value_id.\n",
      "2023-01-21 17:48:41,841 INFO R0075_persons For columns relations_4_value_id the suffix from _R0075 set was glued.\n",
      "2023-01-21 17:48:41,842 INFO Using R0075_persons and relations_5_value_id.\n",
      "2023-01-21 17:48:41,842 INFO R0075_persons For columns relations_5_value_id the suffix from _R0075 set was glued.\n",
      "2023-01-21 17:48:41,843 INFO Using R0075_persons and relations_6_value_id.\n",
      "2023-01-21 17:48:41,844 INFO R0075_persons For columns relations_6_value_id the suffix from _R0075 set was glued.\n",
      "2023-01-21 17:48:41,845 INFO Using R0075_persons and relations_7_value_id.\n",
      "2023-01-21 17:48:41,845 INFO R0075_persons For columns relations_7_value_id the suffix from _R0075 set was glued.\n",
      "2023-01-21 17:48:41,846 INFO Using R0075_persons and relations_8_value_id.\n",
      "2023-01-21 17:48:41,846 INFO R0075_persons For columns relations_8_value_id the suffix from _R0075 set was glued.\n",
      "2023-01-21 17:48:41,847 INFO Using R0075_persons and relations_9_value_id.\n",
      "2023-01-21 17:48:41,848 INFO R0075_persons For columns relations_9_value_id the suffix from _R0075 set was glued.\n",
      "2023-01-21 17:48:41,848 INFO Using R0075_persons and relations_10_value_id.\n",
      "2023-01-21 17:48:41,849 INFO R0075_persons For columns relations_10_value_id the suffix from _R0075 set was glued.\n",
      "2023-01-21 17:48:41,850 INFO Using R0075_persons and relations_11_value_id.\n",
      "2023-01-21 17:48:41,851 INFO R0075_persons For columns relations_11_value_id the suffix from _R0075 set was glued.\n",
      "2023-01-21 17:48:41,851 INFO Using R0075_persons and relations_12_value_id.\n",
      "2023-01-21 17:48:41,852 INFO R0075_persons For columns relations_12_value_id the suffix from _R0075 set was glued.\n",
      "2023-01-21 17:48:41,852 INFO Using R0075_persons and relations_13_value_id.\n",
      "2023-01-21 17:48:41,853 INFO R0075_persons For columns relations_13_value_id the suffix from _R0075 set was glued.\n",
      "2023-01-21 17:48:41,854 INFO Using R0075_persons and origin_id.\n",
      "2023-01-21 17:48:41,855 INFO R0075_persons For columns origin_id the suffix from _R0075 set was glued.\n",
      "2023-01-21 17:48:41,855 INFO Using R0075_persons and occupation_id.\n",
      "2023-01-21 17:48:41,856 INFO R0075_persons For columns occupation_id the suffix from _R0075 set was glued.\n",
      "2023-01-21 17:48:41,857 INFO Using R0075_persons and office_id.\n",
      "2023-01-21 17:48:41,857 INFO R0075_persons For columns office_id the suffix from _R0075 set was glued.\n",
      "2023-01-21 17:48:41,865 INFO Calling for R0035_locations with sheet_name Locations.\n"
     ]
    },
    {
     "name": "stdout",
     "output_type": "stream",
     "text": [
      "20 2023-01-21 17:48:42 : Loading dataset R0035_locations\n",
      "20 2023-01-21 17:48:42 : Opting for variant header at row 5.\n"
     ]
    },
    {
     "name": "stderr",
     "output_type": "stream",
     "text": [
      "2023-01-21 17:48:44,882 INFO Using R0035_locations and id.\n",
      "2023-01-21 17:48:44,883 INFO R0035_locations For columns id the suffix from _R0035 set was glued.\n",
      "2023-01-21 17:48:44,883 INFO Using R0035_locations and locationrelation1_value_id.\n",
      "2023-01-21 17:48:44,884 INFO R0035_locations For columns locationrelation1_value_id the suffix from _R0035 set was glued.\n",
      "2023-01-21 17:48:44,885 INFO Using R0035_locations and locationrelation2_value_id.\n",
      "2023-01-21 17:48:44,886 INFO R0035_locations For columns locationrelation2_value_id the suffix from _R0035 set was glued.\n",
      "2023-01-21 17:48:44,886 INFO Using R0035_locations and identificate_id.\n",
      "2023-01-21 17:48:44,887 INFO R0035_locations For columns identificate_id the suffix from _R0035 set was glued.\n",
      "2023-01-21 17:48:44,887 INFO Using R0035_locations and superordinate_location_id.\n",
      "2023-01-21 17:48:44,888 INFO R0035_locations For columns superordinate_location_id the suffix from _R0035 set was glued.\n",
      "2023-01-21 17:48:44,892 INFO Calling for R0083_events with sheet_name Events.\n"
     ]
    },
    {
     "name": "stdout",
     "output_type": "stream",
     "text": [
      "20 2023-01-21 17:48:44 : Hyperlinks were detected and transformed in columns [].\n",
      "20 2023-01-21 17:48:44 : Dropping empty columns in the dataset R0035_locations : (1000, 36)\n",
      "20 2023-01-21 17:48:44 : Deleted 843 empty rows by label.\n",
      "20 2023-01-21 17:48:44 : Loaded and prepared dataset R0035_locations : (157, 36)\n",
      "20 2023-01-21 17:48:44 : Making pickle cache of  R0035_locations with separeted header file : (157, 36)\n",
      "20 2023-01-21 17:48:46 : Loading dataset R0083_events\n",
      "20 2023-01-21 17:48:46 : Opting for variant header at row 5.\n",
      "20 2023-01-21 17:49:05 : Hyperlinks were detected and transformed in columns [].\n",
      "20 2023-01-21 17:49:05 : Dropping empty columns in the dataset R0083_events : (1622, 59)\n",
      "20 2023-01-21 17:49:05 : Deleted 1374 empty rows by label.\n",
      "20 2023-01-21 17:49:05 : Loaded and prepared dataset R0083_events : (248, 59)\n",
      "20 2023-01-21 17:49:05 : Making pickle cache of  R0083_events with separeted header file : (248, 59)\n"
     ]
    },
    {
     "name": "stderr",
     "output_type": "stream",
     "text": [
      "2023-01-21 17:49:05,848 INFO Using R0083_events and id.\n",
      "2023-01-21 17:49:05,849 INFO R0083_events For columns id the suffix from _R0083 set was glued.\n",
      "2023-01-21 17:49:05,850 INFO Using R0083_events and spatial_ref_value_id.\n",
      "2023-01-21 17:49:05,851 INFO R0083_events For columns spatial_ref_value_id the suffix from _R0083 set was glued.\n",
      "2023-01-21 17:49:05,852 INFO Using R0083_events and participant_id.\n",
      "2023-01-21 17:49:05,853 INFO R0083_events For columns participant_id the suffix from _R0083 set was glued.\n",
      "2023-01-21 17:49:05,853 INFO Using R0083_events and inquisitor_id.\n",
      "2023-01-21 17:49:05,854 INFO R0083_events For columns inquisitor_id the suffix from _R0083 set was glued.\n",
      "2023-01-21 17:49:05,855 INFO Using R0083_events and notary_id.\n",
      "2023-01-21 17:49:05,856 INFO R0083_events For columns notary_id the suffix from _R0083 set was glued.\n",
      "2023-01-21 17:49:05,856 INFO Using R0083_events and witness_assessor_id.\n",
      "2023-01-21 17:49:05,857 INFO R0083_events For columns witness_assessor_id the suffix from _R0083 set was glued.\n",
      "2023-01-21 17:49:05,858 INFO Using R0083_events and accuser_id.\n",
      "2023-01-21 17:49:05,859 INFO R0083_events For columns accuser_id the suffix from _R0083 set was glued.\n",
      "2023-01-21 17:49:05,859 INFO Using R0083_events and accused_id.\n",
      "2023-01-21 17:49:05,861 INFO R0083_events For columns accused_id the suffix from _R0083 set was glued.\n",
      "2023-01-21 17:49:05,862 INFO Using R0083_events and mentioned_id.\n",
      "2023-01-21 17:49:05,863 INFO R0083_events For columns mentioned_id the suffix from _R0083 set was glued.\n",
      "2023-01-21 17:49:05,864 INFO Using R0083_events and denied_id.\n",
      "2023-01-21 17:49:05,864 INFO R0083_events For columns denied_id the suffix from _R0083 set was glued.\n",
      "2023-01-21 17:49:05,865 INFO Using R0083_events and temporal_ref_1_value_id.\n",
      "2023-01-21 17:49:05,866 INFO R0083_events For columns temporal_ref_1_value_id the suffix from _R0083 set was glued.\n",
      "2023-01-21 17:49:05,866 INFO Using R0083_events and temporal_ref_2_value_id.\n",
      "2023-01-21 17:49:05,867 INFO R0083_events For columns temporal_ref_2_value_id the suffix from _R0083 set was glued.\n",
      "2023-01-21 17:49:05,873 INFO Calling for R0105_groups with sheet_name Groups.\n"
     ]
    },
    {
     "name": "stdout",
     "output_type": "stream",
     "text": [
      "20 2023-01-21 17:49:06 : Loading dataset R0105_groups\n",
      "20 2023-01-21 17:49:06 : Opting for variant header at row 5.\n"
     ]
    },
    {
     "name": "stderr",
     "output_type": "stream",
     "text": [
      "2023-01-21 17:49:09,037 INFO Using R0105_groups and id.\n",
      "2023-01-21 17:49:09,038 INFO R0105_groups For columns id the suffix from _R0105 set was glued.\n",
      "2023-01-21 17:49:09,039 INFO Using R0105_groups and has_member_id.\n",
      "2023-01-21 17:49:09,040 INFO R0105_groups For columns has_member_id the suffix from _R0105 set was glued.\n",
      "2023-01-21 17:49:09,045 INFO Calling for R0030_persons with sheet_name Persons.\n"
     ]
    },
    {
     "name": "stdout",
     "output_type": "stream",
     "text": [
      "20 2023-01-21 17:49:08 : Hyperlinks were detected and transformed in columns [].\n",
      "20 2023-01-21 17:49:08 : Dropping empty columns in the dataset R0105_groups : (1622, 15)\n",
      "20 2023-01-21 17:49:09 : Deleted 1554 empty rows by label.\n",
      "20 2023-01-21 17:49:09 : Loaded and prepared dataset R0105_groups : (68, 15)\n",
      "20 2023-01-21 17:49:09 : Making pickle cache of  R0105_groups with separeted header file : (68, 15)\n",
      "20 2023-01-21 17:49:10 : Loading dataset R0030_persons\n",
      "20 2023-01-21 17:49:10 : Opting for variant header at row 5.\n",
      "20 2023-01-21 17:49:34 : Hyperlinks were detected and transformed in columns [].\n",
      "20 2023-01-21 17:49:34 : Dropping empty columns in the dataset R0030_persons : (2819, 78)\n",
      "20 2023-01-21 17:49:34 : Deleted 706 empty rows by label.\n",
      "20 2023-01-21 17:49:34 : Loaded and prepared dataset R0030_persons : (2113, 78)\n",
      "20 2023-01-21 17:49:34 : Making pickle cache of  R0030_persons with separeted header file : (2113, 78)\n"
     ]
    },
    {
     "name": "stderr",
     "output_type": "stream",
     "text": [
      "2023-01-21 17:49:35,588 INFO Using R0030_persons and id.\n",
      "2023-01-21 17:49:35,592 INFO R0030_persons For columns id the suffix from _R0030 set was glued.\n",
      "2023-01-21 17:49:35,593 INFO Using R0030_persons and residence_id.\n",
      "2023-01-21 17:49:35,595 INFO R0030_persons For columns residence_id the suffix from _R0030 set was glued.\n",
      "2023-01-21 17:49:35,596 INFO Using R0030_persons and origin_id.\n",
      "2023-01-21 17:49:35,597 INFO R0030_persons For columns origin_id the suffix from _R0030 set was glued.\n",
      "2023-01-21 17:49:35,597 INFO Using R0030_persons and social_relation1_value_id.\n",
      "2023-01-21 17:49:35,599 INFO R0030_persons For columns social_relation1_value_id the suffix from _R0030 set was glued.\n",
      "2023-01-21 17:49:35,599 INFO Using R0030_persons and social_relation2_value_id.\n",
      "2023-01-21 17:49:35,601 INFO R0030_persons For columns social_relation2_value_id the suffix from _R0030 set was glued.\n",
      "2023-01-21 17:49:35,601 INFO Using R0030_persons and social_relation3_value_id.\n",
      "2023-01-21 17:49:35,602 INFO R0030_persons For columns social_relation3_value_id the suffix from _R0030 set was glued.\n",
      "2023-01-21 17:49:35,603 INFO Using R0030_persons and social_relation4_value_id.\n",
      "2023-01-21 17:49:35,604 INFO R0030_persons For columns social_relation4_value_id the suffix from _R0030 set was glued.\n",
      "2023-01-21 17:49:35,604 INFO Using R0030_persons and social_relation5_value_id.\n",
      "2023-01-21 17:49:35,605 INFO R0030_persons For columns social_relation5_value_id the suffix from _R0030 set was glued.\n",
      "2023-01-21 17:49:35,630 INFO Calling for R0087_groups with sheet_name Groups.\n"
     ]
    },
    {
     "name": "stdout",
     "output_type": "stream",
     "text": [
      "20 2023-01-21 17:49:36 : Loading dataset R0087_groups\n",
      "20 2023-01-21 17:49:36 : Opting for variant header at row 5.\n"
     ]
    },
    {
     "name": "stderr",
     "output_type": "stream",
     "text": [
      "2023-01-21 17:49:37,853 INFO Using R0087_groups and id.\n",
      "2023-01-21 17:49:37,854 INFO R0087_groups For columns id the suffix from _R0087 set was glued.\n",
      "2023-01-21 17:49:37,857 INFO Calling for R0031_locations with sheet_name Locations.\n"
     ]
    },
    {
     "name": "stdout",
     "output_type": "stream",
     "text": [
      "20 2023-01-21 17:49:37 : Hyperlinks were detected and transformed in columns [].\n",
      "20 2023-01-21 17:49:37 : Dropping empty columns in the dataset R0087_groups : (1619, 13)\n",
      "20 2023-01-21 17:49:37 : Deleted 1602 empty rows by label.\n",
      "20 2023-01-21 17:49:37 : Loaded and prepared dataset R0087_groups : (17, 13)\n",
      "20 2023-01-21 17:49:37 : Making pickle cache of  R0087_groups with separeted header file : (17, 13)\n",
      "20 2023-01-21 17:49:38 : Loading dataset R0031_locations\n",
      "20 2023-01-21 17:49:38 : Opting for variant header at row 5.\n",
      "20 2023-01-21 17:49:42 : Hyperlinks were detected and transformed in columns [].\n",
      "20 2023-01-21 17:49:42 : Dropping empty columns in the dataset R0031_locations : (1621, 53)\n",
      "20 2023-01-21 17:49:42 : Deleted 786 empty rows by label.\n",
      "20 2023-01-21 17:49:42 : Loaded and prepared dataset R0031_locations : (835, 53)\n",
      "20 2023-01-21 17:49:42 : Making pickle cache of  R0031_locations with separeted header file : (835, 53)\n"
     ]
    },
    {
     "name": "stderr",
     "output_type": "stream",
     "text": [
      "2023-01-21 17:49:43,162 INFO Using R0031_locations and id.\n",
      "2023-01-21 17:49:43,167 INFO R0031_locations For columns id the suffix from _R0031 set was glued.\n",
      "2023-01-21 17:49:43,168 INFO Using R0031_locations and superordinate_location_id.\n",
      "2023-01-21 17:49:43,171 INFO R0031_locations For columns superordinate_location_id the suffix from _R0031 set was glued.\n",
      "2023-01-21 17:49:43,172 INFO Using R0031_locations and province_modern_id.\n",
      "2023-01-21 17:49:43,174 INFO R0031_locations For columns province_modern_id the suffix from _R0031 set was glued.\n",
      "2023-01-21 17:49:43,175 INFO Using R0031_locations and locationrelation1_value_id.\n",
      "2023-01-21 17:49:43,176 INFO R0031_locations For columns locationrelation1_value_id the suffix from _R0031 set was glued.\n",
      "2023-01-21 17:49:43,199 INFO Calling for R0082_events with sheet_name Events.\n"
     ]
    },
    {
     "name": "stdout",
     "output_type": "stream",
     "text": [
      "20 2023-01-21 17:49:44 : Loading dataset R0082_events\n",
      "20 2023-01-21 17:49:44 : Opting for variant header at row 5.\n",
      "20 2023-01-21 17:49:50 : Hyperlinks were detected and transformed in columns [].\n",
      "20 2023-01-21 17:49:50 : Dropping empty columns in the dataset R0082_events : (1615, 61)\n",
      "20 2023-01-21 17:49:50 : Deleted 693 empty rows by label.\n",
      "20 2023-01-21 17:49:50 : Loaded and prepared dataset R0082_events : (922, 61)\n",
      "20 2023-01-21 17:49:50 : Making pickle cache of  R0082_events with separeted header file : (922, 61)\n"
     ]
    },
    {
     "name": "stderr",
     "output_type": "stream",
     "text": [
      "2023-01-21 17:49:50,789 INFO Using R0082_events and id.\n",
      "2023-01-21 17:49:50,792 INFO R0082_events For columns id the suffix from _R0082 set was glued.\n",
      "2023-01-21 17:49:50,793 INFO Using R0082_events and participant_id.\n",
      "2023-01-21 17:49:50,795 INFO R0082_events For columns participant_id the suffix from _R0082 set was glued.\n",
      "2023-01-21 17:49:50,795 INFO Using R0082_events and inquisitor_id.\n",
      "2023-01-21 17:49:50,797 INFO R0082_events For columns inquisitor_id the suffix from _R0082 set was glued.\n",
      "2023-01-21 17:49:50,798 INFO Using R0082_events and notary_id.\n",
      "2023-01-21 17:49:50,800 INFO R0082_events For columns notary_id the suffix from _R0082 set was glued.\n",
      "2023-01-21 17:49:50,801 INFO Using R0082_events and witness_assessor_id.\n",
      "2023-01-21 17:49:50,802 INFO R0082_events For columns witness_assessor_id the suffix from _R0082 set was glued.\n",
      "2023-01-21 17:49:50,803 INFO Using R0082_events and spatial_ref_value_id.\n",
      "2023-01-21 17:49:50,804 INFO R0082_events For columns spatial_ref_value_id the suffix from _R0082 set was glued.\n",
      "2023-01-21 17:49:50,804 INFO Using R0082_events and accuser_id.\n",
      "2023-01-21 17:49:50,805 INFO R0082_events For columns accuser_id the suffix from _R0082 set was glued.\n",
      "2023-01-21 17:49:50,806 INFO Using R0082_events and accused_id.\n",
      "2023-01-21 17:49:50,808 INFO R0082_events For columns accused_id the suffix from _R0082 set was glued.\n",
      "2023-01-21 17:49:50,808 INFO Using R0082_events and mentioned_id.\n",
      "2023-01-21 17:49:50,809 INFO R0082_events For columns mentioned_id the suffix from _R0082 set was glued.\n",
      "2023-01-21 17:49:50,810 INFO Using R0082_events and denied_id.\n",
      "2023-01-21 17:49:50,811 INFO R0082_events For columns denied_id the suffix from _R0082 set was glued.\n",
      "2023-01-21 17:49:50,823 INFO Calling for R0039_persons with sheet_name Persons.\n"
     ]
    },
    {
     "name": "stdout",
     "output_type": "stream",
     "text": [
      "20 2023-01-21 17:49:51 : Loading dataset R0039_persons\n",
      "20 2023-01-21 17:49:51 : Opting for variant header at row 5.\n",
      "20 2023-01-21 17:50:06 : Hyperlinks were detected and transformed in columns [].\n",
      "20 2023-01-21 17:50:06 : Dropping empty columns in the dataset R0039_persons : (1610, 83)\n",
      "20 2023-01-21 17:50:06 : Deleted 1288 empty rows by label.\n",
      "20 2023-01-21 17:50:06 : Loaded and prepared dataset R0039_persons : (322, 83)\n",
      "20 2023-01-21 17:50:06 : Making pickle cache of  R0039_persons with separeted header file : (322, 83)\n"
     ]
    },
    {
     "name": "stderr",
     "output_type": "stream",
     "text": [
      "2023-01-21 17:50:06,516 INFO Using R0039_persons and id.\n",
      "2023-01-21 17:50:06,518 INFO R0039_persons For columns id the suffix from _R0039 set was glued.\n",
      "2023-01-21 17:50:06,518 INFO Using R0039_persons and residence_id.\n",
      "2023-01-21 17:50:06,519 INFO R0039_persons For columns residence_id the suffix from _R0039 set was glued.\n",
      "2023-01-21 17:50:06,519 INFO Using R0039_persons and origin_id.\n",
      "2023-01-21 17:50:06,520 INFO R0039_persons For columns origin_id the suffix from _R0039 set was glued.\n",
      "2023-01-21 17:50:06,521 INFO Using R0039_persons and origin_or_residence_id.\n",
      "2023-01-21 17:50:06,522 INFO R0039_persons For columns origin_or_residence_id the suffix from _R0039 set was glued.\n",
      "2023-01-21 17:50:06,522 INFO Using R0039_persons and relation1_value_id.\n",
      "2023-01-21 17:50:06,523 INFO R0039_persons For columns relation1_value_id the suffix from _R0039 set was glued.\n",
      "2023-01-21 17:50:06,523 INFO Using R0039_persons and relation2_value_id.\n",
      "2023-01-21 17:50:06,525 INFO R0039_persons For columns relation2_value_id the suffix from _R0039 set was glued.\n",
      "2023-01-21 17:50:06,525 INFO Using R0039_persons and relation3_value_id.\n",
      "2023-01-21 17:50:06,526 INFO R0039_persons For columns relation3_value_id the suffix from _R0039 set was glued.\n",
      "2023-01-21 17:50:06,526 INFO Using R0039_persons and relation4_value_id.\n",
      "2023-01-21 17:50:06,527 INFO R0039_persons For columns relation4_value_id the suffix from _R0039 set was glued.\n",
      "2023-01-21 17:50:06,528 INFO Using R0039_persons and property_value_id.\n",
      "2023-01-21 17:50:06,528 INFO R0039_persons For columns property_value_id the suffix from _R0039 set was glued.\n",
      "2023-01-21 17:50:06,535 INFO Calling for R0040_locations with sheet_name Locations.\n"
     ]
    },
    {
     "name": "stdout",
     "output_type": "stream",
     "text": [
      "20 2023-01-21 17:50:07 : Loading dataset R0040_locations\n",
      "20 2023-01-21 17:50:07 : Opting for variant header at row 5.\n"
     ]
    },
    {
     "name": "stderr",
     "output_type": "stream",
     "text": [
      "2023-01-21 17:50:09,661 INFO Using R0040_locations and id.\n",
      "2023-01-21 17:50:09,662 INFO R0040_locations For columns id the suffix from _R0040 set was glued.\n",
      "2023-01-21 17:50:09,662 INFO Using R0040_locations and superordinate_location_id.\n",
      "2023-01-21 17:50:09,663 INFO R0040_locations For columns superordinate_location_id the suffix from _R0040 set was glued.\n",
      "2023-01-21 17:50:09,663 INFO Using R0040_locations and locationrelation1_target_id.\n",
      "2023-01-21 17:50:09,664 INFO R0040_locations For columns locationrelation1_target_id the suffix from _R0040 set was glued.\n",
      "2023-01-21 17:50:09,664 INFO Using R0040_locations and locationrelation2_target_id.\n",
      "2023-01-21 17:50:09,665 INFO R0040_locations For columns locationrelation2_target_id the suffix from _R0040 set was glued.\n",
      "2023-01-21 17:50:09,670 INFO Calling for R0079_events with sheet_name Events.\n"
     ]
    },
    {
     "name": "stdout",
     "output_type": "stream",
     "text": [
      "20 2023-01-21 17:50:09 : Hyperlinks were detected and transformed in columns [].\n",
      "20 2023-01-21 17:50:09 : Dropping empty columns in the dataset R0040_locations : (990, 43)\n",
      "20 2023-01-21 17:50:09 : Deleted 829 empty rows by label.\n",
      "20 2023-01-21 17:50:09 : Loaded and prepared dataset R0040_locations : (161, 43)\n",
      "20 2023-01-21 17:50:09 : Making pickle cache of  R0040_locations with separeted header file : (161, 43)\n",
      "20 2023-01-21 17:50:10 : Loading dataset R0079_events\n",
      "20 2023-01-21 17:50:10 : Opting for variant header at row 5.\n"
     ]
    },
    {
     "name": "stderr",
     "output_type": "stream",
     "text": [
      "2023-01-21 17:50:17,770 INFO Using R0079_events and id.\n",
      "2023-01-21 17:50:17,771 INFO R0079_events For columns id the suffix from _R0079 set was glued.\n",
      "2023-01-21 17:50:17,771 INFO Using R0079_events and person_before_court_id.\n",
      "2023-01-21 17:50:17,772 INFO R0079_events For columns person_before_court_id the suffix from _R0079 set was glued.\n",
      "2023-01-21 17:50:17,772 INFO Using R0079_events and inquisitor_id.\n",
      "2023-01-21 17:50:17,773 INFO R0079_events For columns inquisitor_id the suffix from _R0079 set was glued.\n",
      "2023-01-21 17:50:17,773 INFO Using R0079_events and notary_id.\n",
      "2023-01-21 17:50:17,774 INFO R0079_events For columns notary_id the suffix from _R0079 set was glued.\n",
      "2023-01-21 17:50:17,774 INFO Using R0079_events and witness_assessor_id.\n",
      "2023-01-21 17:50:17,775 INFO R0079_events For columns witness_assessor_id the suffix from _R0079 set was glued.\n",
      "2023-01-21 17:50:17,775 INFO Using R0079_events and spatial_ref_value_id.\n",
      "2023-01-21 17:50:17,776 INFO R0079_events For columns spatial_ref_value_id the suffix from _R0079 set was glued.\n",
      "2023-01-21 17:50:17,776 INFO Using R0079_events and accuser_id.\n",
      "2023-01-21 17:50:17,776 INFO R0079_events For columns accuser_id the suffix from _R0079 set was glued.\n",
      "2023-01-21 17:50:17,777 INFO Using R0079_events and accused_id.\n",
      "2023-01-21 17:50:17,778 INFO R0079_events For columns accused_id the suffix from _R0079 set was glued.\n",
      "2023-01-21 17:50:17,780 INFO Using R0079_events and mentioned_id.\n",
      "2023-01-21 17:50:17,780 INFO R0079_events For columns mentioned_id the suffix from _R0079 set was glued.\n",
      "2023-01-21 17:50:17,781 INFO Using R0079_events and denied_id.\n",
      "2023-01-21 17:50:17,781 INFO R0079_events For columns denied_id the suffix from _R0079 set was glued.\n",
      "2023-01-21 17:50:17,784 INFO Calling for R0076_persons with sheet_name Persons.\n"
     ]
    },
    {
     "name": "stdout",
     "output_type": "stream",
     "text": [
      "20 2023-01-21 17:50:17 : Hyperlinks were detected and transformed in columns [].\n",
      "20 2023-01-21 17:50:17 : Dropping empty columns in the dataset R0079_events : (1622, 56)\n",
      "20 2023-01-21 17:50:17 : Deleted 1600 empty rows by label.\n",
      "20 2023-01-21 17:50:17 : Loaded and prepared dataset R0079_events : (22, 56)\n",
      "20 2023-01-21 17:50:17 : Making pickle cache of  R0079_events with separeted header file : (22, 56)\n",
      "20 2023-01-21 17:50:18 : Loading dataset R0076_persons\n",
      "20 2023-01-21 17:50:18 : Opting for variant header at row 5.\n"
     ]
    },
    {
     "name": "stderr",
     "output_type": "stream",
     "text": [
      "2023-01-21 17:50:31,208 INFO Using R0076_persons and id.\n"
     ]
    },
    {
     "name": "stdout",
     "output_type": "stream",
     "text": [
      "20 2023-01-21 17:50:31 : Hyperlinks were detected and transformed in columns [].\n",
      "20 2023-01-21 17:50:31 : Dropping empty columns in the dataset R0076_persons : (1610, 68)\n",
      "20 2023-01-21 17:50:31 : Deleted 1492 empty rows by label.\n",
      "20 2023-01-21 17:50:31 : Loaded and prepared dataset R0076_persons : (118, 68)\n",
      "20 2023-01-21 17:50:31 : Making pickle cache of  R0076_persons with separeted header file : (118, 68)\n"
     ]
    },
    {
     "name": "stderr",
     "output_type": "stream",
     "text": [
      "2023-01-21 17:50:31,209 INFO R0076_persons For columns id the suffix from _R0076 set was glued.\n",
      "2023-01-21 17:50:31,209 INFO Using R0076_persons and relations_1_value_id.\n",
      "2023-01-21 17:50:31,210 INFO R0076_persons For columns relations_1_value_id the suffix from _R0076 set was glued.\n",
      "2023-01-21 17:50:31,211 INFO Using R0076_persons and relations_2_value_id.\n",
      "2023-01-21 17:50:31,211 INFO R0076_persons For columns relations_2_value_id the suffix from _R0076 set was glued.\n",
      "2023-01-21 17:50:31,212 INFO Using R0076_persons and origin_or_residence_id.\n",
      "2023-01-21 17:50:31,213 INFO R0076_persons For columns origin_or_residence_id the suffix from _R0076 set was glued.\n",
      "2023-01-21 17:50:31,213 INFO Using R0076_persons and residence_id.\n",
      "2023-01-21 17:50:31,214 INFO R0076_persons For columns residence_id the suffix from _R0076 set was glued.\n",
      "2023-01-21 17:50:31,215 INFO Using R0076_persons and origin_id.\n",
      "2023-01-21 17:50:31,215 INFO R0076_persons For columns origin_id the suffix from _R0076 set was glued.\n",
      "2023-01-21 17:50:31,219 INFO Calling for R0074_locations with sheet_name Locations.\n"
     ]
    },
    {
     "name": "stdout",
     "output_type": "stream",
     "text": [
      "20 2023-01-21 17:50:31 : Loading dataset R0074_locations\n",
      "20 2023-01-21 17:50:31 : Opting for variant header at row 5.\n"
     ]
    },
    {
     "name": "stderr",
     "output_type": "stream",
     "text": [
      "2023-01-21 17:50:33,469 INFO Using R0074_locations and id.\n",
      "2023-01-21 17:50:33,469 INFO R0074_locations For columns id the suffix from _R0074 set was glued.\n",
      "2023-01-21 17:50:33,470 INFO Using R0074_locations and locationrelation1_value_id.\n",
      "2023-01-21 17:50:33,470 INFO R0074_locations For columns locationrelation1_value_id the suffix from _R0074 set was glued.\n",
      "2023-01-21 17:50:33,471 INFO Using R0074_locations and locationrelation2_value_id.\n",
      "2023-01-21 17:50:33,472 INFO R0074_locations For columns locationrelation2_value_id the suffix from _R0074 set was glued.\n",
      "2023-01-21 17:50:33,472 INFO Using R0074_locations and superordinate_location_id.\n",
      "2023-01-21 17:50:33,473 INFO R0074_locations For columns superordinate_location_id the suffix from _R0074 set was glued.\n",
      "2023-01-21 17:50:33,473 INFO Using R0074_locations and identificate_id.\n",
      "2023-01-21 17:50:33,474 INFO R0074_locations For columns identificate_id the suffix from _R0074 set was glued.\n",
      "2023-01-21 17:50:33,477 INFO Calling for R0104_events with sheet_name Events.\n"
     ]
    },
    {
     "name": "stdout",
     "output_type": "stream",
     "text": [
      "20 2023-01-21 17:50:33 : Hyperlinks were detected and transformed in columns [].\n",
      "20 2023-01-21 17:50:33 : Dropping empty columns in the dataset R0074_locations : (1000, 36)\n",
      "20 2023-01-21 17:50:33 : Deleted 947 empty rows by label.\n",
      "20 2023-01-21 17:50:33 : Loaded and prepared dataset R0074_locations : (53, 36)\n",
      "20 2023-01-21 17:50:33 : Making pickle cache of  R0074_locations with separeted header file : (53, 36)\n",
      "20 2023-01-21 17:50:34 : Loading dataset R0104_events\n",
      "20 2023-01-21 17:50:34 : Opting for variant header at row 5.\n"
     ]
    },
    {
     "name": "stderr",
     "output_type": "stream",
     "text": [
      "2023-01-21 17:50:49,727 INFO Using R0104_events and id.\n",
      "2023-01-21 17:50:49,728 INFO R0104_events For columns id the suffix from _R0104 set was glued.\n",
      "2023-01-21 17:50:49,728 INFO Using R0104_events and participant_id.\n",
      "2023-01-21 17:50:49,729 INFO R0104_events For columns participant_id the suffix from _R0104 set was glued.\n",
      "2023-01-21 17:50:49,729 INFO Using R0104_events and inquisitor_id.\n",
      "2023-01-21 17:50:49,730 INFO R0104_events For columns inquisitor_id the suffix from _R0104 set was glued.\n",
      "2023-01-21 17:50:49,731 INFO Using R0104_events and notary_id.\n",
      "2023-01-21 17:50:49,731 INFO R0104_events For columns notary_id the suffix from _R0104 set was glued.\n",
      "2023-01-21 17:50:49,732 INFO Using R0104_events and witness_id.\n",
      "2023-01-21 17:50:49,732 INFO R0104_events For columns witness_id the suffix from _R0104 set was glued.\n",
      "2023-01-21 17:50:49,733 INFO Using R0104_events and spatial_ref_value_id.\n",
      "2023-01-21 17:50:49,734 INFO R0104_events For columns spatial_ref_value_id the suffix from _R0104 set was glued.\n",
      "2023-01-21 17:50:49,734 INFO Using R0104_events and temporal_ref_1_value_id.\n",
      "2023-01-21 17:50:49,735 INFO R0104_events For columns temporal_ref_1_value_id the suffix from _R0104 set was glued.\n",
      "2023-01-21 17:50:49,735 INFO Using R0104_events and temporal_ref_2_value_id.\n",
      "2023-01-21 17:50:49,736 INFO R0104_events For columns temporal_ref_2_value_id the suffix from _R0104 set was glued.\n",
      "2023-01-21 17:50:49,737 INFO Using R0104_events and accuser_id.\n",
      "2023-01-21 17:50:49,737 INFO R0104_events For columns accuser_id the suffix from _R0104 set was glued.\n",
      "2023-01-21 17:50:49,738 INFO Using R0104_events and accused_id.\n",
      "2023-01-21 17:50:49,739 INFO R0104_events For columns accused_id the suffix from _R0104 set was glued.\n",
      "2023-01-21 17:50:49,739 INFO Using R0104_events and mentioned_id.\n",
      "2023-01-21 17:50:49,740 INFO R0104_events For columns mentioned_id the suffix from _R0104 set was glued.\n",
      "2023-01-21 17:50:49,740 INFO Using R0104_events and denied_id.\n",
      "2023-01-21 17:50:49,741 INFO R0104_events For columns denied_id the suffix from _R0104 set was glued.\n"
     ]
    },
    {
     "name": "stdout",
     "output_type": "stream",
     "text": [
      "20 2023-01-21 17:50:49 : Hyperlinks were detected and transformed in columns [].\n",
      "20 2023-01-21 17:50:49 : Dropping empty columns in the dataset R0104_events : (1622, 57)\n",
      "20 2023-01-21 17:50:49 : Deleted 1562 empty rows by label.\n",
      "20 2023-01-21 17:50:49 : Loaded and prepared dataset R0104_events : (60, 57)\n",
      "20 2023-01-21 17:50:49 : Making pickle cache of  R0104_events with separeted header file : (60, 57)\n"
     ]
    }
   ],
   "source": [
    "# partial load\n",
    "# partial_load = ['R0075_persons', 'R0035_locations','R0083_events']\n",
    "# partial_load = ['R0035_locations']\n",
    "# partial_load = ['R0039_persons', 'R0040_locations','R0079_events']\n",
    "# partial_load = ['R0076_persons', 'R0074_locations','R0104_events']\n",
    "\n",
    "# R0087\tBologna Groups\n",
    "# R0031\tBologna Locations\n",
    "# R0030\tBologna Persons\n",
    "# R0082\tBologna Trial Events\n",
    "# partial_load = ['R0030_persons', 'R0031_locations','R0082_events']\n",
    "# partial_load = ['R0104_events'] # 'R0030_persons', 'R0087_groups', ,'R0082_events'\n",
    "partial_load = [] # 'R0030_persons', 'R0087_groups', ,'R0082_events'\n",
    "\n",
    "# empty value unifier\n",
    "def unify_empty_value(df: pd.DataFrame, empty_values=None, unified_empty_value =''):\n",
    "    if empty_values is None:\n",
    "        empty_values = [\"#N/A\", \"#VALUE!\",'NA', 'NS'] # 'NA', 'NS',\n",
    "    for naner in empty_values:\n",
    "        df = df.replace(naner,unified_empty_value, regex=True)\n",
    "    df. fillna(unified_empty_value, inplace=True)\n",
    "    return df\n",
    "\n",
    "# define cross-suffixes\n",
    "casearea_to_entity_suffix = {\n",
    "    \"R0006\" : {\n",
    "        \"P\" : \"R0006\",\n",
    "        \"L\" : \"R0007\",\n",
    "        \"E\" : \"R0008\"\n",
    "    },\n",
    "    \"R0007\" : {\n",
    "        \"P\" : \"R0006\",\n",
    "        \"L\" : \"R0007\",\n",
    "        \"E\" : \"R0008\"\n",
    "    },\n",
    "    \"R0008\" : {\n",
    "        \"P\" : \"R0006\",\n",
    "        \"L\" : \"R0007\",\n",
    "        \"E\" : \"R0008\"\n",
    "    },\n",
    "    \"R0075\" : {\n",
    "        \"P\" : \"R0075\",\n",
    "        \"L\" : \"R0035\",\n",
    "        \"E\" : \"R0083\",\n",
    "        \"G\" : \"R0105\",\n",
    "    },\n",
    "    \"R0035\" : {\n",
    "        \"P\" : \"R0075\",\n",
    "        \"L\" : \"R0035\",\n",
    "        \"E\" : \"R0083\",\n",
    "        \"G\" : \"R0105\",\n",
    "    },\n",
    "    \"R0083\" : {\n",
    "        \"P\" : \"R0075\",\n",
    "        \"L\" : \"R0035\",\n",
    "        \"E\" : \"R0083\",\n",
    "        \"G\" : \"R0105\",\n",
    "    },\n",
    "    \"R0105\" : {\n",
    "        \"P\" : \"R0075\",\n",
    "        \"L\" : \"R0035\",\n",
    "        \"E\" : \"R0083\",\n",
    "        \"G\" : \"R0105\",\n",
    "    },\n",
    "    \"R0087\" : {\n",
    "          \"P\" : \"R0030\",\n",
    "          \"L\" : \"R0031\",\n",
    "          \"E\" : \"R0082\",\n",
    "          \"G\" : \"R0087\",\n",
    "      },\n",
    "    \"R0030\" : {\n",
    "        \"P\" : \"R0030\",\n",
    "        \"L\" : \"R0031\",\n",
    "        \"E\" : \"R0082\",\n",
    "        \"G\" : \"R0087\",\n",
    "    },\n",
    "    \"R0031\" : {\n",
    "        \"P\" : \"R0030\",\n",
    "        \"L\" : \"R0031\",\n",
    "        \"E\" : \"R0082\",\n",
    "        \"G\" : \"R0087\",\n",
    "    },\n",
    "    \"R0082\" : {\n",
    "        \"P\" : \"R0030\",\n",
    "        \"L\" : \"R0031\",\n",
    "        \"E\" : \"R0082\",\n",
    "        \"G\" : \"R0087\",\n",
    "    },\n",
    "    \"R0039\" : {\n",
    "          \"P\" : \"R0039\",\n",
    "          \"L\" : \"R0040\",\n",
    "          \"E\" : \"R0079\",\n",
    "      },\n",
    "    \"R0040\" : {\n",
    "          \"P\" : \"R0039\",\n",
    "          \"L\" : \"R0040\",\n",
    "          \"E\" : \"R0079\",\n",
    "      },\n",
    "    \"R0079\" : {\n",
    "          \"P\" : \"R0039\",\n",
    "          \"L\" : \"R0040\",\n",
    "          \"E\" : \"R0079\",\n",
    "\n",
    "      },\n",
    "    \"R0076\" : {\n",
    "          \"P\" : \"R0076\",\n",
    "          \"L\" : \"R0074\",\n",
    "          \"E\" : \"R0104\"\n",
    "      },\n",
    "    \"R0074\" : {\n",
    "          \"P\" : \"R0076\",\n",
    "          \"L\" : \"R0074\",\n",
    "          \"E\" : \"R0104\"\n",
    "      },\n",
    "     \"R0104\" : {\n",
    "          \"P\" : \"R0076\",\n",
    "          \"L\" : \"R0074\",\n",
    "          \"E\" : \"R0104\"\n",
    "      },\n",
    "}\n",
    "\n",
    "def get_suffix_based_on_case_and_entity_type(string, case_suffix):\n",
    "    # if valid entity type\n",
    "    allowed_strict_entities = ['P','L','E','B','G']\n",
    "    if any(string.startswith(c)for c in allowed_strict_entities):\n",
    "        fl = string[0]\n",
    "        return \"_\"+casearea_to_entity_suffix[case_suffix.replace(\"_\",\"\")][fl]\n",
    "    else:\n",
    "        return \"\"\n",
    "\n",
    "def apply_suffix(string, case_suffix):\n",
    "    if string in ['NS','NA']:\n",
    "        return string\n",
    "    mod_string = \"\"\n",
    "    if \"#\" in string:\n",
    "        strings = string.split(\"#\")\n",
    "        for s in strings:\n",
    "            mod_string += \" #\"+ s.strip() + get_suffix_based_on_case_and_entity_type(s.strip(), case_suffix)\n",
    "        mod_string = mod_string[2:]\n",
    "    else:\n",
    "        mod_string = string + get_suffix_based_on_case_and_entity_type(string, case_suffix)\n",
    "    return mod_string\n",
    "\n",
    "\n",
    "# load all input tables\n",
    "load_sheets = {}\n",
    "if len(partial_load) > 0:\n",
    "    logger.info(f\"Making PARTIAL LOAD with {partial_load}\")\n",
    "    for item in partial_load:\n",
    "        load_sheets[item] = input_sheets[item]\n",
    "else:\n",
    "    load_sheets = input_sheets\n",
    "\n",
    "for key, sheet in load_sheets.items():\n",
    "    logger.info(f\"Calling for {key} with sheet_name {sheet[0]}.\")\n",
    "    tables[key], header_infos[key] = d.load_df_from_gsheet(key,root_sheet_url + sheet[1], sheet[0], fromCache=False, header_in_row=sheet[2], clean=True, fillna=True, cleanByColumn=\"label\", parse_hyperlink_formulas=True, numerize=False)\n",
    "    tables[key] = unify_empty_value(tables[key])\n",
    "    header_infos[key] = unify_empty_value(header_infos[key])\n",
    "\n",
    "    # clean brackets\n",
    "    for c in tables[key].columns:\n",
    "      if \"label\" not in c:\n",
    "        tables[key][c] = tables[key][c].replace(\"\\[\",\"\",  regex=True)\n",
    "        tables[key][c] = tables[key][c].replace(\"\\]\",\"\",  regex=True)\n",
    "\n",
    "\n",
    "    # case study dataset legacyId needs a suffix\n",
    "    if \"_\" in key:\n",
    "        columns = sheet[3]\n",
    "        suffix = \"_\" + key.split(\"_\")[0]\n",
    "        for c in columns:\n",
    "            # tables[key][c] = tables[key][c] + suffix\n",
    "            logger.info(f\"Using {key} and {c}.\")\n",
    "            tables[key][c]  = tables[key][c].apply(lambda item: apply_suffix(item,suffix) if len(str(item)) > 0 else item)\n",
    "\n",
    "            #tables[key].loc[~tables[key][c].isna(), \"c\"] = tables[key][c] + \"_\" + suffix\n",
    "            # df.loc[df[\"gender\"] == \"male\", \"gender\"] = 1\n",
    "            logger.info(f\"{key} For columns {c} the suffix from {suffix} set was glued.\")\n",
    "\n",
    "    # code for legacyId copy and uuid creation\n",
    "    # tables[key]['legacyId'] = tables[key]['id'].copy()\n",
    "    tables[key].insert(2, 'legacyId', tables[key]['id'].copy())\n",
    "\n",
    "    # inform instructive header about the new column and what to do with it\n",
    "    header_infos[key]['legacyId'] = \"\"\n",
    "    header_infos[key].at[3,'legacyId'] = \"inside\"\n",
    "    tables[key]['id'] = tables[key].apply(lambda x: inkimplib.get_uuid_id(), axis=1)  # generate unique id for each row\n",
    "    # make id dictionaries (it is much faster to search for keys there in legacyId>id retrievals)\n",
    "    ed = tables[key][[\"legacyId\",\"id\"]].set_index(\"legacyId\")\n",
    "\n",
    "    if \"_\" in key:   # legacyIds are case-specified, i.e. all locations can be together in one table\n",
    "        key = key.split(\"_\")[1]\n",
    "\n",
    "    if key in  entity_ids:\n",
    "        entity_ids[key] = {**entity_ids[key],**ed[\"id\"].to_dict()}\n",
    "    else:\n",
    "        entity_ids[key] = ed[\"id\"].to_dict()"
   ],
   "metadata": {
    "collapsed": false
   }
  },
  {
   "cell_type": "code",
   "execution_count": 286,
   "outputs": [],
   "source": [
    "# making empty table of values\n",
    "tables['values'] = pd.DataFrame(columns=['id','value','origin'])\n",
    "tables['locations'] = pd.DataFrame(columns=['id','value','origin','legacyId'])\n",
    "tables['events'] = pd.DataFrame(columns=['id','value','origin','legacyId'])\n",
    "tables['props'] = pd.DataFrame(columns=['id','type','type_id','value','value_id','original_field','origin','entityId','legacyId'])\n",
    "tables['relations'] = pd.DataFrame(columns=['id','type','logic','certainty','entityIds','origin'])"
   ],
   "metadata": {
    "collapsed": false
   }
  },
  {
   "cell_type": "code",
   "execution_count": 187,
   "outputs": [
    {
     "data": {
      "text/plain": "                                       id  \\\n0    f0bc8874-7462-4f85-a514-85072e180fd0   \n1    3ee2f71b-5334-4498-8a53-208d19af8198   \n2    eaf86656-6751-4d19-9770-709a1ed09e33   \n3    b52e81ea-1629-49a8-b7ee-e51536b43b09   \n4    2d82ff2a-dea5-4469-8e60-e6e9826698af   \n..                                    ...   \n135  f1112836-e0c8-4f99-ab13-e4ff3243068b   \n136  6900af52-4b31-4004-9a8f-9db4cbf6b038   \n137  25495c6e-e302-4a8a-ac9c-b4ffa5847bd5   \n138  334d7bd6-927f-4e37-ad23-f469a8dd3fd7   \n139  fabd7686-5209-4862-bcc2-4cb9e12e13a3   \n\n                                                 label     legacyId  \\\n0                                            [Rubrica]  E0137_R0008   \n1                                          [Preambula]  E0138_R0008   \n2               Abiuratio et obligatio Andree Saramite  E0001_R0008   \n3                           Dictum suprascripti Andree  E0002_R0008   \n4                   Precepta facta suprascripto Andree  E0003_R0008   \n..                                                 ...          ...   \n135  [Abiuratio Andree Saramite in manibus Mayfredi...  E0131_R0008   \n136                [Admonitio Francisci archiepiscopi]  E0133_R0008   \n137                    [Dictum Carabelle de Toschanis]  E0134_R0008   \n138                  [Dictum Francischi de Garbagnate]  E0135_R0008   \n139               [Dictum fratris Girardi de Novaçano]  E0136_R0008   \n\n    label_language entity_logical_type resource_id document_no  \\\n0            Latin            definite       R0002               \n1            Latin            definite       R0002               \n2            Latin            definite       R0002         I.1   \n3            Latin            definite       R0002         I.2   \n4            Latin            definite       R0002         I.3   \n..             ...                 ...         ...         ...   \n135          Latin            definite       R0002       II.26   \n136          Latin            definite       R0002       III.1   \n137          Latin            definite       R0002      III.19   \n138          Latin            definite       R0002      III.21   \n139          Latin            definite       R0002        IV.5   \n\n    page_range_start page_range_end page_range_concatenated  ...  \\\n0                 52             52                      52  ...   \n1                 52             52                      52  ...   \n2                 52             56                   52-56  ...   \n3                 56             60                   56-60  ...   \n4                 60             60                      60  ...   \n..               ...            ...                     ...  ...   \n135              176            176                     176  ...   \n136              202            202                     202  ...   \n137              248            248                     248  ...   \n138              254            254                     254  ...   \n139              266            268                 266-268  ...   \n\n    marked_as_incriminated_label negat_mentioned_in_margine circumstance5_id  \\\n0                                                                              \n1                                                                              \n2                                                                              \n3                                                         n                    \n4                                                                              \n..                           ...                        ...              ...   \n135                                                                            \n136                                                                            \n137                                                                            \n138                                                                            \n139                                                                            \n\n    circumstance5_label                                               note  \\\n0                                                                            \n1                                                                            \n2                                                                            \n3                        Acknowledges the guilt of Ricadona and Melior ...   \n4                                                                            \n..                  ...                                                ...   \n135                                                                          \n136                                                                          \n137                      \"si ipsa fuisset recordata de predictis, quand...   \n138                                                                          \n139                                                                          \n\n    participant_sex                location_class        editor done checked  \n0                                                  David Zbíral    y          \n1                                                  David Zbíral    y          \n2              male  camera officii inquisitionis  David Zbíral    y          \n3              male  camera officii inquisitionis  David Zbíral    y          \n4              male  camera officii inquisitionis  David Zbíral    y       y  \n..              ...                           ...           ...  ...     ...  \n135            male                                David Zbíral    y          \n136          female                                David Zbíral    y          \n137          female                                David Zbíral    y          \n138            male                                David Zbíral    y          \n139            male                                David Zbíral               \n\n[140 rows x 77 columns]",
      "text/html": "<div>\n<style scoped>\n    .dataframe tbody tr th:only-of-type {\n        vertical-align: middle;\n    }\n\n    .dataframe tbody tr th {\n        vertical-align: top;\n    }\n\n    .dataframe thead th {\n        text-align: right;\n    }\n</style>\n<table border=\"1\" class=\"dataframe\">\n  <thead>\n    <tr style=\"text-align: right;\">\n      <th></th>\n      <th>id</th>\n      <th>label</th>\n      <th>legacyId</th>\n      <th>label_language</th>\n      <th>entity_logical_type</th>\n      <th>resource_id</th>\n      <th>document_no</th>\n      <th>page_range_start</th>\n      <th>page_range_end</th>\n      <th>page_range_concatenated</th>\n      <th>...</th>\n      <th>marked_as_incriminated_label</th>\n      <th>negat_mentioned_in_margine</th>\n      <th>circumstance5_id</th>\n      <th>circumstance5_label</th>\n      <th>note</th>\n      <th>participant_sex</th>\n      <th>location_class</th>\n      <th>editor</th>\n      <th>done</th>\n      <th>checked</th>\n    </tr>\n  </thead>\n  <tbody>\n    <tr>\n      <th>0</th>\n      <td>f0bc8874-7462-4f85-a514-85072e180fd0</td>\n      <td>[Rubrica]</td>\n      <td>E0137_R0008</td>\n      <td>Latin</td>\n      <td>definite</td>\n      <td>R0002</td>\n      <td></td>\n      <td>52</td>\n      <td>52</td>\n      <td>52</td>\n      <td>...</td>\n      <td></td>\n      <td></td>\n      <td></td>\n      <td></td>\n      <td></td>\n      <td></td>\n      <td></td>\n      <td>David Zbíral</td>\n      <td>y</td>\n      <td></td>\n    </tr>\n    <tr>\n      <th>1</th>\n      <td>3ee2f71b-5334-4498-8a53-208d19af8198</td>\n      <td>[Preambula]</td>\n      <td>E0138_R0008</td>\n      <td>Latin</td>\n      <td>definite</td>\n      <td>R0002</td>\n      <td></td>\n      <td>52</td>\n      <td>52</td>\n      <td>52</td>\n      <td>...</td>\n      <td></td>\n      <td></td>\n      <td></td>\n      <td></td>\n      <td></td>\n      <td></td>\n      <td></td>\n      <td>David Zbíral</td>\n      <td>y</td>\n      <td></td>\n    </tr>\n    <tr>\n      <th>2</th>\n      <td>eaf86656-6751-4d19-9770-709a1ed09e33</td>\n      <td>Abiuratio et obligatio Andree Saramite</td>\n      <td>E0001_R0008</td>\n      <td>Latin</td>\n      <td>definite</td>\n      <td>R0002</td>\n      <td>I.1</td>\n      <td>52</td>\n      <td>56</td>\n      <td>52-56</td>\n      <td>...</td>\n      <td></td>\n      <td></td>\n      <td></td>\n      <td></td>\n      <td></td>\n      <td>male</td>\n      <td>camera officii inquisitionis</td>\n      <td>David Zbíral</td>\n      <td>y</td>\n      <td></td>\n    </tr>\n    <tr>\n      <th>3</th>\n      <td>b52e81ea-1629-49a8-b7ee-e51536b43b09</td>\n      <td>Dictum suprascripti Andree</td>\n      <td>E0002_R0008</td>\n      <td>Latin</td>\n      <td>definite</td>\n      <td>R0002</td>\n      <td>I.2</td>\n      <td>56</td>\n      <td>60</td>\n      <td>56-60</td>\n      <td>...</td>\n      <td></td>\n      <td>n</td>\n      <td></td>\n      <td></td>\n      <td>Acknowledges the guilt of Ricadona and Melior ...</td>\n      <td>male</td>\n      <td>camera officii inquisitionis</td>\n      <td>David Zbíral</td>\n      <td>y</td>\n      <td></td>\n    </tr>\n    <tr>\n      <th>4</th>\n      <td>2d82ff2a-dea5-4469-8e60-e6e9826698af</td>\n      <td>Precepta facta suprascripto Andree</td>\n      <td>E0003_R0008</td>\n      <td>Latin</td>\n      <td>definite</td>\n      <td>R0002</td>\n      <td>I.3</td>\n      <td>60</td>\n      <td>60</td>\n      <td>60</td>\n      <td>...</td>\n      <td></td>\n      <td></td>\n      <td></td>\n      <td></td>\n      <td></td>\n      <td>male</td>\n      <td>camera officii inquisitionis</td>\n      <td>David Zbíral</td>\n      <td>y</td>\n      <td>y</td>\n    </tr>\n    <tr>\n      <th>...</th>\n      <td>...</td>\n      <td>...</td>\n      <td>...</td>\n      <td>...</td>\n      <td>...</td>\n      <td>...</td>\n      <td>...</td>\n      <td>...</td>\n      <td>...</td>\n      <td>...</td>\n      <td>...</td>\n      <td>...</td>\n      <td>...</td>\n      <td>...</td>\n      <td>...</td>\n      <td>...</td>\n      <td>...</td>\n      <td>...</td>\n      <td>...</td>\n      <td>...</td>\n      <td>...</td>\n    </tr>\n    <tr>\n      <th>135</th>\n      <td>f1112836-e0c8-4f99-ab13-e4ff3243068b</td>\n      <td>[Abiuratio Andree Saramite in manibus Mayfredi...</td>\n      <td>E0131_R0008</td>\n      <td>Latin</td>\n      <td>definite</td>\n      <td>R0002</td>\n      <td>II.26</td>\n      <td>176</td>\n      <td>176</td>\n      <td>176</td>\n      <td>...</td>\n      <td></td>\n      <td></td>\n      <td></td>\n      <td></td>\n      <td></td>\n      <td>male</td>\n      <td></td>\n      <td>David Zbíral</td>\n      <td>y</td>\n      <td></td>\n    </tr>\n    <tr>\n      <th>136</th>\n      <td>6900af52-4b31-4004-9a8f-9db4cbf6b038</td>\n      <td>[Admonitio Francisci archiepiscopi]</td>\n      <td>E0133_R0008</td>\n      <td>Latin</td>\n      <td>definite</td>\n      <td>R0002</td>\n      <td>III.1</td>\n      <td>202</td>\n      <td>202</td>\n      <td>202</td>\n      <td>...</td>\n      <td></td>\n      <td></td>\n      <td></td>\n      <td></td>\n      <td></td>\n      <td>female</td>\n      <td></td>\n      <td>David Zbíral</td>\n      <td>y</td>\n      <td></td>\n    </tr>\n    <tr>\n      <th>137</th>\n      <td>25495c6e-e302-4a8a-ac9c-b4ffa5847bd5</td>\n      <td>[Dictum Carabelle de Toschanis]</td>\n      <td>E0134_R0008</td>\n      <td>Latin</td>\n      <td>definite</td>\n      <td>R0002</td>\n      <td>III.19</td>\n      <td>248</td>\n      <td>248</td>\n      <td>248</td>\n      <td>...</td>\n      <td></td>\n      <td></td>\n      <td></td>\n      <td></td>\n      <td>\"si ipsa fuisset recordata de predictis, quand...</td>\n      <td>female</td>\n      <td></td>\n      <td>David Zbíral</td>\n      <td>y</td>\n      <td></td>\n    </tr>\n    <tr>\n      <th>138</th>\n      <td>334d7bd6-927f-4e37-ad23-f469a8dd3fd7</td>\n      <td>[Dictum Francischi de Garbagnate]</td>\n      <td>E0135_R0008</td>\n      <td>Latin</td>\n      <td>definite</td>\n      <td>R0002</td>\n      <td>III.21</td>\n      <td>254</td>\n      <td>254</td>\n      <td>254</td>\n      <td>...</td>\n      <td></td>\n      <td></td>\n      <td></td>\n      <td></td>\n      <td></td>\n      <td>male</td>\n      <td></td>\n      <td>David Zbíral</td>\n      <td>y</td>\n      <td></td>\n    </tr>\n    <tr>\n      <th>139</th>\n      <td>fabd7686-5209-4862-bcc2-4cb9e12e13a3</td>\n      <td>[Dictum fratris Girardi de Novaçano]</td>\n      <td>E0136_R0008</td>\n      <td>Latin</td>\n      <td>definite</td>\n      <td>R0002</td>\n      <td>IV.5</td>\n      <td>266</td>\n      <td>268</td>\n      <td>266-268</td>\n      <td>...</td>\n      <td></td>\n      <td></td>\n      <td></td>\n      <td></td>\n      <td></td>\n      <td>male</td>\n      <td></td>\n      <td>David Zbíral</td>\n      <td></td>\n      <td></td>\n    </tr>\n  </tbody>\n</table>\n<p>140 rows × 77 columns</p>\n</div>"
     },
     "execution_count": 187,
     "metadata": {},
     "output_type": "execute_result"
    }
   ],
   "source": [
    "tables['R0008_events']"
   ],
   "metadata": {
    "collapsed": false
   }
  },
  {
   "cell_type": "code",
   "execution_count": 23,
   "outputs": [
    {
     "data": {
      "text/plain": "       id   label label_language entity_logical_type resource_id document_no  \\\n0                                                                              \n1                                                                              \n2                                                                              \n3  inside  inside         inside              inside     discard     discard   \n\n  page_range_starts page_range_ends page_range_concatenated        class_id  \\\n0                                                                             \n1                                                        id              id   \n2                                                     R0034  Classification   \n3           discard         discard          reference_part        relation   \n\n   ... accused_label mentioned_id mentioned_label  denied_id denied_label  \\\n0  ...                                                                      \n1  ...                         id                         id                \n2  ...                      C2924                      C3403                \n3  ...       discard    propvalue         discard  propvalue      discard   \n\n                                                note   editor     done  \\\n0  Save as the multi-note (if \"#\" is present, sep...   audits            \n1                                                                        \n2                                               note                     \n3                                             inside  special  discard   \n\n   checked legacyId  \n0                    \n1                    \n2                    \n3  discard   inside  \n\n[4 rows x 62 columns]",
      "text/html": "<div>\n<style scoped>\n    .dataframe tbody tr th:only-of-type {\n        vertical-align: middle;\n    }\n\n    .dataframe tbody tr th {\n        vertical-align: top;\n    }\n\n    .dataframe thead th {\n        text-align: right;\n    }\n</style>\n<table border=\"1\" class=\"dataframe\">\n  <thead>\n    <tr style=\"text-align: right;\">\n      <th></th>\n      <th>id</th>\n      <th>label</th>\n      <th>label_language</th>\n      <th>entity_logical_type</th>\n      <th>resource_id</th>\n      <th>document_no</th>\n      <th>page_range_starts</th>\n      <th>page_range_ends</th>\n      <th>page_range_concatenated</th>\n      <th>class_id</th>\n      <th>...</th>\n      <th>accused_label</th>\n      <th>mentioned_id</th>\n      <th>mentioned_label</th>\n      <th>denied_id</th>\n      <th>denied_label</th>\n      <th>note</th>\n      <th>editor</th>\n      <th>done</th>\n      <th>checked</th>\n      <th>legacyId</th>\n    </tr>\n  </thead>\n  <tbody>\n    <tr>\n      <th>0</th>\n      <td></td>\n      <td></td>\n      <td></td>\n      <td></td>\n      <td></td>\n      <td></td>\n      <td></td>\n      <td></td>\n      <td></td>\n      <td></td>\n      <td>...</td>\n      <td></td>\n      <td></td>\n      <td></td>\n      <td></td>\n      <td></td>\n      <td>Save as the multi-note (if \"#\" is present, sep...</td>\n      <td>audits</td>\n      <td></td>\n      <td></td>\n      <td></td>\n    </tr>\n    <tr>\n      <th>1</th>\n      <td></td>\n      <td></td>\n      <td></td>\n      <td></td>\n      <td></td>\n      <td></td>\n      <td></td>\n      <td></td>\n      <td>id</td>\n      <td>id</td>\n      <td>...</td>\n      <td></td>\n      <td>id</td>\n      <td></td>\n      <td>id</td>\n      <td></td>\n      <td></td>\n      <td></td>\n      <td></td>\n      <td></td>\n      <td></td>\n    </tr>\n    <tr>\n      <th>2</th>\n      <td></td>\n      <td></td>\n      <td></td>\n      <td></td>\n      <td></td>\n      <td></td>\n      <td></td>\n      <td></td>\n      <td>R0034</td>\n      <td>Classification</td>\n      <td>...</td>\n      <td></td>\n      <td>C2924</td>\n      <td></td>\n      <td>C3403</td>\n      <td></td>\n      <td>note</td>\n      <td></td>\n      <td></td>\n      <td></td>\n      <td></td>\n    </tr>\n    <tr>\n      <th>3</th>\n      <td>inside</td>\n      <td>inside</td>\n      <td>inside</td>\n      <td>inside</td>\n      <td>discard</td>\n      <td>discard</td>\n      <td>discard</td>\n      <td>discard</td>\n      <td>reference_part</td>\n      <td>relation</td>\n      <td>...</td>\n      <td>discard</td>\n      <td>propvalue</td>\n      <td>discard</td>\n      <td>propvalue</td>\n      <td>discard</td>\n      <td>inside</td>\n      <td>special</td>\n      <td>discard</td>\n      <td>discard</td>\n      <td>inside</td>\n    </tr>\n  </tbody>\n</table>\n<p>4 rows × 62 columns</p>\n</div>"
     },
     "execution_count": 23,
     "metadata": {},
     "output_type": "execute_result"
    }
   ],
   "source": [
    "header_infos['R0082_events']"
   ],
   "metadata": {
    "collapsed": false
   }
  },
  {
   "cell_type": "code",
   "execution_count": 341,
   "outputs": [],
   "source": [
    "# Save a dictionary into a pickle file.\n",
    "import dill\n",
    "pickle.dump( tables, open( \"./data/import-input-tables-canonical.pickle\", \"wb\" ) )\n",
    "pickle.dump( header_infos, open( \"./data/import-input-headers-canonical.pickle\", \"wb\" ) )\n",
    "pickle.dump( dh.entity_ids, open( \"./data/import-input-entity_ids-canonical.pickle\", \"wb\" ) )"
   ],
   "metadata": {
    "collapsed": false
   }
  },
  {
   "cell_type": "code",
   "execution_count": null,
   "outputs": [],
   "source": [
    "# load from pickle file\n",
    "# tables = pickle.load( open( \"./data/import-input-tables.pickle\", \"rb\" ) )\n",
    "# header_infos = pickle.load( open( \"./data/import-input-headers.pickle\", \"rb\" ) )\n",
    "# entity_ids = pickle.load( open( \"./data/import-input-entity_ids.pickle\", \"rb\" ) )"
   ],
   "metadata": {
    "collapsed": false
   }
  },
  {
   "cell_type": "code",
   "execution_count": 12,
   "outputs": [
    {
     "data": {
      "text/plain": "dict_keys(['texts', 'manuscripts', 'resources', 'actions', 'concepts', 'persons', 'locations', 'events', 'groups'])"
     },
     "execution_count": 12,
     "metadata": {},
     "output_type": "execute_result"
    }
   ],
   "source": [
    "entity_ids.keys()"
   ],
   "metadata": {
    "collapsed": false
   }
  },
  {
   "cell_type": "code",
   "execution_count": 20,
   "outputs": [],
   "source": [
    "# manual corrections in the input data"
   ],
   "metadata": {
    "collapsed": false
   }
  },
  {
   "cell_type": "markdown",
   "source": [
    "### Responsible editors\n",
    "\n",
    "#### Data\n",
    "Only concepts have \"editors\" filled.\n",
    "\n",
    "#### Specification\n",
    "\n",
    "Only entities have audits, i.e. the prop object, the ref object don't. (Could be wrong?)\n",
    "\n",
    "**Rationale:**  Each entity will have 2 audit creation records. One with the user \"import\", second with the user \"responsible editor.\n",
    "\n",
    "Implementaions possiblities:\n",
    "  - make the audits during the parsing : the way\n",
    "  - make the audits afer the parsing is done (for secondary created entities, I will not have the context, and will be problem to find a responsible editor\n",
    "  -"
   ],
   "metadata": {
    "collapsed": false
   }
  },
  {
   "cell_type": "code",
   "execution_count": 287,
   "outputs": [],
   "source": [
    "# the names in the input tables  vs their user ids\n",
    "# the users are imported through the user.json file\n",
    "\n",
    "#David Zbíral\tdavid.zbiral@mail.muni.cz\n",
    "#Robert Shaw\trobert.shaw@mail.muni.cz\n",
    "#Jan Král\tkral.jan@mail.muni.cz\n",
    "#Reima Välimäki\treima.valimaki@gmail.com\n",
    "#Lidia Hinz-Wieczorek\tlidhin93@gmail.com\n",
    "#Davor Salihović\tdavor.salihovic@mail.muni.cz\n",
    "#Katia Riccardo\tkatia.riccardo@mail.muni.cz\n",
    "#Larissa de Freitas Lyth\tlarissa.lyth@mail.muni.cz\n",
    "#Larissa de Freitas Lyth\n",
    "\n",
    "editors = {\"import\":\"0\", \"David Zbíral\":\"100\", \"Robert Shaw\":\"101\", \"Davor Salihović\":\"102\", \"Katia Riccardo\":\"103\", \"Jan Král\":\"104\", \"Reima Välimäki\":\"105\",\"Lidia Hinz-Wieczorek\":\"106\", \"Larissa de Freitas Lyth\":\"107\"}"
   ],
   "metadata": {
    "collapsed": false
   }
  },
  {
   "cell_type": "markdown",
   "source": [
    "# Run encapsulated"
   ],
   "metadata": {
    "collapsed": false
   }
  },
  {
   "cell_type": "code",
   "execution_count": 9,
   "outputs": [],
   "source": [
    "# load clean input from pickle file\n",
    "tables = pickle.load( open( \"./data/import-input-tables.pickle\", \"rb\" ) )\n",
    "header_infos = pickle.load( open( \"./data/import-input-headers.pickle\", \"rb\" ) )\n",
    "entity_ids = pickle.load( open( \"./data/import-input-entity_ids.pickle\", \"rb\" ) )"
   ],
   "metadata": {
    "collapsed": false
   }
  },
  {
   "cell_type": "code",
   "execution_count": 37,
   "outputs": [
    {
     "name": "stderr",
     "output_type": "stream",
     "text": [
      "2023-01-13 20:05:56,446 INFO Start\n",
      "2023-01-13 20:05:56,448 INFO TEXTS Uncertain parsing instructions in 0 columns: .\n",
      "2023-01-13 20:05:56,469 INFO TEXTS 64 columns have been dropped (discard:64, unknown:0: []). Table now has 52 columns, inside:9,propvalue:14, special:5, proptype: 4, proptype_2nd: 0, dependent:0, reference_part:0. Originally 116 columns.\n",
      "2023-01-13 20:05:56,471 INFO ACTIONS Uncertain parsing instructions in 0 columns: .\n",
      "2023-01-13 20:05:56,496 INFO ACTIONS 63 columns have been dropped (discard:63, unknown:0: []). Table now has 25 columns, inside:14,propvalue:0, special:1, proptype: 0, proptype_2nd: 0, dependent:0, reference_part:0. Originally 88 columns.\n",
      "2023-01-13 20:05:56,498 INFO MANUSCRIPTS Uncertain parsing instructions in 0 columns: .\n",
      "2023-01-13 20:05:56,508 INFO MANUSCRIPTS 35 columns have been dropped (discard:35, unknown:0: []). Table now has 31 columns, inside:8,propvalue:8, special:4, proptype: 4, proptype_2nd: 0, dependent:0, reference_part:0. Originally 66 columns.\n",
      "2023-01-13 20:05:56,509 INFO RESOURCES Uncertain parsing instructions in 0 columns: .\n",
      "2023-01-13 20:05:56,514 INFO RESOURCES 16 columns have been dropped (discard:16, unknown:0: []). Table now has 11 columns, inside:7,propvalue:2, special:1, proptype: 0, proptype_2nd: 0, dependent:0, reference_part:0. Originally 27 columns.\n",
      "2023-01-13 20:05:56,516 INFO CONCEPTS Uncertain parsing instructions in 0 columns: .\n",
      "2023-01-13 20:05:56,589 INFO CONCEPTS 58 columns have been dropped (discard:58, unknown:0: []). Table now has 17 columns, inside:8,propvalue:0, special:1, proptype: 0, proptype_2nd: 0, dependent:0, reference_part:0. Originally 75 columns.\n",
      "2023-01-13 20:05:56,589 INFO Starting to parse texts.\n",
      "2023-01-13 20:06:11,895 INFO Starting to parse actions.\n",
      "2023-01-13 20:06:31,310 INFO Starting to parse manuscripts.\n",
      "2023-01-13 20:06:35,316 INFO About ??? : There is Merville???, Bibliothèque du Château de Merville???,  in column label in row 38.\n",
      "2023-01-13 20:06:35,330 INFO About ??? : There is Merville???, Bibliothèque du Château de Merville??? in column repository_label in row 38.\n",
      "2023-01-13 20:06:35,436 INFO About ??? : There is Creation of Merville???, Bibliothèque du Château de Merville???,  in column creation_event_label in row 38.\n",
      "2023-01-13 20:06:36,235 INFO About ??? : There is Brno, Moravská zemská knihovna, ??? in column label in row 44.\n",
      "2023-01-13 20:06:36,274 INFO About ??? : There is ??? in column subcollection_and_shelf_number_concatenated in row 44.\n",
      "2023-01-13 20:06:36,375 INFO About ??? : There is Creation of Brno, Moravská zemská knihovna, ??? in column creation_event_label in row 44.\n",
      "2023-01-13 20:06:48,997 INFO Starting to parse resources.\n",
      "2023-01-13 20:06:51,753 INFO Starting to parse concepts.\n",
      "2023-01-13 20:08:42,174 INFO End\n"
     ]
    }
   ],
   "source": [
    "# dh contain input data, but also generated data (aka generated resource) and additional output (relatins, audits ...)\n",
    "dh = inkimplib.DataHolder() # singleton\n",
    "dh.pass_data(tables, header_infos, entity_ids, table_to_entity, editors)\n",
    "dh.reset_generated_collection()"
   ],
   "metadata": {
    "collapsed": false
   }
  },
  {
   "cell_type": "code",
   "execution_count": 259,
   "outputs": [],
   "source": [
    "dh.reset_generated_collection()"
   ],
   "metadata": {
    "collapsed": false
   }
  },
  {
   "cell_type": "code",
   "execution_count": 260,
   "outputs": [
    {
     "name": "stderr",
     "output_type": "stream",
     "text": [
      "2023-01-21 16:47:46,684 INFO Start\n",
      "2023-01-21 16:47:46,687 INFO TEXTS Uncertain parsing instructions in 0 columns: .\n",
      "2023-01-21 16:47:46,707 INFO TEXTS 64 columns have been dropped (discard:64, unknown:0: []). Table now has 52 columns, inside:9,propvalue:14, special:5, proptype: 4, proptype_2nd: 0, dependent:0, reference_part:0. Originally 116 columns.\n",
      "2023-01-21 16:47:46,710 INFO ACTIONS Uncertain parsing instructions in 0 columns: .\n",
      "2023-01-21 16:47:46,733 INFO ACTIONS 63 columns have been dropped (discard:63, unknown:0: []). Table now has 25 columns, inside:14,propvalue:0, special:1, proptype: 0, proptype_2nd: 0, dependent:0, reference_part:2. Originally 88 columns.\n",
      "2023-01-21 16:47:46,735 INFO MANUSCRIPTS Uncertain parsing instructions in 0 columns: .\n",
      "2023-01-21 16:47:46,746 INFO MANUSCRIPTS 35 columns have been dropped (discard:35, unknown:0: []). Table now has 31 columns, inside:8,propvalue:8, special:4, proptype: 4, proptype_2nd: 0, dependent:0, reference_part:0. Originally 66 columns.\n",
      "2023-01-21 16:47:46,748 INFO RESOURCES Uncertain parsing instructions in 0 columns: .\n",
      "2023-01-21 16:47:46,753 INFO RESOURCES 16 columns have been dropped (discard:16, unknown:0: []). Table now has 11 columns, inside:7,propvalue:2, special:1, proptype: 0, proptype_2nd: 0, dependent:0, reference_part:0. Originally 27 columns.\n",
      "2023-01-21 16:47:46,755 INFO CONCEPTS Uncertain parsing instructions in 0 columns: .\n",
      "2023-01-21 16:47:46,825 INFO CONCEPTS 58 columns have been dropped (discard:58, unknown:0: []). Table now has 17 columns, inside:8,propvalue:0, special:1, proptype: 0, proptype_2nd: 0, dependent:0, reference_part:2. Originally 75 columns.\n",
      "2023-01-21 16:47:46,826 INFO Starting to parse texts.\n",
      "2023-01-21 16:47:46,901 INFO Processing time relation of territory creation event. ('C1755', '1291')\n",
      "2023-01-21 16:47:46,916 INFO Processing time relation of territory creation event. ('C1756', '1291')\n",
      "2023-01-21 16:47:46,930 INFO Processing time relation of territory creation event. ('C1758', '1310')\n",
      "2023-01-21 16:47:46,947 INFO Processing time relation of territory creation event. ('C1757', '1310')\n",
      "2023-01-21 16:47:49,141 INFO Processing time relation of territory creation event. ('C1755', '1368')\n",
      "2023-01-21 16:47:49,157 INFO Processing time relation of territory creation event. ('C1757', '1370')\n",
      "2023-01-21 16:47:49,322 INFO Processing time relation of territory creation event. ('C1755', '1308')\n",
      "2023-01-21 16:47:49,336 INFO Processing time relation of territory creation event. ('C1756', '1308')\n",
      "2023-01-21 16:47:49,350 INFO Processing time relation of territory creation event. ('C1758', '1323')\n",
      "2023-01-21 16:47:49,364 INFO Processing time relation of territory creation event. ('C1757', '1323')\n",
      "2023-01-21 16:47:49,638 INFO Processing time relation of territory creation event. ('C1742', '1016')\n",
      "2023-01-21 16:47:50,831 INFO Processing time relation of territory creation event. ('C1755', '1365')\n",
      "2023-01-21 16:47:50,851 INFO Processing time relation of territory creation event. ('C1757', '1367')\n",
      "2023-01-21 16:47:50,934 INFO Processing time relation of territory creation event. ('C1742', '1243')\n",
      "2023-01-21 16:47:51,041 INFO Processing time relation of territory creation event. ('C1742', '1279')\n",
      "2023-01-21 16:47:51,367 INFO Processing time relation of territory creation event. ('C1755', '1030')\n",
      "2023-01-21 16:47:51,380 INFO Processing time relation of territory creation event. ('C1757', '1046')\n",
      "2023-01-21 16:47:51,450 INFO Processing time relation of territory creation event. ('C1755', '1254')\n",
      "2023-01-21 16:47:51,464 INFO Processing time relation of territory creation event. ('C1756', '1254')\n",
      "2023-01-21 16:47:51,479 INFO Processing time relation of territory creation event. ('C1758', '1256')\n",
      "2023-01-21 16:47:51,493 INFO Processing time relation of territory creation event. ('C1757', '1256')\n",
      "2023-01-21 16:47:51,619 INFO Processing time relation of territory creation event. ('C1756', '1266')\n",
      "2023-01-21 16:47:51,634 INFO Processing time relation of territory creation event. ('C1758', '1270')\n",
      "2023-01-21 16:47:51,726 INFO Processing time relation of territory creation event. ('C1756', '1256')\n",
      "2023-01-21 16:47:52,489 INFO Processing time relation of territory creation event. ('C1755', '1030')\n",
      "2023-01-21 16:47:52,504 INFO Processing time relation of territory creation event. ('C1757', '1050')\n",
      "2023-01-21 16:47:52,737 INFO Processing time relation of territory creation event. ('C1742', '1321')\n",
      "2023-01-21 16:47:53,034 INFO Processing time relation of territory creation event. ('C1755', '1049')\n",
      "2023-01-21 16:47:53,048 INFO Processing time relation of territory creation event. ('C1756', '1049')\n",
      "2023-01-21 16:47:53,559 INFO Processing time relation of territory creation event. ('C1755', '1150')\n",
      "2023-01-21 16:47:53,580 INFO Processing time relation of territory creation event. ('C1757', '1200')\n",
      "2023-01-21 16:47:53,731 INFO Processing time relation of territory creation event. ('C1755', '1350')\n",
      "2023-01-21 16:47:53,745 INFO Processing time relation of territory creation event. ('C1757', '1540')\n",
      "2023-01-21 16:47:53,836 INFO Processing time relation of territory creation event. ('C1755', '1350')\n",
      "2023-01-21 16:47:53,851 INFO Processing time relation of territory creation event. ('C1757', '1540')\n",
      "2023-01-21 16:47:53,989 INFO Processing time relation of territory creation event. ('C1755', '1350')\n",
      "2023-01-21 16:47:54,003 INFO Processing time relation of territory creation event. ('C1757', '1540')\n",
      "2023-01-21 16:47:54,095 INFO Processing time relation of territory creation event. ('C1755', '1350')\n",
      "2023-01-21 16:47:54,109 INFO Processing time relation of territory creation event. ('C1757', '1425')\n",
      "2023-01-21 16:47:54,226 INFO Processing time relation of territory creation event. ('C1755', '1350')\n",
      "2023-01-21 16:47:54,241 INFO Processing time relation of territory creation event. ('C1757', '1425')\n",
      "2023-01-21 16:47:54,414 INFO Processing time relation of territory creation event. ('C1755', '1475')\n",
      "2023-01-21 16:47:54,429 INFO Processing time relation of territory creation event. ('C1757', '1525')\n",
      "2023-01-21 16:47:54,522 INFO Processing time relation of territory creation event. ('C1755', '1475')\n",
      "2023-01-21 16:47:54,536 INFO Processing time relation of territory creation event. ('C1757', '1525')\n",
      "2023-01-21 16:47:54,649 INFO Processing time relation of territory creation event. ('C1755', '1475')\n",
      "2023-01-21 16:47:54,664 INFO Processing time relation of territory creation event. ('C1757', '1525')\n",
      "2023-01-21 16:47:54,797 INFO Processing time relation of territory creation event. ('C1755', '1475')\n",
      "2023-01-21 16:47:54,812 INFO Processing time relation of territory creation event. ('C1757', '1525')\n",
      "2023-01-21 16:47:54,903 INFO Processing time relation of territory creation event. ('C1755', '1475')\n",
      "2023-01-21 16:47:54,918 INFO Processing time relation of territory creation event. ('C1757', '1525')\n",
      "2023-01-21 16:47:55,031 INFO Processing time relation of territory creation event. ('C1755', '1475')\n",
      "2023-01-21 16:47:55,045 INFO Processing time relation of territory creation event. ('C1757', '1525')\n",
      "2023-01-21 16:47:55,159 INFO Processing time relation of territory creation event. ('C1755', '1365')\n",
      "2023-01-21 16:47:55,173 INFO Processing time relation of territory creation event. ('C1757', '1367')\n",
      "2023-01-21 16:47:55,241 INFO Processing time relation of territory creation event. ('C1742', '1511')\n",
      "2023-01-21 16:47:55,312 INFO Processing time relation of territory creation event. ('C1755', '1368')\n",
      "2023-01-21 16:47:55,327 INFO Processing time relation of territory creation event. ('C1757', '1370')\n",
      "2023-01-21 16:47:55,434 INFO Processing time relation of territory creation event. ('C1755', '1370')\n",
      "2023-01-21 16:47:55,448 INFO Processing time relation of territory creation event. ('C1757', '1378')\n",
      "2023-01-21 16:47:55,533 INFO Processing time relation of territory creation event. ('C1755', '1365')\n",
      "2023-01-21 16:47:55,547 INFO Processing time relation of territory creation event. ('C1757', '1367')\n",
      "2023-01-21 16:47:55,646 INFO Processing time relation of territory creation event. ('C1755', '1365')\n",
      "2023-01-21 16:47:55,660 INFO Processing time relation of territory creation event. ('C1757', '1367')\n",
      "2023-01-21 16:47:55,727 INFO Processing time relation of territory creation event. ('C1755', '1368')\n",
      "2023-01-21 16:47:55,742 INFO Processing time relation of territory creation event. ('C1757', '1370')\n",
      "2023-01-21 16:47:55,805 INFO Processing time relation of territory creation event. ('C1755', '1365')\n",
      "2023-01-21 16:47:55,820 INFO Processing time relation of territory creation event. ('C1757', '1367')\n",
      "2023-01-21 16:47:55,889 INFO Processing time relation of territory creation event. ('C1755', '1335')\n",
      "2023-01-21 16:47:55,903 INFO Processing time relation of territory creation event. ('C1757', '1360')\n",
      "2023-01-21 16:47:56,026 INFO Processing time relation of territory creation event. ('C1755', '1013')\n",
      "2023-01-21 16:47:56,042 INFO Processing time relation of territory creation event. ('C1757', '1020')\n",
      "2023-01-21 16:47:56,181 INFO Processing time relation of territory creation event. ('C1755', '1350')\n",
      "2023-01-21 16:47:56,196 INFO Processing time relation of territory creation event. ('C1757', '1425')\n",
      "2023-01-21 16:47:56,318 INFO Processing time relation of territory creation event. ('C1755', '1350')\n",
      "2023-01-21 16:47:56,332 INFO Processing time relation of territory creation event. ('C1757', '1425')\n",
      "2023-01-21 16:47:56,455 INFO Processing time relation of territory creation event. ('C1755', '1350')\n",
      "2023-01-21 16:47:56,471 INFO Processing time relation of territory creation event. ('C1757', '1425')\n",
      "2023-01-21 16:47:56,590 INFO Processing time relation of territory creation event. ('C1755', '1350')\n",
      "2023-01-21 16:47:56,605 INFO Processing time relation of territory creation event. ('C1757', '1425')\n",
      "2023-01-21 16:47:56,776 INFO Processing time relation of territory creation event. ('C1742', '1300')\n",
      "2023-01-21 16:47:56,847 INFO Processing time relation of territory creation event. ('C1755', '1286')\n",
      "2023-01-21 16:47:56,861 INFO Processing time relation of territory creation event. ('C1756', '1286')\n",
      "2023-01-21 16:47:56,876 INFO Processing time relation of territory creation event. ('C1758', '1288')\n",
      "2023-01-21 16:47:56,890 INFO Processing time relation of territory creation event. ('C1757', '1288')\n",
      "2023-01-21 16:47:57,088 INFO Processing time relation of territory creation event. ('C1778', '1231')\n",
      "2023-01-21 16:47:57,102 INFO Processing time relation of territory creation event. ('C0591', '1520')\n",
      "2023-01-21 16:47:57,177 INFO Processing time relation of territory creation event. ('C1743', '1280')\n",
      "2023-01-21 16:47:57,191 INFO Processing time relation of territory creation event. ('C1744', '1302')\n",
      "2023-01-21 16:47:57,260 INFO Processing time relation of territory creation event. ('C1742', '1424')\n",
      "2023-01-21 16:47:57,452 INFO Processing time relation of territory creation event. ('C1755', '1241')\n",
      "2023-01-21 16:47:57,467 INFO Processing time relation of territory creation event. ('C1756', '1241')\n",
      "2023-01-21 16:47:57,482 INFO Processing time relation of territory creation event. ('C1758', '1242')\n",
      "2023-01-21 16:47:57,497 INFO Processing time relation of territory creation event. ('C1757', '1242')\n",
      "2023-01-21 16:47:57,608 INFO Processing time relation of territory creation event. ('C1742', '1399')\n",
      "2023-01-21 16:47:57,698 INFO Processing time relation of territory creation event. ('C1742', '1430')\n",
      "2023-01-21 16:47:57,781 INFO Processing time relation of territory creation event. ('C1755', '1234')\n",
      "2023-01-21 16:47:57,795 INFO Processing time relation of territory creation event. ('C1756', '1235')\n",
      "2023-01-21 16:47:57,809 INFO Processing time relation of territory creation event. ('C1758', '1234')\n",
      "2023-01-21 16:47:57,823 INFO Processing time relation of territory creation event. ('C1757', '1235')\n",
      "2023-01-21 16:47:57,874 INFO Checking for existing rentity with label=Douais, 1900,dissinet_repository_url=https://www.zotero.org/groups/446972/david_zbiral_bibliography/items/itemKey/9WRY2YI7/.\n",
      "2023-01-21 16:47:57,874 INFO The asnwer: True\n",
      "2023-01-21 16:47:57,994 INFO Processing time relation of territory creation event. ('C1755', '1395')\n",
      "2023-01-21 16:47:58,008 INFO Processing time relation of territory creation event. ('C1756', '1395')\n",
      "2023-01-21 16:47:58,023 INFO Processing time relation of territory creation event. ('C1758', '1396')\n",
      "2023-01-21 16:47:58,038 INFO Processing time relation of territory creation event. ('C1757', '1396')\n",
      "2023-01-21 16:47:58,152 INFO Processing time relation of territory creation event. ('C1755', '1335')\n",
      "2023-01-21 16:47:58,166 INFO Processing time relation of territory creation event. ('C1756', '1335')\n",
      "2023-01-21 16:47:58,300 INFO Processing time relation of territory creation event. ('C1755', '1387')\n",
      "2023-01-21 16:47:58,315 INFO Processing time relation of territory creation event. ('C1756', '1387')\n",
      "2023-01-21 16:47:58,330 INFO Processing time relation of territory creation event. ('C1758', '1388')\n",
      "2023-01-21 16:47:58,345 INFO Processing time relation of territory creation event. ('C1757', '1388')\n",
      "2023-01-21 16:47:58,492 INFO Processing time relation of territory creation event. ('C1755', '1373')\n",
      "2023-01-21 16:47:58,507 INFO Processing time relation of territory creation event. ('C1756', '1373')\n",
      "2023-01-21 16:47:58,523 INFO Processing time relation of territory creation event. ('C1758', '1388')\n",
      "2023-01-21 16:47:58,538 INFO Processing time relation of territory creation event. ('C1757', '1388')\n",
      "2023-01-21 16:47:58,655 INFO Processing time relation of territory creation event. ('C1742', '1262')\n",
      "2023-01-21 16:47:58,810 INFO Processing time relation of territory creation event. ('C1750', '1300-07-18')\n",
      "2023-01-21 16:47:58,825 INFO Processing time relation of territory creation event. ('C1752', '1302-02-12')\n",
      "2023-01-21 16:47:58,952 INFO Processing time relation of territory creation event. ('C1755', '1307')\n",
      "2023-01-21 16:47:58,966 INFO Processing time relation of territory creation event. ('C1756', '1307')\n",
      "2023-01-21 16:47:58,984 INFO Processing time relation of territory creation event. ('C1758', '1316')\n",
      "2023-01-21 16:47:58,999 INFO Processing time relation of territory creation event. ('C1757', '1316')\n",
      "2023-01-21 16:47:59,139 INFO Processing time relation of territory creation event. ('C1755', '1323')\n",
      "2023-01-21 16:47:59,153 INFO Processing time relation of territory creation event. ('C1756', '1323')\n",
      "2023-01-21 16:47:59,169 INFO Processing time relation of territory creation event. ('C1758', '1327')\n",
      "2023-01-21 16:47:59,184 INFO Processing time relation of territory creation event. ('C1757', '1327')\n",
      "2023-01-21 16:47:59,314 INFO Processing time relation of territory creation event. ('C1755', '1243')\n",
      "2023-01-21 16:47:59,332 INFO Processing time relation of territory creation event. ('C1756', '1243')\n",
      "2023-01-21 16:47:59,350 INFO Processing time relation of territory creation event. ('C1758', '1244')\n",
      "2023-01-21 16:47:59,364 INFO Processing time relation of territory creation event. ('C1757', '1244')\n",
      "2023-01-21 16:47:59,516 INFO Processing time relation of territory creation event. ('C1755', '1328')\n",
      "2023-01-21 16:47:59,531 INFO Processing time relation of territory creation event. ('C1756', '1328')\n",
      "2023-01-21 16:47:59,549 INFO Processing time relation of territory creation event. ('C1758', '1329')\n",
      "2023-01-21 16:47:59,565 INFO Processing time relation of territory creation event. ('C1757', '1329')\n",
      "2023-01-21 16:47:59,677 INFO Processing time relation of territory creation event. ('C1755', '1246')\n",
      "2023-01-21 16:47:59,691 INFO Processing time relation of territory creation event. ('C1756', '1246')\n",
      "2023-01-21 16:47:59,706 INFO Processing time relation of territory creation event. ('C1758', '1247')\n",
      "2023-01-21 16:47:59,721 INFO Processing time relation of territory creation event. ('C1757', '1247')\n",
      "2023-01-21 16:47:59,839 INFO Processing time relation of territory creation event. ('C1755', '1243')\n",
      "2023-01-21 16:47:59,853 INFO Processing time relation of territory creation event. ('C1756', '1243')\n",
      "2023-01-21 16:47:59,868 INFO Processing time relation of territory creation event. ('C1758', '1247')\n",
      "2023-01-21 16:47:59,882 INFO Processing time relation of territory creation event. ('C1757', '1247')\n",
      "2023-01-21 16:47:59,948 INFO Checking for existing rentity with label=Douais, 1900,dissinet_repository_url=https://www.zotero.org/groups/446972/david_zbiral_bibliography/items/itemKey/ZHKR4MXG/.\n",
      "2023-01-21 16:47:59,949 INFO The asnwer: True\n",
      "2023-01-21 16:48:00,039 INFO Processing time relation of territory creation event. ('C1755', '1245')\n",
      "2023-01-21 16:48:00,054 INFO Processing time relation of territory creation event. ('C1756', '1245')\n",
      "2023-01-21 16:48:00,068 INFO Processing time relation of territory creation event. ('C1758', '1246')\n",
      "2023-01-21 16:48:00,082 INFO Processing time relation of territory creation event. ('C1757', '1246')\n",
      "2023-01-21 16:48:00,229 INFO Processing time relation of territory creation event. ('C1755', '1335')\n",
      "2023-01-21 16:48:00,243 INFO Processing time relation of territory creation event. ('C1756', '1335')\n",
      "2023-01-21 16:48:00,258 INFO Processing time relation of territory creation event. ('C1758', '1353')\n",
      "2023-01-21 16:48:00,272 INFO Processing time relation of territory creation event. ('C1757', '1355')\n",
      "2023-01-21 16:48:00,365 INFO Processing time relation of territory creation event. ('C1757', '1530')\n",
      "2023-01-21 16:48:00,439 INFO Processing time relation of territory creation event. ('C1755', '1308')\n",
      "2023-01-21 16:48:00,454 INFO Processing time relation of territory creation event. ('C1756', '1308')\n",
      "2023-01-21 16:48:00,468 INFO Processing time relation of territory creation event. ('C1758', '1309')\n",
      "2023-01-21 16:48:00,483 INFO Processing time relation of territory creation event. ('C1757', '1309')\n",
      "2023-01-21 16:48:00,611 INFO Processing time relation of territory creation event. ('C1755', '1318')\n",
      "2023-01-21 16:48:00,625 INFO Processing time relation of territory creation event. ('C1756', '1318')\n",
      "2023-01-21 16:48:00,639 INFO Processing time relation of territory creation event. ('C1758', '1325')\n",
      "2023-01-21 16:48:00,654 INFO Processing time relation of territory creation event. ('C1757', '1325')\n",
      "2023-01-21 16:48:00,748 INFO Processing time relation of territory creation event. ('C1755', '1283')\n",
      "2023-01-21 16:48:00,763 INFO Processing time relation of territory creation event. ('C1756', '1316')\n",
      "2023-01-21 16:48:00,777 INFO Processing time relation of territory creation event. ('C1758', '1302')\n",
      "2023-01-21 16:48:00,792 INFO Processing time relation of territory creation event. ('C1757', '1316')\n",
      "2023-01-21 16:48:00,885 INFO Processing time relation of territory creation event. ('C1755', '1286')\n",
      "2023-01-21 16:48:00,900 INFO Processing time relation of territory creation event. ('C1756', '1286')\n",
      "2023-01-21 16:48:00,916 INFO Processing time relation of territory creation event. ('C1758', '1287')\n",
      "2023-01-21 16:48:00,930 INFO Processing time relation of territory creation event. ('C1757', '1287')\n",
      "2023-01-21 16:48:01,056 INFO Processing time relation of territory creation event. ('C1757', '1490')\n",
      "2023-01-21 16:48:01,130 INFO Processing time relation of territory creation event. ('C1755', '1299')\n",
      "2023-01-21 16:48:01,149 INFO Processing time relation of territory creation event. ('C1756', '1299')\n",
      "2023-01-21 16:48:01,167 INFO Processing time relation of territory creation event. ('C1758', '1300')\n",
      "2023-01-21 16:48:01,183 INFO Processing time relation of territory creation event. ('C1757', '1300')\n",
      "2023-01-21 16:48:01,341 INFO Processing time relation of territory creation event. ('C1755', '1392')\n",
      "2023-01-21 16:48:01,356 INFO Processing time relation of territory creation event. ('C1756', '1392')\n",
      "2023-01-21 16:48:01,371 INFO Processing time relation of territory creation event. ('C1758', '1394')\n",
      "2023-01-21 16:48:01,385 INFO Processing time relation of territory creation event. ('C1757', '1394')\n",
      "2023-01-21 16:48:01,468 INFO Processing time relation of territory creation event. ('C1755', '1273')\n",
      "2023-01-21 16:48:01,483 INFO Processing time relation of territory creation event. ('C1756', '1273')\n",
      "2023-01-21 16:48:01,497 INFO Processing time relation of territory creation event. ('C1758', '1282')\n",
      "2023-01-21 16:48:01,512 INFO Processing time relation of territory creation event. ('C1757', '1282')\n",
      "2023-01-21 16:48:01,737 INFO Processing time relation of territory creation event. ('C1755', '1250')\n",
      "2023-01-21 16:48:01,751 INFO Processing time relation of territory creation event. ('C1756', '1250')\n",
      "2023-01-21 16:48:01,766 INFO Processing time relation of territory creation event. ('C1758', '1267')\n",
      "2023-01-21 16:48:01,781 INFO Processing time relation of territory creation event. ('C1757', '1267')\n",
      "2023-01-21 16:48:01,812 INFO Checking for existing rentity with label=Douais, 1900,dissinet_repository_url=https://www.zotero.org/groups/446972/david_zbiral_bibliography/items/itemKey/ZHKR4MXG/.\n",
      "2023-01-21 16:48:01,813 INFO The asnwer: False\n",
      "2023-01-21 16:48:02,069 INFO Processing time relation of territory creation event. ('C1755', '1244')\n",
      "2023-01-21 16:48:02,083 INFO Processing time relation of territory creation event. ('C1756', '1244')\n",
      "2023-01-21 16:48:02,097 INFO Processing time relation of territory creation event. ('C1758', '1248')\n",
      "2023-01-21 16:48:02,111 INFO Processing time relation of territory creation event. ('C1757', '1248')\n",
      "2023-01-21 16:48:02,142 INFO Checking for existing rentity with label=Douais, 1900,dissinet_repository_url=https://www.zotero.org/groups/446972/david_zbiral_bibliography/items/itemKey/ZHKR4MXG/.\n",
      "2023-01-21 16:48:02,142 INFO The asnwer: False\n",
      "2023-01-21 16:48:02,217 INFO Processing time relation of territory creation event. ('C1742', '1244')\n",
      "2023-01-21 16:48:02,308 INFO Processing time relation of territory creation event. ('C1755', '1235')\n",
      "2023-01-21 16:48:02,323 INFO Processing time relation of territory creation event. ('C1756', '1235')\n",
      "2023-01-21 16:48:02,338 INFO Processing time relation of territory creation event. ('C1758', '1242')\n",
      "2023-01-21 16:48:02,352 INFO Processing time relation of territory creation event. ('C1757', '1242')\n",
      "2023-01-21 16:48:02,615 INFO Processing time relation of territory creation event. ('C1755', '1281')\n",
      "2023-01-21 16:48:02,631 INFO Processing time relation of territory creation event. ('C1756', '1281')\n",
      "2023-01-21 16:48:02,646 INFO Processing time relation of territory creation event. ('C1758', '1319')\n",
      "2023-01-21 16:48:02,660 INFO Processing time relation of territory creation event. ('C1757', '1319')\n",
      "2023-01-21 16:48:02,913 INFO Processing time relation of territory creation event. ('C1755', '1040')\n",
      "2023-01-21 16:48:02,933 INFO Processing time relation of territory creation event. ('C1756', '1040')\n",
      "2023-01-21 16:48:02,947 INFO Processing time relation of territory creation event. ('C1758', '1042')\n",
      "2023-01-21 16:48:02,967 INFO Processing time relation of territory creation event. ('C1757', '1043')\n",
      "2023-01-21 16:48:03,429 INFO Starting to parse actions.\n",
      "2023-01-21 16:48:27,489 INFO Starting to parse manuscripts.\n",
      "2023-01-21 16:48:31,445 INFO About ??? : There is Merville???, Bibliothèque du Château de Merville???,  in column label in row 38.\n",
      "2023-01-21 16:48:31,456 INFO About ??? : There is Merville???, Bibliothèque du Château de Merville??? in column repository_label in row 38.\n",
      "2023-01-21 16:48:31,561 INFO About ??? : There is Creation of Merville???, Bibliothèque du Château de Merville???,  in column creation_event_label in row 38.\n",
      "2023-01-21 16:48:32,351 INFO About ??? : There is Brno, Moravská zemská knihovna, ??? in column label in row 44.\n",
      "2023-01-21 16:48:32,387 INFO About ??? : There is ??? in column subcollection_and_shelf_number_concatenated in row 44.\n",
      "2023-01-21 16:48:32,482 INFO About ??? : There is Creation of Brno, Moravská zemská knihovna, ??? in column creation_event_label in row 44.\n",
      "2023-01-21 16:48:44,365 INFO Starting to parse resources.\n",
      "2023-01-21 16:48:47,104 INFO Starting to parse concepts.\n",
      "2023-01-21 16:50:51,783 INFO End\n"
     ]
    }
   ],
   "source": [
    "logger.info(f\"Start\")\n",
    "cp = inkimplib.ParseController(entity_list=['texts','actions', 'manuscripts','resources','concepts'])\n",
    "cp.parse()\n",
    "logger.info(f\"End\")"
   ],
   "metadata": {
    "collapsed": false
   }
  },
  {
   "cell_type": "code",
   "execution_count": 246,
   "outputs": [
    {
     "data": {
      "text/plain": "                                       id         label legacyId detail  \\\n134  1afca8bb-aadb-478e-a346-b96be9ae05b2  Douais, 1900      NaN    NaN   \n151  0f32b8b0-9295-494f-9d06-d28004b78804  Douais, 1900      NaN    NaN   \n164  08e99be1-5227-49eb-aa4d-4e936e3cbd00  Douais, 1900      NaN    NaN   \n165  90b15e22-bfd6-4c3f-b250-f819e5a41a8d  Douais, 1900      NaN    NaN   \n\n    label_language for_migration_to_ddb1 do_before_migration  \\\n134            NaN                   NaN                 NaN   \n151            NaN                   NaN                 NaN   \n164            NaN                   NaN                 NaN   \n165            NaN                   NaN                 NaN   \n\n    do_after_migration migration_check_by_david_done ready_for_migration  ...  \\\n134                NaN                           NaN                 NaN  ...   \n151                NaN                           NaN                 NaN  ...   \n164                NaN                           NaN                 NaN  ...   \n165                NaN                           NaN                 NaN  ...   \n\n    parsing_type parsing_entity dissinet_repository_url spreadsheet_id  \\\n134          NaN            NaN                     NaN            NaN   \n151          NaN            NaN                     NaN            NaN   \n164          NaN            NaN                     NaN            NaN   \n165          NaN            NaN                     NaN            NaN   \n\n    sheet_name note editor parsing_rows_explained  \\\n134        NaN  NaN    NaN                    NaN   \n151        NaN  NaN    NaN                    NaN   \n164        NaN  NaN    NaN                    NaN   \n165        NaN  NaN    NaN                    NaN   \n\n                              dissinet_respository_url  \\\n134  https://www.zotero.org/groups/446972/david_zbi...   \n151  https://www.zotero.org/groups/446972/david_zbi...   \n164  https://www.zotero.org/groups/446972/david_zbi...   \n165  https://www.zotero.org/groups/446972/david_zbi...   \n\n                                                origin  \n134  special C1188>:edition_1Douais, 1900|https://w...  \n151  special C1188>:edition_2Douais, 1900|https://w...  \n164  special C1188>:edition_1Douais, 1900|https://w...  \n165  special C1188>:edition_1Douais, 1900|https://w...  \n\n[4 rows x 29 columns]",
      "text/html": "<div>\n<style scoped>\n    .dataframe tbody tr th:only-of-type {\n        vertical-align: middle;\n    }\n\n    .dataframe tbody tr th {\n        vertical-align: top;\n    }\n\n    .dataframe thead th {\n        text-align: right;\n    }\n</style>\n<table border=\"1\" class=\"dataframe\">\n  <thead>\n    <tr style=\"text-align: right;\">\n      <th></th>\n      <th>id</th>\n      <th>label</th>\n      <th>legacyId</th>\n      <th>detail</th>\n      <th>label_language</th>\n      <th>for_migration_to_ddb1</th>\n      <th>do_before_migration</th>\n      <th>do_after_migration</th>\n      <th>migration_check_by_david_done</th>\n      <th>ready_for_migration</th>\n      <th>...</th>\n      <th>parsing_type</th>\n      <th>parsing_entity</th>\n      <th>dissinet_repository_url</th>\n      <th>spreadsheet_id</th>\n      <th>sheet_name</th>\n      <th>note</th>\n      <th>editor</th>\n      <th>parsing_rows_explained</th>\n      <th>dissinet_respository_url</th>\n      <th>origin</th>\n    </tr>\n  </thead>\n  <tbody>\n    <tr>\n      <th>134</th>\n      <td>1afca8bb-aadb-478e-a346-b96be9ae05b2</td>\n      <td>Douais, 1900</td>\n      <td>NaN</td>\n      <td>NaN</td>\n      <td>NaN</td>\n      <td>NaN</td>\n      <td>NaN</td>\n      <td>NaN</td>\n      <td>NaN</td>\n      <td>NaN</td>\n      <td>...</td>\n      <td>NaN</td>\n      <td>NaN</td>\n      <td>NaN</td>\n      <td>NaN</td>\n      <td>NaN</td>\n      <td>NaN</td>\n      <td>NaN</td>\n      <td>NaN</td>\n      <td>https://www.zotero.org/groups/446972/david_zbi...</td>\n      <td>special C1188&gt;:edition_1Douais, 1900|https://w...</td>\n    </tr>\n    <tr>\n      <th>151</th>\n      <td>0f32b8b0-9295-494f-9d06-d28004b78804</td>\n      <td>Douais, 1900</td>\n      <td>NaN</td>\n      <td>NaN</td>\n      <td>NaN</td>\n      <td>NaN</td>\n      <td>NaN</td>\n      <td>NaN</td>\n      <td>NaN</td>\n      <td>NaN</td>\n      <td>...</td>\n      <td>NaN</td>\n      <td>NaN</td>\n      <td>NaN</td>\n      <td>NaN</td>\n      <td>NaN</td>\n      <td>NaN</td>\n      <td>NaN</td>\n      <td>NaN</td>\n      <td>https://www.zotero.org/groups/446972/david_zbi...</td>\n      <td>special C1188&gt;:edition_2Douais, 1900|https://w...</td>\n    </tr>\n    <tr>\n      <th>164</th>\n      <td>08e99be1-5227-49eb-aa4d-4e936e3cbd00</td>\n      <td>Douais, 1900</td>\n      <td>NaN</td>\n      <td>NaN</td>\n      <td>NaN</td>\n      <td>NaN</td>\n      <td>NaN</td>\n      <td>NaN</td>\n      <td>NaN</td>\n      <td>NaN</td>\n      <td>...</td>\n      <td>NaN</td>\n      <td>NaN</td>\n      <td>NaN</td>\n      <td>NaN</td>\n      <td>NaN</td>\n      <td>NaN</td>\n      <td>NaN</td>\n      <td>NaN</td>\n      <td>https://www.zotero.org/groups/446972/david_zbi...</td>\n      <td>special C1188&gt;:edition_1Douais, 1900|https://w...</td>\n    </tr>\n    <tr>\n      <th>165</th>\n      <td>90b15e22-bfd6-4c3f-b250-f819e5a41a8d</td>\n      <td>Douais, 1900</td>\n      <td>NaN</td>\n      <td>NaN</td>\n      <td>NaN</td>\n      <td>NaN</td>\n      <td>NaN</td>\n      <td>NaN</td>\n      <td>NaN</td>\n      <td>NaN</td>\n      <td>...</td>\n      <td>NaN</td>\n      <td>NaN</td>\n      <td>NaN</td>\n      <td>NaN</td>\n      <td>NaN</td>\n      <td>NaN</td>\n      <td>NaN</td>\n      <td>NaN</td>\n      <td>https://www.zotero.org/groups/446972/david_zbi...</td>\n      <td>special C1188&gt;:edition_1Douais, 1900|https://w...</td>\n    </tr>\n  </tbody>\n</table>\n<p>4 rows × 29 columns</p>\n</div>"
     },
     "execution_count": 246,
     "metadata": {},
     "output_type": "execute_result"
    }
   ],
   "source": [
    "dh.tables['resources'][dh.tables['resources']['label'].str.contains(\"Douais\")]"
   ],
   "metadata": {
    "collapsed": false
   }
  },
  {
   "cell_type": "code",
   "execution_count": 165,
   "outputs": [],
   "source": [
    "# save specific state of the dh object\n",
    "import dill as pickle\n",
    "pickle.dump(dh, open(\"./data/dh.with.meta.canonical-17-1.pickle\",\"wb\"))\n",
    "# saved also ./data/dh.with.meta.canonical.pickle, 13.1. 2022 - theoretically definitive meta entities (texts, actions, manuscripts, resources, concepts) import\n",
    "# saved also ./data/dh.with.meta.canonical-17-1.pickle, 17.1. 2022 - theoretically definitive meta entities (texts, actions, manuscripts, resources, concepts) import, with correct input case area datasets"
   ],
   "metadata": {
    "collapsed": false
   }
  },
  {
   "cell_type": "code",
   "execution_count": 332,
   "outputs": [],
   "source": [
    "# load specific state of the dh object\n",
    "import dill as pickle\n",
    "dh = pickle.load(open( \"./data/dh.with.meta.canonical-17-1.pickle\", \"rb\" ))    # contains errors in bologna ids :("
   ],
   "metadata": {
    "collapsed": false
   }
  },
  {
   "cell_type": "code",
   "execution_count": 333,
   "outputs": [],
   "source": [
    "for key, table in tables.items():\n",
    "  rewrite = ['texts','resources','actions','conpcets', 'manuscripts']\n",
    "\n",
    "  if \"_\" in key or key in rewrite:\n",
    "    dh.tables[key] = tables[key]\n",
    "    dh.header_infos[key] = header_infos[key]"
   ],
   "metadata": {
    "collapsed": false
   }
  },
  {
   "cell_type": "code",
   "execution_count": 334,
   "outputs": [
    {
     "name": "stdout",
     "output_type": "stream",
     "text": [
      "############## texts\n",
      "Data group: texts\n",
      "############## texts 0.\n",
      "############## manuscripts\n",
      "Data group: manuscripts\n",
      "############## manuscripts 0.\n",
      "############## resources\n",
      "Data group: resources\n",
      "############## resources 0.\n",
      "############## actions\n",
      "Data group: actions\n",
      "############## actions 0.\n",
      "############## concepts\n",
      "Data group: concepts\n",
      "############## concepts 0.\n",
      "############## R0006_persons\n",
      "Data group: persons\n",
      "############## R0006_persons 0.\n",
      "############## R0007_locations\n",
      "Data group: locations\n",
      "############## R0007_locations 0.\n",
      "############## R0008_events\n",
      "Data group: events\n",
      "############## R0008_events 0.\n",
      "############## R0075_persons\n",
      "Data group: persons\n",
      "############## R0075_persons 0.\n",
      "############## R0035_locations\n",
      "Data group: locations\n",
      "############## R0035_locations 0.\n",
      "############## R0083_events\n",
      "Data group: events\n",
      "############## R0083_events 0.\n",
      "############## R0105_groups\n",
      "Data group: groups\n",
      "############## R0105_groups 0.\n",
      "############## R0030_persons\n",
      "Data group: persons\n",
      "############## R0030_persons 0.\n",
      "############## R0087_groups\n",
      "Data group: groups\n",
      "############## R0087_groups 0.\n",
      "############## R0031_locations\n",
      "Data group: locations\n",
      "############## R0031_locations 0.\n",
      "############## R0082_events\n",
      "Data group: events\n",
      "############## R0082_events 0.\n",
      "############## R0039_persons\n",
      "Data group: persons\n",
      "############## R0039_persons 0.\n",
      "############## R0040_locations\n",
      "Data group: locations\n",
      "############## R0040_locations 0.\n",
      "############## R0079_events\n",
      "Data group: events\n",
      "############## R0079_events 0.\n",
      "############## R0076_persons\n",
      "Data group: persons\n",
      "############## R0076_persons 0.\n",
      "############## R0074_locations\n",
      "Data group: locations\n",
      "############## R0074_locations 0.\n",
      "############## R0104_events\n",
      "Data group: events\n",
      "############## R0104_events 0.\n",
      "############## values\n",
      "############## locations\n",
      "############## events\n",
      "############## props\n",
      "############## relations\n",
      "There were 0 errors in total.\n"
     ]
    }
   ],
   "source": [
    "dh.checkIDs(fix_difference=True)"
   ],
   "metadata": {
    "collapsed": false
   }
  },
  {
   "cell_type": "code",
   "execution_count": 335,
   "outputs": [],
   "source": [
    "dh.reset_generated_collection()"
   ],
   "metadata": {
    "collapsed": false
   }
  },
  {
   "cell_type": "code",
   "execution_count": 339,
   "outputs": [
    {
     "name": "stderr",
     "output_type": "stream",
     "text": [
      "2023-01-21 18:58:21,367 INFO Class IActant available.\n",
      "2023-01-21 18:58:21,368 INFO Class IAction available.\n",
      "2023-01-21 18:58:21,369 INFO Class IAudit available.\n",
      "2023-01-21 18:58:21,370 INFO Class IConcept available.\n",
      "2023-01-21 18:58:21,372 INFO Class IEntity available.\n",
      "2023-01-21 18:58:21,374 INFO Class IEvent available.\n",
      "2023-01-21 18:58:21,376 INFO Class IGroup available.\n",
      "2023-01-21 18:58:21,376 INFO Class ILabel available.\n",
      "2023-01-21 18:58:21,377 INFO Class ILocation available.\n",
      "2023-01-21 18:58:21,379 INFO Class IObject available.\n",
      "2023-01-21 18:58:21,380 INFO Class IPerson available.\n",
      "2023-01-21 18:58:21,381 INFO Class IProp available.\n",
      "2023-01-21 18:58:21,383 INFO Class IReference available.\n",
      "2023-01-21 18:58:21,385 INFO Class IResource available.\n",
      "2023-01-21 18:58:21,386 INFO Class IStatement available.\n",
      "2023-01-21 18:58:21,387 INFO Class ITerritory available.\n",
      "2023-01-21 18:58:21,388 INFO Class IUser available.\n",
      "2023-01-21 18:58:21,389 INFO Class IValue available.\n",
      "2023-01-21 18:58:21,389 INFO Class Relation.IActant1Semantics available.\n",
      "2023-01-21 18:58:21,390 INFO Class Relation.IActant2Semantics available.\n",
      "2023-01-21 18:58:21,392 INFO Class Relation.IActionEventEquivalent available.\n",
      "2023-01-21 18:58:21,393 INFO Class Relation.IAntonym available.\n",
      "2023-01-21 18:58:21,394 INFO Class Relation.IClassification available.\n",
      "2023-01-21 18:58:21,394 INFO Class Relation.IHolonym available.\n",
      "2023-01-21 18:58:21,395 INFO Class Relation.IIdentification available.\n",
      "2023-01-21 18:58:21,396 INFO Class Relation.IImplication available.\n",
      "2023-01-21 18:58:21,396 INFO Class Relation.IPropertyReciprocal available.\n",
      "2023-01-21 18:58:21,397 INFO Class Relation.IRelated available.\n",
      "2023-01-21 18:58:21,397 INFO Class Relation.ISubjectActant1Reciprocal available.\n",
      "2023-01-21 18:58:21,398 INFO Class Relation.ISubjectSemantics available.\n",
      "2023-01-21 18:58:21,399 INFO Class Relation.ISuperclass available.\n",
      "2023-01-21 18:58:21,400 INFO Class Relation.ISuperordinateLocation available.\n",
      "2023-01-21 18:58:21,402 INFO Class Relation.ISynonym available.\n",
      "2023-01-21 18:58:40,002 INFO Start\n",
      "2023-01-21 18:58:40,005 INFO TEXTS Uncertain parsing instructions in 0 columns: .\n",
      "2023-01-21 18:58:40,036 INFO TEXTS 64 columns have been dropped (discard:64, unknown:0: []). Table now has 52 columns, inside:9,propvalue:14, special:5, proptype: 4, proptype_2nd: 0, dependent:0, reference_part:0. Originally 116 columns.\n",
      "2023-01-21 18:58:40,038 INFO ACTIONS Uncertain parsing instructions in 0 columns: .\n",
      "2023-01-21 18:58:40,073 INFO ACTIONS 63 columns have been dropped (discard:63, unknown:0: []). Table now has 25 columns, inside:14,propvalue:0, special:1, proptype: 0, proptype_2nd: 0, dependent:0, reference_part:2. Originally 88 columns.\n",
      "2023-01-21 18:58:40,076 INFO MANUSCRIPTS Uncertain parsing instructions in 0 columns: .\n",
      "2023-01-21 18:58:40,090 INFO MANUSCRIPTS 35 columns have been dropped (discard:35, unknown:0: []). Table now has 31 columns, inside:8,propvalue:8, special:4, proptype: 4, proptype_2nd: 0, dependent:0, reference_part:0. Originally 66 columns.\n",
      "2023-01-21 18:58:40,092 INFO RESOURCES Uncertain parsing instructions in 0 columns: .\n",
      "2023-01-21 18:58:40,098 INFO RESOURCES 16 columns have been dropped (discard:16, unknown:0: []). Table now has 11 columns, inside:7,propvalue:2, special:1, proptype: 0, proptype_2nd: 0, dependent:0, reference_part:0. Originally 27 columns.\n",
      "2023-01-21 18:58:40,101 INFO CONCEPTS Uncertain parsing instructions in 0 columns: .\n",
      "2023-01-21 18:58:40,205 INFO CONCEPTS 58 columns have been dropped (discard:58, unknown:0: []). Table now has 17 columns, inside:8,propvalue:0, special:1, proptype: 0, proptype_2nd: 0, dependent:0, reference_part:2. Originally 75 columns.\n",
      "2023-01-21 18:58:40,208 INFO R0006_PERSONS Uncertain parsing instructions in 0 columns: .\n",
      "2023-01-21 18:58:40,227 INFO R0006_PERSONS 41 columns have been dropped (discard:41, unknown:0: []). Table now has 37 columns, inside:8,propvalue:22, special:1, proptype: 3, proptype_2nd: 1, dependent:0, reference_part:1. Originally 78 columns.\n",
      "2023-01-21 18:58:40,229 INFO R0007_LOCATIONS Uncertain parsing instructions in 0 columns: .\n",
      "2023-01-21 18:58:40,235 INFO R0007_LOCATIONS 11 columns have been dropped (discard:11, unknown:0: []). Table now has 18 columns, inside:7,propvalue:2, special:2, proptype: 1, proptype_2nd: 0, dependent:0, reference_part:1. Originally 29 columns.\n",
      "2023-01-21 18:58:40,238 INFO R0008_EVENTS Uncertain parsing instructions in 0 columns: .\n",
      "2023-01-21 18:58:40,256 INFO R0008_EVENTS 41 columns have been dropped (discard:41, unknown:0: []). Table now has 36 columns, inside:6,propvalue:14, special:2, proptype: 3, proptype_2nd: 1, dependent:0, reference_part:1. Originally 77 columns.\n",
      "2023-01-21 18:58:40,260 INFO R0075_PERSONS Uncertain parsing instructions in 0 columns: .\n",
      "2023-01-21 18:58:40,295 INFO R0075_PERSONS 66 columns have been dropped (discard:66, unknown:0: []). Table now has 51 columns, inside:6,propvalue:28, special:1, proptype: 13, proptype_2nd: 1, dependent:0, reference_part:1. Originally 117 columns.\n",
      "2023-01-21 18:58:40,298 INFO R0105_GROUPS Uncertain parsing instructions in 0 columns: .\n",
      "2023-01-21 18:58:40,299 INFO R0105_GROUPS 4 columns have been dropped (discard:4, unknown:0: []). Table now has 12 columns, inside:6,propvalue:3, special:1, proptype: 0, proptype_2nd: 0, dependent:0, reference_part:1. Originally 16 columns.\n",
      "2023-01-21 18:58:40,301 INFO R0035_LOCATIONS Uncertain parsing instructions in 0 columns: .\n",
      "2023-01-21 18:58:40,307 INFO R0035_LOCATIONS 15 columns have been dropped (discard:15, unknown:0: []). Table now has 22 columns, inside:7,propvalue:3, special:1, proptype: 2, proptype_2nd: 2, dependent:0, reference_part:0. Originally 37 columns.\n",
      "2023-01-21 18:58:40,310 INFO R0083_EVENTS Uncertain parsing instructions in 0 columns: .\n",
      "2023-01-21 18:58:40,326 INFO R0083_EVENTS 29 columns have been dropped (discard:29, unknown:0: []). Table now has 31 columns, inside:6,propvalue:11, special:2, proptype: 3, proptype_2nd: 0, dependent:0, reference_part:1. Originally 60 columns.\n",
      "2023-01-21 18:58:40,330 INFO R0039_PERSONS Uncertain parsing instructions in 0 columns: .\n",
      "2023-01-21 18:58:40,357 INFO R0039_PERSONS 55 columns have been dropped (discard:55, unknown:0: []). Table now has 29 columns, inside:6,propvalue:13, special:1, proptype: 6, proptype_2nd: 1, dependent:0, reference_part:1. Originally 84 columns.\n",
      "2023-01-21 18:58:40,360 INFO R0040_LOCATIONS Uncertain parsing instructions in 0 columns: .\n",
      "2023-01-21 18:58:40,369 INFO R0040_LOCATIONS 19 columns have been dropped (discard:19, unknown:0: []). Table now has 25 columns, inside:7,propvalue:3, special:2, proptype: 2, proptype_2nd: 2, dependent:0, reference_part:1. Originally 44 columns.\n",
      "2023-01-21 18:58:40,373 INFO R0079_EVENTS Uncertain parsing instructions in 0 columns: .\n",
      "2023-01-21 18:58:40,382 INFO R0079_EVENTS 27 columns have been dropped (discard:27, unknown:0: []). Table now has 30 columns, inside:6,propvalue:15, special:2, proptype: 3, proptype_2nd: 0, dependent:0, reference_part:1. Originally 57 columns.\n",
      "2023-01-21 18:58:40,384 INFO R0076_PERSONS Uncertain parsing instructions in 0 columns: .\n",
      "2023-01-21 18:58:40,400 INFO R0076_PERSONS 40 columns have been dropped (discard:40, unknown:0: []). Table now has 29 columns, inside:6,propvalue:17, special:1, proptype: 2, proptype_2nd: 1, dependent:0, reference_part:1. Originally 69 columns.\n",
      "2023-01-21 18:58:40,402 INFO R0074_LOCATIONS Uncertain parsing instructions in 0 columns: .\n",
      "2023-01-21 18:58:40,408 INFO R0074_LOCATIONS 15 columns have been dropped (discard:15, unknown:0: []). Table now has 22 columns, inside:7,propvalue:3, special:1, proptype: 2, proptype_2nd: 2, dependent:0, reference_part:0. Originally 37 columns.\n",
      "2023-01-21 18:58:40,410 INFO R0104_EVENTS Uncertain parsing instructions in 0 columns: .\n",
      "2023-01-21 18:58:40,419 INFO R0104_EVENTS 27 columns have been dropped (discard:27, unknown:0: []). Table now has 31 columns, inside:6,propvalue:11, special:2, proptype: 3, proptype_2nd: 0, dependent:0, reference_part:1. Originally 58 columns.\n",
      "2023-01-21 18:58:40,421 INFO R0030_PERSONS Uncertain parsing instructions in 0 columns: .\n",
      "2023-01-21 18:58:40,491 INFO R0030_PERSONS 43 columns have been dropped (discard:43, unknown:0: []). Table now has 36 columns, inside:6,propvalue:21, special:1, proptype: 5, proptype_2nd: 1, dependent:0, reference_part:1. Originally 79 columns.\n",
      "2023-01-21 18:58:40,494 INFO R0087_GROUPS Uncertain parsing instructions in 0 columns: .\n",
      "2023-01-21 18:58:40,495 INFO R0087_GROUPS 4 columns have been dropped (discard:4, unknown:0: []). Table now has 10 columns, inside:6,propvalue:2, special:1, proptype: 0, proptype_2nd: 0, dependent:0, reference_part:0. Originally 14 columns.\n",
      "2023-01-21 18:58:40,497 INFO R0031_LOCATIONS Uncertain parsing instructions in 0 columns: .\n",
      "2023-01-21 18:58:40,516 INFO R0031_LOCATIONS 30 columns have been dropped (discard:30, unknown:0: []). Table now has 24 columns, inside:7,propvalue:2, special:4, proptype: 1, proptype_2nd: 1, dependent:0, reference_part:1. Originally 54 columns.\n",
      "2023-01-21 18:58:40,518 INFO R0082_EVENTS Uncertain parsing instructions in 0 columns: .\n",
      "2023-01-21 18:58:40,541 INFO R0082_EVENTS 30 columns have been dropped (discard:30, unknown:0: []). Table now has 32 columns, inside:6,propvalue:12, special:2, proptype: 3, proptype_2nd: 0, dependent:0, reference_part:1. Originally 62 columns.\n",
      "2023-01-21 18:58:40,551 INFO Starting to parse texts.\n",
      "2023-01-21 18:59:01,489 INFO Starting to parse actions.\n",
      "2023-01-21 18:59:36,208 INFO Starting to parse manuscripts.\n",
      "2023-01-21 18:59:41,923 INFO About ??? : There is Merville???, Bibliothèque du Château de Merville???,  in column label in row 38.\n",
      "2023-01-21 18:59:41,939 INFO About ??? : There is Merville???, Bibliothèque du Château de Merville??? in column repository_label in row 38.\n",
      "2023-01-21 18:59:42,098 INFO About ??? : There is Creation of Merville???, Bibliothèque du Château de Merville???,  in column creation_event_label in row 38.\n",
      "2023-01-21 18:59:43,207 INFO About ??? : There is Brno, Moravská zemská knihovna, ??? in column label in row 44.\n",
      "2023-01-21 18:59:43,262 INFO About ??? : There is ??? in column subcollection_and_shelf_number_concatenated in row 44.\n",
      "2023-01-21 18:59:43,400 INFO About ??? : There is Creation of Brno, Moravská zemská knihovna, ??? in column creation_event_label in row 44.\n",
      "2023-01-21 19:00:00,863 INFO Starting to parse resources.\n",
      "2023-01-21 19:00:04,366 INFO Starting to parse concepts.\n",
      "2023-01-21 19:02:54,762 INFO Starting to parse R0006_persons.\n",
      "2023-01-21 19:03:21,524 INFO Starting to parse R0007_locations.\n",
      "2023-01-21 19:03:30,102 INFO Starting to parse R0008_events.\n",
      "2023-01-21 19:03:36,311 INFO About ??? : There is Date is \"MCCC, die mercurii tertio ante kalendas augusti, indictione XIII\". Not written by the experienced notary but a deputy, and as Benedetti notes, 30 July 1300 was a Saturday. I think Leonardo is attempting a classical date but in fact 3 August was a Wednesday and I think this is what he has in mind - it is III NON. (not KAL), and there he committed the error probably. Definitely before her 2nd dictum 11 August. In any case, Wednesday is more reliable than the attempted classical date. The same pair works together on 3 Aug for \"Iuramentum sororis Agnetis de Montenariis\", but there the date is normal: \"die mercurii tertio intrante mense augusti, indictione XIII\" (p. 110).\n",
      "#??? come back to this to mark the date's certainty \"probable\". in column note in row 19.\n",
      "2023-01-21 19:03:36,609 INFO About ??? : There is \"Suprascripto anno et die\" - I corrected the date in the previous deposition. ??? Come back to this in InkV to mark the date's certainty \"probable\".\n",
      "#She acknowledges previous hearing and believing the Holy Spirit thing, but not now - I mark also as denial. She mentions several people to answer the inquisitor's questions, but without really incriminating any (but also without defending them - and they do not press her, they want some initial indications). in column note in row 20.\n",
      "2023-01-21 19:04:05,657 INFO About ??? : There is Date: \"MCCCII, die dominico .XII. mensis februarii\", but 12 Feb 1302 was a Monday. Benedetti mentions this but does no correction. However, I do make one to the preceding Sunday, since generally days in the week are less error-prone than numbers. ??? In InkVisitor, come back to this, and add both dates with OR and certainty levels.\n",
      "#In spite of the document name and in spite of the regular formula in his dictum on \"penis quibus tenetur...\", it is an abiuratio and iuramentum; no obligatio in the sense of consequences (e.g. monetary) stated. There are other cases of just iuramentum without any obligatio in the register. in column note in row 112.\n",
      "2023-01-21 19:04:05,961 INFO About ??? : There is Date: corrected as in the abjuration, see note there. ??? In InkV, set both dates with an OR and certainty levels.\n",
      "#Details on Guillelma's life. Denies Holy Spirit beliefs. Testifies that he really did question Andreas on the Holy Spirit thing when Guillelma was still alive - i.e. he exculpates Guillellma. in column note in row 113.\n",
      "2023-01-21 19:04:09,492 INFO About ??? : There is ??? Date: \"hoc anno, die veneris tertio ante kalendas augusti\"; III Kal. Aug. is 30 July, which was a Saturday, not Friday. Saving 29 July because I regard days of the week as more reliable than the notaries' correctness in counting the Roman dates; in InkV, change this to two relations with different certainties. in column note in row 133.\n",
      "2023-01-21 19:04:10,658 INFO Starting to parse R0075_persons.\n",
      "2023-01-21 19:04:51,975 INFO About ??? : There is Petrus P0301??? in column note in row 347.\n",
      "2023-01-21 19:04:54,396 INFO About ??? : There is P0302??? in column note in row 372.\n",
      "2023-01-21 19:04:57,004 INFO Starting to parse R0105_groups.\n",
      "2023-01-21 19:05:01,406 INFO Starting to parse R0035_locations.\n",
      "2023-01-21 19:05:10,876 INFO Starting to parse R0083_events.\n",
      "2023-01-21 19:06:11,839 INFO Starting to parse R0039_persons.\n",
      "2023-01-21 19:06:30,000 INFO Starting to parse R0040_locations.\n",
      "2023-01-21 19:06:47,102 INFO Starting to parse R0079_events.\n",
      "2023-01-21 19:06:55,648 INFO Starting to parse R0076_persons.\n",
      "2023-01-21 19:07:11,541 INFO Starting to parse R0074_locations.\n",
      "2023-01-21 19:07:14,833 INFO Starting to parse R0104_events.\n",
      "2023-01-21 19:07:29,316 INFO Starting to parse R0030_persons.\n",
      "2023-01-21 19:11:14,199 INFO Starting to parse R0087_groups.\n",
      "2023-01-21 19:11:14,939 INFO Starting to parse R0031_locations.\n",
      "2023-01-21 19:13:34,729 INFO Starting to parse R0082_events.\n",
      "2023-01-21 19:19:24,009 INFO End\n"
     ]
    }
   ],
   "source": [
    "logger.info(f\"Start\")\n",
    "# Guglielmites\n",
    "# cp = inkimplib.ParseController(entity_list=[ 'R0006_persons', 'R0007_locations', 'R0008_events']) # ,'R0008_events'\n",
    "# 'R0006_persons',\n",
    "\n",
    "# Castellario\n",
    "# cp = inkimplib.ParseController(entity_list=['R0075_persons', 'R0105_groups', 'R0035_locations','R0083_events'])\n",
    "\n",
    "# Bologna\n",
    "# cp = inkimplib.ParseController(entity_list=['R0030_persons', 'R0087_groups', 'R0031_locations','R0082_events'])\n",
    "\n",
    "# Carcassone # R0040_locations, R0039_persons\n",
    "# cp = inkimplib.ParseController(entity_list=['R0039_persons', 'R0040_locations', 'R0079_events'])\n",
    "\n",
    "#Casasco\n",
    "# cp = inkimplib.ParseController(entity_list=['R0076_persons', 'R0074_locations','R0104_events'])\n",
    "\n",
    "# all\n",
    "# withou Bologna, 'R0030_persons', 'R0087_groups', 'R0031_locations','R0082_events',\n",
    "# cp = inkimplib.ParseController(entity_list=['R0006_persons', 'R0007_locations','R0008_events', 'R0075_persons', 'R0105_groups', 'R0035_locations','R0083_events',  'R0039_persons', 'R0040_locations', 'R0079_events','R0076_persons', 'R0074_locations','R0104_events'])\n",
    "\n",
    "cp = inkimplib.ParseController(entity_list=['texts','actions', 'manuscripts','resources','concepts','R0006_persons', 'R0007_locations','R0008_events', 'R0075_persons', 'R0105_groups', 'R0035_locations','R0083_events',  'R0039_persons', 'R0040_locations', 'R0079_events','R0076_persons', 'R0074_locations','R0104_events','R0030_persons', 'R0087_groups', 'R0031_locations','R0082_events'], dh=dh)\n",
    "\n",
    "cp.parse()\n",
    "logger.info(f\"End\")"
   ],
   "metadata": {
    "collapsed": false
   }
  },
  {
   "cell_type": "code",
   "execution_count": 340,
   "outputs": [],
   "source": [
    "# save to resulted dh\n",
    "pickle.dump(dh, open(\"./data/dh.import-fullhck8-brackets.pickle\",\"wb\"))"
   ],
   "metadata": {
    "collapsed": false
   }
  },
  {
   "cell_type": "code",
   "execution_count": 273,
   "outputs": [
    {
     "data": {
      "text/plain": "      class                                    id  \\\n0         E  3adb9104-eef7-4525-bcf2-938c4bef0ebc   \n1         E  661bf3fc-1765-4014-9ec1-203ee0fb4198   \n2         V  d3a32c8b-1e1a-4520-8f58-2b457054c72a   \n3         V  cd39408e-cff2-4aa2-a363-3eaacd4190da   \n4         V  cff0adc7-aed4-4d28-8035-10fb582c5b23   \n...     ...                                   ...   \n18851     T  1d28eaf4-077d-49b8-afa3-7d8d017e9f35   \n18852     V  929cada7-eb68-4668-9a78-ab2135c6c315   \n18853     V  e61cd3e2-4f3f-4c8e-8ea9-f37f76183a2b   \n18854     T  f3277f80-a402-41d9-a5ff-d9e4b93e8d6a   \n18855     V  b970907d-38a1-4902-b9e5-e019756e8254   \n\n                                                   label language detail  \\\n0                   Creation of ‘Acta Concilii Tolosani’      eng          \n1      Creation of ‘Acta Sancti Officii Bononie ab an...      eng          \n2                                                   1291                   \n3                                                   1291                   \n4                                                   1310                   \n...                                                  ...      ...    ...   \n18851  Sentenza assolutoria di Benvenutus, rector S.P...      ita          \n18852                                         1309-10-16                   \n18853                                            713-714                   \n18854          Sentenza assolutoria di Petrus Mutinensis      ita          \n18855                                         1309-12-11                   \n\n                                                    data  \\\n0                                   {'logicalType': '1'}   \n1                                   {'logicalType': '1'}   \n2                                   {'logicalType': '1'}   \n3                                   {'logicalType': '1'}   \n4                                   {'logicalType': '1'}   \n...                                                  ...   \n18851  {'parent': {'territoryId': '6870cab5-fb77-45c9...   \n18852                               {'logicalType': '1'}   \n18853                               {'logicalType': '1'}   \n18854  {'parent': {'territoryId': '6870cab5-fb77-45c9...   \n18855                               {'logicalType': '1'}   \n\n                                                   props  \\\n0                                                     []   \n1      [{'bundleEnd': False, 'bundleStart': False, 'c...   \n2                                                     []   \n3                                                     []   \n4                                                     []   \n...                                                  ...   \n18851  [{'bundleEnd': False, 'bundleStart': False, 'c...   \n18852                                                 []   \n18853                                                 []   \n18854  [{'bundleEnd': False, 'bundleStart': False, 'c...   \n18855                                                 []   \n\n                                                   notes status references  \\\n0      [Import batch [January2023] 2023-01-21 16:47:1...      1         []   \n1      [Import batch [January2023] 2023-01-21 16:47:1...      1         []   \n2      [Import batch [January2023] 2023-01-21 16:47:1...      1         []   \n3      [Import batch [January2023] 2023-01-21 16:47:1...      1         []   \n4      [Import batch [January2023] 2023-01-21 16:47:1...      1         []   \n...                                                  ...    ...        ...   \n18851  [Import batch [January2023] 2023-01-21 16:47:1...      1         []   \n18852  [Import batch [January2023] 2023-01-21 16:47:1...      1         []   \n18853  [Import batch [January2023] 2023-01-21 16:47:1...      1         []   \n18854  [Import batch [January2023] 2023-01-21 16:47:1...      1         []   \n18855  [Import batch [January2023] 2023-01-21 16:47:1...      1         []   \n\n         legacyId  \n0      E0001_T153  \n1       E0002_T77  \n2             NaN  \n3             NaN  \n4             NaN  \n...           ...  \n18851  T77-19-921  \n18852         NaN  \n18853         NaN  \n18854  T77-19-922  \n18855         NaN  \n\n[18856 rows x 11 columns]",
      "text/html": "<div>\n<style scoped>\n    .dataframe tbody tr th:only-of-type {\n        vertical-align: middle;\n    }\n\n    .dataframe tbody tr th {\n        vertical-align: top;\n    }\n\n    .dataframe thead th {\n        text-align: right;\n    }\n</style>\n<table border=\"1\" class=\"dataframe\">\n  <thead>\n    <tr style=\"text-align: right;\">\n      <th></th>\n      <th>class</th>\n      <th>id</th>\n      <th>label</th>\n      <th>language</th>\n      <th>detail</th>\n      <th>data</th>\n      <th>props</th>\n      <th>notes</th>\n      <th>status</th>\n      <th>references</th>\n      <th>legacyId</th>\n    </tr>\n  </thead>\n  <tbody>\n    <tr>\n      <th>0</th>\n      <td>E</td>\n      <td>3adb9104-eef7-4525-bcf2-938c4bef0ebc</td>\n      <td>Creation of ‘Acta Concilii Tolosani’</td>\n      <td>eng</td>\n      <td></td>\n      <td>{'logicalType': '1'}</td>\n      <td>[]</td>\n      <td>[Import batch [January2023] 2023-01-21 16:47:1...</td>\n      <td>1</td>\n      <td>[]</td>\n      <td>E0001_T153</td>\n    </tr>\n    <tr>\n      <th>1</th>\n      <td>E</td>\n      <td>661bf3fc-1765-4014-9ec1-203ee0fb4198</td>\n      <td>Creation of ‘Acta Sancti Officii Bononie ab an...</td>\n      <td>eng</td>\n      <td></td>\n      <td>{'logicalType': '1'}</td>\n      <td>[{'bundleEnd': False, 'bundleStart': False, 'c...</td>\n      <td>[Import batch [January2023] 2023-01-21 16:47:1...</td>\n      <td>1</td>\n      <td>[]</td>\n      <td>E0002_T77</td>\n    </tr>\n    <tr>\n      <th>2</th>\n      <td>V</td>\n      <td>d3a32c8b-1e1a-4520-8f58-2b457054c72a</td>\n      <td>1291</td>\n      <td></td>\n      <td></td>\n      <td>{'logicalType': '1'}</td>\n      <td>[]</td>\n      <td>[Import batch [January2023] 2023-01-21 16:47:1...</td>\n      <td>1</td>\n      <td>[]</td>\n      <td>NaN</td>\n    </tr>\n    <tr>\n      <th>3</th>\n      <td>V</td>\n      <td>cd39408e-cff2-4aa2-a363-3eaacd4190da</td>\n      <td>1291</td>\n      <td></td>\n      <td></td>\n      <td>{'logicalType': '1'}</td>\n      <td>[]</td>\n      <td>[Import batch [January2023] 2023-01-21 16:47:1...</td>\n      <td>1</td>\n      <td>[]</td>\n      <td>NaN</td>\n    </tr>\n    <tr>\n      <th>4</th>\n      <td>V</td>\n      <td>cff0adc7-aed4-4d28-8035-10fb582c5b23</td>\n      <td>1310</td>\n      <td></td>\n      <td></td>\n      <td>{'logicalType': '1'}</td>\n      <td>[]</td>\n      <td>[Import batch [January2023] 2023-01-21 16:47:1...</td>\n      <td>1</td>\n      <td>[]</td>\n      <td>NaN</td>\n    </tr>\n    <tr>\n      <th>...</th>\n      <td>...</td>\n      <td>...</td>\n      <td>...</td>\n      <td>...</td>\n      <td>...</td>\n      <td>...</td>\n      <td>...</td>\n      <td>...</td>\n      <td>...</td>\n      <td>...</td>\n      <td>...</td>\n    </tr>\n    <tr>\n      <th>18851</th>\n      <td>T</td>\n      <td>1d28eaf4-077d-49b8-afa3-7d8d017e9f35</td>\n      <td>Sentenza assolutoria di Benvenutus, rector S.P...</td>\n      <td>ita</td>\n      <td></td>\n      <td>{'parent': {'territoryId': '6870cab5-fb77-45c9...</td>\n      <td>[{'bundleEnd': False, 'bundleStart': False, 'c...</td>\n      <td>[Import batch [January2023] 2023-01-21 16:47:1...</td>\n      <td>1</td>\n      <td>[]</td>\n      <td>T77-19-921</td>\n    </tr>\n    <tr>\n      <th>18852</th>\n      <td>V</td>\n      <td>929cada7-eb68-4668-9a78-ab2135c6c315</td>\n      <td>1309-10-16</td>\n      <td></td>\n      <td></td>\n      <td>{'logicalType': '1'}</td>\n      <td>[]</td>\n      <td>[Import batch [January2023] 2023-01-21 16:47:1...</td>\n      <td>1</td>\n      <td>[]</td>\n      <td>NaN</td>\n    </tr>\n    <tr>\n      <th>18853</th>\n      <td>V</td>\n      <td>e61cd3e2-4f3f-4c8e-8ea9-f37f76183a2b</td>\n      <td>713-714</td>\n      <td></td>\n      <td></td>\n      <td>{'logicalType': '1'}</td>\n      <td>[]</td>\n      <td>[Import batch [January2023] 2023-01-21 16:47:1...</td>\n      <td>1</td>\n      <td>[]</td>\n      <td>NaN</td>\n    </tr>\n    <tr>\n      <th>18854</th>\n      <td>T</td>\n      <td>f3277f80-a402-41d9-a5ff-d9e4b93e8d6a</td>\n      <td>Sentenza assolutoria di Petrus Mutinensis</td>\n      <td>ita</td>\n      <td></td>\n      <td>{'parent': {'territoryId': '6870cab5-fb77-45c9...</td>\n      <td>[{'bundleEnd': False, 'bundleStart': False, 'c...</td>\n      <td>[Import batch [January2023] 2023-01-21 16:47:1...</td>\n      <td>1</td>\n      <td>[]</td>\n      <td>T77-19-922</td>\n    </tr>\n    <tr>\n      <th>18855</th>\n      <td>V</td>\n      <td>b970907d-38a1-4902-b9e5-e019756e8254</td>\n      <td>1309-12-11</td>\n      <td></td>\n      <td></td>\n      <td>{'logicalType': '1'}</td>\n      <td>[]</td>\n      <td>[Import batch [January2023] 2023-01-21 16:47:1...</td>\n      <td>1</td>\n      <td>[]</td>\n      <td>NaN</td>\n    </tr>\n  </tbody>\n</table>\n<p>18856 rows × 11 columns</p>\n</div>"
     },
     "execution_count": 273,
     "metadata": {},
     "output_type": "execute_result"
    }
   ],
   "source": [
    "pd.DataFrame(dh.additional_entities)"
   ],
   "metadata": {
    "collapsed": false
   }
  },
  {
   "cell_type": "code",
   "execution_count": null,
   "outputs": [],
   "source": [
    "# cp = ParseController(entity_list=['texts','actions', 'manuscripts','resources','concepts','R0006_persons', 'R0007_locations','R0008_events'])\n",
    "# cp = ParseController(entity_list=['texts','actions', 'manuscripts','resources','concepts','R0006_persons', 'R0007_locations','R0008_events',\"R0075_persons\",\"R0035_locations\",\"R0083_events\"])\n",
    "\n",
    "# cp = ParseController(entity_list=['texts','actions', 'manuscripts','resources','concepts','R0006_persons', 'R0007_locations','R0008_events',\"R0075_persons\",\"R0035_locations\",\"R0083_events\"], existing_parser=cp, reparse_entity_list=['R0035_locations'])\n",
    "\n",
    "# cp = ParseController(entity_list=['texts', \"concepts\", \"R0008_events\"])\n",
    "#cp = ParseController(entity_list=[ \"R0007_locations\"])\n",
    "# , 'R0006_persons', 'R0007_locations'\n",
    "# cp = ParseController(entity_list=['texts','manuscripts','resources','concepts','actions','R0006_persons', 'R0007_locations']) # , 'R0006_person \\as', 'R0007_locations'\n",
    "# cp = ParseController(entity_list=['R0006_persons', 'R0007_locations'])\n",
    "#cp = ParseController(entity_list=['R0008_events'])\n",
    "#cp = ParseController(entity_list=['actions','concepts'])"
   ],
   "metadata": {
    "collapsed": false
   }
  },
  {
   "cell_type": "markdown",
   "source": [
    "# After parsing"
   ],
   "metadata": {
    "collapsed": false
   }
  },
  {
   "cell_type": "markdown",
   "source": [
    "### Merging reciprocal relation records\n",
    "Antonym, PropertyReciprocal, SubjectActant1Reciprocal, Synonym, Related"
   ],
   "metadata": {
    "collapsed": false
   }
  },
  {
   "cell_type": "code",
   "execution_count": 342,
   "outputs": [
    {
     "data": {
      "text/plain": "['d3ded3bc-8c2c-46b3-8fbc-df81ef77fa44',\n 'f9e1e0db-3694-4595-a3eb-0547f332e462',\n '0472c139-cba3-4e96-b5db-3c7307d97c37',\n 'b4fe4134-9680-4ef6-8ccf-95fc49321966',\n 'd421f257-2fa5-42d2-8fe1-7951926553d8',\n '994f195c-09f3-4464-a156-e517728e2eba',\n '525d3cbd-1f81-47bb-b899-e4f48d0237bd',\n '705d2c58-8e43-4da7-adf7-14c05df51e8b',\n '37ca8390-19fd-46f3-ad40-f40db2bbc5a6',\n 'af8afc6e-cf7a-4d2e-84d4-4da51d97caf1',\n '8c5d26e8-34a3-4888-b0e6-65bd7ab43c1f',\n 'b80cdb4d-e1c7-45f0-a767-4e4aa0c7c02a',\n '4619824d-6686-4a61-8fae-701f8427c5e8',\n '591e6767-304f-4c7d-a065-a990278fd4a2',\n '0ec17312-bf2d-4267-8962-a71053991693',\n '4a23cc19-58ef-4aef-be0f-7c6d48c9227c',\n '7957dc5d-a2dd-4ce1-a7fb-a6db8bfdc709',\n '01f96a2f-219b-4729-8254-296c68dd8013',\n 'b7cf86e7-ca29-44b0-85af-f8003401625d',\n '0e483978-e389-4cfd-b9b7-2a2a03062d7d',\n 'b3bdfab8-c83b-4795-a317-d178086c1bcd',\n '7a8a0f14-0316-4531-ab76-fdd39ac0c268',\n '5aba8ee1-a6e3-4ddb-9d38-a24851803b1a',\n '78e7210a-e0a3-49fe-9bbb-53712fb2bfd8',\n 'd406abbb-1080-4e60-b164-cb5866915e83',\n '6faef808-6914-4e7f-8162-2cdb2d07f6de',\n 'efd5c20a-f156-4019-ab8f-7c282b3d9502',\n 'aabba387-e4ee-405a-88d6-b34be97ff2fb',\n '7a07cfef-1315-4fda-b219-3d5bd06cf0ab',\n '7cdd0599-eeb1-4a9f-a1a6-d4aaf38b4353',\n 'fc5d2c3f-eefe-4601-96fa-58ba18131339',\n 'b88dcea4-819d-4b80-b392-7e0a96550068',\n 'e601759e-a07a-4ca4-afd7-ae0d024dc20a',\n '94bb84cd-e8e6-48fd-896c-fb60a675a694',\n 'd6b61fbb-7490-44eb-92d1-e83207002ccc',\n 'ce9253ce-7b5a-4c97-a246-fb34c942760b',\n 'fadba355-7707-425c-840e-5904d6e91ada',\n '94fab647-e141-4d72-8ee6-928717b5e256',\n '23617924-bfdb-4d24-9a76-34265ed272f0',\n 'c2cb598c-e0f7-4ccc-98f8-b38a92f023ee',\n '808a9d15-a060-4d57-9298-66a1d72cab7f',\n '26f341d4-f61a-450f-86e5-28d775a2dd7d',\n 'ae962aa0-9aeb-4f1c-a7e5-da5c345ab979',\n '63763033-6291-4fa8-b719-a2ca10b0b583',\n '7837d602-f16f-4899-afcb-675455c6422e',\n 'fcd11905-02ad-44d3-a5f8-76d1591c6ac9',\n '6714aa6a-362b-4c3e-8836-2632a3f48390',\n 'c51874dd-a2eb-4cf7-bc06-386126220a93',\n 'a9662a9c-6701-449f-bc22-967b4e7ae50c',\n '0d9f1be9-e886-43ff-939f-1bf638072ee7',\n '3ebe23c0-75d6-4a0e-83b8-0ebe0fef0700',\n '32b2e7a7-db28-4f9a-96b0-89b5401792c8',\n '776867d2-7079-43a1-8f39-f9f2731f9c03',\n '2eccd5e0-90b6-4624-918b-1a2080dfd3d3',\n '1ede4c48-5226-4f4f-bc4d-c6a2dc0035f5',\n 'ffd83de9-d8fa-4072-bb09-de4024b54858',\n '2b0ae418-7889-4162-90f3-6c9ef52a2ae7',\n '9b814ce1-3fd4-4527-9e59-1e960e0b4afd',\n '50f2074d-e2a0-48cf-ab76-2efbd9a4fc4a',\n 'a2df1793-0799-4d2a-9ac2-5575b8c7d027',\n 'e5728f9b-4961-440a-bd3c-dae35b8188d3',\n '75639701-d90c-491c-9a9a-d5e079e082d5',\n '5285b203-a48b-400e-a9f0-a271b06d2e15',\n 'e8d11a0f-3e47-499b-83f1-47d9582ea187',\n 'b876cea5-d301-4cb6-a3dd-ea5f93d45026',\n '1129b492-8a66-4033-929e-bdeea3b807dd',\n '58c6a51a-79cb-4b30-bb0d-e3edf105c68a',\n '0e4f54e1-e27d-4826-8f26-2605fd2253cc',\n '3b6e282c-282a-45a5-90cd-670c410e0493',\n '4828f14f-83ff-481f-a31f-ad58ea234d35',\n '553340fc-3fb7-4904-a50e-e4c2f4e32c30',\n '5bfbbf33-4edb-4460-9cfd-dc7b0791badb',\n 'c7438826-b3b5-43be-b5d3-cb6daf70d565',\n '95c6fca3-f808-4f73-ba2b-517944153da7',\n 'd53769d7-357c-4a88-8c9c-7344d3f2eca5',\n '774e9e1d-daa2-4e01-9299-c6c5adbbd5bb',\n 'e006ebfd-2b70-4460-9575-7b4d84fb2c7e',\n '9a8daad0-960d-40e1-903c-43cff7bdfde4',\n '801928ce-2931-4444-b750-b15601ac4541',\n '904ed1d2-ad4a-4a16-80a9-d484d14a2240',\n '64d68695-d83d-4097-8bae-19836f542a27',\n '3a03855e-afe2-40e5-8250-d4b363ece7a3',\n '83e5e773-3ed0-41e8-8cf5-0e718e10a111',\n '3e7aa16a-91d4-459b-98d2-bcac9c2329aa',\n '5e6fcdc1-ccc9-4b62-9ebd-436777e0b7c0',\n '9d354d2c-4566-4aa8-b82c-a10104ef1d04',\n '5fb444e7-3815-4fed-9705-bfdca73bdd74',\n 'bdc11879-9490-4a1c-91b4-a369d2da7658',\n 'efa8ba07-0745-4d92-bf43-f25a91a9aec3',\n '6983f3cc-2035-4754-b0ce-6016e2b972b2',\n '2714507c-5441-4813-8897-e25c6e78fed9',\n '5c5e5da4-c4ec-4a5b-8bcc-f0960fcc0ca8',\n 'd9b04461-f4af-40c9-bd0f-1adfb853e8b0',\n 'f7929c9c-dc43-4613-bbde-28367bbb53a9',\n '3a839f56-08f4-4236-8003-67ab906afb65',\n '8c9166e3-b1d5-424c-bf60-33c8d16b4996',\n '86fe92b1-453b-4b10-b7cb-65fb8cf022aa',\n '260af2db-79fb-48c8-bcd7-21b8358f73e6',\n 'f0870c85-534e-476e-a739-c49723a1fcb3',\n '605a7ea1-11b1-40fa-a405-b3a7cfab3135',\n '0ac145b2-a2f2-42c9-b742-c4ca6fe421c3',\n 'a58d40b7-e260-43df-a05b-6193d48c1d5b',\n 'f6ca2314-02b5-4cd6-aa64-6ae04ecd9067',\n '69c02ea4-7213-4d5c-a594-da12cd03ad5f',\n '4de106b1-8352-452d-95fe-1e8797c44df6',\n '415021b0-4b7c-49eb-a1d7-e2afad1a84d5',\n '2c5d11bc-c0f9-45e7-8053-f44b41f6c349',\n '426fbfbc-2b1e-43c6-9fee-6221e5a5b674',\n '4dba9cfe-a989-4ff7-ba1b-acf3fd0535cc',\n 'c293d51b-eab6-4bbb-8283-dc8bbb920e3f',\n '42df4c2c-ac43-463c-a435-b5e9ba9a08f9',\n '215edebd-02a3-486c-8098-8ae74765df3a',\n 'e0227270-48b2-4c3f-88cf-02053b0e98ae',\n 'b19b9f90-1220-48d3-b275-f86465281f99',\n 'b649ebd2-3d72-448a-a269-7640ca6b9c8e',\n '1d9a04b9-5e1d-4c32-905a-4f75cae96d8d',\n 'e6dc641b-b9d9-472d-9018-836b560bad3d',\n '56c0edba-72f5-43af-bb40-66832cfea03e',\n '04e2a314-f0e8-4ae0-aa99-9461766f388d',\n 'a9de442d-c25b-4e1c-aa18-2abc813d7257',\n 'a75a4698-9115-4746-b1d8-3bc15e8a0261',\n 'fdda7964-e59f-490d-931e-898d974b8035',\n '18dcacc1-b3b8-442c-a66b-8fe4eaf8aec7',\n '850b189f-9757-4bd0-ac5b-0f74949e39cd',\n '275bd1e7-a7f8-4dab-9260-f53182868763',\n '07ae094c-99ff-44ac-a9b3-4923dc231f17',\n 'c7ff6edb-3f09-4541-accb-7ba088a79aca',\n 'a259f36a-8637-4f8c-9664-ef0983c7e7b5',\n 'e793d8f0-e65f-42ac-b0f4-6b6c45720c7b',\n 'fff4f2f5-f532-46d0-b286-f55f80389f5c',\n '2c67b851-40be-49d3-82e0-157ee1b3c41c',\n 'dd8ea82c-8a08-4d84-a156-9943da98755f',\n 'd4bf24bc-a68d-4cd8-b4cf-960553a17512',\n '9b58d8a9-bdd2-4f7f-bbd8-790c70cf94c8',\n '888965e5-e8c4-4c42-b7f0-d8460592ae42',\n '8ecff8fe-8e63-481e-8191-88f834d19154',\n '1ff7606b-bde0-4292-ab0e-7bd28795cff0',\n 'e593d3c0-65d8-455b-9cac-4a44ab2d5bd5',\n 'f822dcac-171b-4432-8f15-6b03325315f1',\n '6dbec0fa-f80c-457d-9f91-f75337915b97',\n '4b459167-f317-4659-bb5b-a0926e7c1d4f',\n '0fcb6fdd-f6ef-4190-b3be-89428db8d495',\n '983aa6ae-da57-45aa-9c0c-950d1acea9f2',\n '8235a85b-80ad-48fc-ab4e-90da029f9f20',\n 'b087db68-5406-4db2-830d-54c843f6e151',\n '3773c45a-5595-429f-ab74-d0b47dafdd34',\n 'bd57dd4a-ad00-4e3d-9722-94cb98f29f25',\n 'bb7147ab-0fc9-4c7e-bf8c-3f38d1e0f154',\n '91ef3f29-ed25-459f-8fb6-6a9e0d1ef5f7',\n 'bca22984-72ee-4419-879b-eee648092a7f',\n '307a62c2-aff1-4ab2-9be7-65fd2e449fa5',\n '26ab6f3e-b182-4c4e-9cf7-465b80524519',\n 'bf6a8e47-dbf7-4de4-b1a8-d0febb9d8417',\n '803ab4b2-b734-4385-813f-ebfa2c8513af',\n '3914243a-d9d3-4b01-917c-626c75160e8b',\n '910736ec-80cd-46b2-a644-4b681d6101f0',\n '44f4bf8d-27e7-49d5-9df7-f1401e936629',\n '7ff2c779-17da-441b-8c33-f627c5950fcf',\n '043aa277-b75d-4f65-89bc-e683a745e069',\n '1803529e-626c-46fd-80ae-2355ab35f4e6',\n '3a8bf97b-8aef-4c04-993f-e8d700147832',\n 'b6bcb9d7-bfc2-4ec1-9b5d-f4cac1d6e4df',\n '6de48baf-45c5-4121-a8b0-80ea4c3d02cf',\n '1864e8b5-c9fd-414f-bcd1-0a678ff2e468',\n '165ead85-8ec1-430c-b15a-7d12a4325405',\n 'e1b416a0-3244-4216-a81b-44342de6e993',\n 'cdef7904-26a3-4b6c-bd02-385ab6e9aebc',\n 'a1912ca7-3958-49a8-abe2-1aaa5850ab26',\n 'b045754f-ed38-4722-b15a-34334ba1d69c',\n 'b2746261-2a7d-42e1-9d77-c714bcdb4b49',\n '37c65617-0e94-41cd-b5ad-9550aa85cfed',\n '166e5b6a-4c5d-4cc9-b11a-5b78759693f6',\n '10ec66c5-5cd0-4843-870e-e8d2d465cc3b',\n '491734c7-97b6-4fe9-aa05-893306ae0518',\n 'd0f0555b-c7ec-4101-862a-2ad62a872de3',\n '9d349ca9-1296-4a6a-997b-32b1bd145abb',\n 'd2769686-73dc-4f04-9266-ecf23c8e3fb3',\n '12f92677-5a6b-471e-bb65-804867aaecf0',\n '69797f99-948a-4336-bb6e-d3b24e313c69',\n '0880f091-7ed6-4a2a-9963-2215027b0792',\n 'e067416a-d140-4dee-9030-a777dd35c8c2',\n 'e30a1695-ec43-4102-a2da-5bb0a96b1944',\n '3c7b0f68-9cb5-45b9-981b-edf3ec8a024a',\n 'b6f34f4a-cb62-4dd7-ac3d-6fe060415515',\n '35f3e4dd-2574-42f0-99e6-7a58ad9247b0',\n '8d65f555-16b3-4cc5-93a3-cd9488b27370',\n '59b6f2d4-deb6-4f9e-9a0a-8c6025d77f3a',\n '99437eca-28a5-4d4e-899a-ec1327aab68c',\n '3677ca00-efbf-4e16-93e0-8b4f20a4f053',\n 'cce06bfd-42fd-4d49-ad93-03a66db83093',\n '56e0f115-3164-42fd-bb6b-ea4ba592d288',\n '7f881427-677e-461b-815f-09ed23722b33',\n 'd4ad2a13-94fe-4c52-af06-61dc6024ecca',\n '825057eb-671f-4bb8-9a60-829e8a87cfb1',\n '57c16af0-ace2-4b50-9410-6c2c03f784e9',\n '46bca5f6-37fe-4694-8643-a825d3d2aed3',\n 'acaf2084-c5c9-4515-b838-08957fe7da83',\n 'ccd22a5b-e7ac-49a8-bba8-0bf686ca9c4e',\n '875c496f-6ee2-43bc-80f4-20d3b55704a6',\n '4769c5b5-875e-4bc6-8550-7d5f1113e8ef',\n '6466d318-120f-4632-ad29-028314568fe3',\n 'b76e2e14-18fa-4d9e-80ea-b2b185dd860a',\n 'decb545b-8b3f-4ab9-8eaa-3e24f8e22882',\n '111f474d-d658-4289-94f6-3662b30ac015',\n '7b46b494-c865-417d-9f3c-dedbcc175454',\n 'b571f738-5a4d-4555-8a84-2ce20bdec7ef',\n '05df634c-d3ea-4f6e-910c-4ad98ca45d55',\n '5d477d11-fbde-487b-ad41-813b17cd7c93',\n 'c5d18d34-45b2-4cbd-85e9-f1fd7fea9578',\n '3d1c7cd4-6e59-4923-aab7-9c30902afc10',\n '7b959126-4007-4abf-988b-1d4e8dbdd38e',\n 'ccb1cdc5-3077-4cfc-95b8-e7ee8f036740',\n '40c25c0a-189c-420d-a0ee-384d1cb6e03f',\n '03d6dae9-8220-498f-bbd4-5c44fee3ac7b',\n 'c40d05f9-e96e-49a7-a2ba-e69fa1afe10e',\n '465199c5-924d-42f0-a220-d16bd168f346',\n '597fafde-918c-4023-9b9b-2df7144d2aba',\n '24dcb9ac-f454-4fd5-afe6-c3083558e9a2',\n 'f99bad9c-6743-4766-a5aa-a80cb5e71f7f',\n 'f66c45d2-fcdd-4224-910e-0064dcbbab6f',\n '6682c1b0-5eb0-4240-8cfc-47f2d567aaef',\n 'a14eea8f-d6b6-414b-9572-5f22f13c411d',\n '6ef930eb-4cd7-40c6-b132-73aed3013c08',\n '28c95a47-a032-48bd-8017-d64ca5eab4b5',\n 'ec1640af-8781-4848-8fc2-c9fa6b511574',\n '311a5796-dfc1-496a-b8e0-88acef00066a',\n 'fa520c68-c6c2-4966-becd-f040ff38838c',\n '4e62e22b-d212-4dd5-ba14-e3f6bc878c7b',\n '7ba97c04-50ca-400b-8fed-2b0fdbe02be4',\n '4e71775c-d556-45a7-aa27-71f0a30e577d',\n '8a8ba452-4d9e-4d92-ab3a-06ed6f9b9bab',\n '71d95239-f16f-49f9-b9c0-21a18600d6ee',\n '1c615068-e3c1-4530-abe6-a9424605a784',\n '80430290-de0e-47f3-a67e-b529fa9d4d5b',\n '0e8b1db8-e498-43d8-9f33-f1c156d714d6',\n 'bfb6cee4-9af5-4e4c-8024-d296a926d9ef',\n 'ca0f9a7c-2067-4c1b-9a2e-7b45736d4dec',\n '3c05ba98-3850-4f8d-a1c9-95dba00130d3',\n '816b71c2-d2b1-4920-8481-5d9592aac683',\n '0d283106-b6c2-4990-b989-49d5b6d3eb7a',\n '6467d0b1-4f29-405a-83be-a09e36755992',\n 'a2ffe13b-b702-41fb-916d-e59e347ed2c6',\n '05879984-993e-4049-99ed-c9d785c08848',\n 'ffaff3d9-863a-48a6-b02a-20efc2f906d7',\n '9728808d-2e5b-4b4e-afa4-0f10bd2db932',\n '1b36dde1-6bf8-41c2-a63f-98edd4bc7a83',\n '3135aa70-9c86-4c73-b657-2a3a367c281a',\n 'e576cc88-f8f9-40a1-b465-9d74934cf367',\n 'ff8c7e22-031c-4705-92ee-075ace375463',\n 'b3e93307-27bd-47c5-8539-6436b2b343a6',\n '7bbb8dc7-e90f-41f4-a33e-dca8f242e925',\n '7b47051b-6cfb-4b8e-b970-35b8e6774a0d',\n '759acee8-4f48-44fa-acd0-25a8b3fd4021',\n 'be3ea852-ce44-4f4c-8c6f-388706acc547',\n '6ef4583e-33f2-43e2-8afa-5091512df02d',\n 'b8f99036-969c-4bb8-b166-980d3aebf08a',\n '1979c3d8-02bd-42da-9bde-474d52f3630b',\n 'f6d6d7dd-70e8-46d5-bc9c-c41e50f9e247',\n '881898fe-95e4-4723-befd-3d81ce183638',\n 'bf7f1aa5-33e2-4e7c-9154-ef0dc3ee6569',\n '3f8ecf99-832c-4151-ae59-d7f09ec28efb',\n '3f0e6d9b-443f-4d7a-9361-51c422e6dbd6',\n '917618a7-2dee-40e2-90fa-60f10fe2eb47',\n '1cb9657f-0253-4412-b243-dd78f37bdde1',\n 'b85f2c75-418f-45c0-b7ea-59b22bfbf0a7',\n '6cf9049f-a934-4fac-a7a6-54cb746fcfb4',\n 'f706051a-ce4b-4803-9f04-71b4f256c11b',\n '875cf233-c72e-4d37-ad61-84985d11bae3',\n '74fc0534-92f9-4478-8c13-c043bcb6417c',\n 'c4dc7032-f6e3-4ab5-9908-b58b70dc5306',\n 'd777418c-3905-4214-a3dd-a06e81562fe8',\n 'b4f5a20c-8c39-404d-94ab-6718fec7f2f2',\n 'e0c020a6-c07f-4f92-91bc-e9f0a79eae3a',\n '715cd626-1214-41b9-b88f-f319f6fa6a77',\n '48fd193a-4cd8-4c7f-b9dc-0b886d4a92b2',\n '82a12ca6-043a-48fe-ae83-2086b8385918',\n '5f1b633e-c3e2-40cb-ab50-4438911c88b4',\n '7f8f929d-be38-4e8a-aa38-f0b9ca9f1eda',\n '453b9a91-f4cb-416f-88a2-f7462e1f15d2',\n '8b365310-032c-4e40-94d4-85f93573db11',\n '6b77874e-054f-4c70-a3c6-0e45544ad60e',\n 'ae6c9c09-a991-45b9-bb64-2d46b0bf3e3b',\n '9b445f96-713c-40c6-9ec5-52aec66ba672',\n 'a1e872e8-52c8-4352-83fc-4ed54de7a39d',\n '9be47cde-1698-474d-875c-db7966f555da',\n 'd636e981-cd12-4d48-83e4-43baabceff5b',\n 'f384aeb2-fda4-4558-9aaf-f8c63eabead4',\n 'f43f45fc-5c4d-4965-b427-f0b3d6106611',\n '59715f7a-500f-480f-9512-fffefced89f4',\n 'ee380f41-cf23-454b-ae2a-0fb5cfa7c6bc',\n '3027708c-e355-4fa6-a29e-d327a6a19d4d',\n '03fc4b82-51d6-4881-a98f-8a63305615b9',\n '71196487-bca1-4c98-8e77-51345fc72b40',\n 'fcc7032c-427f-4fc2-8100-462639f5a7d3',\n '75c253ad-4984-48c5-9b90-59a752739c1c',\n 'b68d5c4b-81d2-43ef-b39a-a8c8aaf7b318',\n '4eeee306-882f-4bda-beb9-7f0f095143b4',\n '4ad6f874-b1f4-45cf-85fa-8bd4d6d31d2a',\n 'fd7b9f12-4369-44ab-82a6-110be8440711',\n '659f23dc-0f7d-4507-8362-4d62d3f0b3e5',\n '08d347cd-5565-4391-960e-815a981a48e3',\n '7b51370e-42fe-4786-a855-d0ffc7ae011b',\n '1cb18dfc-0651-4941-b5b7-da92abdeaffb',\n '2d5f118e-840c-47fc-91df-1e51e450eb40',\n 'eb94203d-a87f-41b4-a23a-3d690b7a9e0f',\n 'c3c0cde5-b271-4ff5-b84c-10716ee620dd',\n '5ca69018-72ed-4210-b618-c4f747e2a836',\n 'ae26f6da-78f9-48c3-9495-16df4a54c41f',\n '22b6f90a-0f38-4b75-90ad-470ebb99529e',\n '10d2018f-cc74-4a67-b408-e22fff3dcb48',\n 'f91fd70c-5bac-4246-8ee6-ac7c92280090',\n '63619441-c431-4ec5-9710-5ed188ca1b1c',\n 'd996e1b3-46d6-43be-ba31-64835c277f07',\n '9b4c3256-8d69-4f8d-b7bf-49ba955e709f',\n '53b54a76-a7b2-40be-94b5-ff7861e2e021',\n 'ac6c9a31-d38f-47e3-ac93-e0d9b9de73b4',\n '11a3fd2d-edd5-4a59-98c1-3515a7c18fd9',\n '3a1f602c-9cca-45cc-9926-417305b25c94',\n '4b97340f-c33d-414d-b093-6b450a8d1ad5',\n '88f91f97-ac6e-4e29-a181-b5543da8b8dd',\n '4a486e71-928f-4849-9fc9-c21fab58dd32',\n '190563af-fb02-4039-99c6-2e8dca1a41b0',\n 'd0ad3d77-34f8-415e-b914-1c58bc2d73b7',\n '2ab5ebf5-3122-4aae-b19e-b69b9c3ea463',\n '1de064a8-6c72-4752-a85d-2fd96510add8',\n 'b6b846ae-e03f-4325-83fa-eea70cda4cb4',\n '6e8a507f-e5d4-4d70-88d7-59bb82bac5c5',\n 'bd4cb641-62f9-4958-8763-78d2db952978',\n 'aad5250d-5a70-4e39-893f-9f6b0a58c45e',\n '47905280-1ba4-4767-bbd1-df60d497721c',\n '698c4cf7-2ec3-4249-ba24-2add345ff200',\n '24488ec5-f861-4117-8310-6ae03abd0458',\n '8cb3d983-46de-4677-9c5e-70f355e0bbf5',\n '7fec6ca5-ed3e-4bb5-b282-47f9eff3b27a',\n 'f748a563-03ba-4719-bb7d-fb1a5f003cc7',\n 'ffd63344-c7de-40eb-8116-da58161d5b7a',\n 'be3a919f-f9a8-42b2-8090-80f3f93fba01',\n '15d02e86-798b-4afd-8e6f-77a7495509c9',\n 'cb377641-da56-44bb-a6c8-37eea4b85f03',\n '528e84ea-e6ae-4a83-998d-9cca702c7ad2',\n 'd8d05fa5-0f4c-4585-8964-7552312b1905',\n '51221664-99a2-40f9-a151-b3e8bdbfc42f',\n '9c18a909-f631-4049-882e-df180609245b',\n '897053d7-7f39-4229-a125-d7d8f0622502',\n '89066f6f-2fcc-4425-80b7-4347d884496d',\n '96667cdb-94c6-4afc-abae-895f2fb51525',\n '6c2c319c-e7f1-4dc9-a114-e1a4af30a0f7',\n 'c55a2dfd-9369-46e5-8ba4-3c2c0f8b1f16',\n '6af876cb-640e-4506-9527-f4460e77f2d6',\n '174c19d7-9932-415c-9d6c-c9b70e09d893',\n '2123161c-fd9c-4acf-8959-02da587df10e',\n 'a3558098-fe6b-427d-9a3c-e901029f6600',\n 'b043edf7-5330-4514-9f33-40b928d16eb9',\n '14fa4472-591b-4987-ad5d-dee19de32825',\n '1d91a43e-aa41-4ae3-b007-0f7212aafd4c',\n 'ac5cd13e-50ac-427d-a4b7-60e735d8ced7',\n '3af6790c-f9fc-4010-a788-b17dc7015548',\n '3b4f3bf8-eb43-4993-a538-71fb7d94332f',\n 'b135a8a4-2bf8-4128-a116-80a29e8a4106',\n 'ad4ad524-c555-4584-a522-95078754d48d',\n '64e829ab-9b0e-4130-b81b-a444bcf98417',\n 'ade247d4-396c-4fc4-b546-9ecffbd46a83',\n 'b69ac67c-a3c5-4cd3-a112-2f57710bd5c4',\n 'c1d2fa70-275c-4f60-b256-5a66c170e211',\n '9be67adf-6199-4b43-a999-126c00f5824c',\n '16b88165-c81d-4d43-ac66-3ca202469524',\n '1c7cd88d-b6d5-4da3-b0ef-a62efa72c5de',\n '159b794a-ca2f-4e46-8e58-84a7a3445c60',\n '04e300d2-adf5-4f48-9dd7-5d3e72620e96',\n '9c73d62b-7fbd-4ea7-98eb-ca35fe39712c',\n 'ff61bbb4-f2ca-460d-82a5-b3a20bfe3253',\n 'fcc3fde8-07ee-449f-9923-d6e7dd3d7f13',\n 'a9da5b01-a06f-4627-bc3d-18691364212e',\n 'd4b42a0d-3f55-4869-b7fc-de4d4e0e6024',\n '6310355f-2aa0-4064-a07a-94ba78d42597',\n 'e2b25282-ebe2-4484-85bf-d631dd727e18',\n 'eb43831b-8166-4e62-a78b-94c73409f62f',\n '662b372d-5f5a-498f-afb7-ea70d2276fb2',\n '27a95569-6dba-4cc0-bc10-23c18d02d606',\n '3d59e52f-b7bc-4eb9-8501-6242d67cb7ca',\n 'faebbb1f-0808-4973-8bfe-2ab33d3edf6e',\n 'e189998b-14a6-4ae5-ae27-e84cc6bde9fa',\n 'b71a7063-d6a0-454a-8d3b-f57598f41e2b',\n 'a5752909-4f4f-4aeb-ace5-21a11f6b1e9e',\n '1de16fa2-7d4b-4b0a-b6f5-ef8a425ae97e',\n '4d09d3fb-0cce-4682-a0d2-f05e12801f2d',\n 'b061b1b5-8d25-4ee7-9100-8a3d4daedd31',\n '7b8b87d3-2a83-4bc6-98b4-417ca6cfadc7',\n '83b729c3-9ed0-4a4d-8bbf-eff62e3f4628',\n '0a123eaa-95be-4c76-8266-f693b2ad6969',\n 'ca97adfd-3a74-4368-a08b-1b52459e53d2',\n '0d1434f5-589f-4c09-8922-56b8b20e2341',\n 'e46e1fcb-999d-4369-af8e-e2db8b3fb8dc',\n '2dfebf32-1c84-4720-ac03-2e4b0f2ab368',\n '42abf7e2-4a31-475c-995f-68dcebf954ca',\n '03edc685-7185-4e7e-9871-8369b5f2df4b',\n 'd0f1da4f-dbe3-458a-9c89-7ecd25a03d1f',\n '17cead26-afb6-407b-9a93-f285470938bc',\n '4bb6b81b-39c3-4f8e-ab78-b3610c4e6b67',\n 'ba23cf78-94b6-4448-b8ee-d9ad37bdfc83',\n '1ac24c86-985c-4d2d-bbfc-20b87923609b',\n 'bd0371f9-74a2-4ec1-94ab-9ee6e188e883',\n '5692db3c-c831-47a9-ab22-0c53a6d658db',\n 'f307c113-564c-454c-9143-4e15eb0f0ba4',\n '621e74fa-66a5-4164-9eeb-2b9a8fe4e702',\n 'f174bc0e-7078-427e-9c81-e434f11a869d',\n '41b864ba-2419-484f-af85-10b2aafaa344',\n '946697ba-6f62-46cf-8481-4b8fa24f7438',\n 'f90a4b9e-f8af-43fb-9bc9-3fd364511fe8',\n '8de6e0b2-d653-47f3-8df9-3c33c1f2dbb2',\n '3adbe6fa-8e4f-4573-bceb-323a5dd87770',\n '68b6a9de-07a4-4a33-8312-b28478aae1a5',\n '1f0b582b-8eab-4c02-bed2-d25e989628a3',\n '3bd21509-e516-4dcd-939d-b66ab0a9fcc8',\n '199788ff-5c1e-4a8a-aa50-bc9d47fbf74b',\n '0159e23b-32cf-47f2-9a59-50abe2bc079b',\n 'c2bd0380-62f2-4bff-ad83-fcc1a10f3d74',\n 'e573c831-8ef2-4d78-a699-2cbbae8aefc1',\n 'b0c45aa3-c940-490c-a73b-4e54c16640ca',\n '57b1ae36-f806-4fd6-bb7d-fbc6ebfb8d72',\n '40d77663-356d-4600-8b6d-642ff803f637',\n '60524e7c-4975-46e1-b72b-c19a937f2368',\n '066a2d0c-c2d3-4a75-80f5-ad3d19e40578',\n '59bfea84-eee4-437e-88b6-d55384015af5',\n '5341e0fc-09b5-44ae-be86-7c0f7827f481',\n 'e5be5f18-979d-48ab-90c1-164601e92f5f',\n '5ed7b5f6-b6eb-4c5e-b27e-774ac54f13ba',\n '17eaf546-e3a0-4c37-961a-2ff42e3cd060',\n '790805d2-ffde-4e88-bed1-9ae6747b600e',\n '97d27c68-2766-4608-8717-1eb665050a3f',\n 'c1fc0378-8ebf-47e0-af6e-3cf3a1ba4841',\n 'a0cccc05-7b95-4d3e-81d8-1e25ad9b3d85',\n 'fa270d1e-b6db-412c-8045-473ce22619d7',\n 'bccea553-213d-4807-bb8c-e69122be073b',\n '7054b453-3f8a-415f-aefd-96110fa68470',\n '34a2f185-8333-4f5d-88a1-c7020fddaf2a',\n 'bf3412db-331a-4ca4-8704-c281ee7ec64f',\n '62ba6bce-d0fb-482e-873e-0a02418a7697',\n '56101ebd-441c-416f-bd54-25453fc675b3',\n '122f0eb9-6181-4d5b-82f6-0b33d0e80511']"
     },
     "execution_count": 342,
     "metadata": {},
     "output_type": "execute_result"
    }
   ],
   "source": [
    "# ANT, PRR, SAR, SYN, REL\n",
    "def getE(eIds):\n",
    "    eids = eIds.copy() # has to be copy, otherwise it modifies original relation_records list-arrays\n",
    "    eids.sort()\n",
    "    return eids[0]+\"!\"+eids[1]\n",
    "\n",
    "rdf = pd.DataFrame(dh.relation_records)\n",
    "rdf['eids'] = rdf['entityIds'].apply(lambda row:getE(row))\n",
    "removeRR  = rdf[rdf[['type','eids']].duplicated()].sort_values('eids')['id'].to_list()\n",
    "removeRR"
   ],
   "metadata": {
    "collapsed": false
   }
  },
  {
   "cell_type": "code",
   "execution_count": 343,
   "outputs": [],
   "source": [
    "relation_records_cleaned = []\n",
    "for item in dh.relation_records:\n",
    "    if item['id'] not in removeRR:\n",
    "        relation_records_cleaned.append(item)"
   ],
   "metadata": {
    "collapsed": false
   }
  },
  {
   "cell_type": "code",
   "execution_count": 344,
   "outputs": [
    {
     "data": {
      "text/plain": "(15028, 14588)"
     },
     "execution_count": 344,
     "metadata": {},
     "output_type": "execute_result"
    }
   ],
   "source": [
    "len(dh.relation_records), len(relation_records_cleaned)"
   ],
   "metadata": {
    "collapsed": false
   }
  },
  {
   "cell_type": "code",
   "execution_count": 40,
   "outputs": [
    {
     "name": "stdout",
     "output_type": "stream",
     "text": [
      "{'id': 'dbb07e20-a1c6-49a0-a47e-dfde606f8e88', 'type': 'SCL', 'entityIds': ['7db804db-fa2d-4624-810d-b3440e2f4001', '479cc4f3-b877-44a5-a0dd-c6a7cc813163']}\n",
      "1\n"
     ]
    }
   ],
   "source": [
    "# check for relations entityIds\n",
    "# a=0\n",
    "# for item in relation_records_cleaned:\n",
    "#     #if \"81e38bb2-6f84-4b30-acac-b6931929dbaf\" == item['id']:\n",
    "#     if \"7db804db-fa2d-4624-810d-b3440e2f4001\" in item['entityIds'][0] and item['type']==\"SCL\":\n",
    "#         a += 1\n",
    "#         print(item)\n",
    "# print(a)"
   ],
   "metadata": {
    "collapsed": false
   }
  },
  {
   "cell_type": "code",
   "execution_count": 347,
   "outputs": [
    {
     "data": {
      "text/plain": "                                       id  \\\n111  377a13ab-67ce-4d34-b443-c92c589f9058   \n113  795bdae8-27d7-4c32-a756-a3b6bad138ae   \n125  82d3115b-dba9-4734-be55-2cdbb8523ec8   \n164  3fc68e8e-9c57-402a-8f8c-eaec734de6ef   \n167  ccb120c6-7687-4a93-b6d7-17c30c33fd27   \n168  c38802f8-6682-4726-b3a4-0bafddd4b055   \n169  0a193b1a-e497-4318-b3f7-ba352dcf3a70   \n170  6dfb881c-1449-48d3-b134-4a441fb486a9   \n172  062ea1e6-b079-41f8-bde4-9428128c86c7   \n174  5ba1425b-45a1-4c10-8336-00065cedf14e   \n176  2a586c42-d164-46e5-ad65-142f432dfedf   \n177  3c1df548-f718-419d-ac3a-5dc084a2cae5   \n\n                                                 label legacyId detail  \\\n111  Paul de Saint-Père de Chartres, \"Monasterii Sa...      NaN    NaN   \n113  Adémar de Chabannes, Chronique, ed. J. Chavano...      NaN    NaN   \n125  Johannes monachus ad Olibam in: André de Fleur...      NaN    NaN   \n164  André de Fleury, \"Vie de Gauzlin, abbé de Fleu...      NaN    NaN   \n167  Reproduction of Paris, Bibliothèque nationale ...      NaN    NaN   \n168  Reproduction of Paris, Bibliothèque nationale ...      NaN    NaN   \n169  Reproduction of Paris, Bibliothèque nationale ...      NaN    NaN   \n170  Reproduction of Paris, Bibliothèque nationale ...      NaN    NaN   \n172  Reproduction of Paris, Bibliothèque nationale ...      NaN    NaN   \n174  Reproduction of Paris, Bibliothèque nationale ...      NaN    NaN   \n176  Reproduction of Paris, Bibliothèque nationale ...      NaN    NaN   \n177  Reproduction of Paris, Bibliothèque nationale ...      NaN    NaN   \n\n    label_language for_migration_to_ddb1 do_before_migration  \\\n111            NaN                   NaN                 NaN   \n113            NaN                   NaN                 NaN   \n125            NaN                   NaN                 NaN   \n164            NaN                   NaN                 NaN   \n167            NaN                   NaN                 NaN   \n168            NaN                   NaN                 NaN   \n169            NaN                   NaN                 NaN   \n170            NaN                   NaN                 NaN   \n172            NaN                   NaN                 NaN   \n174            NaN                   NaN                 NaN   \n176            NaN                   NaN                 NaN   \n177            NaN                   NaN                 NaN   \n\n    do_after_migration migration_check_by_david_done ready_for_migration  ...  \\\n111                NaN                           NaN                 NaN  ...   \n113                NaN                           NaN                 NaN  ...   \n125                NaN                           NaN                 NaN  ...   \n164                NaN                           NaN                 NaN  ...   \n167                NaN                           NaN                 NaN  ...   \n168                NaN                           NaN                 NaN  ...   \n169                NaN                           NaN                 NaN  ...   \n170                NaN                           NaN                 NaN  ...   \n172                NaN                           NaN                 NaN  ...   \n174                NaN                           NaN                 NaN  ...   \n176                NaN                           NaN                 NaN  ...   \n177                NaN                           NaN                 NaN  ...   \n\n    component_label parsing_type parsing_entity  \\\n111             NaN          NaN            NaN   \n113             NaN          NaN            NaN   \n125             NaN          NaN            NaN   \n164             NaN          NaN            NaN   \n167             NaN          NaN            NaN   \n168             NaN          NaN            NaN   \n169             NaN          NaN            NaN   \n170             NaN          NaN            NaN   \n172             NaN          NaN            NaN   \n174             NaN          NaN            NaN   \n176             NaN          NaN            NaN   \n177             NaN          NaN            NaN   \n\n                               dissinet_repository_url spreadsheet_id  \\\n111                                                               NaN   \n113                                                               NaN   \n125                                                               NaN   \n164                                                               NaN   \n167   https://gallica.bnf.fr/ark:/12148/btv1b10035999g            NaN   \n168   https://gallica.bnf.fr/ark:/12148/btv1b10036000n            NaN   \n169   https://gallica.bnf.fr/ark:/12148/btv1b100365190            NaN   \n170   https://gallica.bnf.fr/ark:/12148/btv1b100361092            NaN   \n172   https://gallica.bnf.fr/ark:/12148/btv1b100338354            NaN   \n174  https://gallica.bnf.fr/ark:/12148/btv1b5315700...            NaN   \n176    https://gallica.bnf.fr/ark:/12148/btv1b90680525            NaN   \n177  https://gallica.bnf.fr/ark:/12148/btv1b9077722...            NaN   \n\n    sheet_name note editor parsing_rows_explained  \\\n111        NaN  NaN    NaN                    NaN   \n113        NaN  NaN    NaN                    NaN   \n125        NaN  NaN    NaN                    NaN   \n164        NaN  NaN    NaN                    NaN   \n167        NaN  NaN    NaN                    NaN   \n168        NaN  NaN    NaN                    NaN   \n169        NaN  NaN    NaN                    NaN   \n170        NaN  NaN    NaN                    NaN   \n172        NaN  NaN    NaN                    NaN   \n174        NaN  NaN    NaN                    NaN   \n176        NaN  NaN    NaN                    NaN   \n177        NaN  NaN    NaN                    NaN   \n\n                                                origin  \n111  special C1188>:edition_1Paul de Saint-Père de ...  \n113  special C1188>:edition_2Adémar de Chabannes, C...  \n125  special C1188>:edition_1Johannes monachus ad O...  \n164  special C1188>:edition_1André de Fleury, \"Vie ...  \n167  Making Resource entity 'link|https://gallica.b...  \n168  Making Resource entity 'link|https://gallica.b...  \n169  Making Resource entity 'link|https://gallica.b...  \n170  Making Resource entity 'link|https://gallica.b...  \n172  Making Resource entity 'link|https://gallica.b...  \n174  Making Resource entity 'link|https://gallica.b...  \n176  Making Resource entity 'link|https://gallica.b...  \n177  Making Resource entity 'link|https://gallica.b...  \n\n[12 rows x 28 columns]",
      "text/html": "<div>\n<style scoped>\n    .dataframe tbody tr th:only-of-type {\n        vertical-align: middle;\n    }\n\n    .dataframe tbody tr th {\n        vertical-align: top;\n    }\n\n    .dataframe thead th {\n        text-align: right;\n    }\n</style>\n<table border=\"1\" class=\"dataframe\">\n  <thead>\n    <tr style=\"text-align: right;\">\n      <th></th>\n      <th>id</th>\n      <th>label</th>\n      <th>legacyId</th>\n      <th>detail</th>\n      <th>label_language</th>\n      <th>for_migration_to_ddb1</th>\n      <th>do_before_migration</th>\n      <th>do_after_migration</th>\n      <th>migration_check_by_david_done</th>\n      <th>ready_for_migration</th>\n      <th>...</th>\n      <th>component_label</th>\n      <th>parsing_type</th>\n      <th>parsing_entity</th>\n      <th>dissinet_repository_url</th>\n      <th>spreadsheet_id</th>\n      <th>sheet_name</th>\n      <th>note</th>\n      <th>editor</th>\n      <th>parsing_rows_explained</th>\n      <th>origin</th>\n    </tr>\n  </thead>\n  <tbody>\n    <tr>\n      <th>111</th>\n      <td>377a13ab-67ce-4d34-b443-c92c589f9058</td>\n      <td>Paul de Saint-Père de Chartres, \"Monasterii Sa...</td>\n      <td>NaN</td>\n      <td>NaN</td>\n      <td>NaN</td>\n      <td>NaN</td>\n      <td>NaN</td>\n      <td>NaN</td>\n      <td>NaN</td>\n      <td>NaN</td>\n      <td>...</td>\n      <td>NaN</td>\n      <td>NaN</td>\n      <td>NaN</td>\n      <td></td>\n      <td>NaN</td>\n      <td>NaN</td>\n      <td>NaN</td>\n      <td>NaN</td>\n      <td>NaN</td>\n      <td>special C1188&gt;:edition_1Paul de Saint-Père de ...</td>\n    </tr>\n    <tr>\n      <th>113</th>\n      <td>795bdae8-27d7-4c32-a756-a3b6bad138ae</td>\n      <td>Adémar de Chabannes, Chronique, ed. J. Chavano...</td>\n      <td>NaN</td>\n      <td>NaN</td>\n      <td>NaN</td>\n      <td>NaN</td>\n      <td>NaN</td>\n      <td>NaN</td>\n      <td>NaN</td>\n      <td>NaN</td>\n      <td>...</td>\n      <td>NaN</td>\n      <td>NaN</td>\n      <td>NaN</td>\n      <td></td>\n      <td>NaN</td>\n      <td>NaN</td>\n      <td>NaN</td>\n      <td>NaN</td>\n      <td>NaN</td>\n      <td>special C1188&gt;:edition_2Adémar de Chabannes, C...</td>\n    </tr>\n    <tr>\n      <th>125</th>\n      <td>82d3115b-dba9-4734-be55-2cdbb8523ec8</td>\n      <td>Johannes monachus ad Olibam in: André de Fleur...</td>\n      <td>NaN</td>\n      <td>NaN</td>\n      <td>NaN</td>\n      <td>NaN</td>\n      <td>NaN</td>\n      <td>NaN</td>\n      <td>NaN</td>\n      <td>NaN</td>\n      <td>...</td>\n      <td>NaN</td>\n      <td>NaN</td>\n      <td>NaN</td>\n      <td></td>\n      <td>NaN</td>\n      <td>NaN</td>\n      <td>NaN</td>\n      <td>NaN</td>\n      <td>NaN</td>\n      <td>special C1188&gt;:edition_1Johannes monachus ad O...</td>\n    </tr>\n    <tr>\n      <th>164</th>\n      <td>3fc68e8e-9c57-402a-8f8c-eaec734de6ef</td>\n      <td>André de Fleury, \"Vie de Gauzlin, abbé de Fleu...</td>\n      <td>NaN</td>\n      <td>NaN</td>\n      <td>NaN</td>\n      <td>NaN</td>\n      <td>NaN</td>\n      <td>NaN</td>\n      <td>NaN</td>\n      <td>NaN</td>\n      <td>...</td>\n      <td>NaN</td>\n      <td>NaN</td>\n      <td>NaN</td>\n      <td></td>\n      <td>NaN</td>\n      <td>NaN</td>\n      <td>NaN</td>\n      <td>NaN</td>\n      <td>NaN</td>\n      <td>special C1188&gt;:edition_1André de Fleury, \"Vie ...</td>\n    </tr>\n    <tr>\n      <th>167</th>\n      <td>ccb120c6-7687-4a93-b6d7-17c30c33fd27</td>\n      <td>Reproduction of Paris, Bibliothèque nationale ...</td>\n      <td>NaN</td>\n      <td>NaN</td>\n      <td>NaN</td>\n      <td>NaN</td>\n      <td>NaN</td>\n      <td>NaN</td>\n      <td>NaN</td>\n      <td>NaN</td>\n      <td>...</td>\n      <td>NaN</td>\n      <td>NaN</td>\n      <td>NaN</td>\n      <td>https://gallica.bnf.fr/ark:/12148/btv1b10035999g</td>\n      <td>NaN</td>\n      <td>NaN</td>\n      <td>NaN</td>\n      <td>NaN</td>\n      <td>NaN</td>\n      <td>Making Resource entity 'link|https://gallica.b...</td>\n    </tr>\n    <tr>\n      <th>168</th>\n      <td>c38802f8-6682-4726-b3a4-0bafddd4b055</td>\n      <td>Reproduction of Paris, Bibliothèque nationale ...</td>\n      <td>NaN</td>\n      <td>NaN</td>\n      <td>NaN</td>\n      <td>NaN</td>\n      <td>NaN</td>\n      <td>NaN</td>\n      <td>NaN</td>\n      <td>NaN</td>\n      <td>...</td>\n      <td>NaN</td>\n      <td>NaN</td>\n      <td>NaN</td>\n      <td>https://gallica.bnf.fr/ark:/12148/btv1b10036000n</td>\n      <td>NaN</td>\n      <td>NaN</td>\n      <td>NaN</td>\n      <td>NaN</td>\n      <td>NaN</td>\n      <td>Making Resource entity 'link|https://gallica.b...</td>\n    </tr>\n    <tr>\n      <th>169</th>\n      <td>0a193b1a-e497-4318-b3f7-ba352dcf3a70</td>\n      <td>Reproduction of Paris, Bibliothèque nationale ...</td>\n      <td>NaN</td>\n      <td>NaN</td>\n      <td>NaN</td>\n      <td>NaN</td>\n      <td>NaN</td>\n      <td>NaN</td>\n      <td>NaN</td>\n      <td>NaN</td>\n      <td>...</td>\n      <td>NaN</td>\n      <td>NaN</td>\n      <td>NaN</td>\n      <td>https://gallica.bnf.fr/ark:/12148/btv1b100365190</td>\n      <td>NaN</td>\n      <td>NaN</td>\n      <td>NaN</td>\n      <td>NaN</td>\n      <td>NaN</td>\n      <td>Making Resource entity 'link|https://gallica.b...</td>\n    </tr>\n    <tr>\n      <th>170</th>\n      <td>6dfb881c-1449-48d3-b134-4a441fb486a9</td>\n      <td>Reproduction of Paris, Bibliothèque nationale ...</td>\n      <td>NaN</td>\n      <td>NaN</td>\n      <td>NaN</td>\n      <td>NaN</td>\n      <td>NaN</td>\n      <td>NaN</td>\n      <td>NaN</td>\n      <td>NaN</td>\n      <td>...</td>\n      <td>NaN</td>\n      <td>NaN</td>\n      <td>NaN</td>\n      <td>https://gallica.bnf.fr/ark:/12148/btv1b100361092</td>\n      <td>NaN</td>\n      <td>NaN</td>\n      <td>NaN</td>\n      <td>NaN</td>\n      <td>NaN</td>\n      <td>Making Resource entity 'link|https://gallica.b...</td>\n    </tr>\n    <tr>\n      <th>172</th>\n      <td>062ea1e6-b079-41f8-bde4-9428128c86c7</td>\n      <td>Reproduction of Paris, Bibliothèque nationale ...</td>\n      <td>NaN</td>\n      <td>NaN</td>\n      <td>NaN</td>\n      <td>NaN</td>\n      <td>NaN</td>\n      <td>NaN</td>\n      <td>NaN</td>\n      <td>NaN</td>\n      <td>...</td>\n      <td>NaN</td>\n      <td>NaN</td>\n      <td>NaN</td>\n      <td>https://gallica.bnf.fr/ark:/12148/btv1b100338354</td>\n      <td>NaN</td>\n      <td>NaN</td>\n      <td>NaN</td>\n      <td>NaN</td>\n      <td>NaN</td>\n      <td>Making Resource entity 'link|https://gallica.b...</td>\n    </tr>\n    <tr>\n      <th>174</th>\n      <td>5ba1425b-45a1-4c10-8336-00065cedf14e</td>\n      <td>Reproduction of Paris, Bibliothèque nationale ...</td>\n      <td>NaN</td>\n      <td>NaN</td>\n      <td>NaN</td>\n      <td>NaN</td>\n      <td>NaN</td>\n      <td>NaN</td>\n      <td>NaN</td>\n      <td>NaN</td>\n      <td>...</td>\n      <td>NaN</td>\n      <td>NaN</td>\n      <td>NaN</td>\n      <td>https://gallica.bnf.fr/ark:/12148/btv1b5315700...</td>\n      <td>NaN</td>\n      <td>NaN</td>\n      <td>NaN</td>\n      <td>NaN</td>\n      <td>NaN</td>\n      <td>Making Resource entity 'link|https://gallica.b...</td>\n    </tr>\n    <tr>\n      <th>176</th>\n      <td>2a586c42-d164-46e5-ad65-142f432dfedf</td>\n      <td>Reproduction of Paris, Bibliothèque nationale ...</td>\n      <td>NaN</td>\n      <td>NaN</td>\n      <td>NaN</td>\n      <td>NaN</td>\n      <td>NaN</td>\n      <td>NaN</td>\n      <td>NaN</td>\n      <td>NaN</td>\n      <td>...</td>\n      <td>NaN</td>\n      <td>NaN</td>\n      <td>NaN</td>\n      <td>https://gallica.bnf.fr/ark:/12148/btv1b90680525</td>\n      <td>NaN</td>\n      <td>NaN</td>\n      <td>NaN</td>\n      <td>NaN</td>\n      <td>NaN</td>\n      <td>Making Resource entity 'link|https://gallica.b...</td>\n    </tr>\n    <tr>\n      <th>177</th>\n      <td>3c1df548-f718-419d-ac3a-5dc084a2cae5</td>\n      <td>Reproduction of Paris, Bibliothèque nationale ...</td>\n      <td>NaN</td>\n      <td>NaN</td>\n      <td>NaN</td>\n      <td>NaN</td>\n      <td>NaN</td>\n      <td>NaN</td>\n      <td>NaN</td>\n      <td>NaN</td>\n      <td>...</td>\n      <td>NaN</td>\n      <td>NaN</td>\n      <td>NaN</td>\n      <td>https://gallica.bnf.fr/ark:/12148/btv1b9077722...</td>\n      <td>NaN</td>\n      <td>NaN</td>\n      <td>NaN</td>\n      <td>NaN</td>\n      <td>NaN</td>\n      <td>Making Resource entity 'link|https://gallica.b...</td>\n    </tr>\n  </tbody>\n</table>\n<p>12 rows × 28 columns</p>\n</div>"
     },
     "execution_count": 347,
     "metadata": {},
     "output_type": "execute_result"
    }
   ],
   "source": [
    "# test\n",
    "\n",
    "dh.tables['resources'][dh.tables['resources']['label'].str.contains(\"Paris\")]"
   ],
   "metadata": {
    "collapsed": false
   }
  },
  {
   "cell_type": "code",
   "execution_count": 315,
   "outputs": [
    {
     "data": {
      "text/plain": "'3feae15a-e17a-4844-b6a3-88678a4720db'"
     },
     "execution_count": 315,
     "metadata": {},
     "output_type": "execute_result"
    }
   ],
   "source": [
    "dh.entity_ids['resources']['M21']"
   ],
   "metadata": {
    "collapsed": false
   }
  },
  {
   "cell_type": "code",
   "execution_count": 316,
   "outputs": [
    {
     "name": "stdout",
     "output_type": "stream",
     "text": [
      "############## texts\n",
      "Data group: texts\n",
      "############## texts 0.\n",
      "############## manuscripts\n",
      "Data group: manuscripts\n",
      "############## manuscripts 0.\n",
      "############## resources\n",
      "There are duplicates! 107    NaN\n",
      "108    NaN\n",
      "109    NaN\n",
      "110    NaN\n",
      "111    NaN\n",
      "      ... \n",
      "180    NaN\n",
      "181    NaN\n",
      "182    NaN\n",
      "183    NaN\n",
      "184    NaN\n",
      "Name: legacyId, Length: 78, dtype: object\n",
      "Data group: resources\n",
      "############## resources 0.\n",
      "############## actions\n",
      "Data group: actions\n",
      "############## actions 0.\n",
      "############## concepts\n",
      "Data group: concepts\n",
      "############## concepts 0.\n",
      "############## R0006_persons\n",
      "Data group: persons\n",
      "############## R0006_persons 0.\n",
      "############## R0007_locations\n",
      "Data group: locations\n",
      "############## R0007_locations 0.\n",
      "############## R0008_events\n",
      "Data group: events\n",
      "############## R0008_events 0.\n",
      "############## R0075_persons\n",
      "Data group: persons\n",
      "############## R0075_persons 0.\n",
      "############## R0035_locations\n",
      "Data group: locations\n",
      "############## R0035_locations 0.\n",
      "############## R0083_events\n",
      "Data group: events\n",
      "############## R0083_events 0.\n",
      "############## R0105_groups\n",
      "Data group: groups\n",
      "############## R0105_groups 0.\n",
      "############## R0030_persons\n",
      "Data group: persons\n",
      "############## R0030_persons 0.\n",
      "############## R0087_groups\n",
      "Data group: groups\n",
      "############## R0087_groups 0.\n",
      "############## R0031_locations\n",
      "Data group: locations\n",
      "############## R0031_locations 0.\n",
      "############## R0082_events\n",
      "Data group: events\n",
      "############## R0082_events 0.\n",
      "############## R0039_persons\n",
      "Data group: persons\n",
      "############## R0039_persons 0.\n",
      "############## R0040_locations\n",
      "Data group: locations\n",
      "############## R0040_locations 0.\n",
      "############## R0079_events\n",
      "Data group: events\n",
      "############## R0079_events 0.\n",
      "############## R0076_persons\n",
      "Data group: persons\n",
      "############## R0076_persons 0.\n",
      "############## R0074_locations\n",
      "Data group: locations\n",
      "############## R0074_locations 0.\n",
      "############## R0104_events\n",
      "Data group: events\n",
      "############## R0104_events 0.\n",
      "############## values\n",
      "############## locations\n",
      "############## events\n",
      "############## props\n",
      "############## relations\n",
      "There were 0 errors in total.\n"
     ]
    }
   ],
   "source": [
    "dh.checkIDs()"
   ],
   "metadata": {
    "collapsed": false
   }
  },
  {
   "cell_type": "markdown",
   "source": [
    "### Profiling"
   ],
   "metadata": {
    "collapsed": false
   }
  },
  {
   "cell_type": "code",
   "execution_count": null,
   "outputs": [],
   "source": [
    "#%reload_ext line_profiler\n",
    "\n",
    "# def profile():\n",
    "#    cp.parsers['concepts'].parse_rows()\n",
    "\n",
    "#%lprun -f EntityMapper.get_entity_id profile()"
   ],
   "metadata": {
    "collapsed": false
   }
  },
  {
   "cell_type": "code",
   "execution_count": null,
   "outputs": [],
   "source": [
    "# %prun -s tottime profile()"
   ],
   "metadata": {
    "collapsed": false
   }
  },
  {
   "cell_type": "code",
   "execution_count": null,
   "outputs": [],
   "source": [
    "# %lprun?"
   ],
   "metadata": {
    "collapsed": false
   }
  },
  {
   "cell_type": "markdown",
   "source": [
    "### Last checks"
   ],
   "metadata": {
    "collapsed": false
   }
  },
  {
   "cell_type": "code",
   "execution_count": null,
   "outputs": [],
   "source": [],
   "metadata": {
    "collapsed": false
   }
  },
  {
   "cell_type": "code",
   "execution_count": 345,
   "outputs": [
    {
     "name": "stderr",
     "output_type": "stream",
     "text": [
      "2023-01-21 19:21:55,069 INFO There are 18856 additionally created entities (e.g. values, resources ...).\n"
     ]
    }
   ],
   "source": [
    "logger.info(f\"There are {len(dh.additional_entities)} additionally created entities (e.g. values, resources ...).\")"
   ],
   "metadata": {
    "collapsed": false
   }
  },
  {
   "cell_type": "markdown",
   "source": [
    "# Output the parsed data"
   ],
   "metadata": {
    "collapsed": false
   }
  },
  {
   "cell_type": "code",
   "execution_count": 299,
   "outputs": [],
   "source": [
    "# root data\n",
    "root_territory = \"\"\"\n",
    " {\n",
    "    \"id\": \"T0\",\n",
    "    \"class\": \"T\",\n",
    "    \"data\": { \"parent\": false },\n",
    "    \"label\": \"root\",\n",
    "    \"detail\": \"\",\n",
    "    \"language\": \"lat\",\n",
    "    \"notes\": [],\n",
    "    \"props\": []\n",
    "  }\n",
    "\"\"\""
   ],
   "metadata": {
    "collapsed": false
   }
  },
  {
   "cell_type": "code",
   "execution_count": 355,
   "outputs": [],
   "source": [
    "# open robert's example of Nior coding\n",
    "robert_data1317 = {\n",
    "  \"entities\": json.load(open(\"../datasets/experiments/diff1317/entities.json\",\"r\")),\n",
    "  \"relations\": json.load(open(\"../datasets/experiments/diff1317/relations.json\",\"r\")),\n",
    "  \"audits\": json.load(open(\"../datasets/experiments/diff1317/audits.json\",\"r\"))\n",
    "}\n",
    "\n",
    "robert_data1719 = {\n",
    "  \"entities\": json.load(open(\"../datasets/experiments/diff1719/entities.json\",\"r\")),\n",
    "  \"relations\": json.load(open(\"../datasets/experiments/diff1719/relations.json\",\"r\")),\n",
    "  \"audits\": json.load(open(\"../datasets/experiments/diff1719/audits.json\",\"r\"))\n",
    "}\n",
    "\n",
    "robert_data1920 = {\n",
    "  \"entities\": json.load(open(\"../datasets/experiments/diff1920/entities.json\",\"r\")),\n",
    "  \"relations\": json.load(open(\"../datasets/experiments/diff1920/relations.json\",\"r\")),\n",
    "  \"audits\": json.load(open(\"../datasets/experiments/diff1920/audits.json\",\"r\"))\n",
    "}\n",
    "\n",
    "robert_data2021 = {\n",
    "  \"entities\": json.load(open(\"../datasets/experiments/diff2021/entities.json\",\"r\")),\n",
    "  \"relations\": json.load(open(\"../datasets/experiments/diff2021/relations.json\",\"r\")),\n",
    "  \"audits\": json.load(open(\"../datasets/experiments/diff2021/audits.json\",\"r\"))\n",
    "}\n",
    "\n",
    "\n",
    "r_entities1317 = json.dumps(robert_data1317[\"entities\"])[1:-1]\n",
    "r_entities1719 = json.dumps(robert_data1719[\"entities\"])[1:-1]\n",
    "r_entities1920 = json.dumps(robert_data1920[\"entities\"])[1:-1]\n",
    "r_entities2021 = json.dumps(robert_data2021[\"entities\"])[1:-1]\n",
    "\n",
    "r_relations1317 = json.dumps(robert_data1317['relations'])[1:-1]\n",
    "r_relations1719 = json.dumps(robert_data1719['relations'])[1:-1]\n",
    "r_relations1920 = json.dumps(robert_data1920['relations'])[1:-1]\n",
    "r_relations2021 = json.dumps(robert_data2021['relations'])[1:-1]\n",
    "#r_audits = json.dumps(robert_data['audits'])[1:len(str(robert_data['audits']))-1]"
   ],
   "metadata": {
    "collapsed": false
   }
  },
  {
   "cell_type": "code",
   "execution_count": 356,
   "outputs": [],
   "source": [
    "# ideal \"2023-01-13T20:05:56Z\"\n",
    "import datetime\n",
    "for item in robert_data1317[\"audits\"]:\n",
    "  #print(item['date']['epoch_time']), print(datetime.datetime.fromtimestamp(item['date']['epoch_time']))\n",
    "  new_time_chunks = str(datetime.datetime.fromtimestamp(item['date']['epoch_time'])).split(\" \")\n",
    "  new_time = new_time_chunks[0]+\"T\"+new_time_chunks[1].split(\".\")[0]+\"Z\"\n",
    "  item['date'] = new_time\n",
    "\n",
    "r_audits1317 = json.dumps(robert_data1317['audits'])[1:-1]\n",
    "\n",
    "for item in robert_data1719[\"audits\"]:\n",
    "  #print(item['date']['epoch_time']), print(datetime.datetime.fromtimestamp(item['date']['epoch_time']))\n",
    "  new_time_chunks = str(datetime.datetime.fromtimestamp(item['date']['epoch_time'])).split(\" \")\n",
    "  new_time = new_time_chunks[0]+\"T\"+new_time_chunks[1].split(\".\")[0]+\"Z\"\n",
    "  item['date'] = new_time\n",
    "\n",
    "r_audits1719 = json.dumps(robert_data1719['audits'])[1:-1]\n",
    "\n",
    "for item in robert_data1920[\"audits\"]:\n",
    "  #print(item['date']['epoch_time']), print(datetime.datetime.fromtimestamp(item['date']['epoch_time']))\n",
    "  new_time_chunks = str(datetime.datetime.fromtimestamp(item['date']['epoch_time'])).split(\" \")\n",
    "  new_time = new_time_chunks[0]+\"T\"+new_time_chunks[1].split(\".\")[0]+\"Z\"\n",
    "  item['date'] = new_time\n",
    "\n",
    "r_audits1920 = json.dumps(robert_data1920['audits'])[1:-1]\n",
    "\n",
    "for item in robert_data2021[\"audits\"]:\n",
    "  #print(item['date']['epoch_time']), print(datetime.datetime.fromtimestamp(item['date']['epoch_time']))\n",
    "  new_time_chunks = str(datetime.datetime.fromtimestamp(item['date']['epoch_time'])).split(\" \")\n",
    "  new_time = new_time_chunks[0]+\"T\"+new_time_chunks[1].split(\".\")[0]+\"Z\"\n",
    "  item['date'] = new_time\n",
    "\n",
    "r_audits2021 = json.dumps(robert_data2021['audits'])[1:-1]"
   ],
   "metadata": {
    "collapsed": false
   }
  },
  {
   "cell_type": "code",
   "execution_count": 179,
   "outputs": [],
   "source": [],
   "metadata": {
    "collapsed": false
   }
  },
  {
   "cell_type": "code",
   "execution_count": 357,
   "outputs": [
    {
     "data": {
      "text/plain": "(35168, 54585, 31748, 7110)"
     },
     "execution_count": 357,
     "metadata": {},
     "output_type": "execute_result"
    }
   ],
   "source": [
    "len(r_entities1317), len(r_entities1719),len(r_entities1920),len(r_entities2021)"
   ],
   "metadata": {
    "collapsed": false
   }
  },
  {
   "cell_type": "code",
   "execution_count": 490,
   "outputs": [],
   "source": [
    "r_entities = r_entities1317 + \",\" + r_entities1719 + \",\" + r_entities1920 + \",\" + r_entities2021\n",
    "r_relations = r_relations1317 + \",\" + r_relations1719 + \",\" + r_relations1920 + \",\" + r_relations2021\n",
    "r_audits = r_audits1317 + \",\" + r_audits1719 + \",\" + r_audits1920 + \",\" + r_audits2021"
   ],
   "metadata": {
    "collapsed": false
   }
  },
  {
   "cell_type": "code",
   "execution_count": 492,
   "outputs": [
    {
     "name": "stderr",
     "output_type": "stream",
     "text": [
      "2023-01-22 10:19:38,084 INFO END\n"
     ]
    }
   ],
   "source": [
    "\n",
    "# save json object list of the parsed entities from google sheets in the text file\n",
    "with open('../datasets/all-test/new_entities.json', 'w', encoding='utf-8') as f:\n",
    "    #f.write(str(cp.parsers['texts'].js_objects))\n",
    "    json.dump(dh.js_objects, f)\n",
    "\n",
    "# save json object list of the \"newly created entities\" in the text file\n",
    "with open('../datasets/all-test/additional_entities.json', 'w', encoding='utf-8') as f:\n",
    "    #f.write(str(cp.parsers['texts'].js_objects))\n",
    "    json.dump(dh.additional_entities, f)\n",
    "\n",
    "# read  entities.json\n",
    "with open('../datasets/all/entities.json','r') as f:\n",
    "    #entities_content = f.readlines()\n",
    "    entities_content = f.read().replace('\\n', '')\n",
    "\n",
    "# read  entities.json\n",
    "with open('../datasets/all-test/new_entities.json','r') as f:\n",
    "    #entities_content = f.readlines()\n",
    "    new_entities_content = f.read().replace('\\n', '')\n",
    "\n",
    "additional_entities_string = json.dumps(dh.additional_entities)\n",
    "\n",
    "# write new and combine with old test data\n",
    "with open('../datasets/all-test/entities.json','w', encoding='utf-8') as f:\n",
    "    #merge_content = entities_content[0:-1] +  str(cp.parsers['texts'].js_objects)[1:]\n",
    "    merge_content = entities_content[0:-1] +\", \" + additional_entities_string[1:-1]+ \", \" + new_entities_content[1:]\n",
    "    f.write(str(merge_content))\n",
    "\n",
    "# write just the new parse data to the entities json.\n",
    "with open('../datasets/all-parsed/entities.json','w', encoding='utf-8') as f:\n",
    "    #merge_content = entities_content[0:-1] +  str(cp.parsers['texts'].js_objects)[1:]\n",
    "    merge_content =  \"[\" + root_territory + \",\" + additional_entities_string[1:-1]+ \",\"+ r_entities +\",\"+  new_entities_content[1:]\n",
    "    f.write(str(merge_content))\n",
    "\n",
    "relations_entities_string = json.dumps(relation_records_cleaned)\n",
    "audits_entities_string = json.dumps(dh.audits)\n",
    "\n",
    "# write relations\n",
    "with open('../datasets/all-parsed/relations.json','w', encoding='utf-8') as f:\n",
    "    merge_content =  relations_entities_string[0:-1] + \",\" + r_relations + \"]\"\n",
    "    f.write(str(merge_content))\n",
    "    #json.dump(relation_records_cleaned, f)\n",
    "\n",
    "# write the audits json.\n",
    "with open('../datasets/all-parsed/audits.json','w', encoding='utf-8') as f:\n",
    "    merge_content =  audits_entities_string[0:-1] +  \",\"+ r_audits + \"]\"\n",
    "    f.write(str(merge_content))\n",
    "    #json.dump(dh.audits, f)\n",
    "\n",
    "# write just the new parse data to the entities json.\n",
    "with open('../datasets/all-parsed-wr/entities.json','w', encoding='utf-8') as f:\n",
    "    #merge_content = entities_content[0:-1] +  str(cp.parsers['texts'].js_objects)[1:]\n",
    "    merge_content =  \"[\" + root_territory + \",\" + additional_entities_string[1:-1] +\",\"+  new_entities_content[1:]\n",
    "    f.write(str(merge_content))\n",
    "\n",
    "\n",
    "# write relations\n",
    "with open('../datasets/all-parsed-wr/relations.json','w', encoding='utf-8') as f:\n",
    "    merge_content =  relations_entities_string[0:-1] + \"]\"\n",
    "    f.write(str(merge_content))\n",
    "    #json.dump(relation_records_cleaned, f)\n",
    "\n",
    "# write the audits json.\n",
    "with open('../datasets/all-parsed-wr/audits.json','w', encoding='utf-8') as f:\n",
    "    merge_content =  audits_entities_string[0:-1] + \"]\"\n",
    "    f.write(str(merge_content))\n",
    "\n",
    "\n",
    "logger.info(\"END\")"
   ],
   "metadata": {
    "collapsed": false
   }
  },
  {
   "cell_type": "code",
   "execution_count": 493,
   "outputs": [],
   "source": [
    "# simple 2 strategy\n",
    "\n",
    "parsed_e_df = pd.DataFrame(json.load(open(\"../datasets/all-parsed-wr/entities.json\",\"r\"))).fillna(\"\").set_index(\"id\")\n",
    "parsed_r_df = pd.DataFrame(json.load(open(\"../datasets/all-parsed-wr/relations.json\",\"r\"))).fillna(\"\").set_index(\"id\")\n",
    "parsed_a_df = pd.DataFrame(json.load(open(\"../datasets/all-parsed-wr/audits.json\",\"r\"))).fillna(\"\").set_index(\"id\")\n",
    "\n",
    "ddb1_e_df = pd.DataFrame(json.load(open(\"../datasets/experiments/21/entities.json\",\"r\"))).fillna(\"\").set_index(\"id\")\n",
    "ddb1_r_df = pd.DataFrame(json.load(open(\"../datasets/experiments/21/relations.json\",\"r\"))).fillna(\"\").set_index(\"id\")\n",
    "ddb1_a_df = pd.DataFrame(json.load(open(\"../datasets/experiments/21/audits.json\",\"r\"))).fillna(\"\").set_index(\"id\")\n",
    "\n"
   ],
   "metadata": {
    "collapsed": false
   }
  },
  {
   "cell_type": "code",
   "execution_count": 447,
   "outputs": [
    {
     "data": {
      "text/plain": "(29360, 27980)"
     },
     "execution_count": 447,
     "metadata": {},
     "output_type": "execute_result"
    }
   ],
   "source": [
    "len(parsed_e_df), len(ddb1_e_df)"
   ],
   "metadata": {
    "collapsed": false
   }
  },
  {
   "cell_type": "code",
   "execution_count": 468,
   "outputs": [],
   "source": [
    "ddb1_e_df['notes_s'] = ddb1_e_df['notes'].astype(str)"
   ],
   "metadata": {
    "collapsed": false
   }
  },
  {
   "cell_type": "code",
   "execution_count": 469,
   "outputs": [
    {
     "data": {
      "text/plain": "                                     class  \\\nid                                           \n025d451c-0fce-436c-8d37-0d13ac7f90a9     C   \n0a2ba32a-4c7e-40e4-a684-a65e6044e3c2     E   \n0e8166b4-f424-4717-b29e-685899e1b3c3     A   \n0fcf21d7-da3b-4fb4-bebe-bd5930685b12     V   \n10d2538b-d7d7-4a4f-9e34-1f7993337dc9     V   \n...                                    ...   \nf69921f2-5f70-4fd6-84da-16dba150656b     V   \nf71126df-fc8f-42d0-977d-4f3414682bee     C   \nf924fdff-4370-4b6d-a197-f2b289653117     V   \nf9bbe9a1-5104-44c1-b74e-263636287bda     P   \nfdc06b64-1c21-46e6-af38-1778c3ca7346     C   \n\n                                                                                   data  \\\nid                                                                                        \n025d451c-0fce-436c-8d37-0d13ac7f90a9                                                 {}   \n0a2ba32a-4c7e-40e4-a684-a65e6044e3c2                               {'logicalType': '1'}   \n0e8166b4-f424-4717-b29e-685899e1b3c3  {'entities': {'a1': ['P', 'G'], 'a2': ['C', 'E...   \n0fcf21d7-da3b-4fb4-bebe-bd5930685b12                                                 {}   \n10d2538b-d7d7-4a4f-9e34-1f7993337dc9                                                 {}   \n...                                                                                 ...   \nf69921f2-5f70-4fd6-84da-16dba150656b                                                 {}   \nf71126df-fc8f-42d0-977d-4f3414682bee                                                 {}   \nf924fdff-4370-4b6d-a197-f2b289653117                                                 {}   \nf9bbe9a1-5104-44c1-b74e-263636287bda                               {'logicalType': '3'}   \nfdc06b64-1c21-46e6-af38-1778c3ca7346                                                 {}   \n\n                                                                        detail  \\\nid                                                                               \n025d451c-0fce-436c-8d37-0d13ac7f90a9      supporter of heretics (i.e. Cathars)   \n0a2ba32a-4c7e-40e4-a684-a65e6044e3c2                                             \n0e8166b4-f424-4717-b29e-685899e1b3c3  bore witness (in front of sb - about st)   \n0fcf21d7-da3b-4fb4-bebe-bd5930685b12                                             \n10d2538b-d7d7-4a4f-9e34-1f7993337dc9                                             \n...                                                                        ...   \nf69921f2-5f70-4fd6-84da-16dba150656b                                             \nf71126df-fc8f-42d0-977d-4f3414682bee                                 reporting   \nf924fdff-4370-4b6d-a197-f2b289653117                                             \nf9bbe9a1-5104-44c1-b74e-263636287bda                                             \nfdc06b64-1c21-46e6-af38-1778c3ca7346                                       how   \n\n                                                          label language  \\\nid                                                                         \n025d451c-0fce-436c-8d37-0d13ac7f90a9         fautor hereticorum      lat   \n0a2ba32a-4c7e-40e4-a684-a65e6044e3c2  metus huius inquisitionis      lat   \n0e8166b4-f424-4717-b29e-685899e1b3c3                 testatus/a      lat   \n0fcf21d7-da3b-4fb4-bebe-bd5930685b12                        34v      lat   \n10d2538b-d7d7-4a4f-9e34-1f7993337dc9                        34r      lat   \n...                                                         ...      ...   \nf69921f2-5f70-4fd6-84da-16dba150656b                        34v      lat   \nf71126df-fc8f-42d0-977d-4f3414682bee                    relatio      lat   \nf924fdff-4370-4b6d-a197-f2b289653117                        36r      lat   \nf9bbe9a1-5104-44c1-b74e-263636287bda                       Deus      lat   \nfdc06b64-1c21-46e6-af38-1778c3ca7346                    quomodo      lat   \n\n                                     legacyId notes  \\\nid                                                    \n025d451c-0fce-436c-8d37-0d13ac7f90a9             []   \n0a2ba32a-4c7e-40e4-a684-a65e6044e3c2             []   \n0e8166b4-f424-4717-b29e-685899e1b3c3             []   \n0fcf21d7-da3b-4fb4-bebe-bd5930685b12             []   \n10d2538b-d7d7-4a4f-9e34-1f7993337dc9             []   \n...                                       ...   ...   \nf69921f2-5f70-4fd6-84da-16dba150656b             []   \nf71126df-fc8f-42d0-977d-4f3414682bee             []   \nf924fdff-4370-4b6d-a197-f2b289653117             []   \nf9bbe9a1-5104-44c1-b74e-263636287bda             []   \nfdc06b64-1c21-46e6-af38-1778c3ca7346             []   \n\n                                                                                  props  \\\nid                                                                                        \n025d451c-0fce-436c-8d37-0d13ac7f90a9  [{'bundleEnd': False, 'bundleOperator': 'a', '...   \n0a2ba32a-4c7e-40e4-a684-a65e6044e3c2                                                 []   \n0e8166b4-f424-4717-b29e-685899e1b3c3                                                 []   \n0fcf21d7-da3b-4fb4-bebe-bd5930685b12                                                 []   \n10d2538b-d7d7-4a4f-9e34-1f7993337dc9                                                 []   \n...                                                                                 ...   \nf69921f2-5f70-4fd6-84da-16dba150656b                                                 []   \nf71126df-fc8f-42d0-977d-4f3414682bee                                                 []   \nf924fdff-4370-4b6d-a197-f2b289653117                                                 []   \nf9bbe9a1-5104-44c1-b74e-263636287bda                                                 []   \nfdc06b64-1c21-46e6-af38-1778c3ca7346                                                 []   \n\n                                     references status isTemplate notes_s  \nid                                                                         \n025d451c-0fce-436c-8d37-0d13ac7f90a9         []      4      False      []  \n0a2ba32a-4c7e-40e4-a684-a65e6044e3c2         []      1      False      []  \n0e8166b4-f424-4717-b29e-685899e1b3c3         []      1      False      []  \n0fcf21d7-da3b-4fb4-bebe-bd5930685b12         []      1      False      []  \n10d2538b-d7d7-4a4f-9e34-1f7993337dc9         []      1      False      []  \n...                                         ...    ...        ...     ...  \nf69921f2-5f70-4fd6-84da-16dba150656b         []      1      False      []  \nf71126df-fc8f-42d0-977d-4f3414682bee         []      4      False      []  \nf924fdff-4370-4b6d-a197-f2b289653117         []      1      False      []  \nf9bbe9a1-5104-44c1-b74e-263636287bda         []      1      False      []  \nfdc06b64-1c21-46e6-af38-1778c3ca7346         []      1      False      []  \n\n[159 rows x 12 columns]",
      "text/html": "<div>\n<style scoped>\n    .dataframe tbody tr th:only-of-type {\n        vertical-align: middle;\n    }\n\n    .dataframe tbody tr th {\n        vertical-align: top;\n    }\n\n    .dataframe thead th {\n        text-align: right;\n    }\n</style>\n<table border=\"1\" class=\"dataframe\">\n  <thead>\n    <tr style=\"text-align: right;\">\n      <th></th>\n      <th>class</th>\n      <th>data</th>\n      <th>detail</th>\n      <th>label</th>\n      <th>language</th>\n      <th>legacyId</th>\n      <th>notes</th>\n      <th>props</th>\n      <th>references</th>\n      <th>status</th>\n      <th>isTemplate</th>\n      <th>notes_s</th>\n    </tr>\n    <tr>\n      <th>id</th>\n      <th></th>\n      <th></th>\n      <th></th>\n      <th></th>\n      <th></th>\n      <th></th>\n      <th></th>\n      <th></th>\n      <th></th>\n      <th></th>\n      <th></th>\n      <th></th>\n    </tr>\n  </thead>\n  <tbody>\n    <tr>\n      <th>025d451c-0fce-436c-8d37-0d13ac7f90a9</th>\n      <td>C</td>\n      <td>{}</td>\n      <td>supporter of heretics (i.e. Cathars)</td>\n      <td>fautor hereticorum</td>\n      <td>lat</td>\n      <td></td>\n      <td>[]</td>\n      <td>[{'bundleEnd': False, 'bundleOperator': 'a', '...</td>\n      <td>[]</td>\n      <td>4</td>\n      <td>False</td>\n      <td>[]</td>\n    </tr>\n    <tr>\n      <th>0a2ba32a-4c7e-40e4-a684-a65e6044e3c2</th>\n      <td>E</td>\n      <td>{'logicalType': '1'}</td>\n      <td></td>\n      <td>metus huius inquisitionis</td>\n      <td>lat</td>\n      <td></td>\n      <td>[]</td>\n      <td>[]</td>\n      <td>[]</td>\n      <td>1</td>\n      <td>False</td>\n      <td>[]</td>\n    </tr>\n    <tr>\n      <th>0e8166b4-f424-4717-b29e-685899e1b3c3</th>\n      <td>A</td>\n      <td>{'entities': {'a1': ['P', 'G'], 'a2': ['C', 'E...</td>\n      <td>bore witness (in front of sb - about st)</td>\n      <td>testatus/a</td>\n      <td>lat</td>\n      <td></td>\n      <td>[]</td>\n      <td>[]</td>\n      <td>[]</td>\n      <td>1</td>\n      <td>False</td>\n      <td>[]</td>\n    </tr>\n    <tr>\n      <th>0fcf21d7-da3b-4fb4-bebe-bd5930685b12</th>\n      <td>V</td>\n      <td>{}</td>\n      <td></td>\n      <td>34v</td>\n      <td>lat</td>\n      <td></td>\n      <td>[]</td>\n      <td>[]</td>\n      <td>[]</td>\n      <td>1</td>\n      <td>False</td>\n      <td>[]</td>\n    </tr>\n    <tr>\n      <th>10d2538b-d7d7-4a4f-9e34-1f7993337dc9</th>\n      <td>V</td>\n      <td>{}</td>\n      <td></td>\n      <td>34r</td>\n      <td>lat</td>\n      <td></td>\n      <td>[]</td>\n      <td>[]</td>\n      <td>[]</td>\n      <td>1</td>\n      <td>False</td>\n      <td>[]</td>\n    </tr>\n    <tr>\n      <th>...</th>\n      <td>...</td>\n      <td>...</td>\n      <td>...</td>\n      <td>...</td>\n      <td>...</td>\n      <td>...</td>\n      <td>...</td>\n      <td>...</td>\n      <td>...</td>\n      <td>...</td>\n      <td>...</td>\n      <td>...</td>\n    </tr>\n    <tr>\n      <th>f69921f2-5f70-4fd6-84da-16dba150656b</th>\n      <td>V</td>\n      <td>{}</td>\n      <td></td>\n      <td>34v</td>\n      <td>lat</td>\n      <td></td>\n      <td>[]</td>\n      <td>[]</td>\n      <td>[]</td>\n      <td>1</td>\n      <td>False</td>\n      <td>[]</td>\n    </tr>\n    <tr>\n      <th>f71126df-fc8f-42d0-977d-4f3414682bee</th>\n      <td>C</td>\n      <td>{}</td>\n      <td>reporting</td>\n      <td>relatio</td>\n      <td>lat</td>\n      <td></td>\n      <td>[]</td>\n      <td>[]</td>\n      <td>[]</td>\n      <td>4</td>\n      <td>False</td>\n      <td>[]</td>\n    </tr>\n    <tr>\n      <th>f924fdff-4370-4b6d-a197-f2b289653117</th>\n      <td>V</td>\n      <td>{}</td>\n      <td></td>\n      <td>36r</td>\n      <td>lat</td>\n      <td></td>\n      <td>[]</td>\n      <td>[]</td>\n      <td>[]</td>\n      <td>1</td>\n      <td>False</td>\n      <td>[]</td>\n    </tr>\n    <tr>\n      <th>f9bbe9a1-5104-44c1-b74e-263636287bda</th>\n      <td>P</td>\n      <td>{'logicalType': '3'}</td>\n      <td></td>\n      <td>Deus</td>\n      <td>lat</td>\n      <td></td>\n      <td>[]</td>\n      <td>[]</td>\n      <td>[]</td>\n      <td>1</td>\n      <td>False</td>\n      <td>[]</td>\n    </tr>\n    <tr>\n      <th>fdc06b64-1c21-46e6-af38-1778c3ca7346</th>\n      <td>C</td>\n      <td>{}</td>\n      <td>how</td>\n      <td>quomodo</td>\n      <td>lat</td>\n      <td></td>\n      <td>[]</td>\n      <td>[]</td>\n      <td>[]</td>\n      <td>1</td>\n      <td>False</td>\n      <td>[]</td>\n    </tr>\n  </tbody>\n</table>\n<p>159 rows × 12 columns</p>\n</div>"
     },
     "execution_count": 469,
     "metadata": {},
     "output_type": "execute_result"
    }
   ],
   "source": [
    "# robert_e_df = ddb1_e_df[(~ddb1_e_df.index.isin(parsed_e_df.index)) & (ddb1_e_df['notes'].str.contains(\"Import\"))]\n",
    "robert_e_df = ddb1_e_df[~ddb1_e_df['notes_s'].str.contains(\"Import\")]\n",
    "robert_e_df"
   ],
   "metadata": {
    "collapsed": false
   }
  },
  {
   "cell_type": "code",
   "execution_count": 470,
   "outputs": [
    {
     "data": {
      "text/plain": "                                                                              entityIds  \\\nid                                                                                        \n0002ea21-f57a-4066-95e2-3f5cc17adf45  [6832b685-7391-4e6f-9dee-53ab048bced4, 390ac71...   \n00055fff-5cbf-4e4f-a5b9-e9f8cd5d3b25  [d08daee5-e2b4-458e-af9a-5d25942cee21, b1f631b...   \n00062934-e2cc-45e0-a4c2-f3efe0a790ee  [9238a54a-8b50-4418-8a8a-5d8e1aeed77b, eabcf67...   \n00079b82-f3eb-4815-b4f6-2a40ac887484  [e7d8ae89-792a-4586-b9e2-4d83e3ea8824, adc03f9...   \n00099734-9287-430a-9e50-5a98dcd4a6fc  [469ca1dd-734b-4534-9bfc-fdaae17dc953, cbf3b28...   \n...                                                                                 ...   \nffea7bb7-15aa-4a61-972e-ba40fa3dea12  [2abe4053-4018-4275-b20a-2e1021ac8d0c, 0d8e22d...   \nffef934d-3ddd-4382-8c4e-38430e3df341  [4a4b7303-7823-43cc-8d85-546db731e3e5, 4762d66...   \nfff1ddfd-e0c3-425a-856b-ec42cccacbc6  [b2c92fdf-dc0d-4699-ac58-27c3472f52c3, 5904cba...   \nfff26bd9-4ea8-406c-8eac-7161dd151427  [4f11cc6a-4841-4c62-86c0-73c470aba99b, f21770f...   \nfffd69da-9881-46bf-9055-b13e9a25b46e  [f738338b-6142-4fd2-a35a-83541a1061a5, 8c4c86b...   \n\n                                     order type certainty  \nid                                                         \n0002ea21-f57a-4066-95e2-3f5cc17adf45  10.0  A2S            \n00055fff-5cbf-4e4f-a5b9-e9f8cd5d3b25  10.0  REL            \n00062934-e2cc-45e0-a4c2-f3efe0a790ee   1.0  CLA            \n00079b82-f3eb-4815-b4f6-2a40ac887484  10.0  CLA            \n00099734-9287-430a-9e50-5a98dcd4a6fc   1.0  CLA            \n...                                    ...  ...       ...  \nffea7bb7-15aa-4a61-972e-ba40fa3dea12  10.0  SOL            \nffef934d-3ddd-4382-8c4e-38430e3df341  10.0  SOL            \nfff1ddfd-e0c3-425a-856b-ec42cccacbc6  10.0  CLA            \nfff26bd9-4ea8-406c-8eac-7161dd151427  10.0  SCL            \nfffd69da-9881-46bf-9055-b13e9a25b46e  10.0  AEE            \n\n[14650 rows x 4 columns]",
      "text/html": "<div>\n<style scoped>\n    .dataframe tbody tr th:only-of-type {\n        vertical-align: middle;\n    }\n\n    .dataframe tbody tr th {\n        vertical-align: top;\n    }\n\n    .dataframe thead th {\n        text-align: right;\n    }\n</style>\n<table border=\"1\" class=\"dataframe\">\n  <thead>\n    <tr style=\"text-align: right;\">\n      <th></th>\n      <th>entityIds</th>\n      <th>order</th>\n      <th>type</th>\n      <th>certainty</th>\n    </tr>\n    <tr>\n      <th>id</th>\n      <th></th>\n      <th></th>\n      <th></th>\n      <th></th>\n    </tr>\n  </thead>\n  <tbody>\n    <tr>\n      <th>0002ea21-f57a-4066-95e2-3f5cc17adf45</th>\n      <td>[6832b685-7391-4e6f-9dee-53ab048bced4, 390ac71...</td>\n      <td>10.0</td>\n      <td>A2S</td>\n      <td></td>\n    </tr>\n    <tr>\n      <th>00055fff-5cbf-4e4f-a5b9-e9f8cd5d3b25</th>\n      <td>[d08daee5-e2b4-458e-af9a-5d25942cee21, b1f631b...</td>\n      <td>10.0</td>\n      <td>REL</td>\n      <td></td>\n    </tr>\n    <tr>\n      <th>00062934-e2cc-45e0-a4c2-f3efe0a790ee</th>\n      <td>[9238a54a-8b50-4418-8a8a-5d8e1aeed77b, eabcf67...</td>\n      <td>1.0</td>\n      <td>CLA</td>\n      <td></td>\n    </tr>\n    <tr>\n      <th>00079b82-f3eb-4815-b4f6-2a40ac887484</th>\n      <td>[e7d8ae89-792a-4586-b9e2-4d83e3ea8824, adc03f9...</td>\n      <td>10.0</td>\n      <td>CLA</td>\n      <td></td>\n    </tr>\n    <tr>\n      <th>00099734-9287-430a-9e50-5a98dcd4a6fc</th>\n      <td>[469ca1dd-734b-4534-9bfc-fdaae17dc953, cbf3b28...</td>\n      <td>1.0</td>\n      <td>CLA</td>\n      <td></td>\n    </tr>\n    <tr>\n      <th>...</th>\n      <td>...</td>\n      <td>...</td>\n      <td>...</td>\n      <td>...</td>\n    </tr>\n    <tr>\n      <th>ffea7bb7-15aa-4a61-972e-ba40fa3dea12</th>\n      <td>[2abe4053-4018-4275-b20a-2e1021ac8d0c, 0d8e22d...</td>\n      <td>10.0</td>\n      <td>SOL</td>\n      <td></td>\n    </tr>\n    <tr>\n      <th>ffef934d-3ddd-4382-8c4e-38430e3df341</th>\n      <td>[4a4b7303-7823-43cc-8d85-546db731e3e5, 4762d66...</td>\n      <td>10.0</td>\n      <td>SOL</td>\n      <td></td>\n    </tr>\n    <tr>\n      <th>fff1ddfd-e0c3-425a-856b-ec42cccacbc6</th>\n      <td>[b2c92fdf-dc0d-4699-ac58-27c3472f52c3, 5904cba...</td>\n      <td>10.0</td>\n      <td>CLA</td>\n      <td></td>\n    </tr>\n    <tr>\n      <th>fff26bd9-4ea8-406c-8eac-7161dd151427</th>\n      <td>[4f11cc6a-4841-4c62-86c0-73c470aba99b, f21770f...</td>\n      <td>10.0</td>\n      <td>SCL</td>\n      <td></td>\n    </tr>\n    <tr>\n      <th>fffd69da-9881-46bf-9055-b13e9a25b46e</th>\n      <td>[f738338b-6142-4fd2-a35a-83541a1061a5, 8c4c86b...</td>\n      <td>10.0</td>\n      <td>AEE</td>\n      <td></td>\n    </tr>\n  </tbody>\n</table>\n<p>14650 rows × 4 columns</p>\n</div>"
     },
     "execution_count": 470,
     "metadata": {},
     "output_type": "execute_result"
    }
   ],
   "source": [
    "robert_r_df = ddb1_r_df[~ddb1_r_df.index.isin(parsed_r_df.index)]\n",
    "robert_r_df"
   ],
   "metadata": {
    "collapsed": false
   }
  },
  {
   "cell_type": "code",
   "execution_count": null,
   "outputs": [],
   "source": [
    "#  after stitching investigation\n"
   ],
   "metadata": {
    "collapsed": false
   }
  },
  {
   "cell_type": "code",
   "execution_count": 494,
   "outputs": [],
   "source": [
    "#  after stitching\n",
    "\n",
    "# - R entita  s label \"Reproduction of Paris, Bibliothèque nationale de France, fonds Doat, vol. 21\"  musí mít guid 35a13dc0-783a-466d-9850-71c50b1f528d\n",
    "\n",
    "with open('../datasets/all-parsed/entities.json','r', encoding='utf-8') as f:\n",
    "  econtent = f.read()\n",
    "  econtent = econtent.replace(\"ccb120c6-7687-4a93-b6d7-17c30c33fd27\",\"35a13dc0-783a-466d-9850-71c50b1f528d\")\n",
    "\n",
    "with open('../datasets/all-parsed/entities.json','w', encoding='utf-8') as f:\n",
    "  f.write(econtent)"
   ],
   "metadata": {
    "collapsed": false
   }
  },
  {
   "cell_type": "code",
   "execution_count": 495,
   "outputs": [],
   "source": [
    "# take statement content from the last downloaded DDB data\n",
    "with open('../datasets/experiments/21/entities.json','r', encoding='utf-8') as f:\n",
    "  # ddb1e = f.read()\n",
    "  ddb1e = json.load(f)\n",
    "  ddb1e_df = pd.DataFrame(ddb1e).set_index(\"id\")\n",
    "\n",
    "with open('../datasets/all-parsed/entities.json','r', encoding='utf-8') as f:\n",
    "  # ddb1e = f.read()\n",
    "  parsed_e = json.load(f)\n",
    "  parsed_e_df = pd.DataFrame(parsed_e).set_index(\"id\")\n"
   ],
   "metadata": {
    "collapsed": false
   }
  },
  {
   "cell_type": "code",
   "execution_count": 496,
   "outputs": [],
   "source": [
    "parsed_e_dfDD = parsed_e_df[~parsed_e_df.index.duplicated(keep='first')]"
   ],
   "metadata": {
    "collapsed": false
   }
  },
  {
   "cell_type": "code",
   "execution_count": 497,
   "outputs": [],
   "source": [
    "# reaplace all statements from ddb1e\n",
    "\n",
    "parsed_e_dfDDnoS = parsed_e_dfDD[parsed_e_dfDD['class']!=\"S\"]"
   ],
   "metadata": {
    "collapsed": false
   }
  },
  {
   "cell_type": "code",
   "execution_count": 498,
   "outputs": [],
   "source": [
    "ddb1s = ddb1e_df[ddb1e_df['class']==\"S\"]\n",
    "result_e_df = pd.concat([parsed_e_dfDDnoS, ddb1s])\n",
    "# parsed_e_df[parsed_e_df['class']==\"S\"]"
   ],
   "metadata": {
    "collapsed": false
   }
  },
  {
   "cell_type": "code",
   "execution_count": 499,
   "outputs": [],
   "source": [
    "result_e_df.reset_index().to_json('../datasets/stitched/entities.json',orient=\"records\")"
   ],
   "metadata": {
    "collapsed": false
   }
  },
  {
   "cell_type": "code",
   "execution_count": 388,
   "outputs": [
    {
     "name": "stdout",
     "output_type": "stream",
     "text": [
      "1 38e5b435-bb22-4b09-97be-7acdae65e370\n",
      "* 38e5b435-bb22-4b09-97be-7acdae65e370\n",
      "2 795a5729-1052-48c9-ae9a-d89a63d4c4c7\n",
      "* 795a5729-1052-48c9-ae9a-d89a63d4c4c7\n",
      "3 7aa92591-58cf-41c5-a4fc-d894914bedf8\n",
      "* 7aa92591-58cf-41c5-a4fc-d894914bedf8\n",
      "4 82bbf78f-7995-4928-9e49-de29a46d0b05\n",
      "* 82bbf78f-7995-4928-9e49-de29a46d0b05\n",
      "5 8338273a-151d-44a8-94ba-0ff6ac69f5db\n",
      "* 8338273a-151d-44a8-94ba-0ff6ac69f5db\n",
      "6 8ad01491-fff6-4762-81c2-a44316a2e32b\n",
      "* 8ad01491-fff6-4762-81c2-a44316a2e32b\n",
      "7 953cc66a-49e8-4386-8178-32d7aea5539f\n",
      "* 953cc66a-49e8-4386-8178-32d7aea5539f\n",
      "8 c3d073d2-8b30-49b1-9a46-e1260329924f\n",
      "* c3d073d2-8b30-49b1-9a46-e1260329924f\n",
      "9 1361864f-1682-4251-a832-c30da8216830\n",
      "* 1361864f-1682-4251-a832-c30da8216830\n",
      "10 1d271952-dbb0-4bf4-96e4-d20970f8dd66\n",
      "* 1d271952-dbb0-4bf4-96e4-d20970f8dd66\n",
      "11 29574a5a-2bd6-472e-ab43-e8507249c203\n",
      "* 29574a5a-2bd6-472e-ab43-e8507249c203\n",
      "12 3071ab0b-7554-43dd-b499-430e99d93fd3\n",
      "* 3071ab0b-7554-43dd-b499-430e99d93fd3\n",
      "13 3e51a831-2774-4262-98a4-b693aab89af8\n",
      "* 3e51a831-2774-4262-98a4-b693aab89af8\n",
      "14 54b84d09-1081-45ef-924f-1ab2b2688295\n",
      "* 54b84d09-1081-45ef-924f-1ab2b2688295\n",
      "15 610fe86d-3b42-4c46-81fa-9ccc8ff957a6\n",
      "* 610fe86d-3b42-4c46-81fa-9ccc8ff957a6\n",
      "16 62b6a72e-4406-4ebf-a30d-7d9f704dfe5c\n",
      "* 62b6a72e-4406-4ebf-a30d-7d9f704dfe5c\n",
      "17 66201e08-5198-485d-8142-8210bcc1ff79\n",
      "* 66201e08-5198-485d-8142-8210bcc1ff79\n",
      "18 7bd1eeb9-38fc-46a4-856d-f748e0cac419\n",
      "* 7bd1eeb9-38fc-46a4-856d-f748e0cac419\n",
      "19 80bf5c3e-011c-4e1a-ade4-6119ef5de513\n",
      "* 80bf5c3e-011c-4e1a-ade4-6119ef5de513\n",
      "20 bc2fbda4-575a-4aed-b886-1a62fecfe5b9\n",
      "* bc2fbda4-575a-4aed-b886-1a62fecfe5b9\n",
      "21 bceadf33-1a9f-47ee-8eb0-4c7078fab0ac\n",
      "* bceadf33-1a9f-47ee-8eb0-4c7078fab0ac\n",
      "22 bfc67bc8-c96c-449d-aca5-f3a8eb85a09c\n",
      "* bfc67bc8-c96c-449d-aca5-f3a8eb85a09c\n",
      "23 d55e3539-1ce4-4c34-9562-b07da6e863b9\n",
      "* d55e3539-1ce4-4c34-9562-b07da6e863b9\n",
      "24 de63b821-028d-4463-b672-862c71723af5\n",
      "* de63b821-028d-4463-b672-862c71723af5\n",
      "25 ea961d6f-185d-4c1a-b451-00921aa1d895\n",
      "* ea961d6f-185d-4c1a-b451-00921aa1d895\n",
      "26 1a1633f2-be48-4215-852d-0b8a01d49fb3\n",
      "* 1a1633f2-be48-4215-852d-0b8a01d49fb3\n",
      "27 25d7d212-105a-4abe-8d36-ba5520a81229\n",
      "* 25d7d212-105a-4abe-8d36-ba5520a81229\n",
      "28 6a5028c5-a465-4f6f-94fb-916c75462b5f\n",
      "* 6a5028c5-a465-4f6f-94fb-916c75462b5f\n",
      "29 8e99e8fa-e37a-4f2b-859b-c367f49eaa9b\n",
      "* 8e99e8fa-e37a-4f2b-859b-c367f49eaa9b\n",
      "30 9301aa03-17fb-4441-8162-4255b08107e1\n",
      "* 9301aa03-17fb-4441-8162-4255b08107e1\n",
      "31 985f996f-6c64-48b5-a6a7-2833ea8d238b\n",
      "* 985f996f-6c64-48b5-a6a7-2833ea8d238b\n",
      "32 9b287f44-bfc9-479b-a61d-aea595143202\n",
      "* 9b287f44-bfc9-479b-a61d-aea595143202\n",
      "33 af8abe82-8d52-4772-bdb5-b2d01c598cbf\n",
      "* af8abe82-8d52-4772-bdb5-b2d01c598cbf\n",
      "34 e1c5950b-28af-421b-8a57-13636a5ab0e2\n",
      "* e1c5950b-28af-421b-8a57-13636a5ab0e2\n",
      "35 1a1633f2-be48-4215-852d-0b8a01d49fb3\n",
      "* 1a1633f2-be48-4215-852d-0b8a01d49fb3\n",
      "36 25d7d212-105a-4abe-8d36-ba5520a81229\n",
      "* 25d7d212-105a-4abe-8d36-ba5520a81229\n",
      "37 6a5028c5-a465-4f6f-94fb-916c75462b5f\n",
      "* 6a5028c5-a465-4f6f-94fb-916c75462b5f\n",
      "38 8e99e8fa-e37a-4f2b-859b-c367f49eaa9b\n",
      "* 8e99e8fa-e37a-4f2b-859b-c367f49eaa9b\n",
      "39 9301aa03-17fb-4441-8162-4255b08107e1\n",
      "* 9301aa03-17fb-4441-8162-4255b08107e1\n",
      "40 985f996f-6c64-48b5-a6a7-2833ea8d238b\n",
      "* 985f996f-6c64-48b5-a6a7-2833ea8d238b\n",
      "41 9b287f44-bfc9-479b-a61d-aea595143202\n",
      "* 9b287f44-bfc9-479b-a61d-aea595143202\n",
      "42 af8abe82-8d52-4772-bdb5-b2d01c598cbf\n",
      "* af8abe82-8d52-4772-bdb5-b2d01c598cbf\n",
      "43 e1c5950b-28af-421b-8a57-13636a5ab0e2\n",
      "* e1c5950b-28af-421b-8a57-13636a5ab0e2\n"
     ]
    }
   ],
   "source": [
    "x = 0\n",
    "for item in parsed_e_df[parsed_e_df['class']==\"S\"].index:\n",
    "  # print(item)\n",
    "  x += 1\n",
    "  print(x, item)\n",
    "  if item in ddb1e_df.index:\n",
    "    print('*',item)"
   ],
   "metadata": {
    "collapsed": false
   }
  },
  {
   "cell_type": "code",
   "execution_count": 407,
   "outputs": [],
   "source": [
    "working = list(parsed_e_df.index)"
   ],
   "metadata": {
    "collapsed": false
   }
  },
  {
   "cell_type": "code",
   "execution_count": 409,
   "outputs": [
    {
     "data": {
      "text/plain": "47"
     },
     "execution_count": 409,
     "metadata": {},
     "output_type": "execute_result"
    }
   ],
   "source": [
    "len(set([x for x in working if working.count(x) > 1]))"
   ],
   "metadata": {
    "collapsed": false
   }
  },
  {
   "cell_type": "code",
   "execution_count": 396,
   "outputs": [
    {
     "data": {
      "text/plain": "43"
     },
     "execution_count": 396,
     "metadata": {},
     "output_type": "execute_result"
    }
   ],
   "source": [
    "len(working)"
   ],
   "metadata": {
    "collapsed": false
   }
  },
  {
   "cell_type": "code",
   "execution_count": 397,
   "outputs": [
    {
     "data": {
      "text/plain": "34"
     },
     "execution_count": 397,
     "metadata": {},
     "output_type": "execute_result"
    }
   ],
   "source": [
    "len(set(working))"
   ],
   "metadata": {
    "collapsed": false
   }
  },
  {
   "cell_type": "code",
   "execution_count": 155,
   "outputs": [
    {
     "data": {
      "text/plain": "(15026, 14588)"
     },
     "execution_count": 155,
     "metadata": {},
     "output_type": "execute_result"
    }
   ],
   "source": [
    "len(dh.relation_records), len(relation_records_cleaned)"
   ],
   "metadata": {
    "collapsed": false
   }
  },
  {
   "cell_type": "code",
   "execution_count": 19,
   "outputs": [
    {
     "data": {
      "text/plain": "[{'class': 'E',\n  'id': 'fe6753df-aeda-4d6c-8456-fabaf5ee1ab0',\n  'label': 'Creation of ‘Acta Concilii Tolosani’',\n  'language': '',\n  'detail': '',\n  'data': {'logicalType': '1'},\n  'props': [],\n  'notes': ['Import batch [development] 2023-01-13 19:35:45.939035',\n   'special T153>:creation_event_id E0001_T153'],\n  'status': '1',\n  'references': [],\n  'legacyId': 'E0001_T153'},\n {'class': 'E',\n  'id': 'c7f31835-13a4-405c-a7aa-e630b40e14d8',\n  'label': 'Creation of ‘Acta Sancti Officii Bononie ab anno 1291 usque ad annum 1310’',\n  'language': '',\n  'detail': '',\n  'data': {'logicalType': '1'},\n  'props': [],\n  'notes': ['Import batch [development] 2023-01-13 19:35:45.939035',\n   'special T77>:creation_event_id E0002_T77'],\n  'status': '1',\n  'references': [],\n  'legacyId': 'E0002_T77'},\n {'class': 'V',\n  'id': '09747a19-bf4b-48d1-b782-140bd1a2e8f6',\n  'label': '1291',\n  'language': '',\n  'detail': '',\n  'data': {'logicalType': '1'},\n  'props': [],\n  'notes': ['Import batch [development] 2023-01-13 19:35:45.939035',\n   'special T77>:creation_event_id E0002_T77'],\n  'status': '1',\n  'references': []},\n {'class': 'V',\n  'id': '0228d8e1-2b90-43c8-919a-c123733536be',\n  'label': '1291',\n  'language': '',\n  'detail': '',\n  'data': {'logicalType': '1'},\n  'props': [],\n  'notes': ['Import batch [development] 2023-01-13 19:35:45.939035',\n   'special T77>:creation_event_id E0002_T77'],\n  'status': '1',\n  'references': []},\n {'class': 'V',\n  'id': '3abde31c-f82c-48c5-acc4-46177ff43b5f',\n  'label': '1310',\n  'language': '',\n  'detail': '',\n  'data': {'logicalType': '1'},\n  'props': [],\n  'notes': ['Import batch [development] 2023-01-13 19:35:45.939035',\n   'special T77>:creation_event_id E0002_T77'],\n  'status': '1',\n  'references': []},\n {'class': 'V',\n  'id': '7f8a144a-1f66-4a15-8fe4-da55118830f4',\n  'label': '1310',\n  'language': '',\n  'detail': '',\n  'data': {'logicalType': '1'},\n  'props': [],\n  'notes': ['Import batch [development] 2023-01-13 19:35:45.939035',\n   'special T77>:creation_event_id E0002_T77'],\n  'status': '1',\n  'references': []},\n {'class': 'E',\n  'id': '7a390bc6-955e-43b3-8dac-4720be256abc',\n  'label': 'Creation of ‘Acta Synodi Atrebatensis’',\n  'language': '',\n  'detail': '',\n  'data': {'logicalType': '1'},\n  'props': [],\n  'notes': ['Import batch [development] 2023-01-13 19:35:45.939035',\n   'special T94>:creation_event_id E0003_T94'],\n  'status': '1',\n  'references': [],\n  'legacyId': 'E0003_T94'},\n {'class': 'E',\n  'id': '4cef8ccd-3946-4178-b320-dfffdec2b1cc',\n  'label': 'Creation of ‘Actus pontificum Cenomannis in urbe degentium: Gesta Domni Hildeberti episcopi’',\n  'language': '',\n  'detail': '',\n  'data': {'logicalType': '1'},\n  'props': [],\n  'notes': ['Import batch [development] 2023-01-13 19:35:45.939035',\n   'special T131>:creation_event_id E0004_T131'],\n  'status': '1',\n  'references': [],\n  'legacyId': 'E0004_T131'},\n {'class': 'E',\n  'id': '8411c34f-7ab8-4b1e-aed8-6297ad1be94a',\n  'label': 'Creation of ‘Annales Aquenses’',\n  'language': '',\n  'detail': '',\n  'data': {'logicalType': '1'},\n  'props': [],\n  'notes': ['Import batch [development] 2023-01-13 19:35:45.939035',\n   'special T141>:creation_event_id E0005_T141'],\n  'status': '1',\n  'references': [],\n  'legacyId': 'E0005_T141'},\n {'class': 'E',\n  'id': 'fcef2e6b-2db9-466c-96b6-74b5f4973812',\n  'label': 'Creation of ‘Annales Brunwilarenses’',\n  'language': '',\n  'detail': '',\n  'data': {'logicalType': '1'},\n  'props': [],\n  'notes': ['Import batch [development] 2023-01-13 19:35:45.939035',\n   'special T149>:creation_event_id E0006_T149'],\n  'status': '1',\n  'references': [],\n  'legacyId': 'E0006_T149'},\n {'class': 'R',\n  'id': '9d91cc45-763d-48cd-8629-694d4bc87896',\n  'label': 'MGH SS XVI, 727',\n  'language': '',\n  'detail': '',\n  'data': {'url': '', 'partValueBaseURL': '', 'partValueLabel': ''},\n  'props': [],\n  'notes': ['Import batch [development] 2023-01-13 19:35:45.939035'],\n  'status': '1',\n  'references': []},\n {'class': 'V',\n  'id': '4764b6d6-3703-4f45-8714-95b31a90d3aa',\n  'label': '727-727',\n  'language': '',\n  'detail': '',\n  'data': {'logicalType': '1'},\n  'props': [],\n  'notes': ['Import batch [development] 2023-01-13 19:35:45.939035',\n   'propvalue_2nd>5:T149:edition_1_page_range:727-727'],\n  'status': '1',\n  'references': []},\n {'class': 'E',\n  'id': 'bd43dea5-e2fa-495c-8bff-28c387b44b14',\n  'label': 'Creation of ‘Annales Cameracenses’',\n  'language': '',\n  'detail': '',\n  'data': {'logicalType': '1'},\n  'props': [],\n  'notes': ['Import batch [development] 2023-01-13 19:35:45.939035',\n   'special T121>:creation_event_id E0007_T121'],\n  'status': '1',\n  'references': [],\n  'legacyId': 'E0007_T121'},\n {'class': 'E',\n  'id': 'a6fb2a43-4445-4675-bff6-1380f925e59b',\n  'label': 'Creation of ‘Annales Casinenses’',\n  'language': '',\n  'detail': '',\n  'data': {'logicalType': '1'},\n  'props': [],\n  'notes': ['Import batch [development] 2023-01-13 19:35:45.939035',\n   'special T127>:creation_event_id E0008_T127'],\n  'status': '1',\n  'references': [],\n  'legacyId': 'E0008_T127'},\n {'class': 'E',\n  'id': '9238a54a-8b50-4418-8a8a-5d8e1aeed77b',\n  'label': 'Creation of ‘Annales Magdeburgenses’',\n  'language': '',\n  'detail': '',\n  'data': {'logicalType': '1'},\n  'props': [],\n  'notes': ['Import batch [development] 2023-01-13 19:35:45.939035',\n   'special T125>:creation_event_id E009_T125'],\n  'status': '1',\n  'references': [],\n  'legacyId': 'E009_T125'},\n {'class': 'E',\n  'id': 'ab82ccd8-b230-497b-80ef-4e6892a216fa',\n  'label': 'Creation of ‘Annales Melicenses’',\n  'language': '',\n  'detail': '',\n  'data': {'logicalType': '1'},\n  'props': [],\n  'notes': ['Import batch [development] 2023-01-13 19:35:45.939035',\n   'special T95>:creation_event_id E0010_T95'],\n  'status': '1',\n  'references': [],\n  'legacyId': 'E0010_T95'},\n {'class': 'E',\n  'id': '800a74e2-c781-4d0f-a1e2-135ace36239e',\n  'label': 'Creation of ‘Annales Parchenses’',\n  'language': '',\n  'detail': '',\n  'data': {'logicalType': '1'},\n  'props': [],\n  'notes': ['Import batch [development] 2023-01-13 19:35:45.939035',\n   'special T120>:creation_event_id E0011_T120'],\n  'status': '1',\n  'references': [],\n  'legacyId': 'E0011_T120'},\n {'class': 'E',\n  'id': 'b9e373c3-a408-47f6-9a3e-36025c29bcfc',\n  'label': 'Creation of ‘Annales Rodenses’',\n  'language': '',\n  'detail': '',\n  'data': {'logicalType': '1'},\n  'props': [],\n  'notes': ['Import batch [development] 2023-01-13 19:35:45.939035',\n   'special T142>:creation_event_id E0012_T142'],\n  'status': '1',\n  'references': [],\n  'legacyId': 'E0012_T142'},\n {'class': 'E',\n  'id': 'c0369a23-8752-4d06-adae-cae9798bae36',\n  'label': 'Creation of ‘Annales Trevirenses’',\n  'language': '',\n  'detail': '',\n  'data': {'logicalType': '1'},\n  'props': [],\n  'notes': ['Import batch [development] 2023-01-13 19:35:45.939035',\n   'special T108>:creation_event_id E0013_T108'],\n  'status': '1',\n  'references': [],\n  'legacyId': 'E0013_T108'},\n {'class': 'E',\n  'id': '395863f8-b3f6-4037-87c7-914142ec7067',\n  'label': 'Creation of ‘Annalista Saxo’',\n  'language': '',\n  'detail': '',\n  'data': {'logicalType': '1'},\n  'props': [],\n  'notes': ['Import batch [development] 2023-01-13 19:35:45.939035',\n   'special T96>:creation_event_id E0014_T96'],\n  'status': '1',\n  'references': [],\n  'legacyId': 'E0014_T96'},\n {'class': 'E',\n  'id': '90ef6288-3994-4149-b5be-81f086d903ae',\n  'label': 'Creation of ‘Answer of Sigfrid’',\n  'language': '',\n  'detail': '',\n  'data': {'logicalType': '1'},\n  'props': [],\n  'notes': ['Import batch [development] 2023-01-13 19:35:45.939035',\n   'special T70>:creation_event_id E0015_T70'],\n  'status': '1',\n  'references': [],\n  'legacyId': 'E0015_T70'},\n {'class': 'V',\n  'id': 'd303c381-835c-4478-ab74-3aaac1ee9c1f',\n  'label': '1368',\n  'language': '',\n  'detail': '',\n  'data': {'logicalType': '1'},\n  'props': [],\n  'notes': ['Import batch [development] 2023-01-13 19:35:45.939035',\n   'special T70>:creation_event_id E0015_T70'],\n  'status': '1',\n  'references': []},\n {'class': 'V',\n  'id': '5b4bfb4b-e785-464a-bea2-c1f4b2804f59',\n  'label': '1370',\n  'language': '',\n  'detail': '',\n  'data': {'logicalType': '1'},\n  'props': [],\n  'notes': ['Import batch [development] 2023-01-13 19:35:45.939035',\n   'special T70>:creation_event_id E0015_T70'],\n  'status': '1',\n  'references': []},\n {'class': 'E',\n  'id': '11bbcc55-7249-4e72-a5e0-2952c7983a72',\n  'label': 'Creation of ‘Balduini Ninoviensis Chronicon’',\n  'language': '',\n  'detail': '',\n  'data': {'logicalType': '1'},\n  'props': [],\n  'notes': ['Import batch [development] 2023-01-13 19:35:45.939035',\n   'special T128>:creation_event_id E0016_T128'],\n  'status': '1',\n  'references': [],\n  'legacyId': 'E0016_T128'},\n {'class': 'E',\n  'id': 'c0a7f845-8eda-4aae-b83b-6b026d7f8895',\n  'label': 'Creation of ‘Bernard Gui’s Book of Sentences’',\n  'language': '',\n  'detail': '',\n  'data': {'logicalType': '1'},\n  'props': [],\n  'notes': ['Import batch [development] 2023-01-13 19:35:45.939035',\n   'special T22>:creation_event_id E0017_T22'],\n  'status': '1',\n  'references': [],\n  'legacyId': 'E0017_T22'},\n {'class': 'V',\n  'id': '6d8032e3-2f82-4d26-bd8d-e4b2d24066c0',\n  'label': '1308',\n  'language': '',\n  'detail': '',\n  'data': {'logicalType': '1'},\n  'props': [],\n  'notes': ['Import batch [development] 2023-01-13 19:35:45.939035',\n   'special T22>:creation_event_id E0017_T22'],\n  'status': '1',\n  'references': []},\n {'class': 'V',\n  'id': '769a053e-e971-4094-9044-4af36c8b2387',\n  'label': '1308',\n  'language': '',\n  'detail': '',\n  'data': {'logicalType': '1'},\n  'props': [],\n  'notes': ['Import batch [development] 2023-01-13 19:35:45.939035',\n   'special T22>:creation_event_id E0017_T22'],\n  'status': '1',\n  'references': []},\n {'class': 'V',\n  'id': 'b03db986-23d4-49cc-b7b1-82a49e83c440',\n  'label': '1323',\n  'language': '',\n  'detail': '',\n  'data': {'logicalType': '1'},\n  'props': [],\n  'notes': ['Import batch [development] 2023-01-13 19:35:45.939035',\n   'special T22>:creation_event_id E0017_T22'],\n  'status': '1',\n  'references': []},\n {'class': 'V',\n  'id': '136f75c3-fce1-4e09-bab9-e24708691665',\n  'label': '1323',\n  'language': '',\n  'detail': '',\n  'data': {'logicalType': '1'},\n  'props': [],\n  'notes': ['Import batch [development] 2023-01-13 19:35:45.939035',\n   'special T22>:creation_event_id E0017_T22'],\n  'status': '1',\n  'references': []},\n {'class': 'R',\n  'id': 'c1332ac4-ef41-44d5-9935-e2d2ce975fed',\n  'label': 'Palès-Gobilliard, 2002',\n  'language': '',\n  'detail': '',\n  'data': {'url': 'https://www.zotero.org/groups/446972/david_zbiral_bibliography/items/itemKey/K3B36Q96/',\n   'partValueBaseURL': '',\n   'partValueLabel': ''},\n  'props': [],\n  'notes': ['Import batch [development] 2023-01-13 19:35:45.939035'],\n  'status': '1',\n  'references': []},\n {'class': 'R',\n  'id': '6f004e52-46e1-43c5-ab34-f18bb95f8c2c',\n  'label': 'Limborch, 1692',\n  'language': '',\n  'detail': '',\n  'data': {'url': 'https://www.zotero.org/groups/446972/david_zbiral_bibliography/items/itemKey/4EJAHUVF/',\n   'partValueBaseURL': '',\n   'partValueLabel': ''},\n  'props': [],\n  'notes': ['Import batch [development] 2023-01-13 19:35:45.939035'],\n  'status': '1',\n  'references': []},\n {'class': 'V',\n  'id': '47879b8e-9206-4ce3-afec-40181dbe1afe',\n  'label': '1-394',\n  'language': '',\n  'detail': '',\n  'data': {'logicalType': '1'},\n  'props': [],\n  'notes': ['Import batch [development] 2023-01-13 19:35:45.939035',\n   'propvalue_2nd>16:T22:edition_2_page_range:1-394'],\n  'status': '1',\n  'references': []},\n {'class': 'E',\n  'id': 'edd97a6e-b350-4110-8d3f-d40f52ff7639',\n  'label': 'Creation of ‘Book of sentences of Orvieto’',\n  'language': '',\n  'detail': '',\n  'data': {'logicalType': '1'},\n  'props': [],\n  'notes': ['Import batch [development] 2023-01-13 19:35:45.939035',\n   'special T76>:creation_event_id E0018_T76'],\n  'status': '1',\n  'references': [],\n  'legacyId': 'E0018_T76'},\n {'class': 'V',\n  'id': '1e2d8821-4c2d-40f3-b486-d3eb0182f765',\n  'label': '1r-34r',\n  'language': '',\n  'detail': '',\n  'data': {'logicalType': '1'},\n  'props': [],\n  'notes': ['Import batch [development] 2023-01-13 19:35:45.939035',\n   'propvalue_2nd>17:T76:manuscript_witness_1_with_range_entified:~V~1r-34r'],\n  'status': '1',\n  'references': []},\n {'class': 'R',\n  'id': '067ed81b-3266-4969-8078-f6ac59cc5931',\n  'label': \"D'Alatri, Inquisizione francescana\",\n  'language': '',\n  'detail': '',\n  'data': {'url': '', 'partValueBaseURL': '', 'partValueLabel': ''},\n  'props': [],\n  'notes': ['Import batch [development] 2023-01-13 19:35:45.939035'],\n  'status': '1',\n  'references': []},\n {'class': 'E',\n  'id': '39a8eb12-eeb4-4ad5-a42c-969698151a57',\n  'label': 'Creation of ‘carta Burchardi episcopi Cameracensium’',\n  'language': '',\n  'detail': '',\n  'data': {'logicalType': '1'},\n  'props': [],\n  'notes': ['Import batch [development] 2023-01-13 19:35:45.939035',\n   'special T113>:creation_event_id E0019_T113'],\n  'status': '1',\n  'references': [],\n  'legacyId': 'E0019_T113'},\n {'class': 'E',\n  'id': '779109f5-7334-4246-a01e-ac9bd2e3a524',\n  'label': 'Creation of ‘carta Guillelmi ducis Aquitanie’',\n  'language': '',\n  'detail': '',\n  'data': {'logicalType': '1'},\n  'props': [],\n  'notes': ['Import batch [development] 2023-01-13 19:35:45.939035',\n   'special T103>:creation_event_id E0020_T103'],\n  'status': '1',\n  'references': [],\n  'legacyId': 'E0020_T103'},\n {'class': 'V',\n  'id': '8ae08e8d-01e4-4ea7-ac8f-8579aec03dd5',\n  'label': '1016',\n  'language': '',\n  'detail': '',\n  'data': {'logicalType': '1'},\n  'props': [],\n  'notes': ['Import batch [development] 2023-01-13 19:35:45.939035',\n   'special T103>:creation_event_id E0020_T103'],\n  'status': '1',\n  'references': []},\n {'class': 'E',\n  'id': '576748a4-c2dd-49d4-93f4-f5fc199695da',\n  'label': 'Creation of ‘carta Hidolphi prepositi s. Michelis in Antverpia’',\n  'language': '',\n  'detail': '',\n  'data': {'logicalType': '1'},\n  'props': [],\n  'notes': ['Import batch [development] 2023-01-13 19:35:45.939035',\n   'special T112>:creation_event_id E0021_T112'],\n  'status': '1',\n  'references': [],\n  'legacyId': 'E0021_T112'},\n {'class': 'E',\n  'id': '0b204f9a-0d84-428b-b5ef-ba475d1b5cf3',\n  'label': 'Creation of ‘Carta Roberti regis Francie’',\n  'language': '',\n  'detail': '',\n  'data': {'logicalType': '1'},\n  'props': [],\n  'notes': ['Import batch [development] 2023-01-13 19:35:45.939035',\n   'special T91>:creation_event_id E0022_T91'],\n  'status': '1',\n  'references': [],\n  'legacyId': 'E0022_T91'},\n {'class': 'R',\n  'id': '567d4780-8684-4a22-9c63-7c7cfbb936f9',\n  'label': 'Bouquet, X',\n  'language': '',\n  'detail': '',\n  'data': {'url': '', 'partValueBaseURL': '', 'partValueLabel': ''},\n  'props': [],\n  'notes': ['Import batch [development] 2023-01-13 19:35:45.939035'],\n  'status': '1',\n  'references': []},\n {'class': 'V',\n  'id': 'df2cc4e1-6c98-4efd-b383-69fcd4f0c187',\n  'label': '605-607',\n  'language': '',\n  'detail': '',\n  'data': {'logicalType': '1'},\n  'props': [],\n  'notes': ['Import batch [development] 2023-01-13 19:35:45.939035',\n   'propvalue_2nd>21:T91:edition_1_page_range:605-607'],\n  'status': '1',\n  'references': []},\n {'class': 'E',\n  'id': '41bbfa3e-7e41-43a4-a98f-2aa013450a99',\n  'label': 'Creation of ‘Cartularium monasterii sancti Petri Carnotensis’',\n  'language': '',\n  'detail': '',\n  'data': {'logicalType': '1'},\n  'props': [],\n  'notes': ['Import batch [development] 2023-01-13 19:35:45.939035',\n   'special T86>:creation_event_id E0023_T86'],\n  'status': '1',\n  'references': [],\n  'legacyId': 'E0023_T86'},\n {'class': 'R',\n  'id': '057b2e3a-8bbb-4375-897a-b2384add8f63',\n  'label': 'Paul de Saint-Père de Chartres, \"Monasterii Sancti Petri Carnotensis Codex Diplomaticus. Pars\\nPrima, quae dicitur Vetus Aganon\", in: C. Guerard (ed.), \"Collection des cartulaires de France\", t. 1, Paris, 1840.',\n  'language': '',\n  'detail': '',\n  'data': {'url': '', 'partValueBaseURL': '', 'partValueLabel': ''},\n  'props': [],\n  'notes': ['Import batch [development] 2023-01-13 19:35:45.939035'],\n  'status': '1',\n  'references': []},\n {'class': 'V',\n  'id': 'c964d059-7985-43ca-a18d-15a444802dfc',\n  'label': '109-115; 1-254',\n  'language': '',\n  'detail': '',\n  'data': {'logicalType': '1'},\n  'props': [],\n  'notes': ['Import batch [development] 2023-01-13 19:35:45.939035',\n   'propvalue_2nd>22:T86:edition_1_page_range:109-115; 1-254'],\n  'status': '1',\n  'references': []},\n {'class': 'E',\n  'id': 'a546af0b-6ba4-4820-b18d-ae91e4111d67',\n  'label': 'Creation of ‘Chronica Albrici monachi Trium Fontium, a monacho Novi Monasterii Hoiensis interpolata’',\n  'language': '',\n  'detail': '',\n  'data': {'logicalType': '1'},\n  'props': [],\n  'notes': ['Import batch [development] 2023-01-13 19:35:45.939035',\n   'special T129>:creation_event_id E0024_T129'],\n  'status': '1',\n  'references': [],\n  'legacyId': 'E0024_T129'},\n {'class': 'E',\n  'id': 'd22f2399-75f5-497e-8d53-2cd9d3c1dd53',\n  'label': 'Creation of ‘Chronicon Aquitanicum et Francicum’',\n  'language': '',\n  'detail': '',\n  'data': {'logicalType': '1'},\n  'props': [],\n  'notes': ['Import batch [development] 2023-01-13 19:35:45.939035',\n   'special T83>:creation_event_id E0025_T83'],\n  'status': '1',\n  'references': [],\n  'legacyId': 'E0025_T83'},\n {'class': 'R',\n  'id': '5bf2856b-e0ba-46a2-94a3-70f40b2dc5ab',\n  'label': '\"Ademari Cabannensis Chronicon\", cura et studio P. Bourgain, iuuamen praestantibus R. Landes et G. Pon. Turnhout: Brepols, 1999.',\n  'language': '',\n  'detail': '',\n  'data': {'url': '', 'partValueBaseURL': '', 'partValueLabel': ''},\n  'props': [],\n  'notes': ['Import batch [development] 2023-01-13 19:35:45.939035'],\n  'status': '1',\n  'references': []},\n {'class': 'V',\n  'id': 'a3fa0936-b1f2-47c5-a31b-13850ca70e76',\n  'label': '1-189: 170, 180',\n  'language': '',\n  'detail': '',\n  'data': {'logicalType': '1'},\n  'props': [],\n  'notes': ['Import batch [development] 2023-01-13 19:35:45.939035',\n   'propvalue_2nd>24:T83:edition_1_page_range:1-189: 170, 180'],\n  'status': '1',\n  'references': []},\n {'class': 'R',\n  'id': 'e64ff8de-083f-48dc-ae9a-99cea352cd7f',\n  'label': 'Adémar de Chabannes, Chronique, ed. J. Chavanon, Paris 1897.',\n  'language': '',\n  'detail': '',\n  'data': {'url': '', 'partValueBaseURL': '', 'partValueLabel': ''},\n  'props': [],\n  'notes': ['Import batch [development] 2023-01-13 19:35:45.939035'],\n  'status': '1',\n  'references': []},\n {'class': 'V',\n  'id': 'db71a8e3-ce76-4eb6-9962-de09bba51354',\n  'label': '173, 184-185; 5-211',\n  'language': '',\n  'detail': '',\n  'data': {'logicalType': '1'},\n  'props': [],\n  'notes': ['Import batch [development] 2023-01-13 19:35:45.939035',\n   'propvalue_2nd>24:T83:edition_2_page_range:173, 184-185; 5-211'],\n  'status': '1',\n  'references': []},\n {'class': 'E',\n  'id': '4b5db96a-2d12-4150-bfb7-e211081a3e91',\n  'label': 'Creation of ‘Chronicon Bernoldi’',\n  'language': '',\n  'detail': '',\n  'data': {'logicalType': '1'},\n  'props': [],\n  'notes': ['Import batch [development] 2023-01-13 19:35:45.939035',\n   'special T97>:creation_event_id E0026_T97'],\n  'status': '1',\n  'references': [],\n  'legacyId': 'E0026_T97'},\n {'class': 'E',\n  'id': 'c5caaaea-65ed-41b8-8756-fe0b3723e48f',\n  'label': 'Creation of ‘Chronicon Britannicum’',\n  'language': '',\n  'detail': '',\n  'data': {'logicalType': '1'},\n  'props': [],\n  'notes': ['Import batch [development] 2023-01-13 19:35:45.939035',\n   'special T122>:creation_event_id E0027_T122'],\n  'status': '1',\n  'references': [],\n  'legacyId': 'E0027_T122'},\n {'class': 'E',\n  'id': '2659fec3-4ffb-4f22-9ca7-1699cd0e7d0d',\n  'label': 'Creation of ‘Chronicon Sancti Petri Vivi Senonensis’',\n  'language': '',\n  'detail': '',\n  'data': {'logicalType': '1'},\n  'props': [],\n  'notes': ['Import batch [development] 2023-01-13 19:35:45.939035',\n   'special T89>:creation_event_id E0028_T89'],\n  'status': '1',\n  'references': [],\n  'legacyId': 'E0028_T89'},\n {'class': 'R',\n  'id': '02aa0247-7379-44c5-8a28-471ac2b41082',\n  'label': 'Chronicon Sancti Petri Vivi Senonensis, Bouquet, X',\n  'language': '',\n  'detail': '',\n  'data': {'url': '', 'partValueBaseURL': '', 'partValueLabel': ''},\n  'props': [],\n  'notes': ['Import batch [development] 2023-01-13 19:35:45.939035'],\n  'status': '1',\n  'references': []},\n {'class': 'V',\n  'id': 'f86fa25a-b876-40e5-ab8a-32a3f377bf98',\n  'label': '224-224',\n  'language': '',\n  'detail': '',\n  'data': {'logicalType': '1'},\n  'props': [],\n  'notes': ['Import batch [development] 2023-01-13 19:35:45.939035',\n   'propvalue_2nd>27:T89:edition_1_page_range:224-224'],\n  'status': '1',\n  'references': []},\n {'class': 'E',\n  'id': '505c38fb-d6c8-4b45-83f1-af981d643655',\n  'label': 'Creation of ‘Chronicon Turonense’',\n  'language': '',\n  'detail': '',\n  'data': {'logicalType': '1'},\n  'props': [],\n  'notes': ['Import batch [development] 2023-01-13 19:35:45.939035',\n   'special T90>:creation_event_id E0029_T90'],\n  'status': '1',\n  'references': [],\n  'legacyId': 'E0029_T90'},\n {'class': 'R',\n  'id': '1f614993-33a5-4528-9fab-8a7d3e6b3b29',\n  'label': 'Chronicon Turonense, Bouquet, X',\n  'language': '',\n  'detail': '',\n  'data': {'url': '', 'partValueBaseURL': '', 'partValueLabel': ''},\n  'props': [],\n  'notes': ['Import batch [development] 2023-01-13 19:35:45.939035'],\n  'status': '1',\n  'references': []},\n {'class': 'V',\n  'id': '1c01d5a9-a8de-420a-92a8-d4aab4182fee',\n  'label': '284-284',\n  'language': '',\n  'detail': '',\n  'data': {'logicalType': '1'},\n  'props': [],\n  'notes': ['Import batch [development] 2023-01-13 19:35:45.939035',\n   'propvalue_2nd>28:T90:edition_1_page_range:284-284'],\n  'status': '1',\n  'references': []},\n {'class': 'E',\n  'id': 'e965895f-2b95-4291-baaa-709102c15bdd',\n  'label': 'Creation of ‘Collectoria 133’',\n  'language': '',\n  'detail': '',\n  'data': {'logicalType': '1'},\n  'props': [],\n  'notes': ['Import batch [development] 2023-01-13 19:35:45.939035',\n   'special T78>:creation_event_id E0030_T78'],\n  'status': '1',\n  'references': [],\n  'legacyId': 'E0030_T78'},\n {'class': 'E',\n  'id': '930306ac-af39-41cb-b36d-c3d1b1563810',\n  'label': 'Creation of ‘Commentaria in epistolas Pauli’',\n  'language': '',\n  'detail': '',\n  'data': {'logicalType': '1'},\n  'props': [],\n  'notes': ['Import batch [development] 2023-01-13 19:35:45.939035',\n   'special T148>:creation_event_id E0031_T148'],\n  'status': '1',\n  'references': [],\n  'legacyId': 'E0031_T148'},\n {'class': 'R',\n  'id': 'dd9ed6fd-c979-493c-98ee-1491af2be49a',\n  'label': 'PL 181, 1426-1427',\n  'language': '',\n  'detail': '',\n  'data': {'url': '', 'partValueBaseURL': '', 'partValueLabel': ''},\n  'props': [],\n  'notes': ['Import batch [development] 2023-01-13 19:35:45.939035'],\n  'status': '1',\n  'references': []},\n {'class': 'V',\n  'id': '70ece6cb-5eb0-42c6-8ab5-5aa0f3db66fe',\n  'label': '1426-1427',\n  'language': '',\n  'detail': '',\n  'data': {'logicalType': '1'},\n  'props': [],\n  'notes': ['Import batch [development] 2023-01-13 19:35:45.939035',\n   'propvalue_2nd>30:T148:edition_1_page_range:1426-1427'],\n  'status': '1',\n  'references': []},\n {'class': 'E',\n  'id': '49575220-65e1-4cd6-82ea-db545b0a3afc',\n  'label': 'Creation of ‘Confession of Iohannes Leser’',\n  'language': '',\n  'detail': '',\n  'data': {'logicalType': '1'},\n  'props': [],\n  'notes': ['Import batch [development] 2023-01-13 19:35:45.939035',\n   'special T63>:creation_event_id E0032_T63'],\n  'status': '1',\n  'references': [],\n  'legacyId': 'E0032_T63'},\n {'class': 'V',\n  'id': 'd72038e9-6c84-481f-bcb5-0b7323649677',\n  'label': '1365',\n  'language': '',\n  'detail': '',\n  'data': {'logicalType': '1'},\n  'props': [],\n  'notes': ['Import batch [development] 2023-01-13 19:35:45.939035',\n   'special T63>:creation_event_id E0032_T63'],\n  'status': '1',\n  'references': []},\n {'class': 'V',\n  'id': '9e7eabbd-24d1-4f09-9904-6025331d9008',\n  'label': '1367',\n  'language': '',\n  'detail': '',\n  'data': {'logicalType': '1'},\n  'props': [],\n  'notes': ['Import batch [development] 2023-01-13 19:35:45.939035',\n   'special T63>:creation_event_id E0032_T63'],\n  'status': '1',\n  'references': []},\n {'class': 'E',\n  'id': 'e4c8b0be-8a81-49a1-a02e-2401a3c482d0',\n  'label': 'Creation of ‘Confirmation of depositions before Ferrer and Pons Gary’',\n  'language': '',\n  'detail': '',\n  'data': {'logicalType': '1'},\n  'props': [],\n  'notes': ['Import batch [development] 2023-01-13 19:35:45.939035',\n   'special T5>:creation_event_id E0033_T5'],\n  'status': '1',\n  'references': [],\n  'legacyId': 'E0033_T5'},\n {'class': 'V',\n  'id': '685eeff1-12d9-44b1-b067-b5bf48215375',\n  'label': '1243',\n  'language': '',\n  'detail': '',\n  'data': {'logicalType': '1'},\n  'props': [],\n  'notes': ['Import batch [development] 2023-01-13 19:35:45.939035',\n   'special T5>:creation_event_id E0033_T5'],\n  'status': '1',\n  'references': []},\n {'class': 'R',\n  'id': '4f1babfc-2889-4f17-9058-1592fa4a990e',\n  'label': 'Duvernoy, 1983',\n  'language': '',\n  'detail': '',\n  'data': {'url': 'https://www.zotero.org/groups/446972/david_zbiral_bibliography/items/itemKey/FT6DGF9D/',\n   'partValueBaseURL': '',\n   'partValueLabel': ''},\n  'props': [],\n  'notes': ['Import batch [development] 2023-01-13 19:35:45.939035'],\n  'status': '1',\n  'references': []},\n {'class': 'E',\n  'id': '268e32b7-eb34-4b2f-92d7-853a23810791',\n  'label': 'Creation of ‘Confirmation of proprietary rights of the descendants of Toulouse Cathars’',\n  'language': '',\n  'detail': '',\n  'data': {'logicalType': '1'},\n  'props': [],\n  'notes': ['Import batch [development] 2023-01-13 19:35:45.939035',\n   'special T15>:creation_event_id E0034_T15'],\n  'status': '1',\n  'references': [],\n  'legacyId': 'E0034_T15'},\n {'class': 'V',\n  'id': '5f1b3e49-04bb-466b-92a7-320916acaaa8',\n  'label': '1279',\n  'language': '',\n  'detail': '',\n  'data': {'logicalType': '1'},\n  'props': [],\n  'notes': ['Import batch [development] 2023-01-13 19:35:45.939035',\n   'special T15>:creation_event_id E0034_T15'],\n  'status': '1',\n  'references': []},\n {'class': 'R',\n  'id': 'be0acfba-47e3-4889-b071-58721067e5cd',\n  'label': 'Mundy, 1985',\n  'language': '',\n  'detail': '',\n  'data': {'url': 'https://www.zotero.org/groups/446972/david_zbiral_bibliography/items/collectionKey/PUJYJKMW/itemKey/35KUEJ8R/',\n   'partValueBaseURL': '',\n   'partValueLabel': ''},\n  'props': [],\n  'notes': ['Import batch [development] 2023-01-13 19:35:45.939035'],\n  'status': '1',\n  'references': []},\n {'class': 'V',\n  'id': '56a0524f-2ec8-410b-b472-c5d61fc19ac3',\n  'label': '77-115',\n  'language': '',\n  'detail': '',\n  'data': {'logicalType': '1'},\n  'props': [],\n  'notes': ['Import batch [development] 2023-01-13 19:35:45.939035',\n   'propvalue_2nd>33:T15:edition_1_page_range:77-115'],\n  'status': '1',\n  'references': []},\n {'class': 'E',\n  'id': '614a2bee-809e-4e79-a631-5c2919bdd0bf',\n  'label': 'Creation of ‘Contra Henricum Scismaticum et hereticum’',\n  'language': '',\n  'detail': '',\n  'data': {'logicalType': '1'},\n  'props': [],\n  'notes': ['Import batch [development] 2023-01-13 19:35:45.939035',\n   'special T134>:creation_event_id E0035_T134'],\n  'status': '1',\n  'references': [],\n  'legacyId': 'E0035_T134'},\n {'class': 'E',\n  'id': '722563b6-fbf5-4053-a457-0ea375272cfd',\n  'label': 'Creation of ‘Contra hereticos et schismaticos’',\n  'language': '',\n  'detail': '',\n  'data': {'logicalType': '1'},\n  'props': [],\n  'notes': ['Import batch [development] 2023-01-13 19:35:45.939035',\n   'special T135>:creation_event_id E0036_T135'],\n  'status': '1',\n  'references': [],\n  'legacyId': 'E0036_T135'},\n {'class': 'E',\n  'id': '90100ec5-6855-47ee-b480-4484b4ddf8d4',\n  'label': 'Creation of ‘Contra Petrobrusianos’',\n  'language': '',\n  'detail': '',\n  'data': {'logicalType': '1'},\n  'props': [],\n  'notes': ['Import batch [development] 2023-01-13 19:35:45.939035',\n   'special T137>:creation_event_id E0037_T137'],\n  'status': '1',\n  'references': [],\n  'legacyId': 'E0037_T137'},\n {'class': 'E',\n  'id': '129b4a44-e31b-4a3e-bac0-41d8d09d3158',\n  'label': 'Creation of ‘De vita sua sive Monodie’',\n  'language': '',\n  'detail': '',\n  'data': {'logicalType': '1'},\n  'props': [],\n  'notes': ['Import batch [development] 2023-01-13 19:35:45.939035',\n   'special T117>:creation_event_id E0038_T117'],\n  'status': '1',\n  'references': [],\n  'legacyId': 'E0038_T117'},\n {'class': 'E',\n  'id': '82eed402-47bc-4e93-9733-e04c7773a0ce',\n  'label': 'Creation of ‘Deliberatio supra hymnum trium puerorum’',\n  'language': '',\n  'detail': '',\n  'data': {'logicalType': '1'},\n  'props': [],\n  'notes': ['Import batch [development] 2023-01-13 19:35:45.939035',\n   'special T104>:creation_event_id E0039_T104'],\n  'status': '1',\n  'references': [],\n  'legacyId': 'E0039_T104'},\n {'class': 'V',\n  'id': '2e9bd202-1718-422a-b308-b700e7f325f2',\n  'label': '1030',\n  'language': '',\n  'detail': '',\n  'data': {'logicalType': '1'},\n  'props': [],\n  'notes': ['Import batch [development] 2023-01-13 19:35:45.939035',\n   'special T104>:creation_event_id E0039_T104'],\n  'status': '1',\n  'references': []},\n {'class': 'V',\n  'id': '28edb367-77e1-4e9c-96b4-1dad799de68a',\n  'label': '1046',\n  'language': '',\n  'detail': '',\n  'data': {'logicalType': '1'},\n  'props': [],\n  'notes': ['Import batch [development] 2023-01-13 19:35:45.939035',\n   'special T104>:creation_event_id E0039_T104'],\n  'status': '1',\n  'references': []},\n {'class': 'E',\n  'id': 'd8ffcb77-2a94-42d7-b08c-f9f40ef84462',\n  'label': 'Creation of ‘Depositions of converted Good men I’',\n  'language': '',\n  'detail': '',\n  'data': {'logicalType': '1'},\n  'props': [],\n  'notes': ['Import batch [development] 2023-01-13 19:35:45.939035',\n   'special T12>:creation_event_id E0040_T12'],\n  'status': '1',\n  'references': [],\n  'legacyId': 'E0040_T12'},\n {'class': 'V',\n  'id': '9800455a-5d21-4710-bcb1-d22de07fa656',\n  'label': '1254',\n  'language': '',\n  'detail': '',\n  'data': {'logicalType': '1'},\n  'props': [],\n  'notes': ['Import batch [development] 2023-01-13 19:35:45.939035',\n   'special T12>:creation_event_id E0040_T12'],\n  'status': '1',\n  'references': []},\n {'class': 'V',\n  'id': '81079df4-e24e-4e1b-adf1-74f349ab1101',\n  'label': '1254',\n  'language': '',\n  'detail': '',\n  'data': {'logicalType': '1'},\n  'props': [],\n  'notes': ['Import batch [development] 2023-01-13 19:35:45.939035',\n   'special T12>:creation_event_id E0040_T12'],\n  'status': '1',\n  'references': []},\n {'class': 'V',\n  'id': '69f400c2-5a10-431e-afdc-ea9bfc80874b',\n  'label': '1256',\n  'language': '',\n  'detail': '',\n  'data': {'logicalType': '1'},\n  'props': [],\n  'notes': ['Import batch [development] 2023-01-13 19:35:45.939035',\n   'special T12>:creation_event_id E0040_T12'],\n  'status': '1',\n  'references': []},\n {'class': 'V',\n  'id': '8b349aee-7ed1-475b-a3fc-25e2d087e71d',\n  'label': '1256',\n  'language': '',\n  'detail': '',\n  'data': {'logicalType': '1'},\n  'props': [],\n  'notes': ['Import batch [development] 2023-01-13 19:35:45.939035',\n   'special T12>:creation_event_id E0040_T12'],\n  'status': '1',\n  'references': []},\n {'class': 'R',\n  'id': 'ab0f94b5-0901-4ad2-8aea-dbadc6eab9ef',\n  'label': 'Blaquière & Dossat, 1968',\n  'language': '',\n  'detail': '',\n  'data': {'url': 'https://www.zotero.org/groups/446972/david_zbiral_bibliography/items/itemKey/6W5S9CE9/',\n   'partValueBaseURL': '',\n   'partValueLabel': ''},\n  'props': [],\n  'notes': ['Import batch [development] 2023-01-13 19:35:45.939035'],\n  'status': '1',\n  'references': []},\n {'class': 'V',\n  'id': '580cfb22-ef2c-4890-bdb7-2ea7e000c2e5',\n  'label': '262-276',\n  'language': '',\n  'detail': '',\n  'data': {'logicalType': '1'},\n  'props': [],\n  'notes': ['Import batch [development] 2023-01-13 19:35:45.939035',\n   'propvalue_2nd>39:T12:edition_1_page_range:262-276'],\n  'status': '1',\n  'references': []},\n {'class': 'R',\n  'id': '66a69756-6b5e-4139-b06f-951fa8874280',\n  'label': 'Duvernoy, 1986',\n  'language': '',\n  'detail': '',\n  'data': {'url': 'https://www.zotero.org/groups/446972/david_zbiral_bibliography/items/itemKey/35F45I8Z/',\n   'partValueBaseURL': '',\n   'partValueLabel': ''},\n  'props': [],\n  'notes': ['Import batch [development] 2023-01-13 19:35:45.939035'],\n  'status': '1',\n  'references': []},\n {'class': 'E',\n  'id': '0144c0d1-13c9-432e-87c6-27a99445c8ec',\n  'label': 'Creation of ‘Depositions of converted Good men II’',\n  'language': '',\n  'detail': '',\n  'data': {'logicalType': '1'},\n  'props': [],\n  'notes': ['Import batch [development] 2023-01-13 19:35:45.939035',\n   'special T13>:creation_event_id E0041_T13'],\n  'status': '1',\n  'references': [],\n  'legacyId': 'E0041_T13'},\n {'class': 'V',\n  'id': '3b6c0460-05f2-4c89-b2e6-ce65cbc3743a',\n  'label': '1266',\n  'language': '',\n  'detail': '',\n  'data': {'logicalType': '1'},\n  'props': [],\n  'notes': ['Import batch [development] 2023-01-13 19:35:45.939035',\n   'special T13>:creation_event_id E0041_T13'],\n  'status': '1',\n  'references': []},\n {'class': 'V',\n  'id': 'c13fd12e-f537-4d5c-bca4-45af5f3a8aa7',\n  'label': '1270',\n  'language': '',\n  'detail': '',\n  'data': {'logicalType': '1'},\n  'props': [],\n  'notes': ['Import batch [development] 2023-01-13 19:35:45.939035',\n   'special T13>:creation_event_id E0041_T13'],\n  'status': '1',\n  'references': []},\n {'class': 'R',\n  'id': '7163e2e4-756a-43f1-8213-ed29f7d337ac',\n  'label': 'Jean Duvernoy, „Cathares et faidits en Albigeois vers 1265-1275“, Heresis 3, 1984, 5-34 (reproduction at p. 21-24).',\n  'language': '',\n  'detail': '',\n  'data': {'url': '', 'partValueBaseURL': '', 'partValueLabel': ''},\n  'props': [],\n  'notes': ['Import batch [development] 2023-01-13 19:35:45.939035'],\n  'status': '1',\n  'references': []},\n {'class': 'E',\n  'id': '49a8c421-97b7-4d8a-b950-4bb7ed3ecae9',\n  'label': 'Creation of ‘Depositions of converted Good men III’',\n  'language': '',\n  'detail': '',\n  'data': {'logicalType': '1'},\n  'props': [],\n  'notes': ['Import batch [development] 2023-01-13 19:35:45.939035',\n   'special T29>:creation_event_id E0042_T29'],\n  'status': '1',\n  'references': [],\n  'legacyId': 'E0042_T29'},\n {'class': 'V',\n  'id': '30e00584-1e1e-472c-bbb1-64957540872b',\n  'label': '1256',\n  'language': '',\n  'detail': '',\n  'data': {'logicalType': '1'},\n  'props': [],\n  'notes': ['Import batch [development] 2023-01-13 19:35:45.939035',\n   'special T29>:creation_event_id E0042_T29'],\n  'status': '1',\n  'references': []},\n {'class': 'E',\n  'id': '04477f6a-107c-4036-9175-a016d24d064b',\n  'label': 'Creation of ‘Depositions of converted Good men IV’',\n  'language': '',\n  'detail': '',\n  'data': {'logicalType': '1'},\n  'props': [],\n  'notes': ['Import batch [development] 2023-01-13 19:35:45.939035',\n   'special T30>:creation_event_id E0043_T30'],\n  'status': '1',\n  'references': [],\n  'legacyId': 'E0043_T30'},\n {'class': 'E',\n  'id': '54167a1f-a738-4aba-9a48-389009e1161a',\n  'label': 'Creation of ‘Epistola Baldvini Episcopi’',\n  'language': '',\n  'detail': '',\n  'data': {'logicalType': '1'},\n  'props': [],\n  'notes': ['Import batch [development] 2023-01-13 19:35:45.939035',\n   'special T93>:creation_event_id E0044_T93'],\n  'status': '1',\n  'references': [],\n  'legacyId': 'E0044_T93'},\n {'class': 'R',\n  'id': '2f42db2c-6620-4603-b55b-3e1412f8fb34',\n  'label': 'Chronicon Morinense; edited by Jacques Malbrancq, De Morinis et Morinorum rebus (Tournai,\\n1639-1654), II',\n  'language': '',\n  'detail': '',\n  'data': {'url': '', 'partValueBaseURL': '', 'partValueLabel': ''},\n  'props': [],\n  'notes': ['Import batch [development] 2023-01-13 19:35:45.939035'],\n  'status': '1',\n  'references': []},\n {'class': 'V',\n  'id': 'e86af192-a17e-4441-900b-25f2242a46f1',\n  'label': '661-663',\n  'language': '',\n  'detail': '',\n  'data': {'logicalType': '1'},\n  'props': [],\n  'notes': ['Import batch [development] 2023-01-13 19:35:45.939035',\n   'propvalue_2nd>43:T93:edition_1_page_range:661-663'],\n  'status': '1',\n  'references': []},\n {'class': 'E',\n  'id': 'f1451e08-36f3-4f94-a4d5-540f4320e3d4',\n  'label': 'Creation of ‘epistola ecclesie Leodiensis ad Lucum papam II’',\n  'language': '',\n  'detail': '',\n  'data': {'logicalType': '1'},\n  'props': [],\n  'notes': ['Import batch [development] 2023-01-13 19:35:45.939035',\n   'special T140>:creation_event_id E0045_T140'],\n  'status': '1',\n  'references': [],\n  'legacyId': 'E0045_T140'},\n {'class': 'E',\n  'id': '317d47f1-b136-4e34-9ee8-d9fd079d2bdb',\n  'label': 'Creation of ‘epistola ecclesie Traiectensis ad Fridericum archiepiscopum Coloniensem’',\n  'language': '',\n  'detail': '',\n  'data': {'logicalType': '1'},\n  'props': [],\n  'notes': ['Import batch [development] 2023-01-13 19:35:45.939035',\n   'special T109>:creation_event_id E0046_T109'],\n  'status': '1',\n  'references': [],\n  'legacyId': 'E0046_T109'},\n {'class': 'R',\n  'id': '4557dfa2-adc3-4396-aff5-d68b2562bb6c',\n  'label': 'Codex Udalrici, ed. by  P. Jaffé, in: Bibliotheca rerum Germanicarum, t. 5: Monumenta Bambergensis',\n  'language': '',\n  'detail': '',\n  'data': {'url': '', 'partValueBaseURL': '', 'partValueLabel': ''},\n  'props': [],\n  'notes': ['Import batch [development] 2023-01-13 19:35:45.939035'],\n  'status': '1',\n  'references': []},\n {'class': 'V',\n  'id': '61f26573-74bf-4439-8f6b-fe6349ba12fb',\n  'label': '296-300',\n  'language': '',\n  'detail': '',\n  'data': {'logicalType': '1'},\n  'props': [],\n  'notes': ['Import batch [development] 2023-01-13 19:35:45.939035',\n   'propvalue_2nd>45:T109:edition_1_page_range:296-300'],\n  'status': '1',\n  'references': []},\n {'class': 'E',\n  'id': 'c814d781-2fa3-4cd0-aaad-d2cc5596df7b',\n  'label': 'Creation of ‘epistola Evervini Steinfeldensis ad S. Bernardum Clarevallem’',\n  'language': '',\n  'detail': '',\n  'data': {'logicalType': '1'},\n  'props': [],\n  'notes': ['Import batch [development] 2023-01-13 19:35:45.939035',\n   'special T139>:creation_event_id E0047_T139'],\n  'status': '1',\n  'references': [],\n  'legacyId': 'E0047_T139'},\n {'class': 'E',\n  'id': 'b1120f11-5bec-4ac0-8809-07fcc1fbf430',\n  'label': 'Creation of ‘epistola Gaufridi ad Archenfredum’',\n  'language': '',\n  'detail': '',\n  'data': {'logicalType': '1'},\n  'props': [],\n  'notes': ['Import batch [development] 2023-01-13 19:35:45.939035',\n   'special T147>:creation_event_id E0048_T147'],\n  'status': '1',\n  'references': [],\n  'legacyId': 'E0048_T147'},\n {'class': 'R',\n  'id': '071344c4-62d5-40a5-a015-e5ee56d7f615',\n  'label': 'PL 185, 410-416',\n  'language': '',\n  'detail': '',\n  'data': {'url': '', 'partValueBaseURL': '', 'partValueLabel': ''},\n  'props': [],\n  'notes': ['Import batch [development] 2023-01-13 19:35:45.939035'],\n  'status': '1',\n  'references': []},\n {'class': 'V',\n  'id': 'ed98c4df-d903-47a2-a7f4-52af0b94fc09',\n  'label': '410-416',\n  'language': '',\n  'detail': '',\n  'data': {'logicalType': '1'},\n  'props': [],\n  'notes': ['Import batch [development] 2023-01-13 19:35:45.939035',\n   'propvalue_2nd>47:T147:edition_1_page_range:410-416'],\n  'status': '1',\n  'references': []},\n {'class': 'E',\n  'id': 'c276ea87-48cf-41d9-8e36-548d05d4f8d2',\n  'label': 'Creation of ‘epistola Gerardi episcopi Camaracensis et Attrebatensis ad R.’',\n  'language': '',\n  'detail': '',\n  'data': {'logicalType': '1'},\n  'props': [],\n  'notes': ['Import batch [development] 2023-01-13 19:35:45.939035',\n   'special T143>:creation_event_id E0049_T143'],\n  'status': '1',\n  'references': [],\n  'legacyId': 'E0049_T143'},\n {'class': 'E',\n  'id': '3501661b-f1f0-416b-a9ac-6f95db90b95b',\n  'label': 'Creation of ‘epistola Hildeberti episcopi Cenomannensis’',\n  'language': '',\n  'detail': '',\n  'data': {'logicalType': '1'},\n  'props': [],\n  'notes': ['Import batch [development] 2023-01-13 19:35:45.939035',\n   'special T136>:creation_event_id E0050_T136'],\n  'status': '1',\n  'references': [],\n  'legacyId': 'E0050_T136'},\n {'class': 'E',\n  'id': 'bae1c0de-81c3-4c7a-a526-6c7ef6819296',\n  'label': 'Creation of ‘Epistola Johannis monachi ad Olibam’',\n  'language': '',\n  'detail': '',\n  'data': {'logicalType': '1'},\n  'props': [],\n  'notes': ['Import batch [development] 2023-01-13 19:35:45.939035',\n   'special T84>:creation_event_id E0051_T84'],\n  'status': '1',\n  'references': [],\n  'legacyId': 'E0051_T84'},\n {'class': 'R',\n  'id': '830928a3-ec64-4c88-83aa-43e05e73442e',\n  'label': 'Johannes monachus ad Olibam in: André de Fleury, \"Vie de Gauzlin, abbé de Fleury : Vita Gauzlini abbatis Floriacensis monasterii\", ed. R.-H. Bautier, G. Labory, Paris : CNRS, 1969.',\n  'language': '',\n  'detail': '',\n  'data': {'url': '', 'partValueBaseURL': '', 'partValueLabel': ''},\n  'props': [],\n  'notes': ['Import batch [development] 2023-01-13 19:35:45.939035'],\n  'status': '1',\n  'references': []},\n {'class': 'V',\n  'id': 'e88be969-aa6d-46fe-a417-857b9ce1c80b',\n  'label': '180-183',\n  'language': '',\n  'detail': '',\n  'data': {'logicalType': '1'},\n  'props': [],\n  'notes': ['Import batch [development] 2023-01-13 19:35:45.939035',\n   'propvalue_2nd>50:T84:edition_1_page_range:180-183'],\n  'status': '1',\n  'references': []},\n {'class': 'R',\n  'id': 'fd77a8cc-a56d-42f2-994c-6926b489d645',\n  'label': 'Bouquet, X, 498',\n  'language': '',\n  'detail': '',\n  'data': {'url': '', 'partValueBaseURL': '', 'partValueLabel': ''},\n  'props': [],\n  'notes': ['Import batch [development] 2023-01-13 19:35:45.939035'],\n  'status': '1',\n  'references': []},\n {'class': 'E',\n  'id': '3a51baca-efdf-4716-8528-7131b3c1d35b',\n  'label': 'Creation of ‘epistola monachi Heriberti’',\n  'language': '',\n  'detail': '',\n  'data': {'logicalType': '1'},\n  'props': [],\n  'notes': ['Import batch [development] 2023-01-13 19:35:45.939035',\n   'special T102>:creation_event_id E0052_T102'],\n  'status': '1',\n  'references': [],\n  'legacyId': 'E0052_T102'},\n {'class': 'V',\n  'id': '2815e421-ccc4-430d-b916-924eb795b6c6',\n  'label': '1030',\n  'language': '',\n  'detail': '',\n  'data': {'logicalType': '1'},\n  'props': [],\n  'notes': ['Import batch [development] 2023-01-13 19:35:45.939035',\n   'special T102>:creation_event_id E0052_T102'],\n  'status': '1',\n  'references': []},\n {'class': 'V',\n  'id': 'b0caa337-48a6-4e8e-b242-7fd6b85db20f',\n  'label': '1050',\n  'language': '',\n  'detail': '',\n  'data': {'logicalType': '1'},\n  'props': [],\n  'notes': ['Import batch [development] 2023-01-13 19:35:45.939035',\n   'special T102>:creation_event_id E0052_T102'],\n  'status': '1',\n  'references': []},\n {'class': 'E',\n  'id': 'fefa661e-8a85-43fa-a47b-45b5f64e3e69',\n  'label': 'Creation of ‘epistola Petri Venerabilis (in: Contra Petrobrusianos)’',\n  'language': '',\n  'detail': '',\n  'data': {'logicalType': '1'},\n  'props': [],\n  'notes': ['Import batch [development] 2023-01-13 19:35:45.939035',\n   'special T145>:creation_event_id E0053_T145'],\n  'status': '1',\n  'references': [],\n  'legacyId': 'E0053_T145'},\n {'class': 'E',\n  'id': 'fa8522a1-4668-49ef-853c-ccfd42f4df39',\n  'label': 'Creation of ‘epistola sancti Bernardi Clarevallensis ad Alfonsum comitem Tolose’',\n  'language': '',\n  'detail': '',\n  'data': {'logicalType': '1'},\n  'props': [],\n  'notes': ['Import batch [development] 2023-01-13 19:35:45.939035',\n   'special T132>:creation_event_id E0054_T132'],\n  'status': '1',\n  'references': [],\n  'legacyId': 'E0054_T132'},\n {'class': 'E',\n  'id': 'b5366277-c421-4f35-bb9c-6b696ce19a5b',\n  'label': 'Creation of ‘epistola Wazoni episcopi Leodiensis (in: Gesta episcoporum Tungrensium, Traiectensium, et Leodiensium)’',\n  'language': '',\n  'detail': '',\n  'data': {'logicalType': '1'},\n  'props': [],\n  'notes': ['Import batch [development] 2023-01-13 19:35:45.939035',\n   'special T144>:creation_event_id E0055_T144'],\n  'status': '1',\n  'references': [],\n  'legacyId': 'E0055_T144'},\n {'class': 'E',\n  'id': 'f4dee20d-47b5-4b96-9211-1b8e29ff21e8',\n  'label': 'Creation of ‘Fragment of sentences of Jacques Fournier’',\n  'language': '',\n  'detail': '',\n  'data': {'logicalType': '1'},\n  'props': [],\n  'notes': ['Import batch [development] 2023-01-13 19:35:45.939035',\n   'special T25>:creation_event_id E0056_T25'],\n  'status': '1',\n  'references': [],\n  'legacyId': 'E0056_T25'},\n {'class': 'V',\n  'id': 'b88d96f8-8e42-4c52-a6a1-d20963331093',\n  'label': '1321',\n  'language': '',\n  'detail': '',\n  'data': {'logicalType': '1'},\n  'props': [],\n  'notes': ['Import batch [development] 2023-01-13 19:35:45.939035',\n   'special T25>:creation_event_id E0056_T25'],\n  'status': '1',\n  'references': []},\n {'class': 'R',\n  'id': 'c3c9ccbf-ddfe-4a68-a249-bfbc2d90176e',\n  'label': 'Duvernoy, 2001',\n  'language': '',\n  'detail': '',\n  'data': {'url': 'https://www.zotero.org/groups/446972/david_zbiral_bibliography/items/itemKey/GDS834VG/',\n   'partValueBaseURL': '',\n   'partValueLabel': ''},\n  'props': [],\n  'notes': ['Import batch [development] 2023-01-13 19:35:45.939035'],\n  'status': '1',\n  'references': []},\n {'class': 'E',\n  'id': '683e1702-7418-4ba2-849b-1d067e0bfdeb',\n  'label': 'Creation of ‘Gesta episcoporum Tungrensium, Traiectensium, et Leodiensium’',\n  'language': '',\n  'detail': '',\n  'data': {'logicalType': '1'},\n  'props': [],\n  'notes': ['Import batch [development] 2023-01-13 19:35:45.939035',\n   'special T100>:creation_event_id E0057_T100'],\n  'status': '1',\n  'references': [],\n  'legacyId': 'E0057_T100'},\n {'class': 'E',\n  'id': '7639c229-29b8-4398-b576-57a8ac85b285',\n  'label': 'Creation of ‘Gesta Friderici seu rectius Cronica’',\n  'language': '',\n  'detail': '',\n  'data': {'logicalType': '1'},\n  'props': [],\n  'notes': ['Import batch [development] 2023-01-13 19:35:45.939035',\n   'special T126>:creation_event_id E0058_T126'],\n  'status': '1',\n  'references': [],\n  'legacyId': 'E0058_T126'},\n {'class': 'E',\n  'id': '31b44fa6-2699-4c3e-b6b0-cdf83141f263',\n  'label': 'Creation of ‘Gesta Treverorum’',\n  'language': '',\n  'detail': '',\n  'data': {'logicalType': '1'},\n  'props': [],\n  'notes': ['Import batch [development] 2023-01-13 19:35:45.939035',\n   'special T106>:creation_event_id E0059_T106'],\n  'status': '1',\n  'references': [],\n  'legacyId': 'E0059_T106'},\n {'class': 'E',\n  'id': '74b3137b-40cf-4e6f-8eed-9c7fdd40ac65',\n  'label': 'Creation of ‘Herimanni Augiensis Chronicon’',\n  'language': '',\n  'detail': '',\n  'data': {'logicalType': '1'},\n  'props': [],\n  'notes': ['Import batch [development] 2023-01-13 19:35:45.939035',\n   'special T98>:creation_event_id E0060_T98'],\n  'status': '1',\n  'references': [],\n  'legacyId': 'E0060_T98'},\n {'class': 'E',\n  'id': '661c8e10-354f-4f0a-b215-4d24da4ffd7d',\n  'label': 'Creation of ‘Historia dedicationis ecclesiae Sancti Remigii apud Remos’',\n  'language': '',\n  'detail': '',\n  'data': {'logicalType': '1'},\n  'props': [],\n  'notes': ['Import batch [development] 2023-01-13 19:35:45.939035',\n   'special T101>:creation_event_id E0061_T101'],\n  'status': '1',\n  'references': [],\n  'legacyId': 'E0061_T101'},\n {'class': 'V',\n  'id': 'f18a42a2-3005-4d1b-9a70-1e01e3b88dd1',\n  'label': '1049',\n  'language': '',\n  'detail': '',\n  'data': {'logicalType': '1'},\n  'props': [],\n  'notes': ['Import batch [development] 2023-01-13 19:35:45.939035',\n   'special T101>:creation_event_id E0061_T101'],\n  'status': '1',\n  'references': []},\n {'class': 'V',\n  'id': 'ac050801-8ad6-4c80-9497-5324f5ab169f',\n  'label': '1049',\n  'language': '',\n  'detail': '',\n  'data': {'logicalType': '1'},\n  'props': [],\n  'notes': ['Import batch [development] 2023-01-13 19:35:45.939035',\n   'special T101>:creation_event_id E0061_T101'],\n  'status': '1',\n  'references': []},\n {'class': 'E',\n  'id': '432cc654-368b-466f-abed-bf52a1cb8698',\n  'label': 'Creation of ‘Historia Francie’',\n  'language': '',\n  'detail': '',\n  'data': {'logicalType': '1'},\n  'props': [],\n  'notes': ['Import batch [development] 2023-01-13 19:35:45.939035',\n   'special T92>:creation_event_id E0062_T92'],\n  'status': '1',\n  'references': [],\n  'legacyId': 'E0062_T92'},\n {'class': 'R',\n  'id': 'd7896406-aa2f-44d0-92e2-2a0491904084',\n  'label': '“Historiae Franciae,” Bouquet, X',\n  'language': '',\n  'detail': '',\n  'data': {'url': '', 'partValueBaseURL': '', 'partValueLabel': ''},\n  'props': [],\n  'notes': ['Import batch [development] 2023-01-13 19:35:45.939035'],\n  'status': '1',\n  'references': []},\n {'class': 'V',\n  'id': '2aff758d-742e-43a9-ba47-514d750802b8',\n  'label': '211-212',\n  'language': '',\n  'detail': '',\n  'data': {'logicalType': '1'},\n  'props': [],\n  'notes': ['Import batch [development] 2023-01-13 19:35:45.939035',\n   'propvalue_2nd>61:T92:edition_1_page_range:211-212'],\n  'status': '1',\n  'references': []},\n {'class': 'E',\n  'id': 'aa29eb59-b4a6-4224-9d07-e4bffe2130ca',\n  'label': 'Creation of ‘Historia Mediolanensis’',\n  'language': '',\n  'detail': '',\n  'data': {'logicalType': '1'},\n  'props': [],\n  'notes': ['Import batch [development] 2023-01-13 19:35:45.939035',\n   'special T81>:creation_event_id E0063_T81'],\n  'status': '1',\n  'references': [],\n  'legacyId': 'E0063_T81'},\n {'class': 'R',\n  'id': '43d0dfc1-b5c4-4456-9473-a7977680e42f',\n  'label': '\"Landulphi senioris Mediolanensis historiae libri quatuor\", ed. A. Cutolo, in: \"Rerum Italicarum Scriptores\", t. 4, pt. 2, Bologna 1900.',\n  'language': '',\n  'detail': '',\n  'data': {'url': '', 'partValueBaseURL': '', 'partValueLabel': ''},\n  'props': [],\n  'notes': ['Import batch [development] 2023-01-13 19:35:45.939035'],\n  'status': '1',\n  'references': []},\n {'class': 'V',\n  'id': '6824298e-cbe6-4275-9b45-c1e81056b00b',\n  'label': '1-128: 67-69',\n  'language': '',\n  'detail': '',\n  'data': {'logicalType': '1'},\n  'props': [],\n  'notes': ['Import batch [development] 2023-01-13 19:35:45.939035',\n   'propvalue_2nd>62:T81:edition_1_page_range:1-128: 67-69'],\n  'status': '1',\n  'references': []},\n {'class': 'E',\n  'id': '3e11badb-520b-427a-be1b-80ccf33a81b7',\n  'label': 'Creation of ‘Historia Pontificalis’',\n  'language': '',\n  'detail': '',\n  'data': {'logicalType': '1'},\n  'props': [],\n  'notes': ['Import batch [development] 2023-01-13 19:35:45.939035',\n   'special T138>:creation_event_id E0064_T138'],\n  'status': '1',\n  'references': [],\n  'legacyId': 'E0064_T138'},\n {'class': 'E',\n  'id': 'd9aeb44e-f526-4b89-8e08-ec086667b41d',\n  'label': 'Creation of ‘Historia Rerum Anglicarum’',\n  'language': '',\n  'detail': '',\n  'data': {'logicalType': '1'},\n  'props': [],\n  'notes': ['Import batch [development] 2023-01-13 19:35:45.939035',\n   'special T119>:creation_event_id E0065_T119'],\n  'status': '1',\n  'references': [],\n  'legacyId': 'E0065_T119'},\n {'class': 'E',\n  'id': 'f23555a0-506d-43c9-a9b7-9b535d546d50',\n  'label': 'Creation of ‘Historiarum Libri Quinque’',\n  'language': '',\n  'detail': '',\n  'data': {'logicalType': '1'},\n  'props': [],\n  'notes': ['Import batch [development] 2023-01-13 19:35:45.939035',\n   'special T82>:creation_event_id E0066_T82'],\n  'status': '1',\n  'references': [],\n  'legacyId': 'E0066_T82'},\n {'class': 'E',\n  'id': 'f3d83b4c-c745-46ed-99eb-d62f3c58366f',\n  'label': 'Creation of ‘Hystoria Albigensis’',\n  'language': '',\n  'detail': '',\n  'data': {'logicalType': '1'},\n  'props': [],\n  'notes': ['Import batch [development] 2023-01-13 19:35:45.939035',\n   'special T28>:creation_event_id E0067_T28'],\n  'status': '1',\n  'references': [],\n  'legacyId': 'E0067_T28'},\n {'class': 'E',\n  'id': 'd1611217-088e-49c1-8674-5f11fa9e1a5b',\n  'label': 'Creation of ‘Interrogatio Iohannis’',\n  'language': '',\n  'detail': '',\n  'data': {'logicalType': '1'},\n  'props': [],\n  'notes': ['Import batch [development] 2023-01-13 19:35:45.939035',\n   'special T79>:creation_event_id E0068_T79'],\n  'status': '1',\n  'references': [],\n  'legacyId': 'E0068_T79'},\n {'class': 'V',\n  'id': '7f897bdd-73d4-4486-ac94-a8692a4a3f1d',\n  'label': '1150',\n  'language': '',\n  'detail': '',\n  'data': {'logicalType': '1'},\n  'props': [],\n  'notes': ['Import batch [development] 2023-01-13 19:35:45.939035',\n   'special T79>:creation_event_id E0068_T79'],\n  'status': '1',\n  'references': []},\n {'class': 'V',\n  'id': '233b83b0-f3a6-4ca9-ab45-4f7cc54e7a10',\n  'label': '1200',\n  'language': '',\n  'detail': '',\n  'data': {'logicalType': '1'},\n  'props': [],\n  'notes': ['Import batch [development] 2023-01-13 19:35:45.939035',\n   'special T79>:creation_event_id E0068_T79'],\n  'status': '1',\n  'references': []},\n {'class': 'V',\n  'id': '7ffdc259-81cf-43eb-bb1b-c6a732734171',\n  'label': '26v-35r',\n  'language': '',\n  'detail': '',\n  'data': {'logicalType': '1'},\n  'props': [],\n  'notes': ['Import batch [development] 2023-01-13 19:35:45.939035',\n   'propvalue_2nd>67:T79:manuscript_witness_2_with_range_entified:~V~26v-35r'],\n  'status': '1',\n  'references': []},\n {'class': 'E',\n  'id': '08da2f46-2d1d-4d6b-9c28-5bf949cde2f2',\n  'label': 'Creation of ‘Introductio ad theologiam’',\n  'language': '',\n  'detail': '',\n  'data': {'logicalType': '1'},\n  'props': [],\n  'notes': ['Import batch [development] 2023-01-13 19:35:45.939035',\n   'special T116>:creation_event_id E0069_T116'],\n  'status': '1',\n  'references': [],\n  'legacyId': 'E0069_T116'},\n {'class': 'E',\n  'id': '734dc072-facf-455a-9949-d1117df5a178',\n  'label': 'Creation of ‘Judici text A’',\n  'language': '',\n  'detail': '',\n  'data': {'logicalType': '1'},\n  'props': [],\n  'notes': ['Import batch [development] 2023-01-13 19:35:45.939035',\n   'special T54>:creation_event_id E0070_T54'],\n  'status': '1',\n  'references': [],\n  'legacyId': 'E0070_T54'},\n {'class': 'V',\n  'id': '340d36f9-6ba7-4a6d-a6a6-409522f7f175',\n  'label': '1350',\n  'language': '',\n  'detail': '',\n  'data': {'logicalType': '1'},\n  'props': [],\n  'notes': ['Import batch [development] 2023-01-13 19:35:45.939035',\n   'special T54>:creation_event_id E0070_T54'],\n  'status': '1',\n  'references': []},\n {'class': 'V',\n  'id': '2ac03893-28e2-454c-b102-548a9ad84a75',\n  'label': '1540',\n  'language': '',\n  'detail': '',\n  'data': {'logicalType': '1'},\n  'props': [],\n  'notes': ['Import batch [development] 2023-01-13 19:35:45.939035',\n   'special T54>:creation_event_id E0070_T54'],\n  'status': '1',\n  'references': []},\n {'class': 'V',\n  'id': '7e1195a9-83f2-4b79-9fcb-a78a353c32ab',\n  'label': ' 59v-64r',\n  'language': '',\n  'detail': '',\n  'data': {'logicalType': '1'},\n  'props': [],\n  'notes': ['Import batch [development] 2023-01-13 19:35:45.939035',\n   'propvalue_2nd>69:T54:manuscript_witness_1_with_range_entified:~V~ 59v-64r'],\n  'status': '1',\n  'references': []},\n {'class': 'E',\n  'id': '11b18aaa-5e2b-437c-b08b-e3345f9439f5',\n  'label': 'Creation of ‘Judici text B’',\n  'language': '',\n  'detail': '',\n  'data': {'logicalType': '1'},\n  'props': [],\n  'notes': ['Import batch [development] 2023-01-13 19:35:45.939035',\n   'special T55>:creation_event_id E0071_T55'],\n  'status': '1',\n  'references': [],\n  'legacyId': 'E0071_T55'},\n {'class': 'V',\n  'id': 'f00368ec-6815-4b18-8430-b318285737a4',\n  'label': '1350',\n  'language': '',\n  'detail': '',\n  'data': {'logicalType': '1'},\n  'props': [],\n  'notes': ['Import batch [development] 2023-01-13 19:35:45.939035',\n   'special T55>:creation_event_id E0071_T55'],\n  'status': '1',\n  'references': []},\n {'class': 'V',\n  'id': 'aadb59c1-a9f5-4540-87c4-86546d00337b',\n  'label': '1540',\n  'language': '',\n  'detail': '',\n  'data': {'logicalType': '1'},\n  'props': [],\n  'notes': ['Import batch [development] 2023-01-13 19:35:45.939035',\n   'special T55>:creation_event_id E0071_T55'],\n  'status': '1',\n  'references': []},\n {'class': 'V',\n  'id': '173a7c65-7550-4f19-a9a7-3b36e537ae35',\n  'label': ' 64r-67r',\n  'language': '',\n  'detail': '',\n  'data': {'logicalType': '1'},\n  'props': [],\n  'notes': ['Import batch [development] 2023-01-13 19:35:45.939035',\n   'propvalue_2nd>70:T55:manuscript_witness_1_with_range_entified:~V~ 64r-67r'],\n  'status': '1',\n  'references': []},\n {'class': 'V',\n  'id': 'c62c85a8-556e-4be4-86ab-bed9fb1b798f',\n  'label': '107r-110r',\n  'language': '',\n  'detail': '',\n  'data': {'logicalType': '1'},\n  'props': [],\n  'notes': ['Import batch [development] 2023-01-13 19:35:45.939035',\n   'propvalue_2nd>70:T55:manuscript_witness_2_with_range_entified:~V~107r-110r'],\n  'status': '1',\n  'references': []},\n {'class': 'V',\n  'id': 'd60f281e-e83e-4ddb-9df8-0eded73cdfa8',\n  'label': '93r-99r',\n  'language': '',\n  'detail': '',\n  'data': {'logicalType': '1'},\n  'props': [],\n  'notes': ['Import batch [development] 2023-01-13 19:35:45.939035',\n   'propvalue_2nd>70:T55:manuscript_witness_3_with_range_entified:~V~93r-99r'],\n  'status': '1',\n  'references': []},\n {'class': 'E',\n  'id': '6545c619-67a8-4b79-8cbd-548f58ef95da',\n  'label': 'Creation of ‘Judici text C’',\n  'language': '',\n  'detail': '',\n  'data': {'logicalType': '1'},\n  'props': [],\n  'notes': ['Import batch [development] 2023-01-13 19:35:45.939035',\n   'special T56>:creation_event_id E0072_T56'],\n  'status': '1',\n  'references': [],\n  'legacyId': 'E0072_T56'},\n {'class': 'V',\n  'id': 'f29d5137-7601-4951-8b65-6a2091102512',\n  'label': '1350',\n  'language': '',\n  'detail': '',\n  'data': {'logicalType': '1'},\n  'props': [],\n  'notes': ['Import batch [development] 2023-01-13 19:35:45.939035',\n   'special T56>:creation_event_id E0072_T56'],\n  'status': '1',\n  'references': []},\n {'class': 'V',\n  'id': '39372092-d454-4427-80d6-ca52edf93456',\n  'label': '1540',\n  'language': '',\n  'detail': '',\n  'data': {'logicalType': '1'},\n  'props': [],\n  'notes': ['Import batch [development] 2023-01-13 19:35:45.939035',\n   'special T56>:creation_event_id E0072_T56'],\n  'status': '1',\n  'references': []},\n {'class': 'V',\n  'id': '168c2fe5-8ea8-4579-9bf1-386de70ba294',\n  'label': ' 67r-69v',\n  'language': '',\n  'detail': '',\n  'data': {'logicalType': '1'},\n  'props': [],\n  'notes': ['Import batch [development] 2023-01-13 19:35:45.939035',\n   'propvalue_2nd>71:T56:manuscript_witness_1_with_range_entified:~V~ 67r-69v'],\n  'status': '1',\n  'references': []},\n {'class': 'E',\n  'id': '9d515212-e821-4d5d-b7c1-8a451fec1455',\n  'label': \"Creation of ‘L'Evangeli de li quatre Semencz’\",\n  'language': '',\n  'detail': '',\n  'data': {'logicalType': '1'},\n  'props': [],\n  'notes': ['Import batch [development] 2023-01-13 19:35:45.939035',\n   'special T62>:creation_event_id E0073_T62'],\n  'status': '1',\n  'references': [],\n  'legacyId': 'E0073_T62'},\n {'class': 'V',\n  'id': '98118d1d-a8bf-45dd-b915-b857e3622db6',\n  'label': '1350',\n  'language': '',\n  'detail': '',\n  'data': {'logicalType': '1'},\n  'props': [],\n  'notes': ['Import batch [development] 2023-01-13 19:35:45.939035',\n   'special T62>:creation_event_id E0073_T62'],\n  'status': '1',\n  'references': []},\n {'class': 'V',\n  'id': 'd6755533-2974-4d5c-9f9c-b59576e6a526',\n  'label': '1425',\n  'language': '',\n  'detail': '',\n  'data': {'logicalType': '1'},\n  'props': [],\n  'notes': ['Import batch [development] 2023-01-13 19:35:45.939035',\n   'special T62>:creation_event_id E0073_T62'],\n  'status': '1',\n  'references': []},\n {'class': 'V',\n  'id': 'b0d3468c-379a-4224-aa0d-6021122a8bf6',\n  'label': ' 149r-154v',\n  'language': '',\n  'detail': '',\n  'data': {'logicalType': '1'},\n  'props': [],\n  'notes': ['Import batch [development] 2023-01-13 19:35:45.939035',\n   'propvalue_2nd>72:T62:manuscript_witness_1_with_range_entified:~V~ 149r-154v'],\n  'status': '1',\n  'references': []},\n {'class': 'V',\n  'id': '2e83b78e-3866-4b27-a0bc-9ae7c4ee05a3',\n  'label': '7v-13v',\n  'language': '',\n  'detail': '',\n  'data': {'logicalType': '1'},\n  'props': [],\n  'notes': ['Import batch [development] 2023-01-13 19:35:45.939035',\n   'propvalue_2nd>72:T62:manuscript_witness_2_with_range_entified:~V~7v-13v'],\n  'status': '1',\n  'references': []},\n {'class': 'E',\n  'id': 'd61e1f9f-eaa4-4939-bf33-b8fd07245766',\n  'label': 'Creation of ‘La Barca’',\n  'language': '',\n  'detail': '',\n  'data': {'logicalType': '1'},\n  'props': [],\n  'notes': ['Import batch [development] 2023-01-13 19:35:45.939035',\n   'special T57>:creation_event_id E0074_T57'],\n  'status': '1',\n  'references': [],\n  'legacyId': 'E0074_T57'},\n {'class': 'V',\n  'id': '33bb3239-8e3e-49f3-ad05-618f00a5bcd1',\n  'label': '1350',\n  'language': '',\n  'detail': '',\n  'data': {'logicalType': '1'},\n  'props': [],\n  'notes': ['Import batch [development] 2023-01-13 19:35:45.939035',\n   'special T57>:creation_event_id E0074_T57'],\n  'status': '1',\n  'references': []},\n {'class': 'V',\n  'id': 'a34dca70-88f5-46d3-938a-956621144063',\n  'label': '1425',\n  'language': '',\n  'detail': '',\n  'data': {'logicalType': '1'},\n  'props': [],\n  'notes': ['Import batch [development] 2023-01-13 19:35:45.939035',\n   'special T57>:creation_event_id E0074_T57'],\n  'status': '1',\n  'references': []},\n {'class': 'V',\n  'id': '2fa5d7d2-27ae-4f12-9912-fcd02578a3a9',\n  'label': ' 112r-119v',\n  'language': '',\n  'detail': '',\n  'data': {'logicalType': '1'},\n  'props': [],\n  'notes': ['Import batch [development] 2023-01-13 19:35:45.939035',\n   'propvalue_2nd>73:T57:manuscript_witness_1_with_range_entified:~V~ 112r-119v'],\n  'status': '1',\n  'references': []},\n {'class': 'V',\n  'id': 'b47fd52f-3a89-4320-9915-9a2e960c2bd4',\n  'label': '35r-44r',\n  'language': '',\n  'detail': '',\n  'data': {'logicalType': '1'},\n  'props': [],\n  'notes': ['Import batch [development] 2023-01-13 19:35:45.939035',\n   'propvalue_2nd>73:T57:manuscript_witness_2_with_range_entified:~V~35r-44r'],\n  'status': '1',\n  'references': []},\n {'class': 'E',\n  'id': '4a57f1b5-f139-4eec-b8a8-82be0d01d8e4',\n  'label': 'Creation of ‘Lamberti Hersfeldensis Annales’',\n  'language': '',\n  'detail': '',\n  'data': {'logicalType': '1'},\n  'props': [],\n  'notes': ['Import batch [development] 2023-01-13 19:35:45.939035',\n   'special T99>:creation_event_id E0075_T99'],\n  'status': '1',\n  'references': [],\n  'legacyId': 'E0075_T99'},\n {'class': 'E',\n  'id': '993c3ec3-b5fc-4b45-855a-a716a418dbab',\n  'label': 'Creation of ‘Las Tribulacions Text A’',\n  'language': '',\n  'detail': '',\n  'data': {'logicalType': '1'},\n  'props': [],\n  'notes': ['Import batch [development] 2023-01-13 19:35:45.939035',\n   'special T48>:creation_event_id E0076_T48'],\n  'status': '1',\n  'references': [],\n  'legacyId': 'E0076_T48'},\n {'class': 'V',\n  'id': '397290a2-78d1-4eda-988e-35ae74a2f524',\n  'label': '1475',\n  'language': '',\n  'detail': '',\n  'data': {'logicalType': '1'},\n  'props': [],\n  'notes': ['Import batch [development] 2023-01-13 19:35:45.939035',\n   'special T48>:creation_event_id E0076_T48'],\n  'status': '1',\n  'references': []},\n {'class': 'V',\n  'id': '7967b9a8-c600-4afb-a6ec-e57f204fdc63',\n  'label': '1525',\n  'language': '',\n  'detail': '',\n  'data': {'logicalType': '1'},\n  'props': [],\n  'notes': ['Import batch [development] 2023-01-13 19:35:45.939035',\n   'special T48>:creation_event_id E0076_T48'],\n  'status': '1',\n  'references': []},\n {'class': 'V',\n  'id': 'd599f6e5-a020-470d-b660-47a4129b25f0',\n  'label': ' 271r-278r',\n  'language': '',\n  'detail': '',\n  'data': {'logicalType': '1'},\n  'props': [],\n  'notes': ['Import batch [development] 2023-01-13 19:35:45.939035',\n   'propvalue_2nd>75:T48:manuscript_witness_1_with_range_entified:~V~ 271r-278r'],\n  'status': '1',\n  'references': []},\n {'class': 'E',\n  'id': 'e8d3bfaf-c57c-4036-9a93-46799e9b709a',\n  'label': 'Creation of ‘Las Tribulacions Text B’',\n  'language': '',\n  'detail': '',\n  'data': {'logicalType': '1'},\n  'props': [],\n  'notes': ['Import batch [development] 2023-01-13 19:35:45.939035',\n   'special T49>:creation_event_id E0077_T49'],\n  'status': '1',\n  'references': [],\n  'legacyId': 'E0077_T49'},\n {'class': 'V',\n  'id': '4870ac6e-e665-43a6-bb59-72f08eccf391',\n  'label': '1475',\n  'language': '',\n  'detail': '',\n  'data': {'logicalType': '1'},\n  'props': [],\n  'notes': ['Import batch [development] 2023-01-13 19:35:45.939035',\n   'special T49>:creation_event_id E0077_T49'],\n  'status': '1',\n  'references': []},\n {'class': 'V',\n  'id': 'c520f63f-ff75-484a-80ce-27d836dc85ff',\n  'label': '1525',\n  'language': '',\n  'detail': '',\n  'data': {'logicalType': '1'},\n  'props': [],\n  'notes': ['Import batch [development] 2023-01-13 19:35:45.939035',\n   'special T49>:creation_event_id E0077_T49'],\n  'status': '1',\n  'references': []},\n {'class': 'V',\n  'id': '6bd0d5e6-52b3-42d1-8657-2bc25b7ff9af',\n  'label': ' 34r-47v',\n  'language': '',\n  'detail': '',\n  'data': {'logicalType': '1'},\n  'props': [],\n  'notes': ['Import batch [development] 2023-01-13 19:35:45.939035',\n   'propvalue_2nd>76:T49:manuscript_witness_1_with_range_entified:~V~ 34r-47v'],\n  'status': '1',\n  'references': []},\n {'class': 'V',\n  'id': '1a876f9a-0f74-48f7-8dc7-bfd77f8890e3',\n  'label': '278r-281r',\n  'language': '',\n  'detail': '',\n  'data': {'logicalType': '1'},\n  'props': [],\n  'notes': ['Import batch [development] 2023-01-13 19:35:45.939035',\n   'propvalue_2nd>76:T49:manuscript_witness_2_with_range_entified:~V~278r-281r'],\n  'status': '1',\n  'references': []},\n {'class': 'E',\n  'id': '96397540-7b57-4a5b-b76f-c23adbae6818',\n  'label': 'Creation of ‘Las Tribulacions Text C’',\n  'language': '',\n  'detail': '',\n  'data': {'logicalType': '1'},\n  'props': [],\n  'notes': ['Import batch [development] 2023-01-13 19:35:45.939035',\n   'special T50>:creation_event_id E0078_T50'],\n  'status': '1',\n  'references': [],\n  'legacyId': 'E0078_T50'},\n {'class': 'V',\n  'id': '9d1a7500-c112-40af-84bc-36e64303fd87',\n  'label': '1475',\n  'language': '',\n  'detail': '',\n  'data': {'logicalType': '1'},\n  'props': [],\n  'notes': ['Import batch [development] 2023-01-13 19:35:45.939035',\n   'special T50>:creation_event_id E0078_T50'],\n  'status': '1',\n  'references': []},\n {'class': 'V',\n  'id': '5527f0c1-6eb0-4c03-a4e9-124439366577',\n  'label': '1525',\n  'language': '',\n  'detail': '',\n  'data': {'logicalType': '1'},\n  'props': [],\n  'notes': ['Import batch [development] 2023-01-13 19:35:45.939035',\n   'special T50>:creation_event_id E0078_T50'],\n  'status': '1',\n  'references': []},\n {'class': 'V',\n  'id': 'db11c257-21be-4cb2-8278-271831cc4256',\n  'label': ' 14r-18r',\n  'language': '',\n  'detail': '',\n  'data': {'logicalType': '1'},\n  'props': [],\n  'notes': ['Import batch [development] 2023-01-13 19:35:45.939035',\n   'propvalue_2nd>77:T50:manuscript_witness_1_with_range_entified:~V~ 14r-18r'],\n  'status': '1',\n  'references': []},\n {'class': 'V',\n  'id': '054f7722-94e8-449f-8e01-1f19f8821585',\n  'label': '331r-332v',\n  'language': '',\n  'detail': '',\n  'data': {'logicalType': '1'},\n  'props': [],\n  'notes': ['Import batch [development] 2023-01-13 19:35:45.939035',\n   'propvalue_2nd>77:T50:manuscript_witness_2_with_range_entified:~V~331r-332v'],\n  'status': '1',\n  'references': []},\n {'class': 'V',\n  'id': '11a02991-4dc5-4498-bfff-c65922821543',\n  'label': '281v-282v',\n  'language': '',\n  'detail': '',\n  'data': {'logicalType': '1'},\n  'props': [],\n  'notes': ['Import batch [development] 2023-01-13 19:35:45.939035',\n   'propvalue_2nd>77:T50:manuscript_witness_3_with_range_entified:~V~281v-282v'],\n  'status': '1',\n  'references': []},\n {'class': 'E',\n  'id': '222944cd-00fa-4d0a-a5be-201afe633892',\n  'label': 'Creation of ‘Las Tribulacions Text D’',\n  'language': '',\n  'detail': '',\n  'data': {'logicalType': '1'},\n  'props': [],\n  'notes': ['Import batch [development] 2023-01-13 19:35:45.939035',\n   'special T51>:creation_event_id E0079_T51'],\n  'status': '1',\n  'references': [],\n  'legacyId': 'E0079_T51'},\n {'class': 'V',\n  'id': '7b1f2cb8-1d66-4867-85f6-07a6af472725',\n  'label': '1475',\n  'language': '',\n  'detail': '',\n  'data': {'logicalType': '1'},\n  'props': [],\n  'notes': ['Import batch [development] 2023-01-13 19:35:45.939035',\n   'special T51>:creation_event_id E0079_T51'],\n  'status': '1',\n  'references': []},\n {'class': 'V',\n  'id': '9b7064f2-3c89-4e50-8e6d-d17f75f62349',\n  'label': '1525',\n  'language': '',\n  'detail': '',\n  'data': {'logicalType': '1'},\n  'props': [],\n  'notes': ['Import batch [development] 2023-01-13 19:35:45.939035',\n   'special T51>:creation_event_id E0079_T51'],\n  'status': '1',\n  'references': []},\n {'class': 'V',\n  'id': 'f01d6fc8-1fe3-4b41-9ce7-f0bdd6eb55ba',\n  'label': ' 282v-284v',\n  'language': '',\n  'detail': '',\n  'data': {'logicalType': '1'},\n  'props': [],\n  'notes': ['Import batch [development] 2023-01-13 19:35:45.939035',\n   'propvalue_2nd>78:T51:manuscript_witness_1_with_range_entified:~V~ 282v-284v'],\n  'status': '1',\n  'references': []},\n {'class': 'E',\n  'id': 'de1944de-5f30-49f2-b79a-70afc1dcfac5',\n  'label': 'Creation of ‘Las Tribulacions Text E’',\n  'language': '',\n  'detail': '',\n  'data': {'logicalType': '1'},\n  'props': [],\n  'notes': ['Import batch [development] 2023-01-13 19:35:45.939035',\n   'special T52>:creation_event_id E0080_T52'],\n  'status': '1',\n  'references': [],\n  'legacyId': 'E0080_T52'},\n {'class': 'V',\n  'id': '7c8ec0bd-5240-4b2f-834f-d1849f582e9f',\n  'label': '1475',\n  'language': '',\n  'detail': '',\n  'data': {'logicalType': '1'},\n  'props': [],\n  'notes': ['Import batch [development] 2023-01-13 19:35:45.939035',\n   'special T52>:creation_event_id E0080_T52'],\n  'status': '1',\n  'references': []},\n {'class': 'V',\n  'id': '8fbf6cb7-b7c0-4acf-aa90-eaaef797187b',\n  'label': '1525',\n  'language': '',\n  'detail': '',\n  'data': {'logicalType': '1'},\n  'props': [],\n  'notes': ['Import batch [development] 2023-01-13 19:35:45.939035',\n   'special T52>:creation_event_id E0080_T52'],\n  'status': '1',\n  'references': []},\n {'class': 'V',\n  'id': 'b2f935ec-38a7-4d84-82f2-03fc0b867cd4',\n  'label': ' 18v-24v',\n  'language': '',\n  'detail': '',\n  'data': {'logicalType': '1'},\n  'props': [],\n  'notes': ['Import batch [development] 2023-01-13 19:35:45.939035',\n   'propvalue_2nd>79:T52:manuscript_witness_1_with_range_entified:~V~ 18v-24v'],\n  'status': '1',\n  'references': []},\n {'class': 'V',\n  'id': '41bda1e5-2f76-4b17-9f14-7befee5b4d05',\n  'label': '332v-335r',\n  'language': '',\n  'detail': '',\n  'data': {'logicalType': '1'},\n  'props': [],\n  'notes': ['Import batch [development] 2023-01-13 19:35:45.939035',\n   'propvalue_2nd>79:T52:manuscript_witness_2_with_range_entified:~V~332v-335r'],\n  'status': '1',\n  'references': []},\n {'class': 'E',\n  'id': '395f8629-b90b-4cab-b25b-0acc11f33999',\n  'label': 'Creation of ‘Las Tribulacions Text F’',\n  'language': '',\n  'detail': '',\n  'data': {'logicalType': '1'},\n  'props': [],\n  'notes': ['Import batch [development] 2023-01-13 19:35:45.939035',\n   'special T53>:creation_event_id E0081_T53'],\n  'status': '1',\n  'references': [],\n  'legacyId': 'E0081_T53'},\n {'class': 'V',\n  'id': 'f74e6c06-89ab-4aaf-a1c0-1d10661f3299',\n  'label': '1475',\n  'language': '',\n  'detail': '',\n  'data': {'logicalType': '1'},\n  'props': [],\n  'notes': ['Import batch [development] 2023-01-13 19:35:45.939035',\n   'special T53>:creation_event_id E0081_T53'],\n  'status': '1',\n  'references': []},\n {'class': 'V',\n  'id': '89adfde4-f8dd-4de1-886c-36bb60ba4eed',\n  'label': '1525',\n  'language': '',\n  'detail': '',\n  'data': {'logicalType': '1'},\n  'props': [],\n  'notes': ['Import batch [development] 2023-01-13 19:35:45.939035',\n   'special T53>:creation_event_id E0081_T53'],\n  'status': '1',\n  'references': []},\n {'class': 'V',\n  'id': 'c27ef92f-2dc7-41d9-b398-554f9fee79bf',\n  'label': ' 24v-51r',\n  'language': '',\n  'detail': '',\n  'data': {'logicalType': '1'},\n  'props': [],\n  'notes': ['Import batch [development] 2023-01-13 19:35:45.939035',\n   'propvalue_2nd>80:T53:manuscript_witness_1_with_range_entified:~V~ 24v-51r'],\n  'status': '1',\n  'references': []},\n {'class': 'V',\n  'id': '285970ec-3ccb-4ce9-b6e0-7efdb53a2117',\n  'label': '335r-345r',\n  'language': '',\n  'detail': '',\n  'data': {'logicalType': '1'},\n  'props': [],\n  'notes': ['Import batch [development] 2023-01-13 19:35:45.939035',\n   'propvalue_2nd>80:T53:manuscript_witness_2_with_range_entified:~V~335r-345r'],\n  'status': '1',\n  'references': []},\n {'class': 'E',\n  'id': '116557dc-70d8-458c-8fe0-b9567f83d0f5',\n  'label': 'Creation of ‘Letter of converted Waldensian brethren’',\n  'language': '',\n  'detail': '',\n  'data': {'logicalType': '1'},\n  'props': [],\n  'notes': ['Import batch [development] 2023-01-13 19:35:45.939035',\n   'special T64>:creation_event_id E0082_T64'],\n  'status': '1',\n  'references': [],\n  'legacyId': 'E0082_T64'},\n {'class': 'V',\n  'id': '519dd951-2d62-45d0-b204-66f16b3f4d9f',\n  'label': '1365',\n  'language': '',\n  'detail': '',\n  'data': {'logicalType': '1'},\n  'props': [],\n  'notes': ['Import batch [development] 2023-01-13 19:35:45.939035',\n   'special T64>:creation_event_id E0082_T64'],\n  'status': '1',\n  'references': []},\n {'class': 'V',\n  'id': 'c5866923-6f4b-4979-ab33-28027cff082b',\n  'label': '1367',\n  'language': '',\n  'detail': '',\n  'data': {'logicalType': '1'},\n  'props': [],\n  'notes': ['Import batch [development] 2023-01-13 19:35:45.939035',\n   'special T64>:creation_event_id E0082_T64'],\n  'status': '1',\n  'references': []},\n {'class': 'E',\n  'id': '755fa40f-9f97-488e-9898-24a60634581e',\n  'label': 'Creation of ‘Letter of Geoffrey Blyth, Bishop of Coventry and Lichfield, to William Smith, Bishop of Lincoln’',\n  'language': '',\n  'detail': '',\n  'data': {'logicalType': '1'},\n  'props': [],\n  'notes': ['Import batch [development] 2023-01-13 19:35:45.939035',\n   'special T38>:creation_event_id E0083_T38'],\n  'status': '1',\n  'references': [],\n  'legacyId': 'E0083_T38'},\n {'class': 'V',\n  'id': '34473406-7a27-4445-8b0e-ceb00e8a2855',\n  'label': '1511',\n  'language': '',\n  'detail': '',\n  'data': {'logicalType': '1'},\n  'props': [],\n  'notes': ['Import batch [development] 2023-01-13 19:35:45.939035',\n   'special T38>:creation_event_id E0083_T38'],\n  'status': '1',\n  'references': []},\n {'class': 'E',\n  'id': 'ca934bd6-8573-4e0d-908a-89747596fab3',\n  'label': 'Creation of ‘Epistola Johannis Leser I’',\n  'language': '',\n  'detail': '',\n  'data': {'logicalType': '1'},\n  'props': [],\n  'notes': ['Import batch [development] 2023-01-13 19:35:45.939035',\n   'special T68>:creation_event_id E0084_T68'],\n  'status': '1',\n  'references': [],\n  'legacyId': 'E0084_T68'},\n {'class': 'V',\n  'id': '6b372a9d-5890-47db-8b0a-a2041dd60402',\n  'label': '1368',\n  'language': '',\n  'detail': '',\n  'data': {'logicalType': '1'},\n  'props': [],\n  'notes': ['Import batch [development] 2023-01-13 19:35:45.939035',\n   'special T68>:creation_event_id E0084_T68'],\n  'status': '1',\n  'references': []},\n {'class': 'V',\n  'id': '6c1d4f93-d0da-4c59-98ce-35e471f5b37e',\n  'label': '1370',\n  'language': '',\n  'detail': '',\n  'data': {'logicalType': '1'},\n  'props': [],\n  'notes': ['Import batch [development] 2023-01-13 19:35:45.939035',\n   'special T68>:creation_event_id E0084_T68'],\n  'status': '1',\n  'references': []},\n {'class': 'E',\n  'id': '871b9183-0c1e-4254-80e9-843a6fa4bb1a',\n  'label': 'Creation of ‘Epistola Johannis Leser II’',\n  'language': '',\n  'detail': '',\n  'data': {'logicalType': '1'},\n  'props': [],\n  'notes': ['Import batch [development] 2023-01-13 19:35:45.939035',\n   'special T71>:creation_event_id E0085_T71'],\n  'status': '1',\n  'references': [],\n  'legacyId': 'E0085_T71'},\n {'class': 'V',\n  'id': '21bc2ccb-7af3-4e3d-bad4-3fd11cf99340',\n  'label': '1370',\n  'language': '',\n  'detail': '',\n  'data': {'logicalType': '1'},\n  'props': [],\n  'notes': ['Import batch [development] 2023-01-13 19:35:45.939035',\n   'special T71>:creation_event_id E0085_T71'],\n  'status': '1',\n  'references': []},\n {'class': 'V',\n  'id': '4961f5db-b3ae-436b-9852-6438edd147d9',\n  'label': '1378',\n  'language': '',\n  'detail': '',\n  'data': {'logicalType': '1'},\n  'props': [],\n  'notes': ['Import batch [development] 2023-01-13 19:35:45.939035',\n   'special T71>:creation_event_id E0085_T71'],\n  'status': '1',\n  'references': []},\n {'class': 'E',\n  'id': '9c8e4679-a5ce-49be-95fc-de12a740b0c5',\n  'label': 'Creation of ‘Epistola fratrum de Ytalia I’',\n  'language': '',\n  'detail': '',\n  'data': {'logicalType': '1'},\n  'props': [],\n  'notes': ['Import batch [development] 2023-01-13 19:35:45.939035',\n   'special T66>:creation_event_id E0086_T66'],\n  'status': '1',\n  'references': [],\n  'legacyId': 'E0086_T66'},\n {'class': 'V',\n  'id': '4329d33f-d5a8-407d-8416-33398652b0e7',\n  'label': '1365',\n  'language': '',\n  'detail': '',\n  'data': {'logicalType': '1'},\n  'props': [],\n  'notes': ['Import batch [development] 2023-01-13 19:35:45.939035',\n   'special T66>:creation_event_id E0086_T66'],\n  'status': '1',\n  'references': []},\n {'class': 'V',\n  'id': '245fafa4-372b-435a-990a-d10ae724c778',\n  'label': '1367',\n  'language': '',\n  'detail': '',\n  'data': {'logicalType': '1'},\n  'props': [],\n  'notes': ['Import batch [development] 2023-01-13 19:35:45.939035',\n   'special T66>:creation_event_id E0086_T66'],\n  'status': '1',\n  'references': []},\n {'class': 'E',\n  'id': 'e2d987b6-e57c-4fe9-a386-305489b3e6ec',\n  'label': 'Creation of ‘Epistola fratrum de Ytalia II’',\n  'language': '',\n  'detail': '',\n  'data': {'logicalType': '1'},\n  'props': [],\n  'notes': ['Import batch [development] 2023-01-13 19:35:45.939035',\n   'special T67>:creation_event_id E0087_T67'],\n  'status': '1',\n  'references': [],\n  'legacyId': 'E0087_T67'},\n {'class': 'V',\n  'id': 'f17e42da-d72e-4843-96bd-7fa9ae0a5e63',\n  'label': '1365',\n  'language': '',\n  'detail': '',\n  'data': {'logicalType': '1'},\n  'props': [],\n  'notes': ['Import batch [development] 2023-01-13 19:35:45.939035',\n   'special T67>:creation_event_id E0087_T67'],\n  'status': '1',\n  'references': []},\n {'class': 'V',\n  'id': 'c37e4b8b-4d85-491e-8ae6-9c8a2a6a1684',\n  'label': '1367',\n  'language': '',\n  'detail': '',\n  'data': {'logicalType': '1'},\n  'props': [],\n  'notes': ['Import batch [development] 2023-01-13 19:35:45.939035',\n   'special T67>:creation_event_id E0087_T67'],\n  'status': '1',\n  'references': []},\n {'class': 'E',\n  'id': 'ccc4b068-aabe-41e7-b100-05326e680a4b',\n  'label': 'Creation of ‘Epistola fratrum de Ytalia III’',\n  'language': '',\n  'detail': '',\n  'data': {'logicalType': '1'},\n  'props': [],\n  'notes': ['Import batch [development] 2023-01-13 19:35:45.939035',\n   'special T69>:creation_event_id E0088_T69'],\n  'status': '1',\n  'references': [],\n  'legacyId': 'E0088_T69'},\n {'class': 'V',\n  'id': '5dcab399-6b9a-4804-9c66-80e60cfd58b8',\n  'label': '1368',\n  'language': '',\n  'detail': '',\n  'data': {'logicalType': '1'},\n  'props': [],\n  'notes': ['Import batch [development] 2023-01-13 19:35:45.939035',\n   'special T69>:creation_event_id E0088_T69'],\n  'status': '1',\n  'references': []},\n {'class': 'V',\n  'id': 'dc749ee8-72c6-4069-8612-5df412837b87',\n  'label': '1370',\n  'language': '',\n  'detail': '',\n  'data': {'logicalType': '1'},\n  'props': [],\n  'notes': ['Import batch [development] 2023-01-13 19:35:45.939035',\n   'special T69>:creation_event_id E0088_T69'],\n  'status': '1',\n  'references': []},\n {'class': 'E',\n  'id': '1297abb7-185d-4a7e-89c1-c8d672fc4423',\n  'label': 'Creation of ‘Letter of the Waldensian brethren of St Peter-in-der-Awe’',\n  'language': '',\n  'detail': '',\n  'data': {'logicalType': '1'},\n  'props': [],\n  'notes': ['Import batch [development] 2023-01-13 19:35:45.939035',\n   'special T65>:creation_event_id E0089_T65'],\n  'status': '1',\n  'references': [],\n  'legacyId': 'E0089_T65'},\n {'class': 'V',\n  'id': 'c7b52b6e-a257-4023-8040-00030c794c97',\n  'label': '1365',\n  'language': '',\n  'detail': '',\n  'data': {'logicalType': '1'},\n  'props': [],\n  'notes': ['Import batch [development] 2023-01-13 19:35:45.939035',\n   'special T65>:creation_event_id E0089_T65'],\n  'status': '1',\n  'references': []},\n {'class': 'V',\n  'id': '6ef9ff09-cf26-48a4-ac9a-8571fb76fa95',\n  'label': '1367',\n  'language': '',\n  'detail': '',\n  'data': {'logicalType': '1'},\n  'props': [],\n  'notes': ['Import batch [development] 2023-01-13 19:35:45.939035',\n   'special T65>:creation_event_id E0089_T65'],\n  'status': '1',\n  'references': []},\n {'class': 'E',\n  'id': '50d2fd6d-4d4e-4503-9cd6-b4e687f11cd9',\n  'label': 'Creation of ‘Liber Electorum’',\n  'language': '',\n  'detail': '',\n  'data': {'logicalType': '1'},\n  'props': [],\n  'notes': ['Import batch [development] 2023-01-13 19:35:45.939035',\n   'special T47>:creation_event_id E0090_T47'],\n  'status': '1',\n  'references': [],\n  'legacyId': 'E0090_T47'},\n {'class': 'V',\n  'id': '6d149ca1-5a7a-451c-8f92-7e60031a3866',\n  'label': '1335',\n  'language': '',\n  'detail': '',\n  'data': {'logicalType': '1'},\n  'props': [],\n  'notes': ['Import batch [development] 2023-01-13 19:35:45.939035',\n   'special T47>:creation_event_id E0090_T47'],\n  'status': '1',\n  'references': []},\n {'class': 'V',\n  'id': 'a484a08d-dbb4-4526-8c33-2cb792548751',\n  'label': '1360',\n  'language': '',\n  'detail': '',\n  'data': {'logicalType': '1'},\n  'props': [],\n  'notes': ['Import batch [development] 2023-01-13 19:35:45.939035',\n   'special T47>:creation_event_id E0090_T47'],\n  'status': '1',\n  'references': []},\n {'class': 'E',\n  'id': 'c61564e3-26e2-47cc-870c-be2940b6060b',\n  'label': 'Creation of ‘Liber Miraculorum Sancte Fidis’',\n  'language': '',\n  'detail': '',\n  'data': {'logicalType': '1'},\n  'props': [],\n  'notes': ['Import batch [development] 2023-01-13 19:35:45.939035',\n   'special T105>:creation_event_id E0091_T105'],\n  'status': '1',\n  'references': [],\n  'legacyId': 'E0091_T105'},\n {'class': 'V',\n  'id': '1a94f53a-1625-4405-a632-df1a10e432f7',\n  'label': '1013',\n  'language': '',\n  'detail': '',\n  'data': {'logicalType': '1'},\n  'props': [],\n  'notes': ['Import batch [development] 2023-01-13 19:35:45.939035',\n   'special T105>:creation_event_id E0091_T105'],\n  'status': '1',\n  'references': []},\n {'class': 'V',\n  'id': 'dea02929-a472-4efc-9fd6-3a9ca03e0063',\n  'label': '1020',\n  'language': '',\n  'detail': '',\n  'data': {'logicalType': '1'},\n  'props': [],\n  'notes': ['Import batch [development] 2023-01-13 19:35:45.939035',\n   'special T105>:creation_event_id E0091_T105'],\n  'status': '1',\n  'references': []},\n {'class': 'E',\n  'id': 'da467a0f-c74d-4a86-a059-0ca14ec14a7e',\n  'label': 'Creation of ‘Lichfield Court Book’',\n  'language': '',\n  'detail': '',\n  'data': {'logicalType': '1'},\n  'props': [],\n  'notes': ['Import batch [development] 2023-01-13 19:35:45.939035',\n   'special T36>:creation_event_id E0092_T36'],\n  'status': '1',\n  'references': [],\n  'legacyId': 'E0092_T36'},\n {'class': 'E',\n  'id': 'c8e16487-1e87-4467-a24d-1e02ba470efe',\n  'label': 'Creation of ‘Lo Despreczi del Mont’',\n  'language': '',\n  'detail': '',\n  'data': {'logicalType': '1'},\n  'props': [],\n  'notes': ['Import batch [development] 2023-01-13 19:35:45.939035',\n   'special T61>:creation_event_id E0093_T61'],\n  'status': '1',\n  'references': [],\n  'legacyId': 'E0093_T61'},\n {'class': 'V',\n  'id': '35bf2411-ead4-4a9a-bd41-cae59a531124',\n  'label': '1350',\n  'language': '',\n  'detail': '',\n  'data': {'logicalType': '1'},\n  'props': [],\n  'notes': ['Import batch [development] 2023-01-13 19:35:45.939035',\n   'special T61>:creation_event_id E0093_T61'],\n  'status': '1',\n  'references': []},\n {'class': 'V',\n  'id': '173d5fc9-0548-4038-8e59-45a5f62bdafb',\n  'label': '1425',\n  'language': '',\n  'detail': '',\n  'data': {'logicalType': '1'},\n  'props': [],\n  'notes': ['Import batch [development] 2023-01-13 19:35:45.939035',\n   'special T61>:creation_event_id E0093_T61'],\n  'status': '1',\n  'references': []},\n {'class': 'V',\n  'id': 'de406fd7-85cc-4fa4-b6da-b06d59e68298',\n  'label': ' 147r-149r',\n  'language': '',\n  'detail': '',\n  'data': {'logicalType': '1'},\n  'props': [],\n  'notes': ['Import batch [development] 2023-01-13 19:35:45.939035',\n   'propvalue_2nd>92:T61:manuscript_witness_1_with_range_entified:~V~ 147r-149r'],\n  'status': '1',\n  'references': []},\n {'class': 'V',\n  'id': '46798670-c674-4275-80f0-6fd5dd44d8e4',\n  'label': '23v-25v',\n  'language': '',\n  'detail': '',\n  'data': {'logicalType': '1'},\n  'props': [],\n  'notes': ['Import batch [development] 2023-01-13 19:35:45.939035',\n   'propvalue_2nd>92:T61:manuscript_witness_2_with_range_entified:~V~23v-25v'],\n  'status': '1',\n  'references': []},\n {'class': 'E',\n  'id': '7bd6abea-eee7-4055-914e-98baff6bde6e',\n  'label': 'Creation of ‘Lo Novel Confort’',\n  'language': '',\n  'detail': '',\n  'data': {'logicalType': '1'},\n  'props': [],\n  'notes': ['Import batch [development] 2023-01-13 19:35:45.939035',\n   'special T59>:creation_event_id E0094_T59'],\n  'status': '1',\n  'references': [],\n  'legacyId': 'E0094_T59'},\n {'class': 'V',\n  'id': '3e9c4ae8-d13f-475c-bb3a-ca9af862593d',\n  'label': '1350',\n  'language': '',\n  'detail': '',\n  'data': {'logicalType': '1'},\n  'props': [],\n  'notes': ['Import batch [development] 2023-01-13 19:35:45.939035',\n   'special T59>:creation_event_id E0094_T59'],\n  'status': '1',\n  'references': []},\n {'class': 'V',\n  'id': '85e18154-f040-42dc-adf7-8ff378ffc344',\n  'label': '1425',\n  'language': '',\n  'detail': '',\n  'data': {'logicalType': '1'},\n  'props': [],\n  'notes': ['Import batch [development] 2023-01-13 19:35:45.939035',\n   'special T59>:creation_event_id E0094_T59'],\n  'status': '1',\n  'references': []},\n {'class': 'V',\n  'id': '19eb7126-e435-490a-9d30-8458b3da32ca',\n  'label': ' 128r-134r',\n  'language': '',\n  'detail': '',\n  'data': {'logicalType': '1'},\n  'props': [],\n  'notes': ['Import batch [development] 2023-01-13 19:35:45.939035',\n   'propvalue_2nd>93:T59:manuscript_witness_1_with_range_entified:~V~ 128r-134r'],\n  'status': '1',\n  'references': []},\n {'class': 'V',\n  'id': '08f62e67-e6f7-42bc-b21e-d36b73ef86f8',\n  'label': '1r-7v',\n  'language': '',\n  'detail': '',\n  'data': {'logicalType': '1'},\n  'props': [],\n  'notes': ['Import batch [development] 2023-01-13 19:35:45.939035',\n   'propvalue_2nd>93:T59:manuscript_witness_2_with_range_entified:~V~1r-7v'],\n  'status': '1',\n  'references': []},\n {'class': 'E',\n  'id': '675f7e2a-669c-4a2e-af96-de2b3a96814a',\n  'label': 'Creation of ‘Lo Novel Sermon’',\n  'language': '',\n  'detail': '',\n  'data': {'logicalType': '1'},\n  'props': [],\n  'notes': ['Import batch [development] 2023-01-13 19:35:45.939035',\n   'special T58>:creation_event_id E0095_T58'],\n  'status': '1',\n  'references': [],\n  'legacyId': 'E0095_T58'},\n {'class': 'V',\n  'id': '46a4ce19-384b-4098-8276-77ec3bf0a6f3',\n  'label': '1350',\n  'language': '',\n  'detail': '',\n  'data': {'logicalType': '1'},\n  'props': [],\n  'notes': ['Import batch [development] 2023-01-13 19:35:45.939035',\n   'special T58>:creation_event_id E0095_T58'],\n  'status': '1',\n  'references': []},\n {'class': 'V',\n  'id': '377addf9-3dc6-4c3b-a8b2-fc951b4acb00',\n  'label': '1425',\n  'language': '',\n  'detail': '',\n  'data': {'logicalType': '1'},\n  'props': [],\n  'notes': ['Import batch [development] 2023-01-13 19:35:45.939035',\n   'special T58>:creation_event_id E0095_T58'],\n  'status': '1',\n  'references': []},\n {'class': 'V',\n  'id': '21e43e7a-863f-455b-aacf-4357bbf65b90',\n  'label': ' 119v-128r',\n  'language': '',\n  'detail': '',\n  'data': {'logicalType': '1'},\n  'props': [],\n  'notes': ['Import batch [development] 2023-01-13 19:35:45.939035',\n   'propvalue_2nd>94:T58:manuscript_witness_1_with_range_entified:~V~ 119v-128r'],\n  'status': '1',\n  'references': []},\n {'class': 'V',\n  'id': '4c25e4b3-96f3-454f-82b0-16c70fcf4750',\n  'label': '35r-44r',\n  'language': '',\n  'detail': '',\n  'data': {'logicalType': '1'},\n  'props': [],\n  'notes': ['Import batch [development] 2023-01-13 19:35:45.939035',\n   'propvalue_2nd>94:T58:manuscript_witness_2_with_range_entified:~V~35r-44r'],\n  'status': '1',\n  'references': []},\n {'class': 'E',\n  'id': '7af09f59-dd03-4729-9d07-52b9abb5855b',\n  'label': 'Creation of ‘Lo Payre Eternal’',\n  'language': '',\n  'detail': '',\n  'data': {'logicalType': '1'},\n  'props': [],\n  'notes': ['Import batch [development] 2023-01-13 19:35:45.939035',\n   'special T60>:creation_event_id E0096_T60'],\n  'status': '1',\n  'references': [],\n  'legacyId': 'E0096_T60'},\n {'class': 'V',\n  'id': '0188262a-f766-4fc9-b2c0-48352df51fee',\n  'label': '1350',\n  'language': '',\n  'detail': '',\n  'data': {'logicalType': '1'},\n  'props': [],\n  'notes': ['Import batch [development] 2023-01-13 19:35:45.939035',\n   'special T60>:creation_event_id E0096_T60'],\n  'status': '1',\n  'references': []},\n {'class': 'V',\n  'id': 'b8740683-baf7-4f8c-9c11-d438654083c6',\n  'label': '1425',\n  'language': '',\n  'detail': '',\n  'data': {'logicalType': '1'},\n  'props': [],\n  'notes': ['Import batch [development] 2023-01-13 19:35:45.939035',\n   'special T60>:creation_event_id E0096_T60'],\n  'status': '1',\n  'references': []},\n {'class': 'V',\n  'id': '4216d686-b249-4f1f-8f2d-02afaff54531',\n  'label': ' 144r-147r',\n  'language': '',\n  'detail': '',\n  'data': {'logicalType': '1'},\n  'props': [],\n  'notes': ['Import batch [development] 2023-01-13 19:35:45.939035',\n   'propvalue_2nd>95:T60:manuscript_witness_1_with_range_entified:~V~ 144r-147r'],\n  'status': '1',\n  'references': []},\n {'class': 'V',\n  'id': 'a845edc6-97f8-4724-b91d-1965ba39ced4',\n  'label': '20v-23v',\n  'language': '',\n  'detail': '',\n  'data': {'logicalType': '1'},\n  'props': [],\n  'notes': ['Import batch [development] 2023-01-13 19:35:45.939035',\n   'propvalue_2nd>95:T60:manuscript_witness_2_with_range_entified:~V~20v-23v'],\n  'status': '1',\n  'references': []},\n {'class': 'E',\n  'id': '92b35309-ff75-43dd-b924-d67726937713',\n  'label': 'Creation of ‘Lost records of trial with the Guglielmites by Mayfredus de Dovaria’',\n  'language': '',\n  'detail': '',\n  'data': {'logicalType': '1'},\n  'props': [],\n  'notes': ['Import batch [development] 2023-01-13 19:35:45.939035',\n   'special T150>:creation_event_id E0097_T150'],\n  'status': '1',\n  'references': [],\n  'legacyId': 'E0097_T150'},\n {'class': 'E',\n  'id': '3a023f36-d7b7-446c-be70-a2426ddf8dd6',\n  'label': 'Creation of ‘Lost trial records of the Guglielmites by Mayfredus de Cera’',\n  'language': '',\n  'detail': '',\n  'data': {'logicalType': '1'},\n  'props': [],\n  'notes': ['Import batch [development] 2023-01-13 19:35:45.939035',\n   'special T146>:creation_event_id E0098_T146'],\n  'status': '1',\n  'references': [],\n  'legacyId': 'E0098_T146'},\n {'class': 'V',\n  'id': '52e51973-cb36-46fc-82f6-85e10278a270',\n  'label': '1300',\n  'language': '',\n  'detail': '',\n  'data': {'logicalType': '1'},\n  'props': [],\n  'notes': ['Import batch [development] 2023-01-13 19:35:45.939035',\n   'special T146>:creation_event_id E0098_T146'],\n  'status': '1',\n  'references': []},\n {'class': 'E',\n  'id': '70f1d1c6-4012-403e-a27e-b5a0d84cb239',\n  'label': 'Creation of ‘Millau court records concerning support lent to the faidits’',\n  'language': '',\n  'detail': '',\n  'data': {'logicalType': '1'},\n  'props': [],\n  'notes': ['Import batch [development] 2023-01-13 19:35:45.939035',\n   'special T18>:creation_event_id E099_T18'],\n  'status': '1',\n  'references': [],\n  'legacyId': 'E099_T18'},\n {'class': 'V',\n  'id': 'd1e42b2b-8e12-4727-85dd-dae4705b338f',\n  'label': '1286',\n  'language': '',\n  'detail': '',\n  'data': {'logicalType': '1'},\n  'props': [],\n  'notes': ['Import batch [development] 2023-01-13 19:35:45.939035',\n   'special T18>:creation_event_id E099_T18'],\n  'status': '1',\n  'references': []},\n {'class': 'V',\n  'id': '2b30bca9-0df7-4fe5-a8d9-b157e9ae51d5',\n  'label': '1286',\n  'language': '',\n  'detail': '',\n  'data': {'logicalType': '1'},\n  'props': [],\n  'notes': ['Import batch [development] 2023-01-13 19:35:45.939035',\n   'special T18>:creation_event_id E099_T18'],\n  'status': '1',\n  'references': []},\n {'class': 'V',\n  'id': 'a3deed4a-4698-4d17-b1c8-f62c0be28d56',\n  'label': '1288',\n  'language': '',\n  'detail': '',\n  'data': {'logicalType': '1'},\n  'props': [],\n  'notes': ['Import batch [development] 2023-01-13 19:35:45.939035',\n   'special T18>:creation_event_id E099_T18'],\n  'status': '1',\n  'references': []},\n {'class': 'V',\n  'id': 'ad01f443-a2a7-435d-9c06-7a343cb2e9bc',\n  'label': '1288',\n  'language': '',\n  'detail': '',\n  'data': {'logicalType': '1'},\n  'props': [],\n  'notes': ['Import batch [development] 2023-01-13 19:35:45.939035',\n   'special T18>:creation_event_id E099_T18'],\n  'status': '1',\n  'references': []},\n {'class': 'R',\n  'id': '5b47fbe8-de67-4b8b-b074-f8c51f0e70d9',\n  'label': 'Freyssenge, 2005',\n  'language': '',\n  'detail': '',\n  'data': {'url': 'https://www.zotero.org/groups/446972/david_zbiral_bibliography/items/itemKey/W6K66YBT/',\n   'partValueBaseURL': '',\n   'partValueLabel': ''},\n  'props': [],\n  'notes': ['Import batch [development] 2023-01-13 19:35:45.939035'],\n  'status': '1',\n  'references': []},\n {'class': 'V',\n  'id': '95ac1686-95ef-4305-a4fc-2eb7c156c756',\n  'label': '367-379',\n  'language': '',\n  'detail': '',\n  'data': {'logicalType': '1'},\n  'props': [],\n  'notes': ['Import batch [development] 2023-01-13 19:35:45.939035',\n   'propvalue_2nd>98:T18:edition_1_page_range:367-379'],\n  'status': '1',\n  'references': []},\n {'class': 'E',\n  'id': 'd7964432-9a89-492a-a2c0-e83f8e475715',\n  'label': 'Creation of ‘Miracula Sancti Benedicti’',\n  'language': '',\n  'detail': '',\n  'data': {'logicalType': '1'},\n  'props': [],\n  'notes': ['Import batch [development] 2023-01-13 19:35:45.939035',\n   'special T88>:creation_event_id E0100_T88'],\n  'status': '1',\n  'references': [],\n  'legacyId': 'E0100_T88'},\n {'class': 'R',\n  'id': 'c67f90b9-08fc-48c7-98dd-e927717b47d0',\n  'label': 'Miracula Sancti Benedicti, VI, 20',\n  'language': '',\n  'detail': '',\n  'data': {'url': '', 'partValueBaseURL': '', 'partValueLabel': ''},\n  'props': [],\n  'notes': ['Import batch [development] 2023-01-13 19:35:45.939035'],\n  'status': '1',\n  'references': []},\n {'class': 'V',\n  'id': '42e4d3c2-f600-4141-9b3d-50d3e88b9ed8',\n  'label': '246-248',\n  'language': '',\n  'detail': '',\n  'data': {'logicalType': '1'},\n  'props': [],\n  'notes': ['Import batch [development] 2023-01-13 19:35:45.939035',\n   'propvalue_2nd>99:T88:edition_1_page_range:246-248'],\n  'status': '1',\n  'references': []},\n {'class': 'E',\n  'id': '60ef9793-d69c-4df7-84f8-01d613484bef',\n  'label': 'Creation of ‘Miscellaneous lost medieval inquisition records’',\n  'language': '',\n  'detail': '',\n  'data': {'logicalType': '1'},\n  'props': [],\n  'notes': ['Import batch [development] 2023-01-13 19:35:45.939035',\n   'special T152>:creation_event_id E0101_T152'],\n  'status': '1',\n  'references': [],\n  'legacyId': 'E0101_T152'},\n {'class': 'V',\n  'id': 'fb7da895-08b0-4b67-a60e-e630bb0216e4',\n  'label': '1231',\n  'language': '',\n  'detail': '',\n  'data': {'logicalType': '1'},\n  'props': [],\n  'notes': ['Import batch [development] 2023-01-13 19:35:45.939035',\n   'special T152>:creation_event_id E0101_T152'],\n  'status': '1',\n  'references': []},\n {'class': 'V',\n  'id': '2988dd1d-509a-46f0-a74e-15e72b12d186',\n  'label': '1520',\n  'language': '',\n  'detail': '',\n  'data': {'logicalType': '1'},\n  'props': [],\n  'notes': ['Import batch [development] 2023-01-13 19:35:45.939035',\n   'special T152>:creation_event_id E0101_T152'],\n  'status': '1',\n  'references': []},\n {'class': 'E',\n  'id': '2dabb4f7-95e5-4d2a-a2bb-e3be548fd0c1',\n  'label': 'Creation of ‘Miscellaneous lost records of trial with the Guglielmites’',\n  'language': '',\n  'detail': '',\n  'data': {'logicalType': '1'},\n  'props': [],\n  'notes': ['Import batch [development] 2023-01-13 19:35:45.939035',\n   'special T151>:creation_event_id E0102_T151'],\n  'status': '1',\n  'references': [],\n  'legacyId': 'E0102_T151'},\n {'class': 'V',\n  'id': 'ab1c8514-f7e2-4388-b944-70e37b7f2cf3',\n  'label': '1280',\n  'language': '',\n  'detail': '',\n  'data': {'logicalType': '1'},\n  'props': [],\n  'notes': ['Import batch [development] 2023-01-13 19:35:45.939035',\n   'special T151>:creation_event_id E0102_T151'],\n  'status': '1',\n  'references': []},\n {'class': 'V',\n  'id': '6711621f-baf8-4b5d-8445-07e6e16ed361',\n  'label': '1302',\n  'language': '',\n  'detail': '',\n  'data': {'logicalType': '1'},\n  'props': [],\n  'notes': ['Import batch [development] 2023-01-13 19:35:45.939035',\n   'special T151>:creation_event_id E0102_T151'],\n  'status': '1',\n  'references': []},\n {'class': 'E',\n  'id': '4a7234ee-ace4-4132-a95f-f1f9bb074e67',\n  'label': 'Creation of ‘Nobla leyczon’',\n  'language': '',\n  'detail': '',\n  'data': {'logicalType': '1'},\n  'props': [],\n  'notes': ['Import batch [development] 2023-01-13 19:35:45.939035',\n   'special T72>:creation_event_id E0103_T72'],\n  'status': '1',\n  'references': [],\n  'legacyId': 'E0103_T72'},\n {'class': 'V',\n  'id': 'b194d044-e3b6-4e3c-bee5-5dc9b0df355b',\n  'label': '1424',\n  'language': '',\n  'detail': '',\n  'data': {'logicalType': '1'},\n  'props': [],\n  'notes': ['Import batch [development] 2023-01-13 19:35:45.939035',\n   'special T72>:creation_event_id E0103_T72'],\n  'status': '1',\n  'references': []},\n {'class': 'V',\n  'id': 'e1a978c8-33ae-4f0a-98a6-079262077ae8',\n  'label': '134v-144r',\n  'language': '',\n  'detail': '',\n  'data': {'logicalType': '1'},\n  'props': [],\n  'notes': ['Import batch [development] 2023-01-13 19:35:45.939035',\n   'propvalue_2nd>102:T72:manuscript_witness_3_with_range_entified:~V~134v-144r'],\n  'status': '1',\n  'references': []},\n {'class': 'V',\n  'id': 'e30b0d41-aa87-4bed-94d7-b0c84e4baeac',\n  'label': '26r-35r',\n  'language': '',\n  'detail': '',\n  'data': {'logicalType': '1'},\n  'props': [],\n  'notes': ['Import batch [development] 2023-01-13 19:35:45.939035',\n   'propvalue_2nd>102:T72:manuscript_witness_4_with_range_entified:~V~26r-35r'],\n  'status': '1',\n  'references': []},\n {'class': 'E',\n  'id': 'cd3963bd-1b40-483c-876b-cb6de6d30445',\n  'label': 'Creation of ‘Norwich Heresy Trials’',\n  'language': '',\n  'detail': '',\n  'data': {'logicalType': '1'},\n  'props': [],\n  'notes': ['Import batch [development] 2023-01-13 19:35:45.939035',\n   'special T39>:creation_event_id E0104_T39'],\n  'status': '1',\n  'references': [],\n  'legacyId': 'E0104_T39'},\n {'class': 'E',\n  'id': 'ba6882ac-f094-43be-9451-ca31f73dc666',\n  'label': 'Creation of ‘Peter Seila’s Register of Penances’',\n  'language': '',\n  'detail': '',\n  'data': {'logicalType': '1'},\n  'props': [],\n  'notes': ['Import batch [development] 2023-01-13 19:35:45.939035',\n   'special T3>:creation_event_id E0105_T3'],\n  'status': '1',\n  'references': [],\n  'legacyId': 'E0105_T3'},\n {'class': 'V',\n  'id': '0a5fd578-d535-4409-a80b-fe15cd1332e2',\n  'label': '1241',\n  'language': '',\n  'detail': '',\n  'data': {'logicalType': '1'},\n  'props': [],\n  'notes': ['Import batch [development] 2023-01-13 19:35:45.939035',\n   'special T3>:creation_event_id E0105_T3'],\n  'status': '1',\n  'references': []},\n {'class': 'V',\n  'id': '143da939-d23a-47b2-bd22-208104b8c90c',\n  'label': '1241',\n  'language': '',\n  'detail': '',\n  'data': {'logicalType': '1'},\n  'props': [],\n  'notes': ['Import batch [development] 2023-01-13 19:35:45.939035',\n   'special T3>:creation_event_id E0105_T3'],\n  'status': '1',\n  'references': []},\n {'class': 'V',\n  'id': '57fe2fb3-1a2e-432a-ac9c-5f6291d17ec4',\n  'label': '1242',\n  'language': '',\n  'detail': '',\n  'data': {'logicalType': '1'},\n  'props': [],\n  'notes': ['Import batch [development] 2023-01-13 19:35:45.939035',\n   'special T3>:creation_event_id E0105_T3'],\n  'status': '1',\n  'references': []},\n {'class': 'V',\n  'id': '5f8f9373-c216-42d7-a3cf-3ad82dff4035',\n  'label': '1242',\n  'language': '',\n  'detail': '',\n  'data': {'logicalType': '1'},\n  'props': [],\n  'notes': ['Import batch [development] 2023-01-13 19:35:45.939035',\n   'special T3>:creation_event_id E0105_T3'],\n  'status': '1',\n  'references': []},\n {'class': 'V',\n  'id': 'e49d63eb-1239-460a-a539-fe1940b40dd6',\n  'label': '185r-312v',\n  'language': '',\n  'detail': '',\n  'data': {'logicalType': '1'},\n  'props': [],\n  'notes': ['Import batch [development] 2023-01-13 19:35:45.939035',\n   'propvalue_2nd>104:T3:manuscript_witness_1_with_range_entified:~V~185r-312v'],\n  'status': '1',\n  'references': []},\n {'class': 'R',\n  'id': '23abd928-daf9-4eb5-8e11-b3755f55def1',\n  'label': 'Duvernoy, 2001',\n  'language': '',\n  'detail': '',\n  'data': {'url': 'https://www.zotero.org/groups/446972/david_zbiral_bibliography/items/itemKey/7BM9S24P/',\n   'partValueBaseURL': '',\n   'partValueLabel': ''},\n  'props': [],\n  'notes': ['Import batch [development] 2023-01-13 19:35:45.939035'],\n  'status': '1',\n  'references': []},\n {'class': 'E',\n  'id': 'bab0a394-e2cb-4c6d-a123-6e771dc8bc3b',\n  'label': 'Creation of ‘Process agains Fribourg Waldensians, 1399’',\n  'language': '',\n  'detail': '',\n  'data': {'logicalType': '1'},\n  'props': [],\n  'notes': ['Import batch [development] 2023-01-13 19:35:45.939035',\n   'special T45>:creation_event_id E0106_T45'],\n  'status': '1',\n  'references': [],\n  'legacyId': 'E0106_T45'},\n {'class': 'V',\n  'id': '12de9bf3-154b-4399-90cb-ff4ac9fdd17f',\n  'label': '1399',\n  'language': '',\n  'detail': '',\n  'data': {'logicalType': '1'},\n  'props': [],\n  'notes': ['Import batch [development] 2023-01-13 19:35:45.939035',\n   'special T45>:creation_event_id E0106_T45'],\n  'status': '1',\n  'references': []},\n {'class': 'R',\n  'id': 'd330298a-875a-4ef1-8c55-ff7f72da6767',\n  'label': 'Utz Tremp, 2000',\n  'language': '',\n  'detail': '',\n  'data': {'url': '', 'partValueBaseURL': '', 'partValueLabel': ''},\n  'props': [],\n  'notes': ['Import batch [development] 2023-01-13 19:35:45.939035'],\n  'status': '1',\n  'references': []},\n {'class': 'E',\n  'id': '004135f4-828f-460f-b9b2-0b58b89ab7b9',\n  'label': 'Creation of ‘Process agains Fribourg Waldensians, 1430’',\n  'language': '',\n  'detail': '',\n  'data': {'logicalType': '1'},\n  'props': [],\n  'notes': ['Import batch [development] 2023-01-13 19:35:45.939035',\n   'special T46>:creation_event_id E0107_T46'],\n  'status': '1',\n  'references': [],\n  'legacyId': 'E0107_T46'},\n {'class': 'V',\n  'id': 'a20fdb64-dc3e-49fc-a4e3-7b371e05479f',\n  'label': '1430',\n  'language': '',\n  'detail': '',\n  'data': {'logicalType': '1'},\n  'props': [],\n  'notes': ['Import batch [development] 2023-01-13 19:35:45.939035',\n   'special T46>:creation_event_id E0107_T46'],\n  'status': '1',\n  'references': []},\n {'class': 'E',\n  'id': 'a3378045-66b5-473e-a437-3239c642f94c',\n  'label': 'Creation of ‘Process against Bernard Niort and his family’',\n  'language': '',\n  'detail': '',\n  'data': {'logicalType': '1'},\n  'props': [],\n  'notes': ['Import batch [development] 2023-01-13 19:35:45.939035',\n   'special T1>:creation_event_id E0001_T1'],\n  'status': '1',\n  'references': [],\n  'legacyId': 'E0001_T1'},\n {'class': 'V',\n  'id': '7f3b164c-e8f4-4abf-b7ec-7e8064cb51f9',\n  'label': '1234',\n  'language': '',\n  'detail': '',\n  'data': {'logicalType': '1'},\n  'props': [],\n  'notes': ['Import batch [development] 2023-01-13 19:35:45.939035',\n   'special T1>:creation_event_id E0001_T1'],\n  'status': '1',\n  'references': []},\n {'class': 'V',\n  'id': 'c2648219-a6f0-43b5-bc79-cb732149eb3f',\n  'label': '34r-50r',\n  'language': '',\n  'detail': '',\n  'data': {'logicalType': '1'},\n  'props': [],\n  'notes': ['Import batch [development] 2023-01-13 19:35:45.939035',\n   'propvalue_2nd>107:T1:manuscript_witness_1_with_range_entified:~V~34r-50r'],\n  'status': '1',\n  'references': []},\n {'class': 'R',\n  'id': 'a4e6e22a-08cc-4dba-b8cd-5175de6b9434',\n  'label': 'Douais, 1900',\n  'language': '',\n  'detail': '',\n  'data': {'url': 'https://www.zotero.org/groups/446972/david_zbiral_bibliography/items/itemKey/9WRY2YI7/',\n   'partValueBaseURL': '',\n   'partValueLabel': ''},\n  'props': [],\n  'notes': ['Import batch [development] 2023-01-13 19:35:45.939035'],\n  'status': '1',\n  'references': []},\n {'class': 'V',\n  'id': 'b81ee374-a227-4ec7-94d8-efb5b1f6afea',\n  'label': '61-63',\n  'language': '',\n  'detail': '',\n  'data': {'logicalType': '1'},\n  'props': [],\n  'notes': ['Import batch [development] 2023-01-13 19:35:45.939035',\n   'propvalue_2nd>107:T1:edition_1_page_range:61-63'],\n  'status': '1',\n  'references': []},\n {'class': 'E',\n  'id': '520b4afe-362d-47b6-85b9-903029ea2f45',\n  'label': 'Creation of ‘Process against Conrad Huter and his family, Regensburg 1395’',\n  'language': '',\n  'detail': '',\n  'data': {'logicalType': '1'},\n  'props': [],\n  'notes': ['Import batch [development] 2023-01-13 19:35:45.939035',\n   'special T44>:creation_event_id E0109_T44'],\n  'status': '1',\n  'references': [],\n  'legacyId': 'E0109_T44'},\n {'class': 'V',\n  'id': '0eb02e56-e47f-43f6-a6ac-3446f2bc8b6c',\n  'label': '1395',\n  'language': '',\n  'detail': '',\n  'data': {'logicalType': '1'},\n  'props': [],\n  'notes': ['Import batch [development] 2023-01-13 19:35:45.939035',\n   'special T44>:creation_event_id E0109_T44'],\n  'status': '1',\n  'references': []},\n {'class': 'V',\n  'id': '96e2cf1a-fbd0-48bf-b2b7-b68b565b1616',\n  'label': '1395',\n  'language': '',\n  'detail': '',\n  'data': {'logicalType': '1'},\n  'props': [],\n  'notes': ['Import batch [development] 2023-01-13 19:35:45.939035',\n   'special T44>:creation_event_id E0109_T44'],\n  'status': '1',\n  'references': []},\n {'class': 'V',\n  'id': 'f1ed952d-71d0-4309-9367-0f9e2a3e4ac1',\n  'label': '1396',\n  'language': '',\n  'detail': '',\n  'data': {'logicalType': '1'},\n  'props': [],\n  'notes': ['Import batch [development] 2023-01-13 19:35:45.939035',\n   'special T44>:creation_event_id E0109_T44'],\n  'status': '1',\n  'references': []},\n {'class': 'V',\n  'id': '0fa81166-27d8-4885-a480-a29c47c1963c',\n  'label': '1396',\n  'language': '',\n  'detail': '',\n  'data': {'logicalType': '1'},\n  'props': [],\n  'notes': ['Import batch [development] 2023-01-13 19:35:45.939035',\n   'special T44>:creation_event_id E0109_T44'],\n  'status': '1',\n  'references': []},\n {'class': 'R',\n  'id': 'a323af29-afca-47b3-b5c1-a20e3aec2551',\n  'label': 'Kieckhefer, 1972 (unpublished dissertation)',\n  'language': '',\n  'detail': '',\n  'data': {'url': '', 'partValueBaseURL': '', 'partValueLabel': ''},\n  'props': [],\n  'notes': ['Import batch [development] 2023-01-13 19:35:45.939035'],\n  'status': '1',\n  'references': []},\n {'class': 'R',\n  'id': '641afe5a-f87e-4771-a10a-93c617fc4cf5',\n  'label': \"Reima Välimäki's transcription of the Process against Conrad Huter and his family, Regensburg 1395\",\n  'language': '',\n  'detail': '',\n  'data': {'url': '', 'partValueBaseURL': '', 'partValueLabel': ''},\n  'props': [],\n  'notes': ['Import batch [development] 2023-01-13 19:35:45.939035'],\n  'status': '1',\n  'references': []},\n {'class': 'E',\n  'id': 'aed89e45-4c04-4adc-8529-6cb5ecaaca1c',\n  'label': 'Creation of ‘Process against heretics in Giaveno by Alberto de Castellario, 1335’',\n  'language': '',\n  'detail': '',\n  'data': {'logicalType': '1'},\n  'props': [],\n  'notes': ['Import batch [development] 2023-01-13 19:35:45.939035',\n   'special T75>:creation_event_id E0110_T75'],\n  'status': '1',\n  'references': [],\n  'legacyId': 'E0110_T75'},\n {'class': 'V',\n  'id': '9c76bab4-35b3-4a9a-85d9-4c9f18dd89c7',\n  'label': '1335',\n  'language': '',\n  'detail': '',\n  'data': {'logicalType': '1'},\n  'props': [],\n  'notes': ['Import batch [development] 2023-01-13 19:35:45.939035',\n   'special T75>:creation_event_id E0110_T75'],\n  'status': '1',\n  'references': []},\n {'class': 'V',\n  'id': '1a5ee0a9-e8fc-4d06-8a20-987364454889',\n  'label': '1335',\n  'language': '',\n  'detail': '',\n  'data': {'logicalType': '1'},\n  'props': [],\n  'notes': ['Import batch [development] 2023-01-13 19:35:45.939035',\n   'special T75>:creation_event_id E0110_T75'],\n  'status': '1',\n  'references': []},\n {'class': 'V',\n  'id': 'b5a63461-00f2-42d1-8c25-61058aea1f74',\n  'label': '1r-111v',\n  'language': '',\n  'detail': '',\n  'data': {'logicalType': '1'},\n  'props': [],\n  'notes': ['Import batch [development] 2023-01-13 19:35:45.939035',\n   'propvalue_2nd>109:T75:manuscript_witness_1_with_range_entified:~V~1r-111v'],\n  'status': '1',\n  'references': []},\n {'class': 'R',\n  'id': 'b7ca1e14-b2a3-4e69-a413-8d0ad9ec3349',\n  'label': 'Grado G. Merlo, Eretici e inquisitori nella società piemontese del Trecento, Torino: Claudiana 1977',\n  'language': '',\n  'detail': '',\n  'data': {'url': '', 'partValueBaseURL': '', 'partValueLabel': ''},\n  'props': [],\n  'notes': ['Import batch [development] 2023-01-13 19:35:45.939035'],\n  'status': '1',\n  'references': []},\n {'class': 'V',\n  'id': '113ed0d9-8171-4622-92f7-9bc1fed756f1',\n  'label': '161-255',\n  'language': '',\n  'detail': '',\n  'data': {'logicalType': '1'},\n  'props': [],\n  'notes': ['Import batch [development] 2023-01-13 19:35:45.939035',\n   'propvalue_2nd>109:T75:edition_1_page_range:161-255'],\n  'status': '1',\n  'references': []},\n {'class': 'E',\n  'id': 'd35a9a55-6fcc-43ee-9f40-1626c597a868',\n  'label': 'Creation of ‘Process against heretics in Piedmont by Antonio of Settimo, 1387-1388’',\n  'language': '',\n  'detail': '',\n  'data': {'logicalType': '1'},\n  'props': [],\n  'notes': ['Import batch [development] 2023-01-13 19:35:45.939035',\n   'special T34>:creation_event_id E0111_T34'],\n  'status': '1',\n  'references': [],\n  'legacyId': 'E0111_T34'},\n {'class': 'V',\n  'id': '51c40fd5-edaa-46d3-8721-802bcfa68da2',\n  'label': '1387',\n  'language': '',\n  'detail': '',\n  'data': {'logicalType': '1'},\n  'props': [],\n  'notes': ['Import batch [development] 2023-01-13 19:35:45.939035',\n   'special T34>:creation_event_id E0111_T34'],\n  'status': '1',\n  'references': []},\n {'class': 'V',\n  'id': '43692f6c-6c44-47a0-9fa5-3091ec989ead',\n  'label': '1387',\n  'language': '',\n  'detail': '',\n  'data': {'logicalType': '1'},\n  'props': [],\n  'notes': ['Import batch [development] 2023-01-13 19:35:45.939035',\n   'special T34>:creation_event_id E0111_T34'],\n  'status': '1',\n  'references': []},\n {'class': 'V',\n  'id': '114c6475-2fcf-47fd-acfd-5345c83af1cf',\n  'label': '1388',\n  'language': '',\n  'detail': '',\n  'data': {'logicalType': '1'},\n  'props': [],\n  'notes': ['Import batch [development] 2023-01-13 19:35:45.939035',\n   'special T34>:creation_event_id E0111_T34'],\n  'status': '1',\n  'references': []},\n {'class': 'V',\n  'id': 'a12542bc-817d-4bcf-bcfd-f783022ffa2c',\n  'label': '1388',\n  'language': '',\n  'detail': '',\n  'data': {'logicalType': '1'},\n  'props': [],\n  'notes': ['Import batch [development] 2023-01-13 19:35:45.939035',\n   'special T34>:creation_event_id E0111_T34'],\n  'status': '1',\n  'references': []},\n {'class': 'V',\n  'id': '54cb58ae-66c6-416c-b0ce-b31c0005ebe1',\n  'label': '2r-117v',\n  'language': '',\n  'detail': '',\n  'data': {'logicalType': '1'},\n  'props': [],\n  'notes': ['Import batch [development] 2023-01-13 19:35:45.939035',\n   'propvalue_2nd>110:T34:manuscript_witness_1_with_range_entified:~V~2r-117v'],\n  'status': '1',\n  'references': []},\n {'class': 'R',\n  'id': '6ed83f6f-e530-4bfa-bf80-5c6c237eac13',\n  'label': 'Amati (ed.), „Processus contra Valdenses in Lombardia Superiori, anno 1387“, Archivio Storico Italiano 3/1, 1865, 16-52 (3-52); 3/2, 1865, 3-61',\n  'language': '',\n  'detail': '',\n  'data': {'url': '', 'partValueBaseURL': '', 'partValueLabel': ''},\n  'props': [],\n  'notes': ['Import batch [development] 2023-01-13 19:35:45.939035'],\n  'status': '1',\n  'references': []},\n {'class': 'R',\n  'id': '12243cd0-9eac-4b15-bd51-4820fbd30a4d',\n  'label': 'F. Šanjek, Bosansko-humski krstjani…, 140-144',\n  'language': '',\n  'detail': '',\n  'data': {'url': '', 'partValueBaseURL': '', 'partValueLabel': ''},\n  'props': [],\n  'notes': ['Import batch [development] 2023-01-13 19:35:45.939035'],\n  'status': '1',\n  'references': []},\n {'class': 'R',\n  'id': 'c89650b5-5056-49b8-8868-7fbe751ad76a',\n  'label': 'Alberto Barbero, „I catari di Chieri“, in: Domenico Devoti (ed.), Testi e problemi di storia del cristianesimo, Torino: G. Giappichelli 1967, 87-111: 89-93 (fol. 142r-147r).',\n  'language': '',\n  'detail': '',\n  'data': {'url': '', 'partValueBaseURL': '', 'partValueLabel': ''},\n  'props': [],\n  'notes': ['Import batch [development] 2023-01-13 19:35:45.939035'],\n  'status': '1',\n  'references': []},\n {'class': 'E',\n  'id': 'a2a6e3ee-72ee-422d-becd-008821248342',\n  'label': 'Creation of ‘Process against heretics in Piedmont by Tomasso of Casasco, 1373’',\n  'language': '',\n  'detail': '',\n  'data': {'logicalType': '1'},\n  'props': [],\n  'notes': ['Import batch [development] 2023-01-13 19:35:45.939035',\n   'special T73>:creation_event_id E0112_T73'],\n  'status': '1',\n  'references': [],\n  'legacyId': 'E0112_T73'},\n {'class': 'V',\n  'id': '74804a73-cfc7-4fa7-913f-aa61e13b50c6',\n  'label': '1373',\n  'language': '',\n  'detail': '',\n  'data': {'logicalType': '1'},\n  'props': [],\n  'notes': ['Import batch [development] 2023-01-13 19:35:45.939035',\n   'special T73>:creation_event_id E0112_T73'],\n  'status': '1',\n  'references': []},\n {'class': 'V',\n  'id': '00452954-af40-4976-8bd8-67af46209e50',\n  'label': '1373',\n  'language': '',\n  'detail': '',\n  'data': {'logicalType': '1'},\n  'props': [],\n  'notes': ['Import batch [development] 2023-01-13 19:35:45.939035',\n   'special T73>:creation_event_id E0112_T73'],\n  'status': '1',\n  'references': []},\n {'class': 'V',\n  'id': '3bdb3316-c56f-4a0c-b009-761d262bfba9',\n  'label': '1388',\n  'language': '',\n  'detail': '',\n  'data': {'logicalType': '1'},\n  'props': [],\n  'notes': ['Import batch [development] 2023-01-13 19:35:45.939035',\n   'special T73>:creation_event_id E0112_T73'],\n  'status': '1',\n  'references': []},\n {'class': 'V',\n  'id': '27dd6f98-66a6-498d-bd6f-2b1f8ae7e014',\n  'label': '1388',\n  'language': '',\n  'detail': '',\n  'data': {'logicalType': '1'},\n  'props': [],\n  'notes': ['Import batch [development] 2023-01-13 19:35:45.939035',\n   'special T73>:creation_event_id E0112_T73'],\n  'status': '1',\n  'references': []},\n {'class': 'V',\n  'id': 'f1483b0d-c47e-4f0c-8d8b-e0dcc1f8c392',\n  'label': ' 119r-138v',\n  'language': '',\n  'detail': '',\n  'data': {'logicalType': '1'},\n  'props': [],\n  'notes': ['Import batch [development] 2023-01-13 19:35:45.939035',\n   'propvalue_2nd>111:T73:manuscript_witness_1_with_range_entified:~V~ 119r-138v'],\n  'status': '1',\n  'references': []},\n {'class': 'V',\n  'id': '36f7c8bb-1d91-47fc-8ef1-9c7cb4fd0e58',\n  'label': '257-283',\n  'language': '',\n  'detail': '',\n  'data': {'logicalType': '1'},\n  'props': [],\n  'notes': ['Import batch [development] 2023-01-13 19:35:45.939035',\n   'propvalue_2nd>111:T73:edition_1_page_range:257-283'],\n  'status': '1',\n  'references': []},\n {'class': 'E',\n  'id': 'd565dba6-a67b-43d7-9b32-e1940762b75c',\n  'label': 'Creation of ‘Process against Peter of Fenouillet’',\n  'language': '',\n  'detail': '',\n  'data': {'logicalType': '1'},\n  'props': [],\n  'notes': ['Import batch [development] 2023-01-13 19:35:45.939035',\n   'special T31>:creation_event_id E0113_T31'],\n  'status': '1',\n  'references': [],\n  'legacyId': 'E0113_T31'},\n {'class': 'V',\n  'id': '66218c22-1ac7-4d36-876d-262b85ff8eac',\n  'label': '1262',\n  'language': '',\n  'detail': '',\n  'data': {'logicalType': '1'},\n  'props': [],\n  'notes': ['Import batch [development] 2023-01-13 19:35:45.939035',\n   'special T31>:creation_event_id E0113_T31'],\n  'status': '1',\n  'references': []},\n {'class': 'V',\n  'id': '5a4d929e-ac90-4586-9132-382d49fcec44',\n  'label': '79r-124v',\n  'language': '',\n  'detail': '',\n  'data': {'logicalType': '1'},\n  'props': [],\n  'notes': ['Import batch [development] 2023-01-13 19:35:45.939035',\n   'propvalue_2nd>112:T31:manuscript_witness_1_with_range_entified:~V~79r-124v'],\n  'status': '1',\n  'references': []},\n {'class': 'E',\n  'id': '68705c8b-1da2-4153-99e7-64db8c3c9f31',\n  'label': 'Creation of ‘Processes against Waldensians in Dauphiné before 1488’',\n  'language': '',\n  'detail': '',\n  'data': {'logicalType': '1'},\n  'props': [],\n  'notes': ['Import batch [development] 2023-01-13 19:35:45.939035',\n   'special T43>:creation_event_id E0114_T43'],\n  'status': '1',\n  'references': [],\n  'legacyId': 'E0114_T43'},\n {'class': 'E',\n  'id': 'a57779d0-9c5a-4d38-8807-f52de65b7c70',\n  'label': 'Creation of ‘Quaternus imbriviaturarum Beltrami Salvagni’',\n  'language': '',\n  'detail': '',\n  'data': {'logicalType': '1'},\n  'props': [],\n  'notes': ['Import batch [development] 2023-01-13 19:35:45.939035',\n   'special T107>:creation_event_id E0115_T107'],\n  'status': '1',\n  'references': [],\n  'legacyId': 'E0115_T107'},\n {'class': 'V',\n  'id': 'dc7fc724-e39c-4028-ba39-c3e5f7ad479a',\n  'label': '1300-07-18',\n  'language': '',\n  'detail': '',\n  'data': {'logicalType': '1'},\n  'props': [],\n  'notes': ['Import batch [development] 2023-01-13 19:35:45.939035',\n   'special T107>:creation_event_id E0115_T107'],\n  'status': '1',\n  'references': []},\n {'class': 'V',\n  'id': 'd5ceda7b-881e-48c2-b2bc-603aa539ea29',\n  'label': '1302-02-12',\n  'language': '',\n  'detail': '',\n  'data': {'logicalType': '1'},\n  'props': [],\n  'notes': ['Import batch [development] 2023-01-13 19:35:45.939035',\n   'special T107>:creation_event_id E0115_T107'],\n  'status': '1',\n  'references': []},\n {'class': 'R',\n  'id': 'afc70844-99e1-4faa-b63c-bb73fbf4b7cd',\n  'label': 'Benedetti, 1999',\n  'language': '',\n  'detail': '',\n  'data': {'url': 'https://www.zotero.org/groups/446972/dissident_networks_project/items/itemKey/NGMAHICU/',\n   'partValueBaseURL': '',\n   'partValueLabel': ''},\n  'props': [],\n  'notes': ['Import batch [development] 2023-01-13 19:35:45.939035'],\n  'status': '1',\n  'references': []},\n {'class': 'V',\n  'id': 'c62769a3-3157-4448-b44b-712179d5c8d0',\n  'label': '52-304',\n  'language': '',\n  'detail': '',\n  'data': {'logicalType': '1'},\n  'props': [],\n  'notes': ['Import batch [development] 2023-01-13 19:35:45.939035',\n   'propvalue_2nd>114:T107:edition_1_page_range:52-304'],\n  'status': '1',\n  'references': []},\n {'class': 'R',\n  'id': 'b22d8655-9509-405f-98ba-fcb0ff206d71',\n  'label': 'Tocco, 1899',\n  'language': '',\n  'detail': '',\n  'data': {'url': 'https://www.zotero.org/groups/446972/dissident_networks_project/items/itemKey/CV5IHHMK/',\n   'partValueBaseURL': '',\n   'partValueLabel': ''},\n  'props': [],\n  'notes': ['Import batch [development] 2023-01-13 19:35:45.939035'],\n  'status': '1',\n  'references': []},\n {'class': 'E',\n  'id': '21ecdb11-b570-4fbf-8280-be2f9118a989',\n  'label': 'Creation of ‘Rationes of the inquisitor Francesco of Pocapaglia’',\n  'language': '',\n  'detail': '',\n  'data': {'logicalType': '1'},\n  'props': [],\n  'notes': ['Import batch [development] 2023-01-13 19:35:45.939035',\n   'special T80>:creation_event_id E0116_T80'],\n  'status': '1',\n  'references': [],\n  'legacyId': 'E0116_T80'},\n {'class': 'V',\n  'id': 'a69820a3-97c8-4681-8530-2847dac08dbd',\n  'label': '1307',\n  'language': '',\n  'detail': '',\n  'data': {'logicalType': '1'},\n  'props': [],\n  'notes': ['Import batch [development] 2023-01-13 19:35:45.939035',\n   'special T80>:creation_event_id E0116_T80'],\n  'status': '1',\n  'references': []},\n {'class': 'V',\n  'id': '770b2bf6-0f28-478e-b73c-53496410273a',\n  'label': '1307',\n  'language': '',\n  'detail': '',\n  'data': {'logicalType': '1'},\n  'props': [],\n  'notes': ['Import batch [development] 2023-01-13 19:35:45.939035',\n   'special T80>:creation_event_id E0116_T80'],\n  'status': '1',\n  'references': []},\n {'class': 'V',\n  'id': '953d6e99-de83-4877-baeb-eaed784eb4be',\n  'label': '1316',\n  'language': '',\n  'detail': '',\n  'data': {'logicalType': '1'},\n  'props': [],\n  'notes': ['Import batch [development] 2023-01-13 19:35:45.939035',\n   'special T80>:creation_event_id E0116_T80'],\n  'status': '1',\n  'references': []},\n {'class': 'V',\n  'id': '15cc24db-0d0a-44b6-9455-3a973efd8010',\n  'label': '1316',\n  'language': '',\n  'detail': '',\n  'data': {'logicalType': '1'},\n  'props': [],\n  'notes': ['Import batch [development] 2023-01-13 19:35:45.939035',\n   'special T80>:creation_event_id E0116_T80'],\n  'status': '1',\n  'references': []},\n {'class': 'V',\n  'id': 'a71716f6-05de-4d36-878a-2c4fb6684b12',\n  'label': '169v-188r',\n  'language': '',\n  'detail': '',\n  'data': {'logicalType': '1'},\n  'props': [],\n  'notes': ['Import batch [development] 2023-01-13 19:35:45.939035',\n   'propvalue_2nd>115:T80:manuscript_witness_1_with_range_entified:~V~169v-188r'],\n  'status': '1',\n  'references': []},\n {'class': 'R',\n  'id': '23ff5431-d7f4-4a51-b0a9-8983105f1d8b',\n  'label': 'Biscaro, Gerolamo, „Inquisitori ed eretici lombardi (1292-1318)“, Miscellanea di Storia Italiana 19, 1922.',\n  'language': '',\n  'detail': '',\n  'data': {'url': '', 'partValueBaseURL': '', 'partValueLabel': ''},\n  'props': [],\n  'notes': ['Import batch [development] 2023-01-13 19:35:45.939035'],\n  'status': '1',\n  'references': []},\n {'class': 'V',\n  'id': 'd68a272b-6d9e-44ee-a9c9-a9efe628d191',\n  'label': '543-548',\n  'language': '',\n  'detail': '',\n  'data': {'logicalType': '1'},\n  'props': [],\n  'notes': ['Import batch [development] 2023-01-13 19:35:45.939035',\n   'propvalue_2nd>115:T80:edition_1_page_range:543-548'],\n  'status': '1',\n  'references': []},\n {'class': 'E',\n  'id': 'ca4be687-85a3-4e8d-a10a-f7c21927b11e',\n  'label': 'Creation of ‘Register DDD of the Carcassonne inquisition’',\n  'language': '',\n  'detail': '',\n  'data': {'logicalType': '1'},\n  'props': [],\n  'notes': ['Import batch [development] 2023-01-13 19:35:45.939035',\n   'special T26>:creation_event_id E0117_T26'],\n  'status': '1',\n  'references': [],\n  'legacyId': 'E0117_T26'},\n {'class': 'V',\n  'id': '7b9ed41c-13af-4135-8a79-8fa8a95bf62d',\n  'label': '1323',\n  'language': '',\n  'detail': '',\n  'data': {'logicalType': '1'},\n  'props': [],\n  'notes': ['Import batch [development] 2023-01-13 19:35:45.939035',\n   'special T26>:creation_event_id E0117_T26'],\n  'status': '1',\n  'references': []},\n {'class': 'V',\n  'id': '5817f398-2acf-4199-8f2b-791f86927899',\n  'label': '1323',\n  'language': '',\n  'detail': '',\n  'data': {'logicalType': '1'},\n  'props': [],\n  'notes': ['Import batch [development] 2023-01-13 19:35:45.939035',\n   'special T26>:creation_event_id E0117_T26'],\n  'status': '1',\n  'references': []},\n {'class': 'V',\n  'id': 'f5fcd10f-8ebb-4dbf-9ae1-a3d80afd3ab2',\n  'label': '1327',\n  'language': '',\n  'detail': '',\n  'data': {'logicalType': '1'},\n  'props': [],\n  'notes': ['Import batch [development] 2023-01-13 19:35:45.939035',\n   'special T26>:creation_event_id E0117_T26'],\n  'status': '1',\n  'references': []},\n {'class': 'V',\n  'id': '1a530ab1-5434-466b-b003-389f1f07f8fe',\n  'label': '1327',\n  'language': '',\n  'detail': '',\n  'data': {'logicalType': '1'},\n  'props': [],\n  'notes': ['Import batch [development] 2023-01-13 19:35:45.939035',\n   'special T26>:creation_event_id E0117_T26'],\n  'status': '1',\n  'references': []},\n {'class': 'V',\n  'id': 'f6c0c3fa-48af-4f33-ab4b-41abaea763fd',\n  'label': '1r-252v',\n  'language': '',\n  'detail': '',\n  'data': {'logicalType': '1'},\n  'props': [],\n  'notes': ['Import batch [development] 2023-01-13 19:35:45.939035',\n   'propvalue_2nd>116:T26:manuscript_witness_1_with_range_entified:~V~1r-252v'],\n  'status': '1',\n  'references': []},\n {'class': 'R',\n  'id': '7fa1cdb7-b194-49a7-8056-567ebd539098',\n  'label': 'Duvernoy, 2003',\n  'language': '',\n  'detail': '',\n  'data': {'url': 'https://www.zotero.org/groups/446972/david_zbiral_bibliography/items/itemKey/5TSCPWS6/',\n   'partValueBaseURL': '',\n   'partValueLabel': ''},\n  'props': [],\n  'notes': ['Import batch [development] 2023-01-13 19:35:45.939035'],\n  'status': '1',\n  'references': []},\n {'class': 'E',\n  'id': 'cc5761e7-6a1b-499b-9bac-2e8a8a51ba2b',\n  'label': 'Creation of ‘Register FFF of the Carcassonne inquisition’',\n  'language': '',\n  'detail': '',\n  'data': {'logicalType': '1'},\n  'props': [],\n  'notes': ['Import batch [development] 2023-01-13 19:35:45.939035',\n   'special T4>:creation_event_id E0118_T4'],\n  'status': '1',\n  'references': [],\n  'legacyId': 'E0118_T4'},\n {'class': 'V',\n  'id': '21ed4434-99c4-46bc-8c88-63ba6de764cf',\n  'label': '1243',\n  'language': '',\n  'detail': '',\n  'data': {'logicalType': '1'},\n  'props': [],\n  'notes': ['Import batch [development] 2023-01-13 19:35:45.939035',\n   'special T4>:creation_event_id E0118_T4'],\n  'status': '1',\n  'references': []},\n {'class': 'V',\n  'id': '6e89d7c7-1bd9-4324-973a-d0f7e9c85f98',\n  'label': '1243',\n  'language': '',\n  'detail': '',\n  'data': {'logicalType': '1'},\n  'props': [],\n  'notes': ['Import batch [development] 2023-01-13 19:35:45.939035',\n   'special T4>:creation_event_id E0118_T4'],\n  'status': '1',\n  'references': []},\n {'class': 'V',\n  'id': '5aca25d6-dd97-4e77-8ced-da8004e09b97',\n  'label': '1244',\n  'language': '',\n  'detail': '',\n  'data': {'logicalType': '1'},\n  'props': [],\n  'notes': ['Import batch [development] 2023-01-13 19:35:45.939035',\n   'special T4>:creation_event_id E0118_T4'],\n  'status': '1',\n  'references': []},\n {'class': 'V',\n  'id': 'bbd8f9d6-ff00-43dd-a2e6-5b8b77068825',\n  'label': '1244',\n  'language': '',\n  'detail': '',\n  'data': {'logicalType': '1'},\n  'props': [],\n  'notes': ['Import batch [development] 2023-01-13 19:35:45.939035',\n   'special T4>:creation_event_id E0118_T4'],\n  'status': '1',\n  'references': []},\n {'class': 'V',\n  'id': 'd7d32025-07d5-47a5-a0ac-2f6f5bf9b131',\n  'label': '22:107r-296v; 23:1r-346v; 24:1r-238r',\n  'language': '',\n  'detail': '',\n  'data': {'logicalType': '1'},\n  'props': [],\n  'notes': ['Import batch [development] 2023-01-13 19:35:45.939035',\n   'propvalue_2nd>117:T4:manuscript_witness_1_with_range_entified:~V~22:107r-296v; 23:1r-346v; 24:1r-238r'],\n  'status': '1',\n  'references': []},\n {'class': 'R',\n  'id': '84f53a4c-752c-4369-a027-9402fcd90a6d',\n  'label': 'Duvernoy, 1998',\n  'language': '',\n  'detail': '',\n  'data': {'url': 'https://www.zotero.org/groups/446972/david_zbiral_bibliography/items/itemKey/MIS42FA8/',\n   'partValueBaseURL': '',\n   'partValueLabel': ''},\n  'props': [],\n  'notes': ['Import batch [development] 2023-01-13 19:35:45.939035'],\n  'status': '1',\n  'references': []},\n {'class': 'R',\n  'id': '8a506fdd-8395-4767-966f-a92bfbe85538',\n  'label': 'Blaquière & Dossat, 1968',\n  'language': '',\n  'detail': '',\n  'data': {'url': 'https://www.zotero.org/groups/446972/david_zbiral_bibliography/items/itemKey/6W5S9CE9/',\n   'partValueBaseURL': '',\n   'partValueLabel': ''},\n  'props': [],\n  'notes': ['Import batch [development] 2023-01-13 19:35:45.939035'],\n  'status': '1',\n  'references': []},\n {'class': 'V',\n  'id': 'a3740b97-e354-473f-8240-50ca3aff818b',\n  'label': '290-298',\n  'language': '',\n  'detail': '',\n  'data': {'logicalType': '1'},\n  'props': [],\n  'notes': ['Import batch [development] 2023-01-13 19:35:45.939035',\n   'propvalue_2nd>117:T4:edition_2_page_range:290-298'],\n  'status': '1',\n  'references': []},\n {'class': 'E',\n  'id': 'a1446767-0892-4cfa-bd74-f77a9e715f66',\n  'label': 'Creation of ‘Register GGG of the Carcassonne inquisition’',\n  'language': '',\n  'detail': '',\n  'data': {'logicalType': '1'},\n  'props': [],\n  'notes': ['Import batch [development] 2023-01-13 19:35:45.939035',\n   'special T27>:creation_event_id E0119_T27'],\n  'status': '1',\n  'references': [],\n  'legacyId': 'E0119_T27'},\n {'class': 'V',\n  'id': '222ebb0e-2f0b-47ab-a876-75dce96e86bc',\n  'label': '1328',\n  'language': '',\n  'detail': '',\n  'data': {'logicalType': '1'},\n  'props': [],\n  'notes': ['Import batch [development] 2023-01-13 19:35:45.939035',\n   'special T27>:creation_event_id E0119_T27'],\n  'status': '1',\n  'references': []},\n {'class': 'V',\n  'id': 'fc7f43db-8d87-465b-a106-1723848a666f',\n  'label': '1328',\n  'language': '',\n  'detail': '',\n  'data': {'logicalType': '1'},\n  'props': [],\n  'notes': ['Import batch [development] 2023-01-13 19:35:45.939035',\n   'special T27>:creation_event_id E0119_T27'],\n  'status': '1',\n  'references': []},\n {'class': 'V',\n  'id': '8698cc95-0772-45fa-9dda-5e958c5b84d7',\n  'label': '1329',\n  'language': '',\n  'detail': '',\n  'data': {'logicalType': '1'},\n  'props': [],\n  'notes': ['Import batch [development] 2023-01-13 19:35:45.939035',\n   'special T27>:creation_event_id E0119_T27'],\n  'status': '1',\n  'references': []},\n {'class': 'V',\n  'id': '9afc37f6-7c80-41c1-893d-95376e0d540d',\n  'label': '1329',\n  'language': '',\n  'detail': '',\n  'data': {'logicalType': '1'},\n  'props': [],\n  'notes': ['Import batch [development] 2023-01-13 19:35:45.939035',\n   'special T27>:creation_event_id E0119_T27'],\n  'status': '1',\n  'references': []},\n {'class': 'V',\n  'id': '06eb0b6b-8637-4e88-aa77-44d6d5a10353',\n  'label': '1r-250r',\n  'language': '',\n  'detail': '',\n  'data': {'logicalType': '1'},\n  'props': [],\n  'notes': ['Import batch [development] 2023-01-13 19:35:45.939035',\n   'propvalue_2nd>118:T27:manuscript_witness_1_with_range_entified:~V~1r-250r'],\n  'status': '1',\n  'references': []},\n {'class': 'R',\n  'id': '6e63fa3d-29cf-4e00-8708-ee5323c2421d',\n  'label': 'Duvernoy, 2003',\n  'language': '',\n  'detail': '',\n  'data': {'url': 'https://www.zotero.org/groups/446972/david_zbiral_bibliography/items/itemKey/RM6QY9EU/',\n   'partValueBaseURL': '',\n   'partValueLabel': ''},\n  'props': [],\n  'notes': ['Import batch [development] 2023-01-13 19:35:45.939035'],\n  'status': '1',\n  'references': []},\n {'class': 'E',\n  'id': 'b89d4aa0-1cc8-4f81-a865-f5798f10b444',\n  'label': 'Creation of ‘Register HHH of the Carcassonne inquisition’',\n  'language': '',\n  'detail': '',\n  'data': {'logicalType': '1'},\n  'props': [],\n  'notes': ['Import batch [development] 2023-01-13 19:35:45.939035',\n   'special T10>:creation_event_id E0120_T10'],\n  'status': '1',\n  'references': [],\n  'legacyId': 'E0120_T10'},\n {'class': 'V',\n  'id': 'bba0cc98-3ad2-400a-9c12-343d0a092a33',\n  'label': '1246',\n  'language': '',\n  'detail': '',\n  'data': {'logicalType': '1'},\n  'props': [],\n  'notes': ['Import batch [development] 2023-01-13 19:35:45.939035',\n   'special T10>:creation_event_id E0120_T10'],\n  'status': '1',\n  'references': []},\n {'class': 'V',\n  'id': '442c60fa-aece-4015-9980-39060e4989a0',\n  'label': '1246',\n  'language': '',\n  'detail': '',\n  'data': {'logicalType': '1'},\n  'props': [],\n  'notes': ['Import batch [development] 2023-01-13 19:35:45.939035',\n   'special T10>:creation_event_id E0120_T10'],\n  'status': '1',\n  'references': []},\n {'class': 'V',\n  'id': '549cc9f6-2ebb-4418-924b-32ecd6bb78c5',\n  'label': '1247',\n  'language': '',\n  'detail': '',\n  'data': {'logicalType': '1'},\n  'props': [],\n  'notes': ['Import batch [development] 2023-01-13 19:35:45.939035',\n   'special T10>:creation_event_id E0120_T10'],\n  'status': '1',\n  'references': []},\n {'class': 'V',\n  'id': '86f52d81-6c70-411a-93d4-f037c196fef4',\n  'label': '1247',\n  'language': '',\n  'detail': '',\n  'data': {'logicalType': '1'},\n  'props': [],\n  'notes': ['Import batch [development] 2023-01-13 19:35:45.939035',\n   'special T10>:creation_event_id E0120_T10'],\n  'status': '1',\n  'references': []},\n {'class': 'V',\n  'id': '6eab2d17-e9c1-4538-9f1e-3bbc03369a3f',\n  'label': '240r-286v',\n  'language': '',\n  'detail': '',\n  'data': {'logicalType': '1'},\n  'props': [],\n  'notes': ['Import batch [development] 2023-01-13 19:35:45.939035',\n   'propvalue_2nd>119:T10:manuscript_witness_1_with_range_entified:~V~240r-286v'],\n  'status': '1',\n  'references': []},\n {'class': 'R',\n  'id': '3cca26ec-92a5-40e7-acfc-7292ebeebda5',\n  'label': 'Duvernoy, 1990',\n  'language': '',\n  'detail': '',\n  'data': {'url': 'https://www.zotero.org/groups/446972/david_zbiral_bibliography/items/itemKey/7LFK3FN2/',\n   'partValueBaseURL': '',\n   'partValueLabel': ''},\n  'props': [],\n  'notes': ['Import batch [development] 2023-01-13 19:35:45.939035'],\n  'status': '1',\n  'references': []},\n {'class': 'E',\n  'id': 'b6dde570-984b-40cc-9f8d-f6696fc602bd',\n  'label': 'Creation of ‘Register of Bernard of Caux and John of Saint-Pierre’',\n  'language': '',\n  'detail': '',\n  'data': {'logicalType': '1'},\n  'props': [],\n  'notes': ['Import batch [development] 2023-01-13 19:35:45.939035',\n   'special T6>:creation_event_id E0121_T6'],\n  'status': '1',\n  'references': [],\n  'legacyId': 'E0121_T6'},\n {'class': 'V',\n  'id': 'aa4f7290-9f75-4210-b05f-010057d4bab0',\n  'label': '1243',\n  'language': '',\n  'detail': '',\n  'data': {'logicalType': '1'},\n  'props': [],\n  'notes': ['Import batch [development] 2023-01-13 19:35:45.939035',\n   'special T6>:creation_event_id E0121_T6'],\n  'status': '1',\n  'references': []},\n {'class': 'V',\n  'id': '45597e8a-d44f-4c7f-b9d9-99cc65caa95d',\n  'label': '1243',\n  'language': '',\n  'detail': '',\n  'data': {'logicalType': '1'},\n  'props': [],\n  'notes': ['Import batch [development] 2023-01-13 19:35:45.939035',\n   'special T6>:creation_event_id E0121_T6'],\n  'status': '1',\n  'references': []},\n {'class': 'V',\n  'id': '2d8729f0-9d0c-4c07-bf1a-449a23018802',\n  'label': '1247',\n  'language': '',\n  'detail': '',\n  'data': {'logicalType': '1'},\n  'props': [],\n  'notes': ['Import batch [development] 2023-01-13 19:35:45.939035',\n   'special T6>:creation_event_id E0121_T6'],\n  'status': '1',\n  'references': []},\n {'class': 'V',\n  'id': 'e9754cea-a484-4a4f-9c06-809a849fb7c7',\n  'label': '1247',\n  'language': '',\n  'detail': '',\n  'data': {'logicalType': '1'},\n  'props': [],\n  'notes': ['Import batch [development] 2023-01-13 19:35:45.939035',\n   'special T6>:creation_event_id E0121_T6'],\n  'status': '1',\n  'references': []},\n {'class': 'V',\n  'id': '8901032a-ebc1-4c00-80af-1ba3ccafb8d9',\n  'label': '1r-106v',\n  'language': '',\n  'detail': '',\n  'data': {'logicalType': '1'},\n  'props': [],\n  'notes': ['Import batch [development] 2023-01-13 19:35:45.939035',\n   'propvalue_2nd>120:T6:manuscript_witness_1_with_range_entified:~V~1r-106v'],\n  'status': '1',\n  'references': []},\n {'class': 'R',\n  'id': '8e5b8cbb-ffd7-4fb9-a025-c276bc81f68e',\n  'label': 'Duvernoy, 2002',\n  'language': '',\n  'detail': '',\n  'data': {'url': 'https://www.zotero.org/groups/446972/david_zbiral_bibliography/items/itemKey/K6ZKV4/',\n   'partValueBaseURL': '',\n   'partValueLabel': ''},\n  'props': [],\n  'notes': ['Import batch [development] 2023-01-13 19:35:45.939035'],\n  'status': '1',\n  'references': []},\n {'class': 'R',\n  'id': 'd4a3a1a6-27df-4701-a7b6-e8f4ed54d0a2',\n  'label': 'Douais, 1900',\n  'language': '',\n  'detail': '',\n  'data': {'url': 'https://www.zotero.org/groups/446972/david_zbiral_bibliography/items/itemKey/ZHKR4MXG/',\n   'partValueBaseURL': '',\n   'partValueLabel': ''},\n  'props': [],\n  'notes': ['Import batch [development] 2023-01-13 19:35:45.939035'],\n  'status': '1',\n  'references': []},\n {'class': 'V',\n  'id': '458fcdaf-b1fe-4e3a-aad9-0ceed67f4e87',\n  'label': '90-114',\n  'language': '',\n  'detail': '',\n  'data': {'logicalType': '1'},\n  'props': [],\n  'notes': ['Import batch [development] 2023-01-13 19:35:45.939035',\n   'propvalue_2nd>120:T6:edition_2_page_range:90-114'],\n  'status': '1',\n  'references': []},\n {'class': 'E',\n  'id': 'a59cb9fd-4794-476e-8767-b1d4a5a73fdd',\n  'label': 'Creation of ‘Register of Bernard of Caux and John of Saint-Pierre’',\n  'language': '',\n  'detail': '',\n  'data': {'logicalType': '1'},\n  'props': [],\n  'notes': ['Import batch [development] 2023-01-13 19:35:45.939035',\n   'special T9>:creation_event_id E0122_T9'],\n  'status': '1',\n  'references': [],\n  'legacyId': 'E0122_T9'},\n {'class': 'V',\n  'id': '236d62f7-1846-4ca0-aaa8-10e53d46301a',\n  'label': '1245',\n  'language': '',\n  'detail': '',\n  'data': {'logicalType': '1'},\n  'props': [],\n  'notes': ['Import batch [development] 2023-01-13 19:35:45.939035',\n   'special T9>:creation_event_id E0122_T9'],\n  'status': '1',\n  'references': []},\n {'class': 'V',\n  'id': '6b3978ff-0dfc-4aa1-9654-69c981f9bc36',\n  'label': '1245',\n  'language': '',\n  'detail': '',\n  'data': {'logicalType': '1'},\n  'props': [],\n  'notes': ['Import batch [development] 2023-01-13 19:35:45.939035',\n   'special T9>:creation_event_id E0122_T9'],\n  'status': '1',\n  'references': []},\n {'class': 'V',\n  'id': '8eaab761-1cbb-426e-8c2b-ecd0c5d777c3',\n  'label': '1246',\n  'language': '',\n  'detail': '',\n  'data': {'logicalType': '1'},\n  'props': [],\n  'notes': ['Import batch [development] 2023-01-13 19:35:45.939035',\n   'special T9>:creation_event_id E0122_T9'],\n  'status': '1',\n  'references': []},\n {'class': 'V',\n  'id': 'eb834e43-dea9-4ba2-aca1-1471ac78791f',\n  'label': '1246',\n  'language': '',\n  'detail': '',\n  'data': {'logicalType': '1'},\n  'props': [],\n  'notes': ['Import batch [development] 2023-01-13 19:35:45.939035',\n   'special T9>:creation_event_id E0122_T9'],\n  'status': '1',\n  'references': []},\n {'class': 'R',\n  'id': '74c558fb-9833-4aaa-951e-735f93c4124b',\n  'label': 'Evans & Sherwood',\n  'language': '',\n  'detail': '',\n  'data': {'url': 'https://www.zotero.org/groups/446972/dissident_networks_project/items/itemKey/DP9WFZMW/',\n   'partValueBaseURL': '',\n   'partValueLabel': ''},\n  'props': [],\n  'notes': ['Import batch [development] 2023-01-13 19:35:45.939035'],\n  'status': '1',\n  'references': []},\n {'class': 'V',\n  'id': '629f154a-79ea-4ba4-9d8d-f912832f5b7c',\n  'label': '1-795',\n  'language': '',\n  'detail': '',\n  'data': {'logicalType': '1'},\n  'props': [],\n  'notes': ['Import batch [development] 2023-01-13 19:35:45.939035',\n   'propvalue_2nd>121:T9:edition_1_page_range:1-795'],\n  'status': '1',\n  'references': []},\n {'class': 'R',\n  'id': '47cd57b7-eafa-4889-9198-f3c99e636426',\n  'label': 'Rehr, 2019',\n  'language': '',\n  'detail': '',\n  'data': {'url': 'https://www.zotero.org/groups/446972/david_zbiral_bibliography/items/itemKey/Q5YHWC2S/',\n   'partValueBaseURL': '',\n   'partValueLabel': ''},\n  'props': [],\n  'notes': ['Import batch [development] 2023-01-13 19:35:45.939035'],\n  'status': '1',\n  'references': []},\n {'class': 'R',\n  'id': '6ea0d248-1838-437b-9469-5a4d95472d7d',\n  'label': 'Duvernoy, 2002',\n  'language': '',\n  'detail': '',\n  'data': {'url': 'https://www.zotero.org/groups/446972/dissident_networks_project/items/itemKey/45PKPXYV/',\n   'partValueBaseURL': '',\n   'partValueLabel': ''},\n  'props': [],\n  'notes': ['Import batch [development] 2023-01-13 19:35:45.939035'],\n  'status': '1',\n  'references': []},\n {'class': 'E',\n  'id': 'f1f68330-43ab-4bd9-8bb7-a14ca76cafc2',\n  'label': 'Creation of ‘Register of Gallus of Neuhaus’',\n  'language': '',\n  'detail': '',\n  'data': {'logicalType': '1'},\n  'props': [],\n  'notes': ['Import batch [development] 2023-01-13 19:35:45.939035',\n   'special T32>:creation_event_id E0123_T32'],\n  'status': '1',\n  'references': [],\n  'legacyId': 'E0123_T32'},\n {'class': 'V',\n  'id': '1c654389-4ac1-4d6d-9aab-b53a4f05657e',\n  'label': '1335',\n  'language': '',\n  'detail': '',\n  'data': {'logicalType': '1'},\n  'props': [],\n  'notes': ['Import batch [development] 2023-01-13 19:35:45.939035',\n   'special T32>:creation_event_id E0123_T32'],\n  'status': '1',\n  'references': []},\n {'class': 'V',\n  'id': '8a70e8a6-5f8b-42d1-8c59-013a724158d7',\n  'label': '1335',\n  'language': '',\n  'detail': '',\n  'data': {'logicalType': '1'},\n  'props': [],\n  'notes': ['Import batch [development] 2023-01-13 19:35:45.939035',\n   'special T32>:creation_event_id E0123_T32'],\n  'status': '1',\n  'references': []},\n {'class': 'V',\n  'id': '18c2780a-46f6-494c-a264-8b21c06cd164',\n  'label': '1353',\n  'language': '',\n  'detail': '',\n  'data': {'logicalType': '1'},\n  'props': [],\n  'notes': ['Import batch [development] 2023-01-13 19:35:45.939035',\n   'special T32>:creation_event_id E0123_T32'],\n  'status': '1',\n  'references': []},\n {'class': 'V',\n  'id': '09f1e2b0-b26f-465a-b785-32ead7ff6734',\n  'label': '1355',\n  'language': '',\n  'detail': '',\n  'data': {'logicalType': '1'},\n  'props': [],\n  'notes': ['Import batch [development] 2023-01-13 19:35:45.939035',\n   'special T32>:creation_event_id E0123_T32'],\n  'status': '1',\n  'references': []},\n {'class': 'R',\n  'id': '5a2cc663-60fc-420c-b777-312d9cce62e5',\n  'label': 'Patschovsky, 1979',\n  'language': '',\n  'detail': '',\n  'data': {'url': 'https://www.zotero.org/groups/446972/david_zbiral_bibliography/items/collectionKey/CUPPQIZM/itemKey/JYVDASA9',\n   'partValueBaseURL': '',\n   'partValueLabel': ''},\n  'props': [],\n  'notes': ['Import batch [development] 2023-01-13 19:35:45.939035'],\n  'status': '1',\n  'references': []},\n {'class': 'E',\n  'id': '1e5e9ad5-2dd5-4ab0-b15e-a102aa6208e8',\n  'label': 'Creation of ‘Register of Geoffrey Blyth’',\n  'language': '',\n  'detail': '',\n  'data': {'logicalType': '1'},\n  'props': [],\n  'notes': ['Import batch [development] 2023-01-13 19:35:45.939035',\n   'special T35>:creation_event_id E0124_T35'],\n  'status': '1',\n  'references': [],\n  'legacyId': 'E0124_T35'},\n {'class': 'V',\n  'id': 'a78b4590-bf72-423c-945a-b3c0b965035c',\n  'label': '1530',\n  'language': '',\n  'detail': '',\n  'data': {'logicalType': '1'},\n  'props': [],\n  'notes': ['Import batch [development] 2023-01-13 19:35:45.939035',\n   'special T35>:creation_event_id E0124_T35'],\n  'status': '1',\n  'references': []},\n {'class': 'E',\n  'id': 'aefa4797-b115-48a0-9fe3-37535a9b24e6',\n  'label': 'Creation of ‘Register of Geoffroy of Ablis’',\n  'language': '',\n  'detail': '',\n  'data': {'logicalType': '1'},\n  'props': [],\n  'notes': ['Import batch [development] 2023-01-13 19:35:45.939035',\n   'special T21>:creation_event_id E0125_T21'],\n  'status': '1',\n  'references': [],\n  'legacyId': 'E0125_T21'},\n {'class': 'V',\n  'id': '7153972a-e9bd-4930-b2ae-90517a764fae',\n  'label': '1308',\n  'language': '',\n  'detail': '',\n  'data': {'logicalType': '1'},\n  'props': [],\n  'notes': ['Import batch [development] 2023-01-13 19:35:45.939035',\n   'special T21>:creation_event_id E0125_T21'],\n  'status': '1',\n  'references': []},\n {'class': 'V',\n  'id': '2f24004d-32eb-4e84-bc36-3ff0847720f5',\n  'label': '1308',\n  'language': '',\n  'detail': '',\n  'data': {'logicalType': '1'},\n  'props': [],\n  'notes': ['Import batch [development] 2023-01-13 19:35:45.939035',\n   'special T21>:creation_event_id E0125_T21'],\n  'status': '1',\n  'references': []},\n {'class': 'V',\n  'id': '09d234bf-236e-40c0-8c64-90c7a936843a',\n  'label': '1309',\n  'language': '',\n  'detail': '',\n  'data': {'logicalType': '1'},\n  'props': [],\n  'notes': ['Import batch [development] 2023-01-13 19:35:45.939035',\n   'special T21>:creation_event_id E0125_T21'],\n  'status': '1',\n  'references': []},\n {'class': 'V',\n  'id': 'b39f7c1f-e2ef-4906-93b4-6ea448c96441',\n  'label': '1309',\n  'language': '',\n  'detail': '',\n  'data': {'logicalType': '1'},\n  'props': [],\n  'notes': ['Import batch [development] 2023-01-13 19:35:45.939035',\n   'special T21>:creation_event_id E0125_T21'],\n  'status': '1',\n  'references': []},\n {'class': 'R',\n  'id': 'ab7db97b-3e8f-445a-8efd-a56376d13a73',\n  'label': 'Palès-Gobilliard, 1984',\n  'language': '',\n  'detail': '',\n  'data': {'url': 'https://www.zotero.org/groups/446972/david_zbiral_bibliography/items/itemKey/IX83DDXB/',\n   'partValueBaseURL': '',\n   'partValueLabel': ''},\n  'props': [],\n  'notes': ['Import batch [development] 2023-01-13 19:35:45.939035'],\n  'status': '1',\n  'references': []},\n {'class': 'R',\n  'id': 'd1165dba-c105-462d-88fe-6f1bdfff07b1',\n  'label': 'Duvernoy, 2002',\n  'language': '',\n  'detail': '',\n  'data': {'url': 'https://www.zotero.org/groups/446972/david_zbiral_bibliography/items/itemKey/74KZIUMU/',\n   'partValueBaseURL': '',\n   'partValueLabel': ''},\n  'props': [],\n  'notes': ['Import batch [development] 2023-01-13 19:35:45.939035'],\n  'status': '1',\n  'references': []},\n {'class': 'V',\n  'id': '3c03252d-644c-45f3-9105-0c9f4cce6884',\n  'label': '15-277',\n  'language': '',\n  'detail': '',\n  'data': {'logicalType': '1'},\n  'props': [],\n  'notes': ['Import batch [development] 2023-01-13 19:35:45.939035',\n   'propvalue_2nd>124:T21:edition_2_page_range:15-277'],\n  'status': '1',\n  'references': []},\n {'class': 'E',\n  'id': '078f1b25-b9b2-4132-af09-5dff8fe6e1b6',\n  'label': 'Creation of ‘Register of Jacques Fournier’',\n  'language': '',\n  'detail': '',\n  'data': {'logicalType': '1'},\n  'props': [],\n  'notes': ['Import batch [development] 2023-01-13 19:35:45.939035',\n   'special T24>:creation_event_id E0126_T24'],\n  'status': '1',\n  'references': [],\n  'legacyId': 'E0126_T24'},\n {'class': 'V',\n  'id': 'a6fd65ff-7398-4513-8355-d6d37e5d48af',\n  'label': '1318',\n  'language': '',\n  'detail': '',\n  'data': {'logicalType': '1'},\n  'props': [],\n  'notes': ['Import batch [development] 2023-01-13 19:35:45.939035',\n   'special T24>:creation_event_id E0126_T24'],\n  'status': '1',\n  'references': []},\n {'class': 'V',\n  'id': 'ff08cd24-3742-4620-a1f3-8285d1e84073',\n  'label': '1318',\n  'language': '',\n  'detail': '',\n  'data': {'logicalType': '1'},\n  'props': [],\n  'notes': ['Import batch [development] 2023-01-13 19:35:45.939035',\n   'special T24>:creation_event_id E0126_T24'],\n  'status': '1',\n  'references': []},\n {'class': 'V',\n  'id': 'bb9aec95-9bb6-45a6-88e3-65898f074fde',\n  'label': '1325',\n  'language': '',\n  'detail': '',\n  'data': {'logicalType': '1'},\n  'props': [],\n  'notes': ['Import batch [development] 2023-01-13 19:35:45.939035',\n   'special T24>:creation_event_id E0126_T24'],\n  'status': '1',\n  'references': []},\n {'class': 'V',\n  'id': '278ea7a3-248b-4df6-8b83-9cf1f07bc9cd',\n  'label': '1325',\n  'language': '',\n  'detail': '',\n  'data': {'logicalType': '1'},\n  'props': [],\n  'notes': ['Import batch [development] 2023-01-13 19:35:45.939035',\n   'special T24>:creation_event_id E0126_T24'],\n  'status': '1',\n  'references': []},\n {'class': 'R',\n  'id': '05f59314-b69f-4cea-8289-6cb0ea8c8c52',\n  'label': 'Duvernoy, 1965',\n  'language': '',\n  'detail': '',\n  'data': {'url': 'https://www.zotero.org/groups/446972/david_zbiral_bibliography/items/itemKey/HBNLI4AF/',\n   'partValueBaseURL': '',\n   'partValueLabel': ''},\n  'props': [],\n  'notes': ['Import batch [development] 2023-01-13 19:35:45.939035'],\n  'status': '1',\n  'references': []},\n {'class': 'E',\n  'id': '6c0a71a3-bacb-4ed7-a189-70b810fb2222',\n  'label': 'Creation of ‘Register of John Galand and William of Saint-Seine, 1283-1302’',\n  'language': '',\n  'detail': '',\n  'data': {'logicalType': '1'},\n  'props': [],\n  'notes': ['Import batch [development] 2023-01-13 19:35:45.939035',\n   'special T17>:creation_event_id E0127_T17'],\n  'status': '1',\n  'references': [],\n  'legacyId': 'E0127_T17'},\n {'class': 'V',\n  'id': '74704416-d487-4213-9810-3f9b07c25bc1',\n  'label': '1283',\n  'language': '',\n  'detail': '',\n  'data': {'logicalType': '1'},\n  'props': [],\n  'notes': ['Import batch [development] 2023-01-13 19:35:45.939035',\n   'special T17>:creation_event_id E0127_T17'],\n  'status': '1',\n  'references': []},\n {'class': 'V',\n  'id': '977d3592-aa6d-4f72-88e4-f3a95ed22062',\n  'label': '1316',\n  'language': '',\n  'detail': '',\n  'data': {'logicalType': '1'},\n  'props': [],\n  'notes': ['Import batch [development] 2023-01-13 19:35:45.939035',\n   'special T17>:creation_event_id E0127_T17'],\n  'status': '1',\n  'references': []},\n {'class': 'V',\n  'id': 'c319a64d-efc0-47bc-ab52-de8cb079276a',\n  'label': '1302',\n  'language': '',\n  'detail': '',\n  'data': {'logicalType': '1'},\n  'props': [],\n  'notes': ['Import batch [development] 2023-01-13 19:35:45.939035',\n   'special T17>:creation_event_id E0127_T17'],\n  'status': '1',\n  'references': []},\n {'class': 'V',\n  'id': '7ce69ca7-9f3a-464b-a062-de491bcf4b1d',\n  'label': '1316',\n  'language': '',\n  'detail': '',\n  'data': {'logicalType': '1'},\n  'props': [],\n  'notes': ['Import batch [development] 2023-01-13 19:35:45.939035',\n   'special T17>:creation_event_id E0127_T17'],\n  'status': '1',\n  'references': []},\n {'class': 'V',\n  'id': '85e8fdb6-d5e1-4e69-9344-cf7772f44e23',\n  'label': '79r-316v',\n  'language': '',\n  'detail': '',\n  'data': {'logicalType': '1'},\n  'props': [],\n  'notes': ['Import batch [development] 2023-01-13 19:35:45.939035',\n   'propvalue_2nd>126:T17:manuscript_witness_1_with_range_entified:~V~79r-316v'],\n  'status': '1',\n  'references': []},\n {'class': 'E',\n  'id': 'd4ff25a7-40b8-4c06-98e6-2ffb3a20e484',\n  'label': 'Creation of ‘Register of John Galand and William of Saint-Seine, 1286-1287’',\n  'language': '',\n  'detail': '',\n  'data': {'logicalType': '1'},\n  'props': [],\n  'notes': ['Import batch [development] 2023-01-13 19:35:45.939035',\n   'special T16>:creation_event_id E0128_T16'],\n  'status': '1',\n  'references': [],\n  'legacyId': 'E0128_T16'},\n {'class': 'V',\n  'id': '35fe7dad-e80f-4cc2-8991-1428d67eb942',\n  'label': '1286',\n  'language': '',\n  'detail': '',\n  'data': {'logicalType': '1'},\n  'props': [],\n  'notes': ['Import batch [development] 2023-01-13 19:35:45.939035',\n   'special T16>:creation_event_id E0128_T16'],\n  'status': '1',\n  'references': []},\n {'class': 'V',\n  'id': '21ea4c16-e269-4ed8-bbab-c2c42eac14e8',\n  'label': '1286',\n  'language': '',\n  'detail': '',\n  'data': {'logicalType': '1'},\n  'props': [],\n  'notes': ['Import batch [development] 2023-01-13 19:35:45.939035',\n   'special T16>:creation_event_id E0128_T16'],\n  'status': '1',\n  'references': []},\n {'class': 'V',\n  'id': 'd884ab35-24c1-4f70-ba44-02006ae2a646',\n  'label': '1287',\n  'language': '',\n  'detail': '',\n  'data': {'logicalType': '1'},\n  'props': [],\n  'notes': ['Import batch [development] 2023-01-13 19:35:45.939035',\n   'special T16>:creation_event_id E0128_T16'],\n  'status': '1',\n  'references': []},\n {'class': 'V',\n  'id': '1e5a8878-b7b8-4754-b4dd-9f99c098d98d',\n  'label': '1287',\n  'language': '',\n  'detail': '',\n  'data': {'logicalType': '1'},\n  'props': [],\n  'notes': ['Import batch [development] 2023-01-13 19:35:45.939035',\n   'special T16>:creation_event_id E0128_T16'],\n  'status': '1',\n  'references': []},\n {'class': 'V',\n  'id': '9330f702-443e-4dd0-b0ed-79af267ec8ac',\n  'label': '1r-62v',\n  'language': '',\n  'detail': '',\n  'data': {'logicalType': '1'},\n  'props': [],\n  'notes': ['Import batch [development] 2023-01-13 19:35:45.939035',\n   'propvalue_2nd>127:T16:manuscript_witness_1_with_range_entified:~V~1r-62v'],\n  'status': '1',\n  'references': []},\n {'class': 'R',\n  'id': 'e17c255e-45a8-44c6-86a1-36fffc4f246e',\n  'label': 'La Presle-Evesque, 1995',\n  'language': '',\n  'detail': '',\n  'data': {'url': 'https://www.zotero.org/groups/446972/david_zbiral_bibliography/items/itemKey/M57HJJZI/',\n   'partValueBaseURL': '',\n   'partValueLabel': ''},\n  'props': [],\n  'notes': ['Import batch [development] 2023-01-13 19:35:45.939035'],\n  'status': '1',\n  'references': []},\n {'class': 'E',\n  'id': 'c86566d2-f45f-45e9-b4b5-e5844a1eb8ba',\n  'label': 'Creation of ‘Register of John Hales’',\n  'language': '',\n  'detail': '',\n  'data': {'logicalType': '1'},\n  'props': [],\n  'notes': ['Import batch [development] 2023-01-13 19:35:45.939035',\n   'special T37>:creation_event_id E0129_T37'],\n  'status': '1',\n  'references': [],\n  'legacyId': 'E0129_T37'},\n {'class': 'V',\n  'id': '8daa560b-d926-47f0-a9d1-8d20f8a01e22',\n  'label': '1490',\n  'language': '',\n  'detail': '',\n  'data': {'logicalType': '1'},\n  'props': [],\n  'notes': ['Import batch [development] 2023-01-13 19:35:45.939035',\n   'special T37>:creation_event_id E0129_T37'],\n  'status': '1',\n  'references': []},\n {'class': 'E',\n  'id': '908e59ce-a77b-4136-96d6-f586e38472c8',\n  'label': 'Creation of ‘Register of Nicolas of Abbeville et al., 1299-1300’',\n  'language': '',\n  'detail': '',\n  'data': {'logicalType': '1'},\n  'props': [],\n  'notes': ['Import batch [development] 2023-01-13 19:35:45.939035',\n   'special T20>:creation_event_id E0130_T20'],\n  'status': '1',\n  'references': [],\n  'legacyId': 'E0130_T20'},\n {'class': 'V',\n  'id': '60d605ce-6b38-4a9d-aae6-0dc866a212ea',\n  'label': '1299',\n  'language': '',\n  'detail': '',\n  'data': {'logicalType': '1'},\n  'props': [],\n  'notes': ['Import batch [development] 2023-01-13 19:35:45.939035',\n   'special T20>:creation_event_id E0130_T20'],\n  'status': '1',\n  'references': []},\n {'class': 'V',\n  'id': '5454916e-5959-4766-b8cd-f94d1b2a7d1f',\n  'label': '1299',\n  'language': '',\n  'detail': '',\n  'data': {'logicalType': '1'},\n  'props': [],\n  'notes': ['Import batch [development] 2023-01-13 19:35:45.939035',\n   'special T20>:creation_event_id E0130_T20'],\n  'status': '1',\n  'references': []},\n {'class': 'V',\n  'id': '4bae510c-e858-48b0-bd3f-5f31e94362cb',\n  'label': '1300',\n  'language': '',\n  'detail': '',\n  'data': {'logicalType': '1'},\n  'props': [],\n  'notes': ['Import batch [development] 2023-01-13 19:35:45.939035',\n   'special T20>:creation_event_id E0130_T20'],\n  'status': '1',\n  'references': []},\n {'class': 'V',\n  'id': 'be240b87-7cf5-4a3b-b880-1657117588e5',\n  'label': '1300',\n  'language': '',\n  'detail': '',\n  'data': {'logicalType': '1'},\n  'props': [],\n  'notes': ['Import batch [development] 2023-01-13 19:35:45.939035',\n   'special T20>:creation_event_id E0130_T20'],\n  'status': '1',\n  'references': []},\n {'class': 'V',\n  'id': '08285105-7dc7-4896-a018-e485b2272c87',\n  'label': '1r-53r',\n  'language': '',\n  'detail': '',\n  'data': {'logicalType': '1'},\n  'props': [],\n  'notes': ['Import batch [development] 2023-01-13 19:35:45.939035',\n   'propvalue_2nd>129:T20:manuscript_witness_1_with_range_entified:~V~1r-53r'],\n  'status': '1',\n  'references': []},\n {'class': 'V',\n  'id': '6101fb29-5ca9-4e42-ad20-72c0ea5eb0d4',\n  'label': '75r-142r',\n  'language': '',\n  'detail': '',\n  'data': {'logicalType': '1'},\n  'props': [],\n  'notes': ['Import batch [development] 2023-01-13 19:35:45.939035',\n   'propvalue_2nd>129:T20:manuscript_witness_3_with_range_entified:~V~75r-142r'],\n  'status': '1',\n  'references': []},\n {'class': 'R',\n  'id': '8d73066d-70ce-430e-8009-6ef9a7d71a0d',\n  'label': 'Davis, 1948',\n  'language': '',\n  'detail': '',\n  'data': {'url': 'https://www.zotero.org/groups/446972/david_zbiral_bibliography/items/itemKey/YCUDKUHW/',\n   'partValueBaseURL': '',\n   'partValueLabel': ''},\n  'props': [],\n  'notes': ['Import batch [development] 2023-01-13 19:35:45.939035'],\n  'status': '1',\n  'references': []},\n {'class': 'V',\n  'id': '0e872aa8-cf5b-4270-a9f8-ce99cdedd14f',\n  'label': '103-266',\n  'language': '',\n  'detail': '',\n  'data': {'logicalType': '1'},\n  'props': [],\n  'notes': ['Import batch [development] 2023-01-13 19:35:45.939035',\n   'propvalue_2nd>129:T20:edition_1_page_range:103-266'],\n  'status': '1',\n  'references': []},\n {'class': 'E',\n  'id': 'eebf319e-4bd5-4db6-8124-183476cb3d1f',\n  'label': 'Creation of ‘Register of Peter Zwicker’',\n  'language': '',\n  'detail': '',\n  'data': {'logicalType': '1'},\n  'props': [],\n  'notes': ['Import batch [development] 2023-01-13 19:35:45.939035',\n   'special T33>:creation_event_id E0131_T33'],\n  'status': '1',\n  'references': [],\n  'legacyId': 'E0131_T33'},\n {'class': 'V',\n  'id': '3326be1f-86a7-4991-b242-baa18db89187',\n  'label': '1392',\n  'language': '',\n  'detail': '',\n  'data': {'logicalType': '1'},\n  'props': [],\n  'notes': ['Import batch [development] 2023-01-13 19:35:45.939035',\n   'special T33>:creation_event_id E0131_T33'],\n  'status': '1',\n  'references': []},\n {'class': 'V',\n  'id': 'ea951e90-65ed-4679-8ba8-cbca05552a6f',\n  'label': '1392',\n  'language': '',\n  'detail': '',\n  'data': {'logicalType': '1'},\n  'props': [],\n  'notes': ['Import batch [development] 2023-01-13 19:35:45.939035',\n   'special T33>:creation_event_id E0131_T33'],\n  'status': '1',\n  'references': []},\n {'class': 'V',\n  'id': '9f14345d-9c7d-4a64-a036-bf13e7b8ebc3',\n  'label': '1394',\n  'language': '',\n  'detail': '',\n  'data': {'logicalType': '1'},\n  'props': [],\n  'notes': ['Import batch [development] 2023-01-13 19:35:45.939035',\n   'special T33>:creation_event_id E0131_T33'],\n  'status': '1',\n  'references': []},\n {'class': 'V',\n  'id': '8138770d-95bc-4202-afc4-7bd63ed38bdb',\n  'label': '1394',\n  'language': '',\n  'detail': '',\n  'data': {'logicalType': '1'},\n  'props': [],\n  'notes': ['Import batch [development] 2023-01-13 19:35:45.939035',\n   'special T33>:creation_event_id E0131_T33'],\n  'status': '1',\n  'references': []},\n {'class': 'R',\n  'id': '18b336b8-6564-4926-9aae-d36061f69912',\n  'label': 'Kurze, 1975',\n  'language': '',\n  'detail': '',\n  'data': {'url': 'https://www.zotero.org/groups/446972/david_zbiral_bibliography/items/collectionKey/CUPPQIZM/itemKey/CXN9G3XA',\n   'partValueBaseURL': '',\n   'partValueLabel': ''},\n  'props': [],\n  'notes': ['Import batch [development] 2023-01-13 19:35:45.939035'],\n  'status': '1',\n  'references': []},\n {'class': 'E',\n  'id': 'f003b919-a14a-48ec-93d1-b1ba1b157dc0',\n  'label': 'Creation of ‘Register of Pons of Parnac, Ranulph of Plaissac et al., Toulouse 1273-1282’',\n  'language': '',\n  'detail': '',\n  'data': {'logicalType': '1'},\n  'props': [],\n  'notes': ['Import batch [development] 2023-01-13 19:35:45.939035',\n   'special T14>:creation_event_id E0132_T14'],\n  'status': '1',\n  'references': [],\n  'legacyId': 'E0132_T14'},\n {'class': 'V',\n  'id': 'b21e4bdd-9921-4ea8-af7d-8ce6cad4a609',\n  'label': '1273',\n  'language': '',\n  'detail': '',\n  'data': {'logicalType': '1'},\n  'props': [],\n  'notes': ['Import batch [development] 2023-01-13 19:35:45.939035',\n   'special T14>:creation_event_id E0132_T14'],\n  'status': '1',\n  'references': []},\n {'class': 'V',\n  'id': '3b1dd8df-524e-4c7b-a23b-160326dcf56c',\n  'label': '1273',\n  'language': '',\n  'detail': '',\n  'data': {'logicalType': '1'},\n  'props': [],\n  'notes': ['Import batch [development] 2023-01-13 19:35:45.939035',\n   'special T14>:creation_event_id E0132_T14'],\n  'status': '1',\n  'references': []},\n {'class': 'V',\n  'id': '2bf5e05e-181d-4e87-afcd-819d39e7c1e3',\n  'label': '1282',\n  'language': '',\n  'detail': '',\n  'data': {'logicalType': '1'},\n  'props': [],\n  'notes': ['Import batch [development] 2023-01-13 19:35:45.939035',\n   'special T14>:creation_event_id E0132_T14'],\n  'status': '1',\n  'references': []},\n {'class': 'V',\n  'id': '2929275d-f51e-4dca-a56e-4d2c0677b6c0',\n  'label': '1282',\n  'language': '',\n  'detail': '',\n  'data': {'logicalType': '1'},\n  'props': [],\n  'notes': ['Import batch [development] 2023-01-13 19:35:45.939035',\n   'special T14>:creation_event_id E0132_T14'],\n  'status': '1',\n  'references': []},\n {'class': 'V',\n  'id': '3f2c8443-d764-4723-95fe-c747e3257962',\n  'label': '25:1r-331v; 26:1r-78v',\n  'language': '',\n  'detail': '',\n  'data': {'logicalType': '1'},\n  'props': [],\n  'notes': ['Import batch [development] 2023-01-13 19:35:45.939035',\n   'propvalue_2nd>131:T14:manuscript_witness_1_with_range_entified:~V~25:1r-331v; 26:1r-78v'],\n  'status': '1',\n  'references': []},\n {'class': 'R',\n  'id': 'b21c6f41-d8a7-4096-bbfe-63cf66a806ba',\n  'label': 'Biller et al., 2011',\n  'language': '',\n  'detail': '',\n  'data': {'url': 'https://www.zotero.org/groups/446972/david_zbiral_bibliography/items/itemKey/WCNPJPHJ/',\n   'partValueBaseURL': '',\n   'partValueLabel': ''},\n  'props': [],\n  'notes': ['Import batch [development] 2023-01-13 19:35:45.939035'],\n  'status': '1',\n  'references': []},\n {'class': 'V',\n  'id': 'f9f1c523-1a28-4ed6-9db4-086a3ceaec0d',\n  'label': '174-979',\n  'language': '',\n  'detail': '',\n  'data': {'logicalType': '1'},\n  'props': [],\n  'notes': ['Import batch [development] 2023-01-13 19:35:45.939035',\n   'propvalue_2nd>131:T14:edition_1_page_range:174-979'],\n  'status': '1',\n  'references': []},\n {'class': 'R',\n  'id': '97ab714d-001c-47a4-a442-3545910a0da4',\n  'label': 'Duvernoy, 2003',\n  'language': '',\n  'detail': '',\n  'data': {'url': 'https://www.zotero.org/groups/446972/david_zbiral_bibliography/items/collectionKey/PUJYJKMW/itemKey/K3XJYAFA',\n   'partValueBaseURL': '',\n   'partValueLabel': ''},\n  'props': [],\n  'notes': ['Import batch [development] 2023-01-13 19:35:45.939035'],\n  'status': '1',\n  'references': []},\n {'class': 'V',\n  'id': '34378917-70b0-4511-aa7b-14c01a0dfdad',\n  'label': '1-258',\n  'language': '',\n  'detail': '',\n  'data': {'logicalType': '1'},\n  'props': [],\n  'notes': ['Import batch [development] 2023-01-13 19:35:45.939035',\n   'propvalue_2nd>131:T14:edition_2_page_range:1-258'],\n  'status': '1',\n  'references': []},\n {'class': 'E',\n  'id': '1c38dd15-48ac-40a8-a2cd-219fe10e5686',\n  'label': 'Creation of ‘Register of the inquisition of Bologna from the late 14th c.’',\n  'language': '',\n  'detail': '',\n  'data': {'logicalType': '1'},\n  'props': [],\n  'notes': ['Import batch [development] 2023-01-13 19:35:45.939035',\n   'special T74>:creation_event_id E0133_T74'],\n  'status': '1',\n  'references': [],\n  'legacyId': 'E0133_T74'},\n {'class': 'E',\n  'id': '12cd9e76-89b1-4bfc-843f-de839942567c',\n  'label': 'Creation of ‘Register of the notary (greffier) of the Carcassonne inquisition’',\n  'language': '',\n  'detail': '',\n  'data': {'logicalType': '1'},\n  'props': [],\n  'notes': ['Import batch [development] 2023-01-13 19:35:45.939035',\n   'special T11>:creation_event_id E0134_T11'],\n  'status': '1',\n  'references': [],\n  'legacyId': 'E0134_T11'},\n {'class': 'V',\n  'id': '3fa6e3c6-245f-4451-92f0-ae686ed507a3',\n  'label': '1250',\n  'language': '',\n  'detail': '',\n  'data': {'logicalType': '1'},\n  'props': [],\n  'notes': ['Import batch [development] 2023-01-13 19:35:45.939035',\n   'special T11>:creation_event_id E0134_T11'],\n  'status': '1',\n  'references': []},\n {'class': 'V',\n  'id': '55685b4d-2ba5-46a4-9bf4-adee8af45213',\n  'label': '1250',\n  'language': '',\n  'detail': '',\n  'data': {'logicalType': '1'},\n  'props': [],\n  'notes': ['Import batch [development] 2023-01-13 19:35:45.939035',\n   'special T11>:creation_event_id E0134_T11'],\n  'status': '1',\n  'references': []},\n {'class': 'V',\n  'id': 'bafddae3-c891-4ab4-9e71-6cb3096b7bb8',\n  'label': '1267',\n  'language': '',\n  'detail': '',\n  'data': {'logicalType': '1'},\n  'props': [],\n  'notes': ['Import batch [development] 2023-01-13 19:35:45.939035',\n   'special T11>:creation_event_id E0134_T11'],\n  'status': '1',\n  'references': []},\n {'class': 'V',\n  'id': 'b500d22e-40e9-4326-b35a-973203531fc9',\n  'label': '1267',\n  'language': '',\n  'detail': '',\n  'data': {'logicalType': '1'},\n  'props': [],\n  'notes': ['Import batch [development] 2023-01-13 19:35:45.939035',\n   'special T11>:creation_event_id E0134_T11'],\n  'status': '1',\n  'references': []},\n {'class': 'R',\n  'id': '4cbb7436-303a-497f-9ef4-79be50bd81ce',\n  'label': 'Douais, 1900',\n  'language': '',\n  'detail': '',\n  'data': {'url': 'https://www.zotero.org/groups/446972/david_zbiral_bibliography/items/itemKey/ZHKR4MXG/',\n   'partValueBaseURL': '',\n   'partValueLabel': ''},\n  'props': [],\n  'notes': ['Import batch [development] 2023-01-13 19:35:45.939035'],\n  'status': '1',\n  'references': []},\n {'class': 'V',\n  'id': 'a15e84f7-c169-410c-8c98-f21d1cb4c0fa',\n  'label': '115-301',\n  'language': '',\n  'detail': '',\n  'data': {'logicalType': '1'},\n  'props': [],\n  'notes': ['Import batch [development] 2023-01-13 19:35:45.939035',\n   'propvalue_2nd>133:T11:edition_1_page_range:115-301'],\n  'status': '1',\n  'references': []},\n {'class': 'E',\n  'id': '8b13c2ff-63f8-43c6-9bb1-c1144b9d1c05',\n  'label': 'Creation of ‘Register of William Warham, archbishop of Canterbury’',\n  'language': '',\n  'detail': '',\n  'data': {'logicalType': '1'},\n  'props': [],\n  'notes': ['Import batch [development] 2023-01-13 19:35:45.939035',\n   'special T40>:creation_event_id E0135_T40'],\n  'status': '1',\n  'references': [],\n  'legacyId': 'E0135_T40'},\n {'class': 'E',\n  'id': '70564ab9-5c6e-4485-9de2-9551e3cf8020',\n  'label': 'Creation of ‘Rehabilitation processes of Waldensians from Dauphiné’',\n  'language': '',\n  'detail': '',\n  'data': {'logicalType': '1'},\n  'props': [],\n  'notes': ['Import batch [development] 2023-01-13 19:35:45.939035',\n   'special T42>:creation_event_id E0136_T42'],\n  'status': '1',\n  'references': [],\n  'legacyId': 'E0136_T42'},\n {'class': 'E',\n  'id': '121c231f-a18e-49bc-b4cd-accaf26ded61',\n  'label': 'Creation of ‘Roberti de Monte Cronica’',\n  'language': '',\n  'detail': '',\n  'data': {'logicalType': '1'},\n  'props': [],\n  'notes': ['Import batch [development] 2023-01-13 19:35:45.939035',\n   'special T130>:creation_event_id E0137_T130'],\n  'status': '1',\n  'references': [],\n  'legacyId': 'E0137_T130'},\n {'class': 'E',\n  'id': 'aaff0d38-f6a5-49f2-b707-e0888dd6503b',\n  'label': 'Creation of ‘Sentences of Bernard of Caux and John of Saint-Pierre’',\n  'language': '',\n  'detail': '',\n  'data': {'logicalType': '1'},\n  'props': [],\n  'notes': ['Import batch [development] 2023-01-13 19:35:45.939035',\n   'special T8>:creation_event_id E0138_T8'],\n  'status': '1',\n  'references': [],\n  'legacyId': 'E0138_T8'},\n {'class': 'V',\n  'id': '285748ce-1470-4c85-b7eb-eec9407ead9c',\n  'label': '1244',\n  'language': '',\n  'detail': '',\n  'data': {'logicalType': '1'},\n  'props': [],\n  'notes': ['Import batch [development] 2023-01-13 19:35:45.939035',\n   'special T8>:creation_event_id E0138_T8'],\n  'status': '1',\n  'references': []},\n {'class': 'V',\n  'id': '8a31cbd5-0f3c-48b5-9217-1bd0a2e57992',\n  'label': '1244',\n  'language': '',\n  'detail': '',\n  'data': {'logicalType': '1'},\n  'props': [],\n  'notes': ['Import batch [development] 2023-01-13 19:35:45.939035',\n   'special T8>:creation_event_id E0138_T8'],\n  'status': '1',\n  'references': []},\n {'class': 'V',\n  'id': '4aa0fe7a-85fa-4927-93f8-a7692ae9476d',\n  'label': '1248',\n  'language': '',\n  'detail': '',\n  'data': {'logicalType': '1'},\n  'props': [],\n  'notes': ['Import batch [development] 2023-01-13 19:35:45.939035',\n   'special T8>:creation_event_id E0138_T8'],\n  'status': '1',\n  'references': []},\n {'class': 'V',\n  'id': '4f3143c4-0254-442e-b11c-03e61b0af28e',\n  'label': '1248',\n  'language': '',\n  'detail': '',\n  'data': {'logicalType': '1'},\n  'props': [],\n  'notes': ['Import batch [development] 2023-01-13 19:35:45.939035',\n   'special T8>:creation_event_id E0138_T8'],\n  'status': '1',\n  'references': []},\n {'class': 'R',\n  'id': 'b9ea7fb9-f84a-404c-931b-99af2172a33c',\n  'label': 'Douais, 1900',\n  'language': '',\n  'detail': '',\n  'data': {'url': 'https://www.zotero.org/groups/446972/david_zbiral_bibliography/items/itemKey/ZHKR4MXG/',\n   'partValueBaseURL': '',\n   'partValueLabel': ''},\n  'props': [],\n  'notes': ['Import batch [development] 2023-01-13 19:35:45.939035'],\n  'status': '1',\n  'references': []},\n {'class': 'V',\n  'id': '03164755-bbd9-4435-a1a8-182ec06141c2',\n  'label': '1-89',\n  'language': '',\n  'detail': '',\n  'data': {'logicalType': '1'},\n  'props': [],\n  'notes': ['Import batch [development] 2023-01-13 19:35:45.939035',\n   'propvalue_2nd>137:T8:edition_1_page_range:1-89'],\n  'status': '1',\n  'references': []},\n {'class': 'E',\n  'id': 'fd6ed5bf-c862-473a-9913-681143c3026c',\n  'label': 'Creation of ‘Sentences of Ferrer and William Raymond’',\n  'language': '',\n  'detail': '',\n  'data': {'logicalType': '1'},\n  'props': [],\n  'notes': ['Import batch [development] 2023-01-13 19:35:45.939035',\n   'special T7>:creation_event_id E0139_T7'],\n  'status': '1',\n  'references': [],\n  'legacyId': 'E0139_T7'},\n {'class': 'V',\n  'id': 'c0c4d174-ae80-4dcd-b34d-bc0171c6c896',\n  'label': '1244',\n  'language': '',\n  'detail': '',\n  'data': {'logicalType': '1'},\n  'props': [],\n  'notes': ['Import batch [development] 2023-01-13 19:35:45.939035',\n   'special T7>:creation_event_id E0139_T7'],\n  'status': '1',\n  'references': []},\n {'class': 'V',\n  'id': '7b461eac-1242-40f1-b6a6-f12bf428d7e4',\n  'label': '313r-323v',\n  'language': '',\n  'detail': '',\n  'data': {'logicalType': '1'},\n  'props': [],\n  'notes': ['Import batch [development] 2023-01-13 19:35:45.939035',\n   'propvalue_2nd>138:T7:manuscript_witness_1_with_range_entified:~V~313r-323v'],\n  'status': '1',\n  'references': []},\n {'class': 'E',\n  'id': '95cb1bd1-4085-4577-be42-cf7897e11f0a',\n  'label': 'Creation of ‘Sentences of William Arnold and Stephen of Saint-Thibéry’',\n  'language': '',\n  'detail': '',\n  'data': {'logicalType': '1'},\n  'props': [],\n  'notes': ['Import batch [development] 2023-01-13 19:35:45.939035',\n   'special T2>:creation_event_id E0140_T2'],\n  'status': '1',\n  'references': [],\n  'legacyId': 'E0140_T2'},\n {'class': 'V',\n  'id': '0d841b94-baab-458d-890d-c84b3eaafe70',\n  'label': '1235',\n  'language': '',\n  'detail': '',\n  'data': {'logicalType': '1'},\n  'props': [],\n  'notes': ['Import batch [development] 2023-01-13 19:35:45.939035',\n   'special T2>:creation_event_id E0140_T2'],\n  'status': '1',\n  'references': []},\n {'class': 'V',\n  'id': 'bbb9f1e5-e78f-4d36-9f76-8b9266f4065e',\n  'label': '1235',\n  'language': '',\n  'detail': '',\n  'data': {'logicalType': '1'},\n  'props': [],\n  'notes': ['Import batch [development] 2023-01-13 19:35:45.939035',\n   'special T2>:creation_event_id E0140_T2'],\n  'status': '1',\n  'references': []},\n {'class': 'V',\n  'id': '99ec92c5-466c-48cf-bff1-a2b52024cc2b',\n  'label': '1242',\n  'language': '',\n  'detail': '',\n  'data': {'logicalType': '1'},\n  'props': [],\n  'notes': ['Import batch [development] 2023-01-13 19:35:45.939035',\n   'special T2>:creation_event_id E0140_T2'],\n  'status': '1',\n  'references': []},\n {'class': 'V',\n  'id': '4373a2be-9e85-43e5-8300-9a9eb9f5c4a9',\n  'label': '1242',\n  'language': '',\n  'detail': '',\n  'data': {'logicalType': '1'},\n  'props': [],\n  'notes': ['Import batch [development] 2023-01-13 19:35:45.939035',\n   'special T2>:creation_event_id E0140_T2'],\n  'status': '1',\n  'references': []},\n {'class': 'V',\n  'id': '8dc6efd3-e9bf-43fd-b7ed-1185b0cfd745',\n  'label': '143v-185r',\n  'language': '',\n  'detail': '',\n  'data': {'logicalType': '1'},\n  'props': [],\n  'notes': ['Import batch [development] 2023-01-13 19:35:45.939035',\n   'propvalue_2nd>139:T2:manuscript_witness_1_with_range_entified:~V~143v-185r'],\n  'status': '1',\n  'references': []},\n {'class': 'E',\n  'id': '815c572e-69fe-4095-a1a4-ca7fb670a9b6',\n  'label': 'Creation of ‘Sigeberti Continuatio Gemblacensis’',\n  'language': '',\n  'detail': '',\n  'data': {'logicalType': '1'},\n  'props': [],\n  'notes': ['Import batch [development] 2023-01-13 19:35:45.939035',\n   'special T118>:creation_event_id E0141_T118'],\n  'status': '1',\n  'references': [],\n  'legacyId': 'E0141_T118'},\n {'class': 'E',\n  'id': 'b3807478-7c44-49fd-a4e6-ee09d5d7859b',\n  'label': 'Creation of ‘Sigeberti Gemblacensis Continuatio Premonstratensis’',\n  'language': '',\n  'detail': '',\n  'data': {'logicalType': '1'},\n  'props': [],\n  'notes': ['Import batch [development] 2023-01-13 19:35:45.939035',\n   'special T114>:creation_event_id E0142_T114'],\n  'status': '1',\n  'references': [],\n  'legacyId': 'E0142_T114'},\n {'class': 'E',\n  'id': '6651ba3f-43f4-44d2-b8d5-0453f21679a8',\n  'label': 'Creation of ‘Sigeberti Gemblacensis Continuatio Valcellensis’',\n  'language': '',\n  'detail': '',\n  'data': {'logicalType': '1'},\n  'props': [],\n  'notes': ['Import batch [development] 2023-01-13 19:35:45.939035',\n   'special T115>:creation_event_id E0143_T115'],\n  'status': '1',\n  'references': [],\n  'legacyId': 'E0143_T115'},\n {'class': 'E',\n  'id': '09b831d7-4e39-44d2-b059-a3238a15d26c',\n  'label': 'Creation of ‘Transcripts from a register of inquisition in Albi, 1281-1319’',\n  'language': '',\n  'detail': '',\n  'data': {'logicalType': '1'},\n  'props': [],\n  'notes': ['Import batch [development] 2023-01-13 19:35:45.939035',\n   'special T19>:creation_event_id E0144_T19'],\n  'status': '1',\n  'references': [],\n  'legacyId': 'E0144_T19'},\n {'class': 'V',\n  'id': '1fd9c2e3-3326-47d2-abee-60df4b424367',\n  'label': '1281',\n  'language': '',\n  'detail': '',\n  'data': {'logicalType': '1'},\n  'props': [],\n  'notes': ['Import batch [development] 2023-01-13 19:35:45.939035',\n   'special T19>:creation_event_id E0144_T19'],\n  'status': '1',\n  'references': []},\n {'class': 'V',\n  'id': 'a2412b20-9663-4d76-869e-403c3b1d05b5',\n  'label': '1281',\n  'language': '',\n  'detail': '',\n  'data': {'logicalType': '1'},\n  'props': [],\n  'notes': ['Import batch [development] 2023-01-13 19:35:45.939035',\n   'special T19>:creation_event_id E0144_T19'],\n  'status': '1',\n  'references': []},\n {'class': 'V',\n  'id': '8eea16f6-9a13-4847-acc5-18dbbeee9a89',\n  'label': '1319',\n  'language': '',\n  'detail': '',\n  'data': {'logicalType': '1'},\n  'props': [],\n  'notes': ['Import batch [development] 2023-01-13 19:35:45.939035',\n   'special T19>:creation_event_id E0144_T19'],\n  'status': '1',\n  'references': []},\n {'class': 'V',\n  'id': '3d5de04c-f261-498d-ade3-7b315cd4c2ae',\n  'label': '1319',\n  'language': '',\n  'detail': '',\n  'data': {'logicalType': '1'},\n  'props': [],\n  'notes': ['Import batch [development] 2023-01-13 19:35:45.939035',\n   'special T19>:creation_event_id E0144_T19'],\n  'status': '1',\n  'references': []},\n {'class': 'E',\n  'id': '32c99872-e0a3-4e9c-b0cb-8b80b27f556a',\n  'label': 'Creation of ‘Trial records of Strasbourg Waldensians, 1400-1401’',\n  'language': '',\n  'detail': '',\n  'data': {'logicalType': '1'},\n  'props': [],\n  'notes': ['Import batch [development] 2023-01-13 19:35:45.939035',\n   'special T41>:creation_event_id E0145_T41'],\n  'status': '1',\n  'references': [],\n  'legacyId': 'E0145_T41'},\n {'class': 'R',\n  'id': '866cf878-f496-4f3e-8132-d6471e386c06',\n  'label': 'Modestin',\n  'language': '',\n  'detail': '',\n  'data': {'url': '', 'partValueBaseURL': '', 'partValueLabel': ''},\n  'props': [],\n  'notes': ['Import batch [development] 2023-01-13 19:35:45.939035'],\n  'status': '1',\n  'references': []},\n {'class': 'E',\n  'id': '4c3a764b-4e49-46b9-8726-33357c54f00f',\n  'label': 'Creation of ‘Verbum abbreviatum’',\n  'language': '',\n  'detail': '',\n  'data': {'logicalType': '1'},\n  'props': [],\n  'notes': ['Import batch [development] 2023-01-13 19:35:45.939035',\n   'special T123>:creation_event_id E0146_T123'],\n  'status': '1',\n  'references': [],\n  'legacyId': 'E0146_T123'},\n {'class': 'E',\n  'id': '49e7c5cd-f867-430d-9ed4-32ac816b545a',\n  'label': 'Creation of ‘Verbum abbreviatum textus alter’',\n  'language': '',\n  'detail': '',\n  'data': {'logicalType': '1'},\n  'props': [],\n  'notes': ['Import batch [development] 2023-01-13 19:35:45.939035',\n   'special T124>:creation_event_id E0147_T124'],\n  'status': '1',\n  'references': [],\n  'legacyId': 'E0147_T124'},\n {'class': 'E',\n  'id': '599c4d96-0e7a-4e18-9a23-804f4407c6b4',\n  'label': 'Creation of ‘Vita Gauzlini, abbatis Floriacensis monasterii’',\n  'language': '',\n  'detail': '',\n  'data': {'logicalType': '1'},\n  'props': [],\n  'notes': ['Import batch [development] 2023-01-13 19:35:45.939035',\n   'special T85>:creation_event_id E0148_T85'],\n  'status': '1',\n  'references': [],\n  'legacyId': 'E0148_T85'},\n {'class': 'V',\n  'id': 'f68e6bbe-2509-4c0b-adcc-b3cdc3c793c6',\n  'label': '1040',\n  'language': '',\n  'detail': '',\n  'data': {'logicalType': '1'},\n  'props': [],\n  'notes': ['Import batch [development] 2023-01-13 19:35:45.939035',\n   'special T85>:creation_event_id E0148_T85'],\n  'status': '1',\n  'references': []},\n {'class': 'V',\n  'id': '08fefd33-d489-4596-81e9-a20e59766b69',\n  'label': '1040',\n  'language': '',\n  'detail': '',\n  'data': {'logicalType': '1'},\n  'props': [],\n  'notes': ['Import batch [development] 2023-01-13 19:35:45.939035',\n   'special T85>:creation_event_id E0148_T85'],\n  'status': '1',\n  'references': []},\n {'class': 'V',\n  'id': 'e3d33b2f-4ecf-4e29-a712-276b05bd6c48',\n  'label': '1042',\n  'language': '',\n  'detail': '',\n  'data': {'logicalType': '1'},\n  'props': [],\n  'notes': ['Import batch [development] 2023-01-13 19:35:45.939035',\n   'special T85>:creation_event_id E0148_T85'],\n  'status': '1',\n  'references': []},\n {'class': 'V',\n  'id': 'aed1c280-72f7-4368-be58-13f4282d617f',\n  'label': '1043',\n  'language': '',\n  'detail': '',\n  'data': {'logicalType': '1'},\n  'props': [],\n  'notes': ['Import batch [development] 2023-01-13 19:35:45.939035',\n   'special T85>:creation_event_id E0148_T85'],\n  'status': '1',\n  'references': []},\n {'class': 'R',\n  'id': '23a71462-0a92-44d5-92c1-795a1cded911',\n  'label': 'André de Fleury, \"Vie de Gauzlin, abbé de Fleury : Vita Gauzlini abbatis Floriacensis monasterii\", ed. R.-H. Bautier, G. Labory, Paris : CNRS, 1969.',\n  'language': '',\n  'detail': '',\n  'data': {'url': '', 'partValueBaseURL': '', 'partValueLabel': ''},\n  'props': [],\n  'notes': ['Import batch [development] 2023-01-13 19:35:45.939035'],\n  'status': '1',\n  'references': []},\n {'class': 'V',\n  'id': '28025b9f-1f20-4de0-b11b-cda19e26aa54',\n  'label': '96-103 (bilingual edition)',\n  'language': '',\n  'detail': '',\n  'data': {'logicalType': '1'},\n  'props': [],\n  'notes': ['Import batch [development] 2023-01-13 19:35:45.939035',\n   'propvalue_2nd>147:T85:edition_1_page_range:96-103 (bilingual edition)'],\n  'status': '1',\n  'references': []},\n {'class': 'E',\n  'id': '523e5ca8-7e5a-412c-89bf-bb0f75d47d8d',\n  'label': 'Creation of ‘Vita Norberti ab auctore posteriore (Vita B)’',\n  'language': '',\n  'detail': '',\n  'data': {'logicalType': '1'},\n  'props': [],\n  'notes': ['Import batch [development] 2023-01-13 19:35:45.939035',\n   'special T111>:creation_event_id E0149_T111'],\n  'status': '1',\n  'references': [],\n  'legacyId': 'E0149_T111'},\n {'class': 'E',\n  'id': '692adbc7-17bc-49c2-8f5d-142f34a66bd8',\n  'label': 'Creation of ‘Vita Norberti archiepiscopi Magdeburgensis (Vita A)’',\n  'language': '',\n  'detail': '',\n  'data': {'logicalType': '1'},\n  'props': [],\n  'notes': ['Import batch [development] 2023-01-13 19:35:45.939035',\n   'special T110>:creation_event_id E0150_T110'],\n  'status': '1',\n  'references': [],\n  'legacyId': 'E0150_T110'},\n {'class': 'E',\n  'id': '9ba69277-840f-475c-a33a-6140dde0e99a',\n  'label': 'Creation of ‘Vita prima sancti Bernardi Clarevallis abbatis’',\n  'language': '',\n  'detail': '',\n  'data': {'logicalType': '1'},\n  'props': [],\n  'notes': ['Import batch [development] 2023-01-13 19:35:45.939035',\n   'special T133>:creation_event_id E0151_T133'],\n  'status': '1',\n  'references': [],\n  'legacyId': 'E0151_T133'},\n {'class': 'E',\n  'id': 'ffa5fbc4-a2cd-4926-ab30-94c8deb651cb',\n  'label': 'Creation of ‘Vita Theodorici episcopi Aurelianensis’',\n  'language': '',\n  'detail': '',\n  'data': {'logicalType': '1'},\n  'props': [],\n  'notes': ['Import batch [development] 2023-01-13 19:35:45.939035',\n   'special T87>:creation_event_id E0152_T87'],\n  'status': '1',\n  'references': [],\n  'legacyId': 'E0152_T87'},\n {'class': 'R',\n  'id': '621c685e-eeb9-4ebf-8370-695722a8806f',\n  'label': 'Vita Theoderici episcopi Aurelianensis, AASSOSB, VI, pt. I, p. 175',\n  'language': '',\n  'detail': '',\n  'data': {'url': '', 'partValueBaseURL': '', 'partValueLabel': ''},\n  'props': [],\n  'notes': ['Import batch [development] 2023-01-13 19:35:45.939035'],\n  'status': '1',\n  'references': []},\n {'class': 'V',\n  'id': '5d77992c-7111-4c98-b913-e38f52ecb79f',\n  'label': '195-196',\n  'language': '',\n  'detail': '',\n  'data': {'logicalType': '1'},\n  'props': [],\n  'notes': ['Import batch [development] 2023-01-13 19:35:45.939035',\n   'propvalue_2nd>151:T87:edition_1_page_range:195-196'],\n  'status': '1',\n  'references': []},\n {'class': 'E',\n  'id': '5b38669a-6598-4cd3-a97a-c8d2abdee72d',\n  'label': 'Creation of ‘Instrumentum sententie late per dominum inquisitorem contra duos valdenses’',\n  'language': '',\n  'detail': '',\n  'data': {'logicalType': '1'},\n  'props': [],\n  'notes': ['Import batch [development] 2023-01-13 19:35:45.939035',\n   'special T154>:creation_event_id E0154_T154'],\n  'status': '1',\n  'references': [],\n  'legacyId': 'E0154_T154'},\n {'class': 'R',\n  'id': '6ac46b7f-8e09-4376-8d4f-4e3d75ee29d5',\n  'label': 'Luca Patria, Piercarlo Pazè, \"L\\'eresia diffusa: segmenti eterodossi nel Trecento alpino e subalpino (diocesi di Torino) secondo le rivelazioni all\\'inquisitore di Antonio Galosna e Giacomo Bech\", in Valdo e Francesco. Inizi e sviluppi di due movimenti religiosi, ed. Pazè, pp. 287-300',\n  'language': '',\n  'detail': '',\n  'data': {'url': '', 'partValueBaseURL': '', 'partValueLabel': ''},\n  'props': [],\n  'notes': ['Import batch [development] 2023-01-13 19:35:45.939035'],\n  'status': '1',\n  'references': []},\n {'class': 'V',\n  'id': 'c83da82e-eacb-4d0f-926e-c8a1aa0a255b',\n  'label': '287-300',\n  'language': '',\n  'detail': '',\n  'data': {'logicalType': '1'},\n  'props': [],\n  'notes': ['Import batch [development] 2023-01-13 19:35:45.939035',\n   'propvalue_2nd>153:T154:edition_1_page_range:287-300'],\n  'status': '1',\n  'references': []},\n {'class': 'L',\n  'id': 'e49ada1b-32c6-46ce-a96f-5f665e9e2cfa',\n  'label': 'Bologna, Biblioteca comunale dell’Archiginnasio',\n  'language': '',\n  'detail': '',\n  'data': {'logicalType': '1'},\n  'props': [],\n  'notes': ['Import batch [development] 2023-01-13 19:35:45.939035',\n   \"Making location 'Bologna, Biblioteca comunale dell’Archiginnasio' from M106 by field repository_label.\"],\n  'status': '1',\n  'references': [],\n  'legacyId': 'L_from_M106'},\n {'class': 'V',\n  'id': '79fe6f3b-2d18-44fa-bf0d-dc33c25d8264',\n  'label': 'ms. B 1856',\n  'language': '',\n  'detail': '',\n  'data': {'logicalType': '1'},\n  'props': [],\n  'notes': ['Import batch [development] 2023-01-13 19:35:45.939035',\n   'propvalue>0:M106:subcollection_and_shelf_number_concatenated:ms. B 1856'],\n  'status': '1',\n  'references': []},\n {'class': 'V',\n  'id': '12248187-7d9c-4ce4-933e-4107961da4ee',\n  'label': '16.gg.I.1',\n  'language': '',\n  'detail': '',\n  'data': {'logicalType': '1'},\n  'props': [],\n  'notes': ['Import batch [development] 2023-01-13 19:35:45.939035',\n   'propvalue>0:M106:alternative_shelf_number:16.gg.I.1'],\n  'status': '1',\n  'references': []},\n {'class': 'V',\n  'id': 'f868d2a4-58f6-47a5-8ae4-3a64348e967b',\n  'label': '38.5',\n  'language': '',\n  'detail': '',\n  'data': {'logicalType': '1'},\n  'props': [],\n  'notes': ['Import batch [development] 2023-01-13 19:35:45.939035',\n   'propvalue>0:M106:height_cm:38.5'],\n  'status': '1',\n  'references': []},\n {'class': 'V',\n  'id': '5b5f362a-75bc-411a-bdc8-300c2c21f90a',\n  'label': '28.5',\n  'language': '',\n  'detail': '',\n  'data': {'logicalType': '1'},\n  'props': [],\n  'notes': ['Import batch [development] 2023-01-13 19:35:45.939035',\n   'propvalue>0:M106:width_cm:28.5'],\n  'status': '1',\n  'references': []},\n {'class': 'V',\n  'id': '312842be-e626-46e3-b371-b7e9ac518996',\n  'label': '161',\n  'language': '',\n  'detail': '',\n  'data': {'logicalType': '1'},\n  'props': [],\n  'notes': ['Import batch [development] 2023-01-13 19:35:45.939035',\n   'propvalue>0:M106:folios_total:161'],\n  'status': '1',\n  'references': []},\n {'class': 'E',\n  'id': 'fd89fb5c-5e5c-4972-bfbb-4e7c75741b2d',\n  'label': 'Creation of Bologna, Biblioteca comunale dell’Archiginnasio, ms. B 1856',\n  'language': '',\n  'detail': '',\n  'data': {'logicalType': '1'},\n  'props': [],\n  'notes': ['Import batch [development] 2023-01-13 19:35:45.939035',\n   'special>:creation_event_id E0001_M106'],\n  'status': '1',\n  'references': [],\n  'legacyId': 'E0001_M106'},\n {'class': 'V',\n  'id': 'b36b1b0d-358d-4485-b291-62f470bff350',\n  'label': '1291',\n  'language': '',\n  'detail': '',\n  'data': {'logicalType': '1'},\n  'props': [],\n  'notes': ['Import batch [development] 2023-01-13 19:35:45.939035',\n   'special>:creation_event_id E0001_M106LegacyId: M106'],\n  'status': '1',\n  'references': []},\n {'class': 'V',\n  'id': '72c312eb-836b-4579-9533-1fcd2b9b08df',\n  'label': '1291',\n  'language': '',\n  'detail': '',\n  'data': {'logicalType': '1'},\n  'props': [],\n  'notes': ['Import batch [development] 2023-01-13 19:35:45.939035',\n   'special>:creation_event_id E0001_M106LegacyId: M106'],\n  'status': '1',\n  'references': []},\n {'class': 'V',\n  'id': '9621380b-2f0d-4fac-bf71-4d60e9d8a252',\n  'label': '1310',\n  'language': '',\n  'detail': '',\n  'data': {'logicalType': '1'},\n  'props': [],\n  'notes': ['Import batch [development] 2023-01-13 19:35:45.939035',\n   'special>:creation_event_id E0001_M106LegacyId: M106'],\n  'status': '1',\n  'references': []},\n {'class': 'V',\n  'id': '4a8f6625-3129-4506-ab38-990af95899f9',\n  'label': '1310',\n  'language': '',\n  'detail': '',\n  'data': {'logicalType': '1'},\n  'props': [],\n  'notes': ['Import batch [development] 2023-01-13 19:35:45.939035',\n   'special>:creation_event_id E0001_M106LegacyId: M106'],\n  'status': '1',\n  'references': []},\n {'class': 'L',\n  'id': '43ed8556-048d-497c-9379-b6c9ab855e23',\n  'label': 'London, British Library',\n  'language': '',\n  'detail': '',\n  'data': {'logicalType': '1'},\n  'props': [],\n  'notes': ['Import batch [development] 2023-01-13 19:35:45.939035',\n   \"Making location 'London, British Library' from M2 by field repository_label.\"],\n  'status': '1',\n  'references': [],\n  'legacyId': 'L_from_M2'},\n {'class': 'V',\n  'id': '67244dd7-90d2-497d-8a74-0227e2f4e470',\n  'label': 'Add MS 4697',\n  'language': '',\n  'detail': '',\n  'data': {'logicalType': '1'},\n  'props': [],\n  'notes': ['Import batch [development] 2023-01-13 19:35:45.939035',\n   'propvalue>1:M2:subcollection_and_shelf_number_concatenated:Add MS 4697'],\n  'status': '1',\n  'references': []},\n {'class': 'V',\n  'id': '659b981a-7fea-487b-b285-c2ca9f78fc6f',\n  'label': 'Plut.I.F',\n  'language': '',\n  'detail': '',\n  'data': {'logicalType': '1'},\n  'props': [],\n  'notes': ['Import batch [development] 2023-01-13 19:35:45.939035',\n   'propvalue>1:M2:alternative_shelf_number:Plut.I.F'],\n  'status': '1',\n  'references': []},\n {'class': 'V',\n  'id': '9ac3de3b-96a7-466a-b4b5-9d31a683e0e6',\n  'label': '36',\n  'language': '',\n  'detail': '',\n  'data': {'logicalType': '1'},\n  'props': [],\n  'notes': ['Import batch [development] 2023-01-13 19:35:45.939035',\n   'propvalue>1:M2:height_cm:36'],\n  'status': '1',\n  'references': []},\n {'class': 'V',\n  'id': 'de30f757-e545-4514-b3c6-59365ce17160',\n  'label': '25',\n  'language': '',\n  'detail': '',\n  'data': {'logicalType': '1'},\n  'props': [],\n  'notes': ['Import batch [development] 2023-01-13 19:35:45.939035',\n   'propvalue>1:M2:width_cm:25'],\n  'status': '1',\n  'references': []},\n {'class': 'V',\n  'id': 'aeb979e9-a1a9-44dd-af0f-c8818166e7b5',\n  'label': '221',\n  'language': '',\n  'detail': '',\n  'data': {'logicalType': '1'},\n  'props': [],\n  'notes': ['Import batch [development] 2023-01-13 19:35:45.939035',\n   'propvalue>1:M2:folios_total:221'],\n  'status': '1',\n  'references': []},\n {'class': 'E',\n  'id': 'b3c8ac0e-c7a2-4874-82d4-ecc80e484578',\n  'label': 'Creation of London, British Library, Add MS 4697',\n  'language': '',\n  'detail': '',\n  'data': {'logicalType': '1'},\n  'props': [],\n  'notes': ['Import batch [development] 2023-01-13 19:35:45.939035',\n   'special>:creation_event_id E0002_M2'],\n  'status': '1',\n  'references': [],\n  'legacyId': 'E0002_M2'},\n {'class': 'V',\n  'id': '5b014258-1f65-46ae-a228-b5d9ca6fbf25',\n  'label': '1308',\n  'language': '',\n  'detail': '',\n  'data': {'logicalType': '1'},\n  'props': [],\n  'notes': ['Import batch [development] 2023-01-13 19:35:45.939035',\n   'special>:creation_event_id E0002_M2LegacyId: M2'],\n  'status': '1',\n  'references': []},\n {'class': 'L',\n  'id': '1dc75533-4d6e-4a45-a0ac-92ba91a2c94d',\n  'label': 'Vaticano, Archivio Segreto Vaticano',\n  'language': '',\n  'detail': '',\n  'data': {'logicalType': '1'},\n  'props': [],\n  'notes': ['Import batch [development] 2023-01-13 19:35:45.939035',\n   \"Making location 'Vaticano, Archivio Segreto Vaticano' from M102 by field repository_label.\"],\n  'status': '1',\n  'references': [],\n  'legacyId': 'L_from_M102'},\n {'class': 'V',\n  'id': 'd56b9998-5c4b-43f5-9edb-ed902bc12589',\n  'label': 'Camera apostolica, Collectoria 133',\n  'language': '',\n  'detail': '',\n  'data': {'logicalType': '1'},\n  'props': [],\n  'notes': ['Import batch [development] 2023-01-13 19:35:45.939035',\n   'propvalue>2:M102:subcollection_and_shelf_number_concatenated:Camera apostolica, Collectoria 133'],\n  'status': '1',\n  'references': []},\n {'class': 'E',\n  'id': 'aa4882d2-3f67-4fe5-9c4f-d8d17bf8464a',\n  'label': 'Creation of Vaticano, Archivio Segreto Vaticano, Camera apostolica, Collectoria 133',\n  'language': '',\n  'detail': '',\n  'data': {'logicalType': '1'},\n  'props': [],\n  'notes': ['Import batch [development] 2023-01-13 19:35:45.939035',\n   'special>:creation_event_id E0003_M102'],\n  'status': '1',\n  'references': [],\n  'legacyId': 'E0003_M102'},\n {'class': 'L',\n  'id': 'dd96a1f8-988c-4ca8-b32f-70cfb1fd9319',\n  'label': 'Modena, Archivio di Stato di Modena',\n  'language': '',\n  'detail': '',\n  'data': {'logicalType': '1'},\n  'props': [],\n  'notes': ['Import batch [development] 2023-01-13 19:35:45.939035',\n   \"Making location 'Modena, Archivio di Stato di Modena' from M104 by field repository_label.\"],\n  'status': '1',\n  'references': [],\n  'legacyId': 'L_from_M104'},\n {'class': 'V',\n  'id': 'c69700f8-4f07-448f-aa38-0008ac08520c',\n  'label': 'Biblioteca, Manoscritti, ms. 132',\n  'language': '',\n  'detail': '',\n  'data': {'logicalType': '1'},\n  'props': [],\n  'notes': ['Import batch [development] 2023-01-13 19:35:45.939035',\n   'propvalue>3:M104:subcollection_and_shelf_number_concatenated:Biblioteca, Manoscritti, ms. 132'],\n  'status': '1',\n  'references': []},\n {'class': 'E',\n  'id': '58f69d94-2819-4574-8011-78383d9cdabd',\n  'label': 'Creation of Modena, Archivio di Stato di Modena, Biblioteca, Manoscritti, ms. 132',\n  'language': '',\n  'detail': '',\n  'data': {'logicalType': '1'},\n  'props': [],\n  'notes': ['Import batch [development] 2023-01-13 19:35:45.939035',\n   'special>:creation_event_id E0004_M104'],\n  'status': '1',\n  'references': [],\n  'legacyId': 'E0004_M104'},\n {'class': 'V',\n  'id': 'ccedc12f-1b36-4c2f-86f9-8d55bd01aa4e',\n  'label': '1480',\n  'language': '',\n  'detail': '',\n  'data': {'logicalType': '1'},\n  'props': [],\n  'notes': ['Import batch [development] 2023-01-13 19:35:45.939035',\n   'special>:creation_event_id E0004_M104LegacyId: M104'],\n  'status': '1',\n  'references': []},\n {'class': 'V',\n  'id': 'a564460b-e47e-4d67-bf17-8b18bdf0b1ee',\n  'label': '1518',\n  'language': '',\n  'detail': '',\n  'data': {'logicalType': '1'},\n  'props': [],\n  'notes': ['Import batch [development] 2023-01-13 19:35:45.939035',\n   'special>:creation_event_id E0004_M104LegacyId: M104'],\n  'status': '1',\n  'references': []},\n {'class': 'L',\n  'id': '16a727a3-cc61-42f2-b267-a58ddd357bc4',\n  'label': 'Carcassonne, Archives départementales de l’Aude',\n  'language': '',\n  'detail': '',\n  'data': {'logicalType': '1'},\n  'props': [],\n  'notes': ['Import batch [development] 2023-01-13 19:35:45.939035',\n   \"Making location 'Carcassonne, Archives départementales de l’Aude' from M4 by field repository_label.\"],\n  'status': '1',\n  'references': [],\n  'legacyId': 'L_from_M4'},\n {'class': 'V',\n  'id': 'f769763f-eae0-46ed-b0bc-a71266281186',\n  'label': 'ms. 3\\xa0J\\xa0596',\n  'language': '',\n  'detail': '',\n  'data': {'logicalType': '1'},\n  'props': [],\n  'notes': ['Import batch [development] 2023-01-13 19:35:45.939035',\n   'propvalue>4:M4:subcollection_and_shelf_number_concatenated:ms. 3\\xa0J\\xa0596'],\n  'status': '1',\n  'references': []},\n {'class': 'E',\n  'id': '368cfeb4-bc78-41e0-8322-a701cf242bfa',\n  'label': 'Creation of Carcassonne, Archives départementales de l’Aude, ms. 3\\xa0J\\xa0596',\n  'language': '',\n  'detail': '',\n  'data': {'logicalType': '1'},\n  'props': [],\n  'notes': ['Import batch [development] 2023-01-13 19:35:45.939035',\n   'special>:creation_event_id E0005_M4'],\n  'status': '1',\n  'references': [],\n  'legacyId': 'E0005_M4'},\n {'class': 'V',\n  'id': '5f0ca546-3c3f-4494-9a99-076537bb762e',\n  'label': '1243',\n  'language': '',\n  'detail': '',\n  'data': {'logicalType': '1'},\n  'props': [],\n  'notes': ['Import batch [development] 2023-01-13 19:35:45.939035',\n   'special>:creation_event_id E0005_M4LegacyId: M4'],\n  'status': '1',\n  'references': []},\n {'class': 'L',\n  'id': '10bd8482-658c-41af-8c81-141a03a30706',\n  'label': 'Toulouse, Archives municipales',\n  'language': '',\n  'detail': '',\n  'data': {'logicalType': '1'},\n  'props': [],\n  'notes': ['Import batch [development] 2023-01-13 19:35:45.939035',\n   \"Making location 'Toulouse, Archives municipales' from M12 by field repository_label.\"],\n  'status': '1',\n  'references': [],\n  'legacyId': 'L_from_M12'},\n {'class': 'V',\n  'id': '1da32b92-3939-44ff-a164-38f9304152cd',\n  'label': 'ms. II\\xa063',\n  'language': '',\n  'detail': '',\n  'data': {'logicalType': '1'},\n  'props': [],\n  'notes': ['Import batch [development] 2023-01-13 19:35:45.939035',\n   'propvalue>5:M12:subcollection_and_shelf_number_concatenated:ms. II\\xa063'],\n  'status': '1',\n  'references': []},\n {'class': 'E',\n  'id': '1715fbf6-a0f1-466f-af18-fd3c5d437cb2',\n  'label': 'Creation of Toulouse, Archives municipales, ms. II\\xa063',\n  'language': '',\n  'detail': '',\n  'data': {'logicalType': '1'},\n  'props': [],\n  'notes': ['Import batch [development] 2023-01-13 19:35:45.939035',\n   'special>:creation_event_id E0006_M12'],\n  'status': '1',\n  'references': [],\n  'legacyId': 'E0006_M12'},\n {'class': 'V',\n  'id': 'a1516fb6-0d71-4535-8691-d96c2b862ba7',\n  'label': '1279',\n  'language': '',\n  'detail': '',\n  'data': {'logicalType': '1'},\n  'props': [],\n  'notes': ['Import batch [development] 2023-01-13 19:35:45.939035',\n   'special>:creation_event_id E0006_M12LegacyId: M12'],\n  'status': '1',\n  'references': []},\n {'class': 'V',\n  'id': '404742db-31eb-4471-a491-ffed57d84a95',\n  'label': '1279',\n  'language': '',\n  'detail': '',\n  'data': {'logicalType': '1'},\n  'props': [],\n  'notes': ['Import batch [development] 2023-01-13 19:35:45.939035',\n   'special>:creation_event_id E0006_M12LegacyId: M12'],\n  'status': '1',\n  'references': []},\n {'class': 'V',\n  'id': '8fb9d6c2-b935-4771-b38b-218e49280c5c',\n  'label': 'ms. AA 34 3',\n  'language': '',\n  'detail': '',\n  'data': {'logicalType': '1'},\n  'props': [],\n  'notes': ['Import batch [development] 2023-01-13 19:35:45.939035',\n   'propvalue>6:M13:subcollection_and_shelf_number_concatenated:ms. AA 34 3'],\n  'status': '1',\n  'references': []},\n {'class': 'E',\n  'id': '34f7b7be-b233-44e3-b23f-799894025ebf',\n  'label': 'Creation of Toulouse, Archives municipales, ms. AA 34 3',\n  'language': '',\n  'detail': '',\n  'data': {'logicalType': '1'},\n  'props': [],\n  'notes': ['Import batch [development] 2023-01-13 19:35:45.939035',\n   'special>:creation_event_id E0007_M13'],\n  'status': '1',\n  'references': [],\n  'legacyId': 'E0007_M13'},\n {'class': 'V',\n  'id': '5233fd29-bb73-441c-a1cb-cda728fb240d',\n  'label': '1279',\n  'language': '',\n  'detail': '',\n  'data': {'logicalType': '1'},\n  'props': [],\n  'notes': ['Import batch [development] 2023-01-13 19:35:45.939035',\n   'special>:creation_event_id E0007_M13LegacyId: M13'],\n  'status': '1',\n  'references': []},\n {'class': 'V',\n  'id': 'b0d94369-72f4-4f73-834d-9270585dcc5a',\n  'label': '1279',\n  'language': '',\n  'detail': '',\n  'data': {'logicalType': '1'},\n  'props': [],\n  'notes': ['Import batch [development] 2023-01-13 19:35:45.939035',\n   'special>:creation_event_id E0007_M13LegacyId: M13'],\n  'status': '1',\n  'references': []},\n {'class': 'L',\n  'id': '549398c0-98af-448a-b04a-88957d0e264c',\n  'label': 'Toulouse, Archives départementales de la Haute-Garonne',\n  'language': '',\n  'detail': '',\n  'data': {'logicalType': '1'},\n  'props': [],\n  'notes': ['Import batch [development] 2023-01-13 19:35:45.939035',\n   \"Making location 'Toulouse, Archives départementales de la Haute-Garonne' from M8 by field repository_label.\"],\n  'status': '1',\n  'references': [],\n  'legacyId': 'L_from_M8'},\n {'class': 'V',\n  'id': 'e6a3df45-31d3-4b00-8e5c-1ad0f7131de9',\n  'label': 'ms. 124',\n  'language': '',\n  'detail': '',\n  'data': {'logicalType': '1'},\n  'props': [],\n  'notes': ['Import batch [development] 2023-01-13 19:35:45.939035',\n   'propvalue>7:M8:subcollection_and_shelf_number_concatenated:ms. 124'],\n  'status': '1',\n  'references': []},\n {'class': 'E',\n  'id': 'fff3659b-49c4-42cf-ab5c-b207780921d5',\n  'label': 'Creation of Toulouse, Archives départementales de la Haute-Garonne, ms. 124',\n  'language': '',\n  'detail': '',\n  'data': {'logicalType': '1'},\n  'props': [],\n  'notes': ['Import batch [development] 2023-01-13 19:35:45.939035',\n   'special>:creation_event_id E0008_M8'],\n  'status': '1',\n  'references': [],\n  'legacyId': 'E0008_M8'},\n {'class': 'V',\n  'id': 'e4143b09-c51c-4054-a894-1f21e7a7250e',\n  'label': 'ms. 202',\n  'language': '',\n  'detail': '',\n  'data': {'logicalType': '1'},\n  'props': [],\n  'notes': ['Import batch [development] 2023-01-13 19:35:45.939035',\n   'propvalue>8:M9:subcollection_and_shelf_number_concatenated:ms. 202'],\n  'status': '1',\n  'references': []},\n {'class': 'E',\n  'id': '43c196e8-c6e4-4ddb-aad9-a4d66ffb7b7a',\n  'label': 'Creation of Toulouse, Archives départementales de la Haute-Garonne, ms. 202',\n  'language': '',\n  'detail': '',\n  'data': {'logicalType': '1'},\n  'props': [],\n  'notes': ['Import batch [development] 2023-01-13 19:35:45.939035',\n   'special>:creation_event_id E0009_M9'],\n  'status': '1',\n  'references': [],\n  'legacyId': 'E0009_M9'},\n {'class': 'E',\n  'id': 'e4dcf329-f634-4f2d-a7f5-914d4c665f8d',\n  'label': 'Creation of Toulouse, Archives départementales de la Haute-Garonne, ',\n  'language': '',\n  'detail': '',\n  'data': {'logicalType': '1'},\n  'props': [],\n  'notes': ['Import batch [development] 2023-01-13 19:35:45.939035',\n   'special>:creation_event_id E0010_M10'],\n  'status': '1',\n  'references': [],\n  'legacyId': 'E0010_M10'},\n {'class': 'V',\n  'id': '3f9e7b17-7c63-4eae-a4da-b23afc0f247c',\n  'label': '1256',\n  'language': '',\n  'detail': '',\n  'data': {'logicalType': '1'},\n  'props': [],\n  'notes': ['Import batch [development] 2023-01-13 19:35:45.939035',\n   'special>:creation_event_id E0010_M10LegacyId: M10'],\n  'status': '1',\n  'references': []},\n {'class': 'L',\n  'id': 'b1b5e52f-f685-4bf3-8e27-aa1428df4b3b',\n  'label': 'Carcassonne, Bibliothèque municipale',\n  'language': '',\n  'detail': '',\n  'data': {'logicalType': '1'},\n  'props': [],\n  'notes': ['Import batch [development] 2023-01-13 19:35:45.939035',\n   \"Making location 'Carcassonne, Bibliothèque municipale' from M11 by field repository_label.\"],\n  'status': '1',\n  'references': [],\n  'legacyId': 'L_from_M11'},\n {'class': 'V',\n  'id': '070e8c81-f6b7-41ba-8231-62db6b4b548c',\n  'label': 'ms. Mb 161',\n  'language': '',\n  'detail': '',\n  'data': {'logicalType': '1'},\n  'props': [],\n  'notes': ['Import batch [development] 2023-01-13 19:35:45.939035',\n   'propvalue>10:M11:subcollection_and_shelf_number_concatenated:ms. Mb 161'],\n  'status': '1',\n  'references': []},\n {'class': 'V',\n  'id': 'c1a96c3d-19e5-4fac-88ff-d117cfd756c8',\n  'label': '2',\n  'language': '',\n  'detail': '',\n  'data': {'logicalType': '1'},\n  'props': [],\n  'notes': ['Import batch [development] 2023-01-13 19:35:45.939035',\n   'propvalue>10:M11:folios_total:2'],\n  'status': '1',\n  'references': []},\n {'class': 'E',\n  'id': 'e817ecfb-21a4-4468-8c99-7b26c6a93cdb',\n  'label': 'Creation of Carcassonne, Bibliothèque municipale, ms. Mb 161',\n  'language': '',\n  'detail': '',\n  'data': {'logicalType': '1'},\n  'props': [],\n  'notes': ['Import batch [development] 2023-01-13 19:35:45.939035',\n   'special>:creation_event_id E0011_M11'],\n  'status': '1',\n  'references': [],\n  'legacyId': 'E0011_M11'},\n {'class': 'V',\n  'id': '0ceefa4e-2220-47bb-99ba-78bd52935a9b',\n  'label': '1266',\n  'language': '',\n  'detail': '',\n  'data': {'logicalType': '1'},\n  'props': [],\n  'notes': ['Import batch [development] 2023-01-13 19:35:45.939035',\n   'special>:creation_event_id E0011_M11LegacyId: M11'],\n  'status': '1',\n  'references': []},\n {'class': 'V',\n  'id': '80dff84e-fade-4e2e-9d4a-bf1c1c4e4552',\n  'label': '1266',\n  'language': '',\n  'detail': '',\n  'data': {'logicalType': '1'},\n  'props': [],\n  'notes': ['Import batch [development] 2023-01-13 19:35:45.939035',\n   'special>:creation_event_id E0011_M11LegacyId: M11'],\n  'status': '1',\n  'references': []},\n {'class': 'V',\n  'id': '6c2e6f7b-b852-48dd-854d-1db2be258cb0',\n  'label': '1270',\n  'language': '',\n  'detail': '',\n  'data': {'logicalType': '1'},\n  'props': [],\n  'notes': ['Import batch [development] 2023-01-13 19:35:45.939035',\n   'special>:creation_event_id E0011_M11LegacyId: M11'],\n  'status': '1',\n  'references': []},\n {'class': 'V',\n  'id': '4a5f5ab3-161a-406a-bb8e-aa4c6b67946f',\n  'label': '1270',\n  'language': '',\n  'detail': '',\n  'data': {'logicalType': '1'},\n  'props': [],\n  'notes': ['Import batch [development] 2023-01-13 19:35:45.939035',\n   'special>:creation_event_id E0011_M11LegacyId: M11'],\n  'status': '1',\n  'references': []},\n {'class': 'L',\n  'id': '7e1fcdbf-b777-4780-9765-b265b0f7abb3',\n  'label': 'Paris, Bibliothèque nationale de France',\n  'language': '',\n  'detail': '',\n  'data': {'logicalType': '1'},\n  'props': [],\n  'notes': ['Import batch [development] 2023-01-13 19:35:45.939035',\n   \"Making location 'Paris, Bibliothèque nationale de France' from M21 by field repository_label.\"],\n  'status': '1',\n  'references': [],\n  'legacyId': 'L_from_M21'},\n {'class': 'V',\n  'id': 'cc47bfcd-a2d5-4474-a1cb-d3de3d621955',\n  'label': 'fonds Doat, vol. 21',\n  'language': '',\n  'detail': '',\n  'data': {'logicalType': '1'},\n  'props': [],\n  'notes': ['Import batch [development] 2023-01-13 19:35:45.939035',\n   'propvalue>11:M21:subcollection_and_shelf_number_concatenated:fonds Doat, vol. 21'],\n  'status': '1',\n  'references': []},\n {'class': 'E',\n  'id': '8cf7c2da-98eb-4b4f-a158-08703fd770cd',\n  'label': 'Creation of Paris, Bibliothèque nationale de France, fonds Doat, vol. 21',\n  'language': '',\n  'detail': '',\n  'data': {'logicalType': '1'},\n  'props': [],\n  'notes': ['Import batch [development] 2023-01-13 19:35:45.939035',\n   'special>:creation_event_id E0012_M21'],\n  'status': '1',\n  'references': [],\n  'legacyId': 'E0012_M21'},\n {'class': 'R',\n  'id': '35a13dc0-783a-466d-9850-71c50b1f528d',\n  'label': 'Reproduction of Paris, Bibliothèque nationale de France, fonds Doat, vol. 21',\n  'language': '',\n  'detail': '',\n  'data': {'url': 'https://gallica.bnf.fr/ark:/12148/btv1b10035999g',\n   'partValueBaseURL': '',\n   'partValueLabel': ''},\n  'props': [],\n  'notes': ['Import batch [development] 2023-01-13 19:35:45.939035'],\n  'status': '1',\n  'references': []},\n {'class': 'V',\n  'id': 'debd0d87-fe5c-4c2b-af13-b1ddf85e4839',\n  'label': 'fonds Doat, vol. 22',\n  'language': '',\n  'detail': '',\n  'data': {'logicalType': '1'},\n  'props': [],\n  'notes': ['Import batch [development] 2023-01-13 19:35:45.939035',\n   'propvalue>12:M22:subcollection_and_shelf_number_concatenated:fonds Doat, vol. 22'],\n  'status': '1',\n  'references': []},\n {'class': 'E',\n  'id': '57838f8c-237d-4432-86e2-64ccb8c3f8d3',\n  'label': 'Creation of Paris, Bibliothèque nationale de France, fonds Doat, vol. 22',\n  'language': '',\n  'detail': '',\n  'data': {'logicalType': '1'},\n  'props': [],\n  'notes': ['Import batch [development] 2023-01-13 19:35:45.939035',\n   'special>:creation_event_id E0013_M22'],\n  'status': '1',\n  'references': [],\n  'legacyId': 'E0013_M22'},\n {'class': 'V',\n  'id': 'c96ec7fe-eb99-4b57-8745-f973edd458cb',\n  'label': 'fonds Doat, vol. 23',\n  'language': '',\n  'detail': '',\n  'data': {'logicalType': '1'},\n  'props': [],\n  'notes': ['Import batch [development] 2023-01-13 19:35:45.939035',\n   'propvalue>13:M23:subcollection_and_shelf_number_concatenated:fonds Doat, vol. 23'],\n  'status': '1',\n  'references': []},\n {'class': 'E',\n  'id': '7c70b959-b22f-4f38-9328-d310c45bd48d',\n  'label': 'Creation of Paris, Bibliothèque nationale de France, fonds Doat, vol. 23',\n  'language': '',\n  'detail': '',\n  'data': {'logicalType': '1'},\n  'props': [],\n  'notes': ['Import batch [development] 2023-01-13 19:35:45.939035',\n   'special>:creation_event_id E0014_M23'],\n  'status': '1',\n  'references': [],\n  'legacyId': 'E0014_M23'},\n {'class': 'V',\n  'id': '128acc9b-f42f-452d-8900-73188009bbbb',\n  'label': 'fonds Doat, vol. 24',\n  'language': '',\n  'detail': '',\n  'data': {'logicalType': '1'},\n  'props': [],\n  'notes': ['Import batch [development] 2023-01-13 19:35:45.939035',\n   'propvalue>14:M24:subcollection_and_shelf_number_concatenated:fonds Doat, vol. 24'],\n  'status': '1',\n  'references': []},\n {'class': 'E',\n  'id': '6f671ac8-92e7-4214-b1bd-f41c5d5dfd56',\n  'label': 'Creation of Paris, Bibliothèque nationale de France, fonds Doat, vol. 24',\n  'language': '',\n  'detail': '',\n  'data': {'logicalType': '1'},\n  'props': [],\n  'notes': ['Import batch [development] 2023-01-13 19:35:45.939035',\n   'special>:creation_event_id E0015_M24'],\n  'status': '1',\n  'references': [],\n  'legacyId': 'E0015_M24'},\n {'class': 'R',\n  'id': 'f9ccdfa5-0ec6-4c38-8fcf-38cc1d69b08a',\n  'label': 'Reproduction of Paris, Bibliothèque nationale de France, fonds Doat, vol. 24',\n  'language': '',\n  'detail': '',\n  'data': {'url': 'https://gallica.bnf.fr/ark:/12148/btv1b10036000n',\n   'partValueBaseURL': '',\n   'partValueLabel': ''},\n  'props': [],\n  'notes': ['Import batch [development] 2023-01-13 19:35:45.939035'],\n  'status': '1',\n  'references': []},\n {'class': 'V',\n  'id': '91912788-25b2-4c2e-833e-54c86a90276b',\n  'label': 'fonds Doat, vol. 25',\n  'language': '',\n  'detail': '',\n  'data': {'logicalType': '1'},\n  'props': [],\n  'notes': ['Import batch [development] 2023-01-13 19:35:45.939035',\n   'propvalue>15:M25:subcollection_and_shelf_number_concatenated:fonds Doat, vol. 25'],\n  'status': '1',\n  'references': []},\n {'class': 'E',\n  'id': 'fa16335e-7f3c-4c0c-adb1-91d1ffd3d999',\n  'label': 'Creation of Paris, Bibliothèque nationale de France, fonds Doat, vol. 25',\n  'language': '',\n  'detail': '',\n  'data': {'logicalType': '1'},\n  'props': [],\n  'notes': ['Import batch [development] 2023-01-13 19:35:45.939035',\n   'special>:creation_event_id E0016_M25'],\n  'status': '1',\n  'references': [],\n  'legacyId': 'E0016_M25'},\n {'class': 'R',\n  'id': '87415887-5f79-44fa-992e-c1dd99258ab0',\n  'label': 'Reproduction of Paris, Bibliothèque nationale de France, fonds Doat, vol. 25',\n  'language': '',\n  'detail': '',\n  'data': {'url': 'https://gallica.bnf.fr/ark:/12148/btv1b100365190',\n   'partValueBaseURL': '',\n   'partValueLabel': ''},\n  'props': [],\n  'notes': ['Import batch [development] 2023-01-13 19:35:45.939035'],\n  'status': '1',\n  'references': []},\n {'class': 'V',\n  'id': '25f82aef-76cc-464e-b691-61295c6c0560',\n  'label': 'fonds Doat, vol. 26',\n  'language': '',\n  'detail': '',\n  'data': {'logicalType': '1'},\n  'props': [],\n  'notes': ['Import batch [development] 2023-01-13 19:35:45.939035',\n   'propvalue>16:M26:subcollection_and_shelf_number_concatenated:fonds Doat, vol. 26'],\n  'status': '1',\n  'references': []},\n {'class': 'E',\n  'id': 'f4ee10c5-6cb2-490e-9676-ff10a7d9f3c6',\n  'label': 'Creation of Paris, Bibliothèque nationale de France, fonds Doat, vol. 26',\n  'language': '',\n  'detail': '',\n  'data': {'logicalType': '1'},\n  'props': [],\n  'notes': ['Import batch [development] 2023-01-13 19:35:45.939035',\n   'special>:creation_event_id E0017_M26'],\n  'status': '1',\n  'references': [],\n  'legacyId': 'E0017_M26'},\n {'class': 'R',\n  'id': '27b0f570-72aa-4adb-810d-266f03bb9b47',\n  'label': 'Reproduction of Paris, Bibliothèque nationale de France, fonds Doat, vol. 26',\n  'language': '',\n  'detail': '',\n  'data': {'url': 'https://gallica.bnf.fr/ark:/12148/btv1b100361092',\n   'partValueBaseURL': '',\n   'partValueLabel': ''},\n  'props': [],\n  'notes': ['Import batch [development] 2023-01-13 19:35:45.939035'],\n  'status': '1',\n  'references': []},\n {'class': 'V',\n  'id': 'f42e2bbd-a375-4a97-866c-47dde88b9c4c',\n  'label': 'fonds Doat, vol. 27',\n  'language': '',\n  'detail': '',\n  'data': {'logicalType': '1'},\n  'props': [],\n  'notes': ['Import batch [development] 2023-01-13 19:35:45.939035',\n   'propvalue>17:M27:subcollection_and_shelf_number_concatenated:fonds Doat, vol. 27'],\n  'status': '1',\n  'references': []},\n {'class': 'E',\n  'id': '3fd975f0-3190-44b7-b781-0cd258f19fcb',\n  'label': 'Creation of Paris, Bibliothèque nationale de France, fonds Doat, vol. 27',\n  'language': '',\n  'detail': '',\n  'data': {'logicalType': '1'},\n  'props': [],\n  'notes': ['Import batch [development] 2023-01-13 19:35:45.939035',\n   'special>:creation_event_id E0018_M27'],\n  'status': '1',\n  'references': [],\n  'legacyId': 'E0018_M27'},\n {'class': 'V',\n  'id': '89858bc8-4bd5-4d92-af1d-50cf4dfe8621',\n  'label': 'fonds Doat, vol. 28',\n  'language': '',\n  'detail': '',\n  'data': {'logicalType': '1'},\n  'props': [],\n  'notes': ['Import batch [development] 2023-01-13 19:35:45.939035',\n   'propvalue>18:M28:subcollection_and_shelf_number_concatenated:fonds Doat, vol. 28'],\n  'status': '1',\n  'references': []},\n {'class': 'E',\n  'id': '5865ff68-c962-4725-809c-c2fb7c36a5c6',\n  'label': 'Creation of Paris, Bibliothèque nationale de France, fonds Doat, vol. 28',\n  'language': '',\n  'detail': '',\n  'data': {'logicalType': '1'},\n  'props': [],\n  'notes': ['Import batch [development] 2023-01-13 19:35:45.939035',\n   'special>:creation_event_id E0019_M28'],\n  'status': '1',\n  'references': [],\n  'legacyId': 'E0019_M28'},\n {'class': 'V',\n  'id': 'a3b75691-b1fa-48ab-bd39-fe08d729cc7a',\n  'label': 'fonds Doat, vol. 29',\n  'language': '',\n  'detail': '',\n  'data': {'logicalType': '1'},\n  'props': [],\n  'notes': ['Import batch [development] 2023-01-13 19:35:45.939035',\n   'propvalue>19:M29:subcollection_and_shelf_number_concatenated:fonds Doat, vol. 29'],\n  'status': '1',\n  'references': []},\n {'class': 'E',\n  'id': 'a8b30a9a-5d22-4e60-bc0c-0f30e6883bb4',\n  'label': 'Creation of Paris, Bibliothèque nationale de France, fonds Doat, vol. 29',\n  'language': '',\n  'detail': '',\n  'data': {'logicalType': '1'},\n  'props': [],\n  'notes': ['Import batch [development] 2023-01-13 19:35:45.939035',\n   'special>:creation_event_id E0020_M29'],\n  'status': '1',\n  'references': [],\n  'legacyId': 'E0020_M29'},\n {'class': 'V',\n  'id': '8c8d921c-c617-4a6b-a676-67f9c5fa9787',\n  'label': 'fonds Doat, vol. 30',\n  'language': '',\n  'detail': '',\n  'data': {'logicalType': '1'},\n  'props': [],\n  'notes': ['Import batch [development] 2023-01-13 19:35:45.939035',\n   'propvalue>20:M30:subcollection_and_shelf_number_concatenated:fonds Doat, vol. 30'],\n  'status': '1',\n  'references': []},\n {'class': 'E',\n  'id': '853682ad-f13e-47ad-a760-0281eb75c849',\n  'label': 'Creation of Paris, Bibliothèque nationale de France, fonds Doat, vol. 30',\n  'language': '',\n  'detail': '',\n  'data': {'logicalType': '1'},\n  'props': [],\n  'notes': ['Import batch [development] 2023-01-13 19:35:45.939035',\n   'special>:creation_event_id E0021_M30'],\n  'status': '1',\n  'references': [],\n  'legacyId': 'E0021_M30'},\n {'class': 'V',\n  'id': '4e0d867b-590f-4e56-a43a-37e8441f197a',\n  'label': 'fonds Doat, vol. 31',\n  'language': '',\n  'detail': '',\n  'data': {'logicalType': '1'},\n  'props': [],\n  'notes': ['Import batch [development] 2023-01-13 19:35:45.939035',\n   'propvalue>21:M31:subcollection_and_shelf_number_concatenated:fonds Doat, vol. 31'],\n  'status': '1',\n  'references': []},\n {'class': 'E',\n  'id': '8e1dbf3a-125a-4ef5-bb82-53b24a73c344',\n  'label': 'Creation of Paris, Bibliothèque nationale de France, fonds Doat, vol. 31',\n  'language': '',\n  'detail': '',\n  'data': {'logicalType': '1'},\n  'props': [],\n  'notes': ['Import batch [development] 2023-01-13 19:35:45.939035',\n   'special>:creation_event_id E0022_M31'],\n  'status': '1',\n  'references': [],\n  'legacyId': 'E0022_M31'},\n {'class': 'V',\n  'id': 'b04a37de-e8d9-49ac-b6ba-1af8ba114634',\n  'label': 'fonds Doat, vol. 32',\n  'language': '',\n  'detail': '',\n  'data': {'logicalType': '1'},\n  'props': [],\n  'notes': ['Import batch [development] 2023-01-13 19:35:45.939035',\n   'propvalue>22:M32:subcollection_and_shelf_number_concatenated:fonds Doat, vol. 32'],\n  'status': '1',\n  'references': []},\n {'class': 'E',\n  'id': '9b6f4200-c1e7-4002-bd6d-058d61f7cdbf',\n  'label': 'Creation of Paris, Bibliothèque nationale de France, fonds Doat, vol. 32',\n  'language': '',\n  'detail': '',\n  'data': {'logicalType': '1'},\n  'props': [],\n  'notes': ['Import batch [development] 2023-01-13 19:35:45.939035',\n   'special>:creation_event_id E0023_M32'],\n  'status': '1',\n  'references': [],\n  'legacyId': 'E0023_M32'},\n {'class': 'V',\n  'id': '1481973f-1bba-48e2-bd0f-a293356f80f3',\n  'label': 'fonds Doat, vol. 33',\n  'language': '',\n  'detail': '',\n  'data': {'logicalType': '1'},\n  'props': [],\n  'notes': ['Import batch [development] 2023-01-13 19:35:45.939035',\n   'propvalue>23:M33:subcollection_and_shelf_number_concatenated:fonds Doat, vol. 33'],\n  'status': '1',\n  'references': []},\n {'class': 'E',\n  'id': '05db3789-926d-43a1-a0bb-8c84521417b6',\n  'label': 'Creation of Paris, Bibliothèque nationale de France, fonds Doat, vol. 33',\n  'language': '',\n  'detail': '',\n  'data': {'logicalType': '1'},\n  'props': [],\n  'notes': ['Import batch [development] 2023-01-13 19:35:45.939035',\n   'special>:creation_event_id E0024_M33'],\n  'status': '1',\n  'references': [],\n  'legacyId': 'E0024_M33'},\n {'class': 'V',\n  'id': 'f84d9893-b51f-424d-bb0a-3aaf3ad77b74',\n  'label': 'fonds Doat, vol. 34',\n  'language': '',\n  'detail': '',\n  'data': {'logicalType': '1'},\n  'props': [],\n  'notes': ['Import batch [development] 2023-01-13 19:35:45.939035',\n   'propvalue>24:M34:subcollection_and_shelf_number_concatenated:fonds Doat, vol. 34'],\n  'status': '1',\n  'references': []},\n {'class': 'E',\n  'id': '005e1885-cb49-4b3a-b295-32834e8ec3d4',\n  'label': 'Creation of Paris, Bibliothèque nationale de France, fonds Doat, vol. 34',\n  'language': '',\n  'detail': '',\n  'data': {'logicalType': '1'},\n  'props': [],\n  'notes': ['Import batch [development] 2023-01-13 19:35:45.939035',\n   'special>:creation_event_id E0025_M34'],\n  'status': '1',\n  'references': [],\n  'legacyId': 'E0025_M34'},\n {'class': 'V',\n  'id': '54c7538b-539f-4b23-b0ff-887549340e27',\n  'label': 'fonds Doat, vol. 35',\n  'language': '',\n  'detail': '',\n  'data': {'logicalType': '1'},\n  'props': [],\n  'notes': ['Import batch [development] 2023-01-13 19:35:45.939035',\n   'propvalue>25:M35:subcollection_and_shelf_number_concatenated:fonds Doat, vol. 35'],\n  'status': '1',\n  'references': []},\n {'class': 'E',\n  'id': '7ac6962a-b538-4c6a-ab54-25ced28f491f',\n  'label': 'Creation of Paris, Bibliothèque nationale de France, fonds Doat, vol. 35',\n  'language': '',\n  'detail': '',\n  'data': {'logicalType': '1'},\n  'props': [],\n  'notes': ['Import batch [development] 2023-01-13 19:35:45.939035',\n   'special>:creation_event_id E0026_M35'],\n  'status': '1',\n  'references': [],\n  'legacyId': 'E0026_M35'},\n {'class': 'V',\n  'id': '47204183-25f1-4fea-8cd8-3b11a1869ab0',\n  'label': 'fonds Doat, vol. 36',\n  'language': '',\n  'detail': '',\n  'data': {'logicalType': '1'},\n  'props': [],\n  'notes': ['Import batch [development] 2023-01-13 19:35:45.939035',\n   'propvalue>26:M36:subcollection_and_shelf_number_concatenated:fonds Doat, vol. 36'],\n  'status': '1',\n  'references': []},\n {'class': 'E',\n  'id': '1c0437bf-01b7-440a-a7a6-19d5b756e78f',\n  'label': 'Creation of Paris, Bibliothèque nationale de France, fonds Doat, vol. 36',\n  'language': '',\n  'detail': '',\n  'data': {'logicalType': '1'},\n  'props': [],\n  'notes': ['Import batch [development] 2023-01-13 19:35:45.939035',\n   'special>:creation_event_id E0027_M36'],\n  'status': '1',\n  'references': [],\n  'legacyId': 'E0027_M36'},\n {'class': 'V',\n  'id': '89d71513-802b-4a70-935d-b6f4790a5f22',\n  'label': 'fonds Doat, vol. 37',\n  'language': '',\n  'detail': '',\n  'data': {'logicalType': '1'},\n  'props': [],\n  'notes': ['Import batch [development] 2023-01-13 19:35:45.939035',\n   'propvalue>27:M37:subcollection_and_shelf_number_concatenated:fonds Doat, vol. 37'],\n  'status': '1',\n  'references': []},\n {'class': 'E',\n  'id': 'b8b34217-c452-4c20-bea7-dbcd55c54ee4',\n  'label': 'Creation of Paris, Bibliothèque nationale de France, fonds Doat, vol. 37',\n  'language': '',\n  'detail': '',\n  'data': {'logicalType': '1'},\n  'props': [],\n  'notes': ['Import batch [development] 2023-01-13 19:35:45.939035',\n   'special>:creation_event_id E0028_M37'],\n  'status': '1',\n  'references': [],\n  'legacyId': 'E0028_M37'},\n {'class': 'L',\n  'id': '8b081d55-dfc4-4d12-9cd9-d4ea0699e72e',\n  'label': 'Milano, Archivio dell’Amministrazione delle Istituzioni pubbliche di assistenza e beneficenza, ex Ente comunale d’assistenza di Milano',\n  'language': '',\n  'detail': '',\n  'data': {'logicalType': '1'},\n  'props': [],\n  'notes': ['Import batch [development] 2023-01-13 19:35:45.939035',\n   \"Making location 'Milano, Archivio dell’Amministrazione delle Istituzioni pubbliche di assistenza e beneficenza, ex Ente comunale d’assistenza di Milano' from M105 by field repository_label.\"],\n  'status': '1',\n  'references': [],\n  'legacyId': 'L_from_M105'},\n {'class': 'V',\n  'id': 'ed462776-a31c-4791-8867-d1179766972e',\n  'label': 'Comuni, Arti e scienze, Culto, ms. 164',\n  'language': '',\n  'detail': '',\n  'data': {'logicalType': '1'},\n  'props': [],\n  'notes': ['Import batch [development] 2023-01-13 19:35:45.939035',\n   'propvalue>28:M105:subcollection_and_shelf_number_concatenated:Comuni, Arti e scienze, Culto, ms. 164'],\n  'status': '1',\n  'references': []},\n {'class': 'V',\n  'id': 'aedc8e25-1730-479b-82c6-eb94b43054cc',\n  'label': '1',\n  'language': '',\n  'detail': '',\n  'data': {'logicalType': '1'},\n  'props': [],\n  'notes': ['Import batch [development] 2023-01-13 19:35:45.939035',\n   'propvalue>28:M105:folios_total:1'],\n  'status': '1',\n  'references': []},\n {'class': 'E',\n  'id': '04026518-4263-496b-a0bb-b08415e32f9c',\n  'label': 'Creation of Milano, Archivio dell’Amministrazione delle Istituzioni pubbliche di assistenza e beneficenza, ex Ente comunale d’assistenza di Milano, Comuni, Arti e scienze, Culto, ms. 164',\n  'language': '',\n  'detail': '',\n  'data': {'logicalType': '1'},\n  'props': [],\n  'notes': ['Import batch [development] 2023-01-13 19:35:45.939035',\n   'special>:creation_event_id E0029_M105'],\n  'status': '1',\n  'references': [],\n  'legacyId': 'E0029_M105'},\n {'class': 'V',\n  'id': 'e353b246-4ccf-4711-8e82-b71e72673a36',\n  'label': '1288',\n  'language': '',\n  'detail': '',\n  'data': {'logicalType': '1'},\n  'props': [],\n  'notes': ['Import batch [development] 2023-01-13 19:35:45.939035',\n   'special>:creation_event_id E0029_M105LegacyId: M105'],\n  'status': '1',\n  'references': []},\n {'class': 'V',\n  'id': '3746c59f-2735-4756-9567-ae4df1cba8e1',\n  'label': '1301',\n  'language': '',\n  'detail': '',\n  'data': {'logicalType': '1'},\n  'props': [],\n  'notes': ['Import batch [development] 2023-01-13 19:35:45.939035',\n   'special>:creation_event_id E0029_M105LegacyId: M105'],\n  'status': '1',\n  'references': []},\n {'class': 'L',\n  'id': '1bd593d8-7364-4888-81f5-63f7396a585a',\n  'label': 'Foix, Archives départementales de l’Ariège',\n  'language': '',\n  'detail': '',\n  'data': {'logicalType': '1'},\n  'props': [],\n  'notes': ['Import batch [development] 2023-01-13 19:35:45.939035',\n   \"Making location 'Foix, Archives départementales de l’Ariège' from M19 by field repository_label.\"],\n  'status': '1',\n  'references': [],\n  'legacyId': 'L_from_M19'},\n {'class': 'V',\n  'id': '30e6bd48-3848-4b37-aa9a-f05b0b1a8406',\n  'label': 'ms. 1 J 128',\n  'language': '',\n  'detail': '',\n  'data': {'logicalType': '1'},\n  'props': [],\n  'notes': ['Import batch [development] 2023-01-13 19:35:45.939035',\n   'propvalue>29:M19:subcollection_and_shelf_number_concatenated:ms. 1 J 128 '],\n  'status': '1',\n  'references': []},\n {'class': 'E',\n  'id': '7eba4e31-3876-45f3-b5d3-b6bf763c2d65',\n  'label': 'Creation of Foix, Archives départementales de l’Ariège, ms. 1 J 128 ',\n  'language': '',\n  'detail': '',\n  'data': {'logicalType': '1'},\n  'props': [],\n  'notes': ['Import batch [development] 2023-01-13 19:35:45.939035',\n   'special>:creation_event_id E0030_M19'],\n  'status': '1',\n  'references': [],\n  'legacyId': 'E0030_M19'},\n {'class': 'V',\n  'id': '84af287b-e0e6-46fa-8a4f-b2b2f20a7122',\n  'label': '1320',\n  'language': '',\n  'detail': '',\n  'data': {'logicalType': '1'},\n  'props': [],\n  'notes': ['Import batch [development] 2023-01-13 19:35:45.939035',\n   'special>:creation_event_id E0030_M19LegacyId: M19'],\n  'status': '1',\n  'references': []},\n {'class': 'V',\n  'id': 'a264bde0-6676-41da-95a0-b4ce7212a3a9',\n  'label': '1320',\n  'language': '',\n  'detail': '',\n  'data': {'logicalType': '1'},\n  'props': [],\n  'notes': ['Import batch [development] 2023-01-13 19:35:45.939035',\n   'special>:creation_event_id E0030_M19LegacyId: M19'],\n  'status': '1',\n  'references': []},\n {'class': 'L',\n  'id': 'fc56b0d4-1683-4647-a00c-a53c40c5e7f1',\n  'label': 'Firenze, Archivio di Stato di Firenze',\n  'language': '',\n  'detail': '',\n  'data': {'logicalType': '1'},\n  'props': [],\n  'notes': ['Import batch [development] 2023-01-13 19:35:45.939035',\n   \"Making location 'Firenze, Archivio di Stato di Firenze' from M100 by field repository_label.\"],\n  'status': '1',\n  'references': [],\n  'legacyId': 'L_from_M100'},\n {'class': 'V',\n  'id': '8f73fa7e-a75c-4b64-813b-28c544021b4f',\n  'label': 'Diplomatico, Santa Maria Novella, 1244: gennaio 26, gennaio 31 doc. 2; 1245: .. .. (image 00013575), .. .. (image 00013576), .. .. (image 00013577), .. .. (image 00013578), gennaio 30, aprile 26, giugno 6, agosto 11, agosto 12, agosto 13, agosto 24 doc .1, agosto 24 doc. 2, ottobre 12 doc. 1, ottobre 12 doc. 2,',\n  'language': '',\n  'detail': '',\n  'data': {'logicalType': '1'},\n  'props': [],\n  'notes': ['Import batch [development] 2023-01-13 19:35:45.939035',\n   'propvalue>30:M100:subcollection_and_shelf_number_concatenated:Diplomatico, Santa Maria Novella, 1244: gennaio 26, gennaio 31 doc. 2; 1245: .. .. (image 00013575), .. .. (image 00013576), .. .. (image 00013577), .. .. (image 00013578), gennaio 30, aprile 26, giugno 6, agosto 11, agosto 12, agosto 13, agosto 24 doc .1, agosto 24 doc. 2, ottobre 12 doc. 1, ottobre 12 doc. 2, '],\n  'status': '1',\n  'references': []},\n {'class': 'E',\n  'id': '5ae600db-5a2e-48e8-a958-718d17b2da8b',\n  'label': 'Creation of Firenze, Archivio di Stato di Firenze, Diplomatico, Santa Maria Novella, 1244: gennaio 26, gennaio 31 doc. 2; 1245: .. .. (image 00013575), .. .. (image 00013576), .. .. (image 00013577), .. .. (image 00013578), gennaio 30, aprile 26, giugno 6, agosto 11, agosto 12, agosto 13, agosto 24 doc .1, agosto 24 doc. 2, ottobre 12 doc. 1, ottobre 12 doc. 2, ',\n  'language': '',\n  'detail': '',\n  'data': {'logicalType': '1'},\n  'props': [],\n  'notes': ['Import batch [development] 2023-01-13 19:35:45.939035',\n   'special>:creation_event_id E0031_M100'],\n  'status': '1',\n  'references': [],\n  'legacyId': 'E0031_M100'},\n {'class': 'R',\n  'id': '0ae88d30-2559-4152-a4cc-d5db19ff172b',\n  'label': 'Reproduction of Firenze, Archivio di Stato di Firenze, Diplomatico, Santa Maria Novella, 1244: gennaio 26, gennaio 31 doc. 2; 1245: .. .. (image 00013575), .. .. (image 00013576), .. .. (image 00013577), .. .. (image 00013578), gennaio 30, aprile 26, giugno 6, agosto 11, agosto 12, agosto 13, agosto 24 doc .1, agosto 24 doc. 2, ottobre 12 doc. 1, ottobre 12 doc. 2, ',\n  'language': '',\n  'detail': '',\n  'data': {'url': 'http://www.archiviodistato.firenze.it/pergasfi/index.php?opadmin=&op=fetch&type=provenienza&id=2463&total=1434&start=96&pdatada=&pdataa=',\n   'partValueBaseURL': '',\n   'partValueLabel': ''},\n  'props': [],\n  'notes': ['Import batch [development] 2023-01-13 19:35:45.939035'],\n  'status': '1',\n  'references': []},\n {'class': 'L',\n  'id': 'a5e1addc-1efe-415e-9ffa-ce4f3ea2bb2d',\n  'label': 'Terni, Archivio di Stato di Terni',\n  'language': '',\n  'detail': '',\n  'data': {'logicalType': '1'},\n  'props': [],\n  'notes': ['Import batch [development] 2023-01-13 19:35:45.939035',\n   \"Making location 'Terni, Archivio di Stato di Terni' from M103 by field repository_label.\"],\n  'status': '1',\n  'references': [],\n  'legacyId': 'L_from_M103'},\n {'class': 'V',\n  'id': '4eef07c9-1df3-427c-b963-7de789e6fb92',\n  'label': 'Archivio di Stato di Orvieto, Fondo communale, Matricola 861',\n  'language': '',\n  'detail': '',\n  'data': {'logicalType': '1'},\n  'props': [],\n  'notes': ['Import batch [development] 2023-01-13 19:35:45.939035',\n   'propvalue>31:M103:subcollection_and_shelf_number_concatenated:Archivio di Stato di Orvieto, Fondo communale, Matricola 861'],\n  'status': '1',\n  'references': []},\n {'class': 'E',\n  'id': 'e28d94f0-1d51-476b-ac2f-83295eb39f58',\n  'label': 'Creation of Terni, Archivio di Stato di Terni, Archivio di Stato di Orvieto, Fondo communale, Matricola 861',\n  'language': '',\n  'detail': '',\n  'data': {'logicalType': '1'},\n  'props': [],\n  'notes': ['Import batch [development] 2023-01-13 19:35:45.939035',\n   'special>:creation_event_id E0032_M103'],\n  'status': '1',\n  'references': [],\n  'legacyId': 'E0032_M103'},\n {'class': 'V',\n  'id': '2791ace3-2902-4113-91e3-82aa49ec4a19',\n  'label': '1268',\n  'language': '',\n  'detail': '',\n  'data': {'logicalType': '1'},\n  'props': [],\n  'notes': ['Import batch [development] 2023-01-13 19:35:45.939035',\n   'special>:creation_event_id E0032_M103LegacyId: M103'],\n  'status': '1',\n  'references': []},\n {'class': 'V',\n  'id': '32f9a77a-cd65-409b-a2ab-410801b252e4',\n  'label': '1268',\n  'language': '',\n  'detail': '',\n  'data': {'logicalType': '1'},\n  'props': [],\n  'notes': ['Import batch [development] 2023-01-13 19:35:45.939035',\n   'special>:creation_event_id E0032_M103LegacyId: M103'],\n  'status': '1',\n  'references': []},\n {'class': 'L',\n  'id': 'fdabddb2-40ef-4d56-b893-db61441bb726',\n  'label': 'Stafford, Staffordshire Record Office',\n  'language': '',\n  'detail': '',\n  'data': {'logicalType': '1'},\n  'props': [],\n  'notes': ['Import batch [development] 2023-01-13 19:35:45.939035',\n   \"Making location 'Stafford, Staffordshire Record Office' from M40 by field repository_label.\"],\n  'status': '1',\n  'references': [],\n  'legacyId': 'L_from_M40'},\n {'class': 'V',\n  'id': 'b702c710-f94c-4853-ab05-836d437bf283',\n  'label': 'B/C/13',\n  'language': '',\n  'detail': '',\n  'data': {'logicalType': '1'},\n  'props': [],\n  'notes': ['Import batch [development] 2023-01-13 19:35:45.939035',\n   'propvalue>32:M40:subcollection_and_shelf_number_concatenated:B/C/13'],\n  'status': '1',\n  'references': []},\n {'class': 'V',\n  'id': 'd2cf373b-5cf9-4561-8aa9-af1258eaedd5',\n  'label': '35',\n  'language': '',\n  'detail': '',\n  'data': {'logicalType': '1'},\n  'props': [],\n  'notes': ['Import batch [development] 2023-01-13 19:35:45.939035',\n   'propvalue>32:M40:height_cm:35'],\n  'status': '1',\n  'references': []},\n {'class': 'V',\n  'id': 'bfd2ca29-4b68-409b-858c-8dcef04ab7bb',\n  'label': '26',\n  'language': '',\n  'detail': '',\n  'data': {'logicalType': '1'},\n  'props': [],\n  'notes': ['Import batch [development] 2023-01-13 19:35:45.939035',\n   'propvalue>32:M40:width_cm:26'],\n  'status': '1',\n  'references': []},\n {'class': 'V',\n  'id': '14f8d2dc-f922-4361-bc5a-8bad93b1c822',\n  'label': '26',\n  'language': '',\n  'detail': '',\n  'data': {'logicalType': '1'},\n  'props': [],\n  'notes': ['Import batch [development] 2023-01-13 19:35:45.939035',\n   'propvalue>32:M40:folios_total:26'],\n  'status': '1',\n  'references': []},\n {'class': 'E',\n  'id': 'ece586c8-ffaf-4860-bfd5-bf1cfdbab0a8',\n  'label': 'Creation of Stafford, Staffordshire Record Office, B/C/13',\n  'language': '',\n  'detail': '',\n  'data': {'logicalType': '1'},\n  'props': [],\n  'notes': ['Import batch [development] 2023-01-13 19:35:45.939035',\n   'special>:creation_event_id E0033_M40'],\n  'status': '1',\n  'references': [],\n  'legacyId': 'E0033_M40'},\n {'class': 'V',\n  'id': 'cc9011ce-ab1e-42d4-b737-08300db4a70e',\n  'label': '1511',\n  'language': '',\n  'detail': '',\n  'data': {'logicalType': '1'},\n  'props': [],\n  'notes': ['Import batch [development] 2023-01-13 19:35:45.939035',\n   'special>:creation_event_id E0033_M40LegacyId: M40'],\n  'status': '1',\n  'references': []},\n {'class': 'V',\n  'id': '2108dd1d-bf6b-4709-89c4-3acd2b54a9f6',\n  'label': '1511',\n  'language': '',\n  'detail': '',\n  'data': {'logicalType': '1'},\n  'props': [],\n  'notes': ['Import batch [development] 2023-01-13 19:35:45.939035',\n   'special>:creation_event_id E0033_M40LegacyId: M40'],\n  'status': '1',\n  'references': []},\n {'class': 'V',\n  'id': '211cfeea-ff27-4e7c-9915-6321be96153b',\n  'label': '1521',\n  'language': '',\n  'detail': '',\n  'data': {'logicalType': '1'},\n  'props': [],\n  'notes': ['Import batch [development] 2023-01-13 19:35:45.939035',\n   'special>:creation_event_id E0033_M40LegacyId: M40'],\n  'status': '1',\n  'references': []},\n {'class': 'V',\n  'id': 'b5b17216-805d-436d-b692-492f9545aeff',\n  'label': '1522',\n  'language': '',\n  'detail': '',\n  'data': {'logicalType': '1'},\n  'props': [],\n  'notes': ['Import batch [development] 2023-01-13 19:35:45.939035',\n   'special>:creation_event_id E0033_M40LegacyId: M40'],\n  'status': '1',\n  'references': []},\n {'class': 'L',\n  'id': '4ef38603-0e40-4296-8176-3549f92b6ae1',\n  'label': 'Millau, Archives municipales',\n  'language': '',\n  'detail': '',\n  'data': {'logicalType': '1'},\n  'props': [],\n  'notes': ['Import batch [development] 2023-01-13 19:35:45.939035',\n   \"Making location 'Millau, Archives municipales' from M15 by field repository_label.\"],\n  'status': '1',\n  'references': [],\n  'legacyId': 'L_from_M15'},\n {'class': 'V',\n  'id': 'd2763856-be23-462a-9652-361e0ad7c381',\n  'label': 'FF 8, 1er inventaire, 7ème cahier',\n  'language': '',\n  'detail': '',\n  'data': {'logicalType': '1'},\n  'props': [],\n  'notes': ['Import batch [development] 2023-01-13 19:35:45.939035',\n   'propvalue>33:M15:subcollection_and_shelf_number_concatenated:FF 8, 1er inventaire, 7ème cahier'],\n  'status': '1',\n  'references': []},\n {'class': 'E',\n  'id': 'e58ae154-abe6-419b-98f0-b08db0b32a40',\n  'label': 'Creation of Millau, Archives municipales, FF 8, 1er inventaire, 7ème cahier',\n  'language': '',\n  'detail': '',\n  'data': {'logicalType': '1'},\n  'props': [],\n  'notes': ['Import batch [development] 2023-01-13 19:35:45.939035',\n   'special>:creation_event_id E0034_M15'],\n  'status': '1',\n  'references': [],\n  'legacyId': 'E0034_M15'},\n {'class': 'V',\n  'id': 'fd654821-8258-4cb1-8ad3-9bdcecb34048',\n  'label': '1286',\n  'language': '',\n  'detail': '',\n  'data': {'logicalType': '1'},\n  'props': [],\n  'notes': ['Import batch [development] 2023-01-13 19:35:45.939035',\n   'special>:creation_event_id E0034_M15LegacyId: M15'],\n  'status': '1',\n  'references': []},\n {'class': 'V',\n  'id': '80473e08-76fe-4aae-8d68-3083b29bf6f7',\n  'label': 'FF 8, 1er inventaire, 8ème cahier',\n  'language': '',\n  'detail': '',\n  'data': {'logicalType': '1'},\n  'props': [],\n  'notes': ['Import batch [development] 2023-01-13 19:35:45.939035',\n   'propvalue>34:M16:subcollection_and_shelf_number_concatenated:FF 8, 1er inventaire, 8ème cahier'],\n  'status': '1',\n  'references': []},\n {'class': 'E',\n  'id': 'e86a0c9e-7d0a-4224-a27d-8255dd337439',\n  'label': 'Creation of Millau, Archives municipales, FF 8, 1er inventaire, 8ème cahier',\n  'language': '',\n  'detail': '',\n  'data': {'logicalType': '1'},\n  'props': [],\n  'notes': ['Import batch [development] 2023-01-13 19:35:45.939035',\n   'special>:creation_event_id E0035_M16'],\n  'status': '1',\n  'references': [],\n  'legacyId': 'E0035_M16'},\n {'class': 'V',\n  'id': '8e4dec0b-9437-4554-a3ba-2ccb026d7d64',\n  'label': '1288',\n  'language': '',\n  'detail': '',\n  'data': {'logicalType': '1'},\n  'props': [],\n  'notes': ['Import batch [development] 2023-01-13 19:35:45.939035',\n   'special>:creation_event_id E0035_M16LegacyId: M16'],\n  'status': '1',\n  'references': []},\n {'class': 'L',\n  'id': '6a42c3b7-f250-4e0f-9c70-38cf35a87ac7',\n  'label': 'Milano, Biblioteca Ambrosiana',\n  'language': '',\n  'detail': '',\n  'data': {'logicalType': '1'},\n  'props': [],\n  'notes': ['Import batch [development] 2023-01-13 19:35:45.939035',\n   \"Making location 'Milano, Biblioteca Ambrosiana' from M107 by field repository_label.\"],\n  'status': '1',\n  'references': [],\n  'legacyId': 'L_from_M107'},\n {'class': 'V',\n  'id': '7f1243db-1c70-42cf-a32d-3eb55472b6b5',\n  'label': 'ms. A 227 inf.',\n  'language': '',\n  'detail': '',\n  'data': {'logicalType': '1'},\n  'props': [],\n  'notes': ['Import batch [development] 2023-01-13 19:35:45.939035',\n   'propvalue>35:M107:subcollection_and_shelf_number_concatenated:ms. A 227 inf.'],\n  'status': '1',\n  'references': []},\n {'class': 'E',\n  'id': 'c2444ea2-9f42-4d01-a93a-d831f33dce8e',\n  'label': 'Creation of Milano, Biblioteca Ambrosiana, ms. A 227 inf.',\n  'language': '',\n  'detail': '',\n  'data': {'logicalType': '1'},\n  'props': [],\n  'notes': ['Import batch [development] 2023-01-13 19:35:45.939035',\n   'special>:creation_event_id E0036_M107'],\n  'status': '1',\n  'references': [],\n  'legacyId': 'E0036_M107'},\n {'class': 'V',\n  'id': '5e6eaa38-84ca-44f8-b2ef-b2b2a8bb3627',\n  'label': '1300',\n  'language': '',\n  'detail': '',\n  'data': {'logicalType': '1'},\n  'props': [],\n  'notes': ['Import batch [development] 2023-01-13 19:35:45.939035',\n   'special>:creation_event_id E0036_M107LegacyId: M107'],\n  'status': '1',\n  'references': []},\n {'class': 'L',\n  'id': 'bacc9715-8c1f-4a4d-a915-5b4e19af51bb',\n  'label': 'Ferrara, Biblioteca Comunale Ariostea di Ferrara',\n  'language': '',\n  'detail': '',\n  'data': {'logicalType': '1'},\n  'props': [],\n  'notes': ['Import batch [development] 2023-01-13 19:35:45.939035',\n   \"Making location 'Ferrara, Biblioteca Comunale Ariostea di Ferrara' from M101 by field repository_label.\"],\n  'status': '1',\n  'references': [],\n  'legacyId': 'L_from_M101'},\n {'class': 'V',\n  'id': '697e166f-3155-4e84-b34d-695752521bc9',\n  'label': 'N.A.40',\n  'language': '',\n  'detail': '',\n  'data': {'logicalType': '1'},\n  'props': [],\n  'notes': ['Import batch [development] 2023-01-13 19:35:45.939035',\n   'propvalue>36:M101:subcollection_and_shelf_number_concatenated:N.A.40'],\n  'status': '1',\n  'references': []},\n {'class': 'E',\n  'id': '1c4c8ea1-0b0d-4932-ac48-9ddfdb8889ca',\n  'label': 'Creation of Ferrara, Biblioteca Comunale Ariostea di Ferrara, N.A.40',\n  'language': '',\n  'detail': '',\n  'data': {'logicalType': '1'},\n  'props': [],\n  'notes': ['Import batch [development] 2023-01-13 19:35:45.939035',\n   'special>:creation_event_id E0037_M101'],\n  'status': '1',\n  'references': [],\n  'legacyId': 'E0037_M101'},\n {'class': 'V',\n  'id': '0b63f367-8c5e-41c4-8acc-419735c30a2b',\n  'label': '1980',\n  'language': '',\n  'detail': '',\n  'data': {'logicalType': '1'},\n  'props': [],\n  'notes': ['Import batch [development] 2023-01-13 19:35:45.939035',\n   'special>:creation_event_id E0037_M101LegacyId: M101'],\n  'status': '1',\n  'references': []},\n {'class': 'V',\n  'id': 'b19f181b-938b-43f2-a0f7-d47cff54f8c8',\n  'label': 'ms. lat. 11847',\n  'language': '',\n  'detail': '',\n  'data': {'logicalType': '1'},\n  'props': [],\n  'notes': ['Import batch [development] 2023-01-13 19:35:45.939035',\n   'propvalue>37:M18:subcollection_and_shelf_number_concatenated:ms. lat. 11847'],\n  'status': '1',\n  'references': []},\n {'class': 'V',\n  'id': '0ea9c1e8-df59-406d-8c07-d41931a07a9a',\n  'label': '30.5',\n  'language': '',\n  'detail': '',\n  'data': {'logicalType': '1'},\n  'props': [],\n  'notes': ['Import batch [development] 2023-01-13 19:35:45.939035',\n   'propvalue>37:M18:height_cm:30.5'],\n  'status': '1',\n  'references': []},\n {'class': 'V',\n  'id': 'eb58929d-b1a9-4b80-9b5a-f9a836ef5eaa',\n  'label': '22',\n  'language': '',\n  'detail': '',\n  'data': {'logicalType': '1'},\n  'props': [],\n  'notes': ['Import batch [development] 2023-01-13 19:35:45.939035',\n   'propvalue>37:M18:width_cm:22'],\n  'status': '1',\n  'references': []},\n {'class': 'V',\n  'id': '69098a22-ed8b-49b7-b355-c09ef513d856',\n  'label': '53',\n  'language': '',\n  'detail': '',\n  'data': {'logicalType': '1'},\n  'props': [],\n  'notes': ['Import batch [development] 2023-01-13 19:35:45.939035',\n   'propvalue>37:M18:folios_total:53'],\n  'status': '1',\n  'references': []},\n {'class': 'E',\n  'id': '9086eb39-f2f5-45cc-99dc-b2fa55bed6a3',\n  'label': 'Creation of Paris, Bibliothèque nationale de France, ms. lat. 11847',\n  'language': '',\n  'detail': '',\n  'data': {'logicalType': '1'},\n  'props': [],\n  'notes': ['Import batch [development] 2023-01-13 19:35:45.939035',\n   'special>:creation_event_id E0038_M18'],\n  'status': '1',\n  'references': [],\n  'legacyId': 'E0038_M18'},\n {'class': 'V',\n  'id': 'fdd13d01-97a6-468d-9b68-4cf5fbe55b3f',\n  'label': '1299',\n  'language': '',\n  'detail': '',\n  'data': {'logicalType': '1'},\n  'props': [],\n  'notes': ['Import batch [development] 2023-01-13 19:35:45.939035',\n   'special>:creation_event_id E0038_M18LegacyId: M18'],\n  'status': '1',\n  'references': []},\n {'class': 'V',\n  'id': 'd77b0ea4-2473-4878-8d2b-efa37c7deb4c',\n  'label': '1303',\n  'language': '',\n  'detail': '',\n  'data': {'logicalType': '1'},\n  'props': [],\n  'notes': ['Import batch [development] 2023-01-13 19:35:45.939035',\n   'special>:creation_event_id E0038_M18LegacyId: M18'],\n  'status': '1',\n  'references': []},\n {'class': 'R',\n  'id': '515cfdd5-7f5d-4367-8655-a8de1f6f589e',\n  'label': 'Reproduction of Paris, Bibliothèque nationale de France, ms. lat. 11847',\n  'language': '',\n  'detail': '',\n  'data': {'url': 'https://gallica.bnf.fr/ark:/12148/btv1b100338354',\n   'partValueBaseURL': '',\n   'partValueLabel': ''},\n  'props': [],\n  'notes': ['Import batch [development] 2023-01-13 19:35:45.939035'],\n  'status': '1',\n  'references': []},\n {'class': 'V',\n  'id': 'ac08990c-d404-4a1d-a672-2096ed64f1cb',\n  'label': '30.5',\n  'language': '',\n  'detail': '',\n  'data': {'logicalType': '1'},\n  'props': [],\n  'notes': ['Import batch [development] 2023-01-13 19:35:45.939035',\n   'propvalue>38:M20:height_cm:30.5'],\n  'status': '1',\n  'references': []},\n {'class': 'V',\n  'id': 'a1f57341-3cb9-48b2-ba4e-8a97e12c929b',\n  'label': '23',\n  'language': '',\n  'detail': '',\n  'data': {'logicalType': '1'},\n  'props': [],\n  'notes': ['Import batch [development] 2023-01-13 19:35:45.939035',\n   'propvalue>38:M20:width_cm:23'],\n  'status': '1',\n  'references': []},\n {'class': 'V',\n  'id': 'eb855d95-90ad-42bc-8d19-10043c9e7558',\n  'label': '78',\n  'language': '',\n  'detail': '',\n  'data': {'logicalType': '1'},\n  'props': [],\n  'notes': ['Import batch [development] 2023-01-13 19:35:45.939035',\n   'propvalue>38:M20:folios_total:78'],\n  'status': '1',\n  'references': []},\n {'class': 'E',\n  'id': '68e91b64-1a1e-480c-b564-e3ded96a08de',\n  'label': 'Creation of Merville???, Bibliothèque du Château de Merville???, ',\n  'language': '',\n  'detail': '',\n  'data': {'logicalType': '1'},\n  'props': [],\n  'notes': ['Import batch [development] 2023-01-13 19:35:45.939035',\n   'special>:creation_event_id E0039_M20'],\n  'status': '1',\n  'references': [],\n  'legacyId': 'E0039_M20'},\n {'class': 'V',\n  'id': '7b43a13a-b617-462b-9e2e-26caf9cd9aec',\n  'label': '1300',\n  'language': '',\n  'detail': '',\n  'data': {'logicalType': '1'},\n  'props': [],\n  'notes': ['Import batch [development] 2023-01-13 19:35:45.939035',\n   'special>:creation_event_id E0039_M20LegacyId: M20'],\n  'status': '1',\n  'references': []},\n {'class': 'V',\n  'id': 'f80928af-f8e3-4231-8ce0-4d408ab732ef',\n  'label': '1310',\n  'language': '',\n  'detail': '',\n  'data': {'logicalType': '1'},\n  'props': [],\n  'notes': ['Import batch [development] 2023-01-13 19:35:45.939035',\n   'special>:creation_event_id E0039_M20LegacyId: M20'],\n  'status': '1',\n  'references': []},\n {'class': 'L',\n  'id': 'f5dca3f6-9e21-4f55-8fe9-864117974a32',\n  'label': 'Toulouse, Bibliothèque municipale',\n  'language': '',\n  'detail': '',\n  'data': {'logicalType': '1'},\n  'props': [],\n  'notes': ['Import batch [development] 2023-01-13 19:35:45.939035',\n   \"Making location 'Toulouse, Bibliothèque municipale' from M5 by field repository_label.\"],\n  'status': '1',\n  'references': [],\n  'legacyId': 'L_from_M5'},\n {'class': 'V',\n  'id': 'ca81ddae-bdc5-44da-82a4-f0695ba8e5f5',\n  'label': 'ms. 609',\n  'language': '',\n  'detail': '',\n  'data': {'logicalType': '1'},\n  'props': [],\n  'notes': ['Import batch [development] 2023-01-13 19:35:45.939035',\n   'propvalue>39:M5:subcollection_and_shelf_number_concatenated:ms. 609'],\n  'status': '1',\n  'references': []},\n {'class': 'V',\n  'id': 'b24174b5-47a2-4946-9525-1a7ca4af64b1',\n  'label': '29',\n  'language': '',\n  'detail': '',\n  'data': {'logicalType': '1'},\n  'props': [],\n  'notes': ['Import batch [development] 2023-01-13 19:35:45.939035',\n   'propvalue>39:M5:height_cm:29'],\n  'status': '1',\n  'references': []},\n {'class': 'V',\n  'id': 'b65bb466-14d0-4c83-824d-27776b4442e7',\n  'label': '23.5',\n  'language': '',\n  'detail': '',\n  'data': {'logicalType': '1'},\n  'props': [],\n  'notes': ['Import batch [development] 2023-01-13 19:35:45.939035',\n   'propvalue>39:M5:width_cm:23.5'],\n  'status': '1',\n  'references': []},\n {'class': 'V',\n  'id': 'de3a164e-13b3-4317-8e41-384f6e9c626f',\n  'label': '270',\n  'language': '',\n  'detail': '',\n  'data': {'logicalType': '1'},\n  'props': [],\n  'notes': ['Import batch [development] 2023-01-13 19:35:45.939035',\n   'propvalue>39:M5:folios_total:270'],\n  'status': '1',\n  'references': []},\n {'class': 'E',\n  'id': 'f7b6ec16-d30d-4348-a31d-6bd8dc9fa0ab',\n  'label': 'Creation of Toulouse, Bibliothèque municipale, ms. 609',\n  'language': '',\n  'detail': '',\n  'data': {'logicalType': '1'},\n  'props': [],\n  'notes': ['Import batch [development] 2023-01-13 19:35:45.939035',\n   'special>:creation_event_id E0040_M5'],\n  'status': '1',\n  'references': [],\n  'legacyId': 'E0040_M5'},\n {'class': 'V',\n  'id': '3b4ae55d-16a7-4f1a-8994-43b62fa2502c',\n  'label': '1258',\n  'language': '',\n  'detail': '',\n  'data': {'logicalType': '1'},\n  'props': [],\n  'notes': ['Import batch [development] 2023-01-13 19:35:45.939035',\n   'special>:creation_event_id E0040_M5LegacyId: M5'],\n  'status': '1',\n  'references': []},\n {'class': 'V',\n  'id': 'f093e32e-032f-4a21-90eb-c37216c501d4',\n  'label': '1270',\n  'language': '',\n  'detail': '',\n  'data': {'logicalType': '1'},\n  'props': [],\n  'notes': ['Import batch [development] 2023-01-13 19:35:45.939035',\n   'special>:creation_event_id E0040_M5LegacyId: M5'],\n  'status': '1',\n  'references': []},\n {'class': 'R',\n  'id': 'b829e557-56d9-458c-9e2e-db6e1b8be60d',\n  'label': 'Reproduction of Toulouse, Bibliothèque municipale, ms. 609',\n  'language': '',\n  'detail': '',\n  'data': {'url': 'https://bvmm.irht.cnrs.fr/consult/consult.php?mode=vignettes&reproductionId=620',\n   'partValueBaseURL': '',\n   'partValueLabel': ''},\n  'props': [],\n  'notes': ['Import batch [development] 2023-01-13 19:35:45.939035'],\n  'status': '1',\n  'references': []},\n {'class': 'L',\n  'id': 'a1f746ff-87f3-46e9-8620-700539dcf571',\n  'label': 'Exeter, Devon Heritage Centre',\n  'language': '',\n  'detail': '',\n  'data': {'logicalType': '1'},\n  'props': [],\n  'notes': ['Import batch [development] 2023-01-13 19:35:45.939035',\n   \"Making location 'Exeter, Devon Heritage Centre' from M68 by field repository_label.\"],\n  'status': '1',\n  'references': [],\n  'legacyId': 'L_from_M68'},\n {'class': 'V',\n  'id': '571430dc-3a04-47dd-9bea-8d1bd2a0de33',\n  'label': 'DEX 1/a/10',\n  'language': '',\n  'detail': '',\n  'data': {'logicalType': '1'},\n  'props': [],\n  'notes': ['Import batch [development] 2023-01-13 19:35:45.939035',\n   'propvalue>40:M68:subcollection_and_shelf_number_concatenated:DEX 1/a/10'],\n  'status': '1',\n  'references': []},\n {'class': 'V',\n  'id': 'dd0928f1-79bc-4dc1-9109-7d16a3110b57',\n  'label': 'Chanter 10',\n  'language': '',\n  'detail': '',\n  'data': {'logicalType': '1'},\n  'props': [],\n  'notes': ['Import batch [development] 2023-01-13 19:35:45.939035',\n   'propvalue>40:M68:alternative_shelf_number:Chanter 10'],\n  'status': '1',\n  'references': []},\n {'class': 'E',\n  'id': '0ec3891e-6561-4d06-8f01-f4e046353eaf',\n  'label': 'Creation of Exeter, Devon Heritage Centre, DEX 1/a/10',\n  'language': '',\n  'detail': '',\n  'data': {'logicalType': '1'},\n  'props': [],\n  'notes': ['Import batch [development] 2023-01-13 19:35:45.939035',\n   'special>:creation_event_id E0041_M68'],\n  'status': '1',\n  'references': [],\n  'legacyId': 'E0041_M68'},\n {'class': 'V',\n  'id': 'c7a1894e-c1a8-412d-ae53-3adeaa342a06',\n  'label': '1429',\n  'language': '',\n  'detail': '',\n  'data': {'logicalType': '1'},\n  'props': [],\n  'notes': ['Import batch [development] 2023-01-13 19:35:45.939035',\n   'special>:creation_event_id E0041_M68LegacyId: M68'],\n  'status': '1',\n  'references': []},\n {'class': 'V',\n  'id': 'e2a963b2-95c5-4109-8fe7-ed2f29a7831e',\n  'label': '1429',\n  'language': '',\n  'detail': '',\n  'data': {'logicalType': '1'},\n  'props': [],\n  'notes': ['Import batch [development] 2023-01-13 19:35:45.939035',\n   'special>:creation_event_id E0041_M68LegacyId: M68'],\n  'status': '1',\n  'references': []},\n {'class': 'V',\n  'id': '41b87dd7-6648-4385-91e3-bfb428cf095f',\n  'label': '1453',\n  'language': '',\n  'detail': '',\n  'data': {'logicalType': '1'},\n  'props': [],\n  'notes': ['Import batch [development] 2023-01-13 19:35:45.939035',\n   'special>:creation_event_id E0041_M68LegacyId: M68'],\n  'status': '1',\n  'references': []},\n {'class': 'V',\n  'id': '93c7e9bc-e5ba-483e-82a5-d4c8a0760929',\n  'label': '1453',\n  'language': '',\n  'detail': '',\n  'data': {'logicalType': '1'},\n  'props': [],\n  'notes': ['Import batch [development] 2023-01-13 19:35:45.939035',\n   'special>:creation_event_id E0041_M68LegacyId: M68'],\n  'status': '1',\n  'references': []},\n {'class': 'V',\n  'id': '1330a933-ec1b-4f53-9869-f5b7db296a72',\n  'label': 'DEX 1/a/11',\n  'language': '',\n  'detail': '',\n  'data': {'logicalType': '1'},\n  'props': [],\n  'notes': ['Import batch [development] 2023-01-13 19:35:45.939035',\n   'propvalue>41:M69:subcollection_and_shelf_number_concatenated:DEX 1/a/11'],\n  'status': '1',\n  'references': []},\n {'class': 'V',\n  'id': 'e0ad4fb4-e0d3-422e-89b9-a1586295922f',\n  'label': 'Chanter 11',\n  'language': '',\n  'detail': '',\n  'data': {'logicalType': '1'},\n  'props': [],\n  'notes': ['Import batch [development] 2023-01-13 19:35:45.939035',\n   'propvalue>41:M69:alternative_shelf_number:Chanter 11'],\n  'status': '1',\n  'references': []},\n {'class': 'E',\n  'id': 'd660559d-b92d-4b9a-8934-84f62c5bf99f',\n  'label': 'Creation of Exeter, Devon Heritage Centre, DEX 1/a/11',\n  'language': '',\n  'detail': '',\n  'data': {'logicalType': '1'},\n  'props': [],\n  'notes': ['Import batch [development] 2023-01-13 19:35:45.939035',\n   'special>:creation_event_id E0042_M69'],\n  'status': '1',\n  'references': [],\n  'legacyId': 'E0042_M69'},\n {'class': 'V',\n  'id': 'c07b27c5-4847-4a4a-8e2a-d4ef534f5c0f',\n  'label': '1429',\n  'language': '',\n  'detail': '',\n  'data': {'logicalType': '1'},\n  'props': [],\n  'notes': ['Import batch [development] 2023-01-13 19:35:45.939035',\n   'special>:creation_event_id E0042_M69LegacyId: M69'],\n  'status': '1',\n  'references': []},\n {'class': 'V',\n  'id': '1885cd7e-b43e-418b-8878-8982a6241c5c',\n  'label': '1492',\n  'language': '',\n  'detail': '',\n  'data': {'logicalType': '1'},\n  'props': [],\n  'notes': ['Import batch [development] 2023-01-13 19:35:45.939035',\n   'special>:creation_event_id E0042_M69LegacyId: M69'],\n  'status': '1',\n  'references': []},\n {'class': 'V',\n  'id': 'abfc9ce3-d7be-4d15-a4ac-9e4c2a16e505',\n  'label': '1453',\n  'language': '',\n  'detail': '',\n  'data': {'logicalType': '1'},\n  'props': [],\n  'notes': ['Import batch [development] 2023-01-13 19:35:45.939035',\n   'special>:creation_event_id E0042_M69LegacyId: M69'],\n  'status': '1',\n  'references': []},\n {'class': 'V',\n  'id': '042e4b3c-9aee-4247-9517-5937a44fb470',\n  'label': '1453',\n  'language': '',\n  'detail': '',\n  'data': {'logicalType': '1'},\n  'props': [],\n  'notes': ['Import batch [development] 2023-01-13 19:35:45.939035',\n   'special>:creation_event_id E0042_M69LegacyId: M69'],\n  'status': '1',\n  'references': []},\n {'class': 'V',\n  'id': '31211ff8-1b10-4c35-ba6f-779aae61007e',\n  'label': 'DEX/1/a/8',\n  'language': '',\n  'detail': '',\n  'data': {'logicalType': '1'},\n  'props': [],\n  'notes': ['Import batch [development] 2023-01-13 19:35:45.939035',\n   'propvalue>42:M50:subcollection_and_shelf_number_concatenated:DEX/1/a/8'],\n  'status': '1',\n  'references': []},\n {'class': 'V',\n  'id': '564ef7a9-979f-4601-9629-c9a0eeaf417f',\n  'label': 'Chanter 8',\n  'language': '',\n  'detail': '',\n  'data': {'logicalType': '1'},\n  'props': [],\n  'notes': ['Import batch [development] 2023-01-13 19:35:45.939035',\n   'propvalue>42:M50:alternative_shelf_number:Chanter 8'],\n  'status': '1',\n  'references': []},\n {'class': 'E',\n  'id': '32417485-b8c3-4ae9-8ca3-f12872204fc5',\n  'label': 'Creation of Exeter, Devon Heritage Centre, DEX/1/a/8',\n  'language': '',\n  'detail': '',\n  'data': {'logicalType': '1'},\n  'props': [],\n  'notes': ['Import batch [development] 2023-01-13 19:35:45.939035',\n   'special>:creation_event_id E0043_M50'],\n  'status': '1',\n  'references': [],\n  'legacyId': 'E0043_M50'},\n {'class': 'V',\n  'id': '40d62310-1c83-4ff5-90dc-6fa922f47fd8',\n  'label': '1395',\n  'language': '',\n  'detail': '',\n  'data': {'logicalType': '1'},\n  'props': [],\n  'notes': ['Import batch [development] 2023-01-13 19:35:45.939035',\n   'special>:creation_event_id E0043_M50LegacyId: M50'],\n  'status': '1',\n  'references': []},\n {'class': 'V',\n  'id': '4cfbd413-0d50-43c8-8e1e-444e2022651b',\n  'label': '1395',\n  'language': '',\n  'detail': '',\n  'data': {'logicalType': '1'},\n  'props': [],\n  'notes': ['Import batch [development] 2023-01-13 19:35:45.939035',\n   'special>:creation_event_id E0043_M50LegacyId: M50'],\n  'status': '1',\n  'references': []},\n {'class': 'V',\n  'id': '0b61c9a7-6ef6-4dc9-ae2d-104e11c23e73',\n  'label': '1453',\n  'language': '',\n  'detail': '',\n  'data': {'logicalType': '1'},\n  'props': [],\n  'notes': ['Import batch [development] 2023-01-13 19:35:45.939035',\n   'special>:creation_event_id E0043_M50LegacyId: M50'],\n  'status': '1',\n  'references': []},\n {'class': 'V',\n  'id': '898a3ca7-91db-4dbc-a316-7f47b042d2f9',\n  'label': '1453',\n  'language': '',\n  'detail': '',\n  'data': {'logicalType': '1'},\n  'props': [],\n  'notes': ['Import batch [development] 2023-01-13 19:35:45.939035',\n   'special>:creation_event_id E0043_M50LegacyId: M50'],\n  'status': '1',\n  'references': []},\n {'class': 'V',\n  'id': '2ee81b53-c14e-4661-91a1-b2f50284fde1',\n  'label': 'DEX/1/a/9',\n  'language': '',\n  'detail': '',\n  'data': {'logicalType': '1'},\n  'props': [],\n  'notes': ['Import batch [development] 2023-01-13 19:35:45.939035',\n   'propvalue>43:M51:subcollection_and_shelf_number_concatenated:DEX/1/a/9'],\n  'status': '1',\n  'references': []},\n {'class': 'V',\n  'id': 'e480bb81-1622-4010-b888-14c413a7a896',\n  'label': 'Chanter 9',\n  'language': '',\n  'detail': '',\n  'data': {'logicalType': '1'},\n  'props': [],\n  'notes': ['Import batch [development] 2023-01-13 19:35:45.939035',\n   'propvalue>43:M51:alternative_shelf_number:Chanter 9'],\n  'status': '1',\n  'references': []},\n {'class': 'E',\n  'id': 'fb347480-720d-4cf1-aee8-5ac4a79bd81a',\n  'label': 'Creation of Exeter, Devon Heritage Centre, DEX/1/a/9',\n  'language': '',\n  'detail': '',\n  'data': {'logicalType': '1'},\n  'props': [],\n  'notes': ['Import batch [development] 2023-01-13 19:35:45.939035',\n   'special>:creation_event_id E0044_M51'],\n  'status': '1',\n  'references': [],\n  'legacyId': 'E0044_M51'},\n {'class': 'V',\n  'id': '3319bf4e-d492-48e4-b945-cb1ca4111b14',\n  'label': '1395',\n  'language': '',\n  'detail': '',\n  'data': {'logicalType': '1'},\n  'props': [],\n  'notes': ['Import batch [development] 2023-01-13 19:35:45.939035',\n   'special>:creation_event_id E0044_M51LegacyId: M51'],\n  'status': '1',\n  'references': []},\n {'class': 'V',\n  'id': '13868eaa-e30b-4538-94ad-f4581d4c609a',\n  'label': '1395',\n  'language': '',\n  'detail': '',\n  'data': {'logicalType': '1'},\n  'props': [],\n  'notes': ['Import batch [development] 2023-01-13 19:35:45.939035',\n   'special>:creation_event_id E0044_M51LegacyId: M51'],\n  'status': '1',\n  'references': []},\n {'class': 'V',\n  'id': '1e058a6a-97ad-4391-8ec6-9af7fec411ae',\n  'label': '1419',\n  'language': '',\n  'detail': '',\n  'data': {'logicalType': '1'},\n  'props': [],\n  'notes': ['Import batch [development] 2023-01-13 19:35:45.939035',\n   'special>:creation_event_id E0044_M51LegacyId: M51'],\n  'status': '1',\n  'references': []},\n {'class': 'V',\n  'id': '54d75735-5e09-4504-b1e4-78ecd2f481a3',\n  'label': '1419',\n  'language': '',\n  'detail': '',\n  'data': {'logicalType': '1'},\n  'props': [],\n  'notes': ['Import batch [development] 2023-01-13 19:35:45.939035',\n   'special>:creation_event_id E0044_M51LegacyId: M51'],\n  'status': '1',\n  'references': []},\n {'class': 'L',\n  'id': '0ef1a790-ce45-4361-bbce-f68644cefa61',\n  'label': 'Brno, Moravská zemská knihovna',\n  'language': '',\n  'detail': '',\n  'data': {'logicalType': '1'},\n  'props': [],\n  'notes': ['Import batch [development] 2023-01-13 19:35:45.939035',\n   \"Making location 'Brno, Moravská zemská knihovna' from M79 by field repository_label.\"],\n  'status': '1',\n  'references': [],\n  'legacyId': 'L_from_M79'},\n {'class': 'V',\n  'id': '8d8da001-dbe1-48ee-8f5c-1c8f49825355',\n  'label': '1',\n  'language': '',\n  'detail': '',\n  'data': {'logicalType': '1'},\n  'props': [],\n  'notes': ['Import batch [development] 2023-01-13 19:35:45.939035',\n   'propvalue>44:M79:folios_total:1'],\n  'status': '1',\n  'references': []},\n {'class': 'E',\n  'id': 'bb90059f-1a49-4d36-a6f5-3201eee2824a',\n  'label': 'Creation of Brno, Moravská zemská knihovna, ???',\n  'language': '',\n  'detail': '',\n  'data': {'logicalType': '1'},\n  'props': [],\n  'notes': ['Import batch [development] 2023-01-13 19:35:45.939035',\n   'special>:creation_event_id E0045_M79'],\n  'status': '1',\n  'references': [],\n  'legacyId': 'E0045_M79'},\n {'class': 'V',\n  'id': '34efde21-d846-4de7-9271-d7985b28e48d',\n  'label': '1335',\n  'language': '',\n  'detail': '',\n  'data': {'logicalType': '1'},\n  'props': [],\n  'notes': ['Import batch [development] 2023-01-13 19:35:45.939035',\n   'special>:creation_event_id E0045_M79LegacyId: M79'],\n  'status': '1',\n  'references': []},\n {'class': 'V',\n  'id': 'ba6676f2-e8db-4585-9e5c-714350959f4e',\n  'label': '1335',\n  'language': '',\n  'detail': '',\n  'data': {'logicalType': '1'},\n  'props': [],\n  'notes': ['Import batch [development] 2023-01-13 19:35:45.939035',\n   'special>:creation_event_id E0045_M79LegacyId: M79'],\n  'status': '1',\n  'references': []},\n {'class': 'V',\n  'id': 'c6259cbc-bda9-4125-86af-da6fbc7f6679',\n  'label': '1353',\n  'language': '',\n  'detail': '',\n  'data': {'logicalType': '1'},\n  'props': [],\n  'notes': ['Import batch [development] 2023-01-13 19:35:45.939035',\n   'special>:creation_event_id E0045_M79LegacyId: M79'],\n  'status': '1',\n  'references': []},\n {'class': 'V',\n  'id': 'ea7102dc-8366-45f0-bdce-83f992d99012',\n  'label': '1355',\n  'language': '',\n  'detail': '',\n  'data': {'logicalType': '1'},\n  'props': [],\n  'notes': ['Import batch [development] 2023-01-13 19:35:45.939035',\n   'special>:creation_event_id E0045_M79LegacyId: M79'],\n  'status': '1',\n  'references': []},\n {'class': 'L',\n  'id': 'd0efec54-cd4c-468e-8adb-7944e62d0844',\n  'label': 'Gottweig, Gottweig Abbey',\n  'language': '',\n  'detail': '',\n  'data': {'logicalType': '1'},\n  'props': [],\n  'notes': ['Import batch [development] 2023-01-13 19:35:45.939035',\n   \"Making location 'Gottweig, Gottweig Abbey' from M78 by field repository_label.\"],\n  'status': '1',\n  'references': [],\n  'legacyId': 'L_from_M78'},\n {'class': 'V',\n  'id': '9468af4b-2b7d-4994-b5a6-67c6fdf04276',\n  'label': 'ms. 82',\n  'language': '',\n  'detail': '',\n  'data': {'logicalType': '1'},\n  'props': [],\n  'notes': ['Import batch [development] 2023-01-13 19:35:45.939035',\n   'propvalue>45:M78:subcollection_and_shelf_number_concatenated:ms. 82'],\n  'status': '1',\n  'references': []},\n {'class': 'V',\n  'id': '20f29472-1b67-4516-bbad-638c32161cf4',\n  'label': '1',\n  'language': '',\n  'detail': '',\n  'data': {'logicalType': '1'},\n  'props': [],\n  'notes': ['Import batch [development] 2023-01-13 19:35:45.939035',\n   'propvalue>45:M78:folios_total:1'],\n  'status': '1',\n  'references': []},\n {'class': 'E',\n  'id': 'c2f9e825-48a6-4a82-8c8a-174845bc799e',\n  'label': 'Creation of Gottweig, Gottweig Abbey, ms. 82',\n  'language': '',\n  'detail': '',\n  'data': {'logicalType': '1'},\n  'props': [],\n  'notes': ['Import batch [development] 2023-01-13 19:35:45.939035',\n   'special>:creation_event_id E0046_M78'],\n  'status': '1',\n  'references': [],\n  'legacyId': 'E0046_M78'},\n {'class': 'V',\n  'id': 'ee8a3794-9795-47c6-ae9c-0e03f301f06e',\n  'label': '1335',\n  'language': '',\n  'detail': '',\n  'data': {'logicalType': '1'},\n  'props': [],\n  'notes': ['Import batch [development] 2023-01-13 19:35:45.939035',\n   'special>:creation_event_id E0046_M78LegacyId: M78'],\n  'status': '1',\n  'references': []},\n {'class': 'V',\n  'id': '80fc9c27-4929-4ed9-a127-980ba1a959fd',\n  'label': '1335',\n  'language': '',\n  'detail': '',\n  'data': {'logicalType': '1'},\n  'props': [],\n  'notes': ['Import batch [development] 2023-01-13 19:35:45.939035',\n   'special>:creation_event_id E0046_M78LegacyId: M78'],\n  'status': '1',\n  'references': []},\n {'class': 'V',\n  'id': '6b70b8b6-fd48-4677-9f9e-224038774459',\n  'label': '1353',\n  'language': '',\n  'detail': '',\n  'data': {'logicalType': '1'},\n  'props': [],\n  'notes': ['Import batch [development] 2023-01-13 19:35:45.939035',\n   'special>:creation_event_id E0046_M78LegacyId: M78'],\n  'status': '1',\n  'references': []},\n {'class': 'V',\n  'id': '09231375-0a07-4102-91ee-4dbf93fb58c7',\n  'label': '1355',\n  'language': '',\n  'detail': '',\n  'data': {'logicalType': '1'},\n  'props': [],\n  'notes': ['Import batch [development] 2023-01-13 19:35:45.939035',\n   'special>:creation_event_id E0046_M78LegacyId: M78'],\n  'status': '1',\n  'references': []},\n {'class': 'L',\n  'id': '54f793d1-e044-4fd8-9508-982f84d204fa',\n  'label': 'Heiligenkreuz, Heiligenkreuz Abbey',\n  'language': '',\n  'detail': '',\n  'data': {'logicalType': '1'},\n  'props': [],\n  'notes': ['Import batch [development] 2023-01-13 19:35:45.939035',\n   \"Making location 'Heiligenkreuz, Heiligenkreuz Abbey' from M74 by field repository_label.\"],\n  'status': '1',\n  'references': [],\n  'legacyId': 'L_from_M74'},\n {'class': 'V',\n  'id': 'dbf3578a-d75f-447b-8834-a17015d5abcc',\n  'label': 'Fragment I',\n  'language': '',\n  'detail': '',\n  'data': {'logicalType': '1'},\n  'props': [],\n  'notes': ['Import batch [development] 2023-01-13 19:35:45.939035',\n   'propvalue>46:M74:subcollection_and_shelf_number_concatenated:Fragment I'],\n  'status': '1',\n  'references': []},\n {'class': 'V',\n  'id': '0757ac9c-411d-44a2-844f-fcb40adf12f1',\n  'label': 'Rubr. 7. IV. 3',\n  'language': '',\n  'detail': '',\n  'data': {'logicalType': '1'},\n  'props': [],\n  'notes': ['Import batch [development] 2023-01-13 19:35:45.939035',\n   'propvalue>46:M74:alternative_shelf_number:Rubr. 7. IV. 3'],\n  'status': '1',\n  'references': []},\n {'class': 'V',\n  'id': 'b3f7234a-d49b-4af3-a311-0f764ae5db39',\n  'label': '32.9',\n  'language': '',\n  'detail': '',\n  'data': {'logicalType': '1'},\n  'props': [],\n  'notes': ['Import batch [development] 2023-01-13 19:35:45.939035',\n   'propvalue>46:M74:height_cm:32.9'],\n  'status': '1',\n  'references': []},\n {'class': 'V',\n  'id': '603666c6-97a9-4efd-bbc8-f8ebdcf4dea8',\n  'label': '25.5',\n  'language': '',\n  'detail': '',\n  'data': {'logicalType': '1'},\n  'props': [],\n  'notes': ['Import batch [development] 2023-01-13 19:35:45.939035',\n   'propvalue>46:M74:width_cm:25.5'],\n  'status': '1',\n  'references': []},\n {'class': 'V',\n  'id': 'fa636174-163f-4490-b947-9630f6f5934a',\n  'label': '1',\n  'language': '',\n  'detail': '',\n  'data': {'logicalType': '1'},\n  'props': [],\n  'notes': ['Import batch [development] 2023-01-13 19:35:45.939035',\n   'propvalue>46:M74:folios_total:1'],\n  'status': '1',\n  'references': []},\n {'class': 'E',\n  'id': '9d8dd0b0-ab6f-4439-89f6-f0d7b81f928d',\n  'label': 'Creation of Heiligenkreuz, Heiligenkreuz Abbey, Fragment I',\n  'language': '',\n  'detail': '',\n  'data': {'logicalType': '1'},\n  'props': [],\n  'notes': ['Import batch [development] 2023-01-13 19:35:45.939035',\n   'special>:creation_event_id E0047_M74'],\n  'status': '1',\n  'references': [],\n  'legacyId': 'E0047_M74'},\n {'class': 'V',\n  'id': '0f5967cb-58a0-4d94-8e1f-cc87351e28f5',\n  'label': '1335',\n  'language': '',\n  'detail': '',\n  'data': {'logicalType': '1'},\n  'props': [],\n  'notes': ['Import batch [development] 2023-01-13 19:35:45.939035',\n   'special>:creation_event_id E0047_M74LegacyId: M74'],\n  'status': '1',\n  'references': []},\n {'class': 'V',\n  'id': '3dbfc2cc-5cd8-4efc-addd-7397d28653fd',\n  'label': '1335',\n  'language': '',\n  'detail': '',\n  'data': {'logicalType': '1'},\n  'props': [],\n  'notes': ['Import batch [development] 2023-01-13 19:35:45.939035',\n   'special>:creation_event_id E0047_M74LegacyId: M74'],\n  'status': '1',\n  'references': []},\n {'class': 'V',\n  'id': '14ae1f2c-8989-4bb5-a72e-d5a13f92349c',\n  'label': '1353',\n  'language': '',\n  'detail': '',\n  'data': {'logicalType': '1'},\n  'props': [],\n  'notes': ['Import batch [development] 2023-01-13 19:35:45.939035',\n   'special>:creation_event_id E0047_M74LegacyId: M74'],\n  'status': '1',\n  'references': []},\n {'class': 'V',\n  'id': '16491551-4a02-4ff4-a7d7-c59c3d12aad8',\n  'label': '1355',\n  'language': '',\n  'detail': '',\n  'data': {'logicalType': '1'},\n  'props': [],\n  'notes': ['Import batch [development] 2023-01-13 19:35:45.939035',\n   'special>:creation_event_id E0047_M74LegacyId: M74'],\n  'status': '1',\n  'references': []},\n {'class': 'V',\n  'id': '4957e6aa-47d5-43dd-95de-7e8a2b6c1086',\n  'label': 'Fragment II',\n  'language': '',\n  'detail': '',\n  'data': {'logicalType': '1'},\n  'props': [],\n  'notes': ['Import batch [development] 2023-01-13 19:35:45.939035',\n   'propvalue>47:M75:subcollection_and_shelf_number_concatenated:Fragment II'],\n  'status': '1',\n  'references': []},\n {'class': 'V',\n  'id': 'c47594c4-9d54-42fc-b0da-42b42944eff6',\n  'label': 'Rubr. 7. IV. 3',\n  'language': '',\n  'detail': '',\n  'data': {'logicalType': '1'},\n  'props': [],\n  'notes': ['Import batch [development] 2023-01-13 19:35:45.939035',\n   'propvalue>47:M75:alternative_shelf_number:Rubr. 7. IV. 3'],\n  'status': '1',\n  'references': []},\n {'class': 'V',\n  'id': '61689812-169f-4a55-9a77-c2bd349c2d16',\n  'label': '32.7',\n  'language': '',\n  'detail': '',\n  'data': {'logicalType': '1'},\n  'props': [],\n  'notes': ['Import batch [development] 2023-01-13 19:35:45.939035',\n   'propvalue>47:M75:height_cm:32.7'],\n  'status': '1',\n  'references': []},\n {'class': 'V',\n  'id': 'a3345bea-eda8-40a0-97bf-d9456283a29b',\n  'label': '18.4',\n  'language': '',\n  'detail': '',\n  'data': {'logicalType': '1'},\n  'props': [],\n  'notes': ['Import batch [development] 2023-01-13 19:35:45.939035',\n   'propvalue>47:M75:width_cm:18.4'],\n  'status': '1',\n  'references': []},\n {'class': 'V',\n  'id': '3715d1d5-639c-4387-b3ad-36b132f4038b',\n  'label': '1',\n  'language': '',\n  'detail': '',\n  'data': {'logicalType': '1'},\n  'props': [],\n  'notes': ['Import batch [development] 2023-01-13 19:35:45.939035',\n   'propvalue>47:M75:folios_total:1'],\n  'status': '1',\n  'references': []},\n {'class': 'E',\n  'id': '096c4c5a-f8c0-4884-ae11-f81bc82119a4',\n  'label': 'Creation of Heiligenkreuz, Heiligenkreuz Abbey, Fragment II',\n  'language': '',\n  'detail': '',\n  'data': {'logicalType': '1'},\n  'props': [],\n  'notes': ['Import batch [development] 2023-01-13 19:35:45.939035',\n   'special>:creation_event_id E0048_M75'],\n  'status': '1',\n  'references': [],\n  'legacyId': 'E0048_M75'},\n {'class': 'V',\n  'id': 'c8121fd3-95fa-4e81-a931-015df61e996d',\n  'label': '1335',\n  'language': '',\n  'detail': '',\n  'data': {'logicalType': '1'},\n  'props': [],\n  'notes': ['Import batch [development] 2023-01-13 19:35:45.939035',\n   'special>:creation_event_id E0048_M75LegacyId: M75'],\n  'status': '1',\n  'references': []},\n {'class': 'V',\n  'id': 'a73abfaa-b3c0-4c77-83b5-b32be0a83acb',\n  'label': '1335',\n  'language': '',\n  'detail': '',\n  'data': {'logicalType': '1'},\n  'props': [],\n  'notes': ['Import batch [development] 2023-01-13 19:35:45.939035',\n   'special>:creation_event_id E0048_M75LegacyId: M75'],\n  'status': '1',\n  'references': []},\n {'class': 'V',\n  'id': '96195bde-f3c3-4d6d-a199-99a906062c24',\n  'label': '1353',\n  'language': '',\n  'detail': '',\n  'data': {'logicalType': '1'},\n  'props': [],\n  'notes': ['Import batch [development] 2023-01-13 19:35:45.939035',\n   'special>:creation_event_id E0048_M75LegacyId: M75'],\n  'status': '1',\n  'references': []},\n {'class': 'V',\n  'id': '6081c843-30b2-48ff-958e-875f44a6d529',\n  'label': '1355',\n  'language': '',\n  'detail': '',\n  'data': {'logicalType': '1'},\n  'props': [],\n  'notes': ['Import batch [development] 2023-01-13 19:35:45.939035',\n   'special>:creation_event_id E0048_M75LegacyId: M75'],\n  'status': '1',\n  'references': []},\n {'class': 'V',\n  'id': '75139757-ef2a-4a25-be4b-e6fa638ced38',\n  'label': 'Fragment III',\n  'language': '',\n  'detail': '',\n  'data': {'logicalType': '1'},\n  'props': [],\n  'notes': ['Import batch [development] 2023-01-13 19:35:45.939035',\n   'propvalue>48:M76:subcollection_and_shelf_number_concatenated:Fragment III'],\n  'status': '1',\n  'references': []},\n {'class': 'V',\n  'id': '5363d2a0-fda8-418b-8fe4-3c39f0b11dc1',\n  'label': 'Rubr. 7. IV. 3',\n  'language': '',\n  'detail': '',\n  'data': {'logicalType': '1'},\n  'props': [],\n  'notes': ['Import batch [development] 2023-01-13 19:35:45.939035',\n   'propvalue>48:M76:alternative_shelf_number:Rubr. 7. IV. 3'],\n  'status': '1',\n  'references': []},\n {'class': 'V',\n  'id': '2f5fe3fb-dbc0-4663-aab9-1051960551b5',\n  'label': '32.7',\n  'language': '',\n  'detail': '',\n  'data': {'logicalType': '1'},\n  'props': [],\n  'notes': ['Import batch [development] 2023-01-13 19:35:45.939035',\n   'propvalue>48:M76:height_cm:32.7'],\n  'status': '1',\n  'references': []},\n {'class': 'V',\n  'id': '07e9fb62-e269-4dbe-9080-9e9d3584156c',\n  'label': '20.1',\n  'language': '',\n  'detail': '',\n  'data': {'logicalType': '1'},\n  'props': [],\n  'notes': ['Import batch [development] 2023-01-13 19:35:45.939035',\n   'propvalue>48:M76:width_cm:20.1'],\n  'status': '1',\n  'references': []},\n {'class': 'V',\n  'id': '213969f0-c1de-4bff-9135-a27940dcd29b',\n  'label': '1',\n  'language': '',\n  'detail': '',\n  'data': {'logicalType': '1'},\n  'props': [],\n  'notes': ['Import batch [development] 2023-01-13 19:35:45.939035',\n   'propvalue>48:M76:folios_total:1'],\n  'status': '1',\n  'references': []},\n {'class': 'E',\n  'id': 'bc6ea1ef-5fd4-44ea-b0dc-1e7d6e09cd18',\n  'label': 'Creation of Heiligenkreuz, Heiligenkreuz Abbey, Fragment III',\n  'language': '',\n  'detail': '',\n  'data': {'logicalType': '1'},\n  'props': [],\n  'notes': ['Import batch [development] 2023-01-13 19:35:45.939035',\n   'special>:creation_event_id E0049_M76'],\n  'status': '1',\n  'references': [],\n  'legacyId': 'E0049_M76'},\n {'class': 'V',\n  'id': '8f4f8551-379a-4c69-bd64-665bfeb223cc',\n  'label': '1335',\n  'language': '',\n  'detail': '',\n  'data': {'logicalType': '1'},\n  'props': [],\n  'notes': ['Import batch [development] 2023-01-13 19:35:45.939035',\n   'special>:creation_event_id E0049_M76LegacyId: M76'],\n  'status': '1',\n  'references': []},\n {'class': 'V',\n  'id': '04840b1b-c983-40fc-bb50-42822d2375a7',\n  'label': '1335',\n  'language': '',\n  'detail': '',\n  'data': {'logicalType': '1'},\n  'props': [],\n  'notes': ['Import batch [development] 2023-01-13 19:35:45.939035',\n   'special>:creation_event_id E0049_M76LegacyId: M76'],\n  'status': '1',\n  'references': []},\n {'class': 'V',\n  'id': 'a8e125a9-19c8-455c-96a4-5f2126b24995',\n  'label': '1353',\n  'language': '',\n  'detail': '',\n  'data': {'logicalType': '1'},\n  'props': [],\n  'notes': ['Import batch [development] 2023-01-13 19:35:45.939035',\n   'special>:creation_event_id E0049_M76LegacyId: M76'],\n  'status': '1',\n  'references': []},\n {'class': 'V',\n  'id': '2c4e50e9-9783-4ef6-a78d-f0f5af9e7d05',\n  'label': '1355',\n  'language': '',\n  'detail': '',\n  'data': {'logicalType': '1'},\n  'props': [],\n  'notes': ['Import batch [development] 2023-01-13 19:35:45.939035',\n   'special>:creation_event_id E0049_M76LegacyId: M76'],\n  'status': '1',\n  'references': []},\n {'class': 'V',\n  'id': 'f38b3e67-63d0-4652-bcb2-78e217efc09f',\n  'label': 'Fragment IV',\n  'language': '',\n  'detail': '',\n  'data': {'logicalType': '1'},\n  'props': [],\n  'notes': ['Import batch [development] 2023-01-13 19:35:45.939035',\n   'propvalue>49:M77:subcollection_and_shelf_number_concatenated:Fragment IV'],\n  'status': '1',\n  'references': []},\n {'class': 'V',\n  'id': 'cd0b59b1-3182-4759-a2c0-18c6de41f39a',\n  'label': 'Rubr. 7. IV. 3',\n  'language': '',\n  'detail': '',\n  'data': {'logicalType': '1'},\n  'props': [],\n  'notes': ['Import batch [development] 2023-01-13 19:35:45.939035',\n   'propvalue>49:M77:alternative_shelf_number:Rubr. 7. IV. 3'],\n  'status': '1',\n  'references': []},\n {'class': 'V',\n  'id': 'b9c2dd17-4dbc-4878-8527-b1030d0acb55',\n  'label': '32.7',\n  'language': '',\n  'detail': '',\n  'data': {'logicalType': '1'},\n  'props': [],\n  'notes': ['Import batch [development] 2023-01-13 19:35:45.939035',\n   'propvalue>49:M77:height_cm:32.7'],\n  'status': '1',\n  'references': []},\n {'class': 'V',\n  'id': 'b53c4b97-27b0-43f2-a7d3-022e48abb1a4',\n  'label': '24',\n  'language': '',\n  'detail': '',\n  'data': {'logicalType': '1'},\n  'props': [],\n  'notes': ['Import batch [development] 2023-01-13 19:35:45.939035',\n   'propvalue>49:M77:width_cm:24'],\n  'status': '1',\n  'references': []},\n {'class': 'V',\n  'id': '00f3c82d-fb76-4b0d-8c68-cbdb1346b33f',\n  'label': '1',\n  'language': '',\n  'detail': '',\n  'data': {'logicalType': '1'},\n  'props': [],\n  'notes': ['Import batch [development] 2023-01-13 19:35:45.939035',\n   'propvalue>49:M77:folios_total:1'],\n  'status': '1',\n  'references': []},\n {'class': 'E',\n  'id': '1530705c-612f-435a-877e-c53406df868d',\n  'label': 'Creation of Heiligenkreuz, Heiligenkreuz Abbey, Fragment IV',\n  'language': '',\n  'detail': '',\n  'data': {'logicalType': '1'},\n  'props': [],\n  'notes': ['Import batch [development] 2023-01-13 19:35:45.939035',\n   'special>:creation_event_id E0050_M77'],\n  'status': '1',\n  'references': [],\n  'legacyId': 'E0050_M77'},\n {'class': 'V',\n  'id': '2f8bb72c-ec30-4eb9-8833-9cc1b4883142',\n  'label': '1335',\n  'language': '',\n  'detail': '',\n  'data': {'logicalType': '1'},\n  'props': [],\n  'notes': ['Import batch [development] 2023-01-13 19:35:45.939035',\n   'special>:creation_event_id E0050_M77LegacyId: M77'],\n  'status': '1',\n  'references': []},\n {'class': 'V',\n  'id': '3cecbb4f-0339-4b51-8c76-e7212f1c80fd',\n  'label': '1335',\n  'language': '',\n  'detail': '',\n  'data': {'logicalType': '1'},\n  'props': [],\n  'notes': ['Import batch [development] 2023-01-13 19:35:45.939035',\n   'special>:creation_event_id E0050_M77LegacyId: M77'],\n  'status': '1',\n  'references': []},\n {'class': 'V',\n  'id': '0fff4b43-632d-4c6c-b868-e298b42909aa',\n  'label': '1353',\n  'language': '',\n  'detail': '',\n  'data': {'logicalType': '1'},\n  'props': [],\n  'notes': ['Import batch [development] 2023-01-13 19:35:45.939035',\n   'special>:creation_event_id E0050_M77LegacyId: M77'],\n  'status': '1',\n  'references': []},\n {'class': 'V',\n  'id': 'dcc85887-cc69-41bf-bb60-a887bba5c120',\n  'label': '1355',\n  'language': '',\n  'detail': '',\n  'data': {'logicalType': '1'},\n  'props': [],\n  'notes': ['Import batch [development] 2023-01-13 19:35:45.939035',\n   'special>:creation_event_id E0050_M77LegacyId: M77'],\n  'status': '1',\n  'references': []},\n {'class': 'V',\n  'id': '32a50e18-516b-421b-86b0-df182bdaa999',\n  'label': 'ms. lat. 4269',\n  'language': '',\n  'detail': '',\n  'data': {'logicalType': '1'},\n  'props': [],\n  'notes': ['Import batch [development] 2023-01-13 19:35:45.939035',\n   'propvalue>50:M1:subcollection_and_shelf_number_concatenated:ms. lat. 4269'],\n  'status': '1',\n  'references': []},\n {'class': 'V',\n  'id': '4f03a1bc-0631-4ecd-b55d-44bf970966a1',\n  'label': '34',\n  'language': '',\n  'detail': '',\n  'data': {'logicalType': '1'},\n  'props': [],\n  'notes': ['Import batch [development] 2023-01-13 19:35:45.939035',\n   'propvalue>50:M1:height_cm:34'],\n  'status': '1',\n  'references': []},\n {'class': 'V',\n  'id': '5c942799-e863-4dc7-b530-d6a10a0f6a2f',\n  'label': '25.5',\n  'language': '',\n  'detail': '',\n  'data': {'logicalType': '1'},\n  'props': [],\n  'notes': ['Import batch [development] 2023-01-13 19:35:45.939035',\n   'propvalue>50:M1:width_cm:25.5'],\n  'status': '1',\n  'references': []},\n {'class': 'V',\n  'id': 'e9001b8f-7567-4b14-915a-726d710eaf97',\n  'label': '66',\n  'language': '',\n  'detail': '',\n  'data': {'logicalType': '1'},\n  'props': [],\n  'notes': ['Import batch [development] 2023-01-13 19:35:45.939035',\n   'propvalue>50:M1:folios_total:66'],\n  'status': '1',\n  'references': []},\n {'class': 'E',\n  'id': '597bafed-cea8-4707-9ae6-c166d5c34473',\n  'label': 'Creation of Paris, Bibliothèque nationale de France, ms. lat. 4269',\n  'language': '',\n  'detail': '',\n  'data': {'logicalType': '1'},\n  'props': [],\n  'notes': ['Import batch [development] 2023-01-13 19:35:45.939035',\n   'special>:creation_event_id E0051_M1'],\n  'status': '1',\n  'references': [],\n  'legacyId': 'E0051_M1'},\n {'class': 'V',\n  'id': '3e97fcb8-95b2-4b6f-a7dc-fab676b0d92b',\n  'label': '1308',\n  'language': '',\n  'detail': '',\n  'data': {'logicalType': '1'},\n  'props': [],\n  'notes': ['Import batch [development] 2023-01-13 19:35:45.939035',\n   'special>:creation_event_id E0051_M1LegacyId: M1'],\n  'status': '1',\n  'references': []},\n {'class': 'V',\n  'id': '32c52bd8-48c9-4f70-a11b-403256db1b38',\n  'label': '1309',\n  'language': '',\n  'detail': '',\n  'data': {'logicalType': '1'},\n  'props': [],\n  'notes': ['Import batch [development] 2023-01-13 19:35:45.939035',\n   'special>:creation_event_id E0051_M1LegacyId: M1'],\n  'status': '1',\n  'references': []},\n {'class': 'R',\n  'id': 'b65d7dbe-a83c-4730-92d7-268c805d5187',\n  'label': 'Reproduction of Paris, Bibliothèque nationale de France, ms. lat. 4269',\n  'language': '',\n  'detail': '',\n  'data': {'url': 'https://gallica.bnf.fr/ark:/12148/btv1b53157002b/f1.image',\n   'partValueBaseURL': '',\n   'partValueLabel': ''},\n  'props': [],\n  'notes': ['Import batch [development] 2023-01-13 19:35:45.939035'],\n  'status': '1',\n  'references': []},\n {'class': 'L',\n  'id': 'eebd971c-c921-439b-a11c-317833773152',\n  'label': 'Lincoln, Lincolnshire Archives',\n  'language': '',\n  'detail': '',\n  'data': {'logicalType': '1'},\n  'props': [],\n  'notes': ['Import batch [development] 2023-01-13 19:35:45.939035',\n   \"Making location 'Lincoln, Lincolnshire Archives' from M55 by field repository_label.\"],\n  'status': '1',\n  'references': [],\n  'legacyId': 'L_from_M55'},\n {'class': 'V',\n  'id': '679b19c5-fdae-41a6-aa8b-4a82bfbcb2f0',\n  'label': 'Episcopal Register 13',\n  'language': '',\n  'detail': '',\n  'data': {'logicalType': '1'},\n  'props': [],\n  'notes': ['Import batch [development] 2023-01-13 19:35:45.939035',\n   'propvalue>51:M55:subcollection_and_shelf_number_concatenated:Episcopal Register 13'],\n  'status': '1',\n  'references': []},\n {'class': 'E',\n  'id': '64547240-3fbb-4b08-9f09-0102a0131ebb',\n  'label': 'Creation of Lincoln, Lincolnshire Archives, Episcopal Register 13',\n  'language': '',\n  'detail': '',\n  'data': {'logicalType': '1'},\n  'props': [],\n  'notes': ['Import batch [development] 2023-01-13 19:35:45.939035',\n   'special>:creation_event_id E0052_M55'],\n  'status': '1',\n  'references': [],\n  'legacyId': 'E0052_M55'},\n {'class': 'V',\n  'id': 'a6562bfb-1937-4087-a6c7-177f04a76550',\n  'label': '1398',\n  'language': '',\n  'detail': '',\n  'data': {'logicalType': '1'},\n  'props': [],\n  'notes': ['Import batch [development] 2023-01-13 19:35:45.939035',\n   'special>:creation_event_id E0052_M55LegacyId: M55'],\n  'status': '1',\n  'references': []},\n {'class': 'V',\n  'id': '4498b180-ef0c-4785-a557-6ef21e33d09e',\n  'label': '1398',\n  'language': '',\n  'detail': '',\n  'data': {'logicalType': '1'},\n  'props': [],\n  'notes': ['Import batch [development] 2023-01-13 19:35:45.939035',\n   'special>:creation_event_id E0052_M55LegacyId: M55'],\n  'status': '1',\n  'references': []},\n {'class': 'V',\n  'id': '80aedfb5-23bc-4ecf-a146-8e8ac0702082',\n  'label': '1404',\n  'language': '',\n  'detail': '',\n  'data': {'logicalType': '1'},\n  'props': [],\n  'notes': ['Import batch [development] 2023-01-13 19:35:45.939035',\n   'special>:creation_event_id E0052_M55LegacyId: M55'],\n  'status': '1',\n  'references': []},\n {'class': 'V',\n  'id': '2f08ecce-db3a-48e5-b6d9-ca13421a3aed',\n  'label': '1404',\n  'language': '',\n  'detail': '',\n  'data': {'logicalType': '1'},\n  'props': [],\n  'notes': ['Import batch [development] 2023-01-13 19:35:45.939035',\n   'special>:creation_event_id E0052_M55LegacyId: M55'],\n  'status': '1',\n  'references': []},\n {'class': 'L',\n  'id': 'e81358f0-4473-404e-befb-c1c4fcb46a49',\n  'label': 'Winchester, Hampshire Record Office',\n  'language': '',\n  'detail': '',\n  'data': {'logicalType': '1'},\n  'props': [],\n  'notes': ['Import batch [development] 2023-01-13 19:35:45.939035',\n   \"Making location 'Winchester, Hampshire Record Office' from M59 by field repository_label.\"],\n  'status': '1',\n  'references': [],\n  'legacyId': 'L_from_M59'},\n {'class': 'V',\n  'id': 'ba9b4882-394d-47ab-9bca-24733b359b53',\n  'label': '21M65/A1/12',\n  'language': '',\n  'detail': '',\n  'data': {'logicalType': '1'},\n  'props': [],\n  'notes': ['Import batch [development] 2023-01-13 19:35:45.939035',\n   'propvalue>52:M59:subcollection_and_shelf_number_concatenated:21M65/A1/12'],\n  'status': '1',\n  'references': []},\n {'class': 'E',\n  'id': '5d05efa9-3f8f-4cfb-839a-9d94100fd8ae',\n  'label': 'Creation of Winchester, Hampshire Record Office, 21M65/A1/12',\n  'language': '',\n  'detail': '',\n  'data': {'logicalType': '1'},\n  'props': [],\n  'notes': ['Import batch [development] 2023-01-13 19:35:45.939035',\n   'special>:creation_event_id E0053_M59'],\n  'status': '1',\n  'references': [],\n  'legacyId': 'E0053_M59'},\n {'class': 'V',\n  'id': '3cbc8138-301b-4a36-b148-8b58d3e530cf',\n  'label': '1405',\n  'language': '',\n  'detail': '',\n  'data': {'logicalType': '1'},\n  'props': [],\n  'notes': ['Import batch [development] 2023-01-13 19:35:45.939035',\n   'special>:creation_event_id E0053_M59LegacyId: M59'],\n  'status': '1',\n  'references': []},\n {'class': 'V',\n  'id': '8b08ee8f-e918-43bd-b922-5d7cffb67b52',\n  'label': '1405',\n  'language': '',\n  'detail': '',\n  'data': {'logicalType': '1'},\n  'props': [],\n  'notes': ['Import batch [development] 2023-01-13 19:35:45.939035',\n   'special>:creation_event_id E0053_M59LegacyId: M59'],\n  'status': '1',\n  'references': []},\n {'class': 'V',\n  'id': 'dacdb281-aa1b-49f6-ba74-d9dd2dc4a80f',\n  'label': '1425',\n  'language': '',\n  'detail': '',\n  'data': {'logicalType': '1'},\n  'props': [],\n  'notes': ['Import batch [development] 2023-01-13 19:35:45.939035',\n   'special>:creation_event_id E0053_M59LegacyId: M59'],\n  'status': '1',\n  'references': []},\n {'class': 'V',\n  'id': 'a7558cb6-ded4-484d-9e71-d31372cc30c7',\n  'label': '1447',\n  'language': '',\n  'detail': '',\n  'data': {'logicalType': '1'},\n  'props': [],\n  'notes': ['Import batch [development] 2023-01-13 19:35:45.939035',\n   'special>:creation_event_id E0053_M59LegacyId: M59'],\n  'status': '1',\n  'references': []},\n {'class': 'L',\n  'id': '738dd393-2d4a-4169-8e63-fef4b49099cd',\n  'label': 'Vaticano, Biblioteca Apostolica Vaticana',\n  'language': '',\n  'detail': '',\n  'data': {'logicalType': '1'},\n  'props': [],\n  'notes': ['Import batch [development] 2023-01-13 19:35:45.939035',\n   \"Making location 'Vaticano, Biblioteca Apostolica Vaticana' from M3 by field repository_label.\"],\n  'status': '1',\n  'references': [],\n  'legacyId': 'L_from_M3'},\n {'class': 'V',\n  'id': 'e9d825ec-8ff6-41dd-a626-c58b4249f83e',\n  'label': 'Vat. Lat. 4030',\n  'language': '',\n  'detail': '',\n  'data': {'logicalType': '1'},\n  'props': [],\n  'notes': ['Import batch [development] 2023-01-13 19:35:45.939035',\n   'propvalue>53:M3:subcollection_and_shelf_number_concatenated:Vat. Lat. 4030'],\n  'status': '1',\n  'references': []},\n {'class': 'V',\n  'id': '0417710b-fbca-40d6-85ab-f7e3bd5d2e72',\n  'label': '37.5',\n  'language': '',\n  'detail': '',\n  'data': {'logicalType': '1'},\n  'props': [],\n  'notes': ['Import batch [development] 2023-01-13 19:35:45.939035',\n   'propvalue>53:M3:height_cm:37.5'],\n  'status': '1',\n  'references': []},\n {'class': 'V',\n  'id': 'bc455c18-84c6-4f18-bd15-e6c1092afac1',\n  'label': '26',\n  'language': '',\n  'detail': '',\n  'data': {'logicalType': '1'},\n  'props': [],\n  'notes': ['Import batch [development] 2023-01-13 19:35:45.939035',\n   'propvalue>53:M3:width_cm:26'],\n  'status': '1',\n  'references': []},\n {'class': 'V',\n  'id': 'a02e56d4-9fce-4a0a-8d50-4f47b5d6a885',\n  'label': '325',\n  'language': '',\n  'detail': '',\n  'data': {'logicalType': '1'},\n  'props': [],\n  'notes': ['Import batch [development] 2023-01-13 19:35:45.939035',\n   'propvalue>53:M3:folios_total:325'],\n  'status': '1',\n  'references': []},\n {'class': 'E',\n  'id': '30a9c70c-13f4-4439-8f0c-5fca5cd82fdc',\n  'label': 'Creation of Vaticano, Biblioteca Apostolica Vaticana, Vat. Lat. 4030',\n  'language': '',\n  'detail': '',\n  'data': {'logicalType': '1'},\n  'props': [],\n  'notes': ['Import batch [development] 2023-01-13 19:35:45.939035',\n   'special>:creation_event_id E0054_M3'],\n  'status': '1',\n  'references': [],\n  'legacyId': 'E0054_M3'},\n {'class': 'V',\n  'id': '5f074123-a41d-4fc8-a0eb-97fdac5a9201',\n  'label': '1325',\n  'language': '',\n  'detail': '',\n  'data': {'logicalType': '1'},\n  'props': [],\n  'notes': ['Import batch [development] 2023-01-13 19:35:45.939035',\n   'special>:creation_event_id E0054_M3LegacyId: M3'],\n  'status': '1',\n  'references': []},\n {'class': 'V',\n  'id': '6f26643a-5967-41b5-ab04-41f2d0238346',\n  'label': '1325',\n  'language': '',\n  'detail': '',\n  'data': {'logicalType': '1'},\n  'props': [],\n  'notes': ['Import batch [development] 2023-01-13 19:35:45.939035',\n   'special>:creation_event_id E0054_M3LegacyId: M3'],\n  'status': '1',\n  'references': []},\n {'class': 'V',\n  'id': 'e102c069-bcf2-4134-95cb-7236c9396686',\n  'label': '1326',\n  'language': '',\n  'detail': '',\n  'data': {'logicalType': '1'},\n  'props': [],\n  'notes': ['Import batch [development] 2023-01-13 19:35:45.939035',\n   'special>:creation_event_id E0054_M3LegacyId: M3'],\n  'status': '1',\n  'references': []},\n {'class': 'R',\n  'id': 'bc56599c-b4c0-4517-a40e-dbd7ca91d037',\n  'label': 'Reproduction of Vaticano, Biblioteca Apostolica Vaticana, Vat. Lat. 4030',\n  'language': '',\n  'detail': '',\n  'data': {'url': 'https://digi.vatlib.it/mss/detail/Vat.lat.4030',\n   'partValueBaseURL': '',\n   'partValueLabel': ''},\n  'props': [],\n  'notes': ['Import batch [development] 2023-01-13 19:35:45.939035'],\n  'status': '1',\n  'references': []},\n {'class': 'V',\n  'id': '36630fc9-2fd1-427c-8bd9-8dd2fc5b6832',\n  'label': 'Episcopal Register 12',\n  'language': '',\n  'detail': '',\n  'data': {'logicalType': '1'},\n  'props': [],\n  'notes': ['Import batch [development] 2023-01-13 19:35:45.939035',\n   'propvalue>54:M42:subcollection_and_shelf_number_concatenated:Episcopal Register 12'],\n  'status': '1',\n  'references': []},\n {'class': 'E',\n  'id': '475d9c28-15da-4c78-bb63-5cbb7382c453',\n  'label': 'Creation of Lincoln, Lincolnshire Archives, Episcopal Register 12',\n  'language': '',\n  'detail': '',\n  'data': {'logicalType': '1'},\n  'props': [],\n  'notes': ['Import batch [development] 2023-01-13 19:35:45.939035',\n   'special>:creation_event_id E0055_M42'],\n  'status': '1',\n  'references': [],\n  'legacyId': 'E0055_M42'},\n {'class': 'V',\n  'id': '98f95512-786a-4e41-9a63-419a958540b6',\n  'label': '1363',\n  'language': '',\n  'detail': '',\n  'data': {'logicalType': '1'},\n  'props': [],\n  'notes': ['Import batch [development] 2023-01-13 19:35:45.939035',\n   'special>:creation_event_id E0055_M42LegacyId: M42'],\n  'status': '1',\n  'references': []},\n {'class': 'V',\n  'id': '61fd339c-aeba-487c-b42f-aad6c23f0560',\n  'label': '1363',\n  'language': '',\n  'detail': '',\n  'data': {'logicalType': '1'},\n  'props': [],\n  'notes': ['Import batch [development] 2023-01-13 19:35:45.939035',\n   'special>:creation_event_id E0055_M42LegacyId: M42'],\n  'status': '1',\n  'references': []},\n {'class': 'V',\n  'id': '962d5536-1b15-4a69-bafa-9fdf49ad9d96',\n  'label': '1398',\n  'language': '',\n  'detail': '',\n  'data': {'logicalType': '1'},\n  'props': [],\n  'notes': ['Import batch [development] 2023-01-13 19:35:45.939035',\n   'special>:creation_event_id E0055_M42LegacyId: M42'],\n  'status': '1',\n  'references': []},\n {'class': 'V',\n  'id': '96c32d73-e004-456a-a176-ccba58ab71ff',\n  'label': '1398',\n  'language': '',\n  'detail': '',\n  'data': {'logicalType': '1'},\n  'props': [],\n  'notes': ['Import batch [development] 2023-01-13 19:35:45.939035',\n   'special>:creation_event_id E0055_M42LegacyId: M42'],\n  'status': '1',\n  'references': []},\n {'class': 'L',\n  'id': '79ab18c1-fb7e-4812-9e67-e1895c08abbf',\n  'label': 'Trowbridge, Wiltshire and Swindon Record Office',\n  'language': '',\n  'detail': '',\n  'data': {'logicalType': '1'},\n  'props': [],\n  'notes': ['Import batch [development] 2023-01-13 19:35:45.939035',\n   \"Making location 'Trowbridge, Wiltshire and Swindon Record Office' from M62 by field repository_label.\"],\n  'status': '1',\n  'references': [],\n  'legacyId': 'L_from_M62'},\n {'class': 'V',\n  'id': '711adf2d-82b7-4cda-b9c2-04400cfee5bf',\n  'label': 'MS D1/2/8',\n  'language': '',\n  'detail': '',\n  'data': {'logicalType': '1'},\n  'props': [],\n  'notes': ['Import batch [development] 2023-01-13 19:35:45.939035',\n   'propvalue>55:M62:subcollection_and_shelf_number_concatenated:MS D1/2/8'],\n  'status': '1',\n  'references': []},\n {'class': 'V',\n  'id': '1bbf5532-35f7-4562-9aa7-47a1fcbe7784',\n  'label': '80',\n  'language': '',\n  'detail': '',\n  'data': {'logicalType': '1'},\n  'props': [],\n  'notes': ['Import batch [development] 2023-01-13 19:35:45.939035',\n   'propvalue>55:M62:folios_total:80'],\n  'status': '1',\n  'references': []},\n {'class': 'E',\n  'id': 'cead6b71-ec02-4f28-a120-de84972ab41f',\n  'label': 'Creation of Trowbridge, Wiltshire and Swindon Record Office, MS D1/2/8',\n  'language': '',\n  'detail': '',\n  'data': {'logicalType': '1'},\n  'props': [],\n  'notes': ['Import batch [development] 2023-01-13 19:35:45.939035',\n   'special>:creation_event_id E0056_M62'],\n  'status': '1',\n  'references': [],\n  'legacyId': 'E0056_M62'},\n {'class': 'V',\n  'id': 'd1ddbcb9-a68e-48a5-baed-581bb731a5d0',\n  'label': '1417',\n  'language': '',\n  'detail': '',\n  'data': {'logicalType': '1'},\n  'props': [],\n  'notes': ['Import batch [development] 2023-01-13 19:35:45.939035',\n   'special>:creation_event_id E0056_M62LegacyId: M62'],\n  'status': '1',\n  'references': []},\n {'class': 'V',\n  'id': '5aa54425-20c6-43a4-b4fd-d8f61a85c73b',\n  'label': '1417',\n  'language': '',\n  'detail': '',\n  'data': {'logicalType': '1'},\n  'props': [],\n  'notes': ['Import batch [development] 2023-01-13 19:35:45.939035',\n   'special>:creation_event_id E0056_M62LegacyId: M62'],\n  'status': '1',\n  'references': []},\n {'class': 'V',\n  'id': 'e2e7441f-ac28-4bfd-bbba-a2e2107b7f07',\n  'label': '1426',\n  'language': '',\n  'detail': '',\n  'data': {'logicalType': '1'},\n  'props': [],\n  'notes': ['Import batch [development] 2023-01-13 19:35:45.939035',\n   'special>:creation_event_id E0056_M62LegacyId: M62'],\n  'status': '1',\n  'references': []},\n {'class': 'V',\n  'id': '556b4ff5-d461-4438-8dfd-9d7bd16c81ab',\n  'label': '1426',\n  'language': '',\n  'detail': '',\n  'data': {'logicalType': '1'},\n  'props': [],\n  'notes': ['Import batch [development] 2023-01-13 19:35:45.939035',\n   'special>:creation_event_id E0056_M62LegacyId: M62'],\n  'status': '1',\n  'references': []},\n {'class': 'L',\n  'id': '3522399a-3ece-4504-8dd9-1b6ab08cbfb4',\n  'label': 'Maidstone, Kent History and Library Centre',\n  'language': '',\n  'detail': '',\n  'data': {'logicalType': '1'},\n  'props': [],\n  'notes': ['Import batch [development] 2023-01-13 19:35:45.939035',\n   \"Making location 'Maidstone, Kent History and Library Centre' from M56 by field repository_label.\"],\n  'status': '1',\n  'references': [],\n  'legacyId': 'L_from_M56'},\n {'class': 'V',\n  'id': 'ee461c91-dcd5-44cd-b1f7-7480f9185639',\n  'label': 'DRb/Ar/1/6',\n  'language': '',\n  'detail': '',\n  'data': {'logicalType': '1'},\n  'props': [],\n  'notes': ['Import batch [development] 2023-01-13 19:35:45.939035',\n   'propvalue>56:M56:subcollection_and_shelf_number_concatenated:DRb/Ar/1/6'],\n  'status': '1',\n  'references': []},\n {'class': 'V',\n  'id': '22d84dfa-c842-4a49-8afe-05b4ccfe63ec',\n  'label': '52',\n  'language': '',\n  'detail': '',\n  'data': {'logicalType': '1'},\n  'props': [],\n  'notes': ['Import batch [development] 2023-01-13 19:35:45.939035',\n   'propvalue>56:M56:folios_total:52'],\n  'status': '1',\n  'references': []},\n {'class': 'E',\n  'id': '260d8b48-f99f-4299-a5cf-8d002a28f02e',\n  'label': 'Creation of Maidstone, Kent History and Library Centre, DRb/Ar/1/6',\n  'language': '',\n  'detail': '',\n  'data': {'logicalType': '1'},\n  'props': [],\n  'notes': ['Import batch [development] 2023-01-13 19:35:45.939035',\n   'special>:creation_event_id E0057_M56'],\n  'status': '1',\n  'references': [],\n  'legacyId': 'E0057_M56'},\n {'class': 'V',\n  'id': '05ae78c4-fe71-4b54-b78b-83d75748c308',\n  'label': '1400',\n  'language': '',\n  'detail': '',\n  'data': {'logicalType': '1'},\n  'props': [],\n  'notes': ['Import batch [development] 2023-01-13 19:35:45.939035',\n   'special>:creation_event_id E0057_M56LegacyId: M56'],\n  'status': '1',\n  'references': []},\n {'class': 'V',\n  'id': '5e1894bf-cde6-4ee4-bc19-4b81544c40b8',\n  'label': '1400',\n  'language': '',\n  'detail': '',\n  'data': {'logicalType': '1'},\n  'props': [],\n  'notes': ['Import batch [development] 2023-01-13 19:35:45.939035',\n   'special>:creation_event_id E0057_M56LegacyId: M56'],\n  'status': '1',\n  'references': []},\n {'class': 'V',\n  'id': 'ba88f04c-1dbd-4d17-92b8-f4e8a2d2eaea',\n  'label': '1404',\n  'language': '',\n  'detail': '',\n  'data': {'logicalType': '1'},\n  'props': [],\n  'notes': ['Import batch [development] 2023-01-13 19:35:45.939035',\n   'special>:creation_event_id E0057_M56LegacyId: M56'],\n  'status': '1',\n  'references': []},\n {'class': 'V',\n  'id': '919b6f3f-95c3-4343-8634-a452c0af8be7',\n  'label': '1404',\n  'language': '',\n  'detail': '',\n  'data': {'logicalType': '1'},\n  'props': [],\n  'notes': ['Import batch [development] 2023-01-13 19:35:45.939035',\n   'special>:creation_event_id E0057_M56LegacyId: M56'],\n  'status': '1',\n  'references': []},\n {'class': 'L',\n  'id': '0ba46bf7-b55f-4bb5-b7b3-7c649ebf93ea',\n  'label': 'Cambridge, Cambridge University Library',\n  'language': '',\n  'detail': '',\n  'data': {'logicalType': '1'},\n  'props': [],\n  'notes': ['Import batch [development] 2023-01-13 19:35:45.939035',\n   \"Making location 'Cambridge, Cambridge University Library' from M48 by field repository_label.\"],\n  'status': '1',\n  'references': [],\n  'legacyId': 'L_from_M48'},\n {'class': 'V',\n  'id': 'ecaca27a-99e0-41d2-9cf2-76cf0fd92f47',\n  'label': 'Ely Diocesan Registry, MS G/1/3',\n  'language': '',\n  'detail': '',\n  'data': {'logicalType': '1'},\n  'props': [],\n  'notes': ['Import batch [development] 2023-01-13 19:35:45.939035',\n   'propvalue>57:M48:subcollection_and_shelf_number_concatenated:Ely Diocesan Registry, MS G/1/3'],\n  'status': '1',\n  'references': []},\n {'class': 'E',\n  'id': '62e01305-a466-42f6-b47b-81a12713b695',\n  'label': 'Creation of Cambridge, Cambridge University Library, Ely Diocesan Registry, MS G/1/3',\n  'language': '',\n  'detail': '',\n  'data': {'logicalType': '1'},\n  'props': [],\n  'notes': ['Import batch [development] 2023-01-13 19:35:45.939035',\n   'special>:creation_event_id E0058_M48'],\n  'status': '1',\n  'references': [],\n  'legacyId': 'E0058_M48'},\n {'class': 'V',\n  'id': 'f11050cd-ffe5-4ac4-81b3-8d194c1e57cc',\n  'label': '1388',\n  'language': '',\n  'detail': '',\n  'data': {'logicalType': '1'},\n  'props': [],\n  'notes': ['Import batch [development] 2023-01-13 19:35:45.939035',\n   'special>:creation_event_id E0058_M48LegacyId: M48'],\n  'status': '1',\n  'references': []},\n {'class': 'V',\n  'id': '86bbc2c4-8979-46a2-834d-34abe246c272',\n  'label': '1388',\n  'language': '',\n  'detail': '',\n  'data': {'logicalType': '1'},\n  'props': [],\n  'notes': ['Import batch [development] 2023-01-13 19:35:45.939035',\n   'special>:creation_event_id E0058_M48LegacyId: M48'],\n  'status': '1',\n  'references': []},\n {'class': 'V',\n  'id': 'e47e9ea8-a873-464a-80fa-81d75a7ddefd',\n  'label': '1425',\n  'language': '',\n  'detail': '',\n  'data': {'logicalType': '1'},\n  'props': [],\n  'notes': ['Import batch [development] 2023-01-13 19:35:45.939035',\n   'special>:creation_event_id E0058_M48LegacyId: M48'],\n  'status': '1',\n  'references': []},\n {'class': 'V',\n  'id': 'e91870bc-5288-4084-a1d1-29d0765168dc',\n  'label': '1425',\n  'language': '',\n  'detail': '',\n  'data': {'logicalType': '1'},\n  'props': [],\n  'notes': ['Import batch [development] 2023-01-13 19:35:45.939035',\n   'special>:creation_event_id E0058_M48LegacyId: M48'],\n  'status': '1',\n  'references': []},\n {'class': 'V',\n  'id': '8981186b-632d-4654-a70d-078cd02f6916',\n  'label': 'ms. lat. 12856',\n  'language': '',\n  'detail': '',\n  'data': {'logicalType': '1'},\n  'props': [],\n  'notes': ['Import batch [development] 2023-01-13 19:35:45.939035',\n   'propvalue>58:M14:subcollection_and_shelf_number_concatenated:ms. lat. 12856'],\n  'status': '1',\n  'references': []},\n {'class': 'E',\n  'id': 'f01cdb6c-9699-4db4-b41f-9e83f5ea5916',\n  'label': 'Creation of Paris, Bibliothèque nationale de France, ms. lat. 12856',\n  'language': '',\n  'detail': '',\n  'data': {'logicalType': '1'},\n  'props': [],\n  'notes': ['Import batch [development] 2023-01-13 19:35:45.939035',\n   'special>:creation_event_id E0059_M14'],\n  'status': '1',\n  'references': [],\n  'legacyId': 'E0059_M14'},\n {'class': 'V',\n  'id': '6b0d1d4c-34a4-48cd-ac9c-60861cb6ff57',\n  'label': '1574',\n  'language': '',\n  'detail': '',\n  'data': {'logicalType': '1'},\n  'props': [],\n  'notes': ['Import batch [development] 2023-01-13 19:35:45.939035',\n   'special>:creation_event_id E0059_M14LegacyId: M14'],\n  'status': '1',\n  'references': []},\n {'class': 'R',\n  'id': 'b097087f-0517-4c3b-8906-83c2c9b9de6c',\n  'label': 'Reproduction of Paris, Bibliothèque nationale de France, ms. lat. 12856',\n  'language': '',\n  'detail': '',\n  'data': {'url': 'https://gallica.bnf.fr/ark:/12148/btv1b90680525',\n   'partValueBaseURL': '',\n   'partValueLabel': ''},\n  'props': [],\n  'notes': ['Import batch [development] 2023-01-13 19:35:45.939035'],\n  'status': '1',\n  'references': []},\n {'class': 'V',\n  'id': '4f10a704-b049-4a41-8e92-e3353a051103',\n  'label': 'B/A/1/12',\n  'language': '',\n  'detail': '',\n  'data': {'logicalType': '1'},\n  'props': [],\n  'notes': ['Import batch [development] 2023-01-13 19:35:45.939035',\n   'propvalue>59:M39:subcollection_and_shelf_number_concatenated:B/A/1/12'],\n  'status': '1',\n  'references': []},\n {'class': 'E',\n  'id': '52c87964-962d-4d48-9e12-458235512d3f',\n  'label': 'Creation of Stafford, Staffordshire Record Office, B/A/1/12',\n  'language': '',\n  'detail': '',\n  'data': {'logicalType': '1'},\n  'props': [],\n  'notes': ['Import batch [development] 2023-01-13 19:35:45.939035',\n   'special>:creation_event_id E0060_M39'],\n  'status': '1',\n  'references': [],\n  'legacyId': 'E0060_M39'},\n {'class': 'V',\n  'id': '38ceabeb-6a06-454c-86ed-78e496b80196',\n  'label': '1486',\n  'language': '',\n  'detail': '',\n  'data': {'logicalType': '1'},\n  'props': [],\n  'notes': ['Import batch [development] 2023-01-13 19:35:45.939035',\n   'special>:creation_event_id E0060_M39LegacyId: M39'],\n  'status': '1',\n  'references': []},\n {'class': 'V',\n  'id': '2c6b3296-e50f-429a-835b-adb9cdc1e736',\n  'label': '1490',\n  'language': '',\n  'detail': '',\n  'data': {'logicalType': '1'},\n  'props': [],\n  'notes': ['Import batch [development] 2023-01-13 19:35:45.939035',\n   'special>:creation_event_id E0060_M39LegacyId: M39'],\n  'status': '1',\n  'references': []},\n {'class': 'V',\n  'id': '38fa5bc0-9de0-446d-b4a6-fdf30b458b5e',\n  'label': '1490',\n  'language': '',\n  'detail': '',\n  'data': {'logicalType': '1'},\n  'props': [],\n  'notes': ['Import batch [development] 2023-01-13 19:35:45.939035',\n   'special>:creation_event_id E0060_M39LegacyId: M39'],\n  'status': '1',\n  'references': []},\n {'class': 'V',\n  'id': '305908a1-ffef-4219-905a-1546f7a2dae1',\n  'label': 'DRb/Ar/1/8',\n  'language': '',\n  'detail': '',\n  'data': {'logicalType': '1'},\n  'props': [],\n  'notes': ['Import batch [development] 2023-01-13 19:35:45.939035',\n   'propvalue>60:M65:subcollection_and_shelf_number_concatenated:DRb/Ar/1/8'],\n  'status': '1',\n  'references': []},\n {'class': 'V',\n  'id': '611a7015-22d4-4a23-95bd-82ef21bede73',\n  'label': '98',\n  'language': '',\n  'detail': '',\n  'data': {'logicalType': '1'},\n  'props': [],\n  'notes': ['Import batch [development] 2023-01-13 19:35:45.939035',\n   'propvalue>60:M65:folios_total:98'],\n  'status': '1',\n  'references': []},\n {'class': 'E',\n  'id': 'e8bc836a-c15c-4d96-b99b-8491fa52d575',\n  'label': 'Creation of Maidstone, Kent History and Library Centre, DRb/Ar/1/8',\n  'language': '',\n  'detail': '',\n  'data': {'logicalType': '1'},\n  'props': [],\n  'notes': ['Import batch [development] 2023-01-13 19:35:45.939035',\n   'special>:creation_event_id E0061_M65'],\n  'status': '1',\n  'references': [],\n  'legacyId': 'E0061_M65'},\n {'class': 'V',\n  'id': '68b70ecf-b4df-49b0-84b9-62b227fd2a43',\n  'label': '1422',\n  'language': '',\n  'detail': '',\n  'data': {'logicalType': '1'},\n  'props': [],\n  'notes': ['Import batch [development] 2023-01-13 19:35:45.939035',\n   'special>:creation_event_id E0061_M65LegacyId: M65'],\n  'status': '1',\n  'references': []},\n {'class': 'V',\n  'id': 'f6e1ef83-7522-4158-8f6f-d0ed4aa32ef9',\n  'label': '1422',\n  'language': '',\n  'detail': '',\n  'data': {'logicalType': '1'},\n  'props': [],\n  'notes': ['Import batch [development] 2023-01-13 19:35:45.939035',\n   'special>:creation_event_id E0061_M65LegacyId: M65'],\n  'status': '1',\n  'references': []},\n {'class': 'V',\n  'id': '0f2a37c1-7fd4-4dec-b300-a3c458de2fa3',\n  'label': '1434',\n  'language': '',\n  'detail': '',\n  'data': {'logicalType': '1'},\n  'props': [],\n  'notes': ['Import batch [development] 2023-01-13 19:35:45.939035',\n   'special>:creation_event_id E0061_M65LegacyId: M65'],\n  'status': '1',\n  'references': []},\n {'class': 'V',\n  'id': '4a901996-75db-424f-8f1a-a6fc09e18fae',\n  'label': '1434',\n  'language': '',\n  'detail': '',\n  'data': {'logicalType': '1'},\n  'props': [],\n  'notes': ['Import batch [development] 2023-01-13 19:35:45.939035',\n   'special>:creation_event_id E0061_M65LegacyId: M65'],\n  'status': '1',\n  'references': []},\n {'class': 'L',\n  'id': '0f3ecce3-66fa-4dc1-b41e-b193e45db708',\n  'label': 'Norwich, Norfolk Record Office',\n  'language': '',\n  'detail': '',\n  'data': {'logicalType': '1'},\n  'props': [],\n  'notes': ['Import batch [development] 2023-01-13 19:35:45.939035',\n   \"Making location 'Norwich, Norfolk Record Office' from M61 by field repository_label.\"],\n  'status': '1',\n  'references': [],\n  'legacyId': 'L_from_M61'},\n {'class': 'V',\n  'id': '0666d482-f4a8-4f1a-b18e-e51906318139',\n  'label': 'DN Reg/4/8',\n  'language': '',\n  'detail': '',\n  'data': {'logicalType': '1'},\n  'props': [],\n  'notes': ['Import batch [development] 2023-01-13 19:35:45.939035',\n   'propvalue>61:M61:subcollection_and_shelf_number_concatenated:DN Reg/4/8'],\n  'status': '1',\n  'references': []},\n {'class': 'E',\n  'id': '273d6bd4-02b8-47f9-91f6-d44646ba0c95',\n  'label': 'Creation of Norwich, Norfolk Record Office, DN Reg/4/8',\n  'language': '',\n  'detail': '',\n  'data': {'logicalType': '1'},\n  'props': [],\n  'notes': ['Import batch [development] 2023-01-13 19:35:45.939035',\n   'special>:creation_event_id E0062_M61'],\n  'status': '1',\n  'references': [],\n  'legacyId': 'E0062_M61'},\n {'class': 'V',\n  'id': 'b9ecd9f5-e230-41eb-bc2f-20ff52af3491',\n  'label': '1416',\n  'language': '',\n  'detail': '',\n  'data': {'logicalType': '1'},\n  'props': [],\n  'notes': ['Import batch [development] 2023-01-13 19:35:45.939035',\n   'special>:creation_event_id E0062_M61LegacyId: M61'],\n  'status': '1',\n  'references': []},\n {'class': 'V',\n  'id': '283fba65-9e15-4435-86b7-f78985bfbff2',\n  'label': '1416',\n  'language': '',\n  'detail': '',\n  'data': {'logicalType': '1'},\n  'props': [],\n  'notes': ['Import batch [development] 2023-01-13 19:35:45.939035',\n   'special>:creation_event_id E0062_M61LegacyId: M61'],\n  'status': '1',\n  'references': []},\n {'class': 'V',\n  'id': 'e889e7ac-49d1-4c2f-8837-05937b3cd0a8',\n  'label': '1425',\n  'language': '',\n  'detail': '',\n  'data': {'logicalType': '1'},\n  'props': [],\n  'notes': ['Import batch [development] 2023-01-13 19:35:45.939035',\n   'special>:creation_event_id E0062_M61LegacyId: M61'],\n  'status': '1',\n  'references': []},\n {'class': 'V',\n  'id': '11f00af0-4917-414d-9384-16ed4ce401bf',\n  'label': '1425',\n  'language': '',\n  'detail': '',\n  'data': {'logicalType': '1'},\n  'props': [],\n  'notes': ['Import batch [development] 2023-01-13 19:35:45.939035',\n   'special>:creation_event_id E0062_M61LegacyId: M61'],\n  'status': '1',\n  'references': []},\n {'class': 'L',\n  'id': '0a767f5d-42d4-4a79-bd88-d527ccc524d5',\n  'label': 'Wolfenbüttel, Herzog August Bibliothek',\n  'language': '',\n  'detail': '',\n  'data': {'logicalType': '1'},\n  'props': [],\n  'notes': ['Import batch [development] 2023-01-13 19:35:45.939035',\n   \"Making location 'Wolfenbüttel, Herzog August Bibliothek' from M80 by field repository_label.\"],\n  'status': '1',\n  'references': [],\n  'legacyId': 'L_from_M80'},\n {'class': 'V',\n  'id': '7b1e6c1e-20e0-48c6-a28a-6c51067b327c',\n  'label': 'Cod. Guelf. 403 Helmst. I II',\n  'language': '',\n  'detail': '',\n  'data': {'logicalType': '1'},\n  'props': [],\n  'notes': ['Import batch [development] 2023-01-13 19:35:45.939035',\n   'propvalue>62:M80:subcollection_and_shelf_number_concatenated:Cod. Guelf. 403 Helmst. I II'],\n  'status': '1',\n  'references': []},\n {'class': 'V',\n  'id': '9e6f185f-edc4-466d-8f20-80a8177cc43a',\n  'label': '23',\n  'language': '',\n  'detail': '',\n  'data': {'logicalType': '1'},\n  'props': [],\n  'notes': ['Import batch [development] 2023-01-13 19:35:45.939035',\n   'propvalue>62:M80:height_cm:23'],\n  'status': '1',\n  'references': []},\n {'class': 'V',\n  'id': 'b2790feb-206d-437a-a296-179036903912',\n  'label': '12',\n  'language': '',\n  'detail': '',\n  'data': {'logicalType': '1'},\n  'props': [],\n  'notes': ['Import batch [development] 2023-01-13 19:35:45.939035',\n   'propvalue>62:M80:width_cm:12'],\n  'status': '1',\n  'references': []},\n {'class': 'E',\n  'id': 'b75c7ab8-6bdb-499e-8d41-12fd6a6d18c4',\n  'label': 'Creation of Wolfenbüttel, Herzog August Bibliothek, Cod. Guelf. 403 Helmst. I II',\n  'language': '',\n  'detail': '',\n  'data': {'logicalType': '1'},\n  'props': [],\n  'notes': ['Import batch [development] 2023-01-13 19:35:45.939035',\n   'special>:creation_event_id E0063_M80'],\n  'status': '1',\n  'references': [],\n  'legacyId': 'E0063_M80'},\n {'class': 'V',\n  'id': '5ffcb733-65d9-4a99-a212-8d2b32e3c892',\n  'label': '1392',\n  'language': '',\n  'detail': '',\n  'data': {'logicalType': '1'},\n  'props': [],\n  'notes': ['Import batch [development] 2023-01-13 19:35:45.939035',\n   'special>:creation_event_id E0063_M80LegacyId: M80'],\n  'status': '1',\n  'references': []},\n {'class': 'V',\n  'id': '3e3bf4b7-68c8-4299-ad99-b02c21245e01',\n  'label': '1393',\n  'language': '',\n  'detail': '',\n  'data': {'logicalType': '1'},\n  'props': [],\n  'notes': ['Import batch [development] 2023-01-13 19:35:45.939035',\n   'special>:creation_event_id E0063_M80LegacyId: M80'],\n  'status': '1',\n  'references': []},\n {'class': 'V',\n  'id': '188fb3bc-e414-40d5-9a8e-59e007759b4c',\n  'label': '1394',\n  'language': '',\n  'detail': '',\n  'data': {'logicalType': '1'},\n  'props': [],\n  'notes': ['Import batch [development] 2023-01-13 19:35:45.939035',\n   'special>:creation_event_id E0063_M80LegacyId: M80'],\n  'status': '1',\n  'references': []},\n {'class': 'V',\n  'id': 'e5071369-7afb-4610-b7e5-1bcfec7963da',\n  'label': '1394',\n  'language': '',\n  'detail': '',\n  'data': {'logicalType': '1'},\n  'props': [],\n  'notes': ['Import batch [development] 2023-01-13 19:35:45.939035',\n   'special>:creation_event_id E0063_M80LegacyId: M80'],\n  'status': '1',\n  'references': []},\n {'class': 'L',\n  'id': '04959f9a-7d09-48cb-8114-fdd0c17c88df',\n  'label': 'Worcester, Worcestershire Record Office',\n  'language': '',\n  'detail': '',\n  'data': {'logicalType': '1'},\n  'props': [],\n  'notes': ['Import batch [development] 2023-01-13 19:35:45.939035',\n   \"Making location 'Worcester, Worcestershire Record Office' from M63 by field repository_label.\"],\n  'status': '1',\n  'references': [],\n  'legacyId': 'L_from_M63'},\n {'class': 'E',\n  'id': '74937048-3e03-4dff-be85-b695f581045e',\n  'label': 'Creation of Worcester, Worcestershire Record Office, ',\n  'language': '',\n  'detail': '',\n  'data': {'logicalType': '1'},\n  'props': [],\n  'notes': ['Import batch [development] 2023-01-13 19:35:45.939035',\n   'special>:creation_event_id E0064_M63'],\n  'status': '1',\n  'references': [],\n  'legacyId': 'E0064_M63'},\n {'class': 'V',\n  'id': 'fc0eecf3-3b2a-4da1-b90c-89c6253f2367',\n  'label': '1419',\n  'language': '',\n  'detail': '',\n  'data': {'logicalType': '1'},\n  'props': [],\n  'notes': ['Import batch [development] 2023-01-13 19:35:45.939035',\n   'special>:creation_event_id E0064_M63LegacyId: M63'],\n  'status': '1',\n  'references': []},\n {'class': 'V',\n  'id': '1fa94897-b259-4ebb-bb5d-5adffdda0b08',\n  'label': '1419',\n  'language': '',\n  'detail': '',\n  'data': {'logicalType': '1'},\n  'props': [],\n  'notes': ['Import batch [development] 2023-01-13 19:35:45.939035',\n   'special>:creation_event_id E0064_M63LegacyId: M63'],\n  'status': '1',\n  'references': []},\n {'class': 'V',\n  'id': '70e1403f-cfd3-4b8a-a0d0-d6d0fde239f0',\n  'label': '1426',\n  'language': '',\n  'detail': '',\n  'data': {'logicalType': '1'},\n  'props': [],\n  'notes': ['Import batch [development] 2023-01-13 19:35:45.939035',\n   'special>:creation_event_id E0064_M63LegacyId: M63'],\n  'status': '1',\n  'references': []},\n {'class': 'V',\n  'id': '019be79e-d468-4012-af54-1f839e1ec6c3',\n  'label': '1425',\n  'language': '',\n  'detail': '',\n  'data': {'logicalType': '1'},\n  'props': [],\n  'notes': ['Import batch [development] 2023-01-13 19:35:45.939035',\n   'special>:creation_event_id E0064_M63LegacyId: M63'],\n  'status': '1',\n  'references': []},\n {'class': 'V',\n  'id': 'edb18b2c-d6e5-47a5-a6de-fb74bbeafc94',\n  'label': 'MS D1/2/4',\n  'language': '',\n  'detail': '',\n  'data': {'logicalType': '1'},\n  'props': [],\n  'notes': ['Import batch [development] 2023-01-13 19:35:45.939035',\n   'propvalue>64:M45:subcollection_and_shelf_number_concatenated:MS D1/2/4'],\n  'status': '1',\n  'references': []},\n {'class': 'V',\n  'id': 'cb881207-2408-46d1-a677-644592a2fc3e',\n  'label': '209',\n  'language': '',\n  'detail': '',\n  'data': {'logicalType': '1'},\n  'props': [],\n  'notes': ['Import batch [development] 2023-01-13 19:35:45.939035',\n   'propvalue>64:M45:folios_total:209'],\n  'status': '1',\n  'references': []},\n {'class': 'E',\n  'id': '8f8831a4-b1c6-4f79-bd1d-d6d74381c5f4',\n  'label': 'Creation of Trowbridge, Wiltshire and Swindon Record Office, MS D1/2/4',\n  'language': '',\n  'detail': '',\n  'data': {'logicalType': '1'},\n  'props': [],\n  'notes': ['Import batch [development] 2023-01-13 19:35:45.939035',\n   'special>:creation_event_id E0065_M45'],\n  'status': '1',\n  'references': [],\n  'legacyId': 'E0065_M45'},\n {'class': 'V',\n  'id': 'be4f5741-782f-4253-88b5-364e7a53f235',\n  'label': '1375',\n  'language': '',\n  'detail': '',\n  'data': {'logicalType': '1'},\n  'props': [],\n  'notes': ['Import batch [development] 2023-01-13 19:35:45.939035',\n   'special>:creation_event_id E0065_M45LegacyId: M45'],\n  'status': '1',\n  'references': []},\n {'class': 'V',\n  'id': '44088274-f8fb-42e8-a4c3-7890727e20f6',\n  'label': '1375',\n  'language': '',\n  'detail': '',\n  'data': {'logicalType': '1'},\n  'props': [],\n  'notes': ['Import batch [development] 2023-01-13 19:35:45.939035',\n   'special>:creation_event_id E0065_M45LegacyId: M45'],\n  'status': '1',\n  'references': []},\n {'class': 'V',\n  'id': '7510f43c-98a8-43e1-b41a-4b90979bec22',\n  'label': '1388',\n  'language': '',\n  'detail': '',\n  'data': {'logicalType': '1'},\n  'props': [],\n  'notes': ['Import batch [development] 2023-01-13 19:35:45.939035',\n   'special>:creation_event_id E0065_M45LegacyId: M45'],\n  'status': '1',\n  'references': []},\n {'class': 'V',\n  'id': '9b17f44a-3064-4386-ac06-423a3d8b928b',\n  'label': '1388',\n  'language': '',\n  'detail': '',\n  'data': {'logicalType': '1'},\n  'props': [],\n  'notes': ['Import batch [development] 2023-01-13 19:35:45.939035',\n   'special>:creation_event_id E0065_M45LegacyId: M45'],\n  'status': '1',\n  'references': []},\n {'class': 'V',\n  'id': '53903c9e-c877-4967-94a2-609e71c64a0d',\n  'label': 'Episcopal Register 16',\n  'language': '',\n  'detail': '',\n  'data': {'logicalType': '1'},\n  'props': [],\n  'notes': ['Import batch [development] 2023-01-13 19:35:45.939035',\n   'propvalue>65:M64:subcollection_and_shelf_number_concatenated:Episcopal Register 16'],\n  'status': '1',\n  'references': []},\n {'class': 'E',\n  'id': '19a74864-a731-42a6-a05a-36916ba04310',\n  'label': 'Creation of Lincoln, Lincolnshire Archives, Episcopal Register 16',\n  'language': '',\n  'detail': '',\n  'data': {'logicalType': '1'},\n  'props': [],\n  'notes': ['Import batch [development] 2023-01-13 19:35:45.939035',\n   'special>:creation_event_id E0066_M64'],\n  'status': '1',\n  'references': [],\n  'legacyId': 'E0066_M64'},\n {'class': 'V',\n  'id': '3fc8858b-59f9-4540-aedb-cbb1f980fccb',\n  'label': '1420',\n  'language': '',\n  'detail': '',\n  'data': {'logicalType': '1'},\n  'props': [],\n  'notes': ['Import batch [development] 2023-01-13 19:35:45.939035',\n   'special>:creation_event_id E0066_M64LegacyId: M64'],\n  'status': '1',\n  'references': []},\n {'class': 'V',\n  'id': 'e1b6330b-223a-40e6-90eb-db27c1cd8c8d',\n  'label': '1420',\n  'language': '',\n  'detail': '',\n  'data': {'logicalType': '1'},\n  'props': [],\n  'notes': ['Import batch [development] 2023-01-13 19:35:45.939035',\n   'special>:creation_event_id E0066_M64LegacyId: M64'],\n  'status': '1',\n  'references': []},\n {'class': 'V',\n  'id': '898a2db4-a29a-4c70-a0af-e29bd6018b19',\n  'label': '1431',\n  'language': '',\n  'detail': '',\n  'data': {'logicalType': '1'},\n  'props': [],\n  'notes': ['Import batch [development] 2023-01-13 19:35:45.939035',\n   'special>:creation_event_id E0066_M64LegacyId: M64'],\n  'status': '1',\n  'references': []},\n {'class': 'V',\n  'id': '0d02d822-5233-4740-840c-69f1eddcdd43',\n  'label': '1431',\n  'language': '',\n  'detail': '',\n  'data': {'logicalType': '1'},\n  'props': [],\n  'notes': ['Import batch [development] 2023-01-13 19:35:45.939035',\n   'special>:creation_event_id E0066_M64LegacyId: M64'],\n  'status': '1',\n  'references': []},\n {'class': 'V',\n  'id': 'b7c79c25-6211-4989-9c3d-906105e3aa77',\n  'label': 'DRb/Ar/1/7',\n  'language': '',\n  'detail': '',\n  'data': {'logicalType': '1'},\n  'props': [],\n  'notes': ['Import batch [development] 2023-01-13 19:35:45.939035',\n   'propvalue>66:M57:subcollection_and_shelf_number_concatenated:DRb/Ar/1/7'],\n  'status': '1',\n  'references': []},\n {'class': 'V',\n  'id': '4f801ddf-0333-4bba-b733-77de7dc97b12',\n  'label': '6',\n  'language': '',\n  'detail': '',\n  'data': {'logicalType': '1'},\n  'props': [],\n  'notes': ['Import batch [development] 2023-01-13 19:35:45.939035',\n   'propvalue>66:M57:folios_total:6'],\n  'status': '1',\n  'references': []},\n {'class': 'E',\n  'id': 'caf09adf-97d9-43b0-878f-646244e3ffab',\n  'label': 'Creation of Maidstone, Kent History and Library Centre, DRb/Ar/1/7',\n  'language': '',\n  'detail': '',\n  'data': {'logicalType': '1'},\n  'props': [],\n  'notes': ['Import batch [development] 2023-01-13 19:35:45.939035',\n   'special>:creation_event_id E0067_M57'],\n  'status': '1',\n  'references': [],\n  'legacyId': 'E0067_M57'},\n {'class': 'V',\n  'id': 'a3b2fa19-c5ce-4967-a003-ad020db46d23',\n  'label': '1404',\n  'language': '',\n  'detail': '',\n  'data': {'logicalType': '1'},\n  'props': [],\n  'notes': ['Import batch [development] 2023-01-13 19:35:45.939035',\n   'special>:creation_event_id E0067_M57LegacyId: M57'],\n  'status': '1',\n  'references': []},\n {'class': 'V',\n  'id': '2385246a-e3d5-45e9-94a7-829512f940b0',\n  'label': '1404',\n  'language': '',\n  'detail': '',\n  'data': {'logicalType': '1'},\n  'props': [],\n  'notes': ['Import batch [development] 2023-01-13 19:35:45.939035',\n   'special>:creation_event_id E0067_M57LegacyId: M57'],\n  'status': '1',\n  'references': []},\n {'class': 'V',\n  'id': '02e1ae8a-ed56-4232-88f9-4fb8a3462c23',\n  'label': '1418',\n  'language': '',\n  'detail': '',\n  'data': {'logicalType': '1'},\n  'props': [],\n  'notes': ['Import batch [development] 2023-01-13 19:35:45.939035',\n   'special>:creation_event_id E0067_M57LegacyId: M57'],\n  'status': '1',\n  'references': []},\n {'class': 'V',\n  'id': '24f0f612-eaae-4a18-bc1b-5418227fc714',\n  'label': '1418',\n  'language': '',\n  'detail': '',\n  'data': {'logicalType': '1'},\n  'props': [],\n  'notes': ['Import batch [development] 2023-01-13 19:35:45.939035',\n   'special>:creation_event_id E0067_M57LegacyId: M57'],\n  'status': '1',\n  'references': []},\n {'class': 'L',\n  'id': 'de739551-e709-4f6e-b519-9e394601fcfb',\n  'label': 'London, Guildhall Library',\n  'language': '',\n  'detail': '',\n  'data': {'logicalType': '1'},\n  'props': [],\n  'notes': ['Import batch [development] 2023-01-13 19:35:45.939035',\n   \"Making location 'London, Guildhall Library' from M47 by field repository_label.\"],\n  'status': '1',\n  'references': [],\n  'legacyId': 'L_from_M47'},\n {'class': 'V',\n  'id': '334539cd-7d2b-4ec4-83ad-a10cfd2c7276',\n  'label': 'MS 9531/3',\n  'language': '',\n  'detail': '',\n  'data': {'logicalType': '1'},\n  'props': [],\n  'notes': ['Import batch [development] 2023-01-13 19:35:45.939035',\n   'propvalue>67:M47:subcollection_and_shelf_number_concatenated:MS 9531/3'],\n  'status': '1',\n  'references': []},\n {'class': 'E',\n  'id': '2dc4e559-c3f6-4a95-8e3b-212fdf9876cd',\n  'label': 'Creation of London, Guildhall Library, MS 9531/3',\n  'language': '',\n  'detail': '',\n  'data': {'logicalType': '1'},\n  'props': [],\n  'notes': ['Import batch [development] 2023-01-13 19:35:45.939035',\n   'special>:creation_event_id E0068_M47'],\n  'status': '1',\n  'references': [],\n  'legacyId': 'E0068_M47'},\n {'class': 'V',\n  'id': '8cd631bf-9a1f-4643-ba0b-528c36265295',\n  'label': '1382',\n  'language': '',\n  'detail': '',\n  'data': {'logicalType': '1'},\n  'props': [],\n  'notes': ['Import batch [development] 2023-01-13 19:35:45.939035',\n   'special>:creation_event_id E0068_M47LegacyId: M47'],\n  'status': '1',\n  'references': []},\n {'class': 'V',\n  'id': 'ff7bd0ea-32d4-4d00-9db9-ef553586fdce',\n  'label': '1382',\n  'language': '',\n  'detail': '',\n  'data': {'logicalType': '1'},\n  'props': [],\n  'notes': ['Import batch [development] 2023-01-13 19:35:45.939035',\n   'special>:creation_event_id E0068_M47LegacyId: M47'],\n  'status': '1',\n  'references': []},\n {'class': 'V',\n  'id': '5831844e-b921-45cd-82eb-f6586265d954',\n  'label': '1404',\n  'language': '',\n  'detail': '',\n  'data': {'logicalType': '1'},\n  'props': [],\n  'notes': ['Import batch [development] 2023-01-13 19:35:45.939035',\n   'special>:creation_event_id E0068_M47LegacyId: M47'],\n  'status': '1',\n  'references': []},\n {'class': 'V',\n  'id': '0d0e2cff-ec6c-4d0c-99e6-d62bfb34ab90',\n  'label': '1404',\n  'language': '',\n  'detail': '',\n  'data': {'logicalType': '1'},\n  'props': [],\n  'notes': ['Import batch [development] 2023-01-13 19:35:45.939035',\n   'special>:creation_event_id E0068_M47LegacyId: M47'],\n  'status': '1',\n  'references': []},\n {'class': 'V',\n  'id': '7a830d23-b1de-474f-97e2-71f51c28a904',\n  'label': 'MS D1/2/9',\n  'language': '',\n  'detail': '',\n  'data': {'logicalType': '1'},\n  'props': [],\n  'notes': ['Import batch [development] 2023-01-13 19:35:45.939035',\n   'propvalue>68:M67:subcollection_and_shelf_number_concatenated:MS D1/2/9'],\n  'status': '1',\n  'references': []},\n {'class': 'V',\n  'id': '011486c2-f833-468b-b909-a3319cc65336',\n  'label': '136',\n  'language': '',\n  'detail': '',\n  'data': {'logicalType': '1'},\n  'props': [],\n  'notes': ['Import batch [development] 2023-01-13 19:35:45.939035',\n   'propvalue>68:M67:folios_total:136'],\n  'status': '1',\n  'references': []},\n {'class': 'E',\n  'id': 'b94315bf-8839-420c-8250-6d61d970c491',\n  'label': 'Creation of Trowbridge, Wiltshire and Swindon Record Office, MS D1/2/9',\n  'language': '',\n  'detail': '',\n  'data': {'logicalType': '1'},\n  'props': [],\n  'notes': ['Import batch [development] 2023-01-13 19:35:45.939035',\n   'special>:creation_event_id E0069_M67'],\n  'status': '1',\n  'references': [],\n  'legacyId': 'E0069_M67'},\n {'class': 'V',\n  'id': 'c8665bd5-d453-487c-a8c9-c8ae83b33f47',\n  'label': '1427',\n  'language': '',\n  'detail': '',\n  'data': {'logicalType': '1'},\n  'props': [],\n  'notes': ['Import batch [development] 2023-01-13 19:35:45.939035',\n   'special>:creation_event_id E0069_M67LegacyId: M67'],\n  'status': '1',\n  'references': []},\n {'class': 'V',\n  'id': '2c5117e0-c1a3-418b-9953-dfc039bfca96',\n  'label': '1427',\n  'language': '',\n  'detail': '',\n  'data': {'logicalType': '1'},\n  'props': [],\n  'notes': ['Import batch [development] 2023-01-13 19:35:45.939035',\n   'special>:creation_event_id E0069_M67LegacyId: M67'],\n  'status': '1',\n  'references': []},\n {'class': 'V',\n  'id': 'd033ec00-fe14-4936-a869-79a45436a51a',\n  'label': '1438',\n  'language': '',\n  'detail': '',\n  'data': {'logicalType': '1'},\n  'props': [],\n  'notes': ['Import batch [development] 2023-01-13 19:35:45.939035',\n   'special>:creation_event_id E0069_M67LegacyId: M67'],\n  'status': '1',\n  'references': []},\n {'class': 'V',\n  'id': '417c2297-e3ca-4869-ab57-7b52dcad222d',\n  'label': '1438',\n  'language': '',\n  'detail': '',\n  'data': {'logicalType': '1'},\n  'props': [],\n  'notes': ['Import batch [development] 2023-01-13 19:35:45.939035',\n   'special>:creation_event_id E0069_M67LegacyId: M67'],\n  'status': '1',\n  'references': []},\n {'class': 'L',\n  'id': '18f54fd8-27e3-4f33-8e68-7e9c55b53069',\n  'label': 'Clermont-Ferrand, Bibliothèque municipale',\n  'language': '',\n  'detail': '',\n  'data': {'logicalType': '1'},\n  'props': [],\n  'notes': ['Import batch [development] 2023-01-13 19:35:45.939035',\n   \"Making location 'Clermont-Ferrand, Bibliothèque municipale' from M7 by field repository_label.\"],\n  'status': '1',\n  'references': [],\n  'legacyId': 'L_from_M7'},\n {'class': 'V',\n  'id': '50e6c515-4462-4287-975b-5b67b15aaa91',\n  'label': 'ms. 160',\n  'language': '',\n  'detail': '',\n  'data': {'logicalType': '1'},\n  'props': [],\n  'notes': ['Import batch [development] 2023-01-13 19:35:45.939035',\n   'propvalue>69:M7:subcollection_and_shelf_number_concatenated:ms. 160'],\n  'status': '1',\n  'references': []},\n {'class': 'E',\n  'id': '853a1aed-63b3-4218-9cec-3c6953ca5930',\n  'label': 'Creation of Clermont-Ferrand, Bibliothèque municipale, ms. 160',\n  'language': '',\n  'detail': '',\n  'data': {'logicalType': '1'},\n  'props': [],\n  'notes': ['Import batch [development] 2023-01-13 19:35:45.939035',\n   'special>:creation_event_id E0070_M7'],\n  'status': '1',\n  'references': [],\n  'legacyId': 'E0070_M7'},\n {'class': 'V',\n  'id': 'dc20e058-4d9b-4f96-a0e0-f31b2f5cd1ac',\n  'label': '1249',\n  'language': '',\n  'detail': '',\n  'data': {'logicalType': '1'},\n  'props': [],\n  'notes': ['Import batch [development] 2023-01-13 19:35:45.939035',\n   'special>:creation_event_id E0070_M7LegacyId: M7'],\n  'status': '1',\n  'references': []},\n {'class': 'V',\n  'id': '79195388-1606-4c66-ba33-3d605b31241f',\n  'label': '1258',\n  'language': '',\n  'detail': '',\n  'data': {'logicalType': '1'},\n  'props': [],\n  'notes': ['Import batch [development] 2023-01-13 19:35:45.939035',\n   'special>:creation_event_id E0070_M7LegacyId: M7'],\n  'status': '1',\n  'references': []},\n {'class': 'V',\n  'id': 'dc76c4d0-445b-4951-b3b5-9a5cc9a9961a',\n  'label': 'Ely Diocesan Registry, MS G/1/2',\n  'language': '',\n  'detail': '',\n  'data': {'logicalType': '1'},\n  'props': [],\n  'notes': ['Import batch [development] 2023-01-13 19:35:45.939035',\n   'propvalue>70:M44:subcollection_and_shelf_number_concatenated:Ely Diocesan Registry, MS G/1/2'],\n  'status': '1',\n  'references': []},\n {'class': 'E',\n  'id': 'ab202306-a486-4565-94bf-8df48ad3d2d2',\n  'label': 'Creation of Cambridge, Cambridge University Library, Ely Diocesan Registry, MS G/1/2',\n  'language': '',\n  'detail': '',\n  'data': {'logicalType': '1'},\n  'props': [],\n  'notes': ['Import batch [development] 2023-01-13 19:35:45.939035',\n   'special>:creation_event_id E0071_M44'],\n  'status': '1',\n  'references': [],\n  'legacyId': 'E0071_M44'},\n {'class': 'V',\n  'id': 'c728893b-d006-458e-8bc7-ea636a85ade3',\n  'label': '1374',\n  'language': '',\n  'detail': '',\n  'data': {'logicalType': '1'},\n  'props': [],\n  'notes': ['Import batch [development] 2023-01-13 19:35:45.939035',\n   'special>:creation_event_id E0071_M44LegacyId: M44'],\n  'status': '1',\n  'references': []},\n {'class': 'V',\n  'id': '10c9fdae-66da-492a-a592-242604fdc430',\n  'label': '1374',\n  'language': '',\n  'detail': '',\n  'data': {'logicalType': '1'},\n  'props': [],\n  'notes': ['Import batch [development] 2023-01-13 19:35:45.939035',\n   'special>:creation_event_id E0071_M44LegacyId: M44'],\n  'status': '1',\n  'references': []},\n {'class': 'V',\n  'id': 'f6f6d90e-79de-412f-98a7-014a8caccd2f',\n  'label': '1388',\n  'language': '',\n  'detail': '',\n  'data': {'logicalType': '1'},\n  'props': [],\n  'notes': ['Import batch [development] 2023-01-13 19:35:45.939035',\n   'special>:creation_event_id E0071_M44LegacyId: M44'],\n  'status': '1',\n  'references': []},\n {'class': 'V',\n  'id': 'b1763c8c-4742-44f2-a513-d95eaec4bf4f',\n  'label': '1388',\n  'language': '',\n  'detail': '',\n  'data': {'logicalType': '1'},\n  'props': [],\n  'notes': ['Import batch [development] 2023-01-13 19:35:45.939035',\n   'special>:creation_event_id E0071_M44LegacyId: M44'],\n  'status': '1',\n  'references': []},\n {'class': 'L',\n  'id': '7a6084ea-4fd2-4d01-baaa-a0bf407e4dac',\n  'label': 'London, Lambeth Palace Library',\n  'language': '',\n  'detail': '',\n  'data': {'logicalType': '1'},\n  'props': [],\n  'notes': ['Import batch [development] 2023-01-13 19:35:45.939035',\n   \"Making location 'London, Lambeth Palace Library' from M53 by field repository_label.\"],\n  'status': '1',\n  'references': [],\n  'legacyId': 'L_from_M53'},\n {'class': 'V',\n  'id': '70c71057-0eeb-49d6-9f4b-da888de6f2d3',\n  'label': 'LR/F/62/12-15',\n  'language': '',\n  'detail': '',\n  'data': {'logicalType': '1'},\n  'props': [],\n  'notes': ['Import batch [development] 2023-01-13 19:35:45.939035',\n   'propvalue>71:M53:subcollection_and_shelf_number_concatenated:LR/F/62/12-15'],\n  'status': '1',\n  'references': []},\n {'class': 'V',\n  'id': '22ab9ba9-f94f-47c6-b572-b5621f702ff4',\n  'label': '561',\n  'language': '',\n  'detail': '',\n  'data': {'logicalType': '1'},\n  'props': [],\n  'notes': ['Import batch [development] 2023-01-13 19:35:45.939035',\n   'propvalue>71:M53:folios_total:561'],\n  'status': '1',\n  'references': []},\n {'class': 'E',\n  'id': '5b749c6c-f2f1-4c46-981e-52a27803f519',\n  'label': 'Creation of London, Lambeth Palace Library, LR/F/62/12-15',\n  'language': '',\n  'detail': '',\n  'data': {'logicalType': '1'},\n  'props': [],\n  'notes': ['Import batch [development] 2023-01-13 19:35:45.939035',\n   'special>:creation_event_id E0072_M53'],\n  'status': '1',\n  'references': [],\n  'legacyId': 'E0072_M53'},\n {'class': 'V',\n  'id': '9da8fa8a-1909-442f-8900-89f687ca20dd',\n  'label': '1396',\n  'language': '',\n  'detail': '',\n  'data': {'logicalType': '1'},\n  'props': [],\n  'notes': ['Import batch [development] 2023-01-13 19:35:45.939035',\n   'special>:creation_event_id E0072_M53LegacyId: M53'],\n  'status': '1',\n  'references': []},\n {'class': 'V',\n  'id': '9229ef46-fe88-4f8e-bf36-5a8f76447452',\n  'label': '1396',\n  'language': '',\n  'detail': '',\n  'data': {'logicalType': '1'},\n  'props': [],\n  'notes': ['Import batch [development] 2023-01-13 19:35:45.939035',\n   'special>:creation_event_id E0072_M53LegacyId: M53'],\n  'status': '1',\n  'references': []},\n {'class': 'V',\n  'id': '3e3bcf37-c283-4e66-be27-ac907545164c',\n  'label': '1414',\n  'language': '',\n  'detail': '',\n  'data': {'logicalType': '1'},\n  'props': [],\n  'notes': ['Import batch [development] 2023-01-13 19:35:45.939035',\n   'special>:creation_event_id E0072_M53LegacyId: M53'],\n  'status': '1',\n  'references': []},\n {'class': 'V',\n  'id': 'b97c2862-30eb-46e6-a741-d0b3a9f5262c',\n  'label': '1414',\n  'language': '',\n  'detail': '',\n  'data': {'logicalType': '1'},\n  'props': [],\n  'notes': ['Import batch [development] 2023-01-13 19:35:45.939035',\n   'special>:creation_event_id E0072_M53LegacyId: M53'],\n  'status': '1',\n  'references': []},\n {'class': 'V',\n  'id': '6e1b643f-1402-4432-956c-6adbb26dd730',\n  'label': 'LR/F/62/12-15',\n  'language': '',\n  'detail': '',\n  'data': {'logicalType': '1'},\n  'props': [],\n  'notes': ['Import batch [development] 2023-01-13 19:35:45.939035',\n   'propvalue>72:M54:subcollection_and_shelf_number_concatenated:LR/F/62/12-15'],\n  'status': '1',\n  'references': []},\n {'class': 'V',\n  'id': 'aad50889-c0d2-4e4a-a163-173ce0342121',\n  'label': '204',\n  'language': '',\n  'detail': '',\n  'data': {'logicalType': '1'},\n  'props': [],\n  'notes': ['Import batch [development] 2023-01-13 19:35:45.939035',\n   'propvalue>72:M54:folios_total:204'],\n  'status': '1',\n  'references': []},\n {'class': 'E',\n  'id': '621712f0-d47e-4bd8-8d50-e3b123988d21',\n  'label': 'Creation of London, Lambeth Palace Library, LR/F/62/12-15',\n  'language': '',\n  'detail': '',\n  'data': {'logicalType': '1'},\n  'props': [],\n  'notes': ['Import batch [development] 2023-01-13 19:35:45.939035',\n   'special>:creation_event_id E0073_M54'],\n  'status': '1',\n  'references': [],\n  'legacyId': 'E0073_M54'},\n {'class': 'V',\n  'id': '0740a722-c8c8-484a-bb84-086d305cfed4',\n  'label': '1396',\n  'language': '',\n  'detail': '',\n  'data': {'logicalType': '1'},\n  'props': [],\n  'notes': ['Import batch [development] 2023-01-13 19:35:45.939035',\n   'special>:creation_event_id E0073_M54LegacyId: M54'],\n  'status': '1',\n  'references': []},\n {'class': 'V',\n  'id': 'e0b79e94-653f-47b7-92a4-72b2fea452f9',\n  'label': '1396',\n  'language': '',\n  'detail': '',\n  'data': {'logicalType': '1'},\n  'props': [],\n  'notes': ['Import batch [development] 2023-01-13 19:35:45.939035',\n   'special>:creation_event_id E0073_M54LegacyId: M54'],\n  'status': '1',\n  'references': []},\n {'class': 'V',\n  'id': 'bfb9f0e8-4663-4bb3-a3e8-77eb33781c70',\n  'label': '1414',\n  'language': '',\n  'detail': '',\n  'data': {'logicalType': '1'},\n  'props': [],\n  'notes': ['Import batch [development] 2023-01-13 19:35:45.939035',\n   'special>:creation_event_id E0073_M54LegacyId: M54'],\n  'status': '1',\n  'references': []},\n {'class': 'V',\n  'id': 'c697081d-db59-4eed-bbaf-43e5cc1ab5cf',\n  'label': '1414',\n  'language': '',\n  'detail': '',\n  'data': {'logicalType': '1'},\n  'props': [],\n  'notes': ['Import batch [development] 2023-01-13 19:35:45.939035',\n   'special>:creation_event_id E0073_M54LegacyId: M54'],\n  'status': '1',\n  'references': []},\n {'class': 'V',\n  'id': '56cb72ea-58f4-43b1-bbd6-fc2008a5fd9d',\n  'label': 'DN Reg/5/10',\n  'language': '',\n  'detail': '',\n  'data': {'logicalType': '1'},\n  'props': [],\n  'notes': ['Import batch [development] 2023-01-13 19:35:45.939035',\n   'propvalue>73:M73:subcollection_and_shelf_number_concatenated:DN Reg/5/10'],\n  'status': '1',\n  'references': []},\n {'class': 'E',\n  'id': 'f8364ac3-bc30-4755-af53-7eed330723a2',\n  'label': 'Creation of Norwich, Norfolk Record Office, DN Reg/5/10',\n  'language': '',\n  'detail': '',\n  'data': {'logicalType': '1'},\n  'props': [],\n  'notes': ['Import batch [development] 2023-01-13 19:35:45.939035',\n   'special>:creation_event_id E0074_M73'],\n  'status': '1',\n  'references': [],\n  'legacyId': 'E0074_M73'},\n {'class': 'V',\n  'id': '7db2bc4e-898b-48fa-ba8f-cbeb82275046',\n  'label': '1436',\n  'language': '',\n  'detail': '',\n  'data': {'logicalType': '1'},\n  'props': [],\n  'notes': ['Import batch [development] 2023-01-13 19:35:45.939035',\n   'special>:creation_event_id E0074_M73LegacyId: M73'],\n  'status': '1',\n  'references': []},\n {'class': 'V',\n  'id': '4b25d2e0-7424-4610-ae02-a8d7254b1338',\n  'label': '1436',\n  'language': '',\n  'detail': '',\n  'data': {'logicalType': '1'},\n  'props': [],\n  'notes': ['Import batch [development] 2023-01-13 19:35:45.939035',\n   'special>:creation_event_id E0074_M73LegacyId: M73'],\n  'status': '1',\n  'references': []},\n {'class': 'V',\n  'id': '75b8bba7-6866-4538-a5a0-abbb2d74c8f6',\n  'label': '1445',\n  'language': '',\n  'detail': '',\n  'data': {'logicalType': '1'},\n  'props': [],\n  'notes': ['Import batch [development] 2023-01-13 19:35:45.939035',\n   'special>:creation_event_id E0074_M73LegacyId: M73'],\n  'status': '1',\n  'references': []},\n {'class': 'V',\n  'id': '72fe95c7-4831-4f0d-b3dc-26c785520668',\n  'label': '1445',\n  'language': '',\n  'detail': '',\n  'data': {'logicalType': '1'},\n  'props': [],\n  'notes': ['Import batch [development] 2023-01-13 19:35:45.939035',\n   'special>:creation_event_id E0074_M73LegacyId: M73'],\n  'status': '1',\n  'references': []},\n {'class': 'V',\n  'id': '9c525ec6-dbb3-453a-a90e-1bf814219d19',\n  'label': 'DRb/Ar/1/9',\n  'language': '',\n  'detail': '',\n  'data': {'logicalType': '1'},\n  'props': [],\n  'notes': ['Import batch [development] 2023-01-13 19:35:45.939035',\n   'propvalue>74:M72:subcollection_and_shelf_number_concatenated:DRb/Ar/1/9'],\n  'status': '1',\n  'references': []},\n {'class': 'V',\n  'id': 'e7de760b-4e16-4cd1-b45e-67a80b028588',\n  'label': '8',\n  'language': '',\n  'detail': '',\n  'data': {'logicalType': '1'},\n  'props': [],\n  'notes': ['Import batch [development] 2023-01-13 19:35:45.939035',\n   'propvalue>74:M72:folios_total:8'],\n  'status': '1',\n  'references': []},\n {'class': 'E',\n  'id': '5a2dce63-07fd-4515-8a85-c3561b99ecb6',\n  'label': 'Creation of Maidstone, Kent History and Library Centre, DRb/Ar/1/9',\n  'language': '',\n  'detail': '',\n  'data': {'logicalType': '1'},\n  'props': [],\n  'notes': ['Import batch [development] 2023-01-13 19:35:45.939035',\n   'special>:creation_event_id E0075_M72'],\n  'status': '1',\n  'references': [],\n  'legacyId': 'E0075_M72'},\n {'class': 'V',\n  'id': '4d964f53-db72-44f2-a573-d8cdafd0cdbf',\n  'label': '1435',\n  'language': '',\n  'detail': '',\n  'data': {'logicalType': '1'},\n  'props': [],\n  'notes': ['Import batch [development] 2023-01-13 19:35:45.939035',\n   'special>:creation_event_id E0075_M72LegacyId: M72'],\n  'status': '1',\n  'references': []},\n {'class': 'V',\n  'id': '77f566ad-fadf-427e-8714-1664e6266a28',\n  'label': '1435',\n  'language': '',\n  'detail': '',\n  'data': {'logicalType': '1'},\n  'props': [],\n  'notes': ['Import batch [development] 2023-01-13 19:35:45.939035',\n   'special>:creation_event_id E0075_M72LegacyId: M72'],\n  'status': '1',\n  'references': []},\n {'class': 'V',\n  'id': '6a817eee-7d8b-494a-b9c3-d0211c8dfb51',\n  'label': '1436',\n  'language': '',\n  'detail': '',\n  'data': {'logicalType': '1'},\n  'props': [],\n  'notes': ['Import batch [development] 2023-01-13 19:35:45.939035',\n   'special>:creation_event_id E0075_M72LegacyId: M72'],\n  'status': '1',\n  'references': []},\n {'class': 'V',\n  'id': '0cd7c0fb-4d0e-4c0d-a0af-a9dc54144fef',\n  'label': '1436',\n  'language': '',\n  'detail': '',\n  'data': {'logicalType': '1'},\n  'props': [],\n  'notes': ['Import batch [development] 2023-01-13 19:35:45.939035',\n   'special>:creation_event_id E0075_M72LegacyId: M72'],\n  'status': '1',\n  'references': []},\n {'class': 'E',\n  'id': '743427d0-8c73-454f-affa-760f2f389efe',\n  'label': 'Creation of Worcester, Worcestershire Record Office, ',\n  'language': '',\n  'detail': '',\n  'data': {'logicalType': '1'},\n  'props': [],\n  'notes': ['Import batch [development] 2023-01-13 19:35:45.939035',\n   'special>:creation_event_id E0076_M66'],\n  'status': '1',\n  'references': [],\n  'legacyId': 'E0076_M66'},\n {'class': 'V',\n  'id': 'bbbf0380-2786-4740-ada8-a3326d977475',\n  'label': '1426',\n  'language': '',\n  'detail': '',\n  'data': {'logicalType': '1'},\n  'props': [],\n  'notes': ['Import batch [development] 2023-01-13 19:35:45.939035',\n   'special>:creation_event_id E0076_M66LegacyId: M66'],\n  'status': '1',\n  'references': []},\n {'class': 'V',\n  'id': '7e2b89d2-e242-45b2-b27e-eeb2e0185660',\n  'label': '1426',\n  'language': '',\n  'detail': '',\n  'data': {'logicalType': '1'},\n  'props': [],\n  'notes': ['Import batch [development] 2023-01-13 19:35:45.939035',\n   'special>:creation_event_id E0076_M66LegacyId: M66'],\n  'status': '1',\n  'references': []},\n {'class': 'V',\n  'id': '01ae81c1-238b-493d-a60e-1a0903d7c6c7',\n  'label': '1433',\n  'language': '',\n  'detail': '',\n  'data': {'logicalType': '1'},\n  'props': [],\n  'notes': ['Import batch [development] 2023-01-13 19:35:45.939035',\n   'special>:creation_event_id E0076_M66LegacyId: M66'],\n  'status': '1',\n  'references': []},\n {'class': 'V',\n  'id': '46ea6d5b-b447-4cc4-bd6b-337c49af573c',\n  'label': '1433',\n  'language': '',\n  'detail': '',\n  'data': {'logicalType': '1'},\n  'props': [],\n  'notes': ['Import batch [development] 2023-01-13 19:35:45.939035',\n   'special>:creation_event_id E0076_M66LegacyId: M66'],\n  'status': '1',\n  'references': []},\n {'class': 'V',\n  'id': '3fa53aaf-eb74-495f-9a2f-5ed8e84a8244',\n  'label': 'DN Reg/5/9',\n  'language': '',\n  'detail': '',\n  'data': {'logicalType': '1'},\n  'props': [],\n  'notes': ['Import batch [development] 2023-01-13 19:35:45.939035',\n   'propvalue>76:M38:subcollection_and_shelf_number_concatenated:DN Reg/5/9'],\n  'status': '1',\n  'references': []},\n {'class': 'E',\n  'id': '3c4ca412-89fc-4407-8804-c92bca2da576',\n  'label': 'Creation of Norwich, Norfolk Record Office, DN Reg/5/9',\n  'language': '',\n  'detail': '',\n  'data': {'logicalType': '1'},\n  'props': [],\n  'notes': ['Import batch [development] 2023-01-13 19:35:45.939035',\n   'special>:creation_event_id E0077_M38'],\n  'status': '1',\n  'references': [],\n  'legacyId': 'E0077_M38'},\n {'class': 'V',\n  'id': 'fa615cd4-0672-4fc3-8e54-34733ed5c1a2',\n  'label': '1425',\n  'language': '',\n  'detail': '',\n  'data': {'logicalType': '1'},\n  'props': [],\n  'notes': ['Import batch [development] 2023-01-13 19:35:45.939035',\n   'special>:creation_event_id E0077_M38LegacyId: M38'],\n  'status': '1',\n  'references': []},\n {'class': 'V',\n  'id': 'e1df82a5-e030-4c1e-b5d6-f5620e923fd3',\n  'label': '1425',\n  'language': '',\n  'detail': '',\n  'data': {'logicalType': '1'},\n  'props': [],\n  'notes': ['Import batch [development] 2023-01-13 19:35:45.939035',\n   'special>:creation_event_id E0077_M38LegacyId: M38'],\n  'status': '1',\n  'references': []},\n {'class': 'V',\n  'id': '45548aa8-45be-477e-838c-5601511375ec',\n  'label': '1436',\n  'language': '',\n  'detail': '',\n  'data': {'logicalType': '1'},\n  'props': [],\n  'notes': ['Import batch [development] 2023-01-13 19:35:45.939035',\n   'special>:creation_event_id E0077_M38LegacyId: M38'],\n  'status': '1',\n  'references': []},\n {'class': 'V',\n  'id': '98fe75e8-21f3-4291-82fa-e98c4ddd189d',\n  'label': '1436',\n  'language': '',\n  'detail': '',\n  'data': {'logicalType': '1'},\n  'props': [],\n  'notes': ['Import batch [development] 2023-01-13 19:35:45.939035',\n   'special>:creation_event_id E0077_M38LegacyId: M38'],\n  'status': '1',\n  'references': []},\n {'class': 'V',\n  'id': '3a4f45fc-255f-4068-99dc-fc043c3e2ee9',\n  'label': 'Episcopal Register 18',\n  'language': '',\n  'detail': '',\n  'data': {'logicalType': '1'},\n  'props': [],\n  'notes': ['Import batch [development] 2023-01-13 19:35:45.939035',\n   'propvalue>77:M71:subcollection_and_shelf_number_concatenated:Episcopal Register 18'],\n  'status': '1',\n  'references': []},\n {'class': 'E',\n  'id': 'f4898a85-bb35-4ece-97cf-b92d4c8ee699',\n  'label': 'Creation of Lincoln, Lincolnshire Archives, Episcopal Register 18',\n  'language': '',\n  'detail': '',\n  'data': {'logicalType': '1'},\n  'props': [],\n  'notes': ['Import batch [development] 2023-01-13 19:35:45.939035',\n   'special>:creation_event_id E0078_M71'],\n  'status': '1',\n  'references': [],\n  'legacyId': 'E0078_M71'},\n {'class': 'V',\n  'id': 'd21384b7-572a-4847-af4b-455e79d59624',\n  'label': '1435',\n  'language': '',\n  'detail': '',\n  'data': {'logicalType': '1'},\n  'props': [],\n  'notes': ['Import batch [development] 2023-01-13 19:35:45.939035',\n   'special>:creation_event_id E0078_M71LegacyId: M71'],\n  'status': '1',\n  'references': []},\n {'class': 'V',\n  'id': '00e302e2-a920-4b71-86b4-ee600ae59273',\n  'label': '1435',\n  'language': '',\n  'detail': '',\n  'data': {'logicalType': '1'},\n  'props': [],\n  'notes': ['Import batch [development] 2023-01-13 19:35:45.939035',\n   'special>:creation_event_id E0078_M71LegacyId: M71'],\n  'status': '1',\n  'references': []},\n {'class': 'V',\n  'id': 'f5a689b9-b8d2-49c3-b31c-90f9f5ccbfa7',\n  'label': '1449',\n  'language': '',\n  'detail': '',\n  'data': {'logicalType': '1'},\n  'props': [],\n  'notes': ['Import batch [development] 2023-01-13 19:35:45.939035',\n   'special>:creation_event_id E0078_M71LegacyId: M71'],\n  'status': '1',\n  'references': []},\n {'class': 'V',\n  'id': '1df9d174-25ca-4c07-a274-04947e839a81',\n  'label': '1449',\n  'language': '',\n  'detail': '',\n  'data': {'logicalType': '1'},\n  'props': [],\n  'notes': ['Import batch [development] 2023-01-13 19:35:45.939035',\n   'special>:creation_event_id E0078_M71LegacyId: M71'],\n  'status': '1',\n  'references': []},\n {'class': 'V',\n  'id': '2b986653-76a6-45fa-a0bd-8c12c6a49b67',\n  'label': 'LR/F/62/10-11',\n  'language': '',\n  'detail': '',\n  'data': {'logicalType': '1'},\n  'props': [],\n  'notes': ['Import batch [development] 2023-01-13 19:35:45.939035',\n   'propvalue>78:M46:subcollection_and_shelf_number_concatenated:LR/F/62/10-11'],\n  'status': '1',\n  'references': []},\n {'class': 'V',\n  'id': '6e0716f5-086b-45f5-91dc-eb085f455530',\n  'label': '361',\n  'language': '',\n  'detail': '',\n  'data': {'logicalType': '1'},\n  'props': [],\n  'notes': ['Import batch [development] 2023-01-13 19:35:45.939035',\n   'propvalue>78:M46:folios_total:361'],\n  'status': '1',\n  'references': []},\n {'class': 'E',\n  'id': '08dadd1c-7270-4ef0-8032-c43eb5e3fdc5',\n  'label': 'Creation of London, Lambeth Palace Library, LR/F/62/10-11',\n  'language': '',\n  'detail': '',\n  'data': {'logicalType': '1'},\n  'props': [],\n  'notes': ['Import batch [development] 2023-01-13 19:35:45.939035',\n   'special>:creation_event_id E0079_M46'],\n  'status': '1',\n  'references': [],\n  'legacyId': 'E0079_M46'},\n {'class': 'V',\n  'id': 'a729464f-cb96-4e6d-8d5c-13b244bf7c6b',\n  'label': '1381',\n  'language': '',\n  'detail': '',\n  'data': {'logicalType': '1'},\n  'props': [],\n  'notes': ['Import batch [development] 2023-01-13 19:35:45.939035',\n   'special>:creation_event_id E0079_M46LegacyId: M46'],\n  'status': '1',\n  'references': []},\n {'class': 'V',\n  'id': '5a3b2e47-a8cf-4314-82c8-40121a3b5e02',\n  'label': '1381',\n  'language': '',\n  'detail': '',\n  'data': {'logicalType': '1'},\n  'props': [],\n  'notes': ['Import batch [development] 2023-01-13 19:35:45.939035',\n   'special>:creation_event_id E0079_M46LegacyId: M46'],\n  'status': '1',\n  'references': []},\n {'class': 'V',\n  'id': '9f04c26d-2273-4e24-a5b1-6237dbb2cdc2',\n  'label': '1396',\n  'language': '',\n  'detail': '',\n  'data': {'logicalType': '1'},\n  'props': [],\n  'notes': ['Import batch [development] 2023-01-13 19:35:45.939035',\n   'special>:creation_event_id E0079_M46LegacyId: M46'],\n  'status': '1',\n  'references': []},\n {'class': 'V',\n  'id': 'e78828a0-182c-4aed-873d-d22c9bb572d6',\n  'label': '1396',\n  'language': '',\n  'detail': '',\n  'data': {'logicalType': '1'},\n  'props': [],\n  'notes': ['Import batch [development] 2023-01-13 19:35:45.939035',\n   'special>:creation_event_id E0079_M46LegacyId: M46'],\n  'status': '1',\n  'references': []},\n {'class': 'V',\n  'id': 'a48b566f-f5f4-43ac-92ca-5084e00fd600',\n  'label': 'DRb/Ar/1/5',\n  'language': '',\n  'detail': '',\n  'data': {'logicalType': '1'},\n  'props': [],\n  'notes': ['Import batch [development] 2023-01-13 19:35:45.939035',\n   'propvalue>79:M49:subcollection_and_shelf_number_concatenated:DRb/Ar/1/5'],\n  'status': '1',\n  'references': []},\n {'class': 'V',\n  'id': 'e13cb6a7-46d8-4cd0-a92d-2e3afff42544',\n  'label': '148',\n  'language': '',\n  'detail': '',\n  'data': {'logicalType': '1'},\n  'props': [],\n  'notes': ['Import batch [development] 2023-01-13 19:35:45.939035',\n   'propvalue>79:M49:folios_total:148'],\n  'status': '1',\n  'references': []},\n {'class': 'E',\n  'id': '836c43bd-9416-40b0-8cbf-76e1769276e0',\n  'label': 'Creation of Maidstone, Kent History and Library Centre, DRb/Ar/1/5',\n  'language': '',\n  'detail': '',\n  'data': {'logicalType': '1'},\n  'props': [],\n  'notes': ['Import batch [development] 2023-01-13 19:35:45.939035',\n   'special>:creation_event_id E0080_M49'],\n  'status': '1',\n  'references': [],\n  'legacyId': 'E0080_M49'},\n {'class': 'V',\n  'id': 'bc08e327-c869-4b4b-9aad-0de9d80ea1f9',\n  'label': '1389',\n  'language': '',\n  'detail': '',\n  'data': {'logicalType': '1'},\n  'props': [],\n  'notes': ['Import batch [development] 2023-01-13 19:35:45.939035',\n   'special>:creation_event_id E0080_M49LegacyId: M49'],\n  'status': '1',\n  'references': []},\n {'class': 'V',\n  'id': '4560de05-1a72-4e23-b8a6-4630c7a13d94',\n  'label': '1389',\n  'language': '',\n  'detail': '',\n  'data': {'logicalType': '1'},\n  'props': [],\n  'notes': ['Import batch [development] 2023-01-13 19:35:45.939035',\n   'special>:creation_event_id E0080_M49LegacyId: M49'],\n  'status': '1',\n  'references': []},\n {'class': 'V',\n  'id': 'daddf611-1c06-4ee0-9d18-349656d42200',\n  'label': '1400',\n  'language': '',\n  'detail': '',\n  'data': {'logicalType': '1'},\n  'props': [],\n  'notes': ['Import batch [development] 2023-01-13 19:35:45.939035',\n   'special>:creation_event_id E0080_M49LegacyId: M49'],\n  'status': '1',\n  'references': []},\n {'class': 'V',\n  'id': '791d351c-4a5a-4165-9f90-450d41eeaf46',\n  'label': '1400',\n  'language': '',\n  'detail': '',\n  'data': {'logicalType': '1'},\n  'props': [],\n  'notes': ['Import batch [development] 2023-01-13 19:35:45.939035',\n   'special>:creation_event_id E0080_M49LegacyId: M49'],\n  'status': '1',\n  'references': []},\n {'class': 'V',\n  'id': 'f1ae9c80-a3ee-4f00-b46f-e65bbdb09655',\n  'label': 'Episcopal Register 17',\n  'language': '',\n  'detail': '',\n  'data': {'logicalType': '1'},\n  'props': [],\n  'notes': ['Import batch [development] 2023-01-13 19:35:45.939035',\n   'propvalue>80:M70:subcollection_and_shelf_number_concatenated:Episcopal Register 17'],\n  'status': '1',\n  'references': []},\n {'class': 'E',\n  'id': '5ef2847a-626e-44f3-8698-1ab4a9c93403',\n  'label': 'Creation of Lincoln, Lincolnshire Archives, Episcopal Register 17',\n  'language': '',\n  'detail': '',\n  'data': {'logicalType': '1'},\n  'props': [],\n  'notes': ['Import batch [development] 2023-01-13 19:35:45.939035',\n   'special>:creation_event_id E0081_M70'],\n  'status': '1',\n  'references': [],\n  'legacyId': 'E0081_M70'},\n {'class': 'V',\n  'id': '8d983cf4-de9a-496f-9f18-6f5f5af4feac',\n  'label': '1431',\n  'language': '',\n  'detail': '',\n  'data': {'logicalType': '1'},\n  'props': [],\n  'notes': ['Import batch [development] 2023-01-13 19:35:45.939035',\n   'special>:creation_event_id E0081_M70LegacyId: M70'],\n  'status': '1',\n  'references': []},\n {'class': 'V',\n  'id': '8c5fc464-9517-4f52-8284-0977cf0aeea6',\n  'label': '1431',\n  'language': '',\n  'detail': '',\n  'data': {'logicalType': '1'},\n  'props': [],\n  'notes': ['Import batch [development] 2023-01-13 19:35:45.939035',\n   'special>:creation_event_id E0081_M70LegacyId: M70'],\n  'status': '1',\n  'references': []},\n {'class': 'V',\n  'id': 'e2af1ccf-2e1c-4233-badf-9cc24a214280',\n  'label': '1436',\n  'language': '',\n  'detail': '',\n  'data': {'logicalType': '1'},\n  'props': [],\n  'notes': ['Import batch [development] 2023-01-13 19:35:45.939035',\n   'special>:creation_event_id E0081_M70LegacyId: M70'],\n  'status': '1',\n  'references': []},\n {'class': 'V',\n  'id': '3701eaa9-45c3-44a7-ae7b-2d975d800e42',\n  'label': '1436',\n  'language': '',\n  'detail': '',\n  'data': {'logicalType': '1'},\n  'props': [],\n  'notes': ['Import batch [development] 2023-01-13 19:35:45.939035',\n   'special>:creation_event_id E0081_M70LegacyId: M70'],\n  'status': '1',\n  'references': []},\n {'class': 'V',\n  'id': '80c0ce52-83c7-4ac6-868c-6eb026c5ff54',\n  'label': 'V/A/14Wareham1',\n  'language': '',\n  'detail': '',\n  'data': {'logicalType': '1'},\n  'props': [],\n  'notes': ['Import batch [development] 2023-01-13 19:35:45.939035',\n   'propvalue>81:M41:subcollection_and_shelf_number_concatenated:V/A/14Wareham1'],\n  'status': '1',\n  'references': []},\n {'class': 'E',\n  'id': '53438b10-065a-47a9-a734-d27f70921062',\n  'label': 'Creation of London, Lambeth Palace Library, V/A/14Wareham1',\n  'language': '',\n  'detail': '',\n  'data': {'logicalType': '1'},\n  'props': [],\n  'notes': ['Import batch [development] 2023-01-13 19:35:45.939035',\n   'special>:creation_event_id E0082_M41'],\n  'status': '1',\n  'references': [],\n  'legacyId': 'E0082_M41'},\n {'class': 'V',\n  'id': 'db5abc7f-97d9-4aef-84ac-87de5f3f47e7',\n  'label': '1510',\n  'language': '',\n  'detail': '',\n  'data': {'logicalType': '1'},\n  'props': [],\n  'notes': ['Import batch [development] 2023-01-13 19:35:45.939035',\n   'special>:creation_event_id E0082_M41LegacyId: M41'],\n  'status': '1',\n  'references': []},\n {'class': 'V',\n  'id': '0d0f0a5b-1e2a-453a-b8aa-33d0dd26c7fd',\n  'label': 'MS 9531/4',\n  'language': '',\n  'detail': '',\n  'data': {'logicalType': '1'},\n  'props': [],\n  'notes': ['Import batch [development] 2023-01-13 19:35:45.939035',\n   'propvalue>82:M60:subcollection_and_shelf_number_concatenated:MS 9531/4'],\n  'status': '1',\n  'references': []},\n {'class': 'E',\n  'id': 'ba4e784f-8322-4e84-a436-d7dfc53f52d8',\n  'label': 'Creation of London, Guildhall Library, MS 9531/4',\n  'language': '',\n  'detail': '',\n  'data': {'logicalType': '1'},\n  'props': [],\n  'notes': ['Import batch [development] 2023-01-13 19:35:45.939035',\n   'special>:creation_event_id E0083_M60'],\n  'status': '1',\n  'references': [],\n  'legacyId': 'E0083_M60'},\n {'class': 'V',\n  'id': 'c1160747-66d9-4cc1-8858-d69d734c0755',\n  'label': '1407',\n  'language': '',\n  'detail': '',\n  'data': {'logicalType': '1'},\n  'props': [],\n  'notes': ['Import batch [development] 2023-01-13 19:35:45.939035',\n   'special>:creation_event_id E0083_M60LegacyId: M60'],\n  'status': '1',\n  'references': []},\n {'class': 'V',\n  'id': 'ef375085-98be-407e-b5e4-e982b97bbfca',\n  'label': '1407',\n  'language': '',\n  'detail': '',\n  'data': {'logicalType': '1'},\n  'props': [],\n  'notes': ['Import batch [development] 2023-01-13 19:35:45.939035',\n   'special>:creation_event_id E0083_M60LegacyId: M60'],\n  'status': '1',\n  'references': []},\n {'class': 'V',\n  'id': '119096d8-7f37-4667-a1f8-48a73a800509',\n  'label': '1425',\n  'language': '',\n  'detail': '',\n  'data': {'logicalType': '1'},\n  'props': [],\n  'notes': ['Import batch [development] 2023-01-13 19:35:45.939035',\n   'special>:creation_event_id E0083_M60LegacyId: M60'],\n  'status': '1',\n  'references': []},\n {'class': 'V',\n  'id': '42145fc8-32f4-4f3c-b164-b0224caaf732',\n  'label': '1425',\n  'language': '',\n  'detail': '',\n  'data': {'logicalType': '1'},\n  'props': [],\n  'notes': ['Import batch [development] 2023-01-13 19:35:45.939035',\n   'special>:creation_event_id E0083_M60LegacyId: M60'],\n  'status': '1',\n  'references': []},\n {'class': 'V',\n  'id': '47423e1c-3c59-464f-831c-6e8b804504ed',\n  'label': 'MS D1/2/6',\n  'language': '',\n  'detail': '',\n  'data': {'logicalType': '1'},\n  'props': [],\n  'notes': ['Import batch [development] 2023-01-13 19:35:45.939035',\n   'propvalue>83:M52:subcollection_and_shelf_number_concatenated:MS D1/2/6'],\n  'status': '1',\n  'references': []},\n {'class': 'V',\n  'id': 'a27cc5d3-fea3-49a8-b38d-9b3194c3db50',\n  'label': '191',\n  'language': '',\n  'detail': '',\n  'data': {'logicalType': '1'},\n  'props': [],\n  'notes': ['Import batch [development] 2023-01-13 19:35:45.939035',\n   'propvalue>83:M52:folios_total:191'],\n  'status': '1',\n  'references': []},\n {'class': 'E',\n  'id': 'b0830f7c-5a92-497d-bc8b-98ab4197c9f6',\n  'label': 'Creation of Trowbridge, Wiltshire and Swindon Record Office, MS D1/2/6',\n  'language': '',\n  'detail': '',\n  'data': {'logicalType': '1'},\n  'props': [],\n  'notes': ['Import batch [development] 2023-01-13 19:35:45.939035',\n   'special>:creation_event_id E0084_M52'],\n  'status': '1',\n  'references': [],\n  'legacyId': 'E0084_M52'},\n {'class': 'V',\n  'id': '85c27ef6-dd16-4b8b-85c4-8e52965d4687',\n  'label': '1395',\n  'language': '',\n  'detail': '',\n  'data': {'logicalType': '1'},\n  'props': [],\n  'notes': ['Import batch [development] 2023-01-13 19:35:45.939035',\n   'special>:creation_event_id E0084_M52LegacyId: M52'],\n  'status': '1',\n  'references': []},\n {'class': 'V',\n  'id': '04559d0d-d7e7-42e1-b145-32e3069a8ceb',\n  'label': '1395',\n  'language': '',\n  'detail': '',\n  'data': {'logicalType': '1'},\n  'props': [],\n  'notes': ['Import batch [development] 2023-01-13 19:35:45.939035',\n   'special>:creation_event_id E0084_M52LegacyId: M52'],\n  'status': '1',\n  'references': []},\n {'class': 'V',\n  'id': 'd5ca0729-e168-4782-b198-3b92b5e1b585',\n  'label': '1407',\n  'language': '',\n  'detail': '',\n  'data': {'logicalType': '1'},\n  'props': [],\n  'notes': ['Import batch [development] 2023-01-13 19:35:45.939035',\n   'special>:creation_event_id E0084_M52LegacyId: M52'],\n  'status': '1',\n  'references': []},\n {'class': 'V',\n  'id': '4102c4b7-2ca8-4ec1-a58e-71d6b3846990',\n  'label': '1407',\n  'language': '',\n  'detail': '',\n  'data': {'logicalType': '1'},\n  'props': [],\n  'notes': ['Import batch [development] 2023-01-13 19:35:45.939035',\n   'special>:creation_event_id E0084_M52LegacyId: M52'],\n  'status': '1',\n  'references': []},\n {'class': 'V',\n  'id': '95537030-4a75-4c94-af44-908d5545e176',\n  'label': 'Episcopal Register 12B',\n  'language': '',\n  'detail': '',\n  'data': {'logicalType': '1'},\n  'props': [],\n  'notes': ['Import batch [development] 2023-01-13 19:35:45.939035',\n   'propvalue>84:M43:subcollection_and_shelf_number_concatenated:Episcopal Register 12B'],\n  'status': '1',\n  'references': []},\n {'class': 'E',\n  'id': '6beb443e-0432-4730-adef-572d67b28ebf',\n  'label': 'Creation of Lincoln, Lincolnshire Archives, Episcopal Register 12B',\n  'language': '',\n  'detail': '',\n  'data': {'logicalType': '1'},\n  'props': [],\n  'notes': ['Import batch [development] 2023-01-13 19:35:45.939035',\n   'special>:creation_event_id E0085_M43'],\n  'status': '1',\n  'references': [],\n  'legacyId': 'E0085_M43'},\n {'class': 'V',\n  'id': '9911d78d-ef78-49c1-9db8-687de4464909',\n  'label': '1363',\n  'language': '',\n  'detail': '',\n  'data': {'logicalType': '1'},\n  'props': [],\n  'notes': ['Import batch [development] 2023-01-13 19:35:45.939035',\n   'special>:creation_event_id E0085_M43LegacyId: M43'],\n  'status': '1',\n  'references': []},\n {'class': 'V',\n  'id': '78fd8b22-b746-4b60-9f61-d120f6ea246c',\n  'label': '1363',\n  'language': '',\n  'detail': '',\n  'data': {'logicalType': '1'},\n  'props': [],\n  'notes': ['Import batch [development] 2023-01-13 19:35:45.939035',\n   'special>:creation_event_id E0085_M43LegacyId: M43'],\n  'status': '1',\n  'references': []},\n {'class': 'V',\n  'id': '991bcb99-ee09-4e88-94f9-d583bf66386f',\n  'label': '1398',\n  'language': '',\n  'detail': '',\n  'data': {'logicalType': '1'},\n  'props': [],\n  'notes': ['Import batch [development] 2023-01-13 19:35:45.939035',\n   'special>:creation_event_id E0085_M43LegacyId: M43'],\n  'status': '1',\n  'references': []},\n {'class': 'V',\n  'id': '7f5c838c-4c44-4e3c-bd81-2cab1d6dec26',\n  'label': '1398',\n  'language': '',\n  'detail': '',\n  'data': {'logicalType': '1'},\n  'props': [],\n  'notes': ['Import batch [development] 2023-01-13 19:35:45.939035',\n   'special>:creation_event_id E0085_M43LegacyId: M43'],\n  'status': '1',\n  'references': []},\n {'class': 'V',\n  'id': '31985665-ac72-483b-840e-f9f93605ace1',\n  'label': 'Episcopal Register 15B',\n  'language': '',\n  'detail': '',\n  'data': {'logicalType': '1'},\n  'props': [],\n  'notes': ['Import batch [development] 2023-01-13 19:35:45.939035',\n   'propvalue>85:M58:subcollection_and_shelf_number_concatenated:Episcopal Register 15B'],\n  'status': '1',\n  'references': []},\n {'class': 'E',\n  'id': '80ff7455-2691-4e33-ba71-32d217b97703',\n  'label': 'Creation of Lincoln, Lincolnshire Archives, Episcopal Register 15B',\n  'language': '',\n  'detail': '',\n  'data': {'logicalType': '1'},\n  'props': [],\n  'notes': ['Import batch [development] 2023-01-13 19:35:45.939035',\n   'special>:creation_event_id E0086_M58'],\n  'status': '1',\n  'references': [],\n  'legacyId': 'E0086_M58'},\n {'class': 'V',\n  'id': '619b1aca-ab17-480a-947c-a8cf0e136d90',\n  'label': '1405',\n  'language': '',\n  'detail': '',\n  'data': {'logicalType': '1'},\n  'props': [],\n  'notes': ['Import batch [development] 2023-01-13 19:35:45.939035',\n   'special>:creation_event_id E0086_M58LegacyId: M58'],\n  'status': '1',\n  'references': []},\n {'class': 'V',\n  'id': 'f537be9c-3f4b-4683-9ae4-26890abc1dce',\n  'label': '1405',\n  'language': '',\n  'detail': '',\n  'data': {'logicalType': '1'},\n  'props': [],\n  'notes': ['Import batch [development] 2023-01-13 19:35:45.939035',\n   'special>:creation_event_id E0086_M58LegacyId: M58'],\n  'status': '1',\n  'references': []},\n {'class': 'V',\n  'id': '307f4042-2f03-4895-b859-10a270fc2644',\n  'label': '1419',\n  'language': '',\n  'detail': '',\n  'data': {'logicalType': '1'},\n  'props': [],\n  'notes': ['Import batch [development] 2023-01-13 19:35:45.939035',\n   'special>:creation_event_id E0086_M58LegacyId: M58'],\n  'status': '1',\n  'references': []},\n {'class': 'V',\n  'id': 'd040b70c-64b7-45f6-8c3a-fa2985882435',\n  'label': '1419',\n  'language': '',\n  'detail': '',\n  'data': {'logicalType': '1'},\n  'props': [],\n  'notes': ['Import batch [development] 2023-01-13 19:35:45.939035',\n   'special>:creation_event_id E0086_M58LegacyId: M58'],\n  'status': '1',\n  'references': []},\n {'class': 'V',\n  'id': 'f6ff97e4-c9ab-41bb-aa6a-771c36821af0',\n  'label': 'ms. lat. 9992',\n  'language': '',\n  'detail': '',\n  'data': {'logicalType': '1'},\n  'props': [],\n  'notes': ['Import batch [development] 2023-01-13 19:35:45.939035',\n   'propvalue>86:M6:subcollection_and_shelf_number_concatenated:ms. lat. 9992'],\n  'status': '1',\n  'references': []},\n {'class': 'E',\n  'id': 'cbd8f400-8a7d-4438-a884-1e39371e32e5',\n  'label': 'Creation of Paris, Bibliothèque nationale de France, ms. lat. 9992',\n  'language': '',\n  'detail': '',\n  'data': {'logicalType': '1'},\n  'props': [],\n  'notes': ['Import batch [development] 2023-01-13 19:35:45.939035',\n   'special>:creation_event_id E0087_M6'],\n  'status': '1',\n  'references': [],\n  'legacyId': 'E0087_M6'},\n {'class': 'V',\n  'id': '18d307c8-80e0-4a05-842b-794170d7bc1d',\n  'label': '1244',\n  'language': '',\n  'detail': '',\n  'data': {'logicalType': '1'},\n  'props': [],\n  'notes': ['Import batch [development] 2023-01-13 19:35:45.939035',\n   'special>:creation_event_id E0087_M6LegacyId: M6'],\n  'status': '1',\n  'references': []},\n {'class': 'R',\n  'id': '4f2fbc52-a712-4e3a-ae07-8d19008bb474',\n  'label': 'Reproduction of Paris, Bibliothèque nationale de France, ms. lat. 9992',\n  'language': '',\n  'detail': '',\n  'data': {'url': 'https://gallica.bnf.fr/ark:/12148/btv1b9077722d/f1.image',\n   'partValueBaseURL': '',\n   'partValueLabel': ''},\n  'props': [],\n  'notes': ['Import batch [development] 2023-01-13 19:35:45.939035'],\n  'status': '1',\n  'references': []},\n {'class': 'L',\n  'id': '4cd19d1d-a7a5-46c5-be20-aab0963bde0e',\n  'label': \"Paris, Bibliothèque de la Société de l'Histoire du Protestantisme Français\",\n  'language': '',\n  'detail': '',\n  'data': {'logicalType': '1'},\n  'props': [],\n  'notes': ['Import batch [development] 2023-01-13 19:35:45.939035',\n   \"Making location 'Paris, Bibliothèque de la Société de l'Histoire du Protestantisme Français' from M17 by field repository_label.\"],\n  'status': '1',\n  'references': [],\n  'legacyId': 'L_from_M17'},\n {'class': 'V',\n  'id': 'd77b7ef8-9c01-4a0a-9b2d-3242f224290c',\n  'label': 'ms. 446/1',\n  'language': '',\n  'detail': '',\n  'data': {'logicalType': '1'},\n  'props': [],\n  'notes': ['Import batch [development] 2023-01-13 19:35:45.939035',\n   'propvalue>87:M17:subcollection_and_shelf_number_concatenated:ms. 446/1'],\n  'status': '1',\n  'references': []},\n {'class': 'E',\n  'id': '065248bb-2a39-475a-929e-ffb73729cb64',\n  'label': \"Creation of Paris, Bibliothèque de la Société de l'Histoire du Protestantisme Français, ms. 446/1\",\n  'language': '',\n  'detail': '',\n  'data': {'logicalType': '1'},\n  'props': [],\n  'notes': ['Import batch [development] 2023-01-13 19:35:45.939035',\n   'special>:creation_event_id E0088_M17'],\n  'status': '1',\n  'references': [],\n  'legacyId': 'E0088_M17'},\n {'class': 'V',\n  'id': '372c586c-e4fa-4202-8cdc-3aac9b2b3054',\n  'label': '1694',\n  'language': '',\n  'detail': '',\n  'data': {'logicalType': '1'},\n  'props': [],\n  'notes': ['Import batch [development] 2023-01-13 19:35:45.939035',\n   'special>:creation_event_id E0088_M17LegacyId: M17'],\n  'status': '1',\n  'references': []},\n {'class': 'L',\n  'id': 'e35deaa9-a5dc-4306-be52-84b7f4614290',\n  'label': 'München, Bayerische Staatsbibliothek',\n  'language': '',\n  'detail': '',\n  'data': {'logicalType': '1'},\n  'props': [],\n  'notes': ['Import batch [development] 2023-01-13 19:35:45.939035',\n   \"Making location 'München, Bayerische Staatsbibliothek' from M81 by field repository_label.\"],\n  'status': '1',\n  'references': [],\n  'legacyId': 'L_from_M81'},\n {'class': 'V',\n  'id': 'eca467aa-3539-4347-afac-c90aff9ffcdb',\n  'label': 'Cod. lat. 9558',\n  'language': '',\n  'detail': '',\n  'data': {'logicalType': '1'},\n  'props': [],\n  'notes': ['Import batch [development] 2023-01-13 19:35:45.939035',\n   'propvalue>88:M81:subcollection_and_shelf_number_concatenated:Cod. lat. 9558'],\n  'status': '1',\n  'references': []},\n {'class': 'V',\n  'id': '6a74105d-9f58-4212-a303-328b7c3db1ee',\n  'label': '149',\n  'language': '',\n  'detail': '',\n  'data': {'logicalType': '1'},\n  'props': [],\n  'notes': ['Import batch [development] 2023-01-13 19:35:45.939035',\n   'propvalue>88:M81:folios_total:149'],\n  'status': '1',\n  'references': []},\n {'class': 'E',\n  'id': 'a6b5e758-c59c-4643-999a-0a90a2ae977f',\n  'label': 'Creation of München, Bayerische Staatsbibliothek, Cod. lat. 9558',\n  'language': '',\n  'detail': '',\n  'data': {'logicalType': '1'},\n  'props': [],\n  'notes': ['Import batch [development] 2023-01-13 19:35:45.939035',\n   'special>:creation_event_id E0089_M81'],\n  'status': '1',\n  'references': [],\n  'legacyId': 'E0089_M81'},\n {'class': 'V',\n  'id': 'b4479e4c-fdca-45ff-a137-11b9faa50860',\n  'label': '1399',\n  'language': '',\n  'detail': '',\n  'data': {'logicalType': '1'},\n  'props': [],\n  'notes': ['Import batch [development] 2023-01-13 19:35:45.939035',\n   'special>:creation_event_id E0089_M81LegacyId: M81'],\n  'status': '1',\n  'references': []},\n {'class': 'L',\n  'id': '28155c83-59a5-44cb-9152-6b05c03878d8',\n  'label': 'Lichfield, Lichfield Record Office',\n  'language': '',\n  'detail': '',\n  'data': {'logicalType': '1'},\n  'props': [],\n  'notes': ['Import batch [development] 2023-01-13 19:35:45.939035',\n   \"Making location 'Lichfield, Lichfield Record Office' from M108 by field repository_label.\"],\n  'status': '1',\n  'references': [],\n  'legacyId': 'L_from_M108'},\n {'class': 'V',\n  'id': 'df467012-693b-44b4-9571-4fa20853852f',\n  'label': 'B/A/1/14i',\n  'language': '',\n  'detail': '',\n  'data': {'logicalType': '1'},\n  'props': [],\n  'notes': ['Import batch [development] 2023-01-13 19:35:45.939035',\n   'propvalue>89:M108:subcollection_and_shelf_number_concatenated:B/A/1/14i'],\n  'status': '1',\n  'references': []},\n {'class': 'E',\n  'id': '0d892ac7-48ea-4f3a-8644-6eb995426705',\n  'label': 'Creation of Lichfield, Lichfield Record Office, B/A/1/14i',\n  'language': '',\n  'detail': '',\n  'data': {'logicalType': '1'},\n  'props': [],\n  'notes': ['Import batch [development] 2023-01-13 19:35:45.939035',\n   'special>:creation_event_id E0090_M108'],\n  'status': '1',\n  'references': [],\n  'legacyId': 'E0090_M108'},\n ...]"
     },
     "execution_count": 19,
     "metadata": {},
     "output_type": "execute_result"
    }
   ],
   "source": [
    "dh.additional_entities\n"
   ],
   "metadata": {
    "collapsed": false
   }
  },
  {
   "cell_type": "code",
   "execution_count": null,
   "outputs": [],
   "source": [
    "# Log tables google sheet\n",
    "# https://docs.google.com/spreadsheets/d/1UpbJckLrRYTCz7wcEYhhcc-ihJxiUENx1unCCQqE4TE/edit#gid=0\n",
    "\n",
    "\n",
    "# d.open_gsheet(\"logtables\",\"https://docs.google.com/spreadsheets/d/1UpbJckLrRYTCz7wcEYhhcc-ihJxiUENx1unCCQqE4TE\")\n",
    "\n",
    "# d.write_df_to_gsheet(\"logtables\", \"values\", tables[\"values\"])\n",
    "# d.write_df_to_gsheet(\"logtables\", \"resources\", tables[\"resources\"])\n",
    "# d.write_df_to_gsheet(\"logtables\", \"locations\", tables[\"locations\"])\n",
    "# d.write_df_to_gsheet(\"logtables\", \"events\", tables[\"events\"])\n",
    "# d.write_df_to_gsheet(\"logtables\", \"props\", tables[\"props\"])\n",
    "\n"
   ],
   "metadata": {
    "collapsed": false
   }
  },
  {
   "cell_type": "code",
   "execution_count": 156,
   "outputs": [
    {
     "name": "stdout",
     "output_type": "stream",
     "text": [
      "20 2023-01-17 14:07:00 : Opening gsheet handle discouraged\n"
     ]
    }
   ],
   "source": [
    "d.open_gsheet(\"discouraged\",\"https://docs.google.com/spreadsheets/d/10x8TV2OmkcGt6zHw-3B-I3BhonETa0iQV424vCB9qSQ/edit#gid=0\")"
   ],
   "metadata": {
    "collapsed": false
   }
  },
  {
   "cell_type": "code",
   "execution_count": 157,
   "outputs": [
    {
     "data": {
      "text/plain": "['C2090',\n 'C0408',\n 'C0410',\n 'C3069',\n 'C0602',\n 'C0165',\n 'C0394',\n 'C0541',\n 'C0653',\n 'C0744',\n 'C0395',\n 'C0417',\n 'C2776',\n 'C0125',\n 'C0231',\n 'C0611',\n 'C0612',\n 'C0683',\n 'C0764',\n 'C0784',\n 'C0433',\n 'C0636',\n 'C0701',\n 'C1271',\n 'C1272',\n 'C1273',\n 'C0449',\n 'C0455',\n 'C0457',\n 'C0531',\n 'C0475',\n 'C0672',\n 'C0432',\n 'C0439',\n 'C0441',\n 'C0673',\n 'C0494',\n 'C0495',\n 'C0205',\n 'C0206',\n 'C0207',\n 'C0498',\n 'C0505',\n 'C0518',\n 'C0519',\n 'C0520',\n 'C2087',\n 'C0203',\n 'C0496',\n 'C0497',\n 'C0502',\n 'C0503',\n 'C0421',\n 'C0422',\n 'C0174',\n 'C0176',\n 'C0183',\n 'C0184',\n 'C0175',\n 'C0177',\n 'C2091',\n 'C0210',\n 'C0499',\n 'C0500',\n 'C1112',\n 'C0628',\n 'C0630',\n 'C0180',\n 'C0219',\n 'C0525',\n 'C0529',\n 'C0627',\n 'C0629',\n 'C0238',\n 'C0278',\n 'C0515',\n 'C0516',\n 'C0115',\n 'C0179',\n 'C0240',\n 'C0030',\n 'C0924',\n 'C0925',\n 'C0926',\n 'C0622',\n 'C0249',\n 'C0208',\n 'C0028',\n 'C0029',\n 'C2096',\n 'C0489',\n 'C1158',\n 'C1169',\n 'C2600',\n 'C2412',\n 'C0023',\n 'C0025',\n 'C2168',\n 'C0710',\n 'C0443',\n 'C0436',\n 'C0661',\n 'C0752',\n 'C0414',\n 'C0102',\n 'C0954',\n 'C0955',\n 'C0309',\n 'C0310',\n 'C0675',\n 'C0659',\n 'C0551',\n 'C1059',\n 'C1598',\n 'C1819',\n 'C0051',\n 'C0052',\n 'C0504',\n 'C0272',\n 'C0273',\n 'C0552',\n 'C0459',\n 'C0528',\n 'C2113',\n 'C2115',\n 'C1465',\n 'C2086',\n 'C0353',\n 'C0903',\n 'C0010',\n 'C0419',\n 'C0916',\n 'C2638',\n 'C2651',\n 'C0862',\n 'C2416',\n 'C0665',\n 'C0666',\n 'C0667',\n 'C0330',\n 'C0317',\n 'C0314',\n 'C0565',\n 'C0566',\n 'C0935',\n 'C0789',\n 'C2356',\n 'C1542',\n 'C2932',\n 'C2933',\n 'C2399',\n 'C0320',\n 'C0016',\n 'C0032',\n 'C0027',\n 'C0803',\n 'C0036',\n 'C2662',\n 'C0026',\n 'C0057',\n 'C0215',\n 'C0268',\n 'C0404',\n 'C0488',\n 'C0690',\n 'C0674',\n 'C0613',\n 'C0750',\n 'C0805',\n 'C0161',\n 'C0544',\n 'C0959',\n 'C0034',\n 'C0202',\n 'C0554',\n 'C0116',\n 'C0517',\n 'C0527',\n 'C0236',\n 'C0631',\n 'C0632',\n 'C0462',\n 'C0463',\n 'C2097',\n 'C0108',\n 'C2088',\n 'C0445',\n 'C0212',\n 'C0435',\n 'C0204',\n 'C0262',\n 'C0237',\n 'C0222',\n 'C0091',\n 'C0464',\n 'C0465',\n 'C0490',\n 'C0513',\n 'C0553',\n 'C0739',\n 'C0740',\n 'C0117',\n 'C0461',\n 'C0511',\n 'C0514',\n 'C0522',\n 'C0510',\n 'C0512',\n 'C0521',\n 'C0523',\n 'C0946',\n 'C0053',\n 'C0055',\n 'C0056',\n 'C0485',\n 'C0087',\n 'C0607',\n 'C0957',\n 'C0664',\n 'C0318',\n 'C0332',\n 'C1075',\n 'C1117',\n 'C1160',\n 'C1161',\n 'C1241',\n 'C1274',\n 'C1287',\n 'C0223',\n 'C0230',\n 'C0625',\n 'C0626',\n 'C1004',\n 'C1179',\n 'C0491',\n 'C2089',\n 'C2258',\n 'C2299',\n 'C2269',\n 'C1159',\n 'C2181',\n 'C0721',\n 'C0725',\n 'C0883',\n 'C1810',\n 'C2075',\n 'C2595',\n 'C0097',\n 'C1067',\n 'C0933',\n 'C0083',\n 'C0191',\n 'C0282',\n 'C0348',\n 'C0349',\n 'C0350',\n 'C0427',\n 'C0568',\n 'C0569',\n 'C0760',\n 'C0851',\n 'C1042',\n 'C1586',\n 'C1609',\n 'C1617',\n 'C1931',\n 'C1936',\n 'C1961',\n 'C1969',\n 'C2150',\n 'C2235',\n 'C2260',\n 'C2261',\n 'C2265',\n 'C3258',\n 'C3259',\n 'C3260',\n 'C3314',\n 'C3315',\n 'C3316',\n 'C3317',\n 'C3318',\n 'C3324',\n 'C3325',\n 'C3326',\n 'C3327',\n 'C3330',\n 'C3331']"
     },
     "execution_count": 157,
     "metadata": {},
     "output_type": "execute_result"
    }
   ],
   "source": [
    "discouraged_concepts = dh.tables['concepts'][tables['concepts']['status']==\"discouraged\"][['legacyId','label']]\n",
    "discouraged_concepts_ids_list = discouraged_concepts['legacyId'].to_list()\n",
    "discouraged_concepts_ids_list"
   ],
   "metadata": {
    "collapsed": false
   }
  },
  {
   "cell_type": "code",
   "execution_count": 158,
   "outputs": [
    {
     "data": {
      "text/plain": "'house of origin'"
     },
     "execution_count": 158,
     "metadata": {},
     "output_type": "execute_result"
    }
   ],
   "source": [
    "discouraged_concepts.set_index('legacyId').loc['C3324']['label']"
   ],
   "metadata": {
    "collapsed": false
   }
  },
  {
   "cell_type": "code",
   "execution_count": 159,
   "outputs": [
    {
     "name": "stdout",
     "output_type": "stream",
     "text": [
      "R0031_locations\n",
      "['L0275_R0031', 'L0442_R0031']\n",
      "actions\n",
      "['A0182', 'A0030', 'A0104']\n",
      "concepts\n",
      "['C2090', 'C0408', 'C0409', 'C0410', 'C0948', 'C0949', 'C0950', 'C3069', 'C0602', 'C0165', 'C0394', 'C0541', 'C0653', 'C0744', 'C0395', 'C2003', 'C0416', 'C0417', 'C2776', 'C0125', 'C0231', 'C0611', 'C0612', 'C0683', 'C0764', 'C0784', 'C0415', 'C0433', 'C0636', 'C0806', 'C0160', 'C0647', 'C0701', 'C1230', 'C1231', 'C1271', 'C1272', 'C1273', 'C0335', 'C0194', 'C0376', 'C0449', 'C0454', 'C0455', 'C0456', 'C0457', 'C0476', 'C0530', 'C0531', 'C0474', 'C0475', 'C0672', 'C0217', 'C0432', 'C0438', 'C0439', 'C0440', 'C0441', 'C0673', 'C0860', 'C0863', 'C0864', 'C1811', 'C0822', 'C1975', 'C2774', 'C0494', 'C0495', 'C0205', 'C0206', 'C0207', 'C0498', 'C0505', 'C0518', 'C0519', 'C0520', 'C2087', 'C0203', 'C0496', 'C0497', 'C0502', 'C0503', 'C0421', 'C0422', 'C0174', 'C0176', 'C0183', 'C0184', 'C0175', 'C0177', 'C2091', 'C0210', 'C0499', 'C0500', 'C1112', 'C0628', 'C0630', 'C0180', 'C0219', 'C0525', 'C0529', 'C0627', 'C0629', 'C0238', 'C0278', 'C0515', 'C0516', 'C0115', 'C0179', 'C0240', 'C0030', 'C0924', 'C0925', 'C0926', 'C0621', 'C0622', 'C0249', 'C0006', 'C0008', 'C0208', 'C0022', 'C0028', 'C0029', 'C0132', 'C2096', 'C0489', 'C1158', 'C1169', 'C2600', 'C0663', 'C2412', 'C0023', 'C0025', 'C0035', 'C2168', 'C0709', 'C0710', 'C0442', 'C0443', 'C0436', 'C0437', 'C0661', 'C0501', 'C0164', 'C0677', 'C0694', 'C0752', 'C0413', 'C0414', 'C0102', 'C0452', 'C0954', 'C0955', 'C0309', 'C0310', 'C0213', 'C0675', 'C0658', 'C0659', 'C0550', 'C0551', 'C1059', 'C1598', 'C1819', 'C0001', 'C0051', 'C0052', 'C0122', 'C0504', 'C0019', 'C0227', 'C0272', 'C0273', 'C0532', 'C0552', 'C0459', 'C0528', 'C2113', 'C2115', 'C1465', 'C2086', 'C0353', 'C0902', 'C0903', 'C0010', 'C0418', 'C0918', 'C0970', 'C0419', 'C0916', 'C2638', 'C2651', 'C0862', 'C2416', 'C0411', 'C1505', 'C0665', 'C0666', 'C0667', 'C0330', 'C0317', 'C0314', 'C0565', 'C0566', 'C0935', 'C0789', 'C0756', 'C2356', 'C1542', 'C0012', 'C2932', 'C2933', 'C2399', 'C0234', 'C0320', 'C0016', 'C0834', 'C1590', 'C0032', 'C0027', 'C0803', 'C0036', 'C2662', 'C0026', 'C0057', 'C0215', 'C0268', 'C0404', 'C0488', 'C0690', 'C0674', 'C0613', 'C0750', 'C0804', 'C0805', 'C0161', 'C0543', 'C0544', 'C1178', 'C0960', 'C0961', 'C0959', 'C0034', 'C0202', 'C0554', 'C0116', 'C0517', 'C0527', 'C0236', 'C0631', 'C0632', 'C0462', 'C0463', 'C2097', 'C0108', 'C2088', 'C0445', 'C0212', 'C0435', 'C0204', 'C0262', 'C0237', 'C0222', 'C0091', 'C0464', 'C0465', 'C0490', 'C0513', 'C0553', 'C0739', 'C0740', 'C0117', 'C0461', 'C0511', 'C0514', 'C0522', 'C0510', 'C0512', 'C0521', 'C0523', 'C0946', 'C0053', 'C0054', 'C0055', 'C0056', 'C1108', 'C0823', 'C0971', 'C2026', 'C2105', 'C0031', 'C0485', 'C0038', 'C0087', 'C0723', 'C0937', 'C0943', 'C1249', 'C0606', 'C0607', 'C0944', 'C0947', 'C0951', 'C0952', 'C0957', 'C2826', 'C0664', 'C0318', 'C0332', 'C1075', 'C1117', 'C1160', 'C1161', 'C1233', 'C1241', 'C1274', 'C1285', 'C1287', 'C0223', 'C0230', 'C0625', 'C0626', 'C1004', 'C1179', 'C0491', 'C2089', 'C2258', 'C2299', 'C2269', 'C1159', 'C1947', 'C2181', 'C0308', 'C0311', 'C0720', 'C0721', 'C0724', 'C0725', 'C0882', 'C0883', 'C0007', 'C1810', 'C0137', 'C2074', 'C2075', 'C2595', 'C0097', 'C1067', 'C0266', 'C0933', 'C2220', 'C0799', 'C0800', 'C1974', 'C2027', 'C2775', 'C0483', 'C0067', 'C0083', 'C0191', 'C0282', 'C0348', 'C0349', 'C0350', 'C0427', 'C0446', 'C0480', 'C0567', 'C0568', 'C0569', 'C0759', 'C0760', 'C0851', 'C1042', 'C1586', 'C1587', 'C1608', 'C1609', 'C1617', 'C1628', 'C1872', 'C1930', 'C1931', 'C1935', 'C1936', 'C1960', 'C1961', 'C1969', 'C2122', 'C2149', 'C2150', 'C2235', 'C2260', 'C2261', 'C2263', 'C2264', 'C2265', 'C3207', 'C3258', 'C3259', 'C3260', 'C3314', 'C3315', 'C3316', 'C3317', 'C3318', 'C3324', 'C3325', 'C3326', 'C3327', 'C3330', 'C3331']\n"
     ]
    }
   ],
   "source": [
    "found = [('table','legacyId','column_with_concept','discouraged_concept_id','discouraged_concept_label')]\n",
    "\n",
    "for t, tt in tables.items():\n",
    "    #df = tables['resources']\n",
    "    df = tables[t]\n",
    "    #mask = np.column_stack([df[col].str.contains(r\"C00\", na=False) for col in df])\n",
    "    mask = np.column_stack([df[col].isin(discouraged_concepts_ids_list) for col in df])\n",
    "    result = df.loc[mask.any(axis=1)]\n",
    "    if not result.empty:\n",
    "        #found[t] = []\n",
    "        print(t)\n",
    "        lids = result['legacyId'].to_list()\n",
    "        print(lids)\n",
    "        for l in lids:\n",
    "            target = df[df['legacyId'] == l]\n",
    "            for c in target.columns:\n",
    "                #print(target[c].iloc[0])\n",
    "                if c==\"legacyId\":\n",
    "                    continue\n",
    "                if t==\"concepts\":\n",
    "                    if target['status'].iloc[0] == \"discouraged\":\n",
    "                        continue\n",
    "                if target[c].iloc[0] in discouraged_concepts_ids_list:\n",
    "                    found.append((t,l,c, target[c].iloc[0],discouraged_concepts.set_index('legacyId').loc[target[c].iloc[0]]['label']))\n",
    "\n"
   ],
   "metadata": {
    "collapsed": false
   }
  },
  {
   "cell_type": "code",
   "execution_count": 160,
   "outputs": [
    {
     "data": {
      "text/plain": "0              table     legacyId    column_with_concept  \\\n1    R0031_locations  L0275_R0031              class_id2   \n2    R0031_locations  L0442_R0031              class_id2   \n3            actions        A0182      related_entity_id   \n4            actions        A0030    subject_semantic_id   \n5            actions        A0030    actant1_semantic_id   \n..               ...          ...                    ...   \n199         concepts        C2149  grammatical_number_id   \n200         concepts        C2263          components_id   \n201         concepts        C2264              plural_id   \n202         concepts        C2264  grammatical_number_id   \n203         concepts        C3207              plural_id   \n\n0   discouraged_concept_id discouraged_concept_label  \n1                    C0851                     locus  \n2                    C0851                     locus  \n3                    C0165       extra tempus gracie  \n4                    C1465                 adversary  \n5                    C1465                 adversary  \n..                     ...                       ...  \n199                  C0954                  singular  \n200                  C2265                apostolici  \n201                  C2265                apostolici  \n202                  C0954                  singular  \n203                  C1161                    idiote  \n\n[203 rows x 5 columns]",
      "text/html": "<div>\n<style scoped>\n    .dataframe tbody tr th:only-of-type {\n        vertical-align: middle;\n    }\n\n    .dataframe tbody tr th {\n        vertical-align: top;\n    }\n\n    .dataframe thead th {\n        text-align: right;\n    }\n</style>\n<table border=\"1\" class=\"dataframe\">\n  <thead>\n    <tr style=\"text-align: right;\">\n      <th></th>\n      <th>table</th>\n      <th>legacyId</th>\n      <th>column_with_concept</th>\n      <th>discouraged_concept_id</th>\n      <th>discouraged_concept_label</th>\n    </tr>\n  </thead>\n  <tbody>\n    <tr>\n      <th>1</th>\n      <td>R0031_locations</td>\n      <td>L0275_R0031</td>\n      <td>class_id2</td>\n      <td>C0851</td>\n      <td>locus</td>\n    </tr>\n    <tr>\n      <th>2</th>\n      <td>R0031_locations</td>\n      <td>L0442_R0031</td>\n      <td>class_id2</td>\n      <td>C0851</td>\n      <td>locus</td>\n    </tr>\n    <tr>\n      <th>3</th>\n      <td>actions</td>\n      <td>A0182</td>\n      <td>related_entity_id</td>\n      <td>C0165</td>\n      <td>extra tempus gracie</td>\n    </tr>\n    <tr>\n      <th>4</th>\n      <td>actions</td>\n      <td>A0030</td>\n      <td>subject_semantic_id</td>\n      <td>C1465</td>\n      <td>adversary</td>\n    </tr>\n    <tr>\n      <th>5</th>\n      <td>actions</td>\n      <td>A0030</td>\n      <td>actant1_semantic_id</td>\n      <td>C1465</td>\n      <td>adversary</td>\n    </tr>\n    <tr>\n      <th>...</th>\n      <td>...</td>\n      <td>...</td>\n      <td>...</td>\n      <td>...</td>\n      <td>...</td>\n    </tr>\n    <tr>\n      <th>199</th>\n      <td>concepts</td>\n      <td>C2149</td>\n      <td>grammatical_number_id</td>\n      <td>C0954</td>\n      <td>singular</td>\n    </tr>\n    <tr>\n      <th>200</th>\n      <td>concepts</td>\n      <td>C2263</td>\n      <td>components_id</td>\n      <td>C2265</td>\n      <td>apostolici</td>\n    </tr>\n    <tr>\n      <th>201</th>\n      <td>concepts</td>\n      <td>C2264</td>\n      <td>plural_id</td>\n      <td>C2265</td>\n      <td>apostolici</td>\n    </tr>\n    <tr>\n      <th>202</th>\n      <td>concepts</td>\n      <td>C2264</td>\n      <td>grammatical_number_id</td>\n      <td>C0954</td>\n      <td>singular</td>\n    </tr>\n    <tr>\n      <th>203</th>\n      <td>concepts</td>\n      <td>C3207</td>\n      <td>plural_id</td>\n      <td>C1161</td>\n      <td>idiote</td>\n    </tr>\n  </tbody>\n</table>\n<p>203 rows × 5 columns</p>\n</div>"
     },
     "execution_count": 160,
     "metadata": {},
     "output_type": "execute_result"
    }
   ],
   "source": [
    "rdf = pd.DataFrame(found)\n",
    "new_header = rdf.iloc[0] #grab the first row for the header\n",
    "rdf = rdf[1:] #take the data less the header row\n",
    "rdf.columns = new_header\n",
    "rdf"
   ],
   "metadata": {
    "collapsed": false
   }
  },
  {
   "cell_type": "code",
   "execution_count": 161,
   "outputs": [
    {
     "name": "stdout",
     "output_type": "stream",
     "text": [
      "20 2023-01-17 14:07:30 : Trying to write target dataset 'discouraged_concepts_2023' to gsheet handle: discouraged\n",
      "20 2023-01-17 14:07:30 : Using existing output worksheet\n",
      "20 2023-01-17 14:07:31 : Successfully written to gsheet handle: discouraged\n"
     ]
    }
   ],
   "source": [
    "d.write_df_to_gsheet(\"discouraged\", \"discouraged_concepts_2023\", rdf)"
   ],
   "metadata": {
    "collapsed": false
   }
  },
  {
   "cell_type": "code",
   "execution_count": null,
   "outputs": [],
   "source": [
    "#mask = np.column_stack([df[col].str.contains(r\"\\^\", na=False) for col in df])\n",
    "#df.loc[mask.any(axis=1)]\n"
   ],
   "metadata": {
    "collapsed": false
   }
  }
 ],
 "metadata": {
  "kernelspec": {
   "display_name": "python38",
   "language": "python",
   "name": "python38"
  },
  "language_info": {
   "codemirror_mode": {
    "name": "ipython",
    "version": 3
   },
   "file_extension": ".py",
   "mimetype": "text/x-python",
   "name": "python",
   "nbconvert_exporter": "python",
   "pygments_lexer": "ipython3",
   "version": "3.8.12"
  }
 },
 "nbformat": 4,
 "nbformat_minor": 1
}
