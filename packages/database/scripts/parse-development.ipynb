{
 "cells": [
  {
   "cell_type": "markdown",
   "source": [
    "# Parse development book\n",
    "\n",
    "### Notebook purpose\n",
    "This notebook is development space for python parse.ts replacement and upgrade.\n",
    "It reads specified google sheets and output actants.json file, which can be imported to inkVisitor RethinkDB.py\n",
    "\n",
    "The aggreated doc for dev: https://docs.google.com/document/d/1ga6R_9TWAQlXE9XqPE_qZ2S8S8aVW2A7n8SuYpSXnoI/edit#heading=h.q9ntf0ofam2u\n",
    "The holy schema: https://app.diagrams.net/#G1bKvqEKr6JzPWryVg-vYudQy_4KvuzHS9\n",
    "\n",
    "### JSon schemas for the actants\n",
    " * are created from *.ts files through typescript-jschema commandline utility\n",
    " * the schemas are trasformed as python Classes through warlock library\n",
    "\n",
    "\n",
    "### Principles of the parsing operations\n",
    " * There are google sheet dataset, which need to be transformed to json format according to inkVisior datamodel\n",
    " * inkVisitor holds datamodel in the code, the typescript classes (see /shared/types...), or the holy schema\n",
    " * DZ created in input table parsing instructions\n",
    "   * the first 5 rows contain instructions\n",
    "   * if the keywords contain ? character, they are ignored (it is work in progress from DZ)\n",
    "\n",
    "#### Parsing instructions\n",
    " * explicit set of keywords\n",
    "   * discard\n",
    "     * ...\n",
    "   * inside\n",
    "     * the value in the column should be straitforwadly made part of the entity object, the exists update_generic method or update_fieldName mehthods for fields with custom but generally applicable logic\n",
    "   * propvalue\n",
    "     * for making so called\n",
    "          * statement or property statment (old A0093 has relation)\n",
    "     * it sits in the entity \"props\" attribute, it has IProp class\n",
    "   * special\n",
    "     * fully custom method for the parsing behavior\n",
    "     *\n",
    "\n",
    "### Parsing process\n",
    " 1. Prepare data model entities classes (from typescript inkvisitor classes -> json schema ->  python classes)\n",
    " 2. Load and wrangle all input data\n",
    " 3. Process headers of the tables for parsing instructions\n",
    " 4. Process tables row by row, column by column\n",
    " 5. Save as json file (which can be imported to the inkVisitor RethinkDB)\n"
   ],
   "metadata": {
    "collapsed": false
   }
  },
  {
   "metadata": {},
   "cell_type": "markdown",
   "source": [
    "# DEV Update May 2024\n",
    "preparing for \"operation reimpoirt\""
   ]
  },
  {
   "cell_type": "markdown",
   "source": [
    "# DEV Update January 2023\n",
    "encapsulation of code\n"
   ],
   "metadata": {
    "collapsed": false
   }
  },
  {
   "cell_type": "markdown",
   "source": [
    "# DEV Updates : November\n",
    " - TODO updated model for relations (attribute order)\n",
    " - TODO synonymic relations parsed to \"cloud\""
   ],
   "metadata": {
    "collapsed": false
   }
  },
  {
   "cell_type": "markdown",
   "source": [
    "# Dev updates:  October 2\n",
    "- DONE change event-territories generation,  genre is relation.classification, not metaprop\n",
    "- TODO prepare for \"partial parsing\" and fixed guids for \"done\" tables\n",
    "- DONE updated users\n",
    "- DONE change in Manuscript parsing, For each non-empty, non-NA value: check whether the script hasn't already generated an L entity with the same label.\n",
    "IF NOT: (1) Generate a new L entity with label = value in this col., status = \"approved\", entity logical type = \"definite\", label language = value in the next col. (repository_label_language); (2) append to this L entity a RelationType.Classification leading to C2646 \"archive or library\". (3) Go to No. 4.\n",
    "IF YES, go to No. 4 and use that L.\n",
    "(4) Under the O entity representing the row (i.e. the physical manuscript), add a metaprop which will relate this O to this L entity (repository) through the relation: O - (has) - C2645 \"repository\" - L in this col.\n",
    "\n",
    "\n",
    "\n",
    "\n",
    "# Dev updates:  October\n",
    " - DONE u action a conceptu se neparsuji relations ?\n",
    " - DONE revize skriptu vzhledem k september bordelu\n",
    " - DONE events parsing\n",
    " - DONE 21.09. 2022, R table has received a new parsable column “components_id”. Its notation follows our agreed-upon notation, so it should not pose any problem, but I rather signal this new col. to you. It is for composite Rs, which need to be separated into several identities with different URIs (typically two volumes of an edition)\n",
    "  - DONE The instruction here and here for generating creation events for Territories and manuscript Objects has changed, since what was the Property C0565 class is now the RelationType Classification. Please take this change into account, tx.\n",
    " - DONE territories generation\n",
    "  - light yellow: metadata of Subterritory capturing the lowest-level document recording the Event (not of Event described by the row). Tomáš H.: (1) Please generate these lowest-level T entities following Adam’s script for parsing Robert’s Sellan coding sheet IDs into a hierarchical T structure and put them under their proper root T through legacy IDs: first element of ID = root T ID, last element = lowest-level Territory whose label follows in the next col., middle elements = folders in between root and lowest child level. E.g. here, in Guglielmites, there is root, i.e. the whole Guglielmites process of Beltramo Salvagno; then parts 1-4; and underneath them, the individual documents. When creating these lowest-level Subterritories, use this attributes: Entity type = T; T label and label_language defined in the two respective cols. which follow; status = approved. Other metadata set as metaprops in the following yellow cols. (2) Generate the middle entities holding the hierarchy, name them by the chunk ID (in this case, this will be four Ts named “1”, “2”, “3”, and “4”), and relate the lowest-level entity to them as their parents, and relate those middle entities to the root T as their parent in turn; attributes of these middle entities (folders 1-4 of the records): label = number [1,2,3,4] depending on the chunk; legacy id = T107-[chunk number], label language = Latin, status = approved. (3) Relate the lowest-level entity to the Event described by the row by the following Metaproperty: T107-1-01 - [has] - C2286 represented event - E0001 (middle-level entities will have no such relation now, only lowest-level documents).\n",
    "\n",
    "\n",
    "# Dev updates:  September\n",
    " - adding new users\n",
    "\n",
    "# Dev updates:  August\n",
    " - new instruction with proptype_2nd in column\n",
    "    - before we got the type fixed and had just instruction propvalue_2nd (used in territories for manuscript witness)\n",
    " - new instruction \"hook-inside\" for insides in newly created entities (see in gugli locations special:modern_name)\n",
    " - changes :  some properties 'id' changed to 'specificId'\n",
    "   - IProp {... 'value':{'entityId' and 'type':{'entityId'\n",
    "   - IStatement {  'data':{ 'territory' {'territoryId'\n",
    "   - ITerritory { 'data': {'parent': {'territoryId': \"\"\n",
    "- bigger TODO relations\n",
    "\n",
    "# Dev updates: April\n",
    "\n",
    "## Concepts\n",
    "  * DONE wordnet_synset_id\n",
    "    * wordnet_id bounded to resource object R0067\n",
    "\n",
    "## Texts\n",
    " * DONE special_creation_event_id\n",
    "   * instructions:\n",
    "     * Create entities in this col. as new E entities, with (1) the value here as legacy_id, (2) assign (as usual) a new \"hash\" ID from the db, (3) label of this E: see next col., (4) logical type \"definite\" (default), (5) label language \"English\", (6) status \"approved\", and (7) attach to any of those Es the metaprop \"(has) - C0565 \"class\" - C2642 \"creation\" (to instantiate the event to its event type = event class).\n",
    "   * creation_event_label in standalone field\n",
    "     * this will trigger the operation\n",
    "   * lot of proptype and propvalue with non-standard schema: new branch of interpreting\n",
    "\n",
    "## Manuscripts\n",
    " * special_repository_label\n",
    "   * i:\n",
    "     * For each non-empty, non-NA, non-NS row: (1) generate L entity with label = value in this col., status = \"approved\", entity logical type = \"definite\", label language = value in the next col. (repository_label_language); (2) append to this L entity a metaprop (has) - C0565 \"class\" - C2646 \"archive or library\", and (3) under the O entity representing the row (i.e. the physical manuscript), add a metaprop which will relate this O to this L entity (repository) through the relation: O - (has) - C2645 \"repository\" - L in this col.\n",
    "   * repository_label_language\n",
    "     * i:\n",
    "       * Use this value as label language value of the repository L entity.\n",
    " * DONE creation_event_id\n",
    "   * creation_event_label\n",
    "   * i:\n",
    "     * Create entities in this col. as new E entities, with (1) the value here as legacy_id, (2) assign (as usual) a new \"hash\" ID from the db, (3) label of this E: see next col., (4) logical type \"definite\" (default), (5) label language \"English\", (6) status \"approved\", and (7) attach to any of those Es the metaprop \"(has) - C0565 \"class\" - C2642 \"creation\" (to instantiate the event to its event type = event class).\n",
    " * reproduction_online_url\n",
    "   * instructions:\n",
    "     * If non-empty, non-NA, (1) generate an R entity with label \"Reproduction of \" + label of the MS (i.e. value in the B column, status = \"approved\", label-language = \"English\", url = the URL sitting under the hyperlink value in this cell, and (2) add metaprop to the O entity represented by this row: O - (has) - C1199 \"digital reproduction\" - the R entity here generated."
   ],
   "metadata": {
    "collapsed": false
   }
  },
  {
   "cell_type": "markdown",
   "source": [
    "\n",
    "\n"
   ],
   "metadata": {
    "collapsed": false
   }
  },
  {
   "cell_type": "markdown",
   "source": [
    "### Input variables"
   ],
   "metadata": {
    "collapsed": false
   }
  },
  {
   "cell_type": "code",
   "source": [
    "input_tables = [\"texts\", \"manuscripts\", \"resources\", \"actions\" , \"concepts\"]\n",
    "\n",
    "#                   sheet_name,  gdrive code, header_in_row, columns which need suffix based on a case name\n",
    "input_sheets = {\n",
    "    \"texts\" : (\"Texts\",\"13eVorFf7J9R8YzO7TmJRVLzIIwRJS737r7eFbH1boyE\", 5), #https://docs.google.com/spreadsheets/d/13eVorFf7J9R8YzO7TmJRVLzIIwRJS737r7eFbH1boyE/edit#gid=2056508047\n",
    "    \"manuscripts\" : (\"Manuscripts\", \"13eVorFf7J9R8YzO7TmJRVLzIIwRJS737r7eFbH1boyE\", 5),\n",
    "    \"resources\" : (\"Resources\", \"13eVorFf7J9R8YzO7TmJRVLzIIwRJS737r7eFbH1boyE\", 5),\n",
    "    \"actions\" :  (\"Statements\",\"1vzY6opQeR9hZVW6fmuZu2sgy_izF8vqGGhBQDxqT_eQ\", 5), # https://docs.google.com/spreadsheets/d/1vzY6opQeR9hZVW6fmuZu2sgy_izF8vqGGhBQDxqT_eQ/edit#gid=0\n",
    "    \"concepts\" : (\"Concepts\",\"1nSqnN6cjtdWK-y6iKZlJv4iGdhgtqkRPus8StVgExP4\", 5), # https://docs.google.com/spreadsheets/d/1nSqnN6cjtdWK-y6iKZlJv4iGdhgtqkRPus8StVgExP4/edit#gid=0,\n",
    "    \"R0006_persons\" : (\"Persons\",\"1UtgKvjr91egdgOQMP8WxsRxgGDT9FC92qBG3sKBiYvk\", 5, ['id','residence_id','social_relation1_value_id','social_relation2_value_id','social_relation3_value_id']), # GUGLIELMITES Persons, https://docs.google.com/spreadsheets/d/1UtgKvjr91egdgOQMP8WxsRxgGDT9FC92qBG3sKBiYvk/edit#gid=0,\n",
    "    \"R0007_locations\" : (\"Locations\",\"1jImuYCTu-QrZc7oCT1Vz01SLu5sxYRo4xzJzlF2J8Bs\", 5, ['id','locationrelation1_value_id','superordinate_location_id']) ,# GULIELMITES Locations, https://docs.google.com/spreadsheets/d/1jImuYCTu-QrZc7oCT1Vz01SLu5sxYRo4xzJzlF2J8Bs/edit#gid=0,\n",
    "    \"R0008_events\" : (\"Events\",\"1mLevawnoZVLQv6qINaSfiyi1NNlfJzTZevinRSSQVPo\", 5, ['id','spatial_ref_value_id','participant_id','inquisitor_id','notary_id','witness_assessor_id','accuser_id','accused_id','mentioned_id','denied_id','marked_as_incriminated_id','temporal_ref_1_value_id','temporal_ref_2_value_id']),\n",
    "    # Guglielmites EVENTS https://docs.google.com/spreadsheets/d/1mLevawnoZVLQv6qINaSfiyi1NNlfJzTZevinRSSQVPo/edit#gid=0,\n",
    "    \"R0075_persons\" : (\"Persons\",\"1Tyi4DYnHDeTs8tuz9rxN3wyq1LqLWWp_ZPgOimQoxf8\", 5, ['id','origin_or_residence_id','residence_id','relations_1_value_id','relations_2_value_id','relations_3_value_id','relations_4_value_id','relations_5_value_id','relations_6_value_id','relations_7_value_id','relations_8_value_id','relations_9_value_id','relations_10_value_id','relations_11_value_id','relations_12_value_id','relations_13_value_id','origin_id','occupation_id','office_id']), # Piedmont Castellario Persons, https://docs.google.com/spreadsheets/u/1/d/1Tyi4DYnHDeTs8tuz9rxN3wyq1LqLWWp_ZPgOimQoxf8/edit#gid=0\n",
    "    \"R0035_locations\" : (\"Locations\",\"1VwUDnAMJ8mWvL-54K-OnZmguB-rALnJjtGG2IGNBqIU\", 5, ['id','locationrelation1_value_id','locationrelation2_value_id','identificate_id','superordinate_location_id']) ,# Piedmont Castellario Locations, https://docs.google.com/spreadsheets/d/1VwUDnAMJ8mWvL-54K-OnZmguB-rALnJjtGG2IGNBqIU/edit#gid=0\n",
    "    \"R0083_events\" : (\"Events\",\"1M5uhJsbjUCxWP_avYQM0fr1Hm0GXVmYuDvqSoEuUAbs\", 5, ['id','participant_id','spatial_ref_value_id','inquisitor_id','notary_id','witness_assessor_id','accuser_id','accused_id','mentioned_id','denied_id','temporal_ref_1_value_id','temporal_ref_2_value_id']), \n",
    "    # Castellario Incriminations https://docs.google.com/spreadsheets/u/1/d/1M5uhJsbjUCxWP_avYQM0fr1Hm0GXVmYuDvqSoEuUAbs/edit#gid=0\n",
    "     \"R0105_groups\" : (\"Groups\",\"1IqislE4C0GM45Wvlg9JW2QmzqvR7LgjA5TZTkM143U4\", 5, ['id','has_member_id']) ,# Piedmont Castellario Groups, https://docs.google.com/spreadsheets/d/1IqislE4C0GM45Wvlg9JW2QmzqvR7LgjA5TZTkM143U4/edit#gid=0\n",
    "\n",
    "\n",
    "    \"R0030_persons\" : (\"Persons\",\"1W8YTiKBZZOi_682guwH7N9aEX_qINi9D3qBM8u96Fhk\", 5, ['id','toponymic_surname_id','residence_id', 'origin_id','social_relation1_value_id','social_relation2_value_id','social_relation3_value_id','social_relation4_value_id','social_relation5_value_id']), # Bologna Persons, https://docs.google.com/spreadsheets/d/1W8YTiKBZZOi_682guwH7N9aEX_qINi9D3qBM8u96Fhk/edit#gid=0\n",
    "    \"R0087_groups\" : (\"Groups\",\"1WuTIsyBaC7aD_o8xtS3VcZ8_lmA5T-SABKPIkHyWsPw\", 5, ['id']), # Bologna Groups, https://docs.google.com/spreadsheets/d/1WuTIsyBaC7aD_o8xtS3VcZ8_lmA5T-SABKPIkHyWsPw/edit#gid=0\n",
    "    \"R0031_locations\" : (\"Locations\",\"1AvGxtm3fSg9sl8CrjKiLaLLwTFaerSiz3wBUUjl2Il8\", 5, ['id','superordinate_location_id','province_modern_id','locationrelation1_value_id']) ,# Bologna Locations, https://docs.google.com/spreadsheets/d/1AvGxtm3fSg9sl8CrjKiLaLLwTFaerSiz3wBUUjl2Il8\n",
    "    \"R0082_events\" : (\"Events\",\"1qYTMaY-DwI2XiFTLUL9tiGC7ah9Lkm0YeKWXw6V0yog\", 5, ['id','inquisitor_id','notary_id','witness_assessor_id','spatial_ref_value_id','accuser_id','accused_id','mentioned_id','denied_id']), # Bologna Trial Events, https://docs.google.com/spreadsheets/d/1qYTMaY-DwI2XiFTLUL9tiGC7ah9Lkm0YeKWXw6V0yog/edit#gid=0  # 05/2024 deleting participant_id, David renamed it to OLD_ ...\n",
    "\n",
    "    \"R0039_persons\" : (\"Persons\",\"1jV9RBSZHSsKiMpJIrB58YdsaPxjBe3RxNLpR1ODJyWU\", 5, ['id','residence_id','origin_id','origin_or_residence_id','relation1_value_id','relation2_value_id','relation3_value_id','relation4_value_id', 'property_value_id']), # Carcassone HHH Persons, https://docs.google.com/spreadsheets/d/1jV9RBSZHSsKiMpJIrB58YdsaPxjBe3RxNLpR1ODJyWU/edit#gid=0\n",
    "\n",
    "    # NO GROUPS in Carcassonne\n",
    "\n",
    "    \"R0040_locations\" : (\"Locations\",\"1FSLbf0IE4zpchuHL1hHOsJEx0jgYGSoHU5RZzt86jLI\", 5, ['id','superordinate_location_id','locationrelation1_value_id']) ,# Carcassone HHH  Locations, https://docs.google.com/spreadsheets/d/1FSLbf0IE4zpchuHL1hHOsJEx0jgYGSoHU5RZzt86jLI/edit#gid=0  , # 05/2024, there were bad columns locationrelation1_target_id and locationrelation2_target_id, these does not exist; probably relabeled to locationrelation1_value_id ...?\n",
    "    \"R0079_events\" : (\"Events\",\"1i0XTsxvhP0vkHXoWEDTNtpuQIg-lWNY7jSOyjMZMHbw\", 5, ['id','inquisitor_id','notary_id','witness_assessor_id','spatial_ref_value_id','accuser_id','accused_id','mentioned_id','denied_id']), # Carcassone HHH  Trial Events, https://docs.google.com/spreadsheets/d/1i0XTsxvhP0vkHXoWEDTNtpuQIg-lWNY7jSOyjMZMHbw/edit#gid=0  # 05/2024 missing 'person_before_court_id',\n",
    "\n",
    "    \"R0076_persons\" : (\"Persons\",\"1yIT3kK9OdslT5FykzTjV1kDPkNVZfhIuayzqTK3hgA4\", 5, ['id','relations_1_value_id','relations_2_value_id','origin_or_residence_id','residence_id','origin_id']), # Casasco Persons, https://docs.google.com/spreadsheets/d/1yIT3kK9OdslT5FykzTjV1kDPkNVZfhIuayzqTK3hgA4/edit#gid=0\n",
    "    \"R0074_locations\" : (\"Locations\",\"1lUKyrZu9r9do9zXjzF7GUhMDgihXVYszwuOA5imuCDc\", 5, ['id','locationrelation1_value_id','locationrelation2_value_id','superordinate_location_id','identificate_id']) ,# Casasco  Locations, https://docs.google.com/spreadsheets/d/1lUKyrZu9r9do9zXjzF7GUhMDgihXVYszwuOA5imuCDc/edit#gid=0\n",
    "    \"R0104_events\" : (\"Events\",\"1XQCBAG__LXnYXmsCiDq-l6iO9cXZTyr4yXV0ISAm-sQ\", 5, ['id','participant_id','inquisitor_id','notary_id','witness_id','spatial_ref_value_id','temporal_ref_1_value_id','temporal_ref_2_value_id','accuser_id','accused_id','mentioned_id','denied_id']) # Casasco Trial Events, https://docs.google.com/spreadsheets/d/1XQCBAG__LXnYXmsCiDq-l6iO9cXZTyr4yXV0ISAm-sQ/edit#gid=0\n",
    "}\n",
    "\n",
    "\n",
    "# table of tables\n",
    "# https://docs.google.com/spreadsheets/d/13eVorFf7J9R8YzO7TmJRVLzIIwRJS737r7eFbH1boyE/edit#gid=583750775\n",
    "\n",
    "\n",
    "# resource IDs\n",
    "# R0006 Guglielmites Persons\n",
    "# R0007\tGuglielmites Locations\n",
    "# R0008\tGuglielmites Events\n",
    "\n",
    "# R0035\tPiedmont Locations Castellario\n",
    "# R0075\tPersons Castellario\n",
    "# R0083 Castellario Incriminations\n",
    "# R0105 Castellario Groups\n",
    "\n",
    "# RXXXX     Castellario Groups, https://docs.google.com/spreadsheets/d/1IqislE4C0GM45Wvlg9JW2QmzqvR7LgjA5TZTkM143U4/edit#gid=0\n",
    "\n",
    "# R0087\tBologna Groups\n",
    "# R0031\tBologna Locations\n",
    "# R0030\tBologna Persons\n",
    "# R0082\tBologna Trial Events\n",
    "# https://docs.google.com/spreadsheets/d/1WuTIsyBaC7aD_o8xtS3VcZ8_lmA5T-SABKPIkHyWsPw/edit#gid=0\n",
    "# https://docs.google.com/spreadsheets/d/1AvGxtm3fSg9sl8CrjKiLaLLwTFaerSiz3wBUUjl2Il8\n",
    "# https://docs.google.com/spreadsheets/d/1W8YTiKBZZOi_682guwH7N9aEX_qINi9D3qBM8u96Fhk/edit#gid=0\n",
    "# https://docs.google.com/spreadsheets/d/1qYTMaY-DwI2XiFTLUL9tiGC7ah9Lkm0YeKWXw6V0yog/edit#gid=0\n",
    "\n",
    "# R0040\tCarcassonne HHH Locations\n",
    "# R0039\tCarcassonne HHH Persons\n",
    "# R0079\tCarcassonne HHH Trial Events\n",
    "# https://docs.google.com/spreadsheets/d/1FSLbf0IE4zpchuHL1hHOsJEx0jgYGSoHU5RZzt86jLI/edit#gid=0\n",
    "# https://docs.google.com/spreadsheets/d/1jV9RBSZHSsKiMpJIrB58YdsaPxjBe3RxNLpR1ODJyWU/edit#gid=0\n",
    "# https://docs.google.com/spreadsheets/d/1i0XTsxvhP0vkHXoWEDTNtpuQIg-lWNY7jSOyjMZMHbw/edit#gid=0\n",
    "\n",
    "# R0074\tCasasco Locations\n",
    "# R0076\tCasasco Persons\n",
    "# R0104\tCasasco Trial Events\n",
    "# https://docs.google.com/spreadsheets/d/1lUKyrZu9r9do9zXjzF7GUhMDgihXVYszwuOA5imuCDc/edit#gid=0\n",
    "# https://docs.google.com/spreadsheets/d/1yIT3kK9OdslT5FykzTjV1kDPkNVZfhIuayzqTK3hgA4/edit#gid=0\n",
    "# https://docs.google.com/spreadsheets/d/1XQCBAG__LXnYXmsCiDq-l6iO9cXZTyr4yXV0ISAm-sQ/edit#gid=0\n",
    "\n",
    "\n",
    "table_to_entity = {\n",
    "    \"concepts\" : \"IConcept\",\n",
    "    \"resources\" : \"IResource\",\n",
    "    \"texts\" : \"ITerritory\",\n",
    "    \"manuscripts\" : \"IObject\",\n",
    "    \"actions\" :  \"IAction\",\n",
    "    \"R0006_persons\" : \"IPerson\",\n",
    "    \"R0007_locations\": \"ILocation\",\n",
    "    \"R0008_events\": \"IEvent\",\n",
    "    \"R0075_persons\" : \"IPerson\",\n",
    "    \"R0035_locations\": \"ILocation\",\n",
    "    \"R0083_events\": \"IEvent\",\n",
    "    \"R0105_groups\": \"IGroup\",\n",
    "    \"R0030_persons\" : \"IPerson\",\n",
    "    \"R0087_groups\" : \"IGroup\",\n",
    "    \"R0031_locations\": \"ILocation\",\n",
    "    \"R0082_events\": \"IEvent\",\n",
    "    \"R0039_persons\" : \"IPerson\",\n",
    "    \"R0040_locations\": \"ILocation\",\n",
    "    \"R0079_events\": \"IEvent\",\n",
    "    \"R0076_persons\" : \"IPerson\",\n",
    "    \"R0074_locations\": \"ILocation\",\n",
    "    \"R0104_events\": \"IEvent\",\n",
    "}\n",
    "\n",
    "root_sheet_url = \"https://docs.google.com/spreadsheets/d/\"\n",
    "google_api_dotenv_path = \"../env/.env.googleapi\"  # contains google api specs for sheet access with Dator"
   ],
   "metadata": {
    "collapsed": false,
    "ExecuteTime": {
     "end_time": "2024-06-01T10:52:28.962705Z",
     "start_time": "2024-06-01T10:52:28.931706Z"
    }
   },
   "outputs": [],
   "execution_count": 1
  },
  {
   "cell_type": "markdown",
   "source": [
    "### Libraries"
   ],
   "metadata": {
    "collapsed": false
   }
  },
  {
   "cell_type": "code",
   "source": [
    "%load_ext autoreload\n",
    "%autoreload 2"
   ],
   "metadata": {
    "collapsed": false,
    "ExecuteTime": {
     "end_time": "2024-06-01T10:52:32.868637Z",
     "start_time": "2024-06-01T10:52:32.821640Z"
    }
   },
   "outputs": [],
   "execution_count": 2
  },
  {
   "cell_type": "code",
   "source": [
    "import os, warlock, json\n",
    "from datetime import datetime\n",
    "import time\n",
    "from jsonschema import validate\n",
    "import dissinetpytools.dator as dator\n",
    "from dotenv import load_dotenv\n",
    "\n",
    "import pandas as pd\n",
    "import warnings\n",
    "warnings.simplefilter(action='ignore', category=pd.errors.PerformanceWarning)\n",
    "warnings.simplefilter(action='ignore', category=FutureWarning)\n",
    "#warnings.filterwarnings(\"ignore\")\n",
    "\n",
    "import numpy as np\n",
    "from copy import deepcopy\n",
    "from shutil import copyfile\n",
    "\n",
    "import uuid\n",
    "import dill as pickle\n",
    "from DataHolder import DataHolder\n",
    "import inkimplib2\n",
    "\n",
    "\n",
    "# type hinting\n",
    "from collections.abc import Sequence, Callable\n",
    "from typing import List, Dict, Tuple\n"
   ],
   "metadata": {
    "collapsed": false,
    "ExecuteTime": {
     "end_time": "2024-06-01T10:52:37.725828Z",
     "start_time": "2024-06-01T10:52:34.722456Z"
    }
   },
   "outputs": [
    {
     "name": "stdout",
     "output_type": "stream",
     "text": [
      "Creating the DataHolder singleton object\n"
     ]
    }
   ],
   "execution_count": 3
  },
  {
   "cell_type": "markdown",
   "source": [
    "### Initialisation"
   ],
   "metadata": {
    "collapsed": false
   }
  },
  {
   "cell_type": "markdown",
   "source": [],
   "metadata": {
    "collapsed": false
   }
  },
  {
   "cell_type": "code",
   "source": [
    "load_dotenv(google_api_dotenv_path) # fills os.environ['GDRIVE_API_CREDENTIALS']\n",
    "d = dator.Dator(loglevel=10, print_log_online=True, cache=True, project_name=\"inkvisitor-import\") # expects 'GDRIVE_API_CREDENTIALS' in the global system variables (os.environ)\n",
    "d.google_authenticate()\n",
    "logger = d.logger"
   ],
   "metadata": {
    "collapsed": false,
    "ExecuteTime": {
     "end_time": "2024-06-01T10:52:37.928904Z",
     "start_time": "2024-06-01T10:52:37.820387Z"
    }
   },
   "outputs": [
    {
     "name": "stdout",
     "output_type": "stream",
     "text": [
      "20 2024-06-01 12:52:37 : Google authentification start\n",
      "20 2024-06-01 12:52:37 : Google authentification end\n",
      "20 2024-06-01 12:52:37 : Dator initiation succesfull end\n"
     ]
    }
   ],
   "execution_count": 4
  },
  {
   "cell_type": "code",
   "source": [
    "# factory for making entity objects, contains defaults with \"prerequisities\"\n",
    "\n",
    "IOF = inkimplib2.InkVisitorJSONObjectFactory(\"../schemas/\",\"\")\n",
    "IOF.validate_defaults()"
   ],
   "metadata": {
    "collapsed": false,
    "ExecuteTime": {
     "end_time": "2024-06-01T12:44:59.248819Z",
     "start_time": "2024-06-01T12:44:59.059779Z"
    }
   },
   "outputs": [
    {
     "name": "stderr",
     "output_type": "stream",
     "text": [
      "2024-06-01 14:44:59,147 INFO Class IActant available.\n",
      "2024-06-01 14:44:59,149 INFO Class IAction available.\n",
      "2024-06-01 14:44:59,149 INFO Class IAudit available.\n",
      "2024-06-01 14:44:59,150 INFO Class IConcept available.\n",
      "2024-06-01 14:44:59,151 INFO Class IEntity available.\n",
      "2024-06-01 14:44:59,153 INFO Class IEvent available.\n",
      "2024-06-01 14:44:59,154 INFO Class IGroup available.\n",
      "2024-06-01 14:44:59,154 INFO Class ILabel available.\n",
      "2024-06-01 14:44:59,155 INFO Class ILocation available.\n",
      "2024-06-01 14:44:59,156 INFO Class IObject available.\n",
      "2024-06-01 14:44:59,157 INFO Class IPerson available.\n",
      "2024-06-01 14:44:59,158 INFO Class IProp available.\n",
      "2024-06-01 14:44:59,159 INFO Class IReference available.\n",
      "2024-06-01 14:44:59,159 INFO Class IResource available.\n",
      "2024-06-01 14:44:59,161 INFO Class IStatement available.\n",
      "2024-06-01 14:44:59,162 INFO Class ITerritory available.\n",
      "2024-06-01 14:44:59,162 INFO Class IUser available.\n",
      "2024-06-01 14:44:59,163 INFO Class IValue available.\n",
      "2024-06-01 14:44:59,164 INFO Class Relation.IActant1Semantics available.\n",
      "2024-06-01 14:44:59,164 INFO Class Relation.IActant2Semantics available.\n",
      "2024-06-01 14:44:59,165 INFO Class Relation.IActionEventEquivalent available.\n",
      "2024-06-01 14:44:59,166 INFO Class Relation.IAntonym available.\n",
      "2024-06-01 14:44:59,166 INFO Class Relation.IClassification available.\n",
      "2024-06-01 14:44:59,167 INFO Class Relation.IHolonym available.\n",
      "2024-06-01 14:44:59,167 INFO Class Relation.IIdentification available.\n",
      "2024-06-01 14:44:59,168 INFO Class Relation.IImplication available.\n",
      "2024-06-01 14:44:59,169 INFO Class Relation.IPropertyReciprocal available.\n",
      "2024-06-01 14:44:59,170 INFO Class Relation.IRelated available.\n",
      "2024-06-01 14:44:59,170 INFO Class Relation.ISubjectActant1Reciprocal available.\n",
      "2024-06-01 14:44:59,171 INFO Class Relation.ISubjectSemantics available.\n",
      "2024-06-01 14:44:59,172 INFO Class Relation.ISuperclass available.\n",
      "2024-06-01 14:44:59,172 INFO Class Relation.ISuperordinateEntity available.\n",
      "2024-06-01 14:44:59,173 INFO Class Relation.ISuperordinateLocation available.\n",
      "2024-06-01 14:44:59,174 INFO Class Relation.ISynonym available.\n",
      "2024-06-01 14:44:59,174 INFO Trying to validate class IAction.\n",
      "2024-06-01 14:44:59,177 INFO Class IAction validated.\n",
      "2024-06-01 14:44:59,177 INFO Trying to validate class IConcept.\n",
      "2024-06-01 14:44:59,180 INFO Class IConcept validated.\n",
      "2024-06-01 14:44:59,180 INFO Trying to validate class IValue.\n",
      "2024-06-01 14:44:59,183 INFO Class IValue validated.\n",
      "2024-06-01 14:44:59,184 INFO Trying to validate class IProp.\n",
      "2024-06-01 14:44:59,185 INFO Class IProp validated.\n",
      "2024-06-01 14:44:59,186 INFO Trying to validate class IResource.\n",
      "2024-06-01 14:44:59,188 INFO Class IResource validated.\n",
      "2024-06-01 14:44:59,189 INFO Trying to validate class Relation.IIdentification.\n",
      "2024-06-01 14:44:59,190 INFO Class Relation.IIdentification validated.\n",
      "2024-06-01 14:44:59,190 INFO Trying to validate class Relation.IClassification.\n",
      "2024-06-01 14:44:59,191 INFO Class Relation.IClassification validated.\n",
      "2024-06-01 14:44:59,192 INFO Trying to validate class Relation.IImplication.\n",
      "2024-06-01 14:44:59,193 INFO Class Relation.IImplication validated.\n",
      "2024-06-01 14:44:59,194 INFO Trying to validate class Relation.IHolonym.\n",
      "2024-06-01 14:44:59,195 INFO Class Relation.IHolonym validated.\n",
      "2024-06-01 14:44:59,195 INFO Trying to validate class Relation.IRelated.\n",
      "2024-06-01 14:44:59,197 INFO Class Relation.IRelated validated.\n",
      "2024-06-01 14:44:59,197 INFO Trying to validate class Relation.IActionEventEquivalent.\n",
      "2024-06-01 14:44:59,198 INFO Class Relation.IActionEventEquivalent validated.\n",
      "2024-06-01 14:44:59,198 INFO Trying to validate class Relation.ISubjectActant1Reciprocal.\n",
      "2024-06-01 14:44:59,199 INFO Class Relation.ISubjectActant1Reciprocal validated.\n",
      "2024-06-01 14:44:59,200 INFO Trying to validate class Relation.IPropertyReciprocal.\n",
      "2024-06-01 14:44:59,201 INFO Class Relation.IPropertyReciprocal validated.\n",
      "2024-06-01 14:44:59,201 INFO Trying to validate class Relation.IAntonym.\n",
      "2024-06-01 14:44:59,202 INFO Class Relation.IAntonym validated.\n",
      "2024-06-01 14:44:59,203 INFO Trying to validate class Relation.ISynonym.\n",
      "2024-06-01 14:44:59,203 INFO Class Relation.ISynonym validated.\n",
      "2024-06-01 14:44:59,204 INFO Trying to validate class Relation.ISuperordinateLocation.\n",
      "2024-06-01 14:44:59,205 INFO Class Relation.ISuperordinateLocation validated.\n",
      "2024-06-01 14:44:59,205 INFO Trying to validate class Relation.ISuperordinateEntity.\n",
      "2024-06-01 14:44:59,206 INFO Class Relation.ISuperordinateEntity validated.\n",
      "2024-06-01 14:44:59,207 INFO Trying to validate class Relation.ISuperclass.\n",
      "2024-06-01 14:44:59,208 INFO Class Relation.ISuperclass validated.\n",
      "2024-06-01 14:44:59,209 INFO Trying to validate class Relation.ISubjectSemantics.\n",
      "2024-06-01 14:44:59,210 INFO Class Relation.ISubjectSemantics validated.\n",
      "2024-06-01 14:44:59,211 INFO Trying to validate class Relation.IActant1Semantics.\n",
      "2024-06-01 14:44:59,211 INFO Class Relation.IActant1Semantics validated.\n",
      "2024-06-01 14:44:59,212 INFO Trying to validate class Relation.IActant2Semantics.\n",
      "2024-06-01 14:44:59,213 INFO Class Relation.IActant2Semantics validated.\n",
      "2024-06-01 14:44:59,213 INFO Trying to validate class IObject.\n",
      "2024-06-01 14:44:59,216 INFO Class IObject validated.\n",
      "2024-06-01 14:44:59,216 INFO Trying to validate class IStatement.\n",
      "2024-06-01 14:44:59,220 INFO Class IStatement validated.\n",
      "2024-06-01 14:44:59,220 INFO Trying to validate class ITerritory.\n",
      "2024-06-01 14:44:59,225 INFO Class ITerritory validated.\n",
      "2024-06-01 14:44:59,225 INFO Trying to validate class ILocation.\n",
      "2024-06-01 14:44:59,227 INFO Class ILocation validated.\n",
      "2024-06-01 14:44:59,228 INFO Trying to validate class IEvent.\n",
      "2024-06-01 14:44:59,231 INFO Class IEvent validated.\n",
      "2024-06-01 14:44:59,232 INFO Trying to validate class IReference.\n",
      "2024-06-01 14:44:59,233 INFO Class IReference validated.\n",
      "2024-06-01 14:44:59,233 INFO Trying to validate class IAudit.\n",
      "2024-06-01 14:44:59,234 INFO Class IAudit validated.\n",
      "2024-06-01 14:44:59,235 INFO Trying to validate class IPerson.\n",
      "2024-06-01 14:44:59,237 INFO Class IPerson validated.\n",
      "2024-06-01 14:44:59,237 INFO Trying to validate class IGroup.\n",
      "2024-06-01 14:44:59,240 INFO Class IGroup validated.\n"
     ]
    }
   ],
   "execution_count": 34
  },
  {
   "cell_type": "code",
   "source": [
    "# initialisation of input data tables\n",
    "tables = {}\n",
    "header_infos = {}\n",
    "entity_ids = {}"
   ],
   "metadata": {
    "collapsed": false,
    "ExecuteTime": {
     "end_time": "2024-06-01T11:06:55.523969Z",
     "start_time": "2024-06-01T11:06:55.431942Z"
    }
   },
   "outputs": [],
   "execution_count": 10
  },
  {
   "metadata": {
    "ExecuteTime": {
     "end_time": "2024-06-01T11:06:59.948179Z",
     "start_time": "2024-06-01T11:06:57.506571Z"
    }
   },
   "cell_type": "code",
   "source": [
    "# load existing entities.json to create legacyId_to_uuid map\n",
    "ddb1_entities = pd.read_json(\"./data/latest/entities.json\")"
   ],
   "outputs": [],
   "execution_count": 11
  },
  {
   "metadata": {
    "ExecuteTime": {
     "end_time": "2024-06-01T11:07:04.702518Z",
     "start_time": "2024-06-01T11:07:04.586998Z"
    }
   },
   "cell_type": "code",
   "source": [
    "legacyId_to_uuid = ddb1_entities[['legacyId','id']].copy().set_index('legacyId')\n",
    "legacyId_to_uuid = legacyId_to_uuid[legacyId_to_uuid.index.notna()].to_dict()['id']"
   ],
   "outputs": [],
   "execution_count": 12
  },
  {
   "metadata": {
    "ExecuteTime": {
     "end_time": "2024-06-01T18:53:24.809005Z",
     "start_time": "2024-06-01T18:53:24.700946Z"
    }
   },
   "cell_type": "code",
   "source": "legacyId_to_uuid['T77-01-004']",
   "outputs": [
    {
     "data": {
      "text/plain": [
       "'adb0ee87-9a91-40bd-ab1d-ffaa071d418a'"
      ]
     },
     "execution_count": 63,
     "metadata": {},
     "output_type": "execute_result"
    }
   ],
   "execution_count": 63
  },
  {
   "cell_type": "markdown",
   "source": [
    "# Load input datasets"
   ],
   "metadata": {
    "collapsed": false
   }
  },
  {
   "cell_type": "code",
   "source": [
    "# partial load\n",
    "# partial_load = ['R0075_persons', 'R0035_locations','R0083_events']\n",
    "# partial_load = ['R0035_locations']\n",
    "# partial_load = ['R0039_persons', 'R0040_locations','R0079_events']\n",
    "# partial_load = ['R0076_persons', 'R0074_locations','R0104_events']\n",
    "\n",
    "# R0087\tBologna Groups\n",
    "# R0031\tBologna Locations\n",
    "# R0030\tBologna Persons\n",
    "# R0082\tBologna Trial Events\n",
    "# partial_load = ['R0030_persons', 'R0031_locations','R0082_events']\n",
    "# partial_load = ['R0104_events'] # 'R0030_persons', 'R0087_groups', ,'R0082_events'\n",
    "# partial_load = ['R0030_persons','R0082_events'] # 'R0030_persons', 'R0087_groups', ,'R0082_events'\n",
    "# partial_load = ['R0082_events']\n",
    "partial_load = []\n",
    "\n",
    "# empty value unifier\n",
    "def unify_empty_value(df: pd.DataFrame, empty_values=None, unified_empty_value =''):\n",
    "    if empty_values is None:\n",
    "        empty_values = [\"#N/A\", \"#VALUE!\",'NA', 'NS'] # 'NA', 'NS',\n",
    "    for naner in empty_values:\n",
    "        df = df.replace(naner,unified_empty_value, regex=True)\n",
    "    df. fillna(unified_empty_value, inplace=True)\n",
    "    return df\n",
    "\n",
    "# define cross-suffixes\n",
    "casearea_to_entity_suffix = {\n",
    "    \"R0006\" : {\n",
    "        \"P\" : \"R0006\",\n",
    "        \"L\" : \"R0007\",\n",
    "        \"E\" : \"R0008\"\n",
    "    },\n",
    "    \"R0007\" : {\n",
    "        \"P\" : \"R0006\",\n",
    "        \"L\" : \"R0007\",\n",
    "        \"E\" : \"R0008\"\n",
    "    },\n",
    "    \"R0008\" : {\n",
    "        \"P\" : \"R0006\",\n",
    "        \"L\" : \"R0007\",\n",
    "        \"E\" : \"R0008\"\n",
    "    },\n",
    "    \"R0075\" : {\n",
    "        \"P\" : \"R0075\",\n",
    "        \"L\" : \"R0035\",\n",
    "        \"E\" : \"R0083\",\n",
    "        \"G\" : \"R0105\",\n",
    "    },\n",
    "    \"R0035\" : {\n",
    "        \"P\" : \"R0075\",\n",
    "        \"L\" : \"R0035\",\n",
    "        \"E\" : \"R0083\",\n",
    "        \"G\" : \"R0105\",\n",
    "    },\n",
    "    \"R0083\" : {\n",
    "        \"P\" : \"R0075\",\n",
    "        \"L\" : \"R0035\",\n",
    "        \"E\" : \"R0083\",\n",
    "        \"G\" : \"R0105\",\n",
    "    },\n",
    "    \"R0105\" : {\n",
    "        \"P\" : \"R0075\",\n",
    "        \"L\" : \"R0035\",\n",
    "        \"E\" : \"R0083\",\n",
    "        \"G\" : \"R0105\",\n",
    "    },\n",
    "    \"R0087\" : {\n",
    "          \"P\" : \"R0030\",\n",
    "          \"L\" : \"R0031\",\n",
    "          \"E\" : \"R0082\",\n",
    "          \"G\" : \"R0087\",\n",
    "      },\n",
    "    \"R0030\" : {\n",
    "        \"P\" : \"R0030\",\n",
    "        \"L\" : \"R0031\",\n",
    "        \"E\" : \"R0082\",\n",
    "        \"G\" : \"R0087\",\n",
    "    },\n",
    "    \"R0031\" : {\n",
    "        \"P\" : \"R0030\",\n",
    "        \"L\" : \"R0031\",\n",
    "        \"E\" : \"R0082\",\n",
    "        \"G\" : \"R0087\",\n",
    "    },\n",
    "    \"R0082\" : {\n",
    "        \"P\" : \"R0030\",\n",
    "        \"L\" : \"R0031\",\n",
    "        \"E\" : \"R0082\",\n",
    "        \"G\" : \"R0087\",\n",
    "    },\n",
    "    \"R0039\" : {\n",
    "          \"P\" : \"R0039\",\n",
    "          \"L\" : \"R0040\",\n",
    "          \"E\" : \"R0079\",\n",
    "      },\n",
    "    \"R0040\" : {\n",
    "          \"P\" : \"R0039\",\n",
    "          \"L\" : \"R0040\",\n",
    "          \"E\" : \"R0079\",\n",
    "      },\n",
    "    \"R0079\" : {\n",
    "          \"P\" : \"R0039\",\n",
    "          \"L\" : \"R0040\",\n",
    "          \"E\" : \"R0079\",\n",
    "\n",
    "      },\n",
    "    \"R0076\" : {\n",
    "          \"P\" : \"R0076\",\n",
    "          \"L\" : \"R0074\",\n",
    "          \"E\" : \"R0104\"\n",
    "      },\n",
    "    \"R0074\" : {\n",
    "          \"P\" : \"R0076\",\n",
    "          \"L\" : \"R0074\",\n",
    "          \"E\" : \"R0104\"\n",
    "      },\n",
    "     \"R0104\" : {\n",
    "          \"P\" : \"R0076\",\n",
    "          \"L\" : \"R0074\",\n",
    "          \"E\" : \"R0104\"\n",
    "      },\n",
    "}\n",
    "\n",
    "def get_suffix_based_on_case_and_entity_type(string, case_suffix):\n",
    "    # if valid entity type\n",
    "    allowed_strict_entities = ['P','L','E','B','G']\n",
    "    if any(string.startswith(c)for c in allowed_strict_entities):\n",
    "        fl = string[0]\n",
    "        return \"_\"+casearea_to_entity_suffix[case_suffix.replace(\"_\",\"\")][fl]\n",
    "    else:\n",
    "        return \"\"\n",
    "\n",
    "def apply_suffix(string, case_suffix):\n",
    "    if string in ['NS','NA']:\n",
    "        return string\n",
    "    mod_string = \"\"\n",
    "    if \"#\" in string:\n",
    "        strings = string.split(\"#\")\n",
    "        for s in strings:\n",
    "            mod_string += \" #\"+ s.strip() + get_suffix_based_on_case_and_entity_type(s.strip(), case_suffix)\n",
    "        mod_string = mod_string[2:]\n",
    "    else:\n",
    "        mod_string = string + get_suffix_based_on_case_and_entity_type(string, case_suffix)\n",
    "    return mod_string\n",
    "\n",
    "\n",
    "# load all input tables\n",
    "load_sheets = {}\n",
    "if len(partial_load) > 0:\n",
    "    logger.info(f\"Making PARTIAL LOAD with {partial_load}\")\n",
    "    for item in partial_load:\n",
    "        load_sheets[item] = input_sheets[item]\n",
    "else:\n",
    "    load_sheets = input_sheets\n",
    "\n",
    "for key, sheet in load_sheets.items():\n",
    "    logger.info(f\"Calling for {key} with sheet_name {sheet[0]}.\")\n",
    "    tables[key], header_infos[key] = d.load_df_from_gsheet(key,root_sheet_url + sheet[1], sheet[0], fromCache=False, header_in_row=sheet[2], clean=True, fillna=True, cleanByColumn=\"label\", parse_hyperlink_formulas=True, numerize=False)\n",
    "    tables[key] = unify_empty_value(tables[key])\n",
    "    header_infos[key] = unify_empty_value(header_infos[key])\n",
    "\n",
    "    # clean brackets\n",
    "    for c in tables[key].columns:\n",
    "      if \"label\" not in c:\n",
    "        tables[key][c] = tables[key][c].replace(\"\\[\",\"\",  regex=True)\n",
    "        tables[key][c] = tables[key][c].replace(\"\\]\",\"\",  regex=True)\n",
    "\n",
    "\n",
    "    # case study dataset legacyId needs a suffix\n",
    "    if \"_\" in key:\n",
    "        columns = sheet[3]\n",
    "        suffix = \"_\" + key.split(\"_\")[0]\n",
    "        for c in columns:\n",
    "            # tables[key][c] = tables[key][c] + suffix\n",
    "            logger.info(f\"Using {key} and {c}.\")\n",
    "            tables[key][c]  = tables[key][c].apply(lambda item: apply_suffix(item,suffix) if len(str(item)) > 0 else item)\n",
    "\n",
    "            #tables[key].loc[~tables[key][c].isna(), \"c\"] = tables[key][c] + \"_\" + suffix\n",
    "            # df.loc[df[\"gender\"] == \"male\", \"gender\"] = 1\n",
    "            logger.info(f\"{key} For columns {c} the suffix from {suffix} set was glued.\")\n",
    "\n",
    "    # code for legacyId copy and uuid creation\n",
    "    # tables[key]['legacyId'] = tables[key]['id'].copy()\n",
    "    tables[key].insert(2, 'legacyId', tables[key]['id'].copy())\n",
    "\n",
    "    # inform instructive header about the new column and what to do with it\n",
    "    header_infos[key]['legacyId'] = \"\"\n",
    "    header_infos[key].at[3,'legacyId'] = \"inside\"\n",
    "    tables[key]['id'] = tables[key].apply(lambda x: inkimplib2.get_uuid_id2(x,legacyId_to_uuid), axis=1)  # generate unique id for each row\n",
    "    # make id dictionaries (it is much faster to search for keys there in legacyId>id retrievals)\n",
    "    ed = tables[key][[\"legacyId\",\"id\"]].set_index(\"legacyId\")\n",
    "\n",
    "    if \"_\" in key:   # legacyIds are case-specified, i.e. all locations can be together in one table\n",
    "        key = key.split(\"_\")[1]\n",
    "\n",
    "    if key in  entity_ids:\n",
    "        entity_ids[key] = {**entity_ids[key],**ed[\"id\"].to_dict()}\n",
    "    else:\n",
    "        entity_ids[key] = ed[\"id\"].to_dict()"
   ],
   "metadata": {
    "collapsed": false,
    "ExecuteTime": {
     "end_time": "2024-06-01T17:52:54.545652Z",
     "start_time": "2024-06-01T17:49:50.490064Z"
    }
   },
   "outputs": [
    {
     "name": "stderr",
     "output_type": "stream",
     "text": [
      "2024-06-01 19:49:50,601 INFO Calling for texts with sheet_name Texts.\n"
     ]
    },
    {
     "name": "stdout",
     "output_type": "stream",
     "text": [
      "20 2024-06-01 19:49:52 : Loading dataset texts\n",
      "20 2024-06-01 19:49:52 : Opting for variant header at row 5.\n",
      "20 2024-06-01 19:50:02 : Hyperlinks were detected and transformed in columns ['edition_1', 'edition_2', 'edition_3', 'persons_index_link', 'places_index_link'].\n",
      "20 2024-06-01 19:50:02 : Dropping empty columns in the dataset texts : (1010, 120)\n",
      "20 2024-06-01 19:50:02 : Deleted 821 empty rows by label.\n",
      "20 2024-06-01 19:50:02 : Loaded and prepared dataset texts : (189, 120)\n"
     ]
    },
    {
     "name": "stderr",
     "output_type": "stream",
     "text": [
      "2024-06-01 19:50:02,459 WARNING legacy id T173 not found in ddb1 data\n",
      "2024-06-01 19:50:02,465 WARNING legacy id T155 not found in ddb1 data\n",
      "2024-06-01 19:50:02,485 WARNING legacy id T156 not found in ddb1 data\n",
      "2024-06-01 19:50:02,486 WARNING legacy id T157 not found in ddb1 data\n",
      "2024-06-01 19:50:02,486 WARNING legacy id T158 not found in ddb1 data\n",
      "2024-06-01 19:50:02,487 WARNING legacy id T159 not found in ddb1 data\n",
      "2024-06-01 19:50:02,487 WARNING legacy id T160 not found in ddb1 data\n",
      "2024-06-01 19:50:02,487 WARNING legacy id T161 not found in ddb1 data\n",
      "2024-06-01 19:50:02,488 WARNING legacy id T162 not found in ddb1 data\n",
      "2024-06-01 19:50:02,489 WARNING legacy id T163 not found in ddb1 data\n",
      "2024-06-01 19:50:02,490 WARNING legacy id T164 not found in ddb1 data\n",
      "2024-06-01 19:50:02,490 WARNING legacy id T165 not found in ddb1 data\n",
      "2024-06-01 19:50:02,491 WARNING legacy id T166 not found in ddb1 data\n",
      "2024-06-01 19:50:02,491 WARNING legacy id T167 not found in ddb1 data\n",
      "2024-06-01 19:50:02,492 WARNING legacy id T168 not found in ddb1 data\n",
      "2024-06-01 19:50:02,492 WARNING legacy id T169 not found in ddb1 data\n",
      "2024-06-01 19:50:02,493 WARNING legacy id T177 not found in ddb1 data\n",
      "2024-06-01 19:50:02,494 WARNING legacy id T180 not found in ddb1 data\n",
      "2024-06-01 19:50:02,494 WARNING legacy id T181 not found in ddb1 data\n",
      "2024-06-01 19:50:02,495 WARNING legacy id T182 not found in ddb1 data\n",
      "2024-06-01 19:50:02,495 WARNING legacy id T183 not found in ddb1 data\n",
      "2024-06-01 19:50:02,496 WARNING legacy id T184 not found in ddb1 data\n",
      "2024-06-01 19:50:02,497 WARNING legacy id T185 not found in ddb1 data\n",
      "2024-06-01 19:50:02,498 WARNING legacy id T186 not found in ddb1 data\n",
      "2024-06-01 19:50:02,498 WARNING legacy id T187 not found in ddb1 data\n",
      "2024-06-01 19:50:02,498 WARNING legacy id T188 not found in ddb1 data\n",
      "2024-06-01 19:50:02,499 WARNING legacy id T190 not found in ddb1 data\n",
      "2024-06-01 19:50:02,553 INFO Calling for manuscripts with sheet_name Manuscripts.\n"
     ]
    },
    {
     "name": "stdout",
     "output_type": "stream",
     "text": [
      "20 2024-06-01 19:50:03 : Loading dataset manuscripts\n",
      "20 2024-06-01 19:50:03 : Opting for variant header at row 5.\n"
     ]
    },
    {
     "name": "stderr",
     "output_type": "stream",
     "text": [
      "2024-06-01 19:50:08,011 WARNING legacy id M163 not found in ddb1 data\n"
     ]
    },
    {
     "name": "stdout",
     "output_type": "stream",
     "text": [
      "20 2024-06-01 19:50:07 : Hyperlinks were detected and transformed in columns ['reproduction_online_url', 'reproduction_note'].\n",
      "20 2024-06-01 19:50:07 : Dropping empty columns in the dataset manuscripts : (1036, 66)\n",
      "20 2024-06-01 19:50:07 : Deleted 891 empty rows by label.\n",
      "20 2024-06-01 19:50:07 : Loaded and prepared dataset manuscripts : (145, 66)\n"
     ]
    },
    {
     "name": "stderr",
     "output_type": "stream",
     "text": [
      "2024-06-01 19:50:08,017 INFO Calling for resources with sheet_name Resources.\n"
     ]
    },
    {
     "name": "stdout",
     "output_type": "stream",
     "text": [
      "20 2024-06-01 19:50:08 : Loading dataset resources\n",
      "20 2024-06-01 19:50:08 : Opting for variant header at row 5.\n"
     ]
    },
    {
     "name": "stderr",
     "output_type": "stream",
     "text": [
      "2024-06-01 19:50:12,699 WARNING legacy id R0111 not found in ddb1 data\n",
      "2024-06-01 19:50:12,700 WARNING legacy id R0119 not found in ddb1 data\n",
      "2024-06-01 19:50:12,700 WARNING legacy id R0126 not found in ddb1 data\n",
      "2024-06-01 19:50:12,704 INFO Calling for actions with sheet_name Statements.\n"
     ]
    },
    {
     "name": "stdout",
     "output_type": "stream",
     "text": [
      "20 2024-06-01 19:50:12 : Hyperlinks were detected and transformed in columns [].\n",
      "20 2024-06-01 19:50:12 : Dropping empty columns in the dataset resources : (1000, 29)\n",
      "20 2024-06-01 19:50:12 : Deleted 869 empty rows by label.\n",
      "20 2024-06-01 19:50:12 : Loaded and prepared dataset resources : (131, 29)\n",
      "20 2024-06-01 19:50:14 : Loading dataset actions\n",
      "20 2024-06-01 19:50:14 : Opting for variant header at row 5.\n",
      "20 2024-06-01 19:50:21 : Hyperlinks were detected and transformed in columns [].\n",
      "20 2024-06-01 19:50:21 : Dropping empty columns in the dataset actions : (1029, 88)\n",
      "20 2024-06-01 19:50:21 : Deleted 567 empty rows by label.\n",
      "20 2024-06-01 19:50:21 : Loaded and prepared dataset actions : (462, 88)\n"
     ]
    },
    {
     "name": "stderr",
     "output_type": "stream",
     "text": [
      "2024-06-01 19:50:21,795 WARNING legacy id A0456 not found in ddb1 data\n",
      "2024-06-01 19:50:21,796 WARNING legacy id A0458 not found in ddb1 data\n",
      "2024-06-01 19:50:21,797 WARNING legacy id A0460 not found in ddb1 data\n",
      "2024-06-01 19:50:21,800 INFO Calling for concepts with sheet_name Concepts.\n"
     ]
    },
    {
     "name": "stdout",
     "output_type": "stream",
     "text": [
      "20 2024-06-01 19:50:23 : Loading dataset concepts\n",
      "20 2024-06-01 19:50:23 : Opting for variant header at row 5.\n",
      "20 2024-06-01 19:50:30 : Hyperlinks were detected and transformed in columns [].\n",
      "20 2024-06-01 19:50:30 : Dropping empty columns in the dataset concepts : (4331, 76)\n",
      "20 2024-06-01 19:50:31 : Deleted 474 empty rows by label.\n",
      "20 2024-06-01 19:50:31 : Loaded and prepared dataset concepts : (3857, 76)\n"
     ]
    },
    {
     "name": "stderr",
     "output_type": "stream",
     "text": [
      "2024-06-01 19:50:32,492 WARNING legacy id C2949 not found in ddb1 data\n",
      "2024-06-01 19:50:32,519 WARNING legacy id C3716 not found in ddb1 data\n",
      "2024-06-01 19:50:32,520 WARNING legacy id C3717 not found in ddb1 data\n",
      "2024-06-01 19:50:32,520 WARNING legacy id C3718 not found in ddb1 data\n",
      "2024-06-01 19:50:32,521 WARNING legacy id C3719 not found in ddb1 data\n",
      "2024-06-01 19:50:32,521 WARNING legacy id C3720 not found in ddb1 data\n",
      "2024-06-01 19:50:32,522 WARNING legacy id C3721 not found in ddb1 data\n",
      "2024-06-01 19:50:32,522 WARNING legacy id C3722 not found in ddb1 data\n",
      "2024-06-01 19:50:32,523 WARNING legacy id C3723 not found in ddb1 data\n",
      "2024-06-01 19:50:32,524 WARNING legacy id C3724 not found in ddb1 data\n",
      "2024-06-01 19:50:32,524 WARNING legacy id C3725 not found in ddb1 data\n",
      "2024-06-01 19:50:32,525 WARNING legacy id C3726 not found in ddb1 data\n",
      "2024-06-01 19:50:32,525 WARNING legacy id C3727 not found in ddb1 data\n",
      "2024-06-01 19:50:32,526 WARNING legacy id C3728 not found in ddb1 data\n",
      "2024-06-01 19:50:32,526 WARNING legacy id C3729 not found in ddb1 data\n",
      "2024-06-01 19:50:32,526 WARNING legacy id C3730 not found in ddb1 data\n",
      "2024-06-01 19:50:32,527 WARNING legacy id C3731 not found in ddb1 data\n",
      "2024-06-01 19:50:32,527 WARNING legacy id C3732 not found in ddb1 data\n",
      "2024-06-01 19:50:32,528 WARNING legacy id C3733 not found in ddb1 data\n",
      "2024-06-01 19:50:32,528 WARNING legacy id C3734 not found in ddb1 data\n",
      "2024-06-01 19:50:32,529 WARNING legacy id C3735 not found in ddb1 data\n",
      "2024-06-01 19:50:32,529 WARNING legacy id C3736 not found in ddb1 data\n",
      "2024-06-01 19:50:32,530 WARNING legacy id C3737 not found in ddb1 data\n",
      "2024-06-01 19:50:32,531 WARNING legacy id C3738 not found in ddb1 data\n",
      "2024-06-01 19:50:32,531 WARNING legacy id C3739 not found in ddb1 data\n",
      "2024-06-01 19:50:32,531 WARNING legacy id C3740 not found in ddb1 data\n",
      "2024-06-01 19:50:32,532 WARNING legacy id C3741 not found in ddb1 data\n",
      "2024-06-01 19:50:32,532 WARNING legacy id C3742 not found in ddb1 data\n",
      "2024-06-01 19:50:32,533 WARNING legacy id C3743 not found in ddb1 data\n",
      "2024-06-01 19:50:32,534 WARNING legacy id C3744 not found in ddb1 data\n",
      "2024-06-01 19:50:32,534 WARNING legacy id C3745 not found in ddb1 data\n",
      "2024-06-01 19:50:32,535 WARNING legacy id C3746 not found in ddb1 data\n",
      "2024-06-01 19:50:32,535 WARNING legacy id C3747 not found in ddb1 data\n",
      "2024-06-01 19:50:32,535 WARNING legacy id C3748 not found in ddb1 data\n",
      "2024-06-01 19:50:32,536 WARNING legacy id C3749 not found in ddb1 data\n",
      "2024-06-01 19:50:32,536 WARNING legacy id C3750 not found in ddb1 data\n",
      "2024-06-01 19:50:32,537 WARNING legacy id C3751 not found in ddb1 data\n",
      "2024-06-01 19:50:32,538 WARNING legacy id C3752 not found in ddb1 data\n",
      "2024-06-01 19:50:32,539 WARNING legacy id C3753 not found in ddb1 data\n",
      "2024-06-01 19:50:32,540 WARNING legacy id C3754 not found in ddb1 data\n",
      "2024-06-01 19:50:32,540 WARNING legacy id C3755 not found in ddb1 data\n",
      "2024-06-01 19:50:32,541 WARNING legacy id C3756 not found in ddb1 data\n",
      "2024-06-01 19:50:32,541 WARNING legacy id C3757 not found in ddb1 data\n",
      "2024-06-01 19:50:32,542 WARNING legacy id C3758 not found in ddb1 data\n",
      "2024-06-01 19:50:32,542 WARNING legacy id C3759 not found in ddb1 data\n",
      "2024-06-01 19:50:32,543 WARNING legacy id C3760 not found in ddb1 data\n",
      "2024-06-01 19:50:32,543 WARNING legacy id C3761 not found in ddb1 data\n",
      "2024-06-01 19:50:32,544 WARNING legacy id C3762 not found in ddb1 data\n",
      "2024-06-01 19:50:32,545 WARNING legacy id C3763 not found in ddb1 data\n",
      "2024-06-01 19:50:32,545 WARNING legacy id C3764 not found in ddb1 data\n",
      "2024-06-01 19:50:32,546 WARNING legacy id C3765 not found in ddb1 data\n",
      "2024-06-01 19:50:32,547 WARNING legacy id C3766 not found in ddb1 data\n",
      "2024-06-01 19:50:32,547 WARNING legacy id C3767 not found in ddb1 data\n",
      "2024-06-01 19:50:32,548 WARNING legacy id C3768 not found in ddb1 data\n",
      "2024-06-01 19:50:32,548 WARNING legacy id C3769 not found in ddb1 data\n",
      "2024-06-01 19:50:32,548 WARNING legacy id C3770 not found in ddb1 data\n",
      "2024-06-01 19:50:32,550 WARNING legacy id C3771 not found in ddb1 data\n",
      "2024-06-01 19:50:32,550 WARNING legacy id C3772 not found in ddb1 data\n",
      "2024-06-01 19:50:32,551 WARNING legacy id C3773 not found in ddb1 data\n",
      "2024-06-01 19:50:32,551 WARNING legacy id C3774 not found in ddb1 data\n",
      "2024-06-01 19:50:32,552 WARNING legacy id C3775 not found in ddb1 data\n",
      "2024-06-01 19:50:32,552 WARNING legacy id C3776 not found in ddb1 data\n",
      "2024-06-01 19:50:32,552 WARNING legacy id C3777 not found in ddb1 data\n",
      "2024-06-01 19:50:32,553 WARNING legacy id C3778 not found in ddb1 data\n",
      "2024-06-01 19:50:32,553 WARNING legacy id C3779 not found in ddb1 data\n",
      "2024-06-01 19:50:32,553 WARNING legacy id C3780 not found in ddb1 data\n",
      "2024-06-01 19:50:32,554 WARNING legacy id C3781 not found in ddb1 data\n",
      "2024-06-01 19:50:32,555 WARNING legacy id C3782 not found in ddb1 data\n",
      "2024-06-01 19:50:32,555 WARNING legacy id C3783 not found in ddb1 data\n",
      "2024-06-01 19:50:32,556 WARNING legacy id C3784 not found in ddb1 data\n",
      "2024-06-01 19:50:32,556 WARNING legacy id C3785 not found in ddb1 data\n",
      "2024-06-01 19:50:32,557 WARNING legacy id C3786 not found in ddb1 data\n",
      "2024-06-01 19:50:32,558 WARNING legacy id C3787 not found in ddb1 data\n",
      "2024-06-01 19:50:32,558 WARNING legacy id C3788 not found in ddb1 data\n",
      "2024-06-01 19:50:32,558 WARNING legacy id C3789 not found in ddb1 data\n",
      "2024-06-01 19:50:32,559 WARNING legacy id C3790 not found in ddb1 data\n",
      "2024-06-01 19:50:32,559 WARNING legacy id C3791 not found in ddb1 data\n",
      "2024-06-01 19:50:32,560 WARNING legacy id C3792 not found in ddb1 data\n",
      "2024-06-01 19:50:32,561 WARNING legacy id C3793 not found in ddb1 data\n",
      "2024-06-01 19:50:32,561 WARNING legacy id C3794 not found in ddb1 data\n",
      "2024-06-01 19:50:32,561 WARNING legacy id C3795 not found in ddb1 data\n",
      "2024-06-01 19:50:32,562 WARNING legacy id C3796 not found in ddb1 data\n",
      "2024-06-01 19:50:32,562 WARNING legacy id C3797 not found in ddb1 data\n",
      "2024-06-01 19:50:32,564 WARNING legacy id C3798 not found in ddb1 data\n",
      "2024-06-01 19:50:32,565 WARNING legacy id C3799 not found in ddb1 data\n",
      "2024-06-01 19:50:32,565 WARNING legacy id C3800 not found in ddb1 data\n",
      "2024-06-01 19:50:32,566 WARNING legacy id C3801 not found in ddb1 data\n",
      "2024-06-01 19:50:32,567 WARNING legacy id C3802 not found in ddb1 data\n",
      "2024-06-01 19:50:32,567 WARNING legacy id C3803 not found in ddb1 data\n",
      "2024-06-01 19:50:32,567 WARNING legacy id C3804 not found in ddb1 data\n",
      "2024-06-01 19:50:32,568 WARNING legacy id C3805 not found in ddb1 data\n",
      "2024-06-01 19:50:32,568 WARNING legacy id C3806 not found in ddb1 data\n",
      "2024-06-01 19:50:32,569 WARNING legacy id C3807 not found in ddb1 data\n",
      "2024-06-01 19:50:32,569 WARNING legacy id C3808 not found in ddb1 data\n",
      "2024-06-01 19:50:32,569 WARNING legacy id C3809 not found in ddb1 data\n",
      "2024-06-01 19:50:32,570 WARNING legacy id C3810 not found in ddb1 data\n",
      "2024-06-01 19:50:32,570 WARNING legacy id C3811 not found in ddb1 data\n",
      "2024-06-01 19:50:32,571 WARNING legacy id C3812 not found in ddb1 data\n",
      "2024-06-01 19:50:32,572 WARNING legacy id C3813 not found in ddb1 data\n",
      "2024-06-01 19:50:32,573 WARNING legacy id C3814 not found in ddb1 data\n",
      "2024-06-01 19:50:32,573 WARNING legacy id C3815 not found in ddb1 data\n",
      "2024-06-01 19:50:32,574 WARNING legacy id C3816 not found in ddb1 data\n",
      "2024-06-01 19:50:32,574 WARNING legacy id C3817 not found in ddb1 data\n",
      "2024-06-01 19:50:32,575 WARNING legacy id C3818 not found in ddb1 data\n",
      "2024-06-01 19:50:32,575 WARNING legacy id C3819 not found in ddb1 data\n",
      "2024-06-01 19:50:32,576 WARNING legacy id C3820 not found in ddb1 data\n",
      "2024-06-01 19:50:32,576 WARNING legacy id C3821 not found in ddb1 data\n",
      "2024-06-01 19:50:32,577 WARNING legacy id C3822 not found in ddb1 data\n",
      "2024-06-01 19:50:32,578 WARNING legacy id C3823 not found in ddb1 data\n",
      "2024-06-01 19:50:32,579 WARNING legacy id C3826 not found in ddb1 data\n",
      "2024-06-01 19:50:32,579 WARNING legacy id C3827 not found in ddb1 data\n",
      "2024-06-01 19:50:32,580 WARNING legacy id C3828 not found in ddb1 data\n",
      "2024-06-01 19:50:32,580 WARNING legacy id C3829 not found in ddb1 data\n",
      "2024-06-01 19:50:32,581 WARNING legacy id C3830 not found in ddb1 data\n",
      "2024-06-01 19:50:32,581 WARNING legacy id C3831 not found in ddb1 data\n",
      "2024-06-01 19:50:32,581 WARNING legacy id C3832 not found in ddb1 data\n",
      "2024-06-01 19:50:32,582 WARNING legacy id C3833 not found in ddb1 data\n",
      "2024-06-01 19:50:32,582 WARNING legacy id C3834 not found in ddb1 data\n",
      "2024-06-01 19:50:32,583 WARNING legacy id C3835 not found in ddb1 data\n",
      "2024-06-01 19:50:32,584 WARNING legacy id C3836 not found in ddb1 data\n",
      "2024-06-01 19:50:32,584 WARNING legacy id C3837 not found in ddb1 data\n",
      "2024-06-01 19:50:32,585 WARNING legacy id C3838 not found in ddb1 data\n",
      "2024-06-01 19:50:32,586 WARNING legacy id C3839 not found in ddb1 data\n",
      "2024-06-01 19:50:32,586 WARNING legacy id C3840 not found in ddb1 data\n",
      "2024-06-01 19:50:32,587 WARNING legacy id C3841 not found in ddb1 data\n",
      "2024-06-01 19:50:32,587 WARNING legacy id C3842 not found in ddb1 data\n",
      "2024-06-01 19:50:32,587 WARNING legacy id C3843 not found in ddb1 data\n",
      "2024-06-01 19:50:32,587 WARNING legacy id C3845 not found in ddb1 data\n",
      "2024-06-01 19:50:32,589 WARNING legacy id C3846 not found in ddb1 data\n",
      "2024-06-01 19:50:32,589 WARNING legacy id C3847 not found in ddb1 data\n",
      "2024-06-01 19:50:32,590 WARNING legacy id C3848 not found in ddb1 data\n",
      "2024-06-01 19:50:32,590 WARNING legacy id C3849 not found in ddb1 data\n",
      "2024-06-01 19:50:32,590 WARNING legacy id C3850 not found in ddb1 data\n",
      "2024-06-01 19:50:32,591 WARNING legacy id C3851 not found in ddb1 data\n",
      "2024-06-01 19:50:32,592 WARNING legacy id C3854 not found in ddb1 data\n",
      "2024-06-01 19:50:32,592 WARNING legacy id C3855 not found in ddb1 data\n",
      "2024-06-01 19:50:32,593 WARNING legacy id C3856 not found in ddb1 data\n",
      "2024-06-01 19:50:32,593 WARNING legacy id C3857 not found in ddb1 data\n",
      "2024-06-01 19:50:32,593 WARNING legacy id C3858 not found in ddb1 data\n",
      "2024-06-01 19:50:32,594 WARNING legacy id C3860 not found in ddb1 data\n",
      "2024-06-01 19:50:32,594 WARNING legacy id C3861 not found in ddb1 data\n",
      "2024-06-01 19:50:32,595 WARNING legacy id C3862 not found in ddb1 data\n",
      "2024-06-01 19:50:32,596 WARNING legacy id C3863 not found in ddb1 data\n",
      "2024-06-01 19:50:32,621 INFO Calling for R0006_persons with sheet_name Persons.\n"
     ]
    },
    {
     "name": "stdout",
     "output_type": "stream",
     "text": [
      "20 2024-06-01 19:50:34 : Loading dataset R0006_persons\n",
      "20 2024-06-01 19:50:34 : Opting for variant header at row 5.\n"
     ]
    },
    {
     "name": "stderr",
     "output_type": "stream",
     "text": [
      "2024-06-01 19:50:39,164 INFO Using R0006_persons and id.\n",
      "2024-06-01 19:50:39,166 INFO R0006_persons For columns id the suffix from _R0006 set was glued.\n",
      "2024-06-01 19:50:39,167 INFO Using R0006_persons and residence_id.\n",
      "2024-06-01 19:50:39,168 INFO R0006_persons For columns residence_id the suffix from _R0006 set was glued.\n",
      "2024-06-01 19:50:39,169 INFO Using R0006_persons and social_relation1_value_id.\n",
      "2024-06-01 19:50:39,169 INFO R0006_persons For columns social_relation1_value_id the suffix from _R0006 set was glued.\n",
      "2024-06-01 19:50:39,170 INFO Using R0006_persons and social_relation2_value_id.\n",
      "2024-06-01 19:50:39,170 INFO R0006_persons For columns social_relation2_value_id the suffix from _R0006 set was glued.\n",
      "2024-06-01 19:50:39,171 INFO Using R0006_persons and social_relation3_value_id.\n",
      "2024-06-01 19:50:39,172 INFO R0006_persons For columns social_relation3_value_id the suffix from _R0006 set was glued.\n"
     ]
    },
    {
     "name": "stdout",
     "output_type": "stream",
     "text": [
      "20 2024-06-01 19:50:38 : Hyperlinks were detected and transformed in columns [].\n",
      "20 2024-06-01 19:50:38 : Dropping empty columns in the dataset R0006_persons : (396, 77)\n",
      "20 2024-06-01 19:50:39 : Deleted 172 empty rows by label.\n",
      "20 2024-06-01 19:50:39 : Loaded and prepared dataset R0006_persons : (224, 77)\n"
     ]
    },
    {
     "name": "stderr",
     "output_type": "stream",
     "text": [
      "2024-06-01 19:50:39,176 WARNING legacy id P0228_R0006 not found in ddb1 data\n",
      "2024-06-01 19:50:39,194 INFO Calling for R0007_locations with sheet_name Locations.\n"
     ]
    },
    {
     "name": "stdout",
     "output_type": "stream",
     "text": [
      "20 2024-06-01 19:50:40 : Loading dataset R0007_locations\n",
      "20 2024-06-01 19:50:40 : Opting for variant header at row 5.\n"
     ]
    },
    {
     "name": "stderr",
     "output_type": "stream",
     "text": [
      "2024-06-01 19:50:45,129 INFO Using R0007_locations and id.\n",
      "2024-06-01 19:50:45,131 INFO R0007_locations For columns id the suffix from _R0007 set was glued.\n",
      "2024-06-01 19:50:45,132 INFO Using R0007_locations and locationrelation1_value_id.\n",
      "2024-06-01 19:50:45,133 INFO R0007_locations For columns locationrelation1_value_id the suffix from _R0007 set was glued.\n",
      "2024-06-01 19:50:45,133 INFO Using R0007_locations and superordinate_location_id.\n",
      "2024-06-01 19:50:45,134 INFO R0007_locations For columns superordinate_location_id the suffix from _R0007 set was glued.\n",
      "2024-06-01 19:50:45,141 INFO Calling for R0008_events with sheet_name Events.\n"
     ]
    },
    {
     "name": "stdout",
     "output_type": "stream",
     "text": [
      "20 2024-06-01 19:50:45 : Hyperlinks were detected and transformed in columns [].\n",
      "20 2024-06-01 19:50:45 : Dropping empty columns in the dataset R0007_locations : (998, 28)\n",
      "20 2024-06-01 19:50:45 : Deleted 913 empty rows by label.\n",
      "20 2024-06-01 19:50:45 : Loaded and prepared dataset R0007_locations : (85, 28)\n",
      "20 2024-06-01 19:50:46 : Loading dataset R0008_events\n",
      "20 2024-06-01 19:50:46 : Opting for variant header at row 5.\n"
     ]
    },
    {
     "name": "stderr",
     "output_type": "stream",
     "text": [
      "2024-06-01 19:50:51,542 INFO Using R0008_events and id.\n",
      "2024-06-01 19:50:51,543 INFO R0008_events For columns id the suffix from _R0008 set was glued.\n",
      "2024-06-01 19:50:51,544 INFO Using R0008_events and spatial_ref_value_id.\n",
      "2024-06-01 19:50:51,545 INFO R0008_events For columns spatial_ref_value_id the suffix from _R0008 set was glued.\n",
      "2024-06-01 19:50:51,545 INFO Using R0008_events and participant_id.\n",
      "2024-06-01 19:50:51,546 INFO R0008_events For columns participant_id the suffix from _R0008 set was glued.\n",
      "2024-06-01 19:50:51,546 INFO Using R0008_events and inquisitor_id.\n",
      "2024-06-01 19:50:51,548 INFO R0008_events For columns inquisitor_id the suffix from _R0008 set was glued.\n",
      "2024-06-01 19:50:51,549 INFO Using R0008_events and notary_id.\n",
      "2024-06-01 19:50:51,549 INFO R0008_events For columns notary_id the suffix from _R0008 set was glued.\n",
      "2024-06-01 19:50:51,550 INFO Using R0008_events and witness_assessor_id.\n",
      "2024-06-01 19:50:51,550 INFO R0008_events For columns witness_assessor_id the suffix from _R0008 set was glued.\n",
      "2024-06-01 19:50:51,551 INFO Using R0008_events and accuser_id.\n",
      "2024-06-01 19:50:51,552 INFO R0008_events For columns accuser_id the suffix from _R0008 set was glued.\n",
      "2024-06-01 19:50:51,552 INFO Using R0008_events and accused_id.\n",
      "2024-06-01 19:50:51,553 INFO R0008_events For columns accused_id the suffix from _R0008 set was glued.\n",
      "2024-06-01 19:50:51,554 INFO Using R0008_events and mentioned_id.\n",
      "2024-06-01 19:50:51,556 INFO R0008_events For columns mentioned_id the suffix from _R0008 set was glued.\n",
      "2024-06-01 19:50:51,557 INFO Using R0008_events and denied_id.\n",
      "2024-06-01 19:50:51,558 INFO R0008_events For columns denied_id the suffix from _R0008 set was glued.\n",
      "2024-06-01 19:50:51,558 INFO Using R0008_events and marked_as_incriminated_id.\n",
      "2024-06-01 19:50:51,559 INFO R0008_events For columns marked_as_incriminated_id the suffix from _R0008 set was glued.\n",
      "2024-06-01 19:50:51,560 INFO Using R0008_events and temporal_ref_1_value_id.\n",
      "2024-06-01 19:50:51,561 INFO R0008_events For columns temporal_ref_1_value_id the suffix from _R0008 set was glued.\n",
      "2024-06-01 19:50:51,562 INFO Using R0008_events and temporal_ref_2_value_id.\n",
      "2024-06-01 19:50:51,563 INFO R0008_events For columns temporal_ref_2_value_id the suffix from _R0008 set was glued.\n",
      "2024-06-01 19:50:51,570 INFO Calling for R0075_persons with sheet_name Persons.\n"
     ]
    },
    {
     "name": "stdout",
     "output_type": "stream",
     "text": [
      "20 2024-06-01 19:50:51 : Hyperlinks were detected and transformed in columns [].\n",
      "20 2024-06-01 19:50:51 : Dropping empty columns in the dataset R0008_events : (199, 78)\n",
      "20 2024-06-01 19:50:51 : Deleted 59 empty rows by label.\n",
      "20 2024-06-01 19:50:51 : Loaded and prepared dataset R0008_events : (140, 78)\n",
      "20 2024-06-01 19:50:53 : Loading dataset R0075_persons\n",
      "20 2024-06-01 19:50:53 : Opting for variant header at row 5.\n",
      "20 2024-06-01 19:51:04 : Hyperlinks were detected and transformed in columns [].\n",
      "20 2024-06-01 19:51:04 : Dropping empty columns in the dataset R0075_persons : (1613, 116)\n",
      "20 2024-06-01 19:51:04 : Deleted 1212 empty rows by label.\n",
      "20 2024-06-01 19:51:04 : Loaded and prepared dataset R0075_persons : (401, 116)\n"
     ]
    },
    {
     "name": "stderr",
     "output_type": "stream",
     "text": [
      "2024-06-01 19:51:05,235 INFO Using R0075_persons and id.\n",
      "2024-06-01 19:51:05,238 INFO R0075_persons For columns id the suffix from _R0075 set was glued.\n",
      "2024-06-01 19:51:05,238 INFO Using R0075_persons and origin_or_residence_id.\n",
      "2024-06-01 19:51:05,239 INFO R0075_persons For columns origin_or_residence_id the suffix from _R0075 set was glued.\n",
      "2024-06-01 19:51:05,240 INFO Using R0075_persons and residence_id.\n",
      "2024-06-01 19:51:05,240 INFO R0075_persons For columns residence_id the suffix from _R0075 set was glued.\n",
      "2024-06-01 19:51:05,241 INFO Using R0075_persons and relations_1_value_id.\n",
      "2024-06-01 19:51:05,242 INFO R0075_persons For columns relations_1_value_id the suffix from _R0075 set was glued.\n",
      "2024-06-01 19:51:05,243 INFO Using R0075_persons and relations_2_value_id.\n",
      "2024-06-01 19:51:05,244 INFO R0075_persons For columns relations_2_value_id the suffix from _R0075 set was glued.\n",
      "2024-06-01 19:51:05,245 INFO Using R0075_persons and relations_3_value_id.\n",
      "2024-06-01 19:51:05,247 INFO R0075_persons For columns relations_3_value_id the suffix from _R0075 set was glued.\n",
      "2024-06-01 19:51:05,247 INFO Using R0075_persons and relations_4_value_id.\n",
      "2024-06-01 19:51:05,248 INFO R0075_persons For columns relations_4_value_id the suffix from _R0075 set was glued.\n",
      "2024-06-01 19:51:05,249 INFO Using R0075_persons and relations_5_value_id.\n",
      "2024-06-01 19:51:05,250 INFO R0075_persons For columns relations_5_value_id the suffix from _R0075 set was glued.\n",
      "2024-06-01 19:51:05,251 INFO Using R0075_persons and relations_6_value_id.\n",
      "2024-06-01 19:51:05,252 INFO R0075_persons For columns relations_6_value_id the suffix from _R0075 set was glued.\n",
      "2024-06-01 19:51:05,252 INFO Using R0075_persons and relations_7_value_id.\n",
      "2024-06-01 19:51:05,254 INFO R0075_persons For columns relations_7_value_id the suffix from _R0075 set was glued.\n",
      "2024-06-01 19:51:05,255 INFO Using R0075_persons and relations_8_value_id.\n",
      "2024-06-01 19:51:05,256 INFO R0075_persons For columns relations_8_value_id the suffix from _R0075 set was glued.\n",
      "2024-06-01 19:51:05,256 INFO Using R0075_persons and relations_9_value_id.\n",
      "2024-06-01 19:51:05,257 INFO R0075_persons For columns relations_9_value_id the suffix from _R0075 set was glued.\n",
      "2024-06-01 19:51:05,258 INFO Using R0075_persons and relations_10_value_id.\n",
      "2024-06-01 19:51:05,258 INFO R0075_persons For columns relations_10_value_id the suffix from _R0075 set was glued.\n",
      "2024-06-01 19:51:05,259 INFO Using R0075_persons and relations_11_value_id.\n",
      "2024-06-01 19:51:05,260 INFO R0075_persons For columns relations_11_value_id the suffix from _R0075 set was glued.\n",
      "2024-06-01 19:51:05,261 INFO Using R0075_persons and relations_12_value_id.\n",
      "2024-06-01 19:51:05,261 INFO R0075_persons For columns relations_12_value_id the suffix from _R0075 set was glued.\n",
      "2024-06-01 19:51:05,262 INFO Using R0075_persons and relations_13_value_id.\n",
      "2024-06-01 19:51:05,266 INFO R0075_persons For columns relations_13_value_id the suffix from _R0075 set was glued.\n",
      "2024-06-01 19:51:05,267 INFO Using R0075_persons and origin_id.\n",
      "2024-06-01 19:51:05,268 INFO R0075_persons For columns origin_id the suffix from _R0075 set was glued.\n",
      "2024-06-01 19:51:05,269 INFO Using R0075_persons and occupation_id.\n",
      "2024-06-01 19:51:05,270 INFO R0075_persons For columns occupation_id the suffix from _R0075 set was glued.\n",
      "2024-06-01 19:51:05,271 INFO Using R0075_persons and office_id.\n",
      "2024-06-01 19:51:05,271 INFO R0075_persons For columns office_id the suffix from _R0075 set was glued.\n",
      "2024-06-01 19:51:05,285 INFO Calling for R0035_locations with sheet_name Locations.\n"
     ]
    },
    {
     "name": "stdout",
     "output_type": "stream",
     "text": [
      "20 2024-06-01 19:51:06 : Loading dataset R0035_locations\n",
      "20 2024-06-01 19:51:06 : Opting for variant header at row 5.\n"
     ]
    },
    {
     "name": "stderr",
     "output_type": "stream",
     "text": [
      "2024-06-01 19:51:11,775 INFO Using R0035_locations and id.\n",
      "2024-06-01 19:51:11,777 INFO R0035_locations For columns id the suffix from _R0035 set was glued.\n",
      "2024-06-01 19:51:11,778 INFO Using R0035_locations and locationrelation1_value_id.\n",
      "2024-06-01 19:51:11,779 INFO R0035_locations For columns locationrelation1_value_id the suffix from _R0035 set was glued.\n",
      "2024-06-01 19:51:11,779 INFO Using R0035_locations and locationrelation2_value_id.\n",
      "2024-06-01 19:51:11,779 INFO R0035_locations For columns locationrelation2_value_id the suffix from _R0035 set was glued.\n",
      "2024-06-01 19:51:11,780 INFO Using R0035_locations and identificate_id.\n",
      "2024-06-01 19:51:11,781 INFO R0035_locations For columns identificate_id the suffix from _R0035 set was glued.\n",
      "2024-06-01 19:51:11,782 INFO Using R0035_locations and superordinate_location_id.\n",
      "2024-06-01 19:51:11,783 INFO R0035_locations For columns superordinate_location_id the suffix from _R0035 set was glued.\n",
      "2024-06-01 19:51:11,788 INFO Calling for R0083_events with sheet_name Events.\n"
     ]
    },
    {
     "name": "stdout",
     "output_type": "stream",
     "text": [
      "20 2024-06-01 19:51:11 : Hyperlinks were detected and transformed in columns [].\n",
      "20 2024-06-01 19:51:11 : Dropping empty columns in the dataset R0035_locations : (1000, 36)\n",
      "20 2024-06-01 19:51:11 : Deleted 843 empty rows by label.\n",
      "20 2024-06-01 19:51:11 : Loaded and prepared dataset R0035_locations : (157, 36)\n",
      "20 2024-06-01 19:51:13 : Loading dataset R0083_events\n",
      "20 2024-06-01 19:51:13 : Opting for variant header at row 5.\n",
      "20 2024-06-01 19:51:24 : Hyperlinks were detected and transformed in columns [].\n",
      "20 2024-06-01 19:51:24 : Dropping empty columns in the dataset R0083_events : (1622, 61)\n",
      "20 2024-06-01 19:51:24 : Deleted 1374 empty rows by label.\n",
      "20 2024-06-01 19:51:24 : Loaded and prepared dataset R0083_events : (248, 61)\n"
     ]
    },
    {
     "name": "stderr",
     "output_type": "stream",
     "text": [
      "2024-06-01 19:51:24,464 INFO Using R0083_events and id.\n",
      "2024-06-01 19:51:24,466 INFO R0083_events For columns id the suffix from _R0083 set was glued.\n",
      "2024-06-01 19:51:24,467 INFO Using R0083_events and participant_id.\n",
      "2024-06-01 19:51:24,468 INFO R0083_events For columns participant_id the suffix from _R0083 set was glued.\n",
      "2024-06-01 19:51:24,469 INFO Using R0083_events and spatial_ref_value_id.\n",
      "2024-06-01 19:51:24,470 INFO R0083_events For columns spatial_ref_value_id the suffix from _R0083 set was glued.\n",
      "2024-06-01 19:51:24,471 INFO Using R0083_events and inquisitor_id.\n",
      "2024-06-01 19:51:24,472 INFO R0083_events For columns inquisitor_id the suffix from _R0083 set was glued.\n",
      "2024-06-01 19:51:24,472 INFO Using R0083_events and notary_id.\n",
      "2024-06-01 19:51:24,473 INFO R0083_events For columns notary_id the suffix from _R0083 set was glued.\n",
      "2024-06-01 19:51:24,474 INFO Using R0083_events and witness_assessor_id.\n",
      "2024-06-01 19:51:24,476 INFO R0083_events For columns witness_assessor_id the suffix from _R0083 set was glued.\n",
      "2024-06-01 19:51:24,476 INFO Using R0083_events and accuser_id.\n",
      "2024-06-01 19:51:24,478 INFO R0083_events For columns accuser_id the suffix from _R0083 set was glued.\n",
      "2024-06-01 19:51:24,478 INFO Using R0083_events and accused_id.\n",
      "2024-06-01 19:51:24,482 INFO R0083_events For columns accused_id the suffix from _R0083 set was glued.\n",
      "2024-06-01 19:51:24,482 INFO Using R0083_events and mentioned_id.\n",
      "2024-06-01 19:51:24,483 INFO R0083_events For columns mentioned_id the suffix from _R0083 set was glued.\n",
      "2024-06-01 19:51:24,484 INFO Using R0083_events and denied_id.\n",
      "2024-06-01 19:51:24,484 INFO R0083_events For columns denied_id the suffix from _R0083 set was glued.\n",
      "2024-06-01 19:51:24,485 INFO Using R0083_events and temporal_ref_1_value_id.\n",
      "2024-06-01 19:51:24,486 INFO R0083_events For columns temporal_ref_1_value_id the suffix from _R0083 set was glued.\n",
      "2024-06-01 19:51:24,486 INFO Using R0083_events and temporal_ref_2_value_id.\n",
      "2024-06-01 19:51:24,487 INFO R0083_events For columns temporal_ref_2_value_id the suffix from _R0083 set was glued.\n",
      "2024-06-01 19:51:24,495 INFO Calling for R0105_groups with sheet_name Groups.\n"
     ]
    },
    {
     "name": "stdout",
     "output_type": "stream",
     "text": [
      "20 2024-06-01 19:51:25 : Loading dataset R0105_groups\n",
      "20 2024-06-01 19:51:25 : Opting for variant header at row 5.\n"
     ]
    },
    {
     "name": "stderr",
     "output_type": "stream",
     "text": [
      "2024-06-01 19:51:30,968 INFO Using R0105_groups and id.\n",
      "2024-06-01 19:51:30,970 INFO R0105_groups For columns id the suffix from _R0105 set was glued.\n",
      "2024-06-01 19:51:30,970 INFO Using R0105_groups and has_member_id.\n",
      "2024-06-01 19:51:30,972 INFO R0105_groups For columns has_member_id the suffix from _R0105 set was glued.\n",
      "2024-06-01 19:51:30,978 INFO Calling for R0030_persons with sheet_name Persons.\n"
     ]
    },
    {
     "name": "stdout",
     "output_type": "stream",
     "text": [
      "20 2024-06-01 19:51:30 : Hyperlinks were detected and transformed in columns [].\n",
      "20 2024-06-01 19:51:30 : Dropping empty columns in the dataset R0105_groups : (1622, 15)\n",
      "20 2024-06-01 19:51:30 : Deleted 1554 empty rows by label.\n",
      "20 2024-06-01 19:51:30 : Loaded and prepared dataset R0105_groups : (68, 15)\n",
      "20 2024-06-01 19:51:32 : Loading dataset R0030_persons\n",
      "20 2024-06-01 19:51:32 : Opting for variant header at row 5.\n",
      "20 2024-06-01 19:51:43 : Hyperlinks were detected and transformed in columns [].\n",
      "20 2024-06-01 19:51:43 : Dropping empty columns in the dataset R0030_persons : (2803, 92)\n",
      "20 2024-06-01 19:51:43 : Deleted 698 empty rows by label.\n",
      "20 2024-06-01 19:51:43 : Loaded and prepared dataset R0030_persons : (2105, 92)\n"
     ]
    },
    {
     "name": "stderr",
     "output_type": "stream",
     "text": [
      "2024-06-01 19:51:44,919 INFO Using R0030_persons and id.\n",
      "2024-06-01 19:51:44,924 INFO R0030_persons For columns id the suffix from _R0030 set was glued.\n",
      "2024-06-01 19:51:44,924 INFO Using R0030_persons and toponymic_surname_id.\n",
      "2024-06-01 19:51:44,926 INFO R0030_persons For columns toponymic_surname_id the suffix from _R0030 set was glued.\n",
      "2024-06-01 19:51:44,927 INFO Using R0030_persons and residence_id.\n",
      "2024-06-01 19:51:44,932 INFO R0030_persons For columns residence_id the suffix from _R0030 set was glued.\n",
      "2024-06-01 19:51:44,933 INFO Using R0030_persons and origin_id.\n",
      "2024-06-01 19:51:44,935 INFO R0030_persons For columns origin_id the suffix from _R0030 set was glued.\n",
      "2024-06-01 19:51:44,935 INFO Using R0030_persons and social_relation1_value_id.\n",
      "2024-06-01 19:51:44,937 INFO R0030_persons For columns social_relation1_value_id the suffix from _R0030 set was glued.\n",
      "2024-06-01 19:51:44,938 INFO Using R0030_persons and social_relation2_value_id.\n",
      "2024-06-01 19:51:44,939 INFO R0030_persons For columns social_relation2_value_id the suffix from _R0030 set was glued.\n",
      "2024-06-01 19:51:44,940 INFO Using R0030_persons and social_relation3_value_id.\n",
      "2024-06-01 19:51:44,941 INFO R0030_persons For columns social_relation3_value_id the suffix from _R0030 set was glued.\n",
      "2024-06-01 19:51:44,942 INFO Using R0030_persons and social_relation4_value_id.\n",
      "2024-06-01 19:51:44,943 INFO R0030_persons For columns social_relation4_value_id the suffix from _R0030 set was glued.\n",
      "2024-06-01 19:51:44,944 INFO Using R0030_persons and social_relation5_value_id.\n",
      "2024-06-01 19:51:44,945 INFO R0030_persons For columns social_relation5_value_id the suffix from _R0030 set was glued.\n",
      "2024-06-01 19:51:44,968 WARNING legacy id P2116_R0030 not found in ddb1 data\n",
      "2024-06-01 19:51:44,969 WARNING legacy id P2117_R0030 not found in ddb1 data\n",
      "2024-06-01 19:51:44,969 WARNING legacy id P2118_R0030 not found in ddb1 data\n",
      "2024-06-01 19:51:44,969 WARNING legacy id P2119_R0030 not found in ddb1 data\n",
      "2024-06-01 19:51:44,970 WARNING legacy id P2120_R0030 not found in ddb1 data\n",
      "2024-06-01 19:51:44,970 WARNING legacy id P2121_R0030 not found in ddb1 data\n",
      "2024-06-01 19:51:44,970 WARNING legacy id P2122_R0030 not found in ddb1 data\n",
      "2024-06-01 19:51:44,971 WARNING legacy id P2123_R0030 not found in ddb1 data\n",
      "2024-06-01 19:51:44,978 INFO Calling for R0087_groups with sheet_name Groups.\n"
     ]
    },
    {
     "name": "stdout",
     "output_type": "stream",
     "text": [
      "20 2024-06-01 19:51:46 : Loading dataset R0087_groups\n",
      "20 2024-06-01 19:51:46 : Opting for variant header at row 5.\n"
     ]
    },
    {
     "name": "stderr",
     "output_type": "stream",
     "text": [
      "2024-06-01 19:51:48,002 INFO Using R0087_groups and id.\n",
      "2024-06-01 19:51:48,003 INFO R0087_groups For columns id the suffix from _R0087 set was glued.\n",
      "2024-06-01 19:51:48,004 WARNING legacy id G0021_R0087 not found in ddb1 data\n",
      "2024-06-01 19:51:48,005 WARNING legacy id G0022_R0087 not found in ddb1 data\n",
      "2024-06-01 19:51:48,005 WARNING legacy id G0023_R0087 not found in ddb1 data\n",
      "2024-06-01 19:51:48,006 WARNING legacy id G0024_R0087 not found in ddb1 data\n",
      "2024-06-01 19:51:48,006 WARNING legacy id G0027_R0087 not found in ddb1 data\n",
      "2024-06-01 19:51:48,009 INFO Calling for R0031_locations with sheet_name Locations.\n"
     ]
    },
    {
     "name": "stdout",
     "output_type": "stream",
     "text": [
      "20 2024-06-01 19:51:47 : Hyperlinks were detected and transformed in columns [].\n",
      "20 2024-06-01 19:51:47 : Dropping empty columns in the dataset R0087_groups : (1618, 14)\n",
      "20 2024-06-01 19:51:47 : Deleted 1596 empty rows by label.\n",
      "20 2024-06-01 19:51:47 : Loaded and prepared dataset R0087_groups : (22, 14)\n",
      "20 2024-06-01 19:51:49 : Loading dataset R0031_locations\n",
      "20 2024-06-01 19:51:49 : Opting for variant header at row 5.\n",
      "20 2024-06-01 19:51:56 : Hyperlinks were detected and transformed in columns [].\n",
      "20 2024-06-01 19:51:56 : Dropping empty columns in the dataset R0031_locations : (1621, 56)\n",
      "20 2024-06-01 19:51:56 : Deleted 774 empty rows by label.\n",
      "20 2024-06-01 19:51:56 : Loaded and prepared dataset R0031_locations : (847, 56)\n"
     ]
    },
    {
     "name": "stderr",
     "output_type": "stream",
     "text": [
      "2024-06-01 19:51:56,695 INFO Using R0031_locations and id.\n",
      "2024-06-01 19:51:56,699 INFO R0031_locations For columns id the suffix from _R0031 set was glued.\n",
      "2024-06-01 19:51:56,699 INFO Using R0031_locations and superordinate_location_id.\n",
      "2024-06-01 19:51:56,702 INFO R0031_locations For columns superordinate_location_id the suffix from _R0031 set was glued.\n",
      "2024-06-01 19:51:56,703 INFO Using R0031_locations and province_modern_id.\n",
      "2024-06-01 19:51:56,704 INFO R0031_locations For columns province_modern_id the suffix from _R0031 set was glued.\n",
      "2024-06-01 19:51:56,705 INFO Using R0031_locations and locationrelation1_value_id.\n",
      "2024-06-01 19:51:56,706 INFO R0031_locations For columns locationrelation1_value_id the suffix from _R0031 set was glued.\n",
      "2024-06-01 19:51:56,717 WARNING legacy id L0837_R0031 not found in ddb1 data\n",
      "2024-06-01 19:51:56,718 WARNING legacy id L0838_R0031 not found in ddb1 data\n",
      "2024-06-01 19:51:56,718 WARNING legacy id L0839_R0031 not found in ddb1 data\n",
      "2024-06-01 19:51:56,719 WARNING legacy id L0840_R0031 not found in ddb1 data\n",
      "2024-06-01 19:51:56,719 WARNING legacy id L0841_R0031 not found in ddb1 data\n",
      "2024-06-01 19:51:56,719 WARNING legacy id L0842_R0031 not found in ddb1 data\n",
      "2024-06-01 19:51:56,720 WARNING legacy id L0843_R0031 not found in ddb1 data\n",
      "2024-06-01 19:51:56,721 WARNING legacy id L0844_R0031 not found in ddb1 data\n",
      "2024-06-01 19:51:56,721 WARNING legacy id L0845_R0031 not found in ddb1 data\n",
      "2024-06-01 19:51:56,722 WARNING legacy id L0846_R0031 not found in ddb1 data\n",
      "2024-06-01 19:51:56,722 WARNING legacy id L0847_R0031 not found in ddb1 data\n",
      "2024-06-01 19:51:56,723 WARNING legacy id L0848_R0031 not found in ddb1 data\n",
      "2024-06-01 19:51:56,726 INFO Calling for R0082_events with sheet_name Events.\n"
     ]
    },
    {
     "name": "stdout",
     "output_type": "stream",
     "text": [
      "20 2024-06-01 19:51:57 : Loading dataset R0082_events\n",
      "20 2024-06-01 19:51:57 : Opting for variant header at row 5.\n",
      "20 2024-06-01 19:52:07 : Hyperlinks were detected and transformed in columns [].\n",
      "20 2024-06-01 19:52:07 : Dropping empty columns in the dataset R0082_events : (1615, 69)\n",
      "20 2024-06-01 19:52:07 : Deleted 693 empty rows by label.\n",
      "20 2024-06-01 19:52:07 : Loaded and prepared dataset R0082_events : (922, 69)\n"
     ]
    },
    {
     "name": "stderr",
     "output_type": "stream",
     "text": [
      "2024-06-01 19:52:07,877 INFO Using R0082_events and id.\n",
      "2024-06-01 19:52:07,880 INFO R0082_events For columns id the suffix from _R0082 set was glued.\n",
      "2024-06-01 19:52:07,880 INFO Using R0082_events and inquisitor_id.\n",
      "2024-06-01 19:52:07,884 INFO R0082_events For columns inquisitor_id the suffix from _R0082 set was glued.\n",
      "2024-06-01 19:52:07,884 INFO Using R0082_events and notary_id.\n",
      "2024-06-01 19:52:07,886 INFO R0082_events For columns notary_id the suffix from _R0082 set was glued.\n",
      "2024-06-01 19:52:07,887 INFO Using R0082_events and witness_assessor_id.\n",
      "2024-06-01 19:52:07,890 INFO R0082_events For columns witness_assessor_id the suffix from _R0082 set was glued.\n",
      "2024-06-01 19:52:07,891 INFO Using R0082_events and spatial_ref_value_id.\n",
      "2024-06-01 19:52:07,893 INFO R0082_events For columns spatial_ref_value_id the suffix from _R0082 set was glued.\n",
      "2024-06-01 19:52:07,893 INFO Using R0082_events and accuser_id.\n",
      "2024-06-01 19:52:07,895 INFO R0082_events For columns accuser_id the suffix from _R0082 set was glued.\n",
      "2024-06-01 19:52:07,895 INFO Using R0082_events and accused_id.\n",
      "2024-06-01 19:52:07,900 INFO R0082_events For columns accused_id the suffix from _R0082 set was glued.\n",
      "2024-06-01 19:52:07,901 INFO Using R0082_events and mentioned_id.\n",
      "2024-06-01 19:52:07,902 INFO R0082_events For columns mentioned_id the suffix from _R0082 set was glued.\n",
      "2024-06-01 19:52:07,902 INFO Using R0082_events and denied_id.\n",
      "2024-06-01 19:52:07,903 INFO R0082_events For columns denied_id the suffix from _R0082 set was glued.\n",
      "2024-06-01 19:52:07,923 INFO Calling for R0039_persons with sheet_name Persons.\n"
     ]
    },
    {
     "name": "stdout",
     "output_type": "stream",
     "text": [
      "20 2024-06-01 19:52:09 : Loading dataset R0039_persons\n",
      "20 2024-06-01 19:52:09 : Opting for variant header at row 5.\n",
      "20 2024-06-01 19:52:18 : Hyperlinks were detected and transformed in columns [].\n",
      "20 2024-06-01 19:52:18 : Dropping empty columns in the dataset R0039_persons : (1610, 83)\n",
      "20 2024-06-01 19:52:18 : Deleted 1288 empty rows by label.\n",
      "20 2024-06-01 19:52:18 : Loaded and prepared dataset R0039_persons : (322, 83)\n"
     ]
    },
    {
     "name": "stderr",
     "output_type": "stream",
     "text": [
      "2024-06-01 19:52:18,523 INFO Using R0039_persons and id.\n",
      "2024-06-01 19:52:18,526 INFO R0039_persons For columns id the suffix from _R0039 set was glued.\n",
      "2024-06-01 19:52:18,526 INFO Using R0039_persons and residence_id.\n",
      "2024-06-01 19:52:18,528 INFO R0039_persons For columns residence_id the suffix from _R0039 set was glued.\n",
      "2024-06-01 19:52:18,529 INFO Using R0039_persons and origin_id.\n",
      "2024-06-01 19:52:18,529 INFO R0039_persons For columns origin_id the suffix from _R0039 set was glued.\n",
      "2024-06-01 19:52:18,530 INFO Using R0039_persons and origin_or_residence_id.\n",
      "2024-06-01 19:52:18,531 INFO R0039_persons For columns origin_or_residence_id the suffix from _R0039 set was glued.\n",
      "2024-06-01 19:52:18,532 INFO Using R0039_persons and relation1_value_id.\n",
      "2024-06-01 19:52:18,532 INFO R0039_persons For columns relation1_value_id the suffix from _R0039 set was glued.\n",
      "2024-06-01 19:52:18,533 INFO Using R0039_persons and relation2_value_id.\n",
      "2024-06-01 19:52:18,534 INFO R0039_persons For columns relation2_value_id the suffix from _R0039 set was glued.\n",
      "2024-06-01 19:52:18,535 INFO Using R0039_persons and relation3_value_id.\n",
      "2024-06-01 19:52:18,535 INFO R0039_persons For columns relation3_value_id the suffix from _R0039 set was glued.\n",
      "2024-06-01 19:52:18,536 INFO Using R0039_persons and relation4_value_id.\n",
      "2024-06-01 19:52:18,536 INFO R0039_persons For columns relation4_value_id the suffix from _R0039 set was glued.\n",
      "2024-06-01 19:52:18,537 INFO Using R0039_persons and property_value_id.\n",
      "2024-06-01 19:52:18,538 INFO R0039_persons For columns property_value_id the suffix from _R0039 set was glued.\n",
      "2024-06-01 19:52:18,541 WARNING legacy id P0014_R0039 not found in ddb1 data\n",
      "2024-06-01 19:52:18,542 WARNING legacy id P0048_R0039 not found in ddb1 data\n",
      "2024-06-01 19:52:18,542 WARNING legacy id P0099_R0039 not found in ddb1 data\n",
      "2024-06-01 19:52:18,543 WARNING legacy id P0105_R0039 not found in ddb1 data\n",
      "2024-06-01 19:52:18,544 WARNING legacy id P0265_R0039 not found in ddb1 data\n",
      "2024-06-01 19:52:18,546 WARNING legacy id P0307_R0039 not found in ddb1 data\n",
      "2024-06-01 19:52:18,547 WARNING legacy id P0321_R0039 not found in ddb1 data\n",
      "2024-06-01 19:52:18,550 INFO Calling for R0040_locations with sheet_name Locations.\n"
     ]
    },
    {
     "name": "stdout",
     "output_type": "stream",
     "text": [
      "20 2024-06-01 19:52:19 : Loading dataset R0040_locations\n",
      "20 2024-06-01 19:52:19 : Opting for variant header at row 5.\n"
     ]
    },
    {
     "name": "stderr",
     "output_type": "stream",
     "text": [
      "2024-06-01 19:52:24,298 INFO Using R0040_locations and id.\n",
      "2024-06-01 19:52:24,299 INFO R0040_locations For columns id the suffix from _R0040 set was glued.\n",
      "2024-06-01 19:52:24,300 INFO Using R0040_locations and superordinate_location_id.\n",
      "2024-06-01 19:52:24,301 INFO R0040_locations For columns superordinate_location_id the suffix from _R0040 set was glued.\n",
      "2024-06-01 19:52:24,301 INFO Using R0040_locations and locationrelation1_value_id.\n",
      "2024-06-01 19:52:24,302 INFO R0040_locations For columns locationrelation1_value_id the suffix from _R0040 set was glued.\n",
      "2024-06-01 19:52:24,307 INFO Calling for R0079_events with sheet_name Events.\n"
     ]
    },
    {
     "name": "stdout",
     "output_type": "stream",
     "text": [
      "20 2024-06-01 19:52:24 : Hyperlinks were detected and transformed in columns [].\n",
      "20 2024-06-01 19:52:24 : Dropping empty columns in the dataset R0040_locations : (990, 35)\n",
      "20 2024-06-01 19:52:24 : Deleted 829 empty rows by label.\n",
      "20 2024-06-01 19:52:24 : Loaded and prepared dataset R0040_locations : (161, 35)\n",
      "20 2024-06-01 19:52:25 : Loading dataset R0079_events\n",
      "20 2024-06-01 19:52:25 : Opting for variant header at row 5.\n",
      "20 2024-06-01 19:52:35 : Hyperlinks were detected and transformed in columns [].\n",
      "20 2024-06-01 19:52:35 : Dropping empty columns in the dataset R0079_events : (1622, 56)\n"
     ]
    },
    {
     "name": "stderr",
     "output_type": "stream",
     "text": [
      "2024-06-01 19:52:35,808 INFO Using R0079_events and id.\n",
      "2024-06-01 19:52:35,810 INFO R0079_events For columns id the suffix from _R0079 set was glued.\n",
      "2024-06-01 19:52:35,812 INFO Using R0079_events and inquisitor_id.\n",
      "2024-06-01 19:52:35,813 INFO R0079_events For columns inquisitor_id the suffix from _R0079 set was glued.\n",
      "2024-06-01 19:52:35,813 INFO Using R0079_events and notary_id.\n",
      "2024-06-01 19:52:35,814 INFO R0079_events For columns notary_id the suffix from _R0079 set was glued.\n",
      "2024-06-01 19:52:35,815 INFO Using R0079_events and witness_assessor_id.\n",
      "2024-06-01 19:52:35,815 INFO R0079_events For columns witness_assessor_id the suffix from _R0079 set was glued.\n",
      "2024-06-01 19:52:35,816 INFO Using R0079_events and spatial_ref_value_id.\n",
      "2024-06-01 19:52:35,817 INFO R0079_events For columns spatial_ref_value_id the suffix from _R0079 set was glued.\n",
      "2024-06-01 19:52:35,817 INFO Using R0079_events and accuser_id.\n",
      "2024-06-01 19:52:35,818 INFO R0079_events For columns accuser_id the suffix from _R0079 set was glued.\n",
      "2024-06-01 19:52:35,819 INFO Using R0079_events and accused_id.\n",
      "2024-06-01 19:52:35,821 INFO R0079_events For columns accused_id the suffix from _R0079 set was glued.\n",
      "2024-06-01 19:52:35,823 INFO Using R0079_events and mentioned_id.\n",
      "2024-06-01 19:52:35,824 INFO R0079_events For columns mentioned_id the suffix from _R0079 set was glued.\n",
      "2024-06-01 19:52:35,825 INFO Using R0079_events and denied_id.\n",
      "2024-06-01 19:52:35,825 INFO R0079_events For columns denied_id the suffix from _R0079 set was glued.\n",
      "2024-06-01 19:52:35,829 INFO Calling for R0076_persons with sheet_name Persons.\n"
     ]
    },
    {
     "name": "stdout",
     "output_type": "stream",
     "text": [
      "20 2024-06-01 19:52:35 : Deleted 1600 empty rows by label.\n",
      "20 2024-06-01 19:52:35 : Loaded and prepared dataset R0079_events : (22, 56)\n",
      "20 2024-06-01 19:52:36 : Loading dataset R0076_persons\n",
      "20 2024-06-01 19:52:36 : Opting for variant header at row 5.\n",
      "20 2024-06-01 19:52:40 : Hyperlinks were detected and transformed in columns [].\n",
      "20 2024-06-01 19:52:40 : Dropping empty columns in the dataset R0076_persons : (1610, 69)\n",
      "20 2024-06-01 19:52:40 : Deleted 1492 empty rows by label.\n",
      "20 2024-06-01 19:52:40 : Loaded and prepared dataset R0076_persons : (118, 69)\n"
     ]
    },
    {
     "name": "stderr",
     "output_type": "stream",
     "text": [
      "2024-06-01 19:52:41,053 INFO Using R0076_persons and id.\n",
      "2024-06-01 19:52:41,055 INFO R0076_persons For columns id the suffix from _R0076 set was glued.\n",
      "2024-06-01 19:52:41,056 INFO Using R0076_persons and relations_1_value_id.\n",
      "2024-06-01 19:52:41,056 INFO R0076_persons For columns relations_1_value_id the suffix from _R0076 set was glued.\n",
      "2024-06-01 19:52:41,057 INFO Using R0076_persons and relations_2_value_id.\n",
      "2024-06-01 19:52:41,057 INFO R0076_persons For columns relations_2_value_id the suffix from _R0076 set was glued.\n",
      "2024-06-01 19:52:41,058 INFO Using R0076_persons and origin_or_residence_id.\n",
      "2024-06-01 19:52:41,059 INFO R0076_persons For columns origin_or_residence_id the suffix from _R0076 set was glued.\n",
      "2024-06-01 19:52:41,059 INFO Using R0076_persons and residence_id.\n",
      "2024-06-01 19:52:41,061 INFO R0076_persons For columns residence_id the suffix from _R0076 set was glued.\n",
      "2024-06-01 19:52:41,061 INFO Using R0076_persons and origin_id.\n",
      "2024-06-01 19:52:41,063 INFO R0076_persons For columns origin_id the suffix from _R0076 set was glued.\n",
      "2024-06-01 19:52:41,069 INFO Calling for R0074_locations with sheet_name Locations.\n"
     ]
    },
    {
     "name": "stdout",
     "output_type": "stream",
     "text": [
      "20 2024-06-01 19:52:42 : Loading dataset R0074_locations\n",
      "20 2024-06-01 19:52:42 : Opting for variant header at row 5.\n"
     ]
    },
    {
     "name": "stderr",
     "output_type": "stream",
     "text": [
      "2024-06-01 19:52:45,960 INFO Using R0074_locations and id.\n",
      "2024-06-01 19:52:45,961 INFO R0074_locations For columns id the suffix from _R0074 set was glued.\n",
      "2024-06-01 19:52:45,962 INFO Using R0074_locations and locationrelation1_value_id.\n",
      "2024-06-01 19:52:45,963 INFO R0074_locations For columns locationrelation1_value_id the suffix from _R0074 set was glued.\n",
      "2024-06-01 19:52:45,963 INFO Using R0074_locations and locationrelation2_value_id.\n",
      "2024-06-01 19:52:45,964 INFO R0074_locations For columns locationrelation2_value_id the suffix from _R0074 set was glued.\n",
      "2024-06-01 19:52:45,965 INFO Using R0074_locations and superordinate_location_id.\n",
      "2024-06-01 19:52:45,965 INFO R0074_locations For columns superordinate_location_id the suffix from _R0074 set was glued.\n",
      "2024-06-01 19:52:45,966 INFO Using R0074_locations and identificate_id.\n",
      "2024-06-01 19:52:45,966 INFO R0074_locations For columns identificate_id the suffix from _R0074 set was glued.\n",
      "2024-06-01 19:52:45,970 INFO Calling for R0104_events with sheet_name Events.\n"
     ]
    },
    {
     "name": "stdout",
     "output_type": "stream",
     "text": [
      "20 2024-06-01 19:52:45 : Hyperlinks were detected and transformed in columns [].\n",
      "20 2024-06-01 19:52:45 : Dropping empty columns in the dataset R0074_locations : (1000, 36)\n",
      "20 2024-06-01 19:52:45 : Deleted 947 empty rows by label.\n",
      "20 2024-06-01 19:52:45 : Loaded and prepared dataset R0074_locations : (53, 36)\n",
      "20 2024-06-01 19:52:47 : Loading dataset R0104_events\n",
      "20 2024-06-01 19:52:47 : Opting for variant header at row 5.\n"
     ]
    },
    {
     "name": "stderr",
     "output_type": "stream",
     "text": [
      "2024-06-01 19:52:54,511 INFO Using R0104_events and id.\n",
      "2024-06-01 19:52:54,512 INFO R0104_events For columns id the suffix from _R0104 set was glued.\n",
      "2024-06-01 19:52:54,513 INFO Using R0104_events and participant_id.\n",
      "2024-06-01 19:52:54,514 INFO R0104_events For columns participant_id the suffix from _R0104 set was glued.\n",
      "2024-06-01 19:52:54,515 INFO Using R0104_events and inquisitor_id.\n",
      "2024-06-01 19:52:54,515 INFO R0104_events For columns inquisitor_id the suffix from _R0104 set was glued.\n",
      "2024-06-01 19:52:54,516 INFO Using R0104_events and notary_id.\n",
      "2024-06-01 19:52:54,516 INFO R0104_events For columns notary_id the suffix from _R0104 set was glued.\n"
     ]
    },
    {
     "name": "stdout",
     "output_type": "stream",
     "text": [
      "20 2024-06-01 19:52:54 : Hyperlinks were detected and transformed in columns [].\n",
      "20 2024-06-01 19:52:54 : Dropping empty columns in the dataset R0104_events : (1623, 57)\n",
      "20 2024-06-01 19:52:54 : Deleted 1562 empty rows by label.\n",
      "20 2024-06-01 19:52:54 : Loaded and prepared dataset R0104_events : (61, 57)\n"
     ]
    },
    {
     "name": "stderr",
     "output_type": "stream",
     "text": [
      "2024-06-01 19:52:54,517 INFO Using R0104_events and witness_id.\n",
      "2024-06-01 19:52:54,518 INFO R0104_events For columns witness_id the suffix from _R0104 set was glued.\n",
      "2024-06-01 19:52:54,518 INFO Using R0104_events and spatial_ref_value_id.\n",
      "2024-06-01 19:52:54,518 INFO R0104_events For columns spatial_ref_value_id the suffix from _R0104 set was glued.\n",
      "2024-06-01 19:52:54,519 INFO Using R0104_events and temporal_ref_1_value_id.\n",
      "2024-06-01 19:52:54,519 INFO R0104_events For columns temporal_ref_1_value_id the suffix from _R0104 set was glued.\n",
      "2024-06-01 19:52:54,520 INFO Using R0104_events and temporal_ref_2_value_id.\n",
      "2024-06-01 19:52:54,521 INFO R0104_events For columns temporal_ref_2_value_id the suffix from _R0104 set was glued.\n",
      "2024-06-01 19:52:54,521 INFO Using R0104_events and accuser_id.\n",
      "2024-06-01 19:52:54,522 INFO R0104_events For columns accuser_id the suffix from _R0104 set was glued.\n",
      "2024-06-01 19:52:54,522 INFO Using R0104_events and accused_id.\n",
      "2024-06-01 19:52:54,523 INFO R0104_events For columns accused_id the suffix from _R0104 set was glued.\n",
      "2024-06-01 19:52:54,523 INFO Using R0104_events and mentioned_id.\n",
      "2024-06-01 19:52:54,524 INFO R0104_events For columns mentioned_id the suffix from _R0104 set was glued.\n",
      "2024-06-01 19:52:54,524 INFO Using R0104_events and denied_id.\n",
      "2024-06-01 19:52:54,526 INFO R0104_events For columns denied_id the suffix from _R0104 set was glued.\n",
      "2024-06-01 19:52:54,527 WARNING legacy id E0001.1_R0104 not found in ddb1 data\n",
      "2024-06-01 19:52:54,528 WARNING legacy id E0001.2_R0104 not found in ddb1 data\n"
     ]
    }
   ],
   "execution_count": 51
  },
  {
   "cell_type": "code",
   "execution_count": 286,
   "outputs": [],
   "source": [
    "# making empty table of values\n",
    "tables['values'] = pd.DataFrame(columns=['id','value','origin'])\n",
    "tables['locations'] = pd.DataFrame(columns=['id','value','origin','legacyId'])\n",
    "tables['events'] = pd.DataFrame(columns=['id','value','origin','legacyId'])\n",
    "tables['props'] = pd.DataFrame(columns=['id','type','type_id','value','value_id','original_field','origin','entityId','legacyId'])\n",
    "tables['relations'] = pd.DataFrame(columns=['id','type','logic','certainty','entityIds','origin'])"
   ],
   "metadata": {
    "collapsed": false
   }
  },
  {
   "cell_type": "code",
   "source": "tables.keys(), entity_ids.keys()",
   "metadata": {
    "collapsed": false,
    "ExecuteTime": {
     "end_time": "2024-05-27T14:26:42.984464Z",
     "start_time": "2024-05-27T14:26:42.879821Z"
    }
   },
   "outputs": [
    {
     "data": {
      "text/plain": [
       "(dict_keys(['texts', 'manuscripts', 'resources', 'actions', 'concepts', 'R0006_persons', 'R0007_locations', 'R0008_events', 'R0075_persons', 'R0035_locations', 'R0083_events', 'R0105_groups', 'R0030_persons', 'R0087_groups', 'R0031_locations', 'R0082_events', 'R0039_persons', 'R0040_locations', 'R0079_events', 'R0076_persons', 'R0074_locations', 'R0104_events']),\n",
       " dict_keys(['texts', 'manuscripts', 'resources', 'actions', 'concepts', 'persons', 'locations', 'events', 'groups']))"
      ]
     },
     "execution_count": 21,
     "metadata": {},
     "output_type": "execute_result"
    }
   ],
   "execution_count": 21
  },
  {
   "metadata": {
    "ExecuteTime": {
     "end_time": "2024-06-01T17:52:54.657172Z",
     "start_time": "2024-06-01T17:52:54.547649Z"
    }
   },
   "cell_type": "code",
   "source": [
    "#inkimplib2.missing_legacyIds_in_ddb1\n",
    "#inkimplib2.explicit_uuids_in_import\n",
    "inkimplib2.new_uuids_in_import\n",
    "\n",
    "len(inkimplib2.missing_legacyIds_in_ddb1), len(inkimplib2.explicit_uuids_in_import), len(inkimplib2.new_uuids_in_import)"
   ],
   "outputs": [
    {
     "data": {
      "text/plain": [
       "(212, 50, 0)"
      ]
     },
     "execution_count": 52,
     "metadata": {},
     "output_type": "execute_result"
    }
   ],
   "execution_count": 52
  },
  {
   "metadata": {
    "ExecuteTime": {
     "end_time": "2024-06-01T17:54:34.922974Z",
     "start_time": "2024-06-01T17:54:34.820751Z"
    }
   },
   "cell_type": "code",
   "source": [
    "pd.Series(inkimplib2.missing_legacyIds_in_ddb1,name=\"missing_in_ddb1\").to_csv(\"missing_in_ddb1.csv\")\n",
    "pd.Series(inkimplib2.explicit_uuids_in_import,name=\"explcit_uuid_ddb1\").to_csv(\"explicit_uuid_ddb1.csv\")"
   ],
   "outputs": [],
   "execution_count": 57
  },
  {
   "metadata": {
    "ExecuteTime": {
     "end_time": "2024-06-01T17:54:59.407946Z",
     "start_time": "2024-06-01T17:54:59.291422Z"
    }
   },
   "cell_type": "code",
   "source": "\"P2116_R0030\" in inkimplib2.missing_legacyIds_in_ddb1",
   "outputs": [
    {
     "data": {
      "text/plain": [
       "True"
      ]
     },
     "execution_count": 58,
     "metadata": {},
     "output_type": "execute_result"
    }
   ],
   "execution_count": 58
  },
  {
   "cell_type": "code",
   "execution_count": 23,
   "outputs": [
    {
     "data": {
      "text/plain": "       id   label label_language entity_logical_type resource_id document_no  \\\n0                                                                              \n1                                                                              \n2                                                                              \n3  inside  inside         inside              inside     discard     discard   \n\n  page_range_starts page_range_ends page_range_concatenated        class_id  \\\n0                                                                             \n1                                                        id              id   \n2                                                     R0034  Classification   \n3           discard         discard          reference_part        relation   \n\n   ... accused_label mentioned_id mentioned_label  denied_id denied_label  \\\n0  ...                                                                      \n1  ...                         id                         id                \n2  ...                      C2924                      C3403                \n3  ...       discard    propvalue         discard  propvalue      discard   \n\n                                                note   editor     done  \\\n0  Save as the multi-note (if \"#\" is present, sep...   audits            \n1                                                                        \n2                                               note                     \n3                                             inside  special  discard   \n\n   checked legacyId  \n0                    \n1                    \n2                    \n3  discard   inside  \n\n[4 rows x 62 columns]",
      "text/html": "<div>\n<style scoped>\n    .dataframe tbody tr th:only-of-type {\n        vertical-align: middle;\n    }\n\n    .dataframe tbody tr th {\n        vertical-align: top;\n    }\n\n    .dataframe thead th {\n        text-align: right;\n    }\n</style>\n<table border=\"1\" class=\"dataframe\">\n  <thead>\n    <tr style=\"text-align: right;\">\n      <th></th>\n      <th>id</th>\n      <th>label</th>\n      <th>label_language</th>\n      <th>entity_logical_type</th>\n      <th>resource_id</th>\n      <th>document_no</th>\n      <th>page_range_starts</th>\n      <th>page_range_ends</th>\n      <th>page_range_concatenated</th>\n      <th>class_id</th>\n      <th>...</th>\n      <th>accused_label</th>\n      <th>mentioned_id</th>\n      <th>mentioned_label</th>\n      <th>denied_id</th>\n      <th>denied_label</th>\n      <th>note</th>\n      <th>editor</th>\n      <th>done</th>\n      <th>checked</th>\n      <th>legacyId</th>\n    </tr>\n  </thead>\n  <tbody>\n    <tr>\n      <th>0</th>\n      <td></td>\n      <td></td>\n      <td></td>\n      <td></td>\n      <td></td>\n      <td></td>\n      <td></td>\n      <td></td>\n      <td></td>\n      <td></td>\n      <td>...</td>\n      <td></td>\n      <td></td>\n      <td></td>\n      <td></td>\n      <td></td>\n      <td>Save as the multi-note (if \"#\" is present, sep...</td>\n      <td>audits</td>\n      <td></td>\n      <td></td>\n      <td></td>\n    </tr>\n    <tr>\n      <th>1</th>\n      <td></td>\n      <td></td>\n      <td></td>\n      <td></td>\n      <td></td>\n      <td></td>\n      <td></td>\n      <td></td>\n      <td>id</td>\n      <td>id</td>\n      <td>...</td>\n      <td></td>\n      <td>id</td>\n      <td></td>\n      <td>id</td>\n      <td></td>\n      <td></td>\n      <td></td>\n      <td></td>\n      <td></td>\n      <td></td>\n    </tr>\n    <tr>\n      <th>2</th>\n      <td></td>\n      <td></td>\n      <td></td>\n      <td></td>\n      <td></td>\n      <td></td>\n      <td></td>\n      <td></td>\n      <td>R0034</td>\n      <td>Classification</td>\n      <td>...</td>\n      <td></td>\n      <td>C2924</td>\n      <td></td>\n      <td>C3403</td>\n      <td></td>\n      <td>note</td>\n      <td></td>\n      <td></td>\n      <td></td>\n      <td></td>\n    </tr>\n    <tr>\n      <th>3</th>\n      <td>inside</td>\n      <td>inside</td>\n      <td>inside</td>\n      <td>inside</td>\n      <td>discard</td>\n      <td>discard</td>\n      <td>discard</td>\n      <td>discard</td>\n      <td>reference_part</td>\n      <td>relation</td>\n      <td>...</td>\n      <td>discard</td>\n      <td>propvalue</td>\n      <td>discard</td>\n      <td>propvalue</td>\n      <td>discard</td>\n      <td>inside</td>\n      <td>special</td>\n      <td>discard</td>\n      <td>discard</td>\n      <td>inside</td>\n    </tr>\n  </tbody>\n</table>\n<p>4 rows × 62 columns</p>\n</div>"
     },
     "execution_count": 23,
     "metadata": {},
     "output_type": "execute_result"
    }
   ],
   "source": [
    "header_infos['R0082_events']"
   ],
   "metadata": {
    "collapsed": false
   }
  },
  {
   "cell_type": "code",
   "source": [
    "# I AM AN IDIOT, I have overwritten this old data... :(\n",
    "\n",
    "# Save a dictionary into a pickle file.\n",
    "import dill\n",
    "# pickle.dump( tables, open( \"./data/import-input-tables-canonical.pickle\", \"wb\" ) )\n",
    "#pickle.dump( header_infos, open( \"./data/import-input-headers-canonical.pickle\", \"wb\" ) )\n",
    "#pickle.dump( dh.entity_ids, open( \"./data/import-input-entity_ids-canonical.pickle\", \"wb\" ) )\n",
    "#pickle.dump( entity_ids, open( \"./data/import-input-entity_ids-canonical.pickle\", \"wb\" ) )"
   ],
   "metadata": {
    "collapsed": false,
    "ExecuteTime": {
     "end_time": "2024-06-01T11:11:29.808032Z",
     "start_time": "2024-06-01T11:11:25.934220Z"
    }
   },
   "outputs": [],
   "execution_count": 16
  },
  {
   "metadata": {
    "ExecuteTime": {
     "end_time": "2024-06-01T11:11:41.005338Z",
     "start_time": "2024-06-01T11:11:37.223958Z"
    }
   },
   "cell_type": "code",
   "source": [
    "pickle.dump( tables, open( \"./data/2024/import-input-tables.pickle\", \"wb\" ) )\n",
    "pickle.dump( header_infos, open( \"./data/2024/import-input-headers.pickle\", \"wb\" ) )\n",
    "#pickle.dump( dh.entity_ids, open( \"./data/import-input-entity_ids-canonical.pickle\", \"wb\" ) )\n",
    "pickle.dump( entity_ids, open( \"./data/2024/import-input-entity_ids.pickle\", \"wb\" ) )"
   ],
   "outputs": [],
   "execution_count": 17
  },
  {
   "cell_type": "code",
   "execution_count": null,
   "outputs": [],
   "source": [
    "# load from pickle file\n",
    "# tables = pickle.load( open( \"./data/import-input-tables.pickle\", \"rb\" ) )\n",
    "# header_infos = pickle.load( open( \"./data/import-input-headers.pickle\", \"rb\" ) )\n",
    "# entity_ids = pickle.load( open( \"./data/import-input-entity_ids.pickle\", \"rb\" ) )"
   ],
   "metadata": {
    "collapsed": false
   }
  },
  {
   "cell_type": "code",
   "source": [
    "entity_ids.keys()"
   ],
   "metadata": {
    "collapsed": false,
    "ExecuteTime": {
     "end_time": "2024-06-01T11:12:12.522851Z",
     "start_time": "2024-06-01T11:12:12.429335Z"
    }
   },
   "outputs": [
    {
     "data": {
      "text/plain": [
       "dict_keys(['texts', 'manuscripts', 'resources', 'actions', 'concepts', 'persons', 'locations', 'events', 'groups'])"
      ]
     },
     "execution_count": 18,
     "metadata": {},
     "output_type": "execute_result"
    }
   ],
   "execution_count": 18
  },
  {
   "cell_type": "code",
   "execution_count": 20,
   "outputs": [],
   "source": [
    "# manual corrections in the input data"
   ],
   "metadata": {
    "collapsed": false
   }
  },
  {
   "cell_type": "markdown",
   "source": [
    "### Responsible editors\n",
    "\n",
    "#### Data\n",
    "Only concepts have \"editors\" filled.\n",
    "\n",
    "#### Specification\n",
    "\n",
    "Only entities have audits, i.e. the prop object, the ref object don't. (Could be wrong?)\n",
    "\n",
    "**Rationale:**  Each entity will have 2 audit creation records. One with the user \"import\", second with the user \"responsible editor.\n",
    "\n",
    "Implementaions possiblities:\n",
    "  - make the audits during the parsing : the way\n",
    "  - make the audits afer the parsing is done (for secondary created entities, I will not have the context, and will be problem to find a responsible editor\n",
    "  -"
   ],
   "metadata": {
    "collapsed": false
   }
  },
  {
   "cell_type": "code",
   "source": [
    "# the names in the input tables  vs their user ids\n",
    "# the users are imported through the user.json file\n",
    "\n",
    "#David Zbíral\tdavid.zbiral@mail.muni.cz\n",
    "#Robert Shaw\trobert.shaw@mail.muni.cz\n",
    "#Jan Král\tkral.jan@mail.muni.cz\n",
    "#Reima Välimäki\treima.valimaki@gmail.com\n",
    "#Lidia Hinz-Wieczorek\tlidhin93@gmail.com\n",
    "#Davor Salihović\tdavor.salihovic@mail.muni.cz\n",
    "#Katia Riccardo\tkatia.riccardo@mail.muni.cz\n",
    "#Larissa de Freitas Lyth\tlarissa.lyth@mail.muni.cz\n",
    "#Larissa de Freitas Lyth\n",
    "\n",
    "editors = {\"import\":\"0\", \"David Zbíral\":\"100\", \"Robert Shaw\":\"101\", \"Davor Salihović\":\"102\", \"Katia Riccardo\":\"103\", \"Jan Král\":\"104\", \"Reima Välimäki\":\"105\",\"Lidia Hinz-Wieczorek\":\"106\", \"Larissa de Freitas Lyth\":\"107\"}"
   ],
   "metadata": {
    "collapsed": false,
    "ExecuteTime": {
     "end_time": "2024-06-01T11:12:40.524107Z",
     "start_time": "2024-06-01T11:12:40.433585Z"
    }
   },
   "outputs": [],
   "execution_count": 19
  },
  {
   "cell_type": "markdown",
   "source": [
    "# Run encapsulated"
   ],
   "metadata": {
    "collapsed": false
   }
  },
  {
   "cell_type": "code",
   "execution_count": 9,
   "outputs": [],
   "source": [
    "# load clean input from pickle file\n",
    "tables = pickle.load( open( \"./data/import-input-tables.pickle\", \"rb\" ) )\n",
    "header_infos = pickle.load( open( \"./data/import-input-headers.pickle\", \"rb\" ) )\n",
    "entity_ids = pickle.load( open( \"./data/import-input-entity_ids.pickle\", \"rb\" ) )"
   ],
   "metadata": {
    "collapsed": false
   }
  },
  {
   "metadata": {
    "ExecuteTime": {
     "end_time": "2024-06-01T11:12:44.647144Z",
     "start_time": "2024-06-01T11:12:44.553636Z"
    }
   },
   "cell_type": "code",
   "source": [
    "# hacking the content\n",
    "tables['texts'].loc[tables['texts']['legacyId']=='T175','label_language'] = \"English\"\n",
    "tables['resources']['label_language'] = \"English\"\n",
    "tables['concepts'].loc[tables['concepts']['status']=='bs','status'] = \"approved\"\n",
    "tables['R0031_locations'].loc[tables['R0031_locations']['id']=='L0647','coordinates_concatenated'] = \"45.46617; 10.60522\"\n",
    "\n",
    "\n",
    "# 2024-06-01 13:59:17,312 ERROR Cannot get entity id '' from value asdf  in special>:creation_event_id E0145_M163LegacyId: M163."
   ],
   "outputs": [],
   "execution_count": 20
  },
  {
   "metadata": {
    "ExecuteTime": {
     "end_time": "2024-06-01T11:12:46.465474Z",
     "start_time": "2024-06-01T11:12:46.370967Z"
    }
   },
   "cell_type": "code",
   "source": [
    "# exploring the content\n",
    "tables.keys()"
   ],
   "outputs": [
    {
     "data": {
      "text/plain": [
       "dict_keys(['texts', 'manuscripts', 'resources', 'actions', 'concepts', 'R0006_persons', 'R0007_locations', 'R0008_events', 'R0075_persons', 'R0035_locations', 'R0083_events', 'R0105_groups', 'R0030_persons', 'R0087_groups', 'R0031_locations', 'R0082_events', 'R0039_persons', 'R0040_locations', 'R0079_events', 'R0076_persons', 'R0074_locations', 'R0104_events'])"
      ]
     },
     "execution_count": 21,
     "metadata": {},
     "output_type": "execute_result"
    }
   ],
   "execution_count": 21
  },
  {
   "cell_type": "code",
   "source": [
    "# dh contain input data, but also generated data (aka generated resource) and additional output (relatins, audits ...)\n",
    "dh = inkimplib2.DataHolder() # singleton\n",
    "dh.pass_data(tables, header_infos, entity_ids, table_to_entity, editors)\n",
    "dh.reset_generated_collection()"
   ],
   "metadata": {
    "collapsed": false,
    "ExecuteTime": {
     "end_time": "2024-06-01T18:17:33.872417Z",
     "start_time": "2024-06-01T18:17:29.646824Z"
    }
   },
   "outputs": [
    {
     "name": "stderr",
     "output_type": "stream",
     "text": [
      "2024-06-01 20:17:29,781 INFO Class IActant available.\n",
      "2024-06-01 20:17:29,782 INFO Class IAction available.\n",
      "2024-06-01 20:17:29,783 INFO Class IAudit available.\n",
      "2024-06-01 20:17:29,785 INFO Class IConcept available.\n",
      "2024-06-01 20:17:29,786 INFO Class IEntity available.\n",
      "2024-06-01 20:17:29,787 INFO Class IEvent available.\n",
      "2024-06-01 20:17:29,788 INFO Class IGroup available.\n",
      "2024-06-01 20:17:29,788 INFO Class ILabel available.\n",
      "2024-06-01 20:17:29,790 INFO Class ILocation available.\n",
      "2024-06-01 20:17:29,792 INFO Class IObject available.\n",
      "2024-06-01 20:17:29,793 INFO Class IPerson available.\n",
      "2024-06-01 20:17:29,794 INFO Class IProp available.\n",
      "2024-06-01 20:17:29,795 INFO Class IReference available.\n",
      "2024-06-01 20:17:29,796 INFO Class IResource available.\n",
      "2024-06-01 20:17:29,797 INFO Class IStatement available.\n",
      "2024-06-01 20:17:29,798 INFO Class ITerritory available.\n",
      "2024-06-01 20:17:29,799 INFO Class IUser available.\n",
      "2024-06-01 20:17:29,801 INFO Class IValue available.\n",
      "2024-06-01 20:17:29,801 INFO Class Relation.IActant1Semantics available.\n",
      "2024-06-01 20:17:29,802 INFO Class Relation.IActant2Semantics available.\n",
      "2024-06-01 20:17:29,803 INFO Class Relation.IActionEventEquivalent available.\n",
      "2024-06-01 20:17:29,804 INFO Class Relation.IAntonym available.\n",
      "2024-06-01 20:17:29,804 INFO Class Relation.IClassification available.\n",
      "2024-06-01 20:17:29,805 INFO Class Relation.IHolonym available.\n",
      "2024-06-01 20:17:29,806 INFO Class Relation.IIdentification available.\n",
      "2024-06-01 20:17:29,807 INFO Class Relation.IImplication available.\n",
      "2024-06-01 20:17:29,808 INFO Class Relation.IPropertyReciprocal available.\n",
      "2024-06-01 20:17:29,809 INFO Class Relation.IRelated available.\n",
      "2024-06-01 20:17:29,809 INFO Class Relation.ISubjectActant1Reciprocal available.\n",
      "2024-06-01 20:17:29,810 INFO Class Relation.ISubjectSemantics available.\n",
      "2024-06-01 20:17:29,811 INFO Class Relation.ISuperclass available.\n",
      "2024-06-01 20:17:29,812 INFO Class Relation.ISuperordinateEntity available.\n",
      "2024-06-01 20:17:29,813 INFO Class Relation.ISuperordinateLocation available.\n",
      "2024-06-01 20:17:29,814 INFO Class Relation.ISynonym available.\n"
     ]
    }
   ],
   "execution_count": 59
  },
  {
   "cell_type": "code",
   "source": [
    "dh.reset_generated_collection()"
   ],
   "metadata": {
    "collapsed": false,
    "ExecuteTime": {
     "end_time": "2024-05-27T14:35:41.450395Z",
     "start_time": "2024-05-27T14:35:41.364744Z"
    }
   },
   "outputs": [],
   "execution_count": 26
  },
  {
   "cell_type": "code",
   "source": [
    "logger.info(f\"Start\")\n",
    "cp = inkimplib2.ParseController(entity_list=['texts','actions', 'manuscripts','resources','concepts'])\n",
    "cp.parse()\n",
    "logger.info(f\"End\")"
   ],
   "metadata": {
    "collapsed": false,
    "ExecuteTime": {
     "end_time": "2024-05-27T16:51:11.344003Z",
     "start_time": "2024-05-27T16:43:12.238303Z"
    }
   },
   "outputs": [
    {
     "name": "stderr",
     "output_type": "stream",
     "text": [
      "2024-05-27 18:43:12,312 INFO Start\n",
      "2024-05-27 18:43:12,315 INFO TEXTS Uncertain parsing instructions in 0 columns: .\n",
      "2024-05-27 18:43:12,337 INFO TEXTS 66 columns have been dropped (discard:66, unknown:0: []). Table now has 54 columns, inside:9,propvalue:15, special:6, proptype: 4, proptype_2nd: 0, dependent:0, reference_part:0. Originally 120 columns.\n",
      "2024-05-27 18:43:12,339 INFO ACTIONS Uncertain parsing instructions in 0 columns: .\n",
      "2024-05-27 18:43:12,365 INFO ACTIONS 64 columns have been dropped (discard:63, unknown:1: ['ddb1_uuid']). Table now has 25 columns, inside:14,propvalue:0, special:1, proptype: 0, proptype_2nd: 0, dependent:0, reference_part:2. Originally 89 columns.\n",
      "2024-05-27 18:43:12,367 INFO MANUSCRIPTS Uncertain parsing instructions in 0 columns: .\n",
      "2024-05-27 18:43:12,377 INFO MANUSCRIPTS 35 columns have been dropped (discard:35, unknown:0: []). Table now has 32 columns, inside:8,propvalue:8, special:5, proptype: 4, proptype_2nd: 0, dependent:0, reference_part:0. Originally 67 columns.\n",
      "2024-05-27 18:43:12,379 INFO RESOURCES Uncertain parsing instructions in 0 columns: .\n",
      "2024-05-27 18:43:12,385 INFO RESOURCES 19 columns have been dropped (discard:18, unknown:1: ['ddb1_uuid']). Table now has 12 columns, inside:7,propvalue:2, special:1, proptype: 0, proptype_2nd: 0, dependent:0, reference_part:0. Originally 31 columns.\n",
      "2024-05-27 18:43:12,386 INFO CONCEPTS Uncertain parsing instructions in 0 columns: .\n",
      "2024-05-27 18:43:12,459 INFO CONCEPTS 59 columns have been dropped (discard:59, unknown:0: []). Table now has 18 columns, inside:8,propvalue:0, special:2, proptype: 0, proptype_2nd: 0, dependent:0, reference_part:2. Originally 77 columns.\n",
      "2024-05-27 18:43:12,459 INFO Starting to parse texts.\n",
      "2024-05-27 18:43:45,822 INFO Starting to parse actions.\n",
      "2024-05-27 18:45:15,816 INFO Starting to parse manuscripts.\n",
      "2024-05-27 18:45:23,832 INFO About ??? : There is Merville???, Bibliothèque du Château de Merville???,  in column label in row 38.\n",
      "2024-05-27 18:45:23,879 INFO About ??? : There is Merville???, Bibliothèque du Château de Merville??? in column repository_label in row 38.\n",
      "2024-05-27 18:45:24,030 INFO About ??? : There is Creation of Merville???, Bibliothèque du Château de Merville???,  in column creation_event_label in row 38.\n",
      "2024-05-27 18:45:25,377 INFO About ??? : There is Brno, Moravská zemská knihovna, ??? in column label in row 44.\n",
      "2024-05-27 18:45:25,479 INFO About ??? : There is ??? in column subcollection_and_shelf_number_concatenated in row 44.\n",
      "2024-05-27 18:45:25,622 INFO About ??? : There is Creation of Brno, Moravská zemská knihovna, ??? in column creation_event_label in row 44.\n",
      "2024-05-27 18:45:48,617 ERROR Cannot get entity id '' from value asdf  in special>:creation_event_id E0145_M163LegacyId: M163.\n",
      "2024-05-27 18:45:48,654 INFO Starting to parse resources.\n",
      "2024-05-27 18:45:55,830 ERROR The string nan does not refer to valid entity class - trying to instantiate relation Classification in row 131. \n",
      "2024-05-27 18:45:55,879 ERROR The string nan does not refer to valid entity class - trying to instantiate relation Classification in row 132. \n",
      "2024-05-27 18:45:55,931 ERROR The string nan does not refer to valid entity class - trying to instantiate relation Classification in row 133. \n",
      "2024-05-27 18:45:55,984 ERROR The string nan does not refer to valid entity class - trying to instantiate relation Classification in row 134. \n",
      "2024-05-27 18:45:56,037 ERROR The string nan does not refer to valid entity class - trying to instantiate relation Classification in row 135. \n",
      "2024-05-27 18:45:56,091 ERROR The string nan does not refer to valid entity class - trying to instantiate relation Classification in row 136. \n",
      "2024-05-27 18:45:56,149 ERROR The string nan does not refer to valid entity class - trying to instantiate relation Classification in row 137. \n",
      "2024-05-27 18:45:56,202 ERROR The string nan does not refer to valid entity class - trying to instantiate relation Classification in row 138. \n",
      "2024-05-27 18:45:56,253 ERROR The string nan does not refer to valid entity class - trying to instantiate relation Classification in row 139. \n",
      "2024-05-27 18:45:56,309 ERROR The string nan does not refer to valid entity class - trying to instantiate relation Classification in row 140. \n",
      "2024-05-27 18:45:56,360 ERROR The string nan does not refer to valid entity class - trying to instantiate relation Classification in row 141. \n",
      "2024-05-27 18:45:56,410 ERROR The string nan does not refer to valid entity class - trying to instantiate relation Classification in row 142. \n",
      "2024-05-27 18:45:56,466 ERROR The string nan does not refer to valid entity class - trying to instantiate relation Classification in row 143. \n",
      "2024-05-27 18:45:56,518 ERROR The string nan does not refer to valid entity class - trying to instantiate relation Classification in row 144. \n",
      "2024-05-27 18:45:56,568 ERROR The string nan does not refer to valid entity class - trying to instantiate relation Classification in row 145. \n",
      "2024-05-27 18:45:56,621 ERROR The string nan does not refer to valid entity class - trying to instantiate relation Classification in row 146. \n",
      "2024-05-27 18:45:56,673 ERROR The string nan does not refer to valid entity class - trying to instantiate relation Classification in row 147. \n",
      "2024-05-27 18:45:56,726 ERROR The string nan does not refer to valid entity class - trying to instantiate relation Classification in row 148. \n",
      "2024-05-27 18:45:56,778 ERROR The string nan does not refer to valid entity class - trying to instantiate relation Classification in row 149. \n",
      "2024-05-27 18:45:56,831 ERROR The string nan does not refer to valid entity class - trying to instantiate relation Classification in row 150. \n",
      "2024-05-27 18:45:56,883 ERROR The string nan does not refer to valid entity class - trying to instantiate relation Classification in row 151. \n",
      "2024-05-27 18:45:56,935 ERROR The string nan does not refer to valid entity class - trying to instantiate relation Classification in row 152. \n",
      "2024-05-27 18:45:56,987 ERROR The string nan does not refer to valid entity class - trying to instantiate relation Classification in row 153. \n",
      "2024-05-27 18:45:57,040 ERROR The string nan does not refer to valid entity class - trying to instantiate relation Classification in row 154. \n",
      "2024-05-27 18:45:57,093 ERROR The string nan does not refer to valid entity class - trying to instantiate relation Classification in row 155. \n",
      "2024-05-27 18:45:57,150 ERROR The string nan does not refer to valid entity class - trying to instantiate relation Classification in row 156. \n",
      "2024-05-27 18:45:57,206 ERROR The string nan does not refer to valid entity class - trying to instantiate relation Classification in row 157. \n",
      "2024-05-27 18:45:57,259 ERROR The string nan does not refer to valid entity class - trying to instantiate relation Classification in row 158. \n",
      "2024-05-27 18:45:57,313 ERROR The string nan does not refer to valid entity class - trying to instantiate relation Classification in row 159. \n",
      "2024-05-27 18:45:57,372 ERROR The string nan does not refer to valid entity class - trying to instantiate relation Classification in row 160. \n",
      "2024-05-27 18:45:57,430 ERROR The string nan does not refer to valid entity class - trying to instantiate relation Classification in row 161. \n",
      "2024-05-27 18:45:57,484 ERROR The string nan does not refer to valid entity class - trying to instantiate relation Classification in row 162. \n",
      "2024-05-27 18:45:57,536 ERROR The string nan does not refer to valid entity class - trying to instantiate relation Classification in row 163. \n",
      "2024-05-27 18:45:57,586 ERROR The string nan does not refer to valid entity class - trying to instantiate relation Classification in row 164. \n",
      "2024-05-27 18:45:57,638 ERROR The string nan does not refer to valid entity class - trying to instantiate relation Classification in row 165. \n",
      "2024-05-27 18:45:57,689 ERROR The string nan does not refer to valid entity class - trying to instantiate relation Classification in row 166. \n",
      "2024-05-27 18:45:57,742 ERROR The string nan does not refer to valid entity class - trying to instantiate relation Classification in row 167. \n",
      "2024-05-27 18:45:57,792 ERROR The string nan does not refer to valid entity class - trying to instantiate relation Classification in row 168. \n",
      "2024-05-27 18:45:57,844 ERROR The string nan does not refer to valid entity class - trying to instantiate relation Classification in row 169. \n",
      "2024-05-27 18:45:57,896 ERROR The string nan does not refer to valid entity class - trying to instantiate relation Classification in row 170. \n",
      "2024-05-27 18:45:57,949 ERROR The string nan does not refer to valid entity class - trying to instantiate relation Classification in row 171. \n",
      "2024-05-27 18:45:58,001 ERROR The string nan does not refer to valid entity class - trying to instantiate relation Classification in row 172. \n",
      "2024-05-27 18:45:58,052 ERROR The string nan does not refer to valid entity class - trying to instantiate relation Classification in row 173. \n",
      "2024-05-27 18:45:58,109 ERROR The string nan does not refer to valid entity class - trying to instantiate relation Classification in row 174. \n",
      "2024-05-27 18:45:58,168 ERROR The string nan does not refer to valid entity class - trying to instantiate relation Classification in row 175. \n",
      "2024-05-27 18:45:58,221 ERROR The string nan does not refer to valid entity class - trying to instantiate relation Classification in row 176. \n",
      "2024-05-27 18:45:58,272 ERROR The string nan does not refer to valid entity class - trying to instantiate relation Classification in row 177. \n",
      "2024-05-27 18:45:58,326 ERROR The string nan does not refer to valid entity class - trying to instantiate relation Classification in row 178. \n",
      "2024-05-27 18:45:58,379 ERROR The string nan does not refer to valid entity class - trying to instantiate relation Classification in row 179. \n",
      "2024-05-27 18:45:58,432 ERROR The string nan does not refer to valid entity class - trying to instantiate relation Classification in row 180. \n",
      "2024-05-27 18:45:58,487 ERROR The string nan does not refer to valid entity class - trying to instantiate relation Classification in row 181. \n",
      "2024-05-27 18:45:58,539 ERROR The string nan does not refer to valid entity class - trying to instantiate relation Classification in row 182. \n",
      "2024-05-27 18:45:58,593 ERROR The string nan does not refer to valid entity class - trying to instantiate relation Classification in row 183. \n",
      "2024-05-27 18:45:58,647 ERROR The string nan does not refer to valid entity class - trying to instantiate relation Classification in row 184. \n",
      "2024-05-27 18:45:58,700 ERROR The string nan does not refer to valid entity class - trying to instantiate relation Classification in row 185. \n",
      "2024-05-27 18:45:58,754 ERROR The string nan does not refer to valid entity class - trying to instantiate relation Classification in row 186. \n",
      "2024-05-27 18:45:58,806 ERROR The string nan does not refer to valid entity class - trying to instantiate relation Classification in row 187. \n",
      "2024-05-27 18:45:58,859 ERROR The string nan does not refer to valid entity class - trying to instantiate relation Classification in row 188. \n",
      "2024-05-27 18:45:58,912 ERROR The string nan does not refer to valid entity class - trying to instantiate relation Classification in row 189. \n",
      "2024-05-27 18:45:58,965 ERROR The string nan does not refer to valid entity class - trying to instantiate relation Classification in row 190. \n",
      "2024-05-27 18:45:59,019 ERROR The string nan does not refer to valid entity class - trying to instantiate relation Classification in row 191. \n",
      "2024-05-27 18:45:59,072 ERROR The string nan does not refer to valid entity class - trying to instantiate relation Classification in row 192. \n",
      "2024-05-27 18:45:59,124 ERROR The string nan does not refer to valid entity class - trying to instantiate relation Classification in row 193. \n",
      "2024-05-27 18:45:59,177 ERROR The string nan does not refer to valid entity class - trying to instantiate relation Classification in row 194. \n",
      "2024-05-27 18:45:59,230 ERROR The string nan does not refer to valid entity class - trying to instantiate relation Classification in row 195. \n",
      "2024-05-27 18:45:59,281 ERROR The string nan does not refer to valid entity class - trying to instantiate relation Classification in row 196. \n",
      "2024-05-27 18:45:59,335 ERROR The string nan does not refer to valid entity class - trying to instantiate relation Classification in row 197. \n",
      "2024-05-27 18:45:59,387 ERROR The string nan does not refer to valid entity class - trying to instantiate relation Classification in row 198. \n",
      "2024-05-27 18:45:59,445 ERROR The string nan does not refer to valid entity class - trying to instantiate relation Classification in row 199. \n",
      "2024-05-27 18:45:59,496 ERROR The string nan does not refer to valid entity class - trying to instantiate relation Classification in row 200. \n",
      "2024-05-27 18:45:59,549 ERROR The string nan does not refer to valid entity class - trying to instantiate relation Classification in row 201. \n",
      "2024-05-27 18:45:59,611 ERROR The string nan does not refer to valid entity class - trying to instantiate relation Classification in row 202. \n",
      "2024-05-27 18:45:59,663 ERROR The string nan does not refer to valid entity class - trying to instantiate relation Classification in row 203. \n",
      "2024-05-27 18:45:59,713 ERROR The string nan does not refer to valid entity class - trying to instantiate relation Classification in row 204. \n",
      "2024-05-27 18:45:59,767 ERROR The string nan does not refer to valid entity class - trying to instantiate relation Classification in row 205. \n",
      "2024-05-27 18:45:59,818 ERROR The string nan does not refer to valid entity class - trying to instantiate relation Classification in row 206. \n",
      "2024-05-27 18:45:59,871 ERROR The string nan does not refer to valid entity class - trying to instantiate relation Classification in row 207. \n",
      "2024-05-27 18:45:59,930 ERROR The string nan does not refer to valid entity class - trying to instantiate relation Classification in row 208. \n",
      "2024-05-27 18:45:59,987 ERROR The string nan does not refer to valid entity class - trying to instantiate relation Classification in row 209. \n",
      "2024-05-27 18:46:00,012 INFO Starting to parse concepts.\n",
      "2024-05-27 18:51:11,332 INFO End\n"
     ]
    }
   ],
   "execution_count": 48
  },
  {
   "cell_type": "code",
   "execution_count": 246,
   "outputs": [
    {
     "data": {
      "text/plain": "                                       id         label legacyId detail  \\\n134  1afca8bb-aadb-478e-a346-b96be9ae05b2  Douais, 1900      NaN    NaN   \n151  0f32b8b0-9295-494f-9d06-d28004b78804  Douais, 1900      NaN    NaN   \n164  08e99be1-5227-49eb-aa4d-4e936e3cbd00  Douais, 1900      NaN    NaN   \n165  90b15e22-bfd6-4c3f-b250-f819e5a41a8d  Douais, 1900      NaN    NaN   \n\n    label_language for_migration_to_ddb1 do_before_migration  \\\n134            NaN                   NaN                 NaN   \n151            NaN                   NaN                 NaN   \n164            NaN                   NaN                 NaN   \n165            NaN                   NaN                 NaN   \n\n    do_after_migration migration_check_by_david_done ready_for_migration  ...  \\\n134                NaN                           NaN                 NaN  ...   \n151                NaN                           NaN                 NaN  ...   \n164                NaN                           NaN                 NaN  ...   \n165                NaN                           NaN                 NaN  ...   \n\n    parsing_type parsing_entity dissinet_repository_url spreadsheet_id  \\\n134          NaN            NaN                     NaN            NaN   \n151          NaN            NaN                     NaN            NaN   \n164          NaN            NaN                     NaN            NaN   \n165          NaN            NaN                     NaN            NaN   \n\n    sheet_name note editor parsing_rows_explained  \\\n134        NaN  NaN    NaN                    NaN   \n151        NaN  NaN    NaN                    NaN   \n164        NaN  NaN    NaN                    NaN   \n165        NaN  NaN    NaN                    NaN   \n\n                              dissinet_respository_url  \\\n134  https://www.zotero.org/groups/446972/david_zbi...   \n151  https://www.zotero.org/groups/446972/david_zbi...   \n164  https://www.zotero.org/groups/446972/david_zbi...   \n165  https://www.zotero.org/groups/446972/david_zbi...   \n\n                                                origin  \n134  special C1188>:edition_1Douais, 1900|https://w...  \n151  special C1188>:edition_2Douais, 1900|https://w...  \n164  special C1188>:edition_1Douais, 1900|https://w...  \n165  special C1188>:edition_1Douais, 1900|https://w...  \n\n[4 rows x 29 columns]",
      "text/html": "<div>\n<style scoped>\n    .dataframe tbody tr th:only-of-type {\n        vertical-align: middle;\n    }\n\n    .dataframe tbody tr th {\n        vertical-align: top;\n    }\n\n    .dataframe thead th {\n        text-align: right;\n    }\n</style>\n<table border=\"1\" class=\"dataframe\">\n  <thead>\n    <tr style=\"text-align: right;\">\n      <th></th>\n      <th>id</th>\n      <th>label</th>\n      <th>legacyId</th>\n      <th>detail</th>\n      <th>label_language</th>\n      <th>for_migration_to_ddb1</th>\n      <th>do_before_migration</th>\n      <th>do_after_migration</th>\n      <th>migration_check_by_david_done</th>\n      <th>ready_for_migration</th>\n      <th>...</th>\n      <th>parsing_type</th>\n      <th>parsing_entity</th>\n      <th>dissinet_repository_url</th>\n      <th>spreadsheet_id</th>\n      <th>sheet_name</th>\n      <th>note</th>\n      <th>editor</th>\n      <th>parsing_rows_explained</th>\n      <th>dissinet_respository_url</th>\n      <th>origin</th>\n    </tr>\n  </thead>\n  <tbody>\n    <tr>\n      <th>134</th>\n      <td>1afca8bb-aadb-478e-a346-b96be9ae05b2</td>\n      <td>Douais, 1900</td>\n      <td>NaN</td>\n      <td>NaN</td>\n      <td>NaN</td>\n      <td>NaN</td>\n      <td>NaN</td>\n      <td>NaN</td>\n      <td>NaN</td>\n      <td>NaN</td>\n      <td>...</td>\n      <td>NaN</td>\n      <td>NaN</td>\n      <td>NaN</td>\n      <td>NaN</td>\n      <td>NaN</td>\n      <td>NaN</td>\n      <td>NaN</td>\n      <td>NaN</td>\n      <td>https://www.zotero.org/groups/446972/david_zbi...</td>\n      <td>special C1188&gt;:edition_1Douais, 1900|https://w...</td>\n    </tr>\n    <tr>\n      <th>151</th>\n      <td>0f32b8b0-9295-494f-9d06-d28004b78804</td>\n      <td>Douais, 1900</td>\n      <td>NaN</td>\n      <td>NaN</td>\n      <td>NaN</td>\n      <td>NaN</td>\n      <td>NaN</td>\n      <td>NaN</td>\n      <td>NaN</td>\n      <td>NaN</td>\n      <td>...</td>\n      <td>NaN</td>\n      <td>NaN</td>\n      <td>NaN</td>\n      <td>NaN</td>\n      <td>NaN</td>\n      <td>NaN</td>\n      <td>NaN</td>\n      <td>NaN</td>\n      <td>https://www.zotero.org/groups/446972/david_zbi...</td>\n      <td>special C1188&gt;:edition_2Douais, 1900|https://w...</td>\n    </tr>\n    <tr>\n      <th>164</th>\n      <td>08e99be1-5227-49eb-aa4d-4e936e3cbd00</td>\n      <td>Douais, 1900</td>\n      <td>NaN</td>\n      <td>NaN</td>\n      <td>NaN</td>\n      <td>NaN</td>\n      <td>NaN</td>\n      <td>NaN</td>\n      <td>NaN</td>\n      <td>NaN</td>\n      <td>...</td>\n      <td>NaN</td>\n      <td>NaN</td>\n      <td>NaN</td>\n      <td>NaN</td>\n      <td>NaN</td>\n      <td>NaN</td>\n      <td>NaN</td>\n      <td>NaN</td>\n      <td>https://www.zotero.org/groups/446972/david_zbi...</td>\n      <td>special C1188&gt;:edition_1Douais, 1900|https://w...</td>\n    </tr>\n    <tr>\n      <th>165</th>\n      <td>90b15e22-bfd6-4c3f-b250-f819e5a41a8d</td>\n      <td>Douais, 1900</td>\n      <td>NaN</td>\n      <td>NaN</td>\n      <td>NaN</td>\n      <td>NaN</td>\n      <td>NaN</td>\n      <td>NaN</td>\n      <td>NaN</td>\n      <td>NaN</td>\n      <td>...</td>\n      <td>NaN</td>\n      <td>NaN</td>\n      <td>NaN</td>\n      <td>NaN</td>\n      <td>NaN</td>\n      <td>NaN</td>\n      <td>NaN</td>\n      <td>NaN</td>\n      <td>https://www.zotero.org/groups/446972/david_zbi...</td>\n      <td>special C1188&gt;:edition_1Douais, 1900|https://w...</td>\n    </tr>\n  </tbody>\n</table>\n<p>4 rows × 29 columns</p>\n</div>"
     },
     "execution_count": 246,
     "metadata": {},
     "output_type": "execute_result"
    }
   ],
   "source": [
    "dh.tables['resources'][dh.tables['resources']['label'].str.contains(\"Douais\")]"
   ],
   "metadata": {
    "collapsed": false
   }
  },
  {
   "cell_type": "code",
   "execution_count": 165,
   "outputs": [],
   "source": [
    "# save specific state of the dh object\n",
    "import dill as pickle\n",
    "pickle.dump(dh, open(\"./data/dh.with.meta.canonical-17-1.pickle\",\"wb\"))\n",
    "# saved also ./data/dh.with.meta.canonical.pickle, 13.1. 2022 - theoretically definitive meta entities (texts, actions, manuscripts, resources, concepts) import\n",
    "# saved also ./data/dh.with.meta.canonical-17-1.pickle, 17.1. 2022 - theoretically definitive meta entities (texts, actions, manuscripts, resources, concepts) import, with correct input case area datasets"
   ],
   "metadata": {
    "collapsed": false
   }
  },
  {
   "cell_type": "code",
   "execution_count": 332,
   "outputs": [],
   "source": [
    "# load specific state of the dh object\n",
    "import dill as pickle\n",
    "dh = pickle.load(open( \"./data/dh.with.meta.canonical-17-1.pickle\", \"rb\" ))    # contains errors in bologna ids :("
   ],
   "metadata": {
    "collapsed": false
   }
  },
  {
   "cell_type": "code",
   "execution_count": 333,
   "outputs": [],
   "source": [
    "for key, table in tables.items():\n",
    "  rewrite = ['texts','resources','actions','conpcets', 'manuscripts']\n",
    "\n",
    "  if \"_\" in key or key in rewrite:\n",
    "    dh.tables[key] = tables[key]\n",
    "    dh.header_infos[key] = header_infos[key]"
   ],
   "metadata": {
    "collapsed": false
   }
  },
  {
   "cell_type": "code",
   "execution_count": 334,
   "outputs": [
    {
     "name": "stdout",
     "output_type": "stream",
     "text": [
      "############## texts\n",
      "Data group: texts\n",
      "############## texts 0.\n",
      "############## manuscripts\n",
      "Data group: manuscripts\n",
      "############## manuscripts 0.\n",
      "############## resources\n",
      "Data group: resources\n",
      "############## resources 0.\n",
      "############## actions\n",
      "Data group: actions\n",
      "############## actions 0.\n",
      "############## concepts\n",
      "Data group: concepts\n",
      "############## concepts 0.\n",
      "############## R0006_persons\n",
      "Data group: persons\n",
      "############## R0006_persons 0.\n",
      "############## R0007_locations\n",
      "Data group: locations\n",
      "############## R0007_locations 0.\n",
      "############## R0008_events\n",
      "Data group: events\n",
      "############## R0008_events 0.\n",
      "############## R0075_persons\n",
      "Data group: persons\n",
      "############## R0075_persons 0.\n",
      "############## R0035_locations\n",
      "Data group: locations\n",
      "############## R0035_locations 0.\n",
      "############## R0083_events\n",
      "Data group: events\n",
      "############## R0083_events 0.\n",
      "############## R0105_groups\n",
      "Data group: groups\n",
      "############## R0105_groups 0.\n",
      "############## R0030_persons\n",
      "Data group: persons\n",
      "############## R0030_persons 0.\n",
      "############## R0087_groups\n",
      "Data group: groups\n",
      "############## R0087_groups 0.\n",
      "############## R0031_locations\n",
      "Data group: locations\n",
      "############## R0031_locations 0.\n",
      "############## R0082_events\n",
      "Data group: events\n",
      "############## R0082_events 0.\n",
      "############## R0039_persons\n",
      "Data group: persons\n",
      "############## R0039_persons 0.\n",
      "############## R0040_locations\n",
      "Data group: locations\n",
      "############## R0040_locations 0.\n",
      "############## R0079_events\n",
      "Data group: events\n",
      "############## R0079_events 0.\n",
      "############## R0076_persons\n",
      "Data group: persons\n",
      "############## R0076_persons 0.\n",
      "############## R0074_locations\n",
      "Data group: locations\n",
      "############## R0074_locations 0.\n",
      "############## R0104_events\n",
      "Data group: events\n",
      "############## R0104_events 0.\n",
      "############## values\n",
      "############## locations\n",
      "############## events\n",
      "############## props\n",
      "############## relations\n",
      "There were 0 errors in total.\n"
     ]
    }
   ],
   "source": [
    "dh.checkIDs(fix_difference=True)"
   ],
   "metadata": {
    "collapsed": false
   }
  },
  {
   "cell_type": "code",
   "source": [
    "dh.reset_generated_collection()"
   ],
   "metadata": {
    "collapsed": false,
    "ExecuteTime": {
     "end_time": "2024-06-01T12:10:56.010228Z",
     "start_time": "2024-06-01T12:10:52.839088Z"
    }
   },
   "outputs": [
    {
     "name": "stderr",
     "output_type": "stream",
     "text": [
      "2024-06-01 14:10:52,933 INFO Class IActant available.\n",
      "2024-06-01 14:10:52,934 INFO Class IAction available.\n",
      "2024-06-01 14:10:52,935 INFO Class IAudit available.\n",
      "2024-06-01 14:10:52,936 INFO Class IConcept available.\n",
      "2024-06-01 14:10:52,937 INFO Class IEntity available.\n",
      "2024-06-01 14:10:52,938 INFO Class IEvent available.\n",
      "2024-06-01 14:10:52,939 INFO Class IGroup available.\n",
      "2024-06-01 14:10:52,940 INFO Class ILabel available.\n",
      "2024-06-01 14:10:52,941 INFO Class ILocation available.\n",
      "2024-06-01 14:10:52,942 INFO Class IObject available.\n",
      "2024-06-01 14:10:52,943 INFO Class IPerson available.\n",
      "2024-06-01 14:10:52,943 INFO Class IProp available.\n",
      "2024-06-01 14:10:52,944 INFO Class IReference available.\n",
      "2024-06-01 14:10:52,945 INFO Class IResource available.\n",
      "2024-06-01 14:10:52,946 INFO Class IStatement available.\n",
      "2024-06-01 14:10:52,947 INFO Class ITerritory available.\n",
      "2024-06-01 14:10:52,948 INFO Class IUser available.\n",
      "2024-06-01 14:10:52,949 INFO Class IValue available.\n",
      "2024-06-01 14:10:52,950 INFO Class Relation.IActant1Semantics available.\n",
      "2024-06-01 14:10:52,950 INFO Class Relation.IActant2Semantics available.\n",
      "2024-06-01 14:10:52,951 INFO Class Relation.IActionEventEquivalent available.\n",
      "2024-06-01 14:10:52,952 INFO Class Relation.IAntonym available.\n",
      "2024-06-01 14:10:52,952 INFO Class Relation.IClassification available.\n",
      "2024-06-01 14:10:52,953 INFO Class Relation.IHolonym available.\n",
      "2024-06-01 14:10:52,954 INFO Class Relation.IIdentification available.\n",
      "2024-06-01 14:10:52,954 INFO Class Relation.IImplication available.\n",
      "2024-06-01 14:10:52,955 INFO Class Relation.IPropertyReciprocal available.\n",
      "2024-06-01 14:10:52,956 INFO Class Relation.IRelated available.\n",
      "2024-06-01 14:10:52,956 INFO Class Relation.ISubjectActant1Reciprocal available.\n",
      "2024-06-01 14:10:52,957 INFO Class Relation.ISubjectSemantics available.\n",
      "2024-06-01 14:10:52,958 INFO Class Relation.ISuperclass available.\n",
      "2024-06-01 14:10:52,959 INFO Class Relation.ISuperordinateLocation available.\n",
      "2024-06-01 14:10:52,960 INFO Class Relation.ISynonym available.\n"
     ]
    }
   ],
   "execution_count": 27
  },
  {
   "cell_type": "code",
   "source": [
    "logger.info(f\"Start\")\n",
    "# Guglielmites\n",
    "# cp = inkimplib.ParseController(entity_list=[ 'R0006_persons', 'R0007_locations', 'R0008_events']) # ,'R0008_events'\n",
    "# 'R0006_persons',\n",
    "\n",
    "# Castellario\n",
    "# cp = inkimplib.ParseController(entity_list=['R0075_persons', 'R0105_groups', 'R0035_locations','R0083_events'])\n",
    "\n",
    "# Bologna\n",
    "# cp = inkimplib2.ParseController(entity_list=['R0030_persons','R0082_events','R0031_locations']) # 'R0030_persons','R0031_locations',\n",
    "\n",
    "# Carcassone # R0040_locations, R0039_persons\n",
    "# cp = inkimplib.ParseController(entity_list=['R0039_persons', 'R0040_locations', 'R0079_events'])\n",
    "\n",
    "#Casasco\n",
    "# cp = inkimplib.ParseController(entity_list=['R0076_persons', 'R0074_locations','R0104_events'])\n",
    "\n",
    "# all\n",
    "# withou Bologna, 'R0030_persons', 'R0087_groups', 'R0031_locations','R0082_events',\n",
    "# cp = inkimplib.ParseController(entity_list=['R0006_persons', 'R0007_locations','R0008_events', 'R0075_persons', 'R0105_groups', 'R0035_locations','R0083_events',  'R0039_persons', 'R0040_locations', 'R0079_events','R0076_persons', 'R0074_locations','R0104_events'])\n",
    "\n",
    "#cp = inkimplib.ParseController(entity_list=['texts','actions', 'manuscripts','resources','concepts','R0006_persons', 'R0007_locations','R0008_events', 'R0075_persons', 'R0105_groups', 'R0035_locations','R0083_events',  'R0039_persons', 'R0040_locations', 'R0079_events','R0076_persons', 'R0074_locations','R0104_events','R0030_persons', 'R0087_groups', 'R0031_locations','R0082_events'], dh=dh)\n",
    "\n",
    "# full REIMPORT parsing batch\n",
    "#cp = inkimplib2.ParseController(entity_list=['texts','actions', 'manuscripts','resources','concepts','R0031_locations','R0030_persons','R0082_events'], dh=dh) \n",
    "cp = inkimplib2.ParseController(entity_list=['R0031_locations','R0030_persons','R0082_events'], dh=dh) \n",
    "\n",
    "cp.parse()\n",
    "logger.info(f\"End\")"
   ],
   "metadata": {
    "collapsed": false,
    "ExecuteTime": {
     "end_time": "2024-06-01T18:26:44.211309Z",
     "start_time": "2024-06-01T18:18:02.255326Z"
    }
   },
   "outputs": [
    {
     "name": "stderr",
     "output_type": "stream",
     "text": [
      "2024-06-01 20:18:02,344 INFO Start\n",
      "2024-06-01 20:18:02,347 INFO R0031_LOCATIONS Uncertain parsing instructions in 0 columns: .\n",
      "2024-06-01 20:18:02,372 INFO R0031_LOCATIONS 31 columns have been dropped (discard:31, unknown:0: []). Table now has 26 columns, inside:8,propvalue:2, special:4, proptype: 1, proptype_2nd: 1, dependent:0, reference_part:1. Originally 57 columns.\n",
      "2024-06-01 20:18:02,374 INFO R0030_PERSONS Uncertain parsing instructions in 0 columns: .\n",
      "2024-06-01 20:18:02,478 INFO R0030_PERSONS 52 columns have been dropped (discard:52, unknown:0: []). Table now has 41 columns, inside:6,propvalue:26, special:1, proptype: 5, proptype_2nd: 1, dependent:0, reference_part:1. Originally 93 columns.\n",
      "2024-06-01 20:18:02,481 INFO R0082_EVENTS Uncertain parsing instructions in 0 columns: .\n",
      "2024-06-01 20:18:02,518 INFO R0082_EVENTS 36 columns have been dropped (discard:35, unknown:1: ['liber_securitatum (auto accusations tumult  13.05.1299)']). Table now has 34 columns, inside:6,propvalue:12, special:2, proptype: 3, proptype_2nd: 0, dependent:0, reference_part:1. Originally 70 columns.\n",
      "2024-06-01 20:18:02,534 INFO Starting to parse R0031_locations.\n",
      "2024-06-01 20:19:32,115 INFO Starting to parse R0030_persons.\n",
      "2024-06-01 20:22:32,801 INFO Starting to parse R0082_events.\n",
      "2024-06-01 20:22:59,646 INFO About ??? : There is ??? in column note in row 102.\n",
      "2024-06-01 20:26:44,196 INFO End\n"
     ]
    }
   ],
   "execution_count": 60
  },
  {
   "cell_type": "code",
   "source": [
    "# save to resulted dh\n",
    "pickle.dump(dh, open(\"./data/2024/dh.import-reimport-bologna.pickle\",\"wb\"))"
   ],
   "metadata": {
    "collapsed": false,
    "ExecuteTime": {
     "end_time": "2024-06-01T18:30:26.220654Z",
     "start_time": "2024-06-01T18:30:09.652401Z"
    }
   },
   "outputs": [],
   "execution_count": 61
  },
  {
   "cell_type": "code",
   "source": [
    "pd.DataFrame(dh.additional_entities)"
   ],
   "metadata": {
    "collapsed": false,
    "ExecuteTime": {
     "end_time": "2024-06-01T20:05:03.290480Z",
     "start_time": "2024-06-01T20:05:02.789535Z"
    }
   },
   "outputs": [
    {
     "data": {
      "text/plain": [
       "      class                                    id  \\\n",
       "0         L  a9afebca-b6fd-43eb-beaf-838a469e03e9   \n",
       "1         L  d41a087f-5ffc-436d-aeaf-2435f3a50145   \n",
       "2         L  0c02d7da-6971-41f9-96bc-d2a8ca0c1d8d   \n",
       "3         V  d5f1ee4e-6a5e-45da-aba4-b279d0f2ae8f   \n",
       "4         L  ff591ed3-b31f-47dc-989d-b3b189e80127   \n",
       "...     ...                                   ...   \n",
       "11692     T  9dc9445e-7e7e-43c0-a96a-cd27c03fb32c   \n",
       "11693     V  8715e886-8529-4c27-98a9-b4d550d05b98   \n",
       "11694     V  f410cd30-0ee0-4506-ac7d-280427cab603   \n",
       "11695     T  d589fe1c-bdf6-44a1-9124-3c5f88eae73e   \n",
       "11696     V  fdb18edf-6c7e-4509-af8e-bc7133978fbe   \n",
       "\n",
       "                                                   label language detail  \\\n",
       "0                                                Agnanum      lat          \n",
       "1                                                Aglanum      lat          \n",
       "2                                                 Agnana      ita          \n",
       "3                                                    488                   \n",
       "4                                                 Agnana      ita          \n",
       "...                                                  ...      ...    ...   \n",
       "11692  Sentenza assolutoria di Benvenutus, rector S.P...      ita          \n",
       "11693                                         1309-10-16                   \n",
       "11694                                            713-714                   \n",
       "11695          Sentenza assolutoria di Petrus Mutinensis      ita          \n",
       "11696                                         1309-12-11                   \n",
       "\n",
       "                                                    data  \\\n",
       "0                            {'logicalType': 'definite'}   \n",
       "1                            {'logicalType': 'definite'}   \n",
       "2                                   {'logicalType': '1'}   \n",
       "3                                   {'logicalType': '1'}   \n",
       "4                                   {'logicalType': '1'}   \n",
       "...                                                  ...   \n",
       "11692  {'parent': {'territoryId': '75a452d6-81c9-476f...   \n",
       "11693                               {'logicalType': '1'}   \n",
       "11694                               {'logicalType': '1'}   \n",
       "11695  {'parent': {'territoryId': '75a452d6-81c9-476f...   \n",
       "11696                               {'logicalType': '1'}   \n",
       "\n",
       "                                                   props  \\\n",
       "0                                                     []   \n",
       "1                                                     []   \n",
       "2                                                     []   \n",
       "3                                                     []   \n",
       "4                                                     []   \n",
       "...                                                  ...   \n",
       "11692  [{'bundleEnd': False, 'bundleStart': False, 'c...   \n",
       "11693                                                 []   \n",
       "11694                                                 []   \n",
       "11695  [{'bundleEnd': False, 'bundleStart': False, 'c...   \n",
       "11696                                                 []   \n",
       "\n",
       "                                                   notes status references  \\\n",
       "0      [Import batch [ReImport 06/2024] 2024-06-01 20...      1         []   \n",
       "1      [Import batch [ReImport 06/2024] 2024-06-01 20...      1         []   \n",
       "2      [Import batch [ReImport 06/2024] 2024-06-01 20...      1         []   \n",
       "3      [Import batch [ReImport 06/2024] 2024-06-01 20...      1         []   \n",
       "4      [Import batch [ReImport 06/2024] 2024-06-01 20...      1         []   \n",
       "...                                                  ...    ...        ...   \n",
       "11692  [Import batch [ReImport 06/2024] 2024-06-01 20...      1         []   \n",
       "11693  [Import batch [ReImport 06/2024] 2024-06-01 20...      1         []   \n",
       "11694  [Import batch [ReImport 06/2024] 2024-06-01 20...      1         []   \n",
       "11695  [Import batch [ReImport 06/2024] 2024-06-01 20...      1         []   \n",
       "11696  [Import batch [ReImport 06/2024] 2024-06-01 20...      1         []   \n",
       "\n",
       "         legacyId  \n",
       "0                  \n",
       "1                  \n",
       "2                  \n",
       "3             NaN  \n",
       "4                  \n",
       "...           ...  \n",
       "11692  T77-19-921  \n",
       "11693         NaN  \n",
       "11694         NaN  \n",
       "11695  T77-19-922  \n",
       "11696         NaN  \n",
       "\n",
       "[11697 rows x 11 columns]"
      ],
      "text/html": [
       "<div>\n",
       "<style scoped>\n",
       "    .dataframe tbody tr th:only-of-type {\n",
       "        vertical-align: middle;\n",
       "    }\n",
       "\n",
       "    .dataframe tbody tr th {\n",
       "        vertical-align: top;\n",
       "    }\n",
       "\n",
       "    .dataframe thead th {\n",
       "        text-align: right;\n",
       "    }\n",
       "</style>\n",
       "<table border=\"1\" class=\"dataframe\">\n",
       "  <thead>\n",
       "    <tr style=\"text-align: right;\">\n",
       "      <th></th>\n",
       "      <th>class</th>\n",
       "      <th>id</th>\n",
       "      <th>label</th>\n",
       "      <th>language</th>\n",
       "      <th>detail</th>\n",
       "      <th>data</th>\n",
       "      <th>props</th>\n",
       "      <th>notes</th>\n",
       "      <th>status</th>\n",
       "      <th>references</th>\n",
       "      <th>legacyId</th>\n",
       "    </tr>\n",
       "  </thead>\n",
       "  <tbody>\n",
       "    <tr>\n",
       "      <th>0</th>\n",
       "      <td>L</td>\n",
       "      <td>a9afebca-b6fd-43eb-beaf-838a469e03e9</td>\n",
       "      <td>Agnanum</td>\n",
       "      <td>lat</td>\n",
       "      <td></td>\n",
       "      <td>{'logicalType': 'definite'}</td>\n",
       "      <td>[]</td>\n",
       "      <td>[Import batch [ReImport 06/2024] 2024-06-01 20...</td>\n",
       "      <td>1</td>\n",
       "      <td>[]</td>\n",
       "      <td></td>\n",
       "    </tr>\n",
       "    <tr>\n",
       "      <th>1</th>\n",
       "      <td>L</td>\n",
       "      <td>d41a087f-5ffc-436d-aeaf-2435f3a50145</td>\n",
       "      <td>Aglanum</td>\n",
       "      <td>lat</td>\n",
       "      <td></td>\n",
       "      <td>{'logicalType': 'definite'}</td>\n",
       "      <td>[]</td>\n",
       "      <td>[Import batch [ReImport 06/2024] 2024-06-01 20...</td>\n",
       "      <td>1</td>\n",
       "      <td>[]</td>\n",
       "      <td></td>\n",
       "    </tr>\n",
       "    <tr>\n",
       "      <th>2</th>\n",
       "      <td>L</td>\n",
       "      <td>0c02d7da-6971-41f9-96bc-d2a8ca0c1d8d</td>\n",
       "      <td>Agnana</td>\n",
       "      <td>ita</td>\n",
       "      <td></td>\n",
       "      <td>{'logicalType': '1'}</td>\n",
       "      <td>[]</td>\n",
       "      <td>[Import batch [ReImport 06/2024] 2024-06-01 20...</td>\n",
       "      <td>1</td>\n",
       "      <td>[]</td>\n",
       "      <td></td>\n",
       "    </tr>\n",
       "    <tr>\n",
       "      <th>3</th>\n",
       "      <td>V</td>\n",
       "      <td>d5f1ee4e-6a5e-45da-aba4-b279d0f2ae8f</td>\n",
       "      <td>488</td>\n",
       "      <td></td>\n",
       "      <td></td>\n",
       "      <td>{'logicalType': '1'}</td>\n",
       "      <td>[]</td>\n",
       "      <td>[Import batch [ReImport 06/2024] 2024-06-01 20...</td>\n",
       "      <td>1</td>\n",
       "      <td>[]</td>\n",
       "      <td>NaN</td>\n",
       "    </tr>\n",
       "    <tr>\n",
       "      <th>4</th>\n",
       "      <td>L</td>\n",
       "      <td>ff591ed3-b31f-47dc-989d-b3b189e80127</td>\n",
       "      <td>Agnana</td>\n",
       "      <td>ita</td>\n",
       "      <td></td>\n",
       "      <td>{'logicalType': '1'}</td>\n",
       "      <td>[]</td>\n",
       "      <td>[Import batch [ReImport 06/2024] 2024-06-01 20...</td>\n",
       "      <td>1</td>\n",
       "      <td>[]</td>\n",
       "      <td></td>\n",
       "    </tr>\n",
       "    <tr>\n",
       "      <th>...</th>\n",
       "      <td>...</td>\n",
       "      <td>...</td>\n",
       "      <td>...</td>\n",
       "      <td>...</td>\n",
       "      <td>...</td>\n",
       "      <td>...</td>\n",
       "      <td>...</td>\n",
       "      <td>...</td>\n",
       "      <td>...</td>\n",
       "      <td>...</td>\n",
       "      <td>...</td>\n",
       "    </tr>\n",
       "    <tr>\n",
       "      <th>11692</th>\n",
       "      <td>T</td>\n",
       "      <td>9dc9445e-7e7e-43c0-a96a-cd27c03fb32c</td>\n",
       "      <td>Sentenza assolutoria di Benvenutus, rector S.P...</td>\n",
       "      <td>ita</td>\n",
       "      <td></td>\n",
       "      <td>{'parent': {'territoryId': '75a452d6-81c9-476f...</td>\n",
       "      <td>[{'bundleEnd': False, 'bundleStart': False, 'c...</td>\n",
       "      <td>[Import batch [ReImport 06/2024] 2024-06-01 20...</td>\n",
       "      <td>1</td>\n",
       "      <td>[]</td>\n",
       "      <td>T77-19-921</td>\n",
       "    </tr>\n",
       "    <tr>\n",
       "      <th>11693</th>\n",
       "      <td>V</td>\n",
       "      <td>8715e886-8529-4c27-98a9-b4d550d05b98</td>\n",
       "      <td>1309-10-16</td>\n",
       "      <td></td>\n",
       "      <td></td>\n",
       "      <td>{'logicalType': '1'}</td>\n",
       "      <td>[]</td>\n",
       "      <td>[Import batch [ReImport 06/2024] 2024-06-01 20...</td>\n",
       "      <td>1</td>\n",
       "      <td>[]</td>\n",
       "      <td>NaN</td>\n",
       "    </tr>\n",
       "    <tr>\n",
       "      <th>11694</th>\n",
       "      <td>V</td>\n",
       "      <td>f410cd30-0ee0-4506-ac7d-280427cab603</td>\n",
       "      <td>713-714</td>\n",
       "      <td></td>\n",
       "      <td></td>\n",
       "      <td>{'logicalType': '1'}</td>\n",
       "      <td>[]</td>\n",
       "      <td>[Import batch [ReImport 06/2024] 2024-06-01 20...</td>\n",
       "      <td>1</td>\n",
       "      <td>[]</td>\n",
       "      <td>NaN</td>\n",
       "    </tr>\n",
       "    <tr>\n",
       "      <th>11695</th>\n",
       "      <td>T</td>\n",
       "      <td>d589fe1c-bdf6-44a1-9124-3c5f88eae73e</td>\n",
       "      <td>Sentenza assolutoria di Petrus Mutinensis</td>\n",
       "      <td>ita</td>\n",
       "      <td></td>\n",
       "      <td>{'parent': {'territoryId': '75a452d6-81c9-476f...</td>\n",
       "      <td>[{'bundleEnd': False, 'bundleStart': False, 'c...</td>\n",
       "      <td>[Import batch [ReImport 06/2024] 2024-06-01 20...</td>\n",
       "      <td>1</td>\n",
       "      <td>[]</td>\n",
       "      <td>T77-19-922</td>\n",
       "    </tr>\n",
       "    <tr>\n",
       "      <th>11696</th>\n",
       "      <td>V</td>\n",
       "      <td>fdb18edf-6c7e-4509-af8e-bc7133978fbe</td>\n",
       "      <td>1309-12-11</td>\n",
       "      <td></td>\n",
       "      <td></td>\n",
       "      <td>{'logicalType': '1'}</td>\n",
       "      <td>[]</td>\n",
       "      <td>[Import batch [ReImport 06/2024] 2024-06-01 20...</td>\n",
       "      <td>1</td>\n",
       "      <td>[]</td>\n",
       "      <td>NaN</td>\n",
       "    </tr>\n",
       "  </tbody>\n",
       "</table>\n",
       "<p>11697 rows × 11 columns</p>\n",
       "</div>"
      ]
     },
     "execution_count": 64,
     "metadata": {},
     "output_type": "execute_result"
    }
   ],
   "execution_count": 64
  },
  {
   "cell_type": "code",
   "execution_count": null,
   "outputs": [],
   "source": [
    "# cp = ParseController(entity_list=['texts','actions', 'manuscripts','resources','concepts','R0006_persons', 'R0007_locations','R0008_events'])\n",
    "# cp = ParseController(entity_list=['texts','actions', 'manuscripts','resources','concepts','R0006_persons', 'R0007_locations','R0008_events',\"R0075_persons\",\"R0035_locations\",\"R0083_events\"])\n",
    "\n",
    "# cp = ParseController(entity_list=['texts','actions', 'manuscripts','resources','concepts','R0006_persons', 'R0007_locations','R0008_events',\"R0075_persons\",\"R0035_locations\",\"R0083_events\"], existing_parser=cp, reparse_entity_list=['R0035_locations'])\n",
    "\n",
    "# cp = ParseController(entity_list=['texts', \"concepts\", \"R0008_events\"])\n",
    "#cp = ParseController(entity_list=[ \"R0007_locations\"])\n",
    "# , 'R0006_persons', 'R0007_locations'\n",
    "# cp = ParseController(entity_list=['texts','manuscripts','resources','concepts','actions','R0006_persons', 'R0007_locations']) # , 'R0006_person \\as', 'R0007_locations'\n",
    "# cp = ParseController(entity_list=['R0006_persons', 'R0007_locations'])\n",
    "#cp = ParseController(entity_list=['R0008_events'])\n",
    "#cp = ParseController(entity_list=['actions','concepts'])"
   ],
   "metadata": {
    "collapsed": false
   }
  },
  {
   "cell_type": "markdown",
   "source": [
    "# After parsing"
   ],
   "metadata": {
    "collapsed": false
   }
  },
  {
   "cell_type": "markdown",
   "source": [
    "### Merging reciprocal relation records\n",
    "Antonym, PropertyReciprocal, SubjectActant1Reciprocal, Synonym, Related"
   ],
   "metadata": {
    "collapsed": false
   }
  },
  {
   "cell_type": "code",
   "source": [
    "# ANT, PRR, SAR, SYN, REL\n",
    "def getE(eIds):\n",
    "    eids = eIds.copy() # has to be copy, otherwise it modifies original relation_records list-arrays\n",
    "    eids.sort()\n",
    "    return eids[0]+\"!\"+eids[1]\n",
    "\n",
    "rdf = pd.DataFrame(dh.relation_records)\n",
    "rdf['eids'] = rdf['entityIds'].apply(lambda row:getE(row))\n",
    "removeRR  = rdf[rdf[['type','eids']].duplicated()].sort_values('eids')['id'].to_list()\n",
    "removeRR"
   ],
   "metadata": {
    "collapsed": false,
    "ExecuteTime": {
     "end_time": "2024-06-01T20:05:38.023972Z",
     "start_time": "2024-06-01T20:05:37.897392Z"
    }
   },
   "outputs": [
    {
     "data": {
      "text/plain": [
       "['059a0a8c-78e6-4e36-8c90-b3c5d8db3b9d',\n",
       " '2c208efe-52ac-4aa5-889e-5f70402a114b',\n",
       " '94779b91-e156-4669-994a-d213bfd8c6a2',\n",
       " '2f29f187-beb9-483b-9e15-e76b80e2ff36']"
      ]
     },
     "execution_count": 65,
     "metadata": {},
     "output_type": "execute_result"
    }
   ],
   "execution_count": 65
  },
  {
   "cell_type": "code",
   "source": [
    "relation_records_cleaned = []\n",
    "for item in dh.relation_records:\n",
    "    if item['id'] not in removeRR:\n",
    "        relation_records_cleaned.append(item)"
   ],
   "metadata": {
    "collapsed": false,
    "ExecuteTime": {
     "end_time": "2024-06-01T20:05:40.465191Z",
     "start_time": "2024-06-01T20:05:40.358052Z"
    }
   },
   "outputs": [],
   "execution_count": 66
  },
  {
   "cell_type": "code",
   "source": [
    "len(dh.relation_records), len(relation_records_cleaned)"
   ],
   "metadata": {
    "collapsed": false,
    "ExecuteTime": {
     "end_time": "2024-06-01T20:05:42.371877Z",
     "start_time": "2024-06-01T20:05:42.270360Z"
    }
   },
   "outputs": [
    {
     "data": {
      "text/plain": [
       "(5712, 5708)"
      ]
     },
     "execution_count": 67,
     "metadata": {},
     "output_type": "execute_result"
    }
   ],
   "execution_count": 67
  },
  {
   "cell_type": "code",
   "execution_count": 40,
   "outputs": [
    {
     "name": "stdout",
     "output_type": "stream",
     "text": [
      "{'id': 'dbb07e20-a1c6-49a0-a47e-dfde606f8e88', 'type': 'SCL', 'entityIds': ['7db804db-fa2d-4624-810d-b3440e2f4001', '479cc4f3-b877-44a5-a0dd-c6a7cc813163']}\n",
      "1\n"
     ]
    }
   ],
   "source": [
    "# check for relations entityIds\n",
    "# a=0\n",
    "# for item in relation_records_cleaned:\n",
    "#     #if \"81e38bb2-6f84-4b30-acac-b6931929dbaf\" == item['id']:\n",
    "#     if \"7db804db-fa2d-4624-810d-b3440e2f4001\" in item['entityIds'][0] and item['type']==\"SCL\":\n",
    "#         a += 1\n",
    "#         print(item)\n",
    "# print(a)"
   ],
   "metadata": {
    "collapsed": false
   }
  },
  {
   "cell_type": "code",
   "source": [
    "# test\n",
    "\n",
    "dh.tables['resources'][dh.tables['resources']['label'].str.contains(\"Paris\")]"
   ],
   "metadata": {
    "collapsed": false,
    "ExecuteTime": {
     "end_time": "2024-05-31T18:48:49.399536Z",
     "start_time": "2024-05-31T18:48:49.248056Z"
    }
   },
   "outputs": [
    {
     "data": {
      "text/plain": [
       "                                       id  \\\n",
       "132  07d993a6-3711-4343-b337-730baab2e492   \n",
       "135  b6f36455-1cf5-45cd-ac82-f432c6a61be4   \n",
       "138  6f30d094-dd08-40b0-8596-d403ce16167e   \n",
       "141  6f6471eb-1b16-47f6-ac64-b8bf7cba6088   \n",
       "192  2dbe0db5-a805-48b1-a6b7-7e3bb0b3e812   \n",
       "193  62fa7ea3-2dc6-465c-af0a-fccd0e6a3320   \n",
       "194  4f0926cb-0530-47b6-a46c-fc304e1c3bd0   \n",
       "195  82980f47-8f05-41bd-aa3f-c24620fdc96f   \n",
       "197  03386182-e196-4f0a-99e1-28d212cd9a26   \n",
       "199  ff23b963-2379-4354-884e-f50718033f56   \n",
       "201  04944451-d6c6-4250-a7e3-95aa41b3ea65   \n",
       "202  819d6983-8cce-4165-aa19-fc96856d3dc2   \n",
       "\n",
       "                                                 label legacyId ddb1_uuid  \\\n",
       "132  Johannes monachus ad Olibam in: André de Fleur...      NaN       NaN   \n",
       "135  Adémar de Chabannes, Chronique, ed. J. Chavano...      NaN       NaN   \n",
       "138  André de Fleury, \"Vie de Gauzlin, abbé de Fleu...      NaN       NaN   \n",
       "141  Paul de Saint-Père de Chartres, \"Monasterii Sa...      NaN       NaN   \n",
       "192  Reproduction of Paris, Bibliothèque nationale ...      NaN       NaN   \n",
       "193  Reproduction of Paris, Bibliothèque nationale ...      NaN       NaN   \n",
       "194  Reproduction of Paris, Bibliothèque nationale ...      NaN       NaN   \n",
       "195  Reproduction of Paris, Bibliothèque nationale ...      NaN       NaN   \n",
       "197  Reproduction of Paris, Bibliothèque nationale ...      NaN       NaN   \n",
       "199  Reproduction of Paris, Bibliothèque nationale ...      NaN       NaN   \n",
       "201  Reproduction of Paris, Bibliothèque nationale ...      NaN       NaN   \n",
       "202  Reproduction of Paris, Bibliothèque nationale ...      NaN       NaN   \n",
       "\n",
       "    detail label_language for_migration_to_ddb1 reason_for_migration_decision  \\\n",
       "132    NaN        English                   NaN                           NaN   \n",
       "135    NaN        English                   NaN                           NaN   \n",
       "138    NaN        English                   NaN                           NaN   \n",
       "141    NaN        English                   NaN                           NaN   \n",
       "192    NaN        English                   NaN                           NaN   \n",
       "193    NaN        English                   NaN                           NaN   \n",
       "194    NaN        English                   NaN                           NaN   \n",
       "195    NaN        English                   NaN                           NaN   \n",
       "197    NaN        English                   NaN                           NaN   \n",
       "199    NaN        English                   NaN                           NaN   \n",
       "201    NaN        English                   NaN                           NaN   \n",
       "202    NaN        English                   NaN                           NaN   \n",
       "\n",
       "    do_before_migration check_immediately_after_migration  ...  \\\n",
       "132                 NaN                               NaN  ...   \n",
       "135                 NaN                               NaN  ...   \n",
       "138                 NaN                               NaN  ...   \n",
       "141                 NaN                               NaN  ...   \n",
       "192                 NaN                               NaN  ...   \n",
       "193                 NaN                               NaN  ...   \n",
       "194                 NaN                               NaN  ...   \n",
       "195                 NaN                               NaN  ...   \n",
       "197                 NaN                               NaN  ...   \n",
       "199                 NaN                               NaN  ...   \n",
       "201                 NaN                               NaN  ...   \n",
       "202                 NaN                               NaN  ...   \n",
       "\n",
       "    component_label parsing_type parsing_entity  \\\n",
       "132             NaN          NaN            NaN   \n",
       "135             NaN          NaN            NaN   \n",
       "138             NaN          NaN            NaN   \n",
       "141             NaN          NaN            NaN   \n",
       "192             NaN          NaN            NaN   \n",
       "193             NaN          NaN            NaN   \n",
       "194             NaN          NaN            NaN   \n",
       "195             NaN          NaN            NaN   \n",
       "197             NaN          NaN            NaN   \n",
       "199             NaN          NaN            NaN   \n",
       "201             NaN          NaN            NaN   \n",
       "202             NaN          NaN            NaN   \n",
       "\n",
       "                               dissinet_repository_url spreadsheet_id  \\\n",
       "132                                                               NaN   \n",
       "135                                                               NaN   \n",
       "138                                                               NaN   \n",
       "141                                                               NaN   \n",
       "192   https://gallica.bnf.fr/ark:/12148/btv1b10035999g            NaN   \n",
       "193   https://gallica.bnf.fr/ark:/12148/btv1b10036000n            NaN   \n",
       "194   https://gallica.bnf.fr/ark:/12148/btv1b100365190            NaN   \n",
       "195   https://gallica.bnf.fr/ark:/12148/btv1b100361092            NaN   \n",
       "197   https://gallica.bnf.fr/ark:/12148/btv1b100338354            NaN   \n",
       "199  https://gallica.bnf.fr/ark:/12148/btv1b5315700...            NaN   \n",
       "201    https://gallica.bnf.fr/ark:/12148/btv1b90680525            NaN   \n",
       "202  https://gallica.bnf.fr/ark:/12148/btv1b9077722...            NaN   \n",
       "\n",
       "    sheet_name note editor parsing_rows_explained  \\\n",
       "132        NaN  NaN    NaN                    NaN   \n",
       "135        NaN  NaN    NaN                    NaN   \n",
       "138        NaN  NaN    NaN                    NaN   \n",
       "141        NaN  NaN    NaN                    NaN   \n",
       "192        NaN  NaN    NaN                    NaN   \n",
       "193        NaN  NaN    NaN                    NaN   \n",
       "194        NaN  NaN    NaN                    NaN   \n",
       "195        NaN  NaN    NaN                    NaN   \n",
       "197        NaN  NaN    NaN                    NaN   \n",
       "199        NaN  NaN    NaN                    NaN   \n",
       "201        NaN  NaN    NaN                    NaN   \n",
       "202        NaN  NaN    NaN                    NaN   \n",
       "\n",
       "                                                origin  \n",
       "132  special C1188>:edition_1Johannes monachus ad O...  \n",
       "135  special C1188>:edition_2Adémar de Chabannes, C...  \n",
       "138  special C1188>:edition_1André de Fleury, \"Vie ...  \n",
       "141  special C1188>:edition_1Paul de Saint-Père de ...  \n",
       "192  Making Resource entity 'link|https://gallica.b...  \n",
       "193  Making Resource entity 'link|https://gallica.b...  \n",
       "194  Making Resource entity 'link|https://gallica.b...  \n",
       "195  Making Resource entity 'link|https://gallica.b...  \n",
       "197  Making Resource entity 'link|https://gallica.b...  \n",
       "199  Making Resource entity 'link|https://gallica.b...  \n",
       "201  Making Resource entity 'link|https://gallica.b...  \n",
       "202  Making Resource entity 'link|https://gallica.b...  \n",
       "\n",
       "[12 rows x 31 columns]"
      ],
      "text/html": [
       "<div>\n",
       "<style scoped>\n",
       "    .dataframe tbody tr th:only-of-type {\n",
       "        vertical-align: middle;\n",
       "    }\n",
       "\n",
       "    .dataframe tbody tr th {\n",
       "        vertical-align: top;\n",
       "    }\n",
       "\n",
       "    .dataframe thead th {\n",
       "        text-align: right;\n",
       "    }\n",
       "</style>\n",
       "<table border=\"1\" class=\"dataframe\">\n",
       "  <thead>\n",
       "    <tr style=\"text-align: right;\">\n",
       "      <th></th>\n",
       "      <th>id</th>\n",
       "      <th>label</th>\n",
       "      <th>legacyId</th>\n",
       "      <th>ddb1_uuid</th>\n",
       "      <th>detail</th>\n",
       "      <th>label_language</th>\n",
       "      <th>for_migration_to_ddb1</th>\n",
       "      <th>reason_for_migration_decision</th>\n",
       "      <th>do_before_migration</th>\n",
       "      <th>check_immediately_after_migration</th>\n",
       "      <th>...</th>\n",
       "      <th>component_label</th>\n",
       "      <th>parsing_type</th>\n",
       "      <th>parsing_entity</th>\n",
       "      <th>dissinet_repository_url</th>\n",
       "      <th>spreadsheet_id</th>\n",
       "      <th>sheet_name</th>\n",
       "      <th>note</th>\n",
       "      <th>editor</th>\n",
       "      <th>parsing_rows_explained</th>\n",
       "      <th>origin</th>\n",
       "    </tr>\n",
       "  </thead>\n",
       "  <tbody>\n",
       "    <tr>\n",
       "      <th>132</th>\n",
       "      <td>07d993a6-3711-4343-b337-730baab2e492</td>\n",
       "      <td>Johannes monachus ad Olibam in: André de Fleur...</td>\n",
       "      <td>NaN</td>\n",
       "      <td>NaN</td>\n",
       "      <td>NaN</td>\n",
       "      <td>English</td>\n",
       "      <td>NaN</td>\n",
       "      <td>NaN</td>\n",
       "      <td>NaN</td>\n",
       "      <td>NaN</td>\n",
       "      <td>...</td>\n",
       "      <td>NaN</td>\n",
       "      <td>NaN</td>\n",
       "      <td>NaN</td>\n",
       "      <td></td>\n",
       "      <td>NaN</td>\n",
       "      <td>NaN</td>\n",
       "      <td>NaN</td>\n",
       "      <td>NaN</td>\n",
       "      <td>NaN</td>\n",
       "      <td>special C1188&gt;:edition_1Johannes monachus ad O...</td>\n",
       "    </tr>\n",
       "    <tr>\n",
       "      <th>135</th>\n",
       "      <td>b6f36455-1cf5-45cd-ac82-f432c6a61be4</td>\n",
       "      <td>Adémar de Chabannes, Chronique, ed. J. Chavano...</td>\n",
       "      <td>NaN</td>\n",
       "      <td>NaN</td>\n",
       "      <td>NaN</td>\n",
       "      <td>English</td>\n",
       "      <td>NaN</td>\n",
       "      <td>NaN</td>\n",
       "      <td>NaN</td>\n",
       "      <td>NaN</td>\n",
       "      <td>...</td>\n",
       "      <td>NaN</td>\n",
       "      <td>NaN</td>\n",
       "      <td>NaN</td>\n",
       "      <td></td>\n",
       "      <td>NaN</td>\n",
       "      <td>NaN</td>\n",
       "      <td>NaN</td>\n",
       "      <td>NaN</td>\n",
       "      <td>NaN</td>\n",
       "      <td>special C1188&gt;:edition_2Adémar de Chabannes, C...</td>\n",
       "    </tr>\n",
       "    <tr>\n",
       "      <th>138</th>\n",
       "      <td>6f30d094-dd08-40b0-8596-d403ce16167e</td>\n",
       "      <td>André de Fleury, \"Vie de Gauzlin, abbé de Fleu...</td>\n",
       "      <td>NaN</td>\n",
       "      <td>NaN</td>\n",
       "      <td>NaN</td>\n",
       "      <td>English</td>\n",
       "      <td>NaN</td>\n",
       "      <td>NaN</td>\n",
       "      <td>NaN</td>\n",
       "      <td>NaN</td>\n",
       "      <td>...</td>\n",
       "      <td>NaN</td>\n",
       "      <td>NaN</td>\n",
       "      <td>NaN</td>\n",
       "      <td></td>\n",
       "      <td>NaN</td>\n",
       "      <td>NaN</td>\n",
       "      <td>NaN</td>\n",
       "      <td>NaN</td>\n",
       "      <td>NaN</td>\n",
       "      <td>special C1188&gt;:edition_1André de Fleury, \"Vie ...</td>\n",
       "    </tr>\n",
       "    <tr>\n",
       "      <th>141</th>\n",
       "      <td>6f6471eb-1b16-47f6-ac64-b8bf7cba6088</td>\n",
       "      <td>Paul de Saint-Père de Chartres, \"Monasterii Sa...</td>\n",
       "      <td>NaN</td>\n",
       "      <td>NaN</td>\n",
       "      <td>NaN</td>\n",
       "      <td>English</td>\n",
       "      <td>NaN</td>\n",
       "      <td>NaN</td>\n",
       "      <td>NaN</td>\n",
       "      <td>NaN</td>\n",
       "      <td>...</td>\n",
       "      <td>NaN</td>\n",
       "      <td>NaN</td>\n",
       "      <td>NaN</td>\n",
       "      <td></td>\n",
       "      <td>NaN</td>\n",
       "      <td>NaN</td>\n",
       "      <td>NaN</td>\n",
       "      <td>NaN</td>\n",
       "      <td>NaN</td>\n",
       "      <td>special C1188&gt;:edition_1Paul de Saint-Père de ...</td>\n",
       "    </tr>\n",
       "    <tr>\n",
       "      <th>192</th>\n",
       "      <td>2dbe0db5-a805-48b1-a6b7-7e3bb0b3e812</td>\n",
       "      <td>Reproduction of Paris, Bibliothèque nationale ...</td>\n",
       "      <td>NaN</td>\n",
       "      <td>NaN</td>\n",
       "      <td>NaN</td>\n",
       "      <td>English</td>\n",
       "      <td>NaN</td>\n",
       "      <td>NaN</td>\n",
       "      <td>NaN</td>\n",
       "      <td>NaN</td>\n",
       "      <td>...</td>\n",
       "      <td>NaN</td>\n",
       "      <td>NaN</td>\n",
       "      <td>NaN</td>\n",
       "      <td>https://gallica.bnf.fr/ark:/12148/btv1b10035999g</td>\n",
       "      <td>NaN</td>\n",
       "      <td>NaN</td>\n",
       "      <td>NaN</td>\n",
       "      <td>NaN</td>\n",
       "      <td>NaN</td>\n",
       "      <td>Making Resource entity 'link|https://gallica.b...</td>\n",
       "    </tr>\n",
       "    <tr>\n",
       "      <th>193</th>\n",
       "      <td>62fa7ea3-2dc6-465c-af0a-fccd0e6a3320</td>\n",
       "      <td>Reproduction of Paris, Bibliothèque nationale ...</td>\n",
       "      <td>NaN</td>\n",
       "      <td>NaN</td>\n",
       "      <td>NaN</td>\n",
       "      <td>English</td>\n",
       "      <td>NaN</td>\n",
       "      <td>NaN</td>\n",
       "      <td>NaN</td>\n",
       "      <td>NaN</td>\n",
       "      <td>...</td>\n",
       "      <td>NaN</td>\n",
       "      <td>NaN</td>\n",
       "      <td>NaN</td>\n",
       "      <td>https://gallica.bnf.fr/ark:/12148/btv1b10036000n</td>\n",
       "      <td>NaN</td>\n",
       "      <td>NaN</td>\n",
       "      <td>NaN</td>\n",
       "      <td>NaN</td>\n",
       "      <td>NaN</td>\n",
       "      <td>Making Resource entity 'link|https://gallica.b...</td>\n",
       "    </tr>\n",
       "    <tr>\n",
       "      <th>194</th>\n",
       "      <td>4f0926cb-0530-47b6-a46c-fc304e1c3bd0</td>\n",
       "      <td>Reproduction of Paris, Bibliothèque nationale ...</td>\n",
       "      <td>NaN</td>\n",
       "      <td>NaN</td>\n",
       "      <td>NaN</td>\n",
       "      <td>English</td>\n",
       "      <td>NaN</td>\n",
       "      <td>NaN</td>\n",
       "      <td>NaN</td>\n",
       "      <td>NaN</td>\n",
       "      <td>...</td>\n",
       "      <td>NaN</td>\n",
       "      <td>NaN</td>\n",
       "      <td>NaN</td>\n",
       "      <td>https://gallica.bnf.fr/ark:/12148/btv1b100365190</td>\n",
       "      <td>NaN</td>\n",
       "      <td>NaN</td>\n",
       "      <td>NaN</td>\n",
       "      <td>NaN</td>\n",
       "      <td>NaN</td>\n",
       "      <td>Making Resource entity 'link|https://gallica.b...</td>\n",
       "    </tr>\n",
       "    <tr>\n",
       "      <th>195</th>\n",
       "      <td>82980f47-8f05-41bd-aa3f-c24620fdc96f</td>\n",
       "      <td>Reproduction of Paris, Bibliothèque nationale ...</td>\n",
       "      <td>NaN</td>\n",
       "      <td>NaN</td>\n",
       "      <td>NaN</td>\n",
       "      <td>English</td>\n",
       "      <td>NaN</td>\n",
       "      <td>NaN</td>\n",
       "      <td>NaN</td>\n",
       "      <td>NaN</td>\n",
       "      <td>...</td>\n",
       "      <td>NaN</td>\n",
       "      <td>NaN</td>\n",
       "      <td>NaN</td>\n",
       "      <td>https://gallica.bnf.fr/ark:/12148/btv1b100361092</td>\n",
       "      <td>NaN</td>\n",
       "      <td>NaN</td>\n",
       "      <td>NaN</td>\n",
       "      <td>NaN</td>\n",
       "      <td>NaN</td>\n",
       "      <td>Making Resource entity 'link|https://gallica.b...</td>\n",
       "    </tr>\n",
       "    <tr>\n",
       "      <th>197</th>\n",
       "      <td>03386182-e196-4f0a-99e1-28d212cd9a26</td>\n",
       "      <td>Reproduction of Paris, Bibliothèque nationale ...</td>\n",
       "      <td>NaN</td>\n",
       "      <td>NaN</td>\n",
       "      <td>NaN</td>\n",
       "      <td>English</td>\n",
       "      <td>NaN</td>\n",
       "      <td>NaN</td>\n",
       "      <td>NaN</td>\n",
       "      <td>NaN</td>\n",
       "      <td>...</td>\n",
       "      <td>NaN</td>\n",
       "      <td>NaN</td>\n",
       "      <td>NaN</td>\n",
       "      <td>https://gallica.bnf.fr/ark:/12148/btv1b100338354</td>\n",
       "      <td>NaN</td>\n",
       "      <td>NaN</td>\n",
       "      <td>NaN</td>\n",
       "      <td>NaN</td>\n",
       "      <td>NaN</td>\n",
       "      <td>Making Resource entity 'link|https://gallica.b...</td>\n",
       "    </tr>\n",
       "    <tr>\n",
       "      <th>199</th>\n",
       "      <td>ff23b963-2379-4354-884e-f50718033f56</td>\n",
       "      <td>Reproduction of Paris, Bibliothèque nationale ...</td>\n",
       "      <td>NaN</td>\n",
       "      <td>NaN</td>\n",
       "      <td>NaN</td>\n",
       "      <td>English</td>\n",
       "      <td>NaN</td>\n",
       "      <td>NaN</td>\n",
       "      <td>NaN</td>\n",
       "      <td>NaN</td>\n",
       "      <td>...</td>\n",
       "      <td>NaN</td>\n",
       "      <td>NaN</td>\n",
       "      <td>NaN</td>\n",
       "      <td>https://gallica.bnf.fr/ark:/12148/btv1b5315700...</td>\n",
       "      <td>NaN</td>\n",
       "      <td>NaN</td>\n",
       "      <td>NaN</td>\n",
       "      <td>NaN</td>\n",
       "      <td>NaN</td>\n",
       "      <td>Making Resource entity 'link|https://gallica.b...</td>\n",
       "    </tr>\n",
       "    <tr>\n",
       "      <th>201</th>\n",
       "      <td>04944451-d6c6-4250-a7e3-95aa41b3ea65</td>\n",
       "      <td>Reproduction of Paris, Bibliothèque nationale ...</td>\n",
       "      <td>NaN</td>\n",
       "      <td>NaN</td>\n",
       "      <td>NaN</td>\n",
       "      <td>English</td>\n",
       "      <td>NaN</td>\n",
       "      <td>NaN</td>\n",
       "      <td>NaN</td>\n",
       "      <td>NaN</td>\n",
       "      <td>...</td>\n",
       "      <td>NaN</td>\n",
       "      <td>NaN</td>\n",
       "      <td>NaN</td>\n",
       "      <td>https://gallica.bnf.fr/ark:/12148/btv1b90680525</td>\n",
       "      <td>NaN</td>\n",
       "      <td>NaN</td>\n",
       "      <td>NaN</td>\n",
       "      <td>NaN</td>\n",
       "      <td>NaN</td>\n",
       "      <td>Making Resource entity 'link|https://gallica.b...</td>\n",
       "    </tr>\n",
       "    <tr>\n",
       "      <th>202</th>\n",
       "      <td>819d6983-8cce-4165-aa19-fc96856d3dc2</td>\n",
       "      <td>Reproduction of Paris, Bibliothèque nationale ...</td>\n",
       "      <td>NaN</td>\n",
       "      <td>NaN</td>\n",
       "      <td>NaN</td>\n",
       "      <td>English</td>\n",
       "      <td>NaN</td>\n",
       "      <td>NaN</td>\n",
       "      <td>NaN</td>\n",
       "      <td>NaN</td>\n",
       "      <td>...</td>\n",
       "      <td>NaN</td>\n",
       "      <td>NaN</td>\n",
       "      <td>NaN</td>\n",
       "      <td>https://gallica.bnf.fr/ark:/12148/btv1b9077722...</td>\n",
       "      <td>NaN</td>\n",
       "      <td>NaN</td>\n",
       "      <td>NaN</td>\n",
       "      <td>NaN</td>\n",
       "      <td>NaN</td>\n",
       "      <td>Making Resource entity 'link|https://gallica.b...</td>\n",
       "    </tr>\n",
       "  </tbody>\n",
       "</table>\n",
       "<p>12 rows × 31 columns</p>\n",
       "</div>"
      ]
     },
     "execution_count": 73,
     "metadata": {},
     "output_type": "execute_result"
    }
   ],
   "execution_count": 73
  },
  {
   "cell_type": "code",
   "execution_count": 315,
   "outputs": [
    {
     "data": {
      "text/plain": "'3feae15a-e17a-4844-b6a3-88678a4720db'"
     },
     "execution_count": 315,
     "metadata": {},
     "output_type": "execute_result"
    }
   ],
   "source": [
    "dh.entity_ids['resources']['M21']"
   ],
   "metadata": {
    "collapsed": false
   }
  },
  {
   "cell_type": "code",
   "execution_count": 316,
   "outputs": [
    {
     "name": "stdout",
     "output_type": "stream",
     "text": [
      "############## texts\n",
      "Data group: texts\n",
      "############## texts 0.\n",
      "############## manuscripts\n",
      "Data group: manuscripts\n",
      "############## manuscripts 0.\n",
      "############## resources\n",
      "There are duplicates! 107    NaN\n",
      "108    NaN\n",
      "109    NaN\n",
      "110    NaN\n",
      "111    NaN\n",
      "      ... \n",
      "180    NaN\n",
      "181    NaN\n",
      "182    NaN\n",
      "183    NaN\n",
      "184    NaN\n",
      "Name: legacyId, Length: 78, dtype: object\n",
      "Data group: resources\n",
      "############## resources 0.\n",
      "############## actions\n",
      "Data group: actions\n",
      "############## actions 0.\n",
      "############## concepts\n",
      "Data group: concepts\n",
      "############## concepts 0.\n",
      "############## R0006_persons\n",
      "Data group: persons\n",
      "############## R0006_persons 0.\n",
      "############## R0007_locations\n",
      "Data group: locations\n",
      "############## R0007_locations 0.\n",
      "############## R0008_events\n",
      "Data group: events\n",
      "############## R0008_events 0.\n",
      "############## R0075_persons\n",
      "Data group: persons\n",
      "############## R0075_persons 0.\n",
      "############## R0035_locations\n",
      "Data group: locations\n",
      "############## R0035_locations 0.\n",
      "############## R0083_events\n",
      "Data group: events\n",
      "############## R0083_events 0.\n",
      "############## R0105_groups\n",
      "Data group: groups\n",
      "############## R0105_groups 0.\n",
      "############## R0030_persons\n",
      "Data group: persons\n",
      "############## R0030_persons 0.\n",
      "############## R0087_groups\n",
      "Data group: groups\n",
      "############## R0087_groups 0.\n",
      "############## R0031_locations\n",
      "Data group: locations\n",
      "############## R0031_locations 0.\n",
      "############## R0082_events\n",
      "Data group: events\n",
      "############## R0082_events 0.\n",
      "############## R0039_persons\n",
      "Data group: persons\n",
      "############## R0039_persons 0.\n",
      "############## R0040_locations\n",
      "Data group: locations\n",
      "############## R0040_locations 0.\n",
      "############## R0079_events\n",
      "Data group: events\n",
      "############## R0079_events 0.\n",
      "############## R0076_persons\n",
      "Data group: persons\n",
      "############## R0076_persons 0.\n",
      "############## R0074_locations\n",
      "Data group: locations\n",
      "############## R0074_locations 0.\n",
      "############## R0104_events\n",
      "Data group: events\n",
      "############## R0104_events 0.\n",
      "############## values\n",
      "############## locations\n",
      "############## events\n",
      "############## props\n",
      "############## relations\n",
      "There were 0 errors in total.\n"
     ]
    }
   ],
   "source": [
    "dh.checkIDs()"
   ],
   "metadata": {
    "collapsed": false
   }
  },
  {
   "cell_type": "markdown",
   "source": [
    "### Profiling"
   ],
   "metadata": {
    "collapsed": false
   }
  },
  {
   "cell_type": "code",
   "execution_count": null,
   "outputs": [],
   "source": [
    "#%reload_ext line_profiler\n",
    "\n",
    "# def profile():\n",
    "#    cp.parsers['concepts'].parse_rows()\n",
    "\n",
    "#%lprun -f EntityMapper.get_entity_id profile()"
   ],
   "metadata": {
    "collapsed": false
   }
  },
  {
   "cell_type": "code",
   "execution_count": null,
   "outputs": [],
   "source": [
    "# %prun -s tottime profile()"
   ],
   "metadata": {
    "collapsed": false
   }
  },
  {
   "cell_type": "code",
   "execution_count": null,
   "outputs": [],
   "source": [
    "# %lprun?"
   ],
   "metadata": {
    "collapsed": false
   }
  },
  {
   "cell_type": "markdown",
   "source": [
    "### Last checks"
   ],
   "metadata": {
    "collapsed": false
   }
  },
  {
   "cell_type": "code",
   "execution_count": null,
   "outputs": [],
   "source": [],
   "metadata": {
    "collapsed": false
   }
  },
  {
   "cell_type": "code",
   "source": [
    "logger.info(f\"There are {len(dh.additional_entities)} additionally created entities (e.g. values, resources ...).\")"
   ],
   "metadata": {
    "collapsed": false,
    "ExecuteTime": {
     "end_time": "2024-06-01T15:14:41.878184Z",
     "start_time": "2024-06-01T15:14:41.768665Z"
    }
   },
   "outputs": [
    {
     "name": "stderr",
     "output_type": "stream",
     "text": [
      "2024-06-01 17:14:41,874 INFO There are 14544 additionally created entities (e.g. values, resources ...).\n"
     ]
    }
   ],
   "execution_count": 44
  },
  {
   "cell_type": "markdown",
   "source": [
    "# Output the parsed data"
   ],
   "metadata": {
    "collapsed": false
   }
  },
  {
   "cell_type": "code",
   "source": [
    "# root data\n",
    "root_territory = \"\"\"\n",
    " {\n",
    "    \"id\": \"T0\",\n",
    "    \"class\": \"T\",\n",
    "    \"data\": { \"parent\": false },\n",
    "    \"label\": \"root\",\n",
    "    \"detail\": \"\",\n",
    "    \"language\": \"lat\",\n",
    "    \"notes\": [],\n",
    "    \"props\": []\n",
    "  }\n",
    "\"\"\""
   ],
   "metadata": {
    "collapsed": false,
    "ExecuteTime": {
     "end_time": "2024-06-01T20:05:52.015718Z",
     "start_time": "2024-06-01T20:05:51.932203Z"
    }
   },
   "outputs": [],
   "execution_count": 68
  },
  {
   "metadata": {
    "ExecuteTime": {
     "end_time": "2024-06-01T21:26:36.619462Z",
     "start_time": "2024-06-01T21:26:32.106704Z"
    }
   },
   "cell_type": "code",
   "source": [
    "# reimport output\n",
    "\n",
    "r_entities = \"\"\n",
    "r_relations = \"\"\n",
    "r_audits = \"\"\n",
    "# entities_content = \"\"\n",
    "\n",
    "# save json object list of the parsed entities from google sheets in the text file\n",
    "with open('../datasets/reimport/new_entities.json', 'w', encoding='utf-8') as f:\n",
    "    #f.write(str(cp.parsers['texts'].js_objects))\n",
    "    json.dump(dh.js_objects, f)\n",
    "\n",
    "# save json object list of the \"newly created entities\" in the text file\n",
    "with open('../datasets/reimport/additional_entities.json', 'w', encoding='utf-8') as f:\n",
    "    #f.write(str(cp.parsers['texts'].js_objects))\n",
    "    json.dump(dh.additional_entities, f)\n",
    "\n",
    "\n",
    "entities_content  = \"\"\n",
    "\n",
    "# read  entities.json\n",
    "with open('../datasets/reimport/new_entities.json','r') as f:\n",
    "    #entities_content = f.readlines()\n",
    "    new_entities_content = f.read().replace('\\n', '')\n",
    "\n",
    "additional_entities_string = json.dumps(dh.additional_entities)\n",
    "\n",
    "# write just the new parse data to the entities json.\n",
    "with open('../datasets/reimport/entities.json','w', encoding='utf-8') as f:\n",
    "    #merge_content = entities_content[0:-1] +  str(cp.parsers['texts'].js_objects)[1:]\n",
    "    merge_content =  \"[\" + root_territory + \",\" + additional_entities_string[1:-1]+ \",\"+  new_entities_content[1:]\n",
    "    f.write(str(merge_content))\n",
    "\n",
    "relations_entities_string = json.dumps(relation_records_cleaned)\n",
    "audits_entities_string = json.dumps(dh.audits)\n",
    "\n",
    "# write relations\n",
    "with open('../datasets/reimport/relations.json','w', encoding='utf-8') as f:\n",
    "    merge_content =  relations_entities_string[0:-1] + \",\" + r_relations + \"]\"\n",
    "    f.write(str(merge_content))\n",
    "    #json.dump(relation_records_cleaned, f)\n",
    "\n",
    "# write the audits json.\n",
    "with open('../datasets/reimport/audits.json','w', encoding='utf-8') as f:\n",
    "    merge_content =  audits_entities_string[0:-1] + \"]\"\n",
    "    f.write(str(merge_content))\n",
    "    #json.dump(dh.audits, f)\n",
    "\n",
    "\n",
    "\n",
    "logger.info(\"END reimport output\")\n"
   ],
   "outputs": [
    {
     "name": "stderr",
     "output_type": "stream",
     "text": [
      "2024-06-01 23:26:36,609 INFO END reimport output\n"
     ]
    }
   ],
   "execution_count": 70
  },
  {
   "cell_type": "code",
   "execution_count": 355,
   "outputs": [],
   "source": [
    "# open robert's example of Niort coding\n",
    "robert_data1317 = {\n",
    "  \"entities\": json.load(open(\"../datasets/experiments/diff1317/entities.json\",\"r\")),\n",
    "  \"relations\": json.load(open(\"../datasets/experiments/diff1317/relations.json\",\"r\")),\n",
    "  \"audits\": json.load(open(\"../datasets/experiments/diff1317/audits.json\",\"r\"))\n",
    "}\n",
    "\n",
    "robert_data1719 = {\n",
    "  \"entities\": json.load(open(\"../datasets/experiments/diff1719/entities.json\",\"r\")),\n",
    "  \"relations\": json.load(open(\"../datasets/experiments/diff1719/relations.json\",\"r\")),\n",
    "  \"audits\": json.load(open(\"../datasets/experiments/diff1719/audits.json\",\"r\"))\n",
    "}\n",
    "\n",
    "robert_data1920 = {\n",
    "  \"entities\": json.load(open(\"../datasets/experiments/diff1920/entities.json\",\"r\")),\n",
    "  \"relations\": json.load(open(\"../datasets/experiments/diff1920/relations.json\",\"r\")),\n",
    "  \"audits\": json.load(open(\"../datasets/experiments/diff1920/audits.json\",\"r\"))\n",
    "}\n",
    "\n",
    "robert_data2021 = {\n",
    "  \"entities\": json.load(open(\"../datasets/experiments/diff2021/entities.json\",\"r\")),\n",
    "  \"relations\": json.load(open(\"../datasets/experiments/diff2021/relations.json\",\"r\")),\n",
    "  \"audits\": json.load(open(\"../datasets/experiments/diff2021/audits.json\",\"r\"))\n",
    "}\n",
    "\n",
    "\n",
    "r_entities1317 = json.dumps(robert_data1317[\"entities\"])[1:-1]\n",
    "r_entities1719 = json.dumps(robert_data1719[\"entities\"])[1:-1]\n",
    "r_entities1920 = json.dumps(robert_data1920[\"entities\"])[1:-1]\n",
    "r_entities2021 = json.dumps(robert_data2021[\"entities\"])[1:-1]\n",
    "\n",
    "r_relations1317 = json.dumps(robert_data1317['relations'])[1:-1]\n",
    "r_relations1719 = json.dumps(robert_data1719['relations'])[1:-1]\n",
    "r_relations1920 = json.dumps(robert_data1920['relations'])[1:-1]\n",
    "r_relations2021 = json.dumps(robert_data2021['relations'])[1:-1]\n",
    "#r_audits = json.dumps(robert_data['audits'])[1:len(str(robert_data['audits']))-1]"
   ],
   "metadata": {
    "collapsed": false
   }
  },
  {
   "cell_type": "code",
   "execution_count": 356,
   "outputs": [],
   "source": [
    "# ideal \"2023-01-13T20:05:56Z\"\n",
    "import datetime\n",
    "for item in robert_data1317[\"audits\"]:\n",
    "  #print(item['date']['epoch_time']), print(datetime.datetime.fromtimestamp(item['date']['epoch_time']))\n",
    "  new_time_chunks = str(datetime.datetime.fromtimestamp(item['date']['epoch_time'])).split(\" \")\n",
    "  new_time = new_time_chunks[0]+\"T\"+new_time_chunks[1].split(\".\")[0]+\"Z\"\n",
    "  item['date'] = new_time\n",
    "\n",
    "r_audits1317 = json.dumps(robert_data1317['audits'])[1:-1]\n",
    "\n",
    "for item in robert_data1719[\"audits\"]:\n",
    "  #print(item['date']['epoch_time']), print(datetime.datetime.fromtimestamp(item['date']['epoch_time']))\n",
    "  new_time_chunks = str(datetime.datetime.fromtimestamp(item['date']['epoch_time'])).split(\" \")\n",
    "  new_time = new_time_chunks[0]+\"T\"+new_time_chunks[1].split(\".\")[0]+\"Z\"\n",
    "  item['date'] = new_time\n",
    "\n",
    "r_audits1719 = json.dumps(robert_data1719['audits'])[1:-1]\n",
    "\n",
    "for item in robert_data1920[\"audits\"]:\n",
    "  #print(item['date']['epoch_time']), print(datetime.datetime.fromtimestamp(item['date']['epoch_time']))\n",
    "  new_time_chunks = str(datetime.datetime.fromtimestamp(item['date']['epoch_time'])).split(\" \")\n",
    "  new_time = new_time_chunks[0]+\"T\"+new_time_chunks[1].split(\".\")[0]+\"Z\"\n",
    "  item['date'] = new_time\n",
    "\n",
    "r_audits1920 = json.dumps(robert_data1920['audits'])[1:-1]\n",
    "\n",
    "for item in robert_data2021[\"audits\"]:\n",
    "  #print(item['date']['epoch_time']), print(datetime.datetime.fromtimestamp(item['date']['epoch_time']))\n",
    "  new_time_chunks = str(datetime.datetime.fromtimestamp(item['date']['epoch_time'])).split(\" \")\n",
    "  new_time = new_time_chunks[0]+\"T\"+new_time_chunks[1].split(\".\")[0]+\"Z\"\n",
    "  item['date'] = new_time\n",
    "\n",
    "r_audits2021 = json.dumps(robert_data2021['audits'])[1:-1]"
   ],
   "metadata": {
    "collapsed": false
   }
  },
  {
   "cell_type": "code",
   "execution_count": 179,
   "outputs": [],
   "source": [],
   "metadata": {
    "collapsed": false
   }
  },
  {
   "cell_type": "code",
   "execution_count": 357,
   "outputs": [
    {
     "data": {
      "text/plain": "(35168, 54585, 31748, 7110)"
     },
     "execution_count": 357,
     "metadata": {},
     "output_type": "execute_result"
    }
   ],
   "source": [
    "len(r_entities1317), len(r_entities1719),len(r_entities1920),len(r_entities2021)"
   ],
   "metadata": {
    "collapsed": false
   }
  },
  {
   "cell_type": "code",
   "execution_count": 490,
   "outputs": [],
   "source": [
    "r_entities = r_entities1317 + \",\" + r_entities1719 + \",\" + r_entities1920 + \",\" + r_entities2021\n",
    "r_relations = r_relations1317 + \",\" + r_relations1719 + \",\" + r_relations1920 + \",\" + r_relations2021\n",
    "r_audits = r_audits1317 + \",\" + r_audits1719 + \",\" + r_audits1920 + \",\" + r_audits2021"
   ],
   "metadata": {
    "collapsed": false
   }
  },
  {
   "cell_type": "code",
   "execution_count": 492,
   "outputs": [
    {
     "name": "stderr",
     "output_type": "stream",
     "text": [
      "2023-01-22 10:19:38,084 INFO END\n"
     ]
    }
   ],
   "source": [
    "\n",
    "# save json object list of the parsed entities from google sheets in the text file\n",
    "with open('../datasets/all-test/new_entities.json', 'w', encoding='utf-8') as f:\n",
    "    #f.write(str(cp.parsers['texts'].js_objects))\n",
    "    json.dump(dh.js_objects, f)\n",
    "\n",
    "# save json object list of the \"newly created entities\" in the text file\n",
    "with open('../datasets/all-test/additional_entities.json', 'w', encoding='utf-8') as f:\n",
    "    #f.write(str(cp.parsers['texts'].js_objects))\n",
    "    json.dump(dh.additional_entities, f)\n",
    "\n",
    "# read  entities.json\n",
    "with open('../datasets/all/entities.json','r') as f:\n",
    "    #entities_content = f.readlines()\n",
    "    entities_content = f.read().replace('\\n', '')\n",
    "\n",
    "# read  entities.json\n",
    "with open('../datasets/all-test/new_entities.json','r') as f:\n",
    "    #entities_content = f.readlines()\n",
    "    new_entities_content = f.read().replace('\\n', '')\n",
    "\n",
    "additional_entities_string = json.dumps(dh.additional_entities)\n",
    "\n",
    "# write new and combine with old test data\n",
    "with open('../datasets/all-test/entities.json','w', encoding='utf-8') as f:\n",
    "    #merge_content = entities_content[0:-1] +  str(cp.parsers['texts'].js_objects)[1:]\n",
    "    merge_content = entities_content[0:-1] +\", \" + additional_entities_string[1:-1]+ \", \" + new_entities_content[1:]\n",
    "    f.write(str(merge_content))\n",
    "\n",
    "# write just the new parse data to the entities json.\n",
    "with open('../datasets/all-parsed/entities.json','w', encoding='utf-8') as f:\n",
    "    #merge_content = entities_content[0:-1] +  str(cp.parsers['texts'].js_objects)[1:]\n",
    "    merge_content =  \"[\" + root_territory + \",\" + additional_entities_string[1:-1]+ \",\"+ r_entities +\",\"+  new_entities_content[1:]\n",
    "    f.write(str(merge_content))\n",
    "\n",
    "relations_entities_string = json.dumps(relation_records_cleaned)\n",
    "audits_entities_string = json.dumps(dh.audits)\n",
    "\n",
    "# write relations\n",
    "with open('../datasets/all-parsed/relations.json','w', encoding='utf-8') as f:\n",
    "    merge_content =  relations_entities_string[0:-1] + \",\" + r_relations + \"]\"\n",
    "    f.write(str(merge_content))\n",
    "    #json.dump(relation_records_cleaned, f)\n",
    "\n",
    "# write the audits json.\n",
    "with open('../datasets/all-parsed/audits.json','w', encoding='utf-8') as f:\n",
    "    merge_content =  audits_entities_string[0:-1] +  \",\"+ r_audits + \"]\"\n",
    "    f.write(str(merge_content))\n",
    "    #json.dump(dh.audits, f)\n",
    "\n",
    "# write just the new parse data to the entities json.\n",
    "with open('../datasets/all-parsed-wr/entities.json','w', encoding='utf-8') as f:\n",
    "    #merge_content = entities_content[0:-1] +  str(cp.parsers['texts'].js_objects)[1:]\n",
    "    merge_content =  \"[\" + root_territory + \",\" + additional_entities_string[1:-1] +\",\"+  new_entities_content[1:]\n",
    "    f.write(str(merge_content))\n",
    "\n",
    "\n",
    "# write relations\n",
    "with open('../datasets/all-parsed-wr/relations.json','w', encoding='utf-8') as f:\n",
    "    merge_content =  relations_entities_string[0:-1] + \"]\"\n",
    "    f.write(str(merge_content))\n",
    "    #json.dump(relation_records_cleaned, f)\n",
    "\n",
    "# write the audits json.\n",
    "with open('../datasets/all-parsed-wr/audits.json','w', encoding='utf-8') as f:\n",
    "    merge_content =  audits_entities_string[0:-1] + \"]\"\n",
    "    f.write(str(merge_content))\n",
    "\n",
    "\n",
    "logger.info(\"END\")"
   ],
   "metadata": {
    "collapsed": false
   }
  },
  {
   "cell_type": "code",
   "execution_count": 493,
   "outputs": [],
   "source": [
    "# simple 2 strategy\n",
    "\n",
    "parsed_e_df = pd.DataFrame(json.load(open(\"../datasets/all-parsed-wr/entities.json\",\"r\"))).fillna(\"\").set_index(\"id\")\n",
    "parsed_r_df = pd.DataFrame(json.load(open(\"../datasets/all-parsed-wr/relations.json\",\"r\"))).fillna(\"\").set_index(\"id\")\n",
    "parsed_a_df = pd.DataFrame(json.load(open(\"../datasets/all-parsed-wr/audits.json\",\"r\"))).fillna(\"\").set_index(\"id\")\n",
    "\n",
    "ddb1_e_df = pd.DataFrame(json.load(open(\"../datasets/experiments/21/entities.json\",\"r\"))).fillna(\"\").set_index(\"id\")\n",
    "ddb1_r_df = pd.DataFrame(json.load(open(\"../datasets/experiments/21/relations.json\",\"r\"))).fillna(\"\").set_index(\"id\")\n",
    "ddb1_a_df = pd.DataFrame(json.load(open(\"../datasets/experiments/21/audits.json\",\"r\"))).fillna(\"\").set_index(\"id\")\n",
    "\n"
   ],
   "metadata": {
    "collapsed": false
   }
  },
  {
   "cell_type": "code",
   "execution_count": 447,
   "outputs": [
    {
     "data": {
      "text/plain": "(29360, 27980)"
     },
     "execution_count": 447,
     "metadata": {},
     "output_type": "execute_result"
    }
   ],
   "source": [
    "len(parsed_e_df), len(ddb1_e_df)"
   ],
   "metadata": {
    "collapsed": false
   }
  },
  {
   "cell_type": "code",
   "execution_count": 468,
   "outputs": [],
   "source": [
    "ddb1_e_df['notes_s'] = ddb1_e_df['notes'].astype(str)"
   ],
   "metadata": {
    "collapsed": false
   }
  },
  {
   "cell_type": "code",
   "execution_count": 469,
   "outputs": [
    {
     "data": {
      "text/plain": "                                     class  \\\nid                                           \n025d451c-0fce-436c-8d37-0d13ac7f90a9     C   \n0a2ba32a-4c7e-40e4-a684-a65e6044e3c2     E   \n0e8166b4-f424-4717-b29e-685899e1b3c3     A   \n0fcf21d7-da3b-4fb4-bebe-bd5930685b12     V   \n10d2538b-d7d7-4a4f-9e34-1f7993337dc9     V   \n...                                    ...   \nf69921f2-5f70-4fd6-84da-16dba150656b     V   \nf71126df-fc8f-42d0-977d-4f3414682bee     C   \nf924fdff-4370-4b6d-a197-f2b289653117     V   \nf9bbe9a1-5104-44c1-b74e-263636287bda     P   \nfdc06b64-1c21-46e6-af38-1778c3ca7346     C   \n\n                                                                                   data  \\\nid                                                                                        \n025d451c-0fce-436c-8d37-0d13ac7f90a9                                                 {}   \n0a2ba32a-4c7e-40e4-a684-a65e6044e3c2                               {'logicalType': '1'}   \n0e8166b4-f424-4717-b29e-685899e1b3c3  {'entities': {'a1': ['P', 'G'], 'a2': ['C', 'E...   \n0fcf21d7-da3b-4fb4-bebe-bd5930685b12                                                 {}   \n10d2538b-d7d7-4a4f-9e34-1f7993337dc9                                                 {}   \n...                                                                                 ...   \nf69921f2-5f70-4fd6-84da-16dba150656b                                                 {}   \nf71126df-fc8f-42d0-977d-4f3414682bee                                                 {}   \nf924fdff-4370-4b6d-a197-f2b289653117                                                 {}   \nf9bbe9a1-5104-44c1-b74e-263636287bda                               {'logicalType': '3'}   \nfdc06b64-1c21-46e6-af38-1778c3ca7346                                                 {}   \n\n                                                                        detail  \\\nid                                                                               \n025d451c-0fce-436c-8d37-0d13ac7f90a9      supporter of heretics (i.e. Cathars)   \n0a2ba32a-4c7e-40e4-a684-a65e6044e3c2                                             \n0e8166b4-f424-4717-b29e-685899e1b3c3  bore witness (in front of sb - about st)   \n0fcf21d7-da3b-4fb4-bebe-bd5930685b12                                             \n10d2538b-d7d7-4a4f-9e34-1f7993337dc9                                             \n...                                                                        ...   \nf69921f2-5f70-4fd6-84da-16dba150656b                                             \nf71126df-fc8f-42d0-977d-4f3414682bee                                 reporting   \nf924fdff-4370-4b6d-a197-f2b289653117                                             \nf9bbe9a1-5104-44c1-b74e-263636287bda                                             \nfdc06b64-1c21-46e6-af38-1778c3ca7346                                       how   \n\n                                                          label language  \\\nid                                                                         \n025d451c-0fce-436c-8d37-0d13ac7f90a9         fautor hereticorum      lat   \n0a2ba32a-4c7e-40e4-a684-a65e6044e3c2  metus huius inquisitionis      lat   \n0e8166b4-f424-4717-b29e-685899e1b3c3                 testatus/a      lat   \n0fcf21d7-da3b-4fb4-bebe-bd5930685b12                        34v      lat   \n10d2538b-d7d7-4a4f-9e34-1f7993337dc9                        34r      lat   \n...                                                         ...      ...   \nf69921f2-5f70-4fd6-84da-16dba150656b                        34v      lat   \nf71126df-fc8f-42d0-977d-4f3414682bee                    relatio      lat   \nf924fdff-4370-4b6d-a197-f2b289653117                        36r      lat   \nf9bbe9a1-5104-44c1-b74e-263636287bda                       Deus      lat   \nfdc06b64-1c21-46e6-af38-1778c3ca7346                    quomodo      lat   \n\n                                     legacyId notes  \\\nid                                                    \n025d451c-0fce-436c-8d37-0d13ac7f90a9             []   \n0a2ba32a-4c7e-40e4-a684-a65e6044e3c2             []   \n0e8166b4-f424-4717-b29e-685899e1b3c3             []   \n0fcf21d7-da3b-4fb4-bebe-bd5930685b12             []   \n10d2538b-d7d7-4a4f-9e34-1f7993337dc9             []   \n...                                       ...   ...   \nf69921f2-5f70-4fd6-84da-16dba150656b             []   \nf71126df-fc8f-42d0-977d-4f3414682bee             []   \nf924fdff-4370-4b6d-a197-f2b289653117             []   \nf9bbe9a1-5104-44c1-b74e-263636287bda             []   \nfdc06b64-1c21-46e6-af38-1778c3ca7346             []   \n\n                                                                                  props  \\\nid                                                                                        \n025d451c-0fce-436c-8d37-0d13ac7f90a9  [{'bundleEnd': False, 'bundleOperator': 'a', '...   \n0a2ba32a-4c7e-40e4-a684-a65e6044e3c2                                                 []   \n0e8166b4-f424-4717-b29e-685899e1b3c3                                                 []   \n0fcf21d7-da3b-4fb4-bebe-bd5930685b12                                                 []   \n10d2538b-d7d7-4a4f-9e34-1f7993337dc9                                                 []   \n...                                                                                 ...   \nf69921f2-5f70-4fd6-84da-16dba150656b                                                 []   \nf71126df-fc8f-42d0-977d-4f3414682bee                                                 []   \nf924fdff-4370-4b6d-a197-f2b289653117                                                 []   \nf9bbe9a1-5104-44c1-b74e-263636287bda                                                 []   \nfdc06b64-1c21-46e6-af38-1778c3ca7346                                                 []   \n\n                                     references status isTemplate notes_s  \nid                                                                         \n025d451c-0fce-436c-8d37-0d13ac7f90a9         []      4      False      []  \n0a2ba32a-4c7e-40e4-a684-a65e6044e3c2         []      1      False      []  \n0e8166b4-f424-4717-b29e-685899e1b3c3         []      1      False      []  \n0fcf21d7-da3b-4fb4-bebe-bd5930685b12         []      1      False      []  \n10d2538b-d7d7-4a4f-9e34-1f7993337dc9         []      1      False      []  \n...                                         ...    ...        ...     ...  \nf69921f2-5f70-4fd6-84da-16dba150656b         []      1      False      []  \nf71126df-fc8f-42d0-977d-4f3414682bee         []      4      False      []  \nf924fdff-4370-4b6d-a197-f2b289653117         []      1      False      []  \nf9bbe9a1-5104-44c1-b74e-263636287bda         []      1      False      []  \nfdc06b64-1c21-46e6-af38-1778c3ca7346         []      1      False      []  \n\n[159 rows x 12 columns]",
      "text/html": "<div>\n<style scoped>\n    .dataframe tbody tr th:only-of-type {\n        vertical-align: middle;\n    }\n\n    .dataframe tbody tr th {\n        vertical-align: top;\n    }\n\n    .dataframe thead th {\n        text-align: right;\n    }\n</style>\n<table border=\"1\" class=\"dataframe\">\n  <thead>\n    <tr style=\"text-align: right;\">\n      <th></th>\n      <th>class</th>\n      <th>data</th>\n      <th>detail</th>\n      <th>label</th>\n      <th>language</th>\n      <th>legacyId</th>\n      <th>notes</th>\n      <th>props</th>\n      <th>references</th>\n      <th>status</th>\n      <th>isTemplate</th>\n      <th>notes_s</th>\n    </tr>\n    <tr>\n      <th>id</th>\n      <th></th>\n      <th></th>\n      <th></th>\n      <th></th>\n      <th></th>\n      <th></th>\n      <th></th>\n      <th></th>\n      <th></th>\n      <th></th>\n      <th></th>\n      <th></th>\n    </tr>\n  </thead>\n  <tbody>\n    <tr>\n      <th>025d451c-0fce-436c-8d37-0d13ac7f90a9</th>\n      <td>C</td>\n      <td>{}</td>\n      <td>supporter of heretics (i.e. Cathars)</td>\n      <td>fautor hereticorum</td>\n      <td>lat</td>\n      <td></td>\n      <td>[]</td>\n      <td>[{'bundleEnd': False, 'bundleOperator': 'a', '...</td>\n      <td>[]</td>\n      <td>4</td>\n      <td>False</td>\n      <td>[]</td>\n    </tr>\n    <tr>\n      <th>0a2ba32a-4c7e-40e4-a684-a65e6044e3c2</th>\n      <td>E</td>\n      <td>{'logicalType': '1'}</td>\n      <td></td>\n      <td>metus huius inquisitionis</td>\n      <td>lat</td>\n      <td></td>\n      <td>[]</td>\n      <td>[]</td>\n      <td>[]</td>\n      <td>1</td>\n      <td>False</td>\n      <td>[]</td>\n    </tr>\n    <tr>\n      <th>0e8166b4-f424-4717-b29e-685899e1b3c3</th>\n      <td>A</td>\n      <td>{'entities': {'a1': ['P', 'G'], 'a2': ['C', 'E...</td>\n      <td>bore witness (in front of sb - about st)</td>\n      <td>testatus/a</td>\n      <td>lat</td>\n      <td></td>\n      <td>[]</td>\n      <td>[]</td>\n      <td>[]</td>\n      <td>1</td>\n      <td>False</td>\n      <td>[]</td>\n    </tr>\n    <tr>\n      <th>0fcf21d7-da3b-4fb4-bebe-bd5930685b12</th>\n      <td>V</td>\n      <td>{}</td>\n      <td></td>\n      <td>34v</td>\n      <td>lat</td>\n      <td></td>\n      <td>[]</td>\n      <td>[]</td>\n      <td>[]</td>\n      <td>1</td>\n      <td>False</td>\n      <td>[]</td>\n    </tr>\n    <tr>\n      <th>10d2538b-d7d7-4a4f-9e34-1f7993337dc9</th>\n      <td>V</td>\n      <td>{}</td>\n      <td></td>\n      <td>34r</td>\n      <td>lat</td>\n      <td></td>\n      <td>[]</td>\n      <td>[]</td>\n      <td>[]</td>\n      <td>1</td>\n      <td>False</td>\n      <td>[]</td>\n    </tr>\n    <tr>\n      <th>...</th>\n      <td>...</td>\n      <td>...</td>\n      <td>...</td>\n      <td>...</td>\n      <td>...</td>\n      <td>...</td>\n      <td>...</td>\n      <td>...</td>\n      <td>...</td>\n      <td>...</td>\n      <td>...</td>\n      <td>...</td>\n    </tr>\n    <tr>\n      <th>f69921f2-5f70-4fd6-84da-16dba150656b</th>\n      <td>V</td>\n      <td>{}</td>\n      <td></td>\n      <td>34v</td>\n      <td>lat</td>\n      <td></td>\n      <td>[]</td>\n      <td>[]</td>\n      <td>[]</td>\n      <td>1</td>\n      <td>False</td>\n      <td>[]</td>\n    </tr>\n    <tr>\n      <th>f71126df-fc8f-42d0-977d-4f3414682bee</th>\n      <td>C</td>\n      <td>{}</td>\n      <td>reporting</td>\n      <td>relatio</td>\n      <td>lat</td>\n      <td></td>\n      <td>[]</td>\n      <td>[]</td>\n      <td>[]</td>\n      <td>4</td>\n      <td>False</td>\n      <td>[]</td>\n    </tr>\n    <tr>\n      <th>f924fdff-4370-4b6d-a197-f2b289653117</th>\n      <td>V</td>\n      <td>{}</td>\n      <td></td>\n      <td>36r</td>\n      <td>lat</td>\n      <td></td>\n      <td>[]</td>\n      <td>[]</td>\n      <td>[]</td>\n      <td>1</td>\n      <td>False</td>\n      <td>[]</td>\n    </tr>\n    <tr>\n      <th>f9bbe9a1-5104-44c1-b74e-263636287bda</th>\n      <td>P</td>\n      <td>{'logicalType': '3'}</td>\n      <td></td>\n      <td>Deus</td>\n      <td>lat</td>\n      <td></td>\n      <td>[]</td>\n      <td>[]</td>\n      <td>[]</td>\n      <td>1</td>\n      <td>False</td>\n      <td>[]</td>\n    </tr>\n    <tr>\n      <th>fdc06b64-1c21-46e6-af38-1778c3ca7346</th>\n      <td>C</td>\n      <td>{}</td>\n      <td>how</td>\n      <td>quomodo</td>\n      <td>lat</td>\n      <td></td>\n      <td>[]</td>\n      <td>[]</td>\n      <td>[]</td>\n      <td>1</td>\n      <td>False</td>\n      <td>[]</td>\n    </tr>\n  </tbody>\n</table>\n<p>159 rows × 12 columns</p>\n</div>"
     },
     "execution_count": 469,
     "metadata": {},
     "output_type": "execute_result"
    }
   ],
   "source": [
    "# robert_e_df = ddb1_e_df[(~ddb1_e_df.index.isin(parsed_e_df.index)) & (ddb1_e_df['notes'].str.contains(\"Import\"))]\n",
    "robert_e_df = ddb1_e_df[~ddb1_e_df['notes_s'].str.contains(\"Import\")]\n",
    "robert_e_df"
   ],
   "metadata": {
    "collapsed": false
   }
  },
  {
   "cell_type": "code",
   "execution_count": 470,
   "outputs": [
    {
     "data": {
      "text/plain": "                                                                              entityIds  \\\nid                                                                                        \n0002ea21-f57a-4066-95e2-3f5cc17adf45  [6832b685-7391-4e6f-9dee-53ab048bced4, 390ac71...   \n00055fff-5cbf-4e4f-a5b9-e9f8cd5d3b25  [d08daee5-e2b4-458e-af9a-5d25942cee21, b1f631b...   \n00062934-e2cc-45e0-a4c2-f3efe0a790ee  [9238a54a-8b50-4418-8a8a-5d8e1aeed77b, eabcf67...   \n00079b82-f3eb-4815-b4f6-2a40ac887484  [e7d8ae89-792a-4586-b9e2-4d83e3ea8824, adc03f9...   \n00099734-9287-430a-9e50-5a98dcd4a6fc  [469ca1dd-734b-4534-9bfc-fdaae17dc953, cbf3b28...   \n...                                                                                 ...   \nffea7bb7-15aa-4a61-972e-ba40fa3dea12  [2abe4053-4018-4275-b20a-2e1021ac8d0c, 0d8e22d...   \nffef934d-3ddd-4382-8c4e-38430e3df341  [4a4b7303-7823-43cc-8d85-546db731e3e5, 4762d66...   \nfff1ddfd-e0c3-425a-856b-ec42cccacbc6  [b2c92fdf-dc0d-4699-ac58-27c3472f52c3, 5904cba...   \nfff26bd9-4ea8-406c-8eac-7161dd151427  [4f11cc6a-4841-4c62-86c0-73c470aba99b, f21770f...   \nfffd69da-9881-46bf-9055-b13e9a25b46e  [f738338b-6142-4fd2-a35a-83541a1061a5, 8c4c86b...   \n\n                                     order type certainty  \nid                                                         \n0002ea21-f57a-4066-95e2-3f5cc17adf45  10.0  A2S            \n00055fff-5cbf-4e4f-a5b9-e9f8cd5d3b25  10.0  REL            \n00062934-e2cc-45e0-a4c2-f3efe0a790ee   1.0  CLA            \n00079b82-f3eb-4815-b4f6-2a40ac887484  10.0  CLA            \n00099734-9287-430a-9e50-5a98dcd4a6fc   1.0  CLA            \n...                                    ...  ...       ...  \nffea7bb7-15aa-4a61-972e-ba40fa3dea12  10.0  SOL            \nffef934d-3ddd-4382-8c4e-38430e3df341  10.0  SOL            \nfff1ddfd-e0c3-425a-856b-ec42cccacbc6  10.0  CLA            \nfff26bd9-4ea8-406c-8eac-7161dd151427  10.0  SCL            \nfffd69da-9881-46bf-9055-b13e9a25b46e  10.0  AEE            \n\n[14650 rows x 4 columns]",
      "text/html": "<div>\n<style scoped>\n    .dataframe tbody tr th:only-of-type {\n        vertical-align: middle;\n    }\n\n    .dataframe tbody tr th {\n        vertical-align: top;\n    }\n\n    .dataframe thead th {\n        text-align: right;\n    }\n</style>\n<table border=\"1\" class=\"dataframe\">\n  <thead>\n    <tr style=\"text-align: right;\">\n      <th></th>\n      <th>entityIds</th>\n      <th>order</th>\n      <th>type</th>\n      <th>certainty</th>\n    </tr>\n    <tr>\n      <th>id</th>\n      <th></th>\n      <th></th>\n      <th></th>\n      <th></th>\n    </tr>\n  </thead>\n  <tbody>\n    <tr>\n      <th>0002ea21-f57a-4066-95e2-3f5cc17adf45</th>\n      <td>[6832b685-7391-4e6f-9dee-53ab048bced4, 390ac71...</td>\n      <td>10.0</td>\n      <td>A2S</td>\n      <td></td>\n    </tr>\n    <tr>\n      <th>00055fff-5cbf-4e4f-a5b9-e9f8cd5d3b25</th>\n      <td>[d08daee5-e2b4-458e-af9a-5d25942cee21, b1f631b...</td>\n      <td>10.0</td>\n      <td>REL</td>\n      <td></td>\n    </tr>\n    <tr>\n      <th>00062934-e2cc-45e0-a4c2-f3efe0a790ee</th>\n      <td>[9238a54a-8b50-4418-8a8a-5d8e1aeed77b, eabcf67...</td>\n      <td>1.0</td>\n      <td>CLA</td>\n      <td></td>\n    </tr>\n    <tr>\n      <th>00079b82-f3eb-4815-b4f6-2a40ac887484</th>\n      <td>[e7d8ae89-792a-4586-b9e2-4d83e3ea8824, adc03f9...</td>\n      <td>10.0</td>\n      <td>CLA</td>\n      <td></td>\n    </tr>\n    <tr>\n      <th>00099734-9287-430a-9e50-5a98dcd4a6fc</th>\n      <td>[469ca1dd-734b-4534-9bfc-fdaae17dc953, cbf3b28...</td>\n      <td>1.0</td>\n      <td>CLA</td>\n      <td></td>\n    </tr>\n    <tr>\n      <th>...</th>\n      <td>...</td>\n      <td>...</td>\n      <td>...</td>\n      <td>...</td>\n    </tr>\n    <tr>\n      <th>ffea7bb7-15aa-4a61-972e-ba40fa3dea12</th>\n      <td>[2abe4053-4018-4275-b20a-2e1021ac8d0c, 0d8e22d...</td>\n      <td>10.0</td>\n      <td>SOL</td>\n      <td></td>\n    </tr>\n    <tr>\n      <th>ffef934d-3ddd-4382-8c4e-38430e3df341</th>\n      <td>[4a4b7303-7823-43cc-8d85-546db731e3e5, 4762d66...</td>\n      <td>10.0</td>\n      <td>SOL</td>\n      <td></td>\n    </tr>\n    <tr>\n      <th>fff1ddfd-e0c3-425a-856b-ec42cccacbc6</th>\n      <td>[b2c92fdf-dc0d-4699-ac58-27c3472f52c3, 5904cba...</td>\n      <td>10.0</td>\n      <td>CLA</td>\n      <td></td>\n    </tr>\n    <tr>\n      <th>fff26bd9-4ea8-406c-8eac-7161dd151427</th>\n      <td>[4f11cc6a-4841-4c62-86c0-73c470aba99b, f21770f...</td>\n      <td>10.0</td>\n      <td>SCL</td>\n      <td></td>\n    </tr>\n    <tr>\n      <th>fffd69da-9881-46bf-9055-b13e9a25b46e</th>\n      <td>[f738338b-6142-4fd2-a35a-83541a1061a5, 8c4c86b...</td>\n      <td>10.0</td>\n      <td>AEE</td>\n      <td></td>\n    </tr>\n  </tbody>\n</table>\n<p>14650 rows × 4 columns</p>\n</div>"
     },
     "execution_count": 470,
     "metadata": {},
     "output_type": "execute_result"
    }
   ],
   "source": [
    "robert_r_df = ddb1_r_df[~ddb1_r_df.index.isin(parsed_r_df.index)]\n",
    "robert_r_df"
   ],
   "metadata": {
    "collapsed": false
   }
  },
  {
   "cell_type": "code",
   "execution_count": null,
   "outputs": [],
   "source": [
    "#  after stitching investigation\n"
   ],
   "metadata": {
    "collapsed": false
   }
  },
  {
   "cell_type": "code",
   "execution_count": 494,
   "outputs": [],
   "source": [
    "#  after stitching\n",
    "\n",
    "# - R entita  s label \"Reproduction of Paris, Bibliothèque nationale de France, fonds Doat, vol. 21\"  musí mít guid 35a13dc0-783a-466d-9850-71c50b1f528d\n",
    "\n",
    "with open('../datasets/all-parsed/entities.json','r', encoding='utf-8') as f:\n",
    "  econtent = f.read()\n",
    "  econtent = econtent.replace(\"ccb120c6-7687-4a93-b6d7-17c30c33fd27\",\"35a13dc0-783a-466d-9850-71c50b1f528d\")\n",
    "\n",
    "with open('../datasets/all-parsed/entities.json','w', encoding='utf-8') as f:\n",
    "  f.write(econtent)"
   ],
   "metadata": {
    "collapsed": false
   }
  },
  {
   "cell_type": "code",
   "execution_count": 495,
   "outputs": [],
   "source": [
    "# take statement content from the last downloaded DDB data\n",
    "with open('../datasets/experiments/21/entities.json','r', encoding='utf-8') as f:\n",
    "  # ddb1e = f.read()\n",
    "  ddb1e = json.load(f)\n",
    "  ddb1e_df = pd.DataFrame(ddb1e).set_index(\"id\")\n",
    "\n",
    "with open('../datasets/all-parsed/entities.json','r', encoding='utf-8') as f:\n",
    "  # ddb1e = f.read()\n",
    "  parsed_e = json.load(f)\n",
    "  parsed_e_df = pd.DataFrame(parsed_e).set_index(\"id\")\n"
   ],
   "metadata": {
    "collapsed": false
   }
  },
  {
   "cell_type": "code",
   "execution_count": 496,
   "outputs": [],
   "source": [
    "parsed_e_dfDD = parsed_e_df[~parsed_e_df.index.duplicated(keep='first')]"
   ],
   "metadata": {
    "collapsed": false
   }
  },
  {
   "cell_type": "code",
   "execution_count": 497,
   "outputs": [],
   "source": [
    "# reaplace all statements from ddb1e\n",
    "\n",
    "parsed_e_dfDDnoS = parsed_e_dfDD[parsed_e_dfDD['class']!=\"S\"]"
   ],
   "metadata": {
    "collapsed": false
   }
  },
  {
   "cell_type": "code",
   "execution_count": 498,
   "outputs": [],
   "source": [
    "ddb1s = ddb1e_df[ddb1e_df['class']==\"S\"]\n",
    "result_e_df = pd.concat([parsed_e_dfDDnoS, ddb1s])\n",
    "# parsed_e_df[parsed_e_df['class']==\"S\"]"
   ],
   "metadata": {
    "collapsed": false
   }
  },
  {
   "cell_type": "code",
   "execution_count": 499,
   "outputs": [],
   "source": [
    "result_e_df.reset_index().to_json('../datasets/stitched/entities.json',orient=\"records\")"
   ],
   "metadata": {
    "collapsed": false
   }
  },
  {
   "cell_type": "code",
   "execution_count": 388,
   "outputs": [
    {
     "name": "stdout",
     "output_type": "stream",
     "text": [
      "1 38e5b435-bb22-4b09-97be-7acdae65e370\n",
      "* 38e5b435-bb22-4b09-97be-7acdae65e370\n",
      "2 795a5729-1052-48c9-ae9a-d89a63d4c4c7\n",
      "* 795a5729-1052-48c9-ae9a-d89a63d4c4c7\n",
      "3 7aa92591-58cf-41c5-a4fc-d894914bedf8\n",
      "* 7aa92591-58cf-41c5-a4fc-d894914bedf8\n",
      "4 82bbf78f-7995-4928-9e49-de29a46d0b05\n",
      "* 82bbf78f-7995-4928-9e49-de29a46d0b05\n",
      "5 8338273a-151d-44a8-94ba-0ff6ac69f5db\n",
      "* 8338273a-151d-44a8-94ba-0ff6ac69f5db\n",
      "6 8ad01491-fff6-4762-81c2-a44316a2e32b\n",
      "* 8ad01491-fff6-4762-81c2-a44316a2e32b\n",
      "7 953cc66a-49e8-4386-8178-32d7aea5539f\n",
      "* 953cc66a-49e8-4386-8178-32d7aea5539f\n",
      "8 c3d073d2-8b30-49b1-9a46-e1260329924f\n",
      "* c3d073d2-8b30-49b1-9a46-e1260329924f\n",
      "9 1361864f-1682-4251-a832-c30da8216830\n",
      "* 1361864f-1682-4251-a832-c30da8216830\n",
      "10 1d271952-dbb0-4bf4-96e4-d20970f8dd66\n",
      "* 1d271952-dbb0-4bf4-96e4-d20970f8dd66\n",
      "11 29574a5a-2bd6-472e-ab43-e8507249c203\n",
      "* 29574a5a-2bd6-472e-ab43-e8507249c203\n",
      "12 3071ab0b-7554-43dd-b499-430e99d93fd3\n",
      "* 3071ab0b-7554-43dd-b499-430e99d93fd3\n",
      "13 3e51a831-2774-4262-98a4-b693aab89af8\n",
      "* 3e51a831-2774-4262-98a4-b693aab89af8\n",
      "14 54b84d09-1081-45ef-924f-1ab2b2688295\n",
      "* 54b84d09-1081-45ef-924f-1ab2b2688295\n",
      "15 610fe86d-3b42-4c46-81fa-9ccc8ff957a6\n",
      "* 610fe86d-3b42-4c46-81fa-9ccc8ff957a6\n",
      "16 62b6a72e-4406-4ebf-a30d-7d9f704dfe5c\n",
      "* 62b6a72e-4406-4ebf-a30d-7d9f704dfe5c\n",
      "17 66201e08-5198-485d-8142-8210bcc1ff79\n",
      "* 66201e08-5198-485d-8142-8210bcc1ff79\n",
      "18 7bd1eeb9-38fc-46a4-856d-f748e0cac419\n",
      "* 7bd1eeb9-38fc-46a4-856d-f748e0cac419\n",
      "19 80bf5c3e-011c-4e1a-ade4-6119ef5de513\n",
      "* 80bf5c3e-011c-4e1a-ade4-6119ef5de513\n",
      "20 bc2fbda4-575a-4aed-b886-1a62fecfe5b9\n",
      "* bc2fbda4-575a-4aed-b886-1a62fecfe5b9\n",
      "21 bceadf33-1a9f-47ee-8eb0-4c7078fab0ac\n",
      "* bceadf33-1a9f-47ee-8eb0-4c7078fab0ac\n",
      "22 bfc67bc8-c96c-449d-aca5-f3a8eb85a09c\n",
      "* bfc67bc8-c96c-449d-aca5-f3a8eb85a09c\n",
      "23 d55e3539-1ce4-4c34-9562-b07da6e863b9\n",
      "* d55e3539-1ce4-4c34-9562-b07da6e863b9\n",
      "24 de63b821-028d-4463-b672-862c71723af5\n",
      "* de63b821-028d-4463-b672-862c71723af5\n",
      "25 ea961d6f-185d-4c1a-b451-00921aa1d895\n",
      "* ea961d6f-185d-4c1a-b451-00921aa1d895\n",
      "26 1a1633f2-be48-4215-852d-0b8a01d49fb3\n",
      "* 1a1633f2-be48-4215-852d-0b8a01d49fb3\n",
      "27 25d7d212-105a-4abe-8d36-ba5520a81229\n",
      "* 25d7d212-105a-4abe-8d36-ba5520a81229\n",
      "28 6a5028c5-a465-4f6f-94fb-916c75462b5f\n",
      "* 6a5028c5-a465-4f6f-94fb-916c75462b5f\n",
      "29 8e99e8fa-e37a-4f2b-859b-c367f49eaa9b\n",
      "* 8e99e8fa-e37a-4f2b-859b-c367f49eaa9b\n",
      "30 9301aa03-17fb-4441-8162-4255b08107e1\n",
      "* 9301aa03-17fb-4441-8162-4255b08107e1\n",
      "31 985f996f-6c64-48b5-a6a7-2833ea8d238b\n",
      "* 985f996f-6c64-48b5-a6a7-2833ea8d238b\n",
      "32 9b287f44-bfc9-479b-a61d-aea595143202\n",
      "* 9b287f44-bfc9-479b-a61d-aea595143202\n",
      "33 af8abe82-8d52-4772-bdb5-b2d01c598cbf\n",
      "* af8abe82-8d52-4772-bdb5-b2d01c598cbf\n",
      "34 e1c5950b-28af-421b-8a57-13636a5ab0e2\n",
      "* e1c5950b-28af-421b-8a57-13636a5ab0e2\n",
      "35 1a1633f2-be48-4215-852d-0b8a01d49fb3\n",
      "* 1a1633f2-be48-4215-852d-0b8a01d49fb3\n",
      "36 25d7d212-105a-4abe-8d36-ba5520a81229\n",
      "* 25d7d212-105a-4abe-8d36-ba5520a81229\n",
      "37 6a5028c5-a465-4f6f-94fb-916c75462b5f\n",
      "* 6a5028c5-a465-4f6f-94fb-916c75462b5f\n",
      "38 8e99e8fa-e37a-4f2b-859b-c367f49eaa9b\n",
      "* 8e99e8fa-e37a-4f2b-859b-c367f49eaa9b\n",
      "39 9301aa03-17fb-4441-8162-4255b08107e1\n",
      "* 9301aa03-17fb-4441-8162-4255b08107e1\n",
      "40 985f996f-6c64-48b5-a6a7-2833ea8d238b\n",
      "* 985f996f-6c64-48b5-a6a7-2833ea8d238b\n",
      "41 9b287f44-bfc9-479b-a61d-aea595143202\n",
      "* 9b287f44-bfc9-479b-a61d-aea595143202\n",
      "42 af8abe82-8d52-4772-bdb5-b2d01c598cbf\n",
      "* af8abe82-8d52-4772-bdb5-b2d01c598cbf\n",
      "43 e1c5950b-28af-421b-8a57-13636a5ab0e2\n",
      "* e1c5950b-28af-421b-8a57-13636a5ab0e2\n"
     ]
    }
   ],
   "source": [
    "x = 0\n",
    "for item in parsed_e_df[parsed_e_df['class']==\"S\"].index:\n",
    "  # print(item)\n",
    "  x += 1\n",
    "  print(x, item)\n",
    "  if item in ddb1e_df.index:\n",
    "    print('*',item)"
   ],
   "metadata": {
    "collapsed": false
   }
  },
  {
   "cell_type": "code",
   "execution_count": 407,
   "outputs": [],
   "source": [
    "working = list(parsed_e_df.index)"
   ],
   "metadata": {
    "collapsed": false
   }
  },
  {
   "cell_type": "code",
   "execution_count": 409,
   "outputs": [
    {
     "data": {
      "text/plain": "47"
     },
     "execution_count": 409,
     "metadata": {},
     "output_type": "execute_result"
    }
   ],
   "source": [
    "len(set([x for x in working if working.count(x) > 1]))"
   ],
   "metadata": {
    "collapsed": false
   }
  },
  {
   "cell_type": "code",
   "execution_count": 396,
   "outputs": [
    {
     "data": {
      "text/plain": "43"
     },
     "execution_count": 396,
     "metadata": {},
     "output_type": "execute_result"
    }
   ],
   "source": [
    "len(working)"
   ],
   "metadata": {
    "collapsed": false
   }
  },
  {
   "cell_type": "code",
   "execution_count": 397,
   "outputs": [
    {
     "data": {
      "text/plain": "34"
     },
     "execution_count": 397,
     "metadata": {},
     "output_type": "execute_result"
    }
   ],
   "source": [
    "len(set(working))"
   ],
   "metadata": {
    "collapsed": false
   }
  },
  {
   "cell_type": "code",
   "execution_count": 155,
   "outputs": [
    {
     "data": {
      "text/plain": "(15026, 14588)"
     },
     "execution_count": 155,
     "metadata": {},
     "output_type": "execute_result"
    }
   ],
   "source": [
    "len(dh.relation_records), len(relation_records_cleaned)"
   ],
   "metadata": {
    "collapsed": false
   }
  },
  {
   "cell_type": "code",
   "execution_count": 19,
   "outputs": [
    {
     "data": {
      "text/plain": "[{'class': 'E',\n  'id': 'fe6753df-aeda-4d6c-8456-fabaf5ee1ab0',\n  'label': 'Creation of ‘Acta Concilii Tolosani’',\n  'language': '',\n  'detail': '',\n  'data': {'logicalType': '1'},\n  'props': [],\n  'notes': ['Import batch [development] 2023-01-13 19:35:45.939035',\n   'special T153>:creation_event_id E0001_T153'],\n  'status': '1',\n  'references': [],\n  'legacyId': 'E0001_T153'},\n {'class': 'E',\n  'id': 'c7f31835-13a4-405c-a7aa-e630b40e14d8',\n  'label': 'Creation of ‘Acta Sancti Officii Bononie ab anno 1291 usque ad annum 1310’',\n  'language': '',\n  'detail': '',\n  'data': {'logicalType': '1'},\n  'props': [],\n  'notes': ['Import batch [development] 2023-01-13 19:35:45.939035',\n   'special T77>:creation_event_id E0002_T77'],\n  'status': '1',\n  'references': [],\n  'legacyId': 'E0002_T77'},\n {'class': 'V',\n  'id': '09747a19-bf4b-48d1-b782-140bd1a2e8f6',\n  'label': '1291',\n  'language': '',\n  'detail': '',\n  'data': {'logicalType': '1'},\n  'props': [],\n  'notes': ['Import batch [development] 2023-01-13 19:35:45.939035',\n   'special T77>:creation_event_id E0002_T77'],\n  'status': '1',\n  'references': []},\n {'class': 'V',\n  'id': '0228d8e1-2b90-43c8-919a-c123733536be',\n  'label': '1291',\n  'language': '',\n  'detail': '',\n  'data': {'logicalType': '1'},\n  'props': [],\n  'notes': ['Import batch [development] 2023-01-13 19:35:45.939035',\n   'special T77>:creation_event_id E0002_T77'],\n  'status': '1',\n  'references': []},\n {'class': 'V',\n  'id': '3abde31c-f82c-48c5-acc4-46177ff43b5f',\n  'label': '1310',\n  'language': '',\n  'detail': '',\n  'data': {'logicalType': '1'},\n  'props': [],\n  'notes': ['Import batch [development] 2023-01-13 19:35:45.939035',\n   'special T77>:creation_event_id E0002_T77'],\n  'status': '1',\n  'references': []},\n {'class': 'V',\n  'id': '7f8a144a-1f66-4a15-8fe4-da55118830f4',\n  'label': '1310',\n  'language': '',\n  'detail': '',\n  'data': {'logicalType': '1'},\n  'props': [],\n  'notes': ['Import batch [development] 2023-01-13 19:35:45.939035',\n   'special T77>:creation_event_id E0002_T77'],\n  'status': '1',\n  'references': []},\n {'class': 'E',\n  'id': '7a390bc6-955e-43b3-8dac-4720be256abc',\n  'label': 'Creation of ‘Acta Synodi Atrebatensis’',\n  'language': '',\n  'detail': '',\n  'data': {'logicalType': '1'},\n  'props': [],\n  'notes': ['Import batch [development] 2023-01-13 19:35:45.939035',\n   'special T94>:creation_event_id E0003_T94'],\n  'status': '1',\n  'references': [],\n  'legacyId': 'E0003_T94'},\n {'class': 'E',\n  'id': '4cef8ccd-3946-4178-b320-dfffdec2b1cc',\n  'label': 'Creation of ‘Actus pontificum Cenomannis in urbe degentium: Gesta Domni Hildeberti episcopi’',\n  'language': '',\n  'detail': '',\n  'data': {'logicalType': '1'},\n  'props': [],\n  'notes': ['Import batch [development] 2023-01-13 19:35:45.939035',\n   'special T131>:creation_event_id E0004_T131'],\n  'status': '1',\n  'references': [],\n  'legacyId': 'E0004_T131'},\n {'class': 'E',\n  'id': '8411c34f-7ab8-4b1e-aed8-6297ad1be94a',\n  'label': 'Creation of ‘Annales Aquenses’',\n  'language': '',\n  'detail': '',\n  'data': {'logicalType': '1'},\n  'props': [],\n  'notes': ['Import batch [development] 2023-01-13 19:35:45.939035',\n   'special T141>:creation_event_id E0005_T141'],\n  'status': '1',\n  'references': [],\n  'legacyId': 'E0005_T141'},\n {'class': 'E',\n  'id': 'fcef2e6b-2db9-466c-96b6-74b5f4973812',\n  'label': 'Creation of ‘Annales Brunwilarenses’',\n  'language': '',\n  'detail': '',\n  'data': {'logicalType': '1'},\n  'props': [],\n  'notes': ['Import batch [development] 2023-01-13 19:35:45.939035',\n   'special T149>:creation_event_id E0006_T149'],\n  'status': '1',\n  'references': [],\n  'legacyId': 'E0006_T149'},\n {'class': 'R',\n  'id': '9d91cc45-763d-48cd-8629-694d4bc87896',\n  'label': 'MGH SS XVI, 727',\n  'language': '',\n  'detail': '',\n  'data': {'url': '', 'partValueBaseURL': '', 'partValueLabel': ''},\n  'props': [],\n  'notes': ['Import batch [development] 2023-01-13 19:35:45.939035'],\n  'status': '1',\n  'references': []},\n {'class': 'V',\n  'id': '4764b6d6-3703-4f45-8714-95b31a90d3aa',\n  'label': '727-727',\n  'language': '',\n  'detail': '',\n  'data': {'logicalType': '1'},\n  'props': [],\n  'notes': ['Import batch [development] 2023-01-13 19:35:45.939035',\n   'propvalue_2nd>5:T149:edition_1_page_range:727-727'],\n  'status': '1',\n  'references': []},\n {'class': 'E',\n  'id': 'bd43dea5-e2fa-495c-8bff-28c387b44b14',\n  'label': 'Creation of ‘Annales Cameracenses’',\n  'language': '',\n  'detail': '',\n  'data': {'logicalType': '1'},\n  'props': [],\n  'notes': ['Import batch [development] 2023-01-13 19:35:45.939035',\n   'special T121>:creation_event_id E0007_T121'],\n  'status': '1',\n  'references': [],\n  'legacyId': 'E0007_T121'},\n {'class': 'E',\n  'id': 'a6fb2a43-4445-4675-bff6-1380f925e59b',\n  'label': 'Creation of ‘Annales Casinenses’',\n  'language': '',\n  'detail': '',\n  'data': {'logicalType': '1'},\n  'props': [],\n  'notes': ['Import batch [development] 2023-01-13 19:35:45.939035',\n   'special T127>:creation_event_id E0008_T127'],\n  'status': '1',\n  'references': [],\n  'legacyId': 'E0008_T127'},\n {'class': 'E',\n  'id': '9238a54a-8b50-4418-8a8a-5d8e1aeed77b',\n  'label': 'Creation of ‘Annales Magdeburgenses’',\n  'language': '',\n  'detail': '',\n  'data': {'logicalType': '1'},\n  'props': [],\n  'notes': ['Import batch [development] 2023-01-13 19:35:45.939035',\n   'special T125>:creation_event_id E009_T125'],\n  'status': '1',\n  'references': [],\n  'legacyId': 'E009_T125'},\n {'class': 'E',\n  'id': 'ab82ccd8-b230-497b-80ef-4e6892a216fa',\n  'label': 'Creation of ‘Annales Melicenses’',\n  'language': '',\n  'detail': '',\n  'data': {'logicalType': '1'},\n  'props': [],\n  'notes': ['Import batch [development] 2023-01-13 19:35:45.939035',\n   'special T95>:creation_event_id E0010_T95'],\n  'status': '1',\n  'references': [],\n  'legacyId': 'E0010_T95'},\n {'class': 'E',\n  'id': '800a74e2-c781-4d0f-a1e2-135ace36239e',\n  'label': 'Creation of ‘Annales Parchenses’',\n  'language': '',\n  'detail': '',\n  'data': {'logicalType': '1'},\n  'props': [],\n  'notes': ['Import batch [development] 2023-01-13 19:35:45.939035',\n   'special T120>:creation_event_id E0011_T120'],\n  'status': '1',\n  'references': [],\n  'legacyId': 'E0011_T120'},\n {'class': 'E',\n  'id': 'b9e373c3-a408-47f6-9a3e-36025c29bcfc',\n  'label': 'Creation of ‘Annales Rodenses’',\n  'language': '',\n  'detail': '',\n  'data': {'logicalType': '1'},\n  'props': [],\n  'notes': ['Import batch [development] 2023-01-13 19:35:45.939035',\n   'special T142>:creation_event_id E0012_T142'],\n  'status': '1',\n  'references': [],\n  'legacyId': 'E0012_T142'},\n {'class': 'E',\n  'id': 'c0369a23-8752-4d06-adae-cae9798bae36',\n  'label': 'Creation of ‘Annales Trevirenses’',\n  'language': '',\n  'detail': '',\n  'data': {'logicalType': '1'},\n  'props': [],\n  'notes': ['Import batch [development] 2023-01-13 19:35:45.939035',\n   'special T108>:creation_event_id E0013_T108'],\n  'status': '1',\n  'references': [],\n  'legacyId': 'E0013_T108'},\n {'class': 'E',\n  'id': '395863f8-b3f6-4037-87c7-914142ec7067',\n  'label': 'Creation of ‘Annalista Saxo’',\n  'language': '',\n  'detail': '',\n  'data': {'logicalType': '1'},\n  'props': [],\n  'notes': ['Import batch [development] 2023-01-13 19:35:45.939035',\n   'special T96>:creation_event_id E0014_T96'],\n  'status': '1',\n  'references': [],\n  'legacyId': 'E0014_T96'},\n {'class': 'E',\n  'id': '90ef6288-3994-4149-b5be-81f086d903ae',\n  'label': 'Creation of ‘Answer of Sigfrid’',\n  'language': '',\n  'detail': '',\n  'data': {'logicalType': '1'},\n  'props': [],\n  'notes': ['Import batch [development] 2023-01-13 19:35:45.939035',\n   'special T70>:creation_event_id E0015_T70'],\n  'status': '1',\n  'references': [],\n  'legacyId': 'E0015_T70'},\n {'class': 'V',\n  'id': 'd303c381-835c-4478-ab74-3aaac1ee9c1f',\n  'label': '1368',\n  'language': '',\n  'detail': '',\n  'data': {'logicalType': '1'},\n  'props': [],\n  'notes': ['Import batch [development] 2023-01-13 19:35:45.939035',\n   'special T70>:creation_event_id E0015_T70'],\n  'status': '1',\n  'references': []},\n {'class': 'V',\n  'id': '5b4bfb4b-e785-464a-bea2-c1f4b2804f59',\n  'label': '1370',\n  'language': '',\n  'detail': '',\n  'data': {'logicalType': '1'},\n  'props': [],\n  'notes': ['Import batch [development] 2023-01-13 19:35:45.939035',\n   'special T70>:creation_event_id E0015_T70'],\n  'status': '1',\n  'references': []},\n {'class': 'E',\n  'id': '11bbcc55-7249-4e72-a5e0-2952c7983a72',\n  'label': 'Creation of ‘Balduini Ninoviensis Chronicon’',\n  'language': '',\n  'detail': '',\n  'data': {'logicalType': '1'},\n  'props': [],\n  'notes': ['Import batch [development] 2023-01-13 19:35:45.939035',\n   'special T128>:creation_event_id E0016_T128'],\n  'status': '1',\n  'references': [],\n  'legacyId': 'E0016_T128'},\n {'class': 'E',\n  'id': 'c0a7f845-8eda-4aae-b83b-6b026d7f8895',\n  'label': 'Creation of ‘Bernard Gui’s Book of Sentences’',\n  'language': '',\n  'detail': '',\n  'data': {'logicalType': '1'},\n  'props': [],\n  'notes': ['Import batch [development] 2023-01-13 19:35:45.939035',\n   'special T22>:creation_event_id E0017_T22'],\n  'status': '1',\n  'references': [],\n  'legacyId': 'E0017_T22'},\n {'class': 'V',\n  'id': '6d8032e3-2f82-4d26-bd8d-e4b2d24066c0',\n  'label': '1308',\n  'language': '',\n  'detail': '',\n  'data': {'logicalType': '1'},\n  'props': [],\n  'notes': ['Import batch [development] 2023-01-13 19:35:45.939035',\n   'special T22>:creation_event_id E0017_T22'],\n  'status': '1',\n  'references': []},\n {'class': 'V',\n  'id': '769a053e-e971-4094-9044-4af36c8b2387',\n  'label': '1308',\n  'language': '',\n  'detail': '',\n  'data': {'logicalType': '1'},\n  'props': [],\n  'notes': ['Import batch [development] 2023-01-13 19:35:45.939035',\n   'special T22>:creation_event_id E0017_T22'],\n  'status': '1',\n  'references': []},\n {'class': 'V',\n  'id': 'b03db986-23d4-49cc-b7b1-82a49e83c440',\n  'label': '1323',\n  'language': '',\n  'detail': '',\n  'data': {'logicalType': '1'},\n  'props': [],\n  'notes': ['Import batch [development] 2023-01-13 19:35:45.939035',\n   'special T22>:creation_event_id E0017_T22'],\n  'status': '1',\n  'references': []},\n {'class': 'V',\n  'id': '136f75c3-fce1-4e09-bab9-e24708691665',\n  'label': '1323',\n  'language': '',\n  'detail': '',\n  'data': {'logicalType': '1'},\n  'props': [],\n  'notes': ['Import batch [development] 2023-01-13 19:35:45.939035',\n   'special T22>:creation_event_id E0017_T22'],\n  'status': '1',\n  'references': []},\n {'class': 'R',\n  'id': 'c1332ac4-ef41-44d5-9935-e2d2ce975fed',\n  'label': 'Palès-Gobilliard, 2002',\n  'language': '',\n  'detail': '',\n  'data': {'url': 'https://www.zotero.org/groups/446972/david_zbiral_bibliography/items/itemKey/K3B36Q96/',\n   'partValueBaseURL': '',\n   'partValueLabel': ''},\n  'props': [],\n  'notes': ['Import batch [development] 2023-01-13 19:35:45.939035'],\n  'status': '1',\n  'references': []},\n {'class': 'R',\n  'id': '6f004e52-46e1-43c5-ab34-f18bb95f8c2c',\n  'label': 'Limborch, 1692',\n  'language': '',\n  'detail': '',\n  'data': {'url': 'https://www.zotero.org/groups/446972/david_zbiral_bibliography/items/itemKey/4EJAHUVF/',\n   'partValueBaseURL': '',\n   'partValueLabel': ''},\n  'props': [],\n  'notes': ['Import batch [development] 2023-01-13 19:35:45.939035'],\n  'status': '1',\n  'references': []},\n {'class': 'V',\n  'id': '47879b8e-9206-4ce3-afec-40181dbe1afe',\n  'label': '1-394',\n  'language': '',\n  'detail': '',\n  'data': {'logicalType': '1'},\n  'props': [],\n  'notes': ['Import batch [development] 2023-01-13 19:35:45.939035',\n   'propvalue_2nd>16:T22:edition_2_page_range:1-394'],\n  'status': '1',\n  'references': []},\n {'class': 'E',\n  'id': 'edd97a6e-b350-4110-8d3f-d40f52ff7639',\n  'label': 'Creation of ‘Book of sentences of Orvieto’',\n  'language': '',\n  'detail': '',\n  'data': {'logicalType': '1'},\n  'props': [],\n  'notes': ['Import batch [development] 2023-01-13 19:35:45.939035',\n   'special T76>:creation_event_id E0018_T76'],\n  'status': '1',\n  'references': [],\n  'legacyId': 'E0018_T76'},\n {'class': 'V',\n  'id': '1e2d8821-4c2d-40f3-b486-d3eb0182f765',\n  'label': '1r-34r',\n  'language': '',\n  'detail': '',\n  'data': {'logicalType': '1'},\n  'props': [],\n  'notes': ['Import batch [development] 2023-01-13 19:35:45.939035',\n   'propvalue_2nd>17:T76:manuscript_witness_1_with_range_entified:~V~1r-34r'],\n  'status': '1',\n  'references': []},\n {'class': 'R',\n  'id': '067ed81b-3266-4969-8078-f6ac59cc5931',\n  'label': \"D'Alatri, Inquisizione francescana\",\n  'language': '',\n  'detail': '',\n  'data': {'url': '', 'partValueBaseURL': '', 'partValueLabel': ''},\n  'props': [],\n  'notes': ['Import batch [development] 2023-01-13 19:35:45.939035'],\n  'status': '1',\n  'references': []},\n {'class': 'E',\n  'id': '39a8eb12-eeb4-4ad5-a42c-969698151a57',\n  'label': 'Creation of ‘carta Burchardi episcopi Cameracensium’',\n  'language': '',\n  'detail': '',\n  'data': {'logicalType': '1'},\n  'props': [],\n  'notes': ['Import batch [development] 2023-01-13 19:35:45.939035',\n   'special T113>:creation_event_id E0019_T113'],\n  'status': '1',\n  'references': [],\n  'legacyId': 'E0019_T113'},\n {'class': 'E',\n  'id': '779109f5-7334-4246-a01e-ac9bd2e3a524',\n  'label': 'Creation of ‘carta Guillelmi ducis Aquitanie’',\n  'language': '',\n  'detail': '',\n  'data': {'logicalType': '1'},\n  'props': [],\n  'notes': ['Import batch [development] 2023-01-13 19:35:45.939035',\n   'special T103>:creation_event_id E0020_T103'],\n  'status': '1',\n  'references': [],\n  'legacyId': 'E0020_T103'},\n {'class': 'V',\n  'id': '8ae08e8d-01e4-4ea7-ac8f-8579aec03dd5',\n  'label': '1016',\n  'language': '',\n  'detail': '',\n  'data': {'logicalType': '1'},\n  'props': [],\n  'notes': ['Import batch [development] 2023-01-13 19:35:45.939035',\n   'special T103>:creation_event_id E0020_T103'],\n  'status': '1',\n  'references': []},\n {'class': 'E',\n  'id': '576748a4-c2dd-49d4-93f4-f5fc199695da',\n  'label': 'Creation of ‘carta Hidolphi prepositi s. Michelis in Antverpia’',\n  'language': '',\n  'detail': '',\n  'data': {'logicalType': '1'},\n  'props': [],\n  'notes': ['Import batch [development] 2023-01-13 19:35:45.939035',\n   'special T112>:creation_event_id E0021_T112'],\n  'status': '1',\n  'references': [],\n  'legacyId': 'E0021_T112'},\n {'class': 'E',\n  'id': '0b204f9a-0d84-428b-b5ef-ba475d1b5cf3',\n  'label': 'Creation of ‘Carta Roberti regis Francie’',\n  'language': '',\n  'detail': '',\n  'data': {'logicalType': '1'},\n  'props': [],\n  'notes': ['Import batch [development] 2023-01-13 19:35:45.939035',\n   'special T91>:creation_event_id E0022_T91'],\n  'status': '1',\n  'references': [],\n  'legacyId': 'E0022_T91'},\n {'class': 'R',\n  'id': '567d4780-8684-4a22-9c63-7c7cfbb936f9',\n  'label': 'Bouquet, X',\n  'language': '',\n  'detail': '',\n  'data': {'url': '', 'partValueBaseURL': '', 'partValueLabel': ''},\n  'props': [],\n  'notes': ['Import batch [development] 2023-01-13 19:35:45.939035'],\n  'status': '1',\n  'references': []},\n {'class': 'V',\n  'id': 'df2cc4e1-6c98-4efd-b383-69fcd4f0c187',\n  'label': '605-607',\n  'language': '',\n  'detail': '',\n  'data': {'logicalType': '1'},\n  'props': [],\n  'notes': ['Import batch [development] 2023-01-13 19:35:45.939035',\n   'propvalue_2nd>21:T91:edition_1_page_range:605-607'],\n  'status': '1',\n  'references': []},\n {'class': 'E',\n  'id': '41bbfa3e-7e41-43a4-a98f-2aa013450a99',\n  'label': 'Creation of ‘Cartularium monasterii sancti Petri Carnotensis’',\n  'language': '',\n  'detail': '',\n  'data': {'logicalType': '1'},\n  'props': [],\n  'notes': ['Import batch [development] 2023-01-13 19:35:45.939035',\n   'special T86>:creation_event_id E0023_T86'],\n  'status': '1',\n  'references': [],\n  'legacyId': 'E0023_T86'},\n {'class': 'R',\n  'id': '057b2e3a-8bbb-4375-897a-b2384add8f63',\n  'label': 'Paul de Saint-Père de Chartres, \"Monasterii Sancti Petri Carnotensis Codex Diplomaticus. Pars\\nPrima, quae dicitur Vetus Aganon\", in: C. Guerard (ed.), \"Collection des cartulaires de France\", t. 1, Paris, 1840.',\n  'language': '',\n  'detail': '',\n  'data': {'url': '', 'partValueBaseURL': '', 'partValueLabel': ''},\n  'props': [],\n  'notes': ['Import batch [development] 2023-01-13 19:35:45.939035'],\n  'status': '1',\n  'references': []},\n {'class': 'V',\n  'id': 'c964d059-7985-43ca-a18d-15a444802dfc',\n  'label': '109-115; 1-254',\n  'language': '',\n  'detail': '',\n  'data': {'logicalType': '1'},\n  'props': [],\n  'notes': ['Import batch [development] 2023-01-13 19:35:45.939035',\n   'propvalue_2nd>22:T86:edition_1_page_range:109-115; 1-254'],\n  'status': '1',\n  'references': []},\n {'class': 'E',\n  'id': 'a546af0b-6ba4-4820-b18d-ae91e4111d67',\n  'label': 'Creation of ‘Chronica Albrici monachi Trium Fontium, a monacho Novi Monasterii Hoiensis interpolata’',\n  'language': '',\n  'detail': '',\n  'data': {'logicalType': '1'},\n  'props': [],\n  'notes': ['Import batch [development] 2023-01-13 19:35:45.939035',\n   'special T129>:creation_event_id E0024_T129'],\n  'status': '1',\n  'references': [],\n  'legacyId': 'E0024_T129'},\n {'class': 'E',\n  'id': 'd22f2399-75f5-497e-8d53-2cd9d3c1dd53',\n  'label': 'Creation of ‘Chronicon Aquitanicum et Francicum’',\n  'language': '',\n  'detail': '',\n  'data': {'logicalType': '1'},\n  'props': [],\n  'notes': ['Import batch [development] 2023-01-13 19:35:45.939035',\n   'special T83>:creation_event_id E0025_T83'],\n  'status': '1',\n  'references': [],\n  'legacyId': 'E0025_T83'},\n {'class': 'R',\n  'id': '5bf2856b-e0ba-46a2-94a3-70f40b2dc5ab',\n  'label': '\"Ademari Cabannensis Chronicon\", cura et studio P. Bourgain, iuuamen praestantibus R. Landes et G. Pon. Turnhout: Brepols, 1999.',\n  'language': '',\n  'detail': '',\n  'data': {'url': '', 'partValueBaseURL': '', 'partValueLabel': ''},\n  'props': [],\n  'notes': ['Import batch [development] 2023-01-13 19:35:45.939035'],\n  'status': '1',\n  'references': []},\n {'class': 'V',\n  'id': 'a3fa0936-b1f2-47c5-a31b-13850ca70e76',\n  'label': '1-189: 170, 180',\n  'language': '',\n  'detail': '',\n  'data': {'logicalType': '1'},\n  'props': [],\n  'notes': ['Import batch [development] 2023-01-13 19:35:45.939035',\n   'propvalue_2nd>24:T83:edition_1_page_range:1-189: 170, 180'],\n  'status': '1',\n  'references': []},\n {'class': 'R',\n  'id': 'e64ff8de-083f-48dc-ae9a-99cea352cd7f',\n  'label': 'Adémar de Chabannes, Chronique, ed. J. Chavanon, Paris 1897.',\n  'language': '',\n  'detail': '',\n  'data': {'url': '', 'partValueBaseURL': '', 'partValueLabel': ''},\n  'props': [],\n  'notes': ['Import batch [development] 2023-01-13 19:35:45.939035'],\n  'status': '1',\n  'references': []},\n {'class': 'V',\n  'id': 'db71a8e3-ce76-4eb6-9962-de09bba51354',\n  'label': '173, 184-185; 5-211',\n  'language': '',\n  'detail': '',\n  'data': {'logicalType': '1'},\n  'props': [],\n  'notes': ['Import batch [development] 2023-01-13 19:35:45.939035',\n   'propvalue_2nd>24:T83:edition_2_page_range:173, 184-185; 5-211'],\n  'status': '1',\n  'references': []},\n {'class': 'E',\n  'id': '4b5db96a-2d12-4150-bfb7-e211081a3e91',\n  'label': 'Creation of ‘Chronicon Bernoldi’',\n  'language': '',\n  'detail': '',\n  'data': {'logicalType': '1'},\n  'props': [],\n  'notes': ['Import batch [development] 2023-01-13 19:35:45.939035',\n   'special T97>:creation_event_id E0026_T97'],\n  'status': '1',\n  'references': [],\n  'legacyId': 'E0026_T97'},\n {'class': 'E',\n  'id': 'c5caaaea-65ed-41b8-8756-fe0b3723e48f',\n  'label': 'Creation of ‘Chronicon Britannicum’',\n  'language': '',\n  'detail': '',\n  'data': {'logicalType': '1'},\n  'props': [],\n  'notes': ['Import batch [development] 2023-01-13 19:35:45.939035',\n   'special T122>:creation_event_id E0027_T122'],\n  'status': '1',\n  'references': [],\n  'legacyId': 'E0027_T122'},\n {'class': 'E',\n  'id': '2659fec3-4ffb-4f22-9ca7-1699cd0e7d0d',\n  'label': 'Creation of ‘Chronicon Sancti Petri Vivi Senonensis’',\n  'language': '',\n  'detail': '',\n  'data': {'logicalType': '1'},\n  'props': [],\n  'notes': ['Import batch [development] 2023-01-13 19:35:45.939035',\n   'special T89>:creation_event_id E0028_T89'],\n  'status': '1',\n  'references': [],\n  'legacyId': 'E0028_T89'},\n {'class': 'R',\n  'id': '02aa0247-7379-44c5-8a28-471ac2b41082',\n  'label': 'Chronicon Sancti Petri Vivi Senonensis, Bouquet, X',\n  'language': '',\n  'detail': '',\n  'data': {'url': '', 'partValueBaseURL': '', 'partValueLabel': ''},\n  'props': [],\n  'notes': ['Import batch [development] 2023-01-13 19:35:45.939035'],\n  'status': '1',\n  'references': []},\n {'class': 'V',\n  'id': 'f86fa25a-b876-40e5-ab8a-32a3f377bf98',\n  'label': '224-224',\n  'language': '',\n  'detail': '',\n  'data': {'logicalType': '1'},\n  'props': [],\n  'notes': ['Import batch [development] 2023-01-13 19:35:45.939035',\n   'propvalue_2nd>27:T89:edition_1_page_range:224-224'],\n  'status': '1',\n  'references': []},\n {'class': 'E',\n  'id': '505c38fb-d6c8-4b45-83f1-af981d643655',\n  'label': 'Creation of ‘Chronicon Turonense’',\n  'language': '',\n  'detail': '',\n  'data': {'logicalType': '1'},\n  'props': [],\n  'notes': ['Import batch [development] 2023-01-13 19:35:45.939035',\n   'special T90>:creation_event_id E0029_T90'],\n  'status': '1',\n  'references': [],\n  'legacyId': 'E0029_T90'},\n {'class': 'R',\n  'id': '1f614993-33a5-4528-9fab-8a7d3e6b3b29',\n  'label': 'Chronicon Turonense, Bouquet, X',\n  'language': '',\n  'detail': '',\n  'data': {'url': '', 'partValueBaseURL': '', 'partValueLabel': ''},\n  'props': [],\n  'notes': ['Import batch [development] 2023-01-13 19:35:45.939035'],\n  'status': '1',\n  'references': []},\n {'class': 'V',\n  'id': '1c01d5a9-a8de-420a-92a8-d4aab4182fee',\n  'label': '284-284',\n  'language': '',\n  'detail': '',\n  'data': {'logicalType': '1'},\n  'props': [],\n  'notes': ['Import batch [development] 2023-01-13 19:35:45.939035',\n   'propvalue_2nd>28:T90:edition_1_page_range:284-284'],\n  'status': '1',\n  'references': []},\n {'class': 'E',\n  'id': 'e965895f-2b95-4291-baaa-709102c15bdd',\n  'label': 'Creation of ‘Collectoria 133’',\n  'language': '',\n  'detail': '',\n  'data': {'logicalType': '1'},\n  'props': [],\n  'notes': ['Import batch [development] 2023-01-13 19:35:45.939035',\n   'special T78>:creation_event_id E0030_T78'],\n  'status': '1',\n  'references': [],\n  'legacyId': 'E0030_T78'},\n {'class': 'E',\n  'id': '930306ac-af39-41cb-b36d-c3d1b1563810',\n  'label': 'Creation of ‘Commentaria in epistolas Pauli’',\n  'language': '',\n  'detail': '',\n  'data': {'logicalType': '1'},\n  'props': [],\n  'notes': ['Import batch [development] 2023-01-13 19:35:45.939035',\n   'special T148>:creation_event_id E0031_T148'],\n  'status': '1',\n  'references': [],\n  'legacyId': 'E0031_T148'},\n {'class': 'R',\n  'id': 'dd9ed6fd-c979-493c-98ee-1491af2be49a',\n  'label': 'PL 181, 1426-1427',\n  'language': '',\n  'detail': '',\n  'data': {'url': '', 'partValueBaseURL': '', 'partValueLabel': ''},\n  'props': [],\n  'notes': ['Import batch [development] 2023-01-13 19:35:45.939035'],\n  'status': '1',\n  'references': []},\n {'class': 'V',\n  'id': '70ece6cb-5eb0-42c6-8ab5-5aa0f3db66fe',\n  'label': '1426-1427',\n  'language': '',\n  'detail': '',\n  'data': {'logicalType': '1'},\n  'props': [],\n  'notes': ['Import batch [development] 2023-01-13 19:35:45.939035',\n   'propvalue_2nd>30:T148:edition_1_page_range:1426-1427'],\n  'status': '1',\n  'references': []},\n {'class': 'E',\n  'id': '49575220-65e1-4cd6-82ea-db545b0a3afc',\n  'label': 'Creation of ‘Confession of Iohannes Leser’',\n  'language': '',\n  'detail': '',\n  'data': {'logicalType': '1'},\n  'props': [],\n  'notes': ['Import batch [development] 2023-01-13 19:35:45.939035',\n   'special T63>:creation_event_id E0032_T63'],\n  'status': '1',\n  'references': [],\n  'legacyId': 'E0032_T63'},\n {'class': 'V',\n  'id': 'd72038e9-6c84-481f-bcb5-0b7323649677',\n  'label': '1365',\n  'language': '',\n  'detail': '',\n  'data': {'logicalType': '1'},\n  'props': [],\n  'notes': ['Import batch [development] 2023-01-13 19:35:45.939035',\n   'special T63>:creation_event_id E0032_T63'],\n  'status': '1',\n  'references': []},\n {'class': 'V',\n  'id': '9e7eabbd-24d1-4f09-9904-6025331d9008',\n  'label': '1367',\n  'language': '',\n  'detail': '',\n  'data': {'logicalType': '1'},\n  'props': [],\n  'notes': ['Import batch [development] 2023-01-13 19:35:45.939035',\n   'special T63>:creation_event_id E0032_T63'],\n  'status': '1',\n  'references': []},\n {'class': 'E',\n  'id': 'e4c8b0be-8a81-49a1-a02e-2401a3c482d0',\n  'label': 'Creation of ‘Confirmation of depositions before Ferrer and Pons Gary’',\n  'language': '',\n  'detail': '',\n  'data': {'logicalType': '1'},\n  'props': [],\n  'notes': ['Import batch [development] 2023-01-13 19:35:45.939035',\n   'special T5>:creation_event_id E0033_T5'],\n  'status': '1',\n  'references': [],\n  'legacyId': 'E0033_T5'},\n {'class': 'V',\n  'id': '685eeff1-12d9-44b1-b067-b5bf48215375',\n  'label': '1243',\n  'language': '',\n  'detail': '',\n  'data': {'logicalType': '1'},\n  'props': [],\n  'notes': ['Import batch [development] 2023-01-13 19:35:45.939035',\n   'special T5>:creation_event_id E0033_T5'],\n  'status': '1',\n  'references': []},\n {'class': 'R',\n  'id': '4f1babfc-2889-4f17-9058-1592fa4a990e',\n  'label': 'Duvernoy, 1983',\n  'language': '',\n  'detail': '',\n  'data': {'url': 'https://www.zotero.org/groups/446972/david_zbiral_bibliography/items/itemKey/FT6DGF9D/',\n   'partValueBaseURL': '',\n   'partValueLabel': ''},\n  'props': [],\n  'notes': ['Import batch [development] 2023-01-13 19:35:45.939035'],\n  'status': '1',\n  'references': []},\n {'class': 'E',\n  'id': '268e32b7-eb34-4b2f-92d7-853a23810791',\n  'label': 'Creation of ‘Confirmation of proprietary rights of the descendants of Toulouse Cathars’',\n  'language': '',\n  'detail': '',\n  'data': {'logicalType': '1'},\n  'props': [],\n  'notes': ['Import batch [development] 2023-01-13 19:35:45.939035',\n   'special T15>:creation_event_id E0034_T15'],\n  'status': '1',\n  'references': [],\n  'legacyId': 'E0034_T15'},\n {'class': 'V',\n  'id': '5f1b3e49-04bb-466b-92a7-320916acaaa8',\n  'label': '1279',\n  'language': '',\n  'detail': '',\n  'data': {'logicalType': '1'},\n  'props': [],\n  'notes': ['Import batch [development] 2023-01-13 19:35:45.939035',\n   'special T15>:creation_event_id E0034_T15'],\n  'status': '1',\n  'references': []},\n {'class': 'R',\n  'id': 'be0acfba-47e3-4889-b071-58721067e5cd',\n  'label': 'Mundy, 1985',\n  'language': '',\n  'detail': '',\n  'data': {'url': 'https://www.zotero.org/groups/446972/david_zbiral_bibliography/items/collectionKey/PUJYJKMW/itemKey/35KUEJ8R/',\n   'partValueBaseURL': '',\n   'partValueLabel': ''},\n  'props': [],\n  'notes': ['Import batch [development] 2023-01-13 19:35:45.939035'],\n  'status': '1',\n  'references': []},\n {'class': 'V',\n  'id': '56a0524f-2ec8-410b-b472-c5d61fc19ac3',\n  'label': '77-115',\n  'language': '',\n  'detail': '',\n  'data': {'logicalType': '1'},\n  'props': [],\n  'notes': ['Import batch [development] 2023-01-13 19:35:45.939035',\n   'propvalue_2nd>33:T15:edition_1_page_range:77-115'],\n  'status': '1',\n  'references': []},\n {'class': 'E',\n  'id': '614a2bee-809e-4e79-a631-5c2919bdd0bf',\n  'label': 'Creation of ‘Contra Henricum Scismaticum et hereticum’',\n  'language': '',\n  'detail': '',\n  'data': {'logicalType': '1'},\n  'props': [],\n  'notes': ['Import batch [development] 2023-01-13 19:35:45.939035',\n   'special T134>:creation_event_id E0035_T134'],\n  'status': '1',\n  'references': [],\n  'legacyId': 'E0035_T134'},\n {'class': 'E',\n  'id': '722563b6-fbf5-4053-a457-0ea375272cfd',\n  'label': 'Creation of ‘Contra hereticos et schismaticos’',\n  'language': '',\n  'detail': '',\n  'data': {'logicalType': '1'},\n  'props': [],\n  'notes': ['Import batch [development] 2023-01-13 19:35:45.939035',\n   'special T135>:creation_event_id E0036_T135'],\n  'status': '1',\n  'references': [],\n  'legacyId': 'E0036_T135'},\n {'class': 'E',\n  'id': '90100ec5-6855-47ee-b480-4484b4ddf8d4',\n  'label': 'Creation of ‘Contra Petrobrusianos’',\n  'language': '',\n  'detail': '',\n  'data': {'logicalType': '1'},\n  'props': [],\n  'notes': ['Import batch [development] 2023-01-13 19:35:45.939035',\n   'special T137>:creation_event_id E0037_T137'],\n  'status': '1',\n  'references': [],\n  'legacyId': 'E0037_T137'},\n {'class': 'E',\n  'id': '129b4a44-e31b-4a3e-bac0-41d8d09d3158',\n  'label': 'Creation of ‘De vita sua sive Monodie’',\n  'language': '',\n  'detail': '',\n  'data': {'logicalType': '1'},\n  'props': [],\n  'notes': ['Import batch [development] 2023-01-13 19:35:45.939035',\n   'special T117>:creation_event_id E0038_T117'],\n  'status': '1',\n  'references': [],\n  'legacyId': 'E0038_T117'},\n {'class': 'E',\n  'id': '82eed402-47bc-4e93-9733-e04c7773a0ce',\n  'label': 'Creation of ‘Deliberatio supra hymnum trium puerorum’',\n  'language': '',\n  'detail': '',\n  'data': {'logicalType': '1'},\n  'props': [],\n  'notes': ['Import batch [development] 2023-01-13 19:35:45.939035',\n   'special T104>:creation_event_id E0039_T104'],\n  'status': '1',\n  'references': [],\n  'legacyId': 'E0039_T104'},\n {'class': 'V',\n  'id': '2e9bd202-1718-422a-b308-b700e7f325f2',\n  'label': '1030',\n  'language': '',\n  'detail': '',\n  'data': {'logicalType': '1'},\n  'props': [],\n  'notes': ['Import batch [development] 2023-01-13 19:35:45.939035',\n   'special T104>:creation_event_id E0039_T104'],\n  'status': '1',\n  'references': []},\n {'class': 'V',\n  'id': '28edb367-77e1-4e9c-96b4-1dad799de68a',\n  'label': '1046',\n  'language': '',\n  'detail': '',\n  'data': {'logicalType': '1'},\n  'props': [],\n  'notes': ['Import batch [development] 2023-01-13 19:35:45.939035',\n   'special T104>:creation_event_id E0039_T104'],\n  'status': '1',\n  'references': []},\n {'class': 'E',\n  'id': 'd8ffcb77-2a94-42d7-b08c-f9f40ef84462',\n  'label': 'Creation of ‘Depositions of converted Good men I’',\n  'language': '',\n  'detail': '',\n  'data': {'logicalType': '1'},\n  'props': [],\n  'notes': ['Import batch [development] 2023-01-13 19:35:45.939035',\n   'special T12>:creation_event_id E0040_T12'],\n  'status': '1',\n  'references': [],\n  'legacyId': 'E0040_T12'},\n {'class': 'V',\n  'id': '9800455a-5d21-4710-bcb1-d22de07fa656',\n  'label': '1254',\n  'language': '',\n  'detail': '',\n  'data': {'logicalType': '1'},\n  'props': [],\n  'notes': ['Import batch [development] 2023-01-13 19:35:45.939035',\n   'special T12>:creation_event_id E0040_T12'],\n  'status': '1',\n  'references': []},\n {'class': 'V',\n  'id': '81079df4-e24e-4e1b-adf1-74f349ab1101',\n  'label': '1254',\n  'language': '',\n  'detail': '',\n  'data': {'logicalType': '1'},\n  'props': [],\n  'notes': ['Import batch [development] 2023-01-13 19:35:45.939035',\n   'special T12>:creation_event_id E0040_T12'],\n  'status': '1',\n  'references': []},\n {'class': 'V',\n  'id': '69f400c2-5a10-431e-afdc-ea9bfc80874b',\n  'label': '1256',\n  'language': '',\n  'detail': '',\n  'data': {'logicalType': '1'},\n  'props': [],\n  'notes': ['Import batch [development] 2023-01-13 19:35:45.939035',\n   'special T12>:creation_event_id E0040_T12'],\n  'status': '1',\n  'references': []},\n {'class': 'V',\n  'id': '8b349aee-7ed1-475b-a3fc-25e2d087e71d',\n  'label': '1256',\n  'language': '',\n  'detail': '',\n  'data': {'logicalType': '1'},\n  'props': [],\n  'notes': ['Import batch [development] 2023-01-13 19:35:45.939035',\n   'special T12>:creation_event_id E0040_T12'],\n  'status': '1',\n  'references': []},\n {'class': 'R',\n  'id': 'ab0f94b5-0901-4ad2-8aea-dbadc6eab9ef',\n  'label': 'Blaquière & Dossat, 1968',\n  'language': '',\n  'detail': '',\n  'data': {'url': 'https://www.zotero.org/groups/446972/david_zbiral_bibliography/items/itemKey/6W5S9CE9/',\n   'partValueBaseURL': '',\n   'partValueLabel': ''},\n  'props': [],\n  'notes': ['Import batch [development] 2023-01-13 19:35:45.939035'],\n  'status': '1',\n  'references': []},\n {'class': 'V',\n  'id': '580cfb22-ef2c-4890-bdb7-2ea7e000c2e5',\n  'label': '262-276',\n  'language': '',\n  'detail': '',\n  'data': {'logicalType': '1'},\n  'props': [],\n  'notes': ['Import batch [development] 2023-01-13 19:35:45.939035',\n   'propvalue_2nd>39:T12:edition_1_page_range:262-276'],\n  'status': '1',\n  'references': []},\n {'class': 'R',\n  'id': '66a69756-6b5e-4139-b06f-951fa8874280',\n  'label': 'Duvernoy, 1986',\n  'language': '',\n  'detail': '',\n  'data': {'url': 'https://www.zotero.org/groups/446972/david_zbiral_bibliography/items/itemKey/35F45I8Z/',\n   'partValueBaseURL': '',\n   'partValueLabel': ''},\n  'props': [],\n  'notes': ['Import batch [development] 2023-01-13 19:35:45.939035'],\n  'status': '1',\n  'references': []},\n {'class': 'E',\n  'id': '0144c0d1-13c9-432e-87c6-27a99445c8ec',\n  'label': 'Creation of ‘Depositions of converted Good men II’',\n  'language': '',\n  'detail': '',\n  'data': {'logicalType': '1'},\n  'props': [],\n  'notes': ['Import batch [development] 2023-01-13 19:35:45.939035',\n   'special T13>:creation_event_id E0041_T13'],\n  'status': '1',\n  'references': [],\n  'legacyId': 'E0041_T13'},\n {'class': 'V',\n  'id': '3b6c0460-05f2-4c89-b2e6-ce65cbc3743a',\n  'label': '1266',\n  'language': '',\n  'detail': '',\n  'data': {'logicalType': '1'},\n  'props': [],\n  'notes': ['Import batch [development] 2023-01-13 19:35:45.939035',\n   'special T13>:creation_event_id E0041_T13'],\n  'status': '1',\n  'references': []},\n {'class': 'V',\n  'id': 'c13fd12e-f537-4d5c-bca4-45af5f3a8aa7',\n  'label': '1270',\n  'language': '',\n  'detail': '',\n  'data': {'logicalType': '1'},\n  'props': [],\n  'notes': ['Import batch [development] 2023-01-13 19:35:45.939035',\n   'special T13>:creation_event_id E0041_T13'],\n  'status': '1',\n  'references': []},\n {'class': 'R',\n  'id': '7163e2e4-756a-43f1-8213-ed29f7d337ac',\n  'label': 'Jean Duvernoy, „Cathares et faidits en Albigeois vers 1265-1275“, Heresis 3, 1984, 5-34 (reproduction at p. 21-24).',\n  'language': '',\n  'detail': '',\n  'data': {'url': '', 'partValueBaseURL': '', 'partValueLabel': ''},\n  'props': [],\n  'notes': ['Import batch [development] 2023-01-13 19:35:45.939035'],\n  'status': '1',\n  'references': []},\n {'class': 'E',\n  'id': '49a8c421-97b7-4d8a-b950-4bb7ed3ecae9',\n  'label': 'Creation of ‘Depositions of converted Good men III’',\n  'language': '',\n  'detail': '',\n  'data': {'logicalType': '1'},\n  'props': [],\n  'notes': ['Import batch [development] 2023-01-13 19:35:45.939035',\n   'special T29>:creation_event_id E0042_T29'],\n  'status': '1',\n  'references': [],\n  'legacyId': 'E0042_T29'},\n {'class': 'V',\n  'id': '30e00584-1e1e-472c-bbb1-64957540872b',\n  'label': '1256',\n  'language': '',\n  'detail': '',\n  'data': {'logicalType': '1'},\n  'props': [],\n  'notes': ['Import batch [development] 2023-01-13 19:35:45.939035',\n   'special T29>:creation_event_id E0042_T29'],\n  'status': '1',\n  'references': []},\n {'class': 'E',\n  'id': '04477f6a-107c-4036-9175-a016d24d064b',\n  'label': 'Creation of ‘Depositions of converted Good men IV’',\n  'language': '',\n  'detail': '',\n  'data': {'logicalType': '1'},\n  'props': [],\n  'notes': ['Import batch [development] 2023-01-13 19:35:45.939035',\n   'special T30>:creation_event_id E0043_T30'],\n  'status': '1',\n  'references': [],\n  'legacyId': 'E0043_T30'},\n {'class': 'E',\n  'id': '54167a1f-a738-4aba-9a48-389009e1161a',\n  'label': 'Creation of ‘Epistola Baldvini Episcopi’',\n  'language': '',\n  'detail': '',\n  'data': {'logicalType': '1'},\n  'props': [],\n  'notes': ['Import batch [development] 2023-01-13 19:35:45.939035',\n   'special T93>:creation_event_id E0044_T93'],\n  'status': '1',\n  'references': [],\n  'legacyId': 'E0044_T93'},\n {'class': 'R',\n  'id': '2f42db2c-6620-4603-b55b-3e1412f8fb34',\n  'label': 'Chronicon Morinense; edited by Jacques Malbrancq, De Morinis et Morinorum rebus (Tournai,\\n1639-1654), II',\n  'language': '',\n  'detail': '',\n  'data': {'url': '', 'partValueBaseURL': '', 'partValueLabel': ''},\n  'props': [],\n  'notes': ['Import batch [development] 2023-01-13 19:35:45.939035'],\n  'status': '1',\n  'references': []},\n {'class': 'V',\n  'id': 'e86af192-a17e-4441-900b-25f2242a46f1',\n  'label': '661-663',\n  'language': '',\n  'detail': '',\n  'data': {'logicalType': '1'},\n  'props': [],\n  'notes': ['Import batch [development] 2023-01-13 19:35:45.939035',\n   'propvalue_2nd>43:T93:edition_1_page_range:661-663'],\n  'status': '1',\n  'references': []},\n {'class': 'E',\n  'id': 'f1451e08-36f3-4f94-a4d5-540f4320e3d4',\n  'label': 'Creation of ‘epistola ecclesie Leodiensis ad Lucum papam II’',\n  'language': '',\n  'detail': '',\n  'data': {'logicalType': '1'},\n  'props': [],\n  'notes': ['Import batch [development] 2023-01-13 19:35:45.939035',\n   'special T140>:creation_event_id E0045_T140'],\n  'status': '1',\n  'references': [],\n  'legacyId': 'E0045_T140'},\n {'class': 'E',\n  'id': '317d47f1-b136-4e34-9ee8-d9fd079d2bdb',\n  'label': 'Creation of ‘epistola ecclesie Traiectensis ad Fridericum archiepiscopum Coloniensem’',\n  'language': '',\n  'detail': '',\n  'data': {'logicalType': '1'},\n  'props': [],\n  'notes': ['Import batch [development] 2023-01-13 19:35:45.939035',\n   'special T109>:creation_event_id E0046_T109'],\n  'status': '1',\n  'references': [],\n  'legacyId': 'E0046_T109'},\n {'class': 'R',\n  'id': '4557dfa2-adc3-4396-aff5-d68b2562bb6c',\n  'label': 'Codex Udalrici, ed. by  P. Jaffé, in: Bibliotheca rerum Germanicarum, t. 5: Monumenta Bambergensis',\n  'language': '',\n  'detail': '',\n  'data': {'url': '', 'partValueBaseURL': '', 'partValueLabel': ''},\n  'props': [],\n  'notes': ['Import batch [development] 2023-01-13 19:35:45.939035'],\n  'status': '1',\n  'references': []},\n {'class': 'V',\n  'id': '61f26573-74bf-4439-8f6b-fe6349ba12fb',\n  'label': '296-300',\n  'language': '',\n  'detail': '',\n  'data': {'logicalType': '1'},\n  'props': [],\n  'notes': ['Import batch [development] 2023-01-13 19:35:45.939035',\n   'propvalue_2nd>45:T109:edition_1_page_range:296-300'],\n  'status': '1',\n  'references': []},\n {'class': 'E',\n  'id': 'c814d781-2fa3-4cd0-aaad-d2cc5596df7b',\n  'label': 'Creation of ‘epistola Evervini Steinfeldensis ad S. Bernardum Clarevallem’',\n  'language': '',\n  'detail': '',\n  'data': {'logicalType': '1'},\n  'props': [],\n  'notes': ['Import batch [development] 2023-01-13 19:35:45.939035',\n   'special T139>:creation_event_id E0047_T139'],\n  'status': '1',\n  'references': [],\n  'legacyId': 'E0047_T139'},\n {'class': 'E',\n  'id': 'b1120f11-5bec-4ac0-8809-07fcc1fbf430',\n  'label': 'Creation of ‘epistola Gaufridi ad Archenfredum’',\n  'language': '',\n  'detail': '',\n  'data': {'logicalType': '1'},\n  'props': [],\n  'notes': ['Import batch [development] 2023-01-13 19:35:45.939035',\n   'special T147>:creation_event_id E0048_T147'],\n  'status': '1',\n  'references': [],\n  'legacyId': 'E0048_T147'},\n {'class': 'R',\n  'id': '071344c4-62d5-40a5-a015-e5ee56d7f615',\n  'label': 'PL 185, 410-416',\n  'language': '',\n  'detail': '',\n  'data': {'url': '', 'partValueBaseURL': '', 'partValueLabel': ''},\n  'props': [],\n  'notes': ['Import batch [development] 2023-01-13 19:35:45.939035'],\n  'status': '1',\n  'references': []},\n {'class': 'V',\n  'id': 'ed98c4df-d903-47a2-a7f4-52af0b94fc09',\n  'label': '410-416',\n  'language': '',\n  'detail': '',\n  'data': {'logicalType': '1'},\n  'props': [],\n  'notes': ['Import batch [development] 2023-01-13 19:35:45.939035',\n   'propvalue_2nd>47:T147:edition_1_page_range:410-416'],\n  'status': '1',\n  'references': []},\n {'class': 'E',\n  'id': 'c276ea87-48cf-41d9-8e36-548d05d4f8d2',\n  'label': 'Creation of ‘epistola Gerardi episcopi Camaracensis et Attrebatensis ad R.’',\n  'language': '',\n  'detail': '',\n  'data': {'logicalType': '1'},\n  'props': [],\n  'notes': ['Import batch [development] 2023-01-13 19:35:45.939035',\n   'special T143>:creation_event_id E0049_T143'],\n  'status': '1',\n  'references': [],\n  'legacyId': 'E0049_T143'},\n {'class': 'E',\n  'id': '3501661b-f1f0-416b-a9ac-6f95db90b95b',\n  'label': 'Creation of ‘epistola Hildeberti episcopi Cenomannensis’',\n  'language': '',\n  'detail': '',\n  'data': {'logicalType': '1'},\n  'props': [],\n  'notes': ['Import batch [development] 2023-01-13 19:35:45.939035',\n   'special T136>:creation_event_id E0050_T136'],\n  'status': '1',\n  'references': [],\n  'legacyId': 'E0050_T136'},\n {'class': 'E',\n  'id': 'bae1c0de-81c3-4c7a-a526-6c7ef6819296',\n  'label': 'Creation of ‘Epistola Johannis monachi ad Olibam’',\n  'language': '',\n  'detail': '',\n  'data': {'logicalType': '1'},\n  'props': [],\n  'notes': ['Import batch [development] 2023-01-13 19:35:45.939035',\n   'special T84>:creation_event_id E0051_T84'],\n  'status': '1',\n  'references': [],\n  'legacyId': 'E0051_T84'},\n {'class': 'R',\n  'id': '830928a3-ec64-4c88-83aa-43e05e73442e',\n  'label': 'Johannes monachus ad Olibam in: André de Fleury, \"Vie de Gauzlin, abbé de Fleury : Vita Gauzlini abbatis Floriacensis monasterii\", ed. R.-H. Bautier, G. Labory, Paris : CNRS, 1969.',\n  'language': '',\n  'detail': '',\n  'data': {'url': '', 'partValueBaseURL': '', 'partValueLabel': ''},\n  'props': [],\n  'notes': ['Import batch [development] 2023-01-13 19:35:45.939035'],\n  'status': '1',\n  'references': []},\n {'class': 'V',\n  'id': 'e88be969-aa6d-46fe-a417-857b9ce1c80b',\n  'label': '180-183',\n  'language': '',\n  'detail': '',\n  'data': {'logicalType': '1'},\n  'props': [],\n  'notes': ['Import batch [development] 2023-01-13 19:35:45.939035',\n   'propvalue_2nd>50:T84:edition_1_page_range:180-183'],\n  'status': '1',\n  'references': []},\n {'class': 'R',\n  'id': 'fd77a8cc-a56d-42f2-994c-6926b489d645',\n  'label': 'Bouquet, X, 498',\n  'language': '',\n  'detail': '',\n  'data': {'url': '', 'partValueBaseURL': '', 'partValueLabel': ''},\n  'props': [],\n  'notes': ['Import batch [development] 2023-01-13 19:35:45.939035'],\n  'status': '1',\n  'references': []},\n {'class': 'E',\n  'id': '3a51baca-efdf-4716-8528-7131b3c1d35b',\n  'label': 'Creation of ‘epistola monachi Heriberti’',\n  'language': '',\n  'detail': '',\n  'data': {'logicalType': '1'},\n  'props': [],\n  'notes': ['Import batch [development] 2023-01-13 19:35:45.939035',\n   'special T102>:creation_event_id E0052_T102'],\n  'status': '1',\n  'references': [],\n  'legacyId': 'E0052_T102'},\n {'class': 'V',\n  'id': '2815e421-ccc4-430d-b916-924eb795b6c6',\n  'label': '1030',\n  'language': '',\n  'detail': '',\n  'data': {'logicalType': '1'},\n  'props': [],\n  'notes': ['Import batch [development] 2023-01-13 19:35:45.939035',\n   'special T102>:creation_event_id E0052_T102'],\n  'status': '1',\n  'references': []},\n {'class': 'V',\n  'id': 'b0caa337-48a6-4e8e-b242-7fd6b85db20f',\n  'label': '1050',\n  'language': '',\n  'detail': '',\n  'data': {'logicalType': '1'},\n  'props': [],\n  'notes': ['Import batch [development] 2023-01-13 19:35:45.939035',\n   'special T102>:creation_event_id E0052_T102'],\n  'status': '1',\n  'references': []},\n {'class': 'E',\n  'id': 'fefa661e-8a85-43fa-a47b-45b5f64e3e69',\n  'label': 'Creation of ‘epistola Petri Venerabilis (in: Contra Petrobrusianos)’',\n  'language': '',\n  'detail': '',\n  'data': {'logicalType': '1'},\n  'props': [],\n  'notes': ['Import batch [development] 2023-01-13 19:35:45.939035',\n   'special T145>:creation_event_id E0053_T145'],\n  'status': '1',\n  'references': [],\n  'legacyId': 'E0053_T145'},\n {'class': 'E',\n  'id': 'fa8522a1-4668-49ef-853c-ccfd42f4df39',\n  'label': 'Creation of ‘epistola sancti Bernardi Clarevallensis ad Alfonsum comitem Tolose’',\n  'language': '',\n  'detail': '',\n  'data': {'logicalType': '1'},\n  'props': [],\n  'notes': ['Import batch [development] 2023-01-13 19:35:45.939035',\n   'special T132>:creation_event_id E0054_T132'],\n  'status': '1',\n  'references': [],\n  'legacyId': 'E0054_T132'},\n {'class': 'E',\n  'id': 'b5366277-c421-4f35-bb9c-6b696ce19a5b',\n  'label': 'Creation of ‘epistola Wazoni episcopi Leodiensis (in: Gesta episcoporum Tungrensium, Traiectensium, et Leodiensium)’',\n  'language': '',\n  'detail': '',\n  'data': {'logicalType': '1'},\n  'props': [],\n  'notes': ['Import batch [development] 2023-01-13 19:35:45.939035',\n   'special T144>:creation_event_id E0055_T144'],\n  'status': '1',\n  'references': [],\n  'legacyId': 'E0055_T144'},\n {'class': 'E',\n  'id': 'f4dee20d-47b5-4b96-9211-1b8e29ff21e8',\n  'label': 'Creation of ‘Fragment of sentences of Jacques Fournier’',\n  'language': '',\n  'detail': '',\n  'data': {'logicalType': '1'},\n  'props': [],\n  'notes': ['Import batch [development] 2023-01-13 19:35:45.939035',\n   'special T25>:creation_event_id E0056_T25'],\n  'status': '1',\n  'references': [],\n  'legacyId': 'E0056_T25'},\n {'class': 'V',\n  'id': 'b88d96f8-8e42-4c52-a6a1-d20963331093',\n  'label': '1321',\n  'language': '',\n  'detail': '',\n  'data': {'logicalType': '1'},\n  'props': [],\n  'notes': ['Import batch [development] 2023-01-13 19:35:45.939035',\n   'special T25>:creation_event_id E0056_T25'],\n  'status': '1',\n  'references': []},\n {'class': 'R',\n  'id': 'c3c9ccbf-ddfe-4a68-a249-bfbc2d90176e',\n  'label': 'Duvernoy, 2001',\n  'language': '',\n  'detail': '',\n  'data': {'url': 'https://www.zotero.org/groups/446972/david_zbiral_bibliography/items/itemKey/GDS834VG/',\n   'partValueBaseURL': '',\n   'partValueLabel': ''},\n  'props': [],\n  'notes': ['Import batch [development] 2023-01-13 19:35:45.939035'],\n  'status': '1',\n  'references': []},\n {'class': 'E',\n  'id': '683e1702-7418-4ba2-849b-1d067e0bfdeb',\n  'label': 'Creation of ‘Gesta episcoporum Tungrensium, Traiectensium, et Leodiensium’',\n  'language': '',\n  'detail': '',\n  'data': {'logicalType': '1'},\n  'props': [],\n  'notes': ['Import batch [development] 2023-01-13 19:35:45.939035',\n   'special T100>:creation_event_id E0057_T100'],\n  'status': '1',\n  'references': [],\n  'legacyId': 'E0057_T100'},\n {'class': 'E',\n  'id': '7639c229-29b8-4398-b576-57a8ac85b285',\n  'label': 'Creation of ‘Gesta Friderici seu rectius Cronica’',\n  'language': '',\n  'detail': '',\n  'data': {'logicalType': '1'},\n  'props': [],\n  'notes': ['Import batch [development] 2023-01-13 19:35:45.939035',\n   'special T126>:creation_event_id E0058_T126'],\n  'status': '1',\n  'references': [],\n  'legacyId': 'E0058_T126'},\n {'class': 'E',\n  'id': '31b44fa6-2699-4c3e-b6b0-cdf83141f263',\n  'label': 'Creation of ‘Gesta Treverorum’',\n  'language': '',\n  'detail': '',\n  'data': {'logicalType': '1'},\n  'props': [],\n  'notes': ['Import batch [development] 2023-01-13 19:35:45.939035',\n   'special T106>:creation_event_id E0059_T106'],\n  'status': '1',\n  'references': [],\n  'legacyId': 'E0059_T106'},\n {'class': 'E',\n  'id': '74b3137b-40cf-4e6f-8eed-9c7fdd40ac65',\n  'label': 'Creation of ‘Herimanni Augiensis Chronicon’',\n  'language': '',\n  'detail': '',\n  'data': {'logicalType': '1'},\n  'props': [],\n  'notes': ['Import batch [development] 2023-01-13 19:35:45.939035',\n   'special T98>:creation_event_id E0060_T98'],\n  'status': '1',\n  'references': [],\n  'legacyId': 'E0060_T98'},\n {'class': 'E',\n  'id': '661c8e10-354f-4f0a-b215-4d24da4ffd7d',\n  'label': 'Creation of ‘Historia dedicationis ecclesiae Sancti Remigii apud Remos’',\n  'language': '',\n  'detail': '',\n  'data': {'logicalType': '1'},\n  'props': [],\n  'notes': ['Import batch [development] 2023-01-13 19:35:45.939035',\n   'special T101>:creation_event_id E0061_T101'],\n  'status': '1',\n  'references': [],\n  'legacyId': 'E0061_T101'},\n {'class': 'V',\n  'id': 'f18a42a2-3005-4d1b-9a70-1e01e3b88dd1',\n  'label': '1049',\n  'language': '',\n  'detail': '',\n  'data': {'logicalType': '1'},\n  'props': [],\n  'notes': ['Import batch [development] 2023-01-13 19:35:45.939035',\n   'special T101>:creation_event_id E0061_T101'],\n  'status': '1',\n  'references': []},\n {'class': 'V',\n  'id': 'ac050801-8ad6-4c80-9497-5324f5ab169f',\n  'label': '1049',\n  'language': '',\n  'detail': '',\n  'data': {'logicalType': '1'},\n  'props': [],\n  'notes': ['Import batch [development] 2023-01-13 19:35:45.939035',\n   'special T101>:creation_event_id E0061_T101'],\n  'status': '1',\n  'references': []},\n {'class': 'E',\n  'id': '432cc654-368b-466f-abed-bf52a1cb8698',\n  'label': 'Creation of ‘Historia Francie’',\n  'language': '',\n  'detail': '',\n  'data': {'logicalType': '1'},\n  'props': [],\n  'notes': ['Import batch [development] 2023-01-13 19:35:45.939035',\n   'special T92>:creation_event_id E0062_T92'],\n  'status': '1',\n  'references': [],\n  'legacyId': 'E0062_T92'},\n {'class': 'R',\n  'id': 'd7896406-aa2f-44d0-92e2-2a0491904084',\n  'label': '“Historiae Franciae,” Bouquet, X',\n  'language': '',\n  'detail': '',\n  'data': {'url': '', 'partValueBaseURL': '', 'partValueLabel': ''},\n  'props': [],\n  'notes': ['Import batch [development] 2023-01-13 19:35:45.939035'],\n  'status': '1',\n  'references': []},\n {'class': 'V',\n  'id': '2aff758d-742e-43a9-ba47-514d750802b8',\n  'label': '211-212',\n  'language': '',\n  'detail': '',\n  'data': {'logicalType': '1'},\n  'props': [],\n  'notes': ['Import batch [development] 2023-01-13 19:35:45.939035',\n   'propvalue_2nd>61:T92:edition_1_page_range:211-212'],\n  'status': '1',\n  'references': []},\n {'class': 'E',\n  'id': 'aa29eb59-b4a6-4224-9d07-e4bffe2130ca',\n  'label': 'Creation of ‘Historia Mediolanensis’',\n  'language': '',\n  'detail': '',\n  'data': {'logicalType': '1'},\n  'props': [],\n  'notes': ['Import batch [development] 2023-01-13 19:35:45.939035',\n   'special T81>:creation_event_id E0063_T81'],\n  'status': '1',\n  'references': [],\n  'legacyId': 'E0063_T81'},\n {'class': 'R',\n  'id': '43d0dfc1-b5c4-4456-9473-a7977680e42f',\n  'label': '\"Landulphi senioris Mediolanensis historiae libri quatuor\", ed. A. Cutolo, in: \"Rerum Italicarum Scriptores\", t. 4, pt. 2, Bologna 1900.',\n  'language': '',\n  'detail': '',\n  'data': {'url': '', 'partValueBaseURL': '', 'partValueLabel': ''},\n  'props': [],\n  'notes': ['Import batch [development] 2023-01-13 19:35:45.939035'],\n  'status': '1',\n  'references': []},\n {'class': 'V',\n  'id': '6824298e-cbe6-4275-9b45-c1e81056b00b',\n  'label': '1-128: 67-69',\n  'language': '',\n  'detail': '',\n  'data': {'logicalType': '1'},\n  'props': [],\n  'notes': ['Import batch [development] 2023-01-13 19:35:45.939035',\n   'propvalue_2nd>62:T81:edition_1_page_range:1-128: 67-69'],\n  'status': '1',\n  'references': []},\n {'class': 'E',\n  'id': '3e11badb-520b-427a-be1b-80ccf33a81b7',\n  'label': 'Creation of ‘Historia Pontificalis’',\n  'language': '',\n  'detail': '',\n  'data': {'logicalType': '1'},\n  'props': [],\n  'notes': ['Import batch [development] 2023-01-13 19:35:45.939035',\n   'special T138>:creation_event_id E0064_T138'],\n  'status': '1',\n  'references': [],\n  'legacyId': 'E0064_T138'},\n {'class': 'E',\n  'id': 'd9aeb44e-f526-4b89-8e08-ec086667b41d',\n  'label': 'Creation of ‘Historia Rerum Anglicarum’',\n  'language': '',\n  'detail': '',\n  'data': {'logicalType': '1'},\n  'props': [],\n  'notes': ['Import batch [development] 2023-01-13 19:35:45.939035',\n   'special T119>:creation_event_id E0065_T119'],\n  'status': '1',\n  'references': [],\n  'legacyId': 'E0065_T119'},\n {'class': 'E',\n  'id': 'f23555a0-506d-43c9-a9b7-9b535d546d50',\n  'label': 'Creation of ‘Historiarum Libri Quinque’',\n  'language': '',\n  'detail': '',\n  'data': {'logicalType': '1'},\n  'props': [],\n  'notes': ['Import batch [development] 2023-01-13 19:35:45.939035',\n   'special T82>:creation_event_id E0066_T82'],\n  'status': '1',\n  'references': [],\n  'legacyId': 'E0066_T82'},\n {'class': 'E',\n  'id': 'f3d83b4c-c745-46ed-99eb-d62f3c58366f',\n  'label': 'Creation of ‘Hystoria Albigensis’',\n  'language': '',\n  'detail': '',\n  'data': {'logicalType': '1'},\n  'props': [],\n  'notes': ['Import batch [development] 2023-01-13 19:35:45.939035',\n   'special T28>:creation_event_id E0067_T28'],\n  'status': '1',\n  'references': [],\n  'legacyId': 'E0067_T28'},\n {'class': 'E',\n  'id': 'd1611217-088e-49c1-8674-5f11fa9e1a5b',\n  'label': 'Creation of ‘Interrogatio Iohannis’',\n  'language': '',\n  'detail': '',\n  'data': {'logicalType': '1'},\n  'props': [],\n  'notes': ['Import batch [development] 2023-01-13 19:35:45.939035',\n   'special T79>:creation_event_id E0068_T79'],\n  'status': '1',\n  'references': [],\n  'legacyId': 'E0068_T79'},\n {'class': 'V',\n  'id': '7f897bdd-73d4-4486-ac94-a8692a4a3f1d',\n  'label': '1150',\n  'language': '',\n  'detail': '',\n  'data': {'logicalType': '1'},\n  'props': [],\n  'notes': ['Import batch [development] 2023-01-13 19:35:45.939035',\n   'special T79>:creation_event_id E0068_T79'],\n  'status': '1',\n  'references': []},\n {'class': 'V',\n  'id': '233b83b0-f3a6-4ca9-ab45-4f7cc54e7a10',\n  'label': '1200',\n  'language': '',\n  'detail': '',\n  'data': {'logicalType': '1'},\n  'props': [],\n  'notes': ['Import batch [development] 2023-01-13 19:35:45.939035',\n   'special T79>:creation_event_id E0068_T79'],\n  'status': '1',\n  'references': []},\n {'class': 'V',\n  'id': '7ffdc259-81cf-43eb-bb1b-c6a732734171',\n  'label': '26v-35r',\n  'language': '',\n  'detail': '',\n  'data': {'logicalType': '1'},\n  'props': [],\n  'notes': ['Import batch [development] 2023-01-13 19:35:45.939035',\n   'propvalue_2nd>67:T79:manuscript_witness_2_with_range_entified:~V~26v-35r'],\n  'status': '1',\n  'references': []},\n {'class': 'E',\n  'id': '08da2f46-2d1d-4d6b-9c28-5bf949cde2f2',\n  'label': 'Creation of ‘Introductio ad theologiam’',\n  'language': '',\n  'detail': '',\n  'data': {'logicalType': '1'},\n  'props': [],\n  'notes': ['Import batch [development] 2023-01-13 19:35:45.939035',\n   'special T116>:creation_event_id E0069_T116'],\n  'status': '1',\n  'references': [],\n  'legacyId': 'E0069_T116'},\n {'class': 'E',\n  'id': '734dc072-facf-455a-9949-d1117df5a178',\n  'label': 'Creation of ‘Judici text A’',\n  'language': '',\n  'detail': '',\n  'data': {'logicalType': '1'},\n  'props': [],\n  'notes': ['Import batch [development] 2023-01-13 19:35:45.939035',\n   'special T54>:creation_event_id E0070_T54'],\n  'status': '1',\n  'references': [],\n  'legacyId': 'E0070_T54'},\n {'class': 'V',\n  'id': '340d36f9-6ba7-4a6d-a6a6-409522f7f175',\n  'label': '1350',\n  'language': '',\n  'detail': '',\n  'data': {'logicalType': '1'},\n  'props': [],\n  'notes': ['Import batch [development] 2023-01-13 19:35:45.939035',\n   'special T54>:creation_event_id E0070_T54'],\n  'status': '1',\n  'references': []},\n {'class': 'V',\n  'id': '2ac03893-28e2-454c-b102-548a9ad84a75',\n  'label': '1540',\n  'language': '',\n  'detail': '',\n  'data': {'logicalType': '1'},\n  'props': [],\n  'notes': ['Import batch [development] 2023-01-13 19:35:45.939035',\n   'special T54>:creation_event_id E0070_T54'],\n  'status': '1',\n  'references': []},\n {'class': 'V',\n  'id': '7e1195a9-83f2-4b79-9fcb-a78a353c32ab',\n  'label': ' 59v-64r',\n  'language': '',\n  'detail': '',\n  'data': {'logicalType': '1'},\n  'props': [],\n  'notes': ['Import batch [development] 2023-01-13 19:35:45.939035',\n   'propvalue_2nd>69:T54:manuscript_witness_1_with_range_entified:~V~ 59v-64r'],\n  'status': '1',\n  'references': []},\n {'class': 'E',\n  'id': '11b18aaa-5e2b-437c-b08b-e3345f9439f5',\n  'label': 'Creation of ‘Judici text B’',\n  'language': '',\n  'detail': '',\n  'data': {'logicalType': '1'},\n  'props': [],\n  'notes': ['Import batch [development] 2023-01-13 19:35:45.939035',\n   'special T55>:creation_event_id E0071_T55'],\n  'status': '1',\n  'references': [],\n  'legacyId': 'E0071_T55'},\n {'class': 'V',\n  'id': 'f00368ec-6815-4b18-8430-b318285737a4',\n  'label': '1350',\n  'language': '',\n  'detail': '',\n  'data': {'logicalType': '1'},\n  'props': [],\n  'notes': ['Import batch [development] 2023-01-13 19:35:45.939035',\n   'special T55>:creation_event_id E0071_T55'],\n  'status': '1',\n  'references': []},\n {'class': 'V',\n  'id': 'aadb59c1-a9f5-4540-87c4-86546d00337b',\n  'label': '1540',\n  'language': '',\n  'detail': '',\n  'data': {'logicalType': '1'},\n  'props': [],\n  'notes': ['Import batch [development] 2023-01-13 19:35:45.939035',\n   'special T55>:creation_event_id E0071_T55'],\n  'status': '1',\n  'references': []},\n {'class': 'V',\n  'id': '173a7c65-7550-4f19-a9a7-3b36e537ae35',\n  'label': ' 64r-67r',\n  'language': '',\n  'detail': '',\n  'data': {'logicalType': '1'},\n  'props': [],\n  'notes': ['Import batch [development] 2023-01-13 19:35:45.939035',\n   'propvalue_2nd>70:T55:manuscript_witness_1_with_range_entified:~V~ 64r-67r'],\n  'status': '1',\n  'references': []},\n {'class': 'V',\n  'id': 'c62c85a8-556e-4be4-86ab-bed9fb1b798f',\n  'label': '107r-110r',\n  'language': '',\n  'detail': '',\n  'data': {'logicalType': '1'},\n  'props': [],\n  'notes': ['Import batch [development] 2023-01-13 19:35:45.939035',\n   'propvalue_2nd>70:T55:manuscript_witness_2_with_range_entified:~V~107r-110r'],\n  'status': '1',\n  'references': []},\n {'class': 'V',\n  'id': 'd60f281e-e83e-4ddb-9df8-0eded73cdfa8',\n  'label': '93r-99r',\n  'language': '',\n  'detail': '',\n  'data': {'logicalType': '1'},\n  'props': [],\n  'notes': ['Import batch [development] 2023-01-13 19:35:45.939035',\n   'propvalue_2nd>70:T55:manuscript_witness_3_with_range_entified:~V~93r-99r'],\n  'status': '1',\n  'references': []},\n {'class': 'E',\n  'id': '6545c619-67a8-4b79-8cbd-548f58ef95da',\n  'label': 'Creation of ‘Judici text C’',\n  'language': '',\n  'detail': '',\n  'data': {'logicalType': '1'},\n  'props': [],\n  'notes': ['Import batch [development] 2023-01-13 19:35:45.939035',\n   'special T56>:creation_event_id E0072_T56'],\n  'status': '1',\n  'references': [],\n  'legacyId': 'E0072_T56'},\n {'class': 'V',\n  'id': 'f29d5137-7601-4951-8b65-6a2091102512',\n  'label': '1350',\n  'language': '',\n  'detail': '',\n  'data': {'logicalType': '1'},\n  'props': [],\n  'notes': ['Import batch [development] 2023-01-13 19:35:45.939035',\n   'special T56>:creation_event_id E0072_T56'],\n  'status': '1',\n  'references': []},\n {'class': 'V',\n  'id': '39372092-d454-4427-80d6-ca52edf93456',\n  'label': '1540',\n  'language': '',\n  'detail': '',\n  'data': {'logicalType': '1'},\n  'props': [],\n  'notes': ['Import batch [development] 2023-01-13 19:35:45.939035',\n   'special T56>:creation_event_id E0072_T56'],\n  'status': '1',\n  'references': []},\n {'class': 'V',\n  'id': '168c2fe5-8ea8-4579-9bf1-386de70ba294',\n  'label': ' 67r-69v',\n  'language': '',\n  'detail': '',\n  'data': {'logicalType': '1'},\n  'props': [],\n  'notes': ['Import batch [development] 2023-01-13 19:35:45.939035',\n   'propvalue_2nd>71:T56:manuscript_witness_1_with_range_entified:~V~ 67r-69v'],\n  'status': '1',\n  'references': []},\n {'class': 'E',\n  'id': '9d515212-e821-4d5d-b7c1-8a451fec1455',\n  'label': \"Creation of ‘L'Evangeli de li quatre Semencz’\",\n  'language': '',\n  'detail': '',\n  'data': {'logicalType': '1'},\n  'props': [],\n  'notes': ['Import batch [development] 2023-01-13 19:35:45.939035',\n   'special T62>:creation_event_id E0073_T62'],\n  'status': '1',\n  'references': [],\n  'legacyId': 'E0073_T62'},\n {'class': 'V',\n  'id': '98118d1d-a8bf-45dd-b915-b857e3622db6',\n  'label': '1350',\n  'language': '',\n  'detail': '',\n  'data': {'logicalType': '1'},\n  'props': [],\n  'notes': ['Import batch [development] 2023-01-13 19:35:45.939035',\n   'special T62>:creation_event_id E0073_T62'],\n  'status': '1',\n  'references': []},\n {'class': 'V',\n  'id': 'd6755533-2974-4d5c-9f9c-b59576e6a526',\n  'label': '1425',\n  'language': '',\n  'detail': '',\n  'data': {'logicalType': '1'},\n  'props': [],\n  'notes': ['Import batch [development] 2023-01-13 19:35:45.939035',\n   'special T62>:creation_event_id E0073_T62'],\n  'status': '1',\n  'references': []},\n {'class': 'V',\n  'id': 'b0d3468c-379a-4224-aa0d-6021122a8bf6',\n  'label': ' 149r-154v',\n  'language': '',\n  'detail': '',\n  'data': {'logicalType': '1'},\n  'props': [],\n  'notes': ['Import batch [development] 2023-01-13 19:35:45.939035',\n   'propvalue_2nd>72:T62:manuscript_witness_1_with_range_entified:~V~ 149r-154v'],\n  'status': '1',\n  'references': []},\n {'class': 'V',\n  'id': '2e83b78e-3866-4b27-a0bc-9ae7c4ee05a3',\n  'label': '7v-13v',\n  'language': '',\n  'detail': '',\n  'data': {'logicalType': '1'},\n  'props': [],\n  'notes': ['Import batch [development] 2023-01-13 19:35:45.939035',\n   'propvalue_2nd>72:T62:manuscript_witness_2_with_range_entified:~V~7v-13v'],\n  'status': '1',\n  'references': []},\n {'class': 'E',\n  'id': 'd61e1f9f-eaa4-4939-bf33-b8fd07245766',\n  'label': 'Creation of ‘La Barca’',\n  'language': '',\n  'detail': '',\n  'data': {'logicalType': '1'},\n  'props': [],\n  'notes': ['Import batch [development] 2023-01-13 19:35:45.939035',\n   'special T57>:creation_event_id E0074_T57'],\n  'status': '1',\n  'references': [],\n  'legacyId': 'E0074_T57'},\n {'class': 'V',\n  'id': '33bb3239-8e3e-49f3-ad05-618f00a5bcd1',\n  'label': '1350',\n  'language': '',\n  'detail': '',\n  'data': {'logicalType': '1'},\n  'props': [],\n  'notes': ['Import batch [development] 2023-01-13 19:35:45.939035',\n   'special T57>:creation_event_id E0074_T57'],\n  'status': '1',\n  'references': []},\n {'class': 'V',\n  'id': 'a34dca70-88f5-46d3-938a-956621144063',\n  'label': '1425',\n  'language': '',\n  'detail': '',\n  'data': {'logicalType': '1'},\n  'props': [],\n  'notes': ['Import batch [development] 2023-01-13 19:35:45.939035',\n   'special T57>:creation_event_id E0074_T57'],\n  'status': '1',\n  'references': []},\n {'class': 'V',\n  'id': '2fa5d7d2-27ae-4f12-9912-fcd02578a3a9',\n  'label': ' 112r-119v',\n  'language': '',\n  'detail': '',\n  'data': {'logicalType': '1'},\n  'props': [],\n  'notes': ['Import batch [development] 2023-01-13 19:35:45.939035',\n   'propvalue_2nd>73:T57:manuscript_witness_1_with_range_entified:~V~ 112r-119v'],\n  'status': '1',\n  'references': []},\n {'class': 'V',\n  'id': 'b47fd52f-3a89-4320-9915-9a2e960c2bd4',\n  'label': '35r-44r',\n  'language': '',\n  'detail': '',\n  'data': {'logicalType': '1'},\n  'props': [],\n  'notes': ['Import batch [development] 2023-01-13 19:35:45.939035',\n   'propvalue_2nd>73:T57:manuscript_witness_2_with_range_entified:~V~35r-44r'],\n  'status': '1',\n  'references': []},\n {'class': 'E',\n  'id': '4a57f1b5-f139-4eec-b8a8-82be0d01d8e4',\n  'label': 'Creation of ‘Lamberti Hersfeldensis Annales’',\n  'language': '',\n  'detail': '',\n  'data': {'logicalType': '1'},\n  'props': [],\n  'notes': ['Import batch [development] 2023-01-13 19:35:45.939035',\n   'special T99>:creation_event_id E0075_T99'],\n  'status': '1',\n  'references': [],\n  'legacyId': 'E0075_T99'},\n {'class': 'E',\n  'id': '993c3ec3-b5fc-4b45-855a-a716a418dbab',\n  'label': 'Creation of ‘Las Tribulacions Text A’',\n  'language': '',\n  'detail': '',\n  'data': {'logicalType': '1'},\n  'props': [],\n  'notes': ['Import batch [development] 2023-01-13 19:35:45.939035',\n   'special T48>:creation_event_id E0076_T48'],\n  'status': '1',\n  'references': [],\n  'legacyId': 'E0076_T48'},\n {'class': 'V',\n  'id': '397290a2-78d1-4eda-988e-35ae74a2f524',\n  'label': '1475',\n  'language': '',\n  'detail': '',\n  'data': {'logicalType': '1'},\n  'props': [],\n  'notes': ['Import batch [development] 2023-01-13 19:35:45.939035',\n   'special T48>:creation_event_id E0076_T48'],\n  'status': '1',\n  'references': []},\n {'class': 'V',\n  'id': '7967b9a8-c600-4afb-a6ec-e57f204fdc63',\n  'label': '1525',\n  'language': '',\n  'detail': '',\n  'data': {'logicalType': '1'},\n  'props': [],\n  'notes': ['Import batch [development] 2023-01-13 19:35:45.939035',\n   'special T48>:creation_event_id E0076_T48'],\n  'status': '1',\n  'references': []},\n {'class': 'V',\n  'id': 'd599f6e5-a020-470d-b660-47a4129b25f0',\n  'label': ' 271r-278r',\n  'language': '',\n  'detail': '',\n  'data': {'logicalType': '1'},\n  'props': [],\n  'notes': ['Import batch [development] 2023-01-13 19:35:45.939035',\n   'propvalue_2nd>75:T48:manuscript_witness_1_with_range_entified:~V~ 271r-278r'],\n  'status': '1',\n  'references': []},\n {'class': 'E',\n  'id': 'e8d3bfaf-c57c-4036-9a93-46799e9b709a',\n  'label': 'Creation of ‘Las Tribulacions Text B’',\n  'language': '',\n  'detail': '',\n  'data': {'logicalType': '1'},\n  'props': [],\n  'notes': ['Import batch [development] 2023-01-13 19:35:45.939035',\n   'special T49>:creation_event_id E0077_T49'],\n  'status': '1',\n  'references': [],\n  'legacyId': 'E0077_T49'},\n {'class': 'V',\n  'id': '4870ac6e-e665-43a6-bb59-72f08eccf391',\n  'label': '1475',\n  'language': '',\n  'detail': '',\n  'data': {'logicalType': '1'},\n  'props': [],\n  'notes': ['Import batch [development] 2023-01-13 19:35:45.939035',\n   'special T49>:creation_event_id E0077_T49'],\n  'status': '1',\n  'references': []},\n {'class': 'V',\n  'id': 'c520f63f-ff75-484a-80ce-27d836dc85ff',\n  'label': '1525',\n  'language': '',\n  'detail': '',\n  'data': {'logicalType': '1'},\n  'props': [],\n  'notes': ['Import batch [development] 2023-01-13 19:35:45.939035',\n   'special T49>:creation_event_id E0077_T49'],\n  'status': '1',\n  'references': []},\n {'class': 'V',\n  'id': '6bd0d5e6-52b3-42d1-8657-2bc25b7ff9af',\n  'label': ' 34r-47v',\n  'language': '',\n  'detail': '',\n  'data': {'logicalType': '1'},\n  'props': [],\n  'notes': ['Import batch [development] 2023-01-13 19:35:45.939035',\n   'propvalue_2nd>76:T49:manuscript_witness_1_with_range_entified:~V~ 34r-47v'],\n  'status': '1',\n  'references': []},\n {'class': 'V',\n  'id': '1a876f9a-0f74-48f7-8dc7-bfd77f8890e3',\n  'label': '278r-281r',\n  'language': '',\n  'detail': '',\n  'data': {'logicalType': '1'},\n  'props': [],\n  'notes': ['Import batch [development] 2023-01-13 19:35:45.939035',\n   'propvalue_2nd>76:T49:manuscript_witness_2_with_range_entified:~V~278r-281r'],\n  'status': '1',\n  'references': []},\n {'class': 'E',\n  'id': '96397540-7b57-4a5b-b76f-c23adbae6818',\n  'label': 'Creation of ‘Las Tribulacions Text C’',\n  'language': '',\n  'detail': '',\n  'data': {'logicalType': '1'},\n  'props': [],\n  'notes': ['Import batch [development] 2023-01-13 19:35:45.939035',\n   'special T50>:creation_event_id E0078_T50'],\n  'status': '1',\n  'references': [],\n  'legacyId': 'E0078_T50'},\n {'class': 'V',\n  'id': '9d1a7500-c112-40af-84bc-36e64303fd87',\n  'label': '1475',\n  'language': '',\n  'detail': '',\n  'data': {'logicalType': '1'},\n  'props': [],\n  'notes': ['Import batch [development] 2023-01-13 19:35:45.939035',\n   'special T50>:creation_event_id E0078_T50'],\n  'status': '1',\n  'references': []},\n {'class': 'V',\n  'id': '5527f0c1-6eb0-4c03-a4e9-124439366577',\n  'label': '1525',\n  'language': '',\n  'detail': '',\n  'data': {'logicalType': '1'},\n  'props': [],\n  'notes': ['Import batch [development] 2023-01-13 19:35:45.939035',\n   'special T50>:creation_event_id E0078_T50'],\n  'status': '1',\n  'references': []},\n {'class': 'V',\n  'id': 'db11c257-21be-4cb2-8278-271831cc4256',\n  'label': ' 14r-18r',\n  'language': '',\n  'detail': '',\n  'data': {'logicalType': '1'},\n  'props': [],\n  'notes': ['Import batch [development] 2023-01-13 19:35:45.939035',\n   'propvalue_2nd>77:T50:manuscript_witness_1_with_range_entified:~V~ 14r-18r'],\n  'status': '1',\n  'references': []},\n {'class': 'V',\n  'id': '054f7722-94e8-449f-8e01-1f19f8821585',\n  'label': '331r-332v',\n  'language': '',\n  'detail': '',\n  'data': {'logicalType': '1'},\n  'props': [],\n  'notes': ['Import batch [development] 2023-01-13 19:35:45.939035',\n   'propvalue_2nd>77:T50:manuscript_witness_2_with_range_entified:~V~331r-332v'],\n  'status': '1',\n  'references': []},\n {'class': 'V',\n  'id': '11a02991-4dc5-4498-bfff-c65922821543',\n  'label': '281v-282v',\n  'language': '',\n  'detail': '',\n  'data': {'logicalType': '1'},\n  'props': [],\n  'notes': ['Import batch [development] 2023-01-13 19:35:45.939035',\n   'propvalue_2nd>77:T50:manuscript_witness_3_with_range_entified:~V~281v-282v'],\n  'status': '1',\n  'references': []},\n {'class': 'E',\n  'id': '222944cd-00fa-4d0a-a5be-201afe633892',\n  'label': 'Creation of ‘Las Tribulacions Text D’',\n  'language': '',\n  'detail': '',\n  'data': {'logicalType': '1'},\n  'props': [],\n  'notes': ['Import batch [development] 2023-01-13 19:35:45.939035',\n   'special T51>:creation_event_id E0079_T51'],\n  'status': '1',\n  'references': [],\n  'legacyId': 'E0079_T51'},\n {'class': 'V',\n  'id': '7b1f2cb8-1d66-4867-85f6-07a6af472725',\n  'label': '1475',\n  'language': '',\n  'detail': '',\n  'data': {'logicalType': '1'},\n  'props': [],\n  'notes': ['Import batch [development] 2023-01-13 19:35:45.939035',\n   'special T51>:creation_event_id E0079_T51'],\n  'status': '1',\n  'references': []},\n {'class': 'V',\n  'id': '9b7064f2-3c89-4e50-8e6d-d17f75f62349',\n  'label': '1525',\n  'language': '',\n  'detail': '',\n  'data': {'logicalType': '1'},\n  'props': [],\n  'notes': ['Import batch [development] 2023-01-13 19:35:45.939035',\n   'special T51>:creation_event_id E0079_T51'],\n  'status': '1',\n  'references': []},\n {'class': 'V',\n  'id': 'f01d6fc8-1fe3-4b41-9ce7-f0bdd6eb55ba',\n  'label': ' 282v-284v',\n  'language': '',\n  'detail': '',\n  'data': {'logicalType': '1'},\n  'props': [],\n  'notes': ['Import batch [development] 2023-01-13 19:35:45.939035',\n   'propvalue_2nd>78:T51:manuscript_witness_1_with_range_entified:~V~ 282v-284v'],\n  'status': '1',\n  'references': []},\n {'class': 'E',\n  'id': 'de1944de-5f30-49f2-b79a-70afc1dcfac5',\n  'label': 'Creation of ‘Las Tribulacions Text E’',\n  'language': '',\n  'detail': '',\n  'data': {'logicalType': '1'},\n  'props': [],\n  'notes': ['Import batch [development] 2023-01-13 19:35:45.939035',\n   'special T52>:creation_event_id E0080_T52'],\n  'status': '1',\n  'references': [],\n  'legacyId': 'E0080_T52'},\n {'class': 'V',\n  'id': '7c8ec0bd-5240-4b2f-834f-d1849f582e9f',\n  'label': '1475',\n  'language': '',\n  'detail': '',\n  'data': {'logicalType': '1'},\n  'props': [],\n  'notes': ['Import batch [development] 2023-01-13 19:35:45.939035',\n   'special T52>:creation_event_id E0080_T52'],\n  'status': '1',\n  'references': []},\n {'class': 'V',\n  'id': '8fbf6cb7-b7c0-4acf-aa90-eaaef797187b',\n  'label': '1525',\n  'language': '',\n  'detail': '',\n  'data': {'logicalType': '1'},\n  'props': [],\n  'notes': ['Import batch [development] 2023-01-13 19:35:45.939035',\n   'special T52>:creation_event_id E0080_T52'],\n  'status': '1',\n  'references': []},\n {'class': 'V',\n  'id': 'b2f935ec-38a7-4d84-82f2-03fc0b867cd4',\n  'label': ' 18v-24v',\n  'language': '',\n  'detail': '',\n  'data': {'logicalType': '1'},\n  'props': [],\n  'notes': ['Import batch [development] 2023-01-13 19:35:45.939035',\n   'propvalue_2nd>79:T52:manuscript_witness_1_with_range_entified:~V~ 18v-24v'],\n  'status': '1',\n  'references': []},\n {'class': 'V',\n  'id': '41bda1e5-2f76-4b17-9f14-7befee5b4d05',\n  'label': '332v-335r',\n  'language': '',\n  'detail': '',\n  'data': {'logicalType': '1'},\n  'props': [],\n  'notes': ['Import batch [development] 2023-01-13 19:35:45.939035',\n   'propvalue_2nd>79:T52:manuscript_witness_2_with_range_entified:~V~332v-335r'],\n  'status': '1',\n  'references': []},\n {'class': 'E',\n  'id': '395f8629-b90b-4cab-b25b-0acc11f33999',\n  'label': 'Creation of ‘Las Tribulacions Text F’',\n  'language': '',\n  'detail': '',\n  'data': {'logicalType': '1'},\n  'props': [],\n  'notes': ['Import batch [development] 2023-01-13 19:35:45.939035',\n   'special T53>:creation_event_id E0081_T53'],\n  'status': '1',\n  'references': [],\n  'legacyId': 'E0081_T53'},\n {'class': 'V',\n  'id': 'f74e6c06-89ab-4aaf-a1c0-1d10661f3299',\n  'label': '1475',\n  'language': '',\n  'detail': '',\n  'data': {'logicalType': '1'},\n  'props': [],\n  'notes': ['Import batch [development] 2023-01-13 19:35:45.939035',\n   'special T53>:creation_event_id E0081_T53'],\n  'status': '1',\n  'references': []},\n {'class': 'V',\n  'id': '89adfde4-f8dd-4de1-886c-36bb60ba4eed',\n  'label': '1525',\n  'language': '',\n  'detail': '',\n  'data': {'logicalType': '1'},\n  'props': [],\n  'notes': ['Import batch [development] 2023-01-13 19:35:45.939035',\n   'special T53>:creation_event_id E0081_T53'],\n  'status': '1',\n  'references': []},\n {'class': 'V',\n  'id': 'c27ef92f-2dc7-41d9-b398-554f9fee79bf',\n  'label': ' 24v-51r',\n  'language': '',\n  'detail': '',\n  'data': {'logicalType': '1'},\n  'props': [],\n  'notes': ['Import batch [development] 2023-01-13 19:35:45.939035',\n   'propvalue_2nd>80:T53:manuscript_witness_1_with_range_entified:~V~ 24v-51r'],\n  'status': '1',\n  'references': []},\n {'class': 'V',\n  'id': '285970ec-3ccb-4ce9-b6e0-7efdb53a2117',\n  'label': '335r-345r',\n  'language': '',\n  'detail': '',\n  'data': {'logicalType': '1'},\n  'props': [],\n  'notes': ['Import batch [development] 2023-01-13 19:35:45.939035',\n   'propvalue_2nd>80:T53:manuscript_witness_2_with_range_entified:~V~335r-345r'],\n  'status': '1',\n  'references': []},\n {'class': 'E',\n  'id': '116557dc-70d8-458c-8fe0-b9567f83d0f5',\n  'label': 'Creation of ‘Letter of converted Waldensian brethren’',\n  'language': '',\n  'detail': '',\n  'data': {'logicalType': '1'},\n  'props': [],\n  'notes': ['Import batch [development] 2023-01-13 19:35:45.939035',\n   'special T64>:creation_event_id E0082_T64'],\n  'status': '1',\n  'references': [],\n  'legacyId': 'E0082_T64'},\n {'class': 'V',\n  'id': '519dd951-2d62-45d0-b204-66f16b3f4d9f',\n  'label': '1365',\n  'language': '',\n  'detail': '',\n  'data': {'logicalType': '1'},\n  'props': [],\n  'notes': ['Import batch [development] 2023-01-13 19:35:45.939035',\n   'special T64>:creation_event_id E0082_T64'],\n  'status': '1',\n  'references': []},\n {'class': 'V',\n  'id': 'c5866923-6f4b-4979-ab33-28027cff082b',\n  'label': '1367',\n  'language': '',\n  'detail': '',\n  'data': {'logicalType': '1'},\n  'props': [],\n  'notes': ['Import batch [development] 2023-01-13 19:35:45.939035',\n   'special T64>:creation_event_id E0082_T64'],\n  'status': '1',\n  'references': []},\n {'class': 'E',\n  'id': '755fa40f-9f97-488e-9898-24a60634581e',\n  'label': 'Creation of ‘Letter of Geoffrey Blyth, Bishop of Coventry and Lichfield, to William Smith, Bishop of Lincoln’',\n  'language': '',\n  'detail': '',\n  'data': {'logicalType': '1'},\n  'props': [],\n  'notes': ['Import batch [development] 2023-01-13 19:35:45.939035',\n   'special T38>:creation_event_id E0083_T38'],\n  'status': '1',\n  'references': [],\n  'legacyId': 'E0083_T38'},\n {'class': 'V',\n  'id': '34473406-7a27-4445-8b0e-ceb00e8a2855',\n  'label': '1511',\n  'language': '',\n  'detail': '',\n  'data': {'logicalType': '1'},\n  'props': [],\n  'notes': ['Import batch [development] 2023-01-13 19:35:45.939035',\n   'special T38>:creation_event_id E0083_T38'],\n  'status': '1',\n  'references': []},\n {'class': 'E',\n  'id': 'ca934bd6-8573-4e0d-908a-89747596fab3',\n  'label': 'Creation of ‘Epistola Johannis Leser I’',\n  'language': '',\n  'detail': '',\n  'data': {'logicalType': '1'},\n  'props': [],\n  'notes': ['Import batch [development] 2023-01-13 19:35:45.939035',\n   'special T68>:creation_event_id E0084_T68'],\n  'status': '1',\n  'references': [],\n  'legacyId': 'E0084_T68'},\n {'class': 'V',\n  'id': '6b372a9d-5890-47db-8b0a-a2041dd60402',\n  'label': '1368',\n  'language': '',\n  'detail': '',\n  'data': {'logicalType': '1'},\n  'props': [],\n  'notes': ['Import batch [development] 2023-01-13 19:35:45.939035',\n   'special T68>:creation_event_id E0084_T68'],\n  'status': '1',\n  'references': []},\n {'class': 'V',\n  'id': '6c1d4f93-d0da-4c59-98ce-35e471f5b37e',\n  'label': '1370',\n  'language': '',\n  'detail': '',\n  'data': {'logicalType': '1'},\n  'props': [],\n  'notes': ['Import batch [development] 2023-01-13 19:35:45.939035',\n   'special T68>:creation_event_id E0084_T68'],\n  'status': '1',\n  'references': []},\n {'class': 'E',\n  'id': '871b9183-0c1e-4254-80e9-843a6fa4bb1a',\n  'label': 'Creation of ‘Epistola Johannis Leser II’',\n  'language': '',\n  'detail': '',\n  'data': {'logicalType': '1'},\n  'props': [],\n  'notes': ['Import batch [development] 2023-01-13 19:35:45.939035',\n   'special T71>:creation_event_id E0085_T71'],\n  'status': '1',\n  'references': [],\n  'legacyId': 'E0085_T71'},\n {'class': 'V',\n  'id': '21bc2ccb-7af3-4e3d-bad4-3fd11cf99340',\n  'label': '1370',\n  'language': '',\n  'detail': '',\n  'data': {'logicalType': '1'},\n  'props': [],\n  'notes': ['Import batch [development] 2023-01-13 19:35:45.939035',\n   'special T71>:creation_event_id E0085_T71'],\n  'status': '1',\n  'references': []},\n {'class': 'V',\n  'id': '4961f5db-b3ae-436b-9852-6438edd147d9',\n  'label': '1378',\n  'language': '',\n  'detail': '',\n  'data': {'logicalType': '1'},\n  'props': [],\n  'notes': ['Import batch [development] 2023-01-13 19:35:45.939035',\n   'special T71>:creation_event_id E0085_T71'],\n  'status': '1',\n  'references': []},\n {'class': 'E',\n  'id': '9c8e4679-a5ce-49be-95fc-de12a740b0c5',\n  'label': 'Creation of ‘Epistola fratrum de Ytalia I’',\n  'language': '',\n  'detail': '',\n  'data': {'logicalType': '1'},\n  'props': [],\n  'notes': ['Import batch [development] 2023-01-13 19:35:45.939035',\n   'special T66>:creation_event_id E0086_T66'],\n  'status': '1',\n  'references': [],\n  'legacyId': 'E0086_T66'},\n {'class': 'V',\n  'id': '4329d33f-d5a8-407d-8416-33398652b0e7',\n  'label': '1365',\n  'language': '',\n  'detail': '',\n  'data': {'logicalType': '1'},\n  'props': [],\n  'notes': ['Import batch [development] 2023-01-13 19:35:45.939035',\n   'special T66>:creation_event_id E0086_T66'],\n  'status': '1',\n  'references': []},\n {'class': 'V',\n  'id': '245fafa4-372b-435a-990a-d10ae724c778',\n  'label': '1367',\n  'language': '',\n  'detail': '',\n  'data': {'logicalType': '1'},\n  'props': [],\n  'notes': ['Import batch [development] 2023-01-13 19:35:45.939035',\n   'special T66>:creation_event_id E0086_T66'],\n  'status': '1',\n  'references': []},\n {'class': 'E',\n  'id': 'e2d987b6-e57c-4fe9-a386-305489b3e6ec',\n  'label': 'Creation of ‘Epistola fratrum de Ytalia II’',\n  'language': '',\n  'detail': '',\n  'data': {'logicalType': '1'},\n  'props': [],\n  'notes': ['Import batch [development] 2023-01-13 19:35:45.939035',\n   'special T67>:creation_event_id E0087_T67'],\n  'status': '1',\n  'references': [],\n  'legacyId': 'E0087_T67'},\n {'class': 'V',\n  'id': 'f17e42da-d72e-4843-96bd-7fa9ae0a5e63',\n  'label': '1365',\n  'language': '',\n  'detail': '',\n  'data': {'logicalType': '1'},\n  'props': [],\n  'notes': ['Import batch [development] 2023-01-13 19:35:45.939035',\n   'special T67>:creation_event_id E0087_T67'],\n  'status': '1',\n  'references': []},\n {'class': 'V',\n  'id': 'c37e4b8b-4d85-491e-8ae6-9c8a2a6a1684',\n  'label': '1367',\n  'language': '',\n  'detail': '',\n  'data': {'logicalType': '1'},\n  'props': [],\n  'notes': ['Import batch [development] 2023-01-13 19:35:45.939035',\n   'special T67>:creation_event_id E0087_T67'],\n  'status': '1',\n  'references': []},\n {'class': 'E',\n  'id': 'ccc4b068-aabe-41e7-b100-05326e680a4b',\n  'label': 'Creation of ‘Epistola fratrum de Ytalia III’',\n  'language': '',\n  'detail': '',\n  'data': {'logicalType': '1'},\n  'props': [],\n  'notes': ['Import batch [development] 2023-01-13 19:35:45.939035',\n   'special T69>:creation_event_id E0088_T69'],\n  'status': '1',\n  'references': [],\n  'legacyId': 'E0088_T69'},\n {'class': 'V',\n  'id': '5dcab399-6b9a-4804-9c66-80e60cfd58b8',\n  'label': '1368',\n  'language': '',\n  'detail': '',\n  'data': {'logicalType': '1'},\n  'props': [],\n  'notes': ['Import batch [development] 2023-01-13 19:35:45.939035',\n   'special T69>:creation_event_id E0088_T69'],\n  'status': '1',\n  'references': []},\n {'class': 'V',\n  'id': 'dc749ee8-72c6-4069-8612-5df412837b87',\n  'label': '1370',\n  'language': '',\n  'detail': '',\n  'data': {'logicalType': '1'},\n  'props': [],\n  'notes': ['Import batch [development] 2023-01-13 19:35:45.939035',\n   'special T69>:creation_event_id E0088_T69'],\n  'status': '1',\n  'references': []},\n {'class': 'E',\n  'id': '1297abb7-185d-4a7e-89c1-c8d672fc4423',\n  'label': 'Creation of ‘Letter of the Waldensian brethren of St Peter-in-der-Awe’',\n  'language': '',\n  'detail': '',\n  'data': {'logicalType': '1'},\n  'props': [],\n  'notes': ['Import batch [development] 2023-01-13 19:35:45.939035',\n   'special T65>:creation_event_id E0089_T65'],\n  'status': '1',\n  'references': [],\n  'legacyId': 'E0089_T65'},\n {'class': 'V',\n  'id': 'c7b52b6e-a257-4023-8040-00030c794c97',\n  'label': '1365',\n  'language': '',\n  'detail': '',\n  'data': {'logicalType': '1'},\n  'props': [],\n  'notes': ['Import batch [development] 2023-01-13 19:35:45.939035',\n   'special T65>:creation_event_id E0089_T65'],\n  'status': '1',\n  'references': []},\n {'class': 'V',\n  'id': '6ef9ff09-cf26-48a4-ac9a-8571fb76fa95',\n  'label': '1367',\n  'language': '',\n  'detail': '',\n  'data': {'logicalType': '1'},\n  'props': [],\n  'notes': ['Import batch [development] 2023-01-13 19:35:45.939035',\n   'special T65>:creation_event_id E0089_T65'],\n  'status': '1',\n  'references': []},\n {'class': 'E',\n  'id': '50d2fd6d-4d4e-4503-9cd6-b4e687f11cd9',\n  'label': 'Creation of ‘Liber Electorum’',\n  'language': '',\n  'detail': '',\n  'data': {'logicalType': '1'},\n  'props': [],\n  'notes': ['Import batch [development] 2023-01-13 19:35:45.939035',\n   'special T47>:creation_event_id E0090_T47'],\n  'status': '1',\n  'references': [],\n  'legacyId': 'E0090_T47'},\n {'class': 'V',\n  'id': '6d149ca1-5a7a-451c-8f92-7e60031a3866',\n  'label': '1335',\n  'language': '',\n  'detail': '',\n  'data': {'logicalType': '1'},\n  'props': [],\n  'notes': ['Import batch [development] 2023-01-13 19:35:45.939035',\n   'special T47>:creation_event_id E0090_T47'],\n  'status': '1',\n  'references': []},\n {'class': 'V',\n  'id': 'a484a08d-dbb4-4526-8c33-2cb792548751',\n  'label': '1360',\n  'language': '',\n  'detail': '',\n  'data': {'logicalType': '1'},\n  'props': [],\n  'notes': ['Import batch [development] 2023-01-13 19:35:45.939035',\n   'special T47>:creation_event_id E0090_T47'],\n  'status': '1',\n  'references': []},\n {'class': 'E',\n  'id': 'c61564e3-26e2-47cc-870c-be2940b6060b',\n  'label': 'Creation of ‘Liber Miraculorum Sancte Fidis’',\n  'language': '',\n  'detail': '',\n  'data': {'logicalType': '1'},\n  'props': [],\n  'notes': ['Import batch [development] 2023-01-13 19:35:45.939035',\n   'special T105>:creation_event_id E0091_T105'],\n  'status': '1',\n  'references': [],\n  'legacyId': 'E0091_T105'},\n {'class': 'V',\n  'id': '1a94f53a-1625-4405-a632-df1a10e432f7',\n  'label': '1013',\n  'language': '',\n  'detail': '',\n  'data': {'logicalType': '1'},\n  'props': [],\n  'notes': ['Import batch [development] 2023-01-13 19:35:45.939035',\n   'special T105>:creation_event_id E0091_T105'],\n  'status': '1',\n  'references': []},\n {'class': 'V',\n  'id': 'dea02929-a472-4efc-9fd6-3a9ca03e0063',\n  'label': '1020',\n  'language': '',\n  'detail': '',\n  'data': {'logicalType': '1'},\n  'props': [],\n  'notes': ['Import batch [development] 2023-01-13 19:35:45.939035',\n   'special T105>:creation_event_id E0091_T105'],\n  'status': '1',\n  'references': []},\n {'class': 'E',\n  'id': 'da467a0f-c74d-4a86-a059-0ca14ec14a7e',\n  'label': 'Creation of ‘Lichfield Court Book’',\n  'language': '',\n  'detail': '',\n  'data': {'logicalType': '1'},\n  'props': [],\n  'notes': ['Import batch [development] 2023-01-13 19:35:45.939035',\n   'special T36>:creation_event_id E0092_T36'],\n  'status': '1',\n  'references': [],\n  'legacyId': 'E0092_T36'},\n {'class': 'E',\n  'id': 'c8e16487-1e87-4467-a24d-1e02ba470efe',\n  'label': 'Creation of ‘Lo Despreczi del Mont’',\n  'language': '',\n  'detail': '',\n  'data': {'logicalType': '1'},\n  'props': [],\n  'notes': ['Import batch [development] 2023-01-13 19:35:45.939035',\n   'special T61>:creation_event_id E0093_T61'],\n  'status': '1',\n  'references': [],\n  'legacyId': 'E0093_T61'},\n {'class': 'V',\n  'id': '35bf2411-ead4-4a9a-bd41-cae59a531124',\n  'label': '1350',\n  'language': '',\n  'detail': '',\n  'data': {'logicalType': '1'},\n  'props': [],\n  'notes': ['Import batch [development] 2023-01-13 19:35:45.939035',\n   'special T61>:creation_event_id E0093_T61'],\n  'status': '1',\n  'references': []},\n {'class': 'V',\n  'id': '173d5fc9-0548-4038-8e59-45a5f62bdafb',\n  'label': '1425',\n  'language': '',\n  'detail': '',\n  'data': {'logicalType': '1'},\n  'props': [],\n  'notes': ['Import batch [development] 2023-01-13 19:35:45.939035',\n   'special T61>:creation_event_id E0093_T61'],\n  'status': '1',\n  'references': []},\n {'class': 'V',\n  'id': 'de406fd7-85cc-4fa4-b6da-b06d59e68298',\n  'label': ' 147r-149r',\n  'language': '',\n  'detail': '',\n  'data': {'logicalType': '1'},\n  'props': [],\n  'notes': ['Import batch [development] 2023-01-13 19:35:45.939035',\n   'propvalue_2nd>92:T61:manuscript_witness_1_with_range_entified:~V~ 147r-149r'],\n  'status': '1',\n  'references': []},\n {'class': 'V',\n  'id': '46798670-c674-4275-80f0-6fd5dd44d8e4',\n  'label': '23v-25v',\n  'language': '',\n  'detail': '',\n  'data': {'logicalType': '1'},\n  'props': [],\n  'notes': ['Import batch [development] 2023-01-13 19:35:45.939035',\n   'propvalue_2nd>92:T61:manuscript_witness_2_with_range_entified:~V~23v-25v'],\n  'status': '1',\n  'references': []},\n {'class': 'E',\n  'id': '7bd6abea-eee7-4055-914e-98baff6bde6e',\n  'label': 'Creation of ‘Lo Novel Confort’',\n  'language': '',\n  'detail': '',\n  'data': {'logicalType': '1'},\n  'props': [],\n  'notes': ['Import batch [development] 2023-01-13 19:35:45.939035',\n   'special T59>:creation_event_id E0094_T59'],\n  'status': '1',\n  'references': [],\n  'legacyId': 'E0094_T59'},\n {'class': 'V',\n  'id': '3e9c4ae8-d13f-475c-bb3a-ca9af862593d',\n  'label': '1350',\n  'language': '',\n  'detail': '',\n  'data': {'logicalType': '1'},\n  'props': [],\n  'notes': ['Import batch [development] 2023-01-13 19:35:45.939035',\n   'special T59>:creation_event_id E0094_T59'],\n  'status': '1',\n  'references': []},\n {'class': 'V',\n  'id': '85e18154-f040-42dc-adf7-8ff378ffc344',\n  'label': '1425',\n  'language': '',\n  'detail': '',\n  'data': {'logicalType': '1'},\n  'props': [],\n  'notes': ['Import batch [development] 2023-01-13 19:35:45.939035',\n   'special T59>:creation_event_id E0094_T59'],\n  'status': '1',\n  'references': []},\n {'class': 'V',\n  'id': '19eb7126-e435-490a-9d30-8458b3da32ca',\n  'label': ' 128r-134r',\n  'language': '',\n  'detail': '',\n  'data': {'logicalType': '1'},\n  'props': [],\n  'notes': ['Import batch [development] 2023-01-13 19:35:45.939035',\n   'propvalue_2nd>93:T59:manuscript_witness_1_with_range_entified:~V~ 128r-134r'],\n  'status': '1',\n  'references': []},\n {'class': 'V',\n  'id': '08f62e67-e6f7-42bc-b21e-d36b73ef86f8',\n  'label': '1r-7v',\n  'language': '',\n  'detail': '',\n  'data': {'logicalType': '1'},\n  'props': [],\n  'notes': ['Import batch [development] 2023-01-13 19:35:45.939035',\n   'propvalue_2nd>93:T59:manuscript_witness_2_with_range_entified:~V~1r-7v'],\n  'status': '1',\n  'references': []},\n {'class': 'E',\n  'id': '675f7e2a-669c-4a2e-af96-de2b3a96814a',\n  'label': 'Creation of ‘Lo Novel Sermon’',\n  'language': '',\n  'detail': '',\n  'data': {'logicalType': '1'},\n  'props': [],\n  'notes': ['Import batch [development] 2023-01-13 19:35:45.939035',\n   'special T58>:creation_event_id E0095_T58'],\n  'status': '1',\n  'references': [],\n  'legacyId': 'E0095_T58'},\n {'class': 'V',\n  'id': '46a4ce19-384b-4098-8276-77ec3bf0a6f3',\n  'label': '1350',\n  'language': '',\n  'detail': '',\n  'data': {'logicalType': '1'},\n  'props': [],\n  'notes': ['Import batch [development] 2023-01-13 19:35:45.939035',\n   'special T58>:creation_event_id E0095_T58'],\n  'status': '1',\n  'references': []},\n {'class': 'V',\n  'id': '377addf9-3dc6-4c3b-a8b2-fc951b4acb00',\n  'label': '1425',\n  'language': '',\n  'detail': '',\n  'data': {'logicalType': '1'},\n  'props': [],\n  'notes': ['Import batch [development] 2023-01-13 19:35:45.939035',\n   'special T58>:creation_event_id E0095_T58'],\n  'status': '1',\n  'references': []},\n {'class': 'V',\n  'id': '21e43e7a-863f-455b-aacf-4357bbf65b90',\n  'label': ' 119v-128r',\n  'language': '',\n  'detail': '',\n  'data': {'logicalType': '1'},\n  'props': [],\n  'notes': ['Import batch [development] 2023-01-13 19:35:45.939035',\n   'propvalue_2nd>94:T58:manuscript_witness_1_with_range_entified:~V~ 119v-128r'],\n  'status': '1',\n  'references': []},\n {'class': 'V',\n  'id': '4c25e4b3-96f3-454f-82b0-16c70fcf4750',\n  'label': '35r-44r',\n  'language': '',\n  'detail': '',\n  'data': {'logicalType': '1'},\n  'props': [],\n  'notes': ['Import batch [development] 2023-01-13 19:35:45.939035',\n   'propvalue_2nd>94:T58:manuscript_witness_2_with_range_entified:~V~35r-44r'],\n  'status': '1',\n  'references': []},\n {'class': 'E',\n  'id': '7af09f59-dd03-4729-9d07-52b9abb5855b',\n  'label': 'Creation of ‘Lo Payre Eternal’',\n  'language': '',\n  'detail': '',\n  'data': {'logicalType': '1'},\n  'props': [],\n  'notes': ['Import batch [development] 2023-01-13 19:35:45.939035',\n   'special T60>:creation_event_id E0096_T60'],\n  'status': '1',\n  'references': [],\n  'legacyId': 'E0096_T60'},\n {'class': 'V',\n  'id': '0188262a-f766-4fc9-b2c0-48352df51fee',\n  'label': '1350',\n  'language': '',\n  'detail': '',\n  'data': {'logicalType': '1'},\n  'props': [],\n  'notes': ['Import batch [development] 2023-01-13 19:35:45.939035',\n   'special T60>:creation_event_id E0096_T60'],\n  'status': '1',\n  'references': []},\n {'class': 'V',\n  'id': 'b8740683-baf7-4f8c-9c11-d438654083c6',\n  'label': '1425',\n  'language': '',\n  'detail': '',\n  'data': {'logicalType': '1'},\n  'props': [],\n  'notes': ['Import batch [development] 2023-01-13 19:35:45.939035',\n   'special T60>:creation_event_id E0096_T60'],\n  'status': '1',\n  'references': []},\n {'class': 'V',\n  'id': '4216d686-b249-4f1f-8f2d-02afaff54531',\n  'label': ' 144r-147r',\n  'language': '',\n  'detail': '',\n  'data': {'logicalType': '1'},\n  'props': [],\n  'notes': ['Import batch [development] 2023-01-13 19:35:45.939035',\n   'propvalue_2nd>95:T60:manuscript_witness_1_with_range_entified:~V~ 144r-147r'],\n  'status': '1',\n  'references': []},\n {'class': 'V',\n  'id': 'a845edc6-97f8-4724-b91d-1965ba39ced4',\n  'label': '20v-23v',\n  'language': '',\n  'detail': '',\n  'data': {'logicalType': '1'},\n  'props': [],\n  'notes': ['Import batch [development] 2023-01-13 19:35:45.939035',\n   'propvalue_2nd>95:T60:manuscript_witness_2_with_range_entified:~V~20v-23v'],\n  'status': '1',\n  'references': []},\n {'class': 'E',\n  'id': '92b35309-ff75-43dd-b924-d67726937713',\n  'label': 'Creation of ‘Lost records of trial with the Guglielmites by Mayfredus de Dovaria’',\n  'language': '',\n  'detail': '',\n  'data': {'logicalType': '1'},\n  'props': [],\n  'notes': ['Import batch [development] 2023-01-13 19:35:45.939035',\n   'special T150>:creation_event_id E0097_T150'],\n  'status': '1',\n  'references': [],\n  'legacyId': 'E0097_T150'},\n {'class': 'E',\n  'id': '3a023f36-d7b7-446c-be70-a2426ddf8dd6',\n  'label': 'Creation of ‘Lost trial records of the Guglielmites by Mayfredus de Cera’',\n  'language': '',\n  'detail': '',\n  'data': {'logicalType': '1'},\n  'props': [],\n  'notes': ['Import batch [development] 2023-01-13 19:35:45.939035',\n   'special T146>:creation_event_id E0098_T146'],\n  'status': '1',\n  'references': [],\n  'legacyId': 'E0098_T146'},\n {'class': 'V',\n  'id': '52e51973-cb36-46fc-82f6-85e10278a270',\n  'label': '1300',\n  'language': '',\n  'detail': '',\n  'data': {'logicalType': '1'},\n  'props': [],\n  'notes': ['Import batch [development] 2023-01-13 19:35:45.939035',\n   'special T146>:creation_event_id E0098_T146'],\n  'status': '1',\n  'references': []},\n {'class': 'E',\n  'id': '70f1d1c6-4012-403e-a27e-b5a0d84cb239',\n  'label': 'Creation of ‘Millau court records concerning support lent to the faidits’',\n  'language': '',\n  'detail': '',\n  'data': {'logicalType': '1'},\n  'props': [],\n  'notes': ['Import batch [development] 2023-01-13 19:35:45.939035',\n   'special T18>:creation_event_id E099_T18'],\n  'status': '1',\n  'references': [],\n  'legacyId': 'E099_T18'},\n {'class': 'V',\n  'id': 'd1e42b2b-8e12-4727-85dd-dae4705b338f',\n  'label': '1286',\n  'language': '',\n  'detail': '',\n  'data': {'logicalType': '1'},\n  'props': [],\n  'notes': ['Import batch [development] 2023-01-13 19:35:45.939035',\n   'special T18>:creation_event_id E099_T18'],\n  'status': '1',\n  'references': []},\n {'class': 'V',\n  'id': '2b30bca9-0df7-4fe5-a8d9-b157e9ae51d5',\n  'label': '1286',\n  'language': '',\n  'detail': '',\n  'data': {'logicalType': '1'},\n  'props': [],\n  'notes': ['Import batch [development] 2023-01-13 19:35:45.939035',\n   'special T18>:creation_event_id E099_T18'],\n  'status': '1',\n  'references': []},\n {'class': 'V',\n  'id': 'a3deed4a-4698-4d17-b1c8-f62c0be28d56',\n  'label': '1288',\n  'language': '',\n  'detail': '',\n  'data': {'logicalType': '1'},\n  'props': [],\n  'notes': ['Import batch [development] 2023-01-13 19:35:45.939035',\n   'special T18>:creation_event_id E099_T18'],\n  'status': '1',\n  'references': []},\n {'class': 'V',\n  'id': 'ad01f443-a2a7-435d-9c06-7a343cb2e9bc',\n  'label': '1288',\n  'language': '',\n  'detail': '',\n  'data': {'logicalType': '1'},\n  'props': [],\n  'notes': ['Import batch [development] 2023-01-13 19:35:45.939035',\n   'special T18>:creation_event_id E099_T18'],\n  'status': '1',\n  'references': []},\n {'class': 'R',\n  'id': '5b47fbe8-de67-4b8b-b074-f8c51f0e70d9',\n  'label': 'Freyssenge, 2005',\n  'language': '',\n  'detail': '',\n  'data': {'url': 'https://www.zotero.org/groups/446972/david_zbiral_bibliography/items/itemKey/W6K66YBT/',\n   'partValueBaseURL': '',\n   'partValueLabel': ''},\n  'props': [],\n  'notes': ['Import batch [development] 2023-01-13 19:35:45.939035'],\n  'status': '1',\n  'references': []},\n {'class': 'V',\n  'id': '95ac1686-95ef-4305-a4fc-2eb7c156c756',\n  'label': '367-379',\n  'language': '',\n  'detail': '',\n  'data': {'logicalType': '1'},\n  'props': [],\n  'notes': ['Import batch [development] 2023-01-13 19:35:45.939035',\n   'propvalue_2nd>98:T18:edition_1_page_range:367-379'],\n  'status': '1',\n  'references': []},\n {'class': 'E',\n  'id': 'd7964432-9a89-492a-a2c0-e83f8e475715',\n  'label': 'Creation of ‘Miracula Sancti Benedicti’',\n  'language': '',\n  'detail': '',\n  'data': {'logicalType': '1'},\n  'props': [],\n  'notes': ['Import batch [development] 2023-01-13 19:35:45.939035',\n   'special T88>:creation_event_id E0100_T88'],\n  'status': '1',\n  'references': [],\n  'legacyId': 'E0100_T88'},\n {'class': 'R',\n  'id': 'c67f90b9-08fc-48c7-98dd-e927717b47d0',\n  'label': 'Miracula Sancti Benedicti, VI, 20',\n  'language': '',\n  'detail': '',\n  'data': {'url': '', 'partValueBaseURL': '', 'partValueLabel': ''},\n  'props': [],\n  'notes': ['Import batch [development] 2023-01-13 19:35:45.939035'],\n  'status': '1',\n  'references': []},\n {'class': 'V',\n  'id': '42e4d3c2-f600-4141-9b3d-50d3e88b9ed8',\n  'label': '246-248',\n  'language': '',\n  'detail': '',\n  'data': {'logicalType': '1'},\n  'props': [],\n  'notes': ['Import batch [development] 2023-01-13 19:35:45.939035',\n   'propvalue_2nd>99:T88:edition_1_page_range:246-248'],\n  'status': '1',\n  'references': []},\n {'class': 'E',\n  'id': '60ef9793-d69c-4df7-84f8-01d613484bef',\n  'label': 'Creation of ‘Miscellaneous lost medieval inquisition records’',\n  'language': '',\n  'detail': '',\n  'data': {'logicalType': '1'},\n  'props': [],\n  'notes': ['Import batch [development] 2023-01-13 19:35:45.939035',\n   'special T152>:creation_event_id E0101_T152'],\n  'status': '1',\n  'references': [],\n  'legacyId': 'E0101_T152'},\n {'class': 'V',\n  'id': 'fb7da895-08b0-4b67-a60e-e630bb0216e4',\n  'label': '1231',\n  'language': '',\n  'detail': '',\n  'data': {'logicalType': '1'},\n  'props': [],\n  'notes': ['Import batch [development] 2023-01-13 19:35:45.939035',\n   'special T152>:creation_event_id E0101_T152'],\n  'status': '1',\n  'references': []},\n {'class': 'V',\n  'id': '2988dd1d-509a-46f0-a74e-15e72b12d186',\n  'label': '1520',\n  'language': '',\n  'detail': '',\n  'data': {'logicalType': '1'},\n  'props': [],\n  'notes': ['Import batch [development] 2023-01-13 19:35:45.939035',\n   'special T152>:creation_event_id E0101_T152'],\n  'status': '1',\n  'references': []},\n {'class': 'E',\n  'id': '2dabb4f7-95e5-4d2a-a2bb-e3be548fd0c1',\n  'label': 'Creation of ‘Miscellaneous lost records of trial with the Guglielmites’',\n  'language': '',\n  'detail': '',\n  'data': {'logicalType': '1'},\n  'props': [],\n  'notes': ['Import batch [development] 2023-01-13 19:35:45.939035',\n   'special T151>:creation_event_id E0102_T151'],\n  'status': '1',\n  'references': [],\n  'legacyId': 'E0102_T151'},\n {'class': 'V',\n  'id': 'ab1c8514-f7e2-4388-b944-70e37b7f2cf3',\n  'label': '1280',\n  'language': '',\n  'detail': '',\n  'data': {'logicalType': '1'},\n  'props': [],\n  'notes': ['Import batch [development] 2023-01-13 19:35:45.939035',\n   'special T151>:creation_event_id E0102_T151'],\n  'status': '1',\n  'references': []},\n {'class': 'V',\n  'id': '6711621f-baf8-4b5d-8445-07e6e16ed361',\n  'label': '1302',\n  'language': '',\n  'detail': '',\n  'data': {'logicalType': '1'},\n  'props': [],\n  'notes': ['Import batch [development] 2023-01-13 19:35:45.939035',\n   'special T151>:creation_event_id E0102_T151'],\n  'status': '1',\n  'references': []},\n {'class': 'E',\n  'id': '4a7234ee-ace4-4132-a95f-f1f9bb074e67',\n  'label': 'Creation of ‘Nobla leyczon’',\n  'language': '',\n  'detail': '',\n  'data': {'logicalType': '1'},\n  'props': [],\n  'notes': ['Import batch [development] 2023-01-13 19:35:45.939035',\n   'special T72>:creation_event_id E0103_T72'],\n  'status': '1',\n  'references': [],\n  'legacyId': 'E0103_T72'},\n {'class': 'V',\n  'id': 'b194d044-e3b6-4e3c-bee5-5dc9b0df355b',\n  'label': '1424',\n  'language': '',\n  'detail': '',\n  'data': {'logicalType': '1'},\n  'props': [],\n  'notes': ['Import batch [development] 2023-01-13 19:35:45.939035',\n   'special T72>:creation_event_id E0103_T72'],\n  'status': '1',\n  'references': []},\n {'class': 'V',\n  'id': 'e1a978c8-33ae-4f0a-98a6-079262077ae8',\n  'label': '134v-144r',\n  'language': '',\n  'detail': '',\n  'data': {'logicalType': '1'},\n  'props': [],\n  'notes': ['Import batch [development] 2023-01-13 19:35:45.939035',\n   'propvalue_2nd>102:T72:manuscript_witness_3_with_range_entified:~V~134v-144r'],\n  'status': '1',\n  'references': []},\n {'class': 'V',\n  'id': 'e30b0d41-aa87-4bed-94d7-b0c84e4baeac',\n  'label': '26r-35r',\n  'language': '',\n  'detail': '',\n  'data': {'logicalType': '1'},\n  'props': [],\n  'notes': ['Import batch [development] 2023-01-13 19:35:45.939035',\n   'propvalue_2nd>102:T72:manuscript_witness_4_with_range_entified:~V~26r-35r'],\n  'status': '1',\n  'references': []},\n {'class': 'E',\n  'id': 'cd3963bd-1b40-483c-876b-cb6de6d30445',\n  'label': 'Creation of ‘Norwich Heresy Trials’',\n  'language': '',\n  'detail': '',\n  'data': {'logicalType': '1'},\n  'props': [],\n  'notes': ['Import batch [development] 2023-01-13 19:35:45.939035',\n   'special T39>:creation_event_id E0104_T39'],\n  'status': '1',\n  'references': [],\n  'legacyId': 'E0104_T39'},\n {'class': 'E',\n  'id': 'ba6882ac-f094-43be-9451-ca31f73dc666',\n  'label': 'Creation of ‘Peter Seila’s Register of Penances’',\n  'language': '',\n  'detail': '',\n  'data': {'logicalType': '1'},\n  'props': [],\n  'notes': ['Import batch [development] 2023-01-13 19:35:45.939035',\n   'special T3>:creation_event_id E0105_T3'],\n  'status': '1',\n  'references': [],\n  'legacyId': 'E0105_T3'},\n {'class': 'V',\n  'id': '0a5fd578-d535-4409-a80b-fe15cd1332e2',\n  'label': '1241',\n  'language': '',\n  'detail': '',\n  'data': {'logicalType': '1'},\n  'props': [],\n  'notes': ['Import batch [development] 2023-01-13 19:35:45.939035',\n   'special T3>:creation_event_id E0105_T3'],\n  'status': '1',\n  'references': []},\n {'class': 'V',\n  'id': '143da939-d23a-47b2-bd22-208104b8c90c',\n  'label': '1241',\n  'language': '',\n  'detail': '',\n  'data': {'logicalType': '1'},\n  'props': [],\n  'notes': ['Import batch [development] 2023-01-13 19:35:45.939035',\n   'special T3>:creation_event_id E0105_T3'],\n  'status': '1',\n  'references': []},\n {'class': 'V',\n  'id': '57fe2fb3-1a2e-432a-ac9c-5f6291d17ec4',\n  'label': '1242',\n  'language': '',\n  'detail': '',\n  'data': {'logicalType': '1'},\n  'props': [],\n  'notes': ['Import batch [development] 2023-01-13 19:35:45.939035',\n   'special T3>:creation_event_id E0105_T3'],\n  'status': '1',\n  'references': []},\n {'class': 'V',\n  'id': '5f8f9373-c216-42d7-a3cf-3ad82dff4035',\n  'label': '1242',\n  'language': '',\n  'detail': '',\n  'data': {'logicalType': '1'},\n  'props': [],\n  'notes': ['Import batch [development] 2023-01-13 19:35:45.939035',\n   'special T3>:creation_event_id E0105_T3'],\n  'status': '1',\n  'references': []},\n {'class': 'V',\n  'id': 'e49d63eb-1239-460a-a539-fe1940b40dd6',\n  'label': '185r-312v',\n  'language': '',\n  'detail': '',\n  'data': {'logicalType': '1'},\n  'props': [],\n  'notes': ['Import batch [development] 2023-01-13 19:35:45.939035',\n   'propvalue_2nd>104:T3:manuscript_witness_1_with_range_entified:~V~185r-312v'],\n  'status': '1',\n  'references': []},\n {'class': 'R',\n  'id': '23abd928-daf9-4eb5-8e11-b3755f55def1',\n  'label': 'Duvernoy, 2001',\n  'language': '',\n  'detail': '',\n  'data': {'url': 'https://www.zotero.org/groups/446972/david_zbiral_bibliography/items/itemKey/7BM9S24P/',\n   'partValueBaseURL': '',\n   'partValueLabel': ''},\n  'props': [],\n  'notes': ['Import batch [development] 2023-01-13 19:35:45.939035'],\n  'status': '1',\n  'references': []},\n {'class': 'E',\n  'id': 'bab0a394-e2cb-4c6d-a123-6e771dc8bc3b',\n  'label': 'Creation of ‘Process agains Fribourg Waldensians, 1399’',\n  'language': '',\n  'detail': '',\n  'data': {'logicalType': '1'},\n  'props': [],\n  'notes': ['Import batch [development] 2023-01-13 19:35:45.939035',\n   'special T45>:creation_event_id E0106_T45'],\n  'status': '1',\n  'references': [],\n  'legacyId': 'E0106_T45'},\n {'class': 'V',\n  'id': '12de9bf3-154b-4399-90cb-ff4ac9fdd17f',\n  'label': '1399',\n  'language': '',\n  'detail': '',\n  'data': {'logicalType': '1'},\n  'props': [],\n  'notes': ['Import batch [development] 2023-01-13 19:35:45.939035',\n   'special T45>:creation_event_id E0106_T45'],\n  'status': '1',\n  'references': []},\n {'class': 'R',\n  'id': 'd330298a-875a-4ef1-8c55-ff7f72da6767',\n  'label': 'Utz Tremp, 2000',\n  'language': '',\n  'detail': '',\n  'data': {'url': '', 'partValueBaseURL': '', 'partValueLabel': ''},\n  'props': [],\n  'notes': ['Import batch [development] 2023-01-13 19:35:45.939035'],\n  'status': '1',\n  'references': []},\n {'class': 'E',\n  'id': '004135f4-828f-460f-b9b2-0b58b89ab7b9',\n  'label': 'Creation of ‘Process agains Fribourg Waldensians, 1430’',\n  'language': '',\n  'detail': '',\n  'data': {'logicalType': '1'},\n  'props': [],\n  'notes': ['Import batch [development] 2023-01-13 19:35:45.939035',\n   'special T46>:creation_event_id E0107_T46'],\n  'status': '1',\n  'references': [],\n  'legacyId': 'E0107_T46'},\n {'class': 'V',\n  'id': 'a20fdb64-dc3e-49fc-a4e3-7b371e05479f',\n  'label': '1430',\n  'language': '',\n  'detail': '',\n  'data': {'logicalType': '1'},\n  'props': [],\n  'notes': ['Import batch [development] 2023-01-13 19:35:45.939035',\n   'special T46>:creation_event_id E0107_T46'],\n  'status': '1',\n  'references': []},\n {'class': 'E',\n  'id': 'a3378045-66b5-473e-a437-3239c642f94c',\n  'label': 'Creation of ‘Process against Bernard Niort and his family’',\n  'language': '',\n  'detail': '',\n  'data': {'logicalType': '1'},\n  'props': [],\n  'notes': ['Import batch [development] 2023-01-13 19:35:45.939035',\n   'special T1>:creation_event_id E0001_T1'],\n  'status': '1',\n  'references': [],\n  'legacyId': 'E0001_T1'},\n {'class': 'V',\n  'id': '7f3b164c-e8f4-4abf-b7ec-7e8064cb51f9',\n  'label': '1234',\n  'language': '',\n  'detail': '',\n  'data': {'logicalType': '1'},\n  'props': [],\n  'notes': ['Import batch [development] 2023-01-13 19:35:45.939035',\n   'special T1>:creation_event_id E0001_T1'],\n  'status': '1',\n  'references': []},\n {'class': 'V',\n  'id': 'c2648219-a6f0-43b5-bc79-cb732149eb3f',\n  'label': '34r-50r',\n  'language': '',\n  'detail': '',\n  'data': {'logicalType': '1'},\n  'props': [],\n  'notes': ['Import batch [development] 2023-01-13 19:35:45.939035',\n   'propvalue_2nd>107:T1:manuscript_witness_1_with_range_entified:~V~34r-50r'],\n  'status': '1',\n  'references': []},\n {'class': 'R',\n  'id': 'a4e6e22a-08cc-4dba-b8cd-5175de6b9434',\n  'label': 'Douais, 1900',\n  'language': '',\n  'detail': '',\n  'data': {'url': 'https://www.zotero.org/groups/446972/david_zbiral_bibliography/items/itemKey/9WRY2YI7/',\n   'partValueBaseURL': '',\n   'partValueLabel': ''},\n  'props': [],\n  'notes': ['Import batch [development] 2023-01-13 19:35:45.939035'],\n  'status': '1',\n  'references': []},\n {'class': 'V',\n  'id': 'b81ee374-a227-4ec7-94d8-efb5b1f6afea',\n  'label': '61-63',\n  'language': '',\n  'detail': '',\n  'data': {'logicalType': '1'},\n  'props': [],\n  'notes': ['Import batch [development] 2023-01-13 19:35:45.939035',\n   'propvalue_2nd>107:T1:edition_1_page_range:61-63'],\n  'status': '1',\n  'references': []},\n {'class': 'E',\n  'id': '520b4afe-362d-47b6-85b9-903029ea2f45',\n  'label': 'Creation of ‘Process against Conrad Huter and his family, Regensburg 1395’',\n  'language': '',\n  'detail': '',\n  'data': {'logicalType': '1'},\n  'props': [],\n  'notes': ['Import batch [development] 2023-01-13 19:35:45.939035',\n   'special T44>:creation_event_id E0109_T44'],\n  'status': '1',\n  'references': [],\n  'legacyId': 'E0109_T44'},\n {'class': 'V',\n  'id': '0eb02e56-e47f-43f6-a6ac-3446f2bc8b6c',\n  'label': '1395',\n  'language': '',\n  'detail': '',\n  'data': {'logicalType': '1'},\n  'props': [],\n  'notes': ['Import batch [development] 2023-01-13 19:35:45.939035',\n   'special T44>:creation_event_id E0109_T44'],\n  'status': '1',\n  'references': []},\n {'class': 'V',\n  'id': '96e2cf1a-fbd0-48bf-b2b7-b68b565b1616',\n  'label': '1395',\n  'language': '',\n  'detail': '',\n  'data': {'logicalType': '1'},\n  'props': [],\n  'notes': ['Import batch [development] 2023-01-13 19:35:45.939035',\n   'special T44>:creation_event_id E0109_T44'],\n  'status': '1',\n  'references': []},\n {'class': 'V',\n  'id': 'f1ed952d-71d0-4309-9367-0f9e2a3e4ac1',\n  'label': '1396',\n  'language': '',\n  'detail': '',\n  'data': {'logicalType': '1'},\n  'props': [],\n  'notes': ['Import batch [development] 2023-01-13 19:35:45.939035',\n   'special T44>:creation_event_id E0109_T44'],\n  'status': '1',\n  'references': []},\n {'class': 'V',\n  'id': '0fa81166-27d8-4885-a480-a29c47c1963c',\n  'label': '1396',\n  'language': '',\n  'detail': '',\n  'data': {'logicalType': '1'},\n  'props': [],\n  'notes': ['Import batch [development] 2023-01-13 19:35:45.939035',\n   'special T44>:creation_event_id E0109_T44'],\n  'status': '1',\n  'references': []},\n {'class': 'R',\n  'id': 'a323af29-afca-47b3-b5c1-a20e3aec2551',\n  'label': 'Kieckhefer, 1972 (unpublished dissertation)',\n  'language': '',\n  'detail': '',\n  'data': {'url': '', 'partValueBaseURL': '', 'partValueLabel': ''},\n  'props': [],\n  'notes': ['Import batch [development] 2023-01-13 19:35:45.939035'],\n  'status': '1',\n  'references': []},\n {'class': 'R',\n  'id': '641afe5a-f87e-4771-a10a-93c617fc4cf5',\n  'label': \"Reima Välimäki's transcription of the Process against Conrad Huter and his family, Regensburg 1395\",\n  'language': '',\n  'detail': '',\n  'data': {'url': '', 'partValueBaseURL': '', 'partValueLabel': ''},\n  'props': [],\n  'notes': ['Import batch [development] 2023-01-13 19:35:45.939035'],\n  'status': '1',\n  'references': []},\n {'class': 'E',\n  'id': 'aed89e45-4c04-4adc-8529-6cb5ecaaca1c',\n  'label': 'Creation of ‘Process against heretics in Giaveno by Alberto de Castellario, 1335’',\n  'language': '',\n  'detail': '',\n  'data': {'logicalType': '1'},\n  'props': [],\n  'notes': ['Import batch [development] 2023-01-13 19:35:45.939035',\n   'special T75>:creation_event_id E0110_T75'],\n  'status': '1',\n  'references': [],\n  'legacyId': 'E0110_T75'},\n {'class': 'V',\n  'id': '9c76bab4-35b3-4a9a-85d9-4c9f18dd89c7',\n  'label': '1335',\n  'language': '',\n  'detail': '',\n  'data': {'logicalType': '1'},\n  'props': [],\n  'notes': ['Import batch [development] 2023-01-13 19:35:45.939035',\n   'special T75>:creation_event_id E0110_T75'],\n  'status': '1',\n  'references': []},\n {'class': 'V',\n  'id': '1a5ee0a9-e8fc-4d06-8a20-987364454889',\n  'label': '1335',\n  'language': '',\n  'detail': '',\n  'data': {'logicalType': '1'},\n  'props': [],\n  'notes': ['Import batch [development] 2023-01-13 19:35:45.939035',\n   'special T75>:creation_event_id E0110_T75'],\n  'status': '1',\n  'references': []},\n {'class': 'V',\n  'id': 'b5a63461-00f2-42d1-8c25-61058aea1f74',\n  'label': '1r-111v',\n  'language': '',\n  'detail': '',\n  'data': {'logicalType': '1'},\n  'props': [],\n  'notes': ['Import batch [development] 2023-01-13 19:35:45.939035',\n   'propvalue_2nd>109:T75:manuscript_witness_1_with_range_entified:~V~1r-111v'],\n  'status': '1',\n  'references': []},\n {'class': 'R',\n  'id': 'b7ca1e14-b2a3-4e69-a413-8d0ad9ec3349',\n  'label': 'Grado G. Merlo, Eretici e inquisitori nella società piemontese del Trecento, Torino: Claudiana 1977',\n  'language': '',\n  'detail': '',\n  'data': {'url': '', 'partValueBaseURL': '', 'partValueLabel': ''},\n  'props': [],\n  'notes': ['Import batch [development] 2023-01-13 19:35:45.939035'],\n  'status': '1',\n  'references': []},\n {'class': 'V',\n  'id': '113ed0d9-8171-4622-92f7-9bc1fed756f1',\n  'label': '161-255',\n  'language': '',\n  'detail': '',\n  'data': {'logicalType': '1'},\n  'props': [],\n  'notes': ['Import batch [development] 2023-01-13 19:35:45.939035',\n   'propvalue_2nd>109:T75:edition_1_page_range:161-255'],\n  'status': '1',\n  'references': []},\n {'class': 'E',\n  'id': 'd35a9a55-6fcc-43ee-9f40-1626c597a868',\n  'label': 'Creation of ‘Process against heretics in Piedmont by Antonio of Settimo, 1387-1388’',\n  'language': '',\n  'detail': '',\n  'data': {'logicalType': '1'},\n  'props': [],\n  'notes': ['Import batch [development] 2023-01-13 19:35:45.939035',\n   'special T34>:creation_event_id E0111_T34'],\n  'status': '1',\n  'references': [],\n  'legacyId': 'E0111_T34'},\n {'class': 'V',\n  'id': '51c40fd5-edaa-46d3-8721-802bcfa68da2',\n  'label': '1387',\n  'language': '',\n  'detail': '',\n  'data': {'logicalType': '1'},\n  'props': [],\n  'notes': ['Import batch [development] 2023-01-13 19:35:45.939035',\n   'special T34>:creation_event_id E0111_T34'],\n  'status': '1',\n  'references': []},\n {'class': 'V',\n  'id': '43692f6c-6c44-47a0-9fa5-3091ec989ead',\n  'label': '1387',\n  'language': '',\n  'detail': '',\n  'data': {'logicalType': '1'},\n  'props': [],\n  'notes': ['Import batch [development] 2023-01-13 19:35:45.939035',\n   'special T34>:creation_event_id E0111_T34'],\n  'status': '1',\n  'references': []},\n {'class': 'V',\n  'id': '114c6475-2fcf-47fd-acfd-5345c83af1cf',\n  'label': '1388',\n  'language': '',\n  'detail': '',\n  'data': {'logicalType': '1'},\n  'props': [],\n  'notes': ['Import batch [development] 2023-01-13 19:35:45.939035',\n   'special T34>:creation_event_id E0111_T34'],\n  'status': '1',\n  'references': []},\n {'class': 'V',\n  'id': 'a12542bc-817d-4bcf-bcfd-f783022ffa2c',\n  'label': '1388',\n  'language': '',\n  'detail': '',\n  'data': {'logicalType': '1'},\n  'props': [],\n  'notes': ['Import batch [development] 2023-01-13 19:35:45.939035',\n   'special T34>:creation_event_id E0111_T34'],\n  'status': '1',\n  'references': []},\n {'class': 'V',\n  'id': '54cb58ae-66c6-416c-b0ce-b31c0005ebe1',\n  'label': '2r-117v',\n  'language': '',\n  'detail': '',\n  'data': {'logicalType': '1'},\n  'props': [],\n  'notes': ['Import batch [development] 2023-01-13 19:35:45.939035',\n   'propvalue_2nd>110:T34:manuscript_witness_1_with_range_entified:~V~2r-117v'],\n  'status': '1',\n  'references': []},\n {'class': 'R',\n  'id': '6ed83f6f-e530-4bfa-bf80-5c6c237eac13',\n  'label': 'Amati (ed.), „Processus contra Valdenses in Lombardia Superiori, anno 1387“, Archivio Storico Italiano 3/1, 1865, 16-52 (3-52); 3/2, 1865, 3-61',\n  'language': '',\n  'detail': '',\n  'data': {'url': '', 'partValueBaseURL': '', 'partValueLabel': ''},\n  'props': [],\n  'notes': ['Import batch [development] 2023-01-13 19:35:45.939035'],\n  'status': '1',\n  'references': []},\n {'class': 'R',\n  'id': '12243cd0-9eac-4b15-bd51-4820fbd30a4d',\n  'label': 'F. Šanjek, Bosansko-humski krstjani…, 140-144',\n  'language': '',\n  'detail': '',\n  'data': {'url': '', 'partValueBaseURL': '', 'partValueLabel': ''},\n  'props': [],\n  'notes': ['Import batch [development] 2023-01-13 19:35:45.939035'],\n  'status': '1',\n  'references': []},\n {'class': 'R',\n  'id': 'c89650b5-5056-49b8-8868-7fbe751ad76a',\n  'label': 'Alberto Barbero, „I catari di Chieri“, in: Domenico Devoti (ed.), Testi e problemi di storia del cristianesimo, Torino: G. Giappichelli 1967, 87-111: 89-93 (fol. 142r-147r).',\n  'language': '',\n  'detail': '',\n  'data': {'url': '', 'partValueBaseURL': '', 'partValueLabel': ''},\n  'props': [],\n  'notes': ['Import batch [development] 2023-01-13 19:35:45.939035'],\n  'status': '1',\n  'references': []},\n {'class': 'E',\n  'id': 'a2a6e3ee-72ee-422d-becd-008821248342',\n  'label': 'Creation of ‘Process against heretics in Piedmont by Tomasso of Casasco, 1373’',\n  'language': '',\n  'detail': '',\n  'data': {'logicalType': '1'},\n  'props': [],\n  'notes': ['Import batch [development] 2023-01-13 19:35:45.939035',\n   'special T73>:creation_event_id E0112_T73'],\n  'status': '1',\n  'references': [],\n  'legacyId': 'E0112_T73'},\n {'class': 'V',\n  'id': '74804a73-cfc7-4fa7-913f-aa61e13b50c6',\n  'label': '1373',\n  'language': '',\n  'detail': '',\n  'data': {'logicalType': '1'},\n  'props': [],\n  'notes': ['Import batch [development] 2023-01-13 19:35:45.939035',\n   'special T73>:creation_event_id E0112_T73'],\n  'status': '1',\n  'references': []},\n {'class': 'V',\n  'id': '00452954-af40-4976-8bd8-67af46209e50',\n  'label': '1373',\n  'language': '',\n  'detail': '',\n  'data': {'logicalType': '1'},\n  'props': [],\n  'notes': ['Import batch [development] 2023-01-13 19:35:45.939035',\n   'special T73>:creation_event_id E0112_T73'],\n  'status': '1',\n  'references': []},\n {'class': 'V',\n  'id': '3bdb3316-c56f-4a0c-b009-761d262bfba9',\n  'label': '1388',\n  'language': '',\n  'detail': '',\n  'data': {'logicalType': '1'},\n  'props': [],\n  'notes': ['Import batch [development] 2023-01-13 19:35:45.939035',\n   'special T73>:creation_event_id E0112_T73'],\n  'status': '1',\n  'references': []},\n {'class': 'V',\n  'id': '27dd6f98-66a6-498d-bd6f-2b1f8ae7e014',\n  'label': '1388',\n  'language': '',\n  'detail': '',\n  'data': {'logicalType': '1'},\n  'props': [],\n  'notes': ['Import batch [development] 2023-01-13 19:35:45.939035',\n   'special T73>:creation_event_id E0112_T73'],\n  'status': '1',\n  'references': []},\n {'class': 'V',\n  'id': 'f1483b0d-c47e-4f0c-8d8b-e0dcc1f8c392',\n  'label': ' 119r-138v',\n  'language': '',\n  'detail': '',\n  'data': {'logicalType': '1'},\n  'props': [],\n  'notes': ['Import batch [development] 2023-01-13 19:35:45.939035',\n   'propvalue_2nd>111:T73:manuscript_witness_1_with_range_entified:~V~ 119r-138v'],\n  'status': '1',\n  'references': []},\n {'class': 'V',\n  'id': '36f7c8bb-1d91-47fc-8ef1-9c7cb4fd0e58',\n  'label': '257-283',\n  'language': '',\n  'detail': '',\n  'data': {'logicalType': '1'},\n  'props': [],\n  'notes': ['Import batch [development] 2023-01-13 19:35:45.939035',\n   'propvalue_2nd>111:T73:edition_1_page_range:257-283'],\n  'status': '1',\n  'references': []},\n {'class': 'E',\n  'id': 'd565dba6-a67b-43d7-9b32-e1940762b75c',\n  'label': 'Creation of ‘Process against Peter of Fenouillet’',\n  'language': '',\n  'detail': '',\n  'data': {'logicalType': '1'},\n  'props': [],\n  'notes': ['Import batch [development] 2023-01-13 19:35:45.939035',\n   'special T31>:creation_event_id E0113_T31'],\n  'status': '1',\n  'references': [],\n  'legacyId': 'E0113_T31'},\n {'class': 'V',\n  'id': '66218c22-1ac7-4d36-876d-262b85ff8eac',\n  'label': '1262',\n  'language': '',\n  'detail': '',\n  'data': {'logicalType': '1'},\n  'props': [],\n  'notes': ['Import batch [development] 2023-01-13 19:35:45.939035',\n   'special T31>:creation_event_id E0113_T31'],\n  'status': '1',\n  'references': []},\n {'class': 'V',\n  'id': '5a4d929e-ac90-4586-9132-382d49fcec44',\n  'label': '79r-124v',\n  'language': '',\n  'detail': '',\n  'data': {'logicalType': '1'},\n  'props': [],\n  'notes': ['Import batch [development] 2023-01-13 19:35:45.939035',\n   'propvalue_2nd>112:T31:manuscript_witness_1_with_range_entified:~V~79r-124v'],\n  'status': '1',\n  'references': []},\n {'class': 'E',\n  'id': '68705c8b-1da2-4153-99e7-64db8c3c9f31',\n  'label': 'Creation of ‘Processes against Waldensians in Dauphiné before 1488’',\n  'language': '',\n  'detail': '',\n  'data': {'logicalType': '1'},\n  'props': [],\n  'notes': ['Import batch [development] 2023-01-13 19:35:45.939035',\n   'special T43>:creation_event_id E0114_T43'],\n  'status': '1',\n  'references': [],\n  'legacyId': 'E0114_T43'},\n {'class': 'E',\n  'id': 'a57779d0-9c5a-4d38-8807-f52de65b7c70',\n  'label': 'Creation of ‘Quaternus imbriviaturarum Beltrami Salvagni’',\n  'language': '',\n  'detail': '',\n  'data': {'logicalType': '1'},\n  'props': [],\n  'notes': ['Import batch [development] 2023-01-13 19:35:45.939035',\n   'special T107>:creation_event_id E0115_T107'],\n  'status': '1',\n  'references': [],\n  'legacyId': 'E0115_T107'},\n {'class': 'V',\n  'id': 'dc7fc724-e39c-4028-ba39-c3e5f7ad479a',\n  'label': '1300-07-18',\n  'language': '',\n  'detail': '',\n  'data': {'logicalType': '1'},\n  'props': [],\n  'notes': ['Import batch [development] 2023-01-13 19:35:45.939035',\n   'special T107>:creation_event_id E0115_T107'],\n  'status': '1',\n  'references': []},\n {'class': 'V',\n  'id': 'd5ceda7b-881e-48c2-b2bc-603aa539ea29',\n  'label': '1302-02-12',\n  'language': '',\n  'detail': '',\n  'data': {'logicalType': '1'},\n  'props': [],\n  'notes': ['Import batch [development] 2023-01-13 19:35:45.939035',\n   'special T107>:creation_event_id E0115_T107'],\n  'status': '1',\n  'references': []},\n {'class': 'R',\n  'id': 'afc70844-99e1-4faa-b63c-bb73fbf4b7cd',\n  'label': 'Benedetti, 1999',\n  'language': '',\n  'detail': '',\n  'data': {'url': 'https://www.zotero.org/groups/446972/dissident_networks_project/items/itemKey/NGMAHICU/',\n   'partValueBaseURL': '',\n   'partValueLabel': ''},\n  'props': [],\n  'notes': ['Import batch [development] 2023-01-13 19:35:45.939035'],\n  'status': '1',\n  'references': []},\n {'class': 'V',\n  'id': 'c62769a3-3157-4448-b44b-712179d5c8d0',\n  'label': '52-304',\n  'language': '',\n  'detail': '',\n  'data': {'logicalType': '1'},\n  'props': [],\n  'notes': ['Import batch [development] 2023-01-13 19:35:45.939035',\n   'propvalue_2nd>114:T107:edition_1_page_range:52-304'],\n  'status': '1',\n  'references': []},\n {'class': 'R',\n  'id': 'b22d8655-9509-405f-98ba-fcb0ff206d71',\n  'label': 'Tocco, 1899',\n  'language': '',\n  'detail': '',\n  'data': {'url': 'https://www.zotero.org/groups/446972/dissident_networks_project/items/itemKey/CV5IHHMK/',\n   'partValueBaseURL': '',\n   'partValueLabel': ''},\n  'props': [],\n  'notes': ['Import batch [development] 2023-01-13 19:35:45.939035'],\n  'status': '1',\n  'references': []},\n {'class': 'E',\n  'id': '21ecdb11-b570-4fbf-8280-be2f9118a989',\n  'label': 'Creation of ‘Rationes of the inquisitor Francesco of Pocapaglia’',\n  'language': '',\n  'detail': '',\n  'data': {'logicalType': '1'},\n  'props': [],\n  'notes': ['Import batch [development] 2023-01-13 19:35:45.939035',\n   'special T80>:creation_event_id E0116_T80'],\n  'status': '1',\n  'references': [],\n  'legacyId': 'E0116_T80'},\n {'class': 'V',\n  'id': 'a69820a3-97c8-4681-8530-2847dac08dbd',\n  'label': '1307',\n  'language': '',\n  'detail': '',\n  'data': {'logicalType': '1'},\n  'props': [],\n  'notes': ['Import batch [development] 2023-01-13 19:35:45.939035',\n   'special T80>:creation_event_id E0116_T80'],\n  'status': '1',\n  'references': []},\n {'class': 'V',\n  'id': '770b2bf6-0f28-478e-b73c-53496410273a',\n  'label': '1307',\n  'language': '',\n  'detail': '',\n  'data': {'logicalType': '1'},\n  'props': [],\n  'notes': ['Import batch [development] 2023-01-13 19:35:45.939035',\n   'special T80>:creation_event_id E0116_T80'],\n  'status': '1',\n  'references': []},\n {'class': 'V',\n  'id': '953d6e99-de83-4877-baeb-eaed784eb4be',\n  'label': '1316',\n  'language': '',\n  'detail': '',\n  'data': {'logicalType': '1'},\n  'props': [],\n  'notes': ['Import batch [development] 2023-01-13 19:35:45.939035',\n   'special T80>:creation_event_id E0116_T80'],\n  'status': '1',\n  'references': []},\n {'class': 'V',\n  'id': '15cc24db-0d0a-44b6-9455-3a973efd8010',\n  'label': '1316',\n  'language': '',\n  'detail': '',\n  'data': {'logicalType': '1'},\n  'props': [],\n  'notes': ['Import batch [development] 2023-01-13 19:35:45.939035',\n   'special T80>:creation_event_id E0116_T80'],\n  'status': '1',\n  'references': []},\n {'class': 'V',\n  'id': 'a71716f6-05de-4d36-878a-2c4fb6684b12',\n  'label': '169v-188r',\n  'language': '',\n  'detail': '',\n  'data': {'logicalType': '1'},\n  'props': [],\n  'notes': ['Import batch [development] 2023-01-13 19:35:45.939035',\n   'propvalue_2nd>115:T80:manuscript_witness_1_with_range_entified:~V~169v-188r'],\n  'status': '1',\n  'references': []},\n {'class': 'R',\n  'id': '23ff5431-d7f4-4a51-b0a9-8983105f1d8b',\n  'label': 'Biscaro, Gerolamo, „Inquisitori ed eretici lombardi (1292-1318)“, Miscellanea di Storia Italiana 19, 1922.',\n  'language': '',\n  'detail': '',\n  'data': {'url': '', 'partValueBaseURL': '', 'partValueLabel': ''},\n  'props': [],\n  'notes': ['Import batch [development] 2023-01-13 19:35:45.939035'],\n  'status': '1',\n  'references': []},\n {'class': 'V',\n  'id': 'd68a272b-6d9e-44ee-a9c9-a9efe628d191',\n  'label': '543-548',\n  'language': '',\n  'detail': '',\n  'data': {'logicalType': '1'},\n  'props': [],\n  'notes': ['Import batch [development] 2023-01-13 19:35:45.939035',\n   'propvalue_2nd>115:T80:edition_1_page_range:543-548'],\n  'status': '1',\n  'references': []},\n {'class': 'E',\n  'id': 'ca4be687-85a3-4e8d-a10a-f7c21927b11e',\n  'label': 'Creation of ‘Register DDD of the Carcassonne inquisition’',\n  'language': '',\n  'detail': '',\n  'data': {'logicalType': '1'},\n  'props': [],\n  'notes': ['Import batch [development] 2023-01-13 19:35:45.939035',\n   'special T26>:creation_event_id E0117_T26'],\n  'status': '1',\n  'references': [],\n  'legacyId': 'E0117_T26'},\n {'class': 'V',\n  'id': '7b9ed41c-13af-4135-8a79-8fa8a95bf62d',\n  'label': '1323',\n  'language': '',\n  'detail': '',\n  'data': {'logicalType': '1'},\n  'props': [],\n  'notes': ['Import batch [development] 2023-01-13 19:35:45.939035',\n   'special T26>:creation_event_id E0117_T26'],\n  'status': '1',\n  'references': []},\n {'class': 'V',\n  'id': '5817f398-2acf-4199-8f2b-791f86927899',\n  'label': '1323',\n  'language': '',\n  'detail': '',\n  'data': {'logicalType': '1'},\n  'props': [],\n  'notes': ['Import batch [development] 2023-01-13 19:35:45.939035',\n   'special T26>:creation_event_id E0117_T26'],\n  'status': '1',\n  'references': []},\n {'class': 'V',\n  'id': 'f5fcd10f-8ebb-4dbf-9ae1-a3d80afd3ab2',\n  'label': '1327',\n  'language': '',\n  'detail': '',\n  'data': {'logicalType': '1'},\n  'props': [],\n  'notes': ['Import batch [development] 2023-01-13 19:35:45.939035',\n   'special T26>:creation_event_id E0117_T26'],\n  'status': '1',\n  'references': []},\n {'class': 'V',\n  'id': '1a530ab1-5434-466b-b003-389f1f07f8fe',\n  'label': '1327',\n  'language': '',\n  'detail': '',\n  'data': {'logicalType': '1'},\n  'props': [],\n  'notes': ['Import batch [development] 2023-01-13 19:35:45.939035',\n   'special T26>:creation_event_id E0117_T26'],\n  'status': '1',\n  'references': []},\n {'class': 'V',\n  'id': 'f6c0c3fa-48af-4f33-ab4b-41abaea763fd',\n  'label': '1r-252v',\n  'language': '',\n  'detail': '',\n  'data': {'logicalType': '1'},\n  'props': [],\n  'notes': ['Import batch [development] 2023-01-13 19:35:45.939035',\n   'propvalue_2nd>116:T26:manuscript_witness_1_with_range_entified:~V~1r-252v'],\n  'status': '1',\n  'references': []},\n {'class': 'R',\n  'id': '7fa1cdb7-b194-49a7-8056-567ebd539098',\n  'label': 'Duvernoy, 2003',\n  'language': '',\n  'detail': '',\n  'data': {'url': 'https://www.zotero.org/groups/446972/david_zbiral_bibliography/items/itemKey/5TSCPWS6/',\n   'partValueBaseURL': '',\n   'partValueLabel': ''},\n  'props': [],\n  'notes': ['Import batch [development] 2023-01-13 19:35:45.939035'],\n  'status': '1',\n  'references': []},\n {'class': 'E',\n  'id': 'cc5761e7-6a1b-499b-9bac-2e8a8a51ba2b',\n  'label': 'Creation of ‘Register FFF of the Carcassonne inquisition’',\n  'language': '',\n  'detail': '',\n  'data': {'logicalType': '1'},\n  'props': [],\n  'notes': ['Import batch [development] 2023-01-13 19:35:45.939035',\n   'special T4>:creation_event_id E0118_T4'],\n  'status': '1',\n  'references': [],\n  'legacyId': 'E0118_T4'},\n {'class': 'V',\n  'id': '21ed4434-99c4-46bc-8c88-63ba6de764cf',\n  'label': '1243',\n  'language': '',\n  'detail': '',\n  'data': {'logicalType': '1'},\n  'props': [],\n  'notes': ['Import batch [development] 2023-01-13 19:35:45.939035',\n   'special T4>:creation_event_id E0118_T4'],\n  'status': '1',\n  'references': []},\n {'class': 'V',\n  'id': '6e89d7c7-1bd9-4324-973a-d0f7e9c85f98',\n  'label': '1243',\n  'language': '',\n  'detail': '',\n  'data': {'logicalType': '1'},\n  'props': [],\n  'notes': ['Import batch [development] 2023-01-13 19:35:45.939035',\n   'special T4>:creation_event_id E0118_T4'],\n  'status': '1',\n  'references': []},\n {'class': 'V',\n  'id': '5aca25d6-dd97-4e77-8ced-da8004e09b97',\n  'label': '1244',\n  'language': '',\n  'detail': '',\n  'data': {'logicalType': '1'},\n  'props': [],\n  'notes': ['Import batch [development] 2023-01-13 19:35:45.939035',\n   'special T4>:creation_event_id E0118_T4'],\n  'status': '1',\n  'references': []},\n {'class': 'V',\n  'id': 'bbd8f9d6-ff00-43dd-a2e6-5b8b77068825',\n  'label': '1244',\n  'language': '',\n  'detail': '',\n  'data': {'logicalType': '1'},\n  'props': [],\n  'notes': ['Import batch [development] 2023-01-13 19:35:45.939035',\n   'special T4>:creation_event_id E0118_T4'],\n  'status': '1',\n  'references': []},\n {'class': 'V',\n  'id': 'd7d32025-07d5-47a5-a0ac-2f6f5bf9b131',\n  'label': '22:107r-296v; 23:1r-346v; 24:1r-238r',\n  'language': '',\n  'detail': '',\n  'data': {'logicalType': '1'},\n  'props': [],\n  'notes': ['Import batch [development] 2023-01-13 19:35:45.939035',\n   'propvalue_2nd>117:T4:manuscript_witness_1_with_range_entified:~V~22:107r-296v; 23:1r-346v; 24:1r-238r'],\n  'status': '1',\n  'references': []},\n {'class': 'R',\n  'id': '84f53a4c-752c-4369-a027-9402fcd90a6d',\n  'label': 'Duvernoy, 1998',\n  'language': '',\n  'detail': '',\n  'data': {'url': 'https://www.zotero.org/groups/446972/david_zbiral_bibliography/items/itemKey/MIS42FA8/',\n   'partValueBaseURL': '',\n   'partValueLabel': ''},\n  'props': [],\n  'notes': ['Import batch [development] 2023-01-13 19:35:45.939035'],\n  'status': '1',\n  'references': []},\n {'class': 'R',\n  'id': '8a506fdd-8395-4767-966f-a92bfbe85538',\n  'label': 'Blaquière & Dossat, 1968',\n  'language': '',\n  'detail': '',\n  'data': {'url': 'https://www.zotero.org/groups/446972/david_zbiral_bibliography/items/itemKey/6W5S9CE9/',\n   'partValueBaseURL': '',\n   'partValueLabel': ''},\n  'props': [],\n  'notes': ['Import batch [development] 2023-01-13 19:35:45.939035'],\n  'status': '1',\n  'references': []},\n {'class': 'V',\n  'id': 'a3740b97-e354-473f-8240-50ca3aff818b',\n  'label': '290-298',\n  'language': '',\n  'detail': '',\n  'data': {'logicalType': '1'},\n  'props': [],\n  'notes': ['Import batch [development] 2023-01-13 19:35:45.939035',\n   'propvalue_2nd>117:T4:edition_2_page_range:290-298'],\n  'status': '1',\n  'references': []},\n {'class': 'E',\n  'id': 'a1446767-0892-4cfa-bd74-f77a9e715f66',\n  'label': 'Creation of ‘Register GGG of the Carcassonne inquisition’',\n  'language': '',\n  'detail': '',\n  'data': {'logicalType': '1'},\n  'props': [],\n  'notes': ['Import batch [development] 2023-01-13 19:35:45.939035',\n   'special T27>:creation_event_id E0119_T27'],\n  'status': '1',\n  'references': [],\n  'legacyId': 'E0119_T27'},\n {'class': 'V',\n  'id': '222ebb0e-2f0b-47ab-a876-75dce96e86bc',\n  'label': '1328',\n  'language': '',\n  'detail': '',\n  'data': {'logicalType': '1'},\n  'props': [],\n  'notes': ['Import batch [development] 2023-01-13 19:35:45.939035',\n   'special T27>:creation_event_id E0119_T27'],\n  'status': '1',\n  'references': []},\n {'class': 'V',\n  'id': 'fc7f43db-8d87-465b-a106-1723848a666f',\n  'label': '1328',\n  'language': '',\n  'detail': '',\n  'data': {'logicalType': '1'},\n  'props': [],\n  'notes': ['Import batch [development] 2023-01-13 19:35:45.939035',\n   'special T27>:creation_event_id E0119_T27'],\n  'status': '1',\n  'references': []},\n {'class': 'V',\n  'id': '8698cc95-0772-45fa-9dda-5e958c5b84d7',\n  'label': '1329',\n  'language': '',\n  'detail': '',\n  'data': {'logicalType': '1'},\n  'props': [],\n  'notes': ['Import batch [development] 2023-01-13 19:35:45.939035',\n   'special T27>:creation_event_id E0119_T27'],\n  'status': '1',\n  'references': []},\n {'class': 'V',\n  'id': '9afc37f6-7c80-41c1-893d-95376e0d540d',\n  'label': '1329',\n  'language': '',\n  'detail': '',\n  'data': {'logicalType': '1'},\n  'props': [],\n  'notes': ['Import batch [development] 2023-01-13 19:35:45.939035',\n   'special T27>:creation_event_id E0119_T27'],\n  'status': '1',\n  'references': []},\n {'class': 'V',\n  'id': '06eb0b6b-8637-4e88-aa77-44d6d5a10353',\n  'label': '1r-250r',\n  'language': '',\n  'detail': '',\n  'data': {'logicalType': '1'},\n  'props': [],\n  'notes': ['Import batch [development] 2023-01-13 19:35:45.939035',\n   'propvalue_2nd>118:T27:manuscript_witness_1_with_range_entified:~V~1r-250r'],\n  'status': '1',\n  'references': []},\n {'class': 'R',\n  'id': '6e63fa3d-29cf-4e00-8708-ee5323c2421d',\n  'label': 'Duvernoy, 2003',\n  'language': '',\n  'detail': '',\n  'data': {'url': 'https://www.zotero.org/groups/446972/david_zbiral_bibliography/items/itemKey/RM6QY9EU/',\n   'partValueBaseURL': '',\n   'partValueLabel': ''},\n  'props': [],\n  'notes': ['Import batch [development] 2023-01-13 19:35:45.939035'],\n  'status': '1',\n  'references': []},\n {'class': 'E',\n  'id': 'b89d4aa0-1cc8-4f81-a865-f5798f10b444',\n  'label': 'Creation of ‘Register HHH of the Carcassonne inquisition’',\n  'language': '',\n  'detail': '',\n  'data': {'logicalType': '1'},\n  'props': [],\n  'notes': ['Import batch [development] 2023-01-13 19:35:45.939035',\n   'special T10>:creation_event_id E0120_T10'],\n  'status': '1',\n  'references': [],\n  'legacyId': 'E0120_T10'},\n {'class': 'V',\n  'id': 'bba0cc98-3ad2-400a-9c12-343d0a092a33',\n  'label': '1246',\n  'language': '',\n  'detail': '',\n  'data': {'logicalType': '1'},\n  'props': [],\n  'notes': ['Import batch [development] 2023-01-13 19:35:45.939035',\n   'special T10>:creation_event_id E0120_T10'],\n  'status': '1',\n  'references': []},\n {'class': 'V',\n  'id': '442c60fa-aece-4015-9980-39060e4989a0',\n  'label': '1246',\n  'language': '',\n  'detail': '',\n  'data': {'logicalType': '1'},\n  'props': [],\n  'notes': ['Import batch [development] 2023-01-13 19:35:45.939035',\n   'special T10>:creation_event_id E0120_T10'],\n  'status': '1',\n  'references': []},\n {'class': 'V',\n  'id': '549cc9f6-2ebb-4418-924b-32ecd6bb78c5',\n  'label': '1247',\n  'language': '',\n  'detail': '',\n  'data': {'logicalType': '1'},\n  'props': [],\n  'notes': ['Import batch [development] 2023-01-13 19:35:45.939035',\n   'special T10>:creation_event_id E0120_T10'],\n  'status': '1',\n  'references': []},\n {'class': 'V',\n  'id': '86f52d81-6c70-411a-93d4-f037c196fef4',\n  'label': '1247',\n  'language': '',\n  'detail': '',\n  'data': {'logicalType': '1'},\n  'props': [],\n  'notes': ['Import batch [development] 2023-01-13 19:35:45.939035',\n   'special T10>:creation_event_id E0120_T10'],\n  'status': '1',\n  'references': []},\n {'class': 'V',\n  'id': '6eab2d17-e9c1-4538-9f1e-3bbc03369a3f',\n  'label': '240r-286v',\n  'language': '',\n  'detail': '',\n  'data': {'logicalType': '1'},\n  'props': [],\n  'notes': ['Import batch [development] 2023-01-13 19:35:45.939035',\n   'propvalue_2nd>119:T10:manuscript_witness_1_with_range_entified:~V~240r-286v'],\n  'status': '1',\n  'references': []},\n {'class': 'R',\n  'id': '3cca26ec-92a5-40e7-acfc-7292ebeebda5',\n  'label': 'Duvernoy, 1990',\n  'language': '',\n  'detail': '',\n  'data': {'url': 'https://www.zotero.org/groups/446972/david_zbiral_bibliography/items/itemKey/7LFK3FN2/',\n   'partValueBaseURL': '',\n   'partValueLabel': ''},\n  'props': [],\n  'notes': ['Import batch [development] 2023-01-13 19:35:45.939035'],\n  'status': '1',\n  'references': []},\n {'class': 'E',\n  'id': 'b6dde570-984b-40cc-9f8d-f6696fc602bd',\n  'label': 'Creation of ‘Register of Bernard of Caux and John of Saint-Pierre’',\n  'language': '',\n  'detail': '',\n  'data': {'logicalType': '1'},\n  'props': [],\n  'notes': ['Import batch [development] 2023-01-13 19:35:45.939035',\n   'special T6>:creation_event_id E0121_T6'],\n  'status': '1',\n  'references': [],\n  'legacyId': 'E0121_T6'},\n {'class': 'V',\n  'id': 'aa4f7290-9f75-4210-b05f-010057d4bab0',\n  'label': '1243',\n  'language': '',\n  'detail': '',\n  'data': {'logicalType': '1'},\n  'props': [],\n  'notes': ['Import batch [development] 2023-01-13 19:35:45.939035',\n   'special T6>:creation_event_id E0121_T6'],\n  'status': '1',\n  'references': []},\n {'class': 'V',\n  'id': '45597e8a-d44f-4c7f-b9d9-99cc65caa95d',\n  'label': '1243',\n  'language': '',\n  'detail': '',\n  'data': {'logicalType': '1'},\n  'props': [],\n  'notes': ['Import batch [development] 2023-01-13 19:35:45.939035',\n   'special T6>:creation_event_id E0121_T6'],\n  'status': '1',\n  'references': []},\n {'class': 'V',\n  'id': '2d8729f0-9d0c-4c07-bf1a-449a23018802',\n  'label': '1247',\n  'language': '',\n  'detail': '',\n  'data': {'logicalType': '1'},\n  'props': [],\n  'notes': ['Import batch [development] 2023-01-13 19:35:45.939035',\n   'special T6>:creation_event_id E0121_T6'],\n  'status': '1',\n  'references': []},\n {'class': 'V',\n  'id': 'e9754cea-a484-4a4f-9c06-809a849fb7c7',\n  'label': '1247',\n  'language': '',\n  'detail': '',\n  'data': {'logicalType': '1'},\n  'props': [],\n  'notes': ['Import batch [development] 2023-01-13 19:35:45.939035',\n   'special T6>:creation_event_id E0121_T6'],\n  'status': '1',\n  'references': []},\n {'class': 'V',\n  'id': '8901032a-ebc1-4c00-80af-1ba3ccafb8d9',\n  'label': '1r-106v',\n  'language': '',\n  'detail': '',\n  'data': {'logicalType': '1'},\n  'props': [],\n  'notes': ['Import batch [development] 2023-01-13 19:35:45.939035',\n   'propvalue_2nd>120:T6:manuscript_witness_1_with_range_entified:~V~1r-106v'],\n  'status': '1',\n  'references': []},\n {'class': 'R',\n  'id': '8e5b8cbb-ffd7-4fb9-a025-c276bc81f68e',\n  'label': 'Duvernoy, 2002',\n  'language': '',\n  'detail': '',\n  'data': {'url': 'https://www.zotero.org/groups/446972/david_zbiral_bibliography/items/itemKey/K6ZKV4/',\n   'partValueBaseURL': '',\n   'partValueLabel': ''},\n  'props': [],\n  'notes': ['Import batch [development] 2023-01-13 19:35:45.939035'],\n  'status': '1',\n  'references': []},\n {'class': 'R',\n  'id': 'd4a3a1a6-27df-4701-a7b6-e8f4ed54d0a2',\n  'label': 'Douais, 1900',\n  'language': '',\n  'detail': '',\n  'data': {'url': 'https://www.zotero.org/groups/446972/david_zbiral_bibliography/items/itemKey/ZHKR4MXG/',\n   'partValueBaseURL': '',\n   'partValueLabel': ''},\n  'props': [],\n  'notes': ['Import batch [development] 2023-01-13 19:35:45.939035'],\n  'status': '1',\n  'references': []},\n {'class': 'V',\n  'id': '458fcdaf-b1fe-4e3a-aad9-0ceed67f4e87',\n  'label': '90-114',\n  'language': '',\n  'detail': '',\n  'data': {'logicalType': '1'},\n  'props': [],\n  'notes': ['Import batch [development] 2023-01-13 19:35:45.939035',\n   'propvalue_2nd>120:T6:edition_2_page_range:90-114'],\n  'status': '1',\n  'references': []},\n {'class': 'E',\n  'id': 'a59cb9fd-4794-476e-8767-b1d4a5a73fdd',\n  'label': 'Creation of ‘Register of Bernard of Caux and John of Saint-Pierre’',\n  'language': '',\n  'detail': '',\n  'data': {'logicalType': '1'},\n  'props': [],\n  'notes': ['Import batch [development] 2023-01-13 19:35:45.939035',\n   'special T9>:creation_event_id E0122_T9'],\n  'status': '1',\n  'references': [],\n  'legacyId': 'E0122_T9'},\n {'class': 'V',\n  'id': '236d62f7-1846-4ca0-aaa8-10e53d46301a',\n  'label': '1245',\n  'language': '',\n  'detail': '',\n  'data': {'logicalType': '1'},\n  'props': [],\n  'notes': ['Import batch [development] 2023-01-13 19:35:45.939035',\n   'special T9>:creation_event_id E0122_T9'],\n  'status': '1',\n  'references': []},\n {'class': 'V',\n  'id': '6b3978ff-0dfc-4aa1-9654-69c981f9bc36',\n  'label': '1245',\n  'language': '',\n  'detail': '',\n  'data': {'logicalType': '1'},\n  'props': [],\n  'notes': ['Import batch [development] 2023-01-13 19:35:45.939035',\n   'special T9>:creation_event_id E0122_T9'],\n  'status': '1',\n  'references': []},\n {'class': 'V',\n  'id': '8eaab761-1cbb-426e-8c2b-ecd0c5d777c3',\n  'label': '1246',\n  'language': '',\n  'detail': '',\n  'data': {'logicalType': '1'},\n  'props': [],\n  'notes': ['Import batch [development] 2023-01-13 19:35:45.939035',\n   'special T9>:creation_event_id E0122_T9'],\n  'status': '1',\n  'references': []},\n {'class': 'V',\n  'id': 'eb834e43-dea9-4ba2-aca1-1471ac78791f',\n  'label': '1246',\n  'language': '',\n  'detail': '',\n  'data': {'logicalType': '1'},\n  'props': [],\n  'notes': ['Import batch [development] 2023-01-13 19:35:45.939035',\n   'special T9>:creation_event_id E0122_T9'],\n  'status': '1',\n  'references': []},\n {'class': 'R',\n  'id': '74c558fb-9833-4aaa-951e-735f93c4124b',\n  'label': 'Evans & Sherwood',\n  'language': '',\n  'detail': '',\n  'data': {'url': 'https://www.zotero.org/groups/446972/dissident_networks_project/items/itemKey/DP9WFZMW/',\n   'partValueBaseURL': '',\n   'partValueLabel': ''},\n  'props': [],\n  'notes': ['Import batch [development] 2023-01-13 19:35:45.939035'],\n  'status': '1',\n  'references': []},\n {'class': 'V',\n  'id': '629f154a-79ea-4ba4-9d8d-f912832f5b7c',\n  'label': '1-795',\n  'language': '',\n  'detail': '',\n  'data': {'logicalType': '1'},\n  'props': [],\n  'notes': ['Import batch [development] 2023-01-13 19:35:45.939035',\n   'propvalue_2nd>121:T9:edition_1_page_range:1-795'],\n  'status': '1',\n  'references': []},\n {'class': 'R',\n  'id': '47cd57b7-eafa-4889-9198-f3c99e636426',\n  'label': 'Rehr, 2019',\n  'language': '',\n  'detail': '',\n  'data': {'url': 'https://www.zotero.org/groups/446972/david_zbiral_bibliography/items/itemKey/Q5YHWC2S/',\n   'partValueBaseURL': '',\n   'partValueLabel': ''},\n  'props': [],\n  'notes': ['Import batch [development] 2023-01-13 19:35:45.939035'],\n  'status': '1',\n  'references': []},\n {'class': 'R',\n  'id': '6ea0d248-1838-437b-9469-5a4d95472d7d',\n  'label': 'Duvernoy, 2002',\n  'language': '',\n  'detail': '',\n  'data': {'url': 'https://www.zotero.org/groups/446972/dissident_networks_project/items/itemKey/45PKPXYV/',\n   'partValueBaseURL': '',\n   'partValueLabel': ''},\n  'props': [],\n  'notes': ['Import batch [development] 2023-01-13 19:35:45.939035'],\n  'status': '1',\n  'references': []},\n {'class': 'E',\n  'id': 'f1f68330-43ab-4bd9-8bb7-a14ca76cafc2',\n  'label': 'Creation of ‘Register of Gallus of Neuhaus’',\n  'language': '',\n  'detail': '',\n  'data': {'logicalType': '1'},\n  'props': [],\n  'notes': ['Import batch [development] 2023-01-13 19:35:45.939035',\n   'special T32>:creation_event_id E0123_T32'],\n  'status': '1',\n  'references': [],\n  'legacyId': 'E0123_T32'},\n {'class': 'V',\n  'id': '1c654389-4ac1-4d6d-9aab-b53a4f05657e',\n  'label': '1335',\n  'language': '',\n  'detail': '',\n  'data': {'logicalType': '1'},\n  'props': [],\n  'notes': ['Import batch [development] 2023-01-13 19:35:45.939035',\n   'special T32>:creation_event_id E0123_T32'],\n  'status': '1',\n  'references': []},\n {'class': 'V',\n  'id': '8a70e8a6-5f8b-42d1-8c59-013a724158d7',\n  'label': '1335',\n  'language': '',\n  'detail': '',\n  'data': {'logicalType': '1'},\n  'props': [],\n  'notes': ['Import batch [development] 2023-01-13 19:35:45.939035',\n   'special T32>:creation_event_id E0123_T32'],\n  'status': '1',\n  'references': []},\n {'class': 'V',\n  'id': '18c2780a-46f6-494c-a264-8b21c06cd164',\n  'label': '1353',\n  'language': '',\n  'detail': '',\n  'data': {'logicalType': '1'},\n  'props': [],\n  'notes': ['Import batch [development] 2023-01-13 19:35:45.939035',\n   'special T32>:creation_event_id E0123_T32'],\n  'status': '1',\n  'references': []},\n {'class': 'V',\n  'id': '09f1e2b0-b26f-465a-b785-32ead7ff6734',\n  'label': '1355',\n  'language': '',\n  'detail': '',\n  'data': {'logicalType': '1'},\n  'props': [],\n  'notes': ['Import batch [development] 2023-01-13 19:35:45.939035',\n   'special T32>:creation_event_id E0123_T32'],\n  'status': '1',\n  'references': []},\n {'class': 'R',\n  'id': '5a2cc663-60fc-420c-b777-312d9cce62e5',\n  'label': 'Patschovsky, 1979',\n  'language': '',\n  'detail': '',\n  'data': {'url': 'https://www.zotero.org/groups/446972/david_zbiral_bibliography/items/collectionKey/CUPPQIZM/itemKey/JYVDASA9',\n   'partValueBaseURL': '',\n   'partValueLabel': ''},\n  'props': [],\n  'notes': ['Import batch [development] 2023-01-13 19:35:45.939035'],\n  'status': '1',\n  'references': []},\n {'class': 'E',\n  'id': '1e5e9ad5-2dd5-4ab0-b15e-a102aa6208e8',\n  'label': 'Creation of ‘Register of Geoffrey Blyth’',\n  'language': '',\n  'detail': '',\n  'data': {'logicalType': '1'},\n  'props': [],\n  'notes': ['Import batch [development] 2023-01-13 19:35:45.939035',\n   'special T35>:creation_event_id E0124_T35'],\n  'status': '1',\n  'references': [],\n  'legacyId': 'E0124_T35'},\n {'class': 'V',\n  'id': 'a78b4590-bf72-423c-945a-b3c0b965035c',\n  'label': '1530',\n  'language': '',\n  'detail': '',\n  'data': {'logicalType': '1'},\n  'props': [],\n  'notes': ['Import batch [development] 2023-01-13 19:35:45.939035',\n   'special T35>:creation_event_id E0124_T35'],\n  'status': '1',\n  'references': []},\n {'class': 'E',\n  'id': 'aefa4797-b115-48a0-9fe3-37535a9b24e6',\n  'label': 'Creation of ‘Register of Geoffroy of Ablis’',\n  'language': '',\n  'detail': '',\n  'data': {'logicalType': '1'},\n  'props': [],\n  'notes': ['Import batch [development] 2023-01-13 19:35:45.939035',\n   'special T21>:creation_event_id E0125_T21'],\n  'status': '1',\n  'references': [],\n  'legacyId': 'E0125_T21'},\n {'class': 'V',\n  'id': '7153972a-e9bd-4930-b2ae-90517a764fae',\n  'label': '1308',\n  'language': '',\n  'detail': '',\n  'data': {'logicalType': '1'},\n  'props': [],\n  'notes': ['Import batch [development] 2023-01-13 19:35:45.939035',\n   'special T21>:creation_event_id E0125_T21'],\n  'status': '1',\n  'references': []},\n {'class': 'V',\n  'id': '2f24004d-32eb-4e84-bc36-3ff0847720f5',\n  'label': '1308',\n  'language': '',\n  'detail': '',\n  'data': {'logicalType': '1'},\n  'props': [],\n  'notes': ['Import batch [development] 2023-01-13 19:35:45.939035',\n   'special T21>:creation_event_id E0125_T21'],\n  'status': '1',\n  'references': []},\n {'class': 'V',\n  'id': '09d234bf-236e-40c0-8c64-90c7a936843a',\n  'label': '1309',\n  'language': '',\n  'detail': '',\n  'data': {'logicalType': '1'},\n  'props': [],\n  'notes': ['Import batch [development] 2023-01-13 19:35:45.939035',\n   'special T21>:creation_event_id E0125_T21'],\n  'status': '1',\n  'references': []},\n {'class': 'V',\n  'id': 'b39f7c1f-e2ef-4906-93b4-6ea448c96441',\n  'label': '1309',\n  'language': '',\n  'detail': '',\n  'data': {'logicalType': '1'},\n  'props': [],\n  'notes': ['Import batch [development] 2023-01-13 19:35:45.939035',\n   'special T21>:creation_event_id E0125_T21'],\n  'status': '1',\n  'references': []},\n {'class': 'R',\n  'id': 'ab7db97b-3e8f-445a-8efd-a56376d13a73',\n  'label': 'Palès-Gobilliard, 1984',\n  'language': '',\n  'detail': '',\n  'data': {'url': 'https://www.zotero.org/groups/446972/david_zbiral_bibliography/items/itemKey/IX83DDXB/',\n   'partValueBaseURL': '',\n   'partValueLabel': ''},\n  'props': [],\n  'notes': ['Import batch [development] 2023-01-13 19:35:45.939035'],\n  'status': '1',\n  'references': []},\n {'class': 'R',\n  'id': 'd1165dba-c105-462d-88fe-6f1bdfff07b1',\n  'label': 'Duvernoy, 2002',\n  'language': '',\n  'detail': '',\n  'data': {'url': 'https://www.zotero.org/groups/446972/david_zbiral_bibliography/items/itemKey/74KZIUMU/',\n   'partValueBaseURL': '',\n   'partValueLabel': ''},\n  'props': [],\n  'notes': ['Import batch [development] 2023-01-13 19:35:45.939035'],\n  'status': '1',\n  'references': []},\n {'class': 'V',\n  'id': '3c03252d-644c-45f3-9105-0c9f4cce6884',\n  'label': '15-277',\n  'language': '',\n  'detail': '',\n  'data': {'logicalType': '1'},\n  'props': [],\n  'notes': ['Import batch [development] 2023-01-13 19:35:45.939035',\n   'propvalue_2nd>124:T21:edition_2_page_range:15-277'],\n  'status': '1',\n  'references': []},\n {'class': 'E',\n  'id': '078f1b25-b9b2-4132-af09-5dff8fe6e1b6',\n  'label': 'Creation of ‘Register of Jacques Fournier’',\n  'language': '',\n  'detail': '',\n  'data': {'logicalType': '1'},\n  'props': [],\n  'notes': ['Import batch [development] 2023-01-13 19:35:45.939035',\n   'special T24>:creation_event_id E0126_T24'],\n  'status': '1',\n  'references': [],\n  'legacyId': 'E0126_T24'},\n {'class': 'V',\n  'id': 'a6fd65ff-7398-4513-8355-d6d37e5d48af',\n  'label': '1318',\n  'language': '',\n  'detail': '',\n  'data': {'logicalType': '1'},\n  'props': [],\n  'notes': ['Import batch [development] 2023-01-13 19:35:45.939035',\n   'special T24>:creation_event_id E0126_T24'],\n  'status': '1',\n  'references': []},\n {'class': 'V',\n  'id': 'ff08cd24-3742-4620-a1f3-8285d1e84073',\n  'label': '1318',\n  'language': '',\n  'detail': '',\n  'data': {'logicalType': '1'},\n  'props': [],\n  'notes': ['Import batch [development] 2023-01-13 19:35:45.939035',\n   'special T24>:creation_event_id E0126_T24'],\n  'status': '1',\n  'references': []},\n {'class': 'V',\n  'id': 'bb9aec95-9bb6-45a6-88e3-65898f074fde',\n  'label': '1325',\n  'language': '',\n  'detail': '',\n  'data': {'logicalType': '1'},\n  'props': [],\n  'notes': ['Import batch [development] 2023-01-13 19:35:45.939035',\n   'special T24>:creation_event_id E0126_T24'],\n  'status': '1',\n  'references': []},\n {'class': 'V',\n  'id': '278ea7a3-248b-4df6-8b83-9cf1f07bc9cd',\n  'label': '1325',\n  'language': '',\n  'detail': '',\n  'data': {'logicalType': '1'},\n  'props': [],\n  'notes': ['Import batch [development] 2023-01-13 19:35:45.939035',\n   'special T24>:creation_event_id E0126_T24'],\n  'status': '1',\n  'references': []},\n {'class': 'R',\n  'id': '05f59314-b69f-4cea-8289-6cb0ea8c8c52',\n  'label': 'Duvernoy, 1965',\n  'language': '',\n  'detail': '',\n  'data': {'url': 'https://www.zotero.org/groups/446972/david_zbiral_bibliography/items/itemKey/HBNLI4AF/',\n   'partValueBaseURL': '',\n   'partValueLabel': ''},\n  'props': [],\n  'notes': ['Import batch [development] 2023-01-13 19:35:45.939035'],\n  'status': '1',\n  'references': []},\n {'class': 'E',\n  'id': '6c0a71a3-bacb-4ed7-a189-70b810fb2222',\n  'label': 'Creation of ‘Register of John Galand and William of Saint-Seine, 1283-1302’',\n  'language': '',\n  'detail': '',\n  'data': {'logicalType': '1'},\n  'props': [],\n  'notes': ['Import batch [development] 2023-01-13 19:35:45.939035',\n   'special T17>:creation_event_id E0127_T17'],\n  'status': '1',\n  'references': [],\n  'legacyId': 'E0127_T17'},\n {'class': 'V',\n  'id': '74704416-d487-4213-9810-3f9b07c25bc1',\n  'label': '1283',\n  'language': '',\n  'detail': '',\n  'data': {'logicalType': '1'},\n  'props': [],\n  'notes': ['Import batch [development] 2023-01-13 19:35:45.939035',\n   'special T17>:creation_event_id E0127_T17'],\n  'status': '1',\n  'references': []},\n {'class': 'V',\n  'id': '977d3592-aa6d-4f72-88e4-f3a95ed22062',\n  'label': '1316',\n  'language': '',\n  'detail': '',\n  'data': {'logicalType': '1'},\n  'props': [],\n  'notes': ['Import batch [development] 2023-01-13 19:35:45.939035',\n   'special T17>:creation_event_id E0127_T17'],\n  'status': '1',\n  'references': []},\n {'class': 'V',\n  'id': 'c319a64d-efc0-47bc-ab52-de8cb079276a',\n  'label': '1302',\n  'language': '',\n  'detail': '',\n  'data': {'logicalType': '1'},\n  'props': [],\n  'notes': ['Import batch [development] 2023-01-13 19:35:45.939035',\n   'special T17>:creation_event_id E0127_T17'],\n  'status': '1',\n  'references': []},\n {'class': 'V',\n  'id': '7ce69ca7-9f3a-464b-a062-de491bcf4b1d',\n  'label': '1316',\n  'language': '',\n  'detail': '',\n  'data': {'logicalType': '1'},\n  'props': [],\n  'notes': ['Import batch [development] 2023-01-13 19:35:45.939035',\n   'special T17>:creation_event_id E0127_T17'],\n  'status': '1',\n  'references': []},\n {'class': 'V',\n  'id': '85e8fdb6-d5e1-4e69-9344-cf7772f44e23',\n  'label': '79r-316v',\n  'language': '',\n  'detail': '',\n  'data': {'logicalType': '1'},\n  'props': [],\n  'notes': ['Import batch [development] 2023-01-13 19:35:45.939035',\n   'propvalue_2nd>126:T17:manuscript_witness_1_with_range_entified:~V~79r-316v'],\n  'status': '1',\n  'references': []},\n {'class': 'E',\n  'id': 'd4ff25a7-40b8-4c06-98e6-2ffb3a20e484',\n  'label': 'Creation of ‘Register of John Galand and William of Saint-Seine, 1286-1287’',\n  'language': '',\n  'detail': '',\n  'data': {'logicalType': '1'},\n  'props': [],\n  'notes': ['Import batch [development] 2023-01-13 19:35:45.939035',\n   'special T16>:creation_event_id E0128_T16'],\n  'status': '1',\n  'references': [],\n  'legacyId': 'E0128_T16'},\n {'class': 'V',\n  'id': '35fe7dad-e80f-4cc2-8991-1428d67eb942',\n  'label': '1286',\n  'language': '',\n  'detail': '',\n  'data': {'logicalType': '1'},\n  'props': [],\n  'notes': ['Import batch [development] 2023-01-13 19:35:45.939035',\n   'special T16>:creation_event_id E0128_T16'],\n  'status': '1',\n  'references': []},\n {'class': 'V',\n  'id': '21ea4c16-e269-4ed8-bbab-c2c42eac14e8',\n  'label': '1286',\n  'language': '',\n  'detail': '',\n  'data': {'logicalType': '1'},\n  'props': [],\n  'notes': ['Import batch [development] 2023-01-13 19:35:45.939035',\n   'special T16>:creation_event_id E0128_T16'],\n  'status': '1',\n  'references': []},\n {'class': 'V',\n  'id': 'd884ab35-24c1-4f70-ba44-02006ae2a646',\n  'label': '1287',\n  'language': '',\n  'detail': '',\n  'data': {'logicalType': '1'},\n  'props': [],\n  'notes': ['Import batch [development] 2023-01-13 19:35:45.939035',\n   'special T16>:creation_event_id E0128_T16'],\n  'status': '1',\n  'references': []},\n {'class': 'V',\n  'id': '1e5a8878-b7b8-4754-b4dd-9f99c098d98d',\n  'label': '1287',\n  'language': '',\n  'detail': '',\n  'data': {'logicalType': '1'},\n  'props': [],\n  'notes': ['Import batch [development] 2023-01-13 19:35:45.939035',\n   'special T16>:creation_event_id E0128_T16'],\n  'status': '1',\n  'references': []},\n {'class': 'V',\n  'id': '9330f702-443e-4dd0-b0ed-79af267ec8ac',\n  'label': '1r-62v',\n  'language': '',\n  'detail': '',\n  'data': {'logicalType': '1'},\n  'props': [],\n  'notes': ['Import batch [development] 2023-01-13 19:35:45.939035',\n   'propvalue_2nd>127:T16:manuscript_witness_1_with_range_entified:~V~1r-62v'],\n  'status': '1',\n  'references': []},\n {'class': 'R',\n  'id': 'e17c255e-45a8-44c6-86a1-36fffc4f246e',\n  'label': 'La Presle-Evesque, 1995',\n  'language': '',\n  'detail': '',\n  'data': {'url': 'https://www.zotero.org/groups/446972/david_zbiral_bibliography/items/itemKey/M57HJJZI/',\n   'partValueBaseURL': '',\n   'partValueLabel': ''},\n  'props': [],\n  'notes': ['Import batch [development] 2023-01-13 19:35:45.939035'],\n  'status': '1',\n  'references': []},\n {'class': 'E',\n  'id': 'c86566d2-f45f-45e9-b4b5-e5844a1eb8ba',\n  'label': 'Creation of ‘Register of John Hales’',\n  'language': '',\n  'detail': '',\n  'data': {'logicalType': '1'},\n  'props': [],\n  'notes': ['Import batch [development] 2023-01-13 19:35:45.939035',\n   'special T37>:creation_event_id E0129_T37'],\n  'status': '1',\n  'references': [],\n  'legacyId': 'E0129_T37'},\n {'class': 'V',\n  'id': '8daa560b-d926-47f0-a9d1-8d20f8a01e22',\n  'label': '1490',\n  'language': '',\n  'detail': '',\n  'data': {'logicalType': '1'},\n  'props': [],\n  'notes': ['Import batch [development] 2023-01-13 19:35:45.939035',\n   'special T37>:creation_event_id E0129_T37'],\n  'status': '1',\n  'references': []},\n {'class': 'E',\n  'id': '908e59ce-a77b-4136-96d6-f586e38472c8',\n  'label': 'Creation of ‘Register of Nicolas of Abbeville et al., 1299-1300’',\n  'language': '',\n  'detail': '',\n  'data': {'logicalType': '1'},\n  'props': [],\n  'notes': ['Import batch [development] 2023-01-13 19:35:45.939035',\n   'special T20>:creation_event_id E0130_T20'],\n  'status': '1',\n  'references': [],\n  'legacyId': 'E0130_T20'},\n {'class': 'V',\n  'id': '60d605ce-6b38-4a9d-aae6-0dc866a212ea',\n  'label': '1299',\n  'language': '',\n  'detail': '',\n  'data': {'logicalType': '1'},\n  'props': [],\n  'notes': ['Import batch [development] 2023-01-13 19:35:45.939035',\n   'special T20>:creation_event_id E0130_T20'],\n  'status': '1',\n  'references': []},\n {'class': 'V',\n  'id': '5454916e-5959-4766-b8cd-f94d1b2a7d1f',\n  'label': '1299',\n  'language': '',\n  'detail': '',\n  'data': {'logicalType': '1'},\n  'props': [],\n  'notes': ['Import batch [development] 2023-01-13 19:35:45.939035',\n   'special T20>:creation_event_id E0130_T20'],\n  'status': '1',\n  'references': []},\n {'class': 'V',\n  'id': '4bae510c-e858-48b0-bd3f-5f31e94362cb',\n  'label': '1300',\n  'language': '',\n  'detail': '',\n  'data': {'logicalType': '1'},\n  'props': [],\n  'notes': ['Import batch [development] 2023-01-13 19:35:45.939035',\n   'special T20>:creation_event_id E0130_T20'],\n  'status': '1',\n  'references': []},\n {'class': 'V',\n  'id': 'be240b87-7cf5-4a3b-b880-1657117588e5',\n  'label': '1300',\n  'language': '',\n  'detail': '',\n  'data': {'logicalType': '1'},\n  'props': [],\n  'notes': ['Import batch [development] 2023-01-13 19:35:45.939035',\n   'special T20>:creation_event_id E0130_T20'],\n  'status': '1',\n  'references': []},\n {'class': 'V',\n  'id': '08285105-7dc7-4896-a018-e485b2272c87',\n  'label': '1r-53r',\n  'language': '',\n  'detail': '',\n  'data': {'logicalType': '1'},\n  'props': [],\n  'notes': ['Import batch [development] 2023-01-13 19:35:45.939035',\n   'propvalue_2nd>129:T20:manuscript_witness_1_with_range_entified:~V~1r-53r'],\n  'status': '1',\n  'references': []},\n {'class': 'V',\n  'id': '6101fb29-5ca9-4e42-ad20-72c0ea5eb0d4',\n  'label': '75r-142r',\n  'language': '',\n  'detail': '',\n  'data': {'logicalType': '1'},\n  'props': [],\n  'notes': ['Import batch [development] 2023-01-13 19:35:45.939035',\n   'propvalue_2nd>129:T20:manuscript_witness_3_with_range_entified:~V~75r-142r'],\n  'status': '1',\n  'references': []},\n {'class': 'R',\n  'id': '8d73066d-70ce-430e-8009-6ef9a7d71a0d',\n  'label': 'Davis, 1948',\n  'language': '',\n  'detail': '',\n  'data': {'url': 'https://www.zotero.org/groups/446972/david_zbiral_bibliography/items/itemKey/YCUDKUHW/',\n   'partValueBaseURL': '',\n   'partValueLabel': ''},\n  'props': [],\n  'notes': ['Import batch [development] 2023-01-13 19:35:45.939035'],\n  'status': '1',\n  'references': []},\n {'class': 'V',\n  'id': '0e872aa8-cf5b-4270-a9f8-ce99cdedd14f',\n  'label': '103-266',\n  'language': '',\n  'detail': '',\n  'data': {'logicalType': '1'},\n  'props': [],\n  'notes': ['Import batch [development] 2023-01-13 19:35:45.939035',\n   'propvalue_2nd>129:T20:edition_1_page_range:103-266'],\n  'status': '1',\n  'references': []},\n {'class': 'E',\n  'id': 'eebf319e-4bd5-4db6-8124-183476cb3d1f',\n  'label': 'Creation of ‘Register of Peter Zwicker’',\n  'language': '',\n  'detail': '',\n  'data': {'logicalType': '1'},\n  'props': [],\n  'notes': ['Import batch [development] 2023-01-13 19:35:45.939035',\n   'special T33>:creation_event_id E0131_T33'],\n  'status': '1',\n  'references': [],\n  'legacyId': 'E0131_T33'},\n {'class': 'V',\n  'id': '3326be1f-86a7-4991-b242-baa18db89187',\n  'label': '1392',\n  'language': '',\n  'detail': '',\n  'data': {'logicalType': '1'},\n  'props': [],\n  'notes': ['Import batch [development] 2023-01-13 19:35:45.939035',\n   'special T33>:creation_event_id E0131_T33'],\n  'status': '1',\n  'references': []},\n {'class': 'V',\n  'id': 'ea951e90-65ed-4679-8ba8-cbca05552a6f',\n  'label': '1392',\n  'language': '',\n  'detail': '',\n  'data': {'logicalType': '1'},\n  'props': [],\n  'notes': ['Import batch [development] 2023-01-13 19:35:45.939035',\n   'special T33>:creation_event_id E0131_T33'],\n  'status': '1',\n  'references': []},\n {'class': 'V',\n  'id': '9f14345d-9c7d-4a64-a036-bf13e7b8ebc3',\n  'label': '1394',\n  'language': '',\n  'detail': '',\n  'data': {'logicalType': '1'},\n  'props': [],\n  'notes': ['Import batch [development] 2023-01-13 19:35:45.939035',\n   'special T33>:creation_event_id E0131_T33'],\n  'status': '1',\n  'references': []},\n {'class': 'V',\n  'id': '8138770d-95bc-4202-afc4-7bd63ed38bdb',\n  'label': '1394',\n  'language': '',\n  'detail': '',\n  'data': {'logicalType': '1'},\n  'props': [],\n  'notes': ['Import batch [development] 2023-01-13 19:35:45.939035',\n   'special T33>:creation_event_id E0131_T33'],\n  'status': '1',\n  'references': []},\n {'class': 'R',\n  'id': '18b336b8-6564-4926-9aae-d36061f69912',\n  'label': 'Kurze, 1975',\n  'language': '',\n  'detail': '',\n  'data': {'url': 'https://www.zotero.org/groups/446972/david_zbiral_bibliography/items/collectionKey/CUPPQIZM/itemKey/CXN9G3XA',\n   'partValueBaseURL': '',\n   'partValueLabel': ''},\n  'props': [],\n  'notes': ['Import batch [development] 2023-01-13 19:35:45.939035'],\n  'status': '1',\n  'references': []},\n {'class': 'E',\n  'id': 'f003b919-a14a-48ec-93d1-b1ba1b157dc0',\n  'label': 'Creation of ‘Register of Pons of Parnac, Ranulph of Plaissac et al., Toulouse 1273-1282’',\n  'language': '',\n  'detail': '',\n  'data': {'logicalType': '1'},\n  'props': [],\n  'notes': ['Import batch [development] 2023-01-13 19:35:45.939035',\n   'special T14>:creation_event_id E0132_T14'],\n  'status': '1',\n  'references': [],\n  'legacyId': 'E0132_T14'},\n {'class': 'V',\n  'id': 'b21e4bdd-9921-4ea8-af7d-8ce6cad4a609',\n  'label': '1273',\n  'language': '',\n  'detail': '',\n  'data': {'logicalType': '1'},\n  'props': [],\n  'notes': ['Import batch [development] 2023-01-13 19:35:45.939035',\n   'special T14>:creation_event_id E0132_T14'],\n  'status': '1',\n  'references': []},\n {'class': 'V',\n  'id': '3b1dd8df-524e-4c7b-a23b-160326dcf56c',\n  'label': '1273',\n  'language': '',\n  'detail': '',\n  'data': {'logicalType': '1'},\n  'props': [],\n  'notes': ['Import batch [development] 2023-01-13 19:35:45.939035',\n   'special T14>:creation_event_id E0132_T14'],\n  'status': '1',\n  'references': []},\n {'class': 'V',\n  'id': '2bf5e05e-181d-4e87-afcd-819d39e7c1e3',\n  'label': '1282',\n  'language': '',\n  'detail': '',\n  'data': {'logicalType': '1'},\n  'props': [],\n  'notes': ['Import batch [development] 2023-01-13 19:35:45.939035',\n   'special T14>:creation_event_id E0132_T14'],\n  'status': '1',\n  'references': []},\n {'class': 'V',\n  'id': '2929275d-f51e-4dca-a56e-4d2c0677b6c0',\n  'label': '1282',\n  'language': '',\n  'detail': '',\n  'data': {'logicalType': '1'},\n  'props': [],\n  'notes': ['Import batch [development] 2023-01-13 19:35:45.939035',\n   'special T14>:creation_event_id E0132_T14'],\n  'status': '1',\n  'references': []},\n {'class': 'V',\n  'id': '3f2c8443-d764-4723-95fe-c747e3257962',\n  'label': '25:1r-331v; 26:1r-78v',\n  'language': '',\n  'detail': '',\n  'data': {'logicalType': '1'},\n  'props': [],\n  'notes': ['Import batch [development] 2023-01-13 19:35:45.939035',\n   'propvalue_2nd>131:T14:manuscript_witness_1_with_range_entified:~V~25:1r-331v; 26:1r-78v'],\n  'status': '1',\n  'references': []},\n {'class': 'R',\n  'id': 'b21c6f41-d8a7-4096-bbfe-63cf66a806ba',\n  'label': 'Biller et al., 2011',\n  'language': '',\n  'detail': '',\n  'data': {'url': 'https://www.zotero.org/groups/446972/david_zbiral_bibliography/items/itemKey/WCNPJPHJ/',\n   'partValueBaseURL': '',\n   'partValueLabel': ''},\n  'props': [],\n  'notes': ['Import batch [development] 2023-01-13 19:35:45.939035'],\n  'status': '1',\n  'references': []},\n {'class': 'V',\n  'id': 'f9f1c523-1a28-4ed6-9db4-086a3ceaec0d',\n  'label': '174-979',\n  'language': '',\n  'detail': '',\n  'data': {'logicalType': '1'},\n  'props': [],\n  'notes': ['Import batch [development] 2023-01-13 19:35:45.939035',\n   'propvalue_2nd>131:T14:edition_1_page_range:174-979'],\n  'status': '1',\n  'references': []},\n {'class': 'R',\n  'id': '97ab714d-001c-47a4-a442-3545910a0da4',\n  'label': 'Duvernoy, 2003',\n  'language': '',\n  'detail': '',\n  'data': {'url': 'https://www.zotero.org/groups/446972/david_zbiral_bibliography/items/collectionKey/PUJYJKMW/itemKey/K3XJYAFA',\n   'partValueBaseURL': '',\n   'partValueLabel': ''},\n  'props': [],\n  'notes': ['Import batch [development] 2023-01-13 19:35:45.939035'],\n  'status': '1',\n  'references': []},\n {'class': 'V',\n  'id': '34378917-70b0-4511-aa7b-14c01a0dfdad',\n  'label': '1-258',\n  'language': '',\n  'detail': '',\n  'data': {'logicalType': '1'},\n  'props': [],\n  'notes': ['Import batch [development] 2023-01-13 19:35:45.939035',\n   'propvalue_2nd>131:T14:edition_2_page_range:1-258'],\n  'status': '1',\n  'references': []},\n {'class': 'E',\n  'id': '1c38dd15-48ac-40a8-a2cd-219fe10e5686',\n  'label': 'Creation of ‘Register of the inquisition of Bologna from the late 14th c.’',\n  'language': '',\n  'detail': '',\n  'data': {'logicalType': '1'},\n  'props': [],\n  'notes': ['Import batch [development] 2023-01-13 19:35:45.939035',\n   'special T74>:creation_event_id E0133_T74'],\n  'status': '1',\n  'references': [],\n  'legacyId': 'E0133_T74'},\n {'class': 'E',\n  'id': '12cd9e76-89b1-4bfc-843f-de839942567c',\n  'label': 'Creation of ‘Register of the notary (greffier) of the Carcassonne inquisition’',\n  'language': '',\n  'detail': '',\n  'data': {'logicalType': '1'},\n  'props': [],\n  'notes': ['Import batch [development] 2023-01-13 19:35:45.939035',\n   'special T11>:creation_event_id E0134_T11'],\n  'status': '1',\n  'references': [],\n  'legacyId': 'E0134_T11'},\n {'class': 'V',\n  'id': '3fa6e3c6-245f-4451-92f0-ae686ed507a3',\n  'label': '1250',\n  'language': '',\n  'detail': '',\n  'data': {'logicalType': '1'},\n  'props': [],\n  'notes': ['Import batch [development] 2023-01-13 19:35:45.939035',\n   'special T11>:creation_event_id E0134_T11'],\n  'status': '1',\n  'references': []},\n {'class': 'V',\n  'id': '55685b4d-2ba5-46a4-9bf4-adee8af45213',\n  'label': '1250',\n  'language': '',\n  'detail': '',\n  'data': {'logicalType': '1'},\n  'props': [],\n  'notes': ['Import batch [development] 2023-01-13 19:35:45.939035',\n   'special T11>:creation_event_id E0134_T11'],\n  'status': '1',\n  'references': []},\n {'class': 'V',\n  'id': 'bafddae3-c891-4ab4-9e71-6cb3096b7bb8',\n  'label': '1267',\n  'language': '',\n  'detail': '',\n  'data': {'logicalType': '1'},\n  'props': [],\n  'notes': ['Import batch [development] 2023-01-13 19:35:45.939035',\n   'special T11>:creation_event_id E0134_T11'],\n  'status': '1',\n  'references': []},\n {'class': 'V',\n  'id': 'b500d22e-40e9-4326-b35a-973203531fc9',\n  'label': '1267',\n  'language': '',\n  'detail': '',\n  'data': {'logicalType': '1'},\n  'props': [],\n  'notes': ['Import batch [development] 2023-01-13 19:35:45.939035',\n   'special T11>:creation_event_id E0134_T11'],\n  'status': '1',\n  'references': []},\n {'class': 'R',\n  'id': '4cbb7436-303a-497f-9ef4-79be50bd81ce',\n  'label': 'Douais, 1900',\n  'language': '',\n  'detail': '',\n  'data': {'url': 'https://www.zotero.org/groups/446972/david_zbiral_bibliography/items/itemKey/ZHKR4MXG/',\n   'partValueBaseURL': '',\n   'partValueLabel': ''},\n  'props': [],\n  'notes': ['Import batch [development] 2023-01-13 19:35:45.939035'],\n  'status': '1',\n  'references': []},\n {'class': 'V',\n  'id': 'a15e84f7-c169-410c-8c98-f21d1cb4c0fa',\n  'label': '115-301',\n  'language': '',\n  'detail': '',\n  'data': {'logicalType': '1'},\n  'props': [],\n  'notes': ['Import batch [development] 2023-01-13 19:35:45.939035',\n   'propvalue_2nd>133:T11:edition_1_page_range:115-301'],\n  'status': '1',\n  'references': []},\n {'class': 'E',\n  'id': '8b13c2ff-63f8-43c6-9bb1-c1144b9d1c05',\n  'label': 'Creation of ‘Register of William Warham, archbishop of Canterbury’',\n  'language': '',\n  'detail': '',\n  'data': {'logicalType': '1'},\n  'props': [],\n  'notes': ['Import batch [development] 2023-01-13 19:35:45.939035',\n   'special T40>:creation_event_id E0135_T40'],\n  'status': '1',\n  'references': [],\n  'legacyId': 'E0135_T40'},\n {'class': 'E',\n  'id': '70564ab9-5c6e-4485-9de2-9551e3cf8020',\n  'label': 'Creation of ‘Rehabilitation processes of Waldensians from Dauphiné’',\n  'language': '',\n  'detail': '',\n  'data': {'logicalType': '1'},\n  'props': [],\n  'notes': ['Import batch [development] 2023-01-13 19:35:45.939035',\n   'special T42>:creation_event_id E0136_T42'],\n  'status': '1',\n  'references': [],\n  'legacyId': 'E0136_T42'},\n {'class': 'E',\n  'id': '121c231f-a18e-49bc-b4cd-accaf26ded61',\n  'label': 'Creation of ‘Roberti de Monte Cronica’',\n  'language': '',\n  'detail': '',\n  'data': {'logicalType': '1'},\n  'props': [],\n  'notes': ['Import batch [development] 2023-01-13 19:35:45.939035',\n   'special T130>:creation_event_id E0137_T130'],\n  'status': '1',\n  'references': [],\n  'legacyId': 'E0137_T130'},\n {'class': 'E',\n  'id': 'aaff0d38-f6a5-49f2-b707-e0888dd6503b',\n  'label': 'Creation of ‘Sentences of Bernard of Caux and John of Saint-Pierre’',\n  'language': '',\n  'detail': '',\n  'data': {'logicalType': '1'},\n  'props': [],\n  'notes': ['Import batch [development] 2023-01-13 19:35:45.939035',\n   'special T8>:creation_event_id E0138_T8'],\n  'status': '1',\n  'references': [],\n  'legacyId': 'E0138_T8'},\n {'class': 'V',\n  'id': '285748ce-1470-4c85-b7eb-eec9407ead9c',\n  'label': '1244',\n  'language': '',\n  'detail': '',\n  'data': {'logicalType': '1'},\n  'props': [],\n  'notes': ['Import batch [development] 2023-01-13 19:35:45.939035',\n   'special T8>:creation_event_id E0138_T8'],\n  'status': '1',\n  'references': []},\n {'class': 'V',\n  'id': '8a31cbd5-0f3c-48b5-9217-1bd0a2e57992',\n  'label': '1244',\n  'language': '',\n  'detail': '',\n  'data': {'logicalType': '1'},\n  'props': [],\n  'notes': ['Import batch [development] 2023-01-13 19:35:45.939035',\n   'special T8>:creation_event_id E0138_T8'],\n  'status': '1',\n  'references': []},\n {'class': 'V',\n  'id': '4aa0fe7a-85fa-4927-93f8-a7692ae9476d',\n  'label': '1248',\n  'language': '',\n  'detail': '',\n  'data': {'logicalType': '1'},\n  'props': [],\n  'notes': ['Import batch [development] 2023-01-13 19:35:45.939035',\n   'special T8>:creation_event_id E0138_T8'],\n  'status': '1',\n  'references': []},\n {'class': 'V',\n  'id': '4f3143c4-0254-442e-b11c-03e61b0af28e',\n  'label': '1248',\n  'language': '',\n  'detail': '',\n  'data': {'logicalType': '1'},\n  'props': [],\n  'notes': ['Import batch [development] 2023-01-13 19:35:45.939035',\n   'special T8>:creation_event_id E0138_T8'],\n  'status': '1',\n  'references': []},\n {'class': 'R',\n  'id': 'b9ea7fb9-f84a-404c-931b-99af2172a33c',\n  'label': 'Douais, 1900',\n  'language': '',\n  'detail': '',\n  'data': {'url': 'https://www.zotero.org/groups/446972/david_zbiral_bibliography/items/itemKey/ZHKR4MXG/',\n   'partValueBaseURL': '',\n   'partValueLabel': ''},\n  'props': [],\n  'notes': ['Import batch [development] 2023-01-13 19:35:45.939035'],\n  'status': '1',\n  'references': []},\n {'class': 'V',\n  'id': '03164755-bbd9-4435-a1a8-182ec06141c2',\n  'label': '1-89',\n  'language': '',\n  'detail': '',\n  'data': {'logicalType': '1'},\n  'props': [],\n  'notes': ['Import batch [development] 2023-01-13 19:35:45.939035',\n   'propvalue_2nd>137:T8:edition_1_page_range:1-89'],\n  'status': '1',\n  'references': []},\n {'class': 'E',\n  'id': 'fd6ed5bf-c862-473a-9913-681143c3026c',\n  'label': 'Creation of ‘Sentences of Ferrer and William Raymond’',\n  'language': '',\n  'detail': '',\n  'data': {'logicalType': '1'},\n  'props': [],\n  'notes': ['Import batch [development] 2023-01-13 19:35:45.939035',\n   'special T7>:creation_event_id E0139_T7'],\n  'status': '1',\n  'references': [],\n  'legacyId': 'E0139_T7'},\n {'class': 'V',\n  'id': 'c0c4d174-ae80-4dcd-b34d-bc0171c6c896',\n  'label': '1244',\n  'language': '',\n  'detail': '',\n  'data': {'logicalType': '1'},\n  'props': [],\n  'notes': ['Import batch [development] 2023-01-13 19:35:45.939035',\n   'special T7>:creation_event_id E0139_T7'],\n  'status': '1',\n  'references': []},\n {'class': 'V',\n  'id': '7b461eac-1242-40f1-b6a6-f12bf428d7e4',\n  'label': '313r-323v',\n  'language': '',\n  'detail': '',\n  'data': {'logicalType': '1'},\n  'props': [],\n  'notes': ['Import batch [development] 2023-01-13 19:35:45.939035',\n   'propvalue_2nd>138:T7:manuscript_witness_1_with_range_entified:~V~313r-323v'],\n  'status': '1',\n  'references': []},\n {'class': 'E',\n  'id': '95cb1bd1-4085-4577-be42-cf7897e11f0a',\n  'label': 'Creation of ‘Sentences of William Arnold and Stephen of Saint-Thibéry’',\n  'language': '',\n  'detail': '',\n  'data': {'logicalType': '1'},\n  'props': [],\n  'notes': ['Import batch [development] 2023-01-13 19:35:45.939035',\n   'special T2>:creation_event_id E0140_T2'],\n  'status': '1',\n  'references': [],\n  'legacyId': 'E0140_T2'},\n {'class': 'V',\n  'id': '0d841b94-baab-458d-890d-c84b3eaafe70',\n  'label': '1235',\n  'language': '',\n  'detail': '',\n  'data': {'logicalType': '1'},\n  'props': [],\n  'notes': ['Import batch [development] 2023-01-13 19:35:45.939035',\n   'special T2>:creation_event_id E0140_T2'],\n  'status': '1',\n  'references': []},\n {'class': 'V',\n  'id': 'bbb9f1e5-e78f-4d36-9f76-8b9266f4065e',\n  'label': '1235',\n  'language': '',\n  'detail': '',\n  'data': {'logicalType': '1'},\n  'props': [],\n  'notes': ['Import batch [development] 2023-01-13 19:35:45.939035',\n   'special T2>:creation_event_id E0140_T2'],\n  'status': '1',\n  'references': []},\n {'class': 'V',\n  'id': '99ec92c5-466c-48cf-bff1-a2b52024cc2b',\n  'label': '1242',\n  'language': '',\n  'detail': '',\n  'data': {'logicalType': '1'},\n  'props': [],\n  'notes': ['Import batch [development] 2023-01-13 19:35:45.939035',\n   'special T2>:creation_event_id E0140_T2'],\n  'status': '1',\n  'references': []},\n {'class': 'V',\n  'id': '4373a2be-9e85-43e5-8300-9a9eb9f5c4a9',\n  'label': '1242',\n  'language': '',\n  'detail': '',\n  'data': {'logicalType': '1'},\n  'props': [],\n  'notes': ['Import batch [development] 2023-01-13 19:35:45.939035',\n   'special T2>:creation_event_id E0140_T2'],\n  'status': '1',\n  'references': []},\n {'class': 'V',\n  'id': '8dc6efd3-e9bf-43fd-b7ed-1185b0cfd745',\n  'label': '143v-185r',\n  'language': '',\n  'detail': '',\n  'data': {'logicalType': '1'},\n  'props': [],\n  'notes': ['Import batch [development] 2023-01-13 19:35:45.939035',\n   'propvalue_2nd>139:T2:manuscript_witness_1_with_range_entified:~V~143v-185r'],\n  'status': '1',\n  'references': []},\n {'class': 'E',\n  'id': '815c572e-69fe-4095-a1a4-ca7fb670a9b6',\n  'label': 'Creation of ‘Sigeberti Continuatio Gemblacensis’',\n  'language': '',\n  'detail': '',\n  'data': {'logicalType': '1'},\n  'props': [],\n  'notes': ['Import batch [development] 2023-01-13 19:35:45.939035',\n   'special T118>:creation_event_id E0141_T118'],\n  'status': '1',\n  'references': [],\n  'legacyId': 'E0141_T118'},\n {'class': 'E',\n  'id': 'b3807478-7c44-49fd-a4e6-ee09d5d7859b',\n  'label': 'Creation of ‘Sigeberti Gemblacensis Continuatio Premonstratensis’',\n  'language': '',\n  'detail': '',\n  'data': {'logicalType': '1'},\n  'props': [],\n  'notes': ['Import batch [development] 2023-01-13 19:35:45.939035',\n   'special T114>:creation_event_id E0142_T114'],\n  'status': '1',\n  'references': [],\n  'legacyId': 'E0142_T114'},\n {'class': 'E',\n  'id': '6651ba3f-43f4-44d2-b8d5-0453f21679a8',\n  'label': 'Creation of ‘Sigeberti Gemblacensis Continuatio Valcellensis’',\n  'language': '',\n  'detail': '',\n  'data': {'logicalType': '1'},\n  'props': [],\n  'notes': ['Import batch [development] 2023-01-13 19:35:45.939035',\n   'special T115>:creation_event_id E0143_T115'],\n  'status': '1',\n  'references': [],\n  'legacyId': 'E0143_T115'},\n {'class': 'E',\n  'id': '09b831d7-4e39-44d2-b059-a3238a15d26c',\n  'label': 'Creation of ‘Transcripts from a register of inquisition in Albi, 1281-1319’',\n  'language': '',\n  'detail': '',\n  'data': {'logicalType': '1'},\n  'props': [],\n  'notes': ['Import batch [development] 2023-01-13 19:35:45.939035',\n   'special T19>:creation_event_id E0144_T19'],\n  'status': '1',\n  'references': [],\n  'legacyId': 'E0144_T19'},\n {'class': 'V',\n  'id': '1fd9c2e3-3326-47d2-abee-60df4b424367',\n  'label': '1281',\n  'language': '',\n  'detail': '',\n  'data': {'logicalType': '1'},\n  'props': [],\n  'notes': ['Import batch [development] 2023-01-13 19:35:45.939035',\n   'special T19>:creation_event_id E0144_T19'],\n  'status': '1',\n  'references': []},\n {'class': 'V',\n  'id': 'a2412b20-9663-4d76-869e-403c3b1d05b5',\n  'label': '1281',\n  'language': '',\n  'detail': '',\n  'data': {'logicalType': '1'},\n  'props': [],\n  'notes': ['Import batch [development] 2023-01-13 19:35:45.939035',\n   'special T19>:creation_event_id E0144_T19'],\n  'status': '1',\n  'references': []},\n {'class': 'V',\n  'id': '8eea16f6-9a13-4847-acc5-18dbbeee9a89',\n  'label': '1319',\n  'language': '',\n  'detail': '',\n  'data': {'logicalType': '1'},\n  'props': [],\n  'notes': ['Import batch [development] 2023-01-13 19:35:45.939035',\n   'special T19>:creation_event_id E0144_T19'],\n  'status': '1',\n  'references': []},\n {'class': 'V',\n  'id': '3d5de04c-f261-498d-ade3-7b315cd4c2ae',\n  'label': '1319',\n  'language': '',\n  'detail': '',\n  'data': {'logicalType': '1'},\n  'props': [],\n  'notes': ['Import batch [development] 2023-01-13 19:35:45.939035',\n   'special T19>:creation_event_id E0144_T19'],\n  'status': '1',\n  'references': []},\n {'class': 'E',\n  'id': '32c99872-e0a3-4e9c-b0cb-8b80b27f556a',\n  'label': 'Creation of ‘Trial records of Strasbourg Waldensians, 1400-1401’',\n  'language': '',\n  'detail': '',\n  'data': {'logicalType': '1'},\n  'props': [],\n  'notes': ['Import batch [development] 2023-01-13 19:35:45.939035',\n   'special T41>:creation_event_id E0145_T41'],\n  'status': '1',\n  'references': [],\n  'legacyId': 'E0145_T41'},\n {'class': 'R',\n  'id': '866cf878-f496-4f3e-8132-d6471e386c06',\n  'label': 'Modestin',\n  'language': '',\n  'detail': '',\n  'data': {'url': '', 'partValueBaseURL': '', 'partValueLabel': ''},\n  'props': [],\n  'notes': ['Import batch [development] 2023-01-13 19:35:45.939035'],\n  'status': '1',\n  'references': []},\n {'class': 'E',\n  'id': '4c3a764b-4e49-46b9-8726-33357c54f00f',\n  'label': 'Creation of ‘Verbum abbreviatum’',\n  'language': '',\n  'detail': '',\n  'data': {'logicalType': '1'},\n  'props': [],\n  'notes': ['Import batch [development] 2023-01-13 19:35:45.939035',\n   'special T123>:creation_event_id E0146_T123'],\n  'status': '1',\n  'references': [],\n  'legacyId': 'E0146_T123'},\n {'class': 'E',\n  'id': '49e7c5cd-f867-430d-9ed4-32ac816b545a',\n  'label': 'Creation of ‘Verbum abbreviatum textus alter’',\n  'language': '',\n  'detail': '',\n  'data': {'logicalType': '1'},\n  'props': [],\n  'notes': ['Import batch [development] 2023-01-13 19:35:45.939035',\n   'special T124>:creation_event_id E0147_T124'],\n  'status': '1',\n  'references': [],\n  'legacyId': 'E0147_T124'},\n {'class': 'E',\n  'id': '599c4d96-0e7a-4e18-9a23-804f4407c6b4',\n  'label': 'Creation of ‘Vita Gauzlini, abbatis Floriacensis monasterii’',\n  'language': '',\n  'detail': '',\n  'data': {'logicalType': '1'},\n  'props': [],\n  'notes': ['Import batch [development] 2023-01-13 19:35:45.939035',\n   'special T85>:creation_event_id E0148_T85'],\n  'status': '1',\n  'references': [],\n  'legacyId': 'E0148_T85'},\n {'class': 'V',\n  'id': 'f68e6bbe-2509-4c0b-adcc-b3cdc3c793c6',\n  'label': '1040',\n  'language': '',\n  'detail': '',\n  'data': {'logicalType': '1'},\n  'props': [],\n  'notes': ['Import batch [development] 2023-01-13 19:35:45.939035',\n   'special T85>:creation_event_id E0148_T85'],\n  'status': '1',\n  'references': []},\n {'class': 'V',\n  'id': '08fefd33-d489-4596-81e9-a20e59766b69',\n  'label': '1040',\n  'language': '',\n  'detail': '',\n  'data': {'logicalType': '1'},\n  'props': [],\n  'notes': ['Import batch [development] 2023-01-13 19:35:45.939035',\n   'special T85>:creation_event_id E0148_T85'],\n  'status': '1',\n  'references': []},\n {'class': 'V',\n  'id': 'e3d33b2f-4ecf-4e29-a712-276b05bd6c48',\n  'label': '1042',\n  'language': '',\n  'detail': '',\n  'data': {'logicalType': '1'},\n  'props': [],\n  'notes': ['Import batch [development] 2023-01-13 19:35:45.939035',\n   'special T85>:creation_event_id E0148_T85'],\n  'status': '1',\n  'references': []},\n {'class': 'V',\n  'id': 'aed1c280-72f7-4368-be58-13f4282d617f',\n  'label': '1043',\n  'language': '',\n  'detail': '',\n  'data': {'logicalType': '1'},\n  'props': [],\n  'notes': ['Import batch [development] 2023-01-13 19:35:45.939035',\n   'special T85>:creation_event_id E0148_T85'],\n  'status': '1',\n  'references': []},\n {'class': 'R',\n  'id': '23a71462-0a92-44d5-92c1-795a1cded911',\n  'label': 'André de Fleury, \"Vie de Gauzlin, abbé de Fleury : Vita Gauzlini abbatis Floriacensis monasterii\", ed. R.-H. Bautier, G. Labory, Paris : CNRS, 1969.',\n  'language': '',\n  'detail': '',\n  'data': {'url': '', 'partValueBaseURL': '', 'partValueLabel': ''},\n  'props': [],\n  'notes': ['Import batch [development] 2023-01-13 19:35:45.939035'],\n  'status': '1',\n  'references': []},\n {'class': 'V',\n  'id': '28025b9f-1f20-4de0-b11b-cda19e26aa54',\n  'label': '96-103 (bilingual edition)',\n  'language': '',\n  'detail': '',\n  'data': {'logicalType': '1'},\n  'props': [],\n  'notes': ['Import batch [development] 2023-01-13 19:35:45.939035',\n   'propvalue_2nd>147:T85:edition_1_page_range:96-103 (bilingual edition)'],\n  'status': '1',\n  'references': []},\n {'class': 'E',\n  'id': '523e5ca8-7e5a-412c-89bf-bb0f75d47d8d',\n  'label': 'Creation of ‘Vita Norberti ab auctore posteriore (Vita B)’',\n  'language': '',\n  'detail': '',\n  'data': {'logicalType': '1'},\n  'props': [],\n  'notes': ['Import batch [development] 2023-01-13 19:35:45.939035',\n   'special T111>:creation_event_id E0149_T111'],\n  'status': '1',\n  'references': [],\n  'legacyId': 'E0149_T111'},\n {'class': 'E',\n  'id': '692adbc7-17bc-49c2-8f5d-142f34a66bd8',\n  'label': 'Creation of ‘Vita Norberti archiepiscopi Magdeburgensis (Vita A)’',\n  'language': '',\n  'detail': '',\n  'data': {'logicalType': '1'},\n  'props': [],\n  'notes': ['Import batch [development] 2023-01-13 19:35:45.939035',\n   'special T110>:creation_event_id E0150_T110'],\n  'status': '1',\n  'references': [],\n  'legacyId': 'E0150_T110'},\n {'class': 'E',\n  'id': '9ba69277-840f-475c-a33a-6140dde0e99a',\n  'label': 'Creation of ‘Vita prima sancti Bernardi Clarevallis abbatis’',\n  'language': '',\n  'detail': '',\n  'data': {'logicalType': '1'},\n  'props': [],\n  'notes': ['Import batch [development] 2023-01-13 19:35:45.939035',\n   'special T133>:creation_event_id E0151_T133'],\n  'status': '1',\n  'references': [],\n  'legacyId': 'E0151_T133'},\n {'class': 'E',\n  'id': 'ffa5fbc4-a2cd-4926-ab30-94c8deb651cb',\n  'label': 'Creation of ‘Vita Theodorici episcopi Aurelianensis’',\n  'language': '',\n  'detail': '',\n  'data': {'logicalType': '1'},\n  'props': [],\n  'notes': ['Import batch [development] 2023-01-13 19:35:45.939035',\n   'special T87>:creation_event_id E0152_T87'],\n  'status': '1',\n  'references': [],\n  'legacyId': 'E0152_T87'},\n {'class': 'R',\n  'id': '621c685e-eeb9-4ebf-8370-695722a8806f',\n  'label': 'Vita Theoderici episcopi Aurelianensis, AASSOSB, VI, pt. I, p. 175',\n  'language': '',\n  'detail': '',\n  'data': {'url': '', 'partValueBaseURL': '', 'partValueLabel': ''},\n  'props': [],\n  'notes': ['Import batch [development] 2023-01-13 19:35:45.939035'],\n  'status': '1',\n  'references': []},\n {'class': 'V',\n  'id': '5d77992c-7111-4c98-b913-e38f52ecb79f',\n  'label': '195-196',\n  'language': '',\n  'detail': '',\n  'data': {'logicalType': '1'},\n  'props': [],\n  'notes': ['Import batch [development] 2023-01-13 19:35:45.939035',\n   'propvalue_2nd>151:T87:edition_1_page_range:195-196'],\n  'status': '1',\n  'references': []},\n {'class': 'E',\n  'id': '5b38669a-6598-4cd3-a97a-c8d2abdee72d',\n  'label': 'Creation of ‘Instrumentum sententie late per dominum inquisitorem contra duos valdenses’',\n  'language': '',\n  'detail': '',\n  'data': {'logicalType': '1'},\n  'props': [],\n  'notes': ['Import batch [development] 2023-01-13 19:35:45.939035',\n   'special T154>:creation_event_id E0154_T154'],\n  'status': '1',\n  'references': [],\n  'legacyId': 'E0154_T154'},\n {'class': 'R',\n  'id': '6ac46b7f-8e09-4376-8d4f-4e3d75ee29d5',\n  'label': 'Luca Patria, Piercarlo Pazè, \"L\\'eresia diffusa: segmenti eterodossi nel Trecento alpino e subalpino (diocesi di Torino) secondo le rivelazioni all\\'inquisitore di Antonio Galosna e Giacomo Bech\", in Valdo e Francesco. Inizi e sviluppi di due movimenti religiosi, ed. Pazè, pp. 287-300',\n  'language': '',\n  'detail': '',\n  'data': {'url': '', 'partValueBaseURL': '', 'partValueLabel': ''},\n  'props': [],\n  'notes': ['Import batch [development] 2023-01-13 19:35:45.939035'],\n  'status': '1',\n  'references': []},\n {'class': 'V',\n  'id': 'c83da82e-eacb-4d0f-926e-c8a1aa0a255b',\n  'label': '287-300',\n  'language': '',\n  'detail': '',\n  'data': {'logicalType': '1'},\n  'props': [],\n  'notes': ['Import batch [development] 2023-01-13 19:35:45.939035',\n   'propvalue_2nd>153:T154:edition_1_page_range:287-300'],\n  'status': '1',\n  'references': []},\n {'class': 'L',\n  'id': 'e49ada1b-32c6-46ce-a96f-5f665e9e2cfa',\n  'label': 'Bologna, Biblioteca comunale dell’Archiginnasio',\n  'language': '',\n  'detail': '',\n  'data': {'logicalType': '1'},\n  'props': [],\n  'notes': ['Import batch [development] 2023-01-13 19:35:45.939035',\n   \"Making location 'Bologna, Biblioteca comunale dell’Archiginnasio' from M106 by field repository_label.\"],\n  'status': '1',\n  'references': [],\n  'legacyId': 'L_from_M106'},\n {'class': 'V',\n  'id': '79fe6f3b-2d18-44fa-bf0d-dc33c25d8264',\n  'label': 'ms. B 1856',\n  'language': '',\n  'detail': '',\n  'data': {'logicalType': '1'},\n  'props': [],\n  'notes': ['Import batch [development] 2023-01-13 19:35:45.939035',\n   'propvalue>0:M106:subcollection_and_shelf_number_concatenated:ms. B 1856'],\n  'status': '1',\n  'references': []},\n {'class': 'V',\n  'id': '12248187-7d9c-4ce4-933e-4107961da4ee',\n  'label': '16.gg.I.1',\n  'language': '',\n  'detail': '',\n  'data': {'logicalType': '1'},\n  'props': [],\n  'notes': ['Import batch [development] 2023-01-13 19:35:45.939035',\n   'propvalue>0:M106:alternative_shelf_number:16.gg.I.1'],\n  'status': '1',\n  'references': []},\n {'class': 'V',\n  'id': 'f868d2a4-58f6-47a5-8ae4-3a64348e967b',\n  'label': '38.5',\n  'language': '',\n  'detail': '',\n  'data': {'logicalType': '1'},\n  'props': [],\n  'notes': ['Import batch [development] 2023-01-13 19:35:45.939035',\n   'propvalue>0:M106:height_cm:38.5'],\n  'status': '1',\n  'references': []},\n {'class': 'V',\n  'id': '5b5f362a-75bc-411a-bdc8-300c2c21f90a',\n  'label': '28.5',\n  'language': '',\n  'detail': '',\n  'data': {'logicalType': '1'},\n  'props': [],\n  'notes': ['Import batch [development] 2023-01-13 19:35:45.939035',\n   'propvalue>0:M106:width_cm:28.5'],\n  'status': '1',\n  'references': []},\n {'class': 'V',\n  'id': '312842be-e626-46e3-b371-b7e9ac518996',\n  'label': '161',\n  'language': '',\n  'detail': '',\n  'data': {'logicalType': '1'},\n  'props': [],\n  'notes': ['Import batch [development] 2023-01-13 19:35:45.939035',\n   'propvalue>0:M106:folios_total:161'],\n  'status': '1',\n  'references': []},\n {'class': 'E',\n  'id': 'fd89fb5c-5e5c-4972-bfbb-4e7c75741b2d',\n  'label': 'Creation of Bologna, Biblioteca comunale dell’Archiginnasio, ms. B 1856',\n  'language': '',\n  'detail': '',\n  'data': {'logicalType': '1'},\n  'props': [],\n  'notes': ['Import batch [development] 2023-01-13 19:35:45.939035',\n   'special>:creation_event_id E0001_M106'],\n  'status': '1',\n  'references': [],\n  'legacyId': 'E0001_M106'},\n {'class': 'V',\n  'id': 'b36b1b0d-358d-4485-b291-62f470bff350',\n  'label': '1291',\n  'language': '',\n  'detail': '',\n  'data': {'logicalType': '1'},\n  'props': [],\n  'notes': ['Import batch [development] 2023-01-13 19:35:45.939035',\n   'special>:creation_event_id E0001_M106LegacyId: M106'],\n  'status': '1',\n  'references': []},\n {'class': 'V',\n  'id': '72c312eb-836b-4579-9533-1fcd2b9b08df',\n  'label': '1291',\n  'language': '',\n  'detail': '',\n  'data': {'logicalType': '1'},\n  'props': [],\n  'notes': ['Import batch [development] 2023-01-13 19:35:45.939035',\n   'special>:creation_event_id E0001_M106LegacyId: M106'],\n  'status': '1',\n  'references': []},\n {'class': 'V',\n  'id': '9621380b-2f0d-4fac-bf71-4d60e9d8a252',\n  'label': '1310',\n  'language': '',\n  'detail': '',\n  'data': {'logicalType': '1'},\n  'props': [],\n  'notes': ['Import batch [development] 2023-01-13 19:35:45.939035',\n   'special>:creation_event_id E0001_M106LegacyId: M106'],\n  'status': '1',\n  'references': []},\n {'class': 'V',\n  'id': '4a8f6625-3129-4506-ab38-990af95899f9',\n  'label': '1310',\n  'language': '',\n  'detail': '',\n  'data': {'logicalType': '1'},\n  'props': [],\n  'notes': ['Import batch [development] 2023-01-13 19:35:45.939035',\n   'special>:creation_event_id E0001_M106LegacyId: M106'],\n  'status': '1',\n  'references': []},\n {'class': 'L',\n  'id': '43ed8556-048d-497c-9379-b6c9ab855e23',\n  'label': 'London, British Library',\n  'language': '',\n  'detail': '',\n  'data': {'logicalType': '1'},\n  'props': [],\n  'notes': ['Import batch [development] 2023-01-13 19:35:45.939035',\n   \"Making location 'London, British Library' from M2 by field repository_label.\"],\n  'status': '1',\n  'references': [],\n  'legacyId': 'L_from_M2'},\n {'class': 'V',\n  'id': '67244dd7-90d2-497d-8a74-0227e2f4e470',\n  'label': 'Add MS 4697',\n  'language': '',\n  'detail': '',\n  'data': {'logicalType': '1'},\n  'props': [],\n  'notes': ['Import batch [development] 2023-01-13 19:35:45.939035',\n   'propvalue>1:M2:subcollection_and_shelf_number_concatenated:Add MS 4697'],\n  'status': '1',\n  'references': []},\n {'class': 'V',\n  'id': '659b981a-7fea-487b-b285-c2ca9f78fc6f',\n  'label': 'Plut.I.F',\n  'language': '',\n  'detail': '',\n  'data': {'logicalType': '1'},\n  'props': [],\n  'notes': ['Import batch [development] 2023-01-13 19:35:45.939035',\n   'propvalue>1:M2:alternative_shelf_number:Plut.I.F'],\n  'status': '1',\n  'references': []},\n {'class': 'V',\n  'id': '9ac3de3b-96a7-466a-b4b5-9d31a683e0e6',\n  'label': '36',\n  'language': '',\n  'detail': '',\n  'data': {'logicalType': '1'},\n  'props': [],\n  'notes': ['Import batch [development] 2023-01-13 19:35:45.939035',\n   'propvalue>1:M2:height_cm:36'],\n  'status': '1',\n  'references': []},\n {'class': 'V',\n  'id': 'de30f757-e545-4514-b3c6-59365ce17160',\n  'label': '25',\n  'language': '',\n  'detail': '',\n  'data': {'logicalType': '1'},\n  'props': [],\n  'notes': ['Import batch [development] 2023-01-13 19:35:45.939035',\n   'propvalue>1:M2:width_cm:25'],\n  'status': '1',\n  'references': []},\n {'class': 'V',\n  'id': 'aeb979e9-a1a9-44dd-af0f-c8818166e7b5',\n  'label': '221',\n  'language': '',\n  'detail': '',\n  'data': {'logicalType': '1'},\n  'props': [],\n  'notes': ['Import batch [development] 2023-01-13 19:35:45.939035',\n   'propvalue>1:M2:folios_total:221'],\n  'status': '1',\n  'references': []},\n {'class': 'E',\n  'id': 'b3c8ac0e-c7a2-4874-82d4-ecc80e484578',\n  'label': 'Creation of London, British Library, Add MS 4697',\n  'language': '',\n  'detail': '',\n  'data': {'logicalType': '1'},\n  'props': [],\n  'notes': ['Import batch [development] 2023-01-13 19:35:45.939035',\n   'special>:creation_event_id E0002_M2'],\n  'status': '1',\n  'references': [],\n  'legacyId': 'E0002_M2'},\n {'class': 'V',\n  'id': '5b014258-1f65-46ae-a228-b5d9ca6fbf25',\n  'label': '1308',\n  'language': '',\n  'detail': '',\n  'data': {'logicalType': '1'},\n  'props': [],\n  'notes': ['Import batch [development] 2023-01-13 19:35:45.939035',\n   'special>:creation_event_id E0002_M2LegacyId: M2'],\n  'status': '1',\n  'references': []},\n {'class': 'L',\n  'id': '1dc75533-4d6e-4a45-a0ac-92ba91a2c94d',\n  'label': 'Vaticano, Archivio Segreto Vaticano',\n  'language': '',\n  'detail': '',\n  'data': {'logicalType': '1'},\n  'props': [],\n  'notes': ['Import batch [development] 2023-01-13 19:35:45.939035',\n   \"Making location 'Vaticano, Archivio Segreto Vaticano' from M102 by field repository_label.\"],\n  'status': '1',\n  'references': [],\n  'legacyId': 'L_from_M102'},\n {'class': 'V',\n  'id': 'd56b9998-5c4b-43f5-9edb-ed902bc12589',\n  'label': 'Camera apostolica, Collectoria 133',\n  'language': '',\n  'detail': '',\n  'data': {'logicalType': '1'},\n  'props': [],\n  'notes': ['Import batch [development] 2023-01-13 19:35:45.939035',\n   'propvalue>2:M102:subcollection_and_shelf_number_concatenated:Camera apostolica, Collectoria 133'],\n  'status': '1',\n  'references': []},\n {'class': 'E',\n  'id': 'aa4882d2-3f67-4fe5-9c4f-d8d17bf8464a',\n  'label': 'Creation of Vaticano, Archivio Segreto Vaticano, Camera apostolica, Collectoria 133',\n  'language': '',\n  'detail': '',\n  'data': {'logicalType': '1'},\n  'props': [],\n  'notes': ['Import batch [development] 2023-01-13 19:35:45.939035',\n   'special>:creation_event_id E0003_M102'],\n  'status': '1',\n  'references': [],\n  'legacyId': 'E0003_M102'},\n {'class': 'L',\n  'id': 'dd96a1f8-988c-4ca8-b32f-70cfb1fd9319',\n  'label': 'Modena, Archivio di Stato di Modena',\n  'language': '',\n  'detail': '',\n  'data': {'logicalType': '1'},\n  'props': [],\n  'notes': ['Import batch [development] 2023-01-13 19:35:45.939035',\n   \"Making location 'Modena, Archivio di Stato di Modena' from M104 by field repository_label.\"],\n  'status': '1',\n  'references': [],\n  'legacyId': 'L_from_M104'},\n {'class': 'V',\n  'id': 'c69700f8-4f07-448f-aa38-0008ac08520c',\n  'label': 'Biblioteca, Manoscritti, ms. 132',\n  'language': '',\n  'detail': '',\n  'data': {'logicalType': '1'},\n  'props': [],\n  'notes': ['Import batch [development] 2023-01-13 19:35:45.939035',\n   'propvalue>3:M104:subcollection_and_shelf_number_concatenated:Biblioteca, Manoscritti, ms. 132'],\n  'status': '1',\n  'references': []},\n {'class': 'E',\n  'id': '58f69d94-2819-4574-8011-78383d9cdabd',\n  'label': 'Creation of Modena, Archivio di Stato di Modena, Biblioteca, Manoscritti, ms. 132',\n  'language': '',\n  'detail': '',\n  'data': {'logicalType': '1'},\n  'props': [],\n  'notes': ['Import batch [development] 2023-01-13 19:35:45.939035',\n   'special>:creation_event_id E0004_M104'],\n  'status': '1',\n  'references': [],\n  'legacyId': 'E0004_M104'},\n {'class': 'V',\n  'id': 'ccedc12f-1b36-4c2f-86f9-8d55bd01aa4e',\n  'label': '1480',\n  'language': '',\n  'detail': '',\n  'data': {'logicalType': '1'},\n  'props': [],\n  'notes': ['Import batch [development] 2023-01-13 19:35:45.939035',\n   'special>:creation_event_id E0004_M104LegacyId: M104'],\n  'status': '1',\n  'references': []},\n {'class': 'V',\n  'id': 'a564460b-e47e-4d67-bf17-8b18bdf0b1ee',\n  'label': '1518',\n  'language': '',\n  'detail': '',\n  'data': {'logicalType': '1'},\n  'props': [],\n  'notes': ['Import batch [development] 2023-01-13 19:35:45.939035',\n   'special>:creation_event_id E0004_M104LegacyId: M104'],\n  'status': '1',\n  'references': []},\n {'class': 'L',\n  'id': '16a727a3-cc61-42f2-b267-a58ddd357bc4',\n  'label': 'Carcassonne, Archives départementales de l’Aude',\n  'language': '',\n  'detail': '',\n  'data': {'logicalType': '1'},\n  'props': [],\n  'notes': ['Import batch [development] 2023-01-13 19:35:45.939035',\n   \"Making location 'Carcassonne, Archives départementales de l’Aude' from M4 by field repository_label.\"],\n  'status': '1',\n  'references': [],\n  'legacyId': 'L_from_M4'},\n {'class': 'V',\n  'id': 'f769763f-eae0-46ed-b0bc-a71266281186',\n  'label': 'ms. 3\\xa0J\\xa0596',\n  'language': '',\n  'detail': '',\n  'data': {'logicalType': '1'},\n  'props': [],\n  'notes': ['Import batch [development] 2023-01-13 19:35:45.939035',\n   'propvalue>4:M4:subcollection_and_shelf_number_concatenated:ms. 3\\xa0J\\xa0596'],\n  'status': '1',\n  'references': []},\n {'class': 'E',\n  'id': '368cfeb4-bc78-41e0-8322-a701cf242bfa',\n  'label': 'Creation of Carcassonne, Archives départementales de l’Aude, ms. 3\\xa0J\\xa0596',\n  'language': '',\n  'detail': '',\n  'data': {'logicalType': '1'},\n  'props': [],\n  'notes': ['Import batch [development] 2023-01-13 19:35:45.939035',\n   'special>:creation_event_id E0005_M4'],\n  'status': '1',\n  'references': [],\n  'legacyId': 'E0005_M4'},\n {'class': 'V',\n  'id': '5f0ca546-3c3f-4494-9a99-076537bb762e',\n  'label': '1243',\n  'language': '',\n  'detail': '',\n  'data': {'logicalType': '1'},\n  'props': [],\n  'notes': ['Import batch [development] 2023-01-13 19:35:45.939035',\n   'special>:creation_event_id E0005_M4LegacyId: M4'],\n  'status': '1',\n  'references': []},\n {'class': 'L',\n  'id': '10bd8482-658c-41af-8c81-141a03a30706',\n  'label': 'Toulouse, Archives municipales',\n  'language': '',\n  'detail': '',\n  'data': {'logicalType': '1'},\n  'props': [],\n  'notes': ['Import batch [development] 2023-01-13 19:35:45.939035',\n   \"Making location 'Toulouse, Archives municipales' from M12 by field repository_label.\"],\n  'status': '1',\n  'references': [],\n  'legacyId': 'L_from_M12'},\n {'class': 'V',\n  'id': '1da32b92-3939-44ff-a164-38f9304152cd',\n  'label': 'ms. II\\xa063',\n  'language': '',\n  'detail': '',\n  'data': {'logicalType': '1'},\n  'props': [],\n  'notes': ['Import batch [development] 2023-01-13 19:35:45.939035',\n   'propvalue>5:M12:subcollection_and_shelf_number_concatenated:ms. II\\xa063'],\n  'status': '1',\n  'references': []},\n {'class': 'E',\n  'id': '1715fbf6-a0f1-466f-af18-fd3c5d437cb2',\n  'label': 'Creation of Toulouse, Archives municipales, ms. II\\xa063',\n  'language': '',\n  'detail': '',\n  'data': {'logicalType': '1'},\n  'props': [],\n  'notes': ['Import batch [development] 2023-01-13 19:35:45.939035',\n   'special>:creation_event_id E0006_M12'],\n  'status': '1',\n  'references': [],\n  'legacyId': 'E0006_M12'},\n {'class': 'V',\n  'id': 'a1516fb6-0d71-4535-8691-d96c2b862ba7',\n  'label': '1279',\n  'language': '',\n  'detail': '',\n  'data': {'logicalType': '1'},\n  'props': [],\n  'notes': ['Import batch [development] 2023-01-13 19:35:45.939035',\n   'special>:creation_event_id E0006_M12LegacyId: M12'],\n  'status': '1',\n  'references': []},\n {'class': 'V',\n  'id': '404742db-31eb-4471-a491-ffed57d84a95',\n  'label': '1279',\n  'language': '',\n  'detail': '',\n  'data': {'logicalType': '1'},\n  'props': [],\n  'notes': ['Import batch [development] 2023-01-13 19:35:45.939035',\n   'special>:creation_event_id E0006_M12LegacyId: M12'],\n  'status': '1',\n  'references': []},\n {'class': 'V',\n  'id': '8fb9d6c2-b935-4771-b38b-218e49280c5c',\n  'label': 'ms. AA 34 3',\n  'language': '',\n  'detail': '',\n  'data': {'logicalType': '1'},\n  'props': [],\n  'notes': ['Import batch [development] 2023-01-13 19:35:45.939035',\n   'propvalue>6:M13:subcollection_and_shelf_number_concatenated:ms. AA 34 3'],\n  'status': '1',\n  'references': []},\n {'class': 'E',\n  'id': '34f7b7be-b233-44e3-b23f-799894025ebf',\n  'label': 'Creation of Toulouse, Archives municipales, ms. AA 34 3',\n  'language': '',\n  'detail': '',\n  'data': {'logicalType': '1'},\n  'props': [],\n  'notes': ['Import batch [development] 2023-01-13 19:35:45.939035',\n   'special>:creation_event_id E0007_M13'],\n  'status': '1',\n  'references': [],\n  'legacyId': 'E0007_M13'},\n {'class': 'V',\n  'id': '5233fd29-bb73-441c-a1cb-cda728fb240d',\n  'label': '1279',\n  'language': '',\n  'detail': '',\n  'data': {'logicalType': '1'},\n  'props': [],\n  'notes': ['Import batch [development] 2023-01-13 19:35:45.939035',\n   'special>:creation_event_id E0007_M13LegacyId: M13'],\n  'status': '1',\n  'references': []},\n {'class': 'V',\n  'id': 'b0d94369-72f4-4f73-834d-9270585dcc5a',\n  'label': '1279',\n  'language': '',\n  'detail': '',\n  'data': {'logicalType': '1'},\n  'props': [],\n  'notes': ['Import batch [development] 2023-01-13 19:35:45.939035',\n   'special>:creation_event_id E0007_M13LegacyId: M13'],\n  'status': '1',\n  'references': []},\n {'class': 'L',\n  'id': '549398c0-98af-448a-b04a-88957d0e264c',\n  'label': 'Toulouse, Archives départementales de la Haute-Garonne',\n  'language': '',\n  'detail': '',\n  'data': {'logicalType': '1'},\n  'props': [],\n  'notes': ['Import batch [development] 2023-01-13 19:35:45.939035',\n   \"Making location 'Toulouse, Archives départementales de la Haute-Garonne' from M8 by field repository_label.\"],\n  'status': '1',\n  'references': [],\n  'legacyId': 'L_from_M8'},\n {'class': 'V',\n  'id': 'e6a3df45-31d3-4b00-8e5c-1ad0f7131de9',\n  'label': 'ms. 124',\n  'language': '',\n  'detail': '',\n  'data': {'logicalType': '1'},\n  'props': [],\n  'notes': ['Import batch [development] 2023-01-13 19:35:45.939035',\n   'propvalue>7:M8:subcollection_and_shelf_number_concatenated:ms. 124'],\n  'status': '1',\n  'references': []},\n {'class': 'E',\n  'id': 'fff3659b-49c4-42cf-ab5c-b207780921d5',\n  'label': 'Creation of Toulouse, Archives départementales de la Haute-Garonne, ms. 124',\n  'language': '',\n  'detail': '',\n  'data': {'logicalType': '1'},\n  'props': [],\n  'notes': ['Import batch [development] 2023-01-13 19:35:45.939035',\n   'special>:creation_event_id E0008_M8'],\n  'status': '1',\n  'references': [],\n  'legacyId': 'E0008_M8'},\n {'class': 'V',\n  'id': 'e4143b09-c51c-4054-a894-1f21e7a7250e',\n  'label': 'ms. 202',\n  'language': '',\n  'detail': '',\n  'data': {'logicalType': '1'},\n  'props': [],\n  'notes': ['Import batch [development] 2023-01-13 19:35:45.939035',\n   'propvalue>8:M9:subcollection_and_shelf_number_concatenated:ms. 202'],\n  'status': '1',\n  'references': []},\n {'class': 'E',\n  'id': '43c196e8-c6e4-4ddb-aad9-a4d66ffb7b7a',\n  'label': 'Creation of Toulouse, Archives départementales de la Haute-Garonne, ms. 202',\n  'language': '',\n  'detail': '',\n  'data': {'logicalType': '1'},\n  'props': [],\n  'notes': ['Import batch [development] 2023-01-13 19:35:45.939035',\n   'special>:creation_event_id E0009_M9'],\n  'status': '1',\n  'references': [],\n  'legacyId': 'E0009_M9'},\n {'class': 'E',\n  'id': 'e4dcf329-f634-4f2d-a7f5-914d4c665f8d',\n  'label': 'Creation of Toulouse, Archives départementales de la Haute-Garonne, ',\n  'language': '',\n  'detail': '',\n  'data': {'logicalType': '1'},\n  'props': [],\n  'notes': ['Import batch [development] 2023-01-13 19:35:45.939035',\n   'special>:creation_event_id E0010_M10'],\n  'status': '1',\n  'references': [],\n  'legacyId': 'E0010_M10'},\n {'class': 'V',\n  'id': '3f9e7b17-7c63-4eae-a4da-b23afc0f247c',\n  'label': '1256',\n  'language': '',\n  'detail': '',\n  'data': {'logicalType': '1'},\n  'props': [],\n  'notes': ['Import batch [development] 2023-01-13 19:35:45.939035',\n   'special>:creation_event_id E0010_M10LegacyId: M10'],\n  'status': '1',\n  'references': []},\n {'class': 'L',\n  'id': 'b1b5e52f-f685-4bf3-8e27-aa1428df4b3b',\n  'label': 'Carcassonne, Bibliothèque municipale',\n  'language': '',\n  'detail': '',\n  'data': {'logicalType': '1'},\n  'props': [],\n  'notes': ['Import batch [development] 2023-01-13 19:35:45.939035',\n   \"Making location 'Carcassonne, Bibliothèque municipale' from M11 by field repository_label.\"],\n  'status': '1',\n  'references': [],\n  'legacyId': 'L_from_M11'},\n {'class': 'V',\n  'id': '070e8c81-f6b7-41ba-8231-62db6b4b548c',\n  'label': 'ms. Mb 161',\n  'language': '',\n  'detail': '',\n  'data': {'logicalType': '1'},\n  'props': [],\n  'notes': ['Import batch [development] 2023-01-13 19:35:45.939035',\n   'propvalue>10:M11:subcollection_and_shelf_number_concatenated:ms. Mb 161'],\n  'status': '1',\n  'references': []},\n {'class': 'V',\n  'id': 'c1a96c3d-19e5-4fac-88ff-d117cfd756c8',\n  'label': '2',\n  'language': '',\n  'detail': '',\n  'data': {'logicalType': '1'},\n  'props': [],\n  'notes': ['Import batch [development] 2023-01-13 19:35:45.939035',\n   'propvalue>10:M11:folios_total:2'],\n  'status': '1',\n  'references': []},\n {'class': 'E',\n  'id': 'e817ecfb-21a4-4468-8c99-7b26c6a93cdb',\n  'label': 'Creation of Carcassonne, Bibliothèque municipale, ms. Mb 161',\n  'language': '',\n  'detail': '',\n  'data': {'logicalType': '1'},\n  'props': [],\n  'notes': ['Import batch [development] 2023-01-13 19:35:45.939035',\n   'special>:creation_event_id E0011_M11'],\n  'status': '1',\n  'references': [],\n  'legacyId': 'E0011_M11'},\n {'class': 'V',\n  'id': '0ceefa4e-2220-47bb-99ba-78bd52935a9b',\n  'label': '1266',\n  'language': '',\n  'detail': '',\n  'data': {'logicalType': '1'},\n  'props': [],\n  'notes': ['Import batch [development] 2023-01-13 19:35:45.939035',\n   'special>:creation_event_id E0011_M11LegacyId: M11'],\n  'status': '1',\n  'references': []},\n {'class': 'V',\n  'id': '80dff84e-fade-4e2e-9d4a-bf1c1c4e4552',\n  'label': '1266',\n  'language': '',\n  'detail': '',\n  'data': {'logicalType': '1'},\n  'props': [],\n  'notes': ['Import batch [development] 2023-01-13 19:35:45.939035',\n   'special>:creation_event_id E0011_M11LegacyId: M11'],\n  'status': '1',\n  'references': []},\n {'class': 'V',\n  'id': '6c2e6f7b-b852-48dd-854d-1db2be258cb0',\n  'label': '1270',\n  'language': '',\n  'detail': '',\n  'data': {'logicalType': '1'},\n  'props': [],\n  'notes': ['Import batch [development] 2023-01-13 19:35:45.939035',\n   'special>:creation_event_id E0011_M11LegacyId: M11'],\n  'status': '1',\n  'references': []},\n {'class': 'V',\n  'id': '4a5f5ab3-161a-406a-bb8e-aa4c6b67946f',\n  'label': '1270',\n  'language': '',\n  'detail': '',\n  'data': {'logicalType': '1'},\n  'props': [],\n  'notes': ['Import batch [development] 2023-01-13 19:35:45.939035',\n   'special>:creation_event_id E0011_M11LegacyId: M11'],\n  'status': '1',\n  'references': []},\n {'class': 'L',\n  'id': '7e1fcdbf-b777-4780-9765-b265b0f7abb3',\n  'label': 'Paris, Bibliothèque nationale de France',\n  'language': '',\n  'detail': '',\n  'data': {'logicalType': '1'},\n  'props': [],\n  'notes': ['Import batch [development] 2023-01-13 19:35:45.939035',\n   \"Making location 'Paris, Bibliothèque nationale de France' from M21 by field repository_label.\"],\n  'status': '1',\n  'references': [],\n  'legacyId': 'L_from_M21'},\n {'class': 'V',\n  'id': 'cc47bfcd-a2d5-4474-a1cb-d3de3d621955',\n  'label': 'fonds Doat, vol. 21',\n  'language': '',\n  'detail': '',\n  'data': {'logicalType': '1'},\n  'props': [],\n  'notes': ['Import batch [development] 2023-01-13 19:35:45.939035',\n   'propvalue>11:M21:subcollection_and_shelf_number_concatenated:fonds Doat, vol. 21'],\n  'status': '1',\n  'references': []},\n {'class': 'E',\n  'id': '8cf7c2da-98eb-4b4f-a158-08703fd770cd',\n  'label': 'Creation of Paris, Bibliothèque nationale de France, fonds Doat, vol. 21',\n  'language': '',\n  'detail': '',\n  'data': {'logicalType': '1'},\n  'props': [],\n  'notes': ['Import batch [development] 2023-01-13 19:35:45.939035',\n   'special>:creation_event_id E0012_M21'],\n  'status': '1',\n  'references': [],\n  'legacyId': 'E0012_M21'},\n {'class': 'R',\n  'id': '35a13dc0-783a-466d-9850-71c50b1f528d',\n  'label': 'Reproduction of Paris, Bibliothèque nationale de France, fonds Doat, vol. 21',\n  'language': '',\n  'detail': '',\n  'data': {'url': 'https://gallica.bnf.fr/ark:/12148/btv1b10035999g',\n   'partValueBaseURL': '',\n   'partValueLabel': ''},\n  'props': [],\n  'notes': ['Import batch [development] 2023-01-13 19:35:45.939035'],\n  'status': '1',\n  'references': []},\n {'class': 'V',\n  'id': 'debd0d87-fe5c-4c2b-af13-b1ddf85e4839',\n  'label': 'fonds Doat, vol. 22',\n  'language': '',\n  'detail': '',\n  'data': {'logicalType': '1'},\n  'props': [],\n  'notes': ['Import batch [development] 2023-01-13 19:35:45.939035',\n   'propvalue>12:M22:subcollection_and_shelf_number_concatenated:fonds Doat, vol. 22'],\n  'status': '1',\n  'references': []},\n {'class': 'E',\n  'id': '57838f8c-237d-4432-86e2-64ccb8c3f8d3',\n  'label': 'Creation of Paris, Bibliothèque nationale de France, fonds Doat, vol. 22',\n  'language': '',\n  'detail': '',\n  'data': {'logicalType': '1'},\n  'props': [],\n  'notes': ['Import batch [development] 2023-01-13 19:35:45.939035',\n   'special>:creation_event_id E0013_M22'],\n  'status': '1',\n  'references': [],\n  'legacyId': 'E0013_M22'},\n {'class': 'V',\n  'id': 'c96ec7fe-eb99-4b57-8745-f973edd458cb',\n  'label': 'fonds Doat, vol. 23',\n  'language': '',\n  'detail': '',\n  'data': {'logicalType': '1'},\n  'props': [],\n  'notes': ['Import batch [development] 2023-01-13 19:35:45.939035',\n   'propvalue>13:M23:subcollection_and_shelf_number_concatenated:fonds Doat, vol. 23'],\n  'status': '1',\n  'references': []},\n {'class': 'E',\n  'id': '7c70b959-b22f-4f38-9328-d310c45bd48d',\n  'label': 'Creation of Paris, Bibliothèque nationale de France, fonds Doat, vol. 23',\n  'language': '',\n  'detail': '',\n  'data': {'logicalType': '1'},\n  'props': [],\n  'notes': ['Import batch [development] 2023-01-13 19:35:45.939035',\n   'special>:creation_event_id E0014_M23'],\n  'status': '1',\n  'references': [],\n  'legacyId': 'E0014_M23'},\n {'class': 'V',\n  'id': '128acc9b-f42f-452d-8900-73188009bbbb',\n  'label': 'fonds Doat, vol. 24',\n  'language': '',\n  'detail': '',\n  'data': {'logicalType': '1'},\n  'props': [],\n  'notes': ['Import batch [development] 2023-01-13 19:35:45.939035',\n   'propvalue>14:M24:subcollection_and_shelf_number_concatenated:fonds Doat, vol. 24'],\n  'status': '1',\n  'references': []},\n {'class': 'E',\n  'id': '6f671ac8-92e7-4214-b1bd-f41c5d5dfd56',\n  'label': 'Creation of Paris, Bibliothèque nationale de France, fonds Doat, vol. 24',\n  'language': '',\n  'detail': '',\n  'data': {'logicalType': '1'},\n  'props': [],\n  'notes': ['Import batch [development] 2023-01-13 19:35:45.939035',\n   'special>:creation_event_id E0015_M24'],\n  'status': '1',\n  'references': [],\n  'legacyId': 'E0015_M24'},\n {'class': 'R',\n  'id': 'f9ccdfa5-0ec6-4c38-8fcf-38cc1d69b08a',\n  'label': 'Reproduction of Paris, Bibliothèque nationale de France, fonds Doat, vol. 24',\n  'language': '',\n  'detail': '',\n  'data': {'url': 'https://gallica.bnf.fr/ark:/12148/btv1b10036000n',\n   'partValueBaseURL': '',\n   'partValueLabel': ''},\n  'props': [],\n  'notes': ['Import batch [development] 2023-01-13 19:35:45.939035'],\n  'status': '1',\n  'references': []},\n {'class': 'V',\n  'id': '91912788-25b2-4c2e-833e-54c86a90276b',\n  'label': 'fonds Doat, vol. 25',\n  'language': '',\n  'detail': '',\n  'data': {'logicalType': '1'},\n  'props': [],\n  'notes': ['Import batch [development] 2023-01-13 19:35:45.939035',\n   'propvalue>15:M25:subcollection_and_shelf_number_concatenated:fonds Doat, vol. 25'],\n  'status': '1',\n  'references': []},\n {'class': 'E',\n  'id': 'fa16335e-7f3c-4c0c-adb1-91d1ffd3d999',\n  'label': 'Creation of Paris, Bibliothèque nationale de France, fonds Doat, vol. 25',\n  'language': '',\n  'detail': '',\n  'data': {'logicalType': '1'},\n  'props': [],\n  'notes': ['Import batch [development] 2023-01-13 19:35:45.939035',\n   'special>:creation_event_id E0016_M25'],\n  'status': '1',\n  'references': [],\n  'legacyId': 'E0016_M25'},\n {'class': 'R',\n  'id': '87415887-5f79-44fa-992e-c1dd99258ab0',\n  'label': 'Reproduction of Paris, Bibliothèque nationale de France, fonds Doat, vol. 25',\n  'language': '',\n  'detail': '',\n  'data': {'url': 'https://gallica.bnf.fr/ark:/12148/btv1b100365190',\n   'partValueBaseURL': '',\n   'partValueLabel': ''},\n  'props': [],\n  'notes': ['Import batch [development] 2023-01-13 19:35:45.939035'],\n  'status': '1',\n  'references': []},\n {'class': 'V',\n  'id': '25f82aef-76cc-464e-b691-61295c6c0560',\n  'label': 'fonds Doat, vol. 26',\n  'language': '',\n  'detail': '',\n  'data': {'logicalType': '1'},\n  'props': [],\n  'notes': ['Import batch [development] 2023-01-13 19:35:45.939035',\n   'propvalue>16:M26:subcollection_and_shelf_number_concatenated:fonds Doat, vol. 26'],\n  'status': '1',\n  'references': []},\n {'class': 'E',\n  'id': 'f4ee10c5-6cb2-490e-9676-ff10a7d9f3c6',\n  'label': 'Creation of Paris, Bibliothèque nationale de France, fonds Doat, vol. 26',\n  'language': '',\n  'detail': '',\n  'data': {'logicalType': '1'},\n  'props': [],\n  'notes': ['Import batch [development] 2023-01-13 19:35:45.939035',\n   'special>:creation_event_id E0017_M26'],\n  'status': '1',\n  'references': [],\n  'legacyId': 'E0017_M26'},\n {'class': 'R',\n  'id': '27b0f570-72aa-4adb-810d-266f03bb9b47',\n  'label': 'Reproduction of Paris, Bibliothèque nationale de France, fonds Doat, vol. 26',\n  'language': '',\n  'detail': '',\n  'data': {'url': 'https://gallica.bnf.fr/ark:/12148/btv1b100361092',\n   'partValueBaseURL': '',\n   'partValueLabel': ''},\n  'props': [],\n  'notes': ['Import batch [development] 2023-01-13 19:35:45.939035'],\n  'status': '1',\n  'references': []},\n {'class': 'V',\n  'id': 'f42e2bbd-a375-4a97-866c-47dde88b9c4c',\n  'label': 'fonds Doat, vol. 27',\n  'language': '',\n  'detail': '',\n  'data': {'logicalType': '1'},\n  'props': [],\n  'notes': ['Import batch [development] 2023-01-13 19:35:45.939035',\n   'propvalue>17:M27:subcollection_and_shelf_number_concatenated:fonds Doat, vol. 27'],\n  'status': '1',\n  'references': []},\n {'class': 'E',\n  'id': '3fd975f0-3190-44b7-b781-0cd258f19fcb',\n  'label': 'Creation of Paris, Bibliothèque nationale de France, fonds Doat, vol. 27',\n  'language': '',\n  'detail': '',\n  'data': {'logicalType': '1'},\n  'props': [],\n  'notes': ['Import batch [development] 2023-01-13 19:35:45.939035',\n   'special>:creation_event_id E0018_M27'],\n  'status': '1',\n  'references': [],\n  'legacyId': 'E0018_M27'},\n {'class': 'V',\n  'id': '89858bc8-4bd5-4d92-af1d-50cf4dfe8621',\n  'label': 'fonds Doat, vol. 28',\n  'language': '',\n  'detail': '',\n  'data': {'logicalType': '1'},\n  'props': [],\n  'notes': ['Import batch [development] 2023-01-13 19:35:45.939035',\n   'propvalue>18:M28:subcollection_and_shelf_number_concatenated:fonds Doat, vol. 28'],\n  'status': '1',\n  'references': []},\n {'class': 'E',\n  'id': '5865ff68-c962-4725-809c-c2fb7c36a5c6',\n  'label': 'Creation of Paris, Bibliothèque nationale de France, fonds Doat, vol. 28',\n  'language': '',\n  'detail': '',\n  'data': {'logicalType': '1'},\n  'props': [],\n  'notes': ['Import batch [development] 2023-01-13 19:35:45.939035',\n   'special>:creation_event_id E0019_M28'],\n  'status': '1',\n  'references': [],\n  'legacyId': 'E0019_M28'},\n {'class': 'V',\n  'id': 'a3b75691-b1fa-48ab-bd39-fe08d729cc7a',\n  'label': 'fonds Doat, vol. 29',\n  'language': '',\n  'detail': '',\n  'data': {'logicalType': '1'},\n  'props': [],\n  'notes': ['Import batch [development] 2023-01-13 19:35:45.939035',\n   'propvalue>19:M29:subcollection_and_shelf_number_concatenated:fonds Doat, vol. 29'],\n  'status': '1',\n  'references': []},\n {'class': 'E',\n  'id': 'a8b30a9a-5d22-4e60-bc0c-0f30e6883bb4',\n  'label': 'Creation of Paris, Bibliothèque nationale de France, fonds Doat, vol. 29',\n  'language': '',\n  'detail': '',\n  'data': {'logicalType': '1'},\n  'props': [],\n  'notes': ['Import batch [development] 2023-01-13 19:35:45.939035',\n   'special>:creation_event_id E0020_M29'],\n  'status': '1',\n  'references': [],\n  'legacyId': 'E0020_M29'},\n {'class': 'V',\n  'id': '8c8d921c-c617-4a6b-a676-67f9c5fa9787',\n  'label': 'fonds Doat, vol. 30',\n  'language': '',\n  'detail': '',\n  'data': {'logicalType': '1'},\n  'props': [],\n  'notes': ['Import batch [development] 2023-01-13 19:35:45.939035',\n   'propvalue>20:M30:subcollection_and_shelf_number_concatenated:fonds Doat, vol. 30'],\n  'status': '1',\n  'references': []},\n {'class': 'E',\n  'id': '853682ad-f13e-47ad-a760-0281eb75c849',\n  'label': 'Creation of Paris, Bibliothèque nationale de France, fonds Doat, vol. 30',\n  'language': '',\n  'detail': '',\n  'data': {'logicalType': '1'},\n  'props': [],\n  'notes': ['Import batch [development] 2023-01-13 19:35:45.939035',\n   'special>:creation_event_id E0021_M30'],\n  'status': '1',\n  'references': [],\n  'legacyId': 'E0021_M30'},\n {'class': 'V',\n  'id': '4e0d867b-590f-4e56-a43a-37e8441f197a',\n  'label': 'fonds Doat, vol. 31',\n  'language': '',\n  'detail': '',\n  'data': {'logicalType': '1'},\n  'props': [],\n  'notes': ['Import batch [development] 2023-01-13 19:35:45.939035',\n   'propvalue>21:M31:subcollection_and_shelf_number_concatenated:fonds Doat, vol. 31'],\n  'status': '1',\n  'references': []},\n {'class': 'E',\n  'id': '8e1dbf3a-125a-4ef5-bb82-53b24a73c344',\n  'label': 'Creation of Paris, Bibliothèque nationale de France, fonds Doat, vol. 31',\n  'language': '',\n  'detail': '',\n  'data': {'logicalType': '1'},\n  'props': [],\n  'notes': ['Import batch [development] 2023-01-13 19:35:45.939035',\n   'special>:creation_event_id E0022_M31'],\n  'status': '1',\n  'references': [],\n  'legacyId': 'E0022_M31'},\n {'class': 'V',\n  'id': 'b04a37de-e8d9-49ac-b6ba-1af8ba114634',\n  'label': 'fonds Doat, vol. 32',\n  'language': '',\n  'detail': '',\n  'data': {'logicalType': '1'},\n  'props': [],\n  'notes': ['Import batch [development] 2023-01-13 19:35:45.939035',\n   'propvalue>22:M32:subcollection_and_shelf_number_concatenated:fonds Doat, vol. 32'],\n  'status': '1',\n  'references': []},\n {'class': 'E',\n  'id': '9b6f4200-c1e7-4002-bd6d-058d61f7cdbf',\n  'label': 'Creation of Paris, Bibliothèque nationale de France, fonds Doat, vol. 32',\n  'language': '',\n  'detail': '',\n  'data': {'logicalType': '1'},\n  'props': [],\n  'notes': ['Import batch [development] 2023-01-13 19:35:45.939035',\n   'special>:creation_event_id E0023_M32'],\n  'status': '1',\n  'references': [],\n  'legacyId': 'E0023_M32'},\n {'class': 'V',\n  'id': '1481973f-1bba-48e2-bd0f-a293356f80f3',\n  'label': 'fonds Doat, vol. 33',\n  'language': '',\n  'detail': '',\n  'data': {'logicalType': '1'},\n  'props': [],\n  'notes': ['Import batch [development] 2023-01-13 19:35:45.939035',\n   'propvalue>23:M33:subcollection_and_shelf_number_concatenated:fonds Doat, vol. 33'],\n  'status': '1',\n  'references': []},\n {'class': 'E',\n  'id': '05db3789-926d-43a1-a0bb-8c84521417b6',\n  'label': 'Creation of Paris, Bibliothèque nationale de France, fonds Doat, vol. 33',\n  'language': '',\n  'detail': '',\n  'data': {'logicalType': '1'},\n  'props': [],\n  'notes': ['Import batch [development] 2023-01-13 19:35:45.939035',\n   'special>:creation_event_id E0024_M33'],\n  'status': '1',\n  'references': [],\n  'legacyId': 'E0024_M33'},\n {'class': 'V',\n  'id': 'f84d9893-b51f-424d-bb0a-3aaf3ad77b74',\n  'label': 'fonds Doat, vol. 34',\n  'language': '',\n  'detail': '',\n  'data': {'logicalType': '1'},\n  'props': [],\n  'notes': ['Import batch [development] 2023-01-13 19:35:45.939035',\n   'propvalue>24:M34:subcollection_and_shelf_number_concatenated:fonds Doat, vol. 34'],\n  'status': '1',\n  'references': []},\n {'class': 'E',\n  'id': '005e1885-cb49-4b3a-b295-32834e8ec3d4',\n  'label': 'Creation of Paris, Bibliothèque nationale de France, fonds Doat, vol. 34',\n  'language': '',\n  'detail': '',\n  'data': {'logicalType': '1'},\n  'props': [],\n  'notes': ['Import batch [development] 2023-01-13 19:35:45.939035',\n   'special>:creation_event_id E0025_M34'],\n  'status': '1',\n  'references': [],\n  'legacyId': 'E0025_M34'},\n {'class': 'V',\n  'id': '54c7538b-539f-4b23-b0ff-887549340e27',\n  'label': 'fonds Doat, vol. 35',\n  'language': '',\n  'detail': '',\n  'data': {'logicalType': '1'},\n  'props': [],\n  'notes': ['Import batch [development] 2023-01-13 19:35:45.939035',\n   'propvalue>25:M35:subcollection_and_shelf_number_concatenated:fonds Doat, vol. 35'],\n  'status': '1',\n  'references': []},\n {'class': 'E',\n  'id': '7ac6962a-b538-4c6a-ab54-25ced28f491f',\n  'label': 'Creation of Paris, Bibliothèque nationale de France, fonds Doat, vol. 35',\n  'language': '',\n  'detail': '',\n  'data': {'logicalType': '1'},\n  'props': [],\n  'notes': ['Import batch [development] 2023-01-13 19:35:45.939035',\n   'special>:creation_event_id E0026_M35'],\n  'status': '1',\n  'references': [],\n  'legacyId': 'E0026_M35'},\n {'class': 'V',\n  'id': '47204183-25f1-4fea-8cd8-3b11a1869ab0',\n  'label': 'fonds Doat, vol. 36',\n  'language': '',\n  'detail': '',\n  'data': {'logicalType': '1'},\n  'props': [],\n  'notes': ['Import batch [development] 2023-01-13 19:35:45.939035',\n   'propvalue>26:M36:subcollection_and_shelf_number_concatenated:fonds Doat, vol. 36'],\n  'status': '1',\n  'references': []},\n {'class': 'E',\n  'id': '1c0437bf-01b7-440a-a7a6-19d5b756e78f',\n  'label': 'Creation of Paris, Bibliothèque nationale de France, fonds Doat, vol. 36',\n  'language': '',\n  'detail': '',\n  'data': {'logicalType': '1'},\n  'props': [],\n  'notes': ['Import batch [development] 2023-01-13 19:35:45.939035',\n   'special>:creation_event_id E0027_M36'],\n  'status': '1',\n  'references': [],\n  'legacyId': 'E0027_M36'},\n {'class': 'V',\n  'id': '89d71513-802b-4a70-935d-b6f4790a5f22',\n  'label': 'fonds Doat, vol. 37',\n  'language': '',\n  'detail': '',\n  'data': {'logicalType': '1'},\n  'props': [],\n  'notes': ['Import batch [development] 2023-01-13 19:35:45.939035',\n   'propvalue>27:M37:subcollection_and_shelf_number_concatenated:fonds Doat, vol. 37'],\n  'status': '1',\n  'references': []},\n {'class': 'E',\n  'id': 'b8b34217-c452-4c20-bea7-dbcd55c54ee4',\n  'label': 'Creation of Paris, Bibliothèque nationale de France, fonds Doat, vol. 37',\n  'language': '',\n  'detail': '',\n  'data': {'logicalType': '1'},\n  'props': [],\n  'notes': ['Import batch [development] 2023-01-13 19:35:45.939035',\n   'special>:creation_event_id E0028_M37'],\n  'status': '1',\n  'references': [],\n  'legacyId': 'E0028_M37'},\n {'class': 'L',\n  'id': '8b081d55-dfc4-4d12-9cd9-d4ea0699e72e',\n  'label': 'Milano, Archivio dell’Amministrazione delle Istituzioni pubbliche di assistenza e beneficenza, ex Ente comunale d’assistenza di Milano',\n  'language': '',\n  'detail': '',\n  'data': {'logicalType': '1'},\n  'props': [],\n  'notes': ['Import batch [development] 2023-01-13 19:35:45.939035',\n   \"Making location 'Milano, Archivio dell’Amministrazione delle Istituzioni pubbliche di assistenza e beneficenza, ex Ente comunale d’assistenza di Milano' from M105 by field repository_label.\"],\n  'status': '1',\n  'references': [],\n  'legacyId': 'L_from_M105'},\n {'class': 'V',\n  'id': 'ed462776-a31c-4791-8867-d1179766972e',\n  'label': 'Comuni, Arti e scienze, Culto, ms. 164',\n  'language': '',\n  'detail': '',\n  'data': {'logicalType': '1'},\n  'props': [],\n  'notes': ['Import batch [development] 2023-01-13 19:35:45.939035',\n   'propvalue>28:M105:subcollection_and_shelf_number_concatenated:Comuni, Arti e scienze, Culto, ms. 164'],\n  'status': '1',\n  'references': []},\n {'class': 'V',\n  'id': 'aedc8e25-1730-479b-82c6-eb94b43054cc',\n  'label': '1',\n  'language': '',\n  'detail': '',\n  'data': {'logicalType': '1'},\n  'props': [],\n  'notes': ['Import batch [development] 2023-01-13 19:35:45.939035',\n   'propvalue>28:M105:folios_total:1'],\n  'status': '1',\n  'references': []},\n {'class': 'E',\n  'id': '04026518-4263-496b-a0bb-b08415e32f9c',\n  'label': 'Creation of Milano, Archivio dell’Amministrazione delle Istituzioni pubbliche di assistenza e beneficenza, ex Ente comunale d’assistenza di Milano, Comuni, Arti e scienze, Culto, ms. 164',\n  'language': '',\n  'detail': '',\n  'data': {'logicalType': '1'},\n  'props': [],\n  'notes': ['Import batch [development] 2023-01-13 19:35:45.939035',\n   'special>:creation_event_id E0029_M105'],\n  'status': '1',\n  'references': [],\n  'legacyId': 'E0029_M105'},\n {'class': 'V',\n  'id': 'e353b246-4ccf-4711-8e82-b71e72673a36',\n  'label': '1288',\n  'language': '',\n  'detail': '',\n  'data': {'logicalType': '1'},\n  'props': [],\n  'notes': ['Import batch [development] 2023-01-13 19:35:45.939035',\n   'special>:creation_event_id E0029_M105LegacyId: M105'],\n  'status': '1',\n  'references': []},\n {'class': 'V',\n  'id': '3746c59f-2735-4756-9567-ae4df1cba8e1',\n  'label': '1301',\n  'language': '',\n  'detail': '',\n  'data': {'logicalType': '1'},\n  'props': [],\n  'notes': ['Import batch [development] 2023-01-13 19:35:45.939035',\n   'special>:creation_event_id E0029_M105LegacyId: M105'],\n  'status': '1',\n  'references': []},\n {'class': 'L',\n  'id': '1bd593d8-7364-4888-81f5-63f7396a585a',\n  'label': 'Foix, Archives départementales de l’Ariège',\n  'language': '',\n  'detail': '',\n  'data': {'logicalType': '1'},\n  'props': [],\n  'notes': ['Import batch [development] 2023-01-13 19:35:45.939035',\n   \"Making location 'Foix, Archives départementales de l’Ariège' from M19 by field repository_label.\"],\n  'status': '1',\n  'references': [],\n  'legacyId': 'L_from_M19'},\n {'class': 'V',\n  'id': '30e6bd48-3848-4b37-aa9a-f05b0b1a8406',\n  'label': 'ms. 1 J 128',\n  'language': '',\n  'detail': '',\n  'data': {'logicalType': '1'},\n  'props': [],\n  'notes': ['Import batch [development] 2023-01-13 19:35:45.939035',\n   'propvalue>29:M19:subcollection_and_shelf_number_concatenated:ms. 1 J 128 '],\n  'status': '1',\n  'references': []},\n {'class': 'E',\n  'id': '7eba4e31-3876-45f3-b5d3-b6bf763c2d65',\n  'label': 'Creation of Foix, Archives départementales de l’Ariège, ms. 1 J 128 ',\n  'language': '',\n  'detail': '',\n  'data': {'logicalType': '1'},\n  'props': [],\n  'notes': ['Import batch [development] 2023-01-13 19:35:45.939035',\n   'special>:creation_event_id E0030_M19'],\n  'status': '1',\n  'references': [],\n  'legacyId': 'E0030_M19'},\n {'class': 'V',\n  'id': '84af287b-e0e6-46fa-8a4f-b2b2f20a7122',\n  'label': '1320',\n  'language': '',\n  'detail': '',\n  'data': {'logicalType': '1'},\n  'props': [],\n  'notes': ['Import batch [development] 2023-01-13 19:35:45.939035',\n   'special>:creation_event_id E0030_M19LegacyId: M19'],\n  'status': '1',\n  'references': []},\n {'class': 'V',\n  'id': 'a264bde0-6676-41da-95a0-b4ce7212a3a9',\n  'label': '1320',\n  'language': '',\n  'detail': '',\n  'data': {'logicalType': '1'},\n  'props': [],\n  'notes': ['Import batch [development] 2023-01-13 19:35:45.939035',\n   'special>:creation_event_id E0030_M19LegacyId: M19'],\n  'status': '1',\n  'references': []},\n {'class': 'L',\n  'id': 'fc56b0d4-1683-4647-a00c-a53c40c5e7f1',\n  'label': 'Firenze, Archivio di Stato di Firenze',\n  'language': '',\n  'detail': '',\n  'data': {'logicalType': '1'},\n  'props': [],\n  'notes': ['Import batch [development] 2023-01-13 19:35:45.939035',\n   \"Making location 'Firenze, Archivio di Stato di Firenze' from M100 by field repository_label.\"],\n  'status': '1',\n  'references': [],\n  'legacyId': 'L_from_M100'},\n {'class': 'V',\n  'id': '8f73fa7e-a75c-4b64-813b-28c544021b4f',\n  'label': 'Diplomatico, Santa Maria Novella, 1244: gennaio 26, gennaio 31 doc. 2; 1245: .. .. (image 00013575), .. .. (image 00013576), .. .. (image 00013577), .. .. (image 00013578), gennaio 30, aprile 26, giugno 6, agosto 11, agosto 12, agosto 13, agosto 24 doc .1, agosto 24 doc. 2, ottobre 12 doc. 1, ottobre 12 doc. 2,',\n  'language': '',\n  'detail': '',\n  'data': {'logicalType': '1'},\n  'props': [],\n  'notes': ['Import batch [development] 2023-01-13 19:35:45.939035',\n   'propvalue>30:M100:subcollection_and_shelf_number_concatenated:Diplomatico, Santa Maria Novella, 1244: gennaio 26, gennaio 31 doc. 2; 1245: .. .. (image 00013575), .. .. (image 00013576), .. .. (image 00013577), .. .. (image 00013578), gennaio 30, aprile 26, giugno 6, agosto 11, agosto 12, agosto 13, agosto 24 doc .1, agosto 24 doc. 2, ottobre 12 doc. 1, ottobre 12 doc. 2, '],\n  'status': '1',\n  'references': []},\n {'class': 'E',\n  'id': '5ae600db-5a2e-48e8-a958-718d17b2da8b',\n  'label': 'Creation of Firenze, Archivio di Stato di Firenze, Diplomatico, Santa Maria Novella, 1244: gennaio 26, gennaio 31 doc. 2; 1245: .. .. (image 00013575), .. .. (image 00013576), .. .. (image 00013577), .. .. (image 00013578), gennaio 30, aprile 26, giugno 6, agosto 11, agosto 12, agosto 13, agosto 24 doc .1, agosto 24 doc. 2, ottobre 12 doc. 1, ottobre 12 doc. 2, ',\n  'language': '',\n  'detail': '',\n  'data': {'logicalType': '1'},\n  'props': [],\n  'notes': ['Import batch [development] 2023-01-13 19:35:45.939035',\n   'special>:creation_event_id E0031_M100'],\n  'status': '1',\n  'references': [],\n  'legacyId': 'E0031_M100'},\n {'class': 'R',\n  'id': '0ae88d30-2559-4152-a4cc-d5db19ff172b',\n  'label': 'Reproduction of Firenze, Archivio di Stato di Firenze, Diplomatico, Santa Maria Novella, 1244: gennaio 26, gennaio 31 doc. 2; 1245: .. .. (image 00013575), .. .. (image 00013576), .. .. (image 00013577), .. .. (image 00013578), gennaio 30, aprile 26, giugno 6, agosto 11, agosto 12, agosto 13, agosto 24 doc .1, agosto 24 doc. 2, ottobre 12 doc. 1, ottobre 12 doc. 2, ',\n  'language': '',\n  'detail': '',\n  'data': {'url': 'http://www.archiviodistato.firenze.it/pergasfi/index.php?opadmin=&op=fetch&type=provenienza&id=2463&total=1434&start=96&pdatada=&pdataa=',\n   'partValueBaseURL': '',\n   'partValueLabel': ''},\n  'props': [],\n  'notes': ['Import batch [development] 2023-01-13 19:35:45.939035'],\n  'status': '1',\n  'references': []},\n {'class': 'L',\n  'id': 'a5e1addc-1efe-415e-9ffa-ce4f3ea2bb2d',\n  'label': 'Terni, Archivio di Stato di Terni',\n  'language': '',\n  'detail': '',\n  'data': {'logicalType': '1'},\n  'props': [],\n  'notes': ['Import batch [development] 2023-01-13 19:35:45.939035',\n   \"Making location 'Terni, Archivio di Stato di Terni' from M103 by field repository_label.\"],\n  'status': '1',\n  'references': [],\n  'legacyId': 'L_from_M103'},\n {'class': 'V',\n  'id': '4eef07c9-1df3-427c-b963-7de789e6fb92',\n  'label': 'Archivio di Stato di Orvieto, Fondo communale, Matricola 861',\n  'language': '',\n  'detail': '',\n  'data': {'logicalType': '1'},\n  'props': [],\n  'notes': ['Import batch [development] 2023-01-13 19:35:45.939035',\n   'propvalue>31:M103:subcollection_and_shelf_number_concatenated:Archivio di Stato di Orvieto, Fondo communale, Matricola 861'],\n  'status': '1',\n  'references': []},\n {'class': 'E',\n  'id': 'e28d94f0-1d51-476b-ac2f-83295eb39f58',\n  'label': 'Creation of Terni, Archivio di Stato di Terni, Archivio di Stato di Orvieto, Fondo communale, Matricola 861',\n  'language': '',\n  'detail': '',\n  'data': {'logicalType': '1'},\n  'props': [],\n  'notes': ['Import batch [development] 2023-01-13 19:35:45.939035',\n   'special>:creation_event_id E0032_M103'],\n  'status': '1',\n  'references': [],\n  'legacyId': 'E0032_M103'},\n {'class': 'V',\n  'id': '2791ace3-2902-4113-91e3-82aa49ec4a19',\n  'label': '1268',\n  'language': '',\n  'detail': '',\n  'data': {'logicalType': '1'},\n  'props': [],\n  'notes': ['Import batch [development] 2023-01-13 19:35:45.939035',\n   'special>:creation_event_id E0032_M103LegacyId: M103'],\n  'status': '1',\n  'references': []},\n {'class': 'V',\n  'id': '32f9a77a-cd65-409b-a2ab-410801b252e4',\n  'label': '1268',\n  'language': '',\n  'detail': '',\n  'data': {'logicalType': '1'},\n  'props': [],\n  'notes': ['Import batch [development] 2023-01-13 19:35:45.939035',\n   'special>:creation_event_id E0032_M103LegacyId: M103'],\n  'status': '1',\n  'references': []},\n {'class': 'L',\n  'id': 'fdabddb2-40ef-4d56-b893-db61441bb726',\n  'label': 'Stafford, Staffordshire Record Office',\n  'language': '',\n  'detail': '',\n  'data': {'logicalType': '1'},\n  'props': [],\n  'notes': ['Import batch [development] 2023-01-13 19:35:45.939035',\n   \"Making location 'Stafford, Staffordshire Record Office' from M40 by field repository_label.\"],\n  'status': '1',\n  'references': [],\n  'legacyId': 'L_from_M40'},\n {'class': 'V',\n  'id': 'b702c710-f94c-4853-ab05-836d437bf283',\n  'label': 'B/C/13',\n  'language': '',\n  'detail': '',\n  'data': {'logicalType': '1'},\n  'props': [],\n  'notes': ['Import batch [development] 2023-01-13 19:35:45.939035',\n   'propvalue>32:M40:subcollection_and_shelf_number_concatenated:B/C/13'],\n  'status': '1',\n  'references': []},\n {'class': 'V',\n  'id': 'd2cf373b-5cf9-4561-8aa9-af1258eaedd5',\n  'label': '35',\n  'language': '',\n  'detail': '',\n  'data': {'logicalType': '1'},\n  'props': [],\n  'notes': ['Import batch [development] 2023-01-13 19:35:45.939035',\n   'propvalue>32:M40:height_cm:35'],\n  'status': '1',\n  'references': []},\n {'class': 'V',\n  'id': 'bfd2ca29-4b68-409b-858c-8dcef04ab7bb',\n  'label': '26',\n  'language': '',\n  'detail': '',\n  'data': {'logicalType': '1'},\n  'props': [],\n  'notes': ['Import batch [development] 2023-01-13 19:35:45.939035',\n   'propvalue>32:M40:width_cm:26'],\n  'status': '1',\n  'references': []},\n {'class': 'V',\n  'id': '14f8d2dc-f922-4361-bc5a-8bad93b1c822',\n  'label': '26',\n  'language': '',\n  'detail': '',\n  'data': {'logicalType': '1'},\n  'props': [],\n  'notes': ['Import batch [development] 2023-01-13 19:35:45.939035',\n   'propvalue>32:M40:folios_total:26'],\n  'status': '1',\n  'references': []},\n {'class': 'E',\n  'id': 'ece586c8-ffaf-4860-bfd5-bf1cfdbab0a8',\n  'label': 'Creation of Stafford, Staffordshire Record Office, B/C/13',\n  'language': '',\n  'detail': '',\n  'data': {'logicalType': '1'},\n  'props': [],\n  'notes': ['Import batch [development] 2023-01-13 19:35:45.939035',\n   'special>:creation_event_id E0033_M40'],\n  'status': '1',\n  'references': [],\n  'legacyId': 'E0033_M40'},\n {'class': 'V',\n  'id': 'cc9011ce-ab1e-42d4-b737-08300db4a70e',\n  'label': '1511',\n  'language': '',\n  'detail': '',\n  'data': {'logicalType': '1'},\n  'props': [],\n  'notes': ['Import batch [development] 2023-01-13 19:35:45.939035',\n   'special>:creation_event_id E0033_M40LegacyId: M40'],\n  'status': '1',\n  'references': []},\n {'class': 'V',\n  'id': '2108dd1d-bf6b-4709-89c4-3acd2b54a9f6',\n  'label': '1511',\n  'language': '',\n  'detail': '',\n  'data': {'logicalType': '1'},\n  'props': [],\n  'notes': ['Import batch [development] 2023-01-13 19:35:45.939035',\n   'special>:creation_event_id E0033_M40LegacyId: M40'],\n  'status': '1',\n  'references': []},\n {'class': 'V',\n  'id': '211cfeea-ff27-4e7c-9915-6321be96153b',\n  'label': '1521',\n  'language': '',\n  'detail': '',\n  'data': {'logicalType': '1'},\n  'props': [],\n  'notes': ['Import batch [development] 2023-01-13 19:35:45.939035',\n   'special>:creation_event_id E0033_M40LegacyId: M40'],\n  'status': '1',\n  'references': []},\n {'class': 'V',\n  'id': 'b5b17216-805d-436d-b692-492f9545aeff',\n  'label': '1522',\n  'language': '',\n  'detail': '',\n  'data': {'logicalType': '1'},\n  'props': [],\n  'notes': ['Import batch [development] 2023-01-13 19:35:45.939035',\n   'special>:creation_event_id E0033_M40LegacyId: M40'],\n  'status': '1',\n  'references': []},\n {'class': 'L',\n  'id': '4ef38603-0e40-4296-8176-3549f92b6ae1',\n  'label': 'Millau, Archives municipales',\n  'language': '',\n  'detail': '',\n  'data': {'logicalType': '1'},\n  'props': [],\n  'notes': ['Import batch [development] 2023-01-13 19:35:45.939035',\n   \"Making location 'Millau, Archives municipales' from M15 by field repository_label.\"],\n  'status': '1',\n  'references': [],\n  'legacyId': 'L_from_M15'},\n {'class': 'V',\n  'id': 'd2763856-be23-462a-9652-361e0ad7c381',\n  'label': 'FF 8, 1er inventaire, 7ème cahier',\n  'language': '',\n  'detail': '',\n  'data': {'logicalType': '1'},\n  'props': [],\n  'notes': ['Import batch [development] 2023-01-13 19:35:45.939035',\n   'propvalue>33:M15:subcollection_and_shelf_number_concatenated:FF 8, 1er inventaire, 7ème cahier'],\n  'status': '1',\n  'references': []},\n {'class': 'E',\n  'id': 'e58ae154-abe6-419b-98f0-b08db0b32a40',\n  'label': 'Creation of Millau, Archives municipales, FF 8, 1er inventaire, 7ème cahier',\n  'language': '',\n  'detail': '',\n  'data': {'logicalType': '1'},\n  'props': [],\n  'notes': ['Import batch [development] 2023-01-13 19:35:45.939035',\n   'special>:creation_event_id E0034_M15'],\n  'status': '1',\n  'references': [],\n  'legacyId': 'E0034_M15'},\n {'class': 'V',\n  'id': 'fd654821-8258-4cb1-8ad3-9bdcecb34048',\n  'label': '1286',\n  'language': '',\n  'detail': '',\n  'data': {'logicalType': '1'},\n  'props': [],\n  'notes': ['Import batch [development] 2023-01-13 19:35:45.939035',\n   'special>:creation_event_id E0034_M15LegacyId: M15'],\n  'status': '1',\n  'references': []},\n {'class': 'V',\n  'id': '80473e08-76fe-4aae-8d68-3083b29bf6f7',\n  'label': 'FF 8, 1er inventaire, 8ème cahier',\n  'language': '',\n  'detail': '',\n  'data': {'logicalType': '1'},\n  'props': [],\n  'notes': ['Import batch [development] 2023-01-13 19:35:45.939035',\n   'propvalue>34:M16:subcollection_and_shelf_number_concatenated:FF 8, 1er inventaire, 8ème cahier'],\n  'status': '1',\n  'references': []},\n {'class': 'E',\n  'id': 'e86a0c9e-7d0a-4224-a27d-8255dd337439',\n  'label': 'Creation of Millau, Archives municipales, FF 8, 1er inventaire, 8ème cahier',\n  'language': '',\n  'detail': '',\n  'data': {'logicalType': '1'},\n  'props': [],\n  'notes': ['Import batch [development] 2023-01-13 19:35:45.939035',\n   'special>:creation_event_id E0035_M16'],\n  'status': '1',\n  'references': [],\n  'legacyId': 'E0035_M16'},\n {'class': 'V',\n  'id': '8e4dec0b-9437-4554-a3ba-2ccb026d7d64',\n  'label': '1288',\n  'language': '',\n  'detail': '',\n  'data': {'logicalType': '1'},\n  'props': [],\n  'notes': ['Import batch [development] 2023-01-13 19:35:45.939035',\n   'special>:creation_event_id E0035_M16LegacyId: M16'],\n  'status': '1',\n  'references': []},\n {'class': 'L',\n  'id': '6a42c3b7-f250-4e0f-9c70-38cf35a87ac7',\n  'label': 'Milano, Biblioteca Ambrosiana',\n  'language': '',\n  'detail': '',\n  'data': {'logicalType': '1'},\n  'props': [],\n  'notes': ['Import batch [development] 2023-01-13 19:35:45.939035',\n   \"Making location 'Milano, Biblioteca Ambrosiana' from M107 by field repository_label.\"],\n  'status': '1',\n  'references': [],\n  'legacyId': 'L_from_M107'},\n {'class': 'V',\n  'id': '7f1243db-1c70-42cf-a32d-3eb55472b6b5',\n  'label': 'ms. A 227 inf.',\n  'language': '',\n  'detail': '',\n  'data': {'logicalType': '1'},\n  'props': [],\n  'notes': ['Import batch [development] 2023-01-13 19:35:45.939035',\n   'propvalue>35:M107:subcollection_and_shelf_number_concatenated:ms. A 227 inf.'],\n  'status': '1',\n  'references': []},\n {'class': 'E',\n  'id': 'c2444ea2-9f42-4d01-a93a-d831f33dce8e',\n  'label': 'Creation of Milano, Biblioteca Ambrosiana, ms. A 227 inf.',\n  'language': '',\n  'detail': '',\n  'data': {'logicalType': '1'},\n  'props': [],\n  'notes': ['Import batch [development] 2023-01-13 19:35:45.939035',\n   'special>:creation_event_id E0036_M107'],\n  'status': '1',\n  'references': [],\n  'legacyId': 'E0036_M107'},\n {'class': 'V',\n  'id': '5e6eaa38-84ca-44f8-b2ef-b2b2a8bb3627',\n  'label': '1300',\n  'language': '',\n  'detail': '',\n  'data': {'logicalType': '1'},\n  'props': [],\n  'notes': ['Import batch [development] 2023-01-13 19:35:45.939035',\n   'special>:creation_event_id E0036_M107LegacyId: M107'],\n  'status': '1',\n  'references': []},\n {'class': 'L',\n  'id': 'bacc9715-8c1f-4a4d-a915-5b4e19af51bb',\n  'label': 'Ferrara, Biblioteca Comunale Ariostea di Ferrara',\n  'language': '',\n  'detail': '',\n  'data': {'logicalType': '1'},\n  'props': [],\n  'notes': ['Import batch [development] 2023-01-13 19:35:45.939035',\n   \"Making location 'Ferrara, Biblioteca Comunale Ariostea di Ferrara' from M101 by field repository_label.\"],\n  'status': '1',\n  'references': [],\n  'legacyId': 'L_from_M101'},\n {'class': 'V',\n  'id': '697e166f-3155-4e84-b34d-695752521bc9',\n  'label': 'N.A.40',\n  'language': '',\n  'detail': '',\n  'data': {'logicalType': '1'},\n  'props': [],\n  'notes': ['Import batch [development] 2023-01-13 19:35:45.939035',\n   'propvalue>36:M101:subcollection_and_shelf_number_concatenated:N.A.40'],\n  'status': '1',\n  'references': []},\n {'class': 'E',\n  'id': '1c4c8ea1-0b0d-4932-ac48-9ddfdb8889ca',\n  'label': 'Creation of Ferrara, Biblioteca Comunale Ariostea di Ferrara, N.A.40',\n  'language': '',\n  'detail': '',\n  'data': {'logicalType': '1'},\n  'props': [],\n  'notes': ['Import batch [development] 2023-01-13 19:35:45.939035',\n   'special>:creation_event_id E0037_M101'],\n  'status': '1',\n  'references': [],\n  'legacyId': 'E0037_M101'},\n {'class': 'V',\n  'id': '0b63f367-8c5e-41c4-8acc-419735c30a2b',\n  'label': '1980',\n  'language': '',\n  'detail': '',\n  'data': {'logicalType': '1'},\n  'props': [],\n  'notes': ['Import batch [development] 2023-01-13 19:35:45.939035',\n   'special>:creation_event_id E0037_M101LegacyId: M101'],\n  'status': '1',\n  'references': []},\n {'class': 'V',\n  'id': 'b19f181b-938b-43f2-a0f7-d47cff54f8c8',\n  'label': 'ms. lat. 11847',\n  'language': '',\n  'detail': '',\n  'data': {'logicalType': '1'},\n  'props': [],\n  'notes': ['Import batch [development] 2023-01-13 19:35:45.939035',\n   'propvalue>37:M18:subcollection_and_shelf_number_concatenated:ms. lat. 11847'],\n  'status': '1',\n  'references': []},\n {'class': 'V',\n  'id': '0ea9c1e8-df59-406d-8c07-d41931a07a9a',\n  'label': '30.5',\n  'language': '',\n  'detail': '',\n  'data': {'logicalType': '1'},\n  'props': [],\n  'notes': ['Import batch [development] 2023-01-13 19:35:45.939035',\n   'propvalue>37:M18:height_cm:30.5'],\n  'status': '1',\n  'references': []},\n {'class': 'V',\n  'id': 'eb58929d-b1a9-4b80-9b5a-f9a836ef5eaa',\n  'label': '22',\n  'language': '',\n  'detail': '',\n  'data': {'logicalType': '1'},\n  'props': [],\n  'notes': ['Import batch [development] 2023-01-13 19:35:45.939035',\n   'propvalue>37:M18:width_cm:22'],\n  'status': '1',\n  'references': []},\n {'class': 'V',\n  'id': '69098a22-ed8b-49b7-b355-c09ef513d856',\n  'label': '53',\n  'language': '',\n  'detail': '',\n  'data': {'logicalType': '1'},\n  'props': [],\n  'notes': ['Import batch [development] 2023-01-13 19:35:45.939035',\n   'propvalue>37:M18:folios_total:53'],\n  'status': '1',\n  'references': []},\n {'class': 'E',\n  'id': '9086eb39-f2f5-45cc-99dc-b2fa55bed6a3',\n  'label': 'Creation of Paris, Bibliothèque nationale de France, ms. lat. 11847',\n  'language': '',\n  'detail': '',\n  'data': {'logicalType': '1'},\n  'props': [],\n  'notes': ['Import batch [development] 2023-01-13 19:35:45.939035',\n   'special>:creation_event_id E0038_M18'],\n  'status': '1',\n  'references': [],\n  'legacyId': 'E0038_M18'},\n {'class': 'V',\n  'id': 'fdd13d01-97a6-468d-9b68-4cf5fbe55b3f',\n  'label': '1299',\n  'language': '',\n  'detail': '',\n  'data': {'logicalType': '1'},\n  'props': [],\n  'notes': ['Import batch [development] 2023-01-13 19:35:45.939035',\n   'special>:creation_event_id E0038_M18LegacyId: M18'],\n  'status': '1',\n  'references': []},\n {'class': 'V',\n  'id': 'd77b0ea4-2473-4878-8d2b-efa37c7deb4c',\n  'label': '1303',\n  'language': '',\n  'detail': '',\n  'data': {'logicalType': '1'},\n  'props': [],\n  'notes': ['Import batch [development] 2023-01-13 19:35:45.939035',\n   'special>:creation_event_id E0038_M18LegacyId: M18'],\n  'status': '1',\n  'references': []},\n {'class': 'R',\n  'id': '515cfdd5-7f5d-4367-8655-a8de1f6f589e',\n  'label': 'Reproduction of Paris, Bibliothèque nationale de France, ms. lat. 11847',\n  'language': '',\n  'detail': '',\n  'data': {'url': 'https://gallica.bnf.fr/ark:/12148/btv1b100338354',\n   'partValueBaseURL': '',\n   'partValueLabel': ''},\n  'props': [],\n  'notes': ['Import batch [development] 2023-01-13 19:35:45.939035'],\n  'status': '1',\n  'references': []},\n {'class': 'V',\n  'id': 'ac08990c-d404-4a1d-a672-2096ed64f1cb',\n  'label': '30.5',\n  'language': '',\n  'detail': '',\n  'data': {'logicalType': '1'},\n  'props': [],\n  'notes': ['Import batch [development] 2023-01-13 19:35:45.939035',\n   'propvalue>38:M20:height_cm:30.5'],\n  'status': '1',\n  'references': []},\n {'class': 'V',\n  'id': 'a1f57341-3cb9-48b2-ba4e-8a97e12c929b',\n  'label': '23',\n  'language': '',\n  'detail': '',\n  'data': {'logicalType': '1'},\n  'props': [],\n  'notes': ['Import batch [development] 2023-01-13 19:35:45.939035',\n   'propvalue>38:M20:width_cm:23'],\n  'status': '1',\n  'references': []},\n {'class': 'V',\n  'id': 'eb855d95-90ad-42bc-8d19-10043c9e7558',\n  'label': '78',\n  'language': '',\n  'detail': '',\n  'data': {'logicalType': '1'},\n  'props': [],\n  'notes': ['Import batch [development] 2023-01-13 19:35:45.939035',\n   'propvalue>38:M20:folios_total:78'],\n  'status': '1',\n  'references': []},\n {'class': 'E',\n  'id': '68e91b64-1a1e-480c-b564-e3ded96a08de',\n  'label': 'Creation of Merville???, Bibliothèque du Château de Merville???, ',\n  'language': '',\n  'detail': '',\n  'data': {'logicalType': '1'},\n  'props': [],\n  'notes': ['Import batch [development] 2023-01-13 19:35:45.939035',\n   'special>:creation_event_id E0039_M20'],\n  'status': '1',\n  'references': [],\n  'legacyId': 'E0039_M20'},\n {'class': 'V',\n  'id': '7b43a13a-b617-462b-9e2e-26caf9cd9aec',\n  'label': '1300',\n  'language': '',\n  'detail': '',\n  'data': {'logicalType': '1'},\n  'props': [],\n  'notes': ['Import batch [development] 2023-01-13 19:35:45.939035',\n   'special>:creation_event_id E0039_M20LegacyId: M20'],\n  'status': '1',\n  'references': []},\n {'class': 'V',\n  'id': 'f80928af-f8e3-4231-8ce0-4d408ab732ef',\n  'label': '1310',\n  'language': '',\n  'detail': '',\n  'data': {'logicalType': '1'},\n  'props': [],\n  'notes': ['Import batch [development] 2023-01-13 19:35:45.939035',\n   'special>:creation_event_id E0039_M20LegacyId: M20'],\n  'status': '1',\n  'references': []},\n {'class': 'L',\n  'id': 'f5dca3f6-9e21-4f55-8fe9-864117974a32',\n  'label': 'Toulouse, Bibliothèque municipale',\n  'language': '',\n  'detail': '',\n  'data': {'logicalType': '1'},\n  'props': [],\n  'notes': ['Import batch [development] 2023-01-13 19:35:45.939035',\n   \"Making location 'Toulouse, Bibliothèque municipale' from M5 by field repository_label.\"],\n  'status': '1',\n  'references': [],\n  'legacyId': 'L_from_M5'},\n {'class': 'V',\n  'id': 'ca81ddae-bdc5-44da-82a4-f0695ba8e5f5',\n  'label': 'ms. 609',\n  'language': '',\n  'detail': '',\n  'data': {'logicalType': '1'},\n  'props': [],\n  'notes': ['Import batch [development] 2023-01-13 19:35:45.939035',\n   'propvalue>39:M5:subcollection_and_shelf_number_concatenated:ms. 609'],\n  'status': '1',\n  'references': []},\n {'class': 'V',\n  'id': 'b24174b5-47a2-4946-9525-1a7ca4af64b1',\n  'label': '29',\n  'language': '',\n  'detail': '',\n  'data': {'logicalType': '1'},\n  'props': [],\n  'notes': ['Import batch [development] 2023-01-13 19:35:45.939035',\n   'propvalue>39:M5:height_cm:29'],\n  'status': '1',\n  'references': []},\n {'class': 'V',\n  'id': 'b65bb466-14d0-4c83-824d-27776b4442e7',\n  'label': '23.5',\n  'language': '',\n  'detail': '',\n  'data': {'logicalType': '1'},\n  'props': [],\n  'notes': ['Import batch [development] 2023-01-13 19:35:45.939035',\n   'propvalue>39:M5:width_cm:23.5'],\n  'status': '1',\n  'references': []},\n {'class': 'V',\n  'id': 'de3a164e-13b3-4317-8e41-384f6e9c626f',\n  'label': '270',\n  'language': '',\n  'detail': '',\n  'data': {'logicalType': '1'},\n  'props': [],\n  'notes': ['Import batch [development] 2023-01-13 19:35:45.939035',\n   'propvalue>39:M5:folios_total:270'],\n  'status': '1',\n  'references': []},\n {'class': 'E',\n  'id': 'f7b6ec16-d30d-4348-a31d-6bd8dc9fa0ab',\n  'label': 'Creation of Toulouse, Bibliothèque municipale, ms. 609',\n  'language': '',\n  'detail': '',\n  'data': {'logicalType': '1'},\n  'props': [],\n  'notes': ['Import batch [development] 2023-01-13 19:35:45.939035',\n   'special>:creation_event_id E0040_M5'],\n  'status': '1',\n  'references': [],\n  'legacyId': 'E0040_M5'},\n {'class': 'V',\n  'id': '3b4ae55d-16a7-4f1a-8994-43b62fa2502c',\n  'label': '1258',\n  'language': '',\n  'detail': '',\n  'data': {'logicalType': '1'},\n  'props': [],\n  'notes': ['Import batch [development] 2023-01-13 19:35:45.939035',\n   'special>:creation_event_id E0040_M5LegacyId: M5'],\n  'status': '1',\n  'references': []},\n {'class': 'V',\n  'id': 'f093e32e-032f-4a21-90eb-c37216c501d4',\n  'label': '1270',\n  'language': '',\n  'detail': '',\n  'data': {'logicalType': '1'},\n  'props': [],\n  'notes': ['Import batch [development] 2023-01-13 19:35:45.939035',\n   'special>:creation_event_id E0040_M5LegacyId: M5'],\n  'status': '1',\n  'references': []},\n {'class': 'R',\n  'id': 'b829e557-56d9-458c-9e2e-db6e1b8be60d',\n  'label': 'Reproduction of Toulouse, Bibliothèque municipale, ms. 609',\n  'language': '',\n  'detail': '',\n  'data': {'url': 'https://bvmm.irht.cnrs.fr/consult/consult.php?mode=vignettes&reproductionId=620',\n   'partValueBaseURL': '',\n   'partValueLabel': ''},\n  'props': [],\n  'notes': ['Import batch [development] 2023-01-13 19:35:45.939035'],\n  'status': '1',\n  'references': []},\n {'class': 'L',\n  'id': 'a1f746ff-87f3-46e9-8620-700539dcf571',\n  'label': 'Exeter, Devon Heritage Centre',\n  'language': '',\n  'detail': '',\n  'data': {'logicalType': '1'},\n  'props': [],\n  'notes': ['Import batch [development] 2023-01-13 19:35:45.939035',\n   \"Making location 'Exeter, Devon Heritage Centre' from M68 by field repository_label.\"],\n  'status': '1',\n  'references': [],\n  'legacyId': 'L_from_M68'},\n {'class': 'V',\n  'id': '571430dc-3a04-47dd-9bea-8d1bd2a0de33',\n  'label': 'DEX 1/a/10',\n  'language': '',\n  'detail': '',\n  'data': {'logicalType': '1'},\n  'props': [],\n  'notes': ['Import batch [development] 2023-01-13 19:35:45.939035',\n   'propvalue>40:M68:subcollection_and_shelf_number_concatenated:DEX 1/a/10'],\n  'status': '1',\n  'references': []},\n {'class': 'V',\n  'id': 'dd0928f1-79bc-4dc1-9109-7d16a3110b57',\n  'label': 'Chanter 10',\n  'language': '',\n  'detail': '',\n  'data': {'logicalType': '1'},\n  'props': [],\n  'notes': ['Import batch [development] 2023-01-13 19:35:45.939035',\n   'propvalue>40:M68:alternative_shelf_number:Chanter 10'],\n  'status': '1',\n  'references': []},\n {'class': 'E',\n  'id': '0ec3891e-6561-4d06-8f01-f4e046353eaf',\n  'label': 'Creation of Exeter, Devon Heritage Centre, DEX 1/a/10',\n  'language': '',\n  'detail': '',\n  'data': {'logicalType': '1'},\n  'props': [],\n  'notes': ['Import batch [development] 2023-01-13 19:35:45.939035',\n   'special>:creation_event_id E0041_M68'],\n  'status': '1',\n  'references': [],\n  'legacyId': 'E0041_M68'},\n {'class': 'V',\n  'id': 'c7a1894e-c1a8-412d-ae53-3adeaa342a06',\n  'label': '1429',\n  'language': '',\n  'detail': '',\n  'data': {'logicalType': '1'},\n  'props': [],\n  'notes': ['Import batch [development] 2023-01-13 19:35:45.939035',\n   'special>:creation_event_id E0041_M68LegacyId: M68'],\n  'status': '1',\n  'references': []},\n {'class': 'V',\n  'id': 'e2a963b2-95c5-4109-8fe7-ed2f29a7831e',\n  'label': '1429',\n  'language': '',\n  'detail': '',\n  'data': {'logicalType': '1'},\n  'props': [],\n  'notes': ['Import batch [development] 2023-01-13 19:35:45.939035',\n   'special>:creation_event_id E0041_M68LegacyId: M68'],\n  'status': '1',\n  'references': []},\n {'class': 'V',\n  'id': '41b87dd7-6648-4385-91e3-bfb428cf095f',\n  'label': '1453',\n  'language': '',\n  'detail': '',\n  'data': {'logicalType': '1'},\n  'props': [],\n  'notes': ['Import batch [development] 2023-01-13 19:35:45.939035',\n   'special>:creation_event_id E0041_M68LegacyId: M68'],\n  'status': '1',\n  'references': []},\n {'class': 'V',\n  'id': '93c7e9bc-e5ba-483e-82a5-d4c8a0760929',\n  'label': '1453',\n  'language': '',\n  'detail': '',\n  'data': {'logicalType': '1'},\n  'props': [],\n  'notes': ['Import batch [development] 2023-01-13 19:35:45.939035',\n   'special>:creation_event_id E0041_M68LegacyId: M68'],\n  'status': '1',\n  'references': []},\n {'class': 'V',\n  'id': '1330a933-ec1b-4f53-9869-f5b7db296a72',\n  'label': 'DEX 1/a/11',\n  'language': '',\n  'detail': '',\n  'data': {'logicalType': '1'},\n  'props': [],\n  'notes': ['Import batch [development] 2023-01-13 19:35:45.939035',\n   'propvalue>41:M69:subcollection_and_shelf_number_concatenated:DEX 1/a/11'],\n  'status': '1',\n  'references': []},\n {'class': 'V',\n  'id': 'e0ad4fb4-e0d3-422e-89b9-a1586295922f',\n  'label': 'Chanter 11',\n  'language': '',\n  'detail': '',\n  'data': {'logicalType': '1'},\n  'props': [],\n  'notes': ['Import batch [development] 2023-01-13 19:35:45.939035',\n   'propvalue>41:M69:alternative_shelf_number:Chanter 11'],\n  'status': '1',\n  'references': []},\n {'class': 'E',\n  'id': 'd660559d-b92d-4b9a-8934-84f62c5bf99f',\n  'label': 'Creation of Exeter, Devon Heritage Centre, DEX 1/a/11',\n  'language': '',\n  'detail': '',\n  'data': {'logicalType': '1'},\n  'props': [],\n  'notes': ['Import batch [development] 2023-01-13 19:35:45.939035',\n   'special>:creation_event_id E0042_M69'],\n  'status': '1',\n  'references': [],\n  'legacyId': 'E0042_M69'},\n {'class': 'V',\n  'id': 'c07b27c5-4847-4a4a-8e2a-d4ef534f5c0f',\n  'label': '1429',\n  'language': '',\n  'detail': '',\n  'data': {'logicalType': '1'},\n  'props': [],\n  'notes': ['Import batch [development] 2023-01-13 19:35:45.939035',\n   'special>:creation_event_id E0042_M69LegacyId: M69'],\n  'status': '1',\n  'references': []},\n {'class': 'V',\n  'id': '1885cd7e-b43e-418b-8878-8982a6241c5c',\n  'label': '1492',\n  'language': '',\n  'detail': '',\n  'data': {'logicalType': '1'},\n  'props': [],\n  'notes': ['Import batch [development] 2023-01-13 19:35:45.939035',\n   'special>:creation_event_id E0042_M69LegacyId: M69'],\n  'status': '1',\n  'references': []},\n {'class': 'V',\n  'id': 'abfc9ce3-d7be-4d15-a4ac-9e4c2a16e505',\n  'label': '1453',\n  'language': '',\n  'detail': '',\n  'data': {'logicalType': '1'},\n  'props': [],\n  'notes': ['Import batch [development] 2023-01-13 19:35:45.939035',\n   'special>:creation_event_id E0042_M69LegacyId: M69'],\n  'status': '1',\n  'references': []},\n {'class': 'V',\n  'id': '042e4b3c-9aee-4247-9517-5937a44fb470',\n  'label': '1453',\n  'language': '',\n  'detail': '',\n  'data': {'logicalType': '1'},\n  'props': [],\n  'notes': ['Import batch [development] 2023-01-13 19:35:45.939035',\n   'special>:creation_event_id E0042_M69LegacyId: M69'],\n  'status': '1',\n  'references': []},\n {'class': 'V',\n  'id': '31211ff8-1b10-4c35-ba6f-779aae61007e',\n  'label': 'DEX/1/a/8',\n  'language': '',\n  'detail': '',\n  'data': {'logicalType': '1'},\n  'props': [],\n  'notes': ['Import batch [development] 2023-01-13 19:35:45.939035',\n   'propvalue>42:M50:subcollection_and_shelf_number_concatenated:DEX/1/a/8'],\n  'status': '1',\n  'references': []},\n {'class': 'V',\n  'id': '564ef7a9-979f-4601-9629-c9a0eeaf417f',\n  'label': 'Chanter 8',\n  'language': '',\n  'detail': '',\n  'data': {'logicalType': '1'},\n  'props': [],\n  'notes': ['Import batch [development] 2023-01-13 19:35:45.939035',\n   'propvalue>42:M50:alternative_shelf_number:Chanter 8'],\n  'status': '1',\n  'references': []},\n {'class': 'E',\n  'id': '32417485-b8c3-4ae9-8ca3-f12872204fc5',\n  'label': 'Creation of Exeter, Devon Heritage Centre, DEX/1/a/8',\n  'language': '',\n  'detail': '',\n  'data': {'logicalType': '1'},\n  'props': [],\n  'notes': ['Import batch [development] 2023-01-13 19:35:45.939035',\n   'special>:creation_event_id E0043_M50'],\n  'status': '1',\n  'references': [],\n  'legacyId': 'E0043_M50'},\n {'class': 'V',\n  'id': '40d62310-1c83-4ff5-90dc-6fa922f47fd8',\n  'label': '1395',\n  'language': '',\n  'detail': '',\n  'data': {'logicalType': '1'},\n  'props': [],\n  'notes': ['Import batch [development] 2023-01-13 19:35:45.939035',\n   'special>:creation_event_id E0043_M50LegacyId: M50'],\n  'status': '1',\n  'references': []},\n {'class': 'V',\n  'id': '4cfbd413-0d50-43c8-8e1e-444e2022651b',\n  'label': '1395',\n  'language': '',\n  'detail': '',\n  'data': {'logicalType': '1'},\n  'props': [],\n  'notes': ['Import batch [development] 2023-01-13 19:35:45.939035',\n   'special>:creation_event_id E0043_M50LegacyId: M50'],\n  'status': '1',\n  'references': []},\n {'class': 'V',\n  'id': '0b61c9a7-6ef6-4dc9-ae2d-104e11c23e73',\n  'label': '1453',\n  'language': '',\n  'detail': '',\n  'data': {'logicalType': '1'},\n  'props': [],\n  'notes': ['Import batch [development] 2023-01-13 19:35:45.939035',\n   'special>:creation_event_id E0043_M50LegacyId: M50'],\n  'status': '1',\n  'references': []},\n {'class': 'V',\n  'id': '898a3ca7-91db-4dbc-a316-7f47b042d2f9',\n  'label': '1453',\n  'language': '',\n  'detail': '',\n  'data': {'logicalType': '1'},\n  'props': [],\n  'notes': ['Import batch [development] 2023-01-13 19:35:45.939035',\n   'special>:creation_event_id E0043_M50LegacyId: M50'],\n  'status': '1',\n  'references': []},\n {'class': 'V',\n  'id': '2ee81b53-c14e-4661-91a1-b2f50284fde1',\n  'label': 'DEX/1/a/9',\n  'language': '',\n  'detail': '',\n  'data': {'logicalType': '1'},\n  'props': [],\n  'notes': ['Import batch [development] 2023-01-13 19:35:45.939035',\n   'propvalue>43:M51:subcollection_and_shelf_number_concatenated:DEX/1/a/9'],\n  'status': '1',\n  'references': []},\n {'class': 'V',\n  'id': 'e480bb81-1622-4010-b888-14c413a7a896',\n  'label': 'Chanter 9',\n  'language': '',\n  'detail': '',\n  'data': {'logicalType': '1'},\n  'props': [],\n  'notes': ['Import batch [development] 2023-01-13 19:35:45.939035',\n   'propvalue>43:M51:alternative_shelf_number:Chanter 9'],\n  'status': '1',\n  'references': []},\n {'class': 'E',\n  'id': 'fb347480-720d-4cf1-aee8-5ac4a79bd81a',\n  'label': 'Creation of Exeter, Devon Heritage Centre, DEX/1/a/9',\n  'language': '',\n  'detail': '',\n  'data': {'logicalType': '1'},\n  'props': [],\n  'notes': ['Import batch [development] 2023-01-13 19:35:45.939035',\n   'special>:creation_event_id E0044_M51'],\n  'status': '1',\n  'references': [],\n  'legacyId': 'E0044_M51'},\n {'class': 'V',\n  'id': '3319bf4e-d492-48e4-b945-cb1ca4111b14',\n  'label': '1395',\n  'language': '',\n  'detail': '',\n  'data': {'logicalType': '1'},\n  'props': [],\n  'notes': ['Import batch [development] 2023-01-13 19:35:45.939035',\n   'special>:creation_event_id E0044_M51LegacyId: M51'],\n  'status': '1',\n  'references': []},\n {'class': 'V',\n  'id': '13868eaa-e30b-4538-94ad-f4581d4c609a',\n  'label': '1395',\n  'language': '',\n  'detail': '',\n  'data': {'logicalType': '1'},\n  'props': [],\n  'notes': ['Import batch [development] 2023-01-13 19:35:45.939035',\n   'special>:creation_event_id E0044_M51LegacyId: M51'],\n  'status': '1',\n  'references': []},\n {'class': 'V',\n  'id': '1e058a6a-97ad-4391-8ec6-9af7fec411ae',\n  'label': '1419',\n  'language': '',\n  'detail': '',\n  'data': {'logicalType': '1'},\n  'props': [],\n  'notes': ['Import batch [development] 2023-01-13 19:35:45.939035',\n   'special>:creation_event_id E0044_M51LegacyId: M51'],\n  'status': '1',\n  'references': []},\n {'class': 'V',\n  'id': '54d75735-5e09-4504-b1e4-78ecd2f481a3',\n  'label': '1419',\n  'language': '',\n  'detail': '',\n  'data': {'logicalType': '1'},\n  'props': [],\n  'notes': ['Import batch [development] 2023-01-13 19:35:45.939035',\n   'special>:creation_event_id E0044_M51LegacyId: M51'],\n  'status': '1',\n  'references': []},\n {'class': 'L',\n  'id': '0ef1a790-ce45-4361-bbce-f68644cefa61',\n  'label': 'Brno, Moravská zemská knihovna',\n  'language': '',\n  'detail': '',\n  'data': {'logicalType': '1'},\n  'props': [],\n  'notes': ['Import batch [development] 2023-01-13 19:35:45.939035',\n   \"Making location 'Brno, Moravská zemská knihovna' from M79 by field repository_label.\"],\n  'status': '1',\n  'references': [],\n  'legacyId': 'L_from_M79'},\n {'class': 'V',\n  'id': '8d8da001-dbe1-48ee-8f5c-1c8f49825355',\n  'label': '1',\n  'language': '',\n  'detail': '',\n  'data': {'logicalType': '1'},\n  'props': [],\n  'notes': ['Import batch [development] 2023-01-13 19:35:45.939035',\n   'propvalue>44:M79:folios_total:1'],\n  'status': '1',\n  'references': []},\n {'class': 'E',\n  'id': 'bb90059f-1a49-4d36-a6f5-3201eee2824a',\n  'label': 'Creation of Brno, Moravská zemská knihovna, ???',\n  'language': '',\n  'detail': '',\n  'data': {'logicalType': '1'},\n  'props': [],\n  'notes': ['Import batch [development] 2023-01-13 19:35:45.939035',\n   'special>:creation_event_id E0045_M79'],\n  'status': '1',\n  'references': [],\n  'legacyId': 'E0045_M79'},\n {'class': 'V',\n  'id': '34efde21-d846-4de7-9271-d7985b28e48d',\n  'label': '1335',\n  'language': '',\n  'detail': '',\n  'data': {'logicalType': '1'},\n  'props': [],\n  'notes': ['Import batch [development] 2023-01-13 19:35:45.939035',\n   'special>:creation_event_id E0045_M79LegacyId: M79'],\n  'status': '1',\n  'references': []},\n {'class': 'V',\n  'id': 'ba6676f2-e8db-4585-9e5c-714350959f4e',\n  'label': '1335',\n  'language': '',\n  'detail': '',\n  'data': {'logicalType': '1'},\n  'props': [],\n  'notes': ['Import batch [development] 2023-01-13 19:35:45.939035',\n   'special>:creation_event_id E0045_M79LegacyId: M79'],\n  'status': '1',\n  'references': []},\n {'class': 'V',\n  'id': 'c6259cbc-bda9-4125-86af-da6fbc7f6679',\n  'label': '1353',\n  'language': '',\n  'detail': '',\n  'data': {'logicalType': '1'},\n  'props': [],\n  'notes': ['Import batch [development] 2023-01-13 19:35:45.939035',\n   'special>:creation_event_id E0045_M79LegacyId: M79'],\n  'status': '1',\n  'references': []},\n {'class': 'V',\n  'id': 'ea7102dc-8366-45f0-bdce-83f992d99012',\n  'label': '1355',\n  'language': '',\n  'detail': '',\n  'data': {'logicalType': '1'},\n  'props': [],\n  'notes': ['Import batch [development] 2023-01-13 19:35:45.939035',\n   'special>:creation_event_id E0045_M79LegacyId: M79'],\n  'status': '1',\n  'references': []},\n {'class': 'L',\n  'id': 'd0efec54-cd4c-468e-8adb-7944e62d0844',\n  'label': 'Gottweig, Gottweig Abbey',\n  'language': '',\n  'detail': '',\n  'data': {'logicalType': '1'},\n  'props': [],\n  'notes': ['Import batch [development] 2023-01-13 19:35:45.939035',\n   \"Making location 'Gottweig, Gottweig Abbey' from M78 by field repository_label.\"],\n  'status': '1',\n  'references': [],\n  'legacyId': 'L_from_M78'},\n {'class': 'V',\n  'id': '9468af4b-2b7d-4994-b5a6-67c6fdf04276',\n  'label': 'ms. 82',\n  'language': '',\n  'detail': '',\n  'data': {'logicalType': '1'},\n  'props': [],\n  'notes': ['Import batch [development] 2023-01-13 19:35:45.939035',\n   'propvalue>45:M78:subcollection_and_shelf_number_concatenated:ms. 82'],\n  'status': '1',\n  'references': []},\n {'class': 'V',\n  'id': '20f29472-1b67-4516-bbad-638c32161cf4',\n  'label': '1',\n  'language': '',\n  'detail': '',\n  'data': {'logicalType': '1'},\n  'props': [],\n  'notes': ['Import batch [development] 2023-01-13 19:35:45.939035',\n   'propvalue>45:M78:folios_total:1'],\n  'status': '1',\n  'references': []},\n {'class': 'E',\n  'id': 'c2f9e825-48a6-4a82-8c8a-174845bc799e',\n  'label': 'Creation of Gottweig, Gottweig Abbey, ms. 82',\n  'language': '',\n  'detail': '',\n  'data': {'logicalType': '1'},\n  'props': [],\n  'notes': ['Import batch [development] 2023-01-13 19:35:45.939035',\n   'special>:creation_event_id E0046_M78'],\n  'status': '1',\n  'references': [],\n  'legacyId': 'E0046_M78'},\n {'class': 'V',\n  'id': 'ee8a3794-9795-47c6-ae9c-0e03f301f06e',\n  'label': '1335',\n  'language': '',\n  'detail': '',\n  'data': {'logicalType': '1'},\n  'props': [],\n  'notes': ['Import batch [development] 2023-01-13 19:35:45.939035',\n   'special>:creation_event_id E0046_M78LegacyId: M78'],\n  'status': '1',\n  'references': []},\n {'class': 'V',\n  'id': '80fc9c27-4929-4ed9-a127-980ba1a959fd',\n  'label': '1335',\n  'language': '',\n  'detail': '',\n  'data': {'logicalType': '1'},\n  'props': [],\n  'notes': ['Import batch [development] 2023-01-13 19:35:45.939035',\n   'special>:creation_event_id E0046_M78LegacyId: M78'],\n  'status': '1',\n  'references': []},\n {'class': 'V',\n  'id': '6b70b8b6-fd48-4677-9f9e-224038774459',\n  'label': '1353',\n  'language': '',\n  'detail': '',\n  'data': {'logicalType': '1'},\n  'props': [],\n  'notes': ['Import batch [development] 2023-01-13 19:35:45.939035',\n   'special>:creation_event_id E0046_M78LegacyId: M78'],\n  'status': '1',\n  'references': []},\n {'class': 'V',\n  'id': '09231375-0a07-4102-91ee-4dbf93fb58c7',\n  'label': '1355',\n  'language': '',\n  'detail': '',\n  'data': {'logicalType': '1'},\n  'props': [],\n  'notes': ['Import batch [development] 2023-01-13 19:35:45.939035',\n   'special>:creation_event_id E0046_M78LegacyId: M78'],\n  'status': '1',\n  'references': []},\n {'class': 'L',\n  'id': '54f793d1-e044-4fd8-9508-982f84d204fa',\n  'label': 'Heiligenkreuz, Heiligenkreuz Abbey',\n  'language': '',\n  'detail': '',\n  'data': {'logicalType': '1'},\n  'props': [],\n  'notes': ['Import batch [development] 2023-01-13 19:35:45.939035',\n   \"Making location 'Heiligenkreuz, Heiligenkreuz Abbey' from M74 by field repository_label.\"],\n  'status': '1',\n  'references': [],\n  'legacyId': 'L_from_M74'},\n {'class': 'V',\n  'id': 'dbf3578a-d75f-447b-8834-a17015d5abcc',\n  'label': 'Fragment I',\n  'language': '',\n  'detail': '',\n  'data': {'logicalType': '1'},\n  'props': [],\n  'notes': ['Import batch [development] 2023-01-13 19:35:45.939035',\n   'propvalue>46:M74:subcollection_and_shelf_number_concatenated:Fragment I'],\n  'status': '1',\n  'references': []},\n {'class': 'V',\n  'id': '0757ac9c-411d-44a2-844f-fcb40adf12f1',\n  'label': 'Rubr. 7. IV. 3',\n  'language': '',\n  'detail': '',\n  'data': {'logicalType': '1'},\n  'props': [],\n  'notes': ['Import batch [development] 2023-01-13 19:35:45.939035',\n   'propvalue>46:M74:alternative_shelf_number:Rubr. 7. IV. 3'],\n  'status': '1',\n  'references': []},\n {'class': 'V',\n  'id': 'b3f7234a-d49b-4af3-a311-0f764ae5db39',\n  'label': '32.9',\n  'language': '',\n  'detail': '',\n  'data': {'logicalType': '1'},\n  'props': [],\n  'notes': ['Import batch [development] 2023-01-13 19:35:45.939035',\n   'propvalue>46:M74:height_cm:32.9'],\n  'status': '1',\n  'references': []},\n {'class': 'V',\n  'id': '603666c6-97a9-4efd-bbc8-f8ebdcf4dea8',\n  'label': '25.5',\n  'language': '',\n  'detail': '',\n  'data': {'logicalType': '1'},\n  'props': [],\n  'notes': ['Import batch [development] 2023-01-13 19:35:45.939035',\n   'propvalue>46:M74:width_cm:25.5'],\n  'status': '1',\n  'references': []},\n {'class': 'V',\n  'id': 'fa636174-163f-4490-b947-9630f6f5934a',\n  'label': '1',\n  'language': '',\n  'detail': '',\n  'data': {'logicalType': '1'},\n  'props': [],\n  'notes': ['Import batch [development] 2023-01-13 19:35:45.939035',\n   'propvalue>46:M74:folios_total:1'],\n  'status': '1',\n  'references': []},\n {'class': 'E',\n  'id': '9d8dd0b0-ab6f-4439-89f6-f0d7b81f928d',\n  'label': 'Creation of Heiligenkreuz, Heiligenkreuz Abbey, Fragment I',\n  'language': '',\n  'detail': '',\n  'data': {'logicalType': '1'},\n  'props': [],\n  'notes': ['Import batch [development] 2023-01-13 19:35:45.939035',\n   'special>:creation_event_id E0047_M74'],\n  'status': '1',\n  'references': [],\n  'legacyId': 'E0047_M74'},\n {'class': 'V',\n  'id': '0f5967cb-58a0-4d94-8e1f-cc87351e28f5',\n  'label': '1335',\n  'language': '',\n  'detail': '',\n  'data': {'logicalType': '1'},\n  'props': [],\n  'notes': ['Import batch [development] 2023-01-13 19:35:45.939035',\n   'special>:creation_event_id E0047_M74LegacyId: M74'],\n  'status': '1',\n  'references': []},\n {'class': 'V',\n  'id': '3dbfc2cc-5cd8-4efc-addd-7397d28653fd',\n  'label': '1335',\n  'language': '',\n  'detail': '',\n  'data': {'logicalType': '1'},\n  'props': [],\n  'notes': ['Import batch [development] 2023-01-13 19:35:45.939035',\n   'special>:creation_event_id E0047_M74LegacyId: M74'],\n  'status': '1',\n  'references': []},\n {'class': 'V',\n  'id': '14ae1f2c-8989-4bb5-a72e-d5a13f92349c',\n  'label': '1353',\n  'language': '',\n  'detail': '',\n  'data': {'logicalType': '1'},\n  'props': [],\n  'notes': ['Import batch [development] 2023-01-13 19:35:45.939035',\n   'special>:creation_event_id E0047_M74LegacyId: M74'],\n  'status': '1',\n  'references': []},\n {'class': 'V',\n  'id': '16491551-4a02-4ff4-a7d7-c59c3d12aad8',\n  'label': '1355',\n  'language': '',\n  'detail': '',\n  'data': {'logicalType': '1'},\n  'props': [],\n  'notes': ['Import batch [development] 2023-01-13 19:35:45.939035',\n   'special>:creation_event_id E0047_M74LegacyId: M74'],\n  'status': '1',\n  'references': []},\n {'class': 'V',\n  'id': '4957e6aa-47d5-43dd-95de-7e8a2b6c1086',\n  'label': 'Fragment II',\n  'language': '',\n  'detail': '',\n  'data': {'logicalType': '1'},\n  'props': [],\n  'notes': ['Import batch [development] 2023-01-13 19:35:45.939035',\n   'propvalue>47:M75:subcollection_and_shelf_number_concatenated:Fragment II'],\n  'status': '1',\n  'references': []},\n {'class': 'V',\n  'id': 'c47594c4-9d54-42fc-b0da-42b42944eff6',\n  'label': 'Rubr. 7. IV. 3',\n  'language': '',\n  'detail': '',\n  'data': {'logicalType': '1'},\n  'props': [],\n  'notes': ['Import batch [development] 2023-01-13 19:35:45.939035',\n   'propvalue>47:M75:alternative_shelf_number:Rubr. 7. IV. 3'],\n  'status': '1',\n  'references': []},\n {'class': 'V',\n  'id': '61689812-169f-4a55-9a77-c2bd349c2d16',\n  'label': '32.7',\n  'language': '',\n  'detail': '',\n  'data': {'logicalType': '1'},\n  'props': [],\n  'notes': ['Import batch [development] 2023-01-13 19:35:45.939035',\n   'propvalue>47:M75:height_cm:32.7'],\n  'status': '1',\n  'references': []},\n {'class': 'V',\n  'id': 'a3345bea-eda8-40a0-97bf-d9456283a29b',\n  'label': '18.4',\n  'language': '',\n  'detail': '',\n  'data': {'logicalType': '1'},\n  'props': [],\n  'notes': ['Import batch [development] 2023-01-13 19:35:45.939035',\n   'propvalue>47:M75:width_cm:18.4'],\n  'status': '1',\n  'references': []},\n {'class': 'V',\n  'id': '3715d1d5-639c-4387-b3ad-36b132f4038b',\n  'label': '1',\n  'language': '',\n  'detail': '',\n  'data': {'logicalType': '1'},\n  'props': [],\n  'notes': ['Import batch [development] 2023-01-13 19:35:45.939035',\n   'propvalue>47:M75:folios_total:1'],\n  'status': '1',\n  'references': []},\n {'class': 'E',\n  'id': '096c4c5a-f8c0-4884-ae11-f81bc82119a4',\n  'label': 'Creation of Heiligenkreuz, Heiligenkreuz Abbey, Fragment II',\n  'language': '',\n  'detail': '',\n  'data': {'logicalType': '1'},\n  'props': [],\n  'notes': ['Import batch [development] 2023-01-13 19:35:45.939035',\n   'special>:creation_event_id E0048_M75'],\n  'status': '1',\n  'references': [],\n  'legacyId': 'E0048_M75'},\n {'class': 'V',\n  'id': 'c8121fd3-95fa-4e81-a931-015df61e996d',\n  'label': '1335',\n  'language': '',\n  'detail': '',\n  'data': {'logicalType': '1'},\n  'props': [],\n  'notes': ['Import batch [development] 2023-01-13 19:35:45.939035',\n   'special>:creation_event_id E0048_M75LegacyId: M75'],\n  'status': '1',\n  'references': []},\n {'class': 'V',\n  'id': 'a73abfaa-b3c0-4c77-83b5-b32be0a83acb',\n  'label': '1335',\n  'language': '',\n  'detail': '',\n  'data': {'logicalType': '1'},\n  'props': [],\n  'notes': ['Import batch [development] 2023-01-13 19:35:45.939035',\n   'special>:creation_event_id E0048_M75LegacyId: M75'],\n  'status': '1',\n  'references': []},\n {'class': 'V',\n  'id': '96195bde-f3c3-4d6d-a199-99a906062c24',\n  'label': '1353',\n  'language': '',\n  'detail': '',\n  'data': {'logicalType': '1'},\n  'props': [],\n  'notes': ['Import batch [development] 2023-01-13 19:35:45.939035',\n   'special>:creation_event_id E0048_M75LegacyId: M75'],\n  'status': '1',\n  'references': []},\n {'class': 'V',\n  'id': '6081c843-30b2-48ff-958e-875f44a6d529',\n  'label': '1355',\n  'language': '',\n  'detail': '',\n  'data': {'logicalType': '1'},\n  'props': [],\n  'notes': ['Import batch [development] 2023-01-13 19:35:45.939035',\n   'special>:creation_event_id E0048_M75LegacyId: M75'],\n  'status': '1',\n  'references': []},\n {'class': 'V',\n  'id': '75139757-ef2a-4a25-be4b-e6fa638ced38',\n  'label': 'Fragment III',\n  'language': '',\n  'detail': '',\n  'data': {'logicalType': '1'},\n  'props': [],\n  'notes': ['Import batch [development] 2023-01-13 19:35:45.939035',\n   'propvalue>48:M76:subcollection_and_shelf_number_concatenated:Fragment III'],\n  'status': '1',\n  'references': []},\n {'class': 'V',\n  'id': '5363d2a0-fda8-418b-8fe4-3c39f0b11dc1',\n  'label': 'Rubr. 7. IV. 3',\n  'language': '',\n  'detail': '',\n  'data': {'logicalType': '1'},\n  'props': [],\n  'notes': ['Import batch [development] 2023-01-13 19:35:45.939035',\n   'propvalue>48:M76:alternative_shelf_number:Rubr. 7. IV. 3'],\n  'status': '1',\n  'references': []},\n {'class': 'V',\n  'id': '2f5fe3fb-dbc0-4663-aab9-1051960551b5',\n  'label': '32.7',\n  'language': '',\n  'detail': '',\n  'data': {'logicalType': '1'},\n  'props': [],\n  'notes': ['Import batch [development] 2023-01-13 19:35:45.939035',\n   'propvalue>48:M76:height_cm:32.7'],\n  'status': '1',\n  'references': []},\n {'class': 'V',\n  'id': '07e9fb62-e269-4dbe-9080-9e9d3584156c',\n  'label': '20.1',\n  'language': '',\n  'detail': '',\n  'data': {'logicalType': '1'},\n  'props': [],\n  'notes': ['Import batch [development] 2023-01-13 19:35:45.939035',\n   'propvalue>48:M76:width_cm:20.1'],\n  'status': '1',\n  'references': []},\n {'class': 'V',\n  'id': '213969f0-c1de-4bff-9135-a27940dcd29b',\n  'label': '1',\n  'language': '',\n  'detail': '',\n  'data': {'logicalType': '1'},\n  'props': [],\n  'notes': ['Import batch [development] 2023-01-13 19:35:45.939035',\n   'propvalue>48:M76:folios_total:1'],\n  'status': '1',\n  'references': []},\n {'class': 'E',\n  'id': 'bc6ea1ef-5fd4-44ea-b0dc-1e7d6e09cd18',\n  'label': 'Creation of Heiligenkreuz, Heiligenkreuz Abbey, Fragment III',\n  'language': '',\n  'detail': '',\n  'data': {'logicalType': '1'},\n  'props': [],\n  'notes': ['Import batch [development] 2023-01-13 19:35:45.939035',\n   'special>:creation_event_id E0049_M76'],\n  'status': '1',\n  'references': [],\n  'legacyId': 'E0049_M76'},\n {'class': 'V',\n  'id': '8f4f8551-379a-4c69-bd64-665bfeb223cc',\n  'label': '1335',\n  'language': '',\n  'detail': '',\n  'data': {'logicalType': '1'},\n  'props': [],\n  'notes': ['Import batch [development] 2023-01-13 19:35:45.939035',\n   'special>:creation_event_id E0049_M76LegacyId: M76'],\n  'status': '1',\n  'references': []},\n {'class': 'V',\n  'id': '04840b1b-c983-40fc-bb50-42822d2375a7',\n  'label': '1335',\n  'language': '',\n  'detail': '',\n  'data': {'logicalType': '1'},\n  'props': [],\n  'notes': ['Import batch [development] 2023-01-13 19:35:45.939035',\n   'special>:creation_event_id E0049_M76LegacyId: M76'],\n  'status': '1',\n  'references': []},\n {'class': 'V',\n  'id': 'a8e125a9-19c8-455c-96a4-5f2126b24995',\n  'label': '1353',\n  'language': '',\n  'detail': '',\n  'data': {'logicalType': '1'},\n  'props': [],\n  'notes': ['Import batch [development] 2023-01-13 19:35:45.939035',\n   'special>:creation_event_id E0049_M76LegacyId: M76'],\n  'status': '1',\n  'references': []},\n {'class': 'V',\n  'id': '2c4e50e9-9783-4ef6-a78d-f0f5af9e7d05',\n  'label': '1355',\n  'language': '',\n  'detail': '',\n  'data': {'logicalType': '1'},\n  'props': [],\n  'notes': ['Import batch [development] 2023-01-13 19:35:45.939035',\n   'special>:creation_event_id E0049_M76LegacyId: M76'],\n  'status': '1',\n  'references': []},\n {'class': 'V',\n  'id': 'f38b3e67-63d0-4652-bcb2-78e217efc09f',\n  'label': 'Fragment IV',\n  'language': '',\n  'detail': '',\n  'data': {'logicalType': '1'},\n  'props': [],\n  'notes': ['Import batch [development] 2023-01-13 19:35:45.939035',\n   'propvalue>49:M77:subcollection_and_shelf_number_concatenated:Fragment IV'],\n  'status': '1',\n  'references': []},\n {'class': 'V',\n  'id': 'cd0b59b1-3182-4759-a2c0-18c6de41f39a',\n  'label': 'Rubr. 7. IV. 3',\n  'language': '',\n  'detail': '',\n  'data': {'logicalType': '1'},\n  'props': [],\n  'notes': ['Import batch [development] 2023-01-13 19:35:45.939035',\n   'propvalue>49:M77:alternative_shelf_number:Rubr. 7. IV. 3'],\n  'status': '1',\n  'references': []},\n {'class': 'V',\n  'id': 'b9c2dd17-4dbc-4878-8527-b1030d0acb55',\n  'label': '32.7',\n  'language': '',\n  'detail': '',\n  'data': {'logicalType': '1'},\n  'props': [],\n  'notes': ['Import batch [development] 2023-01-13 19:35:45.939035',\n   'propvalue>49:M77:height_cm:32.7'],\n  'status': '1',\n  'references': []},\n {'class': 'V',\n  'id': 'b53c4b97-27b0-43f2-a7d3-022e48abb1a4',\n  'label': '24',\n  'language': '',\n  'detail': '',\n  'data': {'logicalType': '1'},\n  'props': [],\n  'notes': ['Import batch [development] 2023-01-13 19:35:45.939035',\n   'propvalue>49:M77:width_cm:24'],\n  'status': '1',\n  'references': []},\n {'class': 'V',\n  'id': '00f3c82d-fb76-4b0d-8c68-cbdb1346b33f',\n  'label': '1',\n  'language': '',\n  'detail': '',\n  'data': {'logicalType': '1'},\n  'props': [],\n  'notes': ['Import batch [development] 2023-01-13 19:35:45.939035',\n   'propvalue>49:M77:folios_total:1'],\n  'status': '1',\n  'references': []},\n {'class': 'E',\n  'id': '1530705c-612f-435a-877e-c53406df868d',\n  'label': 'Creation of Heiligenkreuz, Heiligenkreuz Abbey, Fragment IV',\n  'language': '',\n  'detail': '',\n  'data': {'logicalType': '1'},\n  'props': [],\n  'notes': ['Import batch [development] 2023-01-13 19:35:45.939035',\n   'special>:creation_event_id E0050_M77'],\n  'status': '1',\n  'references': [],\n  'legacyId': 'E0050_M77'},\n {'class': 'V',\n  'id': '2f8bb72c-ec30-4eb9-8833-9cc1b4883142',\n  'label': '1335',\n  'language': '',\n  'detail': '',\n  'data': {'logicalType': '1'},\n  'props': [],\n  'notes': ['Import batch [development] 2023-01-13 19:35:45.939035',\n   'special>:creation_event_id E0050_M77LegacyId: M77'],\n  'status': '1',\n  'references': []},\n {'class': 'V',\n  'id': '3cecbb4f-0339-4b51-8c76-e7212f1c80fd',\n  'label': '1335',\n  'language': '',\n  'detail': '',\n  'data': {'logicalType': '1'},\n  'props': [],\n  'notes': ['Import batch [development] 2023-01-13 19:35:45.939035',\n   'special>:creation_event_id E0050_M77LegacyId: M77'],\n  'status': '1',\n  'references': []},\n {'class': 'V',\n  'id': '0fff4b43-632d-4c6c-b868-e298b42909aa',\n  'label': '1353',\n  'language': '',\n  'detail': '',\n  'data': {'logicalType': '1'},\n  'props': [],\n  'notes': ['Import batch [development] 2023-01-13 19:35:45.939035',\n   'special>:creation_event_id E0050_M77LegacyId: M77'],\n  'status': '1',\n  'references': []},\n {'class': 'V',\n  'id': 'dcc85887-cc69-41bf-bb60-a887bba5c120',\n  'label': '1355',\n  'language': '',\n  'detail': '',\n  'data': {'logicalType': '1'},\n  'props': [],\n  'notes': ['Import batch [development] 2023-01-13 19:35:45.939035',\n   'special>:creation_event_id E0050_M77LegacyId: M77'],\n  'status': '1',\n  'references': []},\n {'class': 'V',\n  'id': '32a50e18-516b-421b-86b0-df182bdaa999',\n  'label': 'ms. lat. 4269',\n  'language': '',\n  'detail': '',\n  'data': {'logicalType': '1'},\n  'props': [],\n  'notes': ['Import batch [development] 2023-01-13 19:35:45.939035',\n   'propvalue>50:M1:subcollection_and_shelf_number_concatenated:ms. lat. 4269'],\n  'status': '1',\n  'references': []},\n {'class': 'V',\n  'id': '4f03a1bc-0631-4ecd-b55d-44bf970966a1',\n  'label': '34',\n  'language': '',\n  'detail': '',\n  'data': {'logicalType': '1'},\n  'props': [],\n  'notes': ['Import batch [development] 2023-01-13 19:35:45.939035',\n   'propvalue>50:M1:height_cm:34'],\n  'status': '1',\n  'references': []},\n {'class': 'V',\n  'id': '5c942799-e863-4dc7-b530-d6a10a0f6a2f',\n  'label': '25.5',\n  'language': '',\n  'detail': '',\n  'data': {'logicalType': '1'},\n  'props': [],\n  'notes': ['Import batch [development] 2023-01-13 19:35:45.939035',\n   'propvalue>50:M1:width_cm:25.5'],\n  'status': '1',\n  'references': []},\n {'class': 'V',\n  'id': 'e9001b8f-7567-4b14-915a-726d710eaf97',\n  'label': '66',\n  'language': '',\n  'detail': '',\n  'data': {'logicalType': '1'},\n  'props': [],\n  'notes': ['Import batch [development] 2023-01-13 19:35:45.939035',\n   'propvalue>50:M1:folios_total:66'],\n  'status': '1',\n  'references': []},\n {'class': 'E',\n  'id': '597bafed-cea8-4707-9ae6-c166d5c34473',\n  'label': 'Creation of Paris, Bibliothèque nationale de France, ms. lat. 4269',\n  'language': '',\n  'detail': '',\n  'data': {'logicalType': '1'},\n  'props': [],\n  'notes': ['Import batch [development] 2023-01-13 19:35:45.939035',\n   'special>:creation_event_id E0051_M1'],\n  'status': '1',\n  'references': [],\n  'legacyId': 'E0051_M1'},\n {'class': 'V',\n  'id': '3e97fcb8-95b2-4b6f-a7dc-fab676b0d92b',\n  'label': '1308',\n  'language': '',\n  'detail': '',\n  'data': {'logicalType': '1'},\n  'props': [],\n  'notes': ['Import batch [development] 2023-01-13 19:35:45.939035',\n   'special>:creation_event_id E0051_M1LegacyId: M1'],\n  'status': '1',\n  'references': []},\n {'class': 'V',\n  'id': '32c52bd8-48c9-4f70-a11b-403256db1b38',\n  'label': '1309',\n  'language': '',\n  'detail': '',\n  'data': {'logicalType': '1'},\n  'props': [],\n  'notes': ['Import batch [development] 2023-01-13 19:35:45.939035',\n   'special>:creation_event_id E0051_M1LegacyId: M1'],\n  'status': '1',\n  'references': []},\n {'class': 'R',\n  'id': 'b65d7dbe-a83c-4730-92d7-268c805d5187',\n  'label': 'Reproduction of Paris, Bibliothèque nationale de France, ms. lat. 4269',\n  'language': '',\n  'detail': '',\n  'data': {'url': 'https://gallica.bnf.fr/ark:/12148/btv1b53157002b/f1.image',\n   'partValueBaseURL': '',\n   'partValueLabel': ''},\n  'props': [],\n  'notes': ['Import batch [development] 2023-01-13 19:35:45.939035'],\n  'status': '1',\n  'references': []},\n {'class': 'L',\n  'id': 'eebd971c-c921-439b-a11c-317833773152',\n  'label': 'Lincoln, Lincolnshire Archives',\n  'language': '',\n  'detail': '',\n  'data': {'logicalType': '1'},\n  'props': [],\n  'notes': ['Import batch [development] 2023-01-13 19:35:45.939035',\n   \"Making location 'Lincoln, Lincolnshire Archives' from M55 by field repository_label.\"],\n  'status': '1',\n  'references': [],\n  'legacyId': 'L_from_M55'},\n {'class': 'V',\n  'id': '679b19c5-fdae-41a6-aa8b-4a82bfbcb2f0',\n  'label': 'Episcopal Register 13',\n  'language': '',\n  'detail': '',\n  'data': {'logicalType': '1'},\n  'props': [],\n  'notes': ['Import batch [development] 2023-01-13 19:35:45.939035',\n   'propvalue>51:M55:subcollection_and_shelf_number_concatenated:Episcopal Register 13'],\n  'status': '1',\n  'references': []},\n {'class': 'E',\n  'id': '64547240-3fbb-4b08-9f09-0102a0131ebb',\n  'label': 'Creation of Lincoln, Lincolnshire Archives, Episcopal Register 13',\n  'language': '',\n  'detail': '',\n  'data': {'logicalType': '1'},\n  'props': [],\n  'notes': ['Import batch [development] 2023-01-13 19:35:45.939035',\n   'special>:creation_event_id E0052_M55'],\n  'status': '1',\n  'references': [],\n  'legacyId': 'E0052_M55'},\n {'class': 'V',\n  'id': 'a6562bfb-1937-4087-a6c7-177f04a76550',\n  'label': '1398',\n  'language': '',\n  'detail': '',\n  'data': {'logicalType': '1'},\n  'props': [],\n  'notes': ['Import batch [development] 2023-01-13 19:35:45.939035',\n   'special>:creation_event_id E0052_M55LegacyId: M55'],\n  'status': '1',\n  'references': []},\n {'class': 'V',\n  'id': '4498b180-ef0c-4785-a557-6ef21e33d09e',\n  'label': '1398',\n  'language': '',\n  'detail': '',\n  'data': {'logicalType': '1'},\n  'props': [],\n  'notes': ['Import batch [development] 2023-01-13 19:35:45.939035',\n   'special>:creation_event_id E0052_M55LegacyId: M55'],\n  'status': '1',\n  'references': []},\n {'class': 'V',\n  'id': '80aedfb5-23bc-4ecf-a146-8e8ac0702082',\n  'label': '1404',\n  'language': '',\n  'detail': '',\n  'data': {'logicalType': '1'},\n  'props': [],\n  'notes': ['Import batch [development] 2023-01-13 19:35:45.939035',\n   'special>:creation_event_id E0052_M55LegacyId: M55'],\n  'status': '1',\n  'references': []},\n {'class': 'V',\n  'id': '2f08ecce-db3a-48e5-b6d9-ca13421a3aed',\n  'label': '1404',\n  'language': '',\n  'detail': '',\n  'data': {'logicalType': '1'},\n  'props': [],\n  'notes': ['Import batch [development] 2023-01-13 19:35:45.939035',\n   'special>:creation_event_id E0052_M55LegacyId: M55'],\n  'status': '1',\n  'references': []},\n {'class': 'L',\n  'id': 'e81358f0-4473-404e-befb-c1c4fcb46a49',\n  'label': 'Winchester, Hampshire Record Office',\n  'language': '',\n  'detail': '',\n  'data': {'logicalType': '1'},\n  'props': [],\n  'notes': ['Import batch [development] 2023-01-13 19:35:45.939035',\n   \"Making location 'Winchester, Hampshire Record Office' from M59 by field repository_label.\"],\n  'status': '1',\n  'references': [],\n  'legacyId': 'L_from_M59'},\n {'class': 'V',\n  'id': 'ba9b4882-394d-47ab-9bca-24733b359b53',\n  'label': '21M65/A1/12',\n  'language': '',\n  'detail': '',\n  'data': {'logicalType': '1'},\n  'props': [],\n  'notes': ['Import batch [development] 2023-01-13 19:35:45.939035',\n   'propvalue>52:M59:subcollection_and_shelf_number_concatenated:21M65/A1/12'],\n  'status': '1',\n  'references': []},\n {'class': 'E',\n  'id': '5d05efa9-3f8f-4cfb-839a-9d94100fd8ae',\n  'label': 'Creation of Winchester, Hampshire Record Office, 21M65/A1/12',\n  'language': '',\n  'detail': '',\n  'data': {'logicalType': '1'},\n  'props': [],\n  'notes': ['Import batch [development] 2023-01-13 19:35:45.939035',\n   'special>:creation_event_id E0053_M59'],\n  'status': '1',\n  'references': [],\n  'legacyId': 'E0053_M59'},\n {'class': 'V',\n  'id': '3cbc8138-301b-4a36-b148-8b58d3e530cf',\n  'label': '1405',\n  'language': '',\n  'detail': '',\n  'data': {'logicalType': '1'},\n  'props': [],\n  'notes': ['Import batch [development] 2023-01-13 19:35:45.939035',\n   'special>:creation_event_id E0053_M59LegacyId: M59'],\n  'status': '1',\n  'references': []},\n {'class': 'V',\n  'id': '8b08ee8f-e918-43bd-b922-5d7cffb67b52',\n  'label': '1405',\n  'language': '',\n  'detail': '',\n  'data': {'logicalType': '1'},\n  'props': [],\n  'notes': ['Import batch [development] 2023-01-13 19:35:45.939035',\n   'special>:creation_event_id E0053_M59LegacyId: M59'],\n  'status': '1',\n  'references': []},\n {'class': 'V',\n  'id': 'dacdb281-aa1b-49f6-ba74-d9dd2dc4a80f',\n  'label': '1425',\n  'language': '',\n  'detail': '',\n  'data': {'logicalType': '1'},\n  'props': [],\n  'notes': ['Import batch [development] 2023-01-13 19:35:45.939035',\n   'special>:creation_event_id E0053_M59LegacyId: M59'],\n  'status': '1',\n  'references': []},\n {'class': 'V',\n  'id': 'a7558cb6-ded4-484d-9e71-d31372cc30c7',\n  'label': '1447',\n  'language': '',\n  'detail': '',\n  'data': {'logicalType': '1'},\n  'props': [],\n  'notes': ['Import batch [development] 2023-01-13 19:35:45.939035',\n   'special>:creation_event_id E0053_M59LegacyId: M59'],\n  'status': '1',\n  'references': []},\n {'class': 'L',\n  'id': '738dd393-2d4a-4169-8e63-fef4b49099cd',\n  'label': 'Vaticano, Biblioteca Apostolica Vaticana',\n  'language': '',\n  'detail': '',\n  'data': {'logicalType': '1'},\n  'props': [],\n  'notes': ['Import batch [development] 2023-01-13 19:35:45.939035',\n   \"Making location 'Vaticano, Biblioteca Apostolica Vaticana' from M3 by field repository_label.\"],\n  'status': '1',\n  'references': [],\n  'legacyId': 'L_from_M3'},\n {'class': 'V',\n  'id': 'e9d825ec-8ff6-41dd-a626-c58b4249f83e',\n  'label': 'Vat. Lat. 4030',\n  'language': '',\n  'detail': '',\n  'data': {'logicalType': '1'},\n  'props': [],\n  'notes': ['Import batch [development] 2023-01-13 19:35:45.939035',\n   'propvalue>53:M3:subcollection_and_shelf_number_concatenated:Vat. Lat. 4030'],\n  'status': '1',\n  'references': []},\n {'class': 'V',\n  'id': '0417710b-fbca-40d6-85ab-f7e3bd5d2e72',\n  'label': '37.5',\n  'language': '',\n  'detail': '',\n  'data': {'logicalType': '1'},\n  'props': [],\n  'notes': ['Import batch [development] 2023-01-13 19:35:45.939035',\n   'propvalue>53:M3:height_cm:37.5'],\n  'status': '1',\n  'references': []},\n {'class': 'V',\n  'id': 'bc455c18-84c6-4f18-bd15-e6c1092afac1',\n  'label': '26',\n  'language': '',\n  'detail': '',\n  'data': {'logicalType': '1'},\n  'props': [],\n  'notes': ['Import batch [development] 2023-01-13 19:35:45.939035',\n   'propvalue>53:M3:width_cm:26'],\n  'status': '1',\n  'references': []},\n {'class': 'V',\n  'id': 'a02e56d4-9fce-4a0a-8d50-4f47b5d6a885',\n  'label': '325',\n  'language': '',\n  'detail': '',\n  'data': {'logicalType': '1'},\n  'props': [],\n  'notes': ['Import batch [development] 2023-01-13 19:35:45.939035',\n   'propvalue>53:M3:folios_total:325'],\n  'status': '1',\n  'references': []},\n {'class': 'E',\n  'id': '30a9c70c-13f4-4439-8f0c-5fca5cd82fdc',\n  'label': 'Creation of Vaticano, Biblioteca Apostolica Vaticana, Vat. Lat. 4030',\n  'language': '',\n  'detail': '',\n  'data': {'logicalType': '1'},\n  'props': [],\n  'notes': ['Import batch [development] 2023-01-13 19:35:45.939035',\n   'special>:creation_event_id E0054_M3'],\n  'status': '1',\n  'references': [],\n  'legacyId': 'E0054_M3'},\n {'class': 'V',\n  'id': '5f074123-a41d-4fc8-a0eb-97fdac5a9201',\n  'label': '1325',\n  'language': '',\n  'detail': '',\n  'data': {'logicalType': '1'},\n  'props': [],\n  'notes': ['Import batch [development] 2023-01-13 19:35:45.939035',\n   'special>:creation_event_id E0054_M3LegacyId: M3'],\n  'status': '1',\n  'references': []},\n {'class': 'V',\n  'id': '6f26643a-5967-41b5-ab04-41f2d0238346',\n  'label': '1325',\n  'language': '',\n  'detail': '',\n  'data': {'logicalType': '1'},\n  'props': [],\n  'notes': ['Import batch [development] 2023-01-13 19:35:45.939035',\n   'special>:creation_event_id E0054_M3LegacyId: M3'],\n  'status': '1',\n  'references': []},\n {'class': 'V',\n  'id': 'e102c069-bcf2-4134-95cb-7236c9396686',\n  'label': '1326',\n  'language': '',\n  'detail': '',\n  'data': {'logicalType': '1'},\n  'props': [],\n  'notes': ['Import batch [development] 2023-01-13 19:35:45.939035',\n   'special>:creation_event_id E0054_M3LegacyId: M3'],\n  'status': '1',\n  'references': []},\n {'class': 'R',\n  'id': 'bc56599c-b4c0-4517-a40e-dbd7ca91d037',\n  'label': 'Reproduction of Vaticano, Biblioteca Apostolica Vaticana, Vat. Lat. 4030',\n  'language': '',\n  'detail': '',\n  'data': {'url': 'https://digi.vatlib.it/mss/detail/Vat.lat.4030',\n   'partValueBaseURL': '',\n   'partValueLabel': ''},\n  'props': [],\n  'notes': ['Import batch [development] 2023-01-13 19:35:45.939035'],\n  'status': '1',\n  'references': []},\n {'class': 'V',\n  'id': '36630fc9-2fd1-427c-8bd9-8dd2fc5b6832',\n  'label': 'Episcopal Register 12',\n  'language': '',\n  'detail': '',\n  'data': {'logicalType': '1'},\n  'props': [],\n  'notes': ['Import batch [development] 2023-01-13 19:35:45.939035',\n   'propvalue>54:M42:subcollection_and_shelf_number_concatenated:Episcopal Register 12'],\n  'status': '1',\n  'references': []},\n {'class': 'E',\n  'id': '475d9c28-15da-4c78-bb63-5cbb7382c453',\n  'label': 'Creation of Lincoln, Lincolnshire Archives, Episcopal Register 12',\n  'language': '',\n  'detail': '',\n  'data': {'logicalType': '1'},\n  'props': [],\n  'notes': ['Import batch [development] 2023-01-13 19:35:45.939035',\n   'special>:creation_event_id E0055_M42'],\n  'status': '1',\n  'references': [],\n  'legacyId': 'E0055_M42'},\n {'class': 'V',\n  'id': '98f95512-786a-4e41-9a63-419a958540b6',\n  'label': '1363',\n  'language': '',\n  'detail': '',\n  'data': {'logicalType': '1'},\n  'props': [],\n  'notes': ['Import batch [development] 2023-01-13 19:35:45.939035',\n   'special>:creation_event_id E0055_M42LegacyId: M42'],\n  'status': '1',\n  'references': []},\n {'class': 'V',\n  'id': '61fd339c-aeba-487c-b42f-aad6c23f0560',\n  'label': '1363',\n  'language': '',\n  'detail': '',\n  'data': {'logicalType': '1'},\n  'props': [],\n  'notes': ['Import batch [development] 2023-01-13 19:35:45.939035',\n   'special>:creation_event_id E0055_M42LegacyId: M42'],\n  'status': '1',\n  'references': []},\n {'class': 'V',\n  'id': '962d5536-1b15-4a69-bafa-9fdf49ad9d96',\n  'label': '1398',\n  'language': '',\n  'detail': '',\n  'data': {'logicalType': '1'},\n  'props': [],\n  'notes': ['Import batch [development] 2023-01-13 19:35:45.939035',\n   'special>:creation_event_id E0055_M42LegacyId: M42'],\n  'status': '1',\n  'references': []},\n {'class': 'V',\n  'id': '96c32d73-e004-456a-a176-ccba58ab71ff',\n  'label': '1398',\n  'language': '',\n  'detail': '',\n  'data': {'logicalType': '1'},\n  'props': [],\n  'notes': ['Import batch [development] 2023-01-13 19:35:45.939035',\n   'special>:creation_event_id E0055_M42LegacyId: M42'],\n  'status': '1',\n  'references': []},\n {'class': 'L',\n  'id': '79ab18c1-fb7e-4812-9e67-e1895c08abbf',\n  'label': 'Trowbridge, Wiltshire and Swindon Record Office',\n  'language': '',\n  'detail': '',\n  'data': {'logicalType': '1'},\n  'props': [],\n  'notes': ['Import batch [development] 2023-01-13 19:35:45.939035',\n   \"Making location 'Trowbridge, Wiltshire and Swindon Record Office' from M62 by field repository_label.\"],\n  'status': '1',\n  'references': [],\n  'legacyId': 'L_from_M62'},\n {'class': 'V',\n  'id': '711adf2d-82b7-4cda-b9c2-04400cfee5bf',\n  'label': 'MS D1/2/8',\n  'language': '',\n  'detail': '',\n  'data': {'logicalType': '1'},\n  'props': [],\n  'notes': ['Import batch [development] 2023-01-13 19:35:45.939035',\n   'propvalue>55:M62:subcollection_and_shelf_number_concatenated:MS D1/2/8'],\n  'status': '1',\n  'references': []},\n {'class': 'V',\n  'id': '1bbf5532-35f7-4562-9aa7-47a1fcbe7784',\n  'label': '80',\n  'language': '',\n  'detail': '',\n  'data': {'logicalType': '1'},\n  'props': [],\n  'notes': ['Import batch [development] 2023-01-13 19:35:45.939035',\n   'propvalue>55:M62:folios_total:80'],\n  'status': '1',\n  'references': []},\n {'class': 'E',\n  'id': 'cead6b71-ec02-4f28-a120-de84972ab41f',\n  'label': 'Creation of Trowbridge, Wiltshire and Swindon Record Office, MS D1/2/8',\n  'language': '',\n  'detail': '',\n  'data': {'logicalType': '1'},\n  'props': [],\n  'notes': ['Import batch [development] 2023-01-13 19:35:45.939035',\n   'special>:creation_event_id E0056_M62'],\n  'status': '1',\n  'references': [],\n  'legacyId': 'E0056_M62'},\n {'class': 'V',\n  'id': 'd1ddbcb9-a68e-48a5-baed-581bb731a5d0',\n  'label': '1417',\n  'language': '',\n  'detail': '',\n  'data': {'logicalType': '1'},\n  'props': [],\n  'notes': ['Import batch [development] 2023-01-13 19:35:45.939035',\n   'special>:creation_event_id E0056_M62LegacyId: M62'],\n  'status': '1',\n  'references': []},\n {'class': 'V',\n  'id': '5aa54425-20c6-43a4-b4fd-d8f61a85c73b',\n  'label': '1417',\n  'language': '',\n  'detail': '',\n  'data': {'logicalType': '1'},\n  'props': [],\n  'notes': ['Import batch [development] 2023-01-13 19:35:45.939035',\n   'special>:creation_event_id E0056_M62LegacyId: M62'],\n  'status': '1',\n  'references': []},\n {'class': 'V',\n  'id': 'e2e7441f-ac28-4bfd-bbba-a2e2107b7f07',\n  'label': '1426',\n  'language': '',\n  'detail': '',\n  'data': {'logicalType': '1'},\n  'props': [],\n  'notes': ['Import batch [development] 2023-01-13 19:35:45.939035',\n   'special>:creation_event_id E0056_M62LegacyId: M62'],\n  'status': '1',\n  'references': []},\n {'class': 'V',\n  'id': '556b4ff5-d461-4438-8dfd-9d7bd16c81ab',\n  'label': '1426',\n  'language': '',\n  'detail': '',\n  'data': {'logicalType': '1'},\n  'props': [],\n  'notes': ['Import batch [development] 2023-01-13 19:35:45.939035',\n   'special>:creation_event_id E0056_M62LegacyId: M62'],\n  'status': '1',\n  'references': []},\n {'class': 'L',\n  'id': '3522399a-3ece-4504-8dd9-1b6ab08cbfb4',\n  'label': 'Maidstone, Kent History and Library Centre',\n  'language': '',\n  'detail': '',\n  'data': {'logicalType': '1'},\n  'props': [],\n  'notes': ['Import batch [development] 2023-01-13 19:35:45.939035',\n   \"Making location 'Maidstone, Kent History and Library Centre' from M56 by field repository_label.\"],\n  'status': '1',\n  'references': [],\n  'legacyId': 'L_from_M56'},\n {'class': 'V',\n  'id': 'ee461c91-dcd5-44cd-b1f7-7480f9185639',\n  'label': 'DRb/Ar/1/6',\n  'language': '',\n  'detail': '',\n  'data': {'logicalType': '1'},\n  'props': [],\n  'notes': ['Import batch [development] 2023-01-13 19:35:45.939035',\n   'propvalue>56:M56:subcollection_and_shelf_number_concatenated:DRb/Ar/1/6'],\n  'status': '1',\n  'references': []},\n {'class': 'V',\n  'id': '22d84dfa-c842-4a49-8afe-05b4ccfe63ec',\n  'label': '52',\n  'language': '',\n  'detail': '',\n  'data': {'logicalType': '1'},\n  'props': [],\n  'notes': ['Import batch [development] 2023-01-13 19:35:45.939035',\n   'propvalue>56:M56:folios_total:52'],\n  'status': '1',\n  'references': []},\n {'class': 'E',\n  'id': '260d8b48-f99f-4299-a5cf-8d002a28f02e',\n  'label': 'Creation of Maidstone, Kent History and Library Centre, DRb/Ar/1/6',\n  'language': '',\n  'detail': '',\n  'data': {'logicalType': '1'},\n  'props': [],\n  'notes': ['Import batch [development] 2023-01-13 19:35:45.939035',\n   'special>:creation_event_id E0057_M56'],\n  'status': '1',\n  'references': [],\n  'legacyId': 'E0057_M56'},\n {'class': 'V',\n  'id': '05ae78c4-fe71-4b54-b78b-83d75748c308',\n  'label': '1400',\n  'language': '',\n  'detail': '',\n  'data': {'logicalType': '1'},\n  'props': [],\n  'notes': ['Import batch [development] 2023-01-13 19:35:45.939035',\n   'special>:creation_event_id E0057_M56LegacyId: M56'],\n  'status': '1',\n  'references': []},\n {'class': 'V',\n  'id': '5e1894bf-cde6-4ee4-bc19-4b81544c40b8',\n  'label': '1400',\n  'language': '',\n  'detail': '',\n  'data': {'logicalType': '1'},\n  'props': [],\n  'notes': ['Import batch [development] 2023-01-13 19:35:45.939035',\n   'special>:creation_event_id E0057_M56LegacyId: M56'],\n  'status': '1',\n  'references': []},\n {'class': 'V',\n  'id': 'ba88f04c-1dbd-4d17-92b8-f4e8a2d2eaea',\n  'label': '1404',\n  'language': '',\n  'detail': '',\n  'data': {'logicalType': '1'},\n  'props': [],\n  'notes': ['Import batch [development] 2023-01-13 19:35:45.939035',\n   'special>:creation_event_id E0057_M56LegacyId: M56'],\n  'status': '1',\n  'references': []},\n {'class': 'V',\n  'id': '919b6f3f-95c3-4343-8634-a452c0af8be7',\n  'label': '1404',\n  'language': '',\n  'detail': '',\n  'data': {'logicalType': '1'},\n  'props': [],\n  'notes': ['Import batch [development] 2023-01-13 19:35:45.939035',\n   'special>:creation_event_id E0057_M56LegacyId: M56'],\n  'status': '1',\n  'references': []},\n {'class': 'L',\n  'id': '0ba46bf7-b55f-4bb5-b7b3-7c649ebf93ea',\n  'label': 'Cambridge, Cambridge University Library',\n  'language': '',\n  'detail': '',\n  'data': {'logicalType': '1'},\n  'props': [],\n  'notes': ['Import batch [development] 2023-01-13 19:35:45.939035',\n   \"Making location 'Cambridge, Cambridge University Library' from M48 by field repository_label.\"],\n  'status': '1',\n  'references': [],\n  'legacyId': 'L_from_M48'},\n {'class': 'V',\n  'id': 'ecaca27a-99e0-41d2-9cf2-76cf0fd92f47',\n  'label': 'Ely Diocesan Registry, MS G/1/3',\n  'language': '',\n  'detail': '',\n  'data': {'logicalType': '1'},\n  'props': [],\n  'notes': ['Import batch [development] 2023-01-13 19:35:45.939035',\n   'propvalue>57:M48:subcollection_and_shelf_number_concatenated:Ely Diocesan Registry, MS G/1/3'],\n  'status': '1',\n  'references': []},\n {'class': 'E',\n  'id': '62e01305-a466-42f6-b47b-81a12713b695',\n  'label': 'Creation of Cambridge, Cambridge University Library, Ely Diocesan Registry, MS G/1/3',\n  'language': '',\n  'detail': '',\n  'data': {'logicalType': '1'},\n  'props': [],\n  'notes': ['Import batch [development] 2023-01-13 19:35:45.939035',\n   'special>:creation_event_id E0058_M48'],\n  'status': '1',\n  'references': [],\n  'legacyId': 'E0058_M48'},\n {'class': 'V',\n  'id': 'f11050cd-ffe5-4ac4-81b3-8d194c1e57cc',\n  'label': '1388',\n  'language': '',\n  'detail': '',\n  'data': {'logicalType': '1'},\n  'props': [],\n  'notes': ['Import batch [development] 2023-01-13 19:35:45.939035',\n   'special>:creation_event_id E0058_M48LegacyId: M48'],\n  'status': '1',\n  'references': []},\n {'class': 'V',\n  'id': '86bbc2c4-8979-46a2-834d-34abe246c272',\n  'label': '1388',\n  'language': '',\n  'detail': '',\n  'data': {'logicalType': '1'},\n  'props': [],\n  'notes': ['Import batch [development] 2023-01-13 19:35:45.939035',\n   'special>:creation_event_id E0058_M48LegacyId: M48'],\n  'status': '1',\n  'references': []},\n {'class': 'V',\n  'id': 'e47e9ea8-a873-464a-80fa-81d75a7ddefd',\n  'label': '1425',\n  'language': '',\n  'detail': '',\n  'data': {'logicalType': '1'},\n  'props': [],\n  'notes': ['Import batch [development] 2023-01-13 19:35:45.939035',\n   'special>:creation_event_id E0058_M48LegacyId: M48'],\n  'status': '1',\n  'references': []},\n {'class': 'V',\n  'id': 'e91870bc-5288-4084-a1d1-29d0765168dc',\n  'label': '1425',\n  'language': '',\n  'detail': '',\n  'data': {'logicalType': '1'},\n  'props': [],\n  'notes': ['Import batch [development] 2023-01-13 19:35:45.939035',\n   'special>:creation_event_id E0058_M48LegacyId: M48'],\n  'status': '1',\n  'references': []},\n {'class': 'V',\n  'id': '8981186b-632d-4654-a70d-078cd02f6916',\n  'label': 'ms. lat. 12856',\n  'language': '',\n  'detail': '',\n  'data': {'logicalType': '1'},\n  'props': [],\n  'notes': ['Import batch [development] 2023-01-13 19:35:45.939035',\n   'propvalue>58:M14:subcollection_and_shelf_number_concatenated:ms. lat. 12856'],\n  'status': '1',\n  'references': []},\n {'class': 'E',\n  'id': 'f01cdb6c-9699-4db4-b41f-9e83f5ea5916',\n  'label': 'Creation of Paris, Bibliothèque nationale de France, ms. lat. 12856',\n  'language': '',\n  'detail': '',\n  'data': {'logicalType': '1'},\n  'props': [],\n  'notes': ['Import batch [development] 2023-01-13 19:35:45.939035',\n   'special>:creation_event_id E0059_M14'],\n  'status': '1',\n  'references': [],\n  'legacyId': 'E0059_M14'},\n {'class': 'V',\n  'id': '6b0d1d4c-34a4-48cd-ac9c-60861cb6ff57',\n  'label': '1574',\n  'language': '',\n  'detail': '',\n  'data': {'logicalType': '1'},\n  'props': [],\n  'notes': ['Import batch [development] 2023-01-13 19:35:45.939035',\n   'special>:creation_event_id E0059_M14LegacyId: M14'],\n  'status': '1',\n  'references': []},\n {'class': 'R',\n  'id': 'b097087f-0517-4c3b-8906-83c2c9b9de6c',\n  'label': 'Reproduction of Paris, Bibliothèque nationale de France, ms. lat. 12856',\n  'language': '',\n  'detail': '',\n  'data': {'url': 'https://gallica.bnf.fr/ark:/12148/btv1b90680525',\n   'partValueBaseURL': '',\n   'partValueLabel': ''},\n  'props': [],\n  'notes': ['Import batch [development] 2023-01-13 19:35:45.939035'],\n  'status': '1',\n  'references': []},\n {'class': 'V',\n  'id': '4f10a704-b049-4a41-8e92-e3353a051103',\n  'label': 'B/A/1/12',\n  'language': '',\n  'detail': '',\n  'data': {'logicalType': '1'},\n  'props': [],\n  'notes': ['Import batch [development] 2023-01-13 19:35:45.939035',\n   'propvalue>59:M39:subcollection_and_shelf_number_concatenated:B/A/1/12'],\n  'status': '1',\n  'references': []},\n {'class': 'E',\n  'id': '52c87964-962d-4d48-9e12-458235512d3f',\n  'label': 'Creation of Stafford, Staffordshire Record Office, B/A/1/12',\n  'language': '',\n  'detail': '',\n  'data': {'logicalType': '1'},\n  'props': [],\n  'notes': ['Import batch [development] 2023-01-13 19:35:45.939035',\n   'special>:creation_event_id E0060_M39'],\n  'status': '1',\n  'references': [],\n  'legacyId': 'E0060_M39'},\n {'class': 'V',\n  'id': '38ceabeb-6a06-454c-86ed-78e496b80196',\n  'label': '1486',\n  'language': '',\n  'detail': '',\n  'data': {'logicalType': '1'},\n  'props': [],\n  'notes': ['Import batch [development] 2023-01-13 19:35:45.939035',\n   'special>:creation_event_id E0060_M39LegacyId: M39'],\n  'status': '1',\n  'references': []},\n {'class': 'V',\n  'id': '2c6b3296-e50f-429a-835b-adb9cdc1e736',\n  'label': '1490',\n  'language': '',\n  'detail': '',\n  'data': {'logicalType': '1'},\n  'props': [],\n  'notes': ['Import batch [development] 2023-01-13 19:35:45.939035',\n   'special>:creation_event_id E0060_M39LegacyId: M39'],\n  'status': '1',\n  'references': []},\n {'class': 'V',\n  'id': '38fa5bc0-9de0-446d-b4a6-fdf30b458b5e',\n  'label': '1490',\n  'language': '',\n  'detail': '',\n  'data': {'logicalType': '1'},\n  'props': [],\n  'notes': ['Import batch [development] 2023-01-13 19:35:45.939035',\n   'special>:creation_event_id E0060_M39LegacyId: M39'],\n  'status': '1',\n  'references': []},\n {'class': 'V',\n  'id': '305908a1-ffef-4219-905a-1546f7a2dae1',\n  'label': 'DRb/Ar/1/8',\n  'language': '',\n  'detail': '',\n  'data': {'logicalType': '1'},\n  'props': [],\n  'notes': ['Import batch [development] 2023-01-13 19:35:45.939035',\n   'propvalue>60:M65:subcollection_and_shelf_number_concatenated:DRb/Ar/1/8'],\n  'status': '1',\n  'references': []},\n {'class': 'V',\n  'id': '611a7015-22d4-4a23-95bd-82ef21bede73',\n  'label': '98',\n  'language': '',\n  'detail': '',\n  'data': {'logicalType': '1'},\n  'props': [],\n  'notes': ['Import batch [development] 2023-01-13 19:35:45.939035',\n   'propvalue>60:M65:folios_total:98'],\n  'status': '1',\n  'references': []},\n {'class': 'E',\n  'id': 'e8bc836a-c15c-4d96-b99b-8491fa52d575',\n  'label': 'Creation of Maidstone, Kent History and Library Centre, DRb/Ar/1/8',\n  'language': '',\n  'detail': '',\n  'data': {'logicalType': '1'},\n  'props': [],\n  'notes': ['Import batch [development] 2023-01-13 19:35:45.939035',\n   'special>:creation_event_id E0061_M65'],\n  'status': '1',\n  'references': [],\n  'legacyId': 'E0061_M65'},\n {'class': 'V',\n  'id': '68b70ecf-b4df-49b0-84b9-62b227fd2a43',\n  'label': '1422',\n  'language': '',\n  'detail': '',\n  'data': {'logicalType': '1'},\n  'props': [],\n  'notes': ['Import batch [development] 2023-01-13 19:35:45.939035',\n   'special>:creation_event_id E0061_M65LegacyId: M65'],\n  'status': '1',\n  'references': []},\n {'class': 'V',\n  'id': 'f6e1ef83-7522-4158-8f6f-d0ed4aa32ef9',\n  'label': '1422',\n  'language': '',\n  'detail': '',\n  'data': {'logicalType': '1'},\n  'props': [],\n  'notes': ['Import batch [development] 2023-01-13 19:35:45.939035',\n   'special>:creation_event_id E0061_M65LegacyId: M65'],\n  'status': '1',\n  'references': []},\n {'class': 'V',\n  'id': '0f2a37c1-7fd4-4dec-b300-a3c458de2fa3',\n  'label': '1434',\n  'language': '',\n  'detail': '',\n  'data': {'logicalType': '1'},\n  'props': [],\n  'notes': ['Import batch [development] 2023-01-13 19:35:45.939035',\n   'special>:creation_event_id E0061_M65LegacyId: M65'],\n  'status': '1',\n  'references': []},\n {'class': 'V',\n  'id': '4a901996-75db-424f-8f1a-a6fc09e18fae',\n  'label': '1434',\n  'language': '',\n  'detail': '',\n  'data': {'logicalType': '1'},\n  'props': [],\n  'notes': ['Import batch [development] 2023-01-13 19:35:45.939035',\n   'special>:creation_event_id E0061_M65LegacyId: M65'],\n  'status': '1',\n  'references': []},\n {'class': 'L',\n  'id': '0f3ecce3-66fa-4dc1-b41e-b193e45db708',\n  'label': 'Norwich, Norfolk Record Office',\n  'language': '',\n  'detail': '',\n  'data': {'logicalType': '1'},\n  'props': [],\n  'notes': ['Import batch [development] 2023-01-13 19:35:45.939035',\n   \"Making location 'Norwich, Norfolk Record Office' from M61 by field repository_label.\"],\n  'status': '1',\n  'references': [],\n  'legacyId': 'L_from_M61'},\n {'class': 'V',\n  'id': '0666d482-f4a8-4f1a-b18e-e51906318139',\n  'label': 'DN Reg/4/8',\n  'language': '',\n  'detail': '',\n  'data': {'logicalType': '1'},\n  'props': [],\n  'notes': ['Import batch [development] 2023-01-13 19:35:45.939035',\n   'propvalue>61:M61:subcollection_and_shelf_number_concatenated:DN Reg/4/8'],\n  'status': '1',\n  'references': []},\n {'class': 'E',\n  'id': '273d6bd4-02b8-47f9-91f6-d44646ba0c95',\n  'label': 'Creation of Norwich, Norfolk Record Office, DN Reg/4/8',\n  'language': '',\n  'detail': '',\n  'data': {'logicalType': '1'},\n  'props': [],\n  'notes': ['Import batch [development] 2023-01-13 19:35:45.939035',\n   'special>:creation_event_id E0062_M61'],\n  'status': '1',\n  'references': [],\n  'legacyId': 'E0062_M61'},\n {'class': 'V',\n  'id': 'b9ecd9f5-e230-41eb-bc2f-20ff52af3491',\n  'label': '1416',\n  'language': '',\n  'detail': '',\n  'data': {'logicalType': '1'},\n  'props': [],\n  'notes': ['Import batch [development] 2023-01-13 19:35:45.939035',\n   'special>:creation_event_id E0062_M61LegacyId: M61'],\n  'status': '1',\n  'references': []},\n {'class': 'V',\n  'id': '283fba65-9e15-4435-86b7-f78985bfbff2',\n  'label': '1416',\n  'language': '',\n  'detail': '',\n  'data': {'logicalType': '1'},\n  'props': [],\n  'notes': ['Import batch [development] 2023-01-13 19:35:45.939035',\n   'special>:creation_event_id E0062_M61LegacyId: M61'],\n  'status': '1',\n  'references': []},\n {'class': 'V',\n  'id': 'e889e7ac-49d1-4c2f-8837-05937b3cd0a8',\n  'label': '1425',\n  'language': '',\n  'detail': '',\n  'data': {'logicalType': '1'},\n  'props': [],\n  'notes': ['Import batch [development] 2023-01-13 19:35:45.939035',\n   'special>:creation_event_id E0062_M61LegacyId: M61'],\n  'status': '1',\n  'references': []},\n {'class': 'V',\n  'id': '11f00af0-4917-414d-9384-16ed4ce401bf',\n  'label': '1425',\n  'language': '',\n  'detail': '',\n  'data': {'logicalType': '1'},\n  'props': [],\n  'notes': ['Import batch [development] 2023-01-13 19:35:45.939035',\n   'special>:creation_event_id E0062_M61LegacyId: M61'],\n  'status': '1',\n  'references': []},\n {'class': 'L',\n  'id': '0a767f5d-42d4-4a79-bd88-d527ccc524d5',\n  'label': 'Wolfenbüttel, Herzog August Bibliothek',\n  'language': '',\n  'detail': '',\n  'data': {'logicalType': '1'},\n  'props': [],\n  'notes': ['Import batch [development] 2023-01-13 19:35:45.939035',\n   \"Making location 'Wolfenbüttel, Herzog August Bibliothek' from M80 by field repository_label.\"],\n  'status': '1',\n  'references': [],\n  'legacyId': 'L_from_M80'},\n {'class': 'V',\n  'id': '7b1e6c1e-20e0-48c6-a28a-6c51067b327c',\n  'label': 'Cod. Guelf. 403 Helmst. I II',\n  'language': '',\n  'detail': '',\n  'data': {'logicalType': '1'},\n  'props': [],\n  'notes': ['Import batch [development] 2023-01-13 19:35:45.939035',\n   'propvalue>62:M80:subcollection_and_shelf_number_concatenated:Cod. Guelf. 403 Helmst. I II'],\n  'status': '1',\n  'references': []},\n {'class': 'V',\n  'id': '9e6f185f-edc4-466d-8f20-80a8177cc43a',\n  'label': '23',\n  'language': '',\n  'detail': '',\n  'data': {'logicalType': '1'},\n  'props': [],\n  'notes': ['Import batch [development] 2023-01-13 19:35:45.939035',\n   'propvalue>62:M80:height_cm:23'],\n  'status': '1',\n  'references': []},\n {'class': 'V',\n  'id': 'b2790feb-206d-437a-a296-179036903912',\n  'label': '12',\n  'language': '',\n  'detail': '',\n  'data': {'logicalType': '1'},\n  'props': [],\n  'notes': ['Import batch [development] 2023-01-13 19:35:45.939035',\n   'propvalue>62:M80:width_cm:12'],\n  'status': '1',\n  'references': []},\n {'class': 'E',\n  'id': 'b75c7ab8-6bdb-499e-8d41-12fd6a6d18c4',\n  'label': 'Creation of Wolfenbüttel, Herzog August Bibliothek, Cod. Guelf. 403 Helmst. I II',\n  'language': '',\n  'detail': '',\n  'data': {'logicalType': '1'},\n  'props': [],\n  'notes': ['Import batch [development] 2023-01-13 19:35:45.939035',\n   'special>:creation_event_id E0063_M80'],\n  'status': '1',\n  'references': [],\n  'legacyId': 'E0063_M80'},\n {'class': 'V',\n  'id': '5ffcb733-65d9-4a99-a212-8d2b32e3c892',\n  'label': '1392',\n  'language': '',\n  'detail': '',\n  'data': {'logicalType': '1'},\n  'props': [],\n  'notes': ['Import batch [development] 2023-01-13 19:35:45.939035',\n   'special>:creation_event_id E0063_M80LegacyId: M80'],\n  'status': '1',\n  'references': []},\n {'class': 'V',\n  'id': '3e3bf4b7-68c8-4299-ad99-b02c21245e01',\n  'label': '1393',\n  'language': '',\n  'detail': '',\n  'data': {'logicalType': '1'},\n  'props': [],\n  'notes': ['Import batch [development] 2023-01-13 19:35:45.939035',\n   'special>:creation_event_id E0063_M80LegacyId: M80'],\n  'status': '1',\n  'references': []},\n {'class': 'V',\n  'id': '188fb3bc-e414-40d5-9a8e-59e007759b4c',\n  'label': '1394',\n  'language': '',\n  'detail': '',\n  'data': {'logicalType': '1'},\n  'props': [],\n  'notes': ['Import batch [development] 2023-01-13 19:35:45.939035',\n   'special>:creation_event_id E0063_M80LegacyId: M80'],\n  'status': '1',\n  'references': []},\n {'class': 'V',\n  'id': 'e5071369-7afb-4610-b7e5-1bcfec7963da',\n  'label': '1394',\n  'language': '',\n  'detail': '',\n  'data': {'logicalType': '1'},\n  'props': [],\n  'notes': ['Import batch [development] 2023-01-13 19:35:45.939035',\n   'special>:creation_event_id E0063_M80LegacyId: M80'],\n  'status': '1',\n  'references': []},\n {'class': 'L',\n  'id': '04959f9a-7d09-48cb-8114-fdd0c17c88df',\n  'label': 'Worcester, Worcestershire Record Office',\n  'language': '',\n  'detail': '',\n  'data': {'logicalType': '1'},\n  'props': [],\n  'notes': ['Import batch [development] 2023-01-13 19:35:45.939035',\n   \"Making location 'Worcester, Worcestershire Record Office' from M63 by field repository_label.\"],\n  'status': '1',\n  'references': [],\n  'legacyId': 'L_from_M63'},\n {'class': 'E',\n  'id': '74937048-3e03-4dff-be85-b695f581045e',\n  'label': 'Creation of Worcester, Worcestershire Record Office, ',\n  'language': '',\n  'detail': '',\n  'data': {'logicalType': '1'},\n  'props': [],\n  'notes': ['Import batch [development] 2023-01-13 19:35:45.939035',\n   'special>:creation_event_id E0064_M63'],\n  'status': '1',\n  'references': [],\n  'legacyId': 'E0064_M63'},\n {'class': 'V',\n  'id': 'fc0eecf3-3b2a-4da1-b90c-89c6253f2367',\n  'label': '1419',\n  'language': '',\n  'detail': '',\n  'data': {'logicalType': '1'},\n  'props': [],\n  'notes': ['Import batch [development] 2023-01-13 19:35:45.939035',\n   'special>:creation_event_id E0064_M63LegacyId: M63'],\n  'status': '1',\n  'references': []},\n {'class': 'V',\n  'id': '1fa94897-b259-4ebb-bb5d-5adffdda0b08',\n  'label': '1419',\n  'language': '',\n  'detail': '',\n  'data': {'logicalType': '1'},\n  'props': [],\n  'notes': ['Import batch [development] 2023-01-13 19:35:45.939035',\n   'special>:creation_event_id E0064_M63LegacyId: M63'],\n  'status': '1',\n  'references': []},\n {'class': 'V',\n  'id': '70e1403f-cfd3-4b8a-a0d0-d6d0fde239f0',\n  'label': '1426',\n  'language': '',\n  'detail': '',\n  'data': {'logicalType': '1'},\n  'props': [],\n  'notes': ['Import batch [development] 2023-01-13 19:35:45.939035',\n   'special>:creation_event_id E0064_M63LegacyId: M63'],\n  'status': '1',\n  'references': []},\n {'class': 'V',\n  'id': '019be79e-d468-4012-af54-1f839e1ec6c3',\n  'label': '1425',\n  'language': '',\n  'detail': '',\n  'data': {'logicalType': '1'},\n  'props': [],\n  'notes': ['Import batch [development] 2023-01-13 19:35:45.939035',\n   'special>:creation_event_id E0064_M63LegacyId: M63'],\n  'status': '1',\n  'references': []},\n {'class': 'V',\n  'id': 'edb18b2c-d6e5-47a5-a6de-fb74bbeafc94',\n  'label': 'MS D1/2/4',\n  'language': '',\n  'detail': '',\n  'data': {'logicalType': '1'},\n  'props': [],\n  'notes': ['Import batch [development] 2023-01-13 19:35:45.939035',\n   'propvalue>64:M45:subcollection_and_shelf_number_concatenated:MS D1/2/4'],\n  'status': '1',\n  'references': []},\n {'class': 'V',\n  'id': 'cb881207-2408-46d1-a677-644592a2fc3e',\n  'label': '209',\n  'language': '',\n  'detail': '',\n  'data': {'logicalType': '1'},\n  'props': [],\n  'notes': ['Import batch [development] 2023-01-13 19:35:45.939035',\n   'propvalue>64:M45:folios_total:209'],\n  'status': '1',\n  'references': []},\n {'class': 'E',\n  'id': '8f8831a4-b1c6-4f79-bd1d-d6d74381c5f4',\n  'label': 'Creation of Trowbridge, Wiltshire and Swindon Record Office, MS D1/2/4',\n  'language': '',\n  'detail': '',\n  'data': {'logicalType': '1'},\n  'props': [],\n  'notes': ['Import batch [development] 2023-01-13 19:35:45.939035',\n   'special>:creation_event_id E0065_M45'],\n  'status': '1',\n  'references': [],\n  'legacyId': 'E0065_M45'},\n {'class': 'V',\n  'id': 'be4f5741-782f-4253-88b5-364e7a53f235',\n  'label': '1375',\n  'language': '',\n  'detail': '',\n  'data': {'logicalType': '1'},\n  'props': [],\n  'notes': ['Import batch [development] 2023-01-13 19:35:45.939035',\n   'special>:creation_event_id E0065_M45LegacyId: M45'],\n  'status': '1',\n  'references': []},\n {'class': 'V',\n  'id': '44088274-f8fb-42e8-a4c3-7890727e20f6',\n  'label': '1375',\n  'language': '',\n  'detail': '',\n  'data': {'logicalType': '1'},\n  'props': [],\n  'notes': ['Import batch [development] 2023-01-13 19:35:45.939035',\n   'special>:creation_event_id E0065_M45LegacyId: M45'],\n  'status': '1',\n  'references': []},\n {'class': 'V',\n  'id': '7510f43c-98a8-43e1-b41a-4b90979bec22',\n  'label': '1388',\n  'language': '',\n  'detail': '',\n  'data': {'logicalType': '1'},\n  'props': [],\n  'notes': ['Import batch [development] 2023-01-13 19:35:45.939035',\n   'special>:creation_event_id E0065_M45LegacyId: M45'],\n  'status': '1',\n  'references': []},\n {'class': 'V',\n  'id': '9b17f44a-3064-4386-ac06-423a3d8b928b',\n  'label': '1388',\n  'language': '',\n  'detail': '',\n  'data': {'logicalType': '1'},\n  'props': [],\n  'notes': ['Import batch [development] 2023-01-13 19:35:45.939035',\n   'special>:creation_event_id E0065_M45LegacyId: M45'],\n  'status': '1',\n  'references': []},\n {'class': 'V',\n  'id': '53903c9e-c877-4967-94a2-609e71c64a0d',\n  'label': 'Episcopal Register 16',\n  'language': '',\n  'detail': '',\n  'data': {'logicalType': '1'},\n  'props': [],\n  'notes': ['Import batch [development] 2023-01-13 19:35:45.939035',\n   'propvalue>65:M64:subcollection_and_shelf_number_concatenated:Episcopal Register 16'],\n  'status': '1',\n  'references': []},\n {'class': 'E',\n  'id': '19a74864-a731-42a6-a05a-36916ba04310',\n  'label': 'Creation of Lincoln, Lincolnshire Archives, Episcopal Register 16',\n  'language': '',\n  'detail': '',\n  'data': {'logicalType': '1'},\n  'props': [],\n  'notes': ['Import batch [development] 2023-01-13 19:35:45.939035',\n   'special>:creation_event_id E0066_M64'],\n  'status': '1',\n  'references': [],\n  'legacyId': 'E0066_M64'},\n {'class': 'V',\n  'id': '3fc8858b-59f9-4540-aedb-cbb1f980fccb',\n  'label': '1420',\n  'language': '',\n  'detail': '',\n  'data': {'logicalType': '1'},\n  'props': [],\n  'notes': ['Import batch [development] 2023-01-13 19:35:45.939035',\n   'special>:creation_event_id E0066_M64LegacyId: M64'],\n  'status': '1',\n  'references': []},\n {'class': 'V',\n  'id': 'e1b6330b-223a-40e6-90eb-db27c1cd8c8d',\n  'label': '1420',\n  'language': '',\n  'detail': '',\n  'data': {'logicalType': '1'},\n  'props': [],\n  'notes': ['Import batch [development] 2023-01-13 19:35:45.939035',\n   'special>:creation_event_id E0066_M64LegacyId: M64'],\n  'status': '1',\n  'references': []},\n {'class': 'V',\n  'id': '898a2db4-a29a-4c70-a0af-e29bd6018b19',\n  'label': '1431',\n  'language': '',\n  'detail': '',\n  'data': {'logicalType': '1'},\n  'props': [],\n  'notes': ['Import batch [development] 2023-01-13 19:35:45.939035',\n   'special>:creation_event_id E0066_M64LegacyId: M64'],\n  'status': '1',\n  'references': []},\n {'class': 'V',\n  'id': '0d02d822-5233-4740-840c-69f1eddcdd43',\n  'label': '1431',\n  'language': '',\n  'detail': '',\n  'data': {'logicalType': '1'},\n  'props': [],\n  'notes': ['Import batch [development] 2023-01-13 19:35:45.939035',\n   'special>:creation_event_id E0066_M64LegacyId: M64'],\n  'status': '1',\n  'references': []},\n {'class': 'V',\n  'id': 'b7c79c25-6211-4989-9c3d-906105e3aa77',\n  'label': 'DRb/Ar/1/7',\n  'language': '',\n  'detail': '',\n  'data': {'logicalType': '1'},\n  'props': [],\n  'notes': ['Import batch [development] 2023-01-13 19:35:45.939035',\n   'propvalue>66:M57:subcollection_and_shelf_number_concatenated:DRb/Ar/1/7'],\n  'status': '1',\n  'references': []},\n {'class': 'V',\n  'id': '4f801ddf-0333-4bba-b733-77de7dc97b12',\n  'label': '6',\n  'language': '',\n  'detail': '',\n  'data': {'logicalType': '1'},\n  'props': [],\n  'notes': ['Import batch [development] 2023-01-13 19:35:45.939035',\n   'propvalue>66:M57:folios_total:6'],\n  'status': '1',\n  'references': []},\n {'class': 'E',\n  'id': 'caf09adf-97d9-43b0-878f-646244e3ffab',\n  'label': 'Creation of Maidstone, Kent History and Library Centre, DRb/Ar/1/7',\n  'language': '',\n  'detail': '',\n  'data': {'logicalType': '1'},\n  'props': [],\n  'notes': ['Import batch [development] 2023-01-13 19:35:45.939035',\n   'special>:creation_event_id E0067_M57'],\n  'status': '1',\n  'references': [],\n  'legacyId': 'E0067_M57'},\n {'class': 'V',\n  'id': 'a3b2fa19-c5ce-4967-a003-ad020db46d23',\n  'label': '1404',\n  'language': '',\n  'detail': '',\n  'data': {'logicalType': '1'},\n  'props': [],\n  'notes': ['Import batch [development] 2023-01-13 19:35:45.939035',\n   'special>:creation_event_id E0067_M57LegacyId: M57'],\n  'status': '1',\n  'references': []},\n {'class': 'V',\n  'id': '2385246a-e3d5-45e9-94a7-829512f940b0',\n  'label': '1404',\n  'language': '',\n  'detail': '',\n  'data': {'logicalType': '1'},\n  'props': [],\n  'notes': ['Import batch [development] 2023-01-13 19:35:45.939035',\n   'special>:creation_event_id E0067_M57LegacyId: M57'],\n  'status': '1',\n  'references': []},\n {'class': 'V',\n  'id': '02e1ae8a-ed56-4232-88f9-4fb8a3462c23',\n  'label': '1418',\n  'language': '',\n  'detail': '',\n  'data': {'logicalType': '1'},\n  'props': [],\n  'notes': ['Import batch [development] 2023-01-13 19:35:45.939035',\n   'special>:creation_event_id E0067_M57LegacyId: M57'],\n  'status': '1',\n  'references': []},\n {'class': 'V',\n  'id': '24f0f612-eaae-4a18-bc1b-5418227fc714',\n  'label': '1418',\n  'language': '',\n  'detail': '',\n  'data': {'logicalType': '1'},\n  'props': [],\n  'notes': ['Import batch [development] 2023-01-13 19:35:45.939035',\n   'special>:creation_event_id E0067_M57LegacyId: M57'],\n  'status': '1',\n  'references': []},\n {'class': 'L',\n  'id': 'de739551-e709-4f6e-b519-9e394601fcfb',\n  'label': 'London, Guildhall Library',\n  'language': '',\n  'detail': '',\n  'data': {'logicalType': '1'},\n  'props': [],\n  'notes': ['Import batch [development] 2023-01-13 19:35:45.939035',\n   \"Making location 'London, Guildhall Library' from M47 by field repository_label.\"],\n  'status': '1',\n  'references': [],\n  'legacyId': 'L_from_M47'},\n {'class': 'V',\n  'id': '334539cd-7d2b-4ec4-83ad-a10cfd2c7276',\n  'label': 'MS 9531/3',\n  'language': '',\n  'detail': '',\n  'data': {'logicalType': '1'},\n  'props': [],\n  'notes': ['Import batch [development] 2023-01-13 19:35:45.939035',\n   'propvalue>67:M47:subcollection_and_shelf_number_concatenated:MS 9531/3'],\n  'status': '1',\n  'references': []},\n {'class': 'E',\n  'id': '2dc4e559-c3f6-4a95-8e3b-212fdf9876cd',\n  'label': 'Creation of London, Guildhall Library, MS 9531/3',\n  'language': '',\n  'detail': '',\n  'data': {'logicalType': '1'},\n  'props': [],\n  'notes': ['Import batch [development] 2023-01-13 19:35:45.939035',\n   'special>:creation_event_id E0068_M47'],\n  'status': '1',\n  'references': [],\n  'legacyId': 'E0068_M47'},\n {'class': 'V',\n  'id': '8cd631bf-9a1f-4643-ba0b-528c36265295',\n  'label': '1382',\n  'language': '',\n  'detail': '',\n  'data': {'logicalType': '1'},\n  'props': [],\n  'notes': ['Import batch [development] 2023-01-13 19:35:45.939035',\n   'special>:creation_event_id E0068_M47LegacyId: M47'],\n  'status': '1',\n  'references': []},\n {'class': 'V',\n  'id': 'ff7bd0ea-32d4-4d00-9db9-ef553586fdce',\n  'label': '1382',\n  'language': '',\n  'detail': '',\n  'data': {'logicalType': '1'},\n  'props': [],\n  'notes': ['Import batch [development] 2023-01-13 19:35:45.939035',\n   'special>:creation_event_id E0068_M47LegacyId: M47'],\n  'status': '1',\n  'references': []},\n {'class': 'V',\n  'id': '5831844e-b921-45cd-82eb-f6586265d954',\n  'label': '1404',\n  'language': '',\n  'detail': '',\n  'data': {'logicalType': '1'},\n  'props': [],\n  'notes': ['Import batch [development] 2023-01-13 19:35:45.939035',\n   'special>:creation_event_id E0068_M47LegacyId: M47'],\n  'status': '1',\n  'references': []},\n {'class': 'V',\n  'id': '0d0e2cff-ec6c-4d0c-99e6-d62bfb34ab90',\n  'label': '1404',\n  'language': '',\n  'detail': '',\n  'data': {'logicalType': '1'},\n  'props': [],\n  'notes': ['Import batch [development] 2023-01-13 19:35:45.939035',\n   'special>:creation_event_id E0068_M47LegacyId: M47'],\n  'status': '1',\n  'references': []},\n {'class': 'V',\n  'id': '7a830d23-b1de-474f-97e2-71f51c28a904',\n  'label': 'MS D1/2/9',\n  'language': '',\n  'detail': '',\n  'data': {'logicalType': '1'},\n  'props': [],\n  'notes': ['Import batch [development] 2023-01-13 19:35:45.939035',\n   'propvalue>68:M67:subcollection_and_shelf_number_concatenated:MS D1/2/9'],\n  'status': '1',\n  'references': []},\n {'class': 'V',\n  'id': '011486c2-f833-468b-b909-a3319cc65336',\n  'label': '136',\n  'language': '',\n  'detail': '',\n  'data': {'logicalType': '1'},\n  'props': [],\n  'notes': ['Import batch [development] 2023-01-13 19:35:45.939035',\n   'propvalue>68:M67:folios_total:136'],\n  'status': '1',\n  'references': []},\n {'class': 'E',\n  'id': 'b94315bf-8839-420c-8250-6d61d970c491',\n  'label': 'Creation of Trowbridge, Wiltshire and Swindon Record Office, MS D1/2/9',\n  'language': '',\n  'detail': '',\n  'data': {'logicalType': '1'},\n  'props': [],\n  'notes': ['Import batch [development] 2023-01-13 19:35:45.939035',\n   'special>:creation_event_id E0069_M67'],\n  'status': '1',\n  'references': [],\n  'legacyId': 'E0069_M67'},\n {'class': 'V',\n  'id': 'c8665bd5-d453-487c-a8c9-c8ae83b33f47',\n  'label': '1427',\n  'language': '',\n  'detail': '',\n  'data': {'logicalType': '1'},\n  'props': [],\n  'notes': ['Import batch [development] 2023-01-13 19:35:45.939035',\n   'special>:creation_event_id E0069_M67LegacyId: M67'],\n  'status': '1',\n  'references': []},\n {'class': 'V',\n  'id': '2c5117e0-c1a3-418b-9953-dfc039bfca96',\n  'label': '1427',\n  'language': '',\n  'detail': '',\n  'data': {'logicalType': '1'},\n  'props': [],\n  'notes': ['Import batch [development] 2023-01-13 19:35:45.939035',\n   'special>:creation_event_id E0069_M67LegacyId: M67'],\n  'status': '1',\n  'references': []},\n {'class': 'V',\n  'id': 'd033ec00-fe14-4936-a869-79a45436a51a',\n  'label': '1438',\n  'language': '',\n  'detail': '',\n  'data': {'logicalType': '1'},\n  'props': [],\n  'notes': ['Import batch [development] 2023-01-13 19:35:45.939035',\n   'special>:creation_event_id E0069_M67LegacyId: M67'],\n  'status': '1',\n  'references': []},\n {'class': 'V',\n  'id': '417c2297-e3ca-4869-ab57-7b52dcad222d',\n  'label': '1438',\n  'language': '',\n  'detail': '',\n  'data': {'logicalType': '1'},\n  'props': [],\n  'notes': ['Import batch [development] 2023-01-13 19:35:45.939035',\n   'special>:creation_event_id E0069_M67LegacyId: M67'],\n  'status': '1',\n  'references': []},\n {'class': 'L',\n  'id': '18f54fd8-27e3-4f33-8e68-7e9c55b53069',\n  'label': 'Clermont-Ferrand, Bibliothèque municipale',\n  'language': '',\n  'detail': '',\n  'data': {'logicalType': '1'},\n  'props': [],\n  'notes': ['Import batch [development] 2023-01-13 19:35:45.939035',\n   \"Making location 'Clermont-Ferrand, Bibliothèque municipale' from M7 by field repository_label.\"],\n  'status': '1',\n  'references': [],\n  'legacyId': 'L_from_M7'},\n {'class': 'V',\n  'id': '50e6c515-4462-4287-975b-5b67b15aaa91',\n  'label': 'ms. 160',\n  'language': '',\n  'detail': '',\n  'data': {'logicalType': '1'},\n  'props': [],\n  'notes': ['Import batch [development] 2023-01-13 19:35:45.939035',\n   'propvalue>69:M7:subcollection_and_shelf_number_concatenated:ms. 160'],\n  'status': '1',\n  'references': []},\n {'class': 'E',\n  'id': '853a1aed-63b3-4218-9cec-3c6953ca5930',\n  'label': 'Creation of Clermont-Ferrand, Bibliothèque municipale, ms. 160',\n  'language': '',\n  'detail': '',\n  'data': {'logicalType': '1'},\n  'props': [],\n  'notes': ['Import batch [development] 2023-01-13 19:35:45.939035',\n   'special>:creation_event_id E0070_M7'],\n  'status': '1',\n  'references': [],\n  'legacyId': 'E0070_M7'},\n {'class': 'V',\n  'id': 'dc20e058-4d9b-4f96-a0e0-f31b2f5cd1ac',\n  'label': '1249',\n  'language': '',\n  'detail': '',\n  'data': {'logicalType': '1'},\n  'props': [],\n  'notes': ['Import batch [development] 2023-01-13 19:35:45.939035',\n   'special>:creation_event_id E0070_M7LegacyId: M7'],\n  'status': '1',\n  'references': []},\n {'class': 'V',\n  'id': '79195388-1606-4c66-ba33-3d605b31241f',\n  'label': '1258',\n  'language': '',\n  'detail': '',\n  'data': {'logicalType': '1'},\n  'props': [],\n  'notes': ['Import batch [development] 2023-01-13 19:35:45.939035',\n   'special>:creation_event_id E0070_M7LegacyId: M7'],\n  'status': '1',\n  'references': []},\n {'class': 'V',\n  'id': 'dc76c4d0-445b-4951-b3b5-9a5cc9a9961a',\n  'label': 'Ely Diocesan Registry, MS G/1/2',\n  'language': '',\n  'detail': '',\n  'data': {'logicalType': '1'},\n  'props': [],\n  'notes': ['Import batch [development] 2023-01-13 19:35:45.939035',\n   'propvalue>70:M44:subcollection_and_shelf_number_concatenated:Ely Diocesan Registry, MS G/1/2'],\n  'status': '1',\n  'references': []},\n {'class': 'E',\n  'id': 'ab202306-a486-4565-94bf-8df48ad3d2d2',\n  'label': 'Creation of Cambridge, Cambridge University Library, Ely Diocesan Registry, MS G/1/2',\n  'language': '',\n  'detail': '',\n  'data': {'logicalType': '1'},\n  'props': [],\n  'notes': ['Import batch [development] 2023-01-13 19:35:45.939035',\n   'special>:creation_event_id E0071_M44'],\n  'status': '1',\n  'references': [],\n  'legacyId': 'E0071_M44'},\n {'class': 'V',\n  'id': 'c728893b-d006-458e-8bc7-ea636a85ade3',\n  'label': '1374',\n  'language': '',\n  'detail': '',\n  'data': {'logicalType': '1'},\n  'props': [],\n  'notes': ['Import batch [development] 2023-01-13 19:35:45.939035',\n   'special>:creation_event_id E0071_M44LegacyId: M44'],\n  'status': '1',\n  'references': []},\n {'class': 'V',\n  'id': '10c9fdae-66da-492a-a592-242604fdc430',\n  'label': '1374',\n  'language': '',\n  'detail': '',\n  'data': {'logicalType': '1'},\n  'props': [],\n  'notes': ['Import batch [development] 2023-01-13 19:35:45.939035',\n   'special>:creation_event_id E0071_M44LegacyId: M44'],\n  'status': '1',\n  'references': []},\n {'class': 'V',\n  'id': 'f6f6d90e-79de-412f-98a7-014a8caccd2f',\n  'label': '1388',\n  'language': '',\n  'detail': '',\n  'data': {'logicalType': '1'},\n  'props': [],\n  'notes': ['Import batch [development] 2023-01-13 19:35:45.939035',\n   'special>:creation_event_id E0071_M44LegacyId: M44'],\n  'status': '1',\n  'references': []},\n {'class': 'V',\n  'id': 'b1763c8c-4742-44f2-a513-d95eaec4bf4f',\n  'label': '1388',\n  'language': '',\n  'detail': '',\n  'data': {'logicalType': '1'},\n  'props': [],\n  'notes': ['Import batch [development] 2023-01-13 19:35:45.939035',\n   'special>:creation_event_id E0071_M44LegacyId: M44'],\n  'status': '1',\n  'references': []},\n {'class': 'L',\n  'id': '7a6084ea-4fd2-4d01-baaa-a0bf407e4dac',\n  'label': 'London, Lambeth Palace Library',\n  'language': '',\n  'detail': '',\n  'data': {'logicalType': '1'},\n  'props': [],\n  'notes': ['Import batch [development] 2023-01-13 19:35:45.939035',\n   \"Making location 'London, Lambeth Palace Library' from M53 by field repository_label.\"],\n  'status': '1',\n  'references': [],\n  'legacyId': 'L_from_M53'},\n {'class': 'V',\n  'id': '70c71057-0eeb-49d6-9f4b-da888de6f2d3',\n  'label': 'LR/F/62/12-15',\n  'language': '',\n  'detail': '',\n  'data': {'logicalType': '1'},\n  'props': [],\n  'notes': ['Import batch [development] 2023-01-13 19:35:45.939035',\n   'propvalue>71:M53:subcollection_and_shelf_number_concatenated:LR/F/62/12-15'],\n  'status': '1',\n  'references': []},\n {'class': 'V',\n  'id': '22ab9ba9-f94f-47c6-b572-b5621f702ff4',\n  'label': '561',\n  'language': '',\n  'detail': '',\n  'data': {'logicalType': '1'},\n  'props': [],\n  'notes': ['Import batch [development] 2023-01-13 19:35:45.939035',\n   'propvalue>71:M53:folios_total:561'],\n  'status': '1',\n  'references': []},\n {'class': 'E',\n  'id': '5b749c6c-f2f1-4c46-981e-52a27803f519',\n  'label': 'Creation of London, Lambeth Palace Library, LR/F/62/12-15',\n  'language': '',\n  'detail': '',\n  'data': {'logicalType': '1'},\n  'props': [],\n  'notes': ['Import batch [development] 2023-01-13 19:35:45.939035',\n   'special>:creation_event_id E0072_M53'],\n  'status': '1',\n  'references': [],\n  'legacyId': 'E0072_M53'},\n {'class': 'V',\n  'id': '9da8fa8a-1909-442f-8900-89f687ca20dd',\n  'label': '1396',\n  'language': '',\n  'detail': '',\n  'data': {'logicalType': '1'},\n  'props': [],\n  'notes': ['Import batch [development] 2023-01-13 19:35:45.939035',\n   'special>:creation_event_id E0072_M53LegacyId: M53'],\n  'status': '1',\n  'references': []},\n {'class': 'V',\n  'id': '9229ef46-fe88-4f8e-bf36-5a8f76447452',\n  'label': '1396',\n  'language': '',\n  'detail': '',\n  'data': {'logicalType': '1'},\n  'props': [],\n  'notes': ['Import batch [development] 2023-01-13 19:35:45.939035',\n   'special>:creation_event_id E0072_M53LegacyId: M53'],\n  'status': '1',\n  'references': []},\n {'class': 'V',\n  'id': '3e3bcf37-c283-4e66-be27-ac907545164c',\n  'label': '1414',\n  'language': '',\n  'detail': '',\n  'data': {'logicalType': '1'},\n  'props': [],\n  'notes': ['Import batch [development] 2023-01-13 19:35:45.939035',\n   'special>:creation_event_id E0072_M53LegacyId: M53'],\n  'status': '1',\n  'references': []},\n {'class': 'V',\n  'id': 'b97c2862-30eb-46e6-a741-d0b3a9f5262c',\n  'label': '1414',\n  'language': '',\n  'detail': '',\n  'data': {'logicalType': '1'},\n  'props': [],\n  'notes': ['Import batch [development] 2023-01-13 19:35:45.939035',\n   'special>:creation_event_id E0072_M53LegacyId: M53'],\n  'status': '1',\n  'references': []},\n {'class': 'V',\n  'id': '6e1b643f-1402-4432-956c-6adbb26dd730',\n  'label': 'LR/F/62/12-15',\n  'language': '',\n  'detail': '',\n  'data': {'logicalType': '1'},\n  'props': [],\n  'notes': ['Import batch [development] 2023-01-13 19:35:45.939035',\n   'propvalue>72:M54:subcollection_and_shelf_number_concatenated:LR/F/62/12-15'],\n  'status': '1',\n  'references': []},\n {'class': 'V',\n  'id': 'aad50889-c0d2-4e4a-a163-173ce0342121',\n  'label': '204',\n  'language': '',\n  'detail': '',\n  'data': {'logicalType': '1'},\n  'props': [],\n  'notes': ['Import batch [development] 2023-01-13 19:35:45.939035',\n   'propvalue>72:M54:folios_total:204'],\n  'status': '1',\n  'references': []},\n {'class': 'E',\n  'id': '621712f0-d47e-4bd8-8d50-e3b123988d21',\n  'label': 'Creation of London, Lambeth Palace Library, LR/F/62/12-15',\n  'language': '',\n  'detail': '',\n  'data': {'logicalType': '1'},\n  'props': [],\n  'notes': ['Import batch [development] 2023-01-13 19:35:45.939035',\n   'special>:creation_event_id E0073_M54'],\n  'status': '1',\n  'references': [],\n  'legacyId': 'E0073_M54'},\n {'class': 'V',\n  'id': '0740a722-c8c8-484a-bb84-086d305cfed4',\n  'label': '1396',\n  'language': '',\n  'detail': '',\n  'data': {'logicalType': '1'},\n  'props': [],\n  'notes': ['Import batch [development] 2023-01-13 19:35:45.939035',\n   'special>:creation_event_id E0073_M54LegacyId: M54'],\n  'status': '1',\n  'references': []},\n {'class': 'V',\n  'id': 'e0b79e94-653f-47b7-92a4-72b2fea452f9',\n  'label': '1396',\n  'language': '',\n  'detail': '',\n  'data': {'logicalType': '1'},\n  'props': [],\n  'notes': ['Import batch [development] 2023-01-13 19:35:45.939035',\n   'special>:creation_event_id E0073_M54LegacyId: M54'],\n  'status': '1',\n  'references': []},\n {'class': 'V',\n  'id': 'bfb9f0e8-4663-4bb3-a3e8-77eb33781c70',\n  'label': '1414',\n  'language': '',\n  'detail': '',\n  'data': {'logicalType': '1'},\n  'props': [],\n  'notes': ['Import batch [development] 2023-01-13 19:35:45.939035',\n   'special>:creation_event_id E0073_M54LegacyId: M54'],\n  'status': '1',\n  'references': []},\n {'class': 'V',\n  'id': 'c697081d-db59-4eed-bbaf-43e5cc1ab5cf',\n  'label': '1414',\n  'language': '',\n  'detail': '',\n  'data': {'logicalType': '1'},\n  'props': [],\n  'notes': ['Import batch [development] 2023-01-13 19:35:45.939035',\n   'special>:creation_event_id E0073_M54LegacyId: M54'],\n  'status': '1',\n  'references': []},\n {'class': 'V',\n  'id': '56cb72ea-58f4-43b1-bbd6-fc2008a5fd9d',\n  'label': 'DN Reg/5/10',\n  'language': '',\n  'detail': '',\n  'data': {'logicalType': '1'},\n  'props': [],\n  'notes': ['Import batch [development] 2023-01-13 19:35:45.939035',\n   'propvalue>73:M73:subcollection_and_shelf_number_concatenated:DN Reg/5/10'],\n  'status': '1',\n  'references': []},\n {'class': 'E',\n  'id': 'f8364ac3-bc30-4755-af53-7eed330723a2',\n  'label': 'Creation of Norwich, Norfolk Record Office, DN Reg/5/10',\n  'language': '',\n  'detail': '',\n  'data': {'logicalType': '1'},\n  'props': [],\n  'notes': ['Import batch [development] 2023-01-13 19:35:45.939035',\n   'special>:creation_event_id E0074_M73'],\n  'status': '1',\n  'references': [],\n  'legacyId': 'E0074_M73'},\n {'class': 'V',\n  'id': '7db2bc4e-898b-48fa-ba8f-cbeb82275046',\n  'label': '1436',\n  'language': '',\n  'detail': '',\n  'data': {'logicalType': '1'},\n  'props': [],\n  'notes': ['Import batch [development] 2023-01-13 19:35:45.939035',\n   'special>:creation_event_id E0074_M73LegacyId: M73'],\n  'status': '1',\n  'references': []},\n {'class': 'V',\n  'id': '4b25d2e0-7424-4610-ae02-a8d7254b1338',\n  'label': '1436',\n  'language': '',\n  'detail': '',\n  'data': {'logicalType': '1'},\n  'props': [],\n  'notes': ['Import batch [development] 2023-01-13 19:35:45.939035',\n   'special>:creation_event_id E0074_M73LegacyId: M73'],\n  'status': '1',\n  'references': []},\n {'class': 'V',\n  'id': '75b8bba7-6866-4538-a5a0-abbb2d74c8f6',\n  'label': '1445',\n  'language': '',\n  'detail': '',\n  'data': {'logicalType': '1'},\n  'props': [],\n  'notes': ['Import batch [development] 2023-01-13 19:35:45.939035',\n   'special>:creation_event_id E0074_M73LegacyId: M73'],\n  'status': '1',\n  'references': []},\n {'class': 'V',\n  'id': '72fe95c7-4831-4f0d-b3dc-26c785520668',\n  'label': '1445',\n  'language': '',\n  'detail': '',\n  'data': {'logicalType': '1'},\n  'props': [],\n  'notes': ['Import batch [development] 2023-01-13 19:35:45.939035',\n   'special>:creation_event_id E0074_M73LegacyId: M73'],\n  'status': '1',\n  'references': []},\n {'class': 'V',\n  'id': '9c525ec6-dbb3-453a-a90e-1bf814219d19',\n  'label': 'DRb/Ar/1/9',\n  'language': '',\n  'detail': '',\n  'data': {'logicalType': '1'},\n  'props': [],\n  'notes': ['Import batch [development] 2023-01-13 19:35:45.939035',\n   'propvalue>74:M72:subcollection_and_shelf_number_concatenated:DRb/Ar/1/9'],\n  'status': '1',\n  'references': []},\n {'class': 'V',\n  'id': 'e7de760b-4e16-4cd1-b45e-67a80b028588',\n  'label': '8',\n  'language': '',\n  'detail': '',\n  'data': {'logicalType': '1'},\n  'props': [],\n  'notes': ['Import batch [development] 2023-01-13 19:35:45.939035',\n   'propvalue>74:M72:folios_total:8'],\n  'status': '1',\n  'references': []},\n {'class': 'E',\n  'id': '5a2dce63-07fd-4515-8a85-c3561b99ecb6',\n  'label': 'Creation of Maidstone, Kent History and Library Centre, DRb/Ar/1/9',\n  'language': '',\n  'detail': '',\n  'data': {'logicalType': '1'},\n  'props': [],\n  'notes': ['Import batch [development] 2023-01-13 19:35:45.939035',\n   'special>:creation_event_id E0075_M72'],\n  'status': '1',\n  'references': [],\n  'legacyId': 'E0075_M72'},\n {'class': 'V',\n  'id': '4d964f53-db72-44f2-a573-d8cdafd0cdbf',\n  'label': '1435',\n  'language': '',\n  'detail': '',\n  'data': {'logicalType': '1'},\n  'props': [],\n  'notes': ['Import batch [development] 2023-01-13 19:35:45.939035',\n   'special>:creation_event_id E0075_M72LegacyId: M72'],\n  'status': '1',\n  'references': []},\n {'class': 'V',\n  'id': '77f566ad-fadf-427e-8714-1664e6266a28',\n  'label': '1435',\n  'language': '',\n  'detail': '',\n  'data': {'logicalType': '1'},\n  'props': [],\n  'notes': ['Import batch [development] 2023-01-13 19:35:45.939035',\n   'special>:creation_event_id E0075_M72LegacyId: M72'],\n  'status': '1',\n  'references': []},\n {'class': 'V',\n  'id': '6a817eee-7d8b-494a-b9c3-d0211c8dfb51',\n  'label': '1436',\n  'language': '',\n  'detail': '',\n  'data': {'logicalType': '1'},\n  'props': [],\n  'notes': ['Import batch [development] 2023-01-13 19:35:45.939035',\n   'special>:creation_event_id E0075_M72LegacyId: M72'],\n  'status': '1',\n  'references': []},\n {'class': 'V',\n  'id': '0cd7c0fb-4d0e-4c0d-a0af-a9dc54144fef',\n  'label': '1436',\n  'language': '',\n  'detail': '',\n  'data': {'logicalType': '1'},\n  'props': [],\n  'notes': ['Import batch [development] 2023-01-13 19:35:45.939035',\n   'special>:creation_event_id E0075_M72LegacyId: M72'],\n  'status': '1',\n  'references': []},\n {'class': 'E',\n  'id': '743427d0-8c73-454f-affa-760f2f389efe',\n  'label': 'Creation of Worcester, Worcestershire Record Office, ',\n  'language': '',\n  'detail': '',\n  'data': {'logicalType': '1'},\n  'props': [],\n  'notes': ['Import batch [development] 2023-01-13 19:35:45.939035',\n   'special>:creation_event_id E0076_M66'],\n  'status': '1',\n  'references': [],\n  'legacyId': 'E0076_M66'},\n {'class': 'V',\n  'id': 'bbbf0380-2786-4740-ada8-a3326d977475',\n  'label': '1426',\n  'language': '',\n  'detail': '',\n  'data': {'logicalType': '1'},\n  'props': [],\n  'notes': ['Import batch [development] 2023-01-13 19:35:45.939035',\n   'special>:creation_event_id E0076_M66LegacyId: M66'],\n  'status': '1',\n  'references': []},\n {'class': 'V',\n  'id': '7e2b89d2-e242-45b2-b27e-eeb2e0185660',\n  'label': '1426',\n  'language': '',\n  'detail': '',\n  'data': {'logicalType': '1'},\n  'props': [],\n  'notes': ['Import batch [development] 2023-01-13 19:35:45.939035',\n   'special>:creation_event_id E0076_M66LegacyId: M66'],\n  'status': '1',\n  'references': []},\n {'class': 'V',\n  'id': '01ae81c1-238b-493d-a60e-1a0903d7c6c7',\n  'label': '1433',\n  'language': '',\n  'detail': '',\n  'data': {'logicalType': '1'},\n  'props': [],\n  'notes': ['Import batch [development] 2023-01-13 19:35:45.939035',\n   'special>:creation_event_id E0076_M66LegacyId: M66'],\n  'status': '1',\n  'references': []},\n {'class': 'V',\n  'id': '46ea6d5b-b447-4cc4-bd6b-337c49af573c',\n  'label': '1433',\n  'language': '',\n  'detail': '',\n  'data': {'logicalType': '1'},\n  'props': [],\n  'notes': ['Import batch [development] 2023-01-13 19:35:45.939035',\n   'special>:creation_event_id E0076_M66LegacyId: M66'],\n  'status': '1',\n  'references': []},\n {'class': 'V',\n  'id': '3fa53aaf-eb74-495f-9a2f-5ed8e84a8244',\n  'label': 'DN Reg/5/9',\n  'language': '',\n  'detail': '',\n  'data': {'logicalType': '1'},\n  'props': [],\n  'notes': ['Import batch [development] 2023-01-13 19:35:45.939035',\n   'propvalue>76:M38:subcollection_and_shelf_number_concatenated:DN Reg/5/9'],\n  'status': '1',\n  'references': []},\n {'class': 'E',\n  'id': '3c4ca412-89fc-4407-8804-c92bca2da576',\n  'label': 'Creation of Norwich, Norfolk Record Office, DN Reg/5/9',\n  'language': '',\n  'detail': '',\n  'data': {'logicalType': '1'},\n  'props': [],\n  'notes': ['Import batch [development] 2023-01-13 19:35:45.939035',\n   'special>:creation_event_id E0077_M38'],\n  'status': '1',\n  'references': [],\n  'legacyId': 'E0077_M38'},\n {'class': 'V',\n  'id': 'fa615cd4-0672-4fc3-8e54-34733ed5c1a2',\n  'label': '1425',\n  'language': '',\n  'detail': '',\n  'data': {'logicalType': '1'},\n  'props': [],\n  'notes': ['Import batch [development] 2023-01-13 19:35:45.939035',\n   'special>:creation_event_id E0077_M38LegacyId: M38'],\n  'status': '1',\n  'references': []},\n {'class': 'V',\n  'id': 'e1df82a5-e030-4c1e-b5d6-f5620e923fd3',\n  'label': '1425',\n  'language': '',\n  'detail': '',\n  'data': {'logicalType': '1'},\n  'props': [],\n  'notes': ['Import batch [development] 2023-01-13 19:35:45.939035',\n   'special>:creation_event_id E0077_M38LegacyId: M38'],\n  'status': '1',\n  'references': []},\n {'class': 'V',\n  'id': '45548aa8-45be-477e-838c-5601511375ec',\n  'label': '1436',\n  'language': '',\n  'detail': '',\n  'data': {'logicalType': '1'},\n  'props': [],\n  'notes': ['Import batch [development] 2023-01-13 19:35:45.939035',\n   'special>:creation_event_id E0077_M38LegacyId: M38'],\n  'status': '1',\n  'references': []},\n {'class': 'V',\n  'id': '98fe75e8-21f3-4291-82fa-e98c4ddd189d',\n  'label': '1436',\n  'language': '',\n  'detail': '',\n  'data': {'logicalType': '1'},\n  'props': [],\n  'notes': ['Import batch [development] 2023-01-13 19:35:45.939035',\n   'special>:creation_event_id E0077_M38LegacyId: M38'],\n  'status': '1',\n  'references': []},\n {'class': 'V',\n  'id': '3a4f45fc-255f-4068-99dc-fc043c3e2ee9',\n  'label': 'Episcopal Register 18',\n  'language': '',\n  'detail': '',\n  'data': {'logicalType': '1'},\n  'props': [],\n  'notes': ['Import batch [development] 2023-01-13 19:35:45.939035',\n   'propvalue>77:M71:subcollection_and_shelf_number_concatenated:Episcopal Register 18'],\n  'status': '1',\n  'references': []},\n {'class': 'E',\n  'id': 'f4898a85-bb35-4ece-97cf-b92d4c8ee699',\n  'label': 'Creation of Lincoln, Lincolnshire Archives, Episcopal Register 18',\n  'language': '',\n  'detail': '',\n  'data': {'logicalType': '1'},\n  'props': [],\n  'notes': ['Import batch [development] 2023-01-13 19:35:45.939035',\n   'special>:creation_event_id E0078_M71'],\n  'status': '1',\n  'references': [],\n  'legacyId': 'E0078_M71'},\n {'class': 'V',\n  'id': 'd21384b7-572a-4847-af4b-455e79d59624',\n  'label': '1435',\n  'language': '',\n  'detail': '',\n  'data': {'logicalType': '1'},\n  'props': [],\n  'notes': ['Import batch [development] 2023-01-13 19:35:45.939035',\n   'special>:creation_event_id E0078_M71LegacyId: M71'],\n  'status': '1',\n  'references': []},\n {'class': 'V',\n  'id': '00e302e2-a920-4b71-86b4-ee600ae59273',\n  'label': '1435',\n  'language': '',\n  'detail': '',\n  'data': {'logicalType': '1'},\n  'props': [],\n  'notes': ['Import batch [development] 2023-01-13 19:35:45.939035',\n   'special>:creation_event_id E0078_M71LegacyId: M71'],\n  'status': '1',\n  'references': []},\n {'class': 'V',\n  'id': 'f5a689b9-b8d2-49c3-b31c-90f9f5ccbfa7',\n  'label': '1449',\n  'language': '',\n  'detail': '',\n  'data': {'logicalType': '1'},\n  'props': [],\n  'notes': ['Import batch [development] 2023-01-13 19:35:45.939035',\n   'special>:creation_event_id E0078_M71LegacyId: M71'],\n  'status': '1',\n  'references': []},\n {'class': 'V',\n  'id': '1df9d174-25ca-4c07-a274-04947e839a81',\n  'label': '1449',\n  'language': '',\n  'detail': '',\n  'data': {'logicalType': '1'},\n  'props': [],\n  'notes': ['Import batch [development] 2023-01-13 19:35:45.939035',\n   'special>:creation_event_id E0078_M71LegacyId: M71'],\n  'status': '1',\n  'references': []},\n {'class': 'V',\n  'id': '2b986653-76a6-45fa-a0bd-8c12c6a49b67',\n  'label': 'LR/F/62/10-11',\n  'language': '',\n  'detail': '',\n  'data': {'logicalType': '1'},\n  'props': [],\n  'notes': ['Import batch [development] 2023-01-13 19:35:45.939035',\n   'propvalue>78:M46:subcollection_and_shelf_number_concatenated:LR/F/62/10-11'],\n  'status': '1',\n  'references': []},\n {'class': 'V',\n  'id': '6e0716f5-086b-45f5-91dc-eb085f455530',\n  'label': '361',\n  'language': '',\n  'detail': '',\n  'data': {'logicalType': '1'},\n  'props': [],\n  'notes': ['Import batch [development] 2023-01-13 19:35:45.939035',\n   'propvalue>78:M46:folios_total:361'],\n  'status': '1',\n  'references': []},\n {'class': 'E',\n  'id': '08dadd1c-7270-4ef0-8032-c43eb5e3fdc5',\n  'label': 'Creation of London, Lambeth Palace Library, LR/F/62/10-11',\n  'language': '',\n  'detail': '',\n  'data': {'logicalType': '1'},\n  'props': [],\n  'notes': ['Import batch [development] 2023-01-13 19:35:45.939035',\n   'special>:creation_event_id E0079_M46'],\n  'status': '1',\n  'references': [],\n  'legacyId': 'E0079_M46'},\n {'class': 'V',\n  'id': 'a729464f-cb96-4e6d-8d5c-13b244bf7c6b',\n  'label': '1381',\n  'language': '',\n  'detail': '',\n  'data': {'logicalType': '1'},\n  'props': [],\n  'notes': ['Import batch [development] 2023-01-13 19:35:45.939035',\n   'special>:creation_event_id E0079_M46LegacyId: M46'],\n  'status': '1',\n  'references': []},\n {'class': 'V',\n  'id': '5a3b2e47-a8cf-4314-82c8-40121a3b5e02',\n  'label': '1381',\n  'language': '',\n  'detail': '',\n  'data': {'logicalType': '1'},\n  'props': [],\n  'notes': ['Import batch [development] 2023-01-13 19:35:45.939035',\n   'special>:creation_event_id E0079_M46LegacyId: M46'],\n  'status': '1',\n  'references': []},\n {'class': 'V',\n  'id': '9f04c26d-2273-4e24-a5b1-6237dbb2cdc2',\n  'label': '1396',\n  'language': '',\n  'detail': '',\n  'data': {'logicalType': '1'},\n  'props': [],\n  'notes': ['Import batch [development] 2023-01-13 19:35:45.939035',\n   'special>:creation_event_id E0079_M46LegacyId: M46'],\n  'status': '1',\n  'references': []},\n {'class': 'V',\n  'id': 'e78828a0-182c-4aed-873d-d22c9bb572d6',\n  'label': '1396',\n  'language': '',\n  'detail': '',\n  'data': {'logicalType': '1'},\n  'props': [],\n  'notes': ['Import batch [development] 2023-01-13 19:35:45.939035',\n   'special>:creation_event_id E0079_M46LegacyId: M46'],\n  'status': '1',\n  'references': []},\n {'class': 'V',\n  'id': 'a48b566f-f5f4-43ac-92ca-5084e00fd600',\n  'label': 'DRb/Ar/1/5',\n  'language': '',\n  'detail': '',\n  'data': {'logicalType': '1'},\n  'props': [],\n  'notes': ['Import batch [development] 2023-01-13 19:35:45.939035',\n   'propvalue>79:M49:subcollection_and_shelf_number_concatenated:DRb/Ar/1/5'],\n  'status': '1',\n  'references': []},\n {'class': 'V',\n  'id': 'e13cb6a7-46d8-4cd0-a92d-2e3afff42544',\n  'label': '148',\n  'language': '',\n  'detail': '',\n  'data': {'logicalType': '1'},\n  'props': [],\n  'notes': ['Import batch [development] 2023-01-13 19:35:45.939035',\n   'propvalue>79:M49:folios_total:148'],\n  'status': '1',\n  'references': []},\n {'class': 'E',\n  'id': '836c43bd-9416-40b0-8cbf-76e1769276e0',\n  'label': 'Creation of Maidstone, Kent History and Library Centre, DRb/Ar/1/5',\n  'language': '',\n  'detail': '',\n  'data': {'logicalType': '1'},\n  'props': [],\n  'notes': ['Import batch [development] 2023-01-13 19:35:45.939035',\n   'special>:creation_event_id E0080_M49'],\n  'status': '1',\n  'references': [],\n  'legacyId': 'E0080_M49'},\n {'class': 'V',\n  'id': 'bc08e327-c869-4b4b-9aad-0de9d80ea1f9',\n  'label': '1389',\n  'language': '',\n  'detail': '',\n  'data': {'logicalType': '1'},\n  'props': [],\n  'notes': ['Import batch [development] 2023-01-13 19:35:45.939035',\n   'special>:creation_event_id E0080_M49LegacyId: M49'],\n  'status': '1',\n  'references': []},\n {'class': 'V',\n  'id': '4560de05-1a72-4e23-b8a6-4630c7a13d94',\n  'label': '1389',\n  'language': '',\n  'detail': '',\n  'data': {'logicalType': '1'},\n  'props': [],\n  'notes': ['Import batch [development] 2023-01-13 19:35:45.939035',\n   'special>:creation_event_id E0080_M49LegacyId: M49'],\n  'status': '1',\n  'references': []},\n {'class': 'V',\n  'id': 'daddf611-1c06-4ee0-9d18-349656d42200',\n  'label': '1400',\n  'language': '',\n  'detail': '',\n  'data': {'logicalType': '1'},\n  'props': [],\n  'notes': ['Import batch [development] 2023-01-13 19:35:45.939035',\n   'special>:creation_event_id E0080_M49LegacyId: M49'],\n  'status': '1',\n  'references': []},\n {'class': 'V',\n  'id': '791d351c-4a5a-4165-9f90-450d41eeaf46',\n  'label': '1400',\n  'language': '',\n  'detail': '',\n  'data': {'logicalType': '1'},\n  'props': [],\n  'notes': ['Import batch [development] 2023-01-13 19:35:45.939035',\n   'special>:creation_event_id E0080_M49LegacyId: M49'],\n  'status': '1',\n  'references': []},\n {'class': 'V',\n  'id': 'f1ae9c80-a3ee-4f00-b46f-e65bbdb09655',\n  'label': 'Episcopal Register 17',\n  'language': '',\n  'detail': '',\n  'data': {'logicalType': '1'},\n  'props': [],\n  'notes': ['Import batch [development] 2023-01-13 19:35:45.939035',\n   'propvalue>80:M70:subcollection_and_shelf_number_concatenated:Episcopal Register 17'],\n  'status': '1',\n  'references': []},\n {'class': 'E',\n  'id': '5ef2847a-626e-44f3-8698-1ab4a9c93403',\n  'label': 'Creation of Lincoln, Lincolnshire Archives, Episcopal Register 17',\n  'language': '',\n  'detail': '',\n  'data': {'logicalType': '1'},\n  'props': [],\n  'notes': ['Import batch [development] 2023-01-13 19:35:45.939035',\n   'special>:creation_event_id E0081_M70'],\n  'status': '1',\n  'references': [],\n  'legacyId': 'E0081_M70'},\n {'class': 'V',\n  'id': '8d983cf4-de9a-496f-9f18-6f5f5af4feac',\n  'label': '1431',\n  'language': '',\n  'detail': '',\n  'data': {'logicalType': '1'},\n  'props': [],\n  'notes': ['Import batch [development] 2023-01-13 19:35:45.939035',\n   'special>:creation_event_id E0081_M70LegacyId: M70'],\n  'status': '1',\n  'references': []},\n {'class': 'V',\n  'id': '8c5fc464-9517-4f52-8284-0977cf0aeea6',\n  'label': '1431',\n  'language': '',\n  'detail': '',\n  'data': {'logicalType': '1'},\n  'props': [],\n  'notes': ['Import batch [development] 2023-01-13 19:35:45.939035',\n   'special>:creation_event_id E0081_M70LegacyId: M70'],\n  'status': '1',\n  'references': []},\n {'class': 'V',\n  'id': 'e2af1ccf-2e1c-4233-badf-9cc24a214280',\n  'label': '1436',\n  'language': '',\n  'detail': '',\n  'data': {'logicalType': '1'},\n  'props': [],\n  'notes': ['Import batch [development] 2023-01-13 19:35:45.939035',\n   'special>:creation_event_id E0081_M70LegacyId: M70'],\n  'status': '1',\n  'references': []},\n {'class': 'V',\n  'id': '3701eaa9-45c3-44a7-ae7b-2d975d800e42',\n  'label': '1436',\n  'language': '',\n  'detail': '',\n  'data': {'logicalType': '1'},\n  'props': [],\n  'notes': ['Import batch [development] 2023-01-13 19:35:45.939035',\n   'special>:creation_event_id E0081_M70LegacyId: M70'],\n  'status': '1',\n  'references': []},\n {'class': 'V',\n  'id': '80c0ce52-83c7-4ac6-868c-6eb026c5ff54',\n  'label': 'V/A/14Wareham1',\n  'language': '',\n  'detail': '',\n  'data': {'logicalType': '1'},\n  'props': [],\n  'notes': ['Import batch [development] 2023-01-13 19:35:45.939035',\n   'propvalue>81:M41:subcollection_and_shelf_number_concatenated:V/A/14Wareham1'],\n  'status': '1',\n  'references': []},\n {'class': 'E',\n  'id': '53438b10-065a-47a9-a734-d27f70921062',\n  'label': 'Creation of London, Lambeth Palace Library, V/A/14Wareham1',\n  'language': '',\n  'detail': '',\n  'data': {'logicalType': '1'},\n  'props': [],\n  'notes': ['Import batch [development] 2023-01-13 19:35:45.939035',\n   'special>:creation_event_id E0082_M41'],\n  'status': '1',\n  'references': [],\n  'legacyId': 'E0082_M41'},\n {'class': 'V',\n  'id': 'db5abc7f-97d9-4aef-84ac-87de5f3f47e7',\n  'label': '1510',\n  'language': '',\n  'detail': '',\n  'data': {'logicalType': '1'},\n  'props': [],\n  'notes': ['Import batch [development] 2023-01-13 19:35:45.939035',\n   'special>:creation_event_id E0082_M41LegacyId: M41'],\n  'status': '1',\n  'references': []},\n {'class': 'V',\n  'id': '0d0f0a5b-1e2a-453a-b8aa-33d0dd26c7fd',\n  'label': 'MS 9531/4',\n  'language': '',\n  'detail': '',\n  'data': {'logicalType': '1'},\n  'props': [],\n  'notes': ['Import batch [development] 2023-01-13 19:35:45.939035',\n   'propvalue>82:M60:subcollection_and_shelf_number_concatenated:MS 9531/4'],\n  'status': '1',\n  'references': []},\n {'class': 'E',\n  'id': 'ba4e784f-8322-4e84-a436-d7dfc53f52d8',\n  'label': 'Creation of London, Guildhall Library, MS 9531/4',\n  'language': '',\n  'detail': '',\n  'data': {'logicalType': '1'},\n  'props': [],\n  'notes': ['Import batch [development] 2023-01-13 19:35:45.939035',\n   'special>:creation_event_id E0083_M60'],\n  'status': '1',\n  'references': [],\n  'legacyId': 'E0083_M60'},\n {'class': 'V',\n  'id': 'c1160747-66d9-4cc1-8858-d69d734c0755',\n  'label': '1407',\n  'language': '',\n  'detail': '',\n  'data': {'logicalType': '1'},\n  'props': [],\n  'notes': ['Import batch [development] 2023-01-13 19:35:45.939035',\n   'special>:creation_event_id E0083_M60LegacyId: M60'],\n  'status': '1',\n  'references': []},\n {'class': 'V',\n  'id': 'ef375085-98be-407e-b5e4-e982b97bbfca',\n  'label': '1407',\n  'language': '',\n  'detail': '',\n  'data': {'logicalType': '1'},\n  'props': [],\n  'notes': ['Import batch [development] 2023-01-13 19:35:45.939035',\n   'special>:creation_event_id E0083_M60LegacyId: M60'],\n  'status': '1',\n  'references': []},\n {'class': 'V',\n  'id': '119096d8-7f37-4667-a1f8-48a73a800509',\n  'label': '1425',\n  'language': '',\n  'detail': '',\n  'data': {'logicalType': '1'},\n  'props': [],\n  'notes': ['Import batch [development] 2023-01-13 19:35:45.939035',\n   'special>:creation_event_id E0083_M60LegacyId: M60'],\n  'status': '1',\n  'references': []},\n {'class': 'V',\n  'id': '42145fc8-32f4-4f3c-b164-b0224caaf732',\n  'label': '1425',\n  'language': '',\n  'detail': '',\n  'data': {'logicalType': '1'},\n  'props': [],\n  'notes': ['Import batch [development] 2023-01-13 19:35:45.939035',\n   'special>:creation_event_id E0083_M60LegacyId: M60'],\n  'status': '1',\n  'references': []},\n {'class': 'V',\n  'id': '47423e1c-3c59-464f-831c-6e8b804504ed',\n  'label': 'MS D1/2/6',\n  'language': '',\n  'detail': '',\n  'data': {'logicalType': '1'},\n  'props': [],\n  'notes': ['Import batch [development] 2023-01-13 19:35:45.939035',\n   'propvalue>83:M52:subcollection_and_shelf_number_concatenated:MS D1/2/6'],\n  'status': '1',\n  'references': []},\n {'class': 'V',\n  'id': 'a27cc5d3-fea3-49a8-b38d-9b3194c3db50',\n  'label': '191',\n  'language': '',\n  'detail': '',\n  'data': {'logicalType': '1'},\n  'props': [],\n  'notes': ['Import batch [development] 2023-01-13 19:35:45.939035',\n   'propvalue>83:M52:folios_total:191'],\n  'status': '1',\n  'references': []},\n {'class': 'E',\n  'id': 'b0830f7c-5a92-497d-bc8b-98ab4197c9f6',\n  'label': 'Creation of Trowbridge, Wiltshire and Swindon Record Office, MS D1/2/6',\n  'language': '',\n  'detail': '',\n  'data': {'logicalType': '1'},\n  'props': [],\n  'notes': ['Import batch [development] 2023-01-13 19:35:45.939035',\n   'special>:creation_event_id E0084_M52'],\n  'status': '1',\n  'references': [],\n  'legacyId': 'E0084_M52'},\n {'class': 'V',\n  'id': '85c27ef6-dd16-4b8b-85c4-8e52965d4687',\n  'label': '1395',\n  'language': '',\n  'detail': '',\n  'data': {'logicalType': '1'},\n  'props': [],\n  'notes': ['Import batch [development] 2023-01-13 19:35:45.939035',\n   'special>:creation_event_id E0084_M52LegacyId: M52'],\n  'status': '1',\n  'references': []},\n {'class': 'V',\n  'id': '04559d0d-d7e7-42e1-b145-32e3069a8ceb',\n  'label': '1395',\n  'language': '',\n  'detail': '',\n  'data': {'logicalType': '1'},\n  'props': [],\n  'notes': ['Import batch [development] 2023-01-13 19:35:45.939035',\n   'special>:creation_event_id E0084_M52LegacyId: M52'],\n  'status': '1',\n  'references': []},\n {'class': 'V',\n  'id': 'd5ca0729-e168-4782-b198-3b92b5e1b585',\n  'label': '1407',\n  'language': '',\n  'detail': '',\n  'data': {'logicalType': '1'},\n  'props': [],\n  'notes': ['Import batch [development] 2023-01-13 19:35:45.939035',\n   'special>:creation_event_id E0084_M52LegacyId: M52'],\n  'status': '1',\n  'references': []},\n {'class': 'V',\n  'id': '4102c4b7-2ca8-4ec1-a58e-71d6b3846990',\n  'label': '1407',\n  'language': '',\n  'detail': '',\n  'data': {'logicalType': '1'},\n  'props': [],\n  'notes': ['Import batch [development] 2023-01-13 19:35:45.939035',\n   'special>:creation_event_id E0084_M52LegacyId: M52'],\n  'status': '1',\n  'references': []},\n {'class': 'V',\n  'id': '95537030-4a75-4c94-af44-908d5545e176',\n  'label': 'Episcopal Register 12B',\n  'language': '',\n  'detail': '',\n  'data': {'logicalType': '1'},\n  'props': [],\n  'notes': ['Import batch [development] 2023-01-13 19:35:45.939035',\n   'propvalue>84:M43:subcollection_and_shelf_number_concatenated:Episcopal Register 12B'],\n  'status': '1',\n  'references': []},\n {'class': 'E',\n  'id': '6beb443e-0432-4730-adef-572d67b28ebf',\n  'label': 'Creation of Lincoln, Lincolnshire Archives, Episcopal Register 12B',\n  'language': '',\n  'detail': '',\n  'data': {'logicalType': '1'},\n  'props': [],\n  'notes': ['Import batch [development] 2023-01-13 19:35:45.939035',\n   'special>:creation_event_id E0085_M43'],\n  'status': '1',\n  'references': [],\n  'legacyId': 'E0085_M43'},\n {'class': 'V',\n  'id': '9911d78d-ef78-49c1-9db8-687de4464909',\n  'label': '1363',\n  'language': '',\n  'detail': '',\n  'data': {'logicalType': '1'},\n  'props': [],\n  'notes': ['Import batch [development] 2023-01-13 19:35:45.939035',\n   'special>:creation_event_id E0085_M43LegacyId: M43'],\n  'status': '1',\n  'references': []},\n {'class': 'V',\n  'id': '78fd8b22-b746-4b60-9f61-d120f6ea246c',\n  'label': '1363',\n  'language': '',\n  'detail': '',\n  'data': {'logicalType': '1'},\n  'props': [],\n  'notes': ['Import batch [development] 2023-01-13 19:35:45.939035',\n   'special>:creation_event_id E0085_M43LegacyId: M43'],\n  'status': '1',\n  'references': []},\n {'class': 'V',\n  'id': '991bcb99-ee09-4e88-94f9-d583bf66386f',\n  'label': '1398',\n  'language': '',\n  'detail': '',\n  'data': {'logicalType': '1'},\n  'props': [],\n  'notes': ['Import batch [development] 2023-01-13 19:35:45.939035',\n   'special>:creation_event_id E0085_M43LegacyId: M43'],\n  'status': '1',\n  'references': []},\n {'class': 'V',\n  'id': '7f5c838c-4c44-4e3c-bd81-2cab1d6dec26',\n  'label': '1398',\n  'language': '',\n  'detail': '',\n  'data': {'logicalType': '1'},\n  'props': [],\n  'notes': ['Import batch [development] 2023-01-13 19:35:45.939035',\n   'special>:creation_event_id E0085_M43LegacyId: M43'],\n  'status': '1',\n  'references': []},\n {'class': 'V',\n  'id': '31985665-ac72-483b-840e-f9f93605ace1',\n  'label': 'Episcopal Register 15B',\n  'language': '',\n  'detail': '',\n  'data': {'logicalType': '1'},\n  'props': [],\n  'notes': ['Import batch [development] 2023-01-13 19:35:45.939035',\n   'propvalue>85:M58:subcollection_and_shelf_number_concatenated:Episcopal Register 15B'],\n  'status': '1',\n  'references': []},\n {'class': 'E',\n  'id': '80ff7455-2691-4e33-ba71-32d217b97703',\n  'label': 'Creation of Lincoln, Lincolnshire Archives, Episcopal Register 15B',\n  'language': '',\n  'detail': '',\n  'data': {'logicalType': '1'},\n  'props': [],\n  'notes': ['Import batch [development] 2023-01-13 19:35:45.939035',\n   'special>:creation_event_id E0086_M58'],\n  'status': '1',\n  'references': [],\n  'legacyId': 'E0086_M58'},\n {'class': 'V',\n  'id': '619b1aca-ab17-480a-947c-a8cf0e136d90',\n  'label': '1405',\n  'language': '',\n  'detail': '',\n  'data': {'logicalType': '1'},\n  'props': [],\n  'notes': ['Import batch [development] 2023-01-13 19:35:45.939035',\n   'special>:creation_event_id E0086_M58LegacyId: M58'],\n  'status': '1',\n  'references': []},\n {'class': 'V',\n  'id': 'f537be9c-3f4b-4683-9ae4-26890abc1dce',\n  'label': '1405',\n  'language': '',\n  'detail': '',\n  'data': {'logicalType': '1'},\n  'props': [],\n  'notes': ['Import batch [development] 2023-01-13 19:35:45.939035',\n   'special>:creation_event_id E0086_M58LegacyId: M58'],\n  'status': '1',\n  'references': []},\n {'class': 'V',\n  'id': '307f4042-2f03-4895-b859-10a270fc2644',\n  'label': '1419',\n  'language': '',\n  'detail': '',\n  'data': {'logicalType': '1'},\n  'props': [],\n  'notes': ['Import batch [development] 2023-01-13 19:35:45.939035',\n   'special>:creation_event_id E0086_M58LegacyId: M58'],\n  'status': '1',\n  'references': []},\n {'class': 'V',\n  'id': 'd040b70c-64b7-45f6-8c3a-fa2985882435',\n  'label': '1419',\n  'language': '',\n  'detail': '',\n  'data': {'logicalType': '1'},\n  'props': [],\n  'notes': ['Import batch [development] 2023-01-13 19:35:45.939035',\n   'special>:creation_event_id E0086_M58LegacyId: M58'],\n  'status': '1',\n  'references': []},\n {'class': 'V',\n  'id': 'f6ff97e4-c9ab-41bb-aa6a-771c36821af0',\n  'label': 'ms. lat. 9992',\n  'language': '',\n  'detail': '',\n  'data': {'logicalType': '1'},\n  'props': [],\n  'notes': ['Import batch [development] 2023-01-13 19:35:45.939035',\n   'propvalue>86:M6:subcollection_and_shelf_number_concatenated:ms. lat. 9992'],\n  'status': '1',\n  'references': []},\n {'class': 'E',\n  'id': 'cbd8f400-8a7d-4438-a884-1e39371e32e5',\n  'label': 'Creation of Paris, Bibliothèque nationale de France, ms. lat. 9992',\n  'language': '',\n  'detail': '',\n  'data': {'logicalType': '1'},\n  'props': [],\n  'notes': ['Import batch [development] 2023-01-13 19:35:45.939035',\n   'special>:creation_event_id E0087_M6'],\n  'status': '1',\n  'references': [],\n  'legacyId': 'E0087_M6'},\n {'class': 'V',\n  'id': '18d307c8-80e0-4a05-842b-794170d7bc1d',\n  'label': '1244',\n  'language': '',\n  'detail': '',\n  'data': {'logicalType': '1'},\n  'props': [],\n  'notes': ['Import batch [development] 2023-01-13 19:35:45.939035',\n   'special>:creation_event_id E0087_M6LegacyId: M6'],\n  'status': '1',\n  'references': []},\n {'class': 'R',\n  'id': '4f2fbc52-a712-4e3a-ae07-8d19008bb474',\n  'label': 'Reproduction of Paris, Bibliothèque nationale de France, ms. lat. 9992',\n  'language': '',\n  'detail': '',\n  'data': {'url': 'https://gallica.bnf.fr/ark:/12148/btv1b9077722d/f1.image',\n   'partValueBaseURL': '',\n   'partValueLabel': ''},\n  'props': [],\n  'notes': ['Import batch [development] 2023-01-13 19:35:45.939035'],\n  'status': '1',\n  'references': []},\n {'class': 'L',\n  'id': '4cd19d1d-a7a5-46c5-be20-aab0963bde0e',\n  'label': \"Paris, Bibliothèque de la Société de l'Histoire du Protestantisme Français\",\n  'language': '',\n  'detail': '',\n  'data': {'logicalType': '1'},\n  'props': [],\n  'notes': ['Import batch [development] 2023-01-13 19:35:45.939035',\n   \"Making location 'Paris, Bibliothèque de la Société de l'Histoire du Protestantisme Français' from M17 by field repository_label.\"],\n  'status': '1',\n  'references': [],\n  'legacyId': 'L_from_M17'},\n {'class': 'V',\n  'id': 'd77b7ef8-9c01-4a0a-9b2d-3242f224290c',\n  'label': 'ms. 446/1',\n  'language': '',\n  'detail': '',\n  'data': {'logicalType': '1'},\n  'props': [],\n  'notes': ['Import batch [development] 2023-01-13 19:35:45.939035',\n   'propvalue>87:M17:subcollection_and_shelf_number_concatenated:ms. 446/1'],\n  'status': '1',\n  'references': []},\n {'class': 'E',\n  'id': '065248bb-2a39-475a-929e-ffb73729cb64',\n  'label': \"Creation of Paris, Bibliothèque de la Société de l'Histoire du Protestantisme Français, ms. 446/1\",\n  'language': '',\n  'detail': '',\n  'data': {'logicalType': '1'},\n  'props': [],\n  'notes': ['Import batch [development] 2023-01-13 19:35:45.939035',\n   'special>:creation_event_id E0088_M17'],\n  'status': '1',\n  'references': [],\n  'legacyId': 'E0088_M17'},\n {'class': 'V',\n  'id': '372c586c-e4fa-4202-8cdc-3aac9b2b3054',\n  'label': '1694',\n  'language': '',\n  'detail': '',\n  'data': {'logicalType': '1'},\n  'props': [],\n  'notes': ['Import batch [development] 2023-01-13 19:35:45.939035',\n   'special>:creation_event_id E0088_M17LegacyId: M17'],\n  'status': '1',\n  'references': []},\n {'class': 'L',\n  'id': 'e35deaa9-a5dc-4306-be52-84b7f4614290',\n  'label': 'München, Bayerische Staatsbibliothek',\n  'language': '',\n  'detail': '',\n  'data': {'logicalType': '1'},\n  'props': [],\n  'notes': ['Import batch [development] 2023-01-13 19:35:45.939035',\n   \"Making location 'München, Bayerische Staatsbibliothek' from M81 by field repository_label.\"],\n  'status': '1',\n  'references': [],\n  'legacyId': 'L_from_M81'},\n {'class': 'V',\n  'id': 'eca467aa-3539-4347-afac-c90aff9ffcdb',\n  'label': 'Cod. lat. 9558',\n  'language': '',\n  'detail': '',\n  'data': {'logicalType': '1'},\n  'props': [],\n  'notes': ['Import batch [development] 2023-01-13 19:35:45.939035',\n   'propvalue>88:M81:subcollection_and_shelf_number_concatenated:Cod. lat. 9558'],\n  'status': '1',\n  'references': []},\n {'class': 'V',\n  'id': '6a74105d-9f58-4212-a303-328b7c3db1ee',\n  'label': '149',\n  'language': '',\n  'detail': '',\n  'data': {'logicalType': '1'},\n  'props': [],\n  'notes': ['Import batch [development] 2023-01-13 19:35:45.939035',\n   'propvalue>88:M81:folios_total:149'],\n  'status': '1',\n  'references': []},\n {'class': 'E',\n  'id': 'a6b5e758-c59c-4643-999a-0a90a2ae977f',\n  'label': 'Creation of München, Bayerische Staatsbibliothek, Cod. lat. 9558',\n  'language': '',\n  'detail': '',\n  'data': {'logicalType': '1'},\n  'props': [],\n  'notes': ['Import batch [development] 2023-01-13 19:35:45.939035',\n   'special>:creation_event_id E0089_M81'],\n  'status': '1',\n  'references': [],\n  'legacyId': 'E0089_M81'},\n {'class': 'V',\n  'id': 'b4479e4c-fdca-45ff-a137-11b9faa50860',\n  'label': '1399',\n  'language': '',\n  'detail': '',\n  'data': {'logicalType': '1'},\n  'props': [],\n  'notes': ['Import batch [development] 2023-01-13 19:35:45.939035',\n   'special>:creation_event_id E0089_M81LegacyId: M81'],\n  'status': '1',\n  'references': []},\n {'class': 'L',\n  'id': '28155c83-59a5-44cb-9152-6b05c03878d8',\n  'label': 'Lichfield, Lichfield Record Office',\n  'language': '',\n  'detail': '',\n  'data': {'logicalType': '1'},\n  'props': [],\n  'notes': ['Import batch [development] 2023-01-13 19:35:45.939035',\n   \"Making location 'Lichfield, Lichfield Record Office' from M108 by field repository_label.\"],\n  'status': '1',\n  'references': [],\n  'legacyId': 'L_from_M108'},\n {'class': 'V',\n  'id': 'df467012-693b-44b4-9571-4fa20853852f',\n  'label': 'B/A/1/14i',\n  'language': '',\n  'detail': '',\n  'data': {'logicalType': '1'},\n  'props': [],\n  'notes': ['Import batch [development] 2023-01-13 19:35:45.939035',\n   'propvalue>89:M108:subcollection_and_shelf_number_concatenated:B/A/1/14i'],\n  'status': '1',\n  'references': []},\n {'class': 'E',\n  'id': '0d892ac7-48ea-4f3a-8644-6eb995426705',\n  'label': 'Creation of Lichfield, Lichfield Record Office, B/A/1/14i',\n  'language': '',\n  'detail': '',\n  'data': {'logicalType': '1'},\n  'props': [],\n  'notes': ['Import batch [development] 2023-01-13 19:35:45.939035',\n   'special>:creation_event_id E0090_M108'],\n  'status': '1',\n  'references': [],\n  'legacyId': 'E0090_M108'},\n ...]"
     },
     "execution_count": 19,
     "metadata": {},
     "output_type": "execute_result"
    }
   ],
   "source": [
    "dh.additional_entities\n"
   ],
   "metadata": {
    "collapsed": false
   }
  },
  {
   "cell_type": "code",
   "execution_count": null,
   "outputs": [],
   "source": [
    "# Log tables google sheet\n",
    "# https://docs.google.com/spreadsheets/d/1UpbJckLrRYTCz7wcEYhhcc-ihJxiUENx1unCCQqE4TE/edit#gid=0\n",
    "\n",
    "\n",
    "# d.open_gsheet(\"logtables\",\"https://docs.google.com/spreadsheets/d/1UpbJckLrRYTCz7wcEYhhcc-ihJxiUENx1unCCQqE4TE\")\n",
    "\n",
    "# d.write_df_to_gsheet(\"logtables\", \"values\", tables[\"values\"])\n",
    "# d.write_df_to_gsheet(\"logtables\", \"resources\", tables[\"resources\"])\n",
    "# d.write_df_to_gsheet(\"logtables\", \"locations\", tables[\"locations\"])\n",
    "# d.write_df_to_gsheet(\"logtables\", \"events\", tables[\"events\"])\n",
    "# d.write_df_to_gsheet(\"logtables\", \"props\", tables[\"props\"])\n",
    "\n"
   ],
   "metadata": {
    "collapsed": false
   }
  },
  {
   "cell_type": "code",
   "execution_count": 156,
   "outputs": [
    {
     "name": "stdout",
     "output_type": "stream",
     "text": [
      "20 2023-01-17 14:07:00 : Opening gsheet handle discouraged\n"
     ]
    }
   ],
   "source": [
    "d.open_gsheet(\"discouraged\",\"https://docs.google.com/spreadsheets/d/10x8TV2OmkcGt6zHw-3B-I3BhonETa0iQV424vCB9qSQ/edit#gid=0\")"
   ],
   "metadata": {
    "collapsed": false
   }
  },
  {
   "cell_type": "code",
   "execution_count": 157,
   "outputs": [
    {
     "data": {
      "text/plain": "['C2090',\n 'C0408',\n 'C0410',\n 'C3069',\n 'C0602',\n 'C0165',\n 'C0394',\n 'C0541',\n 'C0653',\n 'C0744',\n 'C0395',\n 'C0417',\n 'C2776',\n 'C0125',\n 'C0231',\n 'C0611',\n 'C0612',\n 'C0683',\n 'C0764',\n 'C0784',\n 'C0433',\n 'C0636',\n 'C0701',\n 'C1271',\n 'C1272',\n 'C1273',\n 'C0449',\n 'C0455',\n 'C0457',\n 'C0531',\n 'C0475',\n 'C0672',\n 'C0432',\n 'C0439',\n 'C0441',\n 'C0673',\n 'C0494',\n 'C0495',\n 'C0205',\n 'C0206',\n 'C0207',\n 'C0498',\n 'C0505',\n 'C0518',\n 'C0519',\n 'C0520',\n 'C2087',\n 'C0203',\n 'C0496',\n 'C0497',\n 'C0502',\n 'C0503',\n 'C0421',\n 'C0422',\n 'C0174',\n 'C0176',\n 'C0183',\n 'C0184',\n 'C0175',\n 'C0177',\n 'C2091',\n 'C0210',\n 'C0499',\n 'C0500',\n 'C1112',\n 'C0628',\n 'C0630',\n 'C0180',\n 'C0219',\n 'C0525',\n 'C0529',\n 'C0627',\n 'C0629',\n 'C0238',\n 'C0278',\n 'C0515',\n 'C0516',\n 'C0115',\n 'C0179',\n 'C0240',\n 'C0030',\n 'C0924',\n 'C0925',\n 'C0926',\n 'C0622',\n 'C0249',\n 'C0208',\n 'C0028',\n 'C0029',\n 'C2096',\n 'C0489',\n 'C1158',\n 'C1169',\n 'C2600',\n 'C2412',\n 'C0023',\n 'C0025',\n 'C2168',\n 'C0710',\n 'C0443',\n 'C0436',\n 'C0661',\n 'C0752',\n 'C0414',\n 'C0102',\n 'C0954',\n 'C0955',\n 'C0309',\n 'C0310',\n 'C0675',\n 'C0659',\n 'C0551',\n 'C1059',\n 'C1598',\n 'C1819',\n 'C0051',\n 'C0052',\n 'C0504',\n 'C0272',\n 'C0273',\n 'C0552',\n 'C0459',\n 'C0528',\n 'C2113',\n 'C2115',\n 'C1465',\n 'C2086',\n 'C0353',\n 'C0903',\n 'C0010',\n 'C0419',\n 'C0916',\n 'C2638',\n 'C2651',\n 'C0862',\n 'C2416',\n 'C0665',\n 'C0666',\n 'C0667',\n 'C0330',\n 'C0317',\n 'C0314',\n 'C0565',\n 'C0566',\n 'C0935',\n 'C0789',\n 'C2356',\n 'C1542',\n 'C2932',\n 'C2933',\n 'C2399',\n 'C0320',\n 'C0016',\n 'C0032',\n 'C0027',\n 'C0803',\n 'C0036',\n 'C2662',\n 'C0026',\n 'C0057',\n 'C0215',\n 'C0268',\n 'C0404',\n 'C0488',\n 'C0690',\n 'C0674',\n 'C0613',\n 'C0750',\n 'C0805',\n 'C0161',\n 'C0544',\n 'C0959',\n 'C0034',\n 'C0202',\n 'C0554',\n 'C0116',\n 'C0517',\n 'C0527',\n 'C0236',\n 'C0631',\n 'C0632',\n 'C0462',\n 'C0463',\n 'C2097',\n 'C0108',\n 'C2088',\n 'C0445',\n 'C0212',\n 'C0435',\n 'C0204',\n 'C0262',\n 'C0237',\n 'C0222',\n 'C0091',\n 'C0464',\n 'C0465',\n 'C0490',\n 'C0513',\n 'C0553',\n 'C0739',\n 'C0740',\n 'C0117',\n 'C0461',\n 'C0511',\n 'C0514',\n 'C0522',\n 'C0510',\n 'C0512',\n 'C0521',\n 'C0523',\n 'C0946',\n 'C0053',\n 'C0055',\n 'C0056',\n 'C0485',\n 'C0087',\n 'C0607',\n 'C0957',\n 'C0664',\n 'C0318',\n 'C0332',\n 'C1075',\n 'C1117',\n 'C1160',\n 'C1161',\n 'C1241',\n 'C1274',\n 'C1287',\n 'C0223',\n 'C0230',\n 'C0625',\n 'C0626',\n 'C1004',\n 'C1179',\n 'C0491',\n 'C2089',\n 'C2258',\n 'C2299',\n 'C2269',\n 'C1159',\n 'C2181',\n 'C0721',\n 'C0725',\n 'C0883',\n 'C1810',\n 'C2075',\n 'C2595',\n 'C0097',\n 'C1067',\n 'C0933',\n 'C0083',\n 'C0191',\n 'C0282',\n 'C0348',\n 'C0349',\n 'C0350',\n 'C0427',\n 'C0568',\n 'C0569',\n 'C0760',\n 'C0851',\n 'C1042',\n 'C1586',\n 'C1609',\n 'C1617',\n 'C1931',\n 'C1936',\n 'C1961',\n 'C1969',\n 'C2150',\n 'C2235',\n 'C2260',\n 'C2261',\n 'C2265',\n 'C3258',\n 'C3259',\n 'C3260',\n 'C3314',\n 'C3315',\n 'C3316',\n 'C3317',\n 'C3318',\n 'C3324',\n 'C3325',\n 'C3326',\n 'C3327',\n 'C3330',\n 'C3331']"
     },
     "execution_count": 157,
     "metadata": {},
     "output_type": "execute_result"
    }
   ],
   "source": [
    "discouraged_concepts = dh.tables['concepts'][tables['concepts']['status']==\"discouraged\"][['legacyId','label']]\n",
    "discouraged_concepts_ids_list = discouraged_concepts['legacyId'].to_list()\n",
    "discouraged_concepts_ids_list"
   ],
   "metadata": {
    "collapsed": false
   }
  },
  {
   "cell_type": "code",
   "execution_count": 158,
   "outputs": [
    {
     "data": {
      "text/plain": "'house of origin'"
     },
     "execution_count": 158,
     "metadata": {},
     "output_type": "execute_result"
    }
   ],
   "source": [
    "discouraged_concepts.set_index('legacyId').loc['C3324']['label']"
   ],
   "metadata": {
    "collapsed": false
   }
  },
  {
   "cell_type": "code",
   "execution_count": 159,
   "outputs": [
    {
     "name": "stdout",
     "output_type": "stream",
     "text": [
      "R0031_locations\n",
      "['L0275_R0031', 'L0442_R0031']\n",
      "actions\n",
      "['A0182', 'A0030', 'A0104']\n",
      "concepts\n",
      "['C2090', 'C0408', 'C0409', 'C0410', 'C0948', 'C0949', 'C0950', 'C3069', 'C0602', 'C0165', 'C0394', 'C0541', 'C0653', 'C0744', 'C0395', 'C2003', 'C0416', 'C0417', 'C2776', 'C0125', 'C0231', 'C0611', 'C0612', 'C0683', 'C0764', 'C0784', 'C0415', 'C0433', 'C0636', 'C0806', 'C0160', 'C0647', 'C0701', 'C1230', 'C1231', 'C1271', 'C1272', 'C1273', 'C0335', 'C0194', 'C0376', 'C0449', 'C0454', 'C0455', 'C0456', 'C0457', 'C0476', 'C0530', 'C0531', 'C0474', 'C0475', 'C0672', 'C0217', 'C0432', 'C0438', 'C0439', 'C0440', 'C0441', 'C0673', 'C0860', 'C0863', 'C0864', 'C1811', 'C0822', 'C1975', 'C2774', 'C0494', 'C0495', 'C0205', 'C0206', 'C0207', 'C0498', 'C0505', 'C0518', 'C0519', 'C0520', 'C2087', 'C0203', 'C0496', 'C0497', 'C0502', 'C0503', 'C0421', 'C0422', 'C0174', 'C0176', 'C0183', 'C0184', 'C0175', 'C0177', 'C2091', 'C0210', 'C0499', 'C0500', 'C1112', 'C0628', 'C0630', 'C0180', 'C0219', 'C0525', 'C0529', 'C0627', 'C0629', 'C0238', 'C0278', 'C0515', 'C0516', 'C0115', 'C0179', 'C0240', 'C0030', 'C0924', 'C0925', 'C0926', 'C0621', 'C0622', 'C0249', 'C0006', 'C0008', 'C0208', 'C0022', 'C0028', 'C0029', 'C0132', 'C2096', 'C0489', 'C1158', 'C1169', 'C2600', 'C0663', 'C2412', 'C0023', 'C0025', 'C0035', 'C2168', 'C0709', 'C0710', 'C0442', 'C0443', 'C0436', 'C0437', 'C0661', 'C0501', 'C0164', 'C0677', 'C0694', 'C0752', 'C0413', 'C0414', 'C0102', 'C0452', 'C0954', 'C0955', 'C0309', 'C0310', 'C0213', 'C0675', 'C0658', 'C0659', 'C0550', 'C0551', 'C1059', 'C1598', 'C1819', 'C0001', 'C0051', 'C0052', 'C0122', 'C0504', 'C0019', 'C0227', 'C0272', 'C0273', 'C0532', 'C0552', 'C0459', 'C0528', 'C2113', 'C2115', 'C1465', 'C2086', 'C0353', 'C0902', 'C0903', 'C0010', 'C0418', 'C0918', 'C0970', 'C0419', 'C0916', 'C2638', 'C2651', 'C0862', 'C2416', 'C0411', 'C1505', 'C0665', 'C0666', 'C0667', 'C0330', 'C0317', 'C0314', 'C0565', 'C0566', 'C0935', 'C0789', 'C0756', 'C2356', 'C1542', 'C0012', 'C2932', 'C2933', 'C2399', 'C0234', 'C0320', 'C0016', 'C0834', 'C1590', 'C0032', 'C0027', 'C0803', 'C0036', 'C2662', 'C0026', 'C0057', 'C0215', 'C0268', 'C0404', 'C0488', 'C0690', 'C0674', 'C0613', 'C0750', 'C0804', 'C0805', 'C0161', 'C0543', 'C0544', 'C1178', 'C0960', 'C0961', 'C0959', 'C0034', 'C0202', 'C0554', 'C0116', 'C0517', 'C0527', 'C0236', 'C0631', 'C0632', 'C0462', 'C0463', 'C2097', 'C0108', 'C2088', 'C0445', 'C0212', 'C0435', 'C0204', 'C0262', 'C0237', 'C0222', 'C0091', 'C0464', 'C0465', 'C0490', 'C0513', 'C0553', 'C0739', 'C0740', 'C0117', 'C0461', 'C0511', 'C0514', 'C0522', 'C0510', 'C0512', 'C0521', 'C0523', 'C0946', 'C0053', 'C0054', 'C0055', 'C0056', 'C1108', 'C0823', 'C0971', 'C2026', 'C2105', 'C0031', 'C0485', 'C0038', 'C0087', 'C0723', 'C0937', 'C0943', 'C1249', 'C0606', 'C0607', 'C0944', 'C0947', 'C0951', 'C0952', 'C0957', 'C2826', 'C0664', 'C0318', 'C0332', 'C1075', 'C1117', 'C1160', 'C1161', 'C1233', 'C1241', 'C1274', 'C1285', 'C1287', 'C0223', 'C0230', 'C0625', 'C0626', 'C1004', 'C1179', 'C0491', 'C2089', 'C2258', 'C2299', 'C2269', 'C1159', 'C1947', 'C2181', 'C0308', 'C0311', 'C0720', 'C0721', 'C0724', 'C0725', 'C0882', 'C0883', 'C0007', 'C1810', 'C0137', 'C2074', 'C2075', 'C2595', 'C0097', 'C1067', 'C0266', 'C0933', 'C2220', 'C0799', 'C0800', 'C1974', 'C2027', 'C2775', 'C0483', 'C0067', 'C0083', 'C0191', 'C0282', 'C0348', 'C0349', 'C0350', 'C0427', 'C0446', 'C0480', 'C0567', 'C0568', 'C0569', 'C0759', 'C0760', 'C0851', 'C1042', 'C1586', 'C1587', 'C1608', 'C1609', 'C1617', 'C1628', 'C1872', 'C1930', 'C1931', 'C1935', 'C1936', 'C1960', 'C1961', 'C1969', 'C2122', 'C2149', 'C2150', 'C2235', 'C2260', 'C2261', 'C2263', 'C2264', 'C2265', 'C3207', 'C3258', 'C3259', 'C3260', 'C3314', 'C3315', 'C3316', 'C3317', 'C3318', 'C3324', 'C3325', 'C3326', 'C3327', 'C3330', 'C3331']\n"
     ]
    }
   ],
   "source": [
    "found = [('table','legacyId','column_with_concept','discouraged_concept_id','discouraged_concept_label')]\n",
    "\n",
    "for t, tt in tables.items():\n",
    "    #df = tables['resources']\n",
    "    df = tables[t]\n",
    "    #mask = np.column_stack([df[col].str.contains(r\"C00\", na=False) for col in df])\n",
    "    mask = np.column_stack([df[col].isin(discouraged_concepts_ids_list) for col in df])\n",
    "    result = df.loc[mask.any(axis=1)]\n",
    "    if not result.empty:\n",
    "        #found[t] = []\n",
    "        print(t)\n",
    "        lids = result['legacyId'].to_list()\n",
    "        print(lids)\n",
    "        for l in lids:\n",
    "            target = df[df['legacyId'] == l]\n",
    "            for c in target.columns:\n",
    "                #print(target[c].iloc[0])\n",
    "                if c==\"legacyId\":\n",
    "                    continue\n",
    "                if t==\"concepts\":\n",
    "                    if target['status'].iloc[0] == \"discouraged\":\n",
    "                        continue\n",
    "                if target[c].iloc[0] in discouraged_concepts_ids_list:\n",
    "                    found.append((t,l,c, target[c].iloc[0],discouraged_concepts.set_index('legacyId').loc[target[c].iloc[0]]['label']))\n",
    "\n"
   ],
   "metadata": {
    "collapsed": false
   }
  },
  {
   "cell_type": "code",
   "execution_count": 160,
   "outputs": [
    {
     "data": {
      "text/plain": "0              table     legacyId    column_with_concept  \\\n1    R0031_locations  L0275_R0031              class_id2   \n2    R0031_locations  L0442_R0031              class_id2   \n3            actions        A0182      related_entity_id   \n4            actions        A0030    subject_semantic_id   \n5            actions        A0030    actant1_semantic_id   \n..               ...          ...                    ...   \n199         concepts        C2149  grammatical_number_id   \n200         concepts        C2263          components_id   \n201         concepts        C2264              plural_id   \n202         concepts        C2264  grammatical_number_id   \n203         concepts        C3207              plural_id   \n\n0   discouraged_concept_id discouraged_concept_label  \n1                    C0851                     locus  \n2                    C0851                     locus  \n3                    C0165       extra tempus gracie  \n4                    C1465                 adversary  \n5                    C1465                 adversary  \n..                     ...                       ...  \n199                  C0954                  singular  \n200                  C2265                apostolici  \n201                  C2265                apostolici  \n202                  C0954                  singular  \n203                  C1161                    idiote  \n\n[203 rows x 5 columns]",
      "text/html": "<div>\n<style scoped>\n    .dataframe tbody tr th:only-of-type {\n        vertical-align: middle;\n    }\n\n    .dataframe tbody tr th {\n        vertical-align: top;\n    }\n\n    .dataframe thead th {\n        text-align: right;\n    }\n</style>\n<table border=\"1\" class=\"dataframe\">\n  <thead>\n    <tr style=\"text-align: right;\">\n      <th></th>\n      <th>table</th>\n      <th>legacyId</th>\n      <th>column_with_concept</th>\n      <th>discouraged_concept_id</th>\n      <th>discouraged_concept_label</th>\n    </tr>\n  </thead>\n  <tbody>\n    <tr>\n      <th>1</th>\n      <td>R0031_locations</td>\n      <td>L0275_R0031</td>\n      <td>class_id2</td>\n      <td>C0851</td>\n      <td>locus</td>\n    </tr>\n    <tr>\n      <th>2</th>\n      <td>R0031_locations</td>\n      <td>L0442_R0031</td>\n      <td>class_id2</td>\n      <td>C0851</td>\n      <td>locus</td>\n    </tr>\n    <tr>\n      <th>3</th>\n      <td>actions</td>\n      <td>A0182</td>\n      <td>related_entity_id</td>\n      <td>C0165</td>\n      <td>extra tempus gracie</td>\n    </tr>\n    <tr>\n      <th>4</th>\n      <td>actions</td>\n      <td>A0030</td>\n      <td>subject_semantic_id</td>\n      <td>C1465</td>\n      <td>adversary</td>\n    </tr>\n    <tr>\n      <th>5</th>\n      <td>actions</td>\n      <td>A0030</td>\n      <td>actant1_semantic_id</td>\n      <td>C1465</td>\n      <td>adversary</td>\n    </tr>\n    <tr>\n      <th>...</th>\n      <td>...</td>\n      <td>...</td>\n      <td>...</td>\n      <td>...</td>\n      <td>...</td>\n    </tr>\n    <tr>\n      <th>199</th>\n      <td>concepts</td>\n      <td>C2149</td>\n      <td>grammatical_number_id</td>\n      <td>C0954</td>\n      <td>singular</td>\n    </tr>\n    <tr>\n      <th>200</th>\n      <td>concepts</td>\n      <td>C2263</td>\n      <td>components_id</td>\n      <td>C2265</td>\n      <td>apostolici</td>\n    </tr>\n    <tr>\n      <th>201</th>\n      <td>concepts</td>\n      <td>C2264</td>\n      <td>plural_id</td>\n      <td>C2265</td>\n      <td>apostolici</td>\n    </tr>\n    <tr>\n      <th>202</th>\n      <td>concepts</td>\n      <td>C2264</td>\n      <td>grammatical_number_id</td>\n      <td>C0954</td>\n      <td>singular</td>\n    </tr>\n    <tr>\n      <th>203</th>\n      <td>concepts</td>\n      <td>C3207</td>\n      <td>plural_id</td>\n      <td>C1161</td>\n      <td>idiote</td>\n    </tr>\n  </tbody>\n</table>\n<p>203 rows × 5 columns</p>\n</div>"
     },
     "execution_count": 160,
     "metadata": {},
     "output_type": "execute_result"
    }
   ],
   "source": [
    "rdf = pd.DataFrame(found)\n",
    "new_header = rdf.iloc[0] #grab the first row for the header\n",
    "rdf = rdf[1:] #take the data less the header row\n",
    "rdf.columns = new_header\n",
    "rdf"
   ],
   "metadata": {
    "collapsed": false
   }
  },
  {
   "cell_type": "code",
   "execution_count": 161,
   "outputs": [
    {
     "name": "stdout",
     "output_type": "stream",
     "text": [
      "20 2023-01-17 14:07:30 : Trying to write target dataset 'discouraged_concepts_2023' to gsheet handle: discouraged\n",
      "20 2023-01-17 14:07:30 : Using existing output worksheet\n",
      "20 2023-01-17 14:07:31 : Successfully written to gsheet handle: discouraged\n"
     ]
    }
   ],
   "source": [
    "d.write_df_to_gsheet(\"discouraged\", \"discouraged_concepts_2023\", rdf)"
   ],
   "metadata": {
    "collapsed": false
   }
  },
  {
   "cell_type": "code",
   "execution_count": null,
   "outputs": [],
   "source": [
    "#mask = np.column_stack([df[col].str.contains(r\"\\^\", na=False) for col in df])\n",
    "#df.loc[mask.any(axis=1)]\n"
   ],
   "metadata": {
    "collapsed": false
   }
  }
 ],
 "metadata": {
  "kernelspec": {
   "display_name": "python38",
   "language": "python",
   "name": "python38"
  },
  "language_info": {
   "codemirror_mode": {
    "name": "ipython",
    "version": 3
   },
   "file_extension": ".py",
   "mimetype": "text/x-python",
   "name": "python",
   "nbconvert_exporter": "python",
   "pygments_lexer": "ipython3",
   "version": "3.8.12"
  }
 },
 "nbformat": 4,
 "nbformat_minor": 1
}
