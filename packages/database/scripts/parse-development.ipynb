{
 "cells": [
  {
   "cell_type": "markdown",
   "metadata": {
    "pycharm": {
     "name": "#%% md\n"
    }
   },
   "source": [
    "# Parse development notebook\n",
    "\n",
    "### Notebook purpose\n",
    "This notebook is development space for python parse.ts replacement and upgrade.\n",
    "It reads specified google sheets and output actants.json file, which can be imported to inkVisitor RethinkDB.py\n",
    "\n",
    "### Prerequisities\n",
    " * generated json schema for all used objects (run generate-json-schemas.py)\n",
    "\n",
    "### JSon schemas for the actants\n",
    "...\n",
    "..."
   ]
  },
  {
   "cell_type": "markdown",
   "metadata": {},
   "source": [
    "### The import tables:\n",
    " * Texts\n",
    " * Manuscripts (must be done alongside T, David thinks) = O of class defined by col. class_id\n",
    " * Resources\n",
    " * C\n",
    " * A"
   ]
  },
  {
   "cell_type": "markdown",
   "metadata": {
    "pycharm": {
     "name": "#%% md\n"
    }
   },
   "source": [
    "### Input variables"
   ]
  },
  {
   "cell_type": "code",
   "execution_count": 21,
   "metadata": {
    "pycharm": {
     "name": "#%%\n"
    }
   },
   "outputs": [],
   "source": [
    "#                  sheet_name,  code, header_in_row\n",
    "input_sheets = {\n",
    "    \"texts\" : (\"Texts\",\"13eVorFf7J9R8YzO7TmJRVLzIIwRJS737r7eFbH1boyE\", 5), #https://docs.google.com/spreadsheets/d/13eVorFf7J9R8YzO7TmJRVLzIIwRJS737r7eFbH1boyE/edit#gid=2056508047\n",
    "    \"manuscripts\" : (\"Manuscripts\", \"13eVorFf7J9R8YzO7TmJRVLzIIwRJS737r7eFbH1boyE\", 4),\n",
    "    \"resources\" : (\"Resources\", \"13eVorFf7J9R8YzO7TmJRVLzIIwRJS737r7eFbH1boyE\", 4),\n",
    "    \"actions\" :  (\"Statements\",\"1vzY6opQeR9hZVW6fmuZu2sgy_izF8vqGGhBQDxqT_eQ\", 4), # https://docs.google.com/spreadsheets/d/1vzY6opQeR9hZVW6fmuZu2sgy_izF8vqGGhBQDxqT_eQ/edit#gid=0\n",
    "    \"concepts\" : (\"Concepts\",\"1nSqnN6cjtdWK-y6iKZlJv4iGdhgtqkRPus8StVgExP4\", 4) # https://docs.google.com/spreadsheets/d/1nSqnN6cjtdWK-y6iKZlJv4iGdhgtqkRPus8StVgExP4/edit#gid=0\n",
    "}\n",
    "\n",
    "root_sheet_url = \"https://docs.google.com/spreadsheets/d/\"\n",
    "google_api_dotenv_path = \"../env/.env.googleapi\"  # contains google api specs for sheet access with Dator\n",
    "schema_path = '../schemas/' # path for dir with scheas\n",
    "json_schemas = {}  # holder for schemas, so they can be used for jsonschema validate"
   ]
  },
  {
   "cell_type": "markdown",
   "metadata": {
    "pycharm": {
     "name": "#%% md\n"
    }
   },
   "source": [
    "### Libraries"
   ]
  },
  {
   "cell_type": "code",
   "execution_count": 22,
   "metadata": {
    "pycharm": {
     "name": "#%%\n"
    }
   },
   "outputs": [],
   "source": [
    "import os, warlock, json\n",
    "from jsonschema import validate\n",
    "import dissinetpytools.dator as dator\n",
    "from dotenv import load_dotenv\n",
    "import pandas as pd"
   ]
  },
  {
   "cell_type": "markdown",
   "metadata": {
    "pycharm": {
     "name": "#%% md\n"
    }
   },
   "source": [
    "### Initialisation"
   ]
  },
  {
   "cell_type": "code",
   "execution_count": 23,
   "metadata": {
    "pycharm": {
     "name": "#%%\n"
    }
   },
   "outputs": [
    {
     "name": "stdout",
     "output_type": "stream",
     "text": [
      "20 2022-02-14 21:31:30 : Google authentification start\n",
      "20 2022-02-14 21:31:30 : Google authentification end\n",
      "20 2022-02-14 21:31:30 : Dator initiation succesfull end\n"
     ]
    }
   ],
   "source": [
    "load_dotenv(google_api_dotenv_path) # fills os.environ['GDRIVE_API_CREDENTIALS']\n",
    "d = dator.Dator(loglevel=10, print_log_online=True, cache=True, project_name=\"inkvisitor-import\") # expects 'GDRIVE_API_CREDENTIALS' in the global system variables (os.environ)\n",
    "d.google_authenticate()\n",
    "logger = d.logger"
   ]
  },
  {
   "cell_type": "code",
   "execution_count": 24,
   "metadata": {
    "pycharm": {
     "name": "#%%\n"
    }
   },
   "outputs": [
    {
     "name": "stderr",
     "output_type": "stream",
     "text": [
      "2022-02-14 21:31:30,331 INFO Class IActant available.\n",
      "2022-02-14 21:31:30,333 INFO Class IAction available.\n",
      "2022-02-14 21:31:30,335 INFO Class IEntity available.\n",
      "2022-02-14 21:31:30,336 INFO Class ILabel available.\n",
      "2022-02-14 21:31:30,337 INFO Class IProp available.\n",
      "2022-02-14 21:31:30,339 INFO Class IResource available.\n",
      "2022-02-14 21:31:30,340 INFO Class IStatement available.\n",
      "2022-02-14 21:31:30,342 INFO Class ITerritory available.\n",
      "2022-02-14 21:31:30,343 INFO Class IUser available.\n"
     ]
    }
   ],
   "source": [
    "# read all schemas inside and warlock them\n",
    "schema_filenames = os.listdir(schema_path)\n",
    "for schema in schema_filenames:\n",
    "    name = schema.split(\".\")[0]\n",
    "    file_handler = open(schema_path + schema,\"r\")\n",
    "    schema_json = json.load(file_handler)\n",
    "    json_schemas[name] = schema_json\n",
    "    globals()[name] = warlock.model_factory(schema_json)\n",
    "    logger.info(\"Class \" + name + \" available.\")"
   ]
  },
  {
   "cell_type": "code",
   "execution_count": 25,
   "metadata": {
    "pycharm": {
     "name": "#%%\n"
    }
   },
   "outputs": [
    {
     "name": "stderr",
     "output_type": "stream",
     "text": [
      "2022-02-14 21:31:30,365 INFO Calling for texts with sheet_name Texts.\n"
     ]
    },
    {
     "name": "stdout",
     "output_type": "stream",
     "text": [
      "20 2022-02-14 21:31:31 : Loading dataset Texts\n",
      "20 2022-02-14 21:31:31 : Opting for variant header at row 5.\n",
      "20 2022-02-14 21:31:32 : Dropping empty columns in the dataset Texts : (1011, 92)\n",
      "20 2022-02-14 21:31:32 : Deleted 869 empty rows by label.\n",
      "20 2022-02-14 21:31:32 : Loaded and prepared dataset Texts : (142, 92)\n"
     ]
    },
    {
     "name": "stderr",
     "output_type": "stream",
     "text": [
      "2022-02-14 21:31:32,903 INFO Calling for manuscripts with sheet_name Manuscripts.\n"
     ]
    },
    {
     "name": "stdout",
     "output_type": "stream",
     "text": [
      "20 2022-02-14 21:31:32 : Making pickle cache of  Texts : (142, 92)\n",
      "20 2022-02-14 21:31:33 : Loading dataset Manuscripts\n",
      "20 2022-02-14 21:31:33 : Opting for variant header at row 4.\n"
     ]
    },
    {
     "name": "stderr",
     "output_type": "stream",
     "text": [
      "2022-02-14 21:31:34,420 INFO Calling for resources with sheet_name Resources.\n"
     ]
    },
    {
     "name": "stdout",
     "output_type": "stream",
     "text": [
      "20 2022-02-14 21:31:34 : Dropping empty columns in the dataset Manuscripts : (999, 43)\n",
      "20 2022-02-14 21:31:34 : Deleted 860 empty rows by label.\n",
      "20 2022-02-14 21:31:34 : Loaded and prepared dataset Manuscripts : (139, 43)\n",
      "20 2022-02-14 21:31:34 : Making pickle cache of  Manuscripts : (139, 43)\n",
      "20 2022-02-14 21:31:34 : Loading dataset Resources\n",
      "20 2022-02-14 21:31:34 : Opting for variant header at row 4.\n"
     ]
    },
    {
     "name": "stderr",
     "output_type": "stream",
     "text": [
      "2022-02-14 21:31:35,974 INFO Calling for actions with sheet_name Statements.\n"
     ]
    },
    {
     "name": "stdout",
     "output_type": "stream",
     "text": [
      "20 2022-02-14 21:31:35 : Dropping empty columns in the dataset Resources : (1000, 20)\n",
      "20 2022-02-14 21:31:35 : Deleted 934 empty rows by label.\n",
      "20 2022-02-14 21:31:35 : Loaded and prepared dataset Resources : (66, 20)\n",
      "20 2022-02-14 21:31:35 : Making pickle cache of  Resources : (66, 20)\n",
      "20 2022-02-14 21:31:36 : Loading dataset Statements\n",
      "20 2022-02-14 21:31:36 : Opting for variant header at row 4.\n"
     ]
    },
    {
     "name": "stderr",
     "output_type": "stream",
     "text": [
      "2022-02-14 21:31:38,335 INFO Calling for concepts with sheet_name Concepts.\n"
     ]
    },
    {
     "name": "stdout",
     "output_type": "stream",
     "text": [
      "20 2022-02-14 21:31:38 : Dropping empty columns in the dataset Statements : (1030, 73)\n",
      "20 2022-02-14 21:31:38 : Deleted 588 empty rows by label.\n",
      "20 2022-02-14 21:31:38 : Loaded and prepared dataset Statements : (442, 73)\n",
      "20 2022-02-14 21:31:38 : Making pickle cache of  Statements : (442, 73)\n",
      "20 2022-02-14 21:31:39 : Loading dataset Concepts\n",
      "20 2022-02-14 21:31:39 : Opting for variant header at row 4.\n",
      "20 2022-02-14 21:31:43 : Dropping empty columns in the dataset Concepts : (3019, 57)\n",
      "20 2022-02-14 21:31:43 : Deleted 724 empty rows by label.\n",
      "20 2022-02-14 21:31:43 : Loaded and prepared dataset Concepts : (2295, 57)\n",
      "20 2022-02-14 21:31:43 : Making pickle cache of  Concepts : (2295, 57)\n"
     ]
    }
   ],
   "source": [
    "# load all input tables\n",
    "tables = {}\n",
    "header_infos = {}\n",
    "for key, sheet in input_sheets.items():\n",
    "    logger.info(f\"Calling for {key} with sheet_name {sheet[0]}.\")\n",
    "    tables[key], header_infos[key] = d.load_df_from_gsheet(sheet[0],root_sheet_url + sheet[1], sheet[0], fromCache=True, header_in_row=sheet[2], clean=True, fillna=True, cleanByColumn=\"label\") # , clean=True, fillna=True, cleanByColumn='id'"
   ]
  },
  {
   "cell_type": "code",
   "execution_count": 26,
   "metadata": {
    "pycharm": {
     "name": "#%%\n"
    }
   },
   "outputs": [
    {
     "data": {
      "text/plain": "       id                                              label language  \\\n0      T1       Process against Bernard Niort and his family  English   \n1      T2  Sentences of William Arnold and Stephen of Sai...  English   \n2      T3                 Peter Seila’s Register of Penances  English   \n3      T4        Register FFF of the Carcassonne inquisition  English   \n4      T5  Confirmation of depositions before Ferrer and ...  English   \n..    ...                                                ...      ...   \n137  T139  letter of Evervin of Steinfeld to Bernard of C...  English   \n138  T140                          letter from Liège to pope  English   \n139  T141                                   Annales Aquenses    Latin   \n140  T142                                   Annales Rodenses    Latin   \n141  T143                              Centurie Magdeburgice    Latin   \n\n    label_short                 text_name_original  \\\n0           NaN                                NaN   \n1           NaN                                NaN   \n2         Seila  Penitenciae fratris Petri Sellani   \n3           FFF                                NaN   \n4           NaN                                NaN   \n..          ...                                ...   \n137         NaN                                NaN   \n138         NaN                                NaN   \n139         NaN                                NaN   \n140         NaN                                NaN   \n141         NaN                                NaN   \n\n                                                detail region_covered  \\\n0                                          Early 1234.      Languedoc   \n1                                                  NaN      Languedoc   \n2    Penitenciae fratris Petri Sellani. Register of...      Languedoc   \n3                                                  NaN      Languedoc   \n4                                                  NaN      Languedoc   \n..                                                 ...            ...   \n137                                                NaN            NaN   \n138                                                NaN            NaN   \n139                                                NaN            NaN   \n140                                                NaN            NaN   \n141                                                NaN            NaN   \n\n                                   microregion_covered  \\\n0                                                  NaN   \n1                                Toulousain #Lauragais   \n2                                        Quercy (west)   \n3    Montségur #Lauragais #Cabardès #Quercy (east) ...   \n4                                                  NaN   \n..                                                 ...   \n137                                                NaN   \n138                                                NaN   \n139                                                NaN   \n140                                                NaN   \n141                                                NaN   \n\n                                         author_label language_id  ...  \\\n0                                                 NaN       C0938  ...   \n1            William Arnold #Stephen of Saint-Thibéry       C0938  ...   \n2                                                 NaN       C0938  ...   \n3    Ferrer #William Raymond #Pons Gary #Peter Durand       C0938  ...   \n4                                   Ferrer #Pons Gary       C0938  ...   \n..                                                ...         ...  ...   \n137                                               NaN       C0938  ...   \n138                                               NaN       C0938  ...   \n139                                               NaN       C0938  ...   \n140                                               NaN       C0938  ...   \n141                                               NaN       C0938  ...   \n\n    dissinet_coding_priority dissinet_person number_defendants number_persons  \\\n0                        NaN             NaN               NaN            NaN   \n1                        NaN             RS?               NaN            NaN   \n2                          1              RS               NaN            NaN   \n3                        NaN             NaN               NaN            NaN   \n4                        NaN             NaN               NaN            NaN   \n..                       ...             ...               ...            ...   \n137                      NaN             NaN               NaN            NaN   \n138                      NaN             NaN               NaN            NaN   \n139                      NaN             NaN               NaN            NaN   \n140                      NaN             NaN               NaN            NaN   \n141                      NaN             NaN               NaN            NaN   \n\n    persons_index_link places_index_link old_genre_general  old_genre_label  \\\n0                  NaN               NaN               NaN       deposition   \n1                  NaN               NaN          register         sentence   \n2                  NaN               NaN          register  sentence #culpa   \n3                  NaN               NaN          register       deposition   \n4                  NaN               NaN          register              NaN   \n..                 ...               ...               ...              ...   \n137                NaN               NaN               NaN              NaN   \n138                NaN               NaN               NaN              NaN   \n139                NaN               NaN               NaN              NaN   \n140                NaN               NaN               NaN              NaN   \n141                NaN               NaN               NaN              NaN   \n\n                                                  note parsing_rows_explained  \n0                                                  NaN                    NaN  \n1    End-folio sometimes cited  as 184v (e.g. Roche...                    NaN  \n2                                                  NaN                    NaN  \n3                                                  NaN                    NaN  \n4                                                  NaN                    NaN  \n..                                                 ...                    ...  \n137                                                NaN                    NaN  \n138                                                NaN                    NaN  \n139                                                NaN                    NaN  \n140                                                NaN                    NaN  \n141                                                NaN                    NaN  \n\n[142 rows x 92 columns]",
      "text/html": "<div>\n<style scoped>\n    .dataframe tbody tr th:only-of-type {\n        vertical-align: middle;\n    }\n\n    .dataframe tbody tr th {\n        vertical-align: top;\n    }\n\n    .dataframe thead th {\n        text-align: right;\n    }\n</style>\n<table border=\"1\" class=\"dataframe\">\n  <thead>\n    <tr style=\"text-align: right;\">\n      <th></th>\n      <th>id</th>\n      <th>label</th>\n      <th>language</th>\n      <th>label_short</th>\n      <th>text_name_original</th>\n      <th>detail</th>\n      <th>region_covered</th>\n      <th>microregion_covered</th>\n      <th>author_label</th>\n      <th>language_id</th>\n      <th>...</th>\n      <th>dissinet_coding_priority</th>\n      <th>dissinet_person</th>\n      <th>number_defendants</th>\n      <th>number_persons</th>\n      <th>persons_index_link</th>\n      <th>places_index_link</th>\n      <th>old_genre_general</th>\n      <th>old_genre_label</th>\n      <th>note</th>\n      <th>parsing_rows_explained</th>\n    </tr>\n  </thead>\n  <tbody>\n    <tr>\n      <th>0</th>\n      <td>T1</td>\n      <td>Process against Bernard Niort and his family</td>\n      <td>English</td>\n      <td>NaN</td>\n      <td>NaN</td>\n      <td>Early 1234.</td>\n      <td>Languedoc</td>\n      <td>NaN</td>\n      <td>NaN</td>\n      <td>C0938</td>\n      <td>...</td>\n      <td>NaN</td>\n      <td>NaN</td>\n      <td>NaN</td>\n      <td>NaN</td>\n      <td>NaN</td>\n      <td>NaN</td>\n      <td>NaN</td>\n      <td>deposition</td>\n      <td>NaN</td>\n      <td>NaN</td>\n    </tr>\n    <tr>\n      <th>1</th>\n      <td>T2</td>\n      <td>Sentences of William Arnold and Stephen of Sai...</td>\n      <td>English</td>\n      <td>NaN</td>\n      <td>NaN</td>\n      <td>NaN</td>\n      <td>Languedoc</td>\n      <td>Toulousain #Lauragais</td>\n      <td>William Arnold #Stephen of Saint-Thibéry</td>\n      <td>C0938</td>\n      <td>...</td>\n      <td>NaN</td>\n      <td>RS?</td>\n      <td>NaN</td>\n      <td>NaN</td>\n      <td>NaN</td>\n      <td>NaN</td>\n      <td>register</td>\n      <td>sentence</td>\n      <td>End-folio sometimes cited  as 184v (e.g. Roche...</td>\n      <td>NaN</td>\n    </tr>\n    <tr>\n      <th>2</th>\n      <td>T3</td>\n      <td>Peter Seila’s Register of Penances</td>\n      <td>English</td>\n      <td>Seila</td>\n      <td>Penitenciae fratris Petri Sellani</td>\n      <td>Penitenciae fratris Petri Sellani. Register of...</td>\n      <td>Languedoc</td>\n      <td>Quercy (west)</td>\n      <td>NaN</td>\n      <td>C0938</td>\n      <td>...</td>\n      <td>1</td>\n      <td>RS</td>\n      <td>NaN</td>\n      <td>NaN</td>\n      <td>NaN</td>\n      <td>NaN</td>\n      <td>register</td>\n      <td>sentence #culpa</td>\n      <td>NaN</td>\n      <td>NaN</td>\n    </tr>\n    <tr>\n      <th>3</th>\n      <td>T4</td>\n      <td>Register FFF of the Carcassonne inquisition</td>\n      <td>English</td>\n      <td>FFF</td>\n      <td>NaN</td>\n      <td>NaN</td>\n      <td>Languedoc</td>\n      <td>Montségur #Lauragais #Cabardès #Quercy (east) ...</td>\n      <td>Ferrer #William Raymond #Pons Gary #Peter Durand</td>\n      <td>C0938</td>\n      <td>...</td>\n      <td>NaN</td>\n      <td>NaN</td>\n      <td>NaN</td>\n      <td>NaN</td>\n      <td>NaN</td>\n      <td>NaN</td>\n      <td>register</td>\n      <td>deposition</td>\n      <td>NaN</td>\n      <td>NaN</td>\n    </tr>\n    <tr>\n      <th>4</th>\n      <td>T5</td>\n      <td>Confirmation of depositions before Ferrer and ...</td>\n      <td>English</td>\n      <td>NaN</td>\n      <td>NaN</td>\n      <td>NaN</td>\n      <td>Languedoc</td>\n      <td>NaN</td>\n      <td>Ferrer #Pons Gary</td>\n      <td>C0938</td>\n      <td>...</td>\n      <td>NaN</td>\n      <td>NaN</td>\n      <td>NaN</td>\n      <td>NaN</td>\n      <td>NaN</td>\n      <td>NaN</td>\n      <td>register</td>\n      <td>NaN</td>\n      <td>NaN</td>\n      <td>NaN</td>\n    </tr>\n    <tr>\n      <th>...</th>\n      <td>...</td>\n      <td>...</td>\n      <td>...</td>\n      <td>...</td>\n      <td>...</td>\n      <td>...</td>\n      <td>...</td>\n      <td>...</td>\n      <td>...</td>\n      <td>...</td>\n      <td>...</td>\n      <td>...</td>\n      <td>...</td>\n      <td>...</td>\n      <td>...</td>\n      <td>...</td>\n      <td>...</td>\n      <td>...</td>\n      <td>...</td>\n      <td>...</td>\n      <td>...</td>\n    </tr>\n    <tr>\n      <th>137</th>\n      <td>T139</td>\n      <td>letter of Evervin of Steinfeld to Bernard of C...</td>\n      <td>English</td>\n      <td>NaN</td>\n      <td>NaN</td>\n      <td>NaN</td>\n      <td>NaN</td>\n      <td>NaN</td>\n      <td>NaN</td>\n      <td>C0938</td>\n      <td>...</td>\n      <td>NaN</td>\n      <td>NaN</td>\n      <td>NaN</td>\n      <td>NaN</td>\n      <td>NaN</td>\n      <td>NaN</td>\n      <td>NaN</td>\n      <td>NaN</td>\n      <td>NaN</td>\n      <td>NaN</td>\n    </tr>\n    <tr>\n      <th>138</th>\n      <td>T140</td>\n      <td>letter from Liège to pope</td>\n      <td>English</td>\n      <td>NaN</td>\n      <td>NaN</td>\n      <td>NaN</td>\n      <td>NaN</td>\n      <td>NaN</td>\n      <td>NaN</td>\n      <td>C0938</td>\n      <td>...</td>\n      <td>NaN</td>\n      <td>NaN</td>\n      <td>NaN</td>\n      <td>NaN</td>\n      <td>NaN</td>\n      <td>NaN</td>\n      <td>NaN</td>\n      <td>NaN</td>\n      <td>NaN</td>\n      <td>NaN</td>\n    </tr>\n    <tr>\n      <th>139</th>\n      <td>T141</td>\n      <td>Annales Aquenses</td>\n      <td>Latin</td>\n      <td>NaN</td>\n      <td>NaN</td>\n      <td>NaN</td>\n      <td>NaN</td>\n      <td>NaN</td>\n      <td>NaN</td>\n      <td>C0938</td>\n      <td>...</td>\n      <td>NaN</td>\n      <td>NaN</td>\n      <td>NaN</td>\n      <td>NaN</td>\n      <td>NaN</td>\n      <td>NaN</td>\n      <td>NaN</td>\n      <td>NaN</td>\n      <td>NaN</td>\n      <td>NaN</td>\n    </tr>\n    <tr>\n      <th>140</th>\n      <td>T142</td>\n      <td>Annales Rodenses</td>\n      <td>Latin</td>\n      <td>NaN</td>\n      <td>NaN</td>\n      <td>NaN</td>\n      <td>NaN</td>\n      <td>NaN</td>\n      <td>NaN</td>\n      <td>C0938</td>\n      <td>...</td>\n      <td>NaN</td>\n      <td>NaN</td>\n      <td>NaN</td>\n      <td>NaN</td>\n      <td>NaN</td>\n      <td>NaN</td>\n      <td>NaN</td>\n      <td>NaN</td>\n      <td>NaN</td>\n      <td>NaN</td>\n    </tr>\n    <tr>\n      <th>141</th>\n      <td>T143</td>\n      <td>Centurie Magdeburgice</td>\n      <td>Latin</td>\n      <td>NaN</td>\n      <td>NaN</td>\n      <td>NaN</td>\n      <td>NaN</td>\n      <td>NaN</td>\n      <td>NaN</td>\n      <td>C0938</td>\n      <td>...</td>\n      <td>NaN</td>\n      <td>NaN</td>\n      <td>NaN</td>\n      <td>NaN</td>\n      <td>NaN</td>\n      <td>NaN</td>\n      <td>NaN</td>\n      <td>NaN</td>\n      <td>NaN</td>\n      <td>NaN</td>\n    </tr>\n  </tbody>\n</table>\n<p>142 rows × 92 columns</p>\n</div>"
     },
     "execution_count": 26,
     "metadata": {},
     "output_type": "execute_result"
    }
   ],
   "source": [
    "tables['texts']\n"
   ]
  }
 ],
 "metadata": {
  "kernelspec": {
   "display_name": "python38",
   "language": "python",
   "name": "python38"
  },
  "language_info": {
   "codemirror_mode": {
    "name": "ipython",
    "version": 3
   },
   "file_extension": ".py",
   "mimetype": "text/x-python",
   "name": "python",
   "nbconvert_exporter": "python",
   "pygments_lexer": "ipython3",
   "version": "3.8.12"
  }
 },
 "nbformat": 4,
 "nbformat_minor": 1
}