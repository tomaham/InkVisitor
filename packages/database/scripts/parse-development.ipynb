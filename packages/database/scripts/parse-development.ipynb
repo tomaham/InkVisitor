{
 "cells": [
  {
   "cell_type": "markdown",
   "metadata": {
    "pycharm": {
     "name": "#%% md\n"
    }
   },
   "source": [
    "# Parse development notebook\n",
    "\n",
    "### Notebook purpose\n",
    "This notebook is development space for python parse.ts replacement and upgrade.\n",
    "It reads specified google sheets and output actants.json file, which can be imported to inkVisitor RethinkDB.py\n",
    "\n",
    "### Prerequisities\n",
    " * generated json schema for all used objects (run generate-json-schemas.py)\n",
    "\n",
    "### JSon schemas for the actants\n",
    "...\n",
    "..."
   ]
  },
  {
   "cell_type": "markdown",
   "metadata": {},
   "source": [
    "### The import tables:\n",
    " * Texts\n",
    " * Manuscripts (must be done alongside T, David thinks) = O of class defined by col. class_id\n",
    " * Resources\n",
    " * C\n",
    " * A"
   ]
  },
  {
   "cell_type": "markdown",
   "metadata": {
    "pycharm": {
     "name": "#%% md\n"
    }
   },
   "source": [
    "### Input variables"
   ]
  },
  {
   "cell_type": "code",
   "execution_count": 1,
   "metadata": {
    "pycharm": {
     "name": "#%%\n"
    }
   },
   "outputs": [],
   "source": [
    "#                  sheet_name,  code, header_in_row\n",
    "input_sheets = {\n",
    "    \"texts\" : (\"Texts\",\"13eVorFf7J9R8YzO7TmJRVLzIIwRJS737r7eFbH1boyE\", 5), #https://docs.google.com/spreadsheets/d/13eVorFf7J9R8YzO7TmJRVLzIIwRJS737r7eFbH1boyE/edit#gid=2056508047\n",
    "    \"manuscripts\" : (\"Manuscripts\", \"13eVorFf7J9R8YzO7TmJRVLzIIwRJS737r7eFbH1boyE\", 4),\n",
    "    \"resources\" : (\"Resources\", \"13eVorFf7J9R8YzO7TmJRVLzIIwRJS737r7eFbH1boyE\", 4),\n",
    "    \"actions\" :  (\"Statements\",\"1vzY6opQeR9hZVW6fmuZu2sgy_izF8vqGGhBQDxqT_eQ\", 4), # https://docs.google.com/spreadsheets/d/1vzY6opQeR9hZVW6fmuZu2sgy_izF8vqGGhBQDxqT_eQ/edit#gid=0\n",
    "    \"concepts\" : (\"Concepts\",\"1nSqnN6cjtdWK-y6iKZlJv4iGdhgtqkRPus8StVgExP4\", 4) # https://docs.google.com/spreadsheets/d/1nSqnN6cjtdWK-y6iKZlJv4iGdhgtqkRPus8StVgExP4/edit#gid=0\n",
    "}\n",
    "\n",
    "root_sheet_url = \"https://docs.google.com/spreadsheets/d/\"\n",
    "google_api_dotenv_path = \"../env/.env.googleapi\"  # contains google api specs for sheet access with Dator\n",
    "schema_path = '../schemas/' # path for dir with scheas\n",
    "json_schemas = {}  # holder for schemas, so they can be used for jsonschema validate"
   ]
  },
  {
   "cell_type": "markdown",
   "metadata": {
    "pycharm": {
     "name": "#%% md\n"
    }
   },
   "source": [
    "### Libraries"
   ]
  },
  {
   "cell_type": "code",
   "execution_count": 2,
   "metadata": {
    "pycharm": {
     "name": "#%%\n"
    }
   },
   "outputs": [],
   "source": [
    "import os, warlock, json\n",
    "from jsonschema import validate\n",
    "import dissinetpytools.dator as dator\n",
    "from dotenv import load_dotenv\n",
    "import pandas as pd\n",
    "import numpy as np\n",
    "\n",
    "\n",
    "# type hinting\n",
    "from collections.abc import Sequence, Callable\n",
    "from typing import List, Dict, Tuple\n"
   ]
  },
  {
   "cell_type": "markdown",
   "metadata": {
    "pycharm": {
     "name": "#%% md\n"
    }
   },
   "source": [
    "### Initialisation"
   ]
  },
  {
   "cell_type": "code",
   "execution_count": 3,
   "metadata": {
    "pycharm": {
     "name": "#%%\n"
    }
   },
   "outputs": [
    {
     "name": "stdout",
     "output_type": "stream",
     "text": [
      "20 2022-02-15 18:33:02 : Google authentification start\n",
      "20 2022-02-15 18:33:02 : Google authentification end\n",
      "20 2022-02-15 18:33:02 : Dator initiation succesfull end\n"
     ]
    }
   ],
   "source": [
    "load_dotenv(google_api_dotenv_path) # fills os.environ['GDRIVE_API_CREDENTIALS']\n",
    "d = dator.Dator(loglevel=10, print_log_online=True, cache=True, project_name=\"inkvisitor-import\") # expects 'GDRIVE_API_CREDENTIALS' in the global system variables (os.environ)\n",
    "d.google_authenticate()\n",
    "logger = d.logger"
   ]
  },
  {
   "cell_type": "code",
   "execution_count": 4,
   "metadata": {
    "pycharm": {
     "name": "#%%\n"
    }
   },
   "outputs": [
    {
     "name": "stderr",
     "output_type": "stream",
     "text": [
      "2022-02-15 18:33:02,269 INFO Class IActant available.\n",
      "2022-02-15 18:33:02,279 INFO Class IAction available.\n",
      "2022-02-15 18:33:02,287 INFO Class IEntity available.\n",
      "2022-02-15 18:33:02,295 INFO Class ILabel available.\n",
      "2022-02-15 18:33:02,303 INFO Class IProp available.\n",
      "2022-02-15 18:33:02,312 INFO Class IResource available.\n",
      "2022-02-15 18:33:02,321 INFO Class IStatement available.\n",
      "2022-02-15 18:33:02,329 INFO Class ITerritory available.\n",
      "2022-02-15 18:33:02,330 INFO Class IUser available.\n"
     ]
    }
   ],
   "source": [
    "# read all schemas inside and warlock them\n",
    "schema_filenames = os.listdir(schema_path)\n",
    "for schema in schema_filenames:\n",
    "    name = schema.split(\".\")[0]\n",
    "    file_handler = open(schema_path + schema,\"r\")\n",
    "    schema_json = json.load(file_handler)\n",
    "    json_schemas[name] = schema_json\n",
    "    globals()[name] = warlock.model_factory(schema_json)\n",
    "    logger.info(\"Class \" + name + \" available.\")"
   ]
  },
  {
   "cell_type": "code",
   "execution_count": 12,
   "metadata": {
    "pycharm": {
     "name": "#%%\n"
    }
   },
   "outputs": [
    {
     "name": "stderr",
     "output_type": "stream",
     "text": [
      "2022-02-15 18:33:22,566 INFO Calling for texts with sheet_name Texts.\n"
     ]
    },
    {
     "name": "stdout",
     "output_type": "stream",
     "text": [
      "20 2022-02-15 18:33:23 : Loading dataset Texts\n",
      "20 2022-02-15 18:33:23 : Opting for variant header at row 5.\n",
      "20 2022-02-15 18:33:28 : Hyperlinks were detected and transformed in columns ['edition_1', 'edition_2', 'edition_3', 'persons_index_link', 'places_index_link'].\n",
      "20 2022-02-15 18:33:28 : Dropping empty columns in the dataset Texts : (1011, 92)\n",
      "20 2022-02-15 18:33:28 : Deleted 869 empty rows by label.\n",
      "20 2022-02-15 18:33:28 : Loaded and prepared dataset Texts : (142, 92)\n"
     ]
    },
    {
     "name": "stderr",
     "output_type": "stream",
     "text": [
      "2022-02-15 18:33:28,584 INFO Calling for manuscripts with sheet_name Manuscripts.\n"
     ]
    },
    {
     "name": "stdout",
     "output_type": "stream",
     "text": [
      "20 2022-02-15 18:33:28 : Making pickle cache of  Texts with separeted header file : (142, 92)\n",
      "20 2022-02-15 18:33:28 : Loading dataset Manuscripts\n",
      "20 2022-02-15 18:33:28 : Opting for variant header at row 4.\n"
     ]
    },
    {
     "name": "stderr",
     "output_type": "stream",
     "text": [
      "2022-02-15 18:33:31,686 INFO Calling for resources with sheet_name Resources.\n"
     ]
    },
    {
     "name": "stdout",
     "output_type": "stream",
     "text": [
      "20 2022-02-15 18:33:31 : Hyperlinks were detected and transformed in columns ['reproduction_online_url', 'reproduction_note'].\n",
      "20 2022-02-15 18:33:31 : Dropping empty columns in the dataset Manuscripts : (999, 43)\n",
      "20 2022-02-15 18:33:31 : Deleted 860 empty rows by label.\n",
      "20 2022-02-15 18:33:31 : Loaded and prepared dataset Manuscripts : (139, 43)\n",
      "20 2022-02-15 18:33:31 : Making pickle cache of  Manuscripts with separeted header file : (139, 43)\n",
      "20 2022-02-15 18:33:31 : Loading dataset Resources\n",
      "20 2022-02-15 18:33:31 : Opting for variant header at row 4.\n"
     ]
    },
    {
     "name": "stderr",
     "output_type": "stream",
     "text": [
      "2022-02-15 18:33:34,370 INFO Calling for actions with sheet_name Statements.\n"
     ]
    },
    {
     "name": "stdout",
     "output_type": "stream",
     "text": [
      "20 2022-02-15 18:33:34 : Hyperlinks were detected and transformed in columns [].\n",
      "20 2022-02-15 18:33:34 : Dropping empty columns in the dataset Resources : (1000, 20)\n",
      "20 2022-02-15 18:33:34 : Deleted 934 empty rows by label.\n",
      "20 2022-02-15 18:33:34 : Loaded and prepared dataset Resources : (66, 20)\n",
      "20 2022-02-15 18:33:34 : Making pickle cache of  Resources with separeted header file : (66, 20)\n",
      "20 2022-02-15 18:33:34 : Loading dataset Statements\n",
      "20 2022-02-15 18:33:34 : Opting for variant header at row 4.\n"
     ]
    },
    {
     "name": "stderr",
     "output_type": "stream",
     "text": [
      "2022-02-15 18:33:41,291 INFO Calling for concepts with sheet_name Concepts.\n"
     ]
    },
    {
     "name": "stdout",
     "output_type": "stream",
     "text": [
      "20 2022-02-15 18:33:41 : Hyperlinks were detected and transformed in columns [].\n",
      "20 2022-02-15 18:33:41 : Dropping empty columns in the dataset Statements : (1030, 73)\n",
      "20 2022-02-15 18:33:41 : Deleted 588 empty rows by label.\n",
      "20 2022-02-15 18:33:41 : Loaded and prepared dataset Statements : (442, 73)\n",
      "20 2022-02-15 18:33:41 : Making pickle cache of  Statements with separeted header file : (442, 73)\n",
      "20 2022-02-15 18:33:42 : Loading dataset Concepts\n",
      "20 2022-02-15 18:33:42 : Opting for variant header at row 4.\n",
      "20 2022-02-15 18:33:46 : Hyperlinks were detected and transformed in columns [].\n",
      "20 2022-02-15 18:33:46 : Dropping empty columns in the dataset Concepts : (3019, 57)\n",
      "20 2022-02-15 18:33:46 : Deleted 724 empty rows by label.\n",
      "20 2022-02-15 18:33:46 : Loaded and prepared dataset Concepts : (2295, 57)\n",
      "20 2022-02-15 18:33:46 : Making pickle cache of  Concepts with separeted header file : (2295, 57)\n"
     ]
    }
   ],
   "source": [
    "# load all input tables\n",
    "tables = {}\n",
    "header_infos = {}\n",
    "for key, sheet in input_sheets.items():\n",
    "    logger.info(f\"Calling for {key} with sheet_name {sheet[0]}.\")\n",
    "    tables[key], header_infos[key] = d.load_df_from_gsheet(sheet[0],root_sheet_url + sheet[1], sheet[0], fromCache=True, header_in_row=sheet[2], clean=True, fillna=True, cleanByColumn=\"label\", parse_hyperlink_formulas=True)"
   ]
  },
  {
   "cell_type": "code",
   "execution_count": 13,
   "metadata": {
    "pycharm": {
     "name": "#%%\n"
    }
   },
   "outputs": [
    {
     "data": {
      "text/plain": "       id                                              label language  \\\n0      T1       Process against Bernard Niort and his family  English   \n1      T2  Sentences of William Arnold and Stephen of Sai...  English   \n2      T3                 Peter Seila’s Register of Penances  English   \n3      T4        Register FFF of the Carcassonne inquisition  English   \n4      T5  Confirmation of depositions before Ferrer and ...  English   \n..    ...                                                ...      ...   \n137  T139  letter of Evervin of Steinfeld to Bernard of C...  English   \n138  T140                          letter from Liège to pope  English   \n139  T141                                   Annales Aquenses    Latin   \n140  T142                                   Annales Rodenses    Latin   \n141  T143                              Centurie Magdeburgice    Latin   \n\n    label_short                 text_name_original  \\\n0           NaN                                NaN   \n1           NaN                                NaN   \n2         Seila  Penitenciae fratris Petri Sellani   \n3           FFF                                NaN   \n4           NaN                                NaN   \n..          ...                                ...   \n137         NaN                                NaN   \n138         NaN                                NaN   \n139         NaN                                NaN   \n140         NaN                                NaN   \n141         NaN                                NaN   \n\n                                                detail region_covered  \\\n0                                          Early 1234.      Languedoc   \n1                                                  NaN      Languedoc   \n2    Penitenciae fratris Petri Sellani. Register of...      Languedoc   \n3                                                  NaN      Languedoc   \n4                                                  NaN      Languedoc   \n..                                                 ...            ...   \n137                                                NaN            NaN   \n138                                                NaN            NaN   \n139                                                NaN            NaN   \n140                                                NaN            NaN   \n141                                                NaN            NaN   \n\n                                   microregion_covered  \\\n0                                                  NaN   \n1                                Toulousain #Lauragais   \n2                                        Quercy (west)   \n3    Montségur #Lauragais #Cabardès #Quercy (east) ...   \n4                                                  NaN   \n..                                                 ...   \n137                                                NaN   \n138                                                NaN   \n139                                                NaN   \n140                                                NaN   \n141                                                NaN   \n\n                                         author_label language_id  ...  \\\n0                                                 NaN       C0938  ...   \n1            William Arnold #Stephen of Saint-Thibéry       C0938  ...   \n2                                                 NaN       C0938  ...   \n3    Ferrer #William Raymond #Pons Gary #Peter Durand       C0938  ...   \n4                                   Ferrer #Pons Gary       C0938  ...   \n..                                                ...         ...  ...   \n137                                               NaN       C0938  ...   \n138                                               NaN       C0938  ...   \n139                                               NaN       C0938  ...   \n140                                               NaN       C0938  ...   \n141                                               NaN       C0938  ...   \n\n    dissinet_coding_priority dissinet_person number_defendants number_persons  \\\n0                        NaN             NaN               NaN            NaN   \n1                        NaN             RS?               NaN            NaN   \n2                          1              RS               NaN            NaN   \n3                        NaN             NaN               NaN            NaN   \n4                        NaN             NaN               NaN            NaN   \n..                       ...             ...               ...            ...   \n137                      NaN             NaN               NaN            NaN   \n138                      NaN             NaN               NaN            NaN   \n139                      NaN             NaN               NaN            NaN   \n140                      NaN             NaN               NaN            NaN   \n141                      NaN             NaN               NaN            NaN   \n\n    persons_index_link places_index_link old_genre_general  old_genre_label  \\\n0                  NaN               NaN               NaN       deposition   \n1                  NaN               NaN          register         sentence   \n2                  NaN               NaN          register  sentence #culpa   \n3                  NaN               NaN          register       deposition   \n4                  NaN               NaN          register              NaN   \n..                 ...               ...               ...              ...   \n137                NaN               NaN               NaN              NaN   \n138                NaN               NaN               NaN              NaN   \n139                NaN               NaN               NaN              NaN   \n140                NaN               NaN               NaN              NaN   \n141                NaN               NaN               NaN              NaN   \n\n                                                  note parsing_rows_explained  \n0                                                  NaN                    NaN  \n1    End-folio sometimes cited  as 184v (e.g. Roche...                    NaN  \n2                                                  NaN                    NaN  \n3                                                  NaN                    NaN  \n4                                                  NaN                    NaN  \n..                                                 ...                    ...  \n137                                                NaN                    NaN  \n138                                                NaN                    NaN  \n139                                                NaN                    NaN  \n140                                                NaN                    NaN  \n141                                                NaN                    NaN  \n\n[142 rows x 92 columns]",
      "text/html": "<div>\n<style scoped>\n    .dataframe tbody tr th:only-of-type {\n        vertical-align: middle;\n    }\n\n    .dataframe tbody tr th {\n        vertical-align: top;\n    }\n\n    .dataframe thead th {\n        text-align: right;\n    }\n</style>\n<table border=\"1\" class=\"dataframe\">\n  <thead>\n    <tr style=\"text-align: right;\">\n      <th></th>\n      <th>id</th>\n      <th>label</th>\n      <th>language</th>\n      <th>label_short</th>\n      <th>text_name_original</th>\n      <th>detail</th>\n      <th>region_covered</th>\n      <th>microregion_covered</th>\n      <th>author_label</th>\n      <th>language_id</th>\n      <th>...</th>\n      <th>dissinet_coding_priority</th>\n      <th>dissinet_person</th>\n      <th>number_defendants</th>\n      <th>number_persons</th>\n      <th>persons_index_link</th>\n      <th>places_index_link</th>\n      <th>old_genre_general</th>\n      <th>old_genre_label</th>\n      <th>note</th>\n      <th>parsing_rows_explained</th>\n    </tr>\n  </thead>\n  <tbody>\n    <tr>\n      <th>0</th>\n      <td>T1</td>\n      <td>Process against Bernard Niort and his family</td>\n      <td>English</td>\n      <td>NaN</td>\n      <td>NaN</td>\n      <td>Early 1234.</td>\n      <td>Languedoc</td>\n      <td>NaN</td>\n      <td>NaN</td>\n      <td>C0938</td>\n      <td>...</td>\n      <td>NaN</td>\n      <td>NaN</td>\n      <td>NaN</td>\n      <td>NaN</td>\n      <td>NaN</td>\n      <td>NaN</td>\n      <td>NaN</td>\n      <td>deposition</td>\n      <td>NaN</td>\n      <td>NaN</td>\n    </tr>\n    <tr>\n      <th>1</th>\n      <td>T2</td>\n      <td>Sentences of William Arnold and Stephen of Sai...</td>\n      <td>English</td>\n      <td>NaN</td>\n      <td>NaN</td>\n      <td>NaN</td>\n      <td>Languedoc</td>\n      <td>Toulousain #Lauragais</td>\n      <td>William Arnold #Stephen of Saint-Thibéry</td>\n      <td>C0938</td>\n      <td>...</td>\n      <td>NaN</td>\n      <td>RS?</td>\n      <td>NaN</td>\n      <td>NaN</td>\n      <td>NaN</td>\n      <td>NaN</td>\n      <td>register</td>\n      <td>sentence</td>\n      <td>End-folio sometimes cited  as 184v (e.g. Roche...</td>\n      <td>NaN</td>\n    </tr>\n    <tr>\n      <th>2</th>\n      <td>T3</td>\n      <td>Peter Seila’s Register of Penances</td>\n      <td>English</td>\n      <td>Seila</td>\n      <td>Penitenciae fratris Petri Sellani</td>\n      <td>Penitenciae fratris Petri Sellani. Register of...</td>\n      <td>Languedoc</td>\n      <td>Quercy (west)</td>\n      <td>NaN</td>\n      <td>C0938</td>\n      <td>...</td>\n      <td>1</td>\n      <td>RS</td>\n      <td>NaN</td>\n      <td>NaN</td>\n      <td>NaN</td>\n      <td>NaN</td>\n      <td>register</td>\n      <td>sentence #culpa</td>\n      <td>NaN</td>\n      <td>NaN</td>\n    </tr>\n    <tr>\n      <th>3</th>\n      <td>T4</td>\n      <td>Register FFF of the Carcassonne inquisition</td>\n      <td>English</td>\n      <td>FFF</td>\n      <td>NaN</td>\n      <td>NaN</td>\n      <td>Languedoc</td>\n      <td>Montségur #Lauragais #Cabardès #Quercy (east) ...</td>\n      <td>Ferrer #William Raymond #Pons Gary #Peter Durand</td>\n      <td>C0938</td>\n      <td>...</td>\n      <td>NaN</td>\n      <td>NaN</td>\n      <td>NaN</td>\n      <td>NaN</td>\n      <td>NaN</td>\n      <td>NaN</td>\n      <td>register</td>\n      <td>deposition</td>\n      <td>NaN</td>\n      <td>NaN</td>\n    </tr>\n    <tr>\n      <th>4</th>\n      <td>T5</td>\n      <td>Confirmation of depositions before Ferrer and ...</td>\n      <td>English</td>\n      <td>NaN</td>\n      <td>NaN</td>\n      <td>NaN</td>\n      <td>Languedoc</td>\n      <td>NaN</td>\n      <td>Ferrer #Pons Gary</td>\n      <td>C0938</td>\n      <td>...</td>\n      <td>NaN</td>\n      <td>NaN</td>\n      <td>NaN</td>\n      <td>NaN</td>\n      <td>NaN</td>\n      <td>NaN</td>\n      <td>register</td>\n      <td>NaN</td>\n      <td>NaN</td>\n      <td>NaN</td>\n    </tr>\n    <tr>\n      <th>...</th>\n      <td>...</td>\n      <td>...</td>\n      <td>...</td>\n      <td>...</td>\n      <td>...</td>\n      <td>...</td>\n      <td>...</td>\n      <td>...</td>\n      <td>...</td>\n      <td>...</td>\n      <td>...</td>\n      <td>...</td>\n      <td>...</td>\n      <td>...</td>\n      <td>...</td>\n      <td>...</td>\n      <td>...</td>\n      <td>...</td>\n      <td>...</td>\n      <td>...</td>\n      <td>...</td>\n    </tr>\n    <tr>\n      <th>137</th>\n      <td>T139</td>\n      <td>letter of Evervin of Steinfeld to Bernard of C...</td>\n      <td>English</td>\n      <td>NaN</td>\n      <td>NaN</td>\n      <td>NaN</td>\n      <td>NaN</td>\n      <td>NaN</td>\n      <td>NaN</td>\n      <td>C0938</td>\n      <td>...</td>\n      <td>NaN</td>\n      <td>NaN</td>\n      <td>NaN</td>\n      <td>NaN</td>\n      <td>NaN</td>\n      <td>NaN</td>\n      <td>NaN</td>\n      <td>NaN</td>\n      <td>NaN</td>\n      <td>NaN</td>\n    </tr>\n    <tr>\n      <th>138</th>\n      <td>T140</td>\n      <td>letter from Liège to pope</td>\n      <td>English</td>\n      <td>NaN</td>\n      <td>NaN</td>\n      <td>NaN</td>\n      <td>NaN</td>\n      <td>NaN</td>\n      <td>NaN</td>\n      <td>C0938</td>\n      <td>...</td>\n      <td>NaN</td>\n      <td>NaN</td>\n      <td>NaN</td>\n      <td>NaN</td>\n      <td>NaN</td>\n      <td>NaN</td>\n      <td>NaN</td>\n      <td>NaN</td>\n      <td>NaN</td>\n      <td>NaN</td>\n    </tr>\n    <tr>\n      <th>139</th>\n      <td>T141</td>\n      <td>Annales Aquenses</td>\n      <td>Latin</td>\n      <td>NaN</td>\n      <td>NaN</td>\n      <td>NaN</td>\n      <td>NaN</td>\n      <td>NaN</td>\n      <td>NaN</td>\n      <td>C0938</td>\n      <td>...</td>\n      <td>NaN</td>\n      <td>NaN</td>\n      <td>NaN</td>\n      <td>NaN</td>\n      <td>NaN</td>\n      <td>NaN</td>\n      <td>NaN</td>\n      <td>NaN</td>\n      <td>NaN</td>\n      <td>NaN</td>\n    </tr>\n    <tr>\n      <th>140</th>\n      <td>T142</td>\n      <td>Annales Rodenses</td>\n      <td>Latin</td>\n      <td>NaN</td>\n      <td>NaN</td>\n      <td>NaN</td>\n      <td>NaN</td>\n      <td>NaN</td>\n      <td>NaN</td>\n      <td>C0938</td>\n      <td>...</td>\n      <td>NaN</td>\n      <td>NaN</td>\n      <td>NaN</td>\n      <td>NaN</td>\n      <td>NaN</td>\n      <td>NaN</td>\n      <td>NaN</td>\n      <td>NaN</td>\n      <td>NaN</td>\n      <td>NaN</td>\n    </tr>\n    <tr>\n      <th>141</th>\n      <td>T143</td>\n      <td>Centurie Magdeburgice</td>\n      <td>Latin</td>\n      <td>NaN</td>\n      <td>NaN</td>\n      <td>NaN</td>\n      <td>NaN</td>\n      <td>NaN</td>\n      <td>NaN</td>\n      <td>C0938</td>\n      <td>...</td>\n      <td>NaN</td>\n      <td>NaN</td>\n      <td>NaN</td>\n      <td>NaN</td>\n      <td>NaN</td>\n      <td>NaN</td>\n      <td>NaN</td>\n      <td>NaN</td>\n      <td>NaN</td>\n      <td>NaN</td>\n    </tr>\n  </tbody>\n</table>\n<p>142 rows × 92 columns</p>\n</div>"
     },
     "execution_count": 13,
     "metadata": {},
     "output_type": "execute_result"
    }
   ],
   "source": [
    "tables['texts']"
   ]
  },
  {
   "cell_type": "code",
   "execution_count": 7,
   "outputs": [
    {
     "data": {
      "text/plain": "       id   label language label_short  \\\n0                                        \n1                                        \n2                                        \n3  inside  inside   inside     discard   \n\n                                  text_name_original  detail region_covered  \\\n0  Archive - now concatenated with detail. Would ...                          \n1                                                                             \n2                                                                             \n3                                            discard  inside    ??? discard   \n\n  microregion_covered                                       author_label  \\\n0                      We will easily recreate this in InkV - not wor...   \n1                                                                          \n2                                                                          \n3             discard                                            discard   \n\n  language_id  ... dissinet_coding_priority dissinet_person number_defendants  \\\n0              ...                                                              \n1              ...                                                              \n2       C0732  ...                                                              \n3        prop  ...                  discard         discard           discard   \n\n  number_persons persons_index_link places_index_link old_genre_general  \\\n0                                                                         \n1                                                                         \n2                                                                         \n3        discard            discard           discard           discard   \n\n  old_genre_label    note                             parsing_rows_explained  \n0                          Comment - sometimes important to read for pars...  \n1                                                    Source node (for props)  \n2                          Prop type (for props) or further detail (for i...  \n3         discard  inside                                            discard  \n\n[4 rows x 92 columns]",
      "text/html": "<div>\n<style scoped>\n    .dataframe tbody tr th:only-of-type {\n        vertical-align: middle;\n    }\n\n    .dataframe tbody tr th {\n        vertical-align: top;\n    }\n\n    .dataframe thead th {\n        text-align: right;\n    }\n</style>\n<table border=\"1\" class=\"dataframe\">\n  <thead>\n    <tr style=\"text-align: right;\">\n      <th></th>\n      <th>id</th>\n      <th>label</th>\n      <th>language</th>\n      <th>label_short</th>\n      <th>text_name_original</th>\n      <th>detail</th>\n      <th>region_covered</th>\n      <th>microregion_covered</th>\n      <th>author_label</th>\n      <th>language_id</th>\n      <th>...</th>\n      <th>dissinet_coding_priority</th>\n      <th>dissinet_person</th>\n      <th>number_defendants</th>\n      <th>number_persons</th>\n      <th>persons_index_link</th>\n      <th>places_index_link</th>\n      <th>old_genre_general</th>\n      <th>old_genre_label</th>\n      <th>note</th>\n      <th>parsing_rows_explained</th>\n    </tr>\n  </thead>\n  <tbody>\n    <tr>\n      <th>0</th>\n      <td></td>\n      <td></td>\n      <td></td>\n      <td></td>\n      <td>Archive - now concatenated with detail. Would ...</td>\n      <td></td>\n      <td></td>\n      <td></td>\n      <td>We will easily recreate this in InkV - not wor...</td>\n      <td></td>\n      <td>...</td>\n      <td></td>\n      <td></td>\n      <td></td>\n      <td></td>\n      <td></td>\n      <td></td>\n      <td></td>\n      <td></td>\n      <td></td>\n      <td>Comment - sometimes important to read for pars...</td>\n    </tr>\n    <tr>\n      <th>1</th>\n      <td></td>\n      <td></td>\n      <td></td>\n      <td></td>\n      <td></td>\n      <td></td>\n      <td></td>\n      <td></td>\n      <td></td>\n      <td></td>\n      <td>...</td>\n      <td></td>\n      <td></td>\n      <td></td>\n      <td></td>\n      <td></td>\n      <td></td>\n      <td></td>\n      <td></td>\n      <td></td>\n      <td>Source node (for props)</td>\n    </tr>\n    <tr>\n      <th>2</th>\n      <td></td>\n      <td></td>\n      <td></td>\n      <td></td>\n      <td></td>\n      <td></td>\n      <td></td>\n      <td></td>\n      <td></td>\n      <td>C0732</td>\n      <td>...</td>\n      <td></td>\n      <td></td>\n      <td></td>\n      <td></td>\n      <td></td>\n      <td></td>\n      <td></td>\n      <td></td>\n      <td></td>\n      <td>Prop type (for props) or further detail (for i...</td>\n    </tr>\n    <tr>\n      <th>3</th>\n      <td>inside</td>\n      <td>inside</td>\n      <td>inside</td>\n      <td>discard</td>\n      <td>discard</td>\n      <td>inside</td>\n      <td>??? discard</td>\n      <td>discard</td>\n      <td>discard</td>\n      <td>prop</td>\n      <td>...</td>\n      <td>discard</td>\n      <td>discard</td>\n      <td>discard</td>\n      <td>discard</td>\n      <td>discard</td>\n      <td>discard</td>\n      <td>discard</td>\n      <td>discard</td>\n      <td>inside</td>\n      <td>discard</td>\n    </tr>\n  </tbody>\n</table>\n<p>4 rows × 92 columns</p>\n</div>"
     },
     "execution_count": 7,
     "metadata": {},
     "output_type": "execute_result"
    }
   ],
   "source": [
    "header_infos['texts']"
   ],
   "metadata": {
    "collapsed": false,
    "pycharm": {
     "name": "#%%\n"
    }
   }
  },
  {
   "cell_type": "markdown",
   "source": [
    "#### Territories parsing instruction\n",
    "there is info column : parsing_rows_explained, comments on the rows\n",
    "\n",
    "row 0 : human comment\n",
    "row 1 : source node for props\n",
    "row 2 : prop type for props or further details\n",
    "row 3 : parse keyword (inside, discard, prop, prop: ..., special)\n",
    "\n",
    "possibilities by parse \"keyword\" (in the last row = 4)\n",
    " * inside\n",
    " * discard\n",
    " * prop in row 4 +  concept id inrow  3\n",
    " * prop with ':' value and other inforomation > taken provisionally as discard\n",
    " * special > completely custom behavior in row 0\n",
    " * ???, ??? discard  > taken as discard"
   ],
   "metadata": {
    "collapsed": false,
    "pycharm": {
     "name": "#%% md\n"
    }
   }
  },
  {
   "cell_type": "code",
   "execution_count": 8,
   "outputs": [],
   "source": [
    "class Parser():\n",
    "\n",
    "    def __init__(self, header_df: pd.DataFrame, table_df: pd.DataFrame, keyword_row_id: int, logger:logger):\n",
    "        self.input_header_df = header_df\n",
    "        self.input_table_df = table_df\n",
    "        self.keyword_row_id =  keyword_row_id\n",
    "        self.columns = self.input_header_df.columns.tolist()\n",
    "\n",
    "        self.parsing_instruction = {}\n",
    "        self.oper_columns = {'discard':[],'inside':[],'special':[],'unknown':[],'prop':[]}\n",
    "        self.logger = logger\n",
    "\n",
    "\n",
    "    def process_header_instructions(self) -> (pd.DataFrame, pd.DataFrame):\n",
    "        keyword_row = self.input_header_df.iloc[self.keyword_row_id]\n",
    "        prop_type_row = self.input_header_df.iloc[self.keyword_row_id - 1]\n",
    "        source_node_row = self.input_header_df.iloc[self.keyword_row_id - 2]\n",
    "\n",
    "        log_uncertain_instructions = []\n",
    "\n",
    "        for c in self.columns:\n",
    "            instruction_candidate = keyword_row.at[c]\n",
    "            prop_type_candidate = prop_type_row.at[c]\n",
    "            source_node_candidate = source_node_row.at[c]\n",
    "\n",
    "            if \"?\" in instruction_candidate or \"?\" in prop_type_candidate or \"?\" in source_node_candidate:\n",
    "                log_uncertain_instructions.append(f\"{c.upper()}:{instruction_candidate},{prop_type_candidate},{source_node_candidate}\")\n",
    "            if 'discard' in instruction_candidate:\n",
    "                instruction  = {'operation':'discard', 'target': None}\n",
    "                self.oper_columns['discard'].append(c)\n",
    "            elif 'prop' in instruction_candidate:\n",
    "                # TODO validation\n",
    "                prop_type = prop_type_candidate\n",
    "                source_node = source_node_candidate\n",
    "                instruction  = {'operation':'prop', 'type': prop_type, 'source':source_node}\n",
    "                self.oper_columns['prop'].append(c)\n",
    "            elif 'special' in instruction_candidate:\n",
    "                # TODO will look for custom functions registered by column name\n",
    "                instruction  = {'operation':'special', 'target': None}\n",
    "                self.oper_columns['special'].append(c)\n",
    "            elif 'inside' in instruction_candidate:\n",
    "                instruction  = {'operation':'inside', 'target': None}\n",
    "                self.oper_columns['inside'].append(c)\n",
    "            else:\n",
    "                instruction = {'operation':'unknown', 'target': None}\n",
    "                self.oper_columns['unknown'].append(c)\n",
    "            self.parsing_instruction[c] = instruction\n",
    "        self.logger.info(f\"Uncertain parsing instructions in {len(log_uncertain_instructions)} columns: \" + \" \".join(log_uncertain_instructions) + \".\")\n",
    "        return self.parsing_instruction\n",
    "\n",
    "    def prepare_input_table(self):\n",
    "        ip = self.input_table_df.copy()\n",
    "        # discard  columns with discard and unknown operations\n",
    "        ip.drop(columns=self.oper_columns['discard']+self.oper_columns['unknown'], inplace=True)\n",
    "        self.logger.info(f\" {len(self.oper_columns['discard']+self.oper_columns['unknown'])} columns have been dropped (discard:{len(self.oper_columns['discard'])}, unknown:{len(self.oper_columns['unknown'])}). Table now has {len(ip.columns)} columns, inside:{len(self.oper_columns['inside'])},prop:{len(self.oper_columns['prop'])}, special:{len(self.oper_columns['special'])}. Originally {self.input_table_df.shape[1]} columns.\")\n",
    "        return ip\n",
    "\n",
    "    def prepare_property(self):\n",
    "        pass\n",
    "\n",
    "    def process_items(self):\n",
    "\n",
    "        # for each table row\n",
    "\n",
    "            # take column value and\n",
    "                # if inside\n",
    "                    # map it to the entity object\n",
    "\n",
    "\n",
    "\n",
    "        pass\n"
   ],
   "metadata": {
    "collapsed": false,
    "pycharm": {
     "name": "#%%\n"
    }
   }
  },
  {
   "cell_type": "code",
   "execution_count": 9,
   "outputs": [
    {
     "name": "stderr",
     "output_type": "stream",
     "text": [
      "2022-02-15 18:33:02,530 INFO Uncertain parsing instructions in 22 columns: REGION_COVERED:??? discard,, TIMERELATION1_TYPE:???,, TIMERELATION1_TARGET_ID:???,, TIMERELATION2_TYPE:???,, TIMERELATION2_TARGET_ID:???,, TIMERELATION3_TYPE:???,, TIMERELATION3_TARGET_ID:???,, TIMERELATION4_TYPE:???,, TIMERELATION4_TARGET_ID:???,, MANUSCRIPT_WITNESS_1_WITH_RANGE:prop: manuscript_witness_1,???C page range, MANUSCRIPT_WITNESS_2_WITH_RANGE:???,, MANUSCRIPT_WITNESS_3_WITH_RANGE:???,, MANUSCRIPT_WITNESS_4_WITH_RANGE:???,, MANUSCRIPT_WITNESS_5_WITH_RANGE:???,, MANUSCRIPT_WITNESS_6_WITH_RANGE:???,, MANUSCRIPT_WITNESS_7_WITH_RANGE:???,, MANUSCRIPT_WITNESS_8_WITH_RANGE:???,, MANUSCRIPT_WITNESS_9_WITH_RANGE:???,, MANUSCRIPT_WITNESS_10_WITH_RANGE:???,, MANUSCRIPT_WITNESS_11_WITH_RANGE:???,, EDITION_1_PAGE_RANGE:???,, EDITION_1_NOTE:???,,.\n",
      "2022-02-15 18:33:02,533 INFO  68 columns have been dropped (discard:44, unknown:24). Table now has 24 columns, inside:5,prop:16, special:3. Originally 92 columns.\n"
     ]
    },
    {
     "data": {
      "text/plain": "       id                                              label language  \\\n0      T1       Process against Bernard Niort and his family  English   \n1      T2  Sentences of William Arnold and Stephen of Sai...  English   \n2      T3                 Peter Seila’s Register of Penances  English   \n3      T4        Register FFF of the Carcassonne inquisition  English   \n4      T5  Confirmation of depositions before Ferrer and ...  English   \n..    ...                                                ...      ...   \n137  T139  letter of Evervin of Steinfeld to Bernard of C...  English   \n138  T140                          letter from Liège to pope  English   \n139  T141                                   Annales Aquenses    Latin   \n140  T142                                   Annales Rodenses    Latin   \n141  T143                              Centurie Magdeburgice    Latin   \n\n                                                detail language_id  \\\n0                                          Early 1234.       C0938   \n1                                                  NaN       C0938   \n2    Penitenciae fratris Petri Sellani. Register of...       C0938   \n3                                                  NaN       C0938   \n4                                                  NaN       C0938   \n..                                                 ...         ...   \n137                                                NaN       C0938   \n138                                                NaN       C0938   \n139                                                NaN       C0938   \n140                                                NaN       C0938   \n141                                                NaN       C0938   \n\n        genre_id milieu_of_provenance_id origin_id manuscript_witness_1  \\\n0          C1134                   C1138       NaN                  M21   \n1          C1135                   C1138       NaN                  M21   \n2    C1135#C1136                   C1138     L0011                  M21   \n3          C1134                   C1138     L0006        M22 #M23 #M24   \n4          C1122                   C1138       NaN                   M4   \n..           ...                     ...       ...                  ...   \n137        C1129                     NaN       NaN                  NaN   \n138        C1129                     NaN       NaN                  NaN   \n139        C1364                     NaN       NaN                  NaN   \n140        C1364                     NaN       NaN                  NaN   \n141          NaN                     NaN       NaN                  NaN   \n\n           manuscript_witness_1_with_range  ... manuscript_witness_6  \\\n0                              21: 34r-50r  ...                  NaN   \n1                            21: 143v-185r  ...                  NaN   \n2                            21: 185r-312v  ...                  NaN   \n3    22: 107r-296v #23:1r-346v #24:1r-238r  ...                  NaN   \n4                                      NaN  ...                  NaN   \n..                                     ...  ...                  ...   \n137                                    NaN  ...                  NaN   \n138                                    NaN  ...                  NaN   \n139                                    NaN  ...                  NaN   \n140                                    NaN  ...                  NaN   \n141                                    NaN  ...                  NaN   \n\n    manuscript_witness_7 manuscript_witness_8 manuscript_witness_9  \\\n0                    NaN                  NaN                  NaN   \n1                    NaN                  NaN                  NaN   \n2                    NaN                  NaN                  NaN   \n3                    NaN                  NaN                  NaN   \n4                    NaN                  NaN                  NaN   \n..                   ...                  ...                  ...   \n137                  NaN                  NaN                  NaN   \n138                  NaN                  NaN                  NaN   \n139                  NaN                  NaN                  NaN   \n140                  NaN                  NaN                  NaN   \n141                  NaN                  NaN                  NaN   \n\n    manuscript_witness_10 manuscript_witness_11       edition_1  \\\n0                     NaN                   NaN    Douais, 1900   \n1                     NaN                   NaN              NA   \n2                     NaN                   NaN  Duvernoy, 2001   \n3                     NaN                   NaN  Duvernoy, 1998   \n4                     NaN                   NaN  Duvernoy, 1983   \n..                    ...                   ...             ...   \n137                   NaN                   NaN             NaN   \n138                   NaN                   NaN             NaN   \n139                   NaN                   NaN             NaN   \n140                   NaN                   NaN             NaN   \n141                   NaN                   NaN             NaN   \n\n                    edition_2 edition_3  \\\n0                         NaN       NaN   \n1                         NaN       NaN   \n2                         NaN       NaN   \n3    Blaquière & Dossat, 1968       NaN   \n4                         NaN       NaN   \n..                        ...       ...   \n137                       NaN       NaN   \n138                       NaN       NaN   \n139                       NaN       NaN   \n140                       NaN       NaN   \n141                       NaN       NaN   \n\n                                                  note  \n0                                                  NaN  \n1    End-folio sometimes cited  as 184v (e.g. Roche...  \n2                                                  NaN  \n3                                                  NaN  \n4                                                  NaN  \n..                                                 ...  \n137                                                NaN  \n138                                                NaN  \n139                                                NaN  \n140                                                NaN  \n141                                                NaN  \n\n[142 rows x 24 columns]",
      "text/html": "<div>\n<style scoped>\n    .dataframe tbody tr th:only-of-type {\n        vertical-align: middle;\n    }\n\n    .dataframe tbody tr th {\n        vertical-align: top;\n    }\n\n    .dataframe thead th {\n        text-align: right;\n    }\n</style>\n<table border=\"1\" class=\"dataframe\">\n  <thead>\n    <tr style=\"text-align: right;\">\n      <th></th>\n      <th>id</th>\n      <th>label</th>\n      <th>language</th>\n      <th>detail</th>\n      <th>language_id</th>\n      <th>genre_id</th>\n      <th>milieu_of_provenance_id</th>\n      <th>origin_id</th>\n      <th>manuscript_witness_1</th>\n      <th>manuscript_witness_1_with_range</th>\n      <th>...</th>\n      <th>manuscript_witness_6</th>\n      <th>manuscript_witness_7</th>\n      <th>manuscript_witness_8</th>\n      <th>manuscript_witness_9</th>\n      <th>manuscript_witness_10</th>\n      <th>manuscript_witness_11</th>\n      <th>edition_1</th>\n      <th>edition_2</th>\n      <th>edition_3</th>\n      <th>note</th>\n    </tr>\n  </thead>\n  <tbody>\n    <tr>\n      <th>0</th>\n      <td>T1</td>\n      <td>Process against Bernard Niort and his family</td>\n      <td>English</td>\n      <td>Early 1234.</td>\n      <td>C0938</td>\n      <td>C1134</td>\n      <td>C1138</td>\n      <td>NaN</td>\n      <td>M21</td>\n      <td>21: 34r-50r</td>\n      <td>...</td>\n      <td>NaN</td>\n      <td>NaN</td>\n      <td>NaN</td>\n      <td>NaN</td>\n      <td>NaN</td>\n      <td>NaN</td>\n      <td>Douais, 1900</td>\n      <td>NaN</td>\n      <td>NaN</td>\n      <td>NaN</td>\n    </tr>\n    <tr>\n      <th>1</th>\n      <td>T2</td>\n      <td>Sentences of William Arnold and Stephen of Sai...</td>\n      <td>English</td>\n      <td>NaN</td>\n      <td>C0938</td>\n      <td>C1135</td>\n      <td>C1138</td>\n      <td>NaN</td>\n      <td>M21</td>\n      <td>21: 143v-185r</td>\n      <td>...</td>\n      <td>NaN</td>\n      <td>NaN</td>\n      <td>NaN</td>\n      <td>NaN</td>\n      <td>NaN</td>\n      <td>NaN</td>\n      <td>NA</td>\n      <td>NaN</td>\n      <td>NaN</td>\n      <td>End-folio sometimes cited  as 184v (e.g. Roche...</td>\n    </tr>\n    <tr>\n      <th>2</th>\n      <td>T3</td>\n      <td>Peter Seila’s Register of Penances</td>\n      <td>English</td>\n      <td>Penitenciae fratris Petri Sellani. Register of...</td>\n      <td>C0938</td>\n      <td>C1135#C1136</td>\n      <td>C1138</td>\n      <td>L0011</td>\n      <td>M21</td>\n      <td>21: 185r-312v</td>\n      <td>...</td>\n      <td>NaN</td>\n      <td>NaN</td>\n      <td>NaN</td>\n      <td>NaN</td>\n      <td>NaN</td>\n      <td>NaN</td>\n      <td>Duvernoy, 2001</td>\n      <td>NaN</td>\n      <td>NaN</td>\n      <td>NaN</td>\n    </tr>\n    <tr>\n      <th>3</th>\n      <td>T4</td>\n      <td>Register FFF of the Carcassonne inquisition</td>\n      <td>English</td>\n      <td>NaN</td>\n      <td>C0938</td>\n      <td>C1134</td>\n      <td>C1138</td>\n      <td>L0006</td>\n      <td>M22 #M23 #M24</td>\n      <td>22: 107r-296v #23:1r-346v #24:1r-238r</td>\n      <td>...</td>\n      <td>NaN</td>\n      <td>NaN</td>\n      <td>NaN</td>\n      <td>NaN</td>\n      <td>NaN</td>\n      <td>NaN</td>\n      <td>Duvernoy, 1998</td>\n      <td>Blaquière &amp; Dossat, 1968</td>\n      <td>NaN</td>\n      <td>NaN</td>\n    </tr>\n    <tr>\n      <th>4</th>\n      <td>T5</td>\n      <td>Confirmation of depositions before Ferrer and ...</td>\n      <td>English</td>\n      <td>NaN</td>\n      <td>C0938</td>\n      <td>C1122</td>\n      <td>C1138</td>\n      <td>NaN</td>\n      <td>M4</td>\n      <td>NaN</td>\n      <td>...</td>\n      <td>NaN</td>\n      <td>NaN</td>\n      <td>NaN</td>\n      <td>NaN</td>\n      <td>NaN</td>\n      <td>NaN</td>\n      <td>Duvernoy, 1983</td>\n      <td>NaN</td>\n      <td>NaN</td>\n      <td>NaN</td>\n    </tr>\n    <tr>\n      <th>...</th>\n      <td>...</td>\n      <td>...</td>\n      <td>...</td>\n      <td>...</td>\n      <td>...</td>\n      <td>...</td>\n      <td>...</td>\n      <td>...</td>\n      <td>...</td>\n      <td>...</td>\n      <td>...</td>\n      <td>...</td>\n      <td>...</td>\n      <td>...</td>\n      <td>...</td>\n      <td>...</td>\n      <td>...</td>\n      <td>...</td>\n      <td>...</td>\n      <td>...</td>\n      <td>...</td>\n    </tr>\n    <tr>\n      <th>137</th>\n      <td>T139</td>\n      <td>letter of Evervin of Steinfeld to Bernard of C...</td>\n      <td>English</td>\n      <td>NaN</td>\n      <td>C0938</td>\n      <td>C1129</td>\n      <td>NaN</td>\n      <td>NaN</td>\n      <td>NaN</td>\n      <td>NaN</td>\n      <td>...</td>\n      <td>NaN</td>\n      <td>NaN</td>\n      <td>NaN</td>\n      <td>NaN</td>\n      <td>NaN</td>\n      <td>NaN</td>\n      <td>NaN</td>\n      <td>NaN</td>\n      <td>NaN</td>\n      <td>NaN</td>\n    </tr>\n    <tr>\n      <th>138</th>\n      <td>T140</td>\n      <td>letter from Liège to pope</td>\n      <td>English</td>\n      <td>NaN</td>\n      <td>C0938</td>\n      <td>C1129</td>\n      <td>NaN</td>\n      <td>NaN</td>\n      <td>NaN</td>\n      <td>NaN</td>\n      <td>...</td>\n      <td>NaN</td>\n      <td>NaN</td>\n      <td>NaN</td>\n      <td>NaN</td>\n      <td>NaN</td>\n      <td>NaN</td>\n      <td>NaN</td>\n      <td>NaN</td>\n      <td>NaN</td>\n      <td>NaN</td>\n    </tr>\n    <tr>\n      <th>139</th>\n      <td>T141</td>\n      <td>Annales Aquenses</td>\n      <td>Latin</td>\n      <td>NaN</td>\n      <td>C0938</td>\n      <td>C1364</td>\n      <td>NaN</td>\n      <td>NaN</td>\n      <td>NaN</td>\n      <td>NaN</td>\n      <td>...</td>\n      <td>NaN</td>\n      <td>NaN</td>\n      <td>NaN</td>\n      <td>NaN</td>\n      <td>NaN</td>\n      <td>NaN</td>\n      <td>NaN</td>\n      <td>NaN</td>\n      <td>NaN</td>\n      <td>NaN</td>\n    </tr>\n    <tr>\n      <th>140</th>\n      <td>T142</td>\n      <td>Annales Rodenses</td>\n      <td>Latin</td>\n      <td>NaN</td>\n      <td>C0938</td>\n      <td>C1364</td>\n      <td>NaN</td>\n      <td>NaN</td>\n      <td>NaN</td>\n      <td>NaN</td>\n      <td>...</td>\n      <td>NaN</td>\n      <td>NaN</td>\n      <td>NaN</td>\n      <td>NaN</td>\n      <td>NaN</td>\n      <td>NaN</td>\n      <td>NaN</td>\n      <td>NaN</td>\n      <td>NaN</td>\n      <td>NaN</td>\n    </tr>\n    <tr>\n      <th>141</th>\n      <td>T143</td>\n      <td>Centurie Magdeburgice</td>\n      <td>Latin</td>\n      <td>NaN</td>\n      <td>C0938</td>\n      <td>NaN</td>\n      <td>NaN</td>\n      <td>NaN</td>\n      <td>NaN</td>\n      <td>NaN</td>\n      <td>...</td>\n      <td>NaN</td>\n      <td>NaN</td>\n      <td>NaN</td>\n      <td>NaN</td>\n      <td>NaN</td>\n      <td>NaN</td>\n      <td>NaN</td>\n      <td>NaN</td>\n      <td>NaN</td>\n      <td>NaN</td>\n    </tr>\n  </tbody>\n</table>\n<p>142 rows × 24 columns</p>\n</div>"
     },
     "execution_count": 9,
     "metadata": {},
     "output_type": "execute_result"
    }
   ],
   "source": [
    "# texts are \"root\" territories, they are territories without parent\n",
    "\n",
    "texts_parser = Parser(header_infos['texts'], tables['texts'], 3, d.logger)\n",
    "texts_parser.process_header_instructions()\n",
    "texts_parser.prepare_input_table()"
   ],
   "metadata": {
    "collapsed": false,
    "pycharm": {
     "name": "#%%\n"
    }
   }
  },
  {
   "cell_type": "code",
   "execution_count": 10,
   "outputs": [
    {
     "name": "stderr",
     "output_type": "stream",
     "text": [
      "2022-02-15 18:33:02,576 INFO Uncertain parsing instructions in 3 columns: COMPONENT_ID:prop,???, REPRODUCTION_ONLINE_URL:???,,This will be R. REPRODUCTION_AVAILABLE_IN_BRNO:discard??? Clash with R representing repros,,.\n",
      "2022-02-15 18:33:02,579 INFO  30 columns have been dropped (discard:16, unknown:14). Table now has 13 columns, inside:4,prop:9, special:0. Originally 43 columns.\n"
     ]
    },
    {
     "data": {
      "text/plain": "       id                                              label         detail  \\\n0    M106  Bologna, Biblioteca comunale dell’Archiginnasi...            NaN   \n1      M2               London, British Library, Add MS 4697  Gui Sentences   \n2    M102  Vaticano, Archivio Segreto Vaticano, Camera ap...            NaN   \n3    M104  Modena, Archivio di Stato di Modena, Bibliotec...            NaN   \n4      M4  Carcassonne, Archives départementales de l’Aud...            NaN   \n..    ...                                                ...            ...   \n134  M153  St Paul-im-Lavanttal, Stift Sankt Paul-im-Lava...            NaN   \n135  M154        Roma, Biblioteca Casanatense, ms. lat. 3217            NaN   \n136  M155  , Archivio Generale dell'Ordine Domenicano, II.64            NaN   \n137  M156  Wien, Österreichische Nationalbibliothek, Cod....            NaN   \n138  M157              Manuscript collection Doat vol. 21-23            NaN   \n\n    language class_id   component_id     shelf_number  \\\n0        NaN    C1184            NaN       ms. B 1856   \n1        NaN    C1184            NaN      Add MS 4697   \n2        NaN    C1184            NaN  Collectoria 133   \n3        NaN    C1184            NaN          ms. 132   \n4        NaN      NaN            NaN      ms. 3 J 596   \n..       ...      ...            ...              ...   \n134      NaN      NaN            NaN               76   \n135      NaN      NaN            NaN    ms. lat. 3217   \n136      NaN      NaN            NaN            II.64   \n137      NaN      NaN            NaN        Cod. 1137   \n138      NaN      NaN  M21 #M22 #M23              NaN   \n\n    alternative_shelf_number catalogue_number height_cm width_cm folios_total  \\\n0                  16.gg.I.1              NaN      38.5     28.5          161   \n1                   Plut.I.F              NaN        36       25          221   \n2                        NaN              NaN       NaN      NaN          NaN   \n3                        NaN              NaN       NaN      NaN          NaN   \n4                        NaN              NaN       NaN      NaN          NaN   \n..                       ...              ...       ...      ...          ...   \n134                      NaN              NaN       NaN      NaN          NaN   \n135                 D.III.18              NaN       NaN      NaN          NaN   \n136                      NaN              NaN       NaN      NaN          NaN   \n137                      NaN              NaN        18     11.5          160   \n138                      NaN              NaN       NaN      NaN          NaN   \n\n    material_id  \n0           NaN  \n1           NaN  \n2           NaN  \n3           NaN  \n4           NaN  \n..          ...  \n134         NaN  \n135         NaN  \n136         NaN  \n137         NaN  \n138         NaN  \n\n[139 rows x 13 columns]",
      "text/html": "<div>\n<style scoped>\n    .dataframe tbody tr th:only-of-type {\n        vertical-align: middle;\n    }\n\n    .dataframe tbody tr th {\n        vertical-align: top;\n    }\n\n    .dataframe thead th {\n        text-align: right;\n    }\n</style>\n<table border=\"1\" class=\"dataframe\">\n  <thead>\n    <tr style=\"text-align: right;\">\n      <th></th>\n      <th>id</th>\n      <th>label</th>\n      <th>detail</th>\n      <th>language</th>\n      <th>class_id</th>\n      <th>component_id</th>\n      <th>shelf_number</th>\n      <th>alternative_shelf_number</th>\n      <th>catalogue_number</th>\n      <th>height_cm</th>\n      <th>width_cm</th>\n      <th>folios_total</th>\n      <th>material_id</th>\n    </tr>\n  </thead>\n  <tbody>\n    <tr>\n      <th>0</th>\n      <td>M106</td>\n      <td>Bologna, Biblioteca comunale dell’Archiginnasi...</td>\n      <td>NaN</td>\n      <td>NaN</td>\n      <td>C1184</td>\n      <td>NaN</td>\n      <td>ms. B 1856</td>\n      <td>16.gg.I.1</td>\n      <td>NaN</td>\n      <td>38.5</td>\n      <td>28.5</td>\n      <td>161</td>\n      <td>NaN</td>\n    </tr>\n    <tr>\n      <th>1</th>\n      <td>M2</td>\n      <td>London, British Library, Add MS 4697</td>\n      <td>Gui Sentences</td>\n      <td>NaN</td>\n      <td>C1184</td>\n      <td>NaN</td>\n      <td>Add MS 4697</td>\n      <td>Plut.I.F</td>\n      <td>NaN</td>\n      <td>36</td>\n      <td>25</td>\n      <td>221</td>\n      <td>NaN</td>\n    </tr>\n    <tr>\n      <th>2</th>\n      <td>M102</td>\n      <td>Vaticano, Archivio Segreto Vaticano, Camera ap...</td>\n      <td>NaN</td>\n      <td>NaN</td>\n      <td>C1184</td>\n      <td>NaN</td>\n      <td>Collectoria 133</td>\n      <td>NaN</td>\n      <td>NaN</td>\n      <td>NaN</td>\n      <td>NaN</td>\n      <td>NaN</td>\n      <td>NaN</td>\n    </tr>\n    <tr>\n      <th>3</th>\n      <td>M104</td>\n      <td>Modena, Archivio di Stato di Modena, Bibliotec...</td>\n      <td>NaN</td>\n      <td>NaN</td>\n      <td>C1184</td>\n      <td>NaN</td>\n      <td>ms. 132</td>\n      <td>NaN</td>\n      <td>NaN</td>\n      <td>NaN</td>\n      <td>NaN</td>\n      <td>NaN</td>\n      <td>NaN</td>\n    </tr>\n    <tr>\n      <th>4</th>\n      <td>M4</td>\n      <td>Carcassonne, Archives départementales de l’Aud...</td>\n      <td>NaN</td>\n      <td>NaN</td>\n      <td>NaN</td>\n      <td>NaN</td>\n      <td>ms. 3 J 596</td>\n      <td>NaN</td>\n      <td>NaN</td>\n      <td>NaN</td>\n      <td>NaN</td>\n      <td>NaN</td>\n      <td>NaN</td>\n    </tr>\n    <tr>\n      <th>...</th>\n      <td>...</td>\n      <td>...</td>\n      <td>...</td>\n      <td>...</td>\n      <td>...</td>\n      <td>...</td>\n      <td>...</td>\n      <td>...</td>\n      <td>...</td>\n      <td>...</td>\n      <td>...</td>\n      <td>...</td>\n      <td>...</td>\n    </tr>\n    <tr>\n      <th>134</th>\n      <td>M153</td>\n      <td>St Paul-im-Lavanttal, Stift Sankt Paul-im-Lava...</td>\n      <td>NaN</td>\n      <td>NaN</td>\n      <td>NaN</td>\n      <td>NaN</td>\n      <td>76</td>\n      <td>NaN</td>\n      <td>NaN</td>\n      <td>NaN</td>\n      <td>NaN</td>\n      <td>NaN</td>\n      <td>NaN</td>\n    </tr>\n    <tr>\n      <th>135</th>\n      <td>M154</td>\n      <td>Roma, Biblioteca Casanatense, ms. lat. 3217</td>\n      <td>NaN</td>\n      <td>NaN</td>\n      <td>NaN</td>\n      <td>NaN</td>\n      <td>ms. lat. 3217</td>\n      <td>D.III.18</td>\n      <td>NaN</td>\n      <td>NaN</td>\n      <td>NaN</td>\n      <td>NaN</td>\n      <td>NaN</td>\n    </tr>\n    <tr>\n      <th>136</th>\n      <td>M155</td>\n      <td>, Archivio Generale dell'Ordine Domenicano, II.64</td>\n      <td>NaN</td>\n      <td>NaN</td>\n      <td>NaN</td>\n      <td>NaN</td>\n      <td>II.64</td>\n      <td>NaN</td>\n      <td>NaN</td>\n      <td>NaN</td>\n      <td>NaN</td>\n      <td>NaN</td>\n      <td>NaN</td>\n    </tr>\n    <tr>\n      <th>137</th>\n      <td>M156</td>\n      <td>Wien, Österreichische Nationalbibliothek, Cod....</td>\n      <td>NaN</td>\n      <td>NaN</td>\n      <td>NaN</td>\n      <td>NaN</td>\n      <td>Cod. 1137</td>\n      <td>NaN</td>\n      <td>NaN</td>\n      <td>18</td>\n      <td>11.5</td>\n      <td>160</td>\n      <td>NaN</td>\n    </tr>\n    <tr>\n      <th>138</th>\n      <td>M157</td>\n      <td>Manuscript collection Doat vol. 21-23</td>\n      <td>NaN</td>\n      <td>NaN</td>\n      <td>NaN</td>\n      <td>M21 #M22 #M23</td>\n      <td>NaN</td>\n      <td>NaN</td>\n      <td>NaN</td>\n      <td>NaN</td>\n      <td>NaN</td>\n      <td>NaN</td>\n      <td>NaN</td>\n    </tr>\n  </tbody>\n</table>\n<p>139 rows × 13 columns</p>\n</div>"
     },
     "execution_count": 10,
     "metadata": {},
     "output_type": "execute_result"
    }
   ],
   "source": [
    "manuscripts_parser = Parser(header_infos['manuscripts'], tables['manuscripts'], 2, d.logger)\n",
    "manuscripts_parser.process_header_instructions()\n",
    "manuscripts_parser.prepare_input_table()"
   ],
   "metadata": {
    "collapsed": false,
    "pycharm": {
     "name": "#%%\n"
    }
   }
  },
  {
   "cell_type": "code",
   "execution_count": 10,
   "outputs": [],
   "source": [],
   "metadata": {
    "collapsed": false,
    "pycharm": {
     "name": "#%%\n"
    }
   }
  },
  {
   "cell_type": "code",
   "execution_count": 14,
   "outputs": [],
   "source": [
    "test1 = ITerritory({'class':\"T\",\n",
    "                  'data': {'parent':False},\n",
    "                  'detail': \"\",\n",
    "                  'id':\"\",\n",
    "                  'label':\"\",\n",
    "                  'language':\"\",\n",
    "                  'notes':[],\n",
    "                  'props':[],\n",
    "                  'status':\"0\"})\n",
    "#test2 = IActant()"
   ],
   "metadata": {
    "collapsed": false,
    "pycharm": {
     "name": "#%%\n"
    }
   }
  },
  {
   "cell_type": "code",
   "execution_count": 15,
   "outputs": [
    {
     "data": {
      "text/plain": "{'class': 'T',\n 'data': {'parent': False},\n 'detail': '',\n 'id': '',\n 'label': '',\n 'language': '',\n 'notes': [],\n 'props': [],\n 'status': '0'}"
     },
     "execution_count": 15,
     "metadata": {},
     "output_type": "execute_result"
    }
   ],
   "source": [
    "test1"
   ],
   "metadata": {
    "collapsed": false,
    "pycharm": {
     "name": "#%%\n"
    }
   }
  },
  {
   "cell_type": "markdown",
   "source": [
    "**Goal:**  to have a json file full of territories, which will be added to the mock up actants.json file and inserted to RethinkDb and fully visisble, accessible in inkVisitor.\n",
    "\n",
    "Steps\n",
    " * study the mockup actants.json structure  DONE\n",
    " * prepare a code intepreting and operatinalizing David's import instruction in the header_df  DONE\n",
    " * parse the table to the territories.json\n",
    "   * helper class for \"territory\", which fills default values\n",
    "   *\n",
    " * merge json files\n",
    " * import ...\n",
    "\n",
    "Forseen complexities\n",
    " * '#' hash notation, so called *multiples*, in the id fields, C2015#C0156. ...\n",
    " * '~' tilda notation\n",
    " * urls in cell (formula =HYPERLINK), SOLVED in Dator class\n",
    "\n"
   ],
   "metadata": {
    "collapsed": false,
    "pycharm": {
     "name": "#%% md\n"
    }
   }
  },
  {
   "cell_type": "code",
   "execution_count": 11,
   "outputs": [],
   "source": [],
   "metadata": {
    "collapsed": false,
    "pycharm": {
     "name": "#%%\n"
    }
   }
  }
 ],
 "metadata": {
  "kernelspec": {
   "display_name": "python38",
   "language": "python",
   "name": "python38"
  },
  "language_info": {
   "codemirror_mode": {
    "name": "ipython",
    "version": 3
   },
   "file_extension": ".py",
   "mimetype": "text/x-python",
   "name": "python",
   "nbconvert_exporter": "python",
   "pygments_lexer": "ipython3",
   "version": "3.8.12"
  }
 },
 "nbformat": 4,
 "nbformat_minor": 1
}