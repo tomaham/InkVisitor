{
 "cells": [
  {
   "cell_type": "code",
   "execution_count": 3,
   "metadata": {
    "collapsed": true
   },
   "outputs": [],
   "source": [
    "import pandas as pd\n",
    "import json"
   ]
  },
  {
   "cell_type": "code",
   "execution_count": 6,
   "outputs": [],
   "source": [
    "data = {\n",
    "  \"entities\": (\"../datasets/experiments/entities.json\", \"../datasets/experiments/entities.new.json\"),\n",
    "  \"relations\": (\"../datasets/experiments/relations.old.json\", \"../datasets/experiments/relations.json\"),\n",
    "  \"audits\": (\"../datasets/experiments/audits.json\", \"../datasets/experiments/audits.new.json\")\n",
    "}"
   ],
   "metadata": {
    "collapsed": false
   }
  },
  {
   "cell_type": "code",
   "execution_count": 43,
   "outputs": [],
   "source": [
    "data1317 = {\n",
    "  \"entities\": (\"../datasets/experiments/13/entities.json\", \"../datasets/experiments/17/entities.json\"),\n",
    "  \"relations\": (\"../datasets/experiments/13/relations.json\", \"../datasets/experiments/17/relations.json\"),\n",
    "  \"audits\": (\"../datasets/experiments//13/audits.json\", \"../datasets/experiments/17/audits.json\")\n",
    "}\n",
    "\n",
    "data1719 = {\n",
    "  \"entities\": (\"../datasets/experiments/17+/entities.json\", \"../datasets/experiments/19/entities.json\"),\n",
    "  \"relations\": (\"../datasets/experiments/17+/relations.json\", \"../datasets/experiments/19/relations.json\"),\n",
    "  \"audits\": (\"../datasets/experiments/17+/audits.json\", \"../datasets/experiments/19/audits.json\")\n",
    "}\n"
   ],
   "metadata": {
    "collapsed": false
   }
  },
  {
   "cell_type": "code",
   "execution_count": 44,
   "outputs": [
    {
     "name": "stdout",
     "output_type": "stream",
     "text": [
      "entities\n",
      "relations\n",
      "audits\n"
     ]
    }
   ],
   "source": [
    "for key, pair in data1719.items():\n",
    "  print(key)\n",
    "  old = json.load(open(pair[0], \"r\"))\n",
    "  new = json.load(open(pair[1], \"r\"))\n",
    "\n",
    "  old_df = pd.DataFrame(old).set_index('id')\n",
    "  new_df = pd.DataFrame(new).set_index('id')\n",
    "\n",
    "  diffdf = new_df.drop(old_df.index)\n",
    "  diffdf.reset_index().to_json('../datasets/experiments/diff1719/'+key+'.json', orient='records')\n",
    "\n"
   ],
   "metadata": {
    "collapsed": false
   }
  },
  {
   "cell_type": "code",
   "execution_count": null,
   "outputs": [],
   "source": [],
   "metadata": {
    "collapsed": false
   }
  },
  {
   "cell_type": "code",
   "execution_count": 52,
   "outputs": [],
   "source": [
    "old = json.load(open(\"../datasets/experiments/relations.old.json\", \"r\"))\n",
    "new = json.load(open(\"../datasets/experiments/relations.json\", \"r\"))\n",
    "\n",
    "# old = json.load(open(\"../datasets/experiments/entities.json\", \"r\"))\n",
    "# new = json.load(open(\"../datasets/experiments/entities.new.json\", \"r\"))\n"
   ],
   "metadata": {
    "collapsed": false
   }
  },
  {
   "cell_type": "code",
   "execution_count": 20,
   "outputs": [],
   "source": [
    "enew19 = json.load(open(\"../datasets/experiments/entities.new.json\",\"r\"))\n",
    "enew17 = json.load(open(\"../datasets/experiments/1/entities.new.json\",\"r\"))\n",
    "eold =  json.load(open(\"../datasets/experiments/entities.json\",\"r\"))\n",
    "\n",
    "enew19df = pd.DataFrame(enew19)\n",
    "enew17df = pd.DataFrame(enew17)\n",
    "eolddf = pd.DataFrame(eold)\n"
   ],
   "metadata": {
    "collapsed": false
   }
  },
  {
   "cell_type": "code",
   "execution_count": 45,
   "outputs": [],
   "source": [
    "enew19 = json.load(open(\"../datasets/experiments/diff1719/entities.json\",\"r\"))\n",
    "enew17 = json.load(open(\"../datasets/experiments/diff1317/entities.json\",\"r\"))\n",
    "# eold =  json.load(open(\"../datasets/experiments/entities.json\",\"r\"))\n",
    "\n",
    "enew19df = pd.DataFrame(enew19)\n",
    "enew17df = pd.DataFrame(enew17)"
   ],
   "metadata": {
    "collapsed": false
   }
  },
  {
   "cell_type": "code",
   "execution_count": 48,
   "outputs": [
    {
     "data": {
      "text/plain": "(17, 8)"
     },
     "execution_count": 48,
     "metadata": {},
     "output_type": "execute_result"
    }
   ],
   "source": [
    "len(enew19df[enew19df[\"class\"]==\"S\"]), len(enew17df[enew17df[\"class\"]==\"S\"])"
   ],
   "metadata": {
    "collapsed": false
   }
  },
  {
   "cell_type": "code",
   "execution_count": null,
   "outputs": [],
   "source": [],
   "metadata": {
    "collapsed": false
   }
  },
  {
   "cell_type": "code",
   "execution_count": 26,
   "outputs": [
    {
     "name": "stdout",
     "output_type": "stream",
     "text": [
      "T 644 646 1589\n",
      "C 3703 3708 3717\n",
      "P 1065 1069 3189\n",
      "L 646 648 2534\n",
      "G 68 70 87\n",
      "A 452 455 459\n",
      "S 0 8 25\n"
     ]
    }
   ],
   "source": [
    "entities = ['T',\"C\",\"P\",\"L\",\"G\",\"A\",\"S\"]\n",
    "for e in entities:\n",
    "  print(e, len(eolddf[eolddf['class'] == e]), len(enew17df[enew17df['class'] == e]), len(enew19df[enew19df['class'] == e]))"
   ],
   "metadata": {
    "collapsed": false
   }
  },
  {
   "cell_type": "code",
   "execution_count": 62,
   "outputs": [
    {
     "name": "stdout",
     "output_type": "stream",
     "text": [
      "T 1589\n",
      "R 187\n",
      "A 459\n",
      "C 3717\n",
      "P 3189\n",
      "L 2534\n",
      "G 87\n",
      "O 145\n",
      "B 0\n",
      "E 1691\n",
      "V 14266\n",
      "S 25\n"
     ]
    }
   ],
   "source": [
    "epa = pd.DataFrame(json.load(open(\"../datasets/all-parsed/entities.json\",\"r\")))\n",
    "\n",
    "entities = ['T',\"R\",\"A\",\"C\",\"P\",\"L\",\"G\",\"O\",\"B\",\"E\",\"V\",\"S\"]\n",
    "for e in entities:\n",
    "  print(e, len(epa[epa['class'] == e]))"
   ],
   "metadata": {
    "collapsed": false
   }
  },
  {
   "cell_type": "code",
   "execution_count": 54,
   "outputs": [
    {
     "data": {
      "text/plain": "                                         id class                  data  \\\n0                                        T0     T     {'parent': False}   \n1      fe6753df-aeda-4d6c-8456-fabaf5ee1ab0     E  {'logicalType': '1'}   \n2      c7f31835-13a4-405c-a7aa-e630b40e14d8     E  {'logicalType': '1'}   \n3      09747a19-bf4b-48d1-b782-140bd1a2e8f6     V  {'logicalType': '1'}   \n4      0228d8e1-2b90-43c8-919a-c123733536be     V  {'logicalType': '1'}   \n...                                     ...   ...                   ...   \n27884  729224d6-4a84-41c1-8a19-b37cac25f9aa     E  {'logicalType': '1'}   \n27885  b0cc23c6-9cae-48fa-a964-94588bd7ade7     E  {'logicalType': '1'}   \n27886  8da4d7ce-6c68-4ff3-8e66-5c92204b1a44     E  {'logicalType': '1'}   \n27887  8e5f9f92-eac2-42a9-87bf-9732a64c3dea     E  {'logicalType': '1'}   \n27888  a7fcf633-d279-45a5-bc0b-626f7cb815d4     E  {'logicalType': '1'}   \n\n                                                   label detail language  \\\n0                                                   root             lat   \n1                   Creation of ‘Acta Concilii Tolosani’                   \n2      Creation of ‘Acta Sancti Officii Bononie ab an...                   \n3                                                   1291                   \n4                                                   1291                   \n...                                                  ...    ...      ...   \n27884               Sentenza assolutoria di Vanna Cambii             ita   \n27885        Sentenza di condanna di Çulittina Pelegrini             ita   \n27886  Sentenza assolutoria di Guido Albertini, figli...             ita   \n27887  Sentenza assolutoria di Benvenutus, rector S.P...             ita   \n27888          Sentenza assolutoria di Petrus Mutinensis             ita   \n\n                                                   notes  \\\n0                                                     []   \n1      [Import batch [development] 2023-01-13 19:35:4...   \n2      [Import batch [development] 2023-01-13 19:35:4...   \n3      [Import batch [development] 2023-01-13 19:35:4...   \n4      [Import batch [development] 2023-01-13 19:35:4...   \n...                                                  ...   \n27884  [Import batch [development] 2023-01-19 14:27:4...   \n27885  [Import batch [development] 2023-01-19 14:27:4...   \n27886  [Import batch [development] 2023-01-19 14:27:4...   \n27887  [Import batch [development] 2023-01-19 14:27:4...   \n27888  [Import batch [development] 2023-01-19 14:27:4...   \n\n                                                   props status  \\\n0                                                     []    NaN   \n1                                                     []      1   \n2                                                     []      1   \n3                                                     []      1   \n4                                                     []      1   \n...                                                  ...    ...   \n27884  [{'bundleEnd': False, 'bundleStart': False, 'c...      1   \n27885  [{'bundleEnd': False, 'bundleStart': False, 'c...      1   \n27886  [{'bundleEnd': False, 'bundleStart': False, 'c...      1   \n27887  [{'bundleEnd': False, 'bundleStart': False, 'c...      1   \n27888  [{'bundleEnd': False, 'bundleStart': False, 'c...      1   \n\n                                              references     legacyId  \\\n0                                                    NaN          NaN   \n1                                                     []   E0001_T153   \n2                                                     []    E0002_T77   \n3                                                     []          NaN   \n4                                                     []          NaN   \n...                                                  ...          ...   \n27884  [{'id': 'f8d168f9-280a-4846-a6f1-2d1ff836ff02'...  E0925_R0082   \n27885  [{'id': '12855e39-5ff5-4ecb-97f5-42fb95fd9685'...  E0926_R0082   \n27886  [{'id': 'f536cfa0-f255-4a4c-9b19-e24508c4eac2'...  E0927_R0082   \n27887  [{'id': '958a4fae-684f-45fe-9423-dabcb4668117'...  E0928_R0082   \n27888  [{'id': 'ea1d290e-6506-40c1-9500-7a3cc05f1900'...  E0929_R0082   \n\n      isTemplate  count_props  \n0            NaN            0  \n1            NaN            0  \n2            NaN            0  \n3            NaN            0  \n4            NaN            0  \n...          ...          ...  \n27884        NaN            1  \n27885        NaN            1  \n27886        NaN            1  \n27887        NaN            1  \n27888        NaN            1  \n\n[27889 rows x 13 columns]",
      "text/html": "<div>\n<style scoped>\n    .dataframe tbody tr th:only-of-type {\n        vertical-align: middle;\n    }\n\n    .dataframe tbody tr th {\n        vertical-align: top;\n    }\n\n    .dataframe thead th {\n        text-align: right;\n    }\n</style>\n<table border=\"1\" class=\"dataframe\">\n  <thead>\n    <tr style=\"text-align: right;\">\n      <th></th>\n      <th>id</th>\n      <th>class</th>\n      <th>data</th>\n      <th>label</th>\n      <th>detail</th>\n      <th>language</th>\n      <th>notes</th>\n      <th>props</th>\n      <th>status</th>\n      <th>references</th>\n      <th>legacyId</th>\n      <th>isTemplate</th>\n      <th>count_props</th>\n    </tr>\n  </thead>\n  <tbody>\n    <tr>\n      <th>0</th>\n      <td>T0</td>\n      <td>T</td>\n      <td>{'parent': False}</td>\n      <td>root</td>\n      <td></td>\n      <td>lat</td>\n      <td>[]</td>\n      <td>[]</td>\n      <td>NaN</td>\n      <td>NaN</td>\n      <td>NaN</td>\n      <td>NaN</td>\n      <td>0</td>\n    </tr>\n    <tr>\n      <th>1</th>\n      <td>fe6753df-aeda-4d6c-8456-fabaf5ee1ab0</td>\n      <td>E</td>\n      <td>{'logicalType': '1'}</td>\n      <td>Creation of ‘Acta Concilii Tolosani’</td>\n      <td></td>\n      <td></td>\n      <td>[Import batch [development] 2023-01-13 19:35:4...</td>\n      <td>[]</td>\n      <td>1</td>\n      <td>[]</td>\n      <td>E0001_T153</td>\n      <td>NaN</td>\n      <td>0</td>\n    </tr>\n    <tr>\n      <th>2</th>\n      <td>c7f31835-13a4-405c-a7aa-e630b40e14d8</td>\n      <td>E</td>\n      <td>{'logicalType': '1'}</td>\n      <td>Creation of ‘Acta Sancti Officii Bononie ab an...</td>\n      <td></td>\n      <td></td>\n      <td>[Import batch [development] 2023-01-13 19:35:4...</td>\n      <td>[]</td>\n      <td>1</td>\n      <td>[]</td>\n      <td>E0002_T77</td>\n      <td>NaN</td>\n      <td>0</td>\n    </tr>\n    <tr>\n      <th>3</th>\n      <td>09747a19-bf4b-48d1-b782-140bd1a2e8f6</td>\n      <td>V</td>\n      <td>{'logicalType': '1'}</td>\n      <td>1291</td>\n      <td></td>\n      <td></td>\n      <td>[Import batch [development] 2023-01-13 19:35:4...</td>\n      <td>[]</td>\n      <td>1</td>\n      <td>[]</td>\n      <td>NaN</td>\n      <td>NaN</td>\n      <td>0</td>\n    </tr>\n    <tr>\n      <th>4</th>\n      <td>0228d8e1-2b90-43c8-919a-c123733536be</td>\n      <td>V</td>\n      <td>{'logicalType': '1'}</td>\n      <td>1291</td>\n      <td></td>\n      <td></td>\n      <td>[Import batch [development] 2023-01-13 19:35:4...</td>\n      <td>[]</td>\n      <td>1</td>\n      <td>[]</td>\n      <td>NaN</td>\n      <td>NaN</td>\n      <td>0</td>\n    </tr>\n    <tr>\n      <th>...</th>\n      <td>...</td>\n      <td>...</td>\n      <td>...</td>\n      <td>...</td>\n      <td>...</td>\n      <td>...</td>\n      <td>...</td>\n      <td>...</td>\n      <td>...</td>\n      <td>...</td>\n      <td>...</td>\n      <td>...</td>\n      <td>...</td>\n    </tr>\n    <tr>\n      <th>27884</th>\n      <td>729224d6-4a84-41c1-8a19-b37cac25f9aa</td>\n      <td>E</td>\n      <td>{'logicalType': '1'}</td>\n      <td>Sentenza assolutoria di Vanna Cambii</td>\n      <td></td>\n      <td>ita</td>\n      <td>[Import batch [development] 2023-01-19 14:27:4...</td>\n      <td>[{'bundleEnd': False, 'bundleStart': False, 'c...</td>\n      <td>1</td>\n      <td>[{'id': 'f8d168f9-280a-4846-a6f1-2d1ff836ff02'...</td>\n      <td>E0925_R0082</td>\n      <td>NaN</td>\n      <td>1</td>\n    </tr>\n    <tr>\n      <th>27885</th>\n      <td>b0cc23c6-9cae-48fa-a964-94588bd7ade7</td>\n      <td>E</td>\n      <td>{'logicalType': '1'}</td>\n      <td>Sentenza di condanna di Çulittina Pelegrini</td>\n      <td></td>\n      <td>ita</td>\n      <td>[Import batch [development] 2023-01-19 14:27:4...</td>\n      <td>[{'bundleEnd': False, 'bundleStart': False, 'c...</td>\n      <td>1</td>\n      <td>[{'id': '12855e39-5ff5-4ecb-97f5-42fb95fd9685'...</td>\n      <td>E0926_R0082</td>\n      <td>NaN</td>\n      <td>1</td>\n    </tr>\n    <tr>\n      <th>27886</th>\n      <td>8da4d7ce-6c68-4ff3-8e66-5c92204b1a44</td>\n      <td>E</td>\n      <td>{'logicalType': '1'}</td>\n      <td>Sentenza assolutoria di Guido Albertini, figli...</td>\n      <td></td>\n      <td>ita</td>\n      <td>[Import batch [development] 2023-01-19 14:27:4...</td>\n      <td>[{'bundleEnd': False, 'bundleStart': False, 'c...</td>\n      <td>1</td>\n      <td>[{'id': 'f536cfa0-f255-4a4c-9b19-e24508c4eac2'...</td>\n      <td>E0927_R0082</td>\n      <td>NaN</td>\n      <td>1</td>\n    </tr>\n    <tr>\n      <th>27887</th>\n      <td>8e5f9f92-eac2-42a9-87bf-9732a64c3dea</td>\n      <td>E</td>\n      <td>{'logicalType': '1'}</td>\n      <td>Sentenza assolutoria di Benvenutus, rector S.P...</td>\n      <td></td>\n      <td>ita</td>\n      <td>[Import batch [development] 2023-01-19 14:27:4...</td>\n      <td>[{'bundleEnd': False, 'bundleStart': False, 'c...</td>\n      <td>1</td>\n      <td>[{'id': '958a4fae-684f-45fe-9423-dabcb4668117'...</td>\n      <td>E0928_R0082</td>\n      <td>NaN</td>\n      <td>1</td>\n    </tr>\n    <tr>\n      <th>27888</th>\n      <td>a7fcf633-d279-45a5-bc0b-626f7cb815d4</td>\n      <td>E</td>\n      <td>{'logicalType': '1'}</td>\n      <td>Sentenza assolutoria di Petrus Mutinensis</td>\n      <td></td>\n      <td>ita</td>\n      <td>[Import batch [development] 2023-01-19 14:27:4...</td>\n      <td>[{'bundleEnd': False, 'bundleStart': False, 'c...</td>\n      <td>1</td>\n      <td>[{'id': 'ea1d290e-6506-40c1-9500-7a3cc05f1900'...</td>\n      <td>E0929_R0082</td>\n      <td>NaN</td>\n      <td>1</td>\n    </tr>\n  </tbody>\n</table>\n<p>27889 rows × 13 columns</p>\n</div>"
     },
     "execution_count": 54,
     "metadata": {},
     "output_type": "execute_result"
    }
   ],
   "source": [
    "def count_props(props):\n",
    "  number = 0\n",
    "  number = len(props)\n",
    "  return number\n",
    "\n",
    "epa[\"count_props\"] = epa['props'].apply(lambda x: count_props(x))\n",
    "epa"
   ],
   "metadata": {
    "collapsed": false
   }
  },
  {
   "cell_type": "code",
   "execution_count": 57,
   "outputs": [
    {
     "data": {
      "text/plain": "30556"
     },
     "execution_count": 57,
     "metadata": {},
     "output_type": "execute_result"
    }
   ],
   "source": [
    "epa['count_props'].sum()"
   ],
   "metadata": {
    "collapsed": false
   }
  },
  {
   "cell_type": "code",
   "execution_count": 53,
   "outputs": [
    {
     "data": {
      "text/plain": "(Index(['type', 'entityIds', 'order', 'certainty'], dtype='object'),\n Index(['entityIds', 'order', 'type', 'certainty'], dtype='object'))"
     },
     "execution_count": 53,
     "metadata": {},
     "output_type": "execute_result"
    }
   ],
   "source": [
    "old_df = pd.DataFrame(old)\n",
    "new_df = pd.DataFrame(new)\n",
    "\n",
    "# new_df = new_df[['id', 'type', 'entityIds', 'order', 'certainty']]\n",
    "\n",
    "old_df.set_index('id', inplace=True)\n",
    "new_df.set_index('id', inplace=True)\n",
    "\n",
    "old_df.columns, new_df.columns"
   ],
   "metadata": {
    "collapsed": false
   }
  },
  {
   "cell_type": "code",
   "execution_count": 31,
   "outputs": [
    {
     "data": {
      "text/plain": "                                     type  \\\nid                                          \n0002ea21-f57a-4066-95e2-3f5cc17adf45  A2S   \n00055fff-5cbf-4e4f-a5b9-e9f8cd5d3b25  REL   \n00062934-e2cc-45e0-a4c2-f3efe0a790ee  CLA   \n00079b82-f3eb-4815-b4f6-2a40ac887484  CLA   \n001c4fee-a064-40bf-9614-bdf51fc085a5  CLA   \n...                                   ...   \nffe3f92f-16f2-4098-839f-8cdaeed05df8  A2S   \nffe4eef7-5ed1-4145-ae1f-b4b46b769460  IDE   \nffe511d5-7f4a-42d3-8175-97f54783729e  REL   \nfff26bd9-4ea8-406c-8eac-7161dd151427  SCL   \nfffd69da-9881-46bf-9055-b13e9a25b46e  AEE   \n\n                                                                              entityIds  \\\nid                                                                                        \n0002ea21-f57a-4066-95e2-3f5cc17adf45  [6832b685-7391-4e6f-9dee-53ab048bced4, 390ac71...   \n00055fff-5cbf-4e4f-a5b9-e9f8cd5d3b25  [d08daee5-e2b4-458e-af9a-5d25942cee21, b1f631b...   \n00062934-e2cc-45e0-a4c2-f3efe0a790ee  [9238a54a-8b50-4418-8a8a-5d8e1aeed77b, eabcf67...   \n00079b82-f3eb-4815-b4f6-2a40ac887484  [e7d8ae89-792a-4586-b9e2-4d83e3ea8824, adc03f9...   \n001c4fee-a064-40bf-9614-bdf51fc085a5  [20f3a590-f055-42f9-b346-b7cff9ff1616, e15d904...   \n...                                                                                 ...   \nffe3f92f-16f2-4098-839f-8cdaeed05df8  [a5b52133-bd82-4daa-825d-756c9d91e0df, 8228bf2...   \nffe4eef7-5ed1-4145-ae1f-b4b46b769460  [75eb71e9-5518-4ea1-b0ad-4fc9d450aef8, 6f34602...   \nffe511d5-7f4a-42d3-8175-97f54783729e  [4d556132-bbf2-49b6-aa30-3817ddc34d21, a90ddba...   \nfff26bd9-4ea8-406c-8eac-7161dd151427  [4f11cc6a-4841-4c62-86c0-73c470aba99b, f21770f...   \nfffd69da-9881-46bf-9055-b13e9a25b46e  [f738338b-6142-4fd2-a35a-83541a1061a5, 8c4c86b...   \n\n                                      order certainty  \nid                                                     \n0002ea21-f57a-4066-95e2-3f5cc17adf45     10       NaN  \n00055fff-5cbf-4e4f-a5b9-e9f8cd5d3b25     10       NaN  \n00062934-e2cc-45e0-a4c2-f3efe0a790ee      1       NaN  \n00079b82-f3eb-4815-b4f6-2a40ac887484     10       NaN  \n001c4fee-a064-40bf-9614-bdf51fc085a5     10       NaN  \n...                                     ...       ...  \nffe3f92f-16f2-4098-839f-8cdaeed05df8     10       NaN  \nffe4eef7-5ed1-4145-ae1f-b4b46b769460      1         1  \nffe511d5-7f4a-42d3-8175-97f54783729e     20       NaN  \nfff26bd9-4ea8-406c-8eac-7161dd151427     10       NaN  \nfffd69da-9881-46bf-9055-b13e9a25b46e     10       NaN  \n\n[8899 rows x 4 columns]",
      "text/html": "<div>\n<style scoped>\n    .dataframe tbody tr th:only-of-type {\n        vertical-align: middle;\n    }\n\n    .dataframe tbody tr th {\n        vertical-align: top;\n    }\n\n    .dataframe thead th {\n        text-align: right;\n    }\n</style>\n<table border=\"1\" class=\"dataframe\">\n  <thead>\n    <tr style=\"text-align: right;\">\n      <th></th>\n      <th>type</th>\n      <th>entityIds</th>\n      <th>order</th>\n      <th>certainty</th>\n    </tr>\n    <tr>\n      <th>id</th>\n      <th></th>\n      <th></th>\n      <th></th>\n      <th></th>\n    </tr>\n  </thead>\n  <tbody>\n    <tr>\n      <th>0002ea21-f57a-4066-95e2-3f5cc17adf45</th>\n      <td>A2S</td>\n      <td>[6832b685-7391-4e6f-9dee-53ab048bced4, 390ac71...</td>\n      <td>10</td>\n      <td>NaN</td>\n    </tr>\n    <tr>\n      <th>00055fff-5cbf-4e4f-a5b9-e9f8cd5d3b25</th>\n      <td>REL</td>\n      <td>[d08daee5-e2b4-458e-af9a-5d25942cee21, b1f631b...</td>\n      <td>10</td>\n      <td>NaN</td>\n    </tr>\n    <tr>\n      <th>00062934-e2cc-45e0-a4c2-f3efe0a790ee</th>\n      <td>CLA</td>\n      <td>[9238a54a-8b50-4418-8a8a-5d8e1aeed77b, eabcf67...</td>\n      <td>1</td>\n      <td>NaN</td>\n    </tr>\n    <tr>\n      <th>00079b82-f3eb-4815-b4f6-2a40ac887484</th>\n      <td>CLA</td>\n      <td>[e7d8ae89-792a-4586-b9e2-4d83e3ea8824, adc03f9...</td>\n      <td>10</td>\n      <td>NaN</td>\n    </tr>\n    <tr>\n      <th>001c4fee-a064-40bf-9614-bdf51fc085a5</th>\n      <td>CLA</td>\n      <td>[20f3a590-f055-42f9-b346-b7cff9ff1616, e15d904...</td>\n      <td>10</td>\n      <td>NaN</td>\n    </tr>\n    <tr>\n      <th>...</th>\n      <td>...</td>\n      <td>...</td>\n      <td>...</td>\n      <td>...</td>\n    </tr>\n    <tr>\n      <th>ffe3f92f-16f2-4098-839f-8cdaeed05df8</th>\n      <td>A2S</td>\n      <td>[a5b52133-bd82-4daa-825d-756c9d91e0df, 8228bf2...</td>\n      <td>10</td>\n      <td>NaN</td>\n    </tr>\n    <tr>\n      <th>ffe4eef7-5ed1-4145-ae1f-b4b46b769460</th>\n      <td>IDE</td>\n      <td>[75eb71e9-5518-4ea1-b0ad-4fc9d450aef8, 6f34602...</td>\n      <td>1</td>\n      <td>1</td>\n    </tr>\n    <tr>\n      <th>ffe511d5-7f4a-42d3-8175-97f54783729e</th>\n      <td>REL</td>\n      <td>[4d556132-bbf2-49b6-aa30-3817ddc34d21, a90ddba...</td>\n      <td>20</td>\n      <td>NaN</td>\n    </tr>\n    <tr>\n      <th>fff26bd9-4ea8-406c-8eac-7161dd151427</th>\n      <td>SCL</td>\n      <td>[4f11cc6a-4841-4c62-86c0-73c470aba99b, f21770f...</td>\n      <td>10</td>\n      <td>NaN</td>\n    </tr>\n    <tr>\n      <th>fffd69da-9881-46bf-9055-b13e9a25b46e</th>\n      <td>AEE</td>\n      <td>[f738338b-6142-4fd2-a35a-83541a1061a5, 8c4c86b...</td>\n      <td>10</td>\n      <td>NaN</td>\n    </tr>\n  </tbody>\n</table>\n<p>8899 rows × 4 columns</p>\n</div>"
     },
     "execution_count": 31,
     "metadata": {},
     "output_type": "execute_result"
    }
   ],
   "source": [
    "old_df.sort_index()"
   ],
   "metadata": {
    "collapsed": false
   }
  },
  {
   "cell_type": "code",
   "execution_count": 32,
   "outputs": [
    {
     "data": {
      "text/plain": "                                     type  \\\nid                                          \n0002ea21-f57a-4066-95e2-3f5cc17adf45  A2S   \n00055fff-5cbf-4e4f-a5b9-e9f8cd5d3b25  REL   \n00062934-e2cc-45e0-a4c2-f3efe0a790ee  CLA   \n00079b82-f3eb-4815-b4f6-2a40ac887484  CLA   \n001c4fee-a064-40bf-9614-bdf51fc085a5  CLA   \n...                                   ...   \nffe3f92f-16f2-4098-839f-8cdaeed05df8  A2S   \nffe4eef7-5ed1-4145-ae1f-b4b46b769460  IDE   \nffe511d5-7f4a-42d3-8175-97f54783729e  REL   \nfff26bd9-4ea8-406c-8eac-7161dd151427  SCL   \nfffd69da-9881-46bf-9055-b13e9a25b46e  AEE   \n\n                                                                              entityIds  \\\nid                                                                                        \n0002ea21-f57a-4066-95e2-3f5cc17adf45  [6832b685-7391-4e6f-9dee-53ab048bced4, 390ac71...   \n00055fff-5cbf-4e4f-a5b9-e9f8cd5d3b25  [d08daee5-e2b4-458e-af9a-5d25942cee21, b1f631b...   \n00062934-e2cc-45e0-a4c2-f3efe0a790ee  [9238a54a-8b50-4418-8a8a-5d8e1aeed77b, eabcf67...   \n00079b82-f3eb-4815-b4f6-2a40ac887484  [e7d8ae89-792a-4586-b9e2-4d83e3ea8824, adc03f9...   \n001c4fee-a064-40bf-9614-bdf51fc085a5  [20f3a590-f055-42f9-b346-b7cff9ff1616, e15d904...   \n...                                                                                 ...   \nffe3f92f-16f2-4098-839f-8cdaeed05df8  [a5b52133-bd82-4daa-825d-756c9d91e0df, 8228bf2...   \nffe4eef7-5ed1-4145-ae1f-b4b46b769460  [75eb71e9-5518-4ea1-b0ad-4fc9d450aef8, 6f34602...   \nffe511d5-7f4a-42d3-8175-97f54783729e  [4d556132-bbf2-49b6-aa30-3817ddc34d21, a90ddba...   \nfff26bd9-4ea8-406c-8eac-7161dd151427  [4f11cc6a-4841-4c62-86c0-73c470aba99b, f21770f...   \nfffd69da-9881-46bf-9055-b13e9a25b46e  [f738338b-6142-4fd2-a35a-83541a1061a5, 8c4c86b...   \n\n                                      order certainty  \nid                                                     \n0002ea21-f57a-4066-95e2-3f5cc17adf45     10       NaN  \n00055fff-5cbf-4e4f-a5b9-e9f8cd5d3b25     10       NaN  \n00062934-e2cc-45e0-a4c2-f3efe0a790ee      1       NaN  \n00079b82-f3eb-4815-b4f6-2a40ac887484     10       NaN  \n001c4fee-a064-40bf-9614-bdf51fc085a5     10       NaN  \n...                                     ...       ...  \nffe3f92f-16f2-4098-839f-8cdaeed05df8     10       NaN  \nffe4eef7-5ed1-4145-ae1f-b4b46b769460      1         1  \nffe511d5-7f4a-42d3-8175-97f54783729e     20       NaN  \nfff26bd9-4ea8-406c-8eac-7161dd151427     10       NaN  \nfffd69da-9881-46bf-9055-b13e9a25b46e     10       NaN  \n\n[8902 rows x 4 columns]",
      "text/html": "<div>\n<style scoped>\n    .dataframe tbody tr th:only-of-type {\n        vertical-align: middle;\n    }\n\n    .dataframe tbody tr th {\n        vertical-align: top;\n    }\n\n    .dataframe thead th {\n        text-align: right;\n    }\n</style>\n<table border=\"1\" class=\"dataframe\">\n  <thead>\n    <tr style=\"text-align: right;\">\n      <th></th>\n      <th>type</th>\n      <th>entityIds</th>\n      <th>order</th>\n      <th>certainty</th>\n    </tr>\n    <tr>\n      <th>id</th>\n      <th></th>\n      <th></th>\n      <th></th>\n      <th></th>\n    </tr>\n  </thead>\n  <tbody>\n    <tr>\n      <th>0002ea21-f57a-4066-95e2-3f5cc17adf45</th>\n      <td>A2S</td>\n      <td>[6832b685-7391-4e6f-9dee-53ab048bced4, 390ac71...</td>\n      <td>10</td>\n      <td>NaN</td>\n    </tr>\n    <tr>\n      <th>00055fff-5cbf-4e4f-a5b9-e9f8cd5d3b25</th>\n      <td>REL</td>\n      <td>[d08daee5-e2b4-458e-af9a-5d25942cee21, b1f631b...</td>\n      <td>10</td>\n      <td>NaN</td>\n    </tr>\n    <tr>\n      <th>00062934-e2cc-45e0-a4c2-f3efe0a790ee</th>\n      <td>CLA</td>\n      <td>[9238a54a-8b50-4418-8a8a-5d8e1aeed77b, eabcf67...</td>\n      <td>1</td>\n      <td>NaN</td>\n    </tr>\n    <tr>\n      <th>00079b82-f3eb-4815-b4f6-2a40ac887484</th>\n      <td>CLA</td>\n      <td>[e7d8ae89-792a-4586-b9e2-4d83e3ea8824, adc03f9...</td>\n      <td>10</td>\n      <td>NaN</td>\n    </tr>\n    <tr>\n      <th>001c4fee-a064-40bf-9614-bdf51fc085a5</th>\n      <td>CLA</td>\n      <td>[20f3a590-f055-42f9-b346-b7cff9ff1616, e15d904...</td>\n      <td>10</td>\n      <td>NaN</td>\n    </tr>\n    <tr>\n      <th>...</th>\n      <td>...</td>\n      <td>...</td>\n      <td>...</td>\n      <td>...</td>\n    </tr>\n    <tr>\n      <th>ffe3f92f-16f2-4098-839f-8cdaeed05df8</th>\n      <td>A2S</td>\n      <td>[a5b52133-bd82-4daa-825d-756c9d91e0df, 8228bf2...</td>\n      <td>10</td>\n      <td>NaN</td>\n    </tr>\n    <tr>\n      <th>ffe4eef7-5ed1-4145-ae1f-b4b46b769460</th>\n      <td>IDE</td>\n      <td>[75eb71e9-5518-4ea1-b0ad-4fc9d450aef8, 6f34602...</td>\n      <td>1</td>\n      <td>1</td>\n    </tr>\n    <tr>\n      <th>ffe511d5-7f4a-42d3-8175-97f54783729e</th>\n      <td>REL</td>\n      <td>[4d556132-bbf2-49b6-aa30-3817ddc34d21, a90ddba...</td>\n      <td>20</td>\n      <td>NaN</td>\n    </tr>\n    <tr>\n      <th>fff26bd9-4ea8-406c-8eac-7161dd151427</th>\n      <td>SCL</td>\n      <td>[4f11cc6a-4841-4c62-86c0-73c470aba99b, f21770f...</td>\n      <td>10</td>\n      <td>NaN</td>\n    </tr>\n    <tr>\n      <th>fffd69da-9881-46bf-9055-b13e9a25b46e</th>\n      <td>AEE</td>\n      <td>[f738338b-6142-4fd2-a35a-83541a1061a5, 8c4c86b...</td>\n      <td>10</td>\n      <td>NaN</td>\n    </tr>\n  </tbody>\n</table>\n<p>8902 rows × 4 columns</p>\n</div>"
     },
     "execution_count": 32,
     "metadata": {},
     "output_type": "execute_result"
    }
   ],
   "source": [
    "new_df.sort_index()\n"
   ],
   "metadata": {
    "collapsed": false
   }
  },
  {
   "cell_type": "code",
   "execution_count": 36,
   "outputs": [
    {
     "ename": "TypeError",
     "evalue": "unhashable type: 'dict'",
     "output_type": "error",
     "traceback": [
      "\u001B[1;31m---------------------------------------------------------------------------\u001B[0m",
      "\u001B[1;31mTypeError\u001B[0m                                 Traceback (most recent call last)",
      "\u001B[1;32m~\\AppData\\Local\\Temp/ipykernel_10652/1640074641.py\u001B[0m in \u001B[0;36m<module>\u001B[1;34m\u001B[0m\n\u001B[0;32m      1\u001B[0m \u001B[0mboth\u001B[0m \u001B[1;33m=\u001B[0m \u001B[0mpd\u001B[0m\u001B[1;33m.\u001B[0m\u001B[0mconcat\u001B[0m\u001B[1;33m(\u001B[0m\u001B[1;33m[\u001B[0m\u001B[0mold_df\u001B[0m\u001B[1;33m,\u001B[0m\u001B[0mnew_df\u001B[0m\u001B[1;33m]\u001B[0m\u001B[1;33m)\u001B[0m\u001B[1;33m\u001B[0m\u001B[1;33m\u001B[0m\u001B[0m\n\u001B[1;32m----> 2\u001B[1;33m \u001B[0mdiff\u001B[0m \u001B[1;33m=\u001B[0m \u001B[0mboth\u001B[0m\u001B[1;33m.\u001B[0m\u001B[0mdrop_duplicates\u001B[0m\u001B[1;33m(\u001B[0m\u001B[0mkeep\u001B[0m\u001B[1;33m=\u001B[0m\u001B[1;32mFalse\u001B[0m\u001B[1;33m)\u001B[0m\u001B[1;33m\u001B[0m\u001B[1;33m\u001B[0m\u001B[0m\n\u001B[0m\u001B[0;32m      3\u001B[0m \u001B[0mdiff\u001B[0m\u001B[1;33m\u001B[0m\u001B[1;33m\u001B[0m\u001B[0m\n\u001B[0;32m      4\u001B[0m \u001B[1;33m\u001B[0m\u001B[0m\n",
      "\u001B[1;32m~\\anaconda3\\envs\\python38\\lib\\site-packages\\pandas\\util\\_decorators.py\u001B[0m in \u001B[0;36mwrapper\u001B[1;34m(*args, **kwargs)\u001B[0m\n\u001B[0;32m    309\u001B[0m                     \u001B[0mstacklevel\u001B[0m\u001B[1;33m=\u001B[0m\u001B[0mstacklevel\u001B[0m\u001B[1;33m,\u001B[0m\u001B[1;33m\u001B[0m\u001B[1;33m\u001B[0m\u001B[0m\n\u001B[0;32m    310\u001B[0m                 )\n\u001B[1;32m--> 311\u001B[1;33m             \u001B[1;32mreturn\u001B[0m \u001B[0mfunc\u001B[0m\u001B[1;33m(\u001B[0m\u001B[1;33m*\u001B[0m\u001B[0margs\u001B[0m\u001B[1;33m,\u001B[0m \u001B[1;33m**\u001B[0m\u001B[0mkwargs\u001B[0m\u001B[1;33m)\u001B[0m\u001B[1;33m\u001B[0m\u001B[1;33m\u001B[0m\u001B[0m\n\u001B[0m\u001B[0;32m    312\u001B[0m \u001B[1;33m\u001B[0m\u001B[0m\n\u001B[0;32m    313\u001B[0m         \u001B[1;32mreturn\u001B[0m \u001B[0mwrapper\u001B[0m\u001B[1;33m\u001B[0m\u001B[1;33m\u001B[0m\u001B[0m\n",
      "\u001B[1;32m~\\anaconda3\\envs\\python38\\lib\\site-packages\\pandas\\core\\frame.py\u001B[0m in \u001B[0;36mdrop_duplicates\u001B[1;34m(self, subset, keep, inplace, ignore_index)\u001B[0m\n\u001B[0;32m   6120\u001B[0m         \u001B[0minplace\u001B[0m \u001B[1;33m=\u001B[0m \u001B[0mvalidate_bool_kwarg\u001B[0m\u001B[1;33m(\u001B[0m\u001B[0minplace\u001B[0m\u001B[1;33m,\u001B[0m \u001B[1;34m\"inplace\"\u001B[0m\u001B[1;33m)\u001B[0m\u001B[1;33m\u001B[0m\u001B[1;33m\u001B[0m\u001B[0m\n\u001B[0;32m   6121\u001B[0m         \u001B[0mignore_index\u001B[0m \u001B[1;33m=\u001B[0m \u001B[0mvalidate_bool_kwarg\u001B[0m\u001B[1;33m(\u001B[0m\u001B[0mignore_index\u001B[0m\u001B[1;33m,\u001B[0m \u001B[1;34m\"ignore_index\"\u001B[0m\u001B[1;33m)\u001B[0m\u001B[1;33m\u001B[0m\u001B[1;33m\u001B[0m\u001B[0m\n\u001B[1;32m-> 6122\u001B[1;33m         \u001B[0mduplicated\u001B[0m \u001B[1;33m=\u001B[0m \u001B[0mself\u001B[0m\u001B[1;33m.\u001B[0m\u001B[0mduplicated\u001B[0m\u001B[1;33m(\u001B[0m\u001B[0msubset\u001B[0m\u001B[1;33m,\u001B[0m \u001B[0mkeep\u001B[0m\u001B[1;33m=\u001B[0m\u001B[0mkeep\u001B[0m\u001B[1;33m)\u001B[0m\u001B[1;33m\u001B[0m\u001B[1;33m\u001B[0m\u001B[0m\n\u001B[0m\u001B[0;32m   6123\u001B[0m \u001B[1;33m\u001B[0m\u001B[0m\n\u001B[0;32m   6124\u001B[0m         \u001B[0mresult\u001B[0m \u001B[1;33m=\u001B[0m \u001B[0mself\u001B[0m\u001B[1;33m[\u001B[0m\u001B[1;33m-\u001B[0m\u001B[0mduplicated\u001B[0m\u001B[1;33m]\u001B[0m\u001B[1;33m\u001B[0m\u001B[1;33m\u001B[0m\u001B[0m\n",
      "\u001B[1;32m~\\anaconda3\\envs\\python38\\lib\\site-packages\\pandas\\core\\frame.py\u001B[0m in \u001B[0;36mduplicated\u001B[1;34m(self, subset, keep)\u001B[0m\n\u001B[0;32m   6257\u001B[0m \u001B[1;33m\u001B[0m\u001B[0m\n\u001B[0;32m   6258\u001B[0m         \u001B[0mvals\u001B[0m \u001B[1;33m=\u001B[0m \u001B[1;33m(\u001B[0m\u001B[0mcol\u001B[0m\u001B[1;33m.\u001B[0m\u001B[0mvalues\u001B[0m \u001B[1;32mfor\u001B[0m \u001B[0mname\u001B[0m\u001B[1;33m,\u001B[0m \u001B[0mcol\u001B[0m \u001B[1;32min\u001B[0m \u001B[0mself\u001B[0m\u001B[1;33m.\u001B[0m\u001B[0mitems\u001B[0m\u001B[1;33m(\u001B[0m\u001B[1;33m)\u001B[0m \u001B[1;32mif\u001B[0m \u001B[0mname\u001B[0m \u001B[1;32min\u001B[0m \u001B[0msubset\u001B[0m\u001B[1;33m)\u001B[0m\u001B[1;33m\u001B[0m\u001B[1;33m\u001B[0m\u001B[0m\n\u001B[1;32m-> 6259\u001B[1;33m         \u001B[0mlabels\u001B[0m\u001B[1;33m,\u001B[0m \u001B[0mshape\u001B[0m \u001B[1;33m=\u001B[0m \u001B[0mmap\u001B[0m\u001B[1;33m(\u001B[0m\u001B[0mlist\u001B[0m\u001B[1;33m,\u001B[0m \u001B[0mzip\u001B[0m\u001B[1;33m(\u001B[0m\u001B[1;33m*\u001B[0m\u001B[0mmap\u001B[0m\u001B[1;33m(\u001B[0m\u001B[0mf\u001B[0m\u001B[1;33m,\u001B[0m \u001B[0mvals\u001B[0m\u001B[1;33m)\u001B[0m\u001B[1;33m)\u001B[0m\u001B[1;33m)\u001B[0m\u001B[1;33m\u001B[0m\u001B[1;33m\u001B[0m\u001B[0m\n\u001B[0m\u001B[0;32m   6260\u001B[0m \u001B[1;33m\u001B[0m\u001B[0m\n\u001B[0;32m   6261\u001B[0m         ids = get_group_index(\n",
      "\u001B[1;32m~\\anaconda3\\envs\\python38\\lib\\site-packages\\pandas\\core\\frame.py\u001B[0m in \u001B[0;36mf\u001B[1;34m(vals)\u001B[0m\n\u001B[0;32m   6230\u001B[0m \u001B[1;33m\u001B[0m\u001B[0m\n\u001B[0;32m   6231\u001B[0m         \u001B[1;32mdef\u001B[0m \u001B[0mf\u001B[0m\u001B[1;33m(\u001B[0m\u001B[0mvals\u001B[0m\u001B[1;33m)\u001B[0m \u001B[1;33m->\u001B[0m \u001B[0mtuple\u001B[0m\u001B[1;33m[\u001B[0m\u001B[0mnp\u001B[0m\u001B[1;33m.\u001B[0m\u001B[0mndarray\u001B[0m\u001B[1;33m,\u001B[0m \u001B[0mint\u001B[0m\u001B[1;33m]\u001B[0m\u001B[1;33m:\u001B[0m\u001B[1;33m\u001B[0m\u001B[1;33m\u001B[0m\u001B[0m\n\u001B[1;32m-> 6232\u001B[1;33m             \u001B[0mlabels\u001B[0m\u001B[1;33m,\u001B[0m \u001B[0mshape\u001B[0m \u001B[1;33m=\u001B[0m \u001B[0malgorithms\u001B[0m\u001B[1;33m.\u001B[0m\u001B[0mfactorize\u001B[0m\u001B[1;33m(\u001B[0m\u001B[0mvals\u001B[0m\u001B[1;33m,\u001B[0m \u001B[0msize_hint\u001B[0m\u001B[1;33m=\u001B[0m\u001B[0mlen\u001B[0m\u001B[1;33m(\u001B[0m\u001B[0mself\u001B[0m\u001B[1;33m)\u001B[0m\u001B[1;33m)\u001B[0m\u001B[1;33m\u001B[0m\u001B[1;33m\u001B[0m\u001B[0m\n\u001B[0m\u001B[0;32m   6233\u001B[0m             \u001B[1;32mreturn\u001B[0m \u001B[0mlabels\u001B[0m\u001B[1;33m.\u001B[0m\u001B[0mastype\u001B[0m\u001B[1;33m(\u001B[0m\u001B[1;34m\"i8\"\u001B[0m\u001B[1;33m,\u001B[0m \u001B[0mcopy\u001B[0m\u001B[1;33m=\u001B[0m\u001B[1;32mFalse\u001B[0m\u001B[1;33m)\u001B[0m\u001B[1;33m,\u001B[0m \u001B[0mlen\u001B[0m\u001B[1;33m(\u001B[0m\u001B[0mshape\u001B[0m\u001B[1;33m)\u001B[0m\u001B[1;33m\u001B[0m\u001B[1;33m\u001B[0m\u001B[0m\n\u001B[0;32m   6234\u001B[0m \u001B[1;33m\u001B[0m\u001B[0m\n",
      "\u001B[1;32m~\\anaconda3\\envs\\python38\\lib\\site-packages\\pandas\\core\\algorithms.py\u001B[0m in \u001B[0;36mfactorize\u001B[1;34m(values, sort, na_sentinel, size_hint)\u001B[0m\n\u001B[0;32m    761\u001B[0m             \u001B[0mna_value\u001B[0m \u001B[1;33m=\u001B[0m \u001B[1;32mNone\u001B[0m\u001B[1;33m\u001B[0m\u001B[1;33m\u001B[0m\u001B[0m\n\u001B[0;32m    762\u001B[0m \u001B[1;33m\u001B[0m\u001B[0m\n\u001B[1;32m--> 763\u001B[1;33m         codes, uniques = factorize_array(\n\u001B[0m\u001B[0;32m    764\u001B[0m             \u001B[0mvalues\u001B[0m\u001B[1;33m,\u001B[0m \u001B[0mna_sentinel\u001B[0m\u001B[1;33m=\u001B[0m\u001B[0mna_sentinel\u001B[0m\u001B[1;33m,\u001B[0m \u001B[0msize_hint\u001B[0m\u001B[1;33m=\u001B[0m\u001B[0msize_hint\u001B[0m\u001B[1;33m,\u001B[0m \u001B[0mna_value\u001B[0m\u001B[1;33m=\u001B[0m\u001B[0mna_value\u001B[0m\u001B[1;33m\u001B[0m\u001B[1;33m\u001B[0m\u001B[0m\n\u001B[0;32m    765\u001B[0m         )\n",
      "\u001B[1;32m~\\anaconda3\\envs\\python38\\lib\\site-packages\\pandas\\core\\algorithms.py\u001B[0m in \u001B[0;36mfactorize_array\u001B[1;34m(values, na_sentinel, size_hint, na_value, mask)\u001B[0m\n\u001B[0;32m    558\u001B[0m \u001B[1;33m\u001B[0m\u001B[0m\n\u001B[0;32m    559\u001B[0m     \u001B[0mtable\u001B[0m \u001B[1;33m=\u001B[0m \u001B[0mhash_klass\u001B[0m\u001B[1;33m(\u001B[0m\u001B[0msize_hint\u001B[0m \u001B[1;32mor\u001B[0m \u001B[0mlen\u001B[0m\u001B[1;33m(\u001B[0m\u001B[0mvalues\u001B[0m\u001B[1;33m)\u001B[0m\u001B[1;33m)\u001B[0m\u001B[1;33m\u001B[0m\u001B[1;33m\u001B[0m\u001B[0m\n\u001B[1;32m--> 560\u001B[1;33m     uniques, codes = table.factorize(\n\u001B[0m\u001B[0;32m    561\u001B[0m         \u001B[0mvalues\u001B[0m\u001B[1;33m,\u001B[0m \u001B[0mna_sentinel\u001B[0m\u001B[1;33m=\u001B[0m\u001B[0mna_sentinel\u001B[0m\u001B[1;33m,\u001B[0m \u001B[0mna_value\u001B[0m\u001B[1;33m=\u001B[0m\u001B[0mna_value\u001B[0m\u001B[1;33m,\u001B[0m \u001B[0mmask\u001B[0m\u001B[1;33m=\u001B[0m\u001B[0mmask\u001B[0m\u001B[1;33m\u001B[0m\u001B[1;33m\u001B[0m\u001B[0m\n\u001B[0;32m    562\u001B[0m     )\n",
      "\u001B[1;32mpandas\\_libs\\hashtable_class_helper.pxi\u001B[0m in \u001B[0;36mpandas._libs.hashtable.PyObjectHashTable.factorize\u001B[1;34m()\u001B[0m\n",
      "\u001B[1;32mpandas\\_libs\\hashtable_class_helper.pxi\u001B[0m in \u001B[0;36mpandas._libs.hashtable.PyObjectHashTable._unique\u001B[1;34m()\u001B[0m\n",
      "\u001B[1;31mTypeError\u001B[0m: unhashable type: 'dict'"
     ]
    }
   ],
   "source": [
    "both = pd.concat([old_df,new_df])\n",
    "diff = both.drop_duplicates(keep=False)\n",
    "diff\n"
   ],
   "metadata": {
    "collapsed": false
   }
  },
  {
   "cell_type": "code",
   "execution_count": 55,
   "outputs": [
    {
     "data": {
      "text/plain": "                                     id  \\\n0  28f9f781-22d0-40e9-86b4-d05978d64565   \n1  3ffe7ba4-1557-441f-ac12-68414286311e   \n2  876ac465-cb1e-4602-b26e-b7e58f8e8dad   \n\n                                           entityIds  order type certainty  \n0  [54018ad0-2e46-49a3-82a3-6ee561f82f3e, b755745...      0  CLA       NaN  \n1  [ad2706e3-85f9-4a66-b507-fbdfcd99d717, 4200fd1...      0  SCL       NaN  \n2  [156bf696-4218-4ce5-b24b-033b56dd919f, 54018ad...      0  SOL       NaN  ",
      "text/html": "<div>\n<style scoped>\n    .dataframe tbody tr th:only-of-type {\n        vertical-align: middle;\n    }\n\n    .dataframe tbody tr th {\n        vertical-align: top;\n    }\n\n    .dataframe thead th {\n        text-align: right;\n    }\n</style>\n<table border=\"1\" class=\"dataframe\">\n  <thead>\n    <tr style=\"text-align: right;\">\n      <th></th>\n      <th>id</th>\n      <th>entityIds</th>\n      <th>order</th>\n      <th>type</th>\n      <th>certainty</th>\n    </tr>\n  </thead>\n  <tbody>\n    <tr>\n      <th>0</th>\n      <td>28f9f781-22d0-40e9-86b4-d05978d64565</td>\n      <td>[54018ad0-2e46-49a3-82a3-6ee561f82f3e, b755745...</td>\n      <td>0</td>\n      <td>CLA</td>\n      <td>NaN</td>\n    </tr>\n    <tr>\n      <th>1</th>\n      <td>3ffe7ba4-1557-441f-ac12-68414286311e</td>\n      <td>[ad2706e3-85f9-4a66-b507-fbdfcd99d717, 4200fd1...</td>\n      <td>0</td>\n      <td>SCL</td>\n      <td>NaN</td>\n    </tr>\n    <tr>\n      <th>2</th>\n      <td>876ac465-cb1e-4602-b26e-b7e58f8e8dad</td>\n      <td>[156bf696-4218-4ce5-b24b-033b56dd919f, 54018ad...</td>\n      <td>0</td>\n      <td>SOL</td>\n      <td>NaN</td>\n    </tr>\n  </tbody>\n</table>\n</div>"
     },
     "execution_count": 55,
     "metadata": {},
     "output_type": "execute_result"
    }
   ],
   "source": [
    "diffdf=new_df.drop(old_df.index)\n",
    "diffdf.reset_index()#.to_json('diff.json', orient='records')\n"
   ],
   "metadata": {
    "collapsed": false
   }
  },
  {
   "cell_type": "code",
   "execution_count": null,
   "outputs": [],
   "source": [],
   "metadata": {
    "collapsed": false
   }
  }
 ],
 "metadata": {
  "kernelspec": {
   "name": "python38",
   "language": "python",
   "display_name": "python38"
  },
  "language_info": {
   "codemirror_mode": {
    "name": "ipython",
    "version": 2
   },
   "file_extension": ".py",
   "mimetype": "text/x-python",
   "name": "python",
   "nbconvert_exporter": "python",
   "pygments_lexer": "ipython2",
   "version": "2.7.6"
  }
 },
 "nbformat": 4,
 "nbformat_minor": 0
}
